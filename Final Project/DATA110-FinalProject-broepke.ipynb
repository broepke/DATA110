{
 "cells": [
  {
   "cell_type": "markdown",
   "id": "d8f3594b",
   "metadata": {},
   "source": [
    "# Final Project\n",
    "**DATA110: Intro to Machine Learning**  \n",
    "Brian Roepke  \n",
    "April 24th, 2021  "
   ]
  },
  {
   "cell_type": "markdown",
   "id": "b311a25f",
   "metadata": {},
   "source": [
    "# INTRODUCTION\n",
    "\n",
    "analysis objective and the ML approach applied as well as why you selected it.\n",
    "\n",
    "\n",
    "Yelp has opened up a large portion of its dataset for academic and personal use. It contains a massive amount of textual data from their reviews and other information about their businesses. I propose to build an NLP model building a sentiment analysis and mapping the polarity to the rating given for the review. Additionally, a machine learning model will predict the highest-rated business by location, the number of reviews, and categories assigned. Finally, I will attempt to use TensorFlow to create a Neural Network. While we only loosely covered this in class, I will try to combine the Machine Learning methods we learned with the tutorials from class to build a classification model off of the text\n",
    "\n",
    "![Yelp](https://raw.githubusercontent.com/broepke/DATA110/main/Final%20Project/yelp.png)"
   ]
  },
  {
   "cell_type": "markdown",
   "id": "079eeaa1",
   "metadata": {},
   "source": [
    "# EDA/DATA PREP\n",
    "\n",
    "explore data issues that may require cleansing, data wrangling/munging, etc..  Include visualizations, statistical analysis, etc.. to better understand the data such as how it's distributed and correlations. You must include analysis/text that explains the meaning of each output."
   ]
  },
  {
   "cell_type": "code",
   "execution_count": 1,
   "id": "f7803c49",
   "metadata": {},
   "outputs": [],
   "source": [
    "import numpy as np\n",
    "import pandas as pd\n",
    "import re\n",
    "import itertools\n",
    "import string\n",
    "import warnings\n",
    "from timeit import timeit\n",
    "warnings.filterwarnings('ignore')\n",
    "\n",
    "from textblob import TextBlob\n",
    "from textblob import Word\n",
    "\n",
    "import sklearn as sk\n",
    "from sklearn.model_selection import train_test_split\n",
    "from sklearn.feature_extraction.text import TfidfVectorizer\n",
    "from sklearn.naive_bayes import MultinomialNB, ComplementNB\n",
    "from sklearn import metrics \n",
    "from sklearn.model_selection import GridSearchCV, cross_val_score, RepeatedStratifiedKFold\n",
    "from sklearn.svm import SVC\n",
    "from sklearn.linear_model import LogisticRegression, SGDClassifier\n",
    "from sklearn.ensemble import RandomForestClassifier\n",
    "from sklearn.preprocessing import MinMaxScaler, MultiLabelBinarizer\n",
    "from sklearn.compose import ColumnTransformer\n",
    "from sklearn.preprocessing import OneHotEncoder\n",
    "from sklearn.multiclass import OneVsRestClassifier\n",
    "from sklearn.feature_selection import SelectFromModel\n",
    "from sklearn.feature_selection import chi2\n",
    "\n",
    "# NLTK Imports and Downloads\n",
    "import nltk\n",
    "from nltk import word_tokenize\n",
    "from nltk.sentiment.util import *\n",
    "from nltk.stem import PorterStemmer\n",
    "from nltk.stem.wordnet import WordNetLemmatizer\n",
    "from nltk.probability import FreqDist\n",
    "\n",
    "from imblearn.over_sampling import SMOTE\n",
    "from imblearn.under_sampling import RandomUnderSampler\n",
    "from imblearn.pipeline import Pipeline\n",
    "\n",
    "import tensorflow as tf\n",
    "from tensorflow.keras import layers\n",
    "from tensorflow.keras import losses\n",
    "from tensorflow.keras import preprocessing\n",
    "from tensorflow.keras.layers.experimental.preprocessing import TextVectorization\n",
    "\n",
    "import seaborn as sns\n",
    "import matplotlib.pyplot as plt\n",
    "%matplotlib inline"
   ]
  },
  {
   "cell_type": "code",
   "execution_count": 2,
   "id": "2c0fc6c8",
   "metadata": {},
   "outputs": [],
   "source": [
    "df = pd.read_csv('yelp.csv')"
   ]
  },
  {
   "cell_type": "markdown",
   "id": "5aea67ba",
   "metadata": {},
   "source": [
    "## Data Prep"
   ]
  },
  {
   "cell_type": "code",
   "execution_count": 3,
   "id": "331b103d",
   "metadata": {},
   "outputs": [
    {
     "data": {
      "text/html": [
       "<div>\n",
       "<style scoped>\n",
       "    .dataframe tbody tr th:only-of-type {\n",
       "        vertical-align: middle;\n",
       "    }\n",
       "\n",
       "    .dataframe tbody tr th {\n",
       "        vertical-align: top;\n",
       "    }\n",
       "\n",
       "    .dataframe thead th {\n",
       "        text-align: right;\n",
       "    }\n",
       "</style>\n",
       "<table border=\"1\" class=\"dataframe\">\n",
       "  <thead>\n",
       "    <tr style=\"text-align: right;\">\n",
       "      <th></th>\n",
       "      <th>Unnamed: 0</th>\n",
       "      <th>business_id</th>\n",
       "      <th>name</th>\n",
       "      <th>address</th>\n",
       "      <th>city</th>\n",
       "      <th>state</th>\n",
       "      <th>postal_code</th>\n",
       "      <th>latitude</th>\n",
       "      <th>longitude</th>\n",
       "      <th>stars_x</th>\n",
       "      <th>...</th>\n",
       "      <th>categories</th>\n",
       "      <th>hours</th>\n",
       "      <th>review_id</th>\n",
       "      <th>user_id</th>\n",
       "      <th>stars_y</th>\n",
       "      <th>useful</th>\n",
       "      <th>funny</th>\n",
       "      <th>cool</th>\n",
       "      <th>text</th>\n",
       "      <th>date</th>\n",
       "    </tr>\n",
       "  </thead>\n",
       "  <tbody>\n",
       "    <tr>\n",
       "      <th>0</th>\n",
       "      <td>0</td>\n",
       "      <td>6iYb2HFDywm3zjuRg0shjw</td>\n",
       "      <td>Oskar Blues Taproom</td>\n",
       "      <td>921 Pearl St</td>\n",
       "      <td>Boulder</td>\n",
       "      <td>CO</td>\n",
       "      <td>80302</td>\n",
       "      <td>40.017544</td>\n",
       "      <td>-105.283348</td>\n",
       "      <td>4.0</td>\n",
       "      <td>...</td>\n",
       "      <td>Gastropubs, Food, Beer Gardens, Restaurants, B...</td>\n",
       "      <td>{'Monday': '11:0-23:0', 'Tuesday': '11:0-23:0'...</td>\n",
       "      <td>bkHUOCicGZ856vpvcWuW7Q</td>\n",
       "      <td>93z0yh-sUpGZS-cSKu6xxA</td>\n",
       "      <td>5.0</td>\n",
       "      <td>1</td>\n",
       "      <td>0</td>\n",
       "      <td>0</td>\n",
       "      <td>Stopped in on a busy Friday night. Despite the...</td>\n",
       "      <td>2018-03-04 00:59:21</td>\n",
       "    </tr>\n",
       "    <tr>\n",
       "      <th>1</th>\n",
       "      <td>1</td>\n",
       "      <td>6iYb2HFDywm3zjuRg0shjw</td>\n",
       "      <td>Oskar Blues Taproom</td>\n",
       "      <td>921 Pearl St</td>\n",
       "      <td>Boulder</td>\n",
       "      <td>CO</td>\n",
       "      <td>80302</td>\n",
       "      <td>40.017544</td>\n",
       "      <td>-105.283348</td>\n",
       "      <td>4.0</td>\n",
       "      <td>...</td>\n",
       "      <td>Gastropubs, Food, Beer Gardens, Restaurants, B...</td>\n",
       "      <td>{'Monday': '11:0-23:0', 'Tuesday': '11:0-23:0'...</td>\n",
       "      <td>VKBc48PPwyWIUE1RhBT_8A</td>\n",
       "      <td>Q_CZIvnsDHjpls-EPzzG7Q</td>\n",
       "      <td>2.0</td>\n",
       "      <td>0</td>\n",
       "      <td>0</td>\n",
       "      <td>0</td>\n",
       "      <td>Went there about 1 PM on a Monday.  It wasn't ...</td>\n",
       "      <td>2018-08-14 05:22:00</td>\n",
       "    </tr>\n",
       "    <tr>\n",
       "      <th>2</th>\n",
       "      <td>2</td>\n",
       "      <td>6iYb2HFDywm3zjuRg0shjw</td>\n",
       "      <td>Oskar Blues Taproom</td>\n",
       "      <td>921 Pearl St</td>\n",
       "      <td>Boulder</td>\n",
       "      <td>CO</td>\n",
       "      <td>80302</td>\n",
       "      <td>40.017544</td>\n",
       "      <td>-105.283348</td>\n",
       "      <td>4.0</td>\n",
       "      <td>...</td>\n",
       "      <td>Gastropubs, Food, Beer Gardens, Restaurants, B...</td>\n",
       "      <td>{'Monday': '11:0-23:0', 'Tuesday': '11:0-23:0'...</td>\n",
       "      <td>JKNv1l7JgayZjG6nK__hXQ</td>\n",
       "      <td>rqxTSFFj5fZNmabY1fmTlw</td>\n",
       "      <td>5.0</td>\n",
       "      <td>0</td>\n",
       "      <td>0</td>\n",
       "      <td>0</td>\n",
       "      <td>This was the place the be on Friday Night! If ...</td>\n",
       "      <td>2018-03-17 14:22:48</td>\n",
       "    </tr>\n",
       "    <tr>\n",
       "      <th>3</th>\n",
       "      <td>3</td>\n",
       "      <td>6iYb2HFDywm3zjuRg0shjw</td>\n",
       "      <td>Oskar Blues Taproom</td>\n",
       "      <td>921 Pearl St</td>\n",
       "      <td>Boulder</td>\n",
       "      <td>CO</td>\n",
       "      <td>80302</td>\n",
       "      <td>40.017544</td>\n",
       "      <td>-105.283348</td>\n",
       "      <td>4.0</td>\n",
       "      <td>...</td>\n",
       "      <td>Gastropubs, Food, Beer Gardens, Restaurants, B...</td>\n",
       "      <td>{'Monday': '11:0-23:0', 'Tuesday': '11:0-23:0'...</td>\n",
       "      <td>WNM_Oyzy6mB6n0Z9lcuZyQ</td>\n",
       "      <td>vNPxlt5f50q0e2nVAScW3Q</td>\n",
       "      <td>4.0</td>\n",
       "      <td>0</td>\n",
       "      <td>0</td>\n",
       "      <td>0</td>\n",
       "      <td>Went to this place with my family over the wee...</td>\n",
       "      <td>2018-04-04 21:16:50</td>\n",
       "    </tr>\n",
       "    <tr>\n",
       "      <th>4</th>\n",
       "      <td>4</td>\n",
       "      <td>6iYb2HFDywm3zjuRg0shjw</td>\n",
       "      <td>Oskar Blues Taproom</td>\n",
       "      <td>921 Pearl St</td>\n",
       "      <td>Boulder</td>\n",
       "      <td>CO</td>\n",
       "      <td>80302</td>\n",
       "      <td>40.017544</td>\n",
       "      <td>-105.283348</td>\n",
       "      <td>4.0</td>\n",
       "      <td>...</td>\n",
       "      <td>Gastropubs, Food, Beer Gardens, Restaurants, B...</td>\n",
       "      <td>{'Monday': '11:0-23:0', 'Tuesday': '11:0-23:0'...</td>\n",
       "      <td>jG4gZz5FrHyItJXz1YV9Sw</td>\n",
       "      <td>eXRC79iX60xwA1UuGRuWNg</td>\n",
       "      <td>4.0</td>\n",
       "      <td>0</td>\n",
       "      <td>0</td>\n",
       "      <td>0</td>\n",
       "      <td>Stopped on a midweek afternoon, and so glad th...</td>\n",
       "      <td>2018-04-28 19:17:04</td>\n",
       "    </tr>\n",
       "  </tbody>\n",
       "</table>\n",
       "<p>5 rows × 23 columns</p>\n",
       "</div>"
      ],
      "text/plain": [
       "   Unnamed: 0             business_id                 name       address  \\\n",
       "0           0  6iYb2HFDywm3zjuRg0shjw  Oskar Blues Taproom  921 Pearl St   \n",
       "1           1  6iYb2HFDywm3zjuRg0shjw  Oskar Blues Taproom  921 Pearl St   \n",
       "2           2  6iYb2HFDywm3zjuRg0shjw  Oskar Blues Taproom  921 Pearl St   \n",
       "3           3  6iYb2HFDywm3zjuRg0shjw  Oskar Blues Taproom  921 Pearl St   \n",
       "4           4  6iYb2HFDywm3zjuRg0shjw  Oskar Blues Taproom  921 Pearl St   \n",
       "\n",
       "      city state postal_code   latitude   longitude  stars_x  ...  \\\n",
       "0  Boulder    CO       80302  40.017544 -105.283348      4.0  ...   \n",
       "1  Boulder    CO       80302  40.017544 -105.283348      4.0  ...   \n",
       "2  Boulder    CO       80302  40.017544 -105.283348      4.0  ...   \n",
       "3  Boulder    CO       80302  40.017544 -105.283348      4.0  ...   \n",
       "4  Boulder    CO       80302  40.017544 -105.283348      4.0  ...   \n",
       "\n",
       "                                          categories  \\\n",
       "0  Gastropubs, Food, Beer Gardens, Restaurants, B...   \n",
       "1  Gastropubs, Food, Beer Gardens, Restaurants, B...   \n",
       "2  Gastropubs, Food, Beer Gardens, Restaurants, B...   \n",
       "3  Gastropubs, Food, Beer Gardens, Restaurants, B...   \n",
       "4  Gastropubs, Food, Beer Gardens, Restaurants, B...   \n",
       "\n",
       "                                               hours               review_id  \\\n",
       "0  {'Monday': '11:0-23:0', 'Tuesday': '11:0-23:0'...  bkHUOCicGZ856vpvcWuW7Q   \n",
       "1  {'Monday': '11:0-23:0', 'Tuesday': '11:0-23:0'...  VKBc48PPwyWIUE1RhBT_8A   \n",
       "2  {'Monday': '11:0-23:0', 'Tuesday': '11:0-23:0'...  JKNv1l7JgayZjG6nK__hXQ   \n",
       "3  {'Monday': '11:0-23:0', 'Tuesday': '11:0-23:0'...  WNM_Oyzy6mB6n0Z9lcuZyQ   \n",
       "4  {'Monday': '11:0-23:0', 'Tuesday': '11:0-23:0'...  jG4gZz5FrHyItJXz1YV9Sw   \n",
       "\n",
       "                  user_id stars_y useful funny  cool  \\\n",
       "0  93z0yh-sUpGZS-cSKu6xxA     5.0      1     0     0   \n",
       "1  Q_CZIvnsDHjpls-EPzzG7Q     2.0      0     0     0   \n",
       "2  rqxTSFFj5fZNmabY1fmTlw     5.0      0     0     0   \n",
       "3  vNPxlt5f50q0e2nVAScW3Q     4.0      0     0     0   \n",
       "4  eXRC79iX60xwA1UuGRuWNg     4.0      0     0     0   \n",
       "\n",
       "                                                text                 date  \n",
       "0  Stopped in on a busy Friday night. Despite the...  2018-03-04 00:59:21  \n",
       "1  Went there about 1 PM on a Monday.  It wasn't ...  2018-08-14 05:22:00  \n",
       "2  This was the place the be on Friday Night! If ...  2018-03-17 14:22:48  \n",
       "3  Went to this place with my family over the wee...  2018-04-04 21:16:50  \n",
       "4  Stopped on a midweek afternoon, and so glad th...  2018-04-28 19:17:04  \n",
       "\n",
       "[5 rows x 23 columns]"
      ]
     },
     "execution_count": 3,
     "metadata": {},
     "output_type": "execute_result"
    }
   ],
   "source": [
    "df.head()"
   ]
  },
  {
   "cell_type": "code",
   "execution_count": 4,
   "id": "3eff85be",
   "metadata": {},
   "outputs": [
    {
     "data": {
      "text/plain": [
       "(100000, 23)"
      ]
     },
     "execution_count": 4,
     "metadata": {},
     "output_type": "execute_result"
    }
   ],
   "source": [
    "df.shape"
   ]
  },
  {
   "cell_type": "markdown",
   "id": "c9c7ea53",
   "metadata": {},
   "source": [
    "### Null Values\n",
    "\n",
    "Nulll values are generally not desireable in a dataset.  In certain cases, observations (rows) with low counts will simply be dropped, in other cases, they can be filled with other values."
   ]
  },
  {
   "cell_type": "code",
   "execution_count": 5,
   "id": "fcd0d148",
   "metadata": {},
   "outputs": [],
   "source": [
    "# Drop NULL values\n",
    "df.dropna(inplace=True)"
   ]
  },
  {
   "cell_type": "code",
   "execution_count": 6,
   "id": "53f03c0f",
   "metadata": {},
   "outputs": [],
   "source": [
    "# Drop unwanted columns\n",
    "df.drop(columns=['Unnamed: 0'], inplace=True)"
   ]
  },
  {
   "cell_type": "code",
   "execution_count": 7,
   "id": "f2a39956",
   "metadata": {},
   "outputs": [
    {
     "data": {
      "text/plain": [
       "1    71554\n",
       "0    19098\n",
       "Name: is_open, dtype: int64"
      ]
     },
     "execution_count": 7,
     "metadata": {},
     "output_type": "execute_result"
    }
   ],
   "source": [
    "df['is_open'].value_counts()"
   ]
  },
  {
   "cell_type": "code",
   "execution_count": 8,
   "id": "14f6a2fe",
   "metadata": {},
   "outputs": [],
   "source": [
    "# df = df[df['is_open'] == 1].copy()"
   ]
  },
  {
   "cell_type": "code",
   "execution_count": 9,
   "id": "54aea3bb",
   "metadata": {},
   "outputs": [],
   "source": [
    "# Drop is_open column\n",
    "# df.drop(columns=['is_open'], inplace=True)"
   ]
  },
  {
   "cell_type": "code",
   "execution_count": 10,
   "id": "11e41be4",
   "metadata": {},
   "outputs": [],
   "source": [
    "# Drop the long and lat columns.  Precise location isn't needed\n",
    "df.drop(columns=['longitude', 'latitude'], inplace=True)"
   ]
  },
  {
   "cell_type": "code",
   "execution_count": 11,
   "id": "656f5d33",
   "metadata": {},
   "outputs": [],
   "source": [
    "# Add column 'text_len' that counts the length for the derived field\n",
    "df['text_len'] = df.apply(lambda row: len(row['text']), axis = 1)"
   ]
  },
  {
   "cell_type": "code",
   "execution_count": 12,
   "id": "ef658f9c",
   "metadata": {},
   "outputs": [],
   "source": [
    "df['date'] =  pd.to_datetime(df['date'])"
   ]
  },
  {
   "cell_type": "markdown",
   "id": "9d230005",
   "metadata": {},
   "source": [
    "### Duplicates\n",
    "\n",
    "A common practice is to review any duplicates.  If there are large quantities, they can skew the results."
   ]
  },
  {
   "cell_type": "code",
   "execution_count": 13,
   "id": "d023c292",
   "metadata": {},
   "outputs": [
    {
     "name": "stdout",
     "output_type": "stream",
     "text": [
      "Before = 90652\n",
      "After = 90652\n",
      "\n",
      "Total Removed = 0\n"
     ]
    }
   ],
   "source": [
    "len_before = df.shape[0]\n",
    "df.drop_duplicates(inplace=True)\n",
    "len_after = df.shape[0]\n",
    "\n",
    "print(\"Before =\", len_before)\n",
    "# drop duplicates\n",
    "print(\"After =\", len_after)\n",
    "print('')\n",
    "print(\"Total Removed =\", len_before - len_after)"
   ]
  },
  {
   "cell_type": "code",
   "execution_count": 14,
   "id": "fad212da",
   "metadata": {},
   "outputs": [
    {
     "name": "stdout",
     "output_type": "stream",
     "text": [
      "<class 'pandas.core.frame.DataFrame'>\n",
      "Int64Index: 90652 entries, 0 to 99999\n",
      "Data columns (total 21 columns):\n",
      " #   Column        Non-Null Count  Dtype         \n",
      "---  ------        --------------  -----         \n",
      " 0   business_id   90652 non-null  object        \n",
      " 1   name          90652 non-null  object        \n",
      " 2   address       90652 non-null  object        \n",
      " 3   city          90652 non-null  object        \n",
      " 4   state         90652 non-null  object        \n",
      " 5   postal_code   90652 non-null  object        \n",
      " 6   stars_x       90652 non-null  float64       \n",
      " 7   review_count  90652 non-null  int64         \n",
      " 8   is_open       90652 non-null  int64         \n",
      " 9   attributes    90652 non-null  object        \n",
      " 10  categories    90652 non-null  object        \n",
      " 11  hours         90652 non-null  object        \n",
      " 12  review_id     90652 non-null  object        \n",
      " 13  user_id       90652 non-null  object        \n",
      " 14  stars_y       90652 non-null  float64       \n",
      " 15  useful        90652 non-null  int64         \n",
      " 16  funny         90652 non-null  int64         \n",
      " 17  cool          90652 non-null  int64         \n",
      " 18  text          90652 non-null  object        \n",
      " 19  date          90652 non-null  datetime64[ns]\n",
      " 20  text_len      90652 non-null  int64         \n",
      "dtypes: datetime64[ns](1), float64(2), int64(6), object(12)\n",
      "memory usage: 15.2+ MB\n"
     ]
    }
   ],
   "source": [
    "df.info()"
   ]
  },
  {
   "cell_type": "code",
   "execution_count": 15,
   "id": "f607a6d3",
   "metadata": {},
   "outputs": [
    {
     "name": "stdout",
     "output_type": "stream",
     "text": [
      "Austin           15652\n",
      "Portland         11691\n",
      "Boston            9222\n",
      "Atlanta           8913\n",
      "Vancouver         6763\n",
      "                 ...  \n",
      "Kerrville            1\n",
      "Harrisburg           1\n",
      "Groveport            1\n",
      "East Weymouth        1\n",
      "Heathrow             1\n",
      "Name: city, Length: 274, dtype: int64 \n",
      "\n",
      "MA    24117\n",
      "TX    16203\n",
      "OR    14174\n",
      "FL    11246\n",
      "GA    11221\n",
      "BC     7280\n",
      "OH     3748\n",
      "CO     1387\n",
      "WA     1273\n",
      "KS        3\n",
      "Name: state, dtype: int64 \n",
      "\n"
     ]
    }
   ],
   "source": [
    "# show counts values of each categorical variable\n",
    "print (df['city'].value_counts(), '\\n')\n",
    "print (df['state'].value_counts(), '\\n')"
   ]
  },
  {
   "cell_type": "code",
   "execution_count": 16,
   "id": "97e666e1",
   "metadata": {},
   "outputs": [
    {
     "name": "stdout",
     "output_type": "stream",
     "text": [
      "90652\n",
      "90649\n"
     ]
    }
   ],
   "source": [
    "print(len(df))\n",
    "df = df[df['state'] != 'KS'].copy()\n",
    "print(len(df))"
   ]
  },
  {
   "cell_type": "markdown",
   "id": "2dc07eac",
   "metadata": {},
   "source": [
    "**Note:** There are not enough observations for Kansas, these have been dropped."
   ]
  },
  {
   "cell_type": "markdown",
   "id": "93a1b95e",
   "metadata": {},
   "source": [
    "**Variable Descriptions:**  \n",
    "\n",
    "1. **business_id:** string, 22 character unique string business id\n",
    "1. **name:** string, the business's name\n",
    "1. **address:** string, the full address of the business\n",
    "1. **city:** string, the city\n",
    "1. **state:** string, 2 character state code, if applicable\n",
    "1. **postal code:** string, the postal code\n",
    "1. **latitude:** float, latitude\n",
    "1. **longitude:** float, longitude\n",
    "1. **stars_x:** float, star rating, rounded to half-stars\n",
    "1. **review_count:** integer, number of reviews\n",
    "1. **is_open:** integer, 0 or 1 for closed or open, respectively\n",
    "1. **attributes:** object, business attributes to values. note: some attribute values might be objects\n",
    "1. **categories:** an array of strings of business categories\n",
    "1. **hours:** an object of key day to value hours, hours are using a 24hr clock\n",
    "1. **review_id:** string, 22 character unique string review id\n",
    "1. **stars_y:** integer, star rating (the data is a float64 here, but only valid numbers were integers 1-5)\n",
    "1. **useful:** integer, number of useful votes received\n",
    "1. **funny:** integer, number of funny votes received\n",
    "1. **cool:** integer, number of cool votes received"
   ]
  },
  {
   "cell_type": "code",
   "execution_count": 17,
   "id": "97ba5286",
   "metadata": {},
   "outputs": [],
   "source": [
    "# add a column for positive or negative\n",
    "df['target'] = df['stars_x'].apply(lambda c: 0 if c < 4 else 1)"
   ]
  },
  {
   "cell_type": "markdown",
   "id": "5a2fbc21",
   "metadata": {},
   "source": [
    "## EDA"
   ]
  },
  {
   "cell_type": "code",
   "execution_count": 18,
   "id": "35694d84",
   "metadata": {},
   "outputs": [
    {
     "data": {
      "text/html": [
       "<div>\n",
       "<style scoped>\n",
       "    .dataframe tbody tr th:only-of-type {\n",
       "        vertical-align: middle;\n",
       "    }\n",
       "\n",
       "    .dataframe tbody tr th {\n",
       "        vertical-align: top;\n",
       "    }\n",
       "\n",
       "    .dataframe thead th {\n",
       "        text-align: right;\n",
       "    }\n",
       "</style>\n",
       "<table border=\"1\" class=\"dataframe\">\n",
       "  <thead>\n",
       "    <tr style=\"text-align: right;\">\n",
       "      <th></th>\n",
       "      <th>stars_x</th>\n",
       "      <th>review_count</th>\n",
       "      <th>is_open</th>\n",
       "      <th>stars_y</th>\n",
       "      <th>useful</th>\n",
       "      <th>funny</th>\n",
       "      <th>cool</th>\n",
       "      <th>text_len</th>\n",
       "      <th>target</th>\n",
       "    </tr>\n",
       "  </thead>\n",
       "  <tbody>\n",
       "    <tr>\n",
       "      <th>count</th>\n",
       "      <td>90649.000000</td>\n",
       "      <td>90649.000000</td>\n",
       "      <td>90649.000000</td>\n",
       "      <td>90649.000000</td>\n",
       "      <td>90649.000000</td>\n",
       "      <td>90649.000000</td>\n",
       "      <td>90649.000000</td>\n",
       "      <td>90649.000000</td>\n",
       "      <td>90649.000000</td>\n",
       "    </tr>\n",
       "    <tr>\n",
       "      <th>mean</th>\n",
       "      <td>3.749611</td>\n",
       "      <td>424.967578</td>\n",
       "      <td>0.789319</td>\n",
       "      <td>3.802215</td>\n",
       "      <td>0.958190</td>\n",
       "      <td>0.326953</td>\n",
       "      <td>0.368454</td>\n",
       "      <td>576.716235</td>\n",
       "      <td>0.573090</td>\n",
       "    </tr>\n",
       "    <tr>\n",
       "      <th>std</th>\n",
       "      <td>0.639393</td>\n",
       "      <td>669.496044</td>\n",
       "      <td>0.407794</td>\n",
       "      <td>1.356062</td>\n",
       "      <td>2.103044</td>\n",
       "      <td>1.188864</td>\n",
       "      <td>1.193615</td>\n",
       "      <td>526.057956</td>\n",
       "      <td>0.494632</td>\n",
       "    </tr>\n",
       "    <tr>\n",
       "      <th>min</th>\n",
       "      <td>1.000000</td>\n",
       "      <td>5.000000</td>\n",
       "      <td>0.000000</td>\n",
       "      <td>1.000000</td>\n",
       "      <td>0.000000</td>\n",
       "      <td>0.000000</td>\n",
       "      <td>0.000000</td>\n",
       "      <td>5.000000</td>\n",
       "      <td>0.000000</td>\n",
       "    </tr>\n",
       "    <tr>\n",
       "      <th>25%</th>\n",
       "      <td>3.500000</td>\n",
       "      <td>79.000000</td>\n",
       "      <td>1.000000</td>\n",
       "      <td>3.000000</td>\n",
       "      <td>0.000000</td>\n",
       "      <td>0.000000</td>\n",
       "      <td>0.000000</td>\n",
       "      <td>236.000000</td>\n",
       "      <td>0.000000</td>\n",
       "    </tr>\n",
       "    <tr>\n",
       "      <th>50%</th>\n",
       "      <td>4.000000</td>\n",
       "      <td>214.000000</td>\n",
       "      <td>1.000000</td>\n",
       "      <td>4.000000</td>\n",
       "      <td>0.000000</td>\n",
       "      <td>0.000000</td>\n",
       "      <td>0.000000</td>\n",
       "      <td>416.000000</td>\n",
       "      <td>1.000000</td>\n",
       "    </tr>\n",
       "    <tr>\n",
       "      <th>75%</th>\n",
       "      <td>4.000000</td>\n",
       "      <td>477.000000</td>\n",
       "      <td>1.000000</td>\n",
       "      <td>5.000000</td>\n",
       "      <td>1.000000</td>\n",
       "      <td>0.000000</td>\n",
       "      <td>0.000000</td>\n",
       "      <td>733.000000</td>\n",
       "      <td>1.000000</td>\n",
       "    </tr>\n",
       "    <tr>\n",
       "      <th>max</th>\n",
       "      <td>5.000000</td>\n",
       "      <td>4708.000000</td>\n",
       "      <td>1.000000</td>\n",
       "      <td>5.000000</td>\n",
       "      <td>128.000000</td>\n",
       "      <td>39.000000</td>\n",
       "      <td>47.000000</td>\n",
       "      <td>5000.000000</td>\n",
       "      <td>1.000000</td>\n",
       "    </tr>\n",
       "  </tbody>\n",
       "</table>\n",
       "</div>"
      ],
      "text/plain": [
       "            stars_x  review_count       is_open       stars_y        useful  \\\n",
       "count  90649.000000  90649.000000  90649.000000  90649.000000  90649.000000   \n",
       "mean       3.749611    424.967578      0.789319      3.802215      0.958190   \n",
       "std        0.639393    669.496044      0.407794      1.356062      2.103044   \n",
       "min        1.000000      5.000000      0.000000      1.000000      0.000000   \n",
       "25%        3.500000     79.000000      1.000000      3.000000      0.000000   \n",
       "50%        4.000000    214.000000      1.000000      4.000000      0.000000   \n",
       "75%        4.000000    477.000000      1.000000      5.000000      1.000000   \n",
       "max        5.000000   4708.000000      1.000000      5.000000    128.000000   \n",
       "\n",
       "              funny          cool      text_len        target  \n",
       "count  90649.000000  90649.000000  90649.000000  90649.000000  \n",
       "mean       0.326953      0.368454    576.716235      0.573090  \n",
       "std        1.188864      1.193615    526.057956      0.494632  \n",
       "min        0.000000      0.000000      5.000000      0.000000  \n",
       "25%        0.000000      0.000000    236.000000      0.000000  \n",
       "50%        0.000000      0.000000    416.000000      1.000000  \n",
       "75%        0.000000      0.000000    733.000000      1.000000  \n",
       "max       39.000000     47.000000   5000.000000      1.000000  "
      ]
     },
     "execution_count": 18,
     "metadata": {},
     "output_type": "execute_result"
    }
   ],
   "source": [
    "df.describe()"
   ]
  },
  {
   "cell_type": "code",
   "execution_count": 19,
   "id": "a1c695b0",
   "metadata": {},
   "outputs": [
    {
     "data": {
      "image/png": "[encoded data removed]",
      "text/plain": [
       "<Figure size 864x576 with 2 Axes>"
      ]
     },
     "metadata": {
      "needs_background": "light"
     },
     "output_type": "display_data"
    }
   ],
   "source": [
    "corr = df.corr()\n",
    "\n",
    "f, ax = plt.subplots(figsize=(12, 8))\n",
    "\n",
    "sns.heatmap(corr, cmap=\"Blues\", annot=True, square=False, ax=ax,  linewidth = 1)\n",
    "plt.title('Pearson Correlation of Features')\n",
    "plt.yticks(rotation=45);"
   ]
  },
  {
   "cell_type": "code",
   "execution_count": 20,
   "id": "c62194e7",
   "metadata": {},
   "outputs": [
    {
     "data": {
      "image/png": "[encoded data removed]",
      "text/plain": [
       "<Figure size 720x360 with 1 Axes>"
      ]
     },
     "metadata": {
      "needs_background": "light"
     },
     "output_type": "display_data"
    }
   ],
   "source": [
    "plt.figure(figsize=(10,5))\n",
    "sns.countplot(data=df, x='state', palette='tab20c')\n",
    "plt.title(\"Total Count of Reviews by State\", weight='bold').set_fontsize('16')\n",
    "plt.xlabel(\"State\")\n",
    "plt.ylabel(\"Count\");"
   ]
  },
  {
   "cell_type": "code",
   "execution_count": 21,
   "id": "2e1a1cce",
   "metadata": {},
   "outputs": [
    {
     "data": {
      "image/png": "[encoded data removed]",
      "text/plain": [
       "<Figure size 720x360 with 1 Axes>"
      ]
     },
     "metadata": {
      "needs_background": "light"
     },
     "output_type": "display_data"
    }
   ],
   "source": [
    "plt.figure(figsize=(10,5))\n",
    "sns.countplot(data=df, x=\"stars_x\", palette='tab20c')\n",
    "plt.title(\"Total Count of Reviews by Star Value\", weight='bold').set_fontsize('16')\n",
    "plt.xlabel(\"Star Value\")\n",
    "plt.ylabel(\"Count\");"
   ]
  },
  {
   "cell_type": "code",
   "execution_count": 22,
   "id": "2a3fcc42",
   "metadata": {},
   "outputs": [
    {
     "data": {
      "image/png": "[encoded data removed]",
      "text/plain": [
       "<Figure size 720x720 with 8 Axes>"
      ]
     },
     "metadata": {
      "needs_background": "light"
     },
     "output_type": "display_data"
    }
   ],
   "source": [
    "numeric_data = df.select_dtypes(include=['int64'])\n",
    "numeric_data.plot(figsize=(10,10), kind='density',subplots=True, layout=(4,2), sharex=False);"
   ]
  },
  {
   "cell_type": "code",
   "execution_count": 23,
   "id": "4b3f10f8",
   "metadata": {},
   "outputs": [
    {
     "data": {
      "image/png": "[encoded data removed]",
      "text/plain": [
       "<Figure size 720x360 with 1 Axes>"
      ]
     },
     "metadata": {
      "needs_background": "light"
     },
     "output_type": "display_data"
    }
   ],
   "source": [
    "plt.figure(figsize=(10,5))\n",
    "sns.histplot(x='review_count', data=df, bins=50);\n",
    "plt.title(\"Distribution of Count of Reviews\", weight='bold').set_fontsize('16')\n",
    "plt.xlabel(\"Review Count\")\n",
    "plt.ylabel(\"Bin Count\");"
   ]
  },
  {
   "cell_type": "code",
   "execution_count": 24,
   "id": "4ac985de",
   "metadata": {},
   "outputs": [
    {
     "data": {
      "image/png": "[encoded data removed]",
      "text/plain": [
       "<Figure size 720x360 with 1 Axes>"
      ]
     },
     "metadata": {
      "needs_background": "light"
     },
     "output_type": "display_data"
    }
   ],
   "source": [
    "plt.figure(figsize=(10,5))\n",
    "sns.boxplot(data=df, x='state', y='stars_x', palette=\"tab20c\")\n",
    "plt.title(\"Star Disribution by State\", weight='bold').set_fontsize('16')\n",
    "plt.xlabel(\"State\")\n",
    "plt.ylabel(\"Stars\");"
   ]
  },
  {
   "cell_type": "code",
   "execution_count": 25,
   "id": "65e787f7",
   "metadata": {},
   "outputs": [
    {
     "data": {
      "image/png": "[encoded data removed]",
      "text/plain": [
       "<Figure size 360x360 with 1 Axes>"
      ]
     },
     "metadata": {
      "needs_background": "light"
     },
     "output_type": "display_data"
    }
   ],
   "source": [
    "plt.figure(figsize=(5,5))\n",
    "sns.boxplot(data=df, x='is_open', y='stars_x', palette=\"tab20c\")\n",
    "plt.title(\"Star Disribution by Open/Closed\", weight='bold').set_fontsize('16')\n",
    "plt.xlabel(\"Open = 1 / Closed = 0\")\n",
    "plt.ylabel(\"Stars\");"
   ]
  },
  {
   "cell_type": "code",
   "execution_count": 26,
   "id": "6f09f917",
   "metadata": {},
   "outputs": [],
   "source": [
    "df_most_reviews = df.groupby('name').mean().sort_values('review_count', ascending=False)[0:10]"
   ]
  },
  {
   "cell_type": "code",
   "execution_count": 27,
   "id": "06c9d1a4",
   "metadata": {},
   "outputs": [
    {
     "data": {
      "image/png": "[encoded data removed]",
      "text/plain": [
       "<Figure size 432x288 with 1 Axes>"
      ]
     },
     "metadata": {
      "needs_background": "light"
     },
     "output_type": "display_data"
    }
   ],
   "source": [
    "df_most_reviews['review_count'].plot(kind='barh');"
   ]
  },
  {
   "cell_type": "code",
   "execution_count": 28,
   "id": "c11d5769",
   "metadata": {},
   "outputs": [
    {
     "data": {
      "image/png": "[encoded data removed]",
      "text/plain": [
       "<Figure size 432x288 with 1 Axes>"
      ]
     },
     "metadata": {
      "needs_background": "light"
     },
     "output_type": "display_data"
    }
   ],
   "source": [
    "df_year = df.groupby(pd.Grouper(key='date',freq='Y')).sum()\n",
    "df_year['review_count'].plot(kind='bar', title=\"Sum of Reviews by Year\");"
   ]
  },
  {
   "cell_type": "markdown",
   "id": "9b104d41",
   "metadata": {},
   "source": [
    "### Check for Outliers"
   ]
  },
  {
   "cell_type": "code",
   "execution_count": 29,
   "id": "2d3a9a71",
   "metadata": {},
   "outputs": [],
   "source": [
    "# Function to print the number of outliers in a column.\n",
    "def get_outliers(df):\n",
    "    '''Function to identify the number of outliers +/- 3 standard deviations outside of mean.\n",
    "    Pass this function a dataframe and it returns a dictionary'''\n",
    "    \n",
    "    outs = {}\n",
    "    \n",
    "    df = df.select_dtypes(include=['int64'])\n",
    "\n",
    "    \n",
    "    for col in df.columns:\n",
    "        \n",
    "        # calculate summary statistics\n",
    "        data_mean, data_std = np.mean(df[col]), np.std(df[col])\n",
    "        \n",
    "        # identify outliers\n",
    "        cut_off = data_std * 3\n",
    "        lower, upper = data_mean - cut_off, data_mean + cut_off\n",
    "        \n",
    "        # identify outliers\n",
    "        outliers = [x for x in df[col] if x < lower or x > upper]\n",
    "        \n",
    "        outs[col] = len(outliers)\n",
    "        \n",
    "    return outs"
   ]
  },
  {
   "cell_type": "code",
   "execution_count": 30,
   "id": "05ca74cb",
   "metadata": {},
   "outputs": [
    {
     "data": {
      "text/plain": [
       "{'review_count': 2195,\n",
       " 'is_open': 0,\n",
       " 'useful': 1389,\n",
       " 'funny': 1615,\n",
       " 'cool': 1643,\n",
       " 'text_len': 1781,\n",
       " 'target': 0}"
      ]
     },
     "execution_count": 30,
     "metadata": {},
     "output_type": "execute_result"
    }
   ],
   "source": [
    "get_outliers(df)"
   ]
  },
  {
   "cell_type": "markdown",
   "id": "12bbf93c",
   "metadata": {},
   "source": [
    "## Text Cleaning\n",
    "\n",
    "For **Parts** of our analysis, the text needs to have some basic transformation for our models to work propertly.  These are as follows:\n",
    "\n",
    "1. **Lower**: Convert all characters to lowercase\n",
    "1. **Remove Punctuation**: In most cases, punctuation doesn't help NLP and ML models and can be removed.\n",
    "1. **Stop Word Removal**: Stop words generally don't add context to analysis (unless the length of text is very short (`100` - `200` characters) and can be removed.\n",
    "1. **Lemmatization**: Words will be reduced to there *Lemma* or root.  This will greatly improve the accuracy of the analysis since words like `simming` and `swimmer` will be reduced to `swim`.\n",
    "\n",
    "**Note**: The orginal text will be preserved for other analysis."
   ]
  },
  {
   "cell_type": "code",
   "execution_count": 31,
   "id": "3e76c0f0",
   "metadata": {},
   "outputs": [
    {
     "data": {
      "text/plain": [
       "\"Stopped in on a busy Friday night. Despite the crowd, the service was expedient and warm. \\n\\nThe beers here speak for themselves, so we sampled some of their taproom only offerings, and the galaxy smash was clean, tropical and sessionable.\\n\\nThis being said, the real star of this place is the pizza. It's a hand tossed style crust, that's the perfect mix of crispy and doughy. We ordered the special pizza (luau- bacon, pineapple and fresh jalapeño), and it was the perfect mix of fat, sweetness and heat. \\n\\nIf you're looking for a comfortable spot to grab a beer, and share some food with some friends on pearl, this is the place!\""
      ]
     },
     "execution_count": 31,
     "metadata": {},
     "output_type": "execute_result"
    }
   ],
   "source": [
    "df['text'][0]"
   ]
  },
  {
   "cell_type": "code",
   "execution_count": 32,
   "id": "6b6b0273",
   "metadata": {},
   "outputs": [],
   "source": [
    "def clean_string(text, stem=\"None\"):\n",
    "    \n",
    "    final_string = \"\"\n",
    "    \n",
    "    # Make lower\n",
    "    text = text.lower()\n",
    "    \n",
    "    translator = str.maketrans('', '', string.punctuation)\n",
    "    text = text.translate(translator)\n",
    "\n",
    "    text = text.split()\n",
    "    useless_words = nltk.corpus.stopwords.words(\"english\") + list(string.punctuation)\n",
    "    useless_words = useless_words + ['.', ',', '!', \"'\"]\n",
    "    \n",
    "    # Remove stop words\n",
    "    text_filtered = [word for word in text if not word in useless_words]\n",
    "    \n",
    "    # Remove numbers\n",
    "    text_filtered = [re.sub('\\w*\\d\\w*', '', w) for w in text_filtered]\n",
    "    \n",
    "    # Stem or Lemmatize\n",
    "    if stem == 'Stem':\n",
    "        stemmer = PorterStemmer() \n",
    "        text_stemmed = [stemmer.stem(y) for y in text_filtered]\n",
    "    elif stem == 'Lem':\n",
    "        lem = WordNetLemmatizer()\n",
    "        text_stemmed = [lem.lemmatize(y) for y in text_filtered]\n",
    "    else:\n",
    "        text_stemmed = text_filtered\n",
    "    \n",
    "    for word in text_stemmed:\n",
    "        final_string += word + \" \"\n",
    "    \n",
    "    return final_string"
   ]
  },
  {
   "cell_type": "code",
   "execution_count": 33,
   "id": "778cffdc",
   "metadata": {},
   "outputs": [],
   "source": [
    "df['text_clean'] = df['text'].apply(lambda x: clean_string(x, stem='Lem'))"
   ]
  },
  {
   "cell_type": "code",
   "execution_count": 34,
   "id": "af127bbd",
   "metadata": {},
   "outputs": [
    {
     "data": {
      "text/plain": [
       "'stopped busy friday night despite crowd service expedient warm beer speak sampled taproom offering galaxy smash clean tropical sessionable said real star place pizza hand tossed style crust thats perfect mix crispy doughy ordered special pizza luau bacon pineapple fresh jalapeño perfect mix fat sweetness heat youre looking comfortable spot grab beer share food friend pearl place '"
      ]
     },
     "execution_count": 34,
     "metadata": {},
     "output_type": "execute_result"
    }
   ],
   "source": [
    "df['text_clean'][0]"
   ]
  },
  {
   "cell_type": "markdown",
   "id": "25119653",
   "metadata": {},
   "source": [
    "## Sentiment Analysis\n",
    "\n",
    "For our sentiment analysis section, we will be using the `TextBlob` package to assist in creating `polarity scores` or sentiment scores that range from `-1` to `1` where lower scores are more negative and higher more positive.  Based off of these scores, we'll add a classifier of `1` for positive and `0` for negative to be used later in our prediction model. \n",
    "\n",
    "**Note**: `0` is technically nuetral sentiment, we'll verify how many observations were neutral before assuming we can use a binary label."
   ]
  },
  {
   "cell_type": "code",
   "execution_count": 35,
   "id": "828fe8e7",
   "metadata": {},
   "outputs": [],
   "source": [
    "def get_sentiment(x):\n",
    "    '''using TextBlob, get the sentiment score for a given body of text'''\n",
    "    blob = TextBlob(x)\n",
    "    return blob.sentiment.polarity"
   ]
  },
  {
   "cell_type": "code",
   "execution_count": 41,
   "id": "54a91597",
   "metadata": {},
   "outputs": [],
   "source": [
    "# Apply the Polarity Scoring from TextBlob\n",
    "df['sentiment'] = df['text'].apply(lambda x: get_sentiment(x))"
   ]
  },
  {
   "cell_type": "code",
   "execution_count": 42,
   "id": "93b91617",
   "metadata": {},
   "outputs": [],
   "source": [
    "# Create a few extra columns to aid in the analysis\n",
    "df['sentiment_label'] = df['sentiment'].apply(lambda x: 1 if x > 0 else 0)"
   ]
  },
  {
   "cell_type": "code",
   "execution_count": 43,
   "id": "8e7b493a",
   "metadata": {},
   "outputs": [
    {
     "data": {
      "text/html": [
       "<div>\n",
       "<style scoped>\n",
       "    .dataframe tbody tr th:only-of-type {\n",
       "        vertical-align: middle;\n",
       "    }\n",
       "\n",
       "    .dataframe tbody tr th {\n",
       "        vertical-align: top;\n",
       "    }\n",
       "\n",
       "    .dataframe thead th {\n",
       "        text-align: right;\n",
       "    }\n",
       "</style>\n",
       "<table border=\"1\" class=\"dataframe\">\n",
       "  <thead>\n",
       "    <tr style=\"text-align: right;\">\n",
       "      <th></th>\n",
       "      <th>text_clean</th>\n",
       "      <th>sentiment</th>\n",
       "      <th>sentiment_label</th>\n",
       "    </tr>\n",
       "  </thead>\n",
       "  <tbody>\n",
       "    <tr>\n",
       "      <th>58515</th>\n",
       "      <td>recently austin business stopped new bra servi...</td>\n",
       "      <td>0.312121</td>\n",
       "      <td>1</td>\n",
       "    </tr>\n",
       "    <tr>\n",
       "      <th>21743</th>\n",
       "      <td>love place good indian food happy bring indian...</td>\n",
       "      <td>0.589167</td>\n",
       "      <td>1</td>\n",
       "    </tr>\n",
       "    <tr>\n",
       "      <th>22436</th>\n",
       "      <td>alot fun like dj karaoke forget line help alot...</td>\n",
       "      <td>-0.047793</td>\n",
       "      <td>0</td>\n",
       "    </tr>\n",
       "    <tr>\n",
       "      <th>68079</th>\n",
       "      <td>really dig fun hut outside think space nice la...</td>\n",
       "      <td>0.193796</td>\n",
       "      <td>1</td>\n",
       "    </tr>\n",
       "    <tr>\n",
       "      <th>16921</th>\n",
       "      <td>poorly maintained course perhaps considered ch...</td>\n",
       "      <td>0.045556</td>\n",
       "      <td>1</td>\n",
       "    </tr>\n",
       "  </tbody>\n",
       "</table>\n",
       "</div>"
      ],
      "text/plain": [
       "                                              text_clean  sentiment  \\\n",
       "58515  recently austin business stopped new bra servi...   0.312121   \n",
       "21743  love place good indian food happy bring indian...   0.589167   \n",
       "22436  alot fun like dj karaoke forget line help alot...  -0.047793   \n",
       "68079  really dig fun hut outside think space nice la...   0.193796   \n",
       "16921  poorly maintained course perhaps considered ch...   0.045556   \n",
       "\n",
       "       sentiment_label  \n",
       "58515                1  \n",
       "21743                1  \n",
       "22436                0  \n",
       "68079                1  \n",
       "16921                1  "
      ]
     },
     "execution_count": 43,
     "metadata": {},
     "output_type": "execute_result"
    }
   ],
   "source": [
    "df[df.columns[-3:]].sample(5, random_state=555)"
   ]
  },
  {
   "cell_type": "code",
   "execution_count": 44,
   "id": "1101b0d6",
   "metadata": {},
   "outputs": [
    {
     "data": {
      "image/png": "[encoded data removed]",
      "text/plain": [
       "<Figure size 720x360 with 1 Axes>"
      ]
     },
     "metadata": {
      "needs_background": "light"
     },
     "output_type": "display_data"
    }
   ],
   "source": [
    "plt.figure(figsize=(10, 5))\n",
    "sns.histplot(df, x='sentiment', palette=\"tab20c\", bins=30);"
   ]
  },
  {
   "cell_type": "code",
   "execution_count": 45,
   "id": "67ccc80b",
   "metadata": {},
   "outputs": [
    {
     "name": "stdout",
     "output_type": "stream",
     "text": [
      "Number of entries with a 0 sentiment score: 575\n"
     ]
    }
   ],
   "source": [
    "print(f\"Number of entries with a 0 sentiment score: {len(df[df['sentiment'] == 0])}\")"
   ]
  },
  {
   "cell_type": "markdown",
   "id": "c8cb0462",
   "metadata": {},
   "source": [
    "**Observations:**\n",
    "\n",
    "The distributions of sentiment, similar to the `1-5` star reviews is left skewed to the positive.  There are very few that have a `<0` polartity score."
   ]
  },
  {
   "cell_type": "markdown",
   "id": "654d1869",
   "metadata": {},
   "source": [
    "## Positive and Negative Terms\n",
    "\n",
    "There will be an additional analysis below; the first process will be using NLTKs Frequency Distribution (`FreqDist`) function on observations from both negative (`0`) and positive (`1`) reviews."
   ]
  },
  {
   "cell_type": "code",
   "execution_count": 46,
   "id": "aba994b5",
   "metadata": {},
   "outputs": [],
   "source": [
    "# Tokenize the words\n",
    "df['text_tok'] = df['text_clean'].apply(word_tokenize)"
   ]
  },
  {
   "cell_type": "code",
   "execution_count": 47,
   "id": "ec7e3e6a",
   "metadata": {},
   "outputs": [],
   "source": [
    "df_pos = df[df['sentiment_label'] == 1]\n",
    "df_neg = df[df['sentiment_label'] == 0]"
   ]
  },
  {
   "cell_type": "code",
   "execution_count": 48,
   "id": "0550ae6c",
   "metadata": {},
   "outputs": [],
   "source": [
    "freq_stats_pos = [item for sublist in df_pos['text_tok'] for item in sublist]"
   ]
  },
  {
   "cell_type": "code",
   "execution_count": 49,
   "id": "5413a78f",
   "metadata": {},
   "outputs": [
    {
     "data": {
      "text/plain": [
       "[('good', 46618),\n",
       " ('place', 45781),\n",
       " ('food', 44925),\n",
       " ('great', 39996),\n",
       " ('time', 31399),\n",
       " ('like', 28211),\n",
       " ('service', 26863),\n",
       " ('get', 26674),\n",
       " ('one', 26216),\n",
       " ('really', 22467),\n",
       " ('back', 22156),\n",
       " ('go', 21760),\n",
       " ('would', 21267),\n",
       " ('also', 18258),\n",
       " ('nice', 16406),\n",
       " ('restaurant', 15640),\n",
       " ('best', 15570),\n",
       " ('got', 15404),\n",
       " ('well', 14790),\n",
       " ('love', 14734)]"
      ]
     },
     "execution_count": 49,
     "metadata": {},
     "output_type": "execute_result"
    }
   ],
   "source": [
    "fdist_pos = FreqDist(freq_stats_pos)\n",
    "fdist_pos.most_common(20)"
   ]
  },
  {
   "cell_type": "code",
   "execution_count": 50,
   "id": "d9207ab7",
   "metadata": {},
   "outputs": [
    {
     "data": {
      "image/png": "[encoded data removed]",
      "text/plain": [
       "<Figure size 720x360 with 1 Axes>"
      ]
     },
     "metadata": {
      "needs_background": "light"
     },
     "output_type": "display_data"
    }
   ],
   "source": [
    "plt.figure(figsize=(10, 5))\n",
    "fdist_pos.plot(20, cumulative=False)\n",
    "plt.show()"
   ]
  },
  {
   "cell_type": "markdown",
   "id": "63fac0ae",
   "metadata": {},
   "source": [
    "**Observations**: Some of the top words are positive words like `great`, `love`, `good`, and `like`.  Additionally, there are product-type words signaling that these might be strongly recommended products/attributes.  `Battery`, `tablet`, `price`, and `kindle`."
   ]
  },
  {
   "cell_type": "code",
   "execution_count": 51,
   "id": "580953e6",
   "metadata": {},
   "outputs": [],
   "source": [
    "freq_stats_neg = [item for sublist in df_neg['text_tok'] for item in sublist]"
   ]
  },
  {
   "cell_type": "code",
   "execution_count": 52,
   "id": "039f28bb",
   "metadata": {},
   "outputs": [
    {
     "data": {
      "text/plain": [
       "[('food', 5694),\n",
       " ('place', 4474),\n",
       " ('time', 4407),\n",
       " ('service', 4183),\n",
       " ('like', 3579),\n",
       " ('get', 3575),\n",
       " ('one', 3524),\n",
       " ('back', 3309),\n",
       " ('would', 3086),\n",
       " ('order', 2879),\n",
       " ('go', 2875),\n",
       " ('chicken', 2782),\n",
       " ('u', 2693),\n",
       " ('never', 2506),\n",
       " ('even', 2434),\n",
       " ('dont', 2357),\n",
       " ('got', 2273),\n",
       " ('minute', 2127),\n",
       " ('ordered', 2113),\n",
       " ('bad', 2094)]"
      ]
     },
     "execution_count": 52,
     "metadata": {},
     "output_type": "execute_result"
    }
   ],
   "source": [
    "fdist_neg = FreqDist(freq_stats_neg)\n",
    "fdist_neg.most_common(20)"
   ]
  },
  {
   "cell_type": "code",
   "execution_count": 53,
   "id": "997bd493",
   "metadata": {},
   "outputs": [
    {
     "data": {
      "image/png": "[encoded data removed]",
      "text/plain": [
       "<Figure size 720x360 with 1 Axes>"
      ]
     },
     "metadata": {
      "needs_background": "light"
     },
     "output_type": "display_data"
    }
   ],
   "source": [
    "plt.figure(figsize=(10, 5))\n",
    "fdist_neg.plot(20, cumulative=False)\n",
    "plt.show()"
   ]
  },
  {
   "cell_type": "markdown",
   "id": "368e90af",
   "metadata": {},
   "source": [
    "**Observations**: The first word in the negative reviews is `battery` which also was a positive word.  That would be interesting to investigate further.  It's also notable that battery occurs **over 2x the frequency** of the next word.  Other notable words are `dont`, `app`, and `price`.\n",
    "\n",
    "To check for positive and negative uses of the word `batteri` in context we can use the `concordance` feature of NLTK."
   ]
  },
  {
   "cell_type": "code",
   "execution_count": 54,
   "id": "1c2735e9",
   "metadata": {},
   "outputs": [
    {
     "name": "stdout",
     "output_type": "stream",
     "text": [
      "Displaying 10 of 44925 matches:\n",
      "ing comfortable spot grab beer share food friend pearl place went pm monday wa\n",
      " put buck got left poor service idea food since didnt even get order second pl\n",
      "ait staff attentive everyone enjoyed food nothing special typical brewery food\n",
      "food nothing special typical brewery food stopped midweek afternoon glad one n\n",
      "anks elephant im usually fan airport food usually like arrive get need go howe\n",
      " seemed popular compared surrounding food area got weekly special french dip s\n",
      "ty cheap compared typical restaurant food fresh probably one best place get no\n",
      "obably one best place get nonairport food airport store goto airport restauran\n",
      "port restaurant last four year fresh food lot allergyfriendly option really ki\n",
      " drink ranging kombucha soda alcohol food look curry ratatouille pastrami sand\n"
     ]
    }
   ],
   "source": [
    "pos_text = nltk.Text(freq_stats_pos)\n",
    "pos_text.concordance('food', lines=10)"
   ]
  },
  {
   "cell_type": "code",
   "execution_count": 55,
   "id": "10562a1c",
   "metadata": {},
   "outputs": [
    {
     "name": "stdout",
     "output_type": "stream",
     "text": [
      "Displaying 10 of 5694 matches:\n",
      "e flying elephant ever hot breakfast food mediocre best burnt dry bland took f\n",
      "rdered espresso americano worse fast food joint complained weak offer remake a\n",
      "ordon blue sandwich little legal sea food kiosk absolutely disgusting lettuce \n",
      "s good brand name mean airport kiosk food decent boy wrong awful eat restauran\n",
      "er flight asked hostess possible get food quickly enough hostess said yes trie\n",
      "ooked silverware imagining delicious food friend told u saw brown mm x mm piec\n",
      "riend told u saw brown mm x mm piece food stuck knife friend flagged bus boy a\n",
      "cook matter good could possibly make food fast enough u enjoy departure asked \n",
      " leave search quicker service actual food water leaving server smiled u done g\n",
      "e time first couple time even though food outstanding bit confused perhaps kit\n"
     ]
    }
   ],
   "source": [
    "neg_text = nltk.Text(freq_stats_neg)\n",
    "neg_text.concordance('food', lines=10)"
   ]
  },
  {
   "cell_type": "markdown",
   "id": "ad8d5d81",
   "metadata": {},
   "source": [
    "# FEATURE SELECTION/ MODELING \n",
    "\n",
    "determine features to be applied and create a model"
   ]
  },
  {
   "cell_type": "code",
   "execution_count": 56,
   "id": "80b1902c",
   "metadata": {},
   "outputs": [],
   "source": [
    "targets = ['categories', 'city', 'state', 'postal_code', 'is_open', 'text_len', 'useful', 'cool', 'funny', 'review_count', 'sentiment']"
   ]
  },
  {
   "cell_type": "code",
   "execution_count": 57,
   "id": "025949ed",
   "metadata": {},
   "outputs": [],
   "source": [
    "catFeat = df[targets].copy()"
   ]
  },
  {
   "cell_type": "code",
   "execution_count": 58,
   "id": "0e8a27fe",
   "metadata": {},
   "outputs": [
    {
     "data": {
      "text/html": [
       "<div>\n",
       "<style scoped>\n",
       "    .dataframe tbody tr th:only-of-type {\n",
       "        vertical-align: middle;\n",
       "    }\n",
       "\n",
       "    .dataframe tbody tr th {\n",
       "        vertical-align: top;\n",
       "    }\n",
       "\n",
       "    .dataframe thead th {\n",
       "        text-align: right;\n",
       "    }\n",
       "</style>\n",
       "<table border=\"1\" class=\"dataframe\">\n",
       "  <thead>\n",
       "    <tr style=\"text-align: right;\">\n",
       "      <th></th>\n",
       "      <th>categories</th>\n",
       "      <th>city</th>\n",
       "      <th>state</th>\n",
       "      <th>postal_code</th>\n",
       "      <th>is_open</th>\n",
       "      <th>text_len</th>\n",
       "      <th>useful</th>\n",
       "      <th>cool</th>\n",
       "      <th>funny</th>\n",
       "      <th>review_count</th>\n",
       "      <th>sentiment</th>\n",
       "    </tr>\n",
       "  </thead>\n",
       "  <tbody>\n",
       "    <tr>\n",
       "      <th>0</th>\n",
       "      <td>2803</td>\n",
       "      <td>24</td>\n",
       "      <td>1</td>\n",
       "      <td>385</td>\n",
       "      <td>1</td>\n",
       "      <td>630</td>\n",
       "      <td>1</td>\n",
       "      <td>0</td>\n",
       "      <td>0</td>\n",
       "      <td>86</td>\n",
       "      <td>0.442381</td>\n",
       "    </tr>\n",
       "    <tr>\n",
       "      <th>1</th>\n",
       "      <td>2803</td>\n",
       "      <td>24</td>\n",
       "      <td>1</td>\n",
       "      <td>385</td>\n",
       "      <td>1</td>\n",
       "      <td>885</td>\n",
       "      <td>0</td>\n",
       "      <td>0</td>\n",
       "      <td>0</td>\n",
       "      <td>86</td>\n",
       "      <td>0.006639</td>\n",
       "    </tr>\n",
       "    <tr>\n",
       "      <th>2</th>\n",
       "      <td>2803</td>\n",
       "      <td>24</td>\n",
       "      <td>1</td>\n",
       "      <td>385</td>\n",
       "      <td>1</td>\n",
       "      <td>174</td>\n",
       "      <td>0</td>\n",
       "      <td>0</td>\n",
       "      <td>0</td>\n",
       "      <td>86</td>\n",
       "      <td>0.666667</td>\n",
       "    </tr>\n",
       "    <tr>\n",
       "      <th>3</th>\n",
       "      <td>2803</td>\n",
       "      <td>24</td>\n",
       "      <td>1</td>\n",
       "      <td>385</td>\n",
       "      <td>1</td>\n",
       "      <td>553</td>\n",
       "      <td>0</td>\n",
       "      <td>0</td>\n",
       "      <td>0</td>\n",
       "      <td>86</td>\n",
       "      <td>0.389201</td>\n",
       "    </tr>\n",
       "    <tr>\n",
       "      <th>4</th>\n",
       "      <td>2803</td>\n",
       "      <td>24</td>\n",
       "      <td>1</td>\n",
       "      <td>385</td>\n",
       "      <td>1</td>\n",
       "      <td>841</td>\n",
       "      <td>0</td>\n",
       "      <td>0</td>\n",
       "      <td>0</td>\n",
       "      <td>86</td>\n",
       "      <td>0.391765</td>\n",
       "    </tr>\n",
       "  </tbody>\n",
       "</table>\n",
       "</div>"
      ],
      "text/plain": [
       "   categories  city  state  postal_code  is_open  text_len  useful  cool  \\\n",
       "0        2803    24      1          385        1       630       1     0   \n",
       "1        2803    24      1          385        1       885       0     0   \n",
       "2        2803    24      1          385        1       174       0     0   \n",
       "3        2803    24      1          385        1       553       0     0   \n",
       "4        2803    24      1          385        1       841       0     0   \n",
       "\n",
       "   funny  review_count  sentiment  \n",
       "0      0            86   0.442381  \n",
       "1      0            86   0.006639  \n",
       "2      0            86   0.666667  \n",
       "3      0            86   0.389201  \n",
       "4      0            86   0.391765  "
      ]
     },
     "execution_count": 58,
     "metadata": {},
     "output_type": "execute_result"
    }
   ],
   "source": [
    "from sklearn.preprocessing import LabelEncoder\n",
    "le = LabelEncoder()\n",
    "\n",
    "\n",
    "catFeat['categories'] = le.fit_transform(catFeat['categories'].astype(str))\n",
    "catFeat['city'] = le.fit_transform(catFeat['city'].astype(str))\n",
    "catFeat['state'] = le.fit_transform(catFeat['state'].astype(str))\n",
    "catFeat['postal_code'] = le.fit_transform(catFeat['postal_code'].astype(str))\n",
    "\n",
    "catFeat.head()"
   ]
  },
  {
   "cell_type": "code",
   "execution_count": 59,
   "id": "db0d158f",
   "metadata": {},
   "outputs": [
    {
     "name": "stdout",
     "output_type": "stream",
     "text": [
      "('categories', 0.2093108697436882)\n",
      "('city', 0.06579102622028224)\n",
      "('postal_code', 0.1565165579798501)\n",
      "('text_len', 0.07285011763829598)\n",
      "('review_count', 0.27318575541456563)\n",
      "('sentiment', 0.12081128141696368)\n",
      "\n",
      " 0.898465608413646\n"
     ]
    }
   ],
   "source": [
    "# Split the data into 30% test and 70% training\n",
    "X_train, X_test, y_train, y_test = train_test_split(catFeat, \n",
    "                                                    df['target'], \n",
    "                                                    test_size=0.3, random_state=0)\n",
    "\n",
    "# Create a random forest classifier for feature importance\n",
    "clf = RandomForestClassifier(random_state=42, n_jobs=-1, class_weight='balanced')\n",
    "\n",
    "clf.fit(X_train, y_train)\n",
    "\n",
    "total_importance = 0\n",
    "# Print the name and gini importance of each feature\n",
    "for feature in zip(targets, clf.feature_importances_):\n",
    "    if feature[1] > .05:\n",
    "        print(feature)\n",
    "        total_importance += feature[1]\n",
    "        \n",
    "print('\\n', total_importance)"
   ]
  },
  {
   "cell_type": "markdown",
   "id": "db13c9de",
   "metadata": {},
   "source": [
    "**Notes:**  \n",
    "\n",
    "Based on the RandomForest test for classifier importance, `categories`, `city`, `postal_code`, `text_len`, and `review_count` are the most important features adding up to about `0.90` of the total importance. "
   ]
  },
  {
   "cell_type": "markdown",
   "id": "922572db",
   "metadata": {},
   "source": [
    "## Sentiment Based Prediction Model:\n",
    "\n",
    "Next, we'll create a Supervised ML model to predict whether a customer will recommend a product based on the text from the review and the sentiment of that text, and the length of the review.\n",
    "\n",
    "To create our model, we will be mixing both text and numeric values.  There are multiple ways to accomplish this, but we will be using a `ColumnTransformer` in a Pipeline[2]."
   ]
  },
  {
   "cell_type": "markdown",
   "id": "5b8760ef",
   "metadata": {},
   "source": [
    "### Model Selection\n",
    "During this section, we will use the ColumnTransformer to perform all of the pre-processing steps.  A `FeatureUnion` could also be used but isn't required since we're not transforming the entire numeric data with a PCA process [2].\n",
    "\n",
    ">*FeatureUnion applies different transformers to the whole of the input data and then combines the results by concatenating them.*  \n",
    ">*ColumnTransformer, on the other hand, applies different transformers to different subsets of the whole input data, and again concatenates the results.*"
   ]
  },
  {
   "cell_type": "code",
   "execution_count": 60,
   "id": "404225e6",
   "metadata": {},
   "outputs": [],
   "source": [
    "X = df[['categories', 'city', 'postal_code', 'text_len', 'review_count', 'text', 'sentiment']]\n",
    "y = df['target']"
   ]
  },
  {
   "cell_type": "code",
   "execution_count": 61,
   "id": "6de5ede5",
   "metadata": {},
   "outputs": [
    {
     "name": "stdout",
     "output_type": "stream",
     "text": [
      "(90649, 7)\n",
      "(90649,)\n"
     ]
    }
   ],
   "source": [
    "print(X.shape)\n",
    "print(y.shape)"
   ]
  },
  {
   "cell_type": "code",
   "execution_count": 62,
   "id": "8731d485",
   "metadata": {},
   "outputs": [],
   "source": [
    "def create_pipe(clf):\n",
    "    '''Create a pipeline for a given classifier.  The classifier needs to be an instance\n",
    "    of the classifier with all parmeters needed specified.'''\n",
    "    \n",
    "    # Each pipeline uses the same column transformer.  \n",
    "    column_trans = ColumnTransformer(\n",
    "        [('Text', TfidfVectorizer(stop_words='english'), 'text'),\n",
    "         ('Categories', TfidfVectorizer(stop_words='english'), 'categories'),\n",
    "         ('Zip Code', OneHotEncoder(dtype='int', handle_unknown='ignore'),['postal_code']),\n",
    "         ('City', OneHotEncoder(dtype='int', handle_unknown='ignore'),['city']),\n",
    "         ('Review Count', MinMaxScaler(), ['review_count']),\n",
    "         ('Text Length', MinMaxScaler(), ['text_len']),\n",
    "         ('Sentiment', MinMaxScaler(), ['sentiment'])],\n",
    "        remainder='drop') \n",
    "    \n",
    "    pipeline = Pipeline([('prep',column_trans),\n",
    "                         ('over', SMOTE(random_state=42)),\n",
    "                         ('under', RandomUnderSampler(random_state=42)),\n",
    "                         ('clf', clf)])\n",
    "     \n",
    "    return pipeline"
   ]
  },
  {
   "cell_type": "code",
   "execution_count": 63,
   "id": "afd4d671",
   "metadata": {},
   "outputs": [
    {
     "name": "stdout",
     "output_type": "stream",
     "text": [
      "CPU times: user 1.17 s, sys: 1.66 s, total: 2.83 s\n",
      "Wall time: 8min 15s\n",
      "LogReg : Mean f1 Macro: 0.845 and Standard Deviation: (0.003)\n"
     ]
    }
   ],
   "source": [
    "models = {#'RandForest' : RandomForestClassifier(random_state=42),\n",
    "          'LogReg' : LogisticRegression(random_state=42, max_iter=500)}\n",
    "\n",
    "for name, model, in models.items():\n",
    "    clf = model\n",
    "    pipeline = create_pipe(clf)\n",
    "    cv = RepeatedStratifiedKFold(n_splits=10, n_repeats=3, random_state=1)\n",
    "    %time scores = cross_val_score(pipeline, X, y, scoring='f1_macro', cv=cv, n_jobs=6, error_score='raise')\n",
    "    print(name, ': Mean f1 Macro: %.3f and Standard Deviation: (%.3f)' % (np.mean(scores), np.std(scores)))"
   ]
  },
  {
   "cell_type": "markdown",
   "id": "12ea42ec-4354-4dc5-b2e0-6f2794d8c87b",
   "metadata": {},
   "source": [
    "**Notes:**\n",
    " - Model performance improved from `0.722` to `0.845` after adding the variables `categories`, `city`, `postal_code`, `text_len`, and `review_count` to the pipeline vs. only having `text` and `sentiment`. (not shown--data from prior run).\n",
    " - This demonstrates the value of the Feature Importance for Feature Selection performed prior."
   ]
  },
  {
   "cell_type": "markdown",
   "id": "c11a4826",
   "metadata": {},
   "source": [
    "# PERFORMANCE ASSESSMENT\n",
    "\n",
    "assess model performance using appropriate metrics."
   ]
  },
  {
   "cell_type": "markdown",
   "id": "001c7d7c",
   "metadata": {},
   "source": [
    "## Hyper Parameter Tuning"
   ]
  },
  {
   "cell_type": "code",
   "execution_count": null,
   "id": "a856a420",
   "metadata": {},
   "outputs": [],
   "source": [
    "# Make training and test sets \n",
    "X_train, X_test, y_train, y_test = train_test_split(X, y, test_size=0.33, random_state=53)"
   ]
  },
  {
   "cell_type": "code",
   "execution_count": null,
   "id": "9d6a95b5",
   "metadata": {},
   "outputs": [],
   "source": [
    "print(y_train.shape)\n",
    "print(X_train.shape)"
   ]
  },
  {
   "cell_type": "code",
   "execution_count": null,
   "id": "5de4fd81",
   "metadata": {},
   "outputs": [],
   "source": [
    "def get_params(parameters, X, y, pipeline):\n",
    "    ''' implements a the GridSearch Cross validation for a given model and set of parameters'''\n",
    "    \n",
    "    cv = RepeatedStratifiedKFold(n_splits=3, n_repeats=3, random_state=1)\n",
    "    grid = GridSearchCV(pipeline, parameters, scoring='f1_macro', n_jobs=-1, cv=cv, error_score='raise')\n",
    "    grid.fit(X, y)\n",
    "\n",
    "    return grid"
   ]
  },
  {
   "cell_type": "code",
   "execution_count": null,
   "id": "4db5200f",
   "metadata": {},
   "outputs": [],
   "source": [
    "parameters = [{'clf__solver' : ['newton-cg', 'lbfgs', 'sag', 'liblinear'],\n",
    "               'clf__C' : [1, 10 ,100]}]\n",
    "\n",
    "clf = LogisticRegression(random_state=42, max_iter=500)\n",
    "pipeline = create_pipe(clf)\n",
    "grid = get_params(parameters, X_train, y_train, pipeline)\n",
    "\n",
    "print(\"Best cross-validation accuracy: {:.3f}\".format(grid.best_score_))\n",
    "print(\"Test set score: {:.3f}\".format(grid.score(X_test, y_test))) \n",
    "print(\"Best parameters: {}\".format(grid.best_params_))\n",
    "\n",
    "log_C = grid.best_params_['clf__C']\n",
    "log_solver = grid.best_params_['clf__solver']"
   ]
  },
  {
   "cell_type": "markdown",
   "id": "c3ad9b23",
   "metadata": {},
   "source": [
    "## Model Evaluation"
   ]
  },
  {
   "cell_type": "code",
   "execution_count": null,
   "id": "fd5f71bc",
   "metadata": {},
   "outputs": [],
   "source": [
    "def plot_confusion_matrix(cm, classes, normalize=False, title='Confusion matrix', cmap=plt.cm.Blues):\n",
    "    \"\"\"\n",
    "    See full source and example: \n",
    "    http://scikit-learn.org/stable/auto_examples/model_selection/plot_confusion_matrix.html\n",
    "    \n",
    "    This function prints and plots the confusion matrix.\n",
    "    Normalization can be applied by setting `normalize=True`.\n",
    "    \"\"\"\n",
    "    plt.imshow(cm, interpolation='nearest', cmap=cmap)\n",
    "    plt.title(title)\n",
    "    plt.colorbar()\n",
    "    tick_marks = np.arange(len(classes))\n",
    "    plt.xticks(tick_marks, classes, rotation=45)\n",
    "    plt.yticks(tick_marks, classes)\n",
    "\n",
    "    if normalize:\n",
    "        cm = cm.astype('float') / cm.sum(axis=1)[:, np.newaxis]\n",
    "        print(\"Normalized confusion matrix\")\n",
    "    else:\n",
    "        print('Confusion matrix, without normalization')\n",
    "\n",
    "    thresh = cm.max() / 2.\n",
    "    for i, j in itertools.product(range(cm.shape[0]), range(cm.shape[1])):\n",
    "        plt.text(j, i, cm[i, j],\n",
    "                 horizontalalignment=\"center\",\n",
    "                 color=\"white\" if cm[i, j] > thresh else \"black\")\n",
    "\n",
    "    plt.tight_layout()\n",
    "    plt.ylabel('True label')\n",
    "    plt.xlabel('predicted label')"
   ]
  },
  {
   "cell_type": "code",
   "execution_count": null,
   "id": "5fb17107",
   "metadata": {},
   "outputs": [],
   "source": [
    "def fit_and_print(pipeline, name):\n",
    "    ''' take a supplied pipeline and run it against the train-test spit \n",
    "    and product scoring results.'''\n",
    "    \n",
    "    pipeline.fit(X_train, y_train)\n",
    "    y_pred = pipeline.predict(X_test)\n",
    "    score = metrics.f1_score(y_test, y_pred, average='macro')\n",
    "\n",
    "    print(metrics.classification_report(y_test, y_pred, digits=3))\n",
    "\n",
    "    cm = metrics.confusion_matrix(y_test, y_pred, labels=[0,1])\n",
    "    plot_confusion_matrix(cm, classes=[0,1], normalize=False)"
   ]
  },
  {
   "cell_type": "code",
   "execution_count": null,
   "id": "4788f0ee",
   "metadata": {},
   "outputs": [],
   "source": [
    "clf = LogisticRegression(C=log_C, solver=log_solver, random_state=42, max_iter=500)\n",
    "pipeline = create_pipe(clf)\n",
    "fit_and_print(pipeline, 'Logistic Regression')"
   ]
  },
  {
   "cell_type": "markdown",
   "id": "5d796d87",
   "metadata": {},
   "source": [
    "**Observations**:\n",
    "\n",
    "This model performed extremely well across our dataset with an `f1 macro` score of `0.837`.  The dataset has imbalanced, which was corrected for SMOTE (Over Sampling combined with Undersampling).  The result was a very strong predictor model based on `categories`, `city`, `state`, `text`, `sentiment`, `text_len`.\n",
    "\n",
    "**Synthetic Minority Oversampling Technique** uses a nearest-neighbor approach for generating new minority class samples.  The method is applied only to the training data and then tested on the original, untouched test partition.  The method chosen here is first to oversample the minority class making it balanced, and then undersample it to reduce the size.  This helps bring balance without bloating the dataset."
   ]
  },
  {
   "cell_type": "markdown",
   "id": "f1662221",
   "metadata": {},
   "source": [
    "## Multi-Class Classification Model for Category Selection"
   ]
  },
  {
   "cell_type": "code",
   "execution_count": 64,
   "id": "2cafbb06",
   "metadata": {},
   "outputs": [],
   "source": [
    "df['categories'] = df['categories'].apply(lambda w: re.sub(' ', '', w))\n",
    "df['categories'] = df['categories'].apply(lambda w: w.split(\",\"))"
   ]
  },
  {
   "cell_type": "code",
   "execution_count": 65,
   "id": "d0ee203d",
   "metadata": {},
   "outputs": [
    {
     "data": {
      "text/plain": [
       "['Gastropubs',\n",
       " 'Food',\n",
       " 'BeerGardens',\n",
       " 'Restaurants',\n",
       " 'Bars',\n",
       " 'American(Traditional)',\n",
       " 'BeerBar',\n",
       " 'Nightlife',\n",
       " 'Breweries']"
      ]
     },
     "execution_count": 65,
     "metadata": {},
     "output_type": "execute_result"
    }
   ],
   "source": [
    "df['categories'][0]"
   ]
  },
  {
   "cell_type": "code",
   "execution_count": 66,
   "id": "92815f14",
   "metadata": {},
   "outputs": [],
   "source": [
    "X = df[['text', 'categories']]\n",
    "y = df['categories']"
   ]
  },
  {
   "cell_type": "code",
   "execution_count": 67,
   "id": "0362e8f6",
   "metadata": {},
   "outputs": [],
   "source": [
    "mlb = MultiLabelBinarizer()\n",
    "y = mlb.fit_transform(y)"
   ]
  },
  {
   "cell_type": "code",
   "execution_count": 68,
   "id": "6843a8cd",
   "metadata": {},
   "outputs": [
    {
     "name": "stdout",
     "output_type": "stream",
     "text": [
      "(90649, 2)\n",
      "(90649, 971)\n",
      "['Accessories' 'Accountants' 'AcneTreatment' 'ActiveLife' 'Acupuncture'\n",
      " 'AddictionMedicine' 'Adult' 'AdultEducation' 'AdultEntertainment'\n",
      " 'Advertising' 'Aestheticians' 'Afghan' 'African' 'AirDuctCleaning'\n",
      " 'Airlines' 'AirportLounges' 'AirportShuttles' 'Airports' 'Allergists']\n"
     ]
    }
   ],
   "source": [
    "print(X.shape)\n",
    "print(y.shape)\n",
    "print(mlb.classes_[1:20])"
   ]
  },
  {
   "cell_type": "code",
   "execution_count": 71,
   "id": "1ba1c42c",
   "metadata": {},
   "outputs": [],
   "source": [
    "def create_pipe(clf):\n",
    "    '''Create a pipeline for a given classifier.  The classifier needs to be an instance\n",
    "    of the classifier with all parmeters needed specified.'''\n",
    "    \n",
    "    # Each pipeline uses the same column transformer.  \n",
    "    column_trans = ColumnTransformer(\n",
    "        [('text', TfidfVectorizer(stop_words='english'), 'text')],\n",
    "        remainder='drop') \n",
    "    \n",
    "    pipeline = Pipeline([('prep',column_trans), \n",
    "                         ('clf', clf)])\n",
    "     \n",
    "    return pipeline"
   ]
  },
  {
   "cell_type": "markdown",
   "id": "3ebb383d",
   "metadata": {},
   "source": [
    "**Notes**:\n",
    "\n",
    "Again the `SVC` classifier performed the best with `LogisticRegression` coming out second best.   `MultinomialNB` perfrormed the worst out of these."
   ]
  },
  {
   "cell_type": "markdown",
   "id": "409aba83",
   "metadata": {},
   "source": [
    "### Multi-Class Model Validation"
   ]
  },
  {
   "cell_type": "code",
   "execution_count": 72,
   "id": "a07bc31a",
   "metadata": {},
   "outputs": [],
   "source": [
    "# Make training and test sets \n",
    "X_train, X_test, y_train, y_test = train_test_split(X, y, test_size=0.33, random_state=1)"
   ]
  },
  {
   "cell_type": "code",
   "execution_count": 73,
   "id": "3c77e838",
   "metadata": {},
   "outputs": [
    {
     "name": "stdout",
     "output_type": "stream",
     "text": [
      "(60734, 971)\n",
      "(60734, 2)\n"
     ]
    }
   ],
   "source": [
    "print(y_train.shape)\n",
    "print(X_train.shape)"
   ]
  },
  {
   "cell_type": "code",
   "execution_count": 74,
   "id": "41d568e6",
   "metadata": {},
   "outputs": [
    {
     "name": "stdout",
     "output_type": "stream",
     "text": [
      "              precision    recall  f1-score   support\n",
      "\n",
      "           0      0.400     0.480     0.436        25\n",
      "           1      0.180     0.625     0.280       104\n",
      "           2      0.000     0.000     0.000         1\n",
      "           3      0.000     0.000     0.000         0\n",
      "           4      0.470     0.785     0.588      1056\n",
      "           5      0.211     0.613     0.314        75\n",
      "           6      0.000     0.000     0.000         1\n",
      "           7      0.154     0.182     0.167        11\n",
      "           8      0.000     0.000     0.000         5\n",
      "           9      0.423     0.550     0.478        20\n",
      "          10      0.000     0.000     0.000         4\n",
      "          11      0.000     0.000     0.000         1\n",
      "          12      0.202     0.536     0.294       125\n",
      "          13      0.259     0.537     0.349        82\n",
      "          14      0.750     0.333     0.462         9\n",
      "          15      0.762     0.762     0.762        21\n",
      "          16      0.000     0.000     0.000         3\n",
      "          17      0.279     0.655     0.392        29\n",
      "          18      0.186     0.571     0.281        14\n",
      "          19      0.250     0.200     0.222         5\n",
      "          20      0.167     0.143     0.154         7\n",
      "          21      0.226     0.241     0.233        29\n",
      "          22      0.406     0.754     0.528      4319\n",
      "          23      0.425     0.751     0.543      4411\n",
      "          24      0.444     0.737     0.554       224\n",
      "          25      0.667     0.500     0.571         8\n",
      "          26      0.270     0.529     0.358        51\n",
      "          27      0.000     0.000     0.000         4\n",
      "          28      0.606     0.843     0.705       115\n",
      "          29      0.196     0.522     0.285        69\n",
      "          30      0.379     0.672     0.484        58\n",
      "          31      0.320     0.667     0.432        12\n",
      "          32      0.222     0.667     0.333         3\n",
      "          33      0.843     0.851     0.847       101\n",
      "          34      0.050     0.143     0.074         7\n",
      "          35      0.312     0.535     0.394        99\n",
      "          36      0.000     0.000     0.000         2\n",
      "          37      0.769     0.909     0.833        22\n",
      "          38      0.249     0.483     0.328        89\n",
      "          39      0.000     0.000     0.000         3\n",
      "          40      0.000     0.000     0.000         3\n",
      "          41      0.393     0.517     0.447        89\n",
      "          42      0.613     0.792     0.691        24\n",
      "          43      0.000     0.000     0.000         1\n",
      "          44      0.000     0.000     0.000         6\n",
      "          45      0.000     0.000     0.000         0\n",
      "          46      0.095     0.292     0.143        24\n",
      "          47      0.268     0.716     0.390       116\n",
      "          48      0.300     0.694     0.419      1315\n",
      "          49      0.228     0.657     0.338      1136\n",
      "          50      0.000     0.000     0.000         1\n",
      "          51      1.000     0.200     0.333         5\n",
      "          52      0.000     0.000     0.000         1\n",
      "          53      0.500     0.167     0.250         6\n",
      "          54      0.000     0.000     0.000         8\n",
      "          55      0.277     0.753     0.404        97\n",
      "          56      0.268     0.484     0.345        31\n",
      "          57      0.000     0.000     0.000         4\n",
      "          58      0.000     0.000     0.000         6\n",
      "          59      0.242     0.747     0.366       170\n",
      "          60      0.560     0.905     0.692       451\n",
      "          61      0.000     0.000     0.000         0\n",
      "          62      0.609     0.778     0.683        18\n",
      "          63      0.594     0.865     0.704       773\n",
      "          64      0.000     0.000     0.000         0\n",
      "          65      1.000     0.333     0.500         3\n",
      "          66      0.077     0.667     0.138         3\n",
      "          67      0.179     0.318     0.230        22\n",
      "          68      0.857     0.500     0.632        12\n",
      "          69      0.195     0.654     0.301       211\n",
      "          70      0.418     0.767     0.542      1258\n",
      "          71      0.000     0.000     0.000         1\n",
      "          72      0.000     0.000     0.000         1\n",
      "          73      0.583     0.538     0.560        13\n",
      "          74      0.000     0.000     0.000         0\n",
      "          75      0.242     0.604     0.346       594\n",
      "          76      0.341     0.740     0.467       123\n",
      "          77      0.267     0.857     0.407        28\n",
      "          78      0.572     0.779     0.659      7053\n",
      "          79      0.000     0.000     0.000         0\n",
      "          80      0.000     0.000     0.000         2\n",
      "          81      0.193     0.250     0.218        44\n",
      "          82      0.200     0.250     0.222         8\n",
      "          83      0.000     0.000     0.000         4\n",
      "          84      0.000     0.000     0.000         3\n",
      "          85      1.000     0.300     0.462        10\n",
      "          86      0.749     0.910     0.822      1556\n",
      "          87      0.110     0.311     0.163        45\n",
      "          88      0.169     0.549     0.259      1090\n",
      "          89      0.178     0.595     0.274       457\n",
      "          90      0.201     0.669     0.309       118\n",
      "          91      0.582     0.781     0.667        73\n",
      "          92      0.582     0.814     0.679        70\n",
      "          93      0.375     0.300     0.333        10\n",
      "          94      0.047     0.083     0.060        24\n",
      "          95      0.172     0.625     0.270         8\n",
      "          96      0.534     0.830     0.650        47\n",
      "          97      0.000     0.000     0.000         0\n",
      "          98      0.589     0.843     0.694        51\n",
      "          99      0.000     0.000     0.000         2\n",
      "         100      0.148     0.500     0.229         8\n",
      "         101      0.575     0.823     0.677        79\n",
      "         102      0.500     0.500     0.500         2\n",
      "         103      0.000     0.000     0.000         1\n",
      "         104      0.000     0.000     0.000         1\n",
      "         105      0.308     0.267     0.286        15\n",
      "         106      0.127     0.488     0.202        41\n",
      "         107      0.706     0.545     0.615        22\n",
      "         108      0.000     0.000     0.000         0\n",
      "         109      0.667     0.400     0.500        10\n",
      "         110      0.609     0.596     0.602        47\n",
      "         111      0.000     0.000     0.000         4\n",
      "         112      0.233     0.767     0.357       103\n",
      "         113      0.000     0.000     0.000         1\n",
      "         114      0.446     0.742     0.557       128\n",
      "         115      0.558     0.768     0.646        69\n",
      "         116      0.211     0.848     0.337        33\n",
      "         117      0.650     0.565     0.605        23\n",
      "         118      0.000     0.000     0.000         1\n",
      "         119      0.615     0.720     0.663        82\n",
      "         120      0.172     0.556     0.263         9\n",
      "         121      0.175     0.219     0.194        32\n",
      "         122      0.234     0.517     0.322       151\n",
      "         123      0.000     0.000     0.000         1\n",
      "         124      0.412     0.702     0.519      3411\n",
      "         125      0.316     0.688     0.433       423\n",
      "         126      0.000     0.000     0.000         3\n",
      "         127      0.261     0.545     0.353        22\n",
      "         128      0.480     0.735     0.581        83\n",
      "         129      0.130     0.350     0.189        20\n",
      "         130      0.348     0.668     0.457       229\n",
      "         131      0.299     0.693     0.418       463\n",
      "         132      0.322     0.559     0.409        34\n",
      "         133      0.354     0.696     0.469      2193\n",
      "         134      0.111     0.182     0.138        11\n",
      "         135      0.000     0.000     0.000         0\n",
      "         136      0.000     0.000     0.000         5\n",
      "         137      0.000     0.000     0.000         1\n",
      "         138      0.289     0.433     0.347        30\n",
      "         139      0.714     0.500     0.588        10\n",
      "         140      0.000     0.000     0.000         5\n",
      "         141      0.545     0.545     0.545        11\n",
      "         142      0.206     0.628     0.310      1139\n",
      "         143      0.091     0.059     0.071        17\n",
      "         144      0.333     0.594     0.427       170\n",
      "         145      1.000     0.111     0.200         9\n",
      "         146      0.000     0.000     0.000         1\n",
      "         147      0.161     0.470     0.239       285\n",
      "         148      0.000     0.000     0.000         5\n",
      "         149      0.271     0.644     0.382        59\n",
      "         150      0.500     0.125     0.200         8\n",
      "         151      0.000     0.000     0.000         0\n",
      "         152      0.000     0.000     0.000         8\n",
      "         153      0.121     0.538     0.198        52\n",
      "         154      0.371     1.000     0.542        13\n",
      "         155      0.434     0.874     0.580       207\n",
      "         156      0.280     0.778     0.412         9\n",
      "         157      0.368     0.762     0.496        42\n",
      "         158      0.167     0.250     0.200        12\n",
      "         159      0.393     0.786     0.524        70\n",
      "         160      0.538     0.538     0.538        13\n",
      "         161      0.042     0.222     0.070         9\n",
      "         162      0.000     0.000     0.000         4\n",
      "         163      0.257     0.630     0.365        46\n",
      "         164      0.000     0.000     0.000         1\n",
      "         165      0.324     0.680     0.439       331\n",
      "         166      0.000     0.000     0.000         1\n",
      "         167      0.418     0.676     0.517        34\n",
      "         168      0.429     0.231     0.300        13\n",
      "         169      0.500     0.591     0.542        22\n",
      "         170      0.571     0.444     0.500         9\n",
      "         171      0.132     0.474     0.207       966\n",
      "         172      0.000     0.000     0.000        14\n",
      "         173      0.000     0.000     0.000         0\n",
      "         174      0.000     0.000     0.000         1\n",
      "         175      0.000     0.000     0.000         0\n",
      "         176      0.442     0.559     0.494        34\n",
      "         177      0.312     0.417     0.357        36\n",
      "         178      0.323     0.718     0.445       202\n",
      "         179      0.226     0.680     0.339       609\n",
      "         180      0.189     0.656     0.294        32\n",
      "         181      0.000     0.000     0.000         0\n",
      "         182      0.213     0.465     0.292        43\n",
      "         183      0.000     0.000     0.000         3\n",
      "         184      1.000     1.000     1.000         1\n",
      "         185      0.442     0.792     0.567      1569\n",
      "         186      0.242     0.773     0.368        66\n",
      "         187      0.265     0.633     0.373       120\n",
      "         188      0.000     0.000     0.000         6\n",
      "         189      1.000     0.333     0.500         3\n",
      "         190      1.000     0.750     0.857         4\n",
      "         191      0.701     0.739     0.719       111\n",
      "         192      0.000     0.000     0.000         1\n",
      "         193      0.750     0.600     0.667        15\n",
      "         194      1.000     1.000     1.000         1\n",
      "         195      0.000     0.000     0.000         1\n",
      "         196      0.000     0.000     0.000         1\n",
      "         197      0.193     0.613     0.294      1355\n",
      "         198      0.477     0.754     0.585      2408\n",
      "         199      0.000     0.000     0.000         1\n",
      "         200      0.156     0.580     0.246       112\n",
      "         201      0.250     0.250     0.250         4\n",
      "         202      0.233     0.377     0.288        53\n",
      "         203      0.857     0.545     0.667        22\n",
      "         204      0.162     0.537     0.249       505\n",
      "         205      0.429     0.750     0.545         4\n",
      "         206      0.389     0.875     0.538         8\n",
      "         207      0.000     0.000     0.000         0\n",
      "         208      0.000     0.000     0.000         1\n",
      "         209      0.000     0.000     0.000         1\n",
      "         210      0.427     0.542     0.478        59\n",
      "         211      0.286     0.612     0.390        49\n",
      "         212      1.000     1.000     1.000         2\n",
      "         213      0.417     0.833     0.556         6\n",
      "         214      0.207     0.710     0.320        69\n",
      "         215      0.326     0.560     0.412        75\n",
      "         216      0.220     0.500     0.305        18\n",
      "         217      0.214     0.500     0.300         6\n",
      "         218      0.167     0.300     0.214        20\n",
      "         219      0.436     0.873     0.582       102\n",
      "         220      0.156     0.438     0.230        16\n",
      "         221      0.160     0.629     0.255       105\n",
      "         222      0.212     0.690     0.324        42\n",
      "         223      1.000     0.333     0.500         3\n",
      "         224      0.286     0.125     0.174        16\n",
      "         225      0.833     0.833     0.833         6\n",
      "         226      0.000     0.000     0.000         2\n",
      "         227      0.000     0.000     0.000         1\n",
      "         228      0.097     0.273     0.143        22\n",
      "         229      0.588     0.662     0.623        71\n",
      "         230      0.000     0.000     0.000         1\n",
      "         231      0.179     0.500     0.263        10\n",
      "         232      0.449     0.722     0.553       187\n",
      "         233      0.000     0.000     0.000         3\n",
      "         234      0.324     0.690     0.441       100\n",
      "         235      0.000     0.000     0.000         1\n",
      "         236      0.210     0.550     0.303        80\n",
      "         237      0.500     0.091     0.154        11\n",
      "         238      0.173     0.692     0.277        26\n",
      "         239      0.000     0.000     0.000         2\n",
      "         240      0.000     0.000     0.000         1\n",
      "         241      0.276     0.500     0.356        16\n",
      "         242      0.197     0.536     0.288       166\n",
      "         243      1.000     0.143     0.250         7\n",
      "         244      0.500     0.375     0.429         8\n",
      "         245      0.000     0.000     0.000         2\n",
      "         246      0.463     0.633     0.535        30\n",
      "         247      0.000     0.000     0.000         2\n",
      "         248      0.243     0.792     0.372       355\n",
      "         249      0.000     0.000     0.000         3\n",
      "         250      0.000     0.000     0.000         3\n",
      "         251      0.170     0.542     0.259       421\n",
      "         252      0.150     0.429     0.222         7\n",
      "         253      0.612     0.918     0.734       158\n",
      "         254      0.252     0.598     0.354       122\n",
      "         255      1.000     0.250     0.400         8\n",
      "         256      0.129     0.429     0.198        21\n",
      "         257      0.269     0.624     0.376      1660\n",
      "         258      0.222     0.235     0.229        17\n",
      "         259      0.200     0.312     0.244        32\n",
      "         260      0.000     0.000     0.000         1\n",
      "         261      0.223     0.559     0.319       111\n",
      "         262      0.177     0.574     0.271       580\n",
      "         263      0.213     0.625     0.317        16\n",
      "         264      0.174     0.593     0.269        27\n",
      "         265      0.000     0.000     0.000         2\n",
      "         266      0.211     0.548     0.304       250\n",
      "         267      0.000     0.000     0.000         1\n",
      "         268      0.000     0.000     0.000         3\n",
      "         269      0.000     0.000     0.000         0\n",
      "         270      0.086     0.308     0.134        26\n",
      "         271      0.371     0.768     0.500       207\n",
      "         272      0.667     0.429     0.522        14\n",
      "         273      0.100     0.500     0.167         2\n",
      "         274      0.571     0.222     0.320        18\n",
      "         275      0.000     0.000     0.000         2\n",
      "         276      0.654     0.816     0.726       478\n",
      "         277      0.000     0.000     0.000         3\n",
      "         278      0.000     0.000     0.000         1\n",
      "         279      0.000     0.000     0.000         1\n",
      "         280      0.000     0.000     0.000         1\n",
      "         281      0.000     0.000     0.000         0\n",
      "         282      0.370     0.727     0.490       121\n",
      "         283      0.354     0.778     0.487        36\n",
      "         284      0.567     0.847     0.679        85\n",
      "         285      0.400     0.500     0.444         4\n",
      "         286      0.345     0.690     0.460        42\n",
      "         287      0.000     0.000     0.000         2\n",
      "         288      0.000     0.000     0.000         0\n",
      "         289      0.067     0.250     0.105         4\n",
      "         290      0.248     0.617     0.354       180\n",
      "         291      0.000     0.000     0.000         3\n",
      "         292      0.219     0.636     0.326        11\n",
      "         293      0.500     0.143     0.222         7\n",
      "         294      0.195     0.675     0.303       114\n",
      "         295      0.541     0.741     0.625        54\n",
      "         296      1.000     0.250     0.400         4\n",
      "         297      0.000     0.000     0.000         3\n",
      "         298      1.000     0.250     0.400         4\n",
      "         299      0.000     0.000     0.000         2\n",
      "         300      0.250     0.476     0.328        21\n",
      "         301      0.474     0.474     0.474        19\n",
      "         302      0.000     0.000     0.000         4\n",
      "         303      0.000     0.000     0.000         0\n",
      "         304      0.195     0.676     0.303        34\n",
      "         305      0.000     0.000     0.000         1\n",
      "         306      0.000     0.000     0.000         1\n",
      "         307      0.000     0.000     0.000         1\n",
      "         308      0.250     0.474     0.327        19\n",
      "         309      0.857     0.429     0.571        14\n",
      "         310      0.000     0.000     0.000         2\n",
      "         311      0.000     0.000     0.000         1\n",
      "         312      0.000     0.000     0.000         0\n",
      "         313      0.617     0.768     0.684       155\n",
      "         314      0.115     0.399     0.178       291\n",
      "         315      0.200     0.200     0.200        15\n",
      "         316      1.000     0.500     0.667         4\n",
      "         317      0.349     0.619     0.446      2646\n",
      "         318      0.000     0.000     0.000         0\n",
      "         319      0.190     0.510     0.277        51\n",
      "         320      0.209     0.781     0.330       178\n",
      "         321      0.525     0.827     0.642        75\n",
      "         322      0.690     0.800     0.741        25\n",
      "         323      0.000     0.000     0.000         1\n",
      "         324      0.130     0.448     0.202        58\n",
      "         325      0.235     0.576     0.333        33\n",
      "         326      0.308     0.456     0.368        90\n",
      "         327      0.714     0.385     0.500        13\n",
      "         328      0.395     0.849     0.539       517\n",
      "         329      0.239     0.727     0.359       874\n",
      "         330      1.000     1.000     1.000         3\n",
      "         331      0.000     0.000     0.000         1\n",
      "         332      0.455     0.556     0.500         9\n",
      "         333      0.000     0.000     0.000         6\n",
      "         334      0.000     0.000     0.000         5\n",
      "         335      0.536     0.429     0.476        35\n",
      "         336      0.000     0.000     0.000         2\n",
      "         337      0.000     0.000     0.000         9\n",
      "         338      0.000     0.000     0.000         1\n",
      "         339      0.000     0.000     0.000         2\n",
      "         340      0.172     0.522     0.259        69\n",
      "         341      0.000     0.000     0.000         6\n",
      "         342      0.496     0.797     0.612       355\n",
      "         343      0.000     0.000     0.000         3\n",
      "         344      1.000     0.500     0.667         2\n",
      "         345      0.000     0.000     0.000         2\n",
      "         346      0.617     0.771     0.685        48\n",
      "         347      0.000     0.000     0.000         6\n",
      "         348      0.641     0.769     0.699        65\n",
      "         349      0.292     0.639     0.401       158\n",
      "         350      0.435     0.833     0.571        12\n",
      "         351      0.579     0.684     0.627      8156\n",
      "         352      0.303     0.500     0.377        20\n",
      "         353      0.107     0.404     0.170       267\n",
      "         354      0.300     1.000     0.462         3\n",
      "         355      0.220     0.601     0.322       343\n",
      "         356      0.125     0.500     0.200         2\n",
      "         357      0.233     0.683     0.347       477\n",
      "         358      0.000     0.000     0.000         0\n",
      "         359      0.217     0.833     0.345        12\n",
      "         360      0.500     0.250     0.333         8\n",
      "         361      0.164     0.609     0.259       338\n",
      "         362      0.316     0.500     0.387        74\n",
      "         363      0.833     0.556     0.667         9\n",
      "         364      0.000     0.000     0.000         0\n",
      "         365      0.000     0.000     0.000         2\n",
      "         366      0.000     0.000     0.000         2\n",
      "         367      0.000     0.000     0.000         2\n",
      "         368      0.000     0.000     0.000         5\n",
      "         369      0.330     0.679     0.444       140\n",
      "         370      0.462     0.667     0.545         9\n",
      "         371      0.889     0.400     0.552        20\n",
      "         372      0.223     0.652     0.332        66\n",
      "         373      0.000     0.000     0.000         2\n",
      "         374      0.158     0.622     0.252       608\n",
      "         375      0.093     0.167     0.119        30\n",
      "         376      0.367     0.458     0.407        24\n",
      "         377      0.538     0.904     0.675       125\n",
      "         378      0.000     0.000     0.000         2\n",
      "         379      0.000     0.000     0.000         1\n",
      "         380      1.000     1.000     1.000         1\n",
      "         381      0.542     0.630     0.583       173\n",
      "         382      0.164     0.437     0.238        71\n",
      "         383      0.000     0.000     0.000         5\n",
      "         384      0.179     0.548     0.270      1202\n",
      "         385      0.161     0.500     0.244        10\n",
      "         386      0.174     0.500     0.258         8\n",
      "         387      0.625     0.500     0.556        20\n",
      "         388      0.000     0.000     0.000         3\n",
      "         389      0.000     0.000     0.000         1\n",
      "         390      0.000     0.000     0.000        11\n",
      "         391      0.263     0.641     0.373       437\n",
      "         392      0.304     0.671     0.419       425\n",
      "         393      0.636     0.778     0.700        18\n",
      "         394      1.000     0.500     0.667         4\n",
      "         395      0.093     0.278     0.139        18\n",
      "         396      0.500     0.125     0.200         8\n",
      "         397      1.000     0.167     0.286         6\n",
      "         398      0.667     0.435     0.526        23\n",
      "         399      1.000     0.500     0.667         2\n",
      "         400      0.786     0.478     0.595        23\n",
      "         401      0.000     0.000     0.000         1\n",
      "         402      0.534     0.837     0.652       190\n",
      "         403      0.115     0.550     0.190        40\n",
      "         404      0.000     0.000     0.000         1\n",
      "         405      0.370     0.848     0.516       447\n",
      "         406      0.538     0.888     0.670       543\n",
      "         407      0.167     0.723     0.271        94\n",
      "         408      0.800     0.667     0.727         6\n",
      "         409      0.167     0.507     0.251       148\n",
      "         410      0.000     0.000     0.000         1\n",
      "         411      0.333     0.227     0.270        22\n",
      "         412      0.397     0.562     0.466        48\n",
      "         413      0.000     0.000     0.000         1\n",
      "         414      1.000     0.632     0.774        19\n",
      "         415      0.277     0.444     0.341        81\n",
      "         416      0.000     0.000     0.000         1\n",
      "         417      0.000     0.000     0.000         8\n",
      "         418      0.562     0.884     0.687       860\n",
      "         419      0.196     0.530     0.286       117\n",
      "         420      0.167     0.167     0.167         6\n",
      "         421      0.000     0.000     0.000         0\n",
      "         422      0.271     0.463     0.342        41\n",
      "         423      0.250     0.167     0.200         6\n",
      "         424      0.700     0.636     0.667        11\n",
      "         425      0.000     0.000     0.000         9\n",
      "         426      0.517     0.682     0.588        22\n",
      "         427      0.240     0.608     0.344        79\n",
      "         428      0.719     0.920     0.807        25\n",
      "         429      0.213     0.422     0.284        45\n",
      "         430      0.000     0.000     0.000         1\n",
      "         431      0.500     0.250     0.333         4\n",
      "         432      0.000     0.000     0.000         1\n",
      "         433      0.000     0.000     0.000         1\n",
      "         434      0.302     0.754     0.431       386\n",
      "         435      0.000     0.000     0.000         4\n",
      "         436      0.750     0.600     0.667         5\n",
      "         437      0.457     0.754     0.570        57\n",
      "         438      0.209     0.625     0.313       152\n",
      "         439      0.000     0.000     0.000         1\n",
      "         440      0.121     0.333     0.178        12\n",
      "         441      0.353     0.706     0.471        17\n",
      "         442      0.000     0.000     0.000         0\n",
      "         443      1.000     0.100     0.182        10\n",
      "         444      0.471     0.827     0.600       698\n",
      "         445      0.000     0.000     0.000         1\n",
      "         446      0.000     0.000     0.000         6\n",
      "         447      0.556     0.625     0.588         8\n",
      "         448      0.000     0.000     0.000         1\n",
      "         449      0.571     0.400     0.471        10\n",
      "         450      0.248     0.552     0.343       134\n",
      "         451      0.000     0.000     0.000         1\n",
      "         452      0.000     0.000     0.000         3\n",
      "         453      0.197     0.481     0.280        27\n",
      "         454      0.157     0.647     0.253        17\n",
      "         455      0.202     0.607     0.303       196\n",
      "         456      0.382     0.639     0.478       119\n",
      "         457      0.000     0.000     0.000         4\n",
      "         458      0.775     0.914     0.839       709\n",
      "         459      0.647     0.869     0.742      1029\n",
      "         460      0.000     0.000     0.000         3\n",
      "         461      0.625     0.333     0.435        15\n",
      "         462      0.000     0.000     0.000         4\n",
      "         463      0.000     0.000     0.000         0\n",
      "         464      0.000     0.000     0.000         0\n",
      "         465      0.393     0.694     0.501       121\n",
      "         466      0.000     0.000     0.000         1\n",
      "         467      0.418     0.742     0.535       550\n",
      "         468      0.000     0.000     0.000         0\n",
      "         469      0.070     0.115     0.087        26\n",
      "         470      0.542     0.812     0.650       505\n",
      "         471      0.000     0.000     0.000         2\n",
      "         472      0.000     0.000     0.000         5\n",
      "         473      0.000     0.000     0.000         4\n",
      "         474      1.000     0.111     0.200         9\n",
      "         475      0.237     0.543     0.330        35\n",
      "         476      0.000     0.000     0.000         0\n",
      "         477      0.146     0.522     0.229        23\n",
      "         478      0.600     0.333     0.429        18\n",
      "         479      0.296     0.412     0.344        51\n",
      "         480      0.049     0.150     0.074        20\n",
      "         481      0.259     0.636     0.368        11\n",
      "         482      0.276     0.667     0.390        12\n",
      "         483      1.000     0.750     0.857         4\n",
      "         484      0.249     0.557     0.344       149\n",
      "         485      0.153     0.352     0.213        54\n",
      "         486      0.889     0.471     0.615        17\n",
      "         487      0.385     0.751     0.509      1892\n",
      "         488      0.255     0.677     0.371        93\n",
      "         489      0.521     0.799     0.631      1486\n",
      "         490      0.241     0.572     0.339       152\n",
      "         491      0.380     0.682     0.488       151\n",
      "         492      0.476     0.741     0.580        27\n",
      "         493      0.252     0.663     0.365       380\n",
      "         494      0.067     0.083     0.074        12\n",
      "         495      0.209     0.434     0.283       145\n",
      "         496      0.000     0.000     0.000         2\n",
      "         497      0.203     0.286     0.237        49\n",
      "         498      0.600     0.316     0.414        19\n",
      "         499      0.000     0.000     0.000         2\n",
      "         500      0.167     0.308     0.216        26\n",
      "         501      0.000     0.000     0.000         1\n",
      "         502      0.330     0.547     0.412        64\n",
      "         503      0.000     0.000     0.000         1\n",
      "         504      0.000     0.000     0.000         0\n",
      "         505      0.750     0.500     0.600         6\n",
      "         506      0.500     0.667     0.571         3\n",
      "         507      0.121     0.444     0.190         9\n",
      "         508      0.293     0.615     0.397       286\n",
      "         509      0.132     0.357     0.192        28\n",
      "         510      0.000     0.000     0.000         9\n",
      "         511      0.589     0.894     0.710       104\n",
      "         512      0.857     0.429     0.571        14\n",
      "         513      0.536     0.536     0.536        28\n",
      "         514      0.000     0.000     0.000         1\n",
      "         515      1.000     0.182     0.308        11\n",
      "         516      0.423     0.815     0.557        27\n",
      "         517      0.362     0.600     0.452        35\n",
      "         518      0.317     0.722     0.441        18\n",
      "         519      0.244     0.647     0.354       612\n",
      "         520      0.294     0.500     0.370        10\n",
      "         521      0.570     0.849     0.682        86\n",
      "         522      1.000     0.500     0.667         2\n",
      "         523      1.000     0.333     0.500         3\n",
      "         524      0.250     0.250     0.250         8\n",
      "         525      0.223     0.561     0.319        66\n",
      "         526      0.000     0.000     0.000         0\n",
      "         527      0.800     0.727     0.762        11\n",
      "         528      0.657     0.793     0.719        29\n",
      "         529      1.000     0.250     0.400         4\n",
      "         530      0.000     0.000     0.000         4\n",
      "         531      0.250     0.136     0.176        22\n",
      "         532      0.000     0.000     0.000         2\n",
      "         533      0.333     0.143     0.200         7\n",
      "         534      0.632     0.750     0.686        32\n",
      "         535      0.308     0.596     0.406        47\n",
      "         536      0.000     0.000     0.000         1\n",
      "         537      0.222     0.667     0.333         3\n",
      "         538      0.145     0.475     0.223       387\n",
      "         539      0.340     0.842     0.484       728\n",
      "         540      0.188     0.623     0.288       727\n",
      "         541      0.500     0.250     0.333         4\n",
      "         542      0.308     0.222     0.258        18\n",
      "         543      0.000     0.000     0.000         4\n",
      "         544      0.000     0.000     0.000         1\n",
      "         545      0.446     0.742     0.557       128\n",
      "         546      0.645     0.667     0.656        30\n",
      "         547      0.127     0.543     0.206        92\n",
      "         548      0.286     0.167     0.211        12\n",
      "         549      0.000     0.000     0.000         0\n",
      "         550      0.060     0.167     0.088        18\n",
      "         551      0.137     0.412     0.206        17\n",
      "         552      0.500     0.200     0.286         5\n",
      "         553      0.750     0.429     0.545         7\n",
      "         554      0.349     0.816     0.489       347\n",
      "         555      0.135     0.591     0.220        22\n",
      "         556      0.337     0.790     0.473       181\n",
      "         557      0.833     0.625     0.714        16\n",
      "         558      0.575     0.590     0.582        39\n",
      "         559      0.000     0.000     0.000         1\n",
      "         560      0.295     0.463     0.360        67\n",
      "         561      0.258     0.598     0.360        82\n",
      "         562      0.153     0.519     0.237       104\n",
      "         563      0.069     0.250     0.108         8\n",
      "         564      0.000     0.000     0.000         0\n",
      "         565      0.071     0.400     0.121         5\n",
      "         566      0.246     0.636     0.354       722\n",
      "         567      0.249     0.652     0.361       115\n",
      "         568      0.134     0.727     0.226        33\n",
      "         569      0.000     0.000     0.000         0\n",
      "         570      0.586     0.778     0.669      1864\n",
      "         571      0.320     0.730     0.445       486\n",
      "         572      0.000     0.000     0.000         0\n",
      "         573      0.750     0.600     0.667         5\n",
      "         574      0.000     0.000     0.000         0\n",
      "         575      0.500     0.389     0.438        18\n",
      "         576      0.212     0.560     0.308        25\n",
      "         577      0.400     0.633     0.490        60\n",
      "         578      0.258     0.696     0.376        69\n",
      "         579      0.000     0.000     0.000         1\n",
      "         580      0.096     0.289     0.144        83\n",
      "         581      0.538     0.609     0.571        23\n",
      "         582      0.000     0.000     0.000         1\n",
      "         583      0.309     0.754     0.438       138\n",
      "         584      0.833     0.625     0.714        24\n",
      "         585      0.455     0.556     0.500         9\n",
      "         586      0.250     0.583     0.350        12\n",
      "         587      0.500     0.400     0.444         5\n",
      "         588      0.205     0.471     0.286        17\n",
      "         589      0.375     0.857     0.522        21\n",
      "         590      0.579     0.846     0.688        78\n",
      "         591      0.000     0.000     0.000         0\n",
      "         592      0.611     0.850     0.711       113\n",
      "         593      0.324     0.750     0.452        44\n",
      "         594      0.446     0.742     0.557       128\n",
      "         595      0.000     0.000     0.000         1\n",
      "         596      0.199     0.621     0.301       604\n",
      "         597      0.000     0.000     0.000        12\n",
      "         598      0.538     0.389     0.452        18\n",
      "         599      0.608     0.674     0.639        46\n",
      "         600      0.512     0.886     0.649       516\n",
      "         601      0.090     0.364     0.144        22\n",
      "         602      0.000     0.000     0.000         2\n",
      "         603      0.231     0.150     0.182        20\n",
      "         604      0.000     0.000     0.000         4\n",
      "         605      0.111     0.500     0.182        54\n",
      "         606      0.256     0.588     0.357        17\n",
      "         607      0.593     0.781     0.674      7395\n",
      "         608      0.316     0.748     0.445       484\n",
      "         609      0.538     0.467     0.500        30\n",
      "         610      0.481     0.561     0.517        66\n",
      "         611      0.093     0.222     0.131        18\n",
      "         612      0.357     0.556     0.435        18\n",
      "         613      0.255     0.625     0.362        40\n",
      "         614      0.000     0.000     0.000         2\n",
      "         615      0.536     0.698     0.606        43\n",
      "         616      0.346     0.545     0.424        33\n",
      "         617      0.000     0.000     0.000         1\n",
      "         618      0.296     0.793     0.431       188\n",
      "         619      0.000     0.000     0.000         2\n",
      "         620      0.000     0.000     0.000         1\n",
      "         621      0.000     0.000     0.000         2\n",
      "         622      0.500     0.618     0.553        34\n",
      "         623      0.523     0.818     0.638        99\n",
      "         624      0.216     0.729     0.333        48\n",
      "         625      0.152     0.371     0.216        89\n",
      "         626      0.234     0.872     0.370        39\n",
      "         627      0.286     0.167     0.211        12\n",
      "         628      1.000     0.250     0.400         4\n",
      "         629      0.000     0.000     0.000         0\n",
      "         630      0.000     0.000     0.000         3\n",
      "         631      0.258     0.486     0.337        35\n",
      "         632      0.500     0.100     0.167        10\n",
      "         633      0.397     0.767     0.523        30\n",
      "         634      0.200     0.429     0.273         7\n",
      "         635      0.750     0.682     0.714        22\n",
      "         636      0.000     0.000     0.000         5\n",
      "         637      0.000     0.000     0.000         0\n",
      "         638      1.000     0.714     0.833         7\n",
      "         639      0.200     0.333     0.250         3\n",
      "         640      0.429     0.600     0.500        10\n",
      "         641      0.384     0.792     0.517       259\n",
      "         642      0.136     0.458     0.210       107\n",
      "         643      0.000     0.000     0.000         1\n",
      "         644      0.000     0.000     0.000         0\n",
      "         645      0.600     0.200     0.300        15\n",
      "         646      0.533     0.696     0.604        69\n",
      "         647      0.145     0.475     0.222       219\n",
      "         648      0.667     0.167     0.267        12\n",
      "         649      0.000     0.000     0.000         1\n",
      "         650      0.000     0.000     0.000         9\n",
      "         651      0.250     0.471     0.327        17\n",
      "         652      0.021     0.064     0.032        47\n",
      "         653      0.000     0.000     0.000         1\n",
      "         654      0.000     0.000     0.000         0\n",
      "         655      0.217     0.628     0.322        78\n",
      "         656      0.286     0.118     0.167        17\n",
      "         657      0.000     0.000     0.000         1\n",
      "         658      0.282     0.750     0.410        44\n",
      "         659      0.105     0.500     0.174        16\n",
      "         660      0.452     0.618     0.522       144\n",
      "         661      0.000     0.000     0.000         3\n",
      "         662      0.204     0.636     0.309        33\n",
      "         663      0.118     0.455     0.188        33\n",
      "         664      0.429     0.574     0.491        47\n",
      "         665      0.000     0.000     0.000         2\n",
      "         666      0.000     0.000     0.000         2\n",
      "         667      0.295     0.333     0.313        39\n",
      "         668      1.000     0.500     0.667         2\n",
      "         669      0.182     0.211     0.195        19\n",
      "         670      0.274     0.435     0.336        46\n",
      "         671      0.562     0.600     0.581        15\n",
      "         672      0.800     0.667     0.727         6\n",
      "         673      0.000     0.000     0.000         2\n",
      "         674      0.000     0.000     0.000         1\n",
      "         675      0.000     0.000     0.000         2\n",
      "         676      0.214     0.462     0.293        13\n",
      "         677      0.000     0.000     0.000         1\n",
      "         678      0.282     0.733     0.407        30\n",
      "         679      0.087     0.222     0.125         9\n",
      "         680      0.444     0.625     0.519        32\n",
      "         681      0.158     0.600     0.250         5\n",
      "         682      0.000     0.000     0.000         0\n",
      "         683      0.450     0.682     0.542        66\n",
      "         684      0.000     0.000     0.000         0\n",
      "         685      0.277     0.500     0.356        36\n",
      "         686      0.000     0.000     0.000         0\n",
      "         687      0.000     0.000     0.000         3\n",
      "         688      0.583     0.583     0.583        12\n",
      "         689      0.000     0.000     0.000         0\n",
      "         690      0.310     0.500     0.383        36\n",
      "         691      0.144     0.491     0.222        57\n",
      "         692      0.000     0.000     0.000         6\n",
      "         693      0.000     0.000     0.000         1\n",
      "         694      1.000     0.375     0.545         8\n",
      "         695      0.558     0.750     0.640        32\n",
      "         696      0.320     0.812     0.459        48\n",
      "         697      0.546     0.741     0.629      1903\n",
      "         698      0.000     0.000     0.000         0\n",
      "         699      0.000     0.000     0.000         4\n",
      "         700      0.000     0.000     0.000         1\n",
      "         701      0.200     0.357     0.256        14\n",
      "         702      0.409     0.623     0.494        61\n",
      "         703      0.667     0.588     0.625        17\n",
      "         704      0.231     0.188     0.207        16\n",
      "         705      0.439     0.375     0.404        48\n",
      "         706      0.000     0.000     0.000         0\n",
      "         707      0.345     0.625     0.444        16\n",
      "         708      0.000     0.000     0.000         0\n",
      "         709      0.000     0.000     0.000         0\n",
      "         710      0.274     0.576     0.371        99\n",
      "         711      0.000     0.000     0.000         5\n",
      "         712      0.000     0.000     0.000         1\n",
      "         713      0.500     0.143     0.222         7\n",
      "         714      0.000     0.000     0.000         4\n",
      "         715      0.000     0.000     0.000         1\n",
      "         716      0.000     0.000     0.000         2\n",
      "         717      0.000     0.000     0.000         1\n",
      "         718      0.389     0.333     0.359        21\n",
      "         719      0.422     0.655     0.514        29\n",
      "         720      0.000     0.000     0.000         3\n",
      "         721      1.000     0.429     0.600         7\n",
      "         722      0.447     0.585     0.507        65\n",
      "         723      0.000     0.000     0.000         1\n",
      "         724      0.219     0.682     0.332       261\n",
      "         725      0.333     0.667     0.444         3\n",
      "         726      0.000     0.000     0.000         2\n",
      "         727      0.221     0.388     0.281        49\n",
      "         728      0.133     0.400     0.200         5\n",
      "         729      0.000     0.000     0.000         0\n",
      "         730      0.000     0.000     0.000         1\n",
      "         731      0.000     0.000     0.000         1\n",
      "         732      0.000     0.000     0.000         3\n",
      "         733      0.000     0.000     0.000         0\n",
      "         734      0.579     0.829     0.682       146\n",
      "         735      0.272     0.705     0.392      1056\n",
      "         736      0.263     0.651     0.375        83\n",
      "         737      1.000     0.143     0.250         7\n",
      "         738      0.000     0.000     0.000         2\n",
      "         739      0.000     0.000     0.000         1\n",
      "         740      0.000     0.000     0.000         1\n",
      "         741      0.000     0.000     0.000         1\n",
      "         742      0.000     0.000     0.000         0\n",
      "         743      0.810     0.810     0.810        21\n",
      "         744      0.501     0.780     0.610       259\n",
      "         745      0.622     0.775     0.690       200\n",
      "         746      0.590     0.742     0.657        31\n",
      "         747      0.000     0.000     0.000         1\n",
      "         748      0.000     0.000     0.000         0\n",
      "         749      0.333     0.644     0.439        45\n",
      "         750      0.000     0.000     0.000         2\n",
      "         751      0.174     0.200     0.186        20\n",
      "         752      0.000     0.000     0.000        11\n",
      "         753      0.548     0.773     0.642        22\n",
      "         754      0.223     0.758     0.345        66\n",
      "         755      0.000     0.000     0.000         0\n",
      "         756      0.083     0.167     0.111        18\n",
      "         757      0.122     0.357     0.182        14\n",
      "         758      1.000     0.333     0.500         3\n",
      "         759      0.000     0.000     0.000         5\n",
      "         760      0.259     0.838     0.395       142\n",
      "         761      0.000     0.000     0.000         3\n",
      "         762      0.974     0.921     0.947     21819\n",
      "         763      0.000     0.000     0.000         1\n",
      "         764      0.000     0.000     0.000         2\n",
      "         765      0.769     0.714     0.741        14\n",
      "         766      0.000     0.000     0.000         2\n",
      "         767      0.417     0.455     0.435        11\n",
      "         768      0.000     0.000     0.000         8\n",
      "         769      0.500     0.200     0.286         5\n",
      "         770      0.000     0.000     0.000         6\n",
      "         771      0.000     0.000     0.000         4\n",
      "         772      0.000     0.000     0.000         0\n",
      "         773      0.000     0.000     0.000         3\n",
      "         774      0.163     0.543     0.251      1174\n",
      "         775      0.104     0.312     0.156        16\n",
      "         776      0.304     0.666     0.418      2766\n",
      "         777      0.077     0.500     0.133         2\n",
      "         778      0.000     0.000     0.000         4\n",
      "         779      0.333     0.250     0.286         8\n",
      "         780      0.000     0.000     0.000         1\n",
      "         781      0.316     0.699     0.435      2390\n",
      "         782      0.132     0.500     0.209        82\n",
      "         783      0.000     0.000     0.000         6\n",
      "         784      0.250     0.091     0.133        11\n",
      "         785      0.312     0.659     0.423        44\n",
      "         786      0.077     0.100     0.087        10\n",
      "         787      0.500     0.571     0.533         7\n",
      "         788      0.452     0.747     0.563        75\n",
      "         789      0.458     0.688     0.550        16\n",
      "         790      0.000     0.000     0.000         2\n",
      "         791      0.000     0.000     0.000         1\n",
      "         792      0.375     0.750     0.500         4\n",
      "         793      0.477     0.705     0.569        44\n",
      "         794      0.333     0.750     0.462        28\n",
      "         795      0.000     0.000     0.000         1\n",
      "         796      0.267     0.632     0.376        68\n",
      "         797      0.482     0.860     0.617      1953\n",
      "         798      0.263     0.448     0.331        58\n",
      "         799      0.750     0.750     0.750         4\n",
      "         800      1.000     0.750     0.857         4\n",
      "         801      0.000     0.000     0.000         5\n",
      "         802      0.138     0.364     0.200        11\n",
      "         803      1.000     0.500     0.667         2\n",
      "         804      1.000     0.600     0.750         5\n",
      "         805      0.000     0.000     0.000         1\n",
      "         806      0.000     0.000     0.000         0\n",
      "         807      0.262     0.805     0.395       343\n",
      "         808      0.500     0.800     0.615         5\n",
      "         809      0.000     0.000     0.000         0\n",
      "         810      0.183     0.800     0.298        30\n",
      "         811      0.081     0.333     0.130        33\n",
      "         812      0.000     0.000     0.000         1\n",
      "         813      0.000     0.000     0.000         2\n",
      "         814      1.000     0.200     0.333        10\n",
      "         815      0.500     0.250     0.333         4\n",
      "         816      0.295     0.669     0.409       290\n",
      "         817      0.140     0.556     0.223       541\n",
      "         818      1.000     0.333     0.500         6\n",
      "         819      0.252     0.671     0.366       691\n",
      "         820      0.000     0.000     0.000         1\n",
      "         821      0.166     0.512     0.250       291\n",
      "         822      0.000     0.000     0.000         2\n",
      "         823      0.210     0.555     0.305      1260\n",
      "         824      0.176     0.526     0.264       114\n",
      "         825      0.000     0.000     0.000         2\n",
      "         826      0.000     0.000     0.000         1\n",
      "         827      0.000     0.000     0.000         0\n",
      "         828      0.321     0.714     0.443       175\n",
      "         829      0.195     0.627     0.297       808\n",
      "         830      0.365     0.726     0.486       117\n",
      "         831      0.183     0.733     0.293        15\n",
      "         832      0.228     0.525     0.318        59\n",
      "         833      0.138     0.419     0.208        31\n",
      "         834      0.000     0.000     0.000         6\n",
      "         835      0.215     0.637     0.322       743\n",
      "         836      0.000     0.000     0.000         1\n",
      "         837      0.125     0.447     0.196        76\n",
      "         838      0.000     0.000     0.000         0\n",
      "         839      0.292     0.583     0.389        12\n",
      "         840      0.286     0.200     0.235        10\n",
      "         841      0.500     0.857     0.632        14\n",
      "         842      0.000     0.000     0.000         1\n",
      "         843      1.000     0.500     0.667         2\n",
      "         844      0.111     0.200     0.143         5\n",
      "         845      0.462     0.764     0.576      1457\n",
      "         846      0.122     0.500     0.196        10\n",
      "         847      0.200     0.474     0.281        19\n",
      "         848      0.769     0.556     0.645        18\n",
      "         849      0.147     0.593     0.236       108\n",
      "         850      0.000     0.000     0.000         0\n",
      "         851      0.526     0.667     0.588        15\n",
      "         852      1.000     0.600     0.750         5\n",
      "         853      0.180     0.558     0.272       274\n",
      "         854      0.000     0.000     0.000         0\n",
      "         855      0.118     0.667     0.200         3\n",
      "         856      0.184     0.578     0.279       232\n",
      "         857      0.160     0.421     0.232        57\n",
      "         858      0.000     0.000     0.000         8\n",
      "         859      0.151     0.528     0.235       449\n",
      "         860      0.193     0.603     0.292       443\n",
      "         861      0.000     0.000     0.000         1\n",
      "         862      0.889     0.787     0.835        61\n",
      "         863      0.000     0.000     0.000         2\n",
      "         864      0.000     0.000     0.000         2\n",
      "         865      0.000     0.000     0.000         1\n",
      "         866      0.200     0.125     0.154         8\n",
      "         867      0.192     0.541     0.283        61\n",
      "         868      0.500     0.667     0.571        15\n",
      "         869      0.000     0.000     0.000         2\n",
      "         870      0.154     0.421     0.225        19\n",
      "         871      0.000     0.000     0.000         0\n",
      "         872      0.300     1.000     0.462         3\n",
      "         873      0.275     0.673     0.391       578\n",
      "         874      0.399     0.763     0.524       792\n",
      "         875      0.800     0.667     0.727         6\n",
      "         876      0.235     0.500     0.320        24\n",
      "         877      0.296     0.667     0.410        48\n",
      "         878      0.364     0.500     0.421         8\n",
      "         879      1.000     0.750     0.857         4\n",
      "         880      0.000     0.000     0.000         6\n",
      "         881      0.607     0.739     0.667        23\n",
      "         882      0.381     0.822     0.521       219\n",
      "         883      0.241     0.351     0.286        37\n",
      "         884      0.463     0.753     0.573       198\n",
      "         885      0.179     0.431     0.253        51\n",
      "         886      0.000     0.000     0.000         2\n",
      "         887      0.221     0.577     0.319        52\n",
      "         888      0.130     0.375     0.194        24\n",
      "         889      0.000     0.000     0.000         1\n",
      "         890      0.000     0.000     0.000         2\n",
      "         891      0.406     0.807     0.540       166\n",
      "         892      0.167     0.111     0.133         9\n",
      "         893      0.135     0.488     0.211        43\n",
      "         894      0.396     0.679     0.500        78\n",
      "         895      0.000     0.000     0.000         0\n",
      "         896      0.000     0.000     0.000         1\n",
      "         897      0.667     0.800     0.727        10\n",
      "         898      0.000     0.000     0.000         0\n",
      "         899      0.000     0.000     0.000         4\n",
      "         900      0.000     0.000     0.000         4\n",
      "         901      0.291     0.533     0.376       107\n",
      "         902      0.000     0.000     0.000         5\n",
      "         903      0.000     0.000     0.000         2\n",
      "         904      0.250     0.167     0.200         6\n",
      "         905      0.000     0.000     0.000         0\n",
      "         906      0.000     0.000     0.000         1\n",
      "         907      0.000     0.000     0.000         0\n",
      "         908      0.000     0.000     0.000         4\n",
      "         909      0.384     0.647     0.482        51\n",
      "         910      0.167     0.333     0.222         3\n",
      "         911      0.253     0.623     0.360        69\n",
      "         912      0.194     0.583     0.292        12\n",
      "         913      0.199     0.740     0.314        50\n",
      "         914      0.000     0.000     0.000         1\n",
      "         915      0.000     0.000     0.000         0\n",
      "         916      0.189     0.714     0.299        56\n",
      "         917      0.000     0.000     0.000         7\n",
      "         918      0.600     0.391     0.474        23\n",
      "         919      0.207     0.607     0.309       680\n",
      "         920      0.192     0.580     0.288       983\n",
      "         921      0.000     0.000     0.000         2\n",
      "         922      0.000     0.000     0.000         0\n",
      "         923      0.278     0.598     0.380       112\n",
      "         924      0.322     0.682     0.438      1060\n",
      "         925      0.708     0.708     0.708        24\n",
      "         926      0.000     0.000     0.000         4\n",
      "         927      0.200     0.111     0.143         9\n",
      "         928      1.000     0.500     0.667         4\n",
      "         929      0.238     0.238     0.238        21\n",
      "         930      0.402     0.682     0.506       554\n",
      "         931      0.253     0.623     0.360        69\n",
      "         932      0.450     0.643     0.529        14\n",
      "         933      0.000     0.000     0.000         1\n",
      "         934      0.167     0.429     0.240         7\n",
      "         935      0.000     0.000     0.000         0\n",
      "         936      0.000     0.000     0.000         3\n",
      "         937      0.256     0.586     0.357        70\n",
      "         938      0.214     0.500     0.300        12\n",
      "         939      0.071     0.500     0.125         2\n",
      "         940      0.000     0.000     0.000         1\n",
      "         941      0.325     0.765     0.456        17\n",
      "         942      0.457     0.750     0.568        28\n",
      "         943      0.250     0.381     0.302        21\n",
      "         944      0.167     0.200     0.182         5\n",
      "         945      0.297     0.807     0.434       301\n",
      "         946      0.000     0.000     0.000         8\n",
      "         947      0.244     0.836     0.378        61\n",
      "         948      0.254     0.405     0.312        37\n",
      "         949      0.214     0.450     0.290        20\n",
      "         950      0.000     0.000     0.000         1\n",
      "         951      0.228     0.525     0.318        40\n",
      "         952      0.172     0.418     0.244        79\n",
      "         953      0.615     0.364     0.457        22\n",
      "         954      0.000     0.000     0.000         3\n",
      "         955      0.667     0.667     0.667         3\n",
      "         956      0.000     0.000     0.000         1\n",
      "         957      0.250     0.125     0.167         8\n",
      "         958      0.333     0.462     0.387        13\n",
      "         959      0.235     0.364     0.286        11\n",
      "         960      0.169     0.549     0.259      1090\n",
      "         961      0.227     0.667     0.339      1273\n",
      "         962      0.000     0.000     0.000         1\n",
      "         963      0.156     0.478     0.235        46\n",
      "         964      1.000     0.250     0.400         4\n",
      "         965      0.183     0.526     0.271        76\n",
      "         966      0.293     0.727     0.418       183\n",
      "         967      0.135     0.391     0.201        92\n",
      "         968      0.382     0.758     0.508       149\n",
      "         969      0.000     0.000     0.000         2\n",
      "         970      0.000     0.000     0.000         0\n",
      "\n",
      "   micro avg      0.378     0.723     0.496    160477\n",
      "   macro avg      0.267     0.378     0.280    160477\n",
      "weighted avg      0.466     0.723     0.546    160477\n",
      " samples avg      0.424     0.757     0.502    160477\n",
      "\n"
     ]
    }
   ],
   "source": [
    "clf = OneVsRestClassifier(LogisticRegression(class_weight='balanced', random_state=42))\n",
    "pipeline = create_pipe(clf)\n",
    "\n",
    "pipeline.fit(X_train, y_train)\n",
    "y_pred = pipeline.predict(X_test)\n",
    "score = metrics.f1_score(y_test, y_pred, average='macro')\n",
    "\n",
    "report = metrics.classification_report(y_test, y_pred, digits=3, output_dict=True)"
   ]
  },
  {
   "cell_type": "markdown",
   "id": "177dc4e1",
   "metadata": {},
   "source": [
    "**Observations**:\n",
    "\n",
    " - "
   ]
  },
  {
   "cell_type": "code",
   "execution_count": 75,
   "id": "d5b3800d",
   "metadata": {},
   "outputs": [],
   "source": [
    "# Retreive the text lables from the MultiLabelBinarizer\n",
    "pred_labels = mlb.inverse_transform(y_pred)\n",
    "\n",
    "# Append them to the DataFrame\n",
    "X_test['Predicted Labels'] = pred_labels"
   ]
  },
  {
   "cell_type": "code",
   "execution_count": 76,
   "id": "724f9910",
   "metadata": {},
   "outputs": [
    {
     "data": {
      "text/html": [
       "<div>\n",
       "<style scoped>\n",
       "    .dataframe tbody tr th:only-of-type {\n",
       "        vertical-align: middle;\n",
       "    }\n",
       "\n",
       "    .dataframe tbody tr th {\n",
       "        vertical-align: top;\n",
       "    }\n",
       "\n",
       "    .dataframe thead th {\n",
       "        text-align: right;\n",
       "    }\n",
       "</style>\n",
       "<table border=\"1\" class=\"dataframe\">\n",
       "  <thead>\n",
       "    <tr style=\"text-align: right;\">\n",
       "      <th></th>\n",
       "      <th>text</th>\n",
       "      <th>categories</th>\n",
       "      <th>Predicted Labels</th>\n",
       "    </tr>\n",
       "  </thead>\n",
       "  <tbody>\n",
       "    <tr>\n",
       "      <th>7865</th>\n",
       "      <td>Dr. Cheng Dental office was one of the best dentist place I've been too! Keep in mind I haven't been to the dentist since I was a child. I was afraid about the doctor telling me how bad my teeth were. But the dental exams were very affordable especially for people without insurance like myself and the staff there was very kind, nice and gentle with my teeth which made my check up less frighting. The people that were working there were all polite to me especially when delivering the bad news of how many cavities I had and how much it would cost to fix each one. Overall I would recommend Dr. Cheng to anyone looking for affordable dental care. They certainly made my experience of dental work less frighting and I would highly recommend them to any friends and family looking for dental care, and another bonus is the variety of languages that the staff offers from English, Spanish, Vietnamese, etc. I look forward to my next appointment with Dr. Cheng!</td>\n",
       "      <td>[OralSurgeons, Dentists, CosmeticDentists, Health&amp;Medical, Endodontists, PediatricDentists, GeneralDentistry]</td>\n",
       "      <td>(CosmeticDentists, DentalHygienists, Dentists, Doctors, Endodontists, Fitness&amp;Instruction, GeneralDentistry, Health&amp;Medical, MedicalCenters, OralSurgeons, Orthodontists, PediatricDentists, Pediatricians, Periodontists, Prosthodontists, Trainers)</td>\n",
       "    </tr>\n",
       "    <tr>\n",
       "      <th>41152</th>\n",
       "      <td>I am not really used to being pampered, getting my nails done and such, but my friend and I needed it. We went here on a whim, because we wanted to relax. The place was beautiful, the music relaxing, scenic pics on the HDTV. The ladies that work there were nice, they could not speak English, so it was hard to understand them, but they work hard, were gentle, and knew what they were doing. We chose the shellac style of getting our nails done, and it was very fair priced too.</td>\n",
       "      <td>[Beauty&amp;Spas, HairRemoval, NailSalons]</td>\n",
       "      <td>(Beauty&amp;Spas, DaySpas, EyelashService, HairRemoval, HairSalons, Health&amp;Medical, Massage, NailSalons, SkinCare, Waxing)</td>\n",
       "    </tr>\n",
       "    <tr>\n",
       "      <th>74199</th>\n",
       "      <td>So, I came in with a really annoying drunk person, had 1/3rd of a beer then had to leave.  The bartender was really cool about the whole thing...entertained him for 30 mins.  So, I made a promise to come back at another time.\\n\\nAbout a month later, i came in with my growler, and really got a chance to look at the bottle selection.\\n\\nIf you're a fan of the Hop Wars that have been going on in PDX, you're probably going to want to visit NWIPA.  They focus directly on the hoppiest beers possible...including a great selection of Imperials.  A few beers on tap, and they'll fill your growler for a reasonable price.\\n\\nTheir menu is limited...but very eclectic...meatball sandwich, oysters, ice cream.\\n\\nI've since been back, and have had the sandwich...pretty delicious!</td>\n",
       "      <td>[Bars, BeerGardens, Nightlife]</td>\n",
       "      <td>(American(New), American(Traditional), Bars, Beer, BeerBar, BeerGardens, Breweries, Canadian(New), Food, Gastropubs, Italian, Nightlife, Pubs, Sandwiches, Wine&amp;Spirits)</td>\n",
       "    </tr>\n",
       "    <tr>\n",
       "      <th>93178</th>\n",
       "      <td>This is a review for the State Auto Inspection Sticker service (I've never purchased gas here or had any work done on the car).\\nThe service was excellent. As good as it could be. There's a sign where you pull up and wait, it says \"Inspection: Pull up here and wait, have your registration and $35 cash in hand, exact change\" . I waited there for about 30 seconds and a dude came up to the car and checked the lights. Then I stepped out of the car and he took it from there. 10 minutes later I was on my way. He was very friendly.</td>\n",
       "      <td>[AutoRepair, GasStations, Tires, Automotive]</td>\n",
       "      <td>(AutoDetailing, AutoParts&amp;Supplies, AutoRepair, Automotive, BodyShops, CarDealers, CarInspectors, CarWash, GasStations, OilChangeStations, SmogCheckStations, Tires, Towing, UsedCarDealers)</td>\n",
       "    </tr>\n",
       "    <tr>\n",
       "      <th>78168</th>\n",
       "      <td>Jodi is an extremely knowledgeable expert in the lending industry. She exercises great care and diligence throughout the process and is an excellent problem solver. I know when I refer her to my clients that they are working with the best!</td>\n",
       "      <td>[Banks&amp;CreditUnions, FinancialServices, MortgageBrokers, RealEstate, RealEstateServices, HomeServices]</td>\n",
       "      <td>(Health&amp;Medical, HomeServices, LocalServices)</td>\n",
       "    </tr>\n",
       "    <tr>\n",
       "      <th>75728</th>\n",
       "      <td>I'm a coffee shop bum who has tried nearly every joint in the Boston area, and Render is my favorite one!  The coffee is of a deliciously creamy texture without being diluted of the coffee. I love their lattes, pour overs, iced coffee... the list can go on. I have never walked out of Render unsatisfied! I think this coffee shop is what most would consider \"pricey\" (though I personally find it to be average priced for Boston), but it's fantastic and should not hold you back from ordering a not-even-the-slightest-bit-average cup of joe.\\n\\nIf you're not one for coffee, they have diet and regular Coke, some bottled drinks, tea, hot chocolate, and a couple of others I can't remember off the top of my head.\\n\\nAs for food, I've only shared a grilled cheese and cookie with a friend, but those were delish. They have a solid selection of sandwiches, quiche, bagels, and wraps, on top of some cookies and muffins. \\n\\nThe coffee shop itself is rather small, so you may have to wait to grab a seat, but it's cozy and cute. What I especially love is the fact that there's outdoor and indoor seating options, and the WiFi is surprisingly fast! Yes folks, the internet is as good as the coffee - we got the best of both worlds here! There's plenty of outlets... they even have an extension cord with a surge protector that extends outdoors, WOW. Can we give Render a giant round of applause? Another thing that makes me love Render is that you don't need a key to go to the bathroom. I got an overactive bladder, it's tough to keep asking someone to watch my stuff or pack up every time I gotta go. I've accidentally opened the door on two dudes in the bathroom before (sorry if that was you man!), so be warned though! \\n\\nSadly, Render is in Back Bay, around an area that doesn't have too many shops or things to do in general besides eat and drink. I always have to go out of my way to come here, but I assure you, it's worth it.\\n\\nTake note of the hours - the shop doesn't close late. Also, add your number when you checkout because there are rewards! I actually got a bunch over time, saved me a solid amount of money consider how often I swing by.</td>\n",
       "      <td>[Food, Restaurants, Coffee&amp;Tea, Cafes]</td>\n",
       "      <td>(Bagels, Bakeries, Breakfast&amp;Brunch, Cafes, Coffee&amp;Tea, CoffeeRoasteries, Food, Restaurants, Sandwiches)</td>\n",
       "    </tr>\n",
       "    <tr>\n",
       "      <th>57937</th>\n",
       "      <td>It's a cool place to stop into after shopping around Cascades Station, or flying into PDX Airport.\\n\\nThere are TVs but I don't find it as loud as Buffalo Wild Wings, so you can carry a conversation with friends, (not shout to hear each other). \\n\\nThe burgers are fine, the fries I find will fill the belly quick, so I usually get the onion rings, (unless I just want fries). Love the Mint Brownie shake.</td>\n",
       "      <td>[American(Traditional), Restaurants, Nightlife, Bars, Burgers]</td>\n",
       "      <td>(American(New), American(Traditional), Bars, BeerBar, Burgers, ChickenWings, FastFood, HotDogs, Nightlife, Pubs, Restaurants, SpecialtyFood, SportsBars)</td>\n",
       "    </tr>\n",
       "    <tr>\n",
       "      <th>60266</th>\n",
       "      <td>I went here last week for a team lunch.  I had the \"Dazed and Confused\" pizza just because I wanted to try something different.  It's not on their regular menu, but it came with goat cheese, pecans, red onions, roasted brussel sprouts, dates and some other stuff.  \\n\\nDates and brussel sprouts on a pizza doesn't sound great, but it worked and was delicious.  I'll definitely be coming here again.</td>\n",
       "      <td>[Restaurants, Gastropubs, American(New), American(Traditional), Pizza]</td>\n",
       "      <td>(American(New), American(Traditional), Cafes, Caribbean, French, Gastropubs, Gluten-Free, Italian, Pizza, Restaurants, Salad)</td>\n",
       "    </tr>\n",
       "    <tr>\n",
       "      <th>89844</th>\n",
       "      <td>Very tasty.big Kebap. Next time I'll try the beef and lamb but e chicken is really good!</td>\n",
       "      <td>[Salad, Vegetarian, Restaurants, Sandwiches, Mediterranean, German]</td>\n",
       "      <td>(Chinese, Greek, Halal, HookahBars, Kebab, Mediterranean, MiddleEastern, Noodles, Restaurants, Salad, Sandwiches, Turkish, Vegetarian)</td>\n",
       "    </tr>\n",
       "    <tr>\n",
       "      <th>90125</th>\n",
       "      <td>Sincerely baffled by the immaturity.  \\nIf you decide to use Dendra Doors, do not pay for the services in advance.  Scott Ankerson seemed like a trustworthy guy, but after we sent the bank transfer, he missed the shipping deadline, (leading to a total of $500 in return visit fees from the installer) and stopped answering phone calls, texts, and emails for a month.  \\nTerrified that we had been scammed, my wife and I called and texted every day until he finally shipped them.  But when they arrived, they were the wrong doors!  I couldn't believe it.  So we called and texted every day for three more weeks.  Eventually, he made excuses about how his shipping department messed up and it wasn't his fault, but promised to remake the doors and offered us a sizeable refund in addition to paying the installer fees.  \\nAfter 9 weeks without a kitchen, he finally sent us the doors but has been trying to back out of the refund ever since.  \\nIt's not just that he took forever to make the doors, he cost us extra money and tried to avoid us for almost two months!  I can't believe this!</td>\n",
       "      <td>[HomeServices, Cabinetry, DoorSales/Installation]</td>\n",
       "      <td>(Home&amp;Garden, HomeServices, LocalServices, Shopping)</td>\n",
       "    </tr>\n",
       "  </tbody>\n",
       "</table>\n",
       "</div>"
      ],
      "text/plain": [
       "                                                                                                                                                                                                                                                                                                                                                                                                                                                                                                                                                                                                                                                                                                                                                                                                                                                                                                                                                                                                                                                                                                                                                                                                                                                                                                                                                                                                                                                                                                                                                                                                                                                                                                                                                                                                                                                                                                                                                                                                                                                                                                                                                                                                                                            text  \\\n",
       "7865   Dr. Cheng Dental office was one of the best dentist place I've been too! Keep in mind I haven't been to the dentist since I was a child. I was afraid about the doctor telling me how bad my teeth were. But the dental exams were very affordable especially for people without insurance like myself and the staff there was very kind, nice and gentle with my teeth which made my check up less frighting. The people that were working there were all polite to me especially when delivering the bad news of how many cavities I had and how much it would cost to fix each one. Overall I would recommend Dr. Cheng to anyone looking for affordable dental care. They certainly made my experience of dental work less frighting and I would highly recommend them to any friends and family looking for dental care, and another bonus is the variety of languages that the staff offers from English, Spanish, Vietnamese, etc. I look forward to my next appointment with Dr. Cheng!                                                                                                                                                                                                                                                                                                                                                                                                                                                                                                                                                                                                                                                                                                                                                                                                                                                                                                                                                                                                                                                                                                                                                                                                                                             \n",
       "41152  I am not really used to being pampered, getting my nails done and such, but my friend and I needed it. We went here on a whim, because we wanted to relax. The place was beautiful, the music relaxing, scenic pics on the HDTV. The ladies that work there were nice, they could not speak English, so it was hard to understand them, but they work hard, were gentle, and knew what they were doing. We chose the shellac style of getting our nails done, and it was very fair priced too.                                                                                                                                                                                                                                                                                                                                                                                                                                                                                                                                                                                                                                                                                                                                                                                                                                                                                                                                                                                                                                                                                                                                                                                                                                                                                                                                                                                                                                                                                                                                                                                                                                                                                                                                              \n",
       "74199  So, I came in with a really annoying drunk person, had 1/3rd of a beer then had to leave.  The bartender was really cool about the whole thing...entertained him for 30 mins.  So, I made a promise to come back at another time.\\n\\nAbout a month later, i came in with my growler, and really got a chance to look at the bottle selection.\\n\\nIf you're a fan of the Hop Wars that have been going on in PDX, you're probably going to want to visit NWIPA.  They focus directly on the hoppiest beers possible...including a great selection of Imperials.  A few beers on tap, and they'll fill your growler for a reasonable price.\\n\\nTheir menu is limited...but very eclectic...meatball sandwich, oysters, ice cream.\\n\\nI've since been back, and have had the sandwich...pretty delicious!                                                                                                                                                                                                                                                                                                                                                                                                                                                                                                                                                                                                                                                                                                                                                                                                                                                                                                                                                                                                                                                                                                                                                                                                                                                                                                                                                                                                                                      \n",
       "93178  This is a review for the State Auto Inspection Sticker service (I've never purchased gas here or had any work done on the car).\\nThe service was excellent. As good as it could be. There's a sign where you pull up and wait, it says \"Inspection: Pull up here and wait, have your registration and $35 cash in hand, exact change\" . I waited there for about 30 seconds and a dude came up to the car and checked the lights. Then I stepped out of the car and he took it from there. 10 minutes later I was on my way. He was very friendly.                                                                                                                                                                                                                                                                                                                                                                                                                                                                                                                                                                                                                                                                                                                                                                                                                                                                                                                                                                                                                                                                                                                                                                                                                                                                                                                                                                                                                                                                                                                                                                                                                                                                                          \n",
       "78168  Jodi is an extremely knowledgeable expert in the lending industry. She exercises great care and diligence throughout the process and is an excellent problem solver. I know when I refer her to my clients that they are working with the best!                                                                                                                                                                                                                                                                                                                                                                                                                                                                                                                                                                                                                                                                                                                                                                                                                                                                                                                                                                                                                                                                                                                                                                                                                                                                                                                                                                                                                                                                                                                                                                                                                                                                                                                                                                                                                                                                                                                                                                                             \n",
       "75728  I'm a coffee shop bum who has tried nearly every joint in the Boston area, and Render is my favorite one!  The coffee is of a deliciously creamy texture without being diluted of the coffee. I love their lattes, pour overs, iced coffee... the list can go on. I have never walked out of Render unsatisfied! I think this coffee shop is what most would consider \"pricey\" (though I personally find it to be average priced for Boston), but it's fantastic and should not hold you back from ordering a not-even-the-slightest-bit-average cup of joe.\\n\\nIf you're not one for coffee, they have diet and regular Coke, some bottled drinks, tea, hot chocolate, and a couple of others I can't remember off the top of my head.\\n\\nAs for food, I've only shared a grilled cheese and cookie with a friend, but those were delish. They have a solid selection of sandwiches, quiche, bagels, and wraps, on top of some cookies and muffins. \\n\\nThe coffee shop itself is rather small, so you may have to wait to grab a seat, but it's cozy and cute. What I especially love is the fact that there's outdoor and indoor seating options, and the WiFi is surprisingly fast! Yes folks, the internet is as good as the coffee - we got the best of both worlds here! There's plenty of outlets... they even have an extension cord with a surge protector that extends outdoors, WOW. Can we give Render a giant round of applause? Another thing that makes me love Render is that you don't need a key to go to the bathroom. I got an overactive bladder, it's tough to keep asking someone to watch my stuff or pack up every time I gotta go. I've accidentally opened the door on two dudes in the bathroom before (sorry if that was you man!), so be warned though! \\n\\nSadly, Render is in Back Bay, around an area that doesn't have too many shops or things to do in general besides eat and drink. I always have to go out of my way to come here, but I assure you, it's worth it.\\n\\nTake note of the hours - the shop doesn't close late. Also, add your number when you checkout because there are rewards! I actually got a bunch over time, saved me a solid amount of money consider how often I swing by.   \n",
       "57937  It's a cool place to stop into after shopping around Cascades Station, or flying into PDX Airport.\\n\\nThere are TVs but I don't find it as loud as Buffalo Wild Wings, so you can carry a conversation with friends, (not shout to hear each other). \\n\\nThe burgers are fine, the fries I find will fill the belly quick, so I usually get the onion rings, (unless I just want fries). Love the Mint Brownie shake.                                                                                                                                                                                                                                                                                                                                                                                                                                                                                                                                                                                                                                                                                                                                                                                                                                                                                                                                                                                                                                                                                                                                                                                                                                                                                                                                                                                                                                                                                                                                                                                                                                                                                                                                                                                                                       \n",
       "60266  I went here last week for a team lunch.  I had the \"Dazed and Confused\" pizza just because I wanted to try something different.  It's not on their regular menu, but it came with goat cheese, pecans, red onions, roasted brussel sprouts, dates and some other stuff.  \\n\\nDates and brussel sprouts on a pizza doesn't sound great, but it worked and was delicious.  I'll definitely be coming here again.                                                                                                                                                                                                                                                                                                                                                                                                                                                                                                                                                                                                                                                                                                                                                                                                                                                                                                                                                                                                                                                                                                                                                                                                                                                                                                                                                                                                                                                                                                                                                                                                                                                                                                                                                                                                                              \n",
       "89844  Very tasty.big Kebap. Next time I'll try the beef and lamb but e chicken is really good!                                                                                                                                                                                                                                                                                                                                                                                                                                                                                                                                                                                                                                                                                                                                                                                                                                                                                                                                                                                                                                                                                                                                                                                                                                                                                                                                                                                                                                                                                                                                                                                                                                                                                                                                                                                                                                                                                                                                                                                                                                                                                                                                                    \n",
       "90125  Sincerely baffled by the immaturity.  \\nIf you decide to use Dendra Doors, do not pay for the services in advance.  Scott Ankerson seemed like a trustworthy guy, but after we sent the bank transfer, he missed the shipping deadline, (leading to a total of $500 in return visit fees from the installer) and stopped answering phone calls, texts, and emails for a month.  \\nTerrified that we had been scammed, my wife and I called and texted every day until he finally shipped them.  But when they arrived, they were the wrong doors!  I couldn't believe it.  So we called and texted every day for three more weeks.  Eventually, he made excuses about how his shipping department messed up and it wasn't his fault, but promised to remake the doors and offered us a sizeable refund in addition to paying the installer fees.  \\nAfter 9 weeks without a kitchen, he finally sent us the doors but has been trying to back out of the refund ever since.  \\nIt's not just that he took forever to make the doors, he cost us extra money and tried to avoid us for almost two months!  I can't believe this!                                                                                                                                                                                                                                                                                                                                                                                                                                                                                                                                                                                                                                                                                                                                                                                                                                                                                                                                                                                                                                                                                                             \n",
       "\n",
       "                                                                                                          categories  \\\n",
       "7865   [OralSurgeons, Dentists, CosmeticDentists, Health&Medical, Endodontists, PediatricDentists, GeneralDentistry]   \n",
       "41152  [Beauty&Spas, HairRemoval, NailSalons]                                                                          \n",
       "74199  [Bars, BeerGardens, Nightlife]                                                                                  \n",
       "93178  [AutoRepair, GasStations, Tires, Automotive]                                                                    \n",
       "78168  [Banks&CreditUnions, FinancialServices, MortgageBrokers, RealEstate, RealEstateServices, HomeServices]          \n",
       "75728  [Food, Restaurants, Coffee&Tea, Cafes]                                                                          \n",
       "57937  [American(Traditional), Restaurants, Nightlife, Bars, Burgers]                                                  \n",
       "60266  [Restaurants, Gastropubs, American(New), American(Traditional), Pizza]                                          \n",
       "89844  [Salad, Vegetarian, Restaurants, Sandwiches, Mediterranean, German]                                             \n",
       "90125  [HomeServices, Cabinetry, DoorSales/Installation]                                                               \n",
       "\n",
       "                                                                                                                                                                                                                                            Predicted Labels  \n",
       "7865   (CosmeticDentists, DentalHygienists, Dentists, Doctors, Endodontists, Fitness&Instruction, GeneralDentistry, Health&Medical, MedicalCenters, OralSurgeons, Orthodontists, PediatricDentists, Pediatricians, Periodontists, Prosthodontists, Trainers)  \n",
       "41152  (Beauty&Spas, DaySpas, EyelashService, HairRemoval, HairSalons, Health&Medical, Massage, NailSalons, SkinCare, Waxing)                                                                                                                                 \n",
       "74199  (American(New), American(Traditional), Bars, Beer, BeerBar, BeerGardens, Breweries, Canadian(New), Food, Gastropubs, Italian, Nightlife, Pubs, Sandwiches, Wine&Spirits)                                                                               \n",
       "93178  (AutoDetailing, AutoParts&Supplies, AutoRepair, Automotive, BodyShops, CarDealers, CarInspectors, CarWash, GasStations, OilChangeStations, SmogCheckStations, Tires, Towing, UsedCarDealers)                                                           \n",
       "78168  (Health&Medical, HomeServices, LocalServices)                                                                                                                                                                                                          \n",
       "75728  (Bagels, Bakeries, Breakfast&Brunch, Cafes, Coffee&Tea, CoffeeRoasteries, Food, Restaurants, Sandwiches)                                                                                                                                               \n",
       "57937  (American(New), American(Traditional), Bars, BeerBar, Burgers, ChickenWings, FastFood, HotDogs, Nightlife, Pubs, Restaurants, SpecialtyFood, SportsBars)                                                                                               \n",
       "60266  (American(New), American(Traditional), Cafes, Caribbean, French, Gastropubs, Gluten-Free, Italian, Pizza, Restaurants, Salad)                                                                                                                          \n",
       "89844  (Chinese, Greek, Halal, HookahBars, Kebab, Mediterranean, MiddleEastern, Noodles, Restaurants, Salad, Sandwiches, Turkish, Vegetarian)                                                                                                                 \n",
       "90125  (Home&Garden, HomeServices, LocalServices, Shopping)                                                                                                                                                                                                   "
      ]
     },
     "execution_count": 76,
     "metadata": {},
     "output_type": "execute_result"
    }
   ],
   "source": [
    "# Display a random sample of them\n",
    "pd.set_option('display.max_colwidth', -1)\n",
    "X_test.sample(10, random_state=60)"
   ]
  },
  {
   "cell_type": "markdown",
   "id": "8c010968",
   "metadata": {},
   "source": [
    "## Neural Network for Sentiment Classification\n",
    "\n",
    "Next, we'll attempt to build a new classifier based on a Neural Network. \n",
    "\n",
    "\n",
    "![Neural Network](https://raw.githubusercontent.com/broepke/DATA110/main/Final%20Project/NN.png)"
   ]
  },
  {
   "cell_type": "code",
   "execution_count": 77,
   "id": "9232e6dc",
   "metadata": {},
   "outputs": [],
   "source": [
    "X = df['text_clean']\n",
    "y = df['target']"
   ]
  },
  {
   "cell_type": "code",
   "execution_count": 78,
   "id": "bc851cdf",
   "metadata": {},
   "outputs": [
    {
     "name": "stdout",
     "output_type": "stream",
     "text": [
      "(90649,)\n",
      "(90649,)\n"
     ]
    }
   ],
   "source": [
    "print(X.shape)\n",
    "print(y.shape)"
   ]
  },
  {
   "cell_type": "code",
   "execution_count": 79,
   "id": "4ee4d1f4",
   "metadata": {},
   "outputs": [],
   "source": [
    "# Make training and test sets \n",
    "X_train, X_test, y_train, y_test = train_test_split(X, y, test_size=0.3, random_state=53)"
   ]
  },
  {
   "cell_type": "code",
   "execution_count": 80,
   "id": "ef5d5a1e",
   "metadata": {},
   "outputs": [
    {
     "name": "stdout",
     "output_type": "stream",
     "text": [
      "(63454,)\n",
      "(63454,)\n"
     ]
    }
   ],
   "source": [
    "print(y_train.shape)\n",
    "print(X_train.shape)"
   ]
  },
  {
   "cell_type": "code",
   "execution_count": 81,
   "id": "a7af7ac3",
   "metadata": {},
   "outputs": [],
   "source": [
    "X_train = X_train.to_numpy(copy=True)\n",
    "y_train = y_train.to_numpy(copy=True)"
   ]
  },
  {
   "cell_type": "code",
   "execution_count": 82,
   "id": "9fd7f489",
   "metadata": {},
   "outputs": [],
   "source": [
    "vectorize_layer = TextVectorization()\n",
    "vectorize_layer.adapt(X_train)"
   ]
  },
  {
   "cell_type": "code",
   "execution_count": 83,
   "id": "21380f3c",
   "metadata": {
    "id": "SCIg_T50wOCU"
   },
   "outputs": [],
   "source": [
    "def vectorize_text(text, label):\n",
    "  text = tf.expand_dims(text, -1)\n",
    "  return vectorize_layer(text), label"
   ]
  },
  {
   "cell_type": "code",
   "execution_count": 84,
   "id": "d7f7a69f",
   "metadata": {
    "id": "XULcm6B3xQIO"
   },
   "outputs": [
    {
     "name": "stdout",
     "output_type": "stream",
     "text": [
      "Review: run life owner either drug need sister offered watch kid send get nail done jumped chance came across place walk there owner gail yelling cell phone strike  tell pick color shell minute answer phone behind desk yell phone several minute getting back strike  isnt anyone else answer phone wanted leave really wanted get nail painted limited time stayed woman proceeded talk every problem shed ever life mostly girl worked  year said stealing client care wanted quiet hour relaxation wanted listen yelling hour would stayed home kid free wonder staff client sight left stressed went le pocket amazes people like even stay business take go somewhere else \n",
      "Label: 0\n",
      "Vectorized Review: (<tf.Tensor: shape=(1, 106), dtype=int64, numpy=\n",
      "array([[  456,   435,   265,   357,  3621,   114,  1086,   502,   625,\n",
      "          276,  1397,     9,   471,   188,  4474,   712,    36,   534,\n",
      "            3,   312,   288,   265, 15878,  3017,  3037,   403,  2952,\n",
      "          264,   428,   660,  1470,    68,  1089,   403,   570,   723,\n",
      "         3608,   403,   306,    68,   198,    11,  2952,   340,   401,\n",
      "          211,  1089,   403,   149,   394,    14,   149,     9,   471,\n",
      "         2967,   833,     6,   839,   579,  1828,   635,   108,   327,\n",
      "         2353,    79,   435,   857,   426,   633,    91,    78,  7053,\n",
      "         1297,   234,   149,   893,    72,  4939,   149,  1705,  3017,\n",
      "           72,    13,   839,   151,   276,   182,  1479,    29,  1297,\n",
      "         2585,   177,  4326,    40,   260,  2487, 11185,    49,     7,\n",
      "           24,   372,   253,    67,    12,   865,   211]])>, 0)\n"
     ]
    }
   ],
   "source": [
    "first_review = X_train[0]\n",
    "first_label = y_train[0]\n",
    "print(\"Review:\", first_review)\n",
    "print(\"Label:\", y_train[0])\n",
    "print(\"Vectorized Review:\", vectorize_text(first_review, first_label))"
   ]
  },
  {
   "cell_type": "code",
   "execution_count": 85,
   "id": "893116f4",
   "metadata": {},
   "outputs": [
    {
     "name": "stdout",
     "output_type": "stream",
     "text": [
      "1287 --->  client\n",
      " 313 --->  yelling\n",
      "Vocabulary size: 74086\n"
     ]
    }
   ],
   "source": [
    "print(\"1287 ---> \",vectorize_layer.get_vocabulary()[1297])\n",
    "print(\" 313 ---> \",vectorize_layer.get_vocabulary()[3017])\n",
    "print('Vocabulary size: {}'.format(len(vectorize_layer.get_vocabulary())))"
   ]
  },
  {
   "cell_type": "code",
   "execution_count": 86,
   "id": "a709716e",
   "metadata": {},
   "outputs": [],
   "source": [
    "X_tr, y_tr = vectorize_text(X_train, y_train)\n",
    "X_te, y_te = vectorize_text(X_test, y_test)"
   ]
  },
  {
   "cell_type": "code",
   "execution_count": 87,
   "id": "e0d71697",
   "metadata": {},
   "outputs": [],
   "source": [
    "# Get the length of the vocabulary to understand the input feature boundary.\n",
    "max_features = len(vectorize_layer.get_vocabulary())"
   ]
  },
  {
   "cell_type": "markdown",
   "id": "c827c62d",
   "metadata": {
    "id": "LLC02j2g-llC"
   },
   "source": [
    "### Create the model\n",
    "\n",
    "It's time to create our neural network:"
   ]
  },
  {
   "cell_type": "code",
   "execution_count": 88,
   "id": "d6cd17fe",
   "metadata": {
    "id": "dkQP6in8yUBR"
   },
   "outputs": [],
   "source": [
    "embedding_dim = 16"
   ]
  },
  {
   "cell_type": "code",
   "execution_count": 89,
   "id": "39fb4ea6",
   "metadata": {
    "id": "xpKOoWgu-llD"
   },
   "outputs": [
    {
     "name": "stdout",
     "output_type": "stream",
     "text": [
      "Model: \"sequential\"\n",
      "_________________________________________________________________\n",
      "Layer (type)                 Output Shape              Param #   \n",
      "=================================================================\n",
      "embedding (Embedding)        (None, None, 16)          1185392   \n",
      "_________________________________________________________________\n",
      "dropout (Dropout)            (None, None, 16)          0         \n",
      "_________________________________________________________________\n",
      "global_average_pooling1d (Gl (None, 16)                0         \n",
      "_________________________________________________________________\n",
      "dropout_1 (Dropout)          (None, 16)                0         \n",
      "_________________________________________________________________\n",
      "dense (Dense)                (None, 1)                 17        \n",
      "=================================================================\n",
      "Total params: 1,185,409\n",
      "Trainable params: 1,185,409\n",
      "Non-trainable params: 0\n",
      "_________________________________________________________________\n"
     ]
    }
   ],
   "source": [
    "model = tf.keras.Sequential([\n",
    "  layers.Embedding(max_features + 1, embedding_dim),\n",
    "  layers.Dropout(0.2),\n",
    "  layers.GlobalAveragePooling1D(),\n",
    "  layers.Dropout(0.2),\n",
    "  layers.Dense(1)])\n",
    "\n",
    "model.summary()"
   ]
  },
  {
   "cell_type": "code",
   "execution_count": 90,
   "id": "26c59d1d",
   "metadata": {
    "id": "Mr0GP-cQ-llN"
   },
   "outputs": [],
   "source": [
    "model.compile(loss=losses.BinaryCrossentropy(from_logits=True),\n",
    "              optimizer='adam',\n",
    "              metrics=tf.metrics.BinaryAccuracy(threshold=0.0))"
   ]
  },
  {
   "cell_type": "markdown",
   "id": "351d4eb6",
   "metadata": {
    "id": "35jv_fzP-llU"
   },
   "source": [
    "### Train the model\n",
    "\n",
    "You will train the model by passing the `dataset` object to the fit method."
   ]
  },
  {
   "cell_type": "code",
   "execution_count": 91,
   "id": "64665ca4",
   "metadata": {
    "id": "tXSGrjWZ-llW"
   },
   "outputs": [
    {
     "name": "stdout",
     "output_type": "stream",
     "text": [
      "Epoch 1/30\n",
      "1983/1983 [==============================] - 7s 3ms/step - loss: 0.6810 - binary_accuracy: 0.5706\n",
      "Epoch 2/30\n",
      "1983/1983 [==============================] - 7s 3ms/step - loss: 0.6590 - binary_accuracy: 0.6040\n",
      "Epoch 3/30\n",
      "1983/1983 [==============================] - 6s 3ms/step - loss: 0.6272 - binary_accuracy: 0.6551\n",
      "Epoch 4/30\n",
      "1983/1983 [==============================] - 6s 3ms/step - loss: 0.6022 - binary_accuracy: 0.6855A: 0s - loss: 0.6029 - bina\n",
      "Epoch 5/30\n",
      "1983/1983 [==============================] - 6s 3ms/step - loss: 0.5819 - binary_accuracy: 0.7046\n",
      "Epoch 6/30\n",
      "1983/1983 [==============================] - 6s 3ms/step - loss: 0.5700 - binary_accuracy: 0.7123\n",
      "Epoch 7/30\n",
      "1983/1983 [==============================] - 7s 4ms/step - loss: 0.5565 - binary_accuracy: 0.7225\n",
      "Epoch 8/30\n",
      "1983/1983 [==============================] - 7s 4ms/step - loss: 0.5459 - binary_accuracy: 0.7283\n",
      "Epoch 9/30\n",
      "1983/1983 [==============================] - 7s 3ms/step - loss: 0.5418 - binary_accuracy: 0.7309\n",
      "Epoch 10/30\n",
      "1983/1983 [==============================] - 7s 3ms/step - loss: 0.5307 - binary_accuracy: 0.7388\n",
      "Epoch 11/30\n",
      "1983/1983 [==============================] - 6s 3ms/step - loss: 0.5279 - binary_accuracy: 0.7372\n",
      "Epoch 12/30\n",
      "1983/1983 [==============================] - 6s 3ms/step - loss: 0.5222 - binary_accuracy: 0.7417\n",
      "Epoch 13/30\n",
      "1983/1983 [==============================] - 6s 3ms/step - loss: 0.5202 - binary_accuracy: 0.7396\n",
      "Epoch 14/30\n",
      "1983/1983 [==============================] - 7s 3ms/step - loss: 0.5158 - binary_accuracy: 0.7427\n",
      "Epoch 15/30\n",
      "1983/1983 [==============================] - 7s 4ms/step - loss: 0.5064 - binary_accuracy: 0.7494\n",
      "Epoch 16/30\n",
      "1983/1983 [==============================] - 7s 4ms/step - loss: 0.5082 - binary_accuracy: 0.7452A: 5s -  - ETA: 0s - loss: 0.5084 - binary_accur\n",
      "Epoch 17/30\n",
      "1983/1983 [==============================] - 7s 3ms/step - loss: 0.4954 - binary_accuracy: 0.7590\n",
      "Epoch 18/30\n",
      "1983/1983 [==============================] - 7s 3ms/step - loss: 0.4912 - binary_accuracy: 0.7549\n",
      "Epoch 19/30\n",
      "1983/1983 [==============================] - 7s 3ms/step - loss: 0.4903 - binary_accuracy: 0.7577\n",
      "Epoch 20/30\n",
      "1983/1983 [==============================] - 7s 3ms/step - loss: 0.4813 - binary_accuracy: 0.7622\n",
      "Epoch 21/30\n",
      "1983/1983 [==============================] - 7s 3ms/step - loss: 0.4815 - binary_accuracy: 0.7614\n",
      "Epoch 22/30\n",
      "1983/1983 [==============================] - 7s 3ms/step - loss: 0.4831 - binary_accuracy: 0.7582\n",
      "Epoch 23/30\n",
      "1983/1983 [==============================] - 6s 3ms/step - loss: 0.4835 - binary_accuracy: 0.7576\n",
      "Epoch 24/30\n",
      "1983/1983 [==============================] - 7s 3ms/step - loss: 0.4775 - binary_accuracy: 0.7625\n",
      "Epoch 25/30\n",
      "1983/1983 [==============================] - 7s 3ms/step - loss: 0.4686 - binary_accuracy: 0.7700\n",
      "Epoch 26/30\n",
      "1983/1983 [==============================] - 7s 3ms/step - loss: 0.4640 - binary_accuracy: 0.7733\n",
      "Epoch 27/30\n",
      "1983/1983 [==============================] - 7s 3ms/step - loss: 0.4603 - binary_accuracy: 0.7717\n",
      "Epoch 28/30\n",
      "1983/1983 [==============================] - 7s 3ms/step - loss: 0.4577 - binary_accuracy: 0.7744\n",
      "Epoch 29/30\n",
      "1983/1983 [==============================] - 7s 3ms/step - loss: 0.4556 - binary_accuracy: 0.7760\n",
      "Epoch 30/30\n",
      "1983/1983 [==============================] - 7s 3ms/step - loss: 0.4515 - binary_accuracy: 0.7777\n"
     ]
    }
   ],
   "source": [
    "epochs = 30\n",
    "history = model.fit(x = X_tr, y = y_tr, epochs=epochs)"
   ]
  },
  {
   "cell_type": "code",
   "execution_count": 92,
   "id": "d0551d14",
   "metadata": {
    "id": "zOMKywn4zReN"
   },
   "outputs": [
    {
     "name": "stdout",
     "output_type": "stream",
     "text": [
      "850/850 [==============================] - 0s 354us/step - loss: 0.5610 - binary_accuracy: 0.7229\n",
      "Loss:  0.560994029045105\n",
      "Accuracy:  0.7228902578353882\n"
     ]
    }
   ],
   "source": [
    "loss, accuracy = model.evaluate(x = X_te, y = y_te)\n",
    "\n",
    "print(\"Loss: \", loss)\n",
    "print(\"Accuracy: \", accuracy)"
   ]
  },
  {
   "cell_type": "code",
   "execution_count": 93,
   "id": "6227bd07",
   "metadata": {
    "id": "-YcvZsdvWfDf"
   },
   "outputs": [
    {
     "data": {
      "text/plain": [
       "dict_keys(['loss', 'binary_accuracy'])"
      ]
     },
     "execution_count": 93,
     "metadata": {},
     "output_type": "execute_result"
    }
   ],
   "source": [
    "history_dict = history.history\n",
    "history_dict.keys()"
   ]
  },
  {
   "cell_type": "markdown",
   "id": "2b54e346",
   "metadata": {
    "id": "1_CH32qJXruI"
   },
   "source": [
    "There are four entries: one for each monitored metric during training and validation. You can use these to plot the training and validation loss for comparison, as well as the training and validation accuracy:"
   ]
  },
  {
   "cell_type": "code",
   "execution_count": 94,
   "id": "0618601e",
   "metadata": {},
   "outputs": [],
   "source": [
    "acc = history_dict['binary_accuracy']\n",
    "loss = history_dict['loss']\n",
    "epochs = range(1, len(acc) + 1)"
   ]
  },
  {
   "cell_type": "code",
   "execution_count": 95,
   "id": "97501e2b",
   "metadata": {},
   "outputs": [
    {
     "data": {
      "image/png": "[encoded data removed]",
      "text/plain": [
       "<Figure size 432x288 with 1 Axes>"
      ]
     },
     "metadata": {
      "needs_background": "light"
     },
     "output_type": "display_data"
    }
   ],
   "source": [
    "plt.plot(epochs, acc, 'g:', label='Training acc')\n",
    "plt.title('Training and validation accuracy')\n",
    "plt.xlabel('Epochs')\n",
    "plt.ylabel('Accuracy')\n",
    "plt.legend(loc='lower right')\n",
    "\n",
    "plt.show()"
   ]
  },
  {
   "cell_type": "code",
   "execution_count": 96,
   "id": "5be60bf6",
   "metadata": {
    "id": "2SEMeQ5YXs8z"
   },
   "outputs": [
    {
     "data": {
      "image/png": "[encoded data removed]",
      "text/plain": [
       "<Figure size 432x288 with 1 Axes>"
      ]
     },
     "metadata": {
      "needs_background": "light"
     },
     "output_type": "display_data"
    }
   ],
   "source": [
    "plt.plot(epochs, loss, 'r:', label='Training loss')\n",
    "plt.title('Training and validation loss')\n",
    "plt.xlabel('Epochs')\n",
    "plt.ylabel('Loss')\n",
    "plt.legend()\n",
    "\n",
    "plt.show()"
   ]
  },
  {
   "cell_type": "code",
   "execution_count": 97,
   "id": "7abb1250",
   "metadata": {},
   "outputs": [
    {
     "data": {
      "text/plain": [
       "array([[  4.7166834],\n",
       "       [ -5.707335 ],\n",
       "       [ -8.151395 ],\n",
       "       [-24.100107 ],\n",
       "       [ 19.62575  ]], dtype=float32)"
      ]
     },
     "execution_count": 97,
     "metadata": {},
     "output_type": "execute_result"
    }
   ],
   "source": [
    "examples = [\n",
    "  \"The food was great!\",\n",
    "  \"The service was okay.\",\n",
    "  \"The nail salon was terrible...\",\n",
    "  \"The food was good, the service was terrible, the decor was spectacular.\",\n",
    "  \"Wow this thing is amazing!\"\n",
    "  ]\n",
    "\n",
    "vector_examples = vectorize_layer(examples)\n",
    "\n",
    "res = model.predict(vector_examples)\n",
    "\n",
    "res"
   ]
  },
  {
   "cell_type": "markdown",
   "id": "36bac897",
   "metadata": {},
   "source": [
    "**Observations:**\n",
    "- The values above indicate a `postive` value as a postive sentiment and `negative` as a negative sentiment."
   ]
  },
  {
   "cell_type": "markdown",
   "id": "23f5d97a",
   "metadata": {},
   "source": [
    "# CONCLUSION \n",
    "\n",
    "a conclusion summarizing the analysis and the results. Were you able to meet your analysis objective as described in your introduction?"
   ]
  },
  {
   "cell_type": "markdown",
   "id": "27da129d",
   "metadata": {},
   "source": [
    "# REFERENCES\n",
    "\n",
    "1. [Yelp Reviews Dataset](https://www.yelp.com/dataset)\n",
    "1. [Basic Text Classification with TensorFlow](https://www.tensorflow.org/tutorials/keras/text_classification)"
   ]
  },
  {
   "cell_type": "code",
   "execution_count": null,
   "id": "023e8b0a",
   "metadata": {},
   "outputs": [],
   "source": []
  }
 ],
 "metadata": {
  "kernelspec": {
   "display_name": "Python 3",
   "language": "python",
   "name": "python3"
  },
  "language_info": {
   "codemirror_mode": {
    "name": "ipython",
    "version": 3
   },
   "file_extension": ".py",
   "mimetype": "text/x-python",
   "name": "python",
   "nbconvert_exporter": "python",
   "pygments_lexer": "ipython3",
   "version": "3.8.8"
  }
 },
 "nbformat": 4,
 "nbformat_minor": 5
}
