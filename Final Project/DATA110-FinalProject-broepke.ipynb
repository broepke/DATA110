{
 "cells": [
  {
   "cell_type": "markdown",
   "id": "d8f3594b",
   "metadata": {},
   "source": [
    "# Final Project\n",
    "**DATA110: Intro to Machine Learning**  \n",
    "Brian Roepke  \n",
    "April 24th, 2021  "
   ]
  },
  {
   "cell_type": "markdown",
   "id": "b311a25f",
   "metadata": {},
   "source": [
    "# INTRODUCTION\n",
    "\n",
    "The concept of social ratings and reviews of products is a common model of reccomendation that the internet enabled. \n",
    "\n",
    "Yelp has opened up a large portion of its dataset for academic and personal use. It contains a massive amount of textual data from their reviews and other information about their businesses. \n",
    "\n",
    "I propose to build an NLP model building a sentiment analysis and mapping the polarity to the rating given for the review. Additionally, a machine learning model will predict the highest-rated business by location, the number of reviews, and categories assigned. Finally, I will attempt to use TensorFlow to create a Neural Network. While we only loosely covered this in class, I will try to combine the Machine Learning methods we learned with the tutorials from class to build a classification model off of the text\n",
    "\n",
    "![Yelp](https://raw.githubusercontent.com/broepke/DATA110/main/Final%20Project/yelp.png)"
   ]
  },
  {
   "cell_type": "markdown",
   "id": "079eeaa1",
   "metadata": {},
   "source": [
    "# EDA/DATA PREP\n",
    "\n",
    "explore data issues that may require cleansing, data wrangling/munging, etc..  Include visualizations, statistical analysis, etc.. to better understand the data such as how it's distributed and correlations. You must include analysis/text that explains the meaning of each output."
   ]
  },
  {
   "cell_type": "code",
   "execution_count": 142,
   "id": "f7803c49",
   "metadata": {},
   "outputs": [],
   "source": [
    "import numpy as np\n",
    "import pandas as pd\n",
    "import re\n",
    "import itertools\n",
    "import string\n",
    "import warnings\n",
    "from timeit import timeit\n",
    "warnings.filterwarnings('ignore')\n",
    "\n",
    "from textblob import TextBlob\n",
    "from textblob import Word\n",
    "\n",
    "import sklearn as sk\n",
    "from sklearn.model_selection import train_test_split\n",
    "from sklearn.feature_extraction.text import TfidfVectorizer\n",
    "from sklearn import metrics \n",
    "from sklearn.model_selection import GridSearchCV, cross_val_score, RepeatedStratifiedKFold\n",
    "from sklearn.linear_model import LogisticRegression\n",
    "from sklearn.tree import DecisionTreeClassifier\n",
    "from sklearn.ensemble import RandomForestClassifier\n",
    "from sklearn.preprocessing import MinMaxScaler, MultiLabelBinarizer\n",
    "from sklearn.compose import ColumnTransformer\n",
    "from sklearn.preprocessing import OneHotEncoder\n",
    "from sklearn.multiclass import OneVsRestClassifier\n",
    "from sklearn.feature_selection import SelectFromModel\n",
    "from sklearn.feature_selection import chi2\n",
    "\n",
    "# NLTK Imports and Downloads\n",
    "import nltk\n",
    "from nltk import word_tokenize\n",
    "from nltk.sentiment.util import *\n",
    "from nltk.stem import PorterStemmer\n",
    "from nltk.stem.wordnet import WordNetLemmatizer\n",
    "from nltk.probability import FreqDist\n",
    "\n",
    "from imblearn.over_sampling import SMOTE\n",
    "from imblearn.under_sampling import RandomUnderSampler\n",
    "from imblearn.pipeline import Pipeline\n",
    "\n",
    "import tensorflow as tf\n",
    "from tensorflow.keras import layers\n",
    "from tensorflow.keras import losses\n",
    "from tensorflow.keras import preprocessing\n",
    "from tensorflow.keras.layers.experimental.preprocessing import TextVectorization\n",
    "\n",
    "import seaborn as sns\n",
    "import matplotlib.pyplot as plt\n",
    "%matplotlib inline"
   ]
  },
  {
   "cell_type": "code",
   "execution_count": 143,
   "id": "2c0fc6c8",
   "metadata": {},
   "outputs": [],
   "source": [
    "df = pd.read_csv('yelp.csv')"
   ]
  },
  {
   "cell_type": "markdown",
   "id": "5aea67ba",
   "metadata": {},
   "source": [
    "## Data Prep"
   ]
  },
  {
   "cell_type": "code",
   "execution_count": 144,
   "id": "331b103d",
   "metadata": {},
   "outputs": [
    {
     "data": {
      "text/html": [
       "<div>\n",
       "<style scoped>\n",
       "    .dataframe tbody tr th:only-of-type {\n",
       "        vertical-align: middle;\n",
       "    }\n",
       "\n",
       "    .dataframe tbody tr th {\n",
       "        vertical-align: top;\n",
       "    }\n",
       "\n",
       "    .dataframe thead th {\n",
       "        text-align: right;\n",
       "    }\n",
       "</style>\n",
       "<table border=\"1\" class=\"dataframe\">\n",
       "  <thead>\n",
       "    <tr style=\"text-align: right;\">\n",
       "      <th></th>\n",
       "      <th>Unnamed: 0</th>\n",
       "      <th>business_id</th>\n",
       "      <th>name</th>\n",
       "      <th>address</th>\n",
       "      <th>city</th>\n",
       "      <th>state</th>\n",
       "      <th>postal_code</th>\n",
       "      <th>latitude</th>\n",
       "      <th>longitude</th>\n",
       "      <th>stars_x</th>\n",
       "      <th>...</th>\n",
       "      <th>categories</th>\n",
       "      <th>hours</th>\n",
       "      <th>review_id</th>\n",
       "      <th>user_id</th>\n",
       "      <th>stars_y</th>\n",
       "      <th>useful</th>\n",
       "      <th>funny</th>\n",
       "      <th>cool</th>\n",
       "      <th>text</th>\n",
       "      <th>date</th>\n",
       "    </tr>\n",
       "  </thead>\n",
       "  <tbody>\n",
       "    <tr>\n",
       "      <th>0</th>\n",
       "      <td>0</td>\n",
       "      <td>6iYb2HFDywm3zjuRg0shjw</td>\n",
       "      <td>Oskar Blues Taproom</td>\n",
       "      <td>921 Pearl St</td>\n",
       "      <td>Boulder</td>\n",
       "      <td>CO</td>\n",
       "      <td>80302</td>\n",
       "      <td>40.017544</td>\n",
       "      <td>-105.283348</td>\n",
       "      <td>4.0</td>\n",
       "      <td>...</td>\n",
       "      <td>Gastropubs, Food, Beer Gardens, Restaurants, Bars, American (Traditional), Beer Bar, Nightlife, Breweries</td>\n",
       "      <td>{'Monday': '11:0-23:0', 'Tuesday': '11:0-23:0', 'Wednesday': '11:0-23:0', 'Thursday': '11:0-23:0', 'Friday': '11:0-23:0', 'Saturday': '11:0-23:0', 'Sunday': '11:0-23:0'}</td>\n",
       "      <td>bkHUOCicGZ856vpvcWuW7Q</td>\n",
       "      <td>93z0yh-sUpGZS-cSKu6xxA</td>\n",
       "      <td>5.0</td>\n",
       "      <td>1</td>\n",
       "      <td>0</td>\n",
       "      <td>0</td>\n",
       "      <td>Stopped in on a busy Friday night. Despite the crowd, the service was expedient and warm. \\n\\nThe beers here speak for themselves, so we sampled some of their taproom only offerings, and the galaxy smash was clean, tropical and sessionable.\\n\\nThis being said, the real star of this place is the pizza. It's a hand tossed style crust, that's the perfect mix of crispy and doughy. We ordered the special pizza (luau- bacon, pineapple and fresh jalapeño), and it was the perfect mix of fat, sweetness and heat. \\n\\nIf you're looking for a comfortable spot to grab a beer, and share some food with some friends on pearl, this is the place!</td>\n",
       "      <td>2018-03-04 00:59:21</td>\n",
       "    </tr>\n",
       "    <tr>\n",
       "      <th>1</th>\n",
       "      <td>1</td>\n",
       "      <td>6iYb2HFDywm3zjuRg0shjw</td>\n",
       "      <td>Oskar Blues Taproom</td>\n",
       "      <td>921 Pearl St</td>\n",
       "      <td>Boulder</td>\n",
       "      <td>CO</td>\n",
       "      <td>80302</td>\n",
       "      <td>40.017544</td>\n",
       "      <td>-105.283348</td>\n",
       "      <td>4.0</td>\n",
       "      <td>...</td>\n",
       "      <td>Gastropubs, Food, Beer Gardens, Restaurants, Bars, American (Traditional), Beer Bar, Nightlife, Breweries</td>\n",
       "      <td>{'Monday': '11:0-23:0', 'Tuesday': '11:0-23:0', 'Wednesday': '11:0-23:0', 'Thursday': '11:0-23:0', 'Friday': '11:0-23:0', 'Saturday': '11:0-23:0', 'Sunday': '11:0-23:0'}</td>\n",
       "      <td>VKBc48PPwyWIUE1RhBT_8A</td>\n",
       "      <td>Q_CZIvnsDHjpls-EPzzG7Q</td>\n",
       "      <td>2.0</td>\n",
       "      <td>0</td>\n",
       "      <td>0</td>\n",
       "      <td>0</td>\n",
       "      <td>Went there about 1 PM on a Monday.  It wasn't particularly busy, and we were seated quickly.  Our drink order was taken promptly, one coke and one beer, and we didn't see our server again for 10 minutes.  I believe it was the bartender who finally brought the beer, but didn't get the coke. He then brought our second drink a few minutes later.  When we did see our server, she was  taking an order at another table, and then 5 minutes later brought those people their drinks.  Didn't see her again for another 5 minutes when she finally came back to take our order.  At that point we were more than 20 minutes into this place, and decided it wasn't worth any more waiting so we put a few bucks down and got up and left.  Very poor service.  No idea how the food is since we didn't even get our order in.  Only about the second place I had to walk out of due to extremely poor service.</td>\n",
       "      <td>2018-08-14 05:22:00</td>\n",
       "    </tr>\n",
       "    <tr>\n",
       "      <th>2</th>\n",
       "      <td>2</td>\n",
       "      <td>6iYb2HFDywm3zjuRg0shjw</td>\n",
       "      <td>Oskar Blues Taproom</td>\n",
       "      <td>921 Pearl St</td>\n",
       "      <td>Boulder</td>\n",
       "      <td>CO</td>\n",
       "      <td>80302</td>\n",
       "      <td>40.017544</td>\n",
       "      <td>-105.283348</td>\n",
       "      <td>4.0</td>\n",
       "      <td>...</td>\n",
       "      <td>Gastropubs, Food, Beer Gardens, Restaurants, Bars, American (Traditional), Beer Bar, Nightlife, Breweries</td>\n",
       "      <td>{'Monday': '11:0-23:0', 'Tuesday': '11:0-23:0', 'Wednesday': '11:0-23:0', 'Thursday': '11:0-23:0', 'Friday': '11:0-23:0', 'Saturday': '11:0-23:0', 'Sunday': '11:0-23:0'}</td>\n",
       "      <td>JKNv1l7JgayZjG6nK__hXQ</td>\n",
       "      <td>rqxTSFFj5fZNmabY1fmTlw</td>\n",
       "      <td>5.0</td>\n",
       "      <td>0</td>\n",
       "      <td>0</td>\n",
       "      <td>0</td>\n",
       "      <td>This was the place the be on Friday Night! If you're looking for the best French Onion Soup in Boulder, paired with the best craft beer selection on Pearl Street. Go. Go now!</td>\n",
       "      <td>2018-03-17 14:22:48</td>\n",
       "    </tr>\n",
       "    <tr>\n",
       "      <th>3</th>\n",
       "      <td>3</td>\n",
       "      <td>6iYb2HFDywm3zjuRg0shjw</td>\n",
       "      <td>Oskar Blues Taproom</td>\n",
       "      <td>921 Pearl St</td>\n",
       "      <td>Boulder</td>\n",
       "      <td>CO</td>\n",
       "      <td>80302</td>\n",
       "      <td>40.017544</td>\n",
       "      <td>-105.283348</td>\n",
       "      <td>4.0</td>\n",
       "      <td>...</td>\n",
       "      <td>Gastropubs, Food, Beer Gardens, Restaurants, Bars, American (Traditional), Beer Bar, Nightlife, Breweries</td>\n",
       "      <td>{'Monday': '11:0-23:0', 'Tuesday': '11:0-23:0', 'Wednesday': '11:0-23:0', 'Thursday': '11:0-23:0', 'Friday': '11:0-23:0', 'Saturday': '11:0-23:0', 'Sunday': '11:0-23:0'}</td>\n",
       "      <td>WNM_Oyzy6mB6n0Z9lcuZyQ</td>\n",
       "      <td>vNPxlt5f50q0e2nVAScW3Q</td>\n",
       "      <td>4.0</td>\n",
       "      <td>0</td>\n",
       "      <td>0</td>\n",
       "      <td>0</td>\n",
       "      <td>Went to this place with my family over the weekend after a hike in Boulder and it was really nice. Their patio is perfect for bringing your dog (you cannot have the dog on the patio but you can have them tied up on the other side and still have them very close to you) and also nice and big so there is lots of room on a beautiful, sunny day. Beers on tap were super cheap and they brought out samples when we weren't sure what to order. Wait staff was attentive. Everyone enjoyed their food but there was nothing special about it- typical brewery food.</td>\n",
       "      <td>2018-04-04 21:16:50</td>\n",
       "    </tr>\n",
       "    <tr>\n",
       "      <th>4</th>\n",
       "      <td>4</td>\n",
       "      <td>6iYb2HFDywm3zjuRg0shjw</td>\n",
       "      <td>Oskar Blues Taproom</td>\n",
       "      <td>921 Pearl St</td>\n",
       "      <td>Boulder</td>\n",
       "      <td>CO</td>\n",
       "      <td>80302</td>\n",
       "      <td>40.017544</td>\n",
       "      <td>-105.283348</td>\n",
       "      <td>4.0</td>\n",
       "      <td>...</td>\n",
       "      <td>Gastropubs, Food, Beer Gardens, Restaurants, Bars, American (Traditional), Beer Bar, Nightlife, Breweries</td>\n",
       "      <td>{'Monday': '11:0-23:0', 'Tuesday': '11:0-23:0', 'Wednesday': '11:0-23:0', 'Thursday': '11:0-23:0', 'Friday': '11:0-23:0', 'Saturday': '11:0-23:0', 'Sunday': '11:0-23:0'}</td>\n",
       "      <td>jG4gZz5FrHyItJXz1YV9Sw</td>\n",
       "      <td>eXRC79iX60xwA1UuGRuWNg</td>\n",
       "      <td>4.0</td>\n",
       "      <td>0</td>\n",
       "      <td>0</td>\n",
       "      <td>0</td>\n",
       "      <td>Stopped on a midweek afternoon, and so glad that I did! One of the newer additions to the West End of Pearl Street, and it turns out to be a superb place to get a burger! Have been to the original Oskar Blues also, didn't disappoint. Lot of space to enjoy the restaurant and bar, plenty of indoor booths and tables, plenty of outside seating. Good atmosphere, some really fun items on the walls, and multiple giant screen televisions to stay on top of the latest games. Really appreciated the customer service from my server, Phoebe, who knew the menu, was extremely positive and professional, and could not have been better. Quick service, attention to detail. Loved my burger, cooked exactly as I requested, and the tater tots are so darn good. Liked their multiple in-house beverage options, had a great root beer! I'll definitely return!</td>\n",
       "      <td>2018-04-28 19:17:04</td>\n",
       "    </tr>\n",
       "  </tbody>\n",
       "</table>\n",
       "<p>5 rows × 23 columns</p>\n",
       "</div>"
      ],
      "text/plain": [
       "   Unnamed: 0             business_id                 name       address  \\\n",
       "0  0           6iYb2HFDywm3zjuRg0shjw  Oskar Blues Taproom  921 Pearl St   \n",
       "1  1           6iYb2HFDywm3zjuRg0shjw  Oskar Blues Taproom  921 Pearl St   \n",
       "2  2           6iYb2HFDywm3zjuRg0shjw  Oskar Blues Taproom  921 Pearl St   \n",
       "3  3           6iYb2HFDywm3zjuRg0shjw  Oskar Blues Taproom  921 Pearl St   \n",
       "4  4           6iYb2HFDywm3zjuRg0shjw  Oskar Blues Taproom  921 Pearl St   \n",
       "\n",
       "      city state postal_code   latitude   longitude  stars_x  ...  \\\n",
       "0  Boulder  CO    80302       40.017544 -105.283348  4.0      ...   \n",
       "1  Boulder  CO    80302       40.017544 -105.283348  4.0      ...   \n",
       "2  Boulder  CO    80302       40.017544 -105.283348  4.0      ...   \n",
       "3  Boulder  CO    80302       40.017544 -105.283348  4.0      ...   \n",
       "4  Boulder  CO    80302       40.017544 -105.283348  4.0      ...   \n",
       "\n",
       "                                                                                                  categories  \\\n",
       "0  Gastropubs, Food, Beer Gardens, Restaurants, Bars, American (Traditional), Beer Bar, Nightlife, Breweries   \n",
       "1  Gastropubs, Food, Beer Gardens, Restaurants, Bars, American (Traditional), Beer Bar, Nightlife, Breweries   \n",
       "2  Gastropubs, Food, Beer Gardens, Restaurants, Bars, American (Traditional), Beer Bar, Nightlife, Breweries   \n",
       "3  Gastropubs, Food, Beer Gardens, Restaurants, Bars, American (Traditional), Beer Bar, Nightlife, Breweries   \n",
       "4  Gastropubs, Food, Beer Gardens, Restaurants, Bars, American (Traditional), Beer Bar, Nightlife, Breweries   \n",
       "\n",
       "                                                                                                                                                                       hours  \\\n",
       "0  {'Monday': '11:0-23:0', 'Tuesday': '11:0-23:0', 'Wednesday': '11:0-23:0', 'Thursday': '11:0-23:0', 'Friday': '11:0-23:0', 'Saturday': '11:0-23:0', 'Sunday': '11:0-23:0'}   \n",
       "1  {'Monday': '11:0-23:0', 'Tuesday': '11:0-23:0', 'Wednesday': '11:0-23:0', 'Thursday': '11:0-23:0', 'Friday': '11:0-23:0', 'Saturday': '11:0-23:0', 'Sunday': '11:0-23:0'}   \n",
       "2  {'Monday': '11:0-23:0', 'Tuesday': '11:0-23:0', 'Wednesday': '11:0-23:0', 'Thursday': '11:0-23:0', 'Friday': '11:0-23:0', 'Saturday': '11:0-23:0', 'Sunday': '11:0-23:0'}   \n",
       "3  {'Monday': '11:0-23:0', 'Tuesday': '11:0-23:0', 'Wednesday': '11:0-23:0', 'Thursday': '11:0-23:0', 'Friday': '11:0-23:0', 'Saturday': '11:0-23:0', 'Sunday': '11:0-23:0'}   \n",
       "4  {'Monday': '11:0-23:0', 'Tuesday': '11:0-23:0', 'Wednesday': '11:0-23:0', 'Thursday': '11:0-23:0', 'Friday': '11:0-23:0', 'Saturday': '11:0-23:0', 'Sunday': '11:0-23:0'}   \n",
       "\n",
       "                review_id                 user_id stars_y useful funny  cool  \\\n",
       "0  bkHUOCicGZ856vpvcWuW7Q  93z0yh-sUpGZS-cSKu6xxA  5.0     1      0     0      \n",
       "1  VKBc48PPwyWIUE1RhBT_8A  Q_CZIvnsDHjpls-EPzzG7Q  2.0     0      0     0      \n",
       "2  JKNv1l7JgayZjG6nK__hXQ  rqxTSFFj5fZNmabY1fmTlw  5.0     0      0     0      \n",
       "3  WNM_Oyzy6mB6n0Z9lcuZyQ  vNPxlt5f50q0e2nVAScW3Q  4.0     0      0     0      \n",
       "4  jG4gZz5FrHyItJXz1YV9Sw  eXRC79iX60xwA1UuGRuWNg  4.0     0      0     0      \n",
       "\n",
       "                                                                                                                                                                                                                                                                                                                                                                                                                                                                                                                                                                                                                                                                                                                                                                                                                                                                                                                    text  \\\n",
       "0  Stopped in on a busy Friday night. Despite the crowd, the service was expedient and warm. \\n\\nThe beers here speak for themselves, so we sampled some of their taproom only offerings, and the galaxy smash was clean, tropical and sessionable.\\n\\nThis being said, the real star of this place is the pizza. It's a hand tossed style crust, that's the perfect mix of crispy and doughy. We ordered the special pizza (luau- bacon, pineapple and fresh jalapeño), and it was the perfect mix of fat, sweetness and heat. \\n\\nIf you're looking for a comfortable spot to grab a beer, and share some food with some friends on pearl, this is the place!                                                                                                                                                                                                                                                            \n",
       "1  Went there about 1 PM on a Monday.  It wasn't particularly busy, and we were seated quickly.  Our drink order was taken promptly, one coke and one beer, and we didn't see our server again for 10 minutes.  I believe it was the bartender who finally brought the beer, but didn't get the coke. He then brought our second drink a few minutes later.  When we did see our server, she was  taking an order at another table, and then 5 minutes later brought those people their drinks.  Didn't see her again for another 5 minutes when she finally came back to take our order.  At that point we were more than 20 minutes into this place, and decided it wasn't worth any more waiting so we put a few bucks down and got up and left.  Very poor service.  No idea how the food is since we didn't even get our order in.  Only about the second place I had to walk out of due to extremely poor service.   \n",
       "2  This was the place the be on Friday Night! If you're looking for the best French Onion Soup in Boulder, paired with the best craft beer selection on Pearl Street. Go. Go now!                                                                                                                                                                                                                                                                                                                                                                                                                                                                                                                                                                                                                                                                                                                                          \n",
       "3  Went to this place with my family over the weekend after a hike in Boulder and it was really nice. Their patio is perfect for bringing your dog (you cannot have the dog on the patio but you can have them tied up on the other side and still have them very close to you) and also nice and big so there is lots of room on a beautiful, sunny day. Beers on tap were super cheap and they brought out samples when we weren't sure what to order. Wait staff was attentive. Everyone enjoyed their food but there was nothing special about it- typical brewery food.                                                                                                                                                                                                                                                                                                                                               \n",
       "4  Stopped on a midweek afternoon, and so glad that I did! One of the newer additions to the West End of Pearl Street, and it turns out to be a superb place to get a burger! Have been to the original Oskar Blues also, didn't disappoint. Lot of space to enjoy the restaurant and bar, plenty of indoor booths and tables, plenty of outside seating. Good atmosphere, some really fun items on the walls, and multiple giant screen televisions to stay on top of the latest games. Really appreciated the customer service from my server, Phoebe, who knew the menu, was extremely positive and professional, and could not have been better. Quick service, attention to detail. Loved my burger, cooked exactly as I requested, and the tater tots are so darn good. Liked their multiple in-house beverage options, had a great root beer! I'll definitely return!                                               \n",
       "\n",
       "                  date  \n",
       "0  2018-03-04 00:59:21  \n",
       "1  2018-08-14 05:22:00  \n",
       "2  2018-03-17 14:22:48  \n",
       "3  2018-04-04 21:16:50  \n",
       "4  2018-04-28 19:17:04  \n",
       "\n",
       "[5 rows x 23 columns]"
      ]
     },
     "execution_count": 144,
     "metadata": {},
     "output_type": "execute_result"
    }
   ],
   "source": [
    "df.head()"
   ]
  },
  {
   "cell_type": "code",
   "execution_count": 145,
   "id": "8f72a156-f9a6-459e-b078-7f29037e034c",
   "metadata": {},
   "outputs": [
    {
     "data": {
      "text/html": [
       "<div>\n",
       "<style scoped>\n",
       "    .dataframe tbody tr th:only-of-type {\n",
       "        vertical-align: middle;\n",
       "    }\n",
       "\n",
       "    .dataframe tbody tr th {\n",
       "        vertical-align: top;\n",
       "    }\n",
       "\n",
       "    .dataframe thead th {\n",
       "        text-align: right;\n",
       "    }\n",
       "</style>\n",
       "<table border=\"1\" class=\"dataframe\">\n",
       "  <thead>\n",
       "    <tr style=\"text-align: right;\">\n",
       "      <th></th>\n",
       "      <th>Unnamed: 0</th>\n",
       "      <th>business_id</th>\n",
       "      <th>name</th>\n",
       "      <th>address</th>\n",
       "      <th>city</th>\n",
       "      <th>state</th>\n",
       "      <th>postal_code</th>\n",
       "      <th>latitude</th>\n",
       "      <th>longitude</th>\n",
       "      <th>stars_x</th>\n",
       "      <th>...</th>\n",
       "      <th>categories</th>\n",
       "      <th>hours</th>\n",
       "      <th>review_id</th>\n",
       "      <th>user_id</th>\n",
       "      <th>stars_y</th>\n",
       "      <th>useful</th>\n",
       "      <th>funny</th>\n",
       "      <th>cool</th>\n",
       "      <th>text</th>\n",
       "      <th>date</th>\n",
       "    </tr>\n",
       "  </thead>\n",
       "  <tbody>\n",
       "    <tr>\n",
       "      <th>99995</th>\n",
       "      <td>99995</td>\n",
       "      <td>xcpDb3OWQ60W4zOV2ns90Q</td>\n",
       "      <td>Choco Coo</td>\n",
       "      <td>501 North Road, Suite C</td>\n",
       "      <td>Coquitlam</td>\n",
       "      <td>BC</td>\n",
       "      <td>V3J</td>\n",
       "      <td>49.249401</td>\n",
       "      <td>-122.892146</td>\n",
       "      <td>3.5</td>\n",
       "      <td>...</td>\n",
       "      <td>Food, Coffee &amp; Tea, Cafes, Restaurants, French, Desserts, Taiwanese</td>\n",
       "      <td>{'Monday': '12:0-23:0', 'Tuesday': '12:0-23:0', 'Wednesday': '12:0-23:0', 'Thursday': '12:0-23:0', 'Friday': '12:0-23:0', 'Saturday': '12:0-23:0', 'Sunday': '12:0-23:0'}</td>\n",
       "      <td>5_aGKbf-7d0NbnaFbO98aw</td>\n",
       "      <td>OFAZ7h1lT-aq9am4Gz10YQ</td>\n",
       "      <td>2.0</td>\n",
       "      <td>0</td>\n",
       "      <td>0</td>\n",
       "      <td>0</td>\n",
       "      <td>Was excited to try this cafe after seeing the cute latte design photos on yelp. Was disappointed to find out that they only have one type of milk, so as a vegan I was not able to have a latte. (Soy, almond, coconut etc were all unavailable) I instead opted for a very pricey $5 cup of tea.</td>\n",
       "      <td>2017-07-20 06:03:50</td>\n",
       "    </tr>\n",
       "    <tr>\n",
       "      <th>99996</th>\n",
       "      <td>99996</td>\n",
       "      <td>xcpDb3OWQ60W4zOV2ns90Q</td>\n",
       "      <td>Choco Coo</td>\n",
       "      <td>501 North Road, Suite C</td>\n",
       "      <td>Coquitlam</td>\n",
       "      <td>BC</td>\n",
       "      <td>V3J</td>\n",
       "      <td>49.249401</td>\n",
       "      <td>-122.892146</td>\n",
       "      <td>3.5</td>\n",
       "      <td>...</td>\n",
       "      <td>Food, Coffee &amp; Tea, Cafes, Restaurants, French, Desserts, Taiwanese</td>\n",
       "      <td>{'Monday': '12:0-23:0', 'Tuesday': '12:0-23:0', 'Wednesday': '12:0-23:0', 'Thursday': '12:0-23:0', 'Friday': '12:0-23:0', 'Saturday': '12:0-23:0', 'Sunday': '12:0-23:0'}</td>\n",
       "      <td>e8QsByN-Ky5DYRC6bo9Uig</td>\n",
       "      <td>lO_FaZrocR0x3dgoFk38zw</td>\n",
       "      <td>4.0</td>\n",
       "      <td>1</td>\n",
       "      <td>0</td>\n",
       "      <td>0</td>\n",
       "      <td>I love this cute little place. My favourite part is how nice and quiet it is for studying and often times there will be students there reviewing for their classes and exams. \\n\\nThe desserts and drinks are really great but a bit pricey so I would say this is more of a treat than anything! The best thing is to come here after going to Sushi Cal which is right next door for a delicious treat.</td>\n",
       "      <td>2017-08-10 17:36:43</td>\n",
       "    </tr>\n",
       "    <tr>\n",
       "      <th>99997</th>\n",
       "      <td>99997</td>\n",
       "      <td>xcpDb3OWQ60W4zOV2ns90Q</td>\n",
       "      <td>Choco Coo</td>\n",
       "      <td>501 North Road, Suite C</td>\n",
       "      <td>Coquitlam</td>\n",
       "      <td>BC</td>\n",
       "      <td>V3J</td>\n",
       "      <td>49.249401</td>\n",
       "      <td>-122.892146</td>\n",
       "      <td>3.5</td>\n",
       "      <td>...</td>\n",
       "      <td>Food, Coffee &amp; Tea, Cafes, Restaurants, French, Desserts, Taiwanese</td>\n",
       "      <td>{'Monday': '12:0-23:0', 'Tuesday': '12:0-23:0', 'Wednesday': '12:0-23:0', 'Thursday': '12:0-23:0', 'Friday': '12:0-23:0', 'Saturday': '12:0-23:0', 'Sunday': '12:0-23:0'}</td>\n",
       "      <td>GI8M2qhjuzVOfN8U5naNyg</td>\n",
       "      <td>eg2f_A2tezVrbRf64UAoaA</td>\n",
       "      <td>1.0</td>\n",
       "      <td>1</td>\n",
       "      <td>0</td>\n",
       "      <td>0</td>\n",
       "      <td>This place was terrible. I got my friend the strawberry cake for her birthday and it tasted old, dry and absolutely disgusting. I will never come back</td>\n",
       "      <td>2018-05-29 22:30:37</td>\n",
       "    </tr>\n",
       "    <tr>\n",
       "      <th>99998</th>\n",
       "      <td>99998</td>\n",
       "      <td>xcpDb3OWQ60W4zOV2ns90Q</td>\n",
       "      <td>Choco Coo</td>\n",
       "      <td>501 North Road, Suite C</td>\n",
       "      <td>Coquitlam</td>\n",
       "      <td>BC</td>\n",
       "      <td>V3J</td>\n",
       "      <td>49.249401</td>\n",
       "      <td>-122.892146</td>\n",
       "      <td>3.5</td>\n",
       "      <td>...</td>\n",
       "      <td>Food, Coffee &amp; Tea, Cafes, Restaurants, French, Desserts, Taiwanese</td>\n",
       "      <td>{'Monday': '12:0-23:0', 'Tuesday': '12:0-23:0', 'Wednesday': '12:0-23:0', 'Thursday': '12:0-23:0', 'Friday': '12:0-23:0', 'Saturday': '12:0-23:0', 'Sunday': '12:0-23:0'}</td>\n",
       "      <td>3P0Mgv0vKOM58tffbjM9wg</td>\n",
       "      <td>qSyKN1UV6mbRxPn4YlX6cg</td>\n",
       "      <td>4.0</td>\n",
       "      <td>0</td>\n",
       "      <td>0</td>\n",
       "      <td>0</td>\n",
       "      <td>cute, minimalist space. the barista seemed new and took a while taking my order, but again he seemed new so im forgiving that.\\n\\nthe earl grey cake is delicious, and actually tastes of earl grey. however i ordered an americano and they just gave me a cup of espresso... \\n\\ngood place for desserts but less of a drink place.</td>\n",
       "      <td>2017-12-31 22:58:16</td>\n",
       "    </tr>\n",
       "    <tr>\n",
       "      <th>99999</th>\n",
       "      <td>99999</td>\n",
       "      <td>xcpDb3OWQ60W4zOV2ns90Q</td>\n",
       "      <td>Choco Coo</td>\n",
       "      <td>501 North Road, Suite C</td>\n",
       "      <td>Coquitlam</td>\n",
       "      <td>BC</td>\n",
       "      <td>V3J</td>\n",
       "      <td>49.249401</td>\n",
       "      <td>-122.892146</td>\n",
       "      <td>3.5</td>\n",
       "      <td>...</td>\n",
       "      <td>Food, Coffee &amp; Tea, Cafes, Restaurants, French, Desserts, Taiwanese</td>\n",
       "      <td>{'Monday': '12:0-23:0', 'Tuesday': '12:0-23:0', 'Wednesday': '12:0-23:0', 'Thursday': '12:0-23:0', 'Friday': '12:0-23:0', 'Saturday': '12:0-23:0', 'Sunday': '12:0-23:0'}</td>\n",
       "      <td>x57hcMog0G-ek9yD4gUcow</td>\n",
       "      <td>d9LPTSLuFU0Mus3b9doJEQ</td>\n",
       "      <td>4.0</td>\n",
       "      <td>0</td>\n",
       "      <td>0</td>\n",
       "      <td>0</td>\n",
       "      <td>Found this place on Yelp and it was close by so decided to check it out. I will start by saying the parking is horrible so you may have to park down the street or behind it and walk there. Also the sign is white with small lettering so hard to see from the street. The staff were warm and welcoming so I ordered the Belgian milk chocolate slush and it was AMAZINGLY delish! I want to try the desserts next time and different flavour drink. Def be back here soon!</td>\n",
       "      <td>2018-03-18 06:54:10</td>\n",
       "    </tr>\n",
       "  </tbody>\n",
       "</table>\n",
       "<p>5 rows × 23 columns</p>\n",
       "</div>"
      ],
      "text/plain": [
       "       Unnamed: 0             business_id       name                  address  \\\n",
       "99995  99995       xcpDb3OWQ60W4zOV2ns90Q  Choco Coo  501 North Road, Suite C   \n",
       "99996  99996       xcpDb3OWQ60W4zOV2ns90Q  Choco Coo  501 North Road, Suite C   \n",
       "99997  99997       xcpDb3OWQ60W4zOV2ns90Q  Choco Coo  501 North Road, Suite C   \n",
       "99998  99998       xcpDb3OWQ60W4zOV2ns90Q  Choco Coo  501 North Road, Suite C   \n",
       "99999  99999       xcpDb3OWQ60W4zOV2ns90Q  Choco Coo  501 North Road, Suite C   \n",
       "\n",
       "            city state postal_code   latitude   longitude  stars_x  ...  \\\n",
       "99995  Coquitlam  BC    V3J         49.249401 -122.892146  3.5      ...   \n",
       "99996  Coquitlam  BC    V3J         49.249401 -122.892146  3.5      ...   \n",
       "99997  Coquitlam  BC    V3J         49.249401 -122.892146  3.5      ...   \n",
       "99998  Coquitlam  BC    V3J         49.249401 -122.892146  3.5      ...   \n",
       "99999  Coquitlam  BC    V3J         49.249401 -122.892146  3.5      ...   \n",
       "\n",
       "                                                                categories  \\\n",
       "99995  Food, Coffee & Tea, Cafes, Restaurants, French, Desserts, Taiwanese   \n",
       "99996  Food, Coffee & Tea, Cafes, Restaurants, French, Desserts, Taiwanese   \n",
       "99997  Food, Coffee & Tea, Cafes, Restaurants, French, Desserts, Taiwanese   \n",
       "99998  Food, Coffee & Tea, Cafes, Restaurants, French, Desserts, Taiwanese   \n",
       "99999  Food, Coffee & Tea, Cafes, Restaurants, French, Desserts, Taiwanese   \n",
       "\n",
       "                                                                                                                                                                           hours  \\\n",
       "99995  {'Monday': '12:0-23:0', 'Tuesday': '12:0-23:0', 'Wednesday': '12:0-23:0', 'Thursday': '12:0-23:0', 'Friday': '12:0-23:0', 'Saturday': '12:0-23:0', 'Sunday': '12:0-23:0'}   \n",
       "99996  {'Monday': '12:0-23:0', 'Tuesday': '12:0-23:0', 'Wednesday': '12:0-23:0', 'Thursday': '12:0-23:0', 'Friday': '12:0-23:0', 'Saturday': '12:0-23:0', 'Sunday': '12:0-23:0'}   \n",
       "99997  {'Monday': '12:0-23:0', 'Tuesday': '12:0-23:0', 'Wednesday': '12:0-23:0', 'Thursday': '12:0-23:0', 'Friday': '12:0-23:0', 'Saturday': '12:0-23:0', 'Sunday': '12:0-23:0'}   \n",
       "99998  {'Monday': '12:0-23:0', 'Tuesday': '12:0-23:0', 'Wednesday': '12:0-23:0', 'Thursday': '12:0-23:0', 'Friday': '12:0-23:0', 'Saturday': '12:0-23:0', 'Sunday': '12:0-23:0'}   \n",
       "99999  {'Monday': '12:0-23:0', 'Tuesday': '12:0-23:0', 'Wednesday': '12:0-23:0', 'Thursday': '12:0-23:0', 'Friday': '12:0-23:0', 'Saturday': '12:0-23:0', 'Sunday': '12:0-23:0'}   \n",
       "\n",
       "                    review_id                 user_id stars_y useful funny  \\\n",
       "99995  5_aGKbf-7d0NbnaFbO98aw  OFAZ7h1lT-aq9am4Gz10YQ  2.0     0      0      \n",
       "99996  e8QsByN-Ky5DYRC6bo9Uig  lO_FaZrocR0x3dgoFk38zw  4.0     1      0      \n",
       "99997  GI8M2qhjuzVOfN8U5naNyg  eg2f_A2tezVrbRf64UAoaA  1.0     1      0      \n",
       "99998  3P0Mgv0vKOM58tffbjM9wg  qSyKN1UV6mbRxPn4YlX6cg  4.0     0      0      \n",
       "99999  x57hcMog0G-ek9yD4gUcow  d9LPTSLuFU0Mus3b9doJEQ  4.0     0      0      \n",
       "\n",
       "       cool  \\\n",
       "99995  0      \n",
       "99996  0      \n",
       "99997  0      \n",
       "99998  0      \n",
       "99999  0      \n",
       "\n",
       "                                                                                                                                                                                                                                                                                                                                                                                                                                                                                 text  \\\n",
       "99995  Was excited to try this cafe after seeing the cute latte design photos on yelp. Was disappointed to find out that they only have one type of milk, so as a vegan I was not able to have a latte. (Soy, almond, coconut etc were all unavailable) I instead opted for a very pricey $5 cup of tea.                                                                                                                                                                                \n",
       "99996  I love this cute little place. My favourite part is how nice and quiet it is for studying and often times there will be students there reviewing for their classes and exams. \\n\\nThe desserts and drinks are really great but a bit pricey so I would say this is more of a treat than anything! The best thing is to come here after going to Sushi Cal which is right next door for a delicious treat.                                                                        \n",
       "99997  This place was terrible. I got my friend the strawberry cake for her birthday and it tasted old, dry and absolutely disgusting. I will never come back                                                                                                                                                                                                                                                                                                                           \n",
       "99998  cute, minimalist space. the barista seemed new and took a while taking my order, but again he seemed new so im forgiving that.\\n\\nthe earl grey cake is delicious, and actually tastes of earl grey. however i ordered an americano and they just gave me a cup of espresso... \\n\\ngood place for desserts but less of a drink place.                                                                                                                                            \n",
       "99999  Found this place on Yelp and it was close by so decided to check it out. I will start by saying the parking is horrible so you may have to park down the street or behind it and walk there. Also the sign is white with small lettering so hard to see from the street. The staff were warm and welcoming so I ordered the Belgian milk chocolate slush and it was AMAZINGLY delish! I want to try the desserts next time and different flavour drink. Def be back here soon!   \n",
       "\n",
       "                      date  \n",
       "99995  2017-07-20 06:03:50  \n",
       "99996  2017-08-10 17:36:43  \n",
       "99997  2018-05-29 22:30:37  \n",
       "99998  2017-12-31 22:58:16  \n",
       "99999  2018-03-18 06:54:10  \n",
       "\n",
       "[5 rows x 23 columns]"
      ]
     },
     "execution_count": 145,
     "metadata": {},
     "output_type": "execute_result"
    }
   ],
   "source": [
    "df.tail()"
   ]
  },
  {
   "cell_type": "code",
   "execution_count": 146,
   "id": "3eff85be",
   "metadata": {},
   "outputs": [
    {
     "data": {
      "text/plain": [
       "(100000, 23)"
      ]
     },
     "execution_count": 146,
     "metadata": {},
     "output_type": "execute_result"
    }
   ],
   "source": [
    "df.shape"
   ]
  },
  {
   "cell_type": "markdown",
   "id": "c9c7ea53",
   "metadata": {},
   "source": [
    "### Null Values\n",
    "\n",
    "Nulll values are generally not desireable in a dataset.  In certain cases, observations (rows) with low counts will simply be dropped, in other cases, they can be filled with other values."
   ]
  },
  {
   "cell_type": "code",
   "execution_count": 147,
   "id": "fcd0d148",
   "metadata": {},
   "outputs": [],
   "source": [
    "# Drop NULL values\n",
    "df.dropna(inplace=True)"
   ]
  },
  {
   "cell_type": "code",
   "execution_count": 148,
   "id": "53f03c0f",
   "metadata": {},
   "outputs": [],
   "source": [
    "# Drop unwanted columns\n",
    "df.drop(columns=['Unnamed: 0'], inplace=True)"
   ]
  },
  {
   "cell_type": "code",
   "execution_count": 149,
   "id": "11e41be4",
   "metadata": {},
   "outputs": [],
   "source": [
    "# Drop the long and lat columns.  Precise location isn't needed\n",
    "df.drop(columns=['longitude', 'latitude'], inplace=True)"
   ]
  },
  {
   "cell_type": "code",
   "execution_count": 150,
   "id": "656f5d33",
   "metadata": {},
   "outputs": [],
   "source": [
    "# Add column 'text_len' that counts the length for the derived field\n",
    "df['text_len'] = df.apply(lambda row: len(row['text']), axis = 1)"
   ]
  },
  {
   "cell_type": "code",
   "execution_count": 151,
   "id": "ef658f9c",
   "metadata": {},
   "outputs": [],
   "source": [
    "df['date'] =  pd.to_datetime(df['date'])"
   ]
  },
  {
   "cell_type": "markdown",
   "id": "9d230005",
   "metadata": {},
   "source": [
    "### Duplicates\n",
    "\n",
    "A common practice is to review any duplicates.  If there are large quantities, they can skew the results."
   ]
  },
  {
   "cell_type": "code",
   "execution_count": 152,
   "id": "d023c292",
   "metadata": {},
   "outputs": [
    {
     "name": "stdout",
     "output_type": "stream",
     "text": [
      "Before = 90652\n",
      "After = 90652\n",
      "\n",
      "Total Removed = 0\n"
     ]
    }
   ],
   "source": [
    "len_before = df.shape[0]\n",
    "df.drop_duplicates(inplace=True)\n",
    "len_after = df.shape[0]\n",
    "\n",
    "print(\"Before =\", len_before)\n",
    "# drop duplicates\n",
    "print(\"After =\", len_after)\n",
    "print('')\n",
    "print(\"Total Removed =\", len_before - len_after)"
   ]
  },
  {
   "cell_type": "code",
   "execution_count": 153,
   "id": "fad212da",
   "metadata": {},
   "outputs": [
    {
     "name": "stdout",
     "output_type": "stream",
     "text": [
      "<class 'pandas.core.frame.DataFrame'>\n",
      "Int64Index: 90652 entries, 0 to 99999\n",
      "Data columns (total 21 columns):\n",
      " #   Column        Non-Null Count  Dtype         \n",
      "---  ------        --------------  -----         \n",
      " 0   business_id   90652 non-null  object        \n",
      " 1   name          90652 non-null  object        \n",
      " 2   address       90652 non-null  object        \n",
      " 3   city          90652 non-null  object        \n",
      " 4   state         90652 non-null  object        \n",
      " 5   postal_code   90652 non-null  object        \n",
      " 6   stars_x       90652 non-null  float64       \n",
      " 7   review_count  90652 non-null  int64         \n",
      " 8   is_open       90652 non-null  int64         \n",
      " 9   attributes    90652 non-null  object        \n",
      " 10  categories    90652 non-null  object        \n",
      " 11  hours         90652 non-null  object        \n",
      " 12  review_id     90652 non-null  object        \n",
      " 13  user_id       90652 non-null  object        \n",
      " 14  stars_y       90652 non-null  float64       \n",
      " 15  useful        90652 non-null  int64         \n",
      " 16  funny         90652 non-null  int64         \n",
      " 17  cool          90652 non-null  int64         \n",
      " 18  text          90652 non-null  object        \n",
      " 19  date          90652 non-null  datetime64[ns]\n",
      " 20  text_len      90652 non-null  int64         \n",
      "dtypes: datetime64[ns](1), float64(2), int64(6), object(12)\n",
      "memory usage: 15.2+ MB\n"
     ]
    }
   ],
   "source": [
    "df.info()"
   ]
  },
  {
   "cell_type": "code",
   "execution_count": 154,
   "id": "f607a6d3",
   "metadata": {},
   "outputs": [
    {
     "name": "stdout",
     "output_type": "stream",
     "text": [
      "Austin           15652\n",
      "Portland         11691\n",
      "Boston           9222 \n",
      "Atlanta          8913 \n",
      "Vancouver        6763 \n",
      "                 ...  \n",
      "Middleton        1    \n",
      "Lithopolis       1    \n",
      "Harrisburg       1    \n",
      "BURNABY          1    \n",
      "East Weymouth    1    \n",
      "Name: city, Length: 274, dtype: int64 \n",
      "\n",
      "MA    24117\n",
      "TX    16203\n",
      "OR    14174\n",
      "FL    11246\n",
      "GA    11221\n",
      "BC    7280 \n",
      "OH    3748 \n",
      "CO    1387 \n",
      "WA    1273 \n",
      "KS    3    \n",
      "Name: state, dtype: int64 \n",
      "\n"
     ]
    }
   ],
   "source": [
    "# show counts values of each categorical variable\n",
    "print (df['city'].value_counts(), '\\n')\n",
    "print (df['state'].value_counts(), '\\n')"
   ]
  },
  {
   "cell_type": "code",
   "execution_count": 155,
   "id": "97e666e1",
   "metadata": {},
   "outputs": [
    {
     "name": "stdout",
     "output_type": "stream",
     "text": [
      "90652\n",
      "90649\n"
     ]
    }
   ],
   "source": [
    "print(len(df))\n",
    "df = df[df['state'] != 'KS'].copy()\n",
    "print(len(df))"
   ]
  },
  {
   "cell_type": "markdown",
   "id": "2dc07eac",
   "metadata": {},
   "source": [
    "**Note:** There are not enough observations for Kansas, these have been dropped."
   ]
  },
  {
   "cell_type": "markdown",
   "id": "93a1b95e",
   "metadata": {},
   "source": [
    "**Variable Descriptions:**  \n",
    "\n",
    "1. **business_id:** string, 22 character unique string business id\n",
    "1. **name:** string, the business's name\n",
    "1. **address:** string, the full address of the business\n",
    "1. **city:** string, the city\n",
    "1. **state:** string, 2 character state code, if applicable\n",
    "1. **postal code:** string, the postal code\n",
    "1. **latitude:** float, latitude\n",
    "1. **longitude:** float, longitude\n",
    "1. **stars_x:** float, star rating, rounded to half-stars\n",
    "1. **review_count:** integer, number of reviews\n",
    "1. **is_open:** integer, 0 or 1 for closed or open, respectively\n",
    "1. **attributes:** object, business attributes to values. note: some attribute values might be objects\n",
    "1. **categories:** an array of strings of business categories\n",
    "1. **hours:** an object of key day to value hours, hours are using a 24hr clock\n",
    "1. **review_id:** string, 22 character unique string review id\n",
    "1. **stars_y:** integer, star rating (the data is a float64 here, but only valid numbers were integers 1-5)\n",
    "1. **useful:** integer, number of useful votes received\n",
    "1. **funny:** integer, number of funny votes received\n",
    "1. **cool:** integer, number of cool votes received"
   ]
  },
  {
   "cell_type": "code",
   "execution_count": 156,
   "id": "97ba5286",
   "metadata": {},
   "outputs": [],
   "source": [
    "# add a column for positive or negative\n",
    "df['target'] = df['stars_x'].apply(lambda c: 0 if c < 4 else 1)"
   ]
  },
  {
   "cell_type": "markdown",
   "id": "5a2fbc21",
   "metadata": {},
   "source": [
    "## EDA"
   ]
  },
  {
   "cell_type": "code",
   "execution_count": 157,
   "id": "35694d84",
   "metadata": {},
   "outputs": [
    {
     "data": {
      "text/html": [
       "<div>\n",
       "<style scoped>\n",
       "    .dataframe tbody tr th:only-of-type {\n",
       "        vertical-align: middle;\n",
       "    }\n",
       "\n",
       "    .dataframe tbody tr th {\n",
       "        vertical-align: top;\n",
       "    }\n",
       "\n",
       "    .dataframe thead th {\n",
       "        text-align: right;\n",
       "    }\n",
       "</style>\n",
       "<table border=\"1\" class=\"dataframe\">\n",
       "  <thead>\n",
       "    <tr style=\"text-align: right;\">\n",
       "      <th></th>\n",
       "      <th>stars_x</th>\n",
       "      <th>review_count</th>\n",
       "      <th>is_open</th>\n",
       "      <th>stars_y</th>\n",
       "      <th>useful</th>\n",
       "      <th>funny</th>\n",
       "      <th>cool</th>\n",
       "      <th>text_len</th>\n",
       "      <th>target</th>\n",
       "    </tr>\n",
       "  </thead>\n",
       "  <tbody>\n",
       "    <tr>\n",
       "      <th>count</th>\n",
       "      <td>90649.000000</td>\n",
       "      <td>90649.000000</td>\n",
       "      <td>90649.000000</td>\n",
       "      <td>90649.000000</td>\n",
       "      <td>90649.000000</td>\n",
       "      <td>90649.000000</td>\n",
       "      <td>90649.000000</td>\n",
       "      <td>90649.000000</td>\n",
       "      <td>90649.000000</td>\n",
       "    </tr>\n",
       "    <tr>\n",
       "      <th>mean</th>\n",
       "      <td>3.749611</td>\n",
       "      <td>424.967578</td>\n",
       "      <td>0.789319</td>\n",
       "      <td>3.802215</td>\n",
       "      <td>0.958190</td>\n",
       "      <td>0.326953</td>\n",
       "      <td>0.368454</td>\n",
       "      <td>576.716235</td>\n",
       "      <td>0.573090</td>\n",
       "    </tr>\n",
       "    <tr>\n",
       "      <th>std</th>\n",
       "      <td>0.639393</td>\n",
       "      <td>669.496044</td>\n",
       "      <td>0.407794</td>\n",
       "      <td>1.356062</td>\n",
       "      <td>2.103044</td>\n",
       "      <td>1.188864</td>\n",
       "      <td>1.193615</td>\n",
       "      <td>526.057956</td>\n",
       "      <td>0.494632</td>\n",
       "    </tr>\n",
       "    <tr>\n",
       "      <th>min</th>\n",
       "      <td>1.000000</td>\n",
       "      <td>5.000000</td>\n",
       "      <td>0.000000</td>\n",
       "      <td>1.000000</td>\n",
       "      <td>0.000000</td>\n",
       "      <td>0.000000</td>\n",
       "      <td>0.000000</td>\n",
       "      <td>5.000000</td>\n",
       "      <td>0.000000</td>\n",
       "    </tr>\n",
       "    <tr>\n",
       "      <th>25%</th>\n",
       "      <td>3.500000</td>\n",
       "      <td>79.000000</td>\n",
       "      <td>1.000000</td>\n",
       "      <td>3.000000</td>\n",
       "      <td>0.000000</td>\n",
       "      <td>0.000000</td>\n",
       "      <td>0.000000</td>\n",
       "      <td>236.000000</td>\n",
       "      <td>0.000000</td>\n",
       "    </tr>\n",
       "    <tr>\n",
       "      <th>50%</th>\n",
       "      <td>4.000000</td>\n",
       "      <td>214.000000</td>\n",
       "      <td>1.000000</td>\n",
       "      <td>4.000000</td>\n",
       "      <td>0.000000</td>\n",
       "      <td>0.000000</td>\n",
       "      <td>0.000000</td>\n",
       "      <td>416.000000</td>\n",
       "      <td>1.000000</td>\n",
       "    </tr>\n",
       "    <tr>\n",
       "      <th>75%</th>\n",
       "      <td>4.000000</td>\n",
       "      <td>477.000000</td>\n",
       "      <td>1.000000</td>\n",
       "      <td>5.000000</td>\n",
       "      <td>1.000000</td>\n",
       "      <td>0.000000</td>\n",
       "      <td>0.000000</td>\n",
       "      <td>733.000000</td>\n",
       "      <td>1.000000</td>\n",
       "    </tr>\n",
       "    <tr>\n",
       "      <th>max</th>\n",
       "      <td>5.000000</td>\n",
       "      <td>4708.000000</td>\n",
       "      <td>1.000000</td>\n",
       "      <td>5.000000</td>\n",
       "      <td>128.000000</td>\n",
       "      <td>39.000000</td>\n",
       "      <td>47.000000</td>\n",
       "      <td>5000.000000</td>\n",
       "      <td>1.000000</td>\n",
       "    </tr>\n",
       "  </tbody>\n",
       "</table>\n",
       "</div>"
      ],
      "text/plain": [
       "            stars_x  review_count       is_open       stars_y        useful  \\\n",
       "count  90649.000000  90649.000000  90649.000000  90649.000000  90649.000000   \n",
       "mean   3.749611      424.967578    0.789319      3.802215      0.958190       \n",
       "std    0.639393      669.496044    0.407794      1.356062      2.103044       \n",
       "min    1.000000      5.000000      0.000000      1.000000      0.000000       \n",
       "25%    3.500000      79.000000     1.000000      3.000000      0.000000       \n",
       "50%    4.000000      214.000000    1.000000      4.000000      0.000000       \n",
       "75%    4.000000      477.000000    1.000000      5.000000      1.000000       \n",
       "max    5.000000      4708.000000   1.000000      5.000000      128.000000     \n",
       "\n",
       "              funny          cool      text_len        target  \n",
       "count  90649.000000  90649.000000  90649.000000  90649.000000  \n",
       "mean   0.326953      0.368454      576.716235    0.573090      \n",
       "std    1.188864      1.193615      526.057956    0.494632      \n",
       "min    0.000000      0.000000      5.000000      0.000000      \n",
       "25%    0.000000      0.000000      236.000000    0.000000      \n",
       "50%    0.000000      0.000000      416.000000    1.000000      \n",
       "75%    0.000000      0.000000      733.000000    1.000000      \n",
       "max    39.000000     47.000000     5000.000000   1.000000      "
      ]
     },
     "execution_count": 157,
     "metadata": {},
     "output_type": "execute_result"
    }
   ],
   "source": [
    "df.describe()"
   ]
  },
  {
   "cell_type": "markdown",
   "id": "1e6565b3-db31-4801-b4e7-8ff17e41bdd6",
   "metadata": {},
   "source": [
    "**Observations:**\n",
    "1. There are over `90k` observations in the dataset.\n",
    "1. Overal star ratings for places tend to be on the positive side.  A mean of `3.5` and the `50%` and `75%` values are `4.0`.\n",
    "1. For individuatl reviews there is a similar pattern.  About the same mean value at `3.8` (slightly higher).\n",
    "1. The longest review in the list is `5000` characters.  Probably the limit of characters."
   ]
  },
  {
   "cell_type": "code",
   "execution_count": 158,
   "id": "a1c695b0",
   "metadata": {},
   "outputs": [
    {
     "data": {
      "image/png": "[encoded data removed]",
      "text/plain": [
       "<Figure size 864x576 with 2 Axes>"
      ]
     },
     "metadata": {
      "needs_background": "light"
     },
     "output_type": "display_data"
    }
   ],
   "source": [
    "corr = df.corr()\n",
    "\n",
    "f, ax = plt.subplots(figsize=(12, 8))\n",
    "\n",
    "sns.heatmap(corr, cmap=\"Blues\", annot=True, square=False, ax=ax,  linewidth = 1)\n",
    "plt.title('Pearson Correlation of Features')\n",
    "plt.yticks(rotation=45);"
   ]
  },
  {
   "cell_type": "code",
   "execution_count": 159,
   "id": "c62194e7",
   "metadata": {},
   "outputs": [
    {
     "data": {
      "image/png": "[encoded data removed]",
      "text/plain": [
       "<Figure size 720x360 with 1 Axes>"
      ]
     },
     "metadata": {
      "needs_background": "light"
     },
     "output_type": "display_data"
    }
   ],
   "source": [
    "plt.figure(figsize=(10,5))\n",
    "sns.countplot(data=df, x='state', palette='tab20c')\n",
    "plt.title(\"Total Count of Reviews by State\", weight='bold').set_fontsize('16')\n",
    "plt.xlabel(\"State\")\n",
    "plt.ylabel(\"Count\");"
   ]
  },
  {
   "cell_type": "markdown",
   "id": "81a53302-53c4-4a60-a5ae-a6c05c2c7165",
   "metadata": {},
   "source": [
    "**Observations:**\n",
    "1. `TX`, `MA`, `OR`, and `FL` have the most reviews in the dataset.\n",
    "1. There are relativley small number for `CO` and `WA`. "
   ]
  },
  {
   "cell_type": "code",
   "execution_count": 160,
   "id": "2e1a1cce",
   "metadata": {},
   "outputs": [
    {
     "data": {
      "image/png": "[encoded data removed]",
      "text/plain": [
       "<Figure size 720x360 with 1 Axes>"
      ]
     },
     "metadata": {
      "needs_background": "light"
     },
     "output_type": "display_data"
    }
   ],
   "source": [
    "plt.figure(figsize=(10,5))\n",
    "sns.countplot(data=df, x=\"stars_x\", palette='tab20c')\n",
    "plt.title(\"Total Count of Reviews by Star Value\", weight='bold').set_fontsize('16')\n",
    "plt.xlabel(\"Star Value\")\n",
    "plt.ylabel(\"Count\");"
   ]
  },
  {
   "cell_type": "markdown",
   "id": "c47f754f-2c8f-447c-8032-d7ad02ff7233",
   "metadata": {},
   "source": [
    "**Observations:**\n",
    " - When looking at the star distributions for each *businesses average* (count by value), we can see that as we saw above, they tend to be biasted towards the `4.0` values.\n",
    " - However, interesting that ther are not many `5.0` star reviews, most people tend to rate `3.5` to `4.5`."
   ]
  },
  {
   "cell_type": "code",
   "execution_count": 161,
   "id": "afb2d647-3b23-4791-aa3f-eaeadb05ac91",
   "metadata": {},
   "outputs": [
    {
     "data": {
      "image/png": "[encoded data removed]",
      "text/plain": [
       "<Figure size 720x360 with 1 Axes>"
      ]
     },
     "metadata": {
      "needs_background": "light"
     },
     "output_type": "display_data"
    }
   ],
   "source": [
    "plt.figure(figsize=(10,5))\n",
    "sns.countplot(data=df, x=\"stars_y\", palette='tab20c')\n",
    "plt.title(\"Total Count of Reviews by Star Value\", weight='bold').set_fontsize('16')\n",
    "plt.xlabel(\"Star Value\")\n",
    "plt.ylabel(\"Count\");"
   ]
  },
  {
   "cell_type": "markdown",
   "id": "e32cccea-aa7f-4638-b382-6528771f110d",
   "metadata": {},
   "source": [
    "**Observations:**\n",
    " - When looking at the star distributions for each *review*, we see a slightly different pattern. a much larger proportion of `5.0` reviews. \n",
    " - There is a much more pronounced quantity of `1.0` star reviews as well."
   ]
  },
  {
   "cell_type": "code",
   "execution_count": 162,
   "id": "2a3fcc42",
   "metadata": {},
   "outputs": [
    {
     "data": {
      "image/png": "[encoded data removed]",
      "text/plain": [
       "<Figure size 720x720 with 8 Axes>"
      ]
     },
     "metadata": {
      "needs_background": "light"
     },
     "output_type": "display_data"
    }
   ],
   "source": [
    "numeric_data = df.select_dtypes(include=['int64'])\n",
    "numeric_data.plot(figsize=(10,10), kind='density',subplots=True, layout=(4,2), sharex=False);"
   ]
  },
  {
   "cell_type": "markdown",
   "id": "f91408a6-009f-4ded-83d1-664a384aa387",
   "metadata": {},
   "source": [
    "**Observations:**\n",
    " - Given the nature of the remaining values (mostly binary, review counts, or counters for the \"likes\"), these distributions do not tell us too much."
   ]
  },
  {
   "cell_type": "code",
   "execution_count": 163,
   "id": "4b3f10f8",
   "metadata": {},
   "outputs": [
    {
     "data": {
      "image/png": "[encoded data removed]",
      "text/plain": [
       "<Figure size 720x360 with 1 Axes>"
      ]
     },
     "metadata": {
      "needs_background": "light"
     },
     "output_type": "display_data"
    }
   ],
   "source": [
    "plt.figure(figsize=(10,5))\n",
    "sns.histplot(x='review_count', data=df, bins=50);\n",
    "plt.title(\"Distribution of Count of Reviews\", weight='bold').set_fontsize('16')\n",
    "plt.xlabel(\"Review Count\")\n",
    "plt.ylabel(\"Bin Count\");"
   ]
  },
  {
   "cell_type": "markdown",
   "id": "d4016255-e8d5-4b20-9cbc-10cd7e49a2e0",
   "metadata": {},
   "source": [
    "**Observations:**\n",
    " - Regarding the number of reviews per business, most businesses tend to have a lower count of reviews, in the `10's` or `100's`.   \n",
    " - The max number is well above `4,000`"
   ]
  },
  {
   "cell_type": "code",
   "execution_count": 164,
   "id": "4ac985de",
   "metadata": {},
   "outputs": [
    {
     "data": {
      "image/png": "[encoded data removed]",
      "text/plain": [
       "<Figure size 720x360 with 1 Axes>"
      ]
     },
     "metadata": {
      "needs_background": "light"
     },
     "output_type": "display_data"
    }
   ],
   "source": [
    "plt.figure(figsize=(10,5))\n",
    "sns.boxplot(data=df, x='state', y='stars_x', palette=\"tab20c\")\n",
    "plt.title(\"Star Disribution by State\", weight='bold').set_fontsize('16')\n",
    "plt.xlabel(\"State\")\n",
    "plt.ylabel(\"Stars\");"
   ]
  },
  {
   "cell_type": "markdown",
   "id": "2761f5df-e2c0-4c17-81ee-8bc3708c612c",
   "metadata": {},
   "source": [
    "**Notes**\n",
    "- The mean ofall states appears to be exatctly 4.0 stars.  While there are outliers in each, there is a very uniform distribution between states in the dataset. \n",
    "- `CO`, `OR`, and `TX` have a slightly larger variance around the median.\n",
    "- The rest of the states have their innerquartile range falling below `4.0` stars."
   ]
  },
  {
   "cell_type": "code",
   "execution_count": 165,
   "id": "65e787f7",
   "metadata": {},
   "outputs": [
    {
     "data": {
      "image/png": "[encoded data removed]",
      "text/plain": [
       "<Figure size 360x360 with 1 Axes>"
      ]
     },
     "metadata": {
      "needs_background": "light"
     },
     "output_type": "display_data"
    }
   ],
   "source": [
    "plt.figure(figsize=(5,5))\n",
    "sns.boxplot(data=df, x='is_open', y='stars_x', palette=\"tab20c\")\n",
    "plt.title(\"Star Disribution by Open/Closed\", weight='bold').set_fontsize('16')\n",
    "plt.xlabel(\"Open = 1 / Closed = 0\")\n",
    "plt.ylabel(\"Stars\");"
   ]
  },
  {
   "cell_type": "markdown",
   "id": "db9ae6bc-c4b0-4f20-99c9-15260c32278b",
   "metadata": {},
   "source": [
    "**Notes:**\n",
    "- Between open and closed reviews, there is a slightly smaller innerquartile range around the mean for open stores.\n",
    "- There also is a larger range for the upper and lower quartiles."
   ]
  },
  {
   "cell_type": "code",
   "execution_count": 166,
   "id": "c8d26bef-c3dd-4ade-8240-82bcc33f606d",
   "metadata": {},
   "outputs": [
    {
     "data": {
      "image/png": "[encoded data removed]",
      "text/plain": [
       "<Figure size 576x432 with 1 Axes>"
      ]
     },
     "metadata": {
      "needs_background": "light"
     },
     "output_type": "display_data"
    }
   ],
   "source": [
    "df_most_reviews = df.groupby('name').mean().sort_values('review_count', ascending=False)[0:10]\n",
    "df_most_reviews.reset_index(inplace=True)\n",
    "plt.figure(figsize=(8,6))\n",
    "sns.barplot(y='name', x='review_count' , data=df_most_reviews, palette=\"tab20\")\n",
    "plt.title(\"Count for Top Reviewed Businesses\", weight='bold').set_fontsize('16')\n",
    "plt.xlabel(\"Review Count\")\n",
    "plt.ylabel(\"\");"
   ]
  },
  {
   "cell_type": "markdown",
   "id": "b549ef82-92de-4bee-a8cf-a1856d1534c7",
   "metadata": {},
   "source": [
    "**Observations:**\n",
    " - A quick view of the top related restaraunts.  Burgers, BBQ, Dougnuts.  All of them appear to be `food` related businesses."
   ]
  },
  {
   "cell_type": "code",
   "execution_count": 167,
   "id": "3da42ba6-e143-435a-8288-bf962d3775c4",
   "metadata": {},
   "outputs": [
    {
     "data": {
      "image/png": "[encoded data removed]",
      "text/plain": [
       "<Figure size 720x360 with 1 Axes>"
      ]
     },
     "metadata": {
      "needs_background": "light"
     },
     "output_type": "display_data"
    }
   ],
   "source": [
    "df_year = df.groupby(pd.Grouper(key='date',freq='Y')).sum()\n",
    "df_year.reset_index(inplace=True)\n",
    "plt.figure(figsize=(10,5))\n",
    "g = sns.barplot(data=df_year, x='date', y='review_count', palette='tab20c')\n",
    "g.set_xticks(range(len(df_year)))\n",
    "g.set_xticklabels(['2004', '2005', '2006', '2007', '2008', '2009', '2010', '2011', '2012','2013','2014','2015','2016','2017','2018'], \n",
    "                  rotation=90)\n",
    "plt.title(\"Count of Reviews by Year\", weight='bold').set_fontsize('16')\n",
    "plt.xlabel(\"Year\")\n",
    "plt.ylabel(\"Count\");"
   ]
  },
  {
   "cell_type": "markdown",
   "id": "259b8075-434c-430f-9cc1-79ee56c37f08",
   "metadata": {},
   "source": [
    "**Observations:**\n",
    "- The number of reviews spans from `2004` to `2018` and increases through the `15-16-17` years with slightly less in `2018`."
   ]
  },
  {
   "cell_type": "markdown",
   "id": "9b104d41",
   "metadata": {},
   "source": [
    "### Check for Outliers"
   ]
  },
  {
   "cell_type": "code",
   "execution_count": 168,
   "id": "2d3a9a71",
   "metadata": {},
   "outputs": [],
   "source": [
    "# Function to print the number of outliers in a column.\n",
    "def get_outliers(df):\n",
    "    '''Function to identify the number of outliers +/- 3 standard deviations outside of mean.\n",
    "    Pass this function a dataframe and it returns a dictionary'''\n",
    "    \n",
    "    outs = {}\n",
    "    \n",
    "    df = df.select_dtypes(include=['int64'])\n",
    "\n",
    "    \n",
    "    for col in df.columns:\n",
    "        \n",
    "        # calculate summary statistics\n",
    "        data_mean, data_std = np.mean(df[col]), np.std(df[col])\n",
    "        \n",
    "        # identify outliers\n",
    "        cut_off = data_std * 3\n",
    "        lower, upper = data_mean - cut_off, data_mean + cut_off\n",
    "        \n",
    "        # identify outliers\n",
    "        outliers = [x for x in df[col] if x < lower or x > upper]\n",
    "        \n",
    "        outs[col] = len(outliers)\n",
    "        \n",
    "    return outs"
   ]
  },
  {
   "cell_type": "code",
   "execution_count": 169,
   "id": "05ca74cb",
   "metadata": {},
   "outputs": [
    {
     "data": {
      "text/plain": [
       "{'review_count': 2195,\n",
       " 'is_open': 0,\n",
       " 'useful': 1389,\n",
       " 'funny': 1615,\n",
       " 'cool': 1643,\n",
       " 'text_len': 1781,\n",
       " 'target': 0}"
      ]
     },
     "execution_count": 169,
     "metadata": {},
     "output_type": "execute_result"
    }
   ],
   "source": [
    "get_outliers(df)"
   ]
  },
  {
   "cell_type": "markdown",
   "id": "12bbf93c",
   "metadata": {},
   "source": [
    "## Text Cleaning\n",
    "\n",
    "For **Parts** of our analysis, the text needs to have some basic transformation for our models to work propertly.  These are as follows:\n",
    "\n",
    "1. **Lower**: Convert all characters to lowercase\n",
    "1. **Remove Punctuation**: In most cases, punctuation doesn't help NLP and ML models and can be removed.\n",
    "1. **Stop Word Removal**: Stop words generally don't add context to analysis (unless the length of text is very short (`100` - `200` characters) and can be removed.\n",
    "1. **Lemmatization**: Words will be reduced to there *Lemma* or root.  This will greatly improve the accuracy of the analysis since words like `simming` and `swimmer` will be reduced to `swim`.\n",
    "\n",
    "**Note**: The orginal text will be preserved for other analysis."
   ]
  },
  {
   "cell_type": "code",
   "execution_count": 170,
   "id": "3e76c0f0",
   "metadata": {},
   "outputs": [
    {
     "data": {
      "text/plain": [
       "\"Stopped in on a busy Friday night. Despite the crowd, the service was expedient and warm. \\n\\nThe beers here speak for themselves, so we sampled some of their taproom only offerings, and the galaxy smash was clean, tropical and sessionable.\\n\\nThis being said, the real star of this place is the pizza. It's a hand tossed style crust, that's the perfect mix of crispy and doughy. We ordered the special pizza (luau- bacon, pineapple and fresh jalapeño), and it was the perfect mix of fat, sweetness and heat. \\n\\nIf you're looking for a comfortable spot to grab a beer, and share some food with some friends on pearl, this is the place!\""
      ]
     },
     "execution_count": 170,
     "metadata": {},
     "output_type": "execute_result"
    }
   ],
   "source": [
    "df['text'][0]"
   ]
  },
  {
   "cell_type": "code",
   "execution_count": 171,
   "id": "6b6b0273",
   "metadata": {},
   "outputs": [],
   "source": [
    "def clean_string(text, stem=\"None\"):\n",
    "    \n",
    "    final_string = \"\"\n",
    "    \n",
    "    # Make lower\n",
    "    text = text.lower()\n",
    "    \n",
    "    translator = str.maketrans('', '', string.punctuation)\n",
    "    text = text.translate(translator)\n",
    "\n",
    "    text = text.split()\n",
    "    useless_words = nltk.corpus.stopwords.words(\"english\") + list(string.punctuation)\n",
    "    useless_words = useless_words + ['.', ',', '!', \"'\"]\n",
    "    \n",
    "    # Remove stop words\n",
    "    text_filtered = [word for word in text if not word in useless_words]\n",
    "    \n",
    "    # Remove numbers\n",
    "    text_filtered = [re.sub('\\w*\\d\\w*', '', w) for w in text_filtered]\n",
    "    \n",
    "    # Stem or Lemmatize\n",
    "    if stem == 'Stem':\n",
    "        stemmer = PorterStemmer() \n",
    "        text_stemmed = [stemmer.stem(y) for y in text_filtered]\n",
    "    elif stem == 'Lem':\n",
    "        lem = WordNetLemmatizer()\n",
    "        text_stemmed = [lem.lemmatize(y) for y in text_filtered]\n",
    "    else:\n",
    "        text_stemmed = text_filtered\n",
    "    \n",
    "    for word in text_stemmed:\n",
    "        final_string += word + \" \"\n",
    "    \n",
    "    return final_string"
   ]
  },
  {
   "cell_type": "code",
   "execution_count": 172,
   "id": "778cffdc",
   "metadata": {},
   "outputs": [],
   "source": [
    "df['text_clean'] = df['text'].apply(lambda x: clean_string(x, stem='Lem'))"
   ]
  },
  {
   "cell_type": "code",
   "execution_count": 173,
   "id": "af127bbd",
   "metadata": {},
   "outputs": [
    {
     "data": {
      "text/plain": [
       "'stopped busy friday night despite crowd service expedient warm beer speak sampled taproom offering galaxy smash clean tropical sessionable said real star place pizza hand tossed style crust thats perfect mix crispy doughy ordered special pizza luau bacon pineapple fresh jalapeño perfect mix fat sweetness heat youre looking comfortable spot grab beer share food friend pearl place '"
      ]
     },
     "execution_count": 173,
     "metadata": {},
     "output_type": "execute_result"
    }
   ],
   "source": [
    "df['text_clean'][0]"
   ]
  },
  {
   "cell_type": "markdown",
   "id": "25119653",
   "metadata": {},
   "source": [
    "## Sentiment Analysis\n",
    "\n",
    "For our sentiment analysis section, we will be using the `TextBlob` package to assist in creating `polarity scores` or sentiment scores that range from `-1` to `1` where lower scores are more negative and higher more positive.  Based off of these scores, we'll add a classifier of `1` for positive and `0` for negative to be used later in our prediction model. \n",
    "\n",
    "**Note**: `0` is technically nuetral sentiment, we'll verify how many observations were neutral before assuming we can use a binary label."
   ]
  },
  {
   "cell_type": "code",
   "execution_count": 174,
   "id": "828fe8e7",
   "metadata": {},
   "outputs": [],
   "source": [
    "def get_sentiment(x):\n",
    "    '''using TextBlob, get the sentiment score for a given body of text'''\n",
    "    blob = TextBlob(x)\n",
    "    return blob.sentiment.polarity"
   ]
  },
  {
   "cell_type": "code",
   "execution_count": 175,
   "id": "54a91597",
   "metadata": {},
   "outputs": [],
   "source": [
    "# Apply the Polarity Scoring from TextBlob\n",
    "df['sentiment'] = df['text'].apply(lambda x: get_sentiment(x))"
   ]
  },
  {
   "cell_type": "code",
   "execution_count": 176,
   "id": "93b91617",
   "metadata": {},
   "outputs": [],
   "source": [
    "# Create a few extra columns to aid in the analysis\n",
    "df['sentiment_label'] = df['sentiment'].apply(lambda x: 1 if x > 0 else 0)"
   ]
  },
  {
   "cell_type": "code",
   "execution_count": 177,
   "id": "8e7b493a",
   "metadata": {},
   "outputs": [
    {
     "data": {
      "text/html": [
       "<div>\n",
       "<style scoped>\n",
       "    .dataframe tbody tr th:only-of-type {\n",
       "        vertical-align: middle;\n",
       "    }\n",
       "\n",
       "    .dataframe tbody tr th {\n",
       "        vertical-align: top;\n",
       "    }\n",
       "\n",
       "    .dataframe thead th {\n",
       "        text-align: right;\n",
       "    }\n",
       "</style>\n",
       "<table border=\"1\" class=\"dataframe\">\n",
       "  <thead>\n",
       "    <tr style=\"text-align: right;\">\n",
       "      <th></th>\n",
       "      <th>text_clean</th>\n",
       "      <th>sentiment</th>\n",
       "      <th>sentiment_label</th>\n",
       "    </tr>\n",
       "  </thead>\n",
       "  <tbody>\n",
       "    <tr>\n",
       "      <th>58515</th>\n",
       "      <td>recently austin business stopped new bra service selection amazing ended restocking intimate load new wonderful item cant wait return next time im town</td>\n",
       "      <td>0.312121</td>\n",
       "      <td>1</td>\n",
       "    </tr>\n",
       "    <tr>\n",
       "      <th>21743</th>\n",
       "      <td>love place good indian food happy bring indian father meal quality good although last time told make food spicy spicy sweating dinner guess spicy even u indian pricey side though try go lunch buffet</td>\n",
       "      <td>0.589167</td>\n",
       "      <td>1</td>\n",
       "    </tr>\n",
       "    <tr>\n",
       "      <th>22436</th>\n",
       "      <td>alot fun like dj karaoke forget line help alot staff friendly outgoing bad fall short staffed busy day take awhile get around friend mine go fried mushroom made sick point leave go home miss fun</td>\n",
       "      <td>-0.047793</td>\n",
       "      <td>0</td>\n",
       "    </tr>\n",
       "    <tr>\n",
       "      <th>68079</th>\n",
       "      <td>really dig fun hut outside think space nice laid back food didnt make sing waiter nice recommended try slow cooked pork wasnt huge fan needed douse hot sauce add flavor really fatty sort turned stomach black bean nicely seasoned fried plantain pretty fantastic mess ive eaten twice top ten wouldntt throw fit go eat</td>\n",
       "      <td>0.193796</td>\n",
       "      <td>1</td>\n",
       "    </tr>\n",
       "    <tr>\n",
       "      <th>16921</th>\n",
       "      <td>poorly maintained course perhaps considered cheap  hole still priced get front  consists wide open straight ahead fairway back  amp difficulty slightly add wood lose ball however crabgrass dominates fairway burn cover least  green good chance ball end dead spot hardened dirt anytime tee course wreck havoc score said range usually open plenty parking cant justify spending  travel west mile pay amount much higher quality course</td>\n",
       "      <td>0.045556</td>\n",
       "      <td>1</td>\n",
       "    </tr>\n",
       "  </tbody>\n",
       "</table>\n",
       "</div>"
      ],
      "text/plain": [
       "                                                                                                                                                                                                                                                                                                                                                                                                                                           text_clean  \\\n",
       "58515  recently austin business stopped new bra service selection amazing ended restocking intimate load new wonderful item cant wait return next time im town                                                                                                                                                                                                                                                                                          \n",
       "21743  love place good indian food happy bring indian father meal quality good although last time told make food spicy spicy sweating dinner guess spicy even u indian pricey side though try go lunch buffet                                                                                                                                                                                                                                           \n",
       "22436  alot fun like dj karaoke forget line help alot staff friendly outgoing bad fall short staffed busy day take awhile get around friend mine go fried mushroom made sick point leave go home miss fun                                                                                                                                                                                                                                               \n",
       "68079  really dig fun hut outside think space nice laid back food didnt make sing waiter nice recommended try slow cooked pork wasnt huge fan needed douse hot sauce add flavor really fatty sort turned stomach black bean nicely seasoned fried plantain pretty fantastic mess ive eaten twice top ten wouldntt throw fit go eat                                                                                                                      \n",
       "16921  poorly maintained course perhaps considered cheap  hole still priced get front  consists wide open straight ahead fairway back  amp difficulty slightly add wood lose ball however crabgrass dominates fairway burn cover least  green good chance ball end dead spot hardened dirt anytime tee course wreck havoc score said range usually open plenty parking cant justify spending  travel west mile pay amount much higher quality course    \n",
       "\n",
       "       sentiment  sentiment_label  \n",
       "58515  0.312121   1                \n",
       "21743  0.589167   1                \n",
       "22436 -0.047793   0                \n",
       "68079  0.193796   1                \n",
       "16921  0.045556   1                "
      ]
     },
     "execution_count": 177,
     "metadata": {},
     "output_type": "execute_result"
    }
   ],
   "source": [
    "df[df.columns[-3:]].sample(5, random_state=555)"
   ]
  },
  {
   "cell_type": "code",
   "execution_count": 178,
   "id": "1101b0d6",
   "metadata": {},
   "outputs": [
    {
     "data": {
      "image/png": "[encoded data removed]",
      "text/plain": [
       "<Figure size 720x360 with 1 Axes>"
      ]
     },
     "metadata": {
      "needs_background": "light"
     },
     "output_type": "display_data"
    }
   ],
   "source": [
    "plt.figure(figsize=(10, 5))\n",
    "sns.histplot(df, x='sentiment', palette=\"tab20c\", bins=30);"
   ]
  },
  {
   "cell_type": "code",
   "execution_count": 179,
   "id": "67ccc80b",
   "metadata": {},
   "outputs": [
    {
     "name": "stdout",
     "output_type": "stream",
     "text": [
      "Number of entries with a 0 sentiment score: 575\n"
     ]
    }
   ],
   "source": [
    "print(f\"Number of entries with a 0 sentiment score: {len(df[df['sentiment'] == 0])}\")"
   ]
  },
  {
   "cell_type": "markdown",
   "id": "c8cb0462",
   "metadata": {},
   "source": [
    "**Observations:**\n",
    "\n",
    "The distributions of sentiment, similar to the `1-5` star reviews is left skewed to the positive.  There are very few that have a `<0` polartity score."
   ]
  },
  {
   "cell_type": "markdown",
   "id": "654d1869",
   "metadata": {},
   "source": [
    "## Positive and Negative Terms\n",
    "\n",
    "There will be an additional analysis below; the first process will be using NLTKs Frequency Distribution (`FreqDist`) function on observations from both negative (`0`) and positive (`1`) reviews."
   ]
  },
  {
   "cell_type": "code",
   "execution_count": 180,
   "id": "aba994b5",
   "metadata": {},
   "outputs": [],
   "source": [
    "# Tokenize the words\n",
    "df['text_tok'] = df['text_clean'].apply(word_tokenize)"
   ]
  },
  {
   "cell_type": "code",
   "execution_count": 181,
   "id": "ec7e3e6a",
   "metadata": {},
   "outputs": [],
   "source": [
    "df_pos = df[df['sentiment_label'] == 1]\n",
    "df_neg = df[df['sentiment_label'] == 0]"
   ]
  },
  {
   "cell_type": "code",
   "execution_count": 182,
   "id": "0550ae6c",
   "metadata": {},
   "outputs": [],
   "source": [
    "freq_stats_pos = [item for sublist in df_pos['text_tok'] for item in sublist]"
   ]
  },
  {
   "cell_type": "code",
   "execution_count": 183,
   "id": "5413a78f",
   "metadata": {},
   "outputs": [
    {
     "data": {
      "text/plain": [
       "[('good', 46618),\n",
       " ('place', 45781),\n",
       " ('food', 44925),\n",
       " ('great', 39996),\n",
       " ('time', 31399),\n",
       " ('like', 28211),\n",
       " ('service', 26863),\n",
       " ('get', 26674),\n",
       " ('one', 26216),\n",
       " ('really', 22467),\n",
       " ('back', 22156),\n",
       " ('go', 21760),\n",
       " ('would', 21267),\n",
       " ('also', 18258),\n",
       " ('nice', 16406),\n",
       " ('restaurant', 15640),\n",
       " ('best', 15570),\n",
       " ('got', 15404),\n",
       " ('well', 14790),\n",
       " ('love', 14734)]"
      ]
     },
     "execution_count": 183,
     "metadata": {},
     "output_type": "execute_result"
    }
   ],
   "source": [
    "fdist_pos = FreqDist(freq_stats_pos)\n",
    "fdist_pos.most_common(20)"
   ]
  },
  {
   "cell_type": "code",
   "execution_count": 184,
   "id": "d9207ab7",
   "metadata": {},
   "outputs": [
    {
     "data": {
      "image/png": "[encoded data removed]",
      "text/plain": [
       "<Figure size 720x360 with 1 Axes>"
      ]
     },
     "metadata": {
      "needs_background": "light"
     },
     "output_type": "display_data"
    }
   ],
   "source": [
    "plt.figure(figsize=(10, 5))\n",
    "fdist_pos.plot(20, cumulative=False)\n",
    "plt.show()"
   ]
  },
  {
   "cell_type": "markdown",
   "id": "63fac0ae",
   "metadata": {},
   "source": [
    "**Observations**: Some of the top words are positive words like `good`, `place`, `food`, and `great`.  `Service` also appears frequently.  Many of the words are ajectives related to the experiences."
   ]
  },
  {
   "cell_type": "code",
   "execution_count": 185,
   "id": "580953e6",
   "metadata": {},
   "outputs": [],
   "source": [
    "freq_stats_neg = [item for sublist in df_neg['text_tok'] for item in sublist]"
   ]
  },
  {
   "cell_type": "code",
   "execution_count": 186,
   "id": "039f28bb",
   "metadata": {},
   "outputs": [
    {
     "data": {
      "text/plain": [
       "[('food', 5694),\n",
       " ('place', 4474),\n",
       " ('time', 4407),\n",
       " ('service', 4183),\n",
       " ('like', 3579),\n",
       " ('get', 3575),\n",
       " ('one', 3524),\n",
       " ('back', 3309),\n",
       " ('would', 3086),\n",
       " ('order', 2879),\n",
       " ('go', 2875),\n",
       " ('chicken', 2782),\n",
       " ('u', 2693),\n",
       " ('never', 2506),\n",
       " ('even', 2434),\n",
       " ('dont', 2357),\n",
       " ('got', 2273),\n",
       " ('minute', 2127),\n",
       " ('ordered', 2113),\n",
       " ('bad', 2094)]"
      ]
     },
     "execution_count": 186,
     "metadata": {},
     "output_type": "execute_result"
    }
   ],
   "source": [
    "fdist_neg = FreqDist(freq_stats_neg)\n",
    "fdist_neg.most_common(20)"
   ]
  },
  {
   "cell_type": "code",
   "execution_count": 187,
   "id": "997bd493",
   "metadata": {},
   "outputs": [
    {
     "data": {
      "image/png": "[encoded data removed]",
      "text/plain": [
       "<Figure size 720x360 with 1 Axes>"
      ]
     },
     "metadata": {
      "needs_background": "light"
     },
     "output_type": "display_data"
    }
   ],
   "source": [
    "plt.figure(figsize=(10, 5))\n",
    "fdist_neg.plot(20, cumulative=False)\n",
    "plt.show()"
   ]
  },
  {
   "cell_type": "markdown",
   "id": "368e90af",
   "metadata": {},
   "source": [
    "**Observations**: The first word in the negative reviews is `food` which also was a positive word.  That would be interesting to investigate further. To check for positive and negative uses of the word `food` in context we can use the `concordance` feature of NLTK."
   ]
  },
  {
   "cell_type": "code",
   "execution_count": 188,
   "id": "1c2735e9",
   "metadata": {},
   "outputs": [
    {
     "name": "stdout",
     "output_type": "stream",
     "text": [
      "Displaying 10 of 44925 matches:\n",
      "ing comfortable spot grab beer share food friend pearl place went pm monday wa\n",
      " put buck got left poor service idea food since didnt even get order second pl\n",
      "ait staff attentive everyone enjoyed food nothing special typical brewery food\n",
      "food nothing special typical brewery food stopped midweek afternoon glad one n\n",
      "anks elephant im usually fan airport food usually like arrive get need go howe\n",
      " seemed popular compared surrounding food area got weekly special french dip s\n",
      "ty cheap compared typical restaurant food fresh probably one best place get no\n",
      "obably one best place get nonairport food airport store goto airport restauran\n",
      "port restaurant last four year fresh food lot allergyfriendly option really ki\n",
      " drink ranging kombucha soda alcohol food look curry ratatouille pastrami sand\n"
     ]
    }
   ],
   "source": [
    "pos_text = nltk.Text(freq_stats_pos)\n",
    "pos_text.concordance('food', lines=10)"
   ]
  },
  {
   "cell_type": "code",
   "execution_count": 189,
   "id": "10562a1c",
   "metadata": {},
   "outputs": [
    {
     "name": "stdout",
     "output_type": "stream",
     "text": [
      "Displaying 10 of 5694 matches:\n",
      "e flying elephant ever hot breakfast food mediocre best burnt dry bland took f\n",
      "rdered espresso americano worse fast food joint complained weak offer remake a\n",
      "ordon blue sandwich little legal sea food kiosk absolutely disgusting lettuce \n",
      "s good brand name mean airport kiosk food decent boy wrong awful eat restauran\n",
      "er flight asked hostess possible get food quickly enough hostess said yes trie\n",
      "ooked silverware imagining delicious food friend told u saw brown mm x mm piec\n",
      "riend told u saw brown mm x mm piece food stuck knife friend flagged bus boy a\n",
      "cook matter good could possibly make food fast enough u enjoy departure asked \n",
      " leave search quicker service actual food water leaving server smiled u done g\n",
      "e time first couple time even though food outstanding bit confused perhaps kit\n"
     ]
    }
   ],
   "source": [
    "neg_text = nltk.Text(freq_stats_neg)\n",
    "neg_text.concordance('food', lines=10)"
   ]
  },
  {
   "cell_type": "markdown",
   "id": "0f157530-8eb5-4805-afff-d20fa0a599be",
   "metadata": {},
   "source": [
    "**Observations:**\n",
    "\n",
    " - When looking at food in context of the various reviews, both `positive` and `negative` we can get an idea of the sentiment of each type.  There are clear positve and negative usages of the same words in context."
   ]
  },
  {
   "cell_type": "markdown",
   "id": "ad8d5d81",
   "metadata": {},
   "source": [
    "# FEATURE SELECTION/ MODELING \n",
    "\n",
    "determine features to be applied and create a model"
   ]
  },
  {
   "cell_type": "code",
   "execution_count": 190,
   "id": "80b1902c",
   "metadata": {},
   "outputs": [],
   "source": [
    "targets = ['categories', 'city', 'state', 'postal_code', 'is_open', 'text_len', 'useful', 'cool', 'funny', 'review_count', 'sentiment']"
   ]
  },
  {
   "cell_type": "code",
   "execution_count": 191,
   "id": "025949ed",
   "metadata": {},
   "outputs": [],
   "source": [
    "catFeat = df[targets].copy()"
   ]
  },
  {
   "cell_type": "code",
   "execution_count": 192,
   "id": "0e8a27fe",
   "metadata": {},
   "outputs": [
    {
     "data": {
      "text/html": [
       "<div>\n",
       "<style scoped>\n",
       "    .dataframe tbody tr th:only-of-type {\n",
       "        vertical-align: middle;\n",
       "    }\n",
       "\n",
       "    .dataframe tbody tr th {\n",
       "        vertical-align: top;\n",
       "    }\n",
       "\n",
       "    .dataframe thead th {\n",
       "        text-align: right;\n",
       "    }\n",
       "</style>\n",
       "<table border=\"1\" class=\"dataframe\">\n",
       "  <thead>\n",
       "    <tr style=\"text-align: right;\">\n",
       "      <th></th>\n",
       "      <th>categories</th>\n",
       "      <th>city</th>\n",
       "      <th>state</th>\n",
       "      <th>postal_code</th>\n",
       "      <th>is_open</th>\n",
       "      <th>text_len</th>\n",
       "      <th>useful</th>\n",
       "      <th>cool</th>\n",
       "      <th>funny</th>\n",
       "      <th>review_count</th>\n",
       "      <th>sentiment</th>\n",
       "    </tr>\n",
       "  </thead>\n",
       "  <tbody>\n",
       "    <tr>\n",
       "      <th>0</th>\n",
       "      <td>2803</td>\n",
       "      <td>24</td>\n",
       "      <td>1</td>\n",
       "      <td>385</td>\n",
       "      <td>1</td>\n",
       "      <td>630</td>\n",
       "      <td>1</td>\n",
       "      <td>0</td>\n",
       "      <td>0</td>\n",
       "      <td>86</td>\n",
       "      <td>0.442381</td>\n",
       "    </tr>\n",
       "    <tr>\n",
       "      <th>1</th>\n",
       "      <td>2803</td>\n",
       "      <td>24</td>\n",
       "      <td>1</td>\n",
       "      <td>385</td>\n",
       "      <td>1</td>\n",
       "      <td>885</td>\n",
       "      <td>0</td>\n",
       "      <td>0</td>\n",
       "      <td>0</td>\n",
       "      <td>86</td>\n",
       "      <td>0.006639</td>\n",
       "    </tr>\n",
       "    <tr>\n",
       "      <th>2</th>\n",
       "      <td>2803</td>\n",
       "      <td>24</td>\n",
       "      <td>1</td>\n",
       "      <td>385</td>\n",
       "      <td>1</td>\n",
       "      <td>174</td>\n",
       "      <td>0</td>\n",
       "      <td>0</td>\n",
       "      <td>0</td>\n",
       "      <td>86</td>\n",
       "      <td>0.666667</td>\n",
       "    </tr>\n",
       "    <tr>\n",
       "      <th>3</th>\n",
       "      <td>2803</td>\n",
       "      <td>24</td>\n",
       "      <td>1</td>\n",
       "      <td>385</td>\n",
       "      <td>1</td>\n",
       "      <td>553</td>\n",
       "      <td>0</td>\n",
       "      <td>0</td>\n",
       "      <td>0</td>\n",
       "      <td>86</td>\n",
       "      <td>0.389201</td>\n",
       "    </tr>\n",
       "    <tr>\n",
       "      <th>4</th>\n",
       "      <td>2803</td>\n",
       "      <td>24</td>\n",
       "      <td>1</td>\n",
       "      <td>385</td>\n",
       "      <td>1</td>\n",
       "      <td>841</td>\n",
       "      <td>0</td>\n",
       "      <td>0</td>\n",
       "      <td>0</td>\n",
       "      <td>86</td>\n",
       "      <td>0.391765</td>\n",
       "    </tr>\n",
       "  </tbody>\n",
       "</table>\n",
       "</div>"
      ],
      "text/plain": [
       "   categories  city  state  postal_code  is_open  text_len  useful  cool  \\\n",
       "0  2803        24    1      385          1        630       1       0      \n",
       "1  2803        24    1      385          1        885       0       0      \n",
       "2  2803        24    1      385          1        174       0       0      \n",
       "3  2803        24    1      385          1        553       0       0      \n",
       "4  2803        24    1      385          1        841       0       0      \n",
       "\n",
       "   funny  review_count  sentiment  \n",
       "0  0      86            0.442381   \n",
       "1  0      86            0.006639   \n",
       "2  0      86            0.666667   \n",
       "3  0      86            0.389201   \n",
       "4  0      86            0.391765   "
      ]
     },
     "execution_count": 192,
     "metadata": {},
     "output_type": "execute_result"
    }
   ],
   "source": [
    "from sklearn.preprocessing import LabelEncoder\n",
    "le = LabelEncoder()\n",
    "\n",
    "\n",
    "catFeat['categories'] = le.fit_transform(catFeat['categories'].astype(str))\n",
    "catFeat['city'] = le.fit_transform(catFeat['city'].astype(str))\n",
    "catFeat['state'] = le.fit_transform(catFeat['state'].astype(str))\n",
    "catFeat['postal_code'] = le.fit_transform(catFeat['postal_code'].astype(str))\n",
    "\n",
    "catFeat.head()"
   ]
  },
  {
   "cell_type": "code",
   "execution_count": 193,
   "id": "db0d158f",
   "metadata": {},
   "outputs": [
    {
     "name": "stdout",
     "output_type": "stream",
     "text": [
      "('categories', 0.2093108697436882)\n",
      "('city', 0.06579102622028224)\n",
      "('postal_code', 0.1565165579798501)\n",
      "('text_len', 0.07285011763829598)\n",
      "('review_count', 0.27318575541456563)\n",
      "('sentiment', 0.12081128141696368)\n",
      "\n",
      " 0.898465608413646\n"
     ]
    }
   ],
   "source": [
    "# Split the data into 30% test and 70% training\n",
    "X_train, X_test, y_train, y_test = train_test_split(catFeat, \n",
    "                                                    df['target'], \n",
    "                                                    test_size=0.3, random_state=0)\n",
    "\n",
    "# Create a random forest classifier for feature importance\n",
    "clf = RandomForestClassifier(random_state=42, n_jobs=-1, class_weight='balanced')\n",
    "\n",
    "clf.fit(X_train, y_train)\n",
    "\n",
    "total_importance = 0\n",
    "# Print the name and gini importance of each feature\n",
    "for feature in zip(targets, clf.feature_importances_):\n",
    "    if feature[1] > .05:\n",
    "        print(feature)\n",
    "        total_importance += feature[1]\n",
    "        \n",
    "print('\\n', total_importance)"
   ]
  },
  {
   "cell_type": "markdown",
   "id": "db13c9de",
   "metadata": {},
   "source": [
    "**Notes:**  \n",
    "\n",
    "Based on the RandomForest test for classifier importance, `categories`, `city`, `postal_code`, `text_len`, and `review_count` are the most important features adding up to about `0.90` of the total importance. "
   ]
  },
  {
   "cell_type": "markdown",
   "id": "922572db",
   "metadata": {},
   "source": [
    "## Sentiment Based Prediction Model:\n",
    "\n",
    "Next, we'll create a Supervised ML model to predict the star rating (`postive` as `4-5` stars and negative `1-3` stars) based on the text from the review and the sentiment of that text, the other categories identified above."
   ]
  },
  {
   "cell_type": "markdown",
   "id": "5b8760ef",
   "metadata": {},
   "source": [
    "### Model Selection\n",
    "\n",
    "There are many algorithms that support binary classificaiton.  We will use two and compare the results in order to select the best model.\n",
    "\n",
    " - **Random Forest Classifier**:  This classifier tends to be very robust.  It was used in the feature selection model above and will be tested against the features it selected.  Due to the nature of running many decision trees, it can take a while to compute on larger datasets.\n",
    " > *A Random Forest classifier is an ensemble learning method for classification, regression and other tasks that operates by constructing a multitude of decision trees at training time and outputting the class that is the mode of the classes (classification) or mean/average prediction (regression) of the individual trees [4].*\n",
    " - **Logistic Regression**: The logistic model is a fast and robust model that tends to run fairly quickly on all types of models.\n",
    " > *The logistic model (or logit model) is used to model the probability of a certain class or event existing such as pass/fail, win/lose, alive/dead or healthy/sick. This can be extended to model several classes of events such as determining whether an image contains a cat, dog, lion, etc. Each object being detected in the image would be assigned a probability between 0 and 1, with a sum of one [5].*\n",
    " - **Decision Tree Classifier**: Finally a simple Decision Tree classifier to compare that to the Random Forest.\n",
    "\n",
    "To create our model, we will be mixing both text and numeric values.  There are multiple ways to accomplish this, but we will be using a `ColumnTransformer` in a Pipeline."
   ]
  },
  {
   "cell_type": "code",
   "execution_count": 196,
   "id": "404225e6",
   "metadata": {},
   "outputs": [],
   "source": [
    "X = df[['categories', 'city', 'postal_code', 'text_len', 'review_count', 'text', 'sentiment']]\n",
    "y = df['target']"
   ]
  },
  {
   "cell_type": "code",
   "execution_count": 197,
   "id": "6de5ede5",
   "metadata": {},
   "outputs": [
    {
     "name": "stdout",
     "output_type": "stream",
     "text": [
      "(90649, 7)\n",
      "(90649,)\n"
     ]
    }
   ],
   "source": [
    "print(X.shape)\n",
    "print(y.shape)"
   ]
  },
  {
   "cell_type": "code",
   "execution_count": 198,
   "id": "8731d485",
   "metadata": {},
   "outputs": [],
   "source": [
    "def create_pipe(clf):\n",
    "    '''Create a pipeline for a given classifier.  The classifier needs to be an instance\n",
    "    of the classifier with all parmeters needed specified.'''\n",
    "    \n",
    "    # Each pipeline uses the same column transformer.  \n",
    "    column_trans = ColumnTransformer(\n",
    "        [('Text', TfidfVectorizer(stop_words='english'), 'text'),\n",
    "         ('Cats', TfidfVectorizer(), 'categories'),\n",
    "         ('Categorical', OneHotEncoder(dtype='int', handle_unknown='ignore'),['postal_code', 'city']),\n",
    "         ('Nums', MinMaxScaler(), ['review_count', 'text_len', 'sentiment'])],\n",
    "        remainder='drop') \n",
    "    \n",
    "    pipeline = Pipeline([('prep',column_trans),\n",
    "                         ('over', SMOTE(random_state=42)),\n",
    "                         ('under', RandomUnderSampler(random_state=42)),\n",
    "                         ('clf', clf)])\n",
    "     \n",
    "    return pipeline"
   ]
  },
  {
   "cell_type": "code",
   "execution_count": null,
   "id": "afd4d671",
   "metadata": {},
   "outputs": [],
   "source": [
    "models = {'RandForest' : RandomForestClassifier(random_state=42, n_estimators=50),\n",
    "          'LogReg' : LogisticRegression(random_state=42, max_iter=1000),\n",
    "          'DecisionTree' : DecisionTreeClassifier(random_state=42)}\n",
    "\n",
    "for name, model, in models.items():\n",
    "    clf = model\n",
    "    pipeline = create_pipe(clf)\n",
    "    cv = RepeatedStratifiedKFold(n_splits=10, n_repeats=3, random_state=1)\n",
    "    %time scores = cross_val_score(pipeline, X, y, scoring='f1_macro', cv=cv, n_jobs=6, error_score='raise')\n",
    "    print(name, ': Mean f1 Macro: %.3f and Standard Deviation: (%.3f)' % (np.mean(scores), np.std(scores)))"
   ]
  },
  {
   "cell_type": "markdown",
   "id": "12ea42ec-4354-4dc5-b2e0-6f2794d8c87b",
   "metadata": {},
   "source": [
    "**Notes:**\n",
    " - The best performing algoritm was the `RandomForestClassifier` with a `f1-macro` score of `0.856`.\n",
    " - The solve time for the Rand Forest was twice that of the Logistic Regression with only slightly better performance at `0.845`.\n",
    " - The single `DecisionTreeClassifier` performed the best overall with a score of `0.891` however it was slightly slower than the Logistic Regression.  \n",
    " - Model performance improved from `0.722` to `0.845` after adding the variables `categories`, `city`, `postal_code`, `text_len`, and `review_count` to the pipeline vs. only having `text` and `sentiment`. (not shown--data from prior run).\n",
    " - This demonstrates the value of the Feature Importance for Feature Selection performed prior.\n",
    " \n",
    " \n",
    "The final model choice for the next phase of the work will be the `LogisticRegresion` classifier for it's solid performance and overall speed."
   ]
  },
  {
   "cell_type": "markdown",
   "id": "c11a4826",
   "metadata": {},
   "source": [
    "# PERFORMANCE ASSESSMENT\n",
    "\n",
    "Now that we have a model selected based on the cross validation above, we can optimize the `Hyper Parameters` associated with the agorithm.  This allows for optimal results, potentially over and above the default settings.  "
   ]
  },
  {
   "cell_type": "markdown",
   "id": "001c7d7c",
   "metadata": {},
   "source": [
    "## Hyper Parameter Tuning\n",
    "\n",
    "> *In machine learning, a hyperparameter is a parameter whose value is used to control the learning process. By contrast, the values of other parameters (typically node weights) are derived via training.*\n",
    "\n",
    "> *Hyperparameters can be classified as model hyperparameters, that cannot be inferred while fitting the machine to the training set because they refer to the model selection task, or algorithm hyperparameters, that in principle have no influence on the performance of the model but affect the speed and quality of the learning process. An example of a model hyperparameter is the topology and size of a neural network. Examples of algorithm hyperparameters are learning rate and mini-batch size [3].*"
   ]
  },
  {
   "cell_type": "code",
   "execution_count": 117,
   "id": "a856a420",
   "metadata": {},
   "outputs": [],
   "source": [
    "# Make training and test sets \n",
    "X_train, X_test, y_train, y_test = train_test_split(X, y, test_size=0.33, random_state=53)"
   ]
  },
  {
   "cell_type": "code",
   "execution_count": 118,
   "id": "9d6a95b5",
   "metadata": {},
   "outputs": [
    {
     "name": "stdout",
     "output_type": "stream",
     "text": [
      "(60734,)\n",
      "(60734,)\n"
     ]
    }
   ],
   "source": [
    "print(y_train.shape)\n",
    "print(X_train.shape)"
   ]
  },
  {
   "cell_type": "code",
   "execution_count": 61,
   "id": "5de4fd81",
   "metadata": {},
   "outputs": [],
   "source": [
    "def get_params(parameters, X, y, pipeline):\n",
    "    ''' implements a the GridSearch Cross validation for a given model and set of parameters'''\n",
    "    \n",
    "    cv = RepeatedStratifiedKFold(n_splits=3, n_repeats=3, random_state=1)\n",
    "    grid = GridSearchCV(pipeline, parameters, scoring='f1_macro', n_jobs=-1, cv=cv, error_score='raise')\n",
    "    grid.fit(X, y)\n",
    "\n",
    "    return grid"
   ]
  },
  {
   "cell_type": "code",
   "execution_count": 62,
   "id": "4db5200f",
   "metadata": {},
   "outputs": [
    {
     "name": "stdout",
     "output_type": "stream",
     "text": [
      "Best cross-validation accuracy: 0.838\n",
      "Test set score: 0.837\n",
      "Best parameters: {'clf__C': 10, 'clf__solver': 'liblinear'}\n"
     ]
    }
   ],
   "source": [
    "parameters = [{'clf__solver' : ['newton-cg', 'lbfgs', 'sag', 'liblinear'],\n",
    "               'clf__C' : [1, 10 ,100]}]\n",
    "\n",
    "clf = LogisticRegression(random_state=42, max_iter=500)\n",
    "pipeline = create_pipe(clf)\n",
    "grid = get_params(parameters, X_train, y_train, pipeline)\n",
    "\n",
    "print(\"Best cross-validation accuracy: {:.3f}\".format(grid.best_score_))\n",
    "print(\"Test set score: {:.3f}\".format(grid.score(X_test, y_test))) \n",
    "print(\"Best parameters: {}\".format(grid.best_params_))\n",
    "\n",
    "log_C = grid.best_params_['clf__C']\n",
    "log_solver = grid.best_params_['clf__solver']"
   ]
  },
  {
   "cell_type": "markdown",
   "id": "3bc611d4-0db8-4b95-bbaa-4db08f44a024",
   "metadata": {},
   "source": [
    "**Notes:**\n",
    "1. **C:** Final Parameter Value = `10`\n",
    ">*Regularization is applying a penalty to increasing the magnitude of parameter values in order to reduce overfitting. When you train a model such as a logistic regression model, you are choosing parameters that give you the best fit to the data. This means minimizing the error between what the model predicts for your dependent variable given your data compared to what your dependent variable actually is. [6]*\n",
    "1. **Solver:** Final Parameter Value = `liblinear`\n",
    ">*LIBLINEAR is a simple package for solving large-scale regularized linear\n",
    "classification, regression and outlier detection.*"
   ]
  },
  {
   "cell_type": "markdown",
   "id": "c3ad9b23",
   "metadata": {},
   "source": [
    "## Model Evaluation"
   ]
  },
  {
   "cell_type": "code",
   "execution_count": 63,
   "id": "fd5f71bc",
   "metadata": {},
   "outputs": [],
   "source": [
    "def plot_confusion_matrix(cm, classes, normalize=False, title='Confusion matrix', cmap=plt.cm.Blues):\n",
    "    \"\"\"\n",
    "    See full source and example: \n",
    "    http://scikit-learn.org/stable/auto_examples/model_selection/plot_confusion_matrix.html\n",
    "    \n",
    "    This function prints and plots the confusion matrix.\n",
    "    Normalization can be applied by setting `normalize=True`.\n",
    "    \"\"\"\n",
    "    plt.imshow(cm, interpolation='nearest', cmap=cmap)\n",
    "    plt.title(title)\n",
    "    plt.colorbar()\n",
    "    tick_marks = np.arange(len(classes))\n",
    "    plt.xticks(tick_marks, classes, rotation=45)\n",
    "    plt.yticks(tick_marks, classes)\n",
    "\n",
    "    if normalize:\n",
    "        cm = cm.astype('float') / cm.sum(axis=1)[:, np.newaxis]\n",
    "        print(\"Normalized confusion matrix\")\n",
    "    else:\n",
    "        print('Confusion matrix, without normalization')\n",
    "\n",
    "    thresh = cm.max() / 2.\n",
    "    for i, j in itertools.product(range(cm.shape[0]), range(cm.shape[1])):\n",
    "        plt.text(j, i, cm[i, j],\n",
    "                 horizontalalignment=\"center\",\n",
    "                 color=\"white\" if cm[i, j] > thresh else \"black\")\n",
    "\n",
    "    plt.tight_layout()\n",
    "    plt.ylabel('True label')\n",
    "    plt.xlabel('predicted label')"
   ]
  },
  {
   "cell_type": "code",
   "execution_count": 119,
   "id": "5fb17107",
   "metadata": {},
   "outputs": [],
   "source": [
    "def fit_and_print(pipeline, name):\n",
    "    ''' take a supplied pipeline and run it against the train-test spit \n",
    "    and product scoring results.'''\n",
    "    \n",
    "    pipeline.fit(X_train, y_train)\n",
    "    y_pred = pipeline.predict(X_test)\n",
    "    score = metrics.f1_score(y_test, y_pred, average='macro')\n",
    "\n",
    "    print(metrics.classification_report(y_test, y_pred, digits=3))\n",
    "\n",
    "    cm = metrics.confusion_matrix(y_test, y_pred, labels=[0,1])\n",
    "    plot_confusion_matrix(cm, classes=[0,1], normalize=False)"
   ]
  },
  {
   "cell_type": "code",
   "execution_count": 120,
   "id": "4788f0ee",
   "metadata": {},
   "outputs": [
    {
     "ename": "IndexError",
     "evalue": "tuple index out of range",
     "output_type": "error",
     "traceback": [
      "\u001b[0;31m---------------------------------------------------------------------------\u001b[0m",
      "\u001b[0;31mIndexError\u001b[0m                                Traceback (most recent call last)",
      "\u001b[0;32m<ipython-input-120-2c94b108d7fb>\u001b[0m in \u001b[0;36m<module>\u001b[0;34m\u001b[0m\n\u001b[1;32m      1\u001b[0m \u001b[0mclf\u001b[0m \u001b[0;34m=\u001b[0m \u001b[0mLogisticRegression\u001b[0m\u001b[0;34m(\u001b[0m\u001b[0mC\u001b[0m\u001b[0;34m=\u001b[0m\u001b[0mlog_C\u001b[0m\u001b[0;34m,\u001b[0m \u001b[0msolver\u001b[0m\u001b[0;34m=\u001b[0m\u001b[0mlog_solver\u001b[0m\u001b[0;34m,\u001b[0m \u001b[0mrandom_state\u001b[0m\u001b[0;34m=\u001b[0m\u001b[0;36m42\u001b[0m\u001b[0;34m,\u001b[0m \u001b[0mmax_iter\u001b[0m\u001b[0;34m=\u001b[0m\u001b[0;36m500\u001b[0m\u001b[0;34m)\u001b[0m\u001b[0;34m\u001b[0m\u001b[0;34m\u001b[0m\u001b[0m\n\u001b[1;32m      2\u001b[0m \u001b[0mpipeline\u001b[0m \u001b[0;34m=\u001b[0m \u001b[0mcreate_pipe\u001b[0m\u001b[0;34m(\u001b[0m\u001b[0mclf\u001b[0m\u001b[0;34m)\u001b[0m\u001b[0;34m\u001b[0m\u001b[0;34m\u001b[0m\u001b[0m\n\u001b[0;32m----> 3\u001b[0;31m \u001b[0mfit_and_print\u001b[0m\u001b[0;34m(\u001b[0m\u001b[0mpipeline\u001b[0m\u001b[0;34m,\u001b[0m \u001b[0;34m'Logistic Regression'\u001b[0m\u001b[0;34m)\u001b[0m\u001b[0;34m\u001b[0m\u001b[0;34m\u001b[0m\u001b[0m\n\u001b[0m",
      "\u001b[0;32m<ipython-input-119-f4db24190936>\u001b[0m in \u001b[0;36mfit_and_print\u001b[0;34m(pipeline, name)\u001b[0m\n\u001b[1;32m      3\u001b[0m     and product scoring results.'''\n\u001b[1;32m      4\u001b[0m \u001b[0;34m\u001b[0m\u001b[0m\n\u001b[0;32m----> 5\u001b[0;31m     \u001b[0mpipeline\u001b[0m\u001b[0;34m.\u001b[0m\u001b[0mfit\u001b[0m\u001b[0;34m(\u001b[0m\u001b[0mX_train\u001b[0m\u001b[0;34m,\u001b[0m \u001b[0my_train\u001b[0m\u001b[0;34m)\u001b[0m\u001b[0;34m\u001b[0m\u001b[0;34m\u001b[0m\u001b[0m\n\u001b[0m\u001b[1;32m      6\u001b[0m     \u001b[0my_pred\u001b[0m \u001b[0;34m=\u001b[0m \u001b[0mpipeline\u001b[0m\u001b[0;34m.\u001b[0m\u001b[0mpredict\u001b[0m\u001b[0;34m(\u001b[0m\u001b[0mX_test\u001b[0m\u001b[0;34m)\u001b[0m\u001b[0;34m\u001b[0m\u001b[0;34m\u001b[0m\u001b[0m\n\u001b[1;32m      7\u001b[0m     \u001b[0mscore\u001b[0m \u001b[0;34m=\u001b[0m \u001b[0mmetrics\u001b[0m\u001b[0;34m.\u001b[0m\u001b[0mf1_score\u001b[0m\u001b[0;34m(\u001b[0m\u001b[0my_test\u001b[0m\u001b[0;34m,\u001b[0m \u001b[0my_pred\u001b[0m\u001b[0;34m,\u001b[0m \u001b[0maverage\u001b[0m\u001b[0;34m=\u001b[0m\u001b[0;34m'macro'\u001b[0m\u001b[0;34m)\u001b[0m\u001b[0;34m\u001b[0m\u001b[0;34m\u001b[0m\u001b[0m\n",
      "\u001b[0;32m~/miniforge3/envs/tf/lib/python3.8/site-packages/imblearn/pipeline.py\u001b[0m in \u001b[0;36mfit\u001b[0;34m(self, X, y, **fit_params)\u001b[0m\n\u001b[1;32m    260\u001b[0m         \"\"\"\n\u001b[1;32m    261\u001b[0m         \u001b[0mfit_params_steps\u001b[0m \u001b[0;34m=\u001b[0m \u001b[0mself\u001b[0m\u001b[0;34m.\u001b[0m\u001b[0m_check_fit_params\u001b[0m\u001b[0;34m(\u001b[0m\u001b[0;34m**\u001b[0m\u001b[0mfit_params\u001b[0m\u001b[0;34m)\u001b[0m\u001b[0;34m\u001b[0m\u001b[0;34m\u001b[0m\u001b[0m\n\u001b[0;32m--> 262\u001b[0;31m         \u001b[0mXt\u001b[0m\u001b[0;34m,\u001b[0m \u001b[0myt\u001b[0m \u001b[0;34m=\u001b[0m \u001b[0mself\u001b[0m\u001b[0;34m.\u001b[0m\u001b[0m_fit\u001b[0m\u001b[0;34m(\u001b[0m\u001b[0mX\u001b[0m\u001b[0;34m,\u001b[0m \u001b[0my\u001b[0m\u001b[0;34m,\u001b[0m \u001b[0;34m**\u001b[0m\u001b[0mfit_params_steps\u001b[0m\u001b[0;34m)\u001b[0m\u001b[0;34m\u001b[0m\u001b[0;34m\u001b[0m\u001b[0m\n\u001b[0m\u001b[1;32m    263\u001b[0m         \u001b[0;32mwith\u001b[0m \u001b[0m_print_elapsed_time\u001b[0m\u001b[0;34m(\u001b[0m\u001b[0;34m\"Pipeline\"\u001b[0m\u001b[0;34m,\u001b[0m \u001b[0mself\u001b[0m\u001b[0;34m.\u001b[0m\u001b[0m_log_message\u001b[0m\u001b[0;34m(\u001b[0m\u001b[0mlen\u001b[0m\u001b[0;34m(\u001b[0m\u001b[0mself\u001b[0m\u001b[0;34m.\u001b[0m\u001b[0msteps\u001b[0m\u001b[0;34m)\u001b[0m \u001b[0;34m-\u001b[0m \u001b[0;36m1\u001b[0m\u001b[0;34m)\u001b[0m\u001b[0;34m)\u001b[0m\u001b[0;34m:\u001b[0m\u001b[0;34m\u001b[0m\u001b[0;34m\u001b[0m\u001b[0m\n\u001b[1;32m    264\u001b[0m             \u001b[0;32mif\u001b[0m \u001b[0mself\u001b[0m\u001b[0;34m.\u001b[0m\u001b[0m_final_estimator\u001b[0m \u001b[0;34m!=\u001b[0m \u001b[0;34m\"passthrough\"\u001b[0m\u001b[0;34m:\u001b[0m\u001b[0;34m\u001b[0m\u001b[0;34m\u001b[0m\u001b[0m\n",
      "\u001b[0;32m~/miniforge3/envs/tf/lib/python3.8/site-packages/imblearn/pipeline.py\u001b[0m in \u001b[0;36m_fit\u001b[0;34m(self, X, y, **fit_params_steps)\u001b[0m\n\u001b[1;32m    208\u001b[0m                 \u001b[0mcloned_transformer\u001b[0m\u001b[0;34m,\u001b[0m \u001b[0;34m\"fit_transform\"\u001b[0m\u001b[0;34m\u001b[0m\u001b[0;34m\u001b[0m\u001b[0m\n\u001b[1;32m    209\u001b[0m             ):\n\u001b[0;32m--> 210\u001b[0;31m                 X, fitted_transformer = fit_transform_one_cached(\n\u001b[0m\u001b[1;32m    211\u001b[0m                     \u001b[0mcloned_transformer\u001b[0m\u001b[0;34m,\u001b[0m\u001b[0;34m\u001b[0m\u001b[0;34m\u001b[0m\u001b[0m\n\u001b[1;32m    212\u001b[0m                     \u001b[0mX\u001b[0m\u001b[0;34m,\u001b[0m\u001b[0;34m\u001b[0m\u001b[0;34m\u001b[0m\u001b[0m\n",
      "\u001b[0;32m~/miniforge3/envs/tf/lib/python3.8/site-packages/joblib/memory.py\u001b[0m in \u001b[0;36m__call__\u001b[0;34m(self, *args, **kwargs)\u001b[0m\n\u001b[1;32m    350\u001b[0m \u001b[0;34m\u001b[0m\u001b[0m\n\u001b[1;32m    351\u001b[0m     \u001b[0;32mdef\u001b[0m \u001b[0m__call__\u001b[0m\u001b[0;34m(\u001b[0m\u001b[0mself\u001b[0m\u001b[0;34m,\u001b[0m \u001b[0;34m*\u001b[0m\u001b[0margs\u001b[0m\u001b[0;34m,\u001b[0m \u001b[0;34m**\u001b[0m\u001b[0mkwargs\u001b[0m\u001b[0;34m)\u001b[0m\u001b[0;34m:\u001b[0m\u001b[0;34m\u001b[0m\u001b[0;34m\u001b[0m\u001b[0m\n\u001b[0;32m--> 352\u001b[0;31m         \u001b[0;32mreturn\u001b[0m \u001b[0mself\u001b[0m\u001b[0;34m.\u001b[0m\u001b[0mfunc\u001b[0m\u001b[0;34m(\u001b[0m\u001b[0;34m*\u001b[0m\u001b[0margs\u001b[0m\u001b[0;34m,\u001b[0m \u001b[0;34m**\u001b[0m\u001b[0mkwargs\u001b[0m\u001b[0;34m)\u001b[0m\u001b[0;34m\u001b[0m\u001b[0;34m\u001b[0m\u001b[0m\n\u001b[0m\u001b[1;32m    353\u001b[0m \u001b[0;34m\u001b[0m\u001b[0m\n\u001b[1;32m    354\u001b[0m     \u001b[0;32mdef\u001b[0m \u001b[0mcall_and_shelve\u001b[0m\u001b[0;34m(\u001b[0m\u001b[0mself\u001b[0m\u001b[0;34m,\u001b[0m \u001b[0;34m*\u001b[0m\u001b[0margs\u001b[0m\u001b[0;34m,\u001b[0m \u001b[0;34m**\u001b[0m\u001b[0mkwargs\u001b[0m\u001b[0;34m)\u001b[0m\u001b[0;34m:\u001b[0m\u001b[0;34m\u001b[0m\u001b[0;34m\u001b[0m\u001b[0m\n",
      "\u001b[0;32m~/miniforge3/envs/tf/lib/python3.8/site-packages/sklearn/pipeline.py\u001b[0m in \u001b[0;36m_fit_transform_one\u001b[0;34m(transformer, X, y, weight, message_clsname, message, **fit_params)\u001b[0m\n\u001b[1;32m    752\u001b[0m     \u001b[0;32mwith\u001b[0m \u001b[0m_print_elapsed_time\u001b[0m\u001b[0;34m(\u001b[0m\u001b[0mmessage_clsname\u001b[0m\u001b[0;34m,\u001b[0m \u001b[0mmessage\u001b[0m\u001b[0;34m)\u001b[0m\u001b[0;34m:\u001b[0m\u001b[0;34m\u001b[0m\u001b[0;34m\u001b[0m\u001b[0m\n\u001b[1;32m    753\u001b[0m         \u001b[0;32mif\u001b[0m \u001b[0mhasattr\u001b[0m\u001b[0;34m(\u001b[0m\u001b[0mtransformer\u001b[0m\u001b[0;34m,\u001b[0m \u001b[0;34m'fit_transform'\u001b[0m\u001b[0;34m)\u001b[0m\u001b[0;34m:\u001b[0m\u001b[0;34m\u001b[0m\u001b[0;34m\u001b[0m\u001b[0m\n\u001b[0;32m--> 754\u001b[0;31m             \u001b[0mres\u001b[0m \u001b[0;34m=\u001b[0m \u001b[0mtransformer\u001b[0m\u001b[0;34m.\u001b[0m\u001b[0mfit_transform\u001b[0m\u001b[0;34m(\u001b[0m\u001b[0mX\u001b[0m\u001b[0;34m,\u001b[0m \u001b[0my\u001b[0m\u001b[0;34m,\u001b[0m \u001b[0;34m**\u001b[0m\u001b[0mfit_params\u001b[0m\u001b[0;34m)\u001b[0m\u001b[0;34m\u001b[0m\u001b[0;34m\u001b[0m\u001b[0m\n\u001b[0m\u001b[1;32m    755\u001b[0m         \u001b[0;32melse\u001b[0m\u001b[0;34m:\u001b[0m\u001b[0;34m\u001b[0m\u001b[0;34m\u001b[0m\u001b[0m\n\u001b[1;32m    756\u001b[0m             \u001b[0mres\u001b[0m \u001b[0;34m=\u001b[0m \u001b[0mtransformer\u001b[0m\u001b[0;34m.\u001b[0m\u001b[0mfit\u001b[0m\u001b[0;34m(\u001b[0m\u001b[0mX\u001b[0m\u001b[0;34m,\u001b[0m \u001b[0my\u001b[0m\u001b[0;34m,\u001b[0m \u001b[0;34m**\u001b[0m\u001b[0mfit_params\u001b[0m\u001b[0;34m)\u001b[0m\u001b[0;34m.\u001b[0m\u001b[0mtransform\u001b[0m\u001b[0;34m(\u001b[0m\u001b[0mX\u001b[0m\u001b[0;34m)\u001b[0m\u001b[0;34m\u001b[0m\u001b[0;34m\u001b[0m\u001b[0m\n",
      "\u001b[0;32m~/miniforge3/envs/tf/lib/python3.8/site-packages/sklearn/compose/_column_transformer.py\u001b[0m in \u001b[0;36mfit_transform\u001b[0;34m(self, X, y)\u001b[0m\n\u001b[1;32m    501\u001b[0m         \u001b[0mX\u001b[0m \u001b[0;34m=\u001b[0m \u001b[0m_check_X\u001b[0m\u001b[0;34m(\u001b[0m\u001b[0mX\u001b[0m\u001b[0;34m)\u001b[0m\u001b[0;34m\u001b[0m\u001b[0;34m\u001b[0m\u001b[0m\n\u001b[1;32m    502\u001b[0m         \u001b[0;31m# set n_features_in_ attribute\u001b[0m\u001b[0;34m\u001b[0m\u001b[0;34m\u001b[0m\u001b[0;34m\u001b[0m\u001b[0m\n\u001b[0;32m--> 503\u001b[0;31m         \u001b[0mself\u001b[0m\u001b[0;34m.\u001b[0m\u001b[0m_check_n_features\u001b[0m\u001b[0;34m(\u001b[0m\u001b[0mX\u001b[0m\u001b[0;34m,\u001b[0m \u001b[0mreset\u001b[0m\u001b[0;34m=\u001b[0m\u001b[0;32mTrue\u001b[0m\u001b[0;34m)\u001b[0m\u001b[0;34m\u001b[0m\u001b[0;34m\u001b[0m\u001b[0m\n\u001b[0m\u001b[1;32m    504\u001b[0m         \u001b[0mself\u001b[0m\u001b[0;34m.\u001b[0m\u001b[0m_validate_transformers\u001b[0m\u001b[0;34m(\u001b[0m\u001b[0;34m)\u001b[0m\u001b[0;34m\u001b[0m\u001b[0;34m\u001b[0m\u001b[0m\n\u001b[1;32m    505\u001b[0m         \u001b[0mself\u001b[0m\u001b[0;34m.\u001b[0m\u001b[0m_validate_column_callables\u001b[0m\u001b[0;34m(\u001b[0m\u001b[0mX\u001b[0m\u001b[0;34m)\u001b[0m\u001b[0;34m\u001b[0m\u001b[0;34m\u001b[0m\u001b[0m\n",
      "\u001b[0;32m~/miniforge3/envs/tf/lib/python3.8/site-packages/sklearn/base.py\u001b[0m in \u001b[0;36m_check_n_features\u001b[0;34m(self, X, reset)\u001b[0m\n\u001b[1;32m    350\u001b[0m                \u001b[0mshould\u001b[0m \u001b[0mset\u001b[0m\u001b[0;31m \u001b[0m\u001b[0;31m`\u001b[0m\u001b[0mreset\u001b[0m\u001b[0;34m=\u001b[0m\u001b[0;32mFalse\u001b[0m\u001b[0;31m`\u001b[0m\u001b[0;34m.\u001b[0m\u001b[0;34m\u001b[0m\u001b[0;34m\u001b[0m\u001b[0m\n\u001b[1;32m    351\u001b[0m         \"\"\"\n\u001b[0;32m--> 352\u001b[0;31m         \u001b[0mn_features\u001b[0m \u001b[0;34m=\u001b[0m \u001b[0mX\u001b[0m\u001b[0;34m.\u001b[0m\u001b[0mshape\u001b[0m\u001b[0;34m[\u001b[0m\u001b[0;36m1\u001b[0m\u001b[0;34m]\u001b[0m\u001b[0;34m\u001b[0m\u001b[0;34m\u001b[0m\u001b[0m\n\u001b[0m\u001b[1;32m    353\u001b[0m \u001b[0;34m\u001b[0m\u001b[0m\n\u001b[1;32m    354\u001b[0m         \u001b[0;32mif\u001b[0m \u001b[0mreset\u001b[0m\u001b[0;34m:\u001b[0m\u001b[0;34m\u001b[0m\u001b[0;34m\u001b[0m\u001b[0m\n",
      "\u001b[0;31mIndexError\u001b[0m: tuple index out of range"
     ]
    }
   ],
   "source": [
    "clf = LogisticRegression(C=log_C, solver=log_solver, random_state=42, max_iter=500)\n",
    "pipeline = create_pipe(clf)\n",
    "fit_and_print(pipeline, 'Logistic Regression')"
   ]
  },
  {
   "cell_type": "markdown",
   "id": "5d796d87",
   "metadata": {},
   "source": [
    "**Observations**:\n",
    "\n",
    "This model performed extremely well across our dataset with an `f1 macro` score of `0.837`.  The dataset has imbalanced, which was corrected for SMOTE (Over Sampling combined with Undersampling).  The result was a very strong predictor model based on `categories`, `city`, `state`, `text`, `sentiment`, `text_len`.\n",
    "\n",
    "**Synthetic Minority Oversampling Technique** uses a nearest-neighbor approach for generating new minority class samples.  The method is applied only to the training data and then tested on the original, untouched test partition.  The method chosen here is first to oversample the minority class making it balanced, and then undersample it to reduce the size.  This helps bring balance without bloating the dataset."
   ]
  },
  {
   "cell_type": "markdown",
   "id": "f1662221",
   "metadata": {},
   "source": [
    "## Multi-Class Classification Model for Category Selection"
   ]
  },
  {
   "cell_type": "code",
   "execution_count": 66,
   "id": "2cafbb06",
   "metadata": {},
   "outputs": [],
   "source": [
    "df['categories'] = df['categories'].apply(lambda w: re.sub(' ', '', w))\n",
    "df['categories'] = df['categories'].apply(lambda w: w.split(\",\"))"
   ]
  },
  {
   "cell_type": "code",
   "execution_count": 67,
   "id": "d0ee203d",
   "metadata": {},
   "outputs": [
    {
     "data": {
      "text/plain": [
       "['Gastropubs',\n",
       " 'Food',\n",
       " 'BeerGardens',\n",
       " 'Restaurants',\n",
       " 'Bars',\n",
       " 'American(Traditional)',\n",
       " 'BeerBar',\n",
       " 'Nightlife',\n",
       " 'Breweries']"
      ]
     },
     "execution_count": 67,
     "metadata": {},
     "output_type": "execute_result"
    }
   ],
   "source": [
    "df['categories'][0]"
   ]
  },
  {
   "cell_type": "code",
   "execution_count": 68,
   "id": "92815f14",
   "metadata": {},
   "outputs": [],
   "source": [
    "X = df[['text', 'categories']]\n",
    "y = df['categories']"
   ]
  },
  {
   "cell_type": "code",
   "execution_count": 69,
   "id": "0362e8f6",
   "metadata": {},
   "outputs": [],
   "source": [
    "mlb = MultiLabelBinarizer()\n",
    "y = mlb.fit_transform(y)"
   ]
  },
  {
   "cell_type": "code",
   "execution_count": 70,
   "id": "6843a8cd",
   "metadata": {},
   "outputs": [
    {
     "name": "stdout",
     "output_type": "stream",
     "text": [
      "(90649, 2)\n",
      "(90649, 971)\n",
      "['Accessories' 'Accountants' 'AcneTreatment' 'ActiveLife' 'Acupuncture'\n",
      " 'AddictionMedicine' 'Adult' 'AdultEducation' 'AdultEntertainment'\n",
      " 'Advertising' 'Aestheticians' 'Afghan' 'African' 'AirDuctCleaning'\n",
      " 'Airlines' 'AirportLounges' 'AirportShuttles' 'Airports' 'Allergists']\n"
     ]
    }
   ],
   "source": [
    "print(X.shape)\n",
    "print(y.shape)\n",
    "print(mlb.classes_[1:20])"
   ]
  },
  {
   "cell_type": "code",
   "execution_count": 71,
   "id": "1ba1c42c",
   "metadata": {},
   "outputs": [],
   "source": [
    "def create_pipe(clf):\n",
    "    '''Create a pipeline for a given classifier.  The classifier needs to be an instance\n",
    "    of the classifier with all parmeters needed specified.'''\n",
    "    \n",
    "    # Each pipeline uses the same column transformer.  \n",
    "    column_trans = ColumnTransformer(\n",
    "        [('text', TfidfVectorizer(stop_words='english'), 'text')],\n",
    "        remainder='drop') \n",
    "    \n",
    "    pipeline = Pipeline([('prep',column_trans), \n",
    "                         ('clf', clf)])\n",
    "     \n",
    "    return pipeline"
   ]
  },
  {
   "cell_type": "markdown",
   "id": "3ebb383d",
   "metadata": {},
   "source": [
    "**Notes**:\n",
    "\n",
    "Again the `SVC` classifier performed the best with `LogisticRegression` coming out second best.   `MultinomialNB` perfrormed the worst out of these."
   ]
  },
  {
   "cell_type": "markdown",
   "id": "409aba83",
   "metadata": {},
   "source": [
    "### Multi-Class Model Validation"
   ]
  },
  {
   "cell_type": "code",
   "execution_count": 72,
   "id": "a07bc31a",
   "metadata": {},
   "outputs": [],
   "source": [
    "# Make training and test sets \n",
    "X_train, X_test, y_train, y_test = train_test_split(X, y, test_size=0.33, random_state=1)"
   ]
  },
  {
   "cell_type": "code",
   "execution_count": 73,
   "id": "3c77e838",
   "metadata": {},
   "outputs": [
    {
     "name": "stdout",
     "output_type": "stream",
     "text": [
      "(60734, 971)\n",
      "(60734, 2)\n"
     ]
    }
   ],
   "source": [
    "print(y_train.shape)\n",
    "print(X_train.shape)"
   ]
  },
  {
   "cell_type": "code",
   "execution_count": 74,
   "id": "41d568e6",
   "metadata": {},
   "outputs": [],
   "source": [
    "clf = OneVsRestClassifier(LogisticRegression(class_weight='balanced', random_state=42))\n",
    "pipeline = create_pipe(clf)\n",
    "\n",
    "pipeline.fit(X_train, y_train)\n",
    "y_pred = pipeline.predict(X_test)\n",
    "score = metrics.f1_score(y_test, y_pred, average='macro')\n",
    "\n",
    "report = metrics.classification_report(y_test, y_pred, digits=3, output_dict=True)"
   ]
  },
  {
   "cell_type": "code",
   "execution_count": 85,
   "id": "d5b3800d",
   "metadata": {},
   "outputs": [],
   "source": [
    "# Retreive the text lables from the MultiLabelBinarizer\n",
    "pred_labels = mlb.inverse_transform(y_pred)\n",
    "\n",
    "# Append them to the DataFrame\n",
    "X_test['Predicted Categories'] = pred_labels"
   ]
  },
  {
   "cell_type": "code",
   "execution_count": 86,
   "id": "724f9910",
   "metadata": {},
   "outputs": [
    {
     "data": {
      "text/html": [
       "<div>\n",
       "<style scoped>\n",
       "    .dataframe tbody tr th:only-of-type {\n",
       "        vertical-align: middle;\n",
       "    }\n",
       "\n",
       "    .dataframe tbody tr th {\n",
       "        vertical-align: top;\n",
       "    }\n",
       "\n",
       "    .dataframe thead th {\n",
       "        text-align: right;\n",
       "    }\n",
       "</style>\n",
       "<table border=\"1\" class=\"dataframe\">\n",
       "  <thead>\n",
       "    <tr style=\"text-align: right;\">\n",
       "      <th></th>\n",
       "      <th>text</th>\n",
       "      <th>categories</th>\n",
       "      <th>Predicted Categories</th>\n",
       "    </tr>\n",
       "  </thead>\n",
       "  <tbody>\n",
       "    <tr>\n",
       "      <th>7865</th>\n",
       "      <td>Dr. Cheng Dental office was one of the best dentist place I've been too! Keep in mind I haven't been to the dentist since I was a child. I was afraid about the doctor telling me how bad my teeth were. But the dental exams were very affordable especially for people without insurance like myself and the staff there was very kind, nice and gentle with my teeth which made my check up less frighting. The people that were working there were all polite to me especially when delivering the bad news of how many cavities I had and how much it would cost to fix each one. Overall I would recommend Dr. Cheng to anyone looking for affordable dental care. They certainly made my experience of dental work less frighting and I would highly recommend them to any friends and family looking for dental care, and another bonus is the variety of languages that the staff offers from English, Spanish, Vietnamese, etc. I look forward to my next appointment with Dr. Cheng!</td>\n",
       "      <td>[OralSurgeons, Dentists, CosmeticDentists, Health&amp;Medical, Endodontists, PediatricDentists, GeneralDentistry]</td>\n",
       "      <td>(CosmeticDentists, DentalHygienists, Dentists, Doctors, Endodontists, Fitness&amp;Instruction, GeneralDentistry, Health&amp;Medical, MedicalCenters, OralSurgeons, Orthodontists, PediatricDentists, Pediatricians, Periodontists, Prosthodontists, Trainers)</td>\n",
       "    </tr>\n",
       "    <tr>\n",
       "      <th>41152</th>\n",
       "      <td>I am not really used to being pampered, getting my nails done and such, but my friend and I needed it. We went here on a whim, because we wanted to relax. The place was beautiful, the music relaxing, scenic pics on the HDTV. The ladies that work there were nice, they could not speak English, so it was hard to understand them, but they work hard, were gentle, and knew what they were doing. We chose the shellac style of getting our nails done, and it was very fair priced too.</td>\n",
       "      <td>[Beauty&amp;Spas, HairRemoval, NailSalons]</td>\n",
       "      <td>(Beauty&amp;Spas, DaySpas, EyelashService, HairRemoval, HairSalons, Health&amp;Medical, Massage, NailSalons, SkinCare, Waxing)</td>\n",
       "    </tr>\n",
       "    <tr>\n",
       "      <th>74199</th>\n",
       "      <td>So, I came in with a really annoying drunk person, had 1/3rd of a beer then had to leave.  The bartender was really cool about the whole thing...entertained him for 30 mins.  So, I made a promise to come back at another time.\\n\\nAbout a month later, i came in with my growler, and really got a chance to look at the bottle selection.\\n\\nIf you're a fan of the Hop Wars that have been going on in PDX, you're probably going to want to visit NWIPA.  They focus directly on the hoppiest beers possible...including a great selection of Imperials.  A few beers on tap, and they'll fill your growler for a reasonable price.\\n\\nTheir menu is limited...but very eclectic...meatball sandwich, oysters, ice cream.\\n\\nI've since been back, and have had the sandwich...pretty delicious!</td>\n",
       "      <td>[Bars, BeerGardens, Nightlife]</td>\n",
       "      <td>(American(New), American(Traditional), Bars, Beer, BeerBar, BeerGardens, Breweries, Canadian(New), Food, Gastropubs, Italian, Nightlife, Pubs, Sandwiches, Wine&amp;Spirits)</td>\n",
       "    </tr>\n",
       "    <tr>\n",
       "      <th>93178</th>\n",
       "      <td>This is a review for the State Auto Inspection Sticker service (I've never purchased gas here or had any work done on the car).\\nThe service was excellent. As good as it could be. There's a sign where you pull up and wait, it says \"Inspection: Pull up here and wait, have your registration and $35 cash in hand, exact change\" . I waited there for about 30 seconds and a dude came up to the car and checked the lights. Then I stepped out of the car and he took it from there. 10 minutes later I was on my way. He was very friendly.</td>\n",
       "      <td>[AutoRepair, GasStations, Tires, Automotive]</td>\n",
       "      <td>(AutoDetailing, AutoParts&amp;Supplies, AutoRepair, Automotive, BodyShops, CarDealers, CarInspectors, CarWash, GasStations, OilChangeStations, SmogCheckStations, Tires, Towing, UsedCarDealers)</td>\n",
       "    </tr>\n",
       "    <tr>\n",
       "      <th>78168</th>\n",
       "      <td>Jodi is an extremely knowledgeable expert in the lending industry. She exercises great care and diligence throughout the process and is an excellent problem solver. I know when I refer her to my clients that they are working with the best!</td>\n",
       "      <td>[Banks&amp;CreditUnions, FinancialServices, MortgageBrokers, RealEstate, RealEstateServices, HomeServices]</td>\n",
       "      <td>(Health&amp;Medical, HomeServices, LocalServices)</td>\n",
       "    </tr>\n",
       "  </tbody>\n",
       "</table>\n",
       "</div>"
      ],
      "text/plain": [
       "                                                                                                                                                                                                                                                                                                                                                                                                                                                                                                                                                                                                                                                                                                                                                                                                                                                                                                                                                                                                  text  \\\n",
       "7865   Dr. Cheng Dental office was one of the best dentist place I've been too! Keep in mind I haven't been to the dentist since I was a child. I was afraid about the doctor telling me how bad my teeth were. But the dental exams were very affordable especially for people without insurance like myself and the staff there was very kind, nice and gentle with my teeth which made my check up less frighting. The people that were working there were all polite to me especially when delivering the bad news of how many cavities I had and how much it would cost to fix each one. Overall I would recommend Dr. Cheng to anyone looking for affordable dental care. They certainly made my experience of dental work less frighting and I would highly recommend them to any friends and family looking for dental care, and another bonus is the variety of languages that the staff offers from English, Spanish, Vietnamese, etc. I look forward to my next appointment with Dr. Cheng!   \n",
       "41152  I am not really used to being pampered, getting my nails done and such, but my friend and I needed it. We went here on a whim, because we wanted to relax. The place was beautiful, the music relaxing, scenic pics on the HDTV. The ladies that work there were nice, they could not speak English, so it was hard to understand them, but they work hard, were gentle, and knew what they were doing. We chose the shellac style of getting our nails done, and it was very fair priced too.                                                                                                                                                                                                                                                                                                                                                                                                                                                                                                    \n",
       "74199  So, I came in with a really annoying drunk person, had 1/3rd of a beer then had to leave.  The bartender was really cool about the whole thing...entertained him for 30 mins.  So, I made a promise to come back at another time.\\n\\nAbout a month later, i came in with my growler, and really got a chance to look at the bottle selection.\\n\\nIf you're a fan of the Hop Wars that have been going on in PDX, you're probably going to want to visit NWIPA.  They focus directly on the hoppiest beers possible...including a great selection of Imperials.  A few beers on tap, and they'll fill your growler for a reasonable price.\\n\\nTheir menu is limited...but very eclectic...meatball sandwich, oysters, ice cream.\\n\\nI've since been back, and have had the sandwich...pretty delicious!                                                                                                                                                                                            \n",
       "93178  This is a review for the State Auto Inspection Sticker service (I've never purchased gas here or had any work done on the car).\\nThe service was excellent. As good as it could be. There's a sign where you pull up and wait, it says \"Inspection: Pull up here and wait, have your registration and $35 cash in hand, exact change\" . I waited there for about 30 seconds and a dude came up to the car and checked the lights. Then I stepped out of the car and he took it from there. 10 minutes later I was on my way. He was very friendly.                                                                                                                                                                                                                                                                                                                                                                                                                                                \n",
       "78168  Jodi is an extremely knowledgeable expert in the lending industry. She exercises great care and diligence throughout the process and is an excellent problem solver. I know when I refer her to my clients that they are working with the best!                                                                                                                                                                                                                                                                                                                                                                                                                                                                                                                                                                                                                                                                                                                                                   \n",
       "\n",
       "                                                                                                          categories  \\\n",
       "7865   [OralSurgeons, Dentists, CosmeticDentists, Health&Medical, Endodontists, PediatricDentists, GeneralDentistry]   \n",
       "41152  [Beauty&Spas, HairRemoval, NailSalons]                                                                          \n",
       "74199  [Bars, BeerGardens, Nightlife]                                                                                  \n",
       "93178  [AutoRepair, GasStations, Tires, Automotive]                                                                    \n",
       "78168  [Banks&CreditUnions, FinancialServices, MortgageBrokers, RealEstate, RealEstateServices, HomeServices]          \n",
       "\n",
       "                                                                                                                                                                                                                                        Predicted Categories  \n",
       "7865   (CosmeticDentists, DentalHygienists, Dentists, Doctors, Endodontists, Fitness&Instruction, GeneralDentistry, Health&Medical, MedicalCenters, OralSurgeons, Orthodontists, PediatricDentists, Pediatricians, Periodontists, Prosthodontists, Trainers)  \n",
       "41152  (Beauty&Spas, DaySpas, EyelashService, HairRemoval, HairSalons, Health&Medical, Massage, NailSalons, SkinCare, Waxing)                                                                                                                                 \n",
       "74199  (American(New), American(Traditional), Bars, Beer, BeerBar, BeerGardens, Breweries, Canadian(New), Food, Gastropubs, Italian, Nightlife, Pubs, Sandwiches, Wine&Spirits)                                                                               \n",
       "93178  (AutoDetailing, AutoParts&Supplies, AutoRepair, Automotive, BodyShops, CarDealers, CarInspectors, CarWash, GasStations, OilChangeStations, SmogCheckStations, Tires, Towing, UsedCarDealers)                                                           \n",
       "78168  (Health&Medical, HomeServices, LocalServices)                                                                                                                                                                                                          "
      ]
     },
     "execution_count": 86,
     "metadata": {},
     "output_type": "execute_result"
    }
   ],
   "source": [
    "# Display a random sample of them\n",
    "pd.set_option('display.max_colwidth', -1)\n",
    "X_test.sample(5, random_state=60)"
   ]
  },
  {
   "cell_type": "markdown",
   "id": "1276cd73-b8fc-4ab1-b75e-9616dad09bf1",
   "metadata": {},
   "source": [
    "**Observations:**\n",
    "- There is not a direct peformance metric we can use to asses the results, so we can use a visual inspection.\n",
    "- The `Predicted Categories` column show which categories the Multi-Class Classification Model selected.  \n",
    "- In the `5` sample show, there appears to be a very high match from what is predicted vs. what the business selected.\n",
    "- In most cases, additional categories were listed, but in many cases, they seem like logical selections.\n",
    "- In the final example, it did select a `Health&Medical` category which is out of place. However the decription is short and most likely saw words like `care` as word with a strong probability of showing up with Heath services."
   ]
  },
  {
   "cell_type": "markdown",
   "id": "8c010968",
   "metadata": {},
   "source": [
    "## Neural Network for Sentiment Classification\n",
    "\n",
    "Next, we'll attempt to build a new classifier based on a Neural Network.\n",
    "\n",
    "Neural networks are a set of algorithms modeled loosely after the human brain designed to recognize patterns. Machine Learning models are built off of a single algorithm tailored to solve a particular problem. Neural Networks are built off multiple layers that can process data through each layer, constantly refining its learnings.\n",
    "\n",
    "Neural Networks are composed of layers that are made from nodes. Neural networks are often drawn as a graph of interconnecting nodes organized in vertical sets representing layers. The three-layer types are the input, hidden, and output layers. The input layer’s size is determined by the number of dimensions in your dataset, and the output layer is the number of different classes of objects. There can be any number of hidden layers, and one typically experiments to get the best results. Each node in the network is where the computation takes place. Each of these nodes processes data that passes through it, along with various weights given to each input. As the layer computes, it’s looking for which nodes perform the best then passes through activation to the next layer\n",
    "\n",
    "\n",
    "![Neural Network](https://raw.githubusercontent.com/broepke/DATA110/main/Final%20Project/NN.png)"
   ]
  },
  {
   "cell_type": "code",
   "execution_count": 87,
   "id": "9232e6dc",
   "metadata": {},
   "outputs": [],
   "source": [
    "X = df['text_clean']\n",
    "y = df['target']"
   ]
  },
  {
   "cell_type": "code",
   "execution_count": 88,
   "id": "bc851cdf",
   "metadata": {},
   "outputs": [
    {
     "name": "stdout",
     "output_type": "stream",
     "text": [
      "(90649,)\n",
      "(90649,)\n"
     ]
    }
   ],
   "source": [
    "print(X.shape)\n",
    "print(y.shape)"
   ]
  },
  {
   "cell_type": "code",
   "execution_count": 89,
   "id": "4ee4d1f4",
   "metadata": {},
   "outputs": [],
   "source": [
    "# Make training and test sets \n",
    "X_train, X_test, y_train, y_test = train_test_split(X, y, test_size=0.3, random_state=53)"
   ]
  },
  {
   "cell_type": "code",
   "execution_count": 90,
   "id": "ef5d5a1e",
   "metadata": {},
   "outputs": [
    {
     "name": "stdout",
     "output_type": "stream",
     "text": [
      "(63454,)\n",
      "(63454,)\n"
     ]
    }
   ],
   "source": [
    "print(y_train.shape)\n",
    "print(X_train.shape)"
   ]
  },
  {
   "cell_type": "code",
   "execution_count": 91,
   "id": "a7af7ac3",
   "metadata": {},
   "outputs": [],
   "source": [
    "X_train = X_train.to_numpy(copy=True)\n",
    "y_train = y_train.to_numpy(copy=True)"
   ]
  },
  {
   "cell_type": "code",
   "execution_count": 92,
   "id": "9fd7f489",
   "metadata": {},
   "outputs": [],
   "source": [
    "vectorize_layer = TextVectorization()\n",
    "vectorize_layer.adapt(X_train)"
   ]
  },
  {
   "cell_type": "code",
   "execution_count": 93,
   "id": "21380f3c",
   "metadata": {
    "id": "SCIg_T50wOCU"
   },
   "outputs": [],
   "source": [
    "def vectorize_text(text, label):\n",
    "  text = tf.expand_dims(text, -1)\n",
    "  return vectorize_layer(text), label"
   ]
  },
  {
   "cell_type": "code",
   "execution_count": 94,
   "id": "d7f7a69f",
   "metadata": {
    "id": "XULcm6B3xQIO"
   },
   "outputs": [
    {
     "name": "stdout",
     "output_type": "stream",
     "text": [
      "Review: run life owner either drug need sister offered watch kid send get nail done jumped chance came across place walk there owner gail yelling cell phone strike  tell pick color shell minute answer phone behind desk yell phone several minute getting back strike  isnt anyone else answer phone wanted leave really wanted get nail painted limited time stayed woman proceeded talk every problem shed ever life mostly girl worked  year said stealing client care wanted quiet hour relaxation wanted listen yelling hour would stayed home kid free wonder staff client sight left stressed went le pocket amazes people like even stay business take go somewhere else \n",
      "Label: 0\n",
      "Vectorized Review: (<tf.Tensor: shape=(1, 106), dtype=int64, numpy=\n",
      "array([[  456,   435,   265,   357,  3621,   114,  1086,   502,   625,\n",
      "          276,  1397,     9,   471,   188,  4474,   712,    36,   534,\n",
      "            3,   312,   288,   265, 15878,  3017,  3037,   403,  2952,\n",
      "          264,   428,   660,  1470,    68,  1089,   403,   570,   723,\n",
      "         3608,   403,   306,    68,   198,    11,  2952,   340,   401,\n",
      "          211,  1089,   403,   149,   394,    14,   149,     9,   471,\n",
      "         2967,   833,     6,   839,   579,  1828,   635,   108,   327,\n",
      "         2353,    79,   435,   857,   426,   633,    91,    78,  7053,\n",
      "         1297,   234,   149,   893,    72,  4939,   149,  1705,  3017,\n",
      "           72,    13,   839,   151,   276,   182,  1479,    29,  1297,\n",
      "         2585,   177,  4326,    40,   260,  2487, 11185,    49,     7,\n",
      "           24,   372,   253,    67,    12,   865,   211]])>, 0)\n"
     ]
    }
   ],
   "source": [
    "first_review = X_train[0]\n",
    "first_label = y_train[0]\n",
    "print(\"Review:\", first_review)\n",
    "print(\"Label:\", y_train[0])\n",
    "print(\"Vectorized Review:\", vectorize_text(first_review, first_label))"
   ]
  },
  {
   "cell_type": "code",
   "execution_count": 101,
   "id": "893116f4",
   "metadata": {},
   "outputs": [
    {
     "name": "stdout",
     "output_type": "stream",
     "text": [
      "1287 --->  answer\n",
      " 313 --->  yelling\n",
      "Vocabulary size: 74086\n"
     ]
    }
   ],
   "source": [
    "print(\"1287 ---> \",vectorize_layer.get_vocabulary()[1089])\n",
    "print(\" 313 ---> \",vectorize_layer.get_vocabulary()[3017])\n",
    "print('Vocabulary size: {}'.format(len(vectorize_layer.get_vocabulary())))"
   ]
  },
  {
   "cell_type": "code",
   "execution_count": 102,
   "id": "a709716e",
   "metadata": {},
   "outputs": [],
   "source": [
    "X_tr, y_tr = vectorize_text(X_train, y_train)\n",
    "X_te, y_te = vectorize_text(X_test, y_test)"
   ]
  },
  {
   "cell_type": "code",
   "execution_count": 103,
   "id": "e0d71697",
   "metadata": {},
   "outputs": [],
   "source": [
    "# Get the length of the vocabulary to understand the input feature boundary.\n",
    "max_features = len(vectorize_layer.get_vocabulary())"
   ]
  },
  {
   "cell_type": "markdown",
   "id": "c827c62d",
   "metadata": {
    "id": "LLC02j2g-llC"
   },
   "source": [
    "### Create the model\n",
    "\n",
    "It's time to create our neural network:"
   ]
  },
  {
   "cell_type": "code",
   "execution_count": 104,
   "id": "d6cd17fe",
   "metadata": {
    "id": "dkQP6in8yUBR"
   },
   "outputs": [],
   "source": [
    "embedding_dim = 16"
   ]
  },
  {
   "cell_type": "code",
   "execution_count": 105,
   "id": "39fb4ea6",
   "metadata": {
    "id": "xpKOoWgu-llD"
   },
   "outputs": [
    {
     "name": "stdout",
     "output_type": "stream",
     "text": [
      "Model: \"sequential\"\n",
      "_________________________________________________________________\n",
      "Layer (type)                 Output Shape              Param #   \n",
      "=================================================================\n",
      "embedding (Embedding)        (None, None, 16)          1185392   \n",
      "_________________________________________________________________\n",
      "dropout (Dropout)            (None, None, 16)          0         \n",
      "_________________________________________________________________\n",
      "global_average_pooling1d (Gl (None, 16)                0         \n",
      "_________________________________________________________________\n",
      "dropout_1 (Dropout)          (None, 16)                0         \n",
      "_________________________________________________________________\n",
      "dense (Dense)                (None, 1)                 17        \n",
      "=================================================================\n",
      "Total params: 1,185,409\n",
      "Trainable params: 1,185,409\n",
      "Non-trainable params: 0\n",
      "_________________________________________________________________\n"
     ]
    }
   ],
   "source": [
    "model = tf.keras.Sequential([\n",
    "  layers.Embedding(max_features + 1, embedding_dim),\n",
    "  layers.Dropout(0.2),\n",
    "  layers.GlobalAveragePooling1D(),\n",
    "  layers.Dropout(0.2),\n",
    "  layers.Dense(1)])\n",
    "\n",
    "model.summary()"
   ]
  },
  {
   "cell_type": "code",
   "execution_count": 106,
   "id": "26c59d1d",
   "metadata": {
    "id": "Mr0GP-cQ-llN"
   },
   "outputs": [],
   "source": [
    "model.compile(loss=losses.BinaryCrossentropy(from_logits=True),\n",
    "              optimizer='adam',\n",
    "              metrics=tf.metrics.BinaryAccuracy(threshold=0.0))"
   ]
  },
  {
   "cell_type": "markdown",
   "id": "351d4eb6",
   "metadata": {
    "id": "35jv_fzP-llU"
   },
   "source": [
    "### Train the model\n",
    "\n",
    "You will train the model by passing the `dataset` object to the fit method."
   ]
  },
  {
   "cell_type": "code",
   "execution_count": 107,
   "id": "64665ca4",
   "metadata": {
    "id": "tXSGrjWZ-llW"
   },
   "outputs": [
    {
     "name": "stdout",
     "output_type": "stream",
     "text": [
      "Epoch 1/30\n",
      "1983/1983 [==============================] - 7s 3ms/step - loss: 0.6816 - binary_accuracy: 0.5691\n",
      "Epoch 2/30\n",
      "1983/1983 [==============================] - 6s 3ms/step - loss: 0.6588 - binary_accuracy: 0.6042\n",
      "Epoch 3/30\n",
      "1983/1983 [==============================] - 7s 3ms/step - loss: 0.6241 - binary_accuracy: 0.6566\n",
      "Epoch 4/30\n",
      "1983/1983 [==============================] - 6s 3ms/step - loss: 0.5974 - binary_accuracy: 0.6922\n",
      "Epoch 5/30\n",
      "1983/1983 [==============================] - 7s 3ms/step - loss: 0.5827 - binary_accuracy: 0.7014\n",
      "Epoch 6/30\n",
      "1983/1983 [==============================] - 7s 3ms/step - loss: 0.5703 - binary_accuracy: 0.7127\n",
      "Epoch 7/30\n",
      "1983/1983 [==============================] - 6s 3ms/step - loss: 0.5607 - binary_accuracy: 0.7188\n",
      "Epoch 8/30\n",
      "1983/1983 [==============================] - 6s 3ms/step - loss: 0.5493 - binary_accuracy: 0.7273\n",
      "Epoch 9/30\n",
      "1983/1983 [==============================] - 7s 3ms/step - loss: 0.5361 - binary_accuracy: 0.7389\n",
      "Epoch 10/30\n",
      "1983/1983 [==============================] - 6s 3ms/step - loss: 0.5342 - binary_accuracy: 0.7350\n",
      "Epoch 11/30\n",
      "1983/1983 [==============================] - 6s 3ms/step - loss: 0.5275 - binary_accuracy: 0.7361\n",
      "Epoch 12/30\n",
      "1983/1983 [==============================] - 6s 3ms/step - loss: 0.5242 - binary_accuracy: 0.7378\n",
      "Epoch 13/30\n",
      "1983/1983 [==============================] - 6s 3ms/step - loss: 0.5209 - binary_accuracy: 0.7417\n",
      "Epoch 14/30\n",
      "1983/1983 [==============================] - 6s 3ms/step - loss: 0.5106 - binary_accuracy: 0.7472\n",
      "Epoch 15/30\n",
      "1983/1983 [==============================] - 6s 3ms/step - loss: 0.5054 - binary_accuracy: 0.7482\n",
      "Epoch 16/30\n",
      "1983/1983 [==============================] - 6s 3ms/step - loss: 0.5061 - binary_accuracy: 0.7477\n",
      "Epoch 17/30\n",
      "1983/1983 [==============================] - 6s 3ms/step - loss: 0.5014 - binary_accuracy: 0.7510\n",
      "Epoch 18/30\n",
      "1983/1983 [==============================] - 6s 3ms/step - loss: 0.4917 - binary_accuracy: 0.7565\n",
      "Epoch 19/30\n",
      "1983/1983 [==============================] - 6s 3ms/step - loss: 0.4791 - binary_accuracy: 0.7687\n",
      "Epoch 20/30\n",
      "1983/1983 [==============================] - 6s 3ms/step - loss: 0.4848 - binary_accuracy: 0.7595\n",
      "Epoch 21/30\n",
      "1983/1983 [==============================] - 6s 3ms/step - loss: 0.4801 - binary_accuracy: 0.7627\n",
      "Epoch 22/30\n",
      "1983/1983 [==============================] - 6s 3ms/step - loss: 0.4803 - binary_accuracy: 0.7605\n",
      "Epoch 23/30\n",
      "1983/1983 [==============================] - 6s 3ms/step - loss: 0.4655 - binary_accuracy: 0.7727\n",
      "Epoch 24/30\n",
      "1983/1983 [==============================] - 6s 3ms/step - loss: 0.4582 - binary_accuracy: 0.7775A\n",
      "Epoch 25/30\n",
      "1983/1983 [==============================] - 6s 3ms/step - loss: 0.4686 - binary_accuracy: 0.7696\n",
      "Epoch 26/30\n",
      "1983/1983 [==============================] - 6s 3ms/step - loss: 0.4668 - binary_accuracy: 0.7683\n",
      "Epoch 27/30\n",
      "1983/1983 [==============================] - 6s 3ms/step - loss: 0.4600 - binary_accuracy: 0.7751\n",
      "Epoch 28/30\n",
      "1983/1983 [==============================] - 6s 3ms/step - loss: 0.4650 - binary_accuracy: 0.7693\n",
      "Epoch 29/30\n",
      "1983/1983 [==============================] - 6s 3ms/step - loss: 0.4658 - binary_accuracy: 0.7703\n",
      "Epoch 30/30\n",
      "1983/1983 [==============================] - 6s 3ms/step - loss: 0.4688 - binary_accuracy: 0.7681\n"
     ]
    }
   ],
   "source": [
    "epochs = 30\n",
    "history = model.fit(x = X_tr, y = y_tr, epochs=epochs)"
   ]
  },
  {
   "cell_type": "code",
   "execution_count": 108,
   "id": "d0551d14",
   "metadata": {
    "id": "zOMKywn4zReN"
   },
   "outputs": [
    {
     "name": "stdout",
     "output_type": "stream",
     "text": [
      "850/850 [==============================] - 0s 361us/step - loss: 0.5617 - binary_accuracy: 0.7235\n",
      "Loss:  0.5617008805274963\n",
      "Accuracy:  0.7235153317451477\n"
     ]
    }
   ],
   "source": [
    "loss, accuracy = model.evaluate(x = X_te, y = y_te)\n",
    "\n",
    "print(\"Loss: \", loss)\n",
    "print(\"Accuracy: \", accuracy)"
   ]
  },
  {
   "cell_type": "code",
   "execution_count": 109,
   "id": "6227bd07",
   "metadata": {
    "id": "-YcvZsdvWfDf"
   },
   "outputs": [
    {
     "data": {
      "text/plain": [
       "dict_keys(['loss', 'binary_accuracy'])"
      ]
     },
     "execution_count": 109,
     "metadata": {},
     "output_type": "execute_result"
    }
   ],
   "source": [
    "history_dict = history.history\n",
    "history_dict.keys()"
   ]
  },
  {
   "cell_type": "markdown",
   "id": "2b54e346",
   "metadata": {
    "id": "1_CH32qJXruI"
   },
   "source": [
    "There are four entries: one for each monitored metric during training and validation. You can use these to plot the training and validation loss for comparison, as well as the training and validation accuracy:"
   ]
  },
  {
   "cell_type": "code",
   "execution_count": 110,
   "id": "0618601e",
   "metadata": {},
   "outputs": [],
   "source": [
    "acc = history_dict['binary_accuracy']\n",
    "loss = history_dict['loss']\n",
    "epochs = range(1, len(acc) + 1)"
   ]
  },
  {
   "cell_type": "code",
   "execution_count": 111,
   "id": "97501e2b",
   "metadata": {},
   "outputs": [
    {
     "data": {
      "image/png": "[encoded data removed]",
      "text/plain": [
       "<Figure size 432x288 with 1 Axes>"
      ]
     },
     "metadata": {
      "needs_background": "light"
     },
     "output_type": "display_data"
    }
   ],
   "source": [
    "plt.plot(epochs, acc, 'g:', label='Training acc')\n",
    "plt.title('Training and validation accuracy')\n",
    "plt.xlabel('Epochs')\n",
    "plt.ylabel('Accuracy')\n",
    "plt.legend(loc='lower right')\n",
    "\n",
    "plt.show()"
   ]
  },
  {
   "cell_type": "code",
   "execution_count": 112,
   "id": "5be60bf6",
   "metadata": {
    "id": "2SEMeQ5YXs8z"
   },
   "outputs": [
    {
     "data": {
      "image/png": "[encoded data removed]",
      "text/plain": [
       "<Figure size 432x288 with 1 Axes>"
      ]
     },
     "metadata": {
      "needs_background": "light"
     },
     "output_type": "display_data"
    }
   ],
   "source": [
    "plt.plot(epochs, loss, 'r:', label='Training loss')\n",
    "plt.title('Training and validation loss')\n",
    "plt.xlabel('Epochs')\n",
    "plt.ylabel('Loss')\n",
    "plt.legend()\n",
    "\n",
    "plt.show()"
   ]
  },
  {
   "cell_type": "code",
   "execution_count": 113,
   "id": "7abb1250",
   "metadata": {},
   "outputs": [
    {
     "data": {
      "text/plain": [
       "array([[  4.851339 ],\n",
       "       [ -5.9521365],\n",
       "       [ -8.080649 ],\n",
       "       [-23.831747 ],\n",
       "       [ 19.90496  ]], dtype=float32)"
      ]
     },
     "execution_count": 113,
     "metadata": {},
     "output_type": "execute_result"
    }
   ],
   "source": [
    "examples = [\n",
    "  \"The food was great!\",\n",
    "  \"The service was okay.\",\n",
    "  \"The nail salon was terrible...\",\n",
    "  \"The food was good, the service was terrible, the decor was spectacular.\",\n",
    "  \"Wow this thing is amazing!\"\n",
    "  ]\n",
    "\n",
    "vector_examples = vectorize_layer(examples)\n",
    "\n",
    "res = model.predict(vector_examples)\n",
    "\n",
    "res"
   ]
  },
  {
   "cell_type": "markdown",
   "id": "36bac897",
   "metadata": {},
   "source": [
    "**Observations:**\n",
    "- The values above indicate a `postive` value as a postive sentiment and `negative` as a negative sentiment."
   ]
  },
  {
   "cell_type": "markdown",
   "id": "23f5d97a",
   "metadata": {},
   "source": [
    "# CONCLUSION \n",
    "\n",
    "a conclusion summarizing the analysis and the results. Were you able to meet your analysis objective as described in your introduction?"
   ]
  },
  {
   "cell_type": "markdown",
   "id": "27da129d",
   "metadata": {},
   "source": [
    "# REFERENCES\n",
    "\n",
    "1. [Yelp Reviews Dataset](https://www.yelp.com/dataset)\n",
    "1. [Hyperparameter (machine learning)](https://en.wikipedia.org/wiki/Hyperparameter_(machine_learning))\n",
    "1. [Basic Text Classification with TensorFlow](https://www.tensorflow.org/tutorials/keras/text_classification)\n",
    "1. [Random Forest Classifier](https://en.wikipedia.org/wiki/Random_forest)\n",
    "1. [Logistic Regression](https://en.wikipedia.org/wiki/Logistic_regression)\n",
    "1. [What is the inverse of regularization strength in Logistic Regression? How should it affect my code?](https://stackoverflow.com/questions/22851316/what-is-the-inverse-of-regularization-strength-in-logistic-regression-how-shoul)\n",
    "1. [LIBLINEAR -- A Library for Large Linear Classification](https://www.csie.ntu.edu.tw/~cjlin/liblinear/)"
   ]
  },
  {
   "cell_type": "code",
   "execution_count": null,
   "id": "023e8b0a",
   "metadata": {},
   "outputs": [],
   "source": []
  }
 ],
 "metadata": {
  "kernelspec": {
   "display_name": "Python 3",
   "language": "python",
   "name": "python3"
  },
  "language_info": {
   "codemirror_mode": {
    "name": "ipython",
    "version": 3
   },
   "file_extension": ".py",
   "mimetype": "text/x-python",
   "name": "python",
   "nbconvert_exporter": "python",
   "pygments_lexer": "ipython3",
   "version": "3.8.8"
  }
 },
 "nbformat": 4,
 "nbformat_minor": 5
}
