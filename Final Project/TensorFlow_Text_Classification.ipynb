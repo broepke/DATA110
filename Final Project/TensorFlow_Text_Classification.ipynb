{
 "cells": [
  {
   "cell_type": "code",
   "execution_count": 56,
   "id": "6c354fc1-d0be-42dd-8c1f-4a0711fadf9b",
   "metadata": {},
   "outputs": [],
   "source": [
    "import matplotlib.pyplot as plt\n",
    "import os\n",
    "import re\n",
    "import shutil\n",
    "import string\n",
    "import tensorflow as tf\n",
    "import pandas as pd\n",
    "import numpy as np\n",
    "\n",
    "from sklearn.model_selection import train_test_split\n",
    "\n",
    "from tensorflow.keras import layers\n",
    "from tensorflow.keras import losses\n",
    "from tensorflow.keras import preprocessing\n",
    "from tensorflow.keras.layers.experimental.preprocessing import TextVectorization"
   ]
  },
  {
   "cell_type": "code",
   "execution_count": 25,
   "id": "73753899-c32d-462a-a6fd-05e2e56c7626",
   "metadata": {},
   "outputs": [],
   "source": [
    "df = pd.read_csv('yelp.csv')"
   ]
  },
  {
   "cell_type": "code",
   "execution_count": 26,
   "id": "8ce7129c-436c-4179-bb49-301771130e2a",
   "metadata": {},
   "outputs": [
    {
     "data": {
      "text/plain": [
       "(100000, 23)"
      ]
     },
     "execution_count": 26,
     "metadata": {},
     "output_type": "execute_result"
    }
   ],
   "source": [
    "df.shape"
   ]
  },
  {
   "cell_type": "markdown",
   "id": "72107917-7c68-4328-9ce7-087b1f249091",
   "metadata": {},
   "source": [
    "### Null Values\n",
    "\n",
    "Nulll values are generally not desireable in a dataset.  In certain cases, observations (rows) with low counts will simply be dropped, in other cases, they can be filled with other values."
   ]
  },
  {
   "cell_type": "code",
   "execution_count": 27,
   "id": "1ed51cfe-5c10-45f2-b9f5-bc6b6d5ec09a",
   "metadata": {},
   "outputs": [],
   "source": [
    "# Drop NULL values\n",
    "df.dropna(inplace=True)"
   ]
  },
  {
   "cell_type": "code",
   "execution_count": 28,
   "id": "8cfe2005-520f-4721-b746-fadc5ce5b6f9",
   "metadata": {},
   "outputs": [],
   "source": [
    "# Drop unwanted columns\n",
    "df.drop(columns=['Unnamed: 0'], inplace=True)"
   ]
  },
  {
   "cell_type": "code",
   "execution_count": 29,
   "id": "c6859d01-c489-4061-b4a7-f064579c0328",
   "metadata": {},
   "outputs": [
    {
     "data": {
      "text/plain": [
       "1    71554\n",
       "0    19098\n",
       "Name: is_open, dtype: int64"
      ]
     },
     "execution_count": 29,
     "metadata": {},
     "output_type": "execute_result"
    }
   ],
   "source": [
    "df['is_open'].value_counts()"
   ]
  },
  {
   "cell_type": "code",
   "execution_count": 30,
   "id": "65b88c40-4ec2-473b-9ba7-195220e75400",
   "metadata": {},
   "outputs": [],
   "source": [
    "# Drop the long and lat columns.  Precise location isn't needed\n",
    "df.drop(columns=['longitude', 'latitude', 'is_open'], inplace=True)"
   ]
  },
  {
   "cell_type": "code",
   "execution_count": 31,
   "id": "b4b9d80e-587c-4098-9305-b3d3d24b1f18",
   "metadata": {},
   "outputs": [],
   "source": [
    "# Add column 'text_len' that counts the length for the derived field\n",
    "df['text_len'] = df.apply(lambda row: len(row['text']), axis = 1)"
   ]
  },
  {
   "cell_type": "code",
   "execution_count": 32,
   "id": "e10dc535-e2bc-4000-99dd-fe2ccca6564b",
   "metadata": {},
   "outputs": [],
   "source": [
    "df['date'] =  pd.to_datetime(df['date'])"
   ]
  },
  {
   "cell_type": "markdown",
   "id": "1741ac90-9baf-467b-9b0c-11b92032ae57",
   "metadata": {},
   "source": [
    "### Duplicates\n",
    "\n",
    "A common practice is to review any duplicates.  If there are large quantities, they can skew the results."
   ]
  },
  {
   "cell_type": "code",
   "execution_count": 33,
   "id": "25206c0b-74bc-49fd-b07a-bd7aee9a1472",
   "metadata": {},
   "outputs": [
    {
     "name": "stdout",
     "output_type": "stream",
     "text": [
      "Before = 90652\n",
      "After = 90652\n",
      "\n",
      "Total Removed = 0\n"
     ]
    }
   ],
   "source": [
    "len_before = df.shape[0]\n",
    "df.drop_duplicates(inplace=True)\n",
    "df['text'].drop_duplicates(inplace=True)\n",
    "len_after = df.shape[0]\n",
    "\n",
    "print(\"Before =\", len_before)\n",
    "# drop duplicates\n",
    "print(\"After =\", len_after)\n",
    "print('')\n",
    "print(\"Total Removed =\", len_before - len_after)"
   ]
  },
  {
   "cell_type": "code",
   "execution_count": 37,
   "id": "d42fb16d-8d77-4838-bcbf-1c5efd7c6b0e",
   "metadata": {},
   "outputs": [
    {
     "name": "stdout",
     "output_type": "stream",
     "text": [
      "90649\n",
      "90649\n"
     ]
    }
   ],
   "source": [
    "print(len(df))\n",
    "df = df[df['state'] != 'KS'].copy()\n",
    "print(len(df))"
   ]
  },
  {
   "cell_type": "code",
   "execution_count": 38,
   "id": "13031646-28d5-4b39-b715-b697e16e2b36",
   "metadata": {},
   "outputs": [
    {
     "name": "stdout",
     "output_type": "stream",
     "text": [
      "<class 'pandas.core.frame.DataFrame'>\n",
      "Int64Index: 90649 entries, 0 to 99999\n",
      "Data columns (total 20 columns):\n",
      " #   Column        Non-Null Count  Dtype         \n",
      "---  ------        --------------  -----         \n",
      " 0   business_id   90649 non-null  object        \n",
      " 1   name          90649 non-null  object        \n",
      " 2   address       90649 non-null  object        \n",
      " 3   city          90649 non-null  object        \n",
      " 4   state         90649 non-null  object        \n",
      " 5   postal_code   90649 non-null  object        \n",
      " 6   stars_x       90649 non-null  float64       \n",
      " 7   review_count  90649 non-null  int64         \n",
      " 8   attributes    90649 non-null  object        \n",
      " 9   categories    90649 non-null  object        \n",
      " 10  hours         90649 non-null  object        \n",
      " 11  review_id     90649 non-null  object        \n",
      " 12  user_id       90649 non-null  object        \n",
      " 13  stars_y       90649 non-null  float64       \n",
      " 14  useful        90649 non-null  int64         \n",
      " 15  funny         90649 non-null  int64         \n",
      " 16  cool          90649 non-null  int64         \n",
      " 17  text          90649 non-null  object        \n",
      " 18  date          90649 non-null  datetime64[ns]\n",
      " 19  text_len      90649 non-null  int64         \n",
      "dtypes: datetime64[ns](1), float64(2), int64(5), object(12)\n",
      "memory usage: 14.5+ MB\n"
     ]
    }
   ],
   "source": [
    "df.info()"
   ]
  },
  {
   "cell_type": "markdown",
   "id": "2e7fbb9c-c770-45c4-a5a4-2f5f6ecfeb91",
   "metadata": {},
   "source": [
    "**Note:** There are not enough observations for Kansas, these have been dropped."
   ]
  },
  {
   "cell_type": "code",
   "execution_count": 39,
   "id": "0f60a2bf-c03f-4dcc-9f03-9f778b183e6f",
   "metadata": {},
   "outputs": [],
   "source": [
    "# add a column for positive or negative\n",
    "df['target'] = df['stars_x'].apply(lambda c: 0 if c < 4 else 1)"
   ]
  },
  {
   "cell_type": "code",
   "execution_count": 42,
   "id": "1931b63c-e6e2-4867-8af9-0d36dcb363d8",
   "metadata": {},
   "outputs": [],
   "source": [
    "X = df['text']\n",
    "y = df['target']"
   ]
  },
  {
   "cell_type": "code",
   "execution_count": 43,
   "id": "3855200c-df9b-451c-82a7-276053a8a01a",
   "metadata": {},
   "outputs": [
    {
     "name": "stdout",
     "output_type": "stream",
     "text": [
      "(90649,)\n",
      "(90649,)\n"
     ]
    }
   ],
   "source": [
    "print(X.shape)\n",
    "print(y.shape)"
   ]
  },
  {
   "cell_type": "code",
   "execution_count": 44,
   "id": "874621e5-dda3-42b8-bade-d6ccee2f5158",
   "metadata": {},
   "outputs": [],
   "source": [
    "# Make training and test sets \n",
    "X_train, X_test, y_train, y_test = train_test_split(X, y, test_size=0.33, random_state=53)"
   ]
  },
  {
   "cell_type": "code",
   "execution_count": 45,
   "id": "79a03552-4c72-4f92-bb1e-7652448b7984",
   "metadata": {},
   "outputs": [
    {
     "name": "stdout",
     "output_type": "stream",
     "text": [
      "(60734,)\n",
      "(60734,)\n"
     ]
    }
   ],
   "source": [
    "print(y_train.shape)\n",
    "print(X_train.shape)"
   ]
  },
  {
   "cell_type": "code",
   "execution_count": 47,
   "id": "e261e1ce-ed6f-40e5-892c-48803d62c1de",
   "metadata": {},
   "outputs": [],
   "source": [
    "vectorize_layer = TextVectorization()"
   ]
  },
  {
   "cell_type": "code",
   "execution_count": 57,
   "id": "6ef12527-565b-46f9-9a5c-3bdef20011d2",
   "metadata": {},
   "outputs": [],
   "source": [
    "X_train = X_train.to_numpy(copy=True)\n",
    "y_train = y_train.to_numpy(copy=True)"
   ]
  },
  {
   "cell_type": "code",
   "execution_count": 58,
   "id": "25a927b2-ca13-4d6d-89b0-5d595866df04",
   "metadata": {},
   "outputs": [],
   "source": [
    "vectorize_layer.adapt(X_train)"
   ]
  },
  {
   "cell_type": "code",
   "execution_count": 60,
   "id": "33c21e03-e213-4bb2-9f27-cea130cb2e9f",
   "metadata": {
    "id": "SCIg_T50wOCU"
   },
   "outputs": [],
   "source": [
    "def vectorize_text(text, label):\n",
    "  text = tf.expand_dims(text, -1)\n",
    "  return vectorize_layer(text), label"
   ]
  },
  {
   "cell_type": "code",
   "execution_count": 74,
   "id": "2837454b-570b-49d8-9e1b-411fbbdafd91",
   "metadata": {
    "id": "XULcm6B3xQIO"
   },
   "outputs": [
    {
     "name": "stdout",
     "output_type": "stream",
     "text": [
      "Review Went here for the first time. Service was bad, busy looking at computer before finally asked what I would like. Ordered pad Thai and does not look appetizing. Looks totally different from the picture. Not very colorful only have green onions and sprouts for vegetables. Wanted spicy which they forgot and they just mixed in chili oil and that was it. Tastes awful and nothing amazing about the food. The pho countryside has much better pad Thai and tastes amazingly better plus spicy with no chili stuff added to it and is a pretty dish. I would not recommend going here. One more thing, ordered take out and didn't give me any utensils or napkins. Would not be going back the food tastes awful!!!!!\n",
      "Label 1\n",
      "Vectorized review (<tf.Tensor: shape=(1, 124), dtype=int64, numpy=\n",
      "array([[  105,    41,    11,     2,   104,    50,    44,     7,   180,\n",
      "          280,   212,    30,  2262,   135,   380,   197,    65,     5,\n",
      "           55,    42,    92,   951,   456,     3,   420,    24,   279,\n",
      "         4058,   564,   656,   234,    51,     2,  1556,    24,    35,\n",
      "         3753,    71,    22,   535,   916,     3,  1518,    11,  1089,\n",
      "          226,   290,    61,    19,  1069,     3,    19,    45,   918,\n",
      "           12,  1347,   723,     3,    14,     7,    10,   872,  1000,\n",
      "            3,   251,   118,    60,     2,    27,     2,   794, 20402,\n",
      "           89,   108,   125,   951,   456,     3,   872,  2236,   125,\n",
      "          478,   290,    15,    70,  1347,   500,   757,     6,    10,\n",
      "            3,     9,     4,   115,   265,     5,    55,    24,   145,\n",
      "          130,    41,    48,    67,   215,    92,   154,    40,     3,\n",
      "          103,   177,    36,   146,  3506,    53,  2206,    55,    24,\n",
      "           32,   130,    54,     2,    27,   872,  1000]])>, 1)\n"
     ]
    }
   ],
   "source": [
    "# retrieve a batch (of 32 reviews and labels) from the dataset\n",
    "first_review = X_train[0]\n",
    "first_label = y_train[0]\n",
    "print(\"Review\", first_review)\n",
    "print(\"Label\", y_train[0])\n",
    "print(\"Vectorized review\", vectorize_text(first_review, first_label))"
   ]
  },
  {
   "cell_type": "code",
   "execution_count": 78,
   "id": "25736c40-0dec-459a-8b68-75197d4772ac",
   "metadata": {},
   "outputs": [
    {
     "name": "stdout",
     "output_type": "stream",
     "text": [
      "1287 --->  starbucks\n",
      " 313 --->  fish\n",
      "Vocabulary size: 82518\n"
     ]
    }
   ],
   "source": [
    "print(\"1287 ---> \",vectorize_layer.get_vocabulary()[1287])\n",
    "print(\" 313 ---> \",vectorize_layer.get_vocabulary()[313])\n",
    "print('Vocabulary size: {}'.format(len(vectorize_layer.get_vocabulary())))"
   ]
  },
  {
   "cell_type": "code",
   "execution_count": 88,
   "id": "4d10cb8d-d59b-4834-8791-ebb02a9169a9",
   "metadata": {},
   "outputs": [],
   "source": [
    "raw_train_ds = np.vstack((X_train, y_train))\n",
    "raw_test_ds = np.vstack((X_test, y_test))"
   ]
  },
  {
   "cell_type": "code",
   "execution_count": null,
   "id": "29ff11d3-c881-4e50-acaa-53d53b78dd2b",
   "metadata": {},
   "outputs": [],
   "source": []
  },
  {
   "cell_type": "code",
   "execution_count": 90,
   "id": "492fdcac-872c-4170-b350-3d0356ef5c42",
   "metadata": {},
   "outputs": [],
   "source": [
    "X_tr, y_tr = vectorize_text(X_train, y_train)\n",
    "X_te, y_te = vectorize_text(X_test, y_test)"
   ]
  },
  {
   "cell_type": "code",
   "execution_count": 95,
   "id": "e9897aba-ac44-456f-b1db-beb9feccb75e",
   "metadata": {},
   "outputs": [],
   "source": [
    "max_features = len(vectorize_layer.get_vocabulary())"
   ]
  },
  {
   "cell_type": "markdown",
   "id": "e00bb0f2-509e-40a2-b0ea-c2a5991a112a",
   "metadata": {
    "id": "LLC02j2g-llC"
   },
   "source": [
    "### Create the model\n",
    "\n",
    "It's time to create our neural network:"
   ]
  },
  {
   "cell_type": "code",
   "execution_count": 96,
   "id": "00ab321d-9bc6-4e8b-9755-1aeb2475750a",
   "metadata": {
    "id": "dkQP6in8yUBR"
   },
   "outputs": [],
   "source": [
    "embedding_dim = 16"
   ]
  },
  {
   "cell_type": "code",
   "execution_count": null,
   "id": "b514fda8-aee7-42db-8d11-f7cbd7927024",
   "metadata": {},
   "outputs": [],
   "source": []
  },
  {
   "cell_type": "raw",
   "id": "8968fe9f-7f5d-4263-bde7-a3ef7824ebc8",
   "metadata": {},
   "source": [
    "model = tf.keras.models.Sequential()\n",
    "model.add(tf.keras.layers.Flatten())\n",
    "model.add(tf.keras.layers.Dense(128, activation=tf.nn.relu))\n",
    "model.add(tf.keras.layers.Dense(128, activation=tf.nn.relu))\n",
    "model.add(tf.keras.layers.Dense(10, activation=tf.nn.softmax))\n",
    "\n",
    "model.compile(optimizer='adam',\n",
    "             loss='sparse_categorical_crossentropy',\n",
    "             metrics=['accuracy'])"
   ]
  },
  {
   "cell_type": "code",
   "execution_count": 164,
   "id": "fb569c3f-bf7f-43c3-8051-f6daacea8418",
   "metadata": {
    "id": "xpKOoWgu-llD"
   },
   "outputs": [
    {
     "name": "stdout",
     "output_type": "stream",
     "text": [
      "Model: \"sequential_3\"\n",
      "_________________________________________________________________\n",
      "Layer (type)                 Output Shape              Param #   \n",
      "=================================================================\n",
      "embedding_3 (Embedding)      (None, None, 16)          1320304   \n",
      "_________________________________________________________________\n",
      "dropout_6 (Dropout)          (None, None, 16)          0         \n",
      "_________________________________________________________________\n",
      "global_average_pooling1d_3 ( (None, 16)                0         \n",
      "_________________________________________________________________\n",
      "dropout_7 (Dropout)          (None, 16)                0         \n",
      "_________________________________________________________________\n",
      "dense_5 (Dense)              (None, 1)                 17        \n",
      "=================================================================\n",
      "Total params: 1,320,321\n",
      "Trainable params: 1,320,321\n",
      "Non-trainable params: 0\n",
      "_________________________________________________________________\n"
     ]
    }
   ],
   "source": [
    "model = tf.keras.Sequential([\n",
    "  layers.Embedding(max_features + 1, embedding_dim),\n",
    "  layers.Dropout(0.2),\n",
    "  layers.GlobalAveragePooling1D(),\n",
    "  layers.Dropout(0.2),\n",
    "  layers.Dense(1)])\n",
    "\n",
    "model.summary()"
   ]
  },
  {
   "cell_type": "code",
   "execution_count": null,
   "id": "da808203-e2a8-443b-ac28-73cc4a69515c",
   "metadata": {},
   "outputs": [],
   "source": []
  },
  {
   "cell_type": "code",
   "execution_count": 165,
   "id": "2a149431-872a-4060-8ed3-70e74b2f4c90",
   "metadata": {
    "id": "Mr0GP-cQ-llN"
   },
   "outputs": [],
   "source": [
    "model.compile(loss=losses.BinaryCrossentropy(from_logits=True),\n",
    "              optimizer='adam',\n",
    "              metrics=tf.metrics.BinaryAccuracy(threshold=0.0))"
   ]
  },
  {
   "cell_type": "markdown",
   "id": "f5bfea7b-e1c7-4878-876a-639e400a97e7",
   "metadata": {
    "id": "35jv_fzP-llU"
   },
   "source": [
    "### Train the model\n",
    "\n",
    "You will train the model by passing the `dataset` object to the fit method."
   ]
  },
  {
   "cell_type": "code",
   "execution_count": 166,
   "id": "284b7fae-772c-492b-b5a9-2aed9a32190a",
   "metadata": {
    "id": "tXSGrjWZ-llW"
   },
   "outputs": [
    {
     "name": "stdout",
     "output_type": "stream",
     "text": [
      "Epoch 1/30\n",
      "1898/1898 [==============================] - 8s 4ms/step - loss: 0.6811 - binary_accuracy: 0.5707\n",
      "Epoch 2/30\n",
      "1898/1898 [==============================] - 8s 4ms/step - loss: 0.6689 - binary_accuracy: 0.5917\n",
      "Epoch 3/30\n",
      "1898/1898 [==============================] - 8s 4ms/step - loss: 0.6493 - binary_accuracy: 0.6209\n",
      "Epoch 4/30\n",
      "1898/1898 [==============================] - 8s 4ms/step - loss: 0.6285 - binary_accuracy: 0.6533\n",
      "Epoch 5/30\n",
      "1898/1898 [==============================] - 8s 4ms/step - loss: 0.6136 - binary_accuracy: 0.6725A: 0s - loss: 0.6139 - binary_acc\n",
      "Epoch 6/30\n",
      "1898/1898 [==============================] - 7s 4ms/step - loss: 0.6040 - binary_accuracy: 0.6767\n",
      "Epoch 7/30\n",
      "1898/1898 [==============================] - 8s 4ms/step - loss: 0.5923 - binary_accuracy: 0.6868\n",
      "Epoch 8/30\n",
      "1898/1898 [==============================] - 8s 4ms/step - loss: 0.5863 - binary_accuracy: 0.6933\n",
      "Epoch 9/30\n",
      "1898/1898 [==============================] - 8s 4ms/step - loss: 0.5748 - binary_accuracy: 0.7035\n",
      "Epoch 10/30\n",
      "1898/1898 [==============================] - 8s 4ms/step - loss: 0.5675 - binary_accuracy: 0.7074\n",
      "Epoch 11/30\n",
      "1898/1898 [==============================] - 8s 4ms/step - loss: 0.5605 - binary_accuracy: 0.7132A: 0s - loss: 0.5604 - binary_accuracy: 0\n",
      "Epoch 12/30\n",
      "1898/1898 [==============================] - 8s 4ms/step - loss: 0.5596 - binary_accuracy: 0.7126\n",
      "Epoch 13/30\n",
      "1898/1898 [==============================] - 8s 4ms/step - loss: 0.5642 - binary_accuracy: 0.7073\n",
      "Epoch 14/30\n",
      "1898/1898 [==============================] - 8s 4ms/step - loss: 0.5610 - binary_accuracy: 0.7074\n",
      "Epoch 15/30\n",
      "1898/1898 [==============================] - 8s 4ms/step - loss: 0.5523 - binary_accuracy: 0.7169\n",
      "Epoch 16/30\n",
      "1898/1898 [==============================] - 8s 4ms/step - loss: 0.5531 - binary_accuracy: 0.7144\n",
      "Epoch 17/30\n",
      "1898/1898 [==============================] - 8s 4ms/step - loss: 0.5539 - binary_accuracy: 0.7114\n",
      "Epoch 18/30\n",
      "1898/1898 [==============================] - 8s 4ms/step - loss: 0.5510 - binary_accuracy: 0.7137\n",
      "Epoch 19/30\n",
      "1898/1898 [==============================] - 8s 4ms/step - loss: 0.5483 - binary_accuracy: 0.7167\n",
      "Epoch 20/30\n",
      "1898/1898 [==============================] - 8s 4ms/step - loss: 0.5441 - binary_accuracy: 0.7188\n",
      "Epoch 21/30\n",
      "1898/1898 [==============================] - 8s 4ms/step - loss: 0.5433 - binary_accuracy: 0.7190\n",
      "Epoch 22/30\n",
      "1898/1898 [==============================] - 8s 4ms/step - loss: 0.5400 - binary_accuracy: 0.7203\n",
      "Epoch 23/30\n",
      "1898/1898 [==============================] - 8s 4ms/step - loss: 0.5339 - binary_accuracy: 0.7267\n",
      "Epoch 24/30\n",
      "1898/1898 [==============================] - 8s 4ms/step - loss: 0.5274 - binary_accuracy: 0.7289\n",
      "Epoch 25/30\n",
      "1898/1898 [==============================] - 8s 4ms/step - loss: 0.5296 - binary_accuracy: 0.7279\n",
      "Epoch 26/30\n",
      "1898/1898 [==============================] - 8s 4ms/step - loss: 0.5238 - binary_accuracy: 0.7307\n",
      "Epoch 27/30\n",
      "1898/1898 [==============================] - 8s 4ms/step - loss: 0.5260 - binary_accuracy: 0.7322\n",
      "Epoch 28/30\n",
      "1898/1898 [==============================] - 8s 4ms/step - loss: 0.5122 - binary_accuracy: 0.7441\n",
      "Epoch 29/30\n",
      "1898/1898 [==============================] - 8s 4ms/step - loss: 0.4994 - binary_accuracy: 0.7483\n",
      "Epoch 30/30\n",
      "1898/1898 [==============================] - 8s 4ms/step - loss: 0.4993 - binary_accuracy: 0.7494\n"
     ]
    }
   ],
   "source": [
    "epochs = 30\n",
    "history = model.fit(x = X_tr, y = y_tr, epochs=epochs)"
   ]
  },
  {
   "cell_type": "code",
   "execution_count": 167,
   "id": "06b45ec1-2478-4314-9ebc-cd5032af1f45",
   "metadata": {
    "id": "zOMKywn4zReN"
   },
   "outputs": [
    {
     "name": "stdout",
     "output_type": "stream",
     "text": [
      "935/935 [==============================] - 0s 415us/step - loss: 0.5600 - binary_accuracy: 0.7159\n",
      "Loss:  0.5600093603134155\n",
      "Accuracy:  0.7159284353256226\n"
     ]
    }
   ],
   "source": [
    "loss, accuracy = model.evaluate(x = X_te, y = y_te)\n",
    "\n",
    "print(\"Loss: \", loss)\n",
    "print(\"Accuracy: \", accuracy)"
   ]
  },
  {
   "cell_type": "code",
   "execution_count": 168,
   "id": "6c3bd343-e0cf-49b7-b3cc-0e6a28598041",
   "metadata": {
    "id": "-YcvZsdvWfDf"
   },
   "outputs": [
    {
     "data": {
      "text/plain": [
       "dict_keys(['loss', 'binary_accuracy'])"
      ]
     },
     "execution_count": 168,
     "metadata": {},
     "output_type": "execute_result"
    }
   ],
   "source": [
    "history_dict = history.history\n",
    "history_dict.keys()"
   ]
  },
  {
   "cell_type": "markdown",
   "id": "cd461d28-76b4-47f7-8fd5-263c4f5d3a2f",
   "metadata": {
    "id": "1_CH32qJXruI"
   },
   "source": [
    "There are four entries: one for each monitored metric during training and validation. You can use these to plot the training and validation loss for comparison, as well as the training and validation accuracy:"
   ]
  },
  {
   "cell_type": "code",
   "execution_count": null,
   "id": "88c772b4-d6d7-4aa3-9325-e2778bbf3a7d",
   "metadata": {
    "id": "2SEMeQ5YXs8z"
   },
   "outputs": [],
   "source": [
    "acc = history_dict['binary_accuracy']\n",
    "loss = history_dict['loss']\n",
    "\n",
    "epochs = range(1, len(acc) + 1)\n",
    "\n",
    "# \"bo\" is for \"blue dot\"\n",
    "plt.plot(epochs, loss, 'k--', label='Training loss')\n",
    "# b is for \"solid blue line\"\n",
    "plt.title('Training and validation loss')\n",
    "plt.xlabel('Epochs')\n",
    "plt.ylabel('Loss')\n",
    "plt.legend()\n",
    "\n",
    "plt.show()"
   ]
  },
  {
   "cell_type": "code",
   "execution_count": 162,
   "id": "260703fa-8008-4c30-9276-d3d66b88bbf2",
   "metadata": {},
   "outputs": [
    {
     "data": {
      "image/png": "[encoded data removed]",
      "text/plain": [
       "<Figure size 432x288 with 1 Axes>"
      ]
     },
     "metadata": {
      "needs_background": "light"
     },
     "output_type": "display_data"
    }
   ],
   "source": [
    "plt.plot(epochs, acc, 'k--', label='Training acc')\n",
    "plt.title('Training and validation accuracy')\n",
    "plt.xlabel('Epochs')\n",
    "plt.ylabel('Accuracy')\n",
    "plt.legend(loc='lower right')\n",
    "\n",
    "plt.show()"
   ]
  },
  {
   "cell_type": "code",
   "execution_count": 174,
   "id": "79cc63ab-2f8a-4ccd-8f2a-32e689b41d08",
   "metadata": {},
   "outputs": [
    {
     "data": {
      "text/plain": [
       "array([[  6.4441357],\n",
       "       [-12.181259 ],\n",
       "       [-13.588976 ],\n",
       "       [-45.321297 ],\n",
       "       [ 30.103067 ]], dtype=float32)"
      ]
     },
     "execution_count": 174,
     "metadata": {},
     "output_type": "execute_result"
    }
   ],
   "source": [
    "examples = [\n",
    "  \"The food was great!\",\n",
    "  \"The service was okay.\",\n",
    "  \"The nail salon was terrible...\",\n",
    "  \"The food was good, the service was terrible, the decor was spectacular.\",\n",
    "  \"Wow this thing is amazing!\"\n",
    "  ]\n",
    "\n",
    "vector_examples = vectorize_layer(examples)\n",
    "\n",
    "res = model.predict(vector_examples)\n",
    "\n",
    "res"
   ]
  },
  {
   "cell_type": "code",
   "execution_count": null,
   "id": "9dc04a26-0d09-48e6-9def-263bb38baa78",
   "metadata": {},
   "outputs": [],
   "source": []
  }
 ],
 "metadata": {
  "kernelspec": {
   "display_name": "Python 3",
   "language": "python",
   "name": "python3"
  },
  "language_info": {
   "codemirror_mode": {
    "name": "ipython",
    "version": 3
   },
   "file_extension": ".py",
   "mimetype": "text/x-python",
   "name": "python",
   "nbconvert_exporter": "python",
   "pygments_lexer": "ipython3",
   "version": "3.8.8"
  }
 },
 "nbformat": 4,
 "nbformat_minor": 5
}
