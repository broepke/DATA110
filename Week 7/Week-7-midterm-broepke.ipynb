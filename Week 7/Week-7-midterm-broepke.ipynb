{
 "cells": [
  {
   "cell_type": "markdown",
   "id": "accessory-baking",
   "metadata": {},
   "source": [
    "# Midterm 1\n",
    "\n",
    "**Brian Roepke**\n",
    "**DATA 110**\n",
    "\n",
    "February 21, 2021\n",
    "\n",
    "Perform a complete analysis on the dataset attached, including full EDA, data prep/cleansing, modeling/performance assessment and analysis annotation/description. Make sure to format your notebook accordingly with section headers and text, as part of your grade is based on the format of your notebook."
   ]
  },
  {
   "cell_type": "markdown",
   "id": "falling-generic",
   "metadata": {},
   "source": [
    "## Load the dataset and describe the data including the following:\n",
    "\n",
    "* Peek at the data\n",
    "* Statistical summary of all attributes\n",
    "* Breakdown of the data by  variables"
   ]
  },
  {
   "cell_type": "code",
   "execution_count": 126,
   "id": "australian-example",
   "metadata": {},
   "outputs": [],
   "source": [
    "import numpy as np\n",
    "import pandas as pd\n",
    "import seaborn as sns\n",
    "import matplotlib.pyplot as plt\n",
    "\n",
    "from sklearn.metrics import classification_report, plot_confusion_matrix, balanced_accuracy_score\n",
    "from sklearn.metrics import roc_auc_score, roc_curve, precision_recall_curve, auc\n",
    "from sklearn.model_selection import cross_val_score, train_test_split, KFold, RepeatedStratifiedKFold\n",
    "from sklearn.feature_selection import chi2, SelectKBest\n",
    "from sklearn.dummy import DummyClassifier\n",
    "from sklearn.preprocessing import OneHotEncoder, LabelEncoder, OrdinalEncoder\n",
    "from sklearn.pipeline import Pipeline, make_pipeline\n",
    "from sklearn.compose import make_column_transformer, ColumnTransformer\n",
    "from sklearn.preprocessing import StandardScaler\n",
    "\n",
    "from sklearn.linear_model import LogisticRegression, Perceptron, SGDClassifier\n",
    "from sklearn.tree import DecisionTreeClassifier\n",
    "from sklearn.ensemble import RandomForestClassifier, GradientBoostingClassifier, AdaBoostClassifier, ExtraTreesClassifier\n",
    "from sklearn.neighbors import KNeighborsClassifier, LocalOutlierFactor\n",
    "from sklearn.svm import LinearSVC\n",
    "from sklearn.cluster import KMeans\n",
    "\n",
    "from imblearn.over_sampling import SMOTE\n",
    "from imblearn.pipeline import Pipeline"
   ]
  },
  {
   "cell_type": "code",
   "execution_count": 102,
   "id": "rough-compact",
   "metadata": {},
   "outputs": [],
   "source": [
    "df = pd.read_csv(\"bank.csv\", delimiter=\";\")"
   ]
  },
  {
   "cell_type": "code",
   "execution_count": 103,
   "id": "interesting-wiring",
   "metadata": {},
   "outputs": [
    {
     "data": {
      "text/plain": [
       "(4521, 17)"
      ]
     },
     "execution_count": 103,
     "metadata": {},
     "output_type": "execute_result"
    }
   ],
   "source": [
    "df.shape"
   ]
  },
  {
   "cell_type": "code",
   "execution_count": 104,
   "id": "greek-static",
   "metadata": {},
   "outputs": [
    {
     "name": "stdout",
     "output_type": "stream",
     "text": [
      "<class 'pandas.core.frame.DataFrame'>\n",
      "RangeIndex: 4521 entries, 0 to 4520\n",
      "Data columns (total 17 columns):\n",
      " #   Column     Non-Null Count  Dtype \n",
      "---  ------     --------------  ----- \n",
      " 0   age        4521 non-null   int64 \n",
      " 1   job        4521 non-null   object\n",
      " 2   marital    4521 non-null   object\n",
      " 3   education  4521 non-null   object\n",
      " 4   default    4521 non-null   object\n",
      " 5   balance    4521 non-null   int64 \n",
      " 6   housing    4521 non-null   object\n",
      " 7   loan       4521 non-null   object\n",
      " 8   contact    4521 non-null   object\n",
      " 9   day        4521 non-null   int64 \n",
      " 10  month      4521 non-null   object\n",
      " 11  duration   4521 non-null   int64 \n",
      " 12  campaign   4521 non-null   int64 \n",
      " 13  pdays      4521 non-null   int64 \n",
      " 14  previous   4521 non-null   int64 \n",
      " 15  poutcome   4521 non-null   object\n",
      " 16  y          4521 non-null   object\n",
      "dtypes: int64(7), object(10)\n",
      "memory usage: 600.6+ KB\n"
     ]
    }
   ],
   "source": [
    "df.info()"
   ]
  },
  {
   "cell_type": "markdown",
   "id": "living-fruit",
   "metadata": {},
   "source": [
    "### Numerical Data"
   ]
  },
  {
   "cell_type": "code",
   "execution_count": 105,
   "id": "virtual-reviewer",
   "metadata": {},
   "outputs": [
    {
     "name": "stdout",
     "output_type": "stream",
     "text": [
      "<class 'pandas.core.frame.DataFrame'>\n",
      "RangeIndex: 4521 entries, 0 to 4520\n",
      "Data columns (total 7 columns):\n",
      " #   Column    Non-Null Count  Dtype\n",
      "---  ------    --------------  -----\n",
      " 0   age       4521 non-null   int64\n",
      " 1   balance   4521 non-null   int64\n",
      " 2   day       4521 non-null   int64\n",
      " 3   duration  4521 non-null   int64\n",
      " 4   campaign  4521 non-null   int64\n",
      " 5   pdays     4521 non-null   int64\n",
      " 6   previous  4521 non-null   int64\n",
      "dtypes: int64(7)\n",
      "memory usage: 247.4 KB\n"
     ]
    }
   ],
   "source": [
    "# get numerical data only\n",
    "numeric_data = df.select_dtypes(include=['int64'])\n",
    "numeric_data.info()"
   ]
  },
  {
   "cell_type": "markdown",
   "id": "innovative-surface",
   "metadata": {},
   "source": [
    "### Categorical Data"
   ]
  },
  {
   "cell_type": "code",
   "execution_count": 106,
   "id": "olympic-crowd",
   "metadata": {},
   "outputs": [
    {
     "name": "stdout",
     "output_type": "stream",
     "text": [
      "<class 'pandas.core.frame.DataFrame'>\n",
      "RangeIndex: 4521 entries, 0 to 4520\n",
      "Data columns (total 10 columns):\n",
      " #   Column     Non-Null Count  Dtype \n",
      "---  ------     --------------  ----- \n",
      " 0   job        4521 non-null   object\n",
      " 1   marital    4521 non-null   object\n",
      " 2   education  4521 non-null   object\n",
      " 3   default    4521 non-null   object\n",
      " 4   housing    4521 non-null   object\n",
      " 5   loan       4521 non-null   object\n",
      " 6   contact    4521 non-null   object\n",
      " 7   month      4521 non-null   object\n",
      " 8   poutcome   4521 non-null   object\n",
      " 9   y          4521 non-null   object\n",
      "dtypes: object(10)\n",
      "memory usage: 353.3+ KB\n"
     ]
    }
   ],
   "source": [
    "# get categorical data\n",
    "cat_data = df.select_dtypes(include=['object'])\n",
    "\n",
    "cat_data.info()"
   ]
  },
  {
   "cell_type": "code",
   "execution_count": 7,
   "id": "contemporary-poison",
   "metadata": {},
   "outputs": [
    {
     "name": "stdout",
     "output_type": "stream",
     "text": [
      "job\n",
      "management       969\n",
      "blue-collar      946\n",
      "technician       768\n",
      "admin.           478\n",
      "services         417\n",
      "retired          230\n",
      "self-employed    183\n",
      "entrepreneur     168\n",
      "unemployed       128\n",
      "housemaid        112\n",
      "student           84\n",
      "unknown           38\n",
      "Name: job, dtype: int64 \n",
      "\n",
      "marital\n",
      "married     2797\n",
      "single      1196\n",
      "divorced     528\n",
      "Name: marital, dtype: int64 \n",
      "\n",
      "education\n",
      "secondary    2306\n",
      "tertiary     1350\n",
      "primary       678\n",
      "unknown       187\n",
      "Name: education, dtype: int64 \n",
      "\n",
      "default\n",
      "no     4445\n",
      "yes      76\n",
      "Name: default, dtype: int64 \n",
      "\n",
      "housing\n",
      "yes    2559\n",
      "no     1962\n",
      "Name: housing, dtype: int64 \n",
      "\n",
      "loan\n",
      "no     3830\n",
      "yes     691\n",
      "Name: loan, dtype: int64 \n",
      "\n",
      "contact\n",
      "cellular     2896\n",
      "unknown      1324\n",
      "telephone     301\n",
      "Name: contact, dtype: int64 \n",
      "\n",
      "month\n",
      "may    1398\n",
      "jul     706\n",
      "aug     633\n",
      "jun     531\n",
      "nov     389\n",
      "apr     293\n",
      "feb     222\n",
      "jan     148\n",
      "oct      80\n",
      "sep      52\n",
      "mar      49\n",
      "dec      20\n",
      "Name: month, dtype: int64 \n",
      "\n",
      "poutcome\n",
      "unknown    3705\n",
      "failure     490\n",
      "other       197\n",
      "success     129\n",
      "Name: poutcome, dtype: int64 \n",
      "\n",
      "y\n",
      "no     4000\n",
      "yes     521\n",
      "Name: y, dtype: int64 \n",
      "\n"
     ]
    }
   ],
   "source": [
    "# show counts values of each categorical variable\n",
    "for colname in cat_data.columns:\n",
    "    print (colname)\n",
    "    print (cat_data[colname].value_counts(), '\\n')"
   ]
  },
  {
   "cell_type": "markdown",
   "id": "saved-guard",
   "metadata": {},
   "source": [
    "### Check for Null Values"
   ]
  },
  {
   "cell_type": "code",
   "execution_count": 8,
   "id": "illegal-reward",
   "metadata": {},
   "outputs": [
    {
     "data": {
      "text/plain": [
       "False"
      ]
     },
     "execution_count": 8,
     "metadata": {},
     "output_type": "execute_result"
    }
   ],
   "source": [
    "# check for nan/null\n",
    "df.isnull().values.any()"
   ]
  },
  {
   "cell_type": "code",
   "execution_count": 9,
   "id": "variable-importance",
   "metadata": {},
   "outputs": [
    {
     "data": {
      "text/plain": [
       "age          0\n",
       "job          0\n",
       "marital      0\n",
       "education    0\n",
       "default      0\n",
       "balance      0\n",
       "housing      0\n",
       "loan         0\n",
       "contact      0\n",
       "day          0\n",
       "month        0\n",
       "duration     0\n",
       "campaign     0\n",
       "pdays        0\n",
       "previous     0\n",
       "poutcome     0\n",
       "y            0\n",
       "dtype: int64"
      ]
     },
     "execution_count": 9,
     "metadata": {},
     "output_type": "execute_result"
    }
   ],
   "source": [
    "# count of nulls\n",
    "df.isnull().sum()"
   ]
  },
  {
   "cell_type": "markdown",
   "id": "proprietary-bidder",
   "metadata": {},
   "source": [
    "**Note:** There are no duplicate values"
   ]
  },
  {
   "cell_type": "markdown",
   "id": "convenient-asian",
   "metadata": {},
   "source": [
    "### Remove Duplicates"
   ]
  },
  {
   "cell_type": "code",
   "execution_count": 10,
   "id": "consolidated-print",
   "metadata": {},
   "outputs": [
    {
     "data": {
      "text/plain": [
       "4521"
      ]
     },
     "execution_count": 10,
     "metadata": {},
     "output_type": "execute_result"
    }
   ],
   "source": [
    "# drop duplicates\n",
    "len(df.drop_duplicates())"
   ]
  },
  {
   "cell_type": "code",
   "execution_count": 11,
   "id": "seasonal-loading",
   "metadata": {},
   "outputs": [
    {
     "data": {
      "text/plain": [
       "(4521, 17)"
      ]
     },
     "execution_count": 11,
     "metadata": {},
     "output_type": "execute_result"
    }
   ],
   "source": [
    "df.shape"
   ]
  },
  {
   "cell_type": "markdown",
   "id": "yellow-shanghai",
   "metadata": {},
   "source": [
    "**Note:** There are no duplicate values"
   ]
  },
  {
   "cell_type": "markdown",
   "id": "digital-andorra",
   "metadata": {},
   "source": [
    "### Show Head and Tail"
   ]
  },
  {
   "cell_type": "code",
   "execution_count": 12,
   "id": "absent-google",
   "metadata": {},
   "outputs": [
    {
     "data": {
      "text/html": [
       "<div>\n",
       "<style scoped>\n",
       "    .dataframe tbody tr th:only-of-type {\n",
       "        vertical-align: middle;\n",
       "    }\n",
       "\n",
       "    .dataframe tbody tr th {\n",
       "        vertical-align: top;\n",
       "    }\n",
       "\n",
       "    .dataframe thead th {\n",
       "        text-align: right;\n",
       "    }\n",
       "</style>\n",
       "<table border=\"1\" class=\"dataframe\">\n",
       "  <thead>\n",
       "    <tr style=\"text-align: right;\">\n",
       "      <th></th>\n",
       "      <th>age</th>\n",
       "      <th>job</th>\n",
       "      <th>marital</th>\n",
       "      <th>education</th>\n",
       "      <th>default</th>\n",
       "      <th>balance</th>\n",
       "      <th>housing</th>\n",
       "      <th>loan</th>\n",
       "      <th>contact</th>\n",
       "      <th>day</th>\n",
       "      <th>month</th>\n",
       "      <th>duration</th>\n",
       "      <th>campaign</th>\n",
       "      <th>pdays</th>\n",
       "      <th>previous</th>\n",
       "      <th>poutcome</th>\n",
       "      <th>y</th>\n",
       "    </tr>\n",
       "  </thead>\n",
       "  <tbody>\n",
       "    <tr>\n",
       "      <th>0</th>\n",
       "      <td>30</td>\n",
       "      <td>unemployed</td>\n",
       "      <td>married</td>\n",
       "      <td>primary</td>\n",
       "      <td>no</td>\n",
       "      <td>1787</td>\n",
       "      <td>no</td>\n",
       "      <td>no</td>\n",
       "      <td>cellular</td>\n",
       "      <td>19</td>\n",
       "      <td>oct</td>\n",
       "      <td>79</td>\n",
       "      <td>1</td>\n",
       "      <td>-1</td>\n",
       "      <td>0</td>\n",
       "      <td>unknown</td>\n",
       "      <td>no</td>\n",
       "    </tr>\n",
       "    <tr>\n",
       "      <th>1</th>\n",
       "      <td>33</td>\n",
       "      <td>services</td>\n",
       "      <td>married</td>\n",
       "      <td>secondary</td>\n",
       "      <td>no</td>\n",
       "      <td>4789</td>\n",
       "      <td>yes</td>\n",
       "      <td>yes</td>\n",
       "      <td>cellular</td>\n",
       "      <td>11</td>\n",
       "      <td>may</td>\n",
       "      <td>220</td>\n",
       "      <td>1</td>\n",
       "      <td>339</td>\n",
       "      <td>4</td>\n",
       "      <td>failure</td>\n",
       "      <td>no</td>\n",
       "    </tr>\n",
       "    <tr>\n",
       "      <th>2</th>\n",
       "      <td>35</td>\n",
       "      <td>management</td>\n",
       "      <td>single</td>\n",
       "      <td>tertiary</td>\n",
       "      <td>no</td>\n",
       "      <td>1350</td>\n",
       "      <td>yes</td>\n",
       "      <td>no</td>\n",
       "      <td>cellular</td>\n",
       "      <td>16</td>\n",
       "      <td>apr</td>\n",
       "      <td>185</td>\n",
       "      <td>1</td>\n",
       "      <td>330</td>\n",
       "      <td>1</td>\n",
       "      <td>failure</td>\n",
       "      <td>no</td>\n",
       "    </tr>\n",
       "    <tr>\n",
       "      <th>3</th>\n",
       "      <td>30</td>\n",
       "      <td>management</td>\n",
       "      <td>married</td>\n",
       "      <td>tertiary</td>\n",
       "      <td>no</td>\n",
       "      <td>1476</td>\n",
       "      <td>yes</td>\n",
       "      <td>yes</td>\n",
       "      <td>unknown</td>\n",
       "      <td>3</td>\n",
       "      <td>jun</td>\n",
       "      <td>199</td>\n",
       "      <td>4</td>\n",
       "      <td>-1</td>\n",
       "      <td>0</td>\n",
       "      <td>unknown</td>\n",
       "      <td>no</td>\n",
       "    </tr>\n",
       "    <tr>\n",
       "      <th>4</th>\n",
       "      <td>59</td>\n",
       "      <td>blue-collar</td>\n",
       "      <td>married</td>\n",
       "      <td>secondary</td>\n",
       "      <td>no</td>\n",
       "      <td>0</td>\n",
       "      <td>yes</td>\n",
       "      <td>no</td>\n",
       "      <td>unknown</td>\n",
       "      <td>5</td>\n",
       "      <td>may</td>\n",
       "      <td>226</td>\n",
       "      <td>1</td>\n",
       "      <td>-1</td>\n",
       "      <td>0</td>\n",
       "      <td>unknown</td>\n",
       "      <td>no</td>\n",
       "    </tr>\n",
       "  </tbody>\n",
       "</table>\n",
       "</div>"
      ],
      "text/plain": [
       "   age          job  marital  education default  balance housing loan  \\\n",
       "0   30   unemployed  married    primary      no     1787      no   no   \n",
       "1   33     services  married  secondary      no     4789     yes  yes   \n",
       "2   35   management   single   tertiary      no     1350     yes   no   \n",
       "3   30   management  married   tertiary      no     1476     yes  yes   \n",
       "4   59  blue-collar  married  secondary      no        0     yes   no   \n",
       "\n",
       "    contact  day month  duration  campaign  pdays  previous poutcome   y  \n",
       "0  cellular   19   oct        79         1     -1         0  unknown  no  \n",
       "1  cellular   11   may       220         1    339         4  failure  no  \n",
       "2  cellular   16   apr       185         1    330         1  failure  no  \n",
       "3   unknown    3   jun       199         4     -1         0  unknown  no  \n",
       "4   unknown    5   may       226         1     -1         0  unknown  no  "
      ]
     },
     "execution_count": 12,
     "metadata": {},
     "output_type": "execute_result"
    }
   ],
   "source": [
    "df.head()"
   ]
  },
  {
   "cell_type": "code",
   "execution_count": 13,
   "id": "discrete-edinburgh",
   "metadata": {},
   "outputs": [
    {
     "data": {
      "text/html": [
       "<div>\n",
       "<style scoped>\n",
       "    .dataframe tbody tr th:only-of-type {\n",
       "        vertical-align: middle;\n",
       "    }\n",
       "\n",
       "    .dataframe tbody tr th {\n",
       "        vertical-align: top;\n",
       "    }\n",
       "\n",
       "    .dataframe thead th {\n",
       "        text-align: right;\n",
       "    }\n",
       "</style>\n",
       "<table border=\"1\" class=\"dataframe\">\n",
       "  <thead>\n",
       "    <tr style=\"text-align: right;\">\n",
       "      <th></th>\n",
       "      <th>age</th>\n",
       "      <th>job</th>\n",
       "      <th>marital</th>\n",
       "      <th>education</th>\n",
       "      <th>default</th>\n",
       "      <th>balance</th>\n",
       "      <th>housing</th>\n",
       "      <th>loan</th>\n",
       "      <th>contact</th>\n",
       "      <th>day</th>\n",
       "      <th>month</th>\n",
       "      <th>duration</th>\n",
       "      <th>campaign</th>\n",
       "      <th>pdays</th>\n",
       "      <th>previous</th>\n",
       "      <th>poutcome</th>\n",
       "      <th>y</th>\n",
       "    </tr>\n",
       "  </thead>\n",
       "  <tbody>\n",
       "    <tr>\n",
       "      <th>4516</th>\n",
       "      <td>33</td>\n",
       "      <td>services</td>\n",
       "      <td>married</td>\n",
       "      <td>secondary</td>\n",
       "      <td>no</td>\n",
       "      <td>-333</td>\n",
       "      <td>yes</td>\n",
       "      <td>no</td>\n",
       "      <td>cellular</td>\n",
       "      <td>30</td>\n",
       "      <td>jul</td>\n",
       "      <td>329</td>\n",
       "      <td>5</td>\n",
       "      <td>-1</td>\n",
       "      <td>0</td>\n",
       "      <td>unknown</td>\n",
       "      <td>no</td>\n",
       "    </tr>\n",
       "    <tr>\n",
       "      <th>4517</th>\n",
       "      <td>57</td>\n",
       "      <td>self-employed</td>\n",
       "      <td>married</td>\n",
       "      <td>tertiary</td>\n",
       "      <td>yes</td>\n",
       "      <td>-3313</td>\n",
       "      <td>yes</td>\n",
       "      <td>yes</td>\n",
       "      <td>unknown</td>\n",
       "      <td>9</td>\n",
       "      <td>may</td>\n",
       "      <td>153</td>\n",
       "      <td>1</td>\n",
       "      <td>-1</td>\n",
       "      <td>0</td>\n",
       "      <td>unknown</td>\n",
       "      <td>no</td>\n",
       "    </tr>\n",
       "    <tr>\n",
       "      <th>4518</th>\n",
       "      <td>57</td>\n",
       "      <td>technician</td>\n",
       "      <td>married</td>\n",
       "      <td>secondary</td>\n",
       "      <td>no</td>\n",
       "      <td>295</td>\n",
       "      <td>no</td>\n",
       "      <td>no</td>\n",
       "      <td>cellular</td>\n",
       "      <td>19</td>\n",
       "      <td>aug</td>\n",
       "      <td>151</td>\n",
       "      <td>11</td>\n",
       "      <td>-1</td>\n",
       "      <td>0</td>\n",
       "      <td>unknown</td>\n",
       "      <td>no</td>\n",
       "    </tr>\n",
       "    <tr>\n",
       "      <th>4519</th>\n",
       "      <td>28</td>\n",
       "      <td>blue-collar</td>\n",
       "      <td>married</td>\n",
       "      <td>secondary</td>\n",
       "      <td>no</td>\n",
       "      <td>1137</td>\n",
       "      <td>no</td>\n",
       "      <td>no</td>\n",
       "      <td>cellular</td>\n",
       "      <td>6</td>\n",
       "      <td>feb</td>\n",
       "      <td>129</td>\n",
       "      <td>4</td>\n",
       "      <td>211</td>\n",
       "      <td>3</td>\n",
       "      <td>other</td>\n",
       "      <td>no</td>\n",
       "    </tr>\n",
       "    <tr>\n",
       "      <th>4520</th>\n",
       "      <td>44</td>\n",
       "      <td>entrepreneur</td>\n",
       "      <td>single</td>\n",
       "      <td>tertiary</td>\n",
       "      <td>no</td>\n",
       "      <td>1136</td>\n",
       "      <td>yes</td>\n",
       "      <td>yes</td>\n",
       "      <td>cellular</td>\n",
       "      <td>3</td>\n",
       "      <td>apr</td>\n",
       "      <td>345</td>\n",
       "      <td>2</td>\n",
       "      <td>249</td>\n",
       "      <td>7</td>\n",
       "      <td>other</td>\n",
       "      <td>no</td>\n",
       "    </tr>\n",
       "  </tbody>\n",
       "</table>\n",
       "</div>"
      ],
      "text/plain": [
       "      age            job  marital  education default  balance housing loan  \\\n",
       "4516   33       services  married  secondary      no     -333     yes   no   \n",
       "4517   57  self-employed  married   tertiary     yes    -3313     yes  yes   \n",
       "4518   57     technician  married  secondary      no      295      no   no   \n",
       "4519   28    blue-collar  married  secondary      no     1137      no   no   \n",
       "4520   44   entrepreneur   single   tertiary      no     1136     yes  yes   \n",
       "\n",
       "       contact  day month  duration  campaign  pdays  previous poutcome   y  \n",
       "4516  cellular   30   jul       329         5     -1         0  unknown  no  \n",
       "4517   unknown    9   may       153         1     -1         0  unknown  no  \n",
       "4518  cellular   19   aug       151        11     -1         0  unknown  no  \n",
       "4519  cellular    6   feb       129         4    211         3    other  no  \n",
       "4520  cellular    3   apr       345         2    249         7    other  no  "
      ]
     },
     "execution_count": 13,
     "metadata": {},
     "output_type": "execute_result"
    }
   ],
   "source": [
    "df.tail()"
   ]
  },
  {
   "cell_type": "markdown",
   "id": "scenic-worthy",
   "metadata": {},
   "source": [
    "### Statistical Summary of all Attributes\n",
    "\n",
    "Including a Breakdown of the data by the class variable."
   ]
  },
  {
   "cell_type": "code",
   "execution_count": 14,
   "id": "fifth-minute",
   "metadata": {},
   "outputs": [
    {
     "data": {
      "text/html": [
       "<div>\n",
       "<style scoped>\n",
       "    .dataframe tbody tr th:only-of-type {\n",
       "        vertical-align: middle;\n",
       "    }\n",
       "\n",
       "    .dataframe tbody tr th {\n",
       "        vertical-align: top;\n",
       "    }\n",
       "\n",
       "    .dataframe thead th {\n",
       "        text-align: right;\n",
       "    }\n",
       "</style>\n",
       "<table border=\"1\" class=\"dataframe\">\n",
       "  <thead>\n",
       "    <tr style=\"text-align: right;\">\n",
       "      <th></th>\n",
       "      <th>age</th>\n",
       "      <th>balance</th>\n",
       "      <th>day</th>\n",
       "      <th>duration</th>\n",
       "      <th>campaign</th>\n",
       "      <th>pdays</th>\n",
       "      <th>previous</th>\n",
       "    </tr>\n",
       "  </thead>\n",
       "  <tbody>\n",
       "    <tr>\n",
       "      <th>count</th>\n",
       "      <td>4521.00</td>\n",
       "      <td>4521.00</td>\n",
       "      <td>4521.00</td>\n",
       "      <td>4521.00</td>\n",
       "      <td>4521.00</td>\n",
       "      <td>4521.00</td>\n",
       "      <td>4521.00</td>\n",
       "    </tr>\n",
       "    <tr>\n",
       "      <th>mean</th>\n",
       "      <td>41.17</td>\n",
       "      <td>1422.66</td>\n",
       "      <td>15.92</td>\n",
       "      <td>263.96</td>\n",
       "      <td>2.79</td>\n",
       "      <td>39.77</td>\n",
       "      <td>0.54</td>\n",
       "    </tr>\n",
       "    <tr>\n",
       "      <th>std</th>\n",
       "      <td>10.58</td>\n",
       "      <td>3009.64</td>\n",
       "      <td>8.25</td>\n",
       "      <td>259.86</td>\n",
       "      <td>3.11</td>\n",
       "      <td>100.12</td>\n",
       "      <td>1.69</td>\n",
       "    </tr>\n",
       "    <tr>\n",
       "      <th>min</th>\n",
       "      <td>19.00</td>\n",
       "      <td>-3313.00</td>\n",
       "      <td>1.00</td>\n",
       "      <td>4.00</td>\n",
       "      <td>1.00</td>\n",
       "      <td>-1.00</td>\n",
       "      <td>0.00</td>\n",
       "    </tr>\n",
       "    <tr>\n",
       "      <th>25%</th>\n",
       "      <td>33.00</td>\n",
       "      <td>69.00</td>\n",
       "      <td>9.00</td>\n",
       "      <td>104.00</td>\n",
       "      <td>1.00</td>\n",
       "      <td>-1.00</td>\n",
       "      <td>0.00</td>\n",
       "    </tr>\n",
       "    <tr>\n",
       "      <th>50%</th>\n",
       "      <td>39.00</td>\n",
       "      <td>444.00</td>\n",
       "      <td>16.00</td>\n",
       "      <td>185.00</td>\n",
       "      <td>2.00</td>\n",
       "      <td>-1.00</td>\n",
       "      <td>0.00</td>\n",
       "    </tr>\n",
       "    <tr>\n",
       "      <th>75%</th>\n",
       "      <td>49.00</td>\n",
       "      <td>1480.00</td>\n",
       "      <td>21.00</td>\n",
       "      <td>329.00</td>\n",
       "      <td>3.00</td>\n",
       "      <td>-1.00</td>\n",
       "      <td>0.00</td>\n",
       "    </tr>\n",
       "    <tr>\n",
       "      <th>max</th>\n",
       "      <td>87.00</td>\n",
       "      <td>71188.00</td>\n",
       "      <td>31.00</td>\n",
       "      <td>3025.00</td>\n",
       "      <td>50.00</td>\n",
       "      <td>871.00</td>\n",
       "      <td>25.00</td>\n",
       "    </tr>\n",
       "  </tbody>\n",
       "</table>\n",
       "</div>"
      ],
      "text/plain": [
       "           age   balance      day  duration  campaign    pdays  previous\n",
       "count  4521.00   4521.00  4521.00   4521.00   4521.00  4521.00   4521.00\n",
       "mean     41.17   1422.66    15.92    263.96      2.79    39.77      0.54\n",
       "std      10.58   3009.64     8.25    259.86      3.11   100.12      1.69\n",
       "min      19.00  -3313.00     1.00      4.00      1.00    -1.00      0.00\n",
       "25%      33.00     69.00     9.00    104.00      1.00    -1.00      0.00\n",
       "50%      39.00    444.00    16.00    185.00      2.00    -1.00      0.00\n",
       "75%      49.00   1480.00    21.00    329.00      3.00    -1.00      0.00\n",
       "max      87.00  71188.00    31.00   3025.00     50.00   871.00     25.00"
      ]
     },
     "execution_count": 14,
     "metadata": {},
     "output_type": "execute_result"
    }
   ],
   "source": [
    "df.describe().round(2)"
   ]
  },
  {
   "cell_type": "markdown",
   "id": "constant-failure",
   "metadata": {},
   "source": [
    "**Observations**  \n",
    " - **Age**: Values range from `19` to `87` years old with a mean of `41`.  These values seem logical.\n",
    " - **Balance**: Balances range from `-$3,313` to `$71,188`.  This also makes sense.  People can have negative balances (overdrawn) and also potentially have large savings. However, the mean savings are only `$263` with a standard deviation of `$259`, telling us that most people's savings values are in the lower range.\n",
    " - **day**: This is a numeric representation of the day of the month, values ranging from 1-31`.\n",
    " - **duration**: duration is the length of the last contact in seconds.  If this value is `0`, then the dependent variable y will be `no`.  There are no values of `0` in this dataset.  The min is `4` seconds, max of `3025` seconds or `50.4` hours.  It doesn't seem possible that there was a call over two days.  The 75% quartile value is `329` seconds or `5.5` minutes.\n",
    " - **campaign**: The number of contacts to the customer during the campaign. They are ranging from `1` to `50` with a mean of `2.79`. \n",
    " - **pdays**: Number of days that passed since the last contact.  Values from `-1` to `871` or `2.38` years.  This is plausible since banking relationships can last decades.  `999` means the client was not previously contacted (there are no values with this number. However, there is a massive number with the `-1` value.  This is most likely representing no prior contact.\n",
    " - **previous**: Number of contacts to the customer before this campaign started.  Values were ranging from `0` (new customer / first campaign) to `25`."
   ]
  },
  {
   "cell_type": "code",
   "execution_count": 15,
   "id": "brutal-pitch",
   "metadata": {},
   "outputs": [
    {
     "data": {
      "text/html": [
       "<div>\n",
       "<style scoped>\n",
       "    .dataframe tbody tr th:only-of-type {\n",
       "        vertical-align: middle;\n",
       "    }\n",
       "\n",
       "    .dataframe tbody tr th {\n",
       "        vertical-align: top;\n",
       "    }\n",
       "\n",
       "    .dataframe thead th {\n",
       "        text-align: right;\n",
       "    }\n",
       "</style>\n",
       "<table border=\"1\" class=\"dataframe\">\n",
       "  <thead>\n",
       "    <tr style=\"text-align: right;\">\n",
       "      <th></th>\n",
       "      <th>job</th>\n",
       "      <th>marital</th>\n",
       "      <th>education</th>\n",
       "      <th>default</th>\n",
       "      <th>housing</th>\n",
       "      <th>loan</th>\n",
       "      <th>contact</th>\n",
       "      <th>month</th>\n",
       "      <th>poutcome</th>\n",
       "      <th>y</th>\n",
       "    </tr>\n",
       "  </thead>\n",
       "  <tbody>\n",
       "    <tr>\n",
       "      <th>count</th>\n",
       "      <td>4521</td>\n",
       "      <td>4521</td>\n",
       "      <td>4521</td>\n",
       "      <td>4521</td>\n",
       "      <td>4521</td>\n",
       "      <td>4521</td>\n",
       "      <td>4521</td>\n",
       "      <td>4521</td>\n",
       "      <td>4521</td>\n",
       "      <td>4521</td>\n",
       "    </tr>\n",
       "    <tr>\n",
       "      <th>unique</th>\n",
       "      <td>12</td>\n",
       "      <td>3</td>\n",
       "      <td>4</td>\n",
       "      <td>2</td>\n",
       "      <td>2</td>\n",
       "      <td>2</td>\n",
       "      <td>3</td>\n",
       "      <td>12</td>\n",
       "      <td>4</td>\n",
       "      <td>2</td>\n",
       "    </tr>\n",
       "    <tr>\n",
       "      <th>top</th>\n",
       "      <td>management</td>\n",
       "      <td>married</td>\n",
       "      <td>secondary</td>\n",
       "      <td>no</td>\n",
       "      <td>yes</td>\n",
       "      <td>no</td>\n",
       "      <td>cellular</td>\n",
       "      <td>may</td>\n",
       "      <td>unknown</td>\n",
       "      <td>no</td>\n",
       "    </tr>\n",
       "    <tr>\n",
       "      <th>freq</th>\n",
       "      <td>969</td>\n",
       "      <td>2797</td>\n",
       "      <td>2306</td>\n",
       "      <td>4445</td>\n",
       "      <td>2559</td>\n",
       "      <td>3830</td>\n",
       "      <td>2896</td>\n",
       "      <td>1398</td>\n",
       "      <td>3705</td>\n",
       "      <td>4000</td>\n",
       "    </tr>\n",
       "  </tbody>\n",
       "</table>\n",
       "</div>"
      ],
      "text/plain": [
       "               job  marital  education default housing  loan   contact month  \\\n",
       "count         4521     4521       4521    4521    4521  4521      4521  4521   \n",
       "unique          12        3          4       2       2     2         3    12   \n",
       "top     management  married  secondary      no     yes    no  cellular   may   \n",
       "freq           969     2797       2306    4445    2559  3830      2896  1398   \n",
       "\n",
       "       poutcome     y  \n",
       "count      4521  4521  \n",
       "unique        4     2  \n",
       "top     unknown    no  \n",
       "freq       3705  4000  "
      ]
     },
     "execution_count": 15,
     "metadata": {},
     "output_type": "execute_result"
    }
   ],
   "source": [
    "cat_data.describe()"
   ]
  },
  {
   "cell_type": "markdown",
   "id": "amino-cholesterol",
   "metadata": {},
   "source": [
    "## Visualizations \n",
    "Univariate and Multivariate plots"
   ]
  },
  {
   "cell_type": "markdown",
   "id": "biological-institution",
   "metadata": {},
   "source": [
    "### Distributions"
   ]
  },
  {
   "cell_type": "code",
   "execution_count": 16,
   "id": "alert-observation",
   "metadata": {},
   "outputs": [
    {
     "data": {
      "image/png": "[encoded data removed]",
      "text/plain": [
       "<Figure size 1080x720 with 9 Axes>"
      ]
     },
     "metadata": {
      "needs_background": "light"
     },
     "output_type": "display_data"
    }
   ],
   "source": [
    "df.plot(figsize=(15,10), kind='density', subplots=True, layout=(3,3), sharex=False);"
   ]
  },
  {
   "cell_type": "markdown",
   "id": "coordinated-murray",
   "metadata": {},
   "source": [
    "**Density Plots:**  \n",
    "With the excpetion of age, and day (which we saw in the descriptive statistics), all of the other variables show high concentrations of values around the mean, and significant outliers. These will be examined later to see how they should be treated in the dataset. \n",
    "\n",
    "One plot we can look at with a little more detail, **age**."
   ]
  },
  {
   "cell_type": "code",
   "execution_count": null,
   "id": "funny-halloween",
   "metadata": {},
   "outputs": [],
   "source": [
    "plt.figure(figsize=(6,5))\n",
    "sns.histplot(x='age', data=df);"
   ]
  },
  {
   "cell_type": "markdown",
   "id": "professional-mobility",
   "metadata": {},
   "source": [
    "**Age:** The age distribution shows a right skewed distribution with more values falling into the younger ages."
   ]
  },
  {
   "cell_type": "markdown",
   "id": "interstate-copper",
   "metadata": {},
   "source": [
    "### Outlier Analysis\n",
    "\n",
    "https://machinelearningmastery.com/how-to-use-statistics-to-identify-outliers-in-data/"
   ]
  },
  {
   "cell_type": "code",
   "execution_count": null,
   "id": "discrete-occupation",
   "metadata": {},
   "outputs": [],
   "source": [
    "# using seaborn library, plot each individually\n",
    "fig, axes = plt.subplots(3, 2, figsize=(14,14))\n",
    "\n",
    "ax = sns.boxplot(x=\"y\", y=\"age\", data=df, ax=axes[0, 0], palette='tab20')\n",
    "ax = sns.boxplot(x=\"y\", y=\"balance\", data=df, ax=axes[0, 1], palette='tab20')\n",
    "ax = sns.boxplot(x=\"y\", y=\"duration\", data=df, ax=axes[1, 0], palette='tab20')\n",
    "ax = sns.boxplot(x=\"y\", y=\"campaign\", data=df, ax=axes[1, 1], palette='tab20')\n",
    "ax = sns.boxplot(x=\"y\", y=\"pdays\", data=df, ax=axes[2, 0], palette='tab20')\n",
    "ax = sns.boxplot(x=\"y\", y=\"previous\", data=df, ax=axes[2, 1], palette='tab20')"
   ]
  },
  {
   "cell_type": "markdown",
   "id": "steady-poland",
   "metadata": {},
   "source": [
    "**Note**: Plotting `Boxplots` for each of the non-categorical values shows that each of the values does have a significant amout of outliers displayed. Let's see how many are present.\n",
    "\n",
    "Using a method of counting outliers that fall outside of `+/- 3` standard deviations mean that we are accounting for `99.7%` of all data in this data set."
   ]
  },
  {
   "cell_type": "code",
   "execution_count": null,
   "id": "decreased-sense",
   "metadata": {},
   "outputs": [],
   "source": [
    "# Function to print the number of outliers in a column.\n",
    "def get_outliers(outl):\n",
    "    '''Function to identify the number of outliers +/- 3 standar deviations outside of mean.\n",
    "    Pass this function a Pandas Series (column)'''\n",
    "    print('Series Name:', outl.name)\n",
    "    # calculate summary statistics\n",
    "    data_mean, data_std = np.mean(outl), np.std(outl)\n",
    "    # identify outliers\n",
    "    cut_off = data_std * 3\n",
    "    lower, upper = data_mean - cut_off, data_mean + cut_off\n",
    "    # identify outliers\n",
    "    outliers = [x for x in outl if x < lower or x > upper]\n",
    "    print('Identified outliers: %d' % len(outliers))\n",
    "    # remove outliers\n",
    "    outliers_removed = [x for x in outl if x >= lower and x <= upper]\n",
    "    print('Non-outlier observations: %d' % len(outliers_removed))\n",
    "    print()"
   ]
  },
  {
   "cell_type": "code",
   "execution_count": null,
   "id": "arabic-raleigh",
   "metadata": {},
   "outputs": [],
   "source": [
    "get_outliers(df['age'])\n",
    "get_outliers(df['balance'])\n",
    "get_outliers(df['duration'])\n",
    "get_outliers(df['campaign'])\n",
    "get_outliers(df['pdays'])\n",
    "get_outliers(df['previous'])"
   ]
  },
  {
   "cell_type": "markdown",
   "id": "greenhouse-techno",
   "metadata": {},
   "source": [
    "**Conclusion on Outliers:**  \n",
    "There are outliers in this dataset, some make sense, like the large `balance` value and some make less sense such as `duration` having a multi-day phone call.  We will take care of these in the **training** portion of our ML Modeling to ensure their bias isn't introduced.\n",
    "\n",
    "**Note**: *This is opposed to removing them before train-test split.  The values might be useful in the overal predictions, specifically regarding the test data set.*"
   ]
  },
  {
   "cell_type": "markdown",
   "id": "inclusive-advocacy",
   "metadata": {},
   "source": [
    "### Multivariate Plots\n",
    "\n",
    "Starting with Pair-wise plots to see if there are any obvious relationships in the data."
   ]
  },
  {
   "cell_type": "code",
   "execution_count": null,
   "id": "experienced-screening",
   "metadata": {},
   "outputs": [],
   "source": [
    "# Using seaborn, pairwise plot by y\n",
    "\n",
    "g=sns.pairplot(df, diag_kind = 'auto', hue=\"y\")\n",
    "g.fig.set_size_inches(12,12);\n",
    "\n",
    "# rotate labels\n",
    "for ax in g.axes.flatten():\n",
    "    # rotate y axis labels\n",
    "    ax.set_ylabel(ax.get_ylabel(), rotation = 0)\n",
    "    # set y labels alignment\n",
    "    ax.yaxis.get_label().set_horizontalalignment('right')"
   ]
  },
  {
   "cell_type": "markdown",
   "id": "gothic-guest",
   "metadata": {},
   "source": [
    "**Observations:** \n",
    "\n",
    "Upon comparing all numeric variables against each other, it's not clear if there are any obvious relationships between variables (positive or negative correlations).  We can test this next to be sure."
   ]
  },
  {
   "cell_type": "code",
   "execution_count": null,
   "id": "dramatic-marsh",
   "metadata": {},
   "outputs": [],
   "source": [
    "# using seaboarn to plot correlation heat map\n",
    "corr = df.corr()\n",
    "\n",
    "f, ax = plt.subplots(figsize=(12, 8))\n",
    "\n",
    "sns.heatmap(corr, cmap=\"Blues\", annot=True, square=False, ax=ax,  linewidth = 1)\n",
    "plt.title('Pearson Correlation of Features')\n",
    "plt.yticks(rotation=45);"
   ]
  },
  {
   "cell_type": "markdown",
   "id": "official-pride",
   "metadata": {},
   "source": [
    "**Observations:**  \n",
    "After running a Pearson's Correlation on the numeric values, there is not a strong corrrelation between variables.  The strongest is `previous` vs. `pdays` at `0.58`.  As a reminder `previous` is the number of contacts to the customer in prior marketing campaigns, and `pdays` is the number of days since last contact in this campaign."
   ]
  },
  {
   "cell_type": "markdown",
   "id": "enhanced-spirituality",
   "metadata": {},
   "source": [
    "### Demographic Plots"
   ]
  },
  {
   "cell_type": "code",
   "execution_count": null,
   "id": "proud-reading",
   "metadata": {},
   "outputs": [],
   "source": [
    "sns.displot(data=df, x=\"age\", hue=\"marital\", kind=\"kde\", \n",
    "            height=6, multiple=\"fill\", clip=(0, None), palette=\"tab20\");"
   ]
  },
  {
   "cell_type": "markdown",
   "id": "acknowledged-tulsa",
   "metadata": {},
   "source": [
    "**Age / Marital Status:** When plotting `Marital` status over age on a density estimate plot, the `single` population tends to be younger, as expected, with `married` growing in population.  `Divorced` also grows with age but is a smaller proportion of the total."
   ]
  },
  {
   "cell_type": "code",
   "execution_count": null,
   "id": "moved-outside",
   "metadata": {},
   "outputs": [],
   "source": [
    "plt.figure(figsize=(8,5))\n",
    "sns.histplot(x='age', data=df, hue='education', multiple='stack', palette=\"tab20\");"
   ]
  },
  {
   "cell_type": "markdown",
   "id": "illegal-barrel",
   "metadata": {},
   "source": [
    "**Age/Education:** There are relativley few people in the dataset that have an `unknown` education level, The rest of the values are somewhat evenly distributed across ages, with `secondary` school being the largest proportion."
   ]
  },
  {
   "cell_type": "code",
   "execution_count": null,
   "id": "architectural-studio",
   "metadata": {},
   "outputs": [],
   "source": [
    "plt.figure(figsize=(10,4))\n",
    "ax = sns.barplot(x=\"education\", y=\"balance\", data=df, palette=\"tab20\")"
   ]
  },
  {
   "cell_type": "markdown",
   "id": "republican-strengthening",
   "metadata": {},
   "source": [
    "**Eduacation/Balance:** People with `unknown` and `tertiary` levels of education tend to have slightly higher savings.  Those with secondary tend to have the lowest balance."
   ]
  },
  {
   "cell_type": "code",
   "execution_count": 17,
   "id": "contemporary-shelter",
   "metadata": {},
   "outputs": [
    {
     "data": {
      "image/png": "[encoded data removed]",
      "text/plain": [
       "<Figure size 720x288 with 1 Axes>"
      ]
     },
     "metadata": {
      "needs_background": "light"
     },
     "output_type": "display_data"
    }
   ],
   "source": [
    "plt.figure(figsize=(10,4))\n",
    "ax = sns.barplot(x=\"job\", y=\"balance\", data=df, palette=\"tab20\")\n",
    "ax.set_xticklabels(ax.get_xticklabels(), rotation=90);"
   ]
  },
  {
   "cell_type": "markdown",
   "id": "orange-operations",
   "metadata": {},
   "source": [
    "**Job/Balance:** Across the various jobs, `housemade` and `retired` are the leading savers.  On the other spectrum, `blue-collar`, `services` and `unemployed` have the lowest."
   ]
  },
  {
   "cell_type": "markdown",
   "id": "julian-roulette",
   "metadata": {},
   "source": [
    "## Create Prediction Model: \n",
    "\n",
    "**Desired Outcome**: Create a model that will predict if the client will subscribe (yes/no) a term deposit (variable y)\n",
    "Assess model performance"
   ]
  },
  {
   "cell_type": "markdown",
   "id": "million-profit",
   "metadata": {},
   "source": [
    "### Feature Selection\n",
    "\n",
    "**Chi-Squared Feature Selection**\n",
    "\n",
    "Pearson’s chi-squared statistical hypothesis test is an example of a test for independence between categorical variables.\n",
    "\n",
    "The results of this test can be used for feature selection, where those features that are independent of the target variable can be removed from the dataset.\n",
    "\n",
    "The scikit-learn machine library provides an implementation of the chi-squared test in the chi2() function. This function can be used in a feature selection strategy, such as selecting the top k most relevant features (largest values) via the SelectKBest class.\n",
    "\n",
    "For example, we can define the SelectKBest class to use the chi2() function and select all features, then transform the train and test sets.\n",
    "\n",
    "https://machinelearningmastery.com/feature-selection-with-categorical-data/\n",
    "\n",
    "We have a DataFrame with only the categorical data from our EDA, we'll use that to perform this analysis."
   ]
  },
  {
   "cell_type": "code",
   "execution_count": 18,
   "id": "piano-console",
   "metadata": {},
   "outputs": [
    {
     "data": {
      "text/html": [
       "<div>\n",
       "<style scoped>\n",
       "    .dataframe tbody tr th:only-of-type {\n",
       "        vertical-align: middle;\n",
       "    }\n",
       "\n",
       "    .dataframe tbody tr th {\n",
       "        vertical-align: top;\n",
       "    }\n",
       "\n",
       "    .dataframe thead th {\n",
       "        text-align: right;\n",
       "    }\n",
       "</style>\n",
       "<table border=\"1\" class=\"dataframe\">\n",
       "  <thead>\n",
       "    <tr style=\"text-align: right;\">\n",
       "      <th></th>\n",
       "      <th>job</th>\n",
       "      <th>marital</th>\n",
       "      <th>education</th>\n",
       "      <th>default</th>\n",
       "      <th>housing</th>\n",
       "      <th>loan</th>\n",
       "      <th>contact</th>\n",
       "      <th>month</th>\n",
       "      <th>poutcome</th>\n",
       "      <th>y</th>\n",
       "    </tr>\n",
       "  </thead>\n",
       "  <tbody>\n",
       "    <tr>\n",
       "      <th>0</th>\n",
       "      <td>unemployed</td>\n",
       "      <td>married</td>\n",
       "      <td>primary</td>\n",
       "      <td>no</td>\n",
       "      <td>no</td>\n",
       "      <td>no</td>\n",
       "      <td>cellular</td>\n",
       "      <td>oct</td>\n",
       "      <td>unknown</td>\n",
       "      <td>no</td>\n",
       "    </tr>\n",
       "    <tr>\n",
       "      <th>1</th>\n",
       "      <td>services</td>\n",
       "      <td>married</td>\n",
       "      <td>secondary</td>\n",
       "      <td>no</td>\n",
       "      <td>yes</td>\n",
       "      <td>yes</td>\n",
       "      <td>cellular</td>\n",
       "      <td>may</td>\n",
       "      <td>failure</td>\n",
       "      <td>no</td>\n",
       "    </tr>\n",
       "    <tr>\n",
       "      <th>2</th>\n",
       "      <td>management</td>\n",
       "      <td>single</td>\n",
       "      <td>tertiary</td>\n",
       "      <td>no</td>\n",
       "      <td>yes</td>\n",
       "      <td>no</td>\n",
       "      <td>cellular</td>\n",
       "      <td>apr</td>\n",
       "      <td>failure</td>\n",
       "      <td>no</td>\n",
       "    </tr>\n",
       "    <tr>\n",
       "      <th>3</th>\n",
       "      <td>management</td>\n",
       "      <td>married</td>\n",
       "      <td>tertiary</td>\n",
       "      <td>no</td>\n",
       "      <td>yes</td>\n",
       "      <td>yes</td>\n",
       "      <td>unknown</td>\n",
       "      <td>jun</td>\n",
       "      <td>unknown</td>\n",
       "      <td>no</td>\n",
       "    </tr>\n",
       "    <tr>\n",
       "      <th>4</th>\n",
       "      <td>blue-collar</td>\n",
       "      <td>married</td>\n",
       "      <td>secondary</td>\n",
       "      <td>no</td>\n",
       "      <td>yes</td>\n",
       "      <td>no</td>\n",
       "      <td>unknown</td>\n",
       "      <td>may</td>\n",
       "      <td>unknown</td>\n",
       "      <td>no</td>\n",
       "    </tr>\n",
       "  </tbody>\n",
       "</table>\n",
       "</div>"
      ],
      "text/plain": [
       "           job  marital  education default housing loan   contact month  \\\n",
       "0   unemployed  married    primary      no      no   no  cellular   oct   \n",
       "1     services  married  secondary      no     yes  yes  cellular   may   \n",
       "2   management   single   tertiary      no     yes   no  cellular   apr   \n",
       "3   management  married   tertiary      no     yes  yes   unknown   jun   \n",
       "4  blue-collar  married  secondary      no     yes   no   unknown   may   \n",
       "\n",
       "  poutcome   y  \n",
       "0  unknown  no  \n",
       "1  failure  no  \n",
       "2  failure  no  \n",
       "3  unknown  no  \n",
       "4  unknown  no  "
      ]
     },
     "execution_count": 18,
     "metadata": {},
     "output_type": "execute_result"
    }
   ],
   "source": [
    "cat_data.head()"
   ]
  },
  {
   "cell_type": "code",
   "execution_count": 19,
   "id": "integral-discussion",
   "metadata": {},
   "outputs": [],
   "source": [
    "X = cat_data.iloc[:, :-1].values\n",
    "y = cat_data.iloc[:,-1].values"
   ]
  },
  {
   "cell_type": "code",
   "execution_count": 20,
   "id": "fatal-shareware",
   "metadata": {},
   "outputs": [],
   "source": [
    "oe = OrdinalEncoder(handle_unknown='ignore')\n",
    "oe.fit(X)\n",
    "X = oe.transform(X)"
   ]
  },
  {
   "cell_type": "code",
   "execution_count": 21,
   "id": "intellectual-weekend",
   "metadata": {},
   "outputs": [],
   "source": [
    "# split into train and test sets\n",
    "X_train, X_test, y_train, y_test = train_test_split(X, y, test_size=0.33, random_state=1)"
   ]
  },
  {
   "cell_type": "code",
   "execution_count": 22,
   "id": "experienced-politics",
   "metadata": {},
   "outputs": [],
   "source": [
    "fs = SelectKBest(score_func=chi2, k='all')\n",
    "fs.fit(X_train, y_train)\n",
    "X_train_fs = fs.transform(X_train)\n",
    "X_test_fs = fs.transform(X_test)"
   ]
  },
  {
   "cell_type": "code",
   "execution_count": 23,
   "id": "balanced-siemens",
   "metadata": {},
   "outputs": [
    {
     "name": "stdout",
     "output_type": "stream",
     "text": [
      "* job: 11.679248\n",
      "* marital: 0.248626\n",
      "* education: 3.339391\n",
      "* default: 0.039239\n",
      "* housing: 11.788867\n",
      "* loan: 12.889637\n",
      "* contact: 64.864792\n",
      "* month: 4.102635\n",
      "* poutcome: 10.921719\n",
      "\n"
     ]
    },
    {
     "data": {
      "image/png": "[encoded data removed]",
      "text/plain": [
       "<Figure size 720x288 with 1 Axes>"
      ]
     },
     "metadata": {
      "needs_background": "light"
     },
     "output_type": "display_data"
    }
   ],
   "source": [
    "# what are scores for the features\n",
    "names = []\n",
    "values = []\n",
    "for i in range(len(fs.scores_)):\n",
    "    print('* %s: %f' % (cat_data.columns[i], fs.scores_[i]))\n",
    "    names.append(cat_data.columns[i])\n",
    "    values.append(fs.scores_[i])\n",
    "print()\n",
    "chi_list = zip(names, values)\n",
    "# plot the scores\n",
    "plt.figure(figsize=(10,4))\n",
    "plt.bar(names, values)\n",
    "plt.xticks(rotation = 90)\n",
    "plt.show()"
   ]
  },
  {
   "cell_type": "markdown",
   "id": "tender-arena",
   "metadata": {},
   "source": [
    "**Results:**  Based on the bar plot, we can see that `contact` has the strongest contribution followed by `job`, `housing`, `loan`, and `poutcome`.  We can take these into consideration when building the model, but we can also try to see the prediction with all variables. "
   ]
  },
  {
   "cell_type": "markdown",
   "id": "voluntary-upgrade",
   "metadata": {},
   "source": [
    "#### Dropping Columns\n",
    "\n",
    ">**duration:** last contact duration, in seconds (numeric). Important note: this attribute highly affects the output target (e.g., if duration=0 then y='no'). Yet, the duration is not known before a call is performed. Also, after the end of the call y is obviously known. Thus, this input should only be included for benchmark purposes and should be discarded if the intention is to have a realistic predictive model.\n",
    "\n",
    "In addition to the duration column, the categorical columns that had little effect on the model based on the chi-squared test will be removed: `marital`, `default`, and `month`."
   ]
  },
  {
   "cell_type": "code",
   "execution_count": 107,
   "id": "literary-marine",
   "metadata": {},
   "outputs": [
    {
     "data": {
      "text/plain": [
       "Index(['age', 'job', 'marital', 'education', 'default', 'balance', 'housing',\n",
       "       'loan', 'contact', 'day', 'month', 'duration', 'campaign', 'pdays',\n",
       "       'previous', 'poutcome', 'y'],\n",
       "      dtype='object')"
      ]
     },
     "execution_count": 107,
     "metadata": {},
     "output_type": "execute_result"
    }
   ],
   "source": [
    "df.columns"
   ]
  },
  {
   "cell_type": "code",
   "execution_count": 24,
   "id": "swedish-stroke",
   "metadata": {},
   "outputs": [],
   "source": [
    "df.drop(columns=['duration', 'marital', 'default', 'month'], inplace=True)"
   ]
  },
  {
   "cell_type": "markdown",
   "id": "unnecessary-actor",
   "metadata": {},
   "source": [
    "### Variable Encoding\n",
    "\n",
    "**Note**: None of the variables appear to be Ordinal, e.g. have a natural order to them.  The Education field could be, but isn't critical to the analysis.  Therefore, a simple encoding of each level will be used with values of `0-n`. "
   ]
  },
  {
   "cell_type": "code",
   "execution_count": 31,
   "id": "harmful-recipient",
   "metadata": {},
   "outputs": [],
   "source": [
    "X = df.iloc[:, :-1]\n",
    "y = df.iloc[:,-1]\n",
    "X = X.values\n",
    "y = y.values"
   ]
  },
  {
   "cell_type": "code",
   "execution_count": 33,
   "id": "diverse-capture",
   "metadata": {},
   "outputs": [],
   "source": [
    "# Save this variables off for later use in the pipleline creation\n",
    "X_new = X\n",
    "y_new = y"
   ]
  },
  {
   "cell_type": "code",
   "execution_count": 36,
   "id": "foreign-hacker",
   "metadata": {},
   "outputs": [
    {
     "name": "stdout",
     "output_type": "stream",
     "text": [
      "X Train: original: (4521, 12)\n"
     ]
    },
    {
     "data": {
      "text/plain": [
       "OneHotEncoder(handle_unknown='ignore')"
      ]
     },
     "execution_count": 36,
     "metadata": {},
     "output_type": "execute_result"
    }
   ],
   "source": [
    "ohe = OneHotEncoder(handle_unknown='ignore')\n",
    "print('X Train: original:', X.shape)\n",
    "ohe.fit(X)"
   ]
  },
  {
   "cell_type": "code",
   "execution_count": 37,
   "id": "extensive-emerald",
   "metadata": {},
   "outputs": [
    {
     "name": "stdout",
     "output_type": "stream",
     "text": [
      "X Train: one-hot-encoded: (4521, 2826)\n"
     ]
    }
   ],
   "source": [
    "X = ohe.transform(X).toarray()\n",
    "print('X Train: one-hot-encoded:', X.shape)"
   ]
  },
  {
   "cell_type": "code",
   "execution_count": 38,
   "id": "together-emission",
   "metadata": {},
   "outputs": [],
   "source": [
    "enc = LabelEncoder()\n",
    "enc.fit(y)\n",
    "y = enc.transform(y)"
   ]
  },
  {
   "cell_type": "markdown",
   "id": "random-championship",
   "metadata": {},
   "source": [
    "**One Hot Encoding:** After encoding the features as binary `1/0` values for each, we can see that the number of columns as expanded from `12` to `2,826`.  This increases the dimensionality of the dataset, but make handling the categorical variables consistent and represented by a numeric value. "
   ]
  },
  {
   "cell_type": "markdown",
   "id": "broadband-march",
   "metadata": {},
   "source": [
    "### Feature Scaling\n",
    "\n",
    "Models trained on both Scaled and un-Scaled data were run.  Overall, both models performed about the same.  This note from the article below may suggest why:\n",
    "\n",
    ">**Which Algorithms may not benefit after Scaling?**  \n",
    ">Some algorithms are independent of Scaling. Entropy & Information Gain based techniques are not sensitive to monotonic transformation.\n",
    "Tree-Based Algorithms, *Decision Tree, Random Forest, Boosted Trees(GBM, light GBM, xgboost)* may not benefit from scaling.\n",
    "\n",
    "\n",
    "https://towardsdatascience.com/transformation-scaling-of-numeric-features-intuition-7f4436e8e074"
   ]
  },
  {
   "cell_type": "raw",
   "id": "oriented-election",
   "metadata": {},
   "source": [
    "from sklearn.preprocessing import StandardScaler\n",
    "scaler = StandardScaler()\n",
    "scaler.fit(X)\n",
    "X = scaler.transform(X)"
   ]
  },
  {
   "cell_type": "markdown",
   "id": "solar-rochester",
   "metadata": {},
   "source": [
    "### Adjusting for Imbalanced Data\n",
    ">Imbalanced classification involves developing predictive models on classification datasets that have a severe class imbalance. The challenge is that most ML techniques will ignore, and in turn have poor performance on, the minority class, although typically it is performance on the minority class that is most important.\n",
    "There are various approaches to handling unbalanced datasets. One approach is Synthetic Minority Oversampling Technique (SMOTE).\n",
    "Here new examples are synthesized from the existing examples. This is a type of data augmentation for the minority class referred to as the *Synthetic Minority Oversampling Technique*, or **SMOTE** for short.\n",
    "\n",
    "https://machinelearningmastery.com/smote-oversampling-for-imbalanced-classification/\n",
    "\n",
    "https://imbalanced-learn.org/stable/"
   ]
  },
  {
   "cell_type": "code",
   "execution_count": 39,
   "id": "japanese-estimate",
   "metadata": {},
   "outputs": [
    {
     "name": "stdout",
     "output_type": "stream",
     "text": [
      "before balancing\n",
      "(4521,)\n",
      "\n",
      "after balancing\n",
      "(8000,)\n"
     ]
    }
   ],
   "source": [
    "print('before balancing')\n",
    "print(y.shape )\n",
    "\n",
    "oversample = SMOTE(random_state=42)\n",
    "X_bal, y_bal = oversample.fit_resample(X, y)\n",
    "\n",
    "print ('\\nafter balancing')\n",
    "print(y_bal.shape)"
   ]
  },
  {
   "cell_type": "code",
   "execution_count": 42,
   "id": "jewish-saint",
   "metadata": {},
   "outputs": [],
   "source": [
    "X = X_bal\n",
    "y = y_bal"
   ]
  },
  {
   "cell_type": "code",
   "execution_count": 43,
   "id": "sacred-internship",
   "metadata": {},
   "outputs": [
    {
     "name": "stdout",
     "output_type": "stream",
     "text": [
      "(8000, 2826)\n",
      "(8000,)\n"
     ]
    }
   ],
   "source": [
    "print(X.shape)\n",
    "print(y.shape)"
   ]
  },
  {
   "cell_type": "markdown",
   "id": "contrary-event",
   "metadata": {},
   "source": [
    "**Note on Balancing**:  \n",
    "Prior to the balancing process you can see that the number of `0` observations is `4,000` and the number of `1` observations is `521`, a nearly 8x delta in values.  After the *Synthetic Minority Oversampling* is completed, there are an even number of observations at `4,000` each."
   ]
  },
  {
   "cell_type": "markdown",
   "id": "resistant-validation",
   "metadata": {},
   "source": [
    "### Model Selection\n",
    "Run the reduced feature set across a number of different models, and find the one with the best score.\n",
    "\n",
    "The process will start by reducing the our X-independent variables down to the selected `12` features from the above process.  This way we do not have to do feature selection again for each algorithm but can run a number of them to determine best performance.  A number of classifiers will be used and the best one will be selected.\n",
    "\n",
    "https://scikit-learn.org/stable/auto_examples/classification/plot_classifier_comparison.html"
   ]
  },
  {
   "cell_type": "code",
   "execution_count": null,
   "id": "plain-pennsylvania",
   "metadata": {},
   "outputs": [],
   "source": [
    "# get a list of models to evaluate\n",
    "def get_models():\n",
    "    models = dict()\n",
    "    # Decision Tree\n",
    "    models['DTree'] = DecisionTreeClassifier(random_state=42)\n",
    "    models['RandForest'] = RandomForestClassifier(random_state=42)\n",
    "    models['Extra'] = ExtraTreesClassifier(random_state=42)\n",
    "    models['GradBoost'] = GradientBoostingClassifier(random_state=42)\n",
    "    models['AdaBoost'] = AdaBoostClassifier(random_state=42)  \n",
    "    models['LinearSVC'] =  LinearSVC(random_state=42)  \n",
    "    models['SGD'] = SGDClassifier(random_state=42) \n",
    "    models['NN'] = KNeighborsClassifier(3)\n",
    "    models['Perceptron'] = Perceptron(random_state=42)\n",
    "    return models\n",
    "\n",
    "# evaluate a give model using cross-validation\n",
    "def evaluate_model(model, X, y):\n",
    "    cv = RepeatedStratifiedKFold(n_splits=10, n_repeats=3, random_state=1)\n",
    "    scores = cross_val_score(model, X, y, scoring='accuracy', cv=cv, n_jobs=-1)\n",
    "    return scores\n",
    " \n",
    "# get the models to evaluate\n",
    "models = get_models()\n",
    "\n",
    "# evaluate the models and store results\n",
    "results, names = list(), list()\n",
    "for name, model in models.items():\n",
    "    scores = evaluate_model(model, X, y)\n",
    "    results.append(scores)\n",
    "    names.append(name)\n",
    "    print('* %s %.3f (%.3f)' % (name, np.mean(scores), np.std(scores)))\n",
    "\n",
    "# plot model performance for comparison\n",
    "plt.figure(figsize=(10,8))\n",
    "plt.boxplot(results, labels=names, showmeans=True)\n",
    "plt.show()"
   ]
  },
  {
   "cell_type": "markdown",
   "id": "chinese-resident",
   "metadata": {},
   "source": [
    "**Conclusion for Model:**  \n",
    "The `ExtraTreesClassifier` algorithm peformed the best out of the above choices and will be the model we use for our prediction."
   ]
  },
  {
   "cell_type": "markdown",
   "id": "experienced-marketing",
   "metadata": {},
   "source": [
    "### Adjusting for Outliers\n",
    "\n",
    "> The expectation is that the outliers are causing the model to learn a bias or skewed understanding of the problem, and that removing these outliers from the training set will allow a more effective model to be learned.\n",
    "We can achieve this by defining the [LocalOutlierFactor](https://scikit-learn.org/stable/modules/generated/sklearn.neighbors.LocalOutlierFactor.html) model and using it to make a prediction on the training dataset, marking each row in the training dataset as normal (1) or an outlier (-1). We will use the default hyperparameters for the outlier detection model, although it is a good idea to tune the configuration to the specifics of your dataset.\n",
    "\n",
    "https://machinelearningmastery.com/how-to-use-statistics-to-identify-outliers-in-data/"
   ]
  },
  {
   "cell_type": "code",
   "execution_count": null,
   "id": "available-anaheim",
   "metadata": {},
   "outputs": [],
   "source": [
    "# Split the dataset into Train and Test sets\n",
    "X_train, X_test, y_train, y_test = train_test_split(X, y, \n",
    "                                                    test_size=0.33, random_state=42)"
   ]
  },
  {
   "cell_type": "code",
   "execution_count": null,
   "id": "verified-vehicle",
   "metadata": {},
   "outputs": [],
   "source": [
    "train_before = len(X_train)\n",
    "print(\"Training Size:\", train_before)\n",
    "print(\"Test Size:\",len(X_test))"
   ]
  },
  {
   "cell_type": "code",
   "execution_count": null,
   "id": "surrounded-catalyst",
   "metadata": {},
   "outputs": [],
   "source": [
    "# identify outliers in the training dataset\n",
    "lof = LocalOutlierFactor()\n",
    "yhat = lof.fit_predict(X_train)"
   ]
  },
  {
   "cell_type": "code",
   "execution_count": null,
   "id": "automatic-uruguay",
   "metadata": {},
   "outputs": [],
   "source": [
    "mask = yhat != -1\n",
    "X_train, y_train = X_train[mask, :], y_train[mask]\n",
    "# summarize the shape of the updated training dataset\n",
    "train_after = len(X_train)\n",
    "print(\"Training Size:\", train_after)\n",
    "print(\"Test Size:\",len(X_test))\n",
    "print()\n",
    "print(\"Number of Outliers Removed:\", train_before - train_after)"
   ]
  },
  {
   "cell_type": "markdown",
   "id": "informed-chosen",
   "metadata": {},
   "source": [
    "**Note:** After the processing of the categorical values in the dataset with `OneHotEncoding`, there are no longer any significant outliers to worry about."
   ]
  },
  {
   "cell_type": "markdown",
   "id": "finished-distance",
   "metadata": {},
   "source": [
    "### Model Training"
   ]
  },
  {
   "cell_type": "code",
   "execution_count": null,
   "id": "referenced-export",
   "metadata": {},
   "outputs": [],
   "source": [
    "model = ExtraTreesClassifier(random_state=42)\n",
    "model.fit(X_train, y_train);"
   ]
  },
  {
   "cell_type": "code",
   "execution_count": null,
   "id": "fifty-chest",
   "metadata": {},
   "outputs": [],
   "source": [
    "# Make predictions using the testing set\n",
    "y_pred = model.predict(X_test)"
   ]
  },
  {
   "cell_type": "markdown",
   "id": "electronic-scholarship",
   "metadata": {},
   "source": [
    "## Model Evaluation"
   ]
  },
  {
   "cell_type": "code",
   "execution_count": null,
   "id": "heated-apparatus",
   "metadata": {},
   "outputs": [],
   "source": [
    "cv = RepeatedStratifiedKFold(n_splits=10, n_repeats=3, random_state=1)\n",
    "scores = cross_val_score(model, X, y, scoring='accuracy', cv=cv, n_jobs=-1)"
   ]
  },
  {
   "cell_type": "code",
   "execution_count": null,
   "id": "enabling-steering",
   "metadata": {},
   "outputs": [],
   "source": [
    "print('* Mean %.3f and Standard Deviation (%.3f)' % (np.mean(scores), np.std(scores)))"
   ]
  },
  {
   "cell_type": "markdown",
   "id": "cardiovascular-disney",
   "metadata": {},
   "source": [
    "### Classification Report & Confusion Matrix"
   ]
  },
  {
   "cell_type": "code",
   "execution_count": null,
   "id": "executed-essence",
   "metadata": {},
   "outputs": [],
   "source": [
    "# print accuracy report\n",
    "print(classification_report(y_test, y_pred, digits=3))\n",
    "\n",
    "# show confusion matrix\n",
    "plot_confusion_matrix(model, X_test, y_test,\n",
    "                      xticks_rotation='vertical',\n",
    "                      cmap=plt.cm.Blues)  \n",
    "plt.show()"
   ]
  },
  {
   "cell_type": "markdown",
   "id": "anonymous-fifteen",
   "metadata": {},
   "source": [
    "**Results:**\n",
    "After Adjusting for Imbalaced data with `SMOTE`, Feature Selection, Cross Validationm Model Selection, Removing Outliers, the `RandomForestClassifier` performed with a precision of `0.986` for the value of `1`, or those customers that subscribed to a term deposit."
   ]
  },
  {
   "cell_type": "markdown",
   "id": "incomplete-oriental",
   "metadata": {},
   "source": [
    "### ROC AUC\n",
    "ROC curve (receiver operating characteristic curve) is a plot that summarizes the performance of a binary classification model on the positive class. It's a popular diagnostic tool for classifiers on balanced and imbalanced binary prediction problems as it's not biased to the majority or minority class.\n",
    "is a plot of False Positive Rate (x-axis) vs True Positive Rate (y-axis) for a number of different candidate threshold values between 0.0 and 1.0. The true positive rate is referred to as the sensitivity or the recall.\n",
    "\n",
    " - **X-axis**: False Positive Rate=FP/(FP+TN)\n",
    " - **Y-axis**: True Positive Rate=TP/(TP+FN)\n",
    "\n",
    "Plot the ROC curve and choose a threshold that gives a desirable balance between the false positives and false negatives.  \n",
    "\n",
    "Ideally, we want the fraction of correct positive class predictions to be 1 (top of the plot) and the fraction of incorrect negative class predictions to be 0 (left of the plot). \n",
    "\n",
    "The best possible classifier achieving perfect result is the top-left at coordinate: (0,1)\n",
    "the threshold is applied to the probability cut-off point between the positive and negative classes (by default set at 0.5, halfway between each (0 and 1)\n",
    "\n",
    "https://machinelearningmastery.com/roc-curves-and-precision-recall-curves-for-imbalanced-classification/"
   ]
  },
  {
   "cell_type": "code",
   "execution_count": null,
   "id": "serial-viewer",
   "metadata": {},
   "outputs": [],
   "source": [
    "yhat = model.predict_proba(X_test) # predict only probability of 1.\n",
    "pos_probs = yhat [:, 1] # probabilities for just the positive class\n",
    "\n",
    "# plot no skill roc curve\n",
    "plt.plot([0, 1], [0, 1], linestyle='--', label='No Skill')\n",
    "\n",
    "fpr, tpr, _ = roc_curve(y_test, pos_probs) # calculate roc curve for model\n",
    "\n",
    "# plot model roc curve\n",
    "plt.plot(fpr, tpr, label='Random Forest')\n",
    "plt.xlabel('False Positive Rate')\n",
    "plt.ylabel('True Positive Rate')\n",
    "plt.legend()\n",
    "plt.show()"
   ]
  },
  {
   "cell_type": "markdown",
   "id": "elementary-potential",
   "metadata": {},
   "source": [
    "**ROC AUC Observations:**  \n",
    "Based on the shape of the curve, starting from `0,0` and extending to `0,1` with a slight elbow and then extending to `1,1`, this shape represents a very strong performance of our model.\n",
    "\n",
    "Next we can calculate the actual ROC AUC Score"
   ]
  },
  {
   "cell_type": "code",
   "execution_count": null,
   "id": "fundamental-thesis",
   "metadata": {},
   "outputs": [],
   "source": [
    "# no skill model, stratified random class predictions\n",
    "np.random.seed(1)\n",
    "m = DummyClassifier(strategy='stratified', random_state=42)\n",
    "m.fit(X_train, y_train)\n",
    "no_skill_yhat = m.predict_proba(y_test)\n",
    "no_skill_roc_auc = roc_auc_score(y_test, no_skill_yhat[:, 1])\n",
    "print(f'No Skill ROC AUC {round(no_skill_roc_auc, 3)}')\n",
    "\n",
    "# skilled model\n",
    "roc_auc = roc_auc_score(y_test, pos_probs)\n",
    "print(f'Random Forest ROC AUC {round(roc_auc, 4)}')"
   ]
  },
  {
   "cell_type": "markdown",
   "id": "honest-victoria",
   "metadata": {},
   "source": [
    "**Score:**\n",
    "The score for our model is `0.9984`, which is just under the perfect value of `1.0`."
   ]
  },
  {
   "cell_type": "markdown",
   "id": "floating-methodology",
   "metadata": {},
   "source": [
    "### Precision-Recall\n",
    "\n",
    "Precision-Recall Curves and AUC\n",
    "\n",
    "Precision is a metric that quantifies the number of correct positive predictions made.\n",
    "\n",
    "It is calculated as the number of true positives divided by the total number of true positives and false positives.\n",
    "\n",
    " - **Precision** = TruePositives / (TruePositives + FalsePositives)\n",
    "\n",
    "The result is a value between 0.0 for no precision and 1.0 for full or perfect precision.\n",
    "\n",
    "Recall is a metric that quantifies the number of correct positive predictions made out of all positive predictions that could have been made.\n",
    "\n",
    "It is calculated as the number of true positives divided by the total number of true positives and false negatives (e.g. it is the true positive rate).\n",
    "\n",
    " - **Recall** = TruePositives / (TruePositives + FalseNegatives)\n",
    "\n",
    "The result is a value between 0.0 for no recall and 1.0 for full or perfect recall.\n",
    "\n",
    "Both the precision and the recall are focused on the positive class (the minority class) and are unconcerned with the true negatives (majority class).\n",
    "\n",
    "A precision-recall curve (or PR Curve) is a plot of the precision (y-axis) and the recall (x-axis) for different probability thresholds.\n",
    "\n",
    " - **PR Curve:** Plot of Recall (x) vs Precision (y).\n",
    " \n",
    "A model with perfect skill is depicted as a point at a coordinate of (1,1). A skillful model is represented by a curve that bows towards a coordinate of (1,1). A no-skill classifier will be a horizontal line on the plot with a precision that is proportional to the number of positive examples in the dataset. For a balanced dataset this will be 0.5.\n",
    "\n",
    "The focus of the PR curve on the minority class makes it an effective diagnostic for imbalanced binary classification models."
   ]
  },
  {
   "cell_type": "code",
   "execution_count": null,
   "id": "connected-friday",
   "metadata": {},
   "outputs": [],
   "source": [
    "# calculate the baseline as the proportion of the positive class\n",
    "no_skill = len(y[y==1]) / len(y)\n",
    "\n",
    "# plot the no skill precision-recall curve\n",
    "plt.plot([0, 1], [no_skill, no_skill], linestyle='--', label='No Skill')\n",
    "\n",
    "# calculate model precision-recall curve\n",
    "precision, recall, _ = precision_recall_curve(y_test, pos_probs)\n",
    "\n",
    "# plot the model precision-recall curve\n",
    "plt.plot(recall, precision, label='Random Forest')\n",
    "plt.xlabel('Recall')\n",
    "plt.ylabel('Precision')\n",
    "plt.legend()\n",
    "plt.show()"
   ]
  },
  {
   "cell_type": "code",
   "execution_count": null,
   "id": "changed-chart",
   "metadata": {},
   "outputs": [],
   "source": [
    "# no skill model, stratified random class predictions\n",
    "precision, recall, _ = precision_recall_curve(y_test, no_skill_yhat[:, 1])\n",
    "auc_score = auc(recall, precision)\n",
    "print(f'No Skill PR AUC: {round(auc_score, 3)}')\n",
    "\n",
    "# skilled model\n",
    "precision, recall, _ = precision_recall_curve( y_test, pos_probs)\n",
    "auc_score = auc(recall, precision)\n",
    "print(f'Random Forest PR AUC: {round(auc_score, 4)}')"
   ]
  },
  {
   "cell_type": "markdown",
   "id": "quick-stream",
   "metadata": {},
   "source": [
    "**Precision-Recall:**  \n",
    "\n",
    "Our final PR Score of `0.9985` is close to the perfect skill score of `1.0`."
   ]
  },
  {
   "cell_type": "markdown",
   "id": "toxic-resistance",
   "metadata": {},
   "source": [
    "## Conclusion"
   ]
  },
  {
   "cell_type": "markdown",
   "id": "promising-democrat",
   "metadata": {},
   "source": [
    "In summary, this was a fascinating exercise.  I started with exploring the data as I would a simpler dataset where you were looking for highly correlated variables and starting to make assessments from them.  When viewing the data via `pairplots` and Pearson's Correlation matrix, it was evident that these traditional methods or approaches to the data wouldn't apply.  I explored and learned a few things:\n",
    "\n",
    " - **Encoding Categorical Values:** Knowing that I needed to encode categorical values, I started with a function that I was familiar with from the prior exercise, the `LabelEncoder` method.  I went down a long path until I read that this is not an appropriate method for encoding your input variables and only the Output variables.  I switched then to `OneHotEncoding`.  This was a good lesson and exercise.\n",
    " - **Feature Selection:**  For this process, I found an article on [Recursive Feature Elimination](https://machinelearningmastery.com/rfe-feature-selection-in-python/), which appeared to be a valuable method.  I applied a method that iteratively tested all features from `2-17` in the dataset and selected the best one.  However, I found out that after `OneHotEncoding` that this method didn't scale to `3,700` or so columns of data.  So I eliminated this direction.  I moved to the [Chi-Squared](https://machinelearningmastery.com/feature-selection-with-categorical-data/) test for categorical feature selection.  I was able to implement this but ended up using all features in the end.  I found out that the model seemed to perform the best when all features were present (after encoding).\n",
    " - **Imbalanced Data**: This was also new for me.  Before applying `SMOTE` to the dataset and balancing it, my Output variable for a converted loan subscription was performing very low.  About `0.5` for the `1` response even though it was at `0.9` for the `0` response.  After applying to balance, this performed much better overall—a great article on this from [Towards Data Science](https://towardsdatascience.com/class-imbalance-random-sampling-and-data-augmentation-with-imbalanced-learn-63f3a92ef04a).\n",
    " - **Outlier Handling**: I also used a new technique called [LocalOutlierFactor](https://scikit-learn.org/stable/modules/generated/sklearn.neighbors.LocalOutlierFactor.html) that calculated outliers in the training dataset.  There were so many originally that \n",
    " - **Model Selection:** This was the most straightforward after performing pre-processing.  I iterated through multiple classifiers until I selected the best one.  Not all performed equally, so it was good to see the variation in the results.\n",
    " **Model Evaluation:** With AUR-ROC and Precision-Recall being new, I read and learned a lot about how this helps give you less biased evaluation metrics since they deal with only those responses True Positive and False Positive (vs. including negative scores).\n",
    " \n",
    "**Bonus 1**  \n",
    "One more area that I experimented on is the development of `Pipelines` in **Sklearn**.  A pipeline takes both the pre-processing steps, such as `OneHotEncoding` and `SMOTE` and the `model.` It puts them into a singular pipeline that can be used to create a repeatable process around, such as deploying those pipelines into production on another machine.  I got most of these to work but chose not to include them for now.  I will leave that for a later assignment.\n",
    "\n",
    "**Bonus 2**  \n",
    "This dataset was from Kaggle as a competition a few years ago.  While I did *not* use any of that information to develop my solution, I did end up running my model on the `test.csv` dataset provided for the competition. My results were not that strong, leading me to believe I've made an error in my process or how I'm matching the predictions to the `Id` values.  My submitted results were not very strong.  Good for learning, however, since I was able to try the model on newly acquired data. "
   ]
  },
  {
   "cell_type": "markdown",
   "id": "cubic-stream",
   "metadata": {},
   "source": [
    "## Pipeline\n",
    "\n",
    "Basic overview of ColumTransformer (not used) and Pipelines.  I opted to not use the `ColumnTransformer` since the methods applie above were universal to all categorical variables.\n",
    "https://www.dataschool.io/encoding-categorical-features-in-python/\n",
    "\n",
    "Using the IMBLearn Pipeline to integrate SMOTE\n",
    "https://openscoring.io/blog/2020/10/24/converting_sklearn_imblearn_pipeline_pmml/"
   ]
  },
  {
   "cell_type": "code",
   "execution_count": 127,
   "id": "political-waste",
   "metadata": {},
   "outputs": [],
   "source": [
    "X = X_new\n",
    "y = y_new"
   ]
  },
  {
   "cell_type": "code",
   "execution_count": 128,
   "id": "closing-antibody",
   "metadata": {},
   "outputs": [],
   "source": [
    "# df.drop(columns=['duration', 'marital', 'default', 'month'], inplace=True)"
   ]
  },
  {
   "cell_type": "code",
   "execution_count": 173,
   "id": "important-trace",
   "metadata": {},
   "outputs": [
    {
     "data": {
      "text/html": [
       "<div>\n",
       "<style scoped>\n",
       "    .dataframe tbody tr th:only-of-type {\n",
       "        vertical-align: middle;\n",
       "    }\n",
       "\n",
       "    .dataframe tbody tr th {\n",
       "        vertical-align: top;\n",
       "    }\n",
       "\n",
       "    .dataframe thead th {\n",
       "        text-align: right;\n",
       "    }\n",
       "</style>\n",
       "<table border=\"1\" class=\"dataframe\">\n",
       "  <thead>\n",
       "    <tr style=\"text-align: right;\">\n",
       "      <th></th>\n",
       "      <th>age</th>\n",
       "      <th>job</th>\n",
       "      <th>marital</th>\n",
       "      <th>education</th>\n",
       "      <th>default</th>\n",
       "      <th>balance</th>\n",
       "      <th>housing</th>\n",
       "      <th>loan</th>\n",
       "      <th>contact</th>\n",
       "      <th>day</th>\n",
       "      <th>month</th>\n",
       "      <th>duration</th>\n",
       "      <th>campaign</th>\n",
       "      <th>pdays</th>\n",
       "      <th>previous</th>\n",
       "      <th>poutcome</th>\n",
       "      <th>y</th>\n",
       "    </tr>\n",
       "  </thead>\n",
       "  <tbody>\n",
       "    <tr>\n",
       "      <th>0</th>\n",
       "      <td>30</td>\n",
       "      <td>unemployed</td>\n",
       "      <td>married</td>\n",
       "      <td>primary</td>\n",
       "      <td>no</td>\n",
       "      <td>1787</td>\n",
       "      <td>no</td>\n",
       "      <td>no</td>\n",
       "      <td>cellular</td>\n",
       "      <td>19</td>\n",
       "      <td>oct</td>\n",
       "      <td>79</td>\n",
       "      <td>1</td>\n",
       "      <td>-1</td>\n",
       "      <td>0</td>\n",
       "      <td>unknown</td>\n",
       "      <td>no</td>\n",
       "    </tr>\n",
       "    <tr>\n",
       "      <th>1</th>\n",
       "      <td>33</td>\n",
       "      <td>services</td>\n",
       "      <td>married</td>\n",
       "      <td>secondary</td>\n",
       "      <td>no</td>\n",
       "      <td>4789</td>\n",
       "      <td>yes</td>\n",
       "      <td>yes</td>\n",
       "      <td>cellular</td>\n",
       "      <td>11</td>\n",
       "      <td>may</td>\n",
       "      <td>220</td>\n",
       "      <td>1</td>\n",
       "      <td>339</td>\n",
       "      <td>4</td>\n",
       "      <td>failure</td>\n",
       "      <td>no</td>\n",
       "    </tr>\n",
       "    <tr>\n",
       "      <th>2</th>\n",
       "      <td>35</td>\n",
       "      <td>management</td>\n",
       "      <td>single</td>\n",
       "      <td>tertiary</td>\n",
       "      <td>no</td>\n",
       "      <td>1350</td>\n",
       "      <td>yes</td>\n",
       "      <td>no</td>\n",
       "      <td>cellular</td>\n",
       "      <td>16</td>\n",
       "      <td>apr</td>\n",
       "      <td>185</td>\n",
       "      <td>1</td>\n",
       "      <td>330</td>\n",
       "      <td>1</td>\n",
       "      <td>failure</td>\n",
       "      <td>no</td>\n",
       "    </tr>\n",
       "    <tr>\n",
       "      <th>3</th>\n",
       "      <td>30</td>\n",
       "      <td>management</td>\n",
       "      <td>married</td>\n",
       "      <td>tertiary</td>\n",
       "      <td>no</td>\n",
       "      <td>1476</td>\n",
       "      <td>yes</td>\n",
       "      <td>yes</td>\n",
       "      <td>unknown</td>\n",
       "      <td>3</td>\n",
       "      <td>jun</td>\n",
       "      <td>199</td>\n",
       "      <td>4</td>\n",
       "      <td>-1</td>\n",
       "      <td>0</td>\n",
       "      <td>unknown</td>\n",
       "      <td>no</td>\n",
       "    </tr>\n",
       "    <tr>\n",
       "      <th>4</th>\n",
       "      <td>59</td>\n",
       "      <td>blue-collar</td>\n",
       "      <td>married</td>\n",
       "      <td>secondary</td>\n",
       "      <td>no</td>\n",
       "      <td>0</td>\n",
       "      <td>yes</td>\n",
       "      <td>no</td>\n",
       "      <td>unknown</td>\n",
       "      <td>5</td>\n",
       "      <td>may</td>\n",
       "      <td>226</td>\n",
       "      <td>1</td>\n",
       "      <td>-1</td>\n",
       "      <td>0</td>\n",
       "      <td>unknown</td>\n",
       "      <td>no</td>\n",
       "    </tr>\n",
       "    <tr>\n",
       "      <th>...</th>\n",
       "      <td>...</td>\n",
       "      <td>...</td>\n",
       "      <td>...</td>\n",
       "      <td>...</td>\n",
       "      <td>...</td>\n",
       "      <td>...</td>\n",
       "      <td>...</td>\n",
       "      <td>...</td>\n",
       "      <td>...</td>\n",
       "      <td>...</td>\n",
       "      <td>...</td>\n",
       "      <td>...</td>\n",
       "      <td>...</td>\n",
       "      <td>...</td>\n",
       "      <td>...</td>\n",
       "      <td>...</td>\n",
       "      <td>...</td>\n",
       "    </tr>\n",
       "    <tr>\n",
       "      <th>4516</th>\n",
       "      <td>33</td>\n",
       "      <td>services</td>\n",
       "      <td>married</td>\n",
       "      <td>secondary</td>\n",
       "      <td>no</td>\n",
       "      <td>-333</td>\n",
       "      <td>yes</td>\n",
       "      <td>no</td>\n",
       "      <td>cellular</td>\n",
       "      <td>30</td>\n",
       "      <td>jul</td>\n",
       "      <td>329</td>\n",
       "      <td>5</td>\n",
       "      <td>-1</td>\n",
       "      <td>0</td>\n",
       "      <td>unknown</td>\n",
       "      <td>no</td>\n",
       "    </tr>\n",
       "    <tr>\n",
       "      <th>4517</th>\n",
       "      <td>57</td>\n",
       "      <td>self-employed</td>\n",
       "      <td>married</td>\n",
       "      <td>tertiary</td>\n",
       "      <td>yes</td>\n",
       "      <td>-3313</td>\n",
       "      <td>yes</td>\n",
       "      <td>yes</td>\n",
       "      <td>unknown</td>\n",
       "      <td>9</td>\n",
       "      <td>may</td>\n",
       "      <td>153</td>\n",
       "      <td>1</td>\n",
       "      <td>-1</td>\n",
       "      <td>0</td>\n",
       "      <td>unknown</td>\n",
       "      <td>no</td>\n",
       "    </tr>\n",
       "    <tr>\n",
       "      <th>4518</th>\n",
       "      <td>57</td>\n",
       "      <td>technician</td>\n",
       "      <td>married</td>\n",
       "      <td>secondary</td>\n",
       "      <td>no</td>\n",
       "      <td>295</td>\n",
       "      <td>no</td>\n",
       "      <td>no</td>\n",
       "      <td>cellular</td>\n",
       "      <td>19</td>\n",
       "      <td>aug</td>\n",
       "      <td>151</td>\n",
       "      <td>11</td>\n",
       "      <td>-1</td>\n",
       "      <td>0</td>\n",
       "      <td>unknown</td>\n",
       "      <td>no</td>\n",
       "    </tr>\n",
       "    <tr>\n",
       "      <th>4519</th>\n",
       "      <td>28</td>\n",
       "      <td>blue-collar</td>\n",
       "      <td>married</td>\n",
       "      <td>secondary</td>\n",
       "      <td>no</td>\n",
       "      <td>1137</td>\n",
       "      <td>no</td>\n",
       "      <td>no</td>\n",
       "      <td>cellular</td>\n",
       "      <td>6</td>\n",
       "      <td>feb</td>\n",
       "      <td>129</td>\n",
       "      <td>4</td>\n",
       "      <td>211</td>\n",
       "      <td>3</td>\n",
       "      <td>other</td>\n",
       "      <td>no</td>\n",
       "    </tr>\n",
       "    <tr>\n",
       "      <th>4520</th>\n",
       "      <td>44</td>\n",
       "      <td>entrepreneur</td>\n",
       "      <td>single</td>\n",
       "      <td>tertiary</td>\n",
       "      <td>no</td>\n",
       "      <td>1136</td>\n",
       "      <td>yes</td>\n",
       "      <td>yes</td>\n",
       "      <td>cellular</td>\n",
       "      <td>3</td>\n",
       "      <td>apr</td>\n",
       "      <td>345</td>\n",
       "      <td>2</td>\n",
       "      <td>249</td>\n",
       "      <td>7</td>\n",
       "      <td>other</td>\n",
       "      <td>no</td>\n",
       "    </tr>\n",
       "  </tbody>\n",
       "</table>\n",
       "<p>4521 rows × 17 columns</p>\n",
       "</div>"
      ],
      "text/plain": [
       "      age            job  marital  education default  balance housing loan  \\\n",
       "0      30     unemployed  married    primary      no     1787      no   no   \n",
       "1      33       services  married  secondary      no     4789     yes  yes   \n",
       "2      35     management   single   tertiary      no     1350     yes   no   \n",
       "3      30     management  married   tertiary      no     1476     yes  yes   \n",
       "4      59    blue-collar  married  secondary      no        0     yes   no   \n",
       "...   ...            ...      ...        ...     ...      ...     ...  ...   \n",
       "4516   33       services  married  secondary      no     -333     yes   no   \n",
       "4517   57  self-employed  married   tertiary     yes    -3313     yes  yes   \n",
       "4518   57     technician  married  secondary      no      295      no   no   \n",
       "4519   28    blue-collar  married  secondary      no     1137      no   no   \n",
       "4520   44   entrepreneur   single   tertiary      no     1136     yes  yes   \n",
       "\n",
       "       contact  day month  duration  campaign  pdays  previous poutcome   y  \n",
       "0     cellular   19   oct        79         1     -1         0  unknown  no  \n",
       "1     cellular   11   may       220         1    339         4  failure  no  \n",
       "2     cellular   16   apr       185         1    330         1  failure  no  \n",
       "3      unknown    3   jun       199         4     -1         0  unknown  no  \n",
       "4      unknown    5   may       226         1     -1         0  unknown  no  \n",
       "...        ...  ...   ...       ...       ...    ...       ...      ...  ..  \n",
       "4516  cellular   30   jul       329         5     -1         0  unknown  no  \n",
       "4517   unknown    9   may       153         1     -1         0  unknown  no  \n",
       "4518  cellular   19   aug       151        11     -1         0  unknown  no  \n",
       "4519  cellular    6   feb       129         4    211         3    other  no  \n",
       "4520  cellular    3   apr       345         2    249         7    other  no  \n",
       "\n",
       "[4521 rows x 17 columns]"
      ]
     },
     "execution_count": 173,
     "metadata": {},
     "output_type": "execute_result"
    }
   ],
   "source": [
    "X = df\n",
    "X"
   ]
  },
  {
   "cell_type": "code",
   "execution_count": 160,
   "id": "natural-kidney",
   "metadata": {},
   "outputs": [
    {
     "data": {
      "text/plain": [
       "['job', 'education', 'housing', 'loan', 'contact', 'poutcome']"
      ]
     },
     "execution_count": 160,
     "metadata": {},
     "output_type": "execute_result"
    }
   ],
   "source": [
    "cat_list = ['job', 'education', 'housing', 'loan', 'contact', 'poutcome']\n",
    "cat_list"
   ]
  },
  {
   "cell_type": "code",
   "execution_count": 161,
   "id": "excited-gabriel",
   "metadata": {},
   "outputs": [
    {
     "data": {
      "text/plain": [
       "['age', 'balance', 'day', 'campaign', 'pdays', 'previous']"
      ]
     },
     "execution_count": 161,
     "metadata": {},
     "output_type": "execute_result"
    }
   ],
   "source": [
    "numeric_list = ['age', 'balance', 'day', 'campaign', 'pdays', 'previous']\n",
    "numeric_list"
   ]
  },
  {
   "cell_type": "code",
   "execution_count": 162,
   "id": "adaptive-calibration",
   "metadata": {},
   "outputs": [],
   "source": [
    "# Encode the y labels again for model-fitting purposes.  This must be done outside the pipeline,\n",
    "enc = LabelEncoder()\n",
    "enc.fit(y)\n",
    "y = enc.transform(y)"
   ]
  },
  {
   "cell_type": "code",
   "execution_count": 165,
   "id": "defensive-wrist",
   "metadata": {},
   "outputs": [
    {
     "data": {
      "text/plain": [
       "ColumnTransformer(transformers=[('cat', OneHotEncoder(),\n",
       "                                 ['job', 'education', 'housing', 'loan',\n",
       "                                  'contact', 'poutcome']),\n",
       "                                ('num', StandardScaler(),\n",
       "                                 ['age', 'balance', 'day', 'campaign', 'pdays',\n",
       "                                  'previous'])])"
      ]
     },
     "execution_count": 165,
     "metadata": {},
     "output_type": "execute_result"
    }
   ],
   "source": [
    "# define the data preparation for the columns\n",
    "t = [('cat', OneHotEncoder(), cat_list), ('num', StandardScaler(), numeric_list)]\n",
    "col_transform = ColumnTransformer(transformers=t, remainder='drop')\n",
    "col_transform"
   ]
  },
  {
   "cell_type": "code",
   "execution_count": 175,
   "id": "related-suspect",
   "metadata": {},
   "outputs": [
    {
     "data": {
      "text/plain": [
       "array([[ 0.        ,  0.        ,  0.        , ..., -0.57682947,\n",
       "        -0.4072183 , -0.32041282],\n",
       "       [ 0.        ,  0.        ,  0.        , ..., -0.57682947,\n",
       "         2.98904408,  2.04173372],\n",
       "       [ 0.        ,  0.        ,  0.        , ..., -0.57682947,\n",
       "         2.89914302,  0.27012381],\n",
       "       ...,\n",
       "       [ 0.        ,  0.        ,  0.        , ...,  2.63916021,\n",
       "        -0.4072183 , -0.32041282],\n",
       "       [ 0.        ,  1.        ,  0.        , ...,  0.38796743,\n",
       "         1.71045119,  1.45119709],\n",
       "       [ 0.        ,  0.        ,  1.        , ..., -0.2552305 ,\n",
       "         2.09003345,  3.81334363]])"
      ]
     },
     "execution_count": 175,
     "metadata": {},
     "output_type": "execute_result"
    }
   ],
   "source": [
    "col_transform.fit_transform(X)"
   ]
  },
  {
   "cell_type": "code",
   "execution_count": 166,
   "id": "equal-providence",
   "metadata": {},
   "outputs": [
    {
     "data": {
      "text/plain": [
       "SMOTE(random_state=42)"
      ]
     },
     "execution_count": 166,
     "metadata": {},
     "output_type": "execute_result"
    }
   ],
   "source": [
    "# Create Synthetic Minority Oversample\n",
    "oversample = SMOTE(random_state=42)\n",
    "oversample"
   ]
  },
  {
   "cell_type": "code",
   "execution_count": 167,
   "id": "standing-statement",
   "metadata": {},
   "outputs": [
    {
     "data": {
      "text/plain": [
       "ExtraTreesClassifier(random_state=42)"
      ]
     },
     "execution_count": 167,
     "metadata": {},
     "output_type": "execute_result"
    }
   ],
   "source": [
    "# Create Model\n",
    "model = ExtraTreesClassifier(random_state=42)\n",
    "model"
   ]
  },
  {
   "cell_type": "code",
   "execution_count": 172,
   "id": "threatened-canal",
   "metadata": {},
   "outputs": [],
   "source": [
    "# Build the Pipleline using IMBLearn\n",
    "pipe = Pipeline([\n",
    "  (\"col_trans\", col_transform),\n",
    "  (\"sampler\", oversample),\n",
    "  (\"model\", model)\n",
    "])"
   ]
  },
  {
   "cell_type": "code",
   "execution_count": 169,
   "id": "dramatic-wages",
   "metadata": {},
   "outputs": [
    {
     "data": {
      "text/plain": [
       "Pipeline(steps=[('col',\n",
       "                 ColumnTransformer(transformers=[('cat', OneHotEncoder(),\n",
       "                                                  ['job', 'education',\n",
       "                                                   'housing', 'loan', 'contact',\n",
       "                                                   'poutcome']),\n",
       "                                                 ('num', StandardScaler(),\n",
       "                                                  ['age', 'balance', 'day',\n",
       "                                                   'campaign', 'pdays',\n",
       "                                                   'previous'])])),\n",
       "                ('sampler', SMOTE(random_state=42)),\n",
       "                ('model', ExtraTreesClassifier(random_state=42))])"
      ]
     },
     "execution_count": 169,
     "metadata": {},
     "output_type": "execute_result"
    }
   ],
   "source": [
    "pipe.fit(X, y)"
   ]
  },
  {
   "cell_type": "code",
   "execution_count": 170,
   "id": "ranking-spine",
   "metadata": {},
   "outputs": [],
   "source": [
    "cv = RepeatedStratifiedKFold(n_splits=10, n_repeats=3, random_state=1)\n",
    "scores = cross_val_score(pipe, X, y, scoring='accuracy', cv=cv, n_jobs=-1)"
   ]
  },
  {
   "cell_type": "code",
   "execution_count": 171,
   "id": "fallen-fusion",
   "metadata": {},
   "outputs": [
    {
     "name": "stdout",
     "output_type": "stream",
     "text": [
      "* Mean 0.860 and Standard Deviation (0.010)\n"
     ]
    }
   ],
   "source": [
    "print('* Mean %.3f and Standard Deviation (%.3f)' % (np.mean(scores), np.std(scores)))"
   ]
  },
  {
   "cell_type": "markdown",
   "id": "veterinary-nirvana",
   "metadata": {},
   "source": [
    "As expected this should have a perfect prediction since it's trained on the entire sample "
   ]
  },
  {
   "cell_type": "markdown",
   "id": "tested-sleeping",
   "metadata": {},
   "source": [
    "## Kaggle\n",
    "\n",
    "The following is an attempt to run the `test` set from the Kaggle competition.  The process starts by loading the new test set into memory, `OneHotEncoding` the data with the *same* OHE model from training, and finally running the prediction model from prior training.  \n",
    "\n",
    "https://www.kaggle.com/c/bank-marketing-uci/leaderboard"
   ]
  },
  {
   "cell_type": "code",
   "execution_count": 155,
   "id": "parliamentary-protection",
   "metadata": {},
   "outputs": [],
   "source": [
    "ka = pd.read_csv(\"test.csv\")\n",
    "ka2 = ka.copy()\n",
    "ka.drop(columns=['Id', 'duration', 'marital', 'default', 'month'], inplace=True)"
   ]
  },
  {
   "cell_type": "code",
   "execution_count": 156,
   "id": "faced-county",
   "metadata": {},
   "outputs": [
    {
     "data": {
      "text/plain": [
       "(427, 12)"
      ]
     },
     "execution_count": 156,
     "metadata": {},
     "output_type": "execute_result"
    }
   ],
   "source": [
    "X_ka = ka.values\n",
    "X_ka.shape"
   ]
  },
  {
   "cell_type": "markdown",
   "id": "beneficial-dynamics",
   "metadata": {},
   "source": [
    "**Pipeline:** Next, use the pipeline to predict the values from Kaggle"
   ]
  },
  {
   "cell_type": "code",
   "execution_count": 158,
   "id": "funky-georgia",
   "metadata": {},
   "outputs": [
    {
     "ename": "ValueError",
     "evalue": "X has 17 features, but ColumnTransformer is expecting 16 features as input.",
     "output_type": "error",
     "traceback": [
      "\u001b[0;31m---------------------------------------------------------------------------\u001b[0m",
      "\u001b[0;31mValueError\u001b[0m                                Traceback (most recent call last)",
      "\u001b[0;32m<ipython-input-158-e5af84a0d986>\u001b[0m in \u001b[0;36m<module>\u001b[0;34m\u001b[0m\n\u001b[0;32m----> 1\u001b[0;31m \u001b[0my_ka_pred\u001b[0m \u001b[0;34m=\u001b[0m \u001b[0mpipe\u001b[0m\u001b[0;34m.\u001b[0m\u001b[0mpredict\u001b[0m\u001b[0;34m(\u001b[0m\u001b[0mka2\u001b[0m\u001b[0;34m)\u001b[0m\u001b[0;34m\u001b[0m\u001b[0;34m\u001b[0m\u001b[0m\n\u001b[0m\u001b[1;32m      2\u001b[0m \u001b[0my_ka_pred\u001b[0m\u001b[0;34m\u001b[0m\u001b[0;34m\u001b[0m\u001b[0m\n",
      "\u001b[0;32m~/opt/anaconda3/envs/DATA110/lib/python3.8/site-packages/sklearn/utils/metaestimators.py\u001b[0m in \u001b[0;36m<lambda>\u001b[0;34m(*args, **kwargs)\u001b[0m\n\u001b[1;32m    118\u001b[0m \u001b[0;34m\u001b[0m\u001b[0m\n\u001b[1;32m    119\u001b[0m         \u001b[0;31m# lambda, but not partial, allows help() to work with update_wrapper\u001b[0m\u001b[0;34m\u001b[0m\u001b[0;34m\u001b[0m\u001b[0;34m\u001b[0m\u001b[0m\n\u001b[0;32m--> 120\u001b[0;31m         \u001b[0mout\u001b[0m \u001b[0;34m=\u001b[0m \u001b[0;32mlambda\u001b[0m \u001b[0;34m*\u001b[0m\u001b[0margs\u001b[0m\u001b[0;34m,\u001b[0m \u001b[0;34m**\u001b[0m\u001b[0mkwargs\u001b[0m\u001b[0;34m:\u001b[0m \u001b[0mself\u001b[0m\u001b[0;34m.\u001b[0m\u001b[0mfn\u001b[0m\u001b[0;34m(\u001b[0m\u001b[0mobj\u001b[0m\u001b[0;34m,\u001b[0m \u001b[0;34m*\u001b[0m\u001b[0margs\u001b[0m\u001b[0;34m,\u001b[0m \u001b[0;34m**\u001b[0m\u001b[0mkwargs\u001b[0m\u001b[0;34m)\u001b[0m\u001b[0;34m\u001b[0m\u001b[0;34m\u001b[0m\u001b[0m\n\u001b[0m\u001b[1;32m    121\u001b[0m         \u001b[0;31m# update the docstring of the returned function\u001b[0m\u001b[0;34m\u001b[0m\u001b[0;34m\u001b[0m\u001b[0;34m\u001b[0m\u001b[0m\n\u001b[1;32m    122\u001b[0m         \u001b[0mupdate_wrapper\u001b[0m\u001b[0;34m(\u001b[0m\u001b[0mout\u001b[0m\u001b[0;34m,\u001b[0m \u001b[0mself\u001b[0m\u001b[0;34m.\u001b[0m\u001b[0mfn\u001b[0m\u001b[0;34m)\u001b[0m\u001b[0;34m\u001b[0m\u001b[0;34m\u001b[0m\u001b[0m\n",
      "\u001b[0;32m~/opt/anaconda3/envs/DATA110/lib/python3.8/site-packages/sklearn/pipeline.py\u001b[0m in \u001b[0;36mpredict\u001b[0;34m(self, X, **predict_params)\u001b[0m\n\u001b[1;32m    416\u001b[0m         \u001b[0mXt\u001b[0m \u001b[0;34m=\u001b[0m \u001b[0mX\u001b[0m\u001b[0;34m\u001b[0m\u001b[0;34m\u001b[0m\u001b[0m\n\u001b[1;32m    417\u001b[0m         \u001b[0;32mfor\u001b[0m \u001b[0m_\u001b[0m\u001b[0;34m,\u001b[0m \u001b[0mname\u001b[0m\u001b[0;34m,\u001b[0m \u001b[0mtransform\u001b[0m \u001b[0;32min\u001b[0m \u001b[0mself\u001b[0m\u001b[0;34m.\u001b[0m\u001b[0m_iter\u001b[0m\u001b[0;34m(\u001b[0m\u001b[0mwith_final\u001b[0m\u001b[0;34m=\u001b[0m\u001b[0;32mFalse\u001b[0m\u001b[0;34m)\u001b[0m\u001b[0;34m:\u001b[0m\u001b[0;34m\u001b[0m\u001b[0;34m\u001b[0m\u001b[0m\n\u001b[0;32m--> 418\u001b[0;31m             \u001b[0mXt\u001b[0m \u001b[0;34m=\u001b[0m \u001b[0mtransform\u001b[0m\u001b[0;34m.\u001b[0m\u001b[0mtransform\u001b[0m\u001b[0;34m(\u001b[0m\u001b[0mXt\u001b[0m\u001b[0;34m)\u001b[0m\u001b[0;34m\u001b[0m\u001b[0;34m\u001b[0m\u001b[0m\n\u001b[0m\u001b[1;32m    419\u001b[0m         \u001b[0;32mreturn\u001b[0m \u001b[0mself\u001b[0m\u001b[0;34m.\u001b[0m\u001b[0msteps\u001b[0m\u001b[0;34m[\u001b[0m\u001b[0;34m-\u001b[0m\u001b[0;36m1\u001b[0m\u001b[0;34m]\u001b[0m\u001b[0;34m[\u001b[0m\u001b[0;34m-\u001b[0m\u001b[0;36m1\u001b[0m\u001b[0;34m]\u001b[0m\u001b[0;34m.\u001b[0m\u001b[0mpredict\u001b[0m\u001b[0;34m(\u001b[0m\u001b[0mXt\u001b[0m\u001b[0;34m,\u001b[0m \u001b[0;34m**\u001b[0m\u001b[0mpredict_params\u001b[0m\u001b[0;34m)\u001b[0m\u001b[0;34m\u001b[0m\u001b[0;34m\u001b[0m\u001b[0m\n\u001b[1;32m    420\u001b[0m \u001b[0;34m\u001b[0m\u001b[0m\n",
      "\u001b[0;32m~/opt/anaconda3/envs/DATA110/lib/python3.8/site-packages/sklearn/compose/_column_transformer.py\u001b[0m in \u001b[0;36mtransform\u001b[0;34m(self, X)\u001b[0m\n\u001b[1;32m    555\u001b[0m             \u001b[0mX_feature_names\u001b[0m \u001b[0;34m=\u001b[0m \u001b[0;32mNone\u001b[0m\u001b[0;34m\u001b[0m\u001b[0;34m\u001b[0m\u001b[0m\n\u001b[1;32m    556\u001b[0m \u001b[0;34m\u001b[0m\u001b[0m\n\u001b[0;32m--> 557\u001b[0;31m         \u001b[0mself\u001b[0m\u001b[0;34m.\u001b[0m\u001b[0m_check_n_features\u001b[0m\u001b[0;34m(\u001b[0m\u001b[0mX\u001b[0m\u001b[0;34m,\u001b[0m \u001b[0mreset\u001b[0m\u001b[0;34m=\u001b[0m\u001b[0;32mFalse\u001b[0m\u001b[0;34m)\u001b[0m\u001b[0;34m\u001b[0m\u001b[0;34m\u001b[0m\u001b[0m\n\u001b[0m\u001b[1;32m    558\u001b[0m         if (self._feature_names_in is not None and\n\u001b[1;32m    559\u001b[0m             \u001b[0mX_feature_names\u001b[0m \u001b[0;32mis\u001b[0m \u001b[0;32mnot\u001b[0m \u001b[0;32mNone\u001b[0m \u001b[0;32mand\u001b[0m\u001b[0;34m\u001b[0m\u001b[0;34m\u001b[0m\u001b[0m\n",
      "\u001b[0;32m~/opt/anaconda3/envs/DATA110/lib/python3.8/site-packages/sklearn/base.py\u001b[0m in \u001b[0;36m_check_n_features\u001b[0;34m(self, X, reset)\u001b[0m\n\u001b[1;32m    363\u001b[0m \u001b[0;34m\u001b[0m\u001b[0m\n\u001b[1;32m    364\u001b[0m         \u001b[0;32mif\u001b[0m \u001b[0mn_features\u001b[0m \u001b[0;34m!=\u001b[0m \u001b[0mself\u001b[0m\u001b[0;34m.\u001b[0m\u001b[0mn_features_in_\u001b[0m\u001b[0;34m:\u001b[0m\u001b[0;34m\u001b[0m\u001b[0;34m\u001b[0m\u001b[0m\n\u001b[0;32m--> 365\u001b[0;31m             raise ValueError(\n\u001b[0m\u001b[1;32m    366\u001b[0m                 \u001b[0;34mf\"X has {n_features} features, but {self.__class__.__name__} \"\u001b[0m\u001b[0;34m\u001b[0m\u001b[0;34m\u001b[0m\u001b[0m\n\u001b[1;32m    367\u001b[0m                 f\"is expecting {self.n_features_in_} features as input.\")\n",
      "\u001b[0;31mValueError\u001b[0m: X has 17 features, but ColumnTransformer is expecting 16 features as input."
     ]
    }
   ],
   "source": [
    "y_ka_pred = pipe.predict(ka2)\n",
    "y_ka_pred"
   ]
  },
  {
   "cell_type": "code",
   "execution_count": 100,
   "id": "requested-tension",
   "metadata": {},
   "outputs": [],
   "source": [
    "new_ka = pd.DataFrame({'Id' : ka2['Id'], 'y': y_ka_pred})"
   ]
  },
  {
   "cell_type": "code",
   "execution_count": 101,
   "id": "imposed-concept",
   "metadata": {},
   "outputs": [],
   "source": [
    "new_ka.to_csv(\"broepke.csv\", index=False)"
   ]
  },
  {
   "cell_type": "markdown",
   "id": "accepted-raleigh",
   "metadata": {},
   "source": [
    "**Results:**  \n",
    "The Kaggle scoring system returned a result of `0.55` for ROC AUC score which is just better than the no-skill `0.5` point.  I honestly would have thought these result would have been better, given the train-test results.  There must be some sort of error in my logic, but the process is close!\n",
    "\n",
    "![Kaggle Results](kaggle.jpg)"
   ]
  },
  {
   "cell_type": "code",
   "execution_count": null,
   "id": "minor-sleep",
   "metadata": {},
   "outputs": [],
   "source": []
  }
 ],
 "metadata": {
  "kernelspec": {
   "display_name": "Python 3",
   "language": "python",
   "name": "python3"
  },
  "language_info": {
   "codemirror_mode": {
    "name": "ipython",
    "version": 3
   },
   "file_extension": ".py",
   "mimetype": "text/x-python",
   "name": "python",
   "nbconvert_exporter": "python",
   "pygments_lexer": "ipython3",
   "version": "3.8.5"
  },
  "toc-autonumbering": true
 },
 "nbformat": 4,
 "nbformat_minor": 5
}
