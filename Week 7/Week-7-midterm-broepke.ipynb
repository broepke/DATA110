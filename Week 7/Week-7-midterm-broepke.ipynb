{
 "cells": [
  {
   "cell_type": "markdown",
   "id": "civic-northern",
   "metadata": {},
   "source": [
    "# Midterm 1\n",
    "\n",
    "**Brian Roepke**\n",
    "**DATA 110**\n",
    "\n",
    "February 21, 2021\n",
    "\n",
    "Perform a complete analysis on the dataset attached, including full EDA, data prep/cleansing, modeling/performance assessment and analysis annotation/description. Make sure to format your notebook accordingly with section headers and text, as part of your grade is based on the format of your notebook."
   ]
  },
  {
   "cell_type": "markdown",
   "id": "civilian-atmosphere",
   "metadata": {},
   "source": [
    "## Load the dataset and describe the data including the following:\n",
    "\n",
    "* Peek at the data\n",
    "* Statistical summary of all attributes\n",
    "* Breakdown of the data by  variables"
   ]
  },
  {
   "cell_type": "code",
   "execution_count": 1,
   "id": "intimate-musician",
   "metadata": {},
   "outputs": [],
   "source": [
    "import numpy as np\n",
    "import pandas as pd\n",
    "import seaborn as sns\n",
    "import matplotlib.pyplot as plt\n",
    "\n",
    "from sklearn.metrics import classification_report, plot_confusion_matrix\n",
    "from sklearn.metrics import roc_auc_score, roc_curve, precision_recall_curve, auc\n",
    "from sklearn.model_selection import cross_val_score, train_test_split, KFold, RepeatedStratifiedKFold\n",
    "from sklearn.feature_selection import chi2, SelectKBest\n",
    "from sklearn.dummy import DummyClassifier\n",
    "from sklearn.preprocessing import OneHotEncoder, LabelEncoder, OrdinalEncoder\n",
    "from sklearn.pipeline import Pipeline, make_pipeline\n",
    "from sklearn.compose import make_column_transformer, ColumnTransformer\n",
    "\n",
    "from sklearn.linear_model import LogisticRegression, Perceptron, SGDClassifier, RidgeClassifierCV\n",
    "from sklearn.tree import DecisionTreeClassifier\n",
    "from sklearn.ensemble import RandomForestClassifier, GradientBoostingClassifier, AdaBoostClassifier, ExtraTreesClassifier\n",
    "from sklearn.neighbors import KNeighborsClassifier, LocalOutlierFactor\n",
    "from sklearn.svm import LinearSVC\n",
    "from sklearn.cluster import KMeans"
   ]
  },
  {
   "cell_type": "code",
   "execution_count": 2,
   "id": "regular-yukon",
   "metadata": {},
   "outputs": [],
   "source": [
    "df = pd.read_csv(\"bank.csv\", delimiter=\";\")"
   ]
  },
  {
   "cell_type": "code",
   "execution_count": 3,
   "id": "saving-queensland",
   "metadata": {},
   "outputs": [
    {
     "data": {
      "text/plain": [
       "(4521, 17)"
      ]
     },
     "execution_count": 3,
     "metadata": {},
     "output_type": "execute_result"
    }
   ],
   "source": [
    "df.shape"
   ]
  },
  {
   "cell_type": "code",
   "execution_count": 4,
   "id": "mexican-curve",
   "metadata": {},
   "outputs": [
    {
     "name": "stdout",
     "output_type": "stream",
     "text": [
      "<class 'pandas.core.frame.DataFrame'>\n",
      "RangeIndex: 4521 entries, 0 to 4520\n",
      "Data columns (total 17 columns):\n",
      " #   Column     Non-Null Count  Dtype \n",
      "---  ------     --------------  ----- \n",
      " 0   age        4521 non-null   int64 \n",
      " 1   job        4521 non-null   object\n",
      " 2   marital    4521 non-null   object\n",
      " 3   education  4521 non-null   object\n",
      " 4   default    4521 non-null   object\n",
      " 5   balance    4521 non-null   int64 \n",
      " 6   housing    4521 non-null   object\n",
      " 7   loan       4521 non-null   object\n",
      " 8   contact    4521 non-null   object\n",
      " 9   day        4521 non-null   int64 \n",
      " 10  month      4521 non-null   object\n",
      " 11  duration   4521 non-null   int64 \n",
      " 12  campaign   4521 non-null   int64 \n",
      " 13  pdays      4521 non-null   int64 \n",
      " 14  previous   4521 non-null   int64 \n",
      " 15  poutcome   4521 non-null   object\n",
      " 16  y          4521 non-null   object\n",
      "dtypes: int64(7), object(10)\n",
      "memory usage: 600.6+ KB\n"
     ]
    }
   ],
   "source": [
    "df.info()"
   ]
  },
  {
   "cell_type": "markdown",
   "id": "vanilla-manor",
   "metadata": {},
   "source": [
    "### Numerical Data"
   ]
  },
  {
   "cell_type": "code",
   "execution_count": 5,
   "id": "fabulous-officer",
   "metadata": {},
   "outputs": [
    {
     "name": "stdout",
     "output_type": "stream",
     "text": [
      "<class 'pandas.core.frame.DataFrame'>\n",
      "RangeIndex: 4521 entries, 0 to 4520\n",
      "Data columns (total 7 columns):\n",
      " #   Column    Non-Null Count  Dtype\n",
      "---  ------    --------------  -----\n",
      " 0   age       4521 non-null   int64\n",
      " 1   balance   4521 non-null   int64\n",
      " 2   day       4521 non-null   int64\n",
      " 3   duration  4521 non-null   int64\n",
      " 4   campaign  4521 non-null   int64\n",
      " 5   pdays     4521 non-null   int64\n",
      " 6   previous  4521 non-null   int64\n",
      "dtypes: int64(7)\n",
      "memory usage: 247.4 KB\n"
     ]
    }
   ],
   "source": [
    "# get numerical data only\n",
    "numeric_data = df.select_dtypes(include=['int64'])\n",
    "numeric_data.info()"
   ]
  },
  {
   "cell_type": "markdown",
   "id": "raising-sellers",
   "metadata": {},
   "source": [
    "### Categorical Data"
   ]
  },
  {
   "cell_type": "code",
   "execution_count": 6,
   "id": "included-colleague",
   "metadata": {},
   "outputs": [
    {
     "name": "stdout",
     "output_type": "stream",
     "text": [
      "<class 'pandas.core.frame.DataFrame'>\n",
      "RangeIndex: 4521 entries, 0 to 4520\n",
      "Data columns (total 10 columns):\n",
      " #   Column     Non-Null Count  Dtype \n",
      "---  ------     --------------  ----- \n",
      " 0   job        4521 non-null   object\n",
      " 1   marital    4521 non-null   object\n",
      " 2   education  4521 non-null   object\n",
      " 3   default    4521 non-null   object\n",
      " 4   housing    4521 non-null   object\n",
      " 5   loan       4521 non-null   object\n",
      " 6   contact    4521 non-null   object\n",
      " 7   month      4521 non-null   object\n",
      " 8   poutcome   4521 non-null   object\n",
      " 9   y          4521 non-null   object\n",
      "dtypes: object(10)\n",
      "memory usage: 353.3+ KB\n"
     ]
    }
   ],
   "source": [
    "# get categorical data\n",
    "cat_data = df.select_dtypes(include=['object'])\n",
    "\n",
    "cat_data.info()"
   ]
  },
  {
   "cell_type": "code",
   "execution_count": 7,
   "id": "chinese-grain",
   "metadata": {},
   "outputs": [
    {
     "name": "stdout",
     "output_type": "stream",
     "text": [
      "job\n",
      "management       969\n",
      "blue-collar      946\n",
      "technician       768\n",
      "admin.           478\n",
      "services         417\n",
      "retired          230\n",
      "self-employed    183\n",
      "entrepreneur     168\n",
      "unemployed       128\n",
      "housemaid        112\n",
      "student           84\n",
      "unknown           38\n",
      "Name: job, dtype: int64 \n",
      "\n",
      "marital\n",
      "married     2797\n",
      "single      1196\n",
      "divorced     528\n",
      "Name: marital, dtype: int64 \n",
      "\n",
      "education\n",
      "secondary    2306\n",
      "tertiary     1350\n",
      "primary       678\n",
      "unknown       187\n",
      "Name: education, dtype: int64 \n",
      "\n",
      "default\n",
      "no     4445\n",
      "yes      76\n",
      "Name: default, dtype: int64 \n",
      "\n",
      "housing\n",
      "yes    2559\n",
      "no     1962\n",
      "Name: housing, dtype: int64 \n",
      "\n",
      "loan\n",
      "no     3830\n",
      "yes     691\n",
      "Name: loan, dtype: int64 \n",
      "\n",
      "contact\n",
      "cellular     2896\n",
      "unknown      1324\n",
      "telephone     301\n",
      "Name: contact, dtype: int64 \n",
      "\n",
      "month\n",
      "may    1398\n",
      "jul     706\n",
      "aug     633\n",
      "jun     531\n",
      "nov     389\n",
      "apr     293\n",
      "feb     222\n",
      "jan     148\n",
      "oct      80\n",
      "sep      52\n",
      "mar      49\n",
      "dec      20\n",
      "Name: month, dtype: int64 \n",
      "\n",
      "poutcome\n",
      "unknown    3705\n",
      "failure     490\n",
      "other       197\n",
      "success     129\n",
      "Name: poutcome, dtype: int64 \n",
      "\n",
      "y\n",
      "no     4000\n",
      "yes     521\n",
      "Name: y, dtype: int64 \n",
      "\n"
     ]
    }
   ],
   "source": [
    "# show counts values of each categorical variable\n",
    "for colname in cat_data.columns:\n",
    "    print (colname)\n",
    "    print (cat_data[colname].value_counts(), '\\n')"
   ]
  },
  {
   "cell_type": "markdown",
   "id": "advance-russell",
   "metadata": {},
   "source": [
    "### Check for Null Values"
   ]
  },
  {
   "cell_type": "code",
   "execution_count": 8,
   "id": "listed-elite",
   "metadata": {},
   "outputs": [
    {
     "data": {
      "text/plain": [
       "False"
      ]
     },
     "execution_count": 8,
     "metadata": {},
     "output_type": "execute_result"
    }
   ],
   "source": [
    "# check for nan/null\n",
    "df.isnull().values.any()"
   ]
  },
  {
   "cell_type": "code",
   "execution_count": 9,
   "id": "phantom-circle",
   "metadata": {},
   "outputs": [
    {
     "data": {
      "text/plain": [
       "age          0\n",
       "job          0\n",
       "marital      0\n",
       "education    0\n",
       "default      0\n",
       "balance      0\n",
       "housing      0\n",
       "loan         0\n",
       "contact      0\n",
       "day          0\n",
       "month        0\n",
       "duration     0\n",
       "campaign     0\n",
       "pdays        0\n",
       "previous     0\n",
       "poutcome     0\n",
       "y            0\n",
       "dtype: int64"
      ]
     },
     "execution_count": 9,
     "metadata": {},
     "output_type": "execute_result"
    }
   ],
   "source": [
    "# count of nulls\n",
    "df.isnull().sum()"
   ]
  },
  {
   "cell_type": "markdown",
   "id": "central-arrival",
   "metadata": {},
   "source": [
    "**Note:** There are no duplicate values"
   ]
  },
  {
   "cell_type": "markdown",
   "id": "plastic-technical",
   "metadata": {},
   "source": [
    "### Remove Duplicates"
   ]
  },
  {
   "cell_type": "code",
   "execution_count": null,
   "id": "confident-transcript",
   "metadata": {},
   "outputs": [],
   "source": [
    "# drop duplicates\n",
    "len(df.drop_duplicates())"
   ]
  },
  {
   "cell_type": "code",
   "execution_count": null,
   "id": "shared-german",
   "metadata": {},
   "outputs": [],
   "source": [
    "df.shape"
   ]
  },
  {
   "cell_type": "markdown",
   "id": "exterior-timer",
   "metadata": {},
   "source": [
    "**Note:** There are no duplicate values"
   ]
  },
  {
   "cell_type": "markdown",
   "id": "manufactured-religion",
   "metadata": {},
   "source": [
    "### Show Head and Tail"
   ]
  },
  {
   "cell_type": "code",
   "execution_count": null,
   "id": "speaking-favor",
   "metadata": {},
   "outputs": [],
   "source": [
    "df.head()"
   ]
  },
  {
   "cell_type": "code",
   "execution_count": null,
   "id": "swiss-karen",
   "metadata": {},
   "outputs": [],
   "source": [
    "df.tail()"
   ]
  },
  {
   "cell_type": "markdown",
   "id": "recreational-reply",
   "metadata": {},
   "source": [
    "### Statistical Summary of all Attributes\n",
    "\n",
    "Including a Breakdown of the data by the class variable."
   ]
  },
  {
   "cell_type": "code",
   "execution_count": null,
   "id": "sexual-american",
   "metadata": {},
   "outputs": [],
   "source": [
    "df.describe().round(2)"
   ]
  },
  {
   "cell_type": "markdown",
   "id": "upper-malpractice",
   "metadata": {},
   "source": [
    "**Observations**  \n",
    " - **Age**: Values range from `19` to `87` years old with a mean of `41`.  These values seem logical.\n",
    " - **Balance**: Balances range from `-$3,313` to `$71,188`.  This also makes sense.  People can have negative balances (overdrawn) and also potentially have large savings. However, the mean savings are only `$263` with a standard deviation of `$259`, telling us that most people's savings values are in the lower range.\n",
    " - **day**: This is a numeric representation of the day of the month, values ranging from 1-31`.\n",
    " - **duration**: duration is the length of the last contact in seconds.  If this value is `0`, then the dependent variable y will be `no`.  There are no values of `0` in this dataset.  The min is `4` seconds, max of `3025` seconds or `50.4` hours.  It doesn't seem possible that there was a call over two days.  The 75% quartile value is `329` seconds or `5.5` minutes.\n",
    " - **campaign**: The number of contacts to the customer during the campaign. They are ranging from `1` to `50` with a mean of `2.79`. \n",
    " - **pdays**: Number of days that passed since the last contact.  Values from `-1` to `871` or `2.38` years.  This is plausible since banking relationships can last decades.  `999` means the client was not previously contacted (there are no values with this number. However, there is a massive number with the `-1` value.  This is most likely representing no prior contact.\n",
    " - **previous**: Number of contacts to the customer before this campaign started.  Values were ranging from `0` (new customer / first campaign) to `25`."
   ]
  },
  {
   "cell_type": "code",
   "execution_count": null,
   "id": "gross-establishment",
   "metadata": {},
   "outputs": [],
   "source": [
    "cat_data.describe()"
   ]
  },
  {
   "cell_type": "markdown",
   "id": "needed-processing",
   "metadata": {},
   "source": [
    "## Visualizations \n",
    "Univariate and Multivariate plots"
   ]
  },
  {
   "cell_type": "markdown",
   "id": "leading-marshall",
   "metadata": {},
   "source": [
    "### Distributions"
   ]
  },
  {
   "cell_type": "code",
   "execution_count": null,
   "id": "alien-steel",
   "metadata": {},
   "outputs": [],
   "source": [
    "df.plot(figsize=(15,10), kind='density', subplots=True, layout=(3,3), sharex=False);"
   ]
  },
  {
   "cell_type": "markdown",
   "id": "physical-conducting",
   "metadata": {},
   "source": [
    "**Density Plots:**  \n",
    "With the excpetion of age, and day (which we saw in the descriptive statistics), all of the other variables show high concentrations of values around the mean, and significant outliers. These will be examined later to see how they should be treated in the dataset. \n",
    "\n",
    "One plot we can look at with a little more detail, **age**."
   ]
  },
  {
   "cell_type": "code",
   "execution_count": null,
   "id": "separated-myanmar",
   "metadata": {},
   "outputs": [],
   "source": [
    "plt.figure(figsize=(6,5))\n",
    "sns.histplot(x='age', data=df);"
   ]
  },
  {
   "cell_type": "markdown",
   "id": "searching-breeding",
   "metadata": {},
   "source": [
    "**Age:** The age distribution shows a right skewed distribution with more values falling into the younger ages."
   ]
  },
  {
   "cell_type": "markdown",
   "id": "suffering-custody",
   "metadata": {},
   "source": [
    "**Age:** The age distribution shows a right skewed distribution with more values falling into the younger ages."
   ]
  },
  {
   "cell_type": "markdown",
   "id": "documentary-husband",
   "metadata": {},
   "source": [
    "### Outlier Analysis\n",
    "\n",
    "https://machinelearningmastery.com/how-to-use-statistics-to-identify-outliers-in-data/"
   ]
  },
  {
   "cell_type": "code",
   "execution_count": null,
   "id": "unlikely-yellow",
   "metadata": {},
   "outputs": [],
   "source": [
    "# using seaborn library, plot each individually\n",
    "fig, axes = plt.subplots(3, 2, figsize=(14,14))\n",
    "\n",
    "ax = sns.boxplot(x=\"y\", y=\"age\", data=df, ax=axes[0, 0], palette='tab20')\n",
    "ax = sns.boxplot(x=\"y\", y=\"balance\", data=df, ax=axes[0, 1], palette='tab20')\n",
    "ax = sns.boxplot(x=\"y\", y=\"duration\", data=df, ax=axes[1, 0], palette='tab20')\n",
    "ax = sns.boxplot(x=\"y\", y=\"campaign\", data=df, ax=axes[1, 1], palette='tab20')\n",
    "ax = sns.boxplot(x=\"y\", y=\"pdays\", data=df, ax=axes[2, 0], palette='tab20')\n",
    "ax = sns.boxplot(x=\"y\", y=\"previous\", data=df, ax=axes[2, 1], palette='tab20')"
   ]
  },
  {
   "cell_type": "markdown",
   "id": "opening-fence",
   "metadata": {},
   "source": [
    "**Note**: Plotting `Boxplots` for each of the non-categorical values shows that each of the values does have a significant amout of outliers displayed. Let's see how many are present.\n",
    "\n",
    "Using a method of counting outliers that fall outside of `+/- 3` standard deviations mean that we are accounting for `99.7%` of all data in this data set."
   ]
  },
  {
   "cell_type": "code",
   "execution_count": null,
   "id": "discrete-bride",
   "metadata": {},
   "outputs": [],
   "source": [
    "# Function to print the number of outliers in a column.\n",
    "def get_outliers(outl):\n",
    "    '''Function to identify the number of outliers +/- 3 standar deviations outside of mean.\n",
    "    Pass this function a Pandas Series (column)'''\n",
    "    print('Series Name:', outl.name)\n",
    "    # calculate summary statistics\n",
    "    data_mean, data_std = np.mean(outl), np.std(outl)\n",
    "    # identify outliers\n",
    "    cut_off = data_std * 3\n",
    "    lower, upper = data_mean - cut_off, data_mean + cut_off\n",
    "    # identify outliers\n",
    "    outliers = [x for x in outl if x < lower or x > upper]\n",
    "    print('Identified outliers: %d' % len(outliers))\n",
    "    # remove outliers\n",
    "    outliers_removed = [x for x in outl if x >= lower and x <= upper]\n",
    "    print('Non-outlier observations: %d' % len(outliers_removed))\n",
    "    print()"
   ]
  },
  {
   "cell_type": "code",
   "execution_count": null,
   "id": "ruled-destination",
   "metadata": {},
   "outputs": [],
   "source": [
    "get_outliers(df['age'])\n",
    "get_outliers(df['balance'])\n",
    "get_outliers(df['duration'])\n",
    "get_outliers(df['campaign'])\n",
    "get_outliers(df['pdays'])\n",
    "get_outliers(df['previous'])"
   ]
  },
  {
   "cell_type": "markdown",
   "id": "electoral-gender",
   "metadata": {},
   "source": [
    "**Conclusion on Outliers:**  \n",
    "There are outliers in this dataset, some make sense, like the large `balance` value and some make less sense such as `duration` having a multi-day phone call.  We will take care of these in the **training** portion of our ML Modeling to ensure their bias isn't introduced.\n",
    "\n",
    "**Note**: *This is opposed to removing them before train-test split.  The values might be useful in the overal predictions, specifically regarding the test data set.*"
   ]
  },
  {
   "cell_type": "markdown",
   "id": "unique-toolbox",
   "metadata": {},
   "source": [
    "### Multivariate Plots\n",
    "\n",
    "Starting with Pair-wise plots to see if there are any obvious relationships in the data."
   ]
  },
  {
   "cell_type": "code",
   "execution_count": null,
   "id": "returning-airplane",
   "metadata": {},
   "outputs": [],
   "source": [
    "# Using seaborn, pairwise plot by y\n",
    "\n",
    "g=sns.pairplot(df, diag_kind = 'auto', hue=\"y\")\n",
    "g.fig.set_size_inches(12,12);\n",
    "\n",
    "# rotate labels\n",
    "for ax in g.axes.flatten():\n",
    "    # rotate y axis labels\n",
    "    ax.set_ylabel(ax.get_ylabel(), rotation = 0)\n",
    "    # set y labels alignment\n",
    "    ax.yaxis.get_label().set_horizontalalignment('right')"
   ]
  },
  {
   "cell_type": "markdown",
   "id": "configured-mention",
   "metadata": {},
   "source": [
    "**Observations:** \n",
    "\n",
    "Upon comparing all numeric variables against each other, it's not clear if there are any obvious relationships between variables (positive or negative correlations).  We can test this next to be sure."
   ]
  },
  {
   "cell_type": "code",
   "execution_count": null,
   "id": "loose-picnic",
   "metadata": {},
   "outputs": [],
   "source": [
    "# using seaboarn to plot correlation heat map\n",
    "corr = df.corr()\n",
    "\n",
    "f, ax = plt.subplots(figsize=(12, 8))\n",
    "\n",
    "sns.heatmap(corr, cmap=\"Blues\", annot=True, square=False, ax=ax,  linewidth = 1)\n",
    "plt.title('Pearson Correlation of Features')\n",
    "plt.yticks(rotation=45);"
   ]
  },
  {
   "cell_type": "markdown",
   "id": "ultimate-block",
   "metadata": {},
   "source": [
    "**Observations:**  \n",
    "After running a Pearson's Correlation on the numeric values, there is not a strong corrrelation between variables.  The strongest is `previous` vs. `pdays` at `0.58`.  As a reminder `previous` is the number of contacts to the customer in prior marketing campaigns, and `pdays` is the number of days since last contact in this campaign."
   ]
  },
  {
   "cell_type": "markdown",
   "id": "advisory-cisco",
   "metadata": {},
   "source": [
    "### Demographic Plots"
   ]
  },
  {
   "cell_type": "code",
   "execution_count": null,
   "id": "rural-heath",
   "metadata": {},
   "outputs": [],
   "source": [
    "sns.displot(\n",
    "    data=df,\n",
    "    x=\"age\", hue=\"marital\",\n",
    "    kind=\"kde\", height=6,\n",
    "    multiple=\"fill\", clip=(0, None),\n",
    "    palette=\"tab20\",\n",
    ");"
   ]
  },
  {
   "cell_type": "markdown",
   "id": "measured-spokesman",
   "metadata": {},
   "source": [
    "**Age / Marital Status:** When plotting `Marital` status over age on a density estimate plot, the `single` population tends to be younger, as expected, with `married` growing in population.  `Divorced` also grows with age but is a smaller proportion of the total."
   ]
  },
  {
   "cell_type": "code",
   "execution_count": null,
   "id": "understood-petersburg",
   "metadata": {},
   "outputs": [],
   "source": [
    "plt.figure(figsize=(8,5))\n",
    "sns.histplot(x='age', data=df, hue='education', multiple='stack', palette=\"tab20\");"
   ]
  },
  {
   "cell_type": "markdown",
   "id": "tamil-nepal",
   "metadata": {},
   "source": [
    "**Age/Education:** There are relativley few people in the dataset that have an `unknown` education level, The rest of the values are somewhat evenly distributed across ages, with `secondary` school being the largest proportion."
   ]
  },
  {
   "cell_type": "code",
   "execution_count": null,
   "id": "burning-thought",
   "metadata": {},
   "outputs": [],
   "source": [
    "plt.figure(figsize=(10,4))\n",
    "ax = sns.barplot(x=\"education\", y=\"balance\", data=df, palette=\"tab20\")"
   ]
  },
  {
   "cell_type": "markdown",
   "id": "religious-database",
   "metadata": {},
   "source": [
    "**Eduacation/Balance:** People with `unknown` and `tertiary` levels of education tend to have slightly higher savings.  Those with secondary tend to have the lowest balance."
   ]
  },
  {
   "cell_type": "code",
   "execution_count": null,
   "id": "separated-algeria",
   "metadata": {},
   "outputs": [],
   "source": [
    "plt.figure(figsize=(10,4))\n",
    "ax = sns.barplot(x=\"job\", y=\"balance\", data=df, palette=\"tab20\")\n",
    "ax.set_xticklabels(ax.get_xticklabels(), rotation=90);"
   ]
  },
  {
   "cell_type": "markdown",
   "id": "diverse-superintendent",
   "metadata": {},
   "source": [
    "**Job/Balance:** Across the various jobs, `housemade` and `retired` are the leading savers.  On the other spectrum, `blue-collar`, `services` and `unemployed` have the lowest."
   ]
  },
  {
   "cell_type": "markdown",
   "id": "numerical-january",
   "metadata": {},
   "source": [
    "## Create Prediction Model: \n",
    "\n",
    "**Desired Outcome**: Create a model that will predict if the client will subscribe (yes/no) a term deposit (variable y)\n",
    "Assess model performance"
   ]
  },
  {
   "cell_type": "markdown",
   "id": "relevant-intervention",
   "metadata": {},
   "source": [
    "### Feature Selection\n",
    "\n",
    "**Chi-Squared Feature Selection**\n",
    "\n",
    "Pearson’s chi-squared statistical hypothesis test is an example of a test for independence between categorical variables.\n",
    "\n",
    "The results of this test can be used for feature selection, where those features that are independent of the target variable can be removed from the dataset.\n",
    "\n",
    "The scikit-learn machine library provides an implementation of the chi-squared test in the chi2() function. This function can be used in a feature selection strategy, such as selecting the top k most relevant features (largest values) via the SelectKBest class.\n",
    "\n",
    "For example, we can define the SelectKBest class to use the chi2() function and select all features, then transform the train and test sets.\n",
    "\n",
    "https://machinelearningmastery.com/feature-selection-with-categorical-data/"
   ]
  },
  {
   "cell_type": "code",
   "execution_count": 10,
   "id": "greek-curtis",
   "metadata": {},
   "outputs": [],
   "source": [
    "X = df.iloc[:, :-1].values\n",
    "y = df.iloc[:,-1].values"
   ]
  },
  {
   "cell_type": "code",
   "execution_count": 11,
   "id": "early-workstation",
   "metadata": {},
   "outputs": [],
   "source": [
    "oe = OrdinalEncoder(handle_unknown='ignore')\n",
    "oe.fit(X)\n",
    "X = oe.transform(X)"
   ]
  },
  {
   "cell_type": "code",
   "execution_count": 12,
   "id": "frequent-malta",
   "metadata": {},
   "outputs": [],
   "source": [
    "# split into train and test sets\n",
    "X_train, X_test, y_train, y_test = train_test_split(X, y, test_size=0.33, random_state=1)"
   ]
  },
  {
   "cell_type": "code",
   "execution_count": 13,
   "id": "academic-developer",
   "metadata": {},
   "outputs": [],
   "source": [
    "fs = SelectKBest(score_func=chi2, k='all')\n",
    "fs.fit(X_train, y_train)\n",
    "X_train_fs = fs.transform(X_train)\n",
    "X_test_fs = fs.transform(X_test)"
   ]
  },
  {
   "cell_type": "code",
   "execution_count": 15,
   "id": "persistent-russian",
   "metadata": {},
   "outputs": [
    {
     "name": "stdout",
     "output_type": "stream",
     "text": [
      "* age: 49.431167\n",
      "* job: 11.679248\n",
      "* marital: 0.248626\n",
      "* education: 3.339391\n",
      "* default: 0.039239\n",
      "* balance: 10511.322122\n",
      "* housing: 11.788867\n",
      "* loan: 12.889637\n",
      "* contact: 64.864792\n",
      "* day: 15.358145\n",
      "* month: 4.102635\n",
      "* duration: 80409.534986\n",
      "* campaign: 39.986529\n",
      "* pdays: 5324.229354\n",
      "* previous: 302.895548\n",
      "* poutcome: 10.921719\n",
      "\n"
     ]
    },
    {
     "data": {
      "image/png": "[encoded data removed]",
      "text/plain": [
       "<Figure size 720x288 with 1 Axes>"
      ]
     },
     "metadata": {
      "needs_background": "light"
     },
     "output_type": "display_data"
    }
   ],
   "source": [
    "# what are scores for the features\n",
    "names = []\n",
    "values = []\n",
    "for i in range(len(fs.scores_)):\n",
    "    print('* %s: %f' % (df.columns[i], fs.scores_[i]))\n",
    "    names.append(df.columns[i])\n",
    "    values.append(fs.scores_[i])\n",
    "print()\n",
    "chi_list = zip(names, values)\n",
    "# plot the scores\n",
    "plt.figure(figsize=(10,4))\n",
    "plt.bar(names, values)\n",
    "plt.xticks(rotation = 90)\n",
    "plt.show()"
   ]
  },
  {
   "cell_type": "markdown",
   "id": "american-obligation",
   "metadata": {},
   "source": [
    "**Results:**  Based on the bar plot, we can see that `contact` has the strongest contribution followed by `job`, `housing`, `loan`, and `poutcome`.  We can take these into consideration when building the model, but we can also try to see the prediction with all variables. "
   ]
  },
  {
   "cell_type": "markdown",
   "id": "straight-bargain",
   "metadata": {},
   "source": [
    "### Variable Encoding\n",
    "\n",
    "**Note**: None of the variables appear to be Ordinal, e.g. have a natural order to them.  The Education field could be, but isn't critical to the analysis.  Therefore, a simple encoding of each level will be used with values of `0-n`. "
   ]
  },
  {
   "cell_type": "code",
   "execution_count": 16,
   "id": "compressed-works",
   "metadata": {},
   "outputs": [],
   "source": [
    "X = df.iloc[:, :-1]\n",
    "y = df.iloc[:,-1]\n",
    "X = X.values\n",
    "y = y.values"
   ]
  },
  {
   "cell_type": "code",
   "execution_count": 17,
   "id": "outdoor-presentation",
   "metadata": {},
   "outputs": [
    {
     "name": "stdout",
     "output_type": "stream",
     "text": [
      "X Train: original: (4521, 16)\n"
     ]
    },
    {
     "data": {
      "text/plain": [
       "OneHotEncoder(handle_unknown='ignore')"
      ]
     },
     "execution_count": 17,
     "metadata": {},
     "output_type": "execute_result"
    }
   ],
   "source": [
    "ohe = OneHotEncoder(handle_unknown='ignore')\n",
    "print('X Train: original:', X.shape)\n",
    "ohe.fit(X)"
   ]
  },
  {
   "cell_type": "code",
   "execution_count": 18,
   "id": "challenging-visiting",
   "metadata": {},
   "outputs": [
    {
     "name": "stdout",
     "output_type": "stream",
     "text": [
      "X Train: one-hot-encoded: (4521, 3718)\n"
     ]
    }
   ],
   "source": [
    "X = ohe.transform(X).toarray()\n",
    "print('X Train: one-hot-encoded:', X.shape)"
   ]
  },
  {
   "cell_type": "code",
   "execution_count": 19,
   "id": "single-pickup",
   "metadata": {},
   "outputs": [],
   "source": [
    "enc = LabelEncoder()\n",
    "enc.fit(y)\n",
    "y = enc.transform(y)"
   ]
  },
  {
   "cell_type": "markdown",
   "id": "opponent-flood",
   "metadata": {},
   "source": [
    "**One Hot Encoding:** After encoding the features as binary `1/0` values for each, we can see that the number of columns as expanded from `16` to `3,718`.  This increases the dimensionality of the dataset, but make handling the categorical variables consistent and represented by a numeric value. "
   ]
  },
  {
   "cell_type": "markdown",
   "id": "breeding-anatomy",
   "metadata": {},
   "source": [
    "### Adjusting for Imbalanced Data\n",
    ">Imbalanced classification involves developing predictive models on classification datasets that have a severe class imbalance. The challenge is that most ML techniques will ignore, and in turn have poor performance on, the minority class, although typically it is performance on the minority class that is most important.\n",
    "There are various approaches to handling unbalanced datasets. One approach is Synthetic Minority Oversampling Technique (SMOTE).\n",
    "Here new examples are synthesized from the existing examples. This is a type of data augmentation for the minority class referred to as the *Synthetic Minority Oversampling Technique*, or **SMOTE** for short.\n",
    "\n",
    "https://machinelearningmastery.com/smote-oversampling-for-imbalanced-classification/"
   ]
  },
  {
   "cell_type": "code",
   "execution_count": 20,
   "id": "accompanied-taiwan",
   "metadata": {},
   "outputs": [
    {
     "name": "stdout",
     "output_type": "stream",
     "text": [
      "before balancing\n",
      "(4521,)\n",
      "\n",
      "after balancing\n",
      "(8000,)\n"
     ]
    }
   ],
   "source": [
    "from imblearn.over_sampling import SMOTE\n",
    "\n",
    "print('before balancing')\n",
    "print(y.shape )\n",
    "\n",
    "oversample = SMOTE()\n",
    "X_bal, y_bal = oversample.fit_resample(X, y)\n",
    "\n",
    "print ('\\nafter balancing')\n",
    "print(y_bal.shape)"
   ]
  },
  {
   "cell_type": "code",
   "execution_count": 21,
   "id": "plain-elizabeth",
   "metadata": {},
   "outputs": [],
   "source": [
    "# Reduce the set of data, only to the model we'll train against.\n",
    "X = X_bal\n",
    "y = y_bal"
   ]
  },
  {
   "cell_type": "code",
   "execution_count": 22,
   "id": "french-column",
   "metadata": {},
   "outputs": [
    {
     "name": "stdout",
     "output_type": "stream",
     "text": [
      "(8000, 3718)\n",
      "(8000,)\n"
     ]
    }
   ],
   "source": [
    "print(X.shape)\n",
    "print(y.shape)"
   ]
  },
  {
   "cell_type": "markdown",
   "id": "speaking-blogger",
   "metadata": {},
   "source": [
    "**Note on Balancing**:  \n",
    "Prior to the balancing process you can see that the number of `0` observations is `4,000` and the number of `1` observations is `521`, a nearly 8x delta in values.  After the *Synthetic Minority Oversampling* is completed, there are an even number of observations at `4,000` each."
   ]
  },
  {
   "cell_type": "markdown",
   "id": "collectible-award",
   "metadata": {},
   "source": [
    "### Model Selection\n",
    "Run the reduced feature set across a number of different models, and find the one with the best score.\n",
    "\n",
    "The process will start by reducing the our X-independent variables down to the selected `12` features from the above process.  This way we do not have to do feature selection again for each algorithm but can run a number of them to determine best performance.  A number of classifiers will be used and the best one will be selected.\n",
    "\n",
    "https://scikit-learn.org/stable/auto_examples/classification/plot_classifier_comparison.html"
   ]
  },
  {
   "cell_type": "code",
   "execution_count": null,
   "id": "mexican-assumption",
   "metadata": {},
   "outputs": [],
   "source": [
    "# get a list of models to evaluate\n",
    "def get_models():\n",
    "    models = dict()\n",
    "    # Decision Tree\n",
    "    models['DTree'] = DecisionTreeClassifier(random_state=42)\n",
    "    models['RandForest'] = RandomForestClassifier(random_state=42)\n",
    "    models['Extra'] = ExtraTreesClassifier(random_state=42)\n",
    "    models['GradBoost'] = GradientBoostingClassifier(random_state=42)\n",
    "    models['AdaBoost'] = AdaBoostClassifier(random_state=42)  \n",
    "    models['LinearSVG'] = LinearSVC(random_state=42)  \n",
    "    models['SGD'] = SGDClassifier(random_state=42) \n",
    "    models['NN'] = KNeighborsClassifier(3)\n",
    "    models['RidgeCV'] = RidgeClassifierCV()\n",
    "    models['Perceptron'] = Perceptron(random_state=42)\n",
    "    return models\n",
    "\n",
    "# evaluate a give model using cross-validation\n",
    "def evaluate_model(model, X, y):\n",
    "    cv = RepeatedStratifiedKFold(n_splits=10, n_repeats=3, random_state=1)\n",
    "    scores = cross_val_score(model, X, y, scoring='accuracy', cv=cv, n_jobs=-1)\n",
    "    return scores\n",
    " \n",
    "# get the models to evaluate\n",
    "models = get_models()\n",
    "\n",
    "# evaluate the models and store results\n",
    "results, names = list(), list()\n",
    "for name, model in models.items():\n",
    "    scores = evaluate_model(model, X, y)\n",
    "    results.append(scores)\n",
    "    names.append(name)\n",
    "    print('* %s %.3f (%.3f)' % (name, np.mean(scores), np.std(scores)))\n",
    "\n",
    "# plot model performance for comparison\n",
    "plt.figure(figsize=(10,8))\n",
    "plt.boxplot(results, labels=names, showmeans=True)\n",
    "plt.show()"
   ]
  },
  {
   "cell_type": "markdown",
   "id": "norwegian-battery",
   "metadata": {},
   "source": [
    "**Conclusion for Model:**  \n",
    "The `ExtraTreesClassifier` algorithm peformed the best out of the above choices with a mean score of `0.936` and a standard deviation of `0.008`."
   ]
  },
  {
   "cell_type": "markdown",
   "id": "early-death",
   "metadata": {},
   "source": [
    "### Adjusting for Outliers\n",
    "\n",
    "> The expectation is that the outliers are causing the model to learn a bias or skewed understanding of the problem, and that removing these outliers from the training set will allow a more effective model to be learned.\n",
    "We can achieve this by defining the [LocalOutlierFactor](https://scikit-learn.org/stable/modules/generated/sklearn.neighbors.LocalOutlierFactor.html) model and using it to make a prediction on the training dataset, marking each row in the training dataset as normal (1) or an outlier (-1). We will use the default hyperparameters for the outlier detection model, although it is a good idea to tune the configuration to the specifics of your dataset.\n",
    "\n",
    "https://machinelearningmastery.com/how-to-use-statistics-to-identify-outliers-in-data/"
   ]
  },
  {
   "cell_type": "code",
   "execution_count": 23,
   "id": "streaming-penalty",
   "metadata": {},
   "outputs": [],
   "source": [
    "# Split the dataset into Train and Test sets\n",
    "X_train, X_test, y_train, y_test = train_test_split(X, y, \n",
    "                                                    test_size=0.33, random_state=42)"
   ]
  },
  {
   "cell_type": "code",
   "execution_count": 24,
   "id": "moderate-beaver",
   "metadata": {},
   "outputs": [
    {
     "name": "stdout",
     "output_type": "stream",
     "text": [
      "Training Size: 5360\n",
      "Test Size: 2640\n"
     ]
    }
   ],
   "source": [
    "train_before = len(X_train)\n",
    "print(\"Training Size:\", train_before)\n",
    "print(\"Test Size:\",len(X_test))"
   ]
  },
  {
   "cell_type": "code",
   "execution_count": 25,
   "id": "optional-petersburg",
   "metadata": {},
   "outputs": [],
   "source": [
    "# identify outliers in the training dataset\n",
    "lof = LocalOutlierFactor()\n",
    "yhat = lof.fit_predict(X_train)"
   ]
  },
  {
   "cell_type": "code",
   "execution_count": 26,
   "id": "included-camel",
   "metadata": {},
   "outputs": [
    {
     "name": "stdout",
     "output_type": "stream",
     "text": [
      "Training Size: 5360\n",
      "Test Size: 2640\n",
      "\n",
      "Number of Outliers Removed: 0\n"
     ]
    }
   ],
   "source": [
    "mask = yhat != -1\n",
    "X_train, y_train = X_train[mask, :], y_train[mask]\n",
    "# summarize the shape of the updated training dataset\n",
    "train_after = len(X_train)\n",
    "print(\"Training Size:\", train_after)\n",
    "print(\"Test Size:\",len(X_test))\n",
    "print()\n",
    "print(\"Number of Outliers Removed:\", train_before - train_after)"
   ]
  },
  {
   "cell_type": "markdown",
   "id": "demographic-cookbook",
   "metadata": {},
   "source": [
    "**Note:** After the processing of the categorical values in the dataset with `OneHotEncoding`, there are no longer any significant outliers to worry about."
   ]
  },
  {
   "cell_type": "markdown",
   "id": "standard-response",
   "metadata": {},
   "source": [
    "### Model Training"
   ]
  },
  {
   "cell_type": "code",
   "execution_count": 27,
   "id": "vocational-reliance",
   "metadata": {},
   "outputs": [],
   "source": [
    "model = RandomForestClassifier(random_state=42)\n",
    "model.fit(X_train, y_train);"
   ]
  },
  {
   "cell_type": "code",
   "execution_count": 28,
   "id": "devoted-instrumentation",
   "metadata": {},
   "outputs": [],
   "source": [
    "# Make predictions using the testing set\n",
    "y_pred = model.predict(X_test)"
   ]
  },
  {
   "cell_type": "markdown",
   "id": "immediate-there",
   "metadata": {},
   "source": [
    "## Model Evaluation"
   ]
  },
  {
   "cell_type": "markdown",
   "id": "pharmaceutical-accuracy",
   "metadata": {},
   "source": [
    "### Classification Report & Confusion Matrix"
   ]
  },
  {
   "cell_type": "code",
   "execution_count": 29,
   "id": "electronic-village",
   "metadata": {},
   "outputs": [
    {
     "name": "stdout",
     "output_type": "stream",
     "text": [
      "              precision    recall  f1-score   support\n",
      "\n",
      "           0      0.947     0.992     0.969      1318\n",
      "           1      0.991     0.945     0.967      1322\n",
      "\n",
      "    accuracy                          0.968      2640\n",
      "   macro avg      0.969     0.968     0.968      2640\n",
      "weighted avg      0.969     0.968     0.968      2640\n",
      "\n"
     ]
    },
    {
     "data": {
      "image/png": "[encoded data removed]",
      "text/plain": [
       "<Figure size 432x288 with 2 Axes>"
      ]
     },
     "metadata": {
      "needs_background": "light"
     },
     "output_type": "display_data"
    }
   ],
   "source": [
    "# print accuracy report\n",
    "print(classification_report(y_test, y_pred, digits=3))\n",
    "\n",
    "# show confusion matrix\n",
    "plot_confusion_matrix(model, X_test, y_test,\n",
    "                      xticks_rotation='vertical',\n",
    "                      cmap=plt.cm.Blues)  \n",
    "plt.show()"
   ]
  },
  {
   "cell_type": "markdown",
   "id": "guilty-distinction",
   "metadata": {},
   "source": [
    "**Results:**\n",
    "After Adjusting for Imbalaced data with `SMOTE`, Feature Selection, Cross Validationm Model Selection, Removing Outliers, the `RandomForestClassifier` performed with a precision of `0.994` for the value of `1`, or those customers that subscribed to a term deposit."
   ]
  },
  {
   "cell_type": "markdown",
   "id": "noted-steering",
   "metadata": {},
   "source": [
    "### ROC AUC\n",
    "ROC curve (receiver operating characteristic curve) is a plot that summarizes the performance of a binary classification model on the positive class. It's a popular diagnostic tool for classifiers on balanced and imbalanced binary prediction problems as it's not biased to the majority or minority class.\n",
    "is a plot of False Positive Rate (x-axis) vs True Positive Rate (y-axis) for a number of different candidate threshold values between 0.0 and 1.0. The true positive rate is referred to as the sensitivity or the recall.\n",
    "\n",
    " - **X-axis**: False Positive Rate=FP/(FP+TN)\n",
    " - **Y-axis**: True Positive Rate=TP/(TP+FN)\n",
    "\n",
    "Plot the ROC curve and choose a threshold that gives a desirable balance between the false positives and false negatives.  \n",
    "\n",
    "Ideally, we want the fraction of correct positive class predictions to be 1 (top of the plot) and the fraction of incorrect negative class predictions to be 0 (left of the plot). \n",
    "\n",
    "The best possible classifier achieving perfect result is the top-left at coordinate: (0,1)\n",
    "the threshold is applied to the probability cut-off point between the positive and negative classes (by default set at 0.5, halfway between each (0 and 1)\n",
    "\n",
    "https://machinelearningmastery.com/roc-curves-and-precision-recall-curves-for-imbalanced-classification/"
   ]
  },
  {
   "cell_type": "code",
   "execution_count": null,
   "id": "approved-sailing",
   "metadata": {},
   "outputs": [],
   "source": [
    "yhat = model.predict_proba(X_test) # predict only probability of 1.\n",
    "pos_probs = yhat [:, 1] # probabilities for just the positive class\n",
    "\n",
    "# plot no skill roc curve\n",
    "plt.plot([0, 1], [0, 1], linestyle='--', label='No Skill')\n",
    "\n",
    "fpr, tpr, _ = roc_curve(y_test, pos_probs) # calculate roc curve for model\n",
    "\n",
    "# plot model roc curve\n",
    "plt.plot(fpr, tpr, label='Random Forest')\n",
    "plt.xlabel('False Positive Rate')\n",
    "plt.ylabel('True Positive Rate')\n",
    "plt.legend()\n",
    "plt.show()"
   ]
  },
  {
   "cell_type": "markdown",
   "id": "inappropriate-retirement",
   "metadata": {},
   "source": [
    "**ROC AUC Observations:**  \n",
    "Based on the shape of the curve, starting from `0,0` and extending to `0,1` with a slight elbow and then extending to `1,1`, this shape represents a very strong performance of our model.\n",
    "\n",
    "Next we can calculate the actual ROC AUC Score"
   ]
  },
  {
   "cell_type": "code",
   "execution_count": null,
   "id": "interior-hybrid",
   "metadata": {},
   "outputs": [],
   "source": [
    "# no skill model, stratified random class predictions\n",
    "np.random.seed(1)\n",
    "m = DummyClassifier(strategy='stratified', random_state=42)\n",
    "m.fit(X_train, y_train)\n",
    "no_skill_yhat = m.predict_proba(y_test)\n",
    "no_skill_roc_auc = roc_auc_score(y_test, no_skill_yhat[:, 1])\n",
    "print(f'No Skill ROC AUC {round(no_skill_roc_auc, 3)}')\n",
    "\n",
    "# skilled model\n",
    "roc_auc = roc_auc_score(y_test, pos_probs)\n",
    "print(f'Random Forest ROC AUC {round(roc_auc, 4)}')"
   ]
  },
  {
   "cell_type": "markdown",
   "id": "breeding-variation",
   "metadata": {},
   "source": [
    "**Score:**\n",
    "The score for our model is `0.9843`, which is just under the perfect value of `1.0`."
   ]
  },
  {
   "cell_type": "markdown",
   "id": "individual-inspection",
   "metadata": {},
   "source": [
    "### Precision-Recall\n",
    "\n",
    "Precision-Recall Curves and AUC\n",
    "\n",
    "Precision is a metric that quantifies the number of correct positive predictions made.\n",
    "\n",
    "It is calculated as the number of true positives divided by the total number of true positives and false positives.\n",
    "\n",
    " - **Precision** = TruePositives / (TruePositives + FalsePositives)\n",
    "\n",
    "The result is a value between 0.0 for no precision and 1.0 for full or perfect precision.\n",
    "\n",
    "Recall is a metric that quantifies the number of correct positive predictions made out of all positive predictions that could have been made.\n",
    "\n",
    "It is calculated as the number of true positives divided by the total number of true positives and false negatives (e.g. it is the true positive rate).\n",
    "\n",
    " - **Recall** = TruePositives / (TruePositives + FalseNegatives)\n",
    "\n",
    "The result is a value between 0.0 for no recall and 1.0 for full or perfect recall.\n",
    "\n",
    "Both the precision and the recall are focused on the positive class (the minority class) and are unconcerned with the true negatives (majority class).\n",
    "\n",
    "A precision-recall curve (or PR Curve) is a plot of the precision (y-axis) and the recall (x-axis) for different probability thresholds.\n",
    "\n",
    " - **PR Curve:** Plot of Recall (x) vs Precision (y).\n",
    " \n",
    "A model with perfect skill is depicted as a point at a coordinate of (1,1). A skillful model is represented by a curve that bows towards a coordinate of (1,1). A no-skill classifier will be a horizontal line on the plot with a precision that is proportional to the number of positive examples in the dataset. For a balanced dataset this will be 0.5.\n",
    "\n",
    "The focus of the PR curve on the minority class makes it an effective diagnostic for imbalanced binary classification models."
   ]
  },
  {
   "cell_type": "code",
   "execution_count": null,
   "id": "private-finnish",
   "metadata": {},
   "outputs": [],
   "source": [
    "# calculate the baseline as the proportion of the positive class\n",
    "no_skill = len(y[y==1]) / len(y)\n",
    "\n",
    "# plot the no skill precision-recall curve\n",
    "plt.plot([0, 1], [no_skill, no_skill], linestyle='--', label='No Skill')\n",
    "\n",
    "# calculate model precision-recall curve\n",
    "precision, recall, _ = precision_recall_curve(y_test, pos_probs)\n",
    "\n",
    "# plot the model precision-recall curve\n",
    "plt.plot(recall, precision, label='Random Forest')\n",
    "plt.xlabel('Recall')\n",
    "plt.ylabel('Precision')\n",
    "plt.legend()\n",
    "plt.show()"
   ]
  },
  {
   "cell_type": "code",
   "execution_count": null,
   "id": "provincial-change",
   "metadata": {},
   "outputs": [],
   "source": [
    "# no skill model, stratified random class predictions\n",
    "precision, recall, _ = precision_recall_curve(y_test, no_skill_yhat[:, 1])\n",
    "auc_score = auc(recall, precision)\n",
    "print(f'No Skill PR AUC: {round(auc_score, 3)}')\n",
    "\n",
    "# skilled model\n",
    "precision, recall, _ = precision_recall_curve( y_test, pos_probs)\n",
    "auc_score = auc(recall, precision)\n",
    "print(f'Random Forest PR AUC: {round(auc_score, 4)}')"
   ]
  },
  {
   "cell_type": "markdown",
   "id": "hairy-truck",
   "metadata": {},
   "source": [
    "**Precision-Recall:**  \n",
    "\n",
    "Our final PR Score of `0.9811` is close to the perfect skill score of `1.0`."
   ]
  },
  {
   "cell_type": "markdown",
   "id": "statistical-petersburg",
   "metadata": {},
   "source": [
    "## Conclusion"
   ]
  },
  {
   "cell_type": "code",
   "execution_count": null,
   "id": "controversial-aaron",
   "metadata": {},
   "outputs": [],
   "source": []
  },
  {
   "cell_type": "markdown",
   "id": "quantitative-telling",
   "metadata": {},
   "source": [
    "## Kaggle\n",
    "\n",
    "Using a Pipeline to complete the full process and predict on new data\n",
    "\n",
    "https://machinelearningmastery.com/columntransformer-for-numerical-and-categorical-data/\n",
    "\n",
    "https://datascience.stackexchange.com/questions/54052/obtaining-consistent-one-hot-encoding-of-train-production-data"
   ]
  },
  {
   "cell_type": "code",
   "execution_count": null,
   "id": "black-feeding",
   "metadata": {},
   "outputs": [],
   "source": [
    "df = pd.read_csv(\"bank.csv\", delimiter=\";\")"
   ]
  },
  {
   "cell_type": "code",
   "execution_count": null,
   "id": "excited-impression",
   "metadata": {},
   "outputs": [],
   "source": [
    "X = df.iloc[:, :-1]\n",
    "y = df.y"
   ]
  },
  {
   "cell_type": "code",
   "execution_count": null,
   "id": "above-terror",
   "metadata": {},
   "outputs": [],
   "source": [
    "X.shape"
   ]
  },
  {
   "cell_type": "code",
   "execution_count": null,
   "id": "german-cement",
   "metadata": {},
   "outputs": [],
   "source": [
    "enc = LabelEncoder()\n",
    "enc.fit(y)\n",
    "y = enc.transform(y)"
   ]
  },
  {
   "cell_type": "code",
   "execution_count": null,
   "id": "theoretical-banner",
   "metadata": {},
   "outputs": [],
   "source": [
    "cat_x = ['job', 'marital', 'education', 'default', 'housing', 'loan', 'contact', 'month', 'poutcome']\n",
    "nums_x = ['age', 'balance', 'day', 'duration', 'campaign', 'pdays', 'previous']"
   ]
  },
  {
   "cell_type": "code",
   "execution_count": null,
   "id": "middle-johnson",
   "metadata": {},
   "outputs": [],
   "source": [
    "t = [('cats', OneHotEncoder(), cat_x)]\n",
    "col_transform = ColumnTransformer(transformers=t)"
   ]
  },
  {
   "cell_type": "code",
   "execution_count": null,
   "id": "aggressive-figure",
   "metadata": {},
   "outputs": [],
   "source": [
    "model = RandomForestClassifier(random_state=42)"
   ]
  },
  {
   "cell_type": "code",
   "execution_count": null,
   "id": "dramatic-birmingham",
   "metadata": {},
   "outputs": [],
   "source": [
    "# define the data preparation and modeling pipeline\n",
    "pipeline = Pipeline(steps=[('prep',col_transform), ('m', model)])"
   ]
  },
  {
   "cell_type": "code",
   "execution_count": null,
   "id": "several-presentation",
   "metadata": {},
   "outputs": [],
   "source": [
    "# define the model cross-validation configuration\n",
    "cv = KFold(n_splits=10, shuffle=True, random_state=1)"
   ]
  },
  {
   "cell_type": "code",
   "execution_count": null,
   "id": "musical-supervision",
   "metadata": {},
   "outputs": [],
   "source": [
    "# evaluate the pipeline using cross validation and calculate MAE\n",
    "scores = cross_val_score(pipeline, X, y, scoring='accuracy', cv=cv, n_jobs=-1)"
   ]
  },
  {
   "cell_type": "code",
   "execution_count": null,
   "id": "sexual-nutrition",
   "metadata": {},
   "outputs": [],
   "source": [
    "# convert MAE scores to positive values\n",
    "scores = np.absolute(scores)"
   ]
  },
  {
   "cell_type": "code",
   "execution_count": null,
   "id": "narrative-organic",
   "metadata": {},
   "outputs": [],
   "source": [
    "# summarize the model performance\n",
    "print('MAE: %.3f (%.3f)' % (np.mean(scores), np.std(scores)))"
   ]
  },
  {
   "cell_type": "code",
   "execution_count": null,
   "id": "iraqi-contest",
   "metadata": {},
   "outputs": [],
   "source": [
    "scores"
   ]
  },
  {
   "cell_type": "code",
   "execution_count": null,
   "id": "intense-inspection",
   "metadata": {},
   "outputs": [],
   "source": [
    "pipeline.fit(X,y)"
   ]
  },
  {
   "cell_type": "code",
   "execution_count": null,
   "id": "finished-stretch",
   "metadata": {},
   "outputs": [],
   "source": []
  },
  {
   "cell_type": "code",
   "execution_count": null,
   "id": "powered-geography",
   "metadata": {},
   "outputs": [],
   "source": []
  },
  {
   "cell_type": "code",
   "execution_count": null,
   "id": "abstract-guitar",
   "metadata": {},
   "outputs": [],
   "source": []
  },
  {
   "cell_type": "code",
   "execution_count": null,
   "id": "corresponding-concern",
   "metadata": {},
   "outputs": [],
   "source": []
  },
  {
   "cell_type": "code",
   "execution_count": null,
   "id": "lucky-movement",
   "metadata": {},
   "outputs": [],
   "source": []
  },
  {
   "cell_type": "code",
   "execution_count": 30,
   "id": "quick-greenhouse",
   "metadata": {},
   "outputs": [],
   "source": [
    "ka = pd.read_csv(\"test.csv\")"
   ]
  },
  {
   "cell_type": "code",
   "execution_count": 31,
   "id": "spread-administration",
   "metadata": {},
   "outputs": [],
   "source": [
    "ka.drop(columns=['Id'], inplace=True)"
   ]
  },
  {
   "cell_type": "code",
   "execution_count": 36,
   "id": "automatic-decimal",
   "metadata": {},
   "outputs": [
    {
     "data": {
      "text/plain": [
       "False"
      ]
     },
     "execution_count": 36,
     "metadata": {},
     "output_type": "execute_result"
    }
   ],
   "source": [
    "# check for nan/null\n",
    "ka.isnull().values.any()"
   ]
  },
  {
   "cell_type": "code",
   "execution_count": 34,
   "id": "tired-macintosh",
   "metadata": {},
   "outputs": [
    {
     "data": {
      "text/plain": [
       "age          0\n",
       "job          0\n",
       "marital      0\n",
       "education    0\n",
       "default      0\n",
       "balance      0\n",
       "housing      0\n",
       "loan         0\n",
       "contact      0\n",
       "day          0\n",
       "month        0\n",
       "duration     0\n",
       "campaign     0\n",
       "pdays        0\n",
       "previous     0\n",
       "poutcome     0\n",
       "dtype: int64"
      ]
     },
     "execution_count": 34,
     "metadata": {},
     "output_type": "execute_result"
    }
   ],
   "source": [
    "ka.isnull().sum()"
   ]
  },
  {
   "cell_type": "code",
   "execution_count": 35,
   "id": "micro-container",
   "metadata": {},
   "outputs": [
    {
     "ename": "TypeError",
     "evalue": "ufunc 'isnan' not supported for the input types, and the inputs could not be safely coerced to any supported types according to the casting rule ''safe''",
     "output_type": "error",
     "traceback": [
      "\u001b[0;31m---------------------------------------------------------------------------\u001b[0m",
      "\u001b[0;31mTypeError\u001b[0m                                 Traceback (most recent call last)",
      "\u001b[0;32m<ipython-input-35-5733b41e90d9>\u001b[0m in \u001b[0;36m<module>\u001b[0;34m\u001b[0m\n\u001b[0;32m----> 1\u001b[0;31m \u001b[0mX\u001b[0m \u001b[0;34m=\u001b[0m \u001b[0mohe\u001b[0m\u001b[0;34m.\u001b[0m\u001b[0mtransform\u001b[0m\u001b[0;34m(\u001b[0m\u001b[0mka\u001b[0m\u001b[0;34m)\u001b[0m\u001b[0;34m.\u001b[0m\u001b[0mtoarray\u001b[0m\u001b[0;34m(\u001b[0m\u001b[0;34m)\u001b[0m\u001b[0;34m\u001b[0m\u001b[0;34m\u001b[0m\u001b[0m\n\u001b[0m",
      "\u001b[0;32m~/opt/anaconda3/envs/DATA110/lib/python3.8/site-packages/sklearn/preprocessing/_encoders.py\u001b[0m in \u001b[0;36mtransform\u001b[0;34m(self, X)\u001b[0m\n\u001b[1;32m    459\u001b[0m         \u001b[0mcheck_is_fitted\u001b[0m\u001b[0;34m(\u001b[0m\u001b[0mself\u001b[0m\u001b[0;34m)\u001b[0m\u001b[0;34m\u001b[0m\u001b[0;34m\u001b[0m\u001b[0m\n\u001b[1;32m    460\u001b[0m         \u001b[0;31m# validation of X happens in _check_X called by _transform\u001b[0m\u001b[0;34m\u001b[0m\u001b[0;34m\u001b[0m\u001b[0;34m\u001b[0m\u001b[0m\n\u001b[0;32m--> 461\u001b[0;31m         X_int, X_mask = self._transform(X, handle_unknown=self.handle_unknown,\n\u001b[0m\u001b[1;32m    462\u001b[0m                                         force_all_finite='allow-nan')\n\u001b[1;32m    463\u001b[0m \u001b[0;34m\u001b[0m\u001b[0m\n",
      "\u001b[0;32m~/opt/anaconda3/envs/DATA110/lib/python3.8/site-packages/sklearn/preprocessing/_encoders.py\u001b[0m in \u001b[0;36m_transform\u001b[0;34m(self, X, handle_unknown, force_all_finite)\u001b[0m\n\u001b[1;32m    127\u001b[0m         \u001b[0;32mfor\u001b[0m \u001b[0mi\u001b[0m \u001b[0;32min\u001b[0m \u001b[0mrange\u001b[0m\u001b[0;34m(\u001b[0m\u001b[0mn_features\u001b[0m\u001b[0;34m)\u001b[0m\u001b[0;34m:\u001b[0m\u001b[0;34m\u001b[0m\u001b[0;34m\u001b[0m\u001b[0m\n\u001b[1;32m    128\u001b[0m             \u001b[0mXi\u001b[0m \u001b[0;34m=\u001b[0m \u001b[0mX_list\u001b[0m\u001b[0;34m[\u001b[0m\u001b[0mi\u001b[0m\u001b[0;34m]\u001b[0m\u001b[0;34m\u001b[0m\u001b[0;34m\u001b[0m\u001b[0m\n\u001b[0;32m--> 129\u001b[0;31m             diff, valid_mask = _check_unknown(Xi, self.categories_[i],\n\u001b[0m\u001b[1;32m    130\u001b[0m                                               return_mask=True)\n\u001b[1;32m    131\u001b[0m \u001b[0;34m\u001b[0m\u001b[0m\n",
      "\u001b[0;32m~/opt/anaconda3/envs/DATA110/lib/python3.8/site-packages/sklearn/utils/_encode.py\u001b[0m in \u001b[0;36m_check_unknown\u001b[0;34m(values, known_values, return_mask)\u001b[0m\n\u001b[1;32m    253\u001b[0m \u001b[0;34m\u001b[0m\u001b[0m\n\u001b[1;32m    254\u001b[0m         \u001b[0;31m# check for nans in the known_values\u001b[0m\u001b[0;34m\u001b[0m\u001b[0;34m\u001b[0m\u001b[0;34m\u001b[0m\u001b[0m\n\u001b[0;32m--> 255\u001b[0;31m         \u001b[0;32mif\u001b[0m \u001b[0mnp\u001b[0m\u001b[0;34m.\u001b[0m\u001b[0misnan\u001b[0m\u001b[0;34m(\u001b[0m\u001b[0mknown_values\u001b[0m\u001b[0;34m)\u001b[0m\u001b[0;34m.\u001b[0m\u001b[0many\u001b[0m\u001b[0;34m(\u001b[0m\u001b[0;34m)\u001b[0m\u001b[0;34m:\u001b[0m\u001b[0;34m\u001b[0m\u001b[0;34m\u001b[0m\u001b[0m\n\u001b[0m\u001b[1;32m    256\u001b[0m             \u001b[0mdiff_is_nan\u001b[0m \u001b[0;34m=\u001b[0m \u001b[0mnp\u001b[0m\u001b[0;34m.\u001b[0m\u001b[0misnan\u001b[0m\u001b[0;34m(\u001b[0m\u001b[0mdiff\u001b[0m\u001b[0;34m)\u001b[0m\u001b[0;34m\u001b[0m\u001b[0;34m\u001b[0m\u001b[0m\n\u001b[1;32m    257\u001b[0m             \u001b[0;32mif\u001b[0m \u001b[0mdiff_is_nan\u001b[0m\u001b[0;34m.\u001b[0m\u001b[0many\u001b[0m\u001b[0;34m(\u001b[0m\u001b[0;34m)\u001b[0m\u001b[0;34m:\u001b[0m\u001b[0;34m\u001b[0m\u001b[0;34m\u001b[0m\u001b[0m\n",
      "\u001b[0;31mTypeError\u001b[0m: ufunc 'isnan' not supported for the input types, and the inputs could not be safely coerced to any supported types according to the casting rule ''safe''"
     ]
    }
   ],
   "source": [
    "X = ohe.transform(ka).toarray()"
   ]
  },
  {
   "cell_type": "code",
   "execution_count": null,
   "id": "reflected-device",
   "metadata": {},
   "outputs": [],
   "source": []
  },
  {
   "cell_type": "code",
   "execution_count": null,
   "id": "adverse-boxing",
   "metadata": {},
   "outputs": [],
   "source": []
  },
  {
   "cell_type": "code",
   "execution_count": null,
   "id": "applied-brain",
   "metadata": {},
   "outputs": [],
   "source": []
  },
  {
   "cell_type": "code",
   "execution_count": null,
   "id": "distinct-pollution",
   "metadata": {},
   "outputs": [],
   "source": []
  },
  {
   "cell_type": "code",
   "execution_count": null,
   "id": "visible-asian",
   "metadata": {},
   "outputs": [],
   "source": [
    "enc = LabelEncoder()\n",
    "enc.fit(y)\n",
    "y = enc.transform(y)"
   ]
  },
  {
   "cell_type": "code",
   "execution_count": null,
   "id": "incorporated-composite",
   "metadata": {},
   "outputs": [],
   "source": [
    "col_trans = make_column_transformer(\n",
    "    (OneHotEncoder(), cat_x),\n",
    "    remainder='passthrough')"
   ]
  },
  {
   "cell_type": "code",
   "execution_count": null,
   "id": "mexican-brunswick",
   "metadata": {},
   "outputs": [],
   "source": [
    "col_trans_cats.fit_transform(X)"
   ]
  },
  {
   "cell_type": "code",
   "execution_count": null,
   "id": "quick-voltage",
   "metadata": {},
   "outputs": [],
   "source": [
    "pipe = make_pipeline(col_trans_cat ,model)"
   ]
  },
  {
   "cell_type": "code",
   "execution_count": null,
   "id": "corporate-lounge",
   "metadata": {},
   "outputs": [],
   "source": [
    "cross_val_score(pipe, X, y, cv=5, scoring='accuracy').mean()"
   ]
  },
  {
   "cell_type": "code",
   "execution_count": null,
   "id": "tutorial-darkness",
   "metadata": {},
   "outputs": [],
   "source": []
  },
  {
   "cell_type": "code",
   "execution_count": null,
   "id": "legislative-quality",
   "metadata": {},
   "outputs": [],
   "source": []
  },
  {
   "cell_type": "code",
   "execution_count": null,
   "id": "sonic-stake",
   "metadata": {},
   "outputs": [],
   "source": [
    "ohe = OneHotEncoder(handle_unknown='ignore')\n",
    "print('X Train: original:', X.shape)\n",
    "ohe.fit(X)"
   ]
  },
  {
   "cell_type": "code",
   "execution_count": null,
   "id": "southeast-update",
   "metadata": {},
   "outputs": [],
   "source": [
    "X = ohe.transform(X).toarray()\n",
    "print('X Train: one-hot-encoded:', X.shape)"
   ]
  },
  {
   "cell_type": "code",
   "execution_count": null,
   "id": "apart-patio",
   "metadata": {},
   "outputs": [],
   "source": [
    "X = X.values\n",
    "y = y.values"
   ]
  },
  {
   "cell_type": "code",
   "execution_count": null,
   "id": "suspended-kuwait",
   "metadata": {},
   "outputs": [],
   "source": [
    "X"
   ]
  },
  {
   "cell_type": "code",
   "execution_count": null,
   "id": "satellite-approach",
   "metadata": {},
   "outputs": [],
   "source": [
    "ohe = OneHotEncoder(handle_unknown='ignore')"
   ]
  },
  {
   "cell_type": "code",
   "execution_count": null,
   "id": "noted-profile",
   "metadata": {},
   "outputs": [],
   "source": [
    "model = RandomForestClassifier(random_state=42)"
   ]
  },
  {
   "cell_type": "code",
   "execution_count": null,
   "id": "upper-transmission",
   "metadata": {},
   "outputs": [],
   "source": [
    "pipeline = Pipeline(steps=[('ohe',ohe),('rf',model)])\n",
    "#pipeline = Pipeline(steps=[('ohe',ohe)])\n",
    "# fit the model on all available data"
   ]
  },
  {
   "cell_type": "code",
   "execution_count": null,
   "id": "short-gnome",
   "metadata": {},
   "outputs": [],
   "source": [
    "pipeline.fit(X,y)"
   ]
  },
  {
   "cell_type": "code",
   "execution_count": null,
   "id": "skilled-academy",
   "metadata": {},
   "outputs": [],
   "source": [
    "# Split the dataset into Train and Test sets\n",
    "X_train, X_test, y_train, y_test = train_test_split(X, y, \n",
    "                                                    test_size=0.33, random_state=42)"
   ]
  },
  {
   "cell_type": "code",
   "execution_count": null,
   "id": "conservative-cooler",
   "metadata": {},
   "outputs": [],
   "source": [
    "y_pred = pipeline.predict(X_test)"
   ]
  },
  {
   "cell_type": "code",
   "execution_count": null,
   "id": "vocal-street",
   "metadata": {},
   "outputs": [],
   "source": [
    "y_pred"
   ]
  }
 ],
 "metadata": {
  "kernelspec": {
   "display_name": "Python 3",
   "language": "python",
   "name": "python3"
  },
  "language_info": {
   "codemirror_mode": {
    "name": "ipython",
    "version": 3
   },
   "file_extension": ".py",
   "mimetype": "text/x-python",
   "name": "python",
   "nbconvert_exporter": "python",
   "pygments_lexer": "ipython3",
   "version": "3.8.5"
  },
  "toc-autonumbering": true
 },
 "nbformat": 4,
 "nbformat_minor": 5
}
