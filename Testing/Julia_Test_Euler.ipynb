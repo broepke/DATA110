{
 "cells": [
  {
   "cell_type": "code",
   "execution_count": 1,
   "id": "fewer-option",
   "metadata": {},
   "outputs": [],
   "source": [
    "using LinearAlgebra"
   ]
  },
  {
   "cell_type": "code",
   "execution_count": 2,
   "id": "according-sensitivity",
   "metadata": {},
   "outputs": [
    {
     "data": {
      "text/plain": [
       "20×20 Array{Int64,2}:\n",
       "  8   2  22  97  38  15   0  40   0  …   5   7  78  52  12  50  77  91   8\n",
       " 49  49  99  40  17  81  18  57  60     40  98  43  69  48   4  56  62   0\n",
       " 81  49  31  73  55  79  14  29  93     67  53  88  30   3  49  13  36  65\n",
       " 52  70  95  23   4  60  11  42  69     56   1  32  56  71  37   2  36  91\n",
       " 22  31  16  71  51  67  63  89  41     54  22  40  40  28  66  33  13  80\n",
       " 24  47  32  60  99   3  45   2  44  …  53  78  36  84  20  35  17  12  50\n",
       " 32  98  81  28  64  23  67  10  26     67  59  54  70  66  18  38  64  70\n",
       " 67  26  20  68   2  62  12  20  95     39  63   8  40  91  66  49  94  21\n",
       " 24  55  58   5  66  73  99  26  97     78  96  83  14  88  34  89  63  72\n",
       " 21  36  23   9  75   0  76  44  20     14   0  61  33  97  34  31  33  95\n",
       " 78  17  53  28  22  75  31  67  15  …  80   4  62  16  14   9  53  56  92\n",
       " 16  39   5  42  96  35  31  47  55     24   0  17  54  24  36  29  85  57\n",
       " 86  56   0  48  35  71  89   7   5     37  44  60  21  58  51  54  17  58\n",
       " 19  80  81  68   5  94  47  69  28     13  86  52  17  77   4  89  55  40\n",
       "  4  52   8  83  97  35  99  16   7     32  16  26  26  79  33  27  98  66\n",
       " 88  36  68  87  57  62  20  72   3  …  67  46  55  12  32  63  93  53  69\n",
       "  4  42  16  73  38  25  39  11  24     18   8  46  29  32  40  62  76  36\n",
       " 20  69  36  41  72  30  23  88  34     69  82  67  59  85  74   4  36  16\n",
       " 20  73  35  29  78  31  90   1  74     71  48  86  81  16  23  57   5  54\n",
       "  1  70  54  71  83  51  54  69  16     48  61  43  52   1  89  19  67  48"
      ]
     },
     "execution_count": 2,
     "metadata": {},
     "output_type": "execute_result"
    }
   ],
   "source": [
    "m = [\n",
    "    8 2 22 97 38 15 0 40 0 75 4 5 7 78 52 12 50 77 91 8\n",
    "    49 49 99 40 17 81 18 57 60 87 17 40 98 43 69 48 4 56 62 0\n",
    "    81 49 31 73 55 79 14 29 93 71 40 67 53 88 30 3 49 13 36 65\n",
    "    52 70 95 23 4 60 11 42 69 24 68 56 1 32 56 71 37 2 36 91\n",
    "    22 31 16 71 51 67 63 89 41 92 36 54 22 40 40 28 66 33 13 80\n",
    "    24 47 32 60 99 3 45 2 44 75 33 53 78 36 84 20 35 17 12 50\n",
    "    32 98 81 28 64 23 67 10 26 38 40 67 59 54 70 66 18 38 64 70\n",
    "    67 26 20 68 2 62 12 20 95 63 94 39 63 8 40 91 66 49 94 21\n",
    "    24 55 58 5 66 73 99 26 97 17 78 78 96 83 14 88 34 89 63 72\n",
    "    21 36 23 9 75 00 76 44 20 45 35 14 00 61 33 97 34 31 33 95\n",
    "    78 17 53 28 22 75 31 67 15 94 3 80 4 62 16 14 9 53 56 92\n",
    "    16 39 5 42 96 35 31 47 55 58 88 24 00 17 54 24 36 29 85 57\n",
    "    86 56 00 48 35 71 89 7 5 44 44 37 44 60 21 58 51 54 17 58\n",
    "    19 80 81 68 5 94 47 69 28 73 92 13 86 52 17 77 4 89 55 40\n",
    "    4 52 8 83 97 35 99 16 7 97 57 32 16 26 26 79 33 27 98 66\n",
    "    88 36 68 87 57 62 20 72 3 46 33 67 46 55 12 32 63 93 53 69\n",
    "    4 42 16 73 38 25 39 11 24 94 72 18 8 46 29 32 40 62 76 36\n",
    "    20 69 36 41 72 30 23 88 34 62 99 69 82 67 59 85 74 4 36 16\n",
    "    20 73 35 29 78 31 90 1 74 31 49 71 48 86 81 16 23 57 5 54\n",
    "    1 70 54 71 83 51 54 69 16 92 33 48 61 43 52 1 89 19 67 48\n",
    "]"
   ]
  },
  {
   "cell_type": "code",
   "execution_count": 3,
   "id": "promotional-company",
   "metadata": {},
   "outputs": [
    {
     "data": {
      "text/plain": [
       "get_largest (generic function with 1 method)"
      ]
     },
     "execution_count": 3,
     "metadata": {},
     "output_type": "execute_result"
    }
   ],
   "source": [
    "function get_largest(m_subset, largest)\n",
    "    \"\"\"Function to return the largest 4 sequential numbers\"\"\"\n",
    "\n",
    "    a, b, c, d = 1, 2, 3, 4\n",
    "    total = 0\n",
    "\n",
    "    for i in (1:length(m_subset)-3)\n",
    "        total = m_subset[a] * m_subset[b] * m_subset[c] * m_subset[d]\n",
    "        a, b, c, d = a + 1, b + 1, c + 1, d + 1\n",
    "        largest = max(largest, total)\n",
    "    end\n",
    "\n",
    "    return largest\n",
    "end"
   ]
  },
  {
   "cell_type": "code",
   "execution_count": 4,
   "id": "conscious-spring",
   "metadata": {},
   "outputs": [
    {
     "data": {
      "text/plain": [
       "find_top (generic function with 1 method)"
      ]
     },
     "execution_count": 4,
     "metadata": {},
     "output_type": "execute_result"
    }
   ],
   "source": [
    "function find_top()\n",
    "    top = 0\n",
    "    largest_in_row = 0\n",
    "    # Get the largest value for the DOWN and to the RIGHT diagonal\n",
    "    for i in (-16:16)\n",
    "        largest_in_row = get_largest(diag(m, i), top)\n",
    "        top = max(largest_in_row, top)\n",
    "    end\n",
    "\n",
    "    # Get the largest value for the DOWN and to the LEFT diagonal\n",
    "    flip_m = reverse(m, dims = 2)\n",
    "    for i in (-16:16)\n",
    "        largest_in_row = get_largest(diag(flip_m, i), top)\n",
    "        top = max(largest_in_row, top)\n",
    "    end\n",
    "\n",
    "    # Get the largest value for each ROW\n",
    "    for i in (1:20)\n",
    "        largest_in_row = get_largest(m[i, :], top)\n",
    "        top = max(largest_in_row, top)\n",
    "    end\n",
    "\n",
    "    # Get the largest value for each COLUMN\n",
    "    for i in (1:20)\n",
    "        largest_in_row = get_largest(m[:, i], top)\n",
    "        top = max(largest_in_row, top)\n",
    "    end\n",
    "\n",
    "    return top\n",
    "end"
   ]
  },
  {
   "cell_type": "code",
   "execution_count": 5,
   "id": "hired-sellers",
   "metadata": {},
   "outputs": [
    {
     "name": "stdout",
     "output_type": "stream",
     "text": [
      "  0.123413 seconds (380.89 k allocations: 19.830 MiB)\n"
     ]
    },
    {
     "data": {
      "text/plain": [
       "70600674"
      ]
     },
     "execution_count": 5,
     "metadata": {},
     "output_type": "execute_result"
    }
   ],
   "source": [
    "x = 0\n",
    "@time x = find_top()"
   ]
  },
  {
   "cell_type": "code",
   "execution_count": 6,
   "id": "welsh-cameroon",
   "metadata": {},
   "outputs": [
    {
     "name": "stdout",
     "output_type": "stream",
     "text": [
      "Problem 11 = 70600674"
     ]
    }
   ],
   "source": [
    "print(\"Problem 11 = \", x)  # 70600674"
   ]
  },
  {
   "cell_type": "code",
   "execution_count": null,
   "id": "defensive-brush",
   "metadata": {},
   "outputs": [],
   "source": []
  }
 ],
 "metadata": {
  "kernelspec": {
   "display_name": "Julia 1.5.3",
   "language": "julia",
   "name": "julia-1.5"
  },
  "language_info": {
   "file_extension": ".jl",
   "mimetype": "application/julia",
   "name": "julia",
   "version": "1.5.3"
  }
 },
 "nbformat": 4,
 "nbformat_minor": 5
}
