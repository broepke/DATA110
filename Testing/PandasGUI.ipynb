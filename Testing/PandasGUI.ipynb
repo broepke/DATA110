{
 "cells": [
  {
   "cell_type": "code",
   "execution_count": 1,
   "metadata": {},
   "outputs": [
    {
     "name": "stderr",
     "output_type": "stream",
     "text": [
      "PandasGUI INFO — pandasgui.datasets — Saved https://raw.githubusercontent.com/adamerose/datasets/master/pokemon.csv to /Users/brianroepke/Library/Application Support/pandasgui/dataset_files\n",
      "PandasGUI INFO — pandasgui.datasets — Saved https://raw.githubusercontent.com/adamerose/datasets/master/car_crashes.csv to /Users/brianroepke/Library/Application Support/pandasgui/dataset_files\n",
      "PandasGUI INFO — pandasgui.datasets — Saved https://raw.githubusercontent.com/adamerose/datasets/master/iris.csv to /Users/brianroepke/Library/Application Support/pandasgui/dataset_files\n",
      "PandasGUI INFO — pandasgui.datasets — Saved https://raw.githubusercontent.com/adamerose/datasets/master/mpg.csv to /Users/brianroepke/Library/Application Support/pandasgui/dataset_files\n",
      "PandasGUI INFO — pandasgui.datasets — Saved https://raw.githubusercontent.com/adamerose/datasets/master/penguins.csv to /Users/brianroepke/Library/Application Support/pandasgui/dataset_files\n",
      "PandasGUI INFO — pandasgui.datasets — Saved https://raw.githubusercontent.com/adamerose/datasets/master/tips.csv to /Users/brianroepke/Library/Application Support/pandasgui/dataset_files\n",
      "PandasGUI INFO — pandasgui.datasets — Saved https://raw.githubusercontent.com/adamerose/datasets/master/titanic.csv to /Users/brianroepke/Library/Application Support/pandasgui/dataset_files\n",
      "PandasGUI INFO — pandasgui.datasets — Saved https://raw.githubusercontent.com/adamerose/datasets/master/gapminder.csv to /Users/brianroepke/Library/Application Support/pandasgui/dataset_files\n",
      "PandasGUI INFO — pandasgui.datasets — Saved https://raw.githubusercontent.com/adamerose/datasets/master/stockdata.csv to /Users/brianroepke/Library/Application Support/pandasgui/dataset_files\n",
      "PandasGUI INFO — pandasgui.datasets — Saved https://raw.githubusercontent.com/adamerose/datasets/master/mi_manufacturing.csv to /Users/brianroepke/Library/Application Support/pandasgui/dataset_files\n"
     ]
    }
   ],
   "source": [
    "import pandas as pd\n",
    "from pandasgui import show\n",
    "from pandasgui.datasets import titanic"
   ]
  },
  {
   "cell_type": "code",
   "execution_count": 7,
   "metadata": {},
   "outputs": [],
   "source": [
    "gui = show(titanic)"
   ]
  },
  {
   "cell_type": "code",
   "execution_count": 4,
   "metadata": {},
   "outputs": [],
   "source": [
    "data = gui.get_dataframes()"
   ]
  },
  {
   "cell_type": "code",
   "execution_count": 6,
   "metadata": {},
   "outputs": [
    {
     "data": {
      "text/plain": [
       "dict_keys(['titanic'])"
      ]
     },
     "execution_count": 6,
     "metadata": {},
     "output_type": "execute_result"
    }
   ],
   "source": [
    "data.keys()"
   ]
  },
  {
   "cell_type": "code",
   "execution_count": null,
   "metadata": {},
   "outputs": [],
   "source": []
  }
 ],
 "metadata": {
  "kernelspec": {
   "display_name": "Python 3",
   "language": "python",
   "name": "python3"
  },
  "language_info": {
   "codemirror_mode": {
    "name": "ipython",
    "version": 3
   },
   "file_extension": ".py",
   "mimetype": "text/x-python",
   "name": "python",
   "nbconvert_exporter": "python",
   "pygments_lexer": "ipython3",
   "version": "3.8.5"
  }
 },
 "nbformat": 4,
 "nbformat_minor": 4
}
