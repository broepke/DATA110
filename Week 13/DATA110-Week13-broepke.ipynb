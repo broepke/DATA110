{
 "cells": [
  {
   "cell_type": "markdown",
   "id": "identical-construction",
   "metadata": {},
   "source": [
    "# Week 13 Assignment: Topic Modeling\n",
    "\n",
    "**DATA110**  \n",
    "*Brian Roepke*  \n",
    "\n",
    "Using the same women's clothing dataset from Midterm #2, perform Topic Modeling using LDA using either packages: Gensim  or sklearn on the reviews text.  \n",
    "\n",
    "\n",
    "Given that there are 6 departments, you can use  6 topics.  Bonus if you apply coherence computations against multiple models for model selection, in order to determine the optimal number of topics.\n",
    "\n",
    "\n",
    "\n",
    "References:\n",
    "\n",
    "https://scikit-learn.org/stable/modules/generated/sklearn.decomposition.LatentDirichletAllocation.html\n",
    "https://radimrehurek.com/gensim/auto_examples/core/run_core_concepts.html#sphx-glr-auto-examples-core-run-core-concepts-py"
   ]
  },
  {
   "cell_type": "code",
   "execution_count": 1,
   "id": "exceptional-finland",
   "metadata": {},
   "outputs": [],
   "source": [
    "import numpy as np\n",
    "import pandas as pd\n",
    "import string\n",
    "import warnings\n",
    "warnings.filterwarnings('ignore')\n",
    "\n",
    "import gensim\n",
    "from gensim import corpora, models\n",
    "from gensim.models import CoherenceModel\n",
    "from gensim.models.nmf import Nmf\n",
    "from gensim.models.lsimodel import LsiModel\n",
    "from gensim.models.ldamodel import LdaModel\n",
    "\n",
    "import sklearn as sk\n",
    "from sklearn.model_selection import train_test_split\n",
    "from sklearn.feature_extraction.text import TfidfVectorizer\n",
    "from sklearn.cluster import KMeans\n",
    "from sklearn.metrics import silhouette_score\n",
    "\n",
    "# NLTK Imports and Downloads\n",
    "import nltk\n",
    "from nltk import word_tokenize\n",
    "from nltk.sentiment.util import *\n",
    "from nltk.stem import PorterStemmer\n",
    "from nltk.stem.wordnet import WordNetLemmatizer\n",
    "from nltk import FreqDist\n",
    "\n",
    "import seaborn as sns\n",
    "import matplotlib.pyplot as plt\n",
    "%matplotlib inline"
   ]
  },
  {
   "cell_type": "code",
   "execution_count": 2,
   "id": "crazy-compilation",
   "metadata": {},
   "outputs": [
    {
     "data": {
      "text/html": [
       "<div>\n",
       "<style scoped>\n",
       "    .dataframe tbody tr th:only-of-type {\n",
       "        vertical-align: middle;\n",
       "    }\n",
       "\n",
       "    .dataframe tbody tr th {\n",
       "        vertical-align: top;\n",
       "    }\n",
       "\n",
       "    .dataframe thead th {\n",
       "        text-align: right;\n",
       "    }\n",
       "</style>\n",
       "<table border=\"1\" class=\"dataframe\">\n",
       "  <thead>\n",
       "    <tr style=\"text-align: right;\">\n",
       "      <th></th>\n",
       "      <th>Age</th>\n",
       "      <th>Title</th>\n",
       "      <th>Review Text</th>\n",
       "      <th>Rating</th>\n",
       "      <th>Recommended IND</th>\n",
       "      <th>Positive Feedback Count</th>\n",
       "      <th>Department Name</th>\n",
       "      <th>Class Name</th>\n",
       "    </tr>\n",
       "  </thead>\n",
       "  <tbody>\n",
       "    <tr>\n",
       "      <th>0</th>\n",
       "      <td>33</td>\n",
       "      <td>NaN</td>\n",
       "      <td>Absolutely wonderful - silky and sexy and comf...</td>\n",
       "      <td>4</td>\n",
       "      <td>1</td>\n",
       "      <td>0</td>\n",
       "      <td>Intimate</td>\n",
       "      <td>Intimates</td>\n",
       "    </tr>\n",
       "    <tr>\n",
       "      <th>1</th>\n",
       "      <td>34</td>\n",
       "      <td>NaN</td>\n",
       "      <td>Love this dress!  it's sooo pretty.  i happene...</td>\n",
       "      <td>5</td>\n",
       "      <td>1</td>\n",
       "      <td>4</td>\n",
       "      <td>Dresses</td>\n",
       "      <td>Dresses</td>\n",
       "    </tr>\n",
       "    <tr>\n",
       "      <th>2</th>\n",
       "      <td>60</td>\n",
       "      <td>Some major design flaws</td>\n",
       "      <td>I had such high hopes for this dress and reall...</td>\n",
       "      <td>3</td>\n",
       "      <td>0</td>\n",
       "      <td>0</td>\n",
       "      <td>Dresses</td>\n",
       "      <td>Dresses</td>\n",
       "    </tr>\n",
       "    <tr>\n",
       "      <th>3</th>\n",
       "      <td>50</td>\n",
       "      <td>My favorite buy!</td>\n",
       "      <td>I love, love, love this jumpsuit. it's fun, fl...</td>\n",
       "      <td>5</td>\n",
       "      <td>1</td>\n",
       "      <td>0</td>\n",
       "      <td>Bottoms</td>\n",
       "      <td>Pants</td>\n",
       "    </tr>\n",
       "    <tr>\n",
       "      <th>4</th>\n",
       "      <td>47</td>\n",
       "      <td>Flattering shirt</td>\n",
       "      <td>This shirt is very flattering to all due to th...</td>\n",
       "      <td>5</td>\n",
       "      <td>1</td>\n",
       "      <td>6</td>\n",
       "      <td>Tops</td>\n",
       "      <td>Blouses</td>\n",
       "    </tr>\n",
       "  </tbody>\n",
       "</table>\n",
       "</div>"
      ],
      "text/plain": [
       "   Age                    Title  \\\n",
       "0   33                      NaN   \n",
       "1   34                      NaN   \n",
       "2   60  Some major design flaws   \n",
       "3   50         My favorite buy!   \n",
       "4   47         Flattering shirt   \n",
       "\n",
       "                                         Review Text  Rating  Recommended IND  \\\n",
       "0  Absolutely wonderful - silky and sexy and comf...       4                1   \n",
       "1  Love this dress!  it's sooo pretty.  i happene...       5                1   \n",
       "2  I had such high hopes for this dress and reall...       3                0   \n",
       "3  I love, love, love this jumpsuit. it's fun, fl...       5                1   \n",
       "4  This shirt is very flattering to all due to th...       5                1   \n",
       "\n",
       "   Positive Feedback Count Department Name Class Name  \n",
       "0                        0        Intimate  Intimates  \n",
       "1                        4         Dresses    Dresses  \n",
       "2                        0         Dresses    Dresses  \n",
       "3                        0         Bottoms      Pants  \n",
       "4                        6            Tops    Blouses  "
      ]
     },
     "execution_count": 2,
     "metadata": {},
     "output_type": "execute_result"
    }
   ],
   "source": [
    "df = pd.read_csv(\"ClothingReviews.csv\")\n",
    "df.head()"
   ]
  },
  {
   "cell_type": "code",
   "execution_count": 3,
   "id": "homeless-prediction",
   "metadata": {},
   "outputs": [],
   "source": [
    "df.dropna(subset=['Department Name', 'Class Name', 'Review Text'], inplace=True)"
   ]
  },
  {
   "cell_type": "code",
   "execution_count": 4,
   "id": "sustained-burning",
   "metadata": {},
   "outputs": [],
   "source": [
    "# fill the NA values with 0\n",
    "df['Title'].fillna('', inplace=True)"
   ]
  },
  {
   "cell_type": "code",
   "execution_count": 5,
   "id": "wicked-turtle",
   "metadata": {},
   "outputs": [
    {
     "data": {
      "text/plain": [
       "Age                        0\n",
       "Title                      0\n",
       "Review Text                0\n",
       "Rating                     0\n",
       "Recommended IND            0\n",
       "Positive Feedback Count    0\n",
       "Department Name            0\n",
       "Class Name                 0\n",
       "dtype: int64"
      ]
     },
     "execution_count": 5,
     "metadata": {},
     "output_type": "execute_result"
    }
   ],
   "source": [
    "# count of nulls\n",
    "df.isnull().sum()"
   ]
  },
  {
   "cell_type": "code",
   "execution_count": 6,
   "id": "tired-edwards",
   "metadata": {},
   "outputs": [],
   "source": [
    "df['Text'] = df['Title'] + ' ' + df['Review Text']"
   ]
  },
  {
   "cell_type": "code",
   "execution_count": 7,
   "id": "defined-darwin",
   "metadata": {},
   "outputs": [],
   "source": [
    "df.drop(columns=['Title', 'Review Text'], inplace=True)"
   ]
  },
  {
   "cell_type": "code",
   "execution_count": 8,
   "id": "becoming-ideal",
   "metadata": {},
   "outputs": [],
   "source": [
    "# Add column 'text_len' that counts the length for the derived field\n",
    "df['text_len'] = df.apply(lambda row: len(row['Text']), axis = 1)"
   ]
  },
  {
   "cell_type": "code",
   "execution_count": 9,
   "id": "bright-primary",
   "metadata": {},
   "outputs": [
    {
     "name": "stdout",
     "output_type": "stream",
     "text": [
      "Before = 22628\n",
      "After = 22626\n",
      "\n",
      "Total Removed = 2\n"
     ]
    }
   ],
   "source": [
    "len_before = df.shape[0]\n",
    "df.drop_duplicates(inplace=True)\n",
    "len_after = df.shape[0]\n",
    "\n",
    "print(\"Before =\", len_before)\n",
    "# drop duplicates\n",
    "print(\"After =\", len_after)\n",
    "print('')\n",
    "print(\"Total Removed =\", len_before - len_after)"
   ]
  },
  {
   "cell_type": "code",
   "execution_count": 10,
   "id": "affiliated-nitrogen",
   "metadata": {},
   "outputs": [
    {
     "data": {
      "text/plain": [
       "count    22626.000000\n",
       "mean        63.121321\n",
       "std         29.086751\n",
       "min          2.000000\n",
       "25%         39.000000\n",
       "50%         62.000000\n",
       "75%         92.000000\n",
       "max        121.000000\n",
       "Name: Text, dtype: float64"
      ]
     },
     "execution_count": 10,
     "metadata": {},
     "output_type": "execute_result"
    }
   ],
   "source": [
    "wordlen = df['Text'].str.split().map(lambda x: len(x))\n",
    "wordlen.describe()"
   ]
  },
  {
   "cell_type": "code",
   "execution_count": 11,
   "id": "blessed-ecuador",
   "metadata": {},
   "outputs": [
    {
     "data": {
      "text/plain": [
       "'Some major design flaws I had such high hopes for this dress and really wanted it to work for me. i initially ordered the petite small (my usual size) but i found this to be outrageously small. so small in fact that i could not zip it up! i reordered it in petite medium, which was just ok. overall, the top half was comfortable and fit nicely, but the bottom half had a very tight under layer and several somewhat cheap (net) over layers. imo, a major design flaw was the net over layer sewn directly into the zipper - it c'"
      ]
     },
     "execution_count": 11,
     "metadata": {},
     "output_type": "execute_result"
    }
   ],
   "source": [
    "df['Text'][2]"
   ]
  },
  {
   "cell_type": "code",
   "execution_count": 12,
   "id": "detailed-mediterranean",
   "metadata": {},
   "outputs": [],
   "source": [
    "def process_string(text, stem=\"None\"):\n",
    "    \n",
    "    final_string = \"\"\n",
    "    \n",
    "    text = text.lower()\n",
    "    \n",
    "    translator = str.maketrans('', '', string.punctuation)\n",
    "    text = text.translate(translator)\n",
    "\n",
    "    text = text.split()\n",
    "    useless_words = nltk.corpus.stopwords.words(\"english\") + list(string.punctuation)\n",
    "    useless_words = useless_words + ['.', ',', '!', \"'\"]\n",
    "    text_filtered = [word for word in text if not word in useless_words]\n",
    "    \n",
    "    if stem == 'Stem':\n",
    "        stemmer = PorterStemmer() \n",
    "        text_stemmed = [stemmer.stem(y) for y in text_filtered]\n",
    "    elif stem == 'Lem':\n",
    "        lem = WordNetLemmatizer()\n",
    "        text_stemmed = [lem.lemmatize(y) for y in text_filtered]\n",
    "    else:\n",
    "        text_stemmed = text_filtered\n",
    "    \n",
    "    for word in text_stemmed:\n",
    "        final_string += word + \" \"\n",
    "    \n",
    "    return final_string"
   ]
  },
  {
   "cell_type": "code",
   "execution_count": 13,
   "id": "explicit-leave",
   "metadata": {},
   "outputs": [],
   "source": [
    "df['Text_Processed'] = df['Text'].apply(lambda x: process_string(x, stem='Lem'))"
   ]
  },
  {
   "cell_type": "code",
   "execution_count": 14,
   "id": "twenty-victoria",
   "metadata": {},
   "outputs": [
    {
     "data": {
      "text/plain": [
       "'major design flaw high hope dress really wanted work initially ordered petite small usual size found outrageously small small fact could zip reordered petite medium ok overall top half comfortable fit nicely bottom half tight layer several somewhat cheap net layer imo major design flaw net layer sewn directly zipper c '"
      ]
     },
     "execution_count": 14,
     "metadata": {},
     "output_type": "execute_result"
    }
   ],
   "source": [
    "df['Text_Processed'][2]"
   ]
  },
  {
   "cell_type": "code",
   "execution_count": 15,
   "id": "alternate-algeria",
   "metadata": {},
   "outputs": [
    {
     "data": {
      "text/plain": [
       "['absolutely wonderful silky sexy comfortable ',\n",
       " 'love dress sooo pretty happened find store im glad bc never would ordered online bc petite bought petite 58 love length hit little knee would definitely true midi someone truly petite ',\n",
       " 'major design flaw high hope dress really wanted work initially ordered petite small usual size found outrageously small small fact could zip reordered petite medium ok overall top half comfortable fit nicely bottom half tight layer several somewhat cheap net layer imo major design flaw net layer sewn directly zipper c ',\n",
       " 'favorite buy love love love jumpsuit fun flirty fabulous every time wear get nothing great compliment ',\n",
       " 'flattering shirt shirt flattering due adjustable front tie perfect length wear legging sleeveless pair well cardigan love shirt ']"
      ]
     },
     "execution_count": 15,
     "metadata": {},
     "output_type": "execute_result"
    }
   ],
   "source": [
    "clean_docs = df['Text_Processed'].to_list()\n",
    "\n",
    "# first 5 docs\n",
    "clean_docs[:5]"
   ]
  },
  {
   "cell_type": "code",
   "execution_count": 16,
   "id": "corrected-literature",
   "metadata": {},
   "outputs": [
    {
     "data": {
      "image/png": "[encoded data removed]",
      "text/plain": [
       "<Figure size 1080x360 with 1 Axes>"
      ]
     },
     "metadata": {
      "needs_background": "light"
     },
     "output_type": "display_data"
    }
   ],
   "source": [
    "texts = \"\".join(clean_docs)\n",
    "word_tokens = word_tokenize(texts)\n",
    "#fdist.most_common(50)\n",
    "\n",
    "plt.figure(figsize=(15, 5)) \n",
    "fdist = FreqDist(word_tokens)\n",
    "fdist.plot(50);"
   ]
  },
  {
   "cell_type": "markdown",
   "id": "limited-politics",
   "metadata": {},
   "source": [
    "# Clustering\n",
    "The clustering method for topic identification calculates a similarity measure for each word to a given number of cluster centers after transforming each word into a numeric value via TF-IDF methods. The words are then assigned to their nearest clusters.  In clustering, each word is assigned to a single cluster."
   ]
  },
  {
   "cell_type": "markdown",
   "id": "metric-colon",
   "metadata": {},
   "source": [
    "## Determine the Optimal Number of Clusters\n",
    "\n",
    "To select the best number of clusters, we'll use the Elbow method.  Per [Wikipedia](https://en.wikipedia.org/wiki/Elbow_method_(clustering))\n",
    "\n",
    "> *In cluster analysis, the elbow method is a heuristic used in determining the number of clusters in a data set. The method consists of plotting the explained variation as a function of the number of clusters, and picking the elbow of the curve as the number of clusters to use. The same method can be used to choose the number of parameters in other data-driven models, such as the number of principal components to describe a data set.*\n",
    "\n",
    "[Tutorial: How to determine the optimal number of clusters for k-means clustering](https://blog.cambridgespark.com/how-to-determine-the-optimal-number-of-clusters-for-k-means-clustering-14f27070048f)"
   ]
  },
  {
   "cell_type": "code",
   "execution_count": 17,
   "id": "stupid-playlist",
   "metadata": {},
   "outputs": [
    {
     "data": {
      "text/plain": [
       "(22626, 18546)"
      ]
     },
     "execution_count": 17,
     "metadata": {},
     "output_type": "execute_result"
    }
   ],
   "source": [
    "#vectorization of features\n",
    "vectorizer = TfidfVectorizer()\n",
    "X = vectorizer.fit_transform(clean_docs)\n",
    "\n",
    "X.shape"
   ]
  },
  {
   "cell_type": "code",
   "execution_count": 18,
   "id": "separated-fusion",
   "metadata": {},
   "outputs": [],
   "source": [
    "Sum_of_squared_distances = []\n",
    "K = range(1,10)\n",
    "for k in K:\n",
    "    km = KMeans(n_clusters=k)\n",
    "    km = km.fit(X)\n",
    "    Sum_of_squared_distances.append(km.inertia_)"
   ]
  },
  {
   "cell_type": "code",
   "execution_count": 19,
   "id": "charged-separate",
   "metadata": {},
   "outputs": [
    {
     "data": {
      "image/png": "[encoded data removed]",
      "text/plain": [
       "<Figure size 432x288 with 1 Axes>"
      ]
     },
     "metadata": {
      "needs_background": "light"
     },
     "output_type": "display_data"
    }
   ],
   "source": [
    "ax = sns.lineplot(x=K, y=Sum_of_squared_distances)\n",
    "ax.lines[0].set_linestyle(\"--\")\n",
    "plt.xlabel('k')\n",
    "plt.ylabel('Sum of Squared Distances')\n",
    "plt.title('Elbow Method For Optimal k')\n",
    "plt.show()"
   ]
  },
  {
   "cell_type": "markdown",
   "id": "coordinate-meter",
   "metadata": {},
   "source": [
    "**Conclusion:** Based on this method, the appropriate number of clusters is not totally clear. "
   ]
  },
  {
   "cell_type": "markdown",
   "id": "magnetic-payment",
   "metadata": {},
   "source": [
    "## Silhouette Score\n",
    "\n",
    "The best value is `1` and the worst value is `-1`. Values near `0` indicate overlapping clusters. Negative values generally indicate that a sample has been assigned to the wrong cluster, as a different cluster is more similar.\n",
    "\n",
    "https://scikit-learn.org/stable/modules/generated/sklearn.metrics.silhouette_score.html?highlight=silhouette_score#sklearn.metrics.silhouette_score"
   ]
  },
  {
   "cell_type": "code",
   "execution_count": 20,
   "id": "heard-soldier",
   "metadata": {},
   "outputs": [
    {
     "name": "stdout",
     "output_type": "stream",
     "text": [
      "For n_clusters = 2 The average silhouette_score is: 0.005158957947959958\n",
      "For n_clusters = 3 The average silhouette_score is: 0.0054280750132190215\n",
      "For n_clusters = 4 The average silhouette_score is: 0.006537274584641789\n",
      "For n_clusters = 5 The average silhouette_score is: 0.007561045537325558\n",
      "For n_clusters = 6 The average silhouette_score is: 0.007061001255105283\n",
      "For n_clusters = 7 The average silhouette_score is: 0.008841133863256995\n",
      "For n_clusters = 8 The average silhouette_score is: 0.008062911309296796\n",
      "For n_clusters = 9 The average silhouette_score is: 0.008760478475238226\n"
     ]
    }
   ],
   "source": [
    "def get_silhouette_score(X, k):\n",
    "    for n_clusters in range(2, k):\n",
    "        clusterer = KMeans(n_clusters=n_clusters, random_state=42)\n",
    "        y = clusterer.fit_predict(X)\n",
    "\n",
    "        message = \"For n_clusters = {} The average silhouette_score is: {}\"\n",
    "        print(message.format(n_clusters, silhouette_score(X, y)))\n",
    "        \n",
    "get_silhouette_score(X, 10)     "
   ]
  },
  {
   "cell_type": "markdown",
   "id": "dominant-howard",
   "metadata": {},
   "source": [
    "**Conclusion:** All of the silhouette scores are close to `0`.  There are no negative values suggesting that there are not overlapping clusters, however there isn't a stand out number.  The highest scoring is `7` clusters, which is close to our `6` Department Names in the dataset."
   ]
  },
  {
   "cell_type": "markdown",
   "id": "corporate-market",
   "metadata": {},
   "source": [
    "## Clustering Model\n",
    "\n",
    "Based on the above analys, there wasn't a clear winner for the total number of topics.  We know from our dataset that there were `6` product categories and we can use that number for our model. "
   ]
  },
  {
   "cell_type": "code",
   "execution_count": 21,
   "id": "vital-drunk",
   "metadata": {},
   "outputs": [
    {
     "name": "stdout",
     "output_type": "stream",
     "text": [
      "Top terms per cluster:\n"
     ]
    },
    {
     "data": {
      "text/html": [
       "<div>\n",
       "<style scoped>\n",
       "    .dataframe tbody tr th:only-of-type {\n",
       "        vertical-align: middle;\n",
       "    }\n",
       "\n",
       "    .dataframe tbody tr th {\n",
       "        vertical-align: top;\n",
       "    }\n",
       "\n",
       "    .dataframe thead th {\n",
       "        text-align: right;\n",
       "    }\n",
       "</style>\n",
       "<table border=\"1\" class=\"dataframe\">\n",
       "  <thead>\n",
       "    <tr style=\"text-align: right;\">\n",
       "      <th></th>\n",
       "      <th>Custer0</th>\n",
       "      <th>Custer1</th>\n",
       "      <th>Custer2</th>\n",
       "      <th>Custer3</th>\n",
       "      <th>Custer4</th>\n",
       "      <th>Custer5</th>\n",
       "    </tr>\n",
       "  </thead>\n",
       "  <tbody>\n",
       "    <tr>\n",
       "      <th>0</th>\n",
       "      <td>like</td>\n",
       "      <td>dress</td>\n",
       "      <td>small</td>\n",
       "      <td>top</td>\n",
       "      <td>shirt</td>\n",
       "      <td>love</td>\n",
       "    </tr>\n",
       "    <tr>\n",
       "      <th>1</th>\n",
       "      <td>fit</td>\n",
       "      <td>love</td>\n",
       "      <td>size</td>\n",
       "      <td>love</td>\n",
       "      <td>love</td>\n",
       "      <td>great</td>\n",
       "    </tr>\n",
       "    <tr>\n",
       "      <th>2</th>\n",
       "      <td>look</td>\n",
       "      <td>fit</td>\n",
       "      <td>run</td>\n",
       "      <td>great</td>\n",
       "      <td>great</td>\n",
       "      <td>sweater</td>\n",
       "    </tr>\n",
       "    <tr>\n",
       "      <th>3</th>\n",
       "      <td>color</td>\n",
       "      <td>beautiful</td>\n",
       "      <td>large</td>\n",
       "      <td>cute</td>\n",
       "      <td>cute</td>\n",
       "      <td>jean</td>\n",
       "    </tr>\n",
       "    <tr>\n",
       "      <th>4</th>\n",
       "      <td>fabric</td>\n",
       "      <td>great</td>\n",
       "      <td>medium</td>\n",
       "      <td>fit</td>\n",
       "      <td>fit</td>\n",
       "      <td>pant</td>\n",
       "    </tr>\n",
       "    <tr>\n",
       "      <th>5</th>\n",
       "      <td>skirt</td>\n",
       "      <td>size</td>\n",
       "      <td>big</td>\n",
       "      <td>color</td>\n",
       "      <td>look</td>\n",
       "      <td>fit</td>\n",
       "    </tr>\n",
       "    <tr>\n",
       "      <th>6</th>\n",
       "      <td>love</td>\n",
       "      <td>perfect</td>\n",
       "      <td>ordered</td>\n",
       "      <td>look</td>\n",
       "      <td>color</td>\n",
       "      <td>perfect</td>\n",
       "    </tr>\n",
       "    <tr>\n",
       "      <th>7</th>\n",
       "      <td>size</td>\n",
       "      <td>wear</td>\n",
       "      <td>fit</td>\n",
       "      <td>size</td>\n",
       "      <td>soft</td>\n",
       "      <td>soft</td>\n",
       "    </tr>\n",
       "    <tr>\n",
       "      <th>8</th>\n",
       "      <td>im</td>\n",
       "      <td>flattering</td>\n",
       "      <td>im</td>\n",
       "      <td>wear</td>\n",
       "      <td>wear</td>\n",
       "      <td>color</td>\n",
       "    </tr>\n",
       "    <tr>\n",
       "      <th>9</th>\n",
       "      <td>would</td>\n",
       "      <td>comfortable</td>\n",
       "      <td>wear</td>\n",
       "      <td>like</td>\n",
       "      <td>like</td>\n",
       "      <td>comfortable</td>\n",
       "    </tr>\n",
       "    <tr>\n",
       "      <th>10</th>\n",
       "      <td>cute</td>\n",
       "      <td>im</td>\n",
       "      <td>usually</td>\n",
       "      <td>beautiful</td>\n",
       "      <td>comfortable</td>\n",
       "      <td>wear</td>\n",
       "    </tr>\n",
       "    <tr>\n",
       "      <th>11</th>\n",
       "      <td>nice</td>\n",
       "      <td>look</td>\n",
       "      <td>cute</td>\n",
       "      <td>flattering</td>\n",
       "      <td>top</td>\n",
       "      <td>look</td>\n",
       "    </tr>\n",
       "    <tr>\n",
       "      <th>12</th>\n",
       "      <td>beautiful</td>\n",
       "      <td>fabric</td>\n",
       "      <td>would</td>\n",
       "      <td>fabric</td>\n",
       "      <td>little</td>\n",
       "      <td>size</td>\n",
       "    </tr>\n",
       "    <tr>\n",
       "      <th>13</th>\n",
       "      <td>back</td>\n",
       "      <td>like</td>\n",
       "      <td>love</td>\n",
       "      <td>pretty</td>\n",
       "      <td>flattering</td>\n",
       "      <td>pair</td>\n",
       "    </tr>\n",
       "    <tr>\n",
       "      <th>14</th>\n",
       "      <td>really</td>\n",
       "      <td>color</td>\n",
       "      <td>top</td>\n",
       "      <td>perfect</td>\n",
       "      <td>size</td>\n",
       "      <td>super</td>\n",
       "    </tr>\n",
       "  </tbody>\n",
       "</table>\n",
       "</div>"
      ],
      "text/plain": [
       "      Custer0      Custer1  Custer2     Custer3      Custer4      Custer5\n",
       "0        like        dress    small         top        shirt         love\n",
       "1         fit         love     size        love         love        great\n",
       "2        look          fit      run       great        great      sweater\n",
       "3       color    beautiful    large        cute         cute         jean\n",
       "4      fabric        great   medium         fit          fit         pant\n",
       "5       skirt         size      big       color         look          fit\n",
       "6        love      perfect  ordered        look        color      perfect\n",
       "7        size         wear      fit        size         soft         soft\n",
       "8          im   flattering       im        wear         wear        color\n",
       "9       would  comfortable     wear        like         like  comfortable\n",
       "10       cute           im  usually   beautiful  comfortable         wear\n",
       "11       nice         look     cute  flattering          top         look\n",
       "12  beautiful       fabric    would      fabric       little         size\n",
       "13       back         like     love      pretty   flattering         pair\n",
       "14     really        color      top     perfect         size        super"
      ]
     },
     "execution_count": 21,
     "metadata": {},
     "output_type": "execute_result"
    }
   ],
   "source": [
    "true_k = 6\n",
    "kmeans = KMeans(n_clusters=true_k, init='k-means++', max_iter=100, n_init=1, random_state=42)\n",
    "kmeans.fit(X)\n",
    "\n",
    "\n",
    "print(\"Top terms per cluster:\")\n",
    "order_centroids = kmeans.cluster_centers_.argsort()[:, ::-1]\n",
    "terms = vectorizer.get_feature_names()\n",
    "\n",
    "results_dict = {}\n",
    "\n",
    "\n",
    "for i in range(true_k):\n",
    "    terms_list = []\n",
    "    \n",
    "    for ind in order_centroids[i, :15]:  \n",
    "        terms_list.append(terms[ind])\n",
    "    \n",
    "    results_dict[f'Custer{i}'] = terms_list\n",
    "    \n",
    "df_clusters = pd.DataFrame.from_dict(results_dict)\n",
    "df_clusters"
   ]
  },
  {
   "cell_type": "markdown",
   "id": "answering-living",
   "metadata": {},
   "source": [
    "**Observations**:  \n",
    "- Cluster `0` contains the word skirt and could indicate the category as `bottoms` \n",
    "- Cluster `1` first word is `dress` which matches a deparement of the same name.\n",
    "- Cluster `2` doesn't have any words that directly match a deparment name.\n",
    "- Cluster `3` top word is `top` which matches the depearement of the same name or possibly `intimates` based on the other words.\n",
    "- Cluster `4` contains the word shirt and `top` which could match `tops` as well. \n",
    "- Cluster `5` has `sweater`, `pant` and `jean` most matching the `bottoms` category."
   ]
  },
  {
   "cell_type": "code",
   "execution_count": 22,
   "id": "consecutive-influence",
   "metadata": {},
   "outputs": [],
   "source": [
    "# assign the data labels back to the dataframe\n",
    "df['clusters'] = kmeans.labels_"
   ]
  },
  {
   "cell_type": "code",
   "execution_count": 23,
   "id": "sealed-state",
   "metadata": {},
   "outputs": [
    {
     "data": {
      "text/html": [
       "<div>\n",
       "<style scoped>\n",
       "    .dataframe tbody tr th:only-of-type {\n",
       "        vertical-align: middle;\n",
       "    }\n",
       "\n",
       "    .dataframe tbody tr th {\n",
       "        vertical-align: top;\n",
       "    }\n",
       "\n",
       "    .dataframe thead th {\n",
       "        text-align: right;\n",
       "    }\n",
       "</style>\n",
       "<table border=\"1\" class=\"dataframe\">\n",
       "  <thead>\n",
       "    <tr style=\"text-align: right;\">\n",
       "      <th></th>\n",
       "      <th>Age</th>\n",
       "      <th>Rating</th>\n",
       "      <th>Recommended IND</th>\n",
       "      <th>Positive Feedback Count</th>\n",
       "      <th>Department Name</th>\n",
       "      <th>Class Name</th>\n",
       "      <th>Text</th>\n",
       "      <th>text_len</th>\n",
       "      <th>Text_Processed</th>\n",
       "      <th>clusters</th>\n",
       "    </tr>\n",
       "  </thead>\n",
       "  <tbody>\n",
       "    <tr>\n",
       "      <th>17342</th>\n",
       "      <td>37</td>\n",
       "      <td>3</td>\n",
       "      <td>0</td>\n",
       "      <td>4</td>\n",
       "      <td>Bottoms</td>\n",
       "      <td>Pants</td>\n",
       "      <td>Ick I look like a stuffed sausage in these pan...</td>\n",
       "      <td>228</td>\n",
       "      <td>ick look like stuffed sausage pant even went s...</td>\n",
       "      <td>0</td>\n",
       "    </tr>\n",
       "    <tr>\n",
       "      <th>10222</th>\n",
       "      <td>65</td>\n",
       "      <td>4</td>\n",
       "      <td>1</td>\n",
       "      <td>5</td>\n",
       "      <td>Tops</td>\n",
       "      <td>Knits</td>\n",
       "      <td>It does snag easily which stinks because it's...</td>\n",
       "      <td>123</td>\n",
       "      <td>snag easily stink darling love piece hope does...</td>\n",
       "      <td>0</td>\n",
       "    </tr>\n",
       "    <tr>\n",
       "      <th>12990</th>\n",
       "      <td>43</td>\n",
       "      <td>1</td>\n",
       "      <td>0</td>\n",
       "      <td>0</td>\n",
       "      <td>Intimate</td>\n",
       "      <td>Lounge</td>\n",
       "      <td>Runs way too big I really wanted to love this ...</td>\n",
       "      <td>130</td>\n",
       "      <td>run way big really wanted love piece large im ...</td>\n",
       "      <td>2</td>\n",
       "    </tr>\n",
       "    <tr>\n",
       "      <th>17026</th>\n",
       "      <td>45</td>\n",
       "      <td>3</td>\n",
       "      <td>1</td>\n",
       "      <td>1</td>\n",
       "      <td>Tops</td>\n",
       "      <td>Blouses</td>\n",
       "      <td>Almost ,but not quite... I really wanted to lo...</td>\n",
       "      <td>525</td>\n",
       "      <td>almost quite really wanted love top got much f...</td>\n",
       "      <td>3</td>\n",
       "    </tr>\n",
       "    <tr>\n",
       "      <th>12222</th>\n",
       "      <td>42</td>\n",
       "      <td>3</td>\n",
       "      <td>0</td>\n",
       "      <td>3</td>\n",
       "      <td>Tops</td>\n",
       "      <td>Sweaters</td>\n",
       "      <td>Unflattering cut Love the warm fuzzies of this...</td>\n",
       "      <td>211</td>\n",
       "      <td>unflattering cut love warm fuzzies sweater lov...</td>\n",
       "      <td>5</td>\n",
       "    </tr>\n",
       "    <tr>\n",
       "      <th>19477</th>\n",
       "      <td>77</td>\n",
       "      <td>3</td>\n",
       "      <td>0</td>\n",
       "      <td>1</td>\n",
       "      <td>Dresses</td>\n",
       "      <td>Dresses</td>\n",
       "      <td>Beware I just got this dress in the mail and t...</td>\n",
       "      <td>507</td>\n",
       "      <td>beware got dress mail tried loved fit perfect ...</td>\n",
       "      <td>1</td>\n",
       "    </tr>\n",
       "    <tr>\n",
       "      <th>17368</th>\n",
       "      <td>65</td>\n",
       "      <td>5</td>\n",
       "      <td>1</td>\n",
       "      <td>2</td>\n",
       "      <td>Bottoms</td>\n",
       "      <td>Pants</td>\n",
       "      <td>Love these pants Love these pants . very flatt...</td>\n",
       "      <td>346</td>\n",
       "      <td>love pant love pant flattering comfortable coo...</td>\n",
       "      <td>5</td>\n",
       "    </tr>\n",
       "    <tr>\n",
       "      <th>20026</th>\n",
       "      <td>25</td>\n",
       "      <td>5</td>\n",
       "      <td>1</td>\n",
       "      <td>0</td>\n",
       "      <td>Bottoms</td>\n",
       "      <td>Skirts</td>\n",
       "      <td>Classic and feminine I bought this skirt in th...</td>\n",
       "      <td>525</td>\n",
       "      <td>classic feminine bought skirt store month ago ...</td>\n",
       "      <td>2</td>\n",
       "    </tr>\n",
       "    <tr>\n",
       "      <th>1281</th>\n",
       "      <td>50</td>\n",
       "      <td>5</td>\n",
       "      <td>1</td>\n",
       "      <td>1</td>\n",
       "      <td>Tops</td>\n",
       "      <td>Knits</td>\n",
       "      <td>Super cute Love this top. bought it in both co...</td>\n",
       "      <td>378</td>\n",
       "      <td>super cute love top bought color way adorable ...</td>\n",
       "      <td>0</td>\n",
       "    </tr>\n",
       "    <tr>\n",
       "      <th>8546</th>\n",
       "      <td>57</td>\n",
       "      <td>4</td>\n",
       "      <td>1</td>\n",
       "      <td>0</td>\n",
       "      <td>Tops</td>\n",
       "      <td>Sweaters</td>\n",
       "      <td>Seemed more like a jacket to me Nice sweater. ...</td>\n",
       "      <td>534</td>\n",
       "      <td>seemed like jacket nice sweater love detail fr...</td>\n",
       "      <td>5</td>\n",
       "    </tr>\n",
       "  </tbody>\n",
       "</table>\n",
       "</div>"
      ],
      "text/plain": [
       "       Age  Rating  Recommended IND  Positive Feedback Count Department Name  \\\n",
       "17342   37       3                0                        4         Bottoms   \n",
       "10222   65       4                1                        5            Tops   \n",
       "12990   43       1                0                        0        Intimate   \n",
       "17026   45       3                1                        1            Tops   \n",
       "12222   42       3                0                        3            Tops   \n",
       "19477   77       3                0                        1         Dresses   \n",
       "17368   65       5                1                        2         Bottoms   \n",
       "20026   25       5                1                        0         Bottoms   \n",
       "1281    50       5                1                        1            Tops   \n",
       "8546    57       4                1                        0            Tops   \n",
       "\n",
       "      Class Name                                               Text  text_len  \\\n",
       "17342      Pants  Ick I look like a stuffed sausage in these pan...       228   \n",
       "10222      Knits   It does snag easily which stinks because it's...       123   \n",
       "12990     Lounge  Runs way too big I really wanted to love this ...       130   \n",
       "17026    Blouses  Almost ,but not quite... I really wanted to lo...       525   \n",
       "12222   Sweaters  Unflattering cut Love the warm fuzzies of this...       211   \n",
       "19477    Dresses  Beware I just got this dress in the mail and t...       507   \n",
       "17368      Pants  Love these pants Love these pants . very flatt...       346   \n",
       "20026     Skirts  Classic and feminine I bought this skirt in th...       525   \n",
       "1281       Knits  Super cute Love this top. bought it in both co...       378   \n",
       "8546    Sweaters  Seemed more like a jacket to me Nice sweater. ...       534   \n",
       "\n",
       "                                          Text_Processed  clusters  \n",
       "17342  ick look like stuffed sausage pant even went s...         0  \n",
       "10222  snag easily stink darling love piece hope does...         0  \n",
       "12990  run way big really wanted love piece large im ...         2  \n",
       "17026  almost quite really wanted love top got much f...         3  \n",
       "12222  unflattering cut love warm fuzzies sweater lov...         5  \n",
       "19477  beware got dress mail tried loved fit perfect ...         1  \n",
       "17368  love pant love pant flattering comfortable coo...         5  \n",
       "20026  classic feminine bought skirt store month ago ...         2  \n",
       "1281   super cute love top bought color way adorable ...         0  \n",
       "8546   seemed like jacket nice sweater love detail fr...         5  "
      ]
     },
     "execution_count": 23,
     "metadata": {},
     "output_type": "execute_result"
    }
   ],
   "source": [
    "df.sample(10, random_state=121)"
   ]
  },
  {
   "cell_type": "code",
   "execution_count": 24,
   "id": "blond-delhi",
   "metadata": {},
   "outputs": [
    {
     "name": "stdout",
     "output_type": "stream",
     "text": [
      "[1 0 3 0 0]\n"
     ]
    }
   ],
   "source": [
    "new_docs = ['This dress is gorgeous and I love it and would gladly reccomend it to all of my friends.',\n",
    "            'This skirt has really horible quality and I hate it!',\n",
    "            'A super cute top with the perfect fit.',\n",
    "            'The most gorgeous pair of jeans I have seen.',\n",
    "            'this item is too little and tight.']\n",
    "\n",
    "pred = kmeans.predict(vectorizer.transform(new_docs))\n",
    "print(pred)"
   ]
  },
  {
   "cell_type": "markdown",
   "id": "arranged-corner",
   "metadata": {},
   "source": [
    "**Results**:\n",
    "\n",
    " - Based on the clusters assigned, there is not a clear mapping between cluster labels and the `Department Name` field.  \n",
    " - In some many cases, there are different labels for the same department.  `Bottoms`, `Dresses` and `Tops` are all showing different lables.\n",
    " - When applying new, unseen text to the model via the `predict` method, a cluster was easily assigned but unclear how accurate they are.  The first one seems to map to `Dresses` above, however three of them are showing up in cluster `0` but all are clearly different categories. \n",
    " \n",
    "This method is fast to run, but uncler how good the results are on this dataset.  \n",
    "\n",
    "**Next** we'll try Topic Modeling with GenSim."
   ]
  },
  {
   "cell_type": "markdown",
   "id": "entertaining-infrared",
   "metadata": {},
   "source": [
    "# Topic Modeling with Gensim\n",
    "\n",
    "Topic modeling looks at each work and defines a probability of that word occurring in a given number of topics.  For each word, the topic with the highest probability gets assigned to that word.  A word can appear in multiple topics depending on its probability across each topic."
   ]
  },
  {
   "cell_type": "markdown",
   "id": "phantom-wayne",
   "metadata": {},
   "source": [
    "## Corpus Creation\n",
    "\n",
    "The method we'll use for this is the Bag of Words method where words are assigned simple frequency counts. In order to do this, we need to tokeninze each review int a list of individual words, and then create a dictionary with `Gensim` from that corpus."
   ]
  },
  {
   "cell_type": "code",
   "execution_count": 25,
   "id": "laden-february",
   "metadata": {},
   "outputs": [
    {
     "data": {
      "text/plain": [
       "['absolutely wonderful silky sexy comfortable ']"
      ]
     },
     "execution_count": 25,
     "metadata": {},
     "output_type": "execute_result"
    }
   ],
   "source": [
    "clean_docs[:1]"
   ]
  },
  {
   "cell_type": "code",
   "execution_count": 26,
   "id": "spiritual-functionality",
   "metadata": {},
   "outputs": [],
   "source": [
    "tokenized_docs = [word_tokenize(word) for word in clean_docs]"
   ]
  },
  {
   "cell_type": "code",
   "execution_count": 27,
   "id": "physical-ballet",
   "metadata": {},
   "outputs": [
    {
     "data": {
      "text/plain": [
       "[['absolutely', 'wonderful', 'silky', 'sexy', 'comfortable']]"
      ]
     },
     "execution_count": 27,
     "metadata": {},
     "output_type": "execute_result"
    }
   ],
   "source": [
    "tokenized_docs[:1]"
   ]
  },
  {
   "cell_type": "code",
   "execution_count": 28,
   "id": "coordinate-pakistan",
   "metadata": {},
   "outputs": [
    {
     "name": "stdout",
     "output_type": "stream",
     "text": [
      "Dictionary(18578 unique tokens: ['absolutely', 'comfortable', 'sexy', 'silky', 'wonderful']...)\n"
     ]
    }
   ],
   "source": [
    "# create a dictionary from the corpus\n",
    "dictionary = gensim.corpora.Dictionary(tokenized_docs)\n",
    "print(dictionary)"
   ]
  },
  {
   "cell_type": "code",
   "execution_count": 29,
   "id": "cultural-cruise",
   "metadata": {},
   "outputs": [
    {
     "name": "stdout",
     "output_type": "stream",
     "text": [
      "[(0, 1), (1, 1), (2, 1), (3, 1), (4, 1)]\n"
     ]
    }
   ],
   "source": [
    "# Term Document Frequency \n",
    "# convert our entire corpus to a list of vectors:\n",
    "bow_corpus = [dictionary.doc2bow(doc) for doc in tokenized_docs]\n",
    "\n",
    "# View the first doc\n",
    "print(bow_corpus[0])"
   ]
  },
  {
   "cell_type": "code",
   "execution_count": 30,
   "id": "developing-riding",
   "metadata": {},
   "outputs": [
    {
     "name": "stdout",
     "output_type": "stream",
     "text": [
      "Word 5 (58) appears 1 times\n",
      "Word 6 (bc) appears 2 times\n",
      "Word 7 (bought) appears 1 times\n",
      "Word 8 (definitely) appears 1 times\n",
      "Word 9 (dress) appears 1 times\n",
      "Word 10 (find) appears 1 times\n",
      "Word 11 (glad) appears 1 times\n",
      "Word 12 (happened) appears 1 times\n",
      "Word 13 (hit) appears 1 times\n",
      "Word 14 (im) appears 1 times\n",
      "Word 15 (knee) appears 1 times\n",
      "Word 16 (length) appears 1 times\n",
      "Word 17 (little) appears 1 times\n",
      "Word 18 (love) appears 2 times\n",
      "Word 19 (midi) appears 1 times\n",
      "Word 20 (never) appears 1 times\n",
      "Word 21 (online) appears 1 times\n",
      "Word 22 (ordered) appears 1 times\n",
      "Word 23 (petite) appears 3 times\n",
      "Word 24 (pretty) appears 1 times\n",
      "Word 25 (someone) appears 1 times\n",
      "Word 26 (sooo) appears 1 times\n",
      "Word 27 (store) appears 1 times\n",
      "Word 28 (true) appears 1 times\n",
      "Word 29 (truly) appears 1 times\n",
      "Word 30 (would) appears 2 times\n"
     ]
    }
   ],
   "source": [
    "doc = bow_corpus[1]\n",
    "for i in range(len(doc)):\n",
    "    print (f\"Word {doc[i][0]} ({dictionary[doc[i][0]]}) appears {doc[i][1]} times\")"
   ]
  },
  {
   "cell_type": "markdown",
   "id": "muslim-switch",
   "metadata": {},
   "source": [
    "## Topic Modeling\n",
    "\n",
    "Before building our final models, we can do a quick demonstration of how this work using `LDA`.  We will start by using `6` topics, which is the number of departments. "
   ]
  },
  {
   "cell_type": "code",
   "execution_count": 31,
   "id": "august-pension",
   "metadata": {},
   "outputs": [],
   "source": [
    "NUM_TOPICS = 6"
   ]
  },
  {
   "cell_type": "code",
   "execution_count": 32,
   "id": "paperback-farming",
   "metadata": {},
   "outputs": [],
   "source": [
    "# Build LDA model\n",
    "lda_model = LdaModel(corpus=bow_corpus, id2word=dictionary, num_topics=NUM_TOPICS, random_state=42)"
   ]
  },
  {
   "cell_type": "code",
   "execution_count": 33,
   "id": "bibliographic-pencil",
   "metadata": {},
   "outputs": [
    {
     "name": "stdout",
     "output_type": "stream",
     "text": [
      "(0, '0.052*\"sweater\" + 0.021*\"love\" + 0.011*\"soft\" + 0.011*\"skirt\" + 0.011*\"wear\" + 0.010*\"beautiful\" + 0.009*\"compliment\" + 0.009*\"coat\" + 0.009*\"warm\" + 0.008*\"perfect\"')\n",
      "(1, '0.045*\"top\" + 0.015*\"fit\" + 0.013*\"cute\" + 0.012*\"wear\" + 0.010*\"love\" + 0.010*\"size\" + 0.010*\"look\" + 0.010*\"like\" + 0.009*\"shirt\" + 0.009*\"fabric\"')\n",
      "(2, '0.031*\"love\" + 0.025*\"great\" + 0.022*\"color\" + 0.015*\"fit\" + 0.014*\"perfect\" + 0.013*\"look\" + 0.013*\"jean\" + 0.012*\"comfortable\" + 0.012*\"wear\" + 0.011*\"pant\"')\n",
      "(3, '0.023*\"small\" + 0.019*\"size\" + 0.019*\"large\" + 0.016*\"ordered\" + 0.015*\"like\" + 0.015*\"fit\" + 0.014*\"run\" + 0.014*\"im\" + 0.014*\"petite\" + 0.013*\"top\"')\n",
      "(4, '0.070*\"dress\" + 0.017*\"fit\" + 0.014*\"beautiful\" + 0.012*\"look\" + 0.011*\"would\" + 0.011*\"im\" + 0.010*\"like\" + 0.010*\"fabric\" + 0.008*\"flattering\" + 0.007*\"waist\"')\n",
      "(5, '0.041*\"size\" + 0.034*\"dress\" + 0.015*\"fit\" + 0.012*\"small\" + 0.010*\"love\" + 0.010*\"wear\" + 0.010*\"im\" + 0.009*\"run\" + 0.008*\"6\" + 0.008*\"great\"')\n"
     ]
    }
   ],
   "source": [
    "# View the topics in LDA model\n",
    "topics = lda_model.print_topics()\n",
    "for topic in topics:\n",
    "    print(topic)"
   ]
  },
  {
   "cell_type": "code",
   "execution_count": 34,
   "id": "aggregate-surprise",
   "metadata": {},
   "outputs": [
    {
     "name": "stdout",
     "output_type": "stream",
     "text": [
      "[(9, 1), (18, 1), (30, 1), (132, 1), (3456, 1), (6772, 1)]\n",
      "[(0, 0.29068977), (1, 0.23220032), (2, 0.024189712), (3, 0.024129499), (4, 0.40464932), (5, 0.024141364)]\n"
     ]
    }
   ],
   "source": [
    "new_doc = 'This dress is gorgeous and I love it and would gladly reccomend it to all of my friends.'\n",
    "new_doc = process_string(new_doc)\n",
    "new_doc = word_tokenize(new_doc)\n",
    "new_doc_bow = dictionary.doc2bow(new_doc)\n",
    "\n",
    "print(new_doc_bow)\n",
    "print(lda_model.get_document_topics(new_doc_bow))"
   ]
  },
  {
   "cell_type": "markdown",
   "id": "surrounded-chorus",
   "metadata": {},
   "source": [
    "**Notes**:\n",
    "\n",
    " - The numbers returned by `print_topics` are the word **probabilities** for the topic their assigned to.  \n",
    " - The numbers in the second example from `get_document_topics` display the probability for each topic for the new text (`new_doc`) provided.  We can see that topics `0` and `1` have a probability around `23-29%`.  Topic `4` has the largest probability at `40%` and topics `2`, `3`, and `5` have about a `2.5%` probability. "
   ]
  },
  {
   "cell_type": "markdown",
   "id": "coupled-chorus",
   "metadata": {},
   "source": [
    "## Model Selection\n",
    "Model perplexity and topic coherence provide a convenient measure to judge how good a given topic model is. Three different models will be evaludated:\n",
    "\n",
    "1. **Latent Dirichlet allocation**: A generative statistical model that allows sets of observations to be explained by unobserved groups that explain why some parts of the data are similar. For example, if observations are words collected into documents, it posits that each document is a mixture of a small number of topics and that each word's presence is attributable to one of the document's topics [1].\n",
    "2. **Latent semantic analysis**:  A technique in natural language processing, in particular distributional semantics, of analyzing relationships between a set of documents and the terms they contain by producing a set of concepts related to the documents and terms. LSA assumes that words that are close in meaning will occur in similar pieces of text (the distributional hypothesis) [2].\n",
    "3. **Non-negative matrix factorization**: A group of algorithms in multivariate analysis.  NMF has an inherent clustering property, i.e., it automatically clusters the columns of input data [3].\n",
    "\n",
    "**Evaluation**:  \n",
    "The primary measure for evaluation is Coherence. This measure scores a topic by measuring the similarity between high-scoring words. \n",
    "\n",
    "**References:**\n",
    " 1. https://en.wikipedia.org/wiki/Latent_Dirichlet_allocation\n",
    " 1. https://en.wikipedia.org/wiki/Latent_semantic_analysis\n",
    " 1. https://en.wikipedia.org/wiki/Non-negative_matrix_factorization\n",
    " 1. https://radimrehurek.com/gensim/models/coherencemodel.html\n",
    " 1. https://datascienceplus.com/evaluation-of-topic-modeling-topic-coherence/"
   ]
  },
  {
   "cell_type": "code",
   "execution_count": 35,
   "id": "desirable-juice",
   "metadata": {},
   "outputs": [],
   "source": [
    "def model_scoring (model, corpus, text, dictionary, perplex=False):\n",
    "\n",
    "    # Compute Perplexity\n",
    "    # a measure of how good the model is. lower the better.\n",
    "    if perplex:\n",
    "        print('Perplexity: ', model.log_perplexity(corpus))  \n",
    "\n",
    "    # Compute Coherence Score\n",
    "    coherence_model = CoherenceModel(model=model, \n",
    "                                         texts=text, \n",
    "                                         dictionary=dictionary, \n",
    "                                         coherence='c_v')\n",
    "    \n",
    "    coherence_lda = coherence_model.get_coherence()\n",
    "    print('Coherence Score: ', coherence_lda)"
   ]
  },
  {
   "cell_type": "code",
   "execution_count": 36,
   "id": "fatal-sound",
   "metadata": {},
   "outputs": [
    {
     "name": "stdout",
     "output_type": "stream",
     "text": [
      "Coherence Score:  0.3675376854072066\n"
     ]
    }
   ],
   "source": [
    "lda_model = LdaModel(corpus=bow_corpus, id2word=dictionary, num_topics=NUM_TOPICS, random_state=42)\n",
    "\n",
    "model_scoring(lda_model, bow_corpus, tokenized_docs, dictionary)"
   ]
  },
  {
   "cell_type": "code",
   "execution_count": 37,
   "id": "divided-cleaners",
   "metadata": {},
   "outputs": [
    {
     "name": "stdout",
     "output_type": "stream",
     "text": [
      "Coherence Score:  0.37043040018592643\n"
     ]
    }
   ],
   "source": [
    "lsi_model = LsiModel(corpus=bow_corpus, num_topics=NUM_TOPICS, id2word=dictionary)\n",
    "\n",
    "model_scoring(lsi_model, bow_corpus, tokenized_docs, dictionary)"
   ]
  },
  {
   "cell_type": "code",
   "execution_count": 38,
   "id": "manual-praise",
   "metadata": {},
   "outputs": [
    {
     "name": "stdout",
     "output_type": "stream",
     "text": [
      "Coherence Score:  0.3401150862013183\n"
     ]
    }
   ],
   "source": [
    "nmf_model = Nmf(corpus=bow_corpus, num_topics=NUM_TOPICS, id2word=dictionary, random_state=42)\n",
    "\n",
    "model_scoring(nmf_model, bow_corpus, tokenized_docs, dictionary)"
   ]
  },
  {
   "cell_type": "markdown",
   "id": "announced-taylor",
   "metadata": {},
   "source": [
    "**Results**:  Based on the above, each of the models performe approximately the same with the `LSI` model slightly on top.  We will continue with the `LDA` model however."
   ]
  },
  {
   "cell_type": "markdown",
   "id": "featured-sphere",
   "metadata": {},
   "source": [
    "## Find the Best Number of Topics\n",
    "\n",
    "Utilizing the `c_v` coherence value, loop through a range of topic numbers to find the number with the highest value.  We'll plot this as well to visualize the results."
   ]
  },
  {
   "cell_type": "code",
   "execution_count": 39,
   "id": "parliamentary-guarantee",
   "metadata": {},
   "outputs": [],
   "source": [
    "def compute_coherence_values(dictionary, corpus, texts, cohere, limit, start=2, step=3):\n",
    "    \"\"\"\n",
    "    Compute c_v coherence for various number of topics\n",
    "\n",
    "    Parameters:\n",
    "    ----------\n",
    "    dictionary : Gensim dictionary\n",
    "    corpus : Gensim corpus\n",
    "    texts : List of input texts\n",
    "    limit : Max num of topics\n",
    "\n",
    "    Returns:\n",
    "    -------\n",
    "    model_list : List of LDA topic models\n",
    "    coherence_values : Coherence values corresponding to the LDA model with respective number of topics\n",
    "    \"\"\"\n",
    "    coherence_values = []\n",
    "    model_list = []\n",
    "    for num_topics in range(start, limit, step):\n",
    "        model = LdaModel(corpus=corpus, id2word=dictionary, num_topics=num_topics, random_state=42)\n",
    "        model_list.append(model)\n",
    "        coherencemodel = CoherenceModel(model=model, texts=texts, dictionary=dictionary, coherence=cohere)\n",
    "        coherence_values.append(coherencemodel.get_coherence())\n",
    "\n",
    "    return model_list, coherence_values"
   ]
  },
  {
   "cell_type": "code",
   "execution_count": 40,
   "id": "dynamic-corner",
   "metadata": {},
   "outputs": [],
   "source": [
    "model_list, coherence_values = compute_coherence_values(dictionary=dictionary, \n",
    "                                                        corpus=bow_corpus, \n",
    "                                                        texts=tokenized_docs, \n",
    "                                                        cohere='c_v', \n",
    "                                                        start=2, \n",
    "                                                        limit=20, \n",
    "                                                        step=1)"
   ]
  },
  {
   "cell_type": "code",
   "execution_count": 41,
   "id": "described-plenty",
   "metadata": {},
   "outputs": [
    {
     "data": {
      "image/png": "[encoded data removed]",
      "text/plain": [
       "<Figure size 432x288 with 1 Axes>"
      ]
     },
     "metadata": {
      "needs_background": "light"
     },
     "output_type": "display_data"
    }
   ],
   "source": [
    "# Show graph\n",
    "limit=20; start=2; step=1;\n",
    "x = range(start, limit, step)\n",
    "plt.plot(x, coherence_values)\n",
    "plt.xlabel(\"Num Topics\")\n",
    "plt.ylabel(\"Coherence score\")\n",
    "plt.legend((\"c_v\"), loc='best')\n",
    "plt.show()"
   ]
  },
  {
   "cell_type": "markdown",
   "id": "adaptive-manitoba",
   "metadata": {},
   "source": [
    "**Conclusion**:  \n",
    "\n",
    " - **Best Model**:  The best performing model with default parameters was the **Latent Dirichlet Allocation** method.  \n",
    " - **Best Number of Topics**: According to the the Coherence measure, there are a number of potential topic candidates.  There appears to be one at `8` and at `13`.\n",
    " \n",
    "**Note:** We know from the dataset, there are `8` product categories. There isn't a correct answer with the number of topics therefore we can use `8` or `13`.  When you have a high number of topics, you risk words appearing in more than one resulting in overlapping topics."
   ]
  },
  {
   "cell_type": "markdown",
   "id": "boring-market",
   "metadata": {},
   "source": [
    "## Topic Visualization\n",
    "\n",
    "Based on the above coherence score, we will try to run the vizualzation with `6` topics.\n",
    "\n",
    "https://towardsdatascience.com/evaluate-topic-model-in-python-latent-dirichlet-allocation-lda-7d57484bb5d0"
   ]
  },
  {
   "cell_type": "code",
   "execution_count": 42,
   "id": "valued-summit",
   "metadata": {},
   "outputs": [],
   "source": [
    "NUM_TOPICS = 8"
   ]
  },
  {
   "cell_type": "code",
   "execution_count": 43,
   "id": "sealed-sunrise",
   "metadata": {},
   "outputs": [],
   "source": [
    "# Build LDA model\n",
    "model = LdaModel(corpus=bow_corpus, id2word=dictionary, num_topics=NUM_TOPICS, random_state=42)"
   ]
  },
  {
   "cell_type": "code",
   "execution_count": 44,
   "id": "spoken-blade",
   "metadata": {},
   "outputs": [
    {
     "data": {
      "text/html": [
       "\n",
       "<link rel=\"stylesheet\" type=\"text/css\" href=\"https://cdn.jsdelivr.net/gh/bmabey/pyLDAvis@3.3.1/pyLDAvis/js/ldavis.v1.0.0.css\">\n",
       "\n",
       "\n",
       "<div id=\"ldavis_el8821450996014725536938080\"></div>\n",
       "<script type=\"text/javascript\">\n",
       "\n",
       "var ldavis_el8821450996014725536938080_data = {\"mdsDat\": {\"x\": [0.16631920481586382, 0.0020225652512455812, 0.05912634833322442, -0.09465853607482172, -0.02661579580784186, -0.05191906784365745, -0.1386858916370286, 0.08441117296301591], \"y\": [-0.033603463821622916, -0.023381978791715448, 0.010145065898352025, -0.06952647190939677, -0.10332049390512404, -0.01654660860628339, 0.11248354346250225, 0.12375040767328804], \"topics\": [1, 2, 3, 4, 5, 6, 7, 8], \"cluster\": [1, 1, 1, 1, 1, 1, 1, 1], \"Freq\": [4.025920589286269, 16.137265381533496, 14.873731028044848, 12.58418529102813, 12.483545054499386, 12.557087665069403, 7.1728443235080945, 20.165420667030375]}, \"tinfo\": {\"Term\": [\"dress\", \"sweater\", \"top\", \"size\", \"skirt\", \"jean\", \"small\", \"im\", \"large\", \"fit\", \"beautiful\", \"pant\", \"run\", \"lb\", \"petite\", \"perfect\", \"6\", \"color\", \"ordered\", \"love\", \"medium\", \"picture\", \"shirt\", \"waist\", \"great\", \"x\", \"coat\", \"4\", \"like\", \"pair\", \"sock\", \"46\", \"honey\", \"meaning\", \"block\", \"wary\", \"cable\", \"greenish\", \"nature\", \"washer\", \"cashmere\", \"drink\", \"border\", \"garden\", \"floor\", \"city\", \"artsy\", \"flipped\", \"strappy\", \"base\", \"creative\", \"knot\", \"femininity\", \"lilac\", \"misleading\", \"dragging\", \"substance\", \"accommodates\", \"ribbon\", \"accidentally\", \"thankfully\", \"fancy\", \"exposed\", \"important\", \"wool\", \"metallic\", \"theory\", \"stopped\", \"sz\", \"disappointment\", \"itchy\", \"pure\", \"sweater\", \"skirt\", \"coat\", \"swimsuit\", \"bring\", \"pencil\", \"thrilled\", \"yarn\", \"burgundy\", \"picture\", \"double\", \"beautiful\", \"unique\", \"received\", \"justice\", \"shown\", \"cropped\", \"design\", \"pattern\", \"make\", \"detail\", \"adorable\", \"pretty\", \"quality\", \"love\", \"really\", \"back\", \"like\", \"look\", \"long\", \"pant\", \"wearing\", \"doesnt\", \"color\", \"even\", \"also\", \"soft\", \"im\", \"hei\", \"contrast\", \"relatively\", \"sparkle\", \"ripped\", \"offtheshoulder\", \"horrible\", \"bunching\", \"armpit\", \"slide\", \"intricate\", \"service\", \"caused\", \"wondering\", \"checked\", \"measure\", \"pushed\", \"regarding\", \"adjustment\", \"slinky\", \"meadow\", \"college\", \"xspetite\", \"scream\", \"rue\", \"carrying\", \"butterfly\", \"undecided\", \"bare\", \"nylon\", \"camisole\", \"creates\", \"gathered\", \"cami\", \"mock\", \"top\", \"seamstress\", \"hole\", \"sheer\", \"washing\", \"jumper\", \"imo\", \"blouse\", \"button\", \"shirt\", \"underneath\", \"nude\", \"cute\", \"shoulder\", \"arm\", \"lace\", \"bottom\", \"bra\", \"scratchy\", \"tank\", \"front\", \"xl\", \"back\", \"white\", \"see\", \"wear\", \"fit\", \"fabric\", \"one\", \"look\", \"little\", \"like\", \"sleeve\", \"loose\", \"would\", \"retailer\", \"size\", \"pretty\", \"love\", \"im\", \"bought\", \"really\", \"bit\", \"great\", \"color\", \"well\", \"small\", \"beautiful\", \"shower\", \"trench\", \"shimmer\", \"break\", \"chemise\", \"robe\", \"hte\", \"duster\", \"meh\", \"elasticized\", \"henley\", \"purpose\", \"spending\", \"dolman\", \"bridal\", \"potato\", \"challenge\", \"rating\", \"adn\", \"ti\", \"checking\", \"investment\", \"jsut\", \"visual\", \"ta\", \"tab\", \"dusty\", \"cheaper\", \"accurately\", \"earring\", \"charming\", \"stayed\", \"boring\", \"interest\", \"kimono\", \"coverup\", \"pjs\", \"265\", \"basic\", \"rose\", \"tone\", \"nice\", \"color\", \"skin\", \"tee\", \"tshirt\", \"price\", \"feel\", \"shirt\", \"soft\", \"long\", \"like\", \"yellow\", \"sleeve\", \"fabric\", \"look\", \"longer\", \"good\", \"little\", \"really\", \"love\", \"length\", \"great\", \"bit\", \"comfortable\", \"back\", \"material\", \"looking\", \"keep\", \"cute\", \"would\", \"perfect\", \"flattering\", \"pant\", \"fit\", \"quality\", \"cut\", \"beautiful\", \"wear\", \"dress\", \"nervous\", \"measurement\", \"fab\", \"precious\", \"fussy\", \"127\", \"specifically\", \"convinced\", \"rounder\", \"backwards\", \"push\", \"debated\", \"effort\", \"desired\", \"moo\", \"reorder\", \"bustline\", \"depicted\", \"flowed\", \"undershirt\", \"padding\", \"reaching\", \"overwhelm\", \"bed\", \"def\", \"profile\", \"necessarily\", \"tha\", \"depicts\", \"board\", \"giant\", \"grandma\", \"dart\", \"exchanging\", \"xx\", \"sorry\", \"large\", \"xsp\", \"medium\", \"prettier\", \"petite\", \"x\", \"create\", \"small\", \"big\", \"run\", \"xxsp\", \"shaped\", \"ordered\", \"usually\", \"huge\", \"regular\", \"felt\", \"read\", \"ran\", \"chest\", \"much\", \"review\", \"person\", \"im\", \"ended\", \"thought\", \"bust\", \"size\", \"tried\", \"length\", \"agree\", \"looked\", \"online\", \"model\", \"would\", \"didnt\", \"fit\", \"found\", \"like\", \"little\", \"top\", \"color\", \"short\", \"love\", \"fabric\", \"think\", \"pretty\", \"material\", \"level\", \"shift\", \"lean\", \"byron\", \"lars\", \"sucker\", \"99\", \"minimal\", \"graduation\", \"accentuated\", \"dance\", \"unfortunate\", \"backside\", \"cheaply\", \"cleaner\", \"shouldered\", \"instagram\", \"pucker\", \"original\", \"appealing\", \"promo\", \"smallchested\", \"deciding\", \"cocktail\", \"golden\", \"makeup\", \"promotion\", \"toned\", \"pointed\", \"dressit\", \"compelled\", \"breaker\", \"sparkly\", \"16\", \"cinched\", \"silver\", \"rough\", \"awful\", \"0p\", \"poor\", \"unflattering\", \"dress\", \"cheap\", \"slip\", \"waisted\", \"instore\", \"polyester\", \"sad\", \"helped\", \"made\", \"flatter\", \"strange\", \"figure\", \"unfortunately\", \"hourglass\", \"high\", \"money\", \"curve\", \"beautiful\", \"would\", \"look\", \"looked\", \"wedding\", \"disappointed\", \"gorgeous\", \"shape\", \"quality\", \"fabric\", \"cut\", \"make\", \"like\", \"stunning\", \"way\", \"waist\", \"fit\", \"material\", \"work\", \"didnt\", \"neckline\", \"body\", \"right\", \"could\", \"im\", \"flattering\", \"tried\", \"really\", \"also\", \"well\", \"pretty\", \"think\", \"love\", \"back\", \"short\", \"goddess\", \"bulge\", \"hd\", \"zipped\", \"known\", \"fat\", \"cape\", \"boat\", \"sacklike\", \"peasant\", \"6p\", \"flap\", \"willing\", \"cuffed\", \"transparent\", \"impossible\", \"glass\", \"hoodie\", \"breathtaking\", \"g\", \"lo\", \"hardly\", \"broke\", \"adored\", \"shes\", \"wrinkly\", \"undertone\", \"116\", \"written\", \"impression\", \"swallowed\", \"6\", \"receiving\", \"zip\", \"maeve\", \"0\", \"fully\", \"00\", \"4\", \"xsmall\", \"compared\", \"zipper\", \"2\", \"8\", \"ft\", \"24\", \"dress\", \"size\", \"busted\", \"10\", \"small\", \"order\", \"review\", \"run\", \"one\", \"get\", \"print\", \"ordered\", \"fit\", \"skirt\", \"wear\", \"usually\", \"beautiful\", \"normally\", \"im\", \"sizing\", \"try\", \"love\", \"would\", \"really\", \"like\", \"waist\", \"fabric\", \"cute\", \"color\", \"great\", \"look\", \"petite\", \"back\", \"cross\", \"example\", \"mark\", \"thanksgiving\", \"ag\", \"happier\", \"missed\", \"bird\", \"sport\", \"hippy\", \"horribly\", \"swim\", \"puff\", \"112\", \"accommodate\", \"122\", \"restrictive\", \"rounded\", \"delivered\", \"sheath\", \"28\", \"stevie\", \"advised\", \"laughing\", \"butter\", \"midrise\", \"hopeful\", \"usa\", \"138lbs\", \"te\", \"ar\", \"rise\", \"knowing\", \"38\", \"inner\", \"26\", \"27\", \"32\", \"coh\", \"125\", \"suit\", \"thigh\", \"calf\", \"zero\", \"25\", \"ankle\", \"120\", \"lb\", \"currently\", \"butt\", \"leg\", \"pilcro\", \"stretch\", \"jean\", \"5\", \"size\", \"54\", \"im\", \"53\", \"fit\", \"denim\", \"130\", \"waist\", \"pant\", \"small\", \"hip\", \"perfectly\", \"perfect\", \"ordered\", \"long\", \"like\", \"wear\", \"great\", \"large\", \"run\", \"length\", \"tight\", \"bought\", \"pair\", \"love\", \"60\", \"drawstring\", \"asked\", \"suede\", \"quick\", \"sag\", \"die\", \"heat\", \"citizen\", \"floaty\", \"flop\", \"flip\", \"sister\", \"shimmery\", \"suitable\", \"living\", \"public\", \"moth\", \"highquality\", \"bustier\", \"bone\", \"changed\", \"unravel\", \"hat\", \"august\", \"impractical\", \"ask\", \"affordable\", \"transitioning\", \"skimming\", \"goto\", \"cooler\", \"knitted\", \"strong\", \"boot\", \"fallwinter\", \"winter\", \"versatile\", \"wardrobe\", \"dressed\", \"closet\", \"booty\", \"worn\", \"staple\", \"weather\", \"casually\", \"night\", \"warmer\", \"favorite\", \"paired\", \"legging\", \"compliment\", \"spring\", \"new\", \"fall\", \"tights\", \"season\", \"pair\", \"stylish\", \"jean\", \"love\", \"jacket\", \"great\", \"comfortable\", \"perfect\", \"black\", \"wore\", \"casual\", \"day\", \"year\", \"wear\", \"summer\", \"comfy\", \"bought\", \"sweater\", \"soft\", \"many\", \"pant\", \"super\", \"piece\", \"color\", \"flattering\", \"fit\", \"well\", \"look\", \"dress\", \"top\", \"one\", \"cute\", \"got\", \"size\"], \"Freq\": [13304.0, 3422.0, 9512.0, 9923.0, 2756.0, 2850.0, 5223.0, 6139.0, 3230.0, 10633.0, 4538.0, 2439.0, 3306.0, 1426.0, 2789.0, 4511.0, 1053.0, 7314.0, 3767.0, 11220.0, 2312.0, 1281.0, 2704.0, 2572.0, 7642.0, 2170.0, 587.0, 1081.0, 7466.0, 1303.0, 117.69949887952319, 99.96081205199349, 85.2071220567539, 35.171414095132555, 33.87780548760381, 31.054425904880524, 28.997303209237348, 41.14054267153047, 40.170389864763436, 26.46072383034082, 82.13567005511042, 26.93701858275721, 23.143521400344078, 46.92693310510384, 58.11518898131541, 24.946148900271528, 21.435961391461106, 21.658054340471665, 24.804388442238608, 19.916024926494355, 20.801620393021214, 19.61210234746193, 19.530500725178047, 23.180388239742157, 30.735540318043284, 18.092940438193313, 17.28979826991279, 16.425652296030727, 50.20088950862157, 15.60854130074407, 36.16626550481057, 71.22534555232926, 47.96764760066516, 36.348105028903085, 151.84537440588986, 77.71102565911659, 33.795772997756245, 52.02052873294067, 42.735352853983265, 80.63822923593919, 179.63741194690004, 35.670358733873094, 1263.9306911624774, 1062.6384857210642, 279.10899316040184, 54.22123594852059, 69.94330498444793, 80.31685232925905, 65.75179850053671, 60.331303484483705, 62.67533703476766, 275.8613850628405, 56.317019367970936, 457.409059250741, 206.8937922503003, 163.03190345879173, 83.57549868378254, 98.56599483324221, 93.08044384465612, 169.93749334561545, 149.49548642162782, 178.56145684360123, 151.09324393939946, 120.3297022592995, 185.67975112551878, 170.51818881758604, 254.07779402080953, 182.80844968116043, 173.06068969156007, 212.39151482842846, 207.09696055705865, 157.0226522266196, 151.36525717080735, 134.60128330480424, 123.18443961210471, 171.2723311170586, 132.61410198278585, 126.59000342320539, 131.1274781189487, 127.31260018151767, 89.70060128393897, 80.21475034158767, 79.25410603681952, 78.40640636923641, 90.2171212282072, 57.32451400367776, 47.34440679189574, 46.28417739886407, 89.69593081789246, 40.158538614311915, 40.31349392558288, 38.73676474856805, 38.64176276511563, 38.22484470934849, 34.828364198667366, 34.08808525015385, 33.86705124444364, 33.58668215965771, 32.81654246887421, 31.134583323769863, 30.150250684017642, 31.52447987741759, 29.150065340087426, 29.19496901508418, 28.415155747503636, 28.900181966409374, 28.337535289848745, 37.531915550422994, 31.725323357607344, 26.814791996264987, 137.91286802851064, 43.56480022331057, 54.57564569108098, 390.2907006614793, 58.60682237719697, 6265.90305415256, 38.71750831625689, 376.4212578093994, 530.087009724312, 151.3261239495101, 46.480840979944574, 52.08012160110319, 570.4201061671001, 523.1524630207429, 1206.751119440718, 404.0759541630116, 124.44384875894441, 1645.250652878208, 753.9782116790279, 669.6528464079635, 446.7317036111541, 705.4361159502427, 398.1444488437608, 132.05750138596042, 351.4196818543831, 537.4611581644252, 205.87911620024178, 929.5042983276934, 559.4322669446682, 543.8132607914727, 1289.1609888241628, 1755.5118217154904, 1111.4130774759872, 860.181464572066, 1263.6278533521988, 894.0299918745569, 1287.1749588190983, 624.2437127433635, 404.4988094227386, 852.7002246975397, 546.4698487591045, 1104.7750213651832, 605.7344743585003, 1083.6390859953856, 839.1088593778402, 634.6180879306108, 656.5296297884995, 598.6603109605683, 717.7127081173285, 687.4619046513628, 596.1270501769442, 570.630525782709, 551.1761194719339, 73.62412713927195, 70.7399791358835, 73.63932701213632, 56.33339221979501, 52.47127423828815, 51.033845674510914, 56.129383168232636, 51.09592420987491, 42.30381046329745, 40.836437406707326, 42.8102282323798, 65.6547854839236, 38.03148792588627, 36.45687648346181, 38.22638882217274, 39.71923436334101, 36.10182566346655, 34.93926456427878, 44.27721416914351, 34.18564446188193, 29.160562776567833, 37.604946913307195, 29.239268882716026, 29.88343317691285, 28.135361082668126, 31.895174133408492, 27.09769722731645, 28.425434614039194, 24.4262359535193, 27.869775203036795, 74.47435376859045, 31.932362412413273, 62.79510964748184, 54.2019600068889, 157.76270129634736, 86.96843247600735, 36.749083819316084, 72.77691075372366, 261.35317958239176, 64.05762818280871, 104.88363193595448, 1711.1525816960677, 2732.391778991758, 231.3584417129879, 406.5893646268272, 208.84558421351, 602.65407318376, 842.9816291188383, 945.4810488861133, 1130.8332785038, 898.8521499045848, 1908.1034911535482, 147.95156119134117, 769.3254484579393, 1295.9490390796766, 1544.8326245094327, 311.76730525702504, 671.6435584037647, 999.2312679282028, 899.9827132274005, 1809.6441901609246, 738.7421645740393, 1352.4277529853496, 745.4309014557707, 805.6288892239616, 722.4172285853383, 676.3473677966573, 391.02590882147854, 312.7653187512759, 791.628654247265, 843.3513812013616, 781.4878243163316, 715.6586243173355, 540.646272354449, 1011.603146842734, 520.7692982682413, 463.0480845677053, 574.4347349713872, 586.5776867053694, 604.3189485818701, 75.96105442386406, 75.49176472903386, 40.317178619780194, 34.04203057131866, 33.44270113229394, 33.73311248468984, 30.395320907548637, 28.925326002774494, 28.882739290118717, 32.04811926984712, 30.181965486105863, 42.25559330068634, 23.495154616095288, 24.31764702381379, 21.936722780772847, 24.641429715186124, 20.589230508339764, 20.622721068101644, 20.997185694473327, 21.702485380217894, 20.013057414180324, 20.170174687974605, 36.417773295607574, 18.641981698243992, 34.37224594463094, 18.84815111959703, 18.671097772263003, 18.755527050254422, 18.98932425098619, 17.31274068693217, 53.78523894329605, 37.550816197632535, 27.60548640197205, 34.31659210984298, 351.5556318832333, 39.799962169201095, 1819.1013696506761, 89.01587716336819, 1210.7740575830526, 114.32404453574077, 1386.9185494964315, 1106.0828009685135, 51.2648119699807, 2177.0908154162576, 1020.5377212348134, 1416.57158345214, 83.23540890668109, 80.0115478563956, 1370.368042315827, 774.9165331524732, 330.884728586271, 499.81361173133115, 360.15162344946407, 143.62877562183104, 171.4026279752219, 409.81735715699665, 913.5781358933157, 484.000250597489, 511.92279616258173, 1448.6922518452268, 203.83125806841682, 410.97470537783016, 394.92707409047006, 1877.432457839435, 629.3069002501177, 747.6547484838725, 195.03474500177865, 458.5323430940424, 497.1238231165208, 462.1263021456678, 976.0581703012505, 523.7024595833363, 1460.3844622344427, 380.70681707861854, 1176.2057104779055, 783.3341599427301, 1187.646294263432, 752.8638635724403, 527.52163324926, 747.5638577013336, 611.4743215654452, 494.5512953498474, 509.08333960788957, 507.9468694358127, 68.7601238009758, 69.82718627439708, 66.35105199546663, 60.14344136034938, 61.660101653199746, 40.9169339923801, 39.315651472499994, 39.667739824402574, 34.92824269093793, 38.49633177161401, 32.152705904403994, 36.00129910880969, 31.473625268972473, 30.6880416500566, 30.51633307659596, 34.9804388741602, 31.915760549582238, 27.751151829823865, 27.025609027413704, 30.953727266712356, 28.594468102768413, 26.86856560338487, 25.604859643617594, 53.67023608344877, 24.465113445708294, 24.11829383855904, 23.378260038615682, 26.2244817017268, 22.380536013659995, 21.692720490836493, 28.516143936191217, 68.36553198868528, 29.443866695753798, 36.45160653224357, 44.2476982230524, 86.74391181260077, 63.06342804928913, 82.63956224904189, 90.58237041622047, 191.8839305528258, 245.84581648151493, 5788.793638711645, 251.45190645884966, 303.47175438557576, 150.2827849422105, 65.38345364968758, 78.91196822421787, 144.73500206024167, 50.98995518688778, 748.021061032476, 89.58744841733488, 130.72091040388682, 297.61908611407256, 307.96408318784233, 148.7855984706191, 426.8322673582972, 96.71738310315796, 172.80739396237635, 1092.7029146371185, 1176.427744731191, 1420.6326656340982, 461.2903051215651, 168.37167752356683, 267.55614320944403, 479.2149958560753, 380.38812900008645, 615.0179601779834, 955.2444779627613, 520.2920534217357, 551.3336364223713, 1128.9489673440844, 220.24118297543734, 535.828482202979, 579.1291943870574, 1273.7265664388683, 612.3438187856686, 563.1810393261264, 442.1005749955864, 238.39612851272435, 334.99358074123086, 425.1281780340345, 392.633825093798, 682.2096511858637, 562.349976068854, 424.05536075011304, 519.1734471848914, 437.3185198168103, 472.1276062191533, 437.5127797614993, 396.27469147311666, 495.9068367082562, 414.4485389896075, 396.5626503378194, 51.37747936109121, 60.34639733704172, 46.63856800080068, 42.83846091671893, 41.301968098030144, 40.442715485200566, 40.66923614056717, 41.39805707393395, 37.16139108515141, 43.44577901208876, 38.76951334477679, 33.940733129767594, 33.615101026832605, 32.91942792717126, 32.27849398561507, 43.253302996466466, 33.75509950890845, 29.864268597587003, 30.923370383559714, 30.200821863275394, 28.695557765660727, 27.792058363921456, 30.414460409739437, 27.945759937687647, 37.600684856081564, 26.270876612765324, 26.551595205099908, 25.78469531211127, 26.865961018759243, 28.209609163949704, 59.614138211426756, 916.516319153098, 43.463430142026084, 198.85332625074733, 132.77961702720168, 342.06173598464824, 60.802795787582305, 61.39639771828746, 773.5299408151795, 107.27295773309295, 72.48340422400932, 286.18888954580274, 711.4172068540083, 456.6061957902181, 52.324135265681235, 86.60782741855782, 4995.189765659903, 3462.8089307745417, 77.62807456148447, 227.07220938268514, 1185.2247176808817, 354.0133837832176, 443.4101472529597, 784.6821710044175, 766.1145314413028, 522.1611171005414, 350.67076020654565, 702.1504133142155, 1311.5120760309553, 572.2025384853368, 937.0972385962035, 444.5931154706878, 674.6890515234836, 270.065854348459, 757.8935758477297, 246.0062896453962, 309.35915732643593, 976.5932668016757, 628.9522991253288, 510.2322476524408, 683.2804010840898, 416.47927630206834, 549.6043231445269, 506.92463873020824, 569.3699491582773, 522.5865221435458, 509.12424509869766, 419.5015806325721, 424.959014037054, 82.68503942522838, 53.84451250840209, 50.135785400524476, 45.886770659457106, 115.21399969454946, 48.964139143878974, 35.99933880334337, 33.3387151610259, 33.95964911473097, 34.3772691511726, 31.42872449397339, 43.51452205775263, 30.82372027201054, 33.03480766118554, 66.29572013653929, 29.22347073804283, 29.171634142382885, 27.46070986239741, 27.90224092501502, 60.90823886134518, 259.7561977334823, 26.17400990103659, 27.05514839093672, 24.024620725625223, 23.97391620728204, 27.313847473391277, 23.630668273931292, 27.696220775432348, 24.92856803449846, 21.359521046740017, 23.674979094394438, 152.86908969049585, 39.81437065957536, 38.3380462541509, 57.122924781431095, 225.00669319692585, 173.15247416978173, 82.66276229428267, 38.38443454103571, 154.59756564940827, 348.74820417602814, 227.8059291027906, 114.24813163956405, 58.66697668310964, 99.41909567244609, 270.6152506285183, 157.20073412764143, 722.4956386214993, 76.29374907637464, 111.0819593065211, 368.45074636848386, 204.07512724603643, 396.5887998946842, 958.3068538335276, 305.46055459437093, 1925.55638963871, 300.8837601584353, 1332.8013278795618, 246.37077839706959, 1666.2308472593747, 275.23197543271385, 103.17719210457561, 569.1431429557113, 543.5252906793788, 794.5259606268505, 287.2314453803142, 345.6201102641833, 554.6425169428647, 475.12172621534427, 387.31675809913594, 556.0255749046516, 494.59560671188206, 518.0154965270866, 369.9017409173222, 366.4613967828251, 347.10365128912576, 298.67114939345146, 304.9354857842126, 264.4682918373338, 290.33062502190495, 78.40807942645085, 74.19924259879465, 71.4971955222149, 63.88128664840064, 47.03498053095681, 49.08253491384609, 41.27821014072234, 64.6016329536428, 38.07719725297478, 48.761047189051546, 49.05079216305989, 47.27984898110234, 31.902373575253122, 29.922123481216666, 30.67215513673111, 29.58936624013771, 29.885820859087374, 29.95882078834251, 27.320460754609975, 28.06335658936236, 26.779072604478113, 26.458598884222575, 27.332150148550287, 25.760357038175375, 25.467435689700128, 25.243063567327454, 25.083824966326592, 24.99932248868802, 29.302614993815947, 25.15934626090542, 136.04064602907934, 109.90940056050427, 32.539531619919686, 34.81318592173568, 559.6919103758119, 66.62519552727383, 379.8472591730484, 577.0101841711489, 368.06351032590027, 509.48327618516606, 179.34667630286356, 210.63745398514143, 914.5202051834292, 322.82505192369854, 320.38421913440857, 47.85537108527076, 279.2863254530134, 115.14398170642299, 608.8160173763688, 231.33550777900297, 718.4079148510331, 767.0332407865908, 387.5632332898173, 472.65788957916806, 1069.4365855944363, 171.68421139456288, 306.1401887649491, 873.5062198527894, 312.6642477823556, 1713.0805475921456, 5562.674621127419, 794.6007281624976, 3803.3668200485286, 1881.2491401689467, 2288.0395118484694, 1113.6339153610631, 605.3474920364929, 742.9686079477063, 714.7261588423838, 489.08568684186804, 2544.616334404363, 952.0075541066161, 729.359869266733, 1355.9890450387913, 1435.1161649509745, 1457.1178884810931, 651.555128839154, 1075.431229273069, 952.3243769906536, 766.0296324183474, 2021.502788212029, 1355.2863377938736, 2041.18463730797, 1143.7437787385634, 1534.2727254777606, 1597.2277704147943, 1297.414298168978, 830.9198766763276, 819.2281986015656, 755.1160380252907, 791.487990353127], \"Total\": [13304.0, 3422.0, 9512.0, 9923.0, 2756.0, 2850.0, 5223.0, 6139.0, 3230.0, 10633.0, 4538.0, 2439.0, 3306.0, 1426.0, 2789.0, 4511.0, 1053.0, 7314.0, 3767.0, 11220.0, 2312.0, 1281.0, 2704.0, 2572.0, 7642.0, 2170.0, 587.0, 1081.0, 7466.0, 1303.0, 118.63351925331567, 100.8345087699187, 86.09884649015173, 36.07796902214544, 34.75467566721925, 31.946910746881837, 29.88557228965192, 42.41701608744219, 41.42945306938084, 27.352636051969192, 84.9328258475444, 27.868698780953697, 24.0207979196112, 48.74377579139748, 60.39827005615831, 25.937845052464358, 22.307005182878683, 22.54992307710269, 25.867197850084686, 20.786620424590975, 21.72324992063669, 20.48235099288641, 20.419227783911438, 24.235626126269448, 32.265814264101095, 19.00387513917185, 18.201775671177778, 17.31251740287068, 52.95135442616226, 16.47976469231876, 38.216329965651475, 77.94450948176733, 51.94472484813052, 39.07246228654481, 174.30595921791576, 86.51191356545493, 36.33783989633358, 58.1875037924415, 47.406502489841266, 97.47243590185253, 245.46725615470314, 39.73889219971857, 3422.5798551897533, 2756.2143202256816, 587.6125121908208, 72.34893869129918, 104.08404393923918, 136.06387531959737, 101.99319216271937, 91.26205484575529, 102.57546033322987, 1281.6061596803047, 87.4203750424672, 4538.7800624110105, 1046.3411147348122, 831.3516123385516, 205.3487445972296, 348.0601233941678, 308.85746102318365, 1718.7012623375253, 1211.5217122535994, 2187.2669793171335, 1402.726324595823, 736.8188313247592, 2801.264688154159, 2510.9898924143135, 11220.43027753771, 3658.7602661653746, 3242.787953350421, 7466.984633869148, 7050.842907702183, 2629.7511547786694, 2439.3311700996874, 1471.1736466712705, 1062.4338581881318, 7314.695241955027, 2224.9979374607583, 2543.269042536928, 3548.2752921730444, 6139.754025002854, 90.63005505690325, 81.07567145147489, 80.11839440509138, 79.26834969980638, 91.29653754593454, 58.253312725911236, 48.21570074578498, 47.14659286406909, 91.5598764737894, 41.01976722322803, 41.189954536010866, 39.59840836326089, 39.502972767770444, 39.10493872581232, 35.68954213264425, 34.95006976323574, 34.72940916770694, 34.44933489827447, 33.67799046335309, 31.998935296311256, 31.03015974563866, 32.46502512635384, 30.02064278569607, 30.07424540357285, 29.29499438159505, 29.79811597054184, 29.233661559316584, 38.73909353273171, 32.75355002909987, 27.685556860744228, 144.52423932352147, 45.413432805022914, 57.653227724591645, 458.24736320751873, 63.066410539968466, 9512.025088742135, 40.931815446404485, 514.4956378900382, 787.226967630702, 189.4532130218255, 50.3015767976581, 57.343538557567335, 1008.5017528923992, 933.3364109137661, 2704.752290075905, 716.466409265266, 169.87985517567276, 4302.414519358283, 1654.213987047151, 1430.9964058506132, 867.6041745552627, 1562.1659162384778, 785.7637632742669, 196.08651527272963, 748.9772890753719, 1331.93747100777, 380.9886975749982, 3242.787953350421, 1578.115462600372, 1605.7874813890191, 6531.747598667169, 10633.414926326275, 5222.981763151841, 3684.4888680810627, 7050.842907702183, 4038.2498634338463, 7466.984633869148, 2306.8717831289123, 1119.8961264569894, 5088.60223885615, 2251.136364458598, 9923.623101384013, 2801.264688154159, 11220.43027753771, 6139.754025002854, 3154.9227870073655, 3658.7602661653746, 3032.6182914255355, 7642.692144220397, 7314.695241955027, 3507.528782845825, 5223.406608675688, 4538.7800624110105, 74.49034259952505, 71.74172378155157, 74.68693658877692, 57.20104732885575, 53.33583835077081, 51.94837020515282, 57.16925863853309, 52.07207019953575, 43.16852047007302, 41.73574850991396, 43.75876341497138, 67.13976153184161, 38.90042616805108, 37.333904357394005, 39.1550398769651, 40.69407752967076, 36.991849355926966, 35.80450819437709, 45.422525304682736, 35.13552481874123, 30.031390896816102, 38.72954465387572, 30.129381203599227, 30.79351929920768, 29.00264894341704, 32.90161237534696, 27.966948677510302, 29.36445496971585, 25.29346589736706, 28.887403388871835, 78.50976495789338, 33.1716429009774, 66.68971038982141, 57.712594323767846, 178.68129762039865, 96.14510725823862, 38.53209212653241, 81.65371339829741, 335.7897261898881, 72.30305535805596, 128.24468577828517, 3512.492931316794, 7314.695241955027, 390.78092096475467, 815.00372166602, 353.27595267339285, 1428.4490552381635, 2223.286025026112, 2704.752290075905, 3548.2752921730444, 2629.7511547786694, 7466.984633869148, 235.1187727166687, 2306.8717831289123, 5222.981763151841, 7050.842907702183, 710.171034845843, 2175.469280048998, 4038.2498634338463, 3658.7602661653746, 11220.43027753771, 2891.799202213747, 7642.692144220397, 3032.6182914255355, 3435.712295083841, 3242.787953350421, 3007.7163223200637, 1216.5733897784542, 844.8085632181402, 4302.414519358283, 5088.60223885615, 4511.6305371783465, 4116.387925339431, 2439.3311700996874, 10633.414926326275, 2510.9898924143135, 1986.6903850673855, 4538.7800624110105, 6531.747598667169, 13304.35191387024, 77.18117245746954, 77.02115998075135, 41.181831078757654, 34.92125752773689, 34.31293231420582, 34.617526804071396, 31.329475723534436, 29.822987691430345, 29.805791406659022, 33.16945302127298, 31.25534016363886, 43.75835634516699, 24.362957146070496, 25.23294168024295, 22.809301787994066, 25.664123701954104, 21.454594717568547, 21.490399311924836, 21.88309124513725, 22.637292322839983, 20.875818852252507, 21.040927315580003, 38.01218061648637, 19.509436316981382, 36.00565400889984, 19.749790705714204, 19.565983565372505, 19.65825375445626, 19.905583521191023, 18.178761565102608, 57.287019020515984, 39.750416713343355, 29.785872410285855, 37.69675298172673, 477.3294194541467, 44.667774111511, 3230.389695361115, 112.90576474339206, 2312.749975975379, 153.82925160860037, 2789.4377442651075, 2170.4588349385217, 61.594583055735576, 5223.406608675688, 2124.677232931368, 3306.6832682664635, 110.45497730095053, 107.60392919597248, 3767.2841663005947, 1988.6351827907517, 677.3859222472427, 1191.7688616969344, 783.1799843094891, 247.84585920626694, 315.9452394475126, 1051.4911686662256, 3164.8170221620016, 1328.6694891870172, 1441.794509750371, 6139.754025002854, 409.0422219701619, 1101.2886826911092, 1049.068502701911, 9923.623101384013, 2101.25065082101, 2891.799202213747, 389.74243224041425, 1403.633354514734, 1688.3977020021407, 1517.5185203707765, 5088.60223885615, 1888.7828812469977, 10633.414926326275, 1131.6290178753807, 7466.984633869148, 4038.2498634338463, 9512.025088742135, 7314.695241955027, 2560.2800553612583, 11220.43027753771, 5222.981763151841, 2189.781501744916, 2801.264688154159, 3007.7163223200637, 69.6240888388625, 70.74702656196733, 67.26695126776421, 61.243892314514326, 62.808568145928845, 41.790829579061025, 40.208120294265754, 40.63562262540436, 35.79514679574817, 39.48041429085947, 33.01859077972689, 36.987801999228274, 32.33916482195379, 31.55457888699403, 31.41339754785676, 36.04644848104858, 32.8906482791346, 28.631465430883086, 27.891394843940812, 31.97074484173281, 29.546552238956863, 27.768907019477204, 26.473020388011697, 55.53827515632792, 25.32993923693643, 24.984394962165144, 24.251951745595058, 27.21415248613684, 23.2616026121055, 22.5730261017765, 29.75183141467766, 72.05332702753849, 30.743085921575975, 38.51195920123808, 47.228584476401764, 95.96311585494117, 68.75239510983016, 92.82730048832401, 103.50562468376697, 249.17754264559906, 348.7824467501767, 13304.35191387024, 370.21824163435815, 477.1112587357261, 209.65228477188776, 79.41073688147472, 101.78077664516957, 219.1965050082911, 59.35589268942306, 1859.2066149745233, 123.43535342763292, 203.27572745826293, 617.2465879383741, 653.6914713975737, 253.02932598141354, 1121.2597297667526, 141.038371629302, 322.97341055112275, 4538.7800624110105, 5088.60223885615, 7050.842907702183, 1403.633354514734, 315.27653243684904, 652.2631384749462, 1640.071094551412, 1156.3037702741383, 2510.9898924143135, 5222.981763151841, 1986.6903850673855, 2187.2669793171335, 7466.984633869148, 487.82900356356606, 2216.9387999676173, 2572.8662836671597, 10633.414926326275, 3007.7163223200637, 2769.216036371935, 1888.7828812469977, 592.8473413764017, 1170.6914045140022, 1906.2456078148048, 1759.3069360521883, 6139.754025002854, 4116.387925339431, 2101.25065082101, 3658.7602661653746, 2543.269042536928, 3507.528782845825, 2801.264688154159, 2189.781501744916, 11220.43027753771, 3242.787953350421, 2560.2800553612583, 52.322711978037674, 61.467351902758395, 47.596860038206096, 43.7285373223222, 42.183277354218895, 41.32149882361347, 41.55339724171709, 42.30503664853943, 38.03908338066188, 44.512616973881144, 39.73729835569437, 34.81685385968386, 34.49542444465958, 33.813569125461115, 33.15617189933016, 44.44269609231848, 34.688917589398926, 30.74015578631961, 31.83629805244014, 31.129259655876208, 29.591745771973052, 28.66788348572577, 31.37507876856672, 28.83969416152359, 38.81915564141474, 27.146385087637515, 27.44160986647824, 26.66396068685045, 27.80024452541644, 29.197801708268138, 62.73391905546378, 1053.6141053235808, 45.57866700671551, 221.4103515886857, 146.3999064767715, 403.69891257059425, 65.64126280177754, 66.86455876151281, 1081.5707262291958, 123.70212838554549, 83.23531029082076, 403.691557503408, 1167.9999189660011, 703.8761296259513, 58.08504063955382, 106.2282664811289, 13304.35191387024, 9923.623101384013, 103.08503596714371, 492.7399818323342, 5223.406608675688, 936.9075974827116, 1328.6694891870172, 3306.6832682664635, 3684.4888680810627, 2056.0720634237214, 1176.8014086308665, 3767.2841663005947, 10633.414926326275, 2756.2143202256816, 6531.747598667169, 1988.6351827907517, 4538.7800624110105, 914.084218300177, 6139.754025002854, 794.1055497739858, 1228.4874397403578, 11220.43027753771, 5088.60223885615, 3658.7602661653746, 7466.984633869148, 2572.8662836671597, 5222.981763151841, 4302.414519358283, 7314.695241955027, 7642.692144220397, 7050.842907702183, 2789.4377442651075, 3242.787953350421, 83.55031185931044, 54.711740502337186, 50.997776677728744, 46.76137110394344, 117.72518597775554, 50.13195226380135, 36.902818119172196, 34.20246257461779, 34.847580390825186, 35.29242018469633, 32.29231682358678, 44.71451003639434, 31.68470410855632, 33.96005106772419, 68.16387726767593, 30.08585396430713, 30.040660444752568, 28.323865997991835, 28.787349362476615, 62.8989627595406, 268.3102444250014, 27.040268790907177, 27.96299601036918, 24.90913534430368, 24.859062746750592, 28.32980199935843, 24.542705242183974, 28.785998409876026, 25.916834266576977, 22.23063073477283, 24.65244897375021, 162.6540534886009, 41.75147996190486, 40.27018885032776, 60.80135751941078, 252.96062995252484, 196.3794198767474, 91.34586138113205, 40.569623757000166, 179.15381716456784, 444.77143950630455, 280.3065970969516, 133.2212484780787, 64.38782999002417, 115.87848203722567, 408.8953306942155, 216.3899426973947, 1426.0294872007157, 93.75621666316118, 151.16855484733944, 686.6230441326104, 338.65574015966337, 846.3982979445406, 2850.339905217198, 621.9213328400854, 9923.623101384013, 687.2173546091633, 6139.754025002854, 565.1306690907334, 10633.414926326275, 669.6655622688253, 152.13297560940657, 2572.8662836671597, 2439.3311700996874, 5223.406608675688, 1017.7408457616164, 1517.0492106767942, 4511.6305371783465, 3767.2841663005947, 2629.7511547786694, 7466.984633869148, 6531.747598667169, 7642.692144220397, 3230.389695361115, 3306.6832682664635, 2891.799202213747, 1617.7186284511827, 3154.9227870073655, 1303.5333625601645, 11220.43027753771, 79.27103144845832, 75.06197912568517, 72.35908250036486, 64.74227519479602, 47.89559344386002, 49.98908466981905, 42.139165139271974, 66.05389618178515, 38.947889386368374, 49.94469166684188, 50.282283101197486, 48.497226800518625, 32.77173561954157, 30.78445285663613, 31.562278459466807, 30.460277270250625, 30.766608427870775, 30.860740517981, 28.181600345611567, 28.94865128392058, 27.641129790443404, 27.321019819354287, 28.23445870843549, 26.636475224383094, 26.33391533294339, 26.109598908101116, 25.945470024109078, 25.86018056823624, 30.323355605980844, 26.048526570300865, 141.18938372979983, 114.22404602100764, 33.71309539036984, 36.09363626302063, 608.2110149352723, 71.11069637342726, 450.35005353449316, 709.8585859859343, 442.41614859060223, 625.9407158729799, 206.9558337717357, 246.18989833405755, 1192.3526205495607, 394.7694061902606, 392.33995109082787, 50.998608635749584, 340.8193827908908, 131.22232294065185, 803.7660920580691, 282.2791746950723, 975.370202494199, 1060.6663847315654, 504.68212762523603, 634.0616908548188, 1589.319337105328, 204.86734709079218, 394.52571440380814, 1303.5333625601645, 405.6949107594613, 2850.339905217198, 11220.43027753771, 1211.4537787433633, 7642.692144220397, 3435.712295083841, 4511.6305371783465, 1895.7229723225605, 940.430201595258, 1214.9296410605937, 1188.4061633760107, 739.0773811948009, 6531.747598667169, 1847.7977518871107, 1307.5697924179508, 3154.9227870073655, 3422.5798551897533, 3548.2752921730444, 1128.5167034982046, 2439.3311700996874, 2032.9976501340157, 1448.1591030247223, 7314.695241955027, 4116.387925339431, 10633.414926326275, 3507.528782845825, 7050.842907702183, 13304.35191387024, 9512.025088742135, 3684.4888680810627, 4302.414519358283, 2430.9633448314016, 9923.623101384013], \"Category\": [\"Default\", \"Default\", \"Default\", \"Default\", \"Default\", \"Default\", \"Default\", \"Default\", \"Default\", \"Default\", \"Default\", \"Default\", \"Default\", \"Default\", \"Default\", \"Default\", \"Default\", \"Default\", \"Default\", \"Default\", \"Default\", \"Default\", \"Default\", \"Default\", \"Default\", \"Default\", \"Default\", \"Default\", \"Default\", \"Default\", \"Topic1\", \"Topic1\", \"Topic1\", \"Topic1\", \"Topic1\", \"Topic1\", \"Topic1\", \"Topic1\", \"Topic1\", \"Topic1\", \"Topic1\", \"Topic1\", \"Topic1\", \"Topic1\", \"Topic1\", \"Topic1\", \"Topic1\", \"Topic1\", \"Topic1\", \"Topic1\", \"Topic1\", \"Topic1\", \"Topic1\", \"Topic1\", \"Topic1\", \"Topic1\", \"Topic1\", \"Topic1\", \"Topic1\", \"Topic1\", \"Topic1\", \"Topic1\", \"Topic1\", \"Topic1\", \"Topic1\", \"Topic1\", \"Topic1\", \"Topic1\", \"Topic1\", \"Topic1\", \"Topic1\", \"Topic1\", \"Topic1\", \"Topic1\", \"Topic1\", \"Topic1\", \"Topic1\", \"Topic1\", \"Topic1\", \"Topic1\", \"Topic1\", \"Topic1\", \"Topic1\", \"Topic1\", \"Topic1\", \"Topic1\", \"Topic1\", \"Topic1\", \"Topic1\", \"Topic1\", \"Topic1\", \"Topic1\", \"Topic1\", \"Topic1\", \"Topic1\", \"Topic1\", \"Topic1\", \"Topic1\", \"Topic1\", \"Topic1\", \"Topic1\", \"Topic1\", \"Topic1\", \"Topic1\", \"Topic1\", \"Topic1\", \"Topic1\", \"Topic1\", \"Topic1\", \"Topic1\", \"Topic2\", \"Topic2\", \"Topic2\", \"Topic2\", \"Topic2\", \"Topic2\", \"Topic2\", \"Topic2\", \"Topic2\", \"Topic2\", \"Topic2\", \"Topic2\", \"Topic2\", \"Topic2\", \"Topic2\", \"Topic2\", \"Topic2\", \"Topic2\", \"Topic2\", \"Topic2\", \"Topic2\", \"Topic2\", \"Topic2\", \"Topic2\", \"Topic2\", \"Topic2\", \"Topic2\", \"Topic2\", \"Topic2\", \"Topic2\", \"Topic2\", \"Topic2\", \"Topic2\", \"Topic2\", \"Topic2\", \"Topic2\", \"Topic2\", \"Topic2\", \"Topic2\", \"Topic2\", \"Topic2\", \"Topic2\", \"Topic2\", \"Topic2\", \"Topic2\", \"Topic2\", \"Topic2\", \"Topic2\", \"Topic2\", \"Topic2\", \"Topic2\", \"Topic2\", \"Topic2\", \"Topic2\", \"Topic2\", \"Topic2\", \"Topic2\", \"Topic2\", \"Topic2\", \"Topic2\", \"Topic2\", \"Topic2\", \"Topic2\", \"Topic2\", \"Topic2\", \"Topic2\", \"Topic2\", \"Topic2\", \"Topic2\", \"Topic2\", \"Topic2\", \"Topic2\", \"Topic2\", \"Topic2\", \"Topic2\", \"Topic2\", \"Topic2\", \"Topic2\", \"Topic2\", \"Topic2\", \"Topic2\", \"Topic2\", \"Topic2\", \"Topic3\", \"Topic3\", \"Topic3\", \"Topic3\", \"Topic3\", \"Topic3\", \"Topic3\", \"Topic3\", \"Topic3\", \"Topic3\", \"Topic3\", \"Topic3\", \"Topic3\", \"Topic3\", \"Topic3\", \"Topic3\", \"Topic3\", \"Topic3\", \"Topic3\", \"Topic3\", \"Topic3\", \"Topic3\", \"Topic3\", \"Topic3\", \"Topic3\", \"Topic3\", \"Topic3\", \"Topic3\", \"Topic3\", \"Topic3\", \"Topic3\", \"Topic3\", \"Topic3\", \"Topic3\", \"Topic3\", \"Topic3\", \"Topic3\", \"Topic3\", \"Topic3\", \"Topic3\", \"Topic3\", \"Topic3\", \"Topic3\", \"Topic3\", \"Topic3\", \"Topic3\", \"Topic3\", \"Topic3\", \"Topic3\", \"Topic3\", \"Topic3\", \"Topic3\", \"Topic3\", \"Topic3\", \"Topic3\", \"Topic3\", \"Topic3\", \"Topic3\", \"Topic3\", \"Topic3\", \"Topic3\", \"Topic3\", \"Topic3\", \"Topic3\", \"Topic3\", \"Topic3\", \"Topic3\", \"Topic3\", \"Topic3\", \"Topic3\", \"Topic3\", \"Topic3\", \"Topic3\", \"Topic3\", \"Topic3\", \"Topic3\", \"Topic3\", \"Topic3\", \"Topic3\", \"Topic3\", \"Topic4\", \"Topic4\", \"Topic4\", \"Topic4\", \"Topic4\", \"Topic4\", \"Topic4\", \"Topic4\", \"Topic4\", \"Topic4\", \"Topic4\", \"Topic4\", \"Topic4\", \"Topic4\", \"Topic4\", \"Topic4\", \"Topic4\", \"Topic4\", \"Topic4\", \"Topic4\", \"Topic4\", \"Topic4\", \"Topic4\", \"Topic4\", \"Topic4\", \"Topic4\", \"Topic4\", \"Topic4\", \"Topic4\", \"Topic4\", \"Topic4\", \"Topic4\", \"Topic4\", \"Topic4\", \"Topic4\", \"Topic4\", \"Topic4\", \"Topic4\", \"Topic4\", \"Topic4\", \"Topic4\", \"Topic4\", \"Topic4\", \"Topic4\", \"Topic4\", \"Topic4\", \"Topic4\", \"Topic4\", \"Topic4\", \"Topic4\", \"Topic4\", \"Topic4\", \"Topic4\", \"Topic4\", \"Topic4\", \"Topic4\", \"Topic4\", \"Topic4\", \"Topic4\", \"Topic4\", \"Topic4\", \"Topic4\", \"Topic4\", \"Topic4\", \"Topic4\", \"Topic4\", \"Topic4\", \"Topic4\", \"Topic4\", \"Topic4\", \"Topic4\", \"Topic4\", \"Topic4\", \"Topic4\", \"Topic4\", \"Topic4\", \"Topic4\", \"Topic4\", \"Topic4\", \"Topic4\", \"Topic4\", \"Topic4\", \"Topic4\", \"Topic4\", \"Topic5\", \"Topic5\", \"Topic5\", \"Topic5\", \"Topic5\", \"Topic5\", \"Topic5\", \"Topic5\", \"Topic5\", \"Topic5\", \"Topic5\", \"Topic5\", \"Topic5\", \"Topic5\", \"Topic5\", \"Topic5\", \"Topic5\", \"Topic5\", \"Topic5\", \"Topic5\", \"Topic5\", \"Topic5\", \"Topic5\", \"Topic5\", \"Topic5\", \"Topic5\", \"Topic5\", \"Topic5\", \"Topic5\", \"Topic5\", \"Topic5\", \"Topic5\", \"Topic5\", \"Topic5\", \"Topic5\", \"Topic5\", \"Topic5\", \"Topic5\", \"Topic5\", \"Topic5\", \"Topic5\", \"Topic5\", \"Topic5\", \"Topic5\", \"Topic5\", \"Topic5\", \"Topic5\", \"Topic5\", \"Topic5\", \"Topic5\", \"Topic5\", \"Topic5\", \"Topic5\", \"Topic5\", \"Topic5\", \"Topic5\", \"Topic5\", \"Topic5\", \"Topic5\", \"Topic5\", \"Topic5\", \"Topic5\", \"Topic5\", \"Topic5\", \"Topic5\", \"Topic5\", \"Topic5\", \"Topic5\", \"Topic5\", \"Topic5\", \"Topic5\", \"Topic5\", \"Topic5\", \"Topic5\", \"Topic5\", \"Topic5\", \"Topic5\", \"Topic5\", \"Topic5\", \"Topic5\", \"Topic5\", \"Topic5\", \"Topic5\", \"Topic5\", \"Topic5\", \"Topic5\", \"Topic5\", \"Topic5\", \"Topic5\", \"Topic5\", \"Topic5\", \"Topic5\", \"Topic5\", \"Topic6\", \"Topic6\", \"Topic6\", \"Topic6\", \"Topic6\", \"Topic6\", \"Topic6\", \"Topic6\", \"Topic6\", \"Topic6\", \"Topic6\", \"Topic6\", \"Topic6\", \"Topic6\", \"Topic6\", \"Topic6\", \"Topic6\", \"Topic6\", \"Topic6\", \"Topic6\", \"Topic6\", \"Topic6\", \"Topic6\", \"Topic6\", \"Topic6\", \"Topic6\", \"Topic6\", \"Topic6\", \"Topic6\", \"Topic6\", \"Topic6\", \"Topic6\", \"Topic6\", \"Topic6\", \"Topic6\", \"Topic6\", \"Topic6\", \"Topic6\", \"Topic6\", \"Topic6\", \"Topic6\", \"Topic6\", \"Topic6\", \"Topic6\", \"Topic6\", \"Topic6\", \"Topic6\", \"Topic6\", \"Topic6\", \"Topic6\", \"Topic6\", \"Topic6\", \"Topic6\", \"Topic6\", \"Topic6\", \"Topic6\", \"Topic6\", \"Topic6\", \"Topic6\", \"Topic6\", \"Topic6\", \"Topic6\", \"Topic6\", \"Topic6\", \"Topic6\", \"Topic6\", \"Topic6\", \"Topic6\", \"Topic6\", \"Topic6\", \"Topic6\", \"Topic6\", \"Topic6\", \"Topic6\", \"Topic6\", \"Topic6\", \"Topic6\", \"Topic6\", \"Topic6\", \"Topic7\", \"Topic7\", \"Topic7\", \"Topic7\", \"Topic7\", \"Topic7\", \"Topic7\", \"Topic7\", \"Topic7\", \"Topic7\", \"Topic7\", \"Topic7\", \"Topic7\", \"Topic7\", \"Topic7\", \"Topic7\", \"Topic7\", \"Topic7\", \"Topic7\", \"Topic7\", \"Topic7\", \"Topic7\", \"Topic7\", \"Topic7\", \"Topic7\", \"Topic7\", \"Topic7\", \"Topic7\", \"Topic7\", \"Topic7\", \"Topic7\", \"Topic7\", \"Topic7\", \"Topic7\", \"Topic7\", \"Topic7\", \"Topic7\", \"Topic7\", \"Topic7\", \"Topic7\", \"Topic7\", \"Topic7\", \"Topic7\", \"Topic7\", \"Topic7\", \"Topic7\", \"Topic7\", \"Topic7\", \"Topic7\", \"Topic7\", \"Topic7\", \"Topic7\", \"Topic7\", \"Topic7\", \"Topic7\", \"Topic7\", \"Topic7\", \"Topic7\", \"Topic7\", \"Topic7\", \"Topic7\", \"Topic7\", \"Topic7\", \"Topic7\", \"Topic7\", \"Topic7\", \"Topic7\", \"Topic7\", \"Topic7\", \"Topic7\", \"Topic7\", \"Topic7\", \"Topic7\", \"Topic7\", \"Topic7\", \"Topic7\", \"Topic7\", \"Topic7\", \"Topic7\", \"Topic7\", \"Topic8\", \"Topic8\", \"Topic8\", \"Topic8\", \"Topic8\", \"Topic8\", \"Topic8\", \"Topic8\", \"Topic8\", \"Topic8\", \"Topic8\", \"Topic8\", \"Topic8\", \"Topic8\", \"Topic8\", \"Topic8\", \"Topic8\", \"Topic8\", \"Topic8\", \"Topic8\", \"Topic8\", \"Topic8\", \"Topic8\", \"Topic8\", \"Topic8\", \"Topic8\", \"Topic8\", \"Topic8\", \"Topic8\", \"Topic8\", \"Topic8\", \"Topic8\", \"Topic8\", \"Topic8\", \"Topic8\", \"Topic8\", \"Topic8\", \"Topic8\", \"Topic8\", \"Topic8\", \"Topic8\", \"Topic8\", \"Topic8\", \"Topic8\", \"Topic8\", \"Topic8\", \"Topic8\", \"Topic8\", \"Topic8\", \"Topic8\", \"Topic8\", \"Topic8\", \"Topic8\", \"Topic8\", \"Topic8\", \"Topic8\", \"Topic8\", \"Topic8\", \"Topic8\", \"Topic8\", \"Topic8\", \"Topic8\", \"Topic8\", \"Topic8\", \"Topic8\", \"Topic8\", \"Topic8\", \"Topic8\", \"Topic8\", \"Topic8\", \"Topic8\", \"Topic8\", \"Topic8\", \"Topic8\", \"Topic8\", \"Topic8\", \"Topic8\", \"Topic8\", \"Topic8\", \"Topic8\", \"Topic8\", \"Topic8\", \"Topic8\", \"Topic8\", \"Topic8\", \"Topic8\", \"Topic8\", \"Topic8\", \"Topic8\", \"Topic8\", \"Topic8\"], \"logprob\": [30.0, 29.0, 28.0, 27.0, 26.0, 25.0, 24.0, 23.0, 22.0, 21.0, 20.0, 19.0, 18.0, 17.0, 16.0, 15.0, 14.0, 13.0, 12.0, 11.0, 10.0, 9.0, 8.0, 7.0, 6.0, 5.0, 4.0, 3.0, 2.0, 1.0, -5.5001, -5.6634, -5.8231, -6.708, -6.7455, -6.8325, -6.901, -6.5512, -6.5751, -6.9926, -5.8598, -6.9747, -7.1265, -6.4196, -6.2058, -7.0515, -7.2031, -7.1928, -7.0572, -7.2767, -7.2332, -7.2921, -7.2962, -7.1249, -6.8428, -7.3727, -7.4181, -7.4694, -6.3522, -7.5204, -6.6801, -6.0024, -6.3977, -6.6751, -5.2454, -5.9152, -6.7479, -6.3166, -6.5132, -5.8782, -5.0773, -6.6939, -3.1262, -3.2997, -4.6366, -6.2751, -6.0205, -5.8822, -6.0823, -6.1684, -6.1303, -4.6483, -6.2372, -4.1426, -4.936, -5.1743, -5.8425, -5.6775, -5.7348, -5.1328, -5.261, -5.0833, -5.2503, -5.478, -5.0442, -5.1294, -4.7306, -5.0598, -5.1146, -4.9098, -4.935, -5.2118, -5.2485, -5.3659, -5.4545, -5.125, -5.3808, -5.4273, -5.392, -5.4216, -7.1601, -7.2719, -7.2839, -7.2947, -7.1544, -7.6079, -7.7991, -7.8218, -7.1602, -7.9638, -7.9599, -7.9998, -8.0023, -8.0131, -8.1062, -8.1276, -8.1342, -8.1425, -8.1657, -8.2183, -8.2504, -8.2058, -8.2841, -8.2826, -8.3097, -8.2927, -8.3124, -8.0314, -8.1995, -8.3676, -6.73, -7.8823, -7.657, -5.6897, -7.5857, -2.9137, -8.0003, -5.7259, -5.3836, -6.6372, -7.8176, -7.7038, -5.3102, -5.3967, -4.5609, -5.655, -6.8327, -4.2509, -5.0312, -5.1498, -5.5546, -5.0978, -5.6698, -6.7734, -5.7946, -5.3697, -6.3293, -4.8219, -5.3297, -5.358, -4.4948, -4.1861, -4.6432, -4.8995, -4.5149, -4.8609, -4.4964, -5.2201, -5.6539, -4.9082, -5.3531, -4.6492, -5.2502, -4.6685, -4.9243, -5.2036, -5.1696, -5.2619, -5.0805, -5.1236, -5.2661, -5.3099, -5.3445, -7.2761, -7.3161, -7.2759, -7.5438, -7.6148, -7.6426, -7.5474, -7.6414, -7.8302, -7.8655, -7.8183, -7.3907, -7.9366, -7.9789, -7.9315, -7.8932, -7.9887, -8.0215, -7.7846, -8.0433, -8.2022, -7.9479, -8.1995, -8.1778, -8.238, -8.1126, -8.2756, -8.2278, -8.3794, -8.2475, -7.2646, -8.1114, -7.4352, -7.5823, -6.514, -7.1095, -7.9709, -7.2877, -6.0092, -7.4153, -6.9222, -4.1301, -3.6621, -6.1311, -5.5673, -6.2335, -5.1737, -4.8381, -4.7234, -4.5444, -4.7739, -4.0212, -6.5782, -4.9295, -4.4081, -4.2324, -5.8328, -5.0653, -4.6681, -4.7727, -4.0742, -4.9701, -4.3654, -4.9611, -4.8834, -4.9925, -5.0584, -5.6063, -5.8296, -4.901, -4.8377, -4.9139, -5.0019, -5.2823, -4.6558, -5.3198, -5.4372, -5.2217, -5.2008, -5.171, -7.0777, -7.0839, -7.7111, -7.8803, -7.8981, -7.8894, -7.9936, -8.0432, -8.0447, -7.9407, -8.0007, -7.6642, -8.2511, -8.2167, -8.3197, -8.2035, -8.3831, -8.3815, -8.3635, -8.3305, -8.4115, -8.4037, -7.8128, -8.4825, -7.8707, -8.4715, -8.4809, -8.4764, -8.464, -8.5565, -7.4229, -7.7822, -8.0899, -7.8723, -5.5455, -7.724, -3.9018, -6.9191, -4.3089, -6.6689, -4.1731, -4.3993, -7.4709, -3.7222, -4.4798, -4.1519, -6.9862, -7.0257, -4.1851, -4.7552, -5.6061, -5.1937, -5.5214, -6.4407, -6.2639, -5.3922, -4.5905, -5.2258, -5.1697, -4.1295, -6.0906, -5.3894, -5.4292, -3.8702, -4.9633, -4.791, -6.1347, -5.2799, -5.1991, -5.2721, -4.5244, -5.147, -4.1215, -5.4659, -4.3379, -4.7443, -4.3282, -4.784, -5.1397, -4.7911, -4.992, -5.2043, -5.1753, -5.1775, -7.1693, -7.1539, -7.2049, -7.3031, -7.2782, -7.6883, -7.7283, -7.7193, -7.8466, -7.7493, -7.9294, -7.8163, -7.9507, -7.976, -7.9816, -7.8451, -7.9368, -8.0766, -8.1031, -7.9674, -8.0467, -8.1089, -8.1571, -7.417, -8.2026, -8.2169, -8.2481, -8.1332, -8.2917, -8.3229, -8.0494, -7.175, -8.0174, -7.8039, -7.6101, -6.9369, -7.2557, -6.9854, -6.8936, -6.143, -5.8952, -2.7362, -5.8726, -5.6846, -6.3874, -7.2196, -7.0315, -6.425, -7.4682, -4.7824, -6.9047, -6.5268, -5.7041, -5.6699, -6.3974, -5.3435, -6.8281, -6.2477, -4.4035, -4.3296, -4.141, -5.2658, -6.2737, -5.8105, -5.2277, -5.4587, -4.9782, -4.5379, -5.1455, -5.0875, -4.3708, -6.0052, -5.1161, -5.0384, -4.2502, -4.9826, -5.0663, -5.3083, -5.9259, -5.5858, -5.3475, -5.427, -4.8745, -5.0678, -5.35, -5.1476, -5.3192, -5.2426, -5.3188, -5.4178, -5.1935, -5.3729, -5.417, -7.4665, -7.3056, -7.5633, -7.6483, -7.6848, -7.7059, -7.7003, -7.6825, -7.7905, -7.6342, -7.7481, -7.8811, -7.8908, -7.9117, -7.9313, -7.6387, -7.8866, -8.0091, -7.9742, -7.9979, -8.049, -8.081, -7.9908, -8.0755, -7.7787, -8.1373, -8.1267, -8.156, -8.1149, -8.0661, -7.3179, -4.5852, -7.6338, -6.1132, -6.5171, -5.5708, -7.2981, -7.2884, -4.7548, -6.7304, -7.1224, -5.7491, -4.8385, -5.2819, -7.4483, -6.9444, -2.8895, -3.2559, -7.0538, -5.9805, -4.3281, -5.5364, -5.3113, -4.7405, -4.7644, -5.1478, -5.5459, -4.8516, -4.2268, -5.0563, -4.563, -5.3086, -4.8915, -5.8071, -4.7752, -5.9004, -5.6712, -4.5217, -4.9617, -5.1709, -4.8788, -5.3739, -5.0966, -5.1774, -5.0612, -5.147, -5.1731, -5.3667, -5.3538, -6.4307, -6.8597, -6.931, -7.0196, -6.099, -6.9547, -7.2623, -7.339, -7.3206, -7.3084, -7.398, -7.0727, -7.4175, -7.3482, -6.6516, -7.4708, -7.4726, -7.533, -7.5171, -6.7364, -5.286, -7.581, -7.5479, -7.6667, -7.6688, -7.5384, -7.6832, -7.5245, -7.6298, -7.7843, -7.6813, -5.8162, -7.1615, -7.1993, -6.8006, -5.4296, -5.6916, -6.431, -7.1981, -5.8049, -4.9914, -5.4173, -6.1074, -6.7739, -6.2464, -5.2451, -5.7882, -4.2631, -6.5112, -6.1355, -4.9365, -5.5273, -4.8629, -3.9806, -5.1239, -3.2828, -5.139, -3.6507, -5.3389, -3.4274, -5.2282, -6.2093, -4.5016, -4.5477, -4.168, -5.1855, -5.0004, -4.5274, -4.6822, -4.8865, -4.525, -4.642, -4.5958, -4.9325, -4.9419, -4.9961, -5.1464, -5.1257, -5.268, -5.1747, -7.5175, -7.5727, -7.6098, -7.7224, -8.0285, -7.9859, -8.1591, -7.7112, -8.2398, -7.9925, -7.9866, -8.0233, -8.4168, -8.4808, -8.4561, -8.492, -8.482, -8.4796, -8.5718, -8.545, -8.5918, -8.6039, -8.5714, -8.6306, -8.642, -8.6509, -8.6572, -8.6606, -8.5018, -8.6542, -6.9665, -7.1798, -8.397, -8.3294, -5.552, -7.6804, -5.9397, -5.5216, -5.9712, -5.646, -6.6901, -6.5293, -5.061, -6.1023, -6.1099, -8.0113, -6.2472, -7.1333, -5.4679, -6.4356, -5.3024, -5.2369, -5.9196, -5.7211, -4.9045, -6.7338, -6.1554, -5.1069, -6.1343, -4.4334, -3.2556, -5.2016, -3.6358, -4.3397, -4.144, -4.8641, -5.4736, -5.2688, -5.3075, -5.6869, -4.0377, -5.0209, -5.2873, -4.6671, -4.6104, -4.5952, -5.4001, -4.899, -5.0205, -5.2382, -4.2678, -4.6677, -4.2581, -4.8374, -4.5436, -4.5034, -4.7113, -5.1569, -5.1711, -5.2526, -5.2055], \"loglift\": [30.0, 29.0, 28.0, 27.0, 26.0, 25.0, 24.0, 23.0, 22.0, 21.0, 20.0, 19.0, 18.0, 17.0, 16.0, 15.0, 14.0, 13.0, 12.0, 11.0, 10.0, 9.0, 8.0, 7.0, 6.0, 5.0, 4.0, 3.0, 2.0, 1.0, 3.2045, 3.2037, 3.202, 3.187, 3.1869, 3.1841, 3.1822, 3.1819, 3.1816, 3.1793, 3.1789, 3.1784, 3.1752, 3.1744, 3.1739, 3.1734, 3.1726, 3.1721, 3.1705, 3.1696, 3.1691, 3.169, 3.1679, 3.1679, 3.1638, 3.1633, 3.161, 3.1598, 3.1591, 3.1581, 3.1573, 3.1223, 3.1328, 3.1401, 3.0745, 3.1051, 3.1399, 3.1004, 3.1087, 3.0228, 2.9002, 3.1044, 2.2162, 2.2593, 2.468, 2.924, 2.8149, 2.6853, 2.7734, 2.7985, 2.7198, 1.6764, 2.7727, 0.9176, 1.5916, 1.5833, 2.3135, 1.9508, 2.013, 0.8985, 1.1201, 0.7069, 0.9841, 1.4003, 0.4986, 0.5228, -0.5754, 0.216, 0.2819, -0.3474, -0.3153, 0.3942, 0.4326, 0.8209, 1.0578, -0.542, 0.3923, 0.2122, -0.0856, -0.6635, 1.8137, 1.8134, 1.8132, 1.8131, 1.8121, 1.808, 1.8058, 1.8056, 1.8035, 1.8028, 1.8025, 1.802, 1.802, 1.8013, 1.7996, 1.7991, 1.7989, 1.7987, 1.7981, 1.7967, 1.7953, 1.7946, 1.7946, 1.7944, 1.7935, 1.7934, 1.7929, 1.7924, 1.7921, 1.7921, 1.7772, 1.7825, 1.7692, 1.6635, 1.7507, 1.4066, 1.7684, 1.5116, 1.4286, 1.5993, 1.745, 1.7278, 1.2542, 1.2451, 1.017, 1.2513, 1.5128, 0.8628, 1.0383, 1.0647, 1.1603, 1.029, 1.1442, 1.4287, 1.0673, 0.9165, 1.2086, 0.5745, 0.787, 0.7413, 0.2014, 0.0228, 0.2766, 0.3693, 0.1049, 0.3162, 0.066, 0.5169, 0.8057, 0.0377, 0.4083, -0.3712, 0.2927, -0.5134, -0.1662, 0.2203, 0.1061, 0.2016, -0.5414, -0.5406, 0.0518, -0.3901, -0.2843, 1.8939, 1.8915, 1.8914, 1.8903, 1.8892, 1.8878, 1.8872, 1.8866, 1.8853, 1.8838, 1.8837, 1.8832, 1.883, 1.8818, 1.8816, 1.8813, 1.8812, 1.8811, 1.88, 1.8782, 1.8761, 1.8761, 1.8756, 1.8756, 1.8752, 1.8745, 1.874, 1.8731, 1.8707, 1.8697, 1.8528, 1.8675, 1.8454, 1.8428, 1.7811, 1.8053, 1.8582, 1.7905, 1.655, 1.7845, 1.7045, 1.1864, 0.9209, 1.3814, 1.2102, 1.3799, 1.0426, 0.9358, 0.8545, 0.7621, 0.832, 0.5412, 1.4424, 0.8074, 0.5117, 0.3873, 1.0823, 0.7303, 0.509, 0.5031, 0.081, 0.5409, 0.1737, 0.5024, 0.4552, 0.404, 0.4133, 0.7706, 0.9119, 0.2127, 0.1082, 0.1524, 0.156, 0.3989, -0.4469, 0.3324, 0.4492, -0.1615, -0.5046, -1.1862, 2.0568, 2.0527, 2.0515, 2.0472, 2.047, 2.0468, 2.0425, 2.0422, 2.0413, 2.0383, 2.0378, 2.0378, 2.0365, 2.0358, 2.0337, 2.0321, 2.0316, 2.0315, 2.0314, 2.0306, 2.0305, 2.0305, 2.0299, 2.0272, 2.0263, 2.026, 2.0259, 2.0257, 2.0256, 2.0239, 2.0097, 2.0158, 1.9967, 1.9788, 1.7669, 1.9573, 1.4985, 1.835, 1.4256, 1.7759, 1.374, 1.3986, 1.8892, 1.1976, 1.3394, 1.225, 1.7898, 1.7764, 1.0615, 1.1303, 1.3563, 1.2038, 1.2959, 1.5272, 1.4612, 1.1305, 0.8302, 1.0629, 1.0373, 0.6286, 1.3762, 1.087, 1.0958, 0.4077, 0.8671, 0.72, 1.3804, 0.9539, 0.85, 0.8837, 0.4215, 0.79, 0.0874, 0.9833, 0.2245, 0.4327, -0.0079, -0.201, 0.493, -0.6359, -0.0722, 0.5848, 0.3675, 0.2942, 2.0683, 2.0677, 2.067, 2.0626, 2.0623, 2.0596, 2.0583, 2.0567, 2.0562, 2.0555, 2.0542, 2.0537, 2.0536, 2.0529, 2.0518, 2.0507, 2.0507, 2.0495, 2.0492, 2.0484, 2.048, 2.0478, 2.0474, 2.0465, 2.046, 2.0455, 2.0441, 2.0437, 2.0421, 2.041, 2.0383, 2.0282, 2.0376, 2.0258, 2.0156, 1.9798, 1.9944, 1.9645, 1.9474, 1.8195, 1.731, 1.2486, 1.6939, 1.6283, 1.7478, 1.8864, 1.8263, 1.6657, 1.9288, 1.1703, 1.7603, 1.6393, 1.3513, 1.3281, 1.5498, 1.1149, 1.7035, 1.4554, 0.6568, 0.6162, 0.4787, 0.968, 1.4535, 1.1896, 0.8504, 0.969, 0.674, 0.3819, 0.7409, 0.7027, 0.1916, 1.2855, 0.6607, 0.5895, -0.0413, 0.4891, 0.488, 0.6286, 1.1698, 0.8295, 0.5803, 0.581, -0.1164, 0.0902, 0.4803, 0.1281, 0.3202, 0.0753, 0.224, 0.3713, -1.0383, 0.0235, 0.2157, 2.0567, 2.0565, 2.0545, 2.0543, 2.0538, 2.0534, 2.0534, 2.0532, 2.0515, 2.0506, 2.0502, 2.0494, 2.049, 2.0481, 2.0481, 2.0478, 2.0476, 2.046, 2.0458, 2.0446, 2.0441, 2.0439, 2.0438, 2.0434, 2.043, 2.0421, 2.0419, 2.0414, 2.0407, 2.0405, 2.0239, 1.9355, 2.0274, 1.9674, 1.9772, 1.9092, 1.9983, 1.9896, 1.7397, 1.9324, 1.9366, 1.7309, 1.5791, 1.6421, 1.9704, 1.8707, 1.0953, 1.022, 1.7913, 1.3002, 0.5917, 1.1016, 0.9774, 0.6365, 0.5043, 0.7043, 0.8642, 0.3949, -0.0179, 0.5028, 0.1332, 0.5768, 0.1687, 0.8556, -0.0171, 0.903, 0.6958, -0.3665, -0.0158, 0.1049, -0.3165, 0.2539, -0.1767, -0.0637, -0.4782, -0.6078, -0.5533, 0.1804, 0.0427, 2.6245, 2.6189, 2.6178, 2.616, 2.6133, 2.6113, 2.6101, 2.6093, 2.6091, 2.6086, 2.6078, 2.6077, 2.6073, 2.6072, 2.6071, 2.6058, 2.6055, 2.6039, 2.6036, 2.6027, 2.6025, 2.6023, 2.6019, 2.5987, 2.5986, 2.5983, 2.597, 2.5963, 2.596, 2.5949, 2.5944, 2.5728, 2.5874, 2.5857, 2.5725, 2.5178, 2.509, 2.535, 2.5795, 2.4874, 2.3917, 2.4275, 2.4812, 2.5418, 2.4817, 2.2221, 2.3153, 1.9549, 2.4288, 2.3267, 2.0124, 2.1284, 1.8768, 1.5448, 1.9239, 0.9952, 1.8089, 1.1074, 1.8046, 0.7814, 1.7457, 2.2466, 1.1262, 1.1335, 0.7517, 1.3698, 1.1557, 0.5388, 0.5643, 0.7195, 0.0374, 0.0542, -0.0566, 0.4677, 0.4351, 0.5149, 0.9454, 0.2982, 1.0398, -1.0196, 1.5903, 1.5896, 1.5892, 1.5878, 1.5831, 1.5829, 1.5806, 1.579, 1.5786, 1.5772, 1.5764, 1.5758, 1.5743, 1.5728, 1.5726, 1.5722, 1.5722, 1.5715, 1.5702, 1.5701, 1.5695, 1.5691, 1.5687, 1.5678, 1.5677, 1.5674, 1.5674, 1.5673, 1.567, 1.5665, 1.5641, 1.5627, 1.5658, 1.5651, 1.5181, 1.536, 1.4309, 1.394, 1.4172, 1.3953, 1.458, 1.4452, 1.3359, 1.4, 1.3986, 1.5376, 1.4021, 1.4705, 1.3234, 1.4022, 1.2954, 1.2771, 1.3372, 1.3074, 1.205, 1.4245, 1.3476, 1.2009, 1.3407, 1.0921, 0.8995, 1.1795, 0.9033, 0.9989, 0.9222, 1.0692, 1.1607, 1.1094, 1.0927, 1.1883, 0.6585, 0.938, 1.0174, 0.7568, 0.7321, 0.7112, 1.0519, 0.7822, 0.8428, 0.9644, 0.3152, 0.4902, -0.0493, 0.4806, 0.0761, -0.5186, -0.391, 0.1118, -0.0574, 0.432, -0.9276]}, \"token.table\": {\"Topic\": [2, 3, 4, 5, 6, 7, 8, 2, 3, 4, 6, 1, 2, 5, 6, 1, 2, 3, 4, 5, 6, 7, 8, 7, 6, 2, 3, 4, 5, 6, 7, 7, 2, 3, 5, 6, 7, 8, 4, 2, 3, 4, 5, 6, 7, 8, 7, 5, 6, 8, 1, 2, 3, 4, 5, 6, 7, 8, 2, 4, 5, 6, 2, 3, 5, 6, 7, 2, 3, 4, 6, 7, 3, 5, 1, 2, 3, 4, 6, 7, 1, 6, 7, 8, 2, 5, 6, 7, 7, 8, 1, 2, 3, 4, 5, 6, 7, 8, 1, 1, 2, 3, 4, 5, 6, 7, 8, 1, 2, 3, 4, 5, 6, 7, 8, 1, 2, 3, 4, 5, 6, 7, 8, 1, 2, 3, 4, 5, 6, 7, 8, 8, 6, 1, 2, 3, 4, 5, 6, 7, 8, 5, 5, 1, 2, 7, 1, 3, 2, 3, 1, 2, 3, 4, 5, 6, 7, 8, 6, 7, 8, 7, 8, 1, 2, 3, 4, 5, 6, 7, 8, 1, 2, 3, 4, 5, 6, 7, 8, 1, 2, 3, 4, 5, 6, 7, 8, 5, 7, 1, 2, 3, 4, 5, 6, 7, 8, 2, 5, 1, 8, 8, 8, 2, 3, 5, 6, 1, 2, 3, 4, 5, 6, 7, 8, 5, 4, 2, 1, 1, 2, 3, 4, 5, 6, 8, 1, 2, 3, 4, 5, 6, 7, 8, 4, 1, 2, 3, 4, 5, 6, 7, 8, 7, 1, 2, 3, 4, 5, 6, 7, 8, 1, 2, 3, 4, 5, 6, 7, 8, 1, 1, 2, 3, 4, 5, 6, 7, 8, 4, 6, 1, 2, 3, 4, 5, 6, 7, 8, 8, 1, 3, 5, 6, 7, 8, 1, 2, 3, 5, 6, 7, 8, 1, 2, 3, 1, 2, 3, 4, 5, 6, 7, 8, 1, 2, 3, 4, 5, 6, 7, 8, 1, 2, 3, 4, 5, 6, 7, 8, 3, 2, 5, 8, 6, 3, 1, 5, 6, 6, 2, 1, 2, 3, 6, 8, 1, 2, 3, 4, 5, 6, 7, 8, 3, 4, 6, 7, 8, 4, 1, 2, 3, 4, 5, 6, 7, 8, 7, 2, 1, 2, 3, 4, 5, 6, 7, 8, 5, 1, 2, 3, 6, 7, 8, 1, 2, 3, 4, 5, 6, 7, 8, 2, 5, 6, 8, 6, 2, 1, 4, 1, 2, 3, 4, 5, 6, 7, 8, 5, 7, 8, 2, 3, 8, 3, 8, 1, 2, 3, 4, 5, 6, 7, 8, 3, 5, 2, 3, 3, 2, 3, 4, 5, 6, 7, 8, 4, 5, 8, 1, 5, 2, 3, 6, 8, 1, 2, 3, 4, 5, 6, 8, 2, 5, 7, 8, 2, 1, 2, 3, 4, 5, 6, 7, 8, 1, 2, 3, 4, 5, 6, 7, 8, 1, 2, 3, 4, 5, 6, 7, 8, 2, 3, 6, 8, 5, 1, 2, 3, 4, 5, 6, 7, 8, 2, 4, 2, 4, 7, 8, 1, 2, 3, 4, 5, 6, 7, 8, 3, 7, 1, 2, 4, 2, 3, 1, 1, 2, 3, 4, 5, 6, 7, 8, 7, 6, 1, 2, 7, 8, 2, 3, 4, 5, 6, 7, 8, 1, 2, 3, 4, 5, 6, 7, 8, 1, 2, 3, 4, 5, 6, 7, 8, 5, 4, 6, 1, 2, 3, 4, 5, 6, 7, 8, 4, 5, 2, 4, 7, 2, 3, 4, 5, 6, 7, 8, 4, 4, 1, 2, 3, 4, 5, 6, 7, 8, 4, 1, 2, 3, 4, 5, 6, 7, 8, 1, 2, 3, 4, 5, 6, 7, 8, 8, 1, 2, 3, 4, 5, 6, 7, 8, 1, 4, 6, 1, 2, 3, 4, 5, 6, 7, 8, 3, 1, 2, 3, 1, 8, 1, 2, 3, 4, 5, 6, 7, 8, 1, 2, 3, 4, 5, 6, 7, 8, 5, 1, 3, 3, 3, 4, 3, 1, 2, 3, 4, 5, 6, 7, 8, 1, 2, 3, 4, 5, 6, 7, 8, 7, 2, 4, 6, 7, 1, 3, 7, 4, 1, 2, 3, 4, 5, 6, 7, 8, 1, 2, 3, 4, 5, 6, 7, 8, 2, 7, 8, 1, 5, 7, 6, 1, 2, 3, 4, 5, 6, 7, 8, 1, 2, 3, 4, 5, 6, 7, 8, 1, 2, 3, 4, 5, 6, 7, 8, 1, 1, 2, 3, 4, 5, 6, 7, 8, 1, 2, 3, 4, 5, 6, 7, 8, 6, 2, 5, 6, 8, 1, 2, 3, 4, 5, 6, 7, 8, 8, 1, 8, 1, 4, 8, 8, 4, 1, 2, 3, 4, 5, 6, 7, 8, 1, 2, 3, 4, 5, 6, 7, 8, 2, 4, 6, 3, 6, 7, 4, 6, 1, 8, 2, 3, 4, 1, 2, 3, 4, 5, 6, 7, 8, 4, 7, 6, 6, 5, 1, 2, 3, 4, 5, 6, 7, 8, 1, 2, 3, 4, 5, 6, 7, 8, 1, 2, 3, 4, 5, 6, 7, 8, 3, 4, 5, 6, 8, 5, 4, 5, 1, 2, 3, 4, 5, 6, 7, 8, 1, 7, 6, 8, 6, 8, 2, 1, 2, 5, 3, 1, 2, 3, 4, 5, 6, 7, 8, 8, 1, 2, 3, 4, 5, 6, 7, 8, 7, 1, 2, 3, 4, 5, 6, 7, 8, 1, 6, 7, 2, 7, 2, 3, 4, 5, 6, 7, 8, 3, 1, 2, 3, 4, 5, 6, 7, 8, 1, 2, 3, 4, 5, 6, 7, 8, 2, 4, 1, 3, 4, 6, 8, 6, 2, 7, 8, 5, 3, 4, 5, 2, 3, 6, 2, 3, 1, 2, 3, 4, 5, 7, 8, 1, 2, 3, 4, 5, 6, 7, 8, 1, 2, 3, 4, 5, 6, 7, 8, 3, 2, 3, 8, 1, 2, 3, 4, 5, 7, 8, 1, 2, 3, 4, 5, 6, 7, 8, 3, 6, 8, 8, 1, 5, 7, 6, 1, 2, 3, 4, 5, 6, 7, 8, 1, 2, 3, 4, 5, 6, 7, 8, 5, 7, 1, 2, 3, 4, 5, 6, 7, 8, 5, 1, 2, 3, 4, 5, 6, 7, 8, 1, 2, 3, 4, 5, 6, 7, 8, 1, 2, 3, 4, 5, 6, 7, 8, 5, 1, 2, 3, 4, 5, 6, 7, 8, 1, 1, 2, 3, 4, 5, 6, 7, 8, 8, 6, 1, 2, 3, 4, 5, 6, 7, 8, 1, 2, 3, 4, 5, 6, 7, 8, 1, 2, 3, 4, 5, 6, 7, 8, 1, 2, 3, 4, 5, 6, 7, 8, 1, 2, 3, 4, 5, 6, 7, 8, 1, 2, 3, 4, 5, 6, 7, 8, 1, 2, 3, 4, 5, 6, 7, 8, 1, 2, 3, 4, 5, 6, 7, 8, 2, 3, 4, 6, 8, 1, 2, 3, 4, 5, 6, 7, 8, 5, 1, 2, 3, 4, 5, 6, 7, 8, 7, 1, 2, 3, 4, 5, 6, 7, 8, 2, 1, 2, 4, 6, 1, 2, 3, 4, 5, 6, 7, 8, 3, 1, 2, 5, 6, 7, 5, 1, 7, 7, 2, 6, 1, 2, 3, 4, 5, 6, 7, 8, 2, 5, 6, 8, 4, 8, 1, 2, 3, 4, 5, 6, 7, 8, 1, 4, 1, 2, 3, 4, 5, 6, 8, 4, 1, 2, 3, 4, 5, 6, 7, 8, 1, 2, 3, 4, 5, 6, 7, 8, 1, 2, 3, 5, 6, 7, 8, 1, 2, 3, 4, 5, 6, 7, 8, 2, 3, 5, 6, 8, 2, 2, 1, 2, 3, 4, 5, 6, 7, 8, 1, 2, 3, 4, 5, 6, 7, 8, 1, 2, 3, 4, 5, 6, 7, 8, 1, 2, 3, 4, 5, 6, 7, 8, 5, 3, 4, 4, 1, 2, 3, 4, 5, 6, 7, 8, 1, 2, 3, 6, 7, 8, 1, 2, 3, 4, 5, 6, 7, 8, 1, 2, 3, 4, 5, 6, 7, 8, 6, 1, 2, 3, 6, 7, 8, 1, 2, 3, 4, 5, 6, 7, 8, 1, 2, 3, 4, 5, 6, 7, 8, 1, 2, 3, 4, 5, 6, 7, 8, 1, 2, 3, 4, 5, 6, 7, 8, 1, 2, 3, 4, 5, 6, 7, 8, 1, 2, 3, 4, 5, 6, 7, 8, 2, 3, 6, 7, 8, 3, 4, 5, 2, 5, 6, 7, 8, 2, 3, 4, 5, 6, 7, 3, 4, 2, 3, 4, 5, 6, 8, 1, 2, 3, 4, 5, 6, 7, 8, 1, 2, 3, 4, 5, 6, 7, 8, 1, 2, 3, 4, 5, 6, 7, 8, 4, 5, 5, 8, 5, 7, 1, 5, 8, 3, 8, 4, 2, 1, 2, 3, 4, 5, 6, 7, 8, 8, 1, 2, 3, 4, 5, 6, 7, 8, 3, 4, 1, 2, 3, 4, 5, 6, 8, 1, 2, 3, 4, 5, 6, 7, 8, 1, 2, 3, 4, 5, 6, 7, 8, 5, 6, 8, 2, 1, 2, 3, 4, 5, 6, 7, 8, 2, 4, 7, 1, 2, 3, 4, 5, 6, 7, 8, 1, 2, 3, 4, 5, 6, 7, 8, 1, 7, 1, 2, 3, 4, 5, 6, 7, 8, 2, 1, 3, 7, 8, 3, 3, 5, 8, 3, 5, 6, 7, 4, 2, 1, 2, 3, 4, 5, 6, 7, 8, 6, 2, 3, 4, 5, 6, 7, 8, 1, 2, 3, 4, 5, 6, 7, 2, 2, 8, 1, 2, 3, 4, 5, 6, 7, 8, 1, 2, 3, 4, 5, 6, 7, 8, 2, 1, 2, 3, 4, 5, 6, 7, 8, 1, 3, 4, 6, 7, 8, 3, 7, 1, 2, 3, 4, 5, 6, 7, 8, 6, 5, 3, 8, 1, 2, 3, 4, 5, 6, 7, 8, 1, 2, 3, 4, 5, 6, 7, 8, 1, 2, 3, 4, 5, 6, 7, 8, 5, 3, 1, 2, 3, 4, 5, 6, 7, 8, 5, 6, 7, 8, 1, 2, 3, 4, 5, 6, 7, 8, 1, 2, 3, 4, 5, 6, 7, 8, 8, 1, 2, 3, 4, 5, 6, 7, 8, 1, 2, 3, 4, 5, 6, 7, 8, 1, 2, 3, 4, 5, 6, 7, 8, 2, 2, 1, 2, 3, 4, 5, 6, 7, 8, 1, 2, 3, 4, 5, 6, 7, 8, 5, 1, 1, 2, 3, 4, 5, 6, 7, 8, 4, 6, 2, 5, 6, 4, 3, 7, 1, 2, 3, 5, 6, 7, 8, 2, 3, 4, 5, 6, 7, 8, 3, 7, 1, 4, 2, 3, 5, 6, 7, 1, 1, 2, 3, 4, 5, 6, 7, 8, 5, 8, 1, 2, 3, 4, 5, 6, 7, 8, 1, 2, 3, 4, 5, 6, 7, 8, 1, 5, 8, 1, 2, 3, 5, 6, 7, 8, 8, 1, 2, 3, 4, 5, 6, 7, 8, 1, 2, 3, 4, 5, 6, 7, 8, 4, 6, 1, 2, 3, 4, 5, 6, 7, 8, 7, 1, 2, 4, 6, 8, 1, 2, 8, 3, 3, 1, 2, 3, 4, 5, 6, 7, 8, 7, 1, 2, 3, 4, 5, 6, 7, 8, 4, 1, 2, 7, 1, 6, 1, 2, 3, 4, 5, 6, 7, 8, 1, 2, 3, 4, 5, 6, 7, 8, 1, 2, 3, 4, 5, 6, 7, 8, 1, 6, 7, 8, 3, 1, 2, 3, 4, 5, 6, 7, 8, 1, 2, 3, 5, 6, 7, 8, 1, 2, 3, 5, 6, 8, 5, 1, 2, 3, 4, 5, 6, 7, 8, 8, 6, 3, 1, 2, 3, 4, 5, 6, 7, 8, 1, 2, 3, 4, 5, 6, 7, 8, 1, 2, 3, 4, 6, 7, 8, 2, 1, 2, 3, 4, 5, 6, 7, 8, 4, 6, 2, 3, 4, 5, 6, 7, 8, 5, 1, 2, 3, 4, 5, 6, 7, 8, 1, 2, 3, 4, 5, 6, 7, 8, 8, 7, 1, 2, 3, 4, 5, 6, 7, 8, 1, 2, 3, 4, 5, 6, 7, 8, 3, 1, 2, 3, 4, 5, 6, 7, 8, 1, 2, 5, 6, 8, 1, 2, 3, 6, 7, 8, 2, 3, 6, 8, 1, 1, 1, 2, 5, 6, 8, 1, 2, 3, 4, 5, 6, 7, 8, 1, 2, 3, 4, 5, 6, 7, 8, 1, 2, 3, 4, 5, 6, 7, 8, 1, 2, 3, 4, 5, 6, 7, 8, 3, 4, 5, 6, 7, 8, 1, 2, 3, 4, 5, 6, 7, 8, 1, 2, 3, 4, 5, 6, 7, 8, 6, 1, 2, 3, 4, 5, 6, 7, 8, 2, 1, 2, 3, 4, 5, 6, 7, 8, 1, 2, 3, 4, 5, 6, 7, 8, 1, 2, 3, 4, 5, 6, 7, 8, 1, 2, 3, 4, 5, 6, 7, 8, 1, 2, 3, 4, 5, 6, 7, 8, 6, 6, 1, 2, 3, 4, 5, 6, 7, 8, 1, 2, 3, 4, 5, 6, 7, 8, 2, 3, 6, 8, 2, 3, 4, 5, 6, 7, 2, 1, 2, 3, 4, 5, 6, 7, 8, 2, 3, 4, 6, 1, 8, 1, 2, 3, 4, 5, 6, 7, 8, 1, 2, 3, 5, 6, 7, 8, 2, 3, 6, 7, 2, 4, 5, 6, 7, 8, 6, 1, 2, 3, 4, 5, 6, 7, 8], \"Freq\": [0.06688152769120613, 0.009908374472771278, 0.022293842563735376, 0.03963349789108511, 0.8471660174219443, 0.012385468090964098, 0.0024770936181928195, 0.014955606056815845, 0.02991121211363169, 0.02991121211363169, 0.9122919694657666, 0.04830655353538639, 0.009661310707077278, 0.8791792743440323, 0.05796786424246367, 0.024353615380217446, 0.052766166657137806, 0.004058935896702908, 0.23541828200876866, 0.06088403845054362, 0.4606892242757801, 0.11162073715932998, 0.05073669870878635, 0.9717299875135752, 0.9750989474276457, 0.04159158178892738, 0.004621286865436375, 0.11553217163590938, 0.0554554423852365, 0.0554554423852365, 0.7255420378735109, 0.9639081554542094, 0.011163591329805895, 0.03349077398941768, 0.07256334364373832, 0.011163591329805895, 0.8651783280599569, 0.011163591329805895, 0.9821614407185563, 0.013146393751837833, 0.006573196875918916, 0.1183175437665405, 0.039439181255513496, 0.12489074064245942, 0.6770392782196484, 0.026292787503675665, 0.9646239869751627, 0.9347745673464122, 0.025965960204067003, 0.025965960204067003, 0.0025684933288829498, 0.15667809306185995, 0.019691782188102615, 0.022260275516985565, 0.020547946631063598, 0.6087329189452592, 0.1327054886589524, 0.035958906604361296, 0.09413690283439265, 0.009413690283439264, 0.07530952226751411, 0.818991054659216, 0.05177837933769719, 0.008629729889616198, 0.06903783911692958, 0.008629729889616198, 0.8543432590720036, 0.011859553008557237, 0.007906368672371492, 0.003953184336185746, 0.0869700553960864, 0.8894664756417928, 0.8940193527257531, 0.0979747235863839, 0.0050921832879821365, 0.0050921832879821365, 0.0050921832879821365, 0.0050921832879821365, 0.09675148247166059, 0.8809477088209096, 0.003727028769039499, 0.022362172614236994, 0.9690274799502698, 0.003727028769039499, 0.021894806943197866, 0.0656844208295936, 0.010947403471598933, 0.9086344881427115, 0.9436260689323962, 0.024832264971905164, 0.001849162474074007, 0.05547487422222021, 0.004622906185185017, 0.04345531814073916, 0.02496369339999909, 0.7156258774666406, 0.12666762947406948, 0.027737437111110104, 0.9917239764431951, 0.01607920402783691, 0.045021771277943344, 0.040198010069592276, 0.05949305490299656, 0.03055048765289013, 0.2717385480704438, 0.49041572284902574, 0.04823761208351073, 0.0017695022668101686, 0.06901058840559658, 0.08847511334050844, 0.07431909520602709, 0.11501764734266096, 0.146868688145244, 0.4352975576353015, 0.0672410861387864, 0.005820574776192744, 0.05529546037383107, 0.06693660992621656, 0.20226497347269784, 0.09458434011313209, 0.08730862164289116, 0.43799825190850394, 0.05093002929168651, 0.0037964563873900867, 0.01708405374325539, 0.0018982281936950434, 0.05220127532661369, 0.013287597355865304, 0.8703376268091774, 0.037015449777053344, 0.0037964563873900867, 0.98396600340334, 0.9814456848803684, 0.0028414090431832448, 0.01704845425909947, 0.004262113564774867, 0.26140963197285855, 0.01704845425909947, 0.6492619663673714, 0.025572681388649203, 0.022731272345465958, 0.9699533257107259, 0.9625025644373185, 0.9708876491093117, 0.014670526972417561, 0.968254780179559, 0.9241867966207478, 0.9488616584767173, 0.9798684406633213, 0.968682381810769, 0.16286228703499162, 0.18186288718907395, 0.0787167720669126, 0.07464521489103781, 0.04342994320933109, 0.23207875902486302, 0.03664401458287311, 0.18729163009024033, 0.9708840823061201, 0.9655617727795661, 0.9667372559148799, 0.9768512918019898, 0.008494359059147737, 0.10519768084864052, 0.017960579657084967, 0.07184231862833987, 0.5003304333045098, 0.03335536222030065, 0.23861912972984312, 0.0076973912816078426, 0.02565797093869281, 0.049935731484120394, 0.19738375751990897, 0.1706465154654193, 0.12542912081444416, 0.1718260996737056, 0.09200756824633206, 0.04718336833145234, 0.1458752470914068, 0.014673681868201583, 0.004891227289400528, 0.07581402298570818, 0.004891227289400528, 0.009782454578801055, 0.004891227289400528, 0.6627612977137715, 0.22010522802302374, 0.9696364646323268, 0.9735341111771518, 0.021663227016683505, 0.4682052290702564, 0.07337544634683123, 0.20335480844693227, 0.10132799733610028, 0.09713511468770991, 0.013277461719902794, 0.023060854566146958, 0.9829633182801863, 0.010921814647557626, 0.941408307741738, 0.963559341062986, 0.9812175271797012, 0.949346106870987, 0.010772692890339754, 0.010772692890339754, 0.8941335098981995, 0.07540885023237827, 0.05334915587720063, 0.2867902599178993, 0.22264792221583152, 0.11194071435505103, 0.12766792215700035, 0.13106006501624431, 0.028062272744654664, 0.03854707794595421, 0.958589999793542, 0.9647430718702851, 0.9769933326790415, 0.9621573681279912, 0.008934162560719648, 0.13699049259770127, 0.7772721427826094, 0.008934162560719648, 0.011912216747626197, 0.002978054186906549, 0.05360497536431789, 0.10068784865447755, 0.12139825953745544, 0.12646570049818406, 0.09804396641409739, 0.24081360739462573, 0.14871837602138369, 0.011677146561679015, 0.1520232288218589, 0.9738876967686678, 0.022121007027102742, 0.09177864617627733, 0.042359375158281844, 0.4805435781845085, 0.11907691016717008, 0.1416685769182537, 0.05694982660169003, 0.04565399322614821, 0.9648428070933653, 0.017806395269948844, 0.19751908827221032, 0.24566230511318313, 0.15728982488454812, 0.12068779016298661, 0.10123265459026472, 0.0761718019881145, 0.08375600738087048, 0.023210142326910266, 0.1403158604308666, 0.11868822780806386, 0.019517619683992724, 0.03376020702096039, 0.05908036228668068, 0.017935109979885205, 0.5876386034585918, 0.9782856363142222, 0.013881978846192161, 0.565194853023538, 0.04065436662099133, 0.0674267543957905, 0.01784825851653278, 0.07238460398371627, 0.0009915699175851544, 0.22112009162148943, 0.9351572129442827, 0.9691517428673713, 0.008541960726320848, 0.23832070426435165, 0.12812941089481272, 0.08285701904531223, 0.28615568433174843, 0.12812941089481272, 0.0392930193410759, 0.08883639155373682, 0.9768052248477532, 0.004932498633421279, 0.04110415527851066, 0.0065766648445617065, 0.021374160744825545, 0.004932498633421279, 0.9207330782386389, 0.008123810170660129, 0.008123810170660129, 0.04061905085330065, 0.004061905085330064, 0.008123810170660129, 0.07311429153594116, 0.8570619730046437, 0.9575035798965781, 0.04498445086152118, 0.9446734680919449, 0.01152246365952088, 0.45129649333123445, 0.03200684349866911, 0.17475736550273335, 0.09666066736598071, 0.122266142164916, 0.02624561166890867, 0.08513820370645983, 0.024089337562549537, 0.20127275463445993, 0.06783050313665265, 0.016482178332270735, 0.03518311144003945, 0.12900474194681133, 0.09667431521812643, 0.42980449651075225, 0.00254529426460954, 0.5065135586572985, 0.04454264963066695, 0.024180295513790633, 0.062359709482933734, 0.12090147756895316, 0.21125942396259184, 0.02672558977840017, 0.9790030535288841, 0.027757219305579162, 0.9437454563896914, 0.013878609652789581, 0.9737313034617717, 0.9705008632197918, 0.6725334388512392, 0.31705147831558417, 0.9561728982830683, 0.9761279466686681, 0.9756802603451135, 0.6141819865622461, 0.009748920421622955, 0.24372301054057385, 0.04874460210811477, 0.07799136337298364, 0.002859679794287408, 0.21066307817917237, 0.004766132990479013, 0.37652450624784206, 0.19350499941344793, 0.16681465466676546, 0.03145647773716149, 0.013345172373341237, 0.009700729020638165, 0.1067080192270198, 0.7566568636097769, 0.11640874824765798, 0.9672298624686704, 0.9788113118167507, 0.05292105893371117, 0.07938158840056676, 0.01984539710014169, 0.006615132366713896, 0.07276645603385286, 0.006615132366713896, 0.7342796927052425, 0.033075661833569484, 0.9654426735431575, 0.9577999643728028, 0.05357125192517498, 0.5603552951373303, 0.05142840184816798, 0.011785675423538495, 0.10178537865783246, 0.10392822873483946, 0.02249992580857349, 0.09428540338830796, 0.9796895287431048, 0.9703678992301394, 0.007506310077589072, 0.10508834108624701, 0.007506310077589072, 0.8557193488451542, 0.022518930232767215, 0.0021822275048141346, 0.8510687268775124, 0.04364455009628269, 0.0021822275048141346, 0.015275592533698942, 0.010911137524070672, 0.0021822275048141346, 0.07201350765886644, 0.9548571273991155, 0.006919254546370403, 0.006919254546370403, 0.02767701818548161, 0.9866822623792233, 0.9732158915237846, 0.9654688771004881, 0.023548021392694834, 0.012346393974638312, 0.04938557589855325, 0.25022025121933644, 0.004115464658212771, 0.014815672769565974, 0.04527011124034047, 0.012346393974638312, 0.6115580482104177, 0.019608378086201524, 0.019608378086201524, 0.9412021481376732, 0.9872674704577978, 0.9731873541551377, 0.951648224404183, 0.942557910340044, 0.03821180717594773, 0.021608875793595037, 0.03781553263879132, 0.15936545897776339, 0.078332174751782, 0.6779784780240443, 0.013505547370996898, 0.005402218948398759, 0.005402218948398759, 0.9535337886869332, 0.9824247729947487, 0.98067943460632, 0.9656562394875474, 0.974954207300812, 0.09985818533615294, 0.011412364038417479, 0.38992243797926385, 0.20827564370111898, 0.16262618754744906, 0.11887879206684873, 0.008559273028813109, 0.04234723572965267, 0.9316391860523586, 0.9756626250792391, 0.963842599469332, 0.9868400879838938, 0.004831948835532519, 0.05798338602639023, 0.06764728369745528, 0.864918841560321, 0.4748026875053977, 0.010210810483987049, 0.13954774328115632, 0.018719819220642923, 0.04254504368327937, 0.015316215725980572, 0.29781530578295556, 0.018005600591397948, 0.9723024319354893, 0.9366613855629661, 0.02464898383060437, 0.9856761199307883, 0.02337759733572935, 0.09392052262950915, 0.3734947129895473, 0.10294345493452749, 0.0410133286591743, 0.07778861335690058, 0.01093688764244648, 0.27642983516283476, 0.016881506662531718, 0.07887738457838095, 0.2345947305172511, 0.02066529263861641, 0.022993776316206995, 0.0436590689548234, 0.03492725516385872, 0.5474847246934855, 0.0053534427306213914, 0.09024374888761774, 0.23784581274617894, 0.0053534427306213914, 0.002294332598837739, 0.03900365418024156, 0.06118220263567304, 0.5575228215175706, 0.07208479164715366, 0.012014131941192278, 0.865017499765844, 0.03604239582357683, 0.9747299114397793, 0.09522315541805465, 0.10465119060796106, 0.0047140175949532005, 0.0009428035189906402, 0.0047140175949532005, 0.06411063929136353, 0.0028284105569719204, 0.7231302990658209, 0.9867325002406092, 0.972404250709367, 0.017509448051176265, 0.008754724025588132, 0.008754724025588132, 0.9630196428146944, 0.010231301674050834, 0.17506893975598095, 0.12391243138572677, 0.11424953536023433, 0.22338341988344323, 0.1398277895453614, 0.10401823368618349, 0.10970229017176729, 0.904882239782878, 0.08320756227888533, 0.06494077565847776, 0.09741116348771665, 0.8279948896455915, 0.9688763276035239, 0.022019916536443723, 0.966706182395406, 0.3011097730710775, 0.06799252940314654, 0.22987950417254305, 0.061517050412370676, 0.0032377394953879302, 0.035615134449267234, 0.08741896637547412, 0.21369080669560342, 0.9934134074779145, 0.9759395666738857, 0.05332979697723454, 0.07466171576812836, 0.8106129140539651, 0.05332979697723454, 0.030962301147131496, 0.08669444321196819, 0.07121329263840244, 0.5356478098453749, 0.08979067332668134, 0.08979067332668134, 0.0928869034413945, 0.014597141164004962, 0.20385662660075896, 0.23305090892876887, 0.09211299424182441, 0.2617418415614683, 0.07550245429657738, 0.04731487135918849, 0.07248235612471429, 0.022777907511946797, 0.38234344752196414, 0.1840826811169578, 0.04811251892829579, 0.0306804468528263, 0.11784080723017375, 0.023707618022638505, 0.1903582270641268, 0.9691509917391055, 0.9400429711882756, 0.03357296325672413, 0.006731705242316895, 0.07320729451019624, 0.22719505192819522, 0.005890242087027283, 0.00420731577644806, 0.03449998936687409, 0.04628047354092866, 0.6016461560320725, 0.959816672927634, 0.9821319826344446, 0.02777341580166329, 0.9442961372565519, 0.9726494665221627, 0.016426109717710476, 0.09407681020143271, 0.0059731308064401726, 0.0029865654032200863, 0.016426109717710476, 0.4106527429427619, 0.4539579412894531, 0.9771805397932872, 0.9545060550359169, 0.09891189570012356, 0.2269155254296952, 0.13440381121605025, 0.08262052464363262, 0.20247846884495882, 0.09600272229717874, 0.0029091734029448105, 0.15534985971725288, 0.9511376162214046, 0.10764751281295634, 0.3008427179275998, 0.2545043845975193, 0.04776412820177533, 0.0712897435847393, 0.04776412820177533, 0.005703179486779144, 0.1646793076807478, 0.0037060903450048814, 0.25095526050461625, 0.10218220522656317, 0.2774273343975083, 0.2340131332131654, 0.07571013133367115, 0.02700151537074985, 0.02964872276003905, 0.972966594485036, 0.010731865081885006, 0.1303155045657465, 0.08738804423820648, 0.10885177440197649, 0.4108771202778831, 0.18090858280891867, 0.036794965995034304, 0.03526184241190788, 0.8310041628749378, 0.1025931065277701, 0.06155586391666206, 0.11577191281324886, 0.2230727100547966, 0.26542828791330225, 0.09882968166984658, 0.0894173310346231, 0.10165338686041363, 0.01788346620692462, 0.08659362584405605, 0.9642709654842242, 0.6405829301555414, 0.34316942686904, 0.011438980895634668, 0.9471752402170541, 0.9858519700911833, 0.0017287576387709437, 0.0033823519019431504, 0.045398678861636954, 0.010823526086218081, 0.4351207813410866, 0.3754410611156897, 0.008042481189064825, 0.12003591083118248, 0.02236633541321024, 0.015975953866578744, 0.06709900623963072, 0.0015975953866578744, 0.004792786159973623, 0.05911102930634135, 0.012780763093262995, 0.813176051808858, 0.974614564339187, 0.9688288718543475, 0.9794117999259936, 0.9654253065409357, 0.9692806107587474, 0.944056169458463, 0.9823712635766149, 0.0024447353996452383, 0.1466841239787143, 0.046449972593259524, 0.49872602152762857, 0.0073342061989357145, 0.16379727177623096, 0.051339443392550005, 0.08556573898758334, 0.0597753363096525, 0.14696642837034865, 0.13797765599295728, 0.15955070969869653, 0.16404509588739222, 0.15775295522321828, 0.05348319564547856, 0.12044954985704415, 0.9869910827949847, 0.026527483692952117, 0.9019344455603721, 0.053054967385904234, 0.026527483692952117, 0.9240591829167714, 0.01925123297743274, 0.03850246595486548, 0.9713021240726893, 0.013593767548817672, 0.21271374291178075, 0.24813412314461553, 0.11698298552574081, 0.1828457466073363, 0.10530383312464393, 0.019529074506752148, 0.10070875677011402, 0.01384240378026811, 0.08305442268160866, 0.124581634022413, 0.033976809278839906, 0.023909606529554008, 0.03775201030982212, 0.00943800257745553, 0.6726149836866641, 0.014062582016475391, 0.028125164032950782, 0.9421929951038512, 0.9109044430718782, 0.038488920129797675, 0.038488920129797675, 0.9680190975343255, 0.01866214580113975, 0.03359186244205155, 0.0671837248841031, 0.007464858320455899, 0.029859433281823597, 0.04105672076250745, 0.044789149922735395, 0.7576831195262738, 0.023388803516357852, 0.11469509416675486, 0.37916848777480133, 0.051725238545791405, 0.051725238545791405, 0.1160444482157755, 0.03283428185950237, 0.23028975769952348, 0.019152685590177763, 0.11874665065910214, 0.09448658224487698, 0.4596644541642664, 0.10214765648094808, 0.13406879913124436, 0.02298322270821332, 0.04724329112243849, 0.9794689697206986, 0.004860294181649684, 0.10530637393574317, 0.027541667029348214, 0.08100490302749475, 0.48278922204386865, 0.11178676617794274, 0.06156372630089601, 0.1247475506623419, 0.010626877704192083, 0.1651397986598345, 0.09517168351010963, 0.13730302166478267, 0.11981099287735146, 0.12338463316725676, 0.15667591376269036, 0.19194210083412427, 0.9765385504682336, 0.22683938776434664, 0.7291266035282571, 0.016202813411739046, 0.02430422011760857, 0.0238072800176915, 0.13045417723979935, 0.17393890298639914, 0.07652340005686553, 0.1365274629585982, 0.09595791435702186, 0.03328160573901771, 0.3291720859588978, 0.9691275790536004, 0.9756130841235071, 0.9810852437904015, 0.9602924048333107, 0.01655676560057432, 0.01655676560057432, 0.9744983118881698, 0.9596450412217933, 0.03534727315061211, 0.20943259341737677, 0.0627414098423365, 0.3366827767595804, 0.09543763750665271, 0.09013554653406089, 0.020324682061601967, 0.15022591089010148, 0.0540565916698202, 0.40317207953740897, 0.225986584619665, 0.06156445162396189, 0.16066820301863224, 0.02627750983949593, 0.010511003935798372, 0.057810521646891044, 0.017216136702141446, 0.06886454680856578, 0.8952391085113552, 0.04570295987539656, 0.9292935174663968, 0.01523431995846552, 0.9617365166525784, 0.9637235299406474, 0.9642256726507996, 0.020515439843634034, 0.9539795458241113, 0.017345082651347477, 0.017345082651347477, 0.017022749650962548, 0.10894559776616031, 0.12207743321118857, 0.06760463432810841, 0.11770015472951248, 0.25388215193721286, 0.05544552743456373, 0.2572867018674054, 0.9426219224404255, 0.052367884580023644, 0.9801401243603675, 0.974720118127805, 0.9474953641026862, 0.03677367487266847, 0.1967391605687763, 0.3088988689304151, 0.054241170437185994, 0.16502186599109975, 0.06711195664261996, 0.05516051230900271, 0.11583707584890568, 0.034754590937773035, 0.11097079913464372, 0.06585080388209627, 0.12926268910189267, 0.2920605098104085, 0.11340971779694357, 0.03780323926564786, 0.2152345719479628, 0.010695348432661463, 0.19786394600423707, 0.14109632740011085, 0.1176488327592761, 0.029206528412267844, 0.14808943983685102, 0.04442683195105531, 0.3105764641022848, 0.007082685493646908, 0.007082685493646908, 0.007082685493646908, 0.007082685493646908, 0.9632452271359795, 0.9777861842476753, 0.9559648210491394, 0.02515696897497735, 0.011775955161043659, 0.09394595339588163, 0.1769010153081225, 0.049197323783915725, 0.03441195785949425, 0.06843138388028704, 0.06777716414911794, 0.4975995275272115, 0.9665932161630363, 0.9774205429334796, 0.976702727773457, 0.9761051258088208, 0.9874600963650334, 0.9840449051046929, 0.9930480561166198, 0.016847526920915054, 0.10108516152549032, 0.8592238729666677, 0.982660309484162, 0.06688905167012615, 0.09453652636044496, 0.1302106872511789, 0.05440309535836927, 0.38082166750858487, 0.06510534362558945, 0.16945226423098625, 0.03924157697980734, 0.9580719217105935, 0.040285304624202295, 0.07762290403199955, 0.05600639911169587, 0.18275772341711286, 0.21223477558116333, 0.12282105068354358, 0.2819971323694161, 0.025546778542177066, 0.9633796668538828, 0.017492859680811417, 0.7308128044427881, 0.011661906453874278, 0.027211115059039982, 0.05247857904243425, 0.13022462206826277, 0.001943651075645713, 0.029154766134685695, 0.9872373842978556, 0.9759221849276052, 0.9778873096169051, 0.9747862060079827, 0.9599806718531, 0.04742533282834366, 0.01976055534514319, 0.1976055534514319, 0.5888645492852671, 0.07904222138057276, 0.03952111069028638, 0.02371266641417183, 0.9795474234513689, 0.014762633340274892, 0.07233690336734697, 0.01919142334235736, 0.4886431635630989, 0.13286370006247403, 0.13286370006247403, 0.13286370006247403, 0.004428790002082467, 0.02068486774597472, 0.13665042550293535, 0.0658006816486125, 0.2360029398733651, 0.11107936852562802, 0.1234577145783373, 0.2171096748455457, 0.08925438995900903, 0.9068153327823859, 0.08719378199830634, 0.9213650201000293, 0.025593472780556372, 0.025593472780556372, 0.9675380609375803, 0.95750226144773, 0.9589763051261168, 0.01644700119862868, 0.9374790683218348, 0.03289400239725736, 0.9729209265936051, 0.0377782667409028, 0.12592755580300935, 0.8185291127195607, 0.017327240470078276, 0.9356709853842269, 0.017327240470078276, 0.9711105644709918, 0.9811630975681322, 0.733295360121502, 0.07740339912393632, 0.02036931555893061, 0.06518180978857795, 0.06110794667679183, 0.004073863111786122, 0.04073863111786122, 0.0049527271327047895, 0.06273454368092733, 0.17499635868890256, 0.06273454368092733, 0.0033018180884698597, 0.009905454265409579, 0.024763635663523947, 0.6562363450833846, 0.0017541767530420188, 0.017541767530420187, 0.032978522957189955, 0.001403341402433615, 0.0007016707012168075, 0.00842004841460169, 0.3361002658828508, 0.6009809555921957, 0.9625156190242529, 0.9144842553353443, 0.019880092507290094, 0.03976018501458019, 0.40906020713570634, 0.05356740807729488, 0.1314836380079056, 0.014609293111989512, 0.19966033919719, 0.029218586223979024, 0.16070222423188463, 0.05326650552473204, 0.16098321669696794, 0.3704981384275806, 0.08404270871679943, 0.12665591313658506, 0.09351230969897402, 0.016571801718805523, 0.09587970994451767, 0.8842559467844516, 0.011193113250436097, 0.10073801925392488, 0.9788481187469504, 0.9764504087907715, 0.023951246780052494, 0.9580498712020997, 0.9719491365196036, 0.027662384188391547, 0.5152119055087926, 0.02996758287075751, 0.03803577825903838, 0.20631528207175362, 0.04149357628258732, 0.0023051986823659624, 0.13831192094195774, 0.0102154857809844, 0.10927474183901495, 0.020121411386787455, 0.5630899586548674, 0.027241295415958402, 0.07769960397051771, 0.11453726481709782, 0.07769960397051771, 0.987126467458226, 0.963501930848371, 0.0035062388575252813, 0.04628235291933371, 0.09256470583866742, 0.15217076641659721, 0.09677219246769776, 0.08765597143813203, 0.5063008910266505, 0.014024955430101125, 0.981165323477781, 0.07718936970277958, 0.018933241625210085, 0.24321933472385263, 0.008738419211635423, 0.034953676846541694, 0.017476838423270847, 0.5359563783136393, 0.06408174088532644, 0.0020505034856361576, 0.007176762199726552, 0.06664136328317512, 0.00820201394254463, 0.0030757552284542363, 0.0020505034856361576, 0.1732675445362553, 0.7361307513433806, 0.025935410709908752, 0.04115085165972189, 0.25555024686163424, 0.2586624961468233, 0.08161009236717955, 0.06328240213217735, 0.1199945002178445, 0.15388343687879194, 0.991036308707653, 0.028391648087555864, 0.1723587315503981, 0.25552483278800275, 0.15749329316493252, 0.15119891835306873, 0.09146931907453139, 0.07446111479566538, 0.06897027719382674, 0.9490161252764115, 0.02649662690981054, 0.221383032311875, 0.24738439516729657, 0.1938958772932865, 0.06661301531531809, 0.08097567289259858, 0.0470500851669533, 0.11613942075421631, 0.9848892619667595, 0.9800030124436421, 0.05970146632114085, 0.06540542807156832, 0.34185744090895304, 0.05780014573766503, 0.10153051915760897, 0.041829052836468116, 0.14716221316102873, 0.18480836071385004, 0.06477312892659053, 0.10842458537711892, 0.43933078750209226, 0.20417616726860058, 0.057732571434569814, 0.035202787460103545, 0.040835233453720116, 0.04928390244414496, 0.029358192021818816, 0.17926934645207238, 0.21912273755415493, 0.06027648120421737, 0.20153618774398327, 0.0721899504304627, 0.020706744131331146, 0.21756264039357517, 0.006411930844370317, 0.1709848225165418, 0.05058300999447695, 0.3270084730628862, 0.32843334658385737, 0.06483174520418877, 0.02636016013796686, 0.02564772337748127, 0.01726159734911203, 0.12411910474837698, 0.321394503023943, 0.08712996757170834, 0.08219808261481919, 0.09288383335474568, 0.05260677287348428, 0.22275680388616, 0.009822339536793161, 0.3607477429876761, 0.16519389220970315, 0.13036923385198196, 0.055362277389197814, 0.11429631460995678, 0.05446933743130753, 0.10983161482050535, 0.022637278047035782, 0.09660948583853067, 0.16131288687060932, 0.06666411015426285, 0.044205078391062004, 0.08707330965336205, 0.025845711156064478, 0.4957920384868506, 0.020438825730254146, 0.10595917549631755, 0.11348926918641118, 0.09627762646619716, 0.40232214858500265, 0.11079995001137774, 0.029044647090361156, 0.1220950905465182, 0.02732242182569057, 0.020491816369267928, 0.03415302728211322, 0.9084705257042115, 0.006830605456422643, 0.0818372890427322, 0.15498793846640344, 0.19156326317823905, 0.01737327923812192, 0.2519125489527678, 0.08046571436603836, 0.01828766235591781, 0.20345024370958562, 0.9605996077289103, 0.08240905935350026, 0.12228441065358103, 0.05050877831343564, 0.005316713506677436, 0.07886458368238197, 0.07532010801126368, 0.007975070260016155, 0.5777495343922814, 0.9804348984852024, 0.004322216129070372, 0.15759464962918124, 0.22475523871165934, 0.16889890719751913, 0.2034766362300821, 0.05685376600546412, 0.024935862283098298, 0.1589245622842798, 0.966801339274979, 0.9701211278970898, 0.9728163700481329, 0.9737583804079754, 0.012983445072106338, 0.0030266998476771445, 0.128418550680016, 0.03286131263192329, 0.5236190736481461, 0.023348827396366546, 0.05318344018061268, 0.08647713850506128, 0.1491730639212307, 0.9729311901971922, 0.9016099261402325, 0.08091371132027728, 0.011559101617182469, 0.011559101617182469, 0.9530599614007699, 0.9843579946771387, 0.9607691827102148, 0.03099255428097467, 0.9755352527208985, 0.9355217697479172, 0.06342520472867236, 0.048763820017115524, 0.15090425383674938, 0.17067337005990432, 0.3044443898365861, 0.20691674980235505, 0.054694554884062004, 0.029653674334732413, 0.0336074975793634, 0.19852753315667712, 0.68775609700706, 0.007090269041309897, 0.10635403561964846, 0.9645187829282854, 0.9721088832110335, 0.02875363705476868, 0.15482727644875444, 0.12322987309186577, 0.28880026668196235, 0.1153305222526436, 0.10205961284275036, 0.028121688987630906, 0.15925091291871885, 0.9654966946585809, 0.9710730838814476, 0.015180973872809958, 0.24964268146398597, 0.13662876485528963, 0.038795822119403224, 0.40145242019208555, 0.06409744524075316, 0.09277261811161641, 0.9846961063189287, 0.007885668022711139, 0.03785120650901346, 0.06308534418168911, 0.00630853441816891, 0.020502736859048958, 0.07254814580894246, 0.04889114174080905, 0.7459841949484737, 0.02249114846485507, 0.12782943874329022, 0.4871184180173041, 0.12298957135211887, 0.08740231112291781, 0.03985773145670519, 0.016227790664515684, 0.09622795165975967, 0.020538737975166275, 0.03227515967526129, 0.03227515967526129, 0.00880231627507126, 0.03227515967526129, 0.052813897650427565, 0.8186154135816271, 0.008751928804631076, 0.23302010442330243, 0.01203390210636773, 0.17175660279088487, 0.018597848709841037, 0.29537759715629885, 0.18707247819898926, 0.07439139483936415, 0.7299276295695661, 0.011773026283380098, 0.1648223679673214, 0.005886513141690049, 0.07652467084197064, 0.9752377434850773, 0.9784851252699014, 0.03094051958945744, 0.23341093725380177, 0.12783319935644258, 0.062423855312063264, 0.08087960383910806, 0.2078985789958281, 0.031211927656031632, 0.2255401033231503, 0.018952880569580062, 0.22743456683496074, 0.09121073774110405, 0.2943619263462903, 0.18538286307120497, 0.09002618270550529, 0.0029613875889968845, 0.09002618270550529, 0.004269364461070891, 0.07791590141454376, 0.0939260181435596, 0.24762313874211167, 0.02454884565115762, 0.3778387548047738, 0.10139740595043366, 0.07364653695347287, 0.0071669666550568485, 0.08945436158348732, 0.07565131469226673, 0.3636571969417734, 0.07432409864503398, 0.18634113303147806, 0.12608552448711122, 0.07697853073949948, 0.9680405067968675, 0.026307356846723157, 0.9470648464820337, 0.9580462515769528, 0.006137165514726717, 0.01611005947615763, 0.07824886031276564, 0.0007671456893408396, 0.006904311204067556, 0.01917864223352099, 0.20252646198598165, 0.6704853324838939, 0.028340737529227496, 0.06022406724960843, 0.07439443601422217, 0.014170368764613748, 0.003542592191153437, 0.8183387961564439, 0.061902213955569274, 0.02664664839147022, 0.22178210430439058, 0.007379071862253291, 0.005329329678294044, 0.013118349977339185, 0.22301194961476614, 0.4406945695512382, 0.12298582723939731, 0.2302888979851802, 0.17003409672024059, 0.12463664371240936, 0.04869908595385531, 0.12546205194891538, 0.038794187115783044, 0.13866858373301175, 0.9660182420914791, 0.5879591464824135, 0.051446425317211185, 0.08819387197236203, 0.13229080795854303, 0.007349489331030169, 0.12494131862751287, 0.009087623568050882, 0.030587611033927358, 0.17310814650360337, 0.019505143268011647, 0.051201001078530574, 0.08622159921882422, 0.12301539220166437, 0.5071337249683029, 0.007250918376664011, 0.1377674491566162, 0.05405230062604081, 0.08041927654118267, 0.07976010214330412, 0.15292846030782278, 0.22807434166597707, 0.26037388716202586, 0.03190468523005011, 0.08808467443948617, 0.21154193467750618, 0.35511301821273167, 0.15120046478588967, 0.07906813296142853, 0.0034679005684837075, 0.07906813296142853, 0.010754855548103893, 0.012905826657724672, 0.12009588695382681, 0.49723282150733666, 0.11256748807015408, 0.1505679776734545, 0.08711432993964154, 0.008603884438483114, 0.2153547701962106, 0.11938144869572544, 0.2910410481274875, 0.045255712577464545, 0.2567091282411351, 0.03433191988635241, 0.006242167252064075, 0.031210836260320375, 0.020715955820972975, 0.12981998981143064, 0.167108710289182, 0.029002338149362168, 0.07319637723410452, 0.03797925233845045, 0.012429573492583786, 0.52894740529551, 0.002952851174258962, 0.02657566056833066, 0.005905702348517924, 0.6023816395488283, 0.3602478432595934, 0.960238542939706, 0.025952393052424486, 0.9457645875418338, 0.058950228105620915, 0.7761780033906754, 0.058950228105620915, 0.04912519008801743, 0.04912519008801743, 0.18059412386132537, 0.01203960825742169, 0.016052811009895588, 0.7705349284749882, 0.016052811009895588, 0.004013202752473897, 0.9829440161368767, 0.973619004785118, 0.03250357099000836, 0.13001428396003345, 0.7410814185721906, 0.006500714198001672, 0.019502142594005015, 0.07150785617801839, 0.0663985808933183, 0.2163308603298435, 0.1617126728208236, 0.1817036434123603, 0.1563579485552334, 0.1181609154606901, 0.014279264708240496, 0.08531860663173696, 0.02240191897824783, 0.17641511195370166, 0.42213616074635757, 0.009800839552983427, 0.19811697096387926, 0.06160527719018154, 0.0056004797445619574, 0.1050089952105367, 0.04503733562119213, 0.14360961735814096, 0.14360961735814096, 0.11386798062716501, 0.1121684585282521, 0.2982661283592158, 0.003399044197825821, 0.13936081211085866, 0.9620355113182406, 0.9815019960861545, 0.9483772787143842, 0.9750831025243484, 0.9779450537588634, 0.9783900740808427, 0.9059135272083642, 0.050328529289353566, 0.025164264644676783, 0.9830240455754214, 0.014894303720839719, 0.959835978201918, 0.9789973631804488, 0.06810063254997165, 0.14536099930257104, 0.20748789215517677, 0.060135646286817064, 0.24492332759200328, 0.07128662705523348, 0.08323410644996534, 0.1198730432604764, 0.9813011306580891, 0.00316510545228876, 0.02215573816602132, 0.04114637087975388, 0.541233032341378, 0.07596253085493024, 0.21839227620792445, 0.0474765817843314, 0.05064168723662016, 0.9775305335850574, 0.9505284486768206, 0.00806953162907403, 0.020173829072685077, 0.004034765814537015, 0.5810062772933302, 0.1654253983960176, 0.1896339932832397, 0.03631289233083314, 0.050016941993249596, 0.17956902125445348, 0.245984960622539, 0.12053263070504411, 0.14185132729233083, 0.13939147768610544, 0.017765580489405595, 0.10522689982186391, 0.19606625834463584, 0.15877758344473578, 0.010825744325777438, 0.01563718624834519, 0.06134588451273882, 0.1720090487317971, 0.012028604806419376, 0.3740896094796426, 0.021940088766805334, 0.9434238169726294, 0.021940088766805334, 0.9869566451833884, 0.0050345332831206275, 0.024333577535083032, 0.13089786536113632, 0.4195444402600523, 0.02601175529612324, 0.20138133132482508, 0.17369139826766164, 0.019299044251962404, 0.9860407286816483, 0.9741224867185496, 0.9653582701130544, 0.02843008580486065, 0.24254416952271743, 0.05064109033990803, 0.11905098430785398, 0.14836951029411652, 0.13015648657537765, 0.03775870770958055, 0.24254416952271743, 0.017310550281449736, 0.0278474069745061, 0.006773693588393376, 0.3642741885313771, 0.17385813543542997, 0.3334162510731406, 0.007526326209325973, 0.06924220112579894, 0.9442629096432696, 0.037770516385730785, 0.00996723608023436, 0.16577087375547672, 0.16367250826490107, 0.08288543687773836, 0.22295133337366332, 0.10281990903820708, 0.1038690917834949, 0.14845935845822758, 0.9857986120746123, 0.018444053103233885, 0.03074008850538981, 0.9406467082649281, 0.012296035402155923, 0.9817439853953541, 0.8851631467447961, 0.01383067416788744, 0.09681471917521207, 0.058179791316507655, 0.9163317132349955, 0.014544947829126914, 0.9532596998557437, 0.972965273907171, 0.9557946874907528, 0.02419342692048646, 0.06683434186784384, 0.03780222956326009, 0.4285260743291164, 0.01270154913325539, 0.23739800165727337, 0.11068492816122553, 0.08165281585664179, 0.9726837954988652, 0.03193481574779317, 0.0364969322831922, 0.04105904881859122, 0.6615068976328586, 0.17792254488056197, 0.04562116535399025, 0.9802139871863625, 0.0050997897464246135, 0.6731722465280491, 0.015299369239273842, 0.1529936923927384, 0.10199579492849228, 0.030598738478547684, 0.020399158985698454, 0.9642802208614941, 0.9528040614535171, 0.024430873370603002, 0.02027751223285734, 0.05576315864035768, 0.08111004893142935, 0.015208134174643003, 0.01013875611642867, 0.02788157932017884, 0.01774282320375017, 0.7756148429067932, 0.022418906871075932, 0.33877459271848076, 0.18682422392563278, 0.05542451976460439, 0.1681418015330695, 0.09029837489738918, 0.0292691284150158, 0.10898079728995246, 0.9848880703039548, 0.00778342182337282, 0.120210625938758, 0.14788501464408357, 0.16518150758491207, 0.3286333658757413, 0.05621360205769259, 0.03978193376390553, 0.13318299564437935, 0.009293340935336673, 0.03717336374134669, 0.7434672748269338, 0.1765734777713968, 0.009293340935336673, 0.018586681870673347, 0.015898513363772737, 0.969809315190137, 0.0025405633727454127, 0.6732492937775343, 0.14481211224648852, 0.015243380236472476, 0.09908197153707109, 0.01016225349098165, 0.0012702816863727063, 0.05462211251402637, 0.9788981592237207, 0.9894408769064943, 0.9908024532782866, 0.9745178886144463, 0.009982429850994705, 0.44625158630187434, 0.34938504478481464, 0.01996485970198941, 0.006654953233996469, 0.022552897070765812, 0.010721869099216534, 0.13494766280048395, 0.02187260721058046, 0.12225225101628008, 0.16677862998067602, 0.20622743941404434, 0.15506116183215077, 0.10155139062055214, 0.07772587205188414, 0.14881184548627063, 0.0030225835588086358, 0.45580560066834225, 0.0689149051408369, 0.27807768741039446, 0.10820849140534916, 0.053801987346793714, 0.013903884370519724, 0.018135501352851812, 0.970969442895359, 0.993417366836917, 0.2844336174870725, 0.043096002649556445, 0.23271841430760482, 0.31603735276341394, 0.014365334216518815, 0.040222935806252684, 0.0028730668433037633, 0.06320747055268279, 0.9065983240009641, 0.08336536312652543, 0.010420670390815678, 0.9764511825525227, 0.011185430851814516, 0.11135046028157694, 0.028719349484388625, 0.18914462800771034, 0.03688169091679381, 0.3489652886471502, 0.1940823407260789, 0.07970879102509264, 0.01511134131151127, 0.09066804786906761, 0.01511134131151127, 0.35007940705001106, 0.06674175745917477, 0.30978249688598103, 0.13348351491834953, 0.018889176639389087, 0.9597471831095299, 0.007676935692238097, 0.05885650697382541, 0.5911240483023334, 0.12538994963988892, 0.03582569989711112, 0.08444629261461907, 0.025589785640793658, 0.06909242123014288, 0.38567392680586626, 0.031927850949121574, 0.06966076570717435, 0.011610127617862391, 0.11247311129804191, 0.20753103116929023, 0.01197294410592059, 0.16907248343512105, 0.045082696299202286, 0.27049617779521373, 0.3333518601354477, 0.0914658549916508, 0.08886493020515836, 0.04161479658387904, 0.00780277435947732, 0.12094300257189845, 0.9751396145746393, 0.9687822333130437, 0.0314392077850935, 0.0020959471856729, 0.037727049342112205, 0.0020959471856729, 0.6350719972588887, 0.2389379791667106, 0.020959471856729, 0.0335351549707664, 0.008997959286174756, 0.10931563302991033, 0.015124229438463952, 0.4167778162979243, 0.020101823937198924, 0.22686344157695928, 0.1521995240959347, 0.0507331746986449, 0.9723105047333015, 0.994659862935003, 0.03691934509392946, 0.08398446441214487, 0.3187464068796505, 0.0789115773000019, 0.012118563656786005, 0.021700683757500523, 0.03720117215571518, 0.41062202902179556, 0.8955001854388777, 0.08955001854388776, 0.9839992922192818, 0.9433015304311838, 0.03252763898038565, 0.9575646992861823, 0.9768530513223376, 0.9756774966491406, 0.009907226204992287, 0.04755468578396298, 0.05151757626595989, 0.009907226204992287, 0.10501659777291823, 0.00792578096399383, 0.7688007535074014, 0.022798119253604004, 0.13678871552162403, 0.005066248723023112, 0.002533124361511556, 0.005066248723023112, 0.010132497446046223, 0.8181991687682326, 0.9646793827946677, 0.9615289034679645, 0.8936626700036366, 0.08592910288496507, 0.32468214884903696, 0.004919426497712681, 0.6444448712003613, 0.014758279493138045, 0.004919426497712681, 0.9664749983701135, 0.017722152840367433, 0.06379975022532276, 0.11932916245847405, 0.027173967688563398, 0.04844055109700431, 0.06261827336929826, 0.46904631184172474, 0.19258072753199276, 0.027705715010613658, 0.9697000253714779, 0.010249493087691085, 0.06559675576122294, 0.06969655299629937, 0.022548884792920387, 0.45097769585840775, 0.16604178802059558, 0.02049898617538217, 0.1926904700485924, 0.022184157999793466, 0.01971925155537197, 0.1331049479987608, 0.01232453222210748, 0.0024649064444214963, 0.017254345110950472, 0.01971925155537197, 0.7715157171039283, 0.9339748114201424, 0.9810764804856311, 0.9885349226210746, 0.004496691609110505, 0.033725187068328784, 0.0022483458045552524, 0.03147684126377353, 0.03597353287288404, 0.784672685789783, 0.10567225281409685, 0.9821851118831962, 0.008658956308210458, 0.1201430187764201, 0.18508519108799854, 0.008658956308210458, 0.0373417490791576, 0.11148406246820965, 0.01352961923157884, 0.5152079003385223, 0.033940029392287546, 0.14805722966780507, 0.16970014696143773, 0.016232187970224476, 0.02361045522941742, 0.07624209501166042, 0.06394498291300552, 0.46827402871677887, 0.03188068002306339, 0.9564204006919018, 0.3693120550813041, 0.010810558574373618, 0.04996231124913212, 0.1414137932431576, 0.003506127105202254, 0.0037983043639691085, 0.0020452408113679817, 0.41927436633043624, 0.9840206224822149, 0.7463827524880353, 0.16586283388623008, 0.013821902823852506, 0.05528761129541002, 0.013821902823852506, 0.9070485638381457, 0.06328245794219621, 0.021094152647398737, 0.9654290563122987, 0.9725967115209669, 0.005340615874932715, 0.4686390430253457, 0.1548778603730487, 0.02002730953099768, 0.006675769843665893, 0.012016385718598607, 0.01068123174986543, 0.32177210646469606, 0.9446425632517976, 0.002453976524072339, 0.2576675350275956, 0.499384222648721, 0.023312776978687222, 0.014723859144434035, 0.006134941310180848, 0.004907953048144678, 0.1926371571396786, 0.9665151461224248, 0.9420056827109381, 0.02616682451974828, 0.9837179474004082, 0.9356637625405615, 0.027519522427663572, 0.010702566514916412, 0.007135044343277608, 0.05708035474622086, 0.007135044343277608, 0.0927555764626089, 0.010702566514916412, 0.8133950551336473, 0.007135044343277608, 0.0068499984989586074, 0.12101664014826873, 0.2109799537679251, 0.22604995046563403, 0.18083996037250724, 0.11416664164931012, 0.01963666236368134, 0.12055997358167149, 0.020884623951457664, 0.13257196073533997, 0.10169903837231559, 0.3731991497412652, 0.22519072782441307, 0.0998829841156671, 0.0054481627699454775, 0.04086122077459108, 0.6471020133844224, 0.3039418547714712, 0.009804575960370038, 0.029413727881110113, 0.9676815751408516, 0.007417853629768052, 0.18297372286761196, 0.02967141451907221, 0.21944483654730487, 0.13846660108900363, 0.1984275845962954, 0.18482818627505396, 0.03956188602542961, 0.019524829392295974, 0.0048812073480739935, 0.05369328082881392, 0.0048812073480739935, 0.05369328082881392, 0.019524829392295974, 0.8395676638687268, 0.007797594059599805, 0.007797594059599805, 0.8187473762579794, 0.007797594059599805, 0.10136872277479746, 0.06238075247679844, 0.9553852545378607, 0.0032590326151147085, 0.6587451085906053, 0.03206467572935439, 0.12489454021794431, 0.010723268604570978, 0.030803114717051924, 0.0030487724463976306, 0.13635371941302507, 0.956358536859297, 0.9651295118495414, 0.989661193759296, 0.0066626987097088385, 0.17513379465520376, 0.08185601271928002, 0.29934553488620425, 0.2017845894940391, 0.1399166729038856, 0.03140986534577024, 0.06377154479292746, 0.010582118774244502, 0.15221970852182473, 0.0317463563227335, 0.2865312160410819, 0.190478137936401, 0.251528823172427, 0.01953621927552831, 0.05779464869010458, 0.002830648371146026, 0.01415324185573013, 0.5916055095695194, 0.04812102230948244, 0.008491945113438077, 0.011322593484584104, 0.31986326593950093, 0.9809212486578389, 0.015353127317274323, 0.5638784941980751, 0.06839120350422198, 0.002791477694049877, 0.07397415889232174, 0.03489347117562346, 0.00977017192917457, 0.23169264860613978, 0.9718476788764624, 0.9839072901106397, 0.034405401165716554, 0.005734233527619426, 0.24370492492382556, 0.7053107238971893, 0.002867116763809713, 0.005734233527619426, 0.002867116763809713, 0.9732938442990237, 0.00764886834045753, 0.07036958873220928, 0.03059547336183012, 0.2019301241880788, 0.47117028977218384, 0.2049896715242618, 0.006119094672366024, 0.00764886834045753, 0.19783223375721282, 0.25326348766019996, 0.04969698625785056, 0.03727273969338792, 0.05447554262879773, 0.08410259212867018, 0.006689978919326037, 0.31729614303089204, 0.9562782937975476, 0.9726951138298416, 0.003520002090165451, 0.15286866220147102, 0.021622869982444913, 0.3897145171254607, 0.013577150919209597, 0.22377156144623225, 0.09101719690284953, 0.10459434782205912, 0.00704365643905739, 0.04930559507340173, 0.0577579828002706, 0.00704365643905739, 0.018313506741549215, 0.019722238029360694, 0.02817462575622956, 0.8128379530672228, 0.9742309642656499, 0.04236520206741566, 0.06646283994062457, 0.10338663990763822, 0.15896667564745876, 0.22504084400948318, 0.16168737669765976, 0.22115412822348174, 0.020988265244407757, 0.03815842030390655, 0.18602229898154443, 0.7154703806982478, 0.0524678279178715, 0.004769802537988319, 0.0022603153234475805, 0.006780945970342742, 0.14466018070064515, 0.0022603153234475805, 0.009041261293790322, 0.8317960390287097, 0.00762065460807512, 0.09906850990497655, 0.00762065460807512, 0.8763752799286387, 0.970359865015297, 0.9505482378590778, 0.005278348063090371, 0.797030557526646, 0.005278348063090371, 0.010556696126180742, 0.1794638341450726, 0.023455767024673644, 0.15787535497376493, 0.14885390611812122, 0.1926079330679932, 0.2417748293312514, 0.12133848710840789, 0.04691153404934729, 0.06675872153176345, 0.009339001404838012, 0.1973438165710852, 0.08986875122360513, 0.05312513913899656, 0.04164276036255638, 0.1434531855136593, 0.07578369992450518, 0.3896353864805367, 0.09176347082171828, 0.11147562381305035, 0.1080769767455793, 0.08496617668677618, 0.07680942372484567, 0.11827291794799244, 0.029228364780251006, 0.3792890127297689, 0.03823215035403686, 0.03313453030683195, 0.08665954080248356, 0.005097620047204915, 0.0025488100236024575, 0.012744050118012287, 0.005097620047204915, 0.8156192075527864, 0.044405461744299816, 0.0031718186960214153, 0.5328655409315978, 0.3076664135140773, 0.03806182435225699, 0.06978001131247114, 0.019101767696868253, 0.16992020219900714, 0.14169520216930628, 0.07612196977707199, 0.13456767690928081, 0.0992151516195545, 0.03335681821691919, 0.3261555558987654, 0.010138675134476962, 0.35421996251078885, 0.20404083708134887, 0.005703004763143291, 0.04499037090924152, 0.06019838361095697, 0.021544684660763546, 0.29909091646707037, 0.985637966407563, 0.0555123726616482, 0.008881979625863711, 0.046630393035784486, 0.015543464345261495, 0.008881979625863711, 0.02220494906465928, 0.002220494906465928, 0.8437880644570526, 0.9717442665347288, 0.8720298530354372, 0.005737038506812087, 0.028685192534060436, 0.045896308054496696, 0.005737038506812087, 0.011474077013624174, 0.011474077013624174, 0.028685192534060436, 0.060610558766945724, 0.15631144103054423, 0.020203519588981908, 0.0010633431362622057, 0.03296363722412837, 0.04891378426806146, 0.03615366663291499, 0.6433225974386344, 0.022389008002867403, 0.13541738711411735, 0.13216736982337854, 0.0866671277530351, 0.2033066371873282, 0.13505627408181303, 0.020222329809041525, 0.2643347396467571, 0.012580171118411625, 0.07631970478503053, 0.0469659721754034, 0.0134188491929724, 0.0234829860877017, 0.03186976683330945, 0.027676376460505577, 0.7673904382231092, 0.019258726738686713, 0.1676295296744874, 0.16566435347666222, 0.19180119690773706, 0.23110472086424055, 0.12360958284320349, 0.027512466769552445, 0.07330107217887902, 0.9577702488218374, 0.9712144788983847, 0.00046073207374528483, 0.15388451263092515, 0.09905739585523624, 0.509569673562285, 0.040083690415839784, 0.07463859594673615, 0.08108884497917013, 0.04100515456333035, 0.0026247497796260703, 0.5406984546029705, 0.00787424933887821, 0.28609772597924166, 0.03937124669439105, 0.0026247497796260703, 0.03937124669439105, 0.08399199294803425, 0.0970072233729019, 0.008083935281075158, 0.864981075075042, 0.016167870562150317, 0.00885694368460957, 0.061998605792266986, 0.7882679879302517, 0.07085554947687656, 0.05314166210765742, 0.01771388736921914, 0.9660019676133526, 0.002094989244835478, 0.039804795651874086, 0.16969412883167373, 0.7374362141820883, 0.01256993546901287, 0.014664924713848346, 0.02304488169319026, 0.002094989244835478, 0.19012271346344556, 0.03621385018351344, 0.7514373913079039, 0.01810692509175672, 0.6574473925818105, 0.32872369629090525, 0.00405911488611675, 0.02570772761207275, 0.0460033020426565, 0.0081182297722335, 0.06359279988249575, 0.075770144540846, 0.11500825510664126, 0.6616357264370303, 0.05529120388726139, 0.11908874683410146, 0.629469090408822, 0.0680507124766294, 0.06379754294684006, 0.008506339059578675, 0.05954437341705073, 0.04659265579325783, 0.015530885264419276, 0.015530885264419276, 0.9163222306007374, 0.004516500664150072, 0.04516500664150072, 0.027099003984900435, 0.8987836321658644, 0.01806600265660029, 0.004516500664150072, 0.9833395451361164, 0.1733997124758029, 0.039634219994469234, 0.007431416248962982, 0.007431416248962982, 0.037157081244814906, 0.7084616824011376, 0.009908554998617309, 0.019817109997234617], \"Term\": [\"0\", \"0\", \"0\", \"0\", \"0\", \"0\", \"0\", \"00\", \"00\", \"00\", \"00\", \"0p\", \"0p\", \"0p\", \"0p\", \"10\", \"10\", \"10\", \"10\", \"10\", \"10\", \"10\", \"10\", \"112\", \"116\", \"120\", \"120\", \"120\", \"120\", \"120\", \"120\", \"122\", \"125\", \"125\", \"125\", \"125\", \"125\", \"125\", \"127\", \"130\", \"130\", \"130\", \"130\", \"130\", \"130\", \"130\", \"138lbs\", \"16\", \"16\", \"16\", \"2\", \"2\", \"2\", \"2\", \"2\", \"2\", \"2\", \"2\", \"24\", \"24\", \"24\", \"24\", \"25\", \"25\", \"25\", \"25\", \"25\", \"26\", \"26\", \"26\", \"26\", \"26\", \"265\", \"265\", \"27\", \"27\", \"27\", \"27\", \"27\", \"27\", \"28\", \"28\", \"28\", \"28\", \"32\", \"32\", \"32\", \"32\", \"38\", \"38\", \"4\", \"4\", \"4\", \"4\", \"4\", \"4\", \"4\", \"4\", \"46\", \"5\", \"5\", \"5\", \"5\", \"5\", \"5\", \"5\", \"5\", \"53\", \"53\", \"53\", \"53\", \"53\", \"53\", \"53\", \"53\", \"54\", \"54\", \"54\", \"54\", \"54\", \"54\", \"54\", \"54\", \"6\", \"6\", \"6\", \"6\", \"6\", \"6\", \"6\", \"6\", \"60\", \"6p\", \"8\", \"8\", \"8\", \"8\", \"8\", \"8\", \"8\", \"8\", \"99\", \"accentuated\", \"accidentally\", \"accommodate\", \"accommodate\", \"accommodates\", \"accurately\", \"adjustment\", \"adn\", \"adorable\", \"adorable\", \"adorable\", \"adorable\", \"adorable\", \"adorable\", \"adorable\", \"adorable\", \"adored\", \"advised\", \"affordable\", \"ag\", \"ag\", \"agree\", \"agree\", \"agree\", \"agree\", \"agree\", \"agree\", \"agree\", \"agree\", \"also\", \"also\", \"also\", \"also\", \"also\", \"also\", \"also\", \"also\", \"ankle\", \"ankle\", \"ankle\", \"ankle\", \"ankle\", \"ankle\", \"ankle\", \"ankle\", \"appealing\", \"ar\", \"arm\", \"arm\", \"arm\", \"arm\", \"arm\", \"arm\", \"arm\", \"arm\", \"armpit\", \"armpit\", \"artsy\", \"ask\", \"asked\", \"august\", \"awful\", \"awful\", \"awful\", \"awful\", \"back\", \"back\", \"back\", \"back\", \"back\", \"back\", \"back\", \"back\", \"backside\", \"backwards\", \"bare\", \"base\", \"basic\", \"basic\", \"basic\", \"basic\", \"basic\", \"basic\", \"basic\", \"beautiful\", \"beautiful\", \"beautiful\", \"beautiful\", \"beautiful\", \"beautiful\", \"beautiful\", \"beautiful\", \"bed\", \"big\", \"big\", \"big\", \"big\", \"big\", \"big\", \"big\", \"big\", \"bird\", \"bit\", \"bit\", \"bit\", \"bit\", \"bit\", \"bit\", \"bit\", \"bit\", \"black\", \"black\", \"black\", \"black\", \"black\", \"black\", \"black\", \"black\", \"block\", \"blouse\", \"blouse\", \"blouse\", \"blouse\", \"blouse\", \"blouse\", \"blouse\", \"blouse\", \"board\", \"boat\", \"body\", \"body\", \"body\", \"body\", \"body\", \"body\", \"body\", \"body\", \"bone\", \"boot\", \"boot\", \"boot\", \"boot\", \"boot\", \"boot\", \"booty\", \"booty\", \"booty\", \"booty\", \"booty\", \"booty\", \"booty\", \"border\", \"boring\", \"boring\", \"bottom\", \"bottom\", \"bottom\", \"bottom\", \"bottom\", \"bottom\", \"bottom\", \"bottom\", \"bought\", \"bought\", \"bought\", \"bought\", \"bought\", \"bought\", \"bought\", \"bought\", \"bra\", \"bra\", \"bra\", \"bra\", \"bra\", \"bra\", \"bra\", \"bra\", \"break\", \"breaker\", \"breaker\", \"breaker\", \"breathtaking\", \"bridal\", \"bring\", \"bring\", \"broke\", \"bulge\", \"bunching\", \"burgundy\", \"burgundy\", \"burgundy\", \"burgundy\", \"burgundy\", \"bust\", \"bust\", \"bust\", \"bust\", \"bust\", \"bust\", \"bust\", \"bust\", \"busted\", \"busted\", \"busted\", \"busted\", \"bustier\", \"bustline\", \"butt\", \"butt\", \"butt\", \"butt\", \"butt\", \"butt\", \"butt\", \"butt\", \"butter\", \"butterfly\", \"button\", \"button\", \"button\", \"button\", \"button\", \"button\", \"button\", \"button\", \"byron\", \"cable\", \"calf\", \"calf\", \"calf\", \"calf\", \"calf\", \"cami\", \"cami\", \"cami\", \"cami\", \"cami\", \"cami\", \"cami\", \"cami\", \"camisole\", \"camisole\", \"camisole\", \"camisole\", \"cape\", \"carrying\", \"cashmere\", \"cashmere\", \"casual\", \"casual\", \"casual\", \"casual\", \"casual\", \"casual\", \"casual\", \"casual\", \"casually\", \"casually\", \"casually\", \"caused\", \"challenge\", \"changed\", \"charming\", \"charming\", \"cheap\", \"cheap\", \"cheap\", \"cheap\", \"cheap\", \"cheap\", \"cheap\", \"cheap\", \"cheaper\", \"cheaply\", \"checked\", \"checking\", \"chemise\", \"chest\", \"chest\", \"chest\", \"chest\", \"chest\", \"chest\", \"chest\", \"cinched\", \"cinched\", \"citizen\", \"city\", \"cleaner\", \"closet\", \"closet\", \"closet\", \"closet\", \"coat\", \"coat\", \"coat\", \"coat\", \"coat\", \"coat\", \"coat\", \"cocktail\", \"cocktail\", \"coh\", \"coh\", \"college\", \"color\", \"color\", \"color\", \"color\", \"color\", \"color\", \"color\", \"color\", \"comfortable\", \"comfortable\", \"comfortable\", \"comfortable\", \"comfortable\", \"comfortable\", \"comfortable\", \"comfortable\", \"comfy\", \"comfy\", \"comfy\", \"comfy\", \"comfy\", \"comfy\", \"comfy\", \"comfy\", \"compared\", \"compared\", \"compared\", \"compared\", \"compelled\", \"compliment\", \"compliment\", \"compliment\", \"compliment\", \"compliment\", \"compliment\", \"compliment\", \"compliment\", \"contrast\", \"convinced\", \"cooler\", \"cooler\", \"cooler\", \"cooler\", \"could\", \"could\", \"could\", \"could\", \"could\", \"could\", \"could\", \"could\", \"coverup\", \"coverup\", \"create\", \"create\", \"create\", \"creates\", \"creates\", \"creative\", \"cropped\", \"cropped\", \"cropped\", \"cropped\", \"cropped\", \"cropped\", \"cropped\", \"cropped\", \"cross\", \"cuffed\", \"currently\", \"currently\", \"currently\", \"currently\", \"curve\", \"curve\", \"curve\", \"curve\", \"curve\", \"curve\", \"curve\", \"cut\", \"cut\", \"cut\", \"cut\", \"cut\", \"cut\", \"cut\", \"cut\", \"cute\", \"cute\", \"cute\", \"cute\", \"cute\", \"cute\", \"cute\", \"cute\", \"dance\", \"dart\", \"dart\", \"day\", \"day\", \"day\", \"day\", \"day\", \"day\", \"day\", \"day\", \"debated\", \"deciding\", \"def\", \"def\", \"delivered\", \"denim\", \"denim\", \"denim\", \"denim\", \"denim\", \"denim\", \"denim\", \"depicted\", \"depicts\", \"design\", \"design\", \"design\", \"design\", \"design\", \"design\", \"design\", \"design\", \"desired\", \"detail\", \"detail\", \"detail\", \"detail\", \"detail\", \"detail\", \"detail\", \"detail\", \"didnt\", \"didnt\", \"didnt\", \"didnt\", \"didnt\", \"didnt\", \"didnt\", \"didnt\", \"die\", \"disappointed\", \"disappointed\", \"disappointed\", \"disappointed\", \"disappointed\", \"disappointed\", \"disappointed\", \"disappointed\", \"disappointment\", \"disappointment\", \"disappointment\", \"doesnt\", \"doesnt\", \"doesnt\", \"doesnt\", \"doesnt\", \"doesnt\", \"doesnt\", \"doesnt\", \"dolman\", \"double\", \"double\", \"double\", \"dragging\", \"drawstring\", \"dress\", \"dress\", \"dress\", \"dress\", \"dress\", \"dress\", \"dress\", \"dress\", \"dressed\", \"dressed\", \"dressed\", \"dressed\", \"dressed\", \"dressed\", \"dressed\", \"dressed\", \"dressit\", \"drink\", \"duster\", \"dusty\", \"earring\", \"effort\", \"elasticized\", \"ended\", \"ended\", \"ended\", \"ended\", \"ended\", \"ended\", \"ended\", \"ended\", \"even\", \"even\", \"even\", \"even\", \"even\", \"even\", \"even\", \"even\", \"example\", \"exchanging\", \"exchanging\", \"exchanging\", \"exchanging\", \"exposed\", \"exposed\", \"exposed\", \"fab\", \"fabric\", \"fabric\", \"fabric\", \"fabric\", \"fabric\", \"fabric\", \"fabric\", \"fabric\", \"fall\", \"fall\", \"fall\", \"fall\", \"fall\", \"fall\", \"fall\", \"fall\", \"fallwinter\", \"fallwinter\", \"fallwinter\", \"fancy\", \"fancy\", \"fancy\", \"fat\", \"favorite\", \"favorite\", \"favorite\", \"favorite\", \"favorite\", \"favorite\", \"favorite\", \"favorite\", \"feel\", \"feel\", \"feel\", \"feel\", \"feel\", \"feel\", \"feel\", \"feel\", \"felt\", \"felt\", \"felt\", \"felt\", \"felt\", \"felt\", \"felt\", \"felt\", \"femininity\", \"figure\", \"figure\", \"figure\", \"figure\", \"figure\", \"figure\", \"figure\", \"figure\", \"fit\", \"fit\", \"fit\", \"fit\", \"fit\", \"fit\", \"fit\", \"fit\", \"flap\", \"flatter\", \"flatter\", \"flatter\", \"flatter\", \"flattering\", \"flattering\", \"flattering\", \"flattering\", \"flattering\", \"flattering\", \"flattering\", \"flattering\", \"flip\", \"flipped\", \"floaty\", \"floor\", \"floor\", \"floor\", \"flop\", \"flowed\", \"found\", \"found\", \"found\", \"found\", \"found\", \"found\", \"found\", \"found\", \"front\", \"front\", \"front\", \"front\", \"front\", \"front\", \"front\", \"front\", \"ft\", \"ft\", \"ft\", \"fully\", \"fully\", \"fully\", \"fussy\", \"g\", \"garden\", \"garden\", \"gathered\", \"gathered\", \"gathered\", \"get\", \"get\", \"get\", \"get\", \"get\", \"get\", \"get\", \"get\", \"giant\", \"giant\", \"glass\", \"goddess\", \"golden\", \"good\", \"good\", \"good\", \"good\", \"good\", \"good\", \"good\", \"good\", \"gorgeous\", \"gorgeous\", \"gorgeous\", \"gorgeous\", \"gorgeous\", \"gorgeous\", \"gorgeous\", \"gorgeous\", \"got\", \"got\", \"got\", \"got\", \"got\", \"got\", \"got\", \"got\", \"goto\", \"goto\", \"goto\", \"goto\", \"goto\", \"graduation\", \"grandma\", \"grandma\", \"great\", \"great\", \"great\", \"great\", \"great\", \"great\", \"great\", \"great\", \"greenish\", \"happier\", \"hardly\", \"hat\", \"hd\", \"heat\", \"hei\", \"helped\", \"helped\", \"helped\", \"henley\", \"high\", \"high\", \"high\", \"high\", \"high\", \"high\", \"high\", \"high\", \"highquality\", \"hip\", \"hip\", \"hip\", \"hip\", \"hip\", \"hip\", \"hip\", \"hip\", \"hippy\", \"hole\", \"hole\", \"hole\", \"hole\", \"hole\", \"hole\", \"hole\", \"hole\", \"honey\", \"hoodie\", \"hopeful\", \"horrible\", \"horribly\", \"hourglass\", \"hourglass\", \"hourglass\", \"hourglass\", \"hourglass\", \"hourglass\", \"hourglass\", \"hte\", \"huge\", \"huge\", \"huge\", \"huge\", \"huge\", \"huge\", \"huge\", \"huge\", \"im\", \"im\", \"im\", \"im\", \"im\", \"im\", \"im\", \"im\", \"imo\", \"imo\", \"important\", \"important\", \"important\", \"impossible\", \"impractical\", \"impression\", \"inner\", \"inner\", \"inner\", \"instagram\", \"instore\", \"instore\", \"instore\", \"interest\", \"interest\", \"interest\", \"intricate\", \"investment\", \"itchy\", \"itchy\", \"itchy\", \"itchy\", \"itchy\", \"itchy\", \"itchy\", \"jacket\", \"jacket\", \"jacket\", \"jacket\", \"jacket\", \"jacket\", \"jacket\", \"jacket\", \"jean\", \"jean\", \"jean\", \"jean\", \"jean\", \"jean\", \"jean\", \"jean\", \"jsut\", \"jumper\", \"jumper\", \"jumper\", \"justice\", \"justice\", \"justice\", \"justice\", \"justice\", \"justice\", \"justice\", \"keep\", \"keep\", \"keep\", \"keep\", \"keep\", \"keep\", \"keep\", \"keep\", \"kimono\", \"kimono\", \"kimono\", \"knitted\", \"knot\", \"knowing\", \"knowing\", \"known\", \"lace\", \"lace\", \"lace\", \"lace\", \"lace\", \"lace\", \"lace\", \"lace\", \"large\", \"large\", \"large\", \"large\", \"large\", \"large\", \"large\", \"large\", \"lars\", \"laughing\", \"lb\", \"lb\", \"lb\", \"lb\", \"lb\", \"lb\", \"lb\", \"lb\", \"lean\", \"leg\", \"leg\", \"leg\", \"leg\", \"leg\", \"leg\", \"leg\", \"leg\", \"legging\", \"legging\", \"legging\", \"legging\", \"legging\", \"legging\", \"legging\", \"legging\", \"length\", \"length\", \"length\", \"length\", \"length\", \"length\", \"length\", \"length\", \"level\", \"like\", \"like\", \"like\", \"like\", \"like\", \"like\", \"like\", \"like\", \"lilac\", \"little\", \"little\", \"little\", \"little\", \"little\", \"little\", \"little\", \"little\", \"living\", \"lo\", \"long\", \"long\", \"long\", \"long\", \"long\", \"long\", \"long\", \"long\", \"longer\", \"longer\", \"longer\", \"longer\", \"longer\", \"longer\", \"longer\", \"longer\", \"look\", \"look\", \"look\", \"look\", \"look\", \"look\", \"look\", \"look\", \"looked\", \"looked\", \"looked\", \"looked\", \"looked\", \"looked\", \"looked\", \"looked\", \"looking\", \"looking\", \"looking\", \"looking\", \"looking\", \"looking\", \"looking\", \"looking\", \"loose\", \"loose\", \"loose\", \"loose\", \"loose\", \"loose\", \"loose\", \"loose\", \"love\", \"love\", \"love\", \"love\", \"love\", \"love\", \"love\", \"love\", \"made\", \"made\", \"made\", \"made\", \"made\", \"made\", \"made\", \"made\", \"maeve\", \"maeve\", \"maeve\", \"maeve\", \"maeve\", \"make\", \"make\", \"make\", \"make\", \"make\", \"make\", \"make\", \"make\", \"makeup\", \"many\", \"many\", \"many\", \"many\", \"many\", \"many\", \"many\", \"many\", \"mark\", \"material\", \"material\", \"material\", \"material\", \"material\", \"material\", \"material\", \"material\", \"meadow\", \"meaning\", \"measure\", \"measurement\", \"measurement\", \"medium\", \"medium\", \"medium\", \"medium\", \"medium\", \"medium\", \"medium\", \"medium\", \"meh\", \"metallic\", \"metallic\", \"metallic\", \"metallic\", \"midrise\", \"minimal\", \"misleading\", \"misleading\", \"missed\", \"mock\", \"mock\", \"model\", \"model\", \"model\", \"model\", \"model\", \"model\", \"model\", \"model\", \"money\", \"money\", \"money\", \"money\", \"moo\", \"moth\", \"much\", \"much\", \"much\", \"much\", \"much\", \"much\", \"much\", \"much\", \"nature\", \"necessarily\", \"neckline\", \"neckline\", \"neckline\", \"neckline\", \"neckline\", \"neckline\", \"neckline\", \"nervous\", \"new\", \"new\", \"new\", \"new\", \"new\", \"new\", \"new\", \"new\", \"nice\", \"nice\", \"nice\", \"nice\", \"nice\", \"nice\", \"nice\", \"nice\", \"night\", \"night\", \"night\", \"night\", \"night\", \"night\", \"night\", \"normally\", \"normally\", \"normally\", \"normally\", \"normally\", \"normally\", \"normally\", \"normally\", \"nude\", \"nude\", \"nude\", \"nude\", \"nude\", \"nylon\", \"offtheshoulder\", \"one\", \"one\", \"one\", \"one\", \"one\", \"one\", \"one\", \"one\", \"online\", \"online\", \"online\", \"online\", \"online\", \"online\", \"online\", \"online\", \"order\", \"order\", \"order\", \"order\", \"order\", \"order\", \"order\", \"order\", \"ordered\", \"ordered\", \"ordered\", \"ordered\", \"ordered\", \"ordered\", \"ordered\", \"ordered\", \"original\", \"overwhelm\", \"overwhelm\", \"padding\", \"pair\", \"pair\", \"pair\", \"pair\", \"pair\", \"pair\", \"pair\", \"pair\", \"paired\", \"paired\", \"paired\", \"paired\", \"paired\", \"paired\", \"pant\", \"pant\", \"pant\", \"pant\", \"pant\", \"pant\", \"pant\", \"pant\", \"pattern\", \"pattern\", \"pattern\", \"pattern\", \"pattern\", \"pattern\", \"pattern\", \"pattern\", \"peasant\", \"pencil\", \"pencil\", \"pencil\", \"pencil\", \"pencil\", \"pencil\", \"perfect\", \"perfect\", \"perfect\", \"perfect\", \"perfect\", \"perfect\", \"perfect\", \"perfect\", \"perfectly\", \"perfectly\", \"perfectly\", \"perfectly\", \"perfectly\", \"perfectly\", \"perfectly\", \"perfectly\", \"person\", \"person\", \"person\", \"person\", \"person\", \"person\", \"person\", \"person\", \"petite\", \"petite\", \"petite\", \"petite\", \"petite\", \"petite\", \"petite\", \"petite\", \"picture\", \"picture\", \"picture\", \"picture\", \"picture\", \"picture\", \"picture\", \"picture\", \"piece\", \"piece\", \"piece\", \"piece\", \"piece\", \"piece\", \"piece\", \"piece\", \"pilcro\", \"pilcro\", \"pilcro\", \"pilcro\", \"pilcro\", \"pjs\", \"pjs\", \"pointed\", \"polyester\", \"polyester\", \"polyester\", \"polyester\", \"polyester\", \"poor\", \"poor\", \"poor\", \"poor\", \"poor\", \"poor\", \"potato\", \"precious\", \"prettier\", \"prettier\", \"prettier\", \"prettier\", \"prettier\", \"prettier\", \"pretty\", \"pretty\", \"pretty\", \"pretty\", \"pretty\", \"pretty\", \"pretty\", \"pretty\", \"price\", \"price\", \"price\", \"price\", \"price\", \"price\", \"price\", \"price\", \"print\", \"print\", \"print\", \"print\", \"print\", \"print\", \"print\", \"print\", \"profile\", \"promo\", \"promotion\", \"public\", \"pucker\", \"puff\", \"pure\", \"pure\", \"pure\", \"purpose\", \"purpose\", \"push\", \"pushed\", \"quality\", \"quality\", \"quality\", \"quality\", \"quality\", \"quality\", \"quality\", \"quality\", \"quick\", \"ran\", \"ran\", \"ran\", \"ran\", \"ran\", \"ran\", \"ran\", \"ran\", \"rating\", \"reaching\", \"read\", \"read\", \"read\", \"read\", \"read\", \"read\", \"read\", \"really\", \"really\", \"really\", \"really\", \"really\", \"really\", \"really\", \"really\", \"received\", \"received\", \"received\", \"received\", \"received\", \"received\", \"received\", \"received\", \"receiving\", \"receiving\", \"receiving\", \"regarding\", \"regular\", \"regular\", \"regular\", \"regular\", \"regular\", \"regular\", \"regular\", \"regular\", \"relatively\", \"reorder\", \"restrictive\", \"retailer\", \"retailer\", \"retailer\", \"retailer\", \"retailer\", \"retailer\", \"retailer\", \"retailer\", \"review\", \"review\", \"review\", \"review\", \"review\", \"review\", \"review\", \"review\", \"ribbon\", \"ribbon\", \"right\", \"right\", \"right\", \"right\", \"right\", \"right\", \"right\", \"right\", \"ripped\", \"rise\", \"rise\", \"rise\", \"rise\", \"robe\", \"rose\", \"rose\", \"rose\", \"rough\", \"rough\", \"rough\", \"rounded\", \"rounder\", \"rue\", \"run\", \"run\", \"run\", \"run\", \"run\", \"run\", \"run\", \"run\", \"sacklike\", \"sad\", \"sad\", \"sad\", \"sad\", \"sad\", \"sad\", \"sag\", \"scratchy\", \"scratchy\", \"scratchy\", \"scratchy\", \"scratchy\", \"scratchy\", \"scratchy\", \"scream\", \"seamstress\", \"seamstress\", \"season\", \"season\", \"season\", \"season\", \"season\", \"season\", \"season\", \"season\", \"see\", \"see\", \"see\", \"see\", \"see\", \"see\", \"see\", \"see\", \"service\", \"shape\", \"shape\", \"shape\", \"shape\", \"shape\", \"shape\", \"shape\", \"shape\", \"shaped\", \"shaped\", \"shaped\", \"shaped\", \"shaped\", \"shaped\", \"sheath\", \"sheath\", \"sheer\", \"sheer\", \"sheer\", \"sheer\", \"sheer\", \"sheer\", \"sheer\", \"sheer\", \"shes\", \"shift\", \"shimmer\", \"shimmery\", \"shirt\", \"shirt\", \"shirt\", \"shirt\", \"shirt\", \"shirt\", \"shirt\", \"shirt\", \"short\", \"short\", \"short\", \"short\", \"short\", \"short\", \"short\", \"short\", \"shoulder\", \"shoulder\", \"shoulder\", \"shoulder\", \"shoulder\", \"shoulder\", \"shoulder\", \"shoulder\", \"shouldered\", \"shower\", \"shown\", \"shown\", \"shown\", \"shown\", \"shown\", \"shown\", \"shown\", \"shown\", \"silver\", \"silver\", \"silver\", \"sister\", \"size\", \"size\", \"size\", \"size\", \"size\", \"size\", \"size\", \"size\", \"sizing\", \"sizing\", \"sizing\", \"sizing\", \"sizing\", \"sizing\", \"sizing\", \"sizing\", \"skimming\", \"skin\", \"skin\", \"skin\", \"skin\", \"skin\", \"skin\", \"skin\", \"skin\", \"skirt\", \"skirt\", \"skirt\", \"skirt\", \"skirt\", \"skirt\", \"skirt\", \"skirt\", \"sleeve\", \"sleeve\", \"sleeve\", \"sleeve\", \"sleeve\", \"sleeve\", \"sleeve\", \"sleeve\", \"slide\", \"slinky\", \"slip\", \"slip\", \"slip\", \"slip\", \"slip\", \"slip\", \"slip\", \"slip\", \"small\", \"small\", \"small\", \"small\", \"small\", \"small\", \"small\", \"small\", \"smallchested\", \"sock\", \"soft\", \"soft\", \"soft\", \"soft\", \"soft\", \"soft\", \"soft\", \"soft\", \"sorry\", \"sorry\", \"sparkle\", \"sparkly\", \"sparkly\", \"specifically\", \"spending\", \"sport\", \"spring\", \"spring\", \"spring\", \"spring\", \"spring\", \"spring\", \"spring\", \"staple\", \"staple\", \"staple\", \"staple\", \"staple\", \"staple\", \"staple\", \"stayed\", \"stevie\", \"stopped\", \"stopped\", \"strange\", \"strange\", \"strange\", \"strange\", \"strange\", \"strappy\", \"stretch\", \"stretch\", \"stretch\", \"stretch\", \"stretch\", \"stretch\", \"stretch\", \"stretch\", \"strong\", \"strong\", \"stunning\", \"stunning\", \"stunning\", \"stunning\", \"stunning\", \"stunning\", \"stunning\", \"stunning\", \"stylish\", \"stylish\", \"stylish\", \"stylish\", \"stylish\", \"stylish\", \"stylish\", \"stylish\", \"substance\", \"sucker\", \"suede\", \"suit\", \"suit\", \"suit\", \"suit\", \"suit\", \"suit\", \"suit\", \"suitable\", \"summer\", \"summer\", \"summer\", \"summer\", \"summer\", \"summer\", \"summer\", \"summer\", \"super\", \"super\", \"super\", \"super\", \"super\", \"super\", \"super\", \"super\", \"swallowed\", \"swallowed\", \"sweater\", \"sweater\", \"sweater\", \"sweater\", \"sweater\", \"sweater\", \"sweater\", \"sweater\", \"swim\", \"swimsuit\", \"swimsuit\", \"swimsuit\", \"swimsuit\", \"swimsuit\", \"sz\", \"sz\", \"sz\", \"ta\", \"tab\", \"tank\", \"tank\", \"tank\", \"tank\", \"tank\", \"tank\", \"tank\", \"tank\", \"te\", \"tee\", \"tee\", \"tee\", \"tee\", \"tee\", \"tee\", \"tee\", \"tee\", \"tha\", \"thankfully\", \"thankfully\", \"thanksgiving\", \"theory\", \"theory\", \"thigh\", \"thigh\", \"thigh\", \"thigh\", \"thigh\", \"thigh\", \"thigh\", \"thigh\", \"think\", \"think\", \"think\", \"think\", \"think\", \"think\", \"think\", \"think\", \"thought\", \"thought\", \"thought\", \"thought\", \"thought\", \"thought\", \"thought\", \"thought\", \"thrilled\", \"thrilled\", \"thrilled\", \"thrilled\", \"ti\", \"tight\", \"tight\", \"tight\", \"tight\", \"tight\", \"tight\", \"tight\", \"tight\", \"tights\", \"tights\", \"tights\", \"tights\", \"tights\", \"tights\", \"tights\", \"tone\", \"tone\", \"tone\", \"tone\", \"tone\", \"tone\", \"toned\", \"top\", \"top\", \"top\", \"top\", \"top\", \"top\", \"top\", \"top\", \"transitioning\", \"transparent\", \"trench\", \"tried\", \"tried\", \"tried\", \"tried\", \"tried\", \"tried\", \"tried\", \"tried\", \"try\", \"try\", \"try\", \"try\", \"try\", \"try\", \"try\", \"try\", \"tshirt\", \"tshirt\", \"tshirt\", \"tshirt\", \"tshirt\", \"tshirt\", \"tshirt\", \"undecided\", \"underneath\", \"underneath\", \"underneath\", \"underneath\", \"underneath\", \"underneath\", \"underneath\", \"underneath\", \"undershirt\", \"undertone\", \"unflattering\", \"unflattering\", \"unflattering\", \"unflattering\", \"unflattering\", \"unflattering\", \"unflattering\", \"unfortunate\", \"unfortunately\", \"unfortunately\", \"unfortunately\", \"unfortunately\", \"unfortunately\", \"unfortunately\", \"unfortunately\", \"unfortunately\", \"unique\", \"unique\", \"unique\", \"unique\", \"unique\", \"unique\", \"unique\", \"unique\", \"unravel\", \"usa\", \"usually\", \"usually\", \"usually\", \"usually\", \"usually\", \"usually\", \"usually\", \"usually\", \"versatile\", \"versatile\", \"versatile\", \"versatile\", \"versatile\", \"versatile\", \"versatile\", \"versatile\", \"visual\", \"waist\", \"waist\", \"waist\", \"waist\", \"waist\", \"waist\", \"waist\", \"waist\", \"waisted\", \"waisted\", \"waisted\", \"waisted\", \"waisted\", \"wardrobe\", \"wardrobe\", \"wardrobe\", \"wardrobe\", \"wardrobe\", \"wardrobe\", \"warmer\", \"warmer\", \"warmer\", \"warmer\", \"wary\", \"washer\", \"washing\", \"washing\", \"washing\", \"washing\", \"washing\", \"way\", \"way\", \"way\", \"way\", \"way\", \"way\", \"way\", \"way\", \"wear\", \"wear\", \"wear\", \"wear\", \"wear\", \"wear\", \"wear\", \"wear\", \"wearing\", \"wearing\", \"wearing\", \"wearing\", \"wearing\", \"wearing\", \"wearing\", \"wearing\", \"weather\", \"weather\", \"weather\", \"weather\", \"weather\", \"weather\", \"weather\", \"weather\", \"wedding\", \"wedding\", \"wedding\", \"wedding\", \"wedding\", \"wedding\", \"well\", \"well\", \"well\", \"well\", \"well\", \"well\", \"well\", \"well\", \"white\", \"white\", \"white\", \"white\", \"white\", \"white\", \"white\", \"white\", \"willing\", \"winter\", \"winter\", \"winter\", \"winter\", \"winter\", \"winter\", \"winter\", \"winter\", \"wondering\", \"wool\", \"wool\", \"wool\", \"wool\", \"wool\", \"wool\", \"wool\", \"wool\", \"wore\", \"wore\", \"wore\", \"wore\", \"wore\", \"wore\", \"wore\", \"wore\", \"work\", \"work\", \"work\", \"work\", \"work\", \"work\", \"work\", \"work\", \"worn\", \"worn\", \"worn\", \"worn\", \"worn\", \"worn\", \"worn\", \"worn\", \"would\", \"would\", \"would\", \"would\", \"would\", \"would\", \"would\", \"would\", \"wrinkly\", \"written\", \"x\", \"x\", \"x\", \"x\", \"x\", \"x\", \"x\", \"x\", \"xl\", \"xl\", \"xl\", \"xl\", \"xl\", \"xl\", \"xl\", \"xl\", \"xsmall\", \"xsmall\", \"xsmall\", \"xsmall\", \"xsp\", \"xsp\", \"xsp\", \"xsp\", \"xsp\", \"xsp\", \"xspetite\", \"xx\", \"xx\", \"xx\", \"xx\", \"xx\", \"xx\", \"xx\", \"xx\", \"xxsp\", \"xxsp\", \"xxsp\", \"xxsp\", \"yarn\", \"yarn\", \"year\", \"year\", \"year\", \"year\", \"year\", \"year\", \"year\", \"year\", \"yellow\", \"yellow\", \"yellow\", \"yellow\", \"yellow\", \"yellow\", \"yellow\", \"zero\", \"zero\", \"zero\", \"zero\", \"zip\", \"zip\", \"zip\", \"zip\", \"zip\", \"zip\", \"zipped\", \"zipper\", \"zipper\", \"zipper\", \"zipper\", \"zipper\", \"zipper\", \"zipper\", \"zipper\"]}, \"R\": 30, \"lambda.step\": 0.01, \"plot.opts\": {\"xlab\": \"PC1\", \"ylab\": \"PC2\"}, \"topic.order\": [1, 2, 3, 4, 5, 6, 7, 8]};\n",
       "\n",
       "function LDAvis_load_lib(url, callback){\n",
       "  var s = document.createElement('script');\n",
       "  s.src = url;\n",
       "  s.async = true;\n",
       "  s.onreadystatechange = s.onload = callback;\n",
       "  s.onerror = function(){console.warn(\"failed to load library \" + url);};\n",
       "  document.getElementsByTagName(\"head\")[0].appendChild(s);\n",
       "}\n",
       "\n",
       "if(typeof(LDAvis) !== \"undefined\"){\n",
       "   // already loaded: just create the visualization\n",
       "   !function(LDAvis){\n",
       "       new LDAvis(\"#\" + \"ldavis_el8821450996014725536938080\", ldavis_el8821450996014725536938080_data);\n",
       "   }(LDAvis);\n",
       "}else if(typeof define === \"function\" && define.amd){\n",
       "   // require.js is available: use it to load d3/LDAvis\n",
       "   require.config({paths: {d3: \"https://d3js.org/d3.v5\"}});\n",
       "   require([\"d3\"], function(d3){\n",
       "      window.d3 = d3;\n",
       "      LDAvis_load_lib(\"https://cdn.jsdelivr.net/gh/bmabey/pyLDAvis@3.3.1/pyLDAvis/js/ldavis.v3.0.0.js\", function(){\n",
       "        new LDAvis(\"#\" + \"ldavis_el8821450996014725536938080\", ldavis_el8821450996014725536938080_data);\n",
       "      });\n",
       "    });\n",
       "}else{\n",
       "    // require.js not available: dynamically load d3 & LDAvis\n",
       "    LDAvis_load_lib(\"https://d3js.org/d3.v5.js\", function(){\n",
       "         LDAvis_load_lib(\"https://cdn.jsdelivr.net/gh/bmabey/pyLDAvis@3.3.1/pyLDAvis/js/ldavis.v3.0.0.js\", function(){\n",
       "                 new LDAvis(\"#\" + \"ldavis_el8821450996014725536938080\", ldavis_el8821450996014725536938080_data);\n",
       "            })\n",
       "         });\n",
       "}\n",
       "</script>"
      ],
      "text/plain": [
       "<IPython.core.display.HTML object>"
      ]
     },
     "execution_count": 44,
     "metadata": {},
     "output_type": "execute_result"
    }
   ],
   "source": [
    "import pyLDAvis\n",
    "import pyLDAvis.gensim_models as gensimvis\n",
    "\n",
    "pyLDAvis.enable_notebook()\n",
    "\n",
    "# feed the LDA model into the pyLDAvis instance\n",
    "lda_viz = gensimvis.prepare(model, bow_corpus, dictionary, sort_topics=False)\n",
    "\n",
    "pyLDAvis.display(lda_viz)"
   ]
  },
  {
   "cell_type": "markdown",
   "id": "boring-elevation",
   "metadata": {},
   "source": [
    "**How to Interpret**\n",
    "\n",
    " - Each bubble on the left-hand side plot represents a topic. The larger the bubble, the more prevalent is that topic.\n",
    " - A good topic model will have fairly big, non-overlapping bubbles scattered throughout the chart instead of being clustered in one quadrant.\n",
    " - A model with too many topics, will typically have many overlaps, small sized bubbles clustered in one region of the chart.\n",
    " \n",
    "**Results**:  \n",
    " \n",
    "After running the model with various numbers of topics, `8` seemed to bring the most clarity using the above interpretation.  We can see that there are slight overlaps for topics `6`, `2` and `3` but not significant.  The rest of the topics are fairly large and do not overlap."
   ]
  }
 ],
 "metadata": {
  "kernelspec": {
   "display_name": "Python 3",
   "language": "python",
   "name": "python3"
  },
  "language_info": {
   "codemirror_mode": {
    "name": "ipython",
    "version": 3
   },
   "file_extension": ".py",
   "mimetype": "text/x-python",
   "name": "python",
   "nbconvert_exporter": "python",
   "pygments_lexer": "ipython3",
   "version": "3.9.2"
  }
 },
 "nbformat": 4,
 "nbformat_minor": 5
}
