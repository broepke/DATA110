{
 "cells": [
  {
   "cell_type": "markdown",
   "id": "convertible-thirty",
   "metadata": {},
   "source": [
    "# Week 13 Assignment: Topic Modeling\n",
    "\n",
    "**DATA110**  \n",
    "*Brian Roepke*  \n",
    "\n",
    "Using the same women's clothing dataset from Midterm #2, perform Topic Modeling using LDA using either packages: Gensim  or sklearn on the reviews text.  \n",
    "\n",
    "\n",
    "Given that there are 6 departments, you can use  6 topics.  Bonus if you apply coherence computations against multiple models for model selection, in order to determine the optimal number of topics.\n",
    "\n",
    "\n",
    "\n",
    "References:\n",
    "\n",
    "https://scikit-learn.org/stable/modules/generated/sklearn.decomposition.LatentDirichletAllocation.html\n",
    "https://radimrehurek.com/gensim/auto_examples/core/run_core_concepts.html#sphx-glr-auto-examples-core-run-core-concepts-py"
   ]
  },
  {
   "cell_type": "code",
   "execution_count": 1,
   "id": "retired-collapse",
   "metadata": {},
   "outputs": [],
   "source": [
    "import numpy as np\n",
    "import pandas as pd\n",
    "import re\n",
    "import itertools\n",
    "import string\n",
    "import warnings\n",
    "warnings.filterwarnings('ignore')\n",
    "\n",
    "from textblob import TextBlob\n",
    "from textblob import Word\n",
    "\n",
    "import gensim\n",
    "from gensim import corpora, models\n",
    "from gensim.models import CoherenceModel\n",
    "\n",
    "import sklearn as sk\n",
    "from sklearn.model_selection import train_test_split\n",
    "from sklearn.feature_extraction.text import TfidfVectorizer\n",
    "from sklearn.naive_bayes import MultinomialNB, ComplementNB\n",
    "from sklearn import metrics \n",
    "from sklearn.model_selection import GridSearchCV, cross_val_score, RepeatedStratifiedKFold\n",
    "from sklearn.svm import SVC\n",
    "from sklearn.linear_model import LogisticRegression, SGDClassifier\n",
    "from sklearn.ensemble import RandomForestClassifier\n",
    "from sklearn.preprocessing import MinMaxScaler, MultiLabelBinarizer\n",
    "from sklearn.compose import ColumnTransformer\n",
    "from sklearn.multiclass import OneVsRestClassifier\n",
    "from scipy.cluster.hierarchy import dendrogram\n",
    "from sklearn.cluster import AgglomerativeClustering\n",
    "\n",
    "from sklearn.cluster import KMeans\n",
    "from sklearn.metrics import adjusted_rand_score\n",
    "from sklearn.cluster import KMeans\n",
    "from sklearn.metrics import silhouette_score\n",
    "\n",
    "# NLTK Imports and Downloads\n",
    "import nltk\n",
    "from nltk import word_tokenize\n",
    "from nltk.sentiment.util import *\n",
    "from nltk.stem import PorterStemmer\n",
    "from nltk.stem.wordnet import WordNetLemmatizer\n",
    "from nltk import FreqDist\n",
    "\n",
    "from imblearn.over_sampling import SMOTE\n",
    "from imblearn.under_sampling import RandomUnderSampler\n",
    "from imblearn.pipeline import Pipeline\n",
    "\n",
    "import seaborn as sns\n",
    "import matplotlib.pyplot as plt\n",
    "%matplotlib inline"
   ]
  },
  {
   "cell_type": "code",
   "execution_count": 2,
   "id": "regular-offense",
   "metadata": {},
   "outputs": [
    {
     "data": {
      "text/html": [
       "<div>\n",
       "<style scoped>\n",
       "    .dataframe tbody tr th:only-of-type {\n",
       "        vertical-align: middle;\n",
       "    }\n",
       "\n",
       "    .dataframe tbody tr th {\n",
       "        vertical-align: top;\n",
       "    }\n",
       "\n",
       "    .dataframe thead th {\n",
       "        text-align: right;\n",
       "    }\n",
       "</style>\n",
       "<table border=\"1\" class=\"dataframe\">\n",
       "  <thead>\n",
       "    <tr style=\"text-align: right;\">\n",
       "      <th></th>\n",
       "      <th>Age</th>\n",
       "      <th>Title</th>\n",
       "      <th>Review Text</th>\n",
       "      <th>Rating</th>\n",
       "      <th>Recommended IND</th>\n",
       "      <th>Positive Feedback Count</th>\n",
       "      <th>Department Name</th>\n",
       "      <th>Class Name</th>\n",
       "    </tr>\n",
       "  </thead>\n",
       "  <tbody>\n",
       "    <tr>\n",
       "      <th>0</th>\n",
       "      <td>33</td>\n",
       "      <td>NaN</td>\n",
       "      <td>Absolutely wonderful - silky and sexy and comf...</td>\n",
       "      <td>4</td>\n",
       "      <td>1</td>\n",
       "      <td>0</td>\n",
       "      <td>Intimate</td>\n",
       "      <td>Intimates</td>\n",
       "    </tr>\n",
       "    <tr>\n",
       "      <th>1</th>\n",
       "      <td>34</td>\n",
       "      <td>NaN</td>\n",
       "      <td>Love this dress!  it's sooo pretty.  i happene...</td>\n",
       "      <td>5</td>\n",
       "      <td>1</td>\n",
       "      <td>4</td>\n",
       "      <td>Dresses</td>\n",
       "      <td>Dresses</td>\n",
       "    </tr>\n",
       "    <tr>\n",
       "      <th>2</th>\n",
       "      <td>60</td>\n",
       "      <td>Some major design flaws</td>\n",
       "      <td>I had such high hopes for this dress and reall...</td>\n",
       "      <td>3</td>\n",
       "      <td>0</td>\n",
       "      <td>0</td>\n",
       "      <td>Dresses</td>\n",
       "      <td>Dresses</td>\n",
       "    </tr>\n",
       "    <tr>\n",
       "      <th>3</th>\n",
       "      <td>50</td>\n",
       "      <td>My favorite buy!</td>\n",
       "      <td>I love, love, love this jumpsuit. it's fun, fl...</td>\n",
       "      <td>5</td>\n",
       "      <td>1</td>\n",
       "      <td>0</td>\n",
       "      <td>Bottoms</td>\n",
       "      <td>Pants</td>\n",
       "    </tr>\n",
       "    <tr>\n",
       "      <th>4</th>\n",
       "      <td>47</td>\n",
       "      <td>Flattering shirt</td>\n",
       "      <td>This shirt is very flattering to all due to th...</td>\n",
       "      <td>5</td>\n",
       "      <td>1</td>\n",
       "      <td>6</td>\n",
       "      <td>Tops</td>\n",
       "      <td>Blouses</td>\n",
       "    </tr>\n",
       "  </tbody>\n",
       "</table>\n",
       "</div>"
      ],
      "text/plain": [
       "   Age                    Title  \\\n",
       "0   33                      NaN   \n",
       "1   34                      NaN   \n",
       "2   60  Some major design flaws   \n",
       "3   50         My favorite buy!   \n",
       "4   47         Flattering shirt   \n",
       "\n",
       "                                         Review Text  Rating  Recommended IND  \\\n",
       "0  Absolutely wonderful - silky and sexy and comf...       4                1   \n",
       "1  Love this dress!  it's sooo pretty.  i happene...       5                1   \n",
       "2  I had such high hopes for this dress and reall...       3                0   \n",
       "3  I love, love, love this jumpsuit. it's fun, fl...       5                1   \n",
       "4  This shirt is very flattering to all due to th...       5                1   \n",
       "\n",
       "   Positive Feedback Count Department Name Class Name  \n",
       "0                        0        Intimate  Intimates  \n",
       "1                        4         Dresses    Dresses  \n",
       "2                        0         Dresses    Dresses  \n",
       "3                        0         Bottoms      Pants  \n",
       "4                        6            Tops    Blouses  "
      ]
     },
     "execution_count": 2,
     "metadata": {},
     "output_type": "execute_result"
    }
   ],
   "source": [
    "df = pd.read_csv(\"ClothingReviews.csv\")\n",
    "df.head()"
   ]
  },
  {
   "cell_type": "code",
   "execution_count": 3,
   "id": "biological-amateur",
   "metadata": {},
   "outputs": [],
   "source": [
    "df.dropna(subset=['Department Name', 'Class Name', 'Review Text'], inplace=True)"
   ]
  },
  {
   "cell_type": "code",
   "execution_count": 4,
   "id": "raising-chancellor",
   "metadata": {},
   "outputs": [],
   "source": [
    "# fill the NA values with 0\n",
    "df['Title'].fillna('', inplace=True)"
   ]
  },
  {
   "cell_type": "code",
   "execution_count": 5,
   "id": "sorted-wales",
   "metadata": {},
   "outputs": [
    {
     "data": {
      "text/plain": [
       "Age                        0\n",
       "Title                      0\n",
       "Review Text                0\n",
       "Rating                     0\n",
       "Recommended IND            0\n",
       "Positive Feedback Count    0\n",
       "Department Name            0\n",
       "Class Name                 0\n",
       "dtype: int64"
      ]
     },
     "execution_count": 5,
     "metadata": {},
     "output_type": "execute_result"
    }
   ],
   "source": [
    "# count of nulls\n",
    "df.isnull().sum()"
   ]
  },
  {
   "cell_type": "code",
   "execution_count": 6,
   "id": "retired-fields",
   "metadata": {},
   "outputs": [],
   "source": [
    "df['Text'] = df['Title'] + ' ' + df['Review Text']"
   ]
  },
  {
   "cell_type": "code",
   "execution_count": 7,
   "id": "appreciated-stupid",
   "metadata": {},
   "outputs": [],
   "source": [
    "df.drop(columns=['Title', 'Review Text'], inplace=True)"
   ]
  },
  {
   "cell_type": "code",
   "execution_count": 8,
   "id": "fleet-philip",
   "metadata": {},
   "outputs": [],
   "source": [
    "# Add column 'text_len' that counts the length for the derived field\n",
    "df['text_len'] = df.apply(lambda row: len(row['Text']), axis = 1)"
   ]
  },
  {
   "cell_type": "code",
   "execution_count": 9,
   "id": "coupled-dressing",
   "metadata": {},
   "outputs": [
    {
     "name": "stdout",
     "output_type": "stream",
     "text": [
      "Before = 22628\n",
      "After = 22626\n",
      "\n",
      "Total Removed = 2\n"
     ]
    }
   ],
   "source": [
    "len_before = df.shape[0]\n",
    "df.drop_duplicates(inplace=True)\n",
    "len_after = df.shape[0]\n",
    "\n",
    "print(\"Before =\", len_before)\n",
    "# drop duplicates\n",
    "print(\"After =\", len_after)\n",
    "print('')\n",
    "print(\"Total Removed =\", len_before - len_after)"
   ]
  },
  {
   "cell_type": "code",
   "execution_count": 10,
   "id": "interim-vertical",
   "metadata": {},
   "outputs": [
    {
     "data": {
      "text/plain": [
       "count    22626.000000\n",
       "mean        63.121321\n",
       "std         29.086751\n",
       "min          2.000000\n",
       "25%         39.000000\n",
       "50%         62.000000\n",
       "75%         92.000000\n",
       "max        121.000000\n",
       "Name: Text, dtype: float64"
      ]
     },
     "execution_count": 10,
     "metadata": {},
     "output_type": "execute_result"
    }
   ],
   "source": [
    "wordlen = df['Text'].str.split().map(lambda x: len(x))\n",
    "wordlen.describe()"
   ]
  },
  {
   "cell_type": "code",
   "execution_count": 11,
   "id": "bulgarian-street",
   "metadata": {},
   "outputs": [
    {
     "data": {
      "text/plain": [
       "'Some major design flaws I had such high hopes for this dress and really wanted it to work for me. i initially ordered the petite small (my usual size) but i found this to be outrageously small. so small in fact that i could not zip it up! i reordered it in petite medium, which was just ok. overall, the top half was comfortable and fit nicely, but the bottom half had a very tight under layer and several somewhat cheap (net) over layers. imo, a major design flaw was the net over layer sewn directly into the zipper - it c'"
      ]
     },
     "execution_count": 11,
     "metadata": {},
     "output_type": "execute_result"
    }
   ],
   "source": [
    "df['Text'][2]"
   ]
  },
  {
   "cell_type": "code",
   "execution_count": 12,
   "id": "intensive-concentration",
   "metadata": {},
   "outputs": [],
   "source": [
    "def process_string(text, stem=\"None\"):\n",
    "    \n",
    "    final_string = \"\"\n",
    "    \n",
    "    text = text.lower()\n",
    "    \n",
    "    translator = str.maketrans('', '', string.punctuation)\n",
    "    text = text.translate(translator)\n",
    "\n",
    "    text = text.split()\n",
    "    useless_words = nltk.corpus.stopwords.words(\"english\") + list(string.punctuation)\n",
    "    useless_words = useless_words + ['.', ',', '!', \"'\"]\n",
    "    text_filtered = [word for word in text if not word in useless_words]\n",
    "    \n",
    "    if stem == 'Stem':\n",
    "        stemmer = PorterStemmer() \n",
    "        text_stemmed = [stemmer.stem(y) for y in text_filtered]\n",
    "    elif stem == 'Lem':\n",
    "        lem = WordNetLemmatizer()\n",
    "        text_stemmed = [lem.lemmatize(y) for y in text_filtered]\n",
    "    else:\n",
    "        text_stemmed = text_filtered\n",
    "    \n",
    "    for word in text_stemmed:\n",
    "        final_string += word + \" \"\n",
    "    \n",
    "    return final_string"
   ]
  },
  {
   "cell_type": "code",
   "execution_count": 13,
   "id": "prostate-syracuse",
   "metadata": {},
   "outputs": [],
   "source": [
    "df['Text_Processed'] = df['Text'].apply(lambda x: process_string(x, stem='Lem'))"
   ]
  },
  {
   "cell_type": "code",
   "execution_count": 14,
   "id": "joint-airplane",
   "metadata": {},
   "outputs": [
    {
     "data": {
      "text/plain": [
       "'major design flaw high hope dress really wanted work initially ordered petite small usual size found outrageously small small fact could zip reordered petite medium ok overall top half comfortable fit nicely bottom half tight layer several somewhat cheap net layer imo major design flaw net layer sewn directly zipper c '"
      ]
     },
     "execution_count": 14,
     "metadata": {},
     "output_type": "execute_result"
    }
   ],
   "source": [
    "df['Text_Processed'][2]"
   ]
  },
  {
   "cell_type": "markdown",
   "id": "fallen-picnic",
   "metadata": {},
   "source": [
    "# Topic Modeling"
   ]
  },
  {
   "cell_type": "code",
   "execution_count": 15,
   "id": "brutal-roads",
   "metadata": {},
   "outputs": [
    {
     "data": {
      "text/plain": [
       "['absolutely wonderful silky sexy comfortable ',\n",
       " 'love dress sooo pretty happened find store im glad bc never would ordered online bc petite bought petite 58 love length hit little knee would definitely true midi someone truly petite ',\n",
       " 'major design flaw high hope dress really wanted work initially ordered petite small usual size found outrageously small small fact could zip reordered petite medium ok overall top half comfortable fit nicely bottom half tight layer several somewhat cheap net layer imo major design flaw net layer sewn directly zipper c ',\n",
       " 'favorite buy love love love jumpsuit fun flirty fabulous every time wear get nothing great compliment ',\n",
       " 'flattering shirt shirt flattering due adjustable front tie perfect length wear legging sleeveless pair well cardigan love shirt ']"
      ]
     },
     "execution_count": 15,
     "metadata": {},
     "output_type": "execute_result"
    }
   ],
   "source": [
    "clean_docs = df['Text_Processed'].to_list()\n",
    "\n",
    "# first 5 docs\n",
    "clean_docs[:5]"
   ]
  },
  {
   "cell_type": "code",
   "execution_count": 16,
   "id": "downtown-partner",
   "metadata": {},
   "outputs": [
    {
     "data": {
      "image/png": "[encoded data removed]",
      "text/plain": [
       "<Figure size 1080x360 with 1 Axes>"
      ]
     },
     "metadata": {
      "needs_background": "light"
     },
     "output_type": "display_data"
    }
   ],
   "source": [
    "texts = \"\".join(clean_docs)\n",
    "word_tokens = word_tokenize(texts)\n",
    "#fdist.most_common(50)\n",
    "\n",
    "plt.figure(figsize=(15, 5)) \n",
    "fdist = FreqDist(word_tokens)\n",
    "fdist.plot(50);"
   ]
  },
  {
   "cell_type": "markdown",
   "id": "agreed-brunei",
   "metadata": {},
   "source": [
    "# Determine the Optimal Number of Clusters"
   ]
  },
  {
   "cell_type": "markdown",
   "id": "connected-martial",
   "metadata": {},
   "source": [
    "## Elbow Method\n",
    "\n",
    "To select the best number of clusters, we'll use the Elbow method.  Per [Wikipedia](https://en.wikipedia.org/wiki/Elbow_method_(clustering))\n",
    "\n",
    "> *In cluster analysis, the elbow method is a heuristic used in determining the number of clusters in a data set. The method consists of plotting the explained variation as a function of the number of clusters, and picking the elbow of the curve as the number of clusters to use. The same method can be used to choose the number of parameters in other data-driven models, such as the number of principal components to describe a data set.*\n",
    "\n",
    "[Tutorial: How to determine the optimal number of clusters for k-means clustering](https://blog.cambridgespark.com/how-to-determine-the-optimal-number-of-clusters-for-k-means-clustering-14f27070048f)"
   ]
  },
  {
   "cell_type": "code",
   "execution_count": 17,
   "id": "textile-seafood",
   "metadata": {},
   "outputs": [
    {
     "data": {
      "text/plain": [
       "(22626, 18546)"
      ]
     },
     "execution_count": 17,
     "metadata": {},
     "output_type": "execute_result"
    }
   ],
   "source": [
    "#vectorization of features\n",
    "vectorizer = TfidfVectorizer()\n",
    "X = vectorizer.fit_transform(clean_docs)\n",
    "\n",
    "X.shape"
   ]
  },
  {
   "cell_type": "code",
   "execution_count": 18,
   "id": "controlling-revision",
   "metadata": {},
   "outputs": [],
   "source": [
    "Sum_of_squared_distances = []\n",
    "K = range(1,10)\n",
    "for k in K:\n",
    "    km = KMeans(n_clusters=k)\n",
    "    km = km.fit(X)\n",
    "    Sum_of_squared_distances.append(km.inertia_)"
   ]
  },
  {
   "cell_type": "code",
   "execution_count": 19,
   "id": "controversial-protocol",
   "metadata": {},
   "outputs": [
    {
     "data": {
      "image/png": "[encoded data removed]",
      "text/plain": [
       "<Figure size 432x288 with 1 Axes>"
      ]
     },
     "metadata": {
      "needs_background": "light"
     },
     "output_type": "display_data"
    }
   ],
   "source": [
    "ax = sns.lineplot(x=K, y=Sum_of_squared_distances)\n",
    "ax.lines[0].set_linestyle(\"--\")\n",
    "plt.xlabel('k')\n",
    "plt.ylabel('Sum of Squared Distances')\n",
    "plt.title('Elbow Method For Optimal k')\n",
    "plt.show()"
   ]
  },
  {
   "cell_type": "markdown",
   "id": "limiting-nevada",
   "metadata": {},
   "source": [
    "**Conclusion:** Based on this method, the appropriate number of clusters is not totally clear. "
   ]
  },
  {
   "cell_type": "code",
   "execution_count": 20,
   "id": "accompanied-timeline",
   "metadata": {},
   "outputs": [
    {
     "name": "stdout",
     "output_type": "stream",
     "text": [
      "For n_clusters = 2 The average silhouette_score is: 0.005158957947959958\n",
      "For n_clusters = 3 The average silhouette_score is: 0.0054280750132190215\n",
      "For n_clusters = 4 The average silhouette_score is: 0.006537274584641789\n",
      "For n_clusters = 5 The average silhouette_score is: 0.007561045537325558\n",
      "For n_clusters = 6 The average silhouette_score is: 0.007061001255105283\n",
      "For n_clusters = 7 The average silhouette_score is: 0.008841133863256995\n",
      "For n_clusters = 8 The average silhouette_score is: 0.008062911309296796\n",
      "For n_clusters = 9 The average silhouette_score is: 0.008760478475238226\n"
     ]
    }
   ],
   "source": [
    "def get_silhouette_score(X, k):\n",
    "    for n_clusters in range(2, k):\n",
    "        clusterer = KMeans(n_clusters=n_clusters, random_state=42)\n",
    "        y = clusterer.fit_predict(X)\n",
    "\n",
    "        message = \"For n_clusters = {} The average silhouette_score is: {}\"\n",
    "        print(message.format(n_clusters, silhouette_score(X, y)))\n",
    "        \n",
    "get_silhouette_score(X, 10)     "
   ]
  },
  {
   "cell_type": "markdown",
   "id": "incorporated-latvia",
   "metadata": {},
   "source": [
    "**Conclusion:** "
   ]
  },
  {
   "cell_type": "markdown",
   "id": "chinese-collar",
   "metadata": {},
   "source": [
    "## Dendrogram\n",
    "\n",
    "> *A dendrogram is a diagram representing a tree. In hierarchical clustering, it illustrates the arrangement of the clusters produced by the corresponding analyses*\n",
    "\n",
    "https://en.wikipedia.org/wiki/Dendrogram"
   ]
  },
  {
   "cell_type": "code",
   "execution_count": null,
   "id": "cubic-recommendation",
   "metadata": {},
   "outputs": [],
   "source": [
    "def plot_dendrogram(model, **kwargs):\n",
    "    # Create linkage matrix and then plot the dendrogram\n",
    "    # create the counts of samples under each node\n",
    "    counts = np.zeros(model.children_.shape[0]) \n",
    "    n_samples = len(model.labels_)\n",
    "    for i, merge in enumerate(model.children_):\n",
    "        current_count = 0\n",
    "        for child_idx in merge:\n",
    "            if child_idx < n_samples: \n",
    "                current_count += 1 # leaf node\n",
    "        else:\n",
    "            current_count += counts[child_idx - n_samples]\n",
    "    counts[i] = current_count\n",
    "    \n",
    "    linkage_matrix = np.column_stack([model.children_, model.distances_,counts]).astype(float) \n",
    "    \n",
    "    # Plot the corresponding dendrogram\n",
    "    dendrogram(linkage_matrix, **kwargs)\n",
    "    \n",
    "\n",
    "\n",
    "# setting distance_threshold=0 ensures we compute the full tree.\n",
    "model = AgglomerativeClustering(distance_threshold=0, n_clusters=None) \n",
    "model = model.fit(X.toarray())\n",
    "plt.figure(figsize=(10, 10)) \n",
    "plt.title('Hierarchical Clustering Dendrogram')\n",
    "# plot the top levels of the dendrogram\n",
    "plot_dendrogram(model, truncate_mode='level', p=3, show_leaf_counts=True)\n",
    "plt.show();"
   ]
  },
  {
   "cell_type": "markdown",
   "id": "threaded-disposal",
   "metadata": {},
   "source": [
    "# Clustering Model"
   ]
  },
  {
   "cell_type": "code",
   "execution_count": 26,
   "id": "artificial-republic",
   "metadata": {},
   "outputs": [
    {
     "name": "stdout",
     "output_type": "stream",
     "text": [
      "Top terms per cluster:\n",
      "Cluster 0:\n",
      " like\n",
      " fit\n",
      " look\n",
      " color\n",
      " fabric\n",
      " skirt\n",
      " love\n",
      " size\n",
      " im\n",
      " would\n",
      "Cluster 1:\n",
      " dress\n",
      " love\n",
      " fit\n",
      " beautiful\n",
      " great\n",
      " size\n",
      " perfect\n",
      " wear\n",
      " flattering\n",
      " comfortable\n",
      "Cluster 2:\n",
      " small\n",
      " size\n",
      " run\n",
      " large\n",
      " medium\n",
      " big\n",
      " ordered\n",
      " fit\n",
      " im\n",
      " wear\n",
      "Cluster 3:\n",
      " top\n",
      " love\n",
      " great\n",
      " cute\n",
      " fit\n",
      " color\n",
      " look\n",
      " size\n",
      " wear\n",
      " like\n",
      "Cluster 4:\n",
      " shirt\n",
      " love\n",
      " great\n",
      " cute\n",
      " fit\n",
      " look\n",
      " color\n",
      " soft\n",
      " wear\n",
      " like\n",
      "Cluster 5:\n",
      " love\n",
      " great\n",
      " sweater\n",
      " jean\n",
      " pant\n",
      " fit\n",
      " perfect\n",
      " soft\n",
      " color\n",
      " comfortable\n"
     ]
    }
   ],
   "source": [
    "true_k = 6\n",
    "kmeans = KMeans(n_clusters=true_k, init='k-means++', max_iter=100, n_init=1, random_state=42)\n",
    "kmeans.fit(X)\n",
    "\n",
    "\n",
    "print(\"Top terms per cluster:\")\n",
    "order_centroids = kmeans.cluster_centers_.argsort()[:, ::-1]\n",
    "terms = vectorizer.get_feature_names()\n",
    "\n",
    "for i in range(true_k):\n",
    "    print(\"Cluster %d:\" % i),\n",
    "    for ind in order_centroids[i, :10]:  \n",
    "        print(' %s' % terms[ind]),"
   ]
  },
  {
   "cell_type": "code",
   "execution_count": 22,
   "id": "adapted-married",
   "metadata": {},
   "outputs": [
    {
     "data": {
      "text/html": [
       "<div>\n",
       "<style scoped>\n",
       "    .dataframe tbody tr th:only-of-type {\n",
       "        vertical-align: middle;\n",
       "    }\n",
       "\n",
       "    .dataframe tbody tr th {\n",
       "        vertical-align: top;\n",
       "    }\n",
       "\n",
       "    .dataframe thead th {\n",
       "        text-align: right;\n",
       "    }\n",
       "</style>\n",
       "<table border=\"1\" class=\"dataframe\">\n",
       "  <thead>\n",
       "    <tr style=\"text-align: right;\">\n",
       "      <th></th>\n",
       "      <th>Age</th>\n",
       "      <th>Rating</th>\n",
       "      <th>Recommended IND</th>\n",
       "      <th>Positive Feedback Count</th>\n",
       "      <th>Department Name</th>\n",
       "      <th>Class Name</th>\n",
       "      <th>Text</th>\n",
       "      <th>text_len</th>\n",
       "      <th>Text_Processed</th>\n",
       "      <th>clusters</th>\n",
       "    </tr>\n",
       "  </thead>\n",
       "  <tbody>\n",
       "    <tr>\n",
       "      <th>6673</th>\n",
       "      <td>53</td>\n",
       "      <td>5</td>\n",
       "      <td>1</td>\n",
       "      <td>1</td>\n",
       "      <td>Jackets</td>\n",
       "      <td>Jackets</td>\n",
       "      <td>Just purchased tonight and love i this little...</td>\n",
       "      <td>204</td>\n",
       "      <td>purchased tonight love little jacket embroider...</td>\n",
       "      <td>0</td>\n",
       "    </tr>\n",
       "    <tr>\n",
       "      <th>8079</th>\n",
       "      <td>48</td>\n",
       "      <td>5</td>\n",
       "      <td>1</td>\n",
       "      <td>3</td>\n",
       "      <td>Bottoms</td>\n",
       "      <td>Skirts</td>\n",
       "      <td>Seriously beautiful This skirt is stunning. li...</td>\n",
       "      <td>519</td>\n",
       "      <td>seriously beautiful skirt stunning like review...</td>\n",
       "      <td>0</td>\n",
       "    </tr>\n",
       "    <tr>\n",
       "      <th>2156</th>\n",
       "      <td>62</td>\n",
       "      <td>5</td>\n",
       "      <td>1</td>\n",
       "      <td>1</td>\n",
       "      <td>Tops</td>\n",
       "      <td>Knits</td>\n",
       "      <td>Need them all! Ordered this on a whim while ta...</td>\n",
       "      <td>418</td>\n",
       "      <td>need ordered whim taking advantage promotion n...</td>\n",
       "      <td>5</td>\n",
       "    </tr>\n",
       "    <tr>\n",
       "      <th>5337</th>\n",
       "      <td>37</td>\n",
       "      <td>5</td>\n",
       "      <td>1</td>\n",
       "      <td>2</td>\n",
       "      <td>Dresses</td>\n",
       "      <td>Dresses</td>\n",
       "      <td>Pretty! I am five foot tall, about 103lb and g...</td>\n",
       "      <td>152</td>\n",
       "      <td>pretty five foot tall 103lb got petite zero fi...</td>\n",
       "      <td>0</td>\n",
       "    </tr>\n",
       "    <tr>\n",
       "      <th>13662</th>\n",
       "      <td>42</td>\n",
       "      <td>5</td>\n",
       "      <td>1</td>\n",
       "      <td>1</td>\n",
       "      <td>Bottoms</td>\n",
       "      <td>Skirts</td>\n",
       "      <td>Love love this skirt! quality is great and so...</td>\n",
       "      <td>146</td>\n",
       "      <td>love love skirt quality great comfortable even...</td>\n",
       "      <td>5</td>\n",
       "    </tr>\n",
       "    <tr>\n",
       "      <th>6889</th>\n",
       "      <td>36</td>\n",
       "      <td>5</td>\n",
       "      <td>1</td>\n",
       "      <td>0</td>\n",
       "      <td>Intimate</td>\n",
       "      <td>Lounge</td>\n",
       "      <td>Love this cardigan! i've been searching for a...</td>\n",
       "      <td>252</td>\n",
       "      <td>love cardigan ive searching comfortable lounge...</td>\n",
       "      <td>5</td>\n",
       "    </tr>\n",
       "    <tr>\n",
       "      <th>20210</th>\n",
       "      <td>51</td>\n",
       "      <td>4</td>\n",
       "      <td>1</td>\n",
       "      <td>0</td>\n",
       "      <td>Tops</td>\n",
       "      <td>Knits</td>\n",
       "      <td>Love it I bought the deep maroon which is beau...</td>\n",
       "      <td>386</td>\n",
       "      <td>love bought deep maroon beautiful absolutely l...</td>\n",
       "      <td>1</td>\n",
       "    </tr>\n",
       "    <tr>\n",
       "      <th>22005</th>\n",
       "      <td>55</td>\n",
       "      <td>3</td>\n",
       "      <td>1</td>\n",
       "      <td>0</td>\n",
       "      <td>Tops</td>\n",
       "      <td>Knits</td>\n",
       "      <td>Nice material but weird fit I ordered it in tw...</td>\n",
       "      <td>148</td>\n",
       "      <td>nice material weird fit ordered two color exce...</td>\n",
       "      <td>0</td>\n",
       "    </tr>\n",
       "    <tr>\n",
       "      <th>7363</th>\n",
       "      <td>69</td>\n",
       "      <td>5</td>\n",
       "      <td>1</td>\n",
       "      <td>5</td>\n",
       "      <td>Tops</td>\n",
       "      <td>Knits</td>\n",
       "      <td>So cute and great fit I am so pleased with thi...</td>\n",
       "      <td>291</td>\n",
       "      <td>cute great fit pleased top slightly fitted 53 ...</td>\n",
       "      <td>3</td>\n",
       "    </tr>\n",
       "    <tr>\n",
       "      <th>21791</th>\n",
       "      <td>44</td>\n",
       "      <td>3</td>\n",
       "      <td>0</td>\n",
       "      <td>0</td>\n",
       "      <td>Tops</td>\n",
       "      <td>Knits</td>\n",
       "      <td>It's ok The fabric is great quality but it str...</td>\n",
       "      <td>148</td>\n",
       "      <td>ok fabric great quality stretch much around wa...</td>\n",
       "      <td>0</td>\n",
       "    </tr>\n",
       "  </tbody>\n",
       "</table>\n",
       "</div>"
      ],
      "text/plain": [
       "       Age  Rating  Recommended IND  Positive Feedback Count Department Name  \\\n",
       "6673    53       5                1                        1         Jackets   \n",
       "8079    48       5                1                        3         Bottoms   \n",
       "2156    62       5                1                        1            Tops   \n",
       "5337    37       5                1                        2         Dresses   \n",
       "13662   42       5                1                        1         Bottoms   \n",
       "6889    36       5                1                        0        Intimate   \n",
       "20210   51       4                1                        0            Tops   \n",
       "22005   55       3                1                        0            Tops   \n",
       "7363    69       5                1                        5            Tops   \n",
       "21791   44       3                0                        0            Tops   \n",
       "\n",
       "      Class Name                                               Text  text_len  \\\n",
       "6673     Jackets   Just purchased tonight and love i this little...       204   \n",
       "8079      Skirts  Seriously beautiful This skirt is stunning. li...       519   \n",
       "2156       Knits  Need them all! Ordered this on a whim while ta...       418   \n",
       "5337     Dresses  Pretty! I am five foot tall, about 103lb and g...       152   \n",
       "13662     Skirts   Love love this skirt! quality is great and so...       146   \n",
       "6889      Lounge   Love this cardigan! i've been searching for a...       252   \n",
       "20210      Knits  Love it I bought the deep maroon which is beau...       386   \n",
       "22005      Knits  Nice material but weird fit I ordered it in tw...       148   \n",
       "7363       Knits  So cute and great fit I am so pleased with thi...       291   \n",
       "21791      Knits  It's ok The fabric is great quality but it str...       148   \n",
       "\n",
       "                                          Text_Processed  clusters  \n",
       "6673   purchased tonight love little jacket embroider...         0  \n",
       "8079   seriously beautiful skirt stunning like review...         0  \n",
       "2156   need ordered whim taking advantage promotion n...         5  \n",
       "5337   pretty five foot tall 103lb got petite zero fi...         0  \n",
       "13662  love love skirt quality great comfortable even...         5  \n",
       "6889   love cardigan ive searching comfortable lounge...         5  \n",
       "20210  love bought deep maroon beautiful absolutely l...         1  \n",
       "22005  nice material weird fit ordered two color exce...         0  \n",
       "7363   cute great fit pleased top slightly fitted 53 ...         3  \n",
       "21791  ok fabric great quality stretch much around wa...         0  "
      ]
     },
     "execution_count": 22,
     "metadata": {},
     "output_type": "execute_result"
    }
   ],
   "source": [
    "# assign the data labels back to the dataframe\n",
    "df['clusters'] = kmeans.labels_\n",
    "\n",
    "df.sample(10, random_state=42)"
   ]
  },
  {
   "cell_type": "code",
   "execution_count": 25,
   "id": "hybrid-bankruptcy",
   "metadata": {},
   "outputs": [
    {
     "name": "stdout",
     "output_type": "stream",
     "text": [
      "[1 0 3 0 0]\n"
     ]
    }
   ],
   "source": [
    "new_docs = ['This dress is gorgeous and I love it and would gladly reccomend it to all of my friends.',\n",
    "            'This skirt has really horible quality and I hate it!',\n",
    "            'A super cute top with the perfect fit.',\n",
    "            'The most gorgeous pair of jeans I have seen.',\n",
    "            'this item is too little and tight.']\n",
    "\n",
    "pred = kmeans.predict(vectorizer.transform(new_docs))\n",
    "print(pred)"
   ]
  },
  {
   "cell_type": "markdown",
   "id": "dried-south",
   "metadata": {},
   "source": [
    "# GenSim"
   ]
  },
  {
   "cell_type": "code",
   "execution_count": 28,
   "id": "compressed-design",
   "metadata": {},
   "outputs": [
    {
     "data": {
      "text/plain": [
       "['absolutely wonderful silky sexy comfortable ']"
      ]
     },
     "execution_count": 28,
     "metadata": {},
     "output_type": "execute_result"
    }
   ],
   "source": [
    "clean_docs[:1]"
   ]
  },
  {
   "cell_type": "code",
   "execution_count": 33,
   "id": "impossible-haven",
   "metadata": {},
   "outputs": [],
   "source": [
    "tokenized_docs = [word_tokenize(word) for word in clean_docs]"
   ]
  },
  {
   "cell_type": "code",
   "execution_count": 34,
   "id": "overhead-constant",
   "metadata": {},
   "outputs": [
    {
     "name": "stdout",
     "output_type": "stream",
     "text": [
      "Dictionary(18578 unique tokens: ['absolutely', 'comfortable', 'sexy', 'silky', 'wonderful']...)\n",
      "[(0, 1), (1, 1), (2, 1), (3, 1), (4, 1)]\n"
     ]
    }
   ],
   "source": [
    "# create a dictionary from the corpus\n",
    "dictionary = gensim.corpora.Dictionary(tokenized_docs)\n",
    "print(dictionary)\n",
    "\n",
    "# Term Document Frequency \n",
    "# convert our entire corpus to a list of vectors:\n",
    "bow_corpus = [dictionary.doc2bow(doc) for doc in tokenized_docs]\n",
    "\n",
    "# View the first doc\n",
    "print(bow_corpus[0])"
   ]
  },
  {
   "cell_type": "code",
   "execution_count": 37,
   "id": "fitting-pittsburgh",
   "metadata": {},
   "outputs": [
    {
     "name": "stdout",
     "output_type": "stream",
     "text": [
      "Word 5 (58) appears 1 times\n",
      "Word 6 (bc) appears 2 times\n",
      "Word 7 (bought) appears 1 times\n",
      "Word 8 (definitely) appears 1 times\n",
      "Word 9 (dress) appears 1 times\n",
      "Word 10 (find) appears 1 times\n",
      "Word 11 (glad) appears 1 times\n",
      "Word 12 (happened) appears 1 times\n",
      "Word 13 (hit) appears 1 times\n",
      "Word 14 (im) appears 1 times\n",
      "Word 15 (knee) appears 1 times\n",
      "Word 16 (length) appears 1 times\n",
      "Word 17 (little) appears 1 times\n",
      "Word 18 (love) appears 2 times\n",
      "Word 19 (midi) appears 1 times\n",
      "Word 20 (never) appears 1 times\n",
      "Word 21 (online) appears 1 times\n",
      "Word 22 (ordered) appears 1 times\n",
      "Word 23 (petite) appears 3 times\n",
      "Word 24 (pretty) appears 1 times\n",
      "Word 25 (someone) appears 1 times\n",
      "Word 26 (sooo) appears 1 times\n",
      "Word 27 (store) appears 1 times\n",
      "Word 28 (true) appears 1 times\n",
      "Word 29 (truly) appears 1 times\n",
      "Word 30 (would) appears 2 times\n"
     ]
    }
   ],
   "source": [
    "doc = bow_corpus[1]\n",
    "for i in range(len(doc)):\n",
    "    print (f\"Word {doc[i][0]} ({dictionary[doc[i][0]]}) appears {doc[i][1]} times\")"
   ]
  },
  {
   "cell_type": "markdown",
   "id": "advanced-coffee",
   "metadata": {},
   "source": [
    "# Topic Modeling"
   ]
  },
  {
   "cell_type": "code",
   "execution_count": 38,
   "id": "adverse-ballot",
   "metadata": {},
   "outputs": [
    {
     "name": "stdout",
     "output_type": "stream",
     "text": [
      "(0, '0.030*\"coat\" + 0.026*\"wait\" + 0.024*\"seems\" + 0.021*\"tshirt\" + 0.019*\"lining\" + 0.018*\"weather\" + 0.017*\"month\" + 0.012*\"chic\" + 0.012*\"let\" + 0.012*\"silhouette\"')\n",
      "(1, '0.035*\"top\" + 0.030*\"like\" + 0.027*\"look\" + 0.022*\"fabric\" + 0.018*\"would\" + 0.018*\"beautiful\" + 0.014*\"really\" + 0.013*\"much\" + 0.012*\"bit\" + 0.012*\"back\"')\n",
      "(2, '0.046*\"love\" + 0.032*\"great\" + 0.031*\"color\" + 0.028*\"wear\" + 0.018*\"perfect\" + 0.018*\"flattering\" + 0.016*\"fit\" + 0.016*\"cute\" + 0.015*\"soft\" + 0.015*\"nice\"')\n",
      "(3, '0.058*\"high\" + 0.053*\"regular\" + 0.025*\"wash\" + 0.023*\"elastic\" + 0.018*\"cheap\" + 0.017*\"buying\" + 0.014*\"yes\" + 0.013*\"slit\" + 0.013*\"shown\" + 0.013*\"34\"')\n",
      "(4, '0.023*\"strap\" + 0.021*\"youre\" + 0.019*\"55\" + 0.018*\"ever\" + 0.018*\"flat\" + 0.017*\"night\" + 0.017*\"local\" + 0.017*\"wedding\" + 0.017*\"classic\" + 0.016*\"bad\"')\n",
      "(5, '0.086*\"dress\" + 0.060*\"size\" + 0.039*\"fit\" + 0.037*\"im\" + 0.032*\"small\" + 0.022*\"ordered\" + 0.020*\"run\" + 0.019*\"large\" + 0.017*\"petite\" + 0.016*\"waist\"')\n"
     ]
    }
   ],
   "source": [
    "NUM_TOPICS = 6\n",
    "\n",
    "# Build LDA model\n",
    "lda_model = gensim.models.ldamodel.LdaModel(corpus=bow_corpus,\n",
    "                                           id2word=dictionary,\n",
    "                                           num_topics=NUM_TOPICS, \n",
    "                                           random_state=42,\n",
    "                                           update_every=1,\n",
    "                                           chunksize=100,\n",
    "                                           passes=10,\n",
    "                                           alpha='auto',\n",
    "                                           per_word_topics=True)\n",
    "### View the topics in LDA model\n",
    "topics = lda_model.print_topics()\n",
    "for topic in topics:\n",
    "    print(topic)"
   ]
  },
  {
   "cell_type": "code",
   "execution_count": 41,
   "id": "reflected-theta",
   "metadata": {},
   "outputs": [
    {
     "name": "stdout",
     "output_type": "stream",
     "text": [
      "[(9, 1), (18, 1), (30, 1), (132, 1), (3456, 1), (6772, 1)]\n",
      "[(0, 0.022831386), (1, 0.35062858), (2, 0.35865673), (3, 0.024053758), (4, 0.024860613), (5, 0.2189689)]\n"
     ]
    }
   ],
   "source": [
    "new_doc = 'This dress is gorgeous and I love it and would gladly reccomend it to all of my friends.'\n",
    "new_doc = process_string(new_doc)\n",
    "new_doc = word_tokenize(new_doc)\n",
    "new_doc_bow = dictionary.doc2bow(new_doc)\n",
    "\n",
    "print(new_doc_bow)\n",
    "print(lda_model.get_document_topics(new_doc_bow))"
   ]
  },
  {
   "cell_type": "markdown",
   "id": "hired-poetry",
   "metadata": {},
   "source": [
    "# Model Perplexity and Coherence Score\n",
    "Model perplexity and topic coherence provide a convenient measure to judge how good a given topic model is."
   ]
  },
  {
   "cell_type": "code",
   "execution_count": 42,
   "id": "tutorial-diary",
   "metadata": {},
   "outputs": [],
   "source": [
    "def lda_scoring (model, corpus, text, dictionary):\n",
    "\n",
    "    # Compute Perplexity\n",
    "    print('\\nPerplexity: ', model.log_perplexity(corpus))  # a measure of how good the model is. lower the better.\n",
    "\n",
    "    # Compute Coherence Score\n",
    "    coherence_model_lda = CoherenceModel(model=model, \n",
    "                                         texts=text, \n",
    "                                         dictionary=dictionary, \n",
    "                                         coherence='c_v')\n",
    "    \n",
    "    coherence_lda = coherence_model_lda.get_coherence()\n",
    "    print('\\nCoherence Score: ', coherence_lda)"
   ]
  },
  {
   "cell_type": "code",
   "execution_count": 44,
   "id": "german-safety",
   "metadata": {},
   "outputs": [
    {
     "name": "stdout",
     "output_type": "stream",
     "text": [
      "\n",
      "Perplexity:  -7.123051830133696\n",
      "\n",
      "Coherence Score:  0.309430343359335\n"
     ]
    }
   ],
   "source": [
    "lda_scoring(lda_model, bow_corpus, tokenized_docs, dictionary)"
   ]
  },
  {
   "cell_type": "code",
   "execution_count": 46,
   "id": "confirmed-honolulu",
   "metadata": {},
   "outputs": [
    {
     "data": {
      "text/html": [
       "\n",
       "<link rel=\"stylesheet\" type=\"text/css\" href=\"https://cdn.jsdelivr.net/gh/bmabey/pyLDAvis@3.3.1/pyLDAvis/js/ldavis.v1.0.0.css\">\n",
       "\n",
       "\n",
       "<div id=\"ldavis_el64033108232565446425695865\"></div>\n",
       "<script type=\"text/javascript\">\n",
       "\n",
       "var ldavis_el64033108232565446425695865_data = {\"mdsDat\": {\"x\": [-0.21174525803455932, 0.23142741768767874, 0.2316559700267659, -0.21094400815149986, -0.21207935352825413, 0.17168523199986835], \"y\": [0.018343645987819186, 0.16643567958487446, 0.1649763486238898, 0.016977991468382886, 0.01643506397325007, -0.38316872963821663], \"topics\": [1, 2, 3, 4, 5, 6], \"cluster\": [1, 1, 1, 1, 1, 1], \"Freq\": [2.6106817814490646, 35.515713412465175, 33.66047958612419, 2.7641429830975595, 2.863119920052238, 22.58586231681177]}, \"tinfo\": {\"Term\": [\"dress\", \"size\", \"love\", \"top\", \"im\", \"great\", \"color\", \"like\", \"small\", \"wear\", \"fit\", \"look\", \"fabric\", \"ordered\", \"run\", \"perfect\", \"flattering\", \"beautiful\", \"large\", \"petite\", \"high\", \"soft\", \"regular\", \"comfortable\", \"waist\", \"sweater\", \"really\", \"nice\", \"bought\", \"would\", \"coat\", \"wait\", \"seems\", \"tshirt\", \"lining\", \"weather\", \"month\", \"chic\", \"let\", \"silhouette\", \"scratchy\", \"stripe\", \"gave\", \"pas\", \"reading\", \"silk\", \"silky\", \"bodice\", \"generally\", \"stand\", \"wool\", \"consider\", \"leather\", \"noted\", \"p\", \"sent\", \"maxi\", \"simply\", \"old\", \"feeling\", \"top\", \"like\", \"fabric\", \"beautiful\", \"really\", \"much\", \"back\", \"pretty\", \"also\", \"short\", \"cut\", \"design\", \"online\", \"didnt\", \"see\", \"shoulder\", \"bottom\", \"better\", \"review\", \"model\", \"side\", \"person\", \"looked\", \"picture\", \"front\", \"arm\", \"print\", \"wanted\", \"loved\", \"found\", \"sleeve\", \"made\", \"look\", \"gorgeous\", \"however\", \"bit\", \"way\", \"think\", \"retailer\", \"would\", \"material\", \"quality\", \"good\", \"little\", \"one\", \"work\", \"love\", \"great\", \"color\", \"perfect\", \"flattering\", \"soft\", \"comfortable\", \"sweater\", \"bought\", \"skirt\", \"jean\", \"long\", \"feel\", \"pant\", \"super\", \"black\", \"go\", \"style\", \"true\", \"summer\", \"purchased\", \"fall\", \"white\", \"piece\", \"time\", \"enough\", \"comfy\", \"wearing\", \"wear\", \"pair\", \"got\", \"nice\", \"well\", \"cute\", \"length\", \"fit\", \"little\", \"high\", \"regular\", \"wash\", \"elastic\", \"cheap\", \"buying\", \"yes\", \"slit\", \"shown\", \"34\", \"texture\", \"26\", \"dry\", \"bright\", \"subtle\", \"real\", \"cold\", \"snag\", \"rayon\", \"everywhere\", \"washing\", \"gold\", \"waistband\", \"life\", \"website\", \"truly\", \"sort\", \"barely\", \"quickly\", \"butt\", \"strap\", \"youre\", \"55\", \"ever\", \"flat\", \"night\", \"local\", \"wedding\", \"classic\", \"bad\", \"le\", \"elegant\", \"ordering\", \"occasion\", \"booty\", \"sandal\", \"59\", \"party\", \"athletic\", \"thread\", \"34b\", \"pic\", \"waisted\", \"closet\", \"fantastic\", \"build\", \"typical\", \"vest\", \"125\", \"weekend\", \"dress\", \"size\", \"im\", \"small\", \"ordered\", \"run\", \"large\", \"petite\", \"waist\", \"medium\", \"x\", \"big\", \"usually\", \"tight\", \"lb\", \"try\", \"2\", \"though\", \"4\", \"6\", \"chest\", \"went\", \"order\", \"bust\", \"normally\", \"reviewer\", \"say\", \"hip\", \"adorable\", \"huge\", \"usual\", \"hit\", \"store\", \"tried\", \"fit\", \"around\", \"perfectly\"], \"Freq\": [13910.0, 9768.0, 11069.0, 9011.0, 5962.0, 7762.0, 7365.0, 7687.0, 5218.0, 6702.0, 10481.0, 7102.0, 5521.0, 3592.0, 3286.0, 4424.0, 4362.0, 4523.0, 3113.0, 2825.0, 1151.0, 3576.0, 1056.0, 3505.0, 2552.0, 3309.0, 3445.0, 3639.0, 3250.0, 5415.0, 555.2495774421203, 481.5170286790257, 453.3052404299529, 398.2227332937777, 352.21422263824866, 335.8347240202792, 313.2529013667838, 232.46884930967158, 221.55180438062067, 218.01803373164196, 200.33378609034213, 196.01364879916932, 189.46636852055371, 187.60942162838768, 182.0185247495658, 178.8260748308531, 179.9387678872654, 170.34517138960908, 167.56071646266008, 158.23279071790114, 156.264621486049, 156.86209801459734, 155.16161733223367, 147.2284934810827, 144.18342099011323, 143.98621616292817, 142.14397657263962, 142.00544439978069, 132.92495965940626, 132.70585478128834, 9010.554257545547, 7686.495669121307, 5521.09613710902, 4522.49780930391, 3445.108455156712, 3222.791485662534, 2971.3565821003735, 2855.2741166946266, 2554.280417410558, 2443.747132437603, 2050.247057186535, 1838.3177038487768, 1831.2575845220244, 1821.2177091180984, 1760.2302047317078, 1649.8219833774617, 1637.4244753657786, 1587.885912263359, 1568.9892372582253, 1543.8218700446248, 1461.399384302894, 1457.3845700076808, 1444.290752255124, 1364.1764416068454, 1322.5700118991886, 1309.5186708156161, 1269.7083297853533, 1241.2058932997036, 1220.8506949002197, 1196.45808319779, 2386.8021290888832, 1779.2698095867947, 6979.871788446089, 1593.6180145074322, 1403.4710283192717, 3095.8581836015524, 2334.545177490869, 2325.8224337836987, 2154.3432928574516, 4672.566579312557, 2758.9995040874655, 2123.4119954778926, 1998.4825509821512, 2450.5079036514567, 2344.626228050245, 1649.164009126145, 11068.947238638522, 7762.11417788597, 7364.957256041423, 4424.161713366582, 4361.972695443562, 3575.523816017084, 3505.1363331510943, 3308.4429248302604, 3250.1323381549146, 3006.7120530709053, 2695.136070776698, 2693.1590643898217, 2365.6295488775, 2204.8003596520057, 2003.5119533896714, 1960.9878131759774, 1866.6126154362987, 1845.1811036589713, 1796.5137777455682, 1699.0839201092072, 1655.0349169999517, 1599.7523011957592, 1466.2965203682063, 1426.3498896157917, 1381.170639917011, 1372.996172669266, 1364.478560807576, 1361.3976604404154, 6698.564135990438, 1273.186842626601, 2394.519409763798, 3551.005572656934, 3095.902515115902, 3796.4201334972795, 2344.673281176609, 3898.4255890691893, 1512.9767474060875, 1151.0777093635963, 1056.0065020984885, 485.54699139836794, 445.3901316434728, 349.74599901221205, 329.7457689902578, 276.5062170662761, 265.51514081538573, 263.6109025066546, 262.2643216224362, 259.18198388922593, 242.68879453681618, 230.6615794092898, 229.54606196996514, 197.75117206667235, 191.2402329443098, 190.59268067884966, 189.36583066146167, 190.28645623295074, 174.58401365293952, 169.95005523541502, 165.1020877927299, 161.78909179522427, 155.02504371995448, 147.37936870579267, 141.90880443904953, 141.8911698743687, 129.84347470932266, 127.74824900034065, 118.47716438970407, 462.27100789148716, 423.90169626246484, 387.42750977867144, 375.74988987822525, 360.4189527900618, 351.70212493165326, 351.1625955346473, 349.5653351799159, 342.18380537938265, 335.2672147791827, 326.4087990845328, 324.91886467519265, 310.13565999799147, 291.8851176285617, 250.5651055723457, 249.2251146274164, 247.87770281637307, 240.64165251451624, 223.09048385358074, 204.3245632863746, 203.22034222397113, 196.5236305513538, 193.00201942957705, 186.55145540597914, 183.59804607650216, 180.94055570630516, 171.62319091918764, 152.0307308503877, 151.44190706253727, 145.8802826769311, 13909.557655519113, 9767.614337241803, 5961.757878159794, 5217.702018284603, 3592.0667566933894, 3285.7684131332844, 3112.587922065722, 2825.163794862434, 2551.2065459348496, 2206.2392340092647, 2073.72182899929, 2019.7619162086803, 1800.2894825326578, 1622.834678220137, 1308.7941738490838, 1299.4857329883687, 1213.9108306036821, 1196.4809236989827, 1083.6177900648456, 1081.886725555577, 989.9847771224307, 989.5263151535977, 976.7782432439304, 969.2956743897314, 895.6969152525984, 883.5217515048703, 865.2111882924044, 891.1724155565702, 739.97311796991, 714.9586112854024, 894.1881968975891, 853.9688249759289, 1885.9743917117698, 1745.7392049615678, 6306.133019447809, 1015.4098905628749, 1079.716687285243], \"Total\": [13910.0, 9768.0, 11069.0, 9011.0, 5962.0, 7762.0, 7365.0, 7687.0, 5218.0, 6702.0, 10481.0, 7102.0, 5521.0, 3592.0, 3286.0, 4424.0, 4362.0, 4523.0, 3113.0, 2825.0, 1151.0, 3576.0, 1056.0, 3505.0, 2552.0, 3309.0, 3445.0, 3639.0, 3250.0, 5415.0, 556.0777675445162, 482.34642389776644, 454.1353301374789, 399.05184067909624, 353.0440527257756, 336.66426438751193, 314.08584756650833, 233.30068936463857, 222.38414233643314, 218.85162219026464, 201.1659655528207, 196.842858795968, 190.2980425887294, 188.4415264406917, 182.8496473272104, 179.65556303101545, 180.7740632626793, 171.1759138404094, 168.3927306061262, 159.06274170491875, 157.09217842962323, 157.69485027788357, 155.99069694497229, 148.06427663149867, 145.01232489785576, 144.81885795085526, 142.97227484105494, 142.8343012084451, 133.75440672791387, 133.53602638509477, 9011.37152938306, 7687.31400221871, 5521.914493161703, 4523.402930439712, 3445.9254777199567, 3223.609875819175, 2972.1741829391053, 2856.0916367273467, 2555.098479063485, 2444.5643643630247, 2051.0659759335285, 1839.1363158459706, 1832.0762647456145, 1822.0355526329226, 1761.0486969254619, 1650.6408833942667, 1638.2432821210461, 1588.7045054668033, 1569.8095547043363, 1544.6398917981596, 1462.2171730613657, 1458.202293981799, 1445.108727506722, 1364.9942952230556, 1323.3877056969288, 1310.3351817260252, 1270.5273806494488, 1242.0234272119094, 1221.6679223839892, 1197.2775136210619, 2391.1366680780498, 1785.059178943884, 7102.600095237706, 1599.6496240068386, 1405.9649413914615, 3169.655425851932, 2381.9210444922437, 2386.209239268105, 2227.553027866809, 5415.63955764803, 3229.1138375886535, 2632.339363211741, 2397.4715004310897, 3964.1349941659214, 3662.79910956526, 2772.3853945744277, 11069.767221372831, 7762.9340064178905, 7365.809759534034, 4424.981631126929, 4362.793768023658, 3576.3430639917497, 3505.9555834374746, 3309.2636731176817, 3250.952560346445, 3007.532946693128, 2695.9548206849413, 2693.9799743506846, 2366.4512275630454, 2205.6192237473083, 2004.331119371792, 1961.807957577192, 1867.432895081913, 1846.0011186684665, 1797.334338206781, 1699.9028657605502, 1655.8709750708595, 1600.5722169940286, 1467.1158986767844, 1427.1695929803113, 1381.9910222978249, 1373.8160802638392, 1365.2980756585516, 1362.2172227821384, 6702.656594544197, 1274.0068193362818, 2403.6566985515196, 3639.415228765488, 3367.4583969409023, 4287.328757285431, 2956.319702388925, 10481.769917303176, 3964.1349941659214, 1151.9054825296462, 1056.8328813711569, 486.3701798882264, 446.2216598800933, 350.57458127484404, 330.5763442043019, 277.33515984895183, 266.3423621849527, 264.43687425247106, 263.09341650214054, 260.0077696060473, 243.51583409904813, 231.48474614940676, 230.373856778984, 198.57985477506503, 192.06382367450527, 191.4185034916869, 190.1964315057961, 191.12243838255256, 175.41247397054195, 170.7739805205604, 165.9309671597288, 162.61486572262987, 155.849910662522, 148.2075306280278, 142.73431878411876, 142.71808893796413, 130.66884282162755, 128.57883569378896, 119.30265097138033, 463.09359440015675, 424.72306775996486, 388.2469586364412, 376.57036433247123, 361.2389365270401, 352.5219708266807, 351.9832980952721, 350.3856024594048, 343.00209477229896, 336.0867524609523, 327.2303249222903, 325.73914469142096, 310.9577709790187, 292.7118747043024, 251.38480984085044, 250.04569746036964, 248.69787946615844, 241.462212926467, 223.9102083512036, 205.1446267806154, 204.04061542787665, 197.3429785812652, 193.82257532145093, 187.3698138773409, 184.4185235879762, 181.75919014150034, 172.4434868624897, 152.84905672989063, 152.26435518140656, 146.69950086769518, 13910.381726223915, 9768.43719436304, 5962.581139040314, 5218.524240457896, 3592.8893656801324, 3286.590492491727, 3113.410121617043, 2825.9866392046306, 2552.03004211679, 2207.0617137881964, 2074.54375837044, 2020.584366005726, 1801.1114664723184, 1623.6581019076114, 1309.616287156432, 1300.3105980550145, 1214.733297326184, 1197.3040943204473, 1084.4400282919546, 1082.7087837154265, 990.8069182825, 990.3496951912413, 977.6012800943971, 970.1182814150942, 896.5189976472993, 884.3450235511303, 866.0346346189333, 892.0573469031938, 740.7965255025292, 715.7807579012685, 895.804319167626, 855.2371467458241, 1984.10275287918, 2073.9843951134435, 10481.769917303176, 1127.4277055086313, 1697.160956760757], \"Category\": [\"Default\", \"Default\", \"Default\", \"Default\", \"Default\", \"Default\", \"Default\", \"Default\", \"Default\", \"Default\", \"Default\", \"Default\", \"Default\", \"Default\", \"Default\", \"Default\", \"Default\", \"Default\", \"Default\", \"Default\", \"Default\", \"Default\", \"Default\", \"Default\", \"Default\", \"Default\", \"Default\", \"Default\", \"Default\", \"Default\", \"Topic1\", \"Topic1\", \"Topic1\", \"Topic1\", \"Topic1\", \"Topic1\", \"Topic1\", \"Topic1\", \"Topic1\", \"Topic1\", \"Topic1\", \"Topic1\", \"Topic1\", \"Topic1\", \"Topic1\", \"Topic1\", \"Topic1\", \"Topic1\", \"Topic1\", \"Topic1\", \"Topic1\", \"Topic1\", \"Topic1\", \"Topic1\", \"Topic1\", \"Topic1\", \"Topic1\", \"Topic1\", \"Topic1\", \"Topic1\", \"Topic2\", \"Topic2\", \"Topic2\", \"Topic2\", \"Topic2\", \"Topic2\", \"Topic2\", \"Topic2\", \"Topic2\", \"Topic2\", \"Topic2\", \"Topic2\", \"Topic2\", \"Topic2\", \"Topic2\", \"Topic2\", \"Topic2\", \"Topic2\", \"Topic2\", \"Topic2\", \"Topic2\", \"Topic2\", \"Topic2\", \"Topic2\", \"Topic2\", \"Topic2\", \"Topic2\", \"Topic2\", \"Topic2\", \"Topic2\", \"Topic2\", \"Topic2\", \"Topic2\", \"Topic2\", \"Topic2\", \"Topic2\", \"Topic2\", \"Topic2\", \"Topic2\", \"Topic2\", \"Topic2\", \"Topic2\", \"Topic2\", \"Topic2\", \"Topic2\", \"Topic2\", \"Topic3\", \"Topic3\", \"Topic3\", \"Topic3\", \"Topic3\", \"Topic3\", \"Topic3\", \"Topic3\", \"Topic3\", \"Topic3\", \"Topic3\", \"Topic3\", \"Topic3\", \"Topic3\", \"Topic3\", \"Topic3\", \"Topic3\", \"Topic3\", \"Topic3\", \"Topic3\", \"Topic3\", \"Topic3\", \"Topic3\", \"Topic3\", \"Topic3\", \"Topic3\", \"Topic3\", \"Topic3\", \"Topic3\", \"Topic3\", \"Topic3\", \"Topic3\", \"Topic3\", \"Topic3\", \"Topic3\", \"Topic3\", \"Topic3\", \"Topic4\", \"Topic4\", \"Topic4\", \"Topic4\", \"Topic4\", \"Topic4\", \"Topic4\", \"Topic4\", \"Topic4\", \"Topic4\", \"Topic4\", \"Topic4\", \"Topic4\", \"Topic4\", \"Topic4\", \"Topic4\", \"Topic4\", \"Topic4\", \"Topic4\", \"Topic4\", \"Topic4\", \"Topic4\", \"Topic4\", \"Topic4\", \"Topic4\", \"Topic4\", \"Topic4\", \"Topic4\", \"Topic4\", \"Topic4\", \"Topic5\", \"Topic5\", \"Topic5\", \"Topic5\", \"Topic5\", \"Topic5\", \"Topic5\", \"Topic5\", \"Topic5\", \"Topic5\", \"Topic5\", \"Topic5\", \"Topic5\", \"Topic5\", \"Topic5\", \"Topic5\", \"Topic5\", \"Topic5\", \"Topic5\", \"Topic5\", \"Topic5\", \"Topic5\", \"Topic5\", \"Topic5\", \"Topic5\", \"Topic5\", \"Topic5\", \"Topic5\", \"Topic5\", \"Topic5\", \"Topic6\", \"Topic6\", \"Topic6\", \"Topic6\", \"Topic6\", \"Topic6\", \"Topic6\", \"Topic6\", \"Topic6\", \"Topic6\", \"Topic6\", \"Topic6\", \"Topic6\", \"Topic6\", \"Topic6\", \"Topic6\", \"Topic6\", \"Topic6\", \"Topic6\", \"Topic6\", \"Topic6\", \"Topic6\", \"Topic6\", \"Topic6\", \"Topic6\", \"Topic6\", \"Topic6\", \"Topic6\", \"Topic6\", \"Topic6\", \"Topic6\", \"Topic6\", \"Topic6\", \"Topic6\", \"Topic6\", \"Topic6\", \"Topic6\"], \"logprob\": [30.0, 29.0, 28.0, 27.0, 26.0, 25.0, 24.0, 23.0, 22.0, 21.0, 20.0, 19.0, 18.0, 17.0, 16.0, 15.0, 14.0, 13.0, 12.0, 11.0, 10.0, 9.0, 8.0, 7.0, 6.0, 5.0, 4.0, 3.0, 2.0, 1.0, -3.5157, -3.6581, -3.7185, -3.8481, -3.9708, -4.0185, -4.0881, -4.3863, -4.4344, -4.4505, -4.5351, -4.5569, -4.5909, -4.6007, -4.631, -4.6487, -4.6425, -4.6972, -4.7137, -4.771, -4.7835, -4.7797, -4.7906, -4.8431, -4.864, -4.8654, -4.8782, -4.8792, -4.9453, -4.9469, -3.3393, -3.4982, -3.8291, -4.0286, -4.3007, -4.3674, -4.4487, -4.4885, -4.5999, -4.6442, -4.8197, -4.9288, -4.9327, -4.9382, -4.9722, -5.037, -5.0446, -5.0753, -5.0873, -5.1034, -5.1583, -5.161, -5.1701, -5.2271, -5.2581, -5.268, -5.2989, -5.3216, -5.3381, -5.3583, -4.6677, -4.9615, -3.5947, -5.0717, -5.1987, -4.4076, -4.6899, -4.6936, -4.7702, -3.996, -4.5228, -4.7847, -4.8453, -4.6414, -4.6856, -5.0374, -3.0799, -3.4348, -3.4873, -3.997, -4.0111, -4.2099, -4.2298, -4.2876, -4.3053, -4.3832, -4.4926, -4.4933, -4.623, -4.6934, -4.7891, -4.8106, -4.8599, -4.8715, -4.8982, -4.9539, -4.9802, -5.0142, -5.1013, -5.1289, -5.1611, -5.167, -5.1733, -5.1755, -3.5821, -5.2425, -4.6109, -4.2168, -4.354, -4.15, -4.6319, -4.1235, -5.07, -2.8437, -2.9299, -3.7069, -3.7932, -4.035, -4.0939, -4.27, -4.3105, -4.3177, -4.3228, -4.3347, -4.4004, -4.4512, -4.4561, -4.6052, -4.6387, -4.6421, -4.6485, -4.6437, -4.7298, -4.7567, -4.7856, -4.8059, -4.8486, -4.8992, -4.937, -4.9371, -5.0259, -5.0421, -5.1175, -3.7912, -3.8779, -3.9678, -3.9985, -4.0401, -4.0646, -4.0661, -4.0707, -4.092, -4.1124, -4.1392, -4.1438, -4.1904, -4.251, -4.4037, -4.409, -4.4144, -4.4441, -4.5198, -4.6077, -4.6131, -4.6466, -4.6647, -4.6987, -4.7146, -4.7292, -4.7821, -4.9033, -4.9072, -4.9446, -2.4525, -2.806, -3.2997, -3.433, -3.8063, -3.8954, -3.9496, -4.0465, -4.1485, -4.2937, -4.3557, -4.3821, -4.4971, -4.6009, -4.8159, -4.8231, -4.8912, -4.9056, -5.0047, -5.0063, -5.0951, -5.0956, -5.1085, -5.1162, -5.1952, -5.2089, -5.2298, -5.2003, -5.3862, -5.4206, -5.1969, -5.2429, -4.4506, -4.5279, -3.2435, -5.0697, -5.0083], \"loglift\": [30.0, 29.0, 28.0, 27.0, 26.0, 25.0, 24.0, 23.0, 22.0, 21.0, 20.0, 19.0, 18.0, 17.0, 16.0, 15.0, 14.0, 13.0, 12.0, 11.0, 10.0, 9.0, 8.0, 7.0, 6.0, 5.0, 4.0, 3.0, 2.0, 1.0, 3.6441, 3.6438, 3.6437, 3.6435, 3.6432, 3.6431, 3.6429, 3.642, 3.6418, 3.6417, 3.6414, 3.6413, 3.6412, 3.6411, 3.641, 3.6409, 3.6409, 3.6407, 3.6406, 3.6403, 3.6403, 3.6403, 3.6402, 3.6399, 3.6398, 3.6398, 3.6397, 3.6397, 3.6393, 3.6393, 1.0351, 1.0351, 1.035, 1.035, 1.035, 1.0349, 1.0349, 1.0349, 1.0349, 1.0349, 1.0348, 1.0347, 1.0347, 1.0347, 1.0347, 1.0347, 1.0347, 1.0347, 1.0347, 1.0347, 1.0346, 1.0346, 1.0346, 1.0346, 1.0346, 1.0346, 1.0346, 1.0345, 1.0345, 1.0345, 1.0334, 1.0319, 1.0178, 1.0314, 1.0334, 1.0116, 1.0151, 1.0096, 1.0018, 0.8876, 0.8779, 0.8203, 0.8532, 0.5542, 0.5891, 0.5158, 1.0888, 1.0887, 1.0887, 1.0887, 1.0887, 1.0886, 1.0886, 1.0886, 1.0886, 1.0886, 1.0885, 1.0885, 1.0885, 1.0885, 1.0884, 1.0884, 1.0884, 1.0884, 1.0884, 1.0884, 1.0883, 1.0883, 1.0883, 1.0883, 1.0883, 1.0882, 1.0882, 1.0882, 1.0882, 1.0882, 1.085, 1.0643, 1.0048, 0.9672, 0.857, 0.0998, 0.1256, 3.5877, 3.5877, 3.5867, 3.5866, 3.5861, 3.5859, 3.5854, 3.5853, 3.5853, 3.5853, 3.5853, 3.585, 3.5849, 3.5848, 3.5843, 3.5841, 3.5841, 3.5841, 3.5841, 3.5837, 3.5836, 3.5834, 3.5833, 3.5831, 3.5828, 3.5826, 3.5826, 3.5821, 3.582, 3.5815, 3.5515, 3.5513, 3.5511, 3.5511, 3.551, 3.5509, 3.5509, 3.5509, 3.5509, 3.5508, 3.5507, 3.5507, 3.5506, 3.5504, 3.55, 3.55, 3.55, 3.5499, 3.5496, 3.5493, 3.5492, 3.5491, 3.549, 3.5489, 3.5488, 3.5487, 3.5485, 3.5479, 3.5478, 3.5477, 1.4878, 1.4878, 1.4877, 1.4877, 1.4876, 1.4876, 1.4876, 1.4876, 1.4875, 1.4875, 1.4874, 1.4874, 1.4874, 1.4873, 1.4872, 1.4872, 1.4872, 1.4872, 1.4871, 1.4871, 1.487, 1.487, 1.487, 1.487, 1.4869, 1.4869, 1.4869, 1.4869, 1.4867, 1.4867, 1.486, 1.4864, 1.4371, 1.3156, 0.9797, 1.3832, 1.0356]}, \"token.table\": {\"Topic\": [5, 6, 4, 4, 5, 6, 5, 5, 6, 6, 2, 2, 3, 6, 5, 2, 5, 4, 2, 2, 6, 2, 3, 6, 3, 1, 5, 2, 3, 4, 5, 6, 4, 4, 4, 6, 1, 5, 5, 1, 4, 3, 3, 3, 1, 2, 2, 3, 2, 2, 6, 4, 4, 5, 3, 5, 4, 2, 3, 5, 3, 1, 2, 3, 6, 5, 3, 2, 2, 1, 1, 3, 4, 2, 3, 2, 6, 3, 6, 3, 4, 6, 2, 6, 2, 6, 6, 6, 3, 6, 6, 5, 1, 3, 6, 1, 4, 2, 1, 2, 3, 5, 3, 2, 3, 2, 3, 2, 2, 6, 2, 3, 1, 6, 2, 1, 2, 2, 3, 5, 6, 1, 5, 1, 2, 3, 6, 2, 6, 6, 5, 1, 3, 3, 5, 1, 3, 3, 6, 2, 6, 5, 2, 3, 2, 2, 3, 2, 3, 4, 4, 1, 4, 2, 4, 2, 3, 2, 6, 6, 5, 6, 1, 2, 1, 1, 2, 2, 4, 2, 1, 1, 1, 1, 6, 3, 2, 3, 4, 6, 4, 3, 4, 1, 2, 6, 5, 1, 3, 4, 3, 3, 3, 4, 2, 6, 6, 5, 6, 3, 2, 2, 6, 3, 4, 6, 1, 5, 2, 6, 6, 5, 6, 4, 5, 1, 2, 4, 4, 2, 6, 3, 6, 3, 1, 4, 5, 5, 2, 3, 6, 3, 1, 2, 3, 2, 6, 6, 4, 5], \"Freq\": [0.9916963153989637, 0.9993963305955323, 0.9978817225542782, 0.9958439989997558, 0.994899959374782, 0.9995942345538023, 0.9967882333429716, 0.9971938664388436, 0.9993453607044784, 0.9989247715464258, 0.9995700834733041, 0.9997442015365995, 0.09845420638294773, 0.9002794547629904, 0.9959349403588784, 0.9996049414109559, 0.9967664525513288, 0.9948813901831168, 0.9996898506586113, 0.9995565534909865, 0.9997107935627152, 0.9767623239891652, 0.021768927763324418, 0.0012619668268593865, 0.999588156641902, 0.9931303779017313, 0.9984692398832926, 0.9992410882226012, 0.9997069903885821, 0.998377173589872, 0.9958230990085877, 0.9988472731248162, 0.9890811230029346, 0.9982565473470609, 0.9983610298477585, 0.9991855948241675, 0.994424837028211, 0.9970784587395474, 0.9980262889219552, 0.9980618402543312, 0.9978136727429536, 0.9998900651034347, 0.9997274399476169, 0.9990492364402364, 0.9955937034300161, 0.9994802819870076, 0.11429027903851463, 0.88539979434735, 0.9993821470240242, 0.9994316506988976, 0.999972558177667, 0.9979059261680513, 0.9972622129539351, 0.9977308693061094, 0.9994059756065146, 0.9984853711643445, 0.9976485482405817, 0.9998343883877892, 0.9996424922362434, 0.9977305772769808, 0.9998093231088857, 0.9959859043315474, 0.02642683460764883, 0.37188375920799693, 0.601615953197955, 0.9965703128822401, 0.99981805969618, 0.9989329845365607, 0.999707035439985, 0.9931788967922559, 0.9976677698335754, 0.9997681870748591, 0.9943894308840336, 0.8333779982955958, 0.16600822989071426, 0.9964682115870553, 0.0031256844780020556, 0.9963985295584281, 0.0033282623116774215, 0.9998796838389817, 0.9992139263651583, 0.9988147097192076, 0.0011692663301693551, 0.9985534459646292, 0.9978911697552522, 0.0014225105769853914, 0.9989092220031762, 0.999902535659178, 0.9996458320897608, 0.9998682725368575, 0.999529413949356, 0.9962401867168561, 0.9936489998161764, 0.7932159698780434, 0.20667588810041984, 0.998272618126467, 0.9945466079582015, 0.9998290687464658, 0.9970427126084841, 0.618293777484161, 0.3816721686387334, 0.9972064069500083, 0.9996362354731605, 0.9827387022225974, 0.017176808262343392, 0.9992327722574654, 0.9999306921855277, 0.9994532700975844, 0.9966056145278787, 0.002801027584395387, 0.8544139781892262, 0.14524108581759587, 0.9931995567522736, 0.9995189469412824, 0.9995857339943391, 0.9965428319202494, 0.9998108096690763, 0.024179708680795442, 0.9757061991534616, 0.9985193239858026, 0.9994210968772984, 0.9928120634111668, 0.9975680019643156, 0.994359761697807, 0.6402207519042259, 0.3584690180171636, 0.0013650762300729763, 0.9994125436990124, 0.9993849434256683, 0.9997524650526043, 0.996919932323919, 0.9930190423567871, 0.9992097221765216, 0.9997192517454322, 0.9980857753233308, 0.9976569578424072, 0.9997781615363048, 0.3635483113974183, 0.6363568497718181, 0.9991754957547654, 0.9996508691191448, 0.9982620178142088, 0.9992715755468464, 0.9991804807318877, 0.9996177865187136, 0.9995849120156866, 0.9994740078883125, 0.8065069533472723, 0.19298423565728418, 0.995498203956618, 0.9941271239941702, 0.9953533007056342, 0.9944610929109265, 0.9997314283997316, 0.9992119081589548, 0.9669803470684395, 0.03277138594985891, 0.9994842975048086, 0.9996098541384393, 0.9998203328059653, 0.9958179745902831, 0.9988053195824107, 0.9942039621383442, 0.999404504300595, 0.9975000180295702, 0.9943456400468705, 0.9997691349954814, 0.9996117366286549, 0.9983479072133716, 0.9991675839377421, 0.9961086777345235, 0.9963510006595105, 0.9957180623773747, 0.9941589576076157, 0.9999552441854986, 0.9998227960582396, 0.9982699993131824, 0.0016728445736291285, 0.9987145785516651, 0.9998995423928797, 0.993709495513013, 0.9999040740819292, 0.9949684798660928, 0.9933187263495667, 0.04888859705438185, 0.9505556087068472, 0.9976385024250373, 0.9957181134173547, 0.9994576825234057, 0.9970799919472102, 0.9994688721463234, 0.9998347980687463, 0.9996181406975978, 0.9961240788782034, 0.9747678291252562, 0.025144483984314434, 0.9989108077666873, 0.994420391123188, 0.9995946795037464, 0.9992829025067202, 0.9999587710503504, 0.15814969523049807, 0.8418578288794196, 0.9998139810720388, 0.994855345299056, 0.9989920884618069, 0.9973641502885784, 0.9974282191194421, 0.0011163152248799067, 0.9979858110426365, 0.9993828996744464, 0.9944451294103106, 0.999596383232254, 0.9962188836801757, 0.9957560396662427, 0.999281794410401, 0.9991760000741639, 0.9992388927127246, 0.9954678076941164, 0.9803011755571244, 0.01973197227031471, 0.999454455932119, 0.000447583724107532, 0.9991064400289608, 0.9980269233839819, 0.9918524340638367, 0.9988994911414789, 0.9952317433695562, 0.08047612414341461, 0.9193877503616665, 0.9996468972596859, 0.9992393929628935, 0.9930475314522899, 0.5947946498445351, 0.4050663382507052, 0.862871310074677, 0.1370105953510401, 0.9997378901417499, 0.9987914988884411, 0.9982975547719167], \"Term\": [\"125\", \"2\", \"26\", \"34\", \"34b\", \"4\", \"55\", \"59\", \"6\", \"adorable\", \"also\", \"arm\", \"around\", \"around\", \"athletic\", \"back\", \"bad\", \"barely\", \"beautiful\", \"better\", \"big\", \"bit\", \"bit\", \"bit\", \"black\", \"bodice\", \"booty\", \"bottom\", \"bought\", \"bright\", \"build\", \"bust\", \"butt\", \"buying\", \"cheap\", \"chest\", \"chic\", \"classic\", \"closet\", \"coat\", \"cold\", \"color\", \"comfortable\", \"comfy\", \"consider\", \"cut\", \"cute\", \"cute\", \"design\", \"didnt\", \"dress\", \"dry\", \"elastic\", \"elegant\", \"enough\", \"ever\", \"everywhere\", \"fabric\", \"fall\", \"fantastic\", \"feel\", \"feeling\", \"fit\", \"fit\", \"fit\", \"flat\", \"flattering\", \"found\", \"front\", \"gave\", \"generally\", \"go\", \"gold\", \"good\", \"good\", \"gorgeous\", \"gorgeous\", \"got\", \"got\", \"great\", \"high\", \"hip\", \"hit\", \"hit\", \"however\", \"however\", \"huge\", \"im\", \"jean\", \"large\", \"lb\", \"le\", \"leather\", \"length\", \"length\", \"let\", \"life\", \"like\", \"lining\", \"little\", \"little\", \"local\", \"long\", \"look\", \"look\", \"looked\", \"love\", \"loved\", \"made\", \"made\", \"material\", \"material\", \"maxi\", \"medium\", \"model\", \"month\", \"much\", \"nice\", \"nice\", \"night\", \"normally\", \"noted\", \"occasion\", \"old\", \"one\", \"one\", \"one\", \"online\", \"order\", \"ordered\", \"ordering\", \"p\", \"pair\", \"pant\", \"party\", \"pas\", \"perfect\", \"perfectly\", \"perfectly\", \"person\", \"petite\", \"pic\", \"picture\", \"piece\", \"pretty\", \"print\", \"purchased\", \"quality\", \"quality\", \"quickly\", \"rayon\", \"reading\", \"real\", \"really\", \"regular\", \"retailer\", \"retailer\", \"review\", \"reviewer\", \"run\", \"sandal\", \"say\", \"scratchy\", \"see\", \"seems\", \"sent\", \"short\", \"shoulder\", \"shown\", \"side\", \"silhouette\", \"silk\", \"silky\", \"simply\", \"size\", \"skirt\", \"sleeve\", \"sleeve\", \"slit\", \"small\", \"snag\", \"soft\", \"sort\", \"stand\", \"store\", \"store\", \"strap\", \"stripe\", \"style\", \"subtle\", \"summer\", \"super\", \"sweater\", \"texture\", \"think\", \"think\", \"though\", \"thread\", \"tight\", \"time\", \"top\", \"tried\", \"tried\", \"true\", \"truly\", \"try\", \"tshirt\", \"typical\", \"usual\", \"usual\", \"usually\", \"vest\", \"waist\", \"waistband\", \"waisted\", \"wait\", \"wanted\", \"wash\", \"washing\", \"way\", \"way\", \"wear\", \"wear\", \"wearing\", \"weather\", \"website\", \"wedding\", \"weekend\", \"well\", \"well\", \"went\", \"white\", \"wool\", \"work\", \"work\", \"would\", \"would\", \"x\", \"yes\", \"youre\"]}, \"R\": 30, \"lambda.step\": 0.01, \"plot.opts\": {\"xlab\": \"PC1\", \"ylab\": \"PC2\"}, \"topic.order\": [1, 2, 3, 4, 5, 6]};\n",
       "\n",
       "function LDAvis_load_lib(url, callback){\n",
       "  var s = document.createElement('script');\n",
       "  s.src = url;\n",
       "  s.async = true;\n",
       "  s.onreadystatechange = s.onload = callback;\n",
       "  s.onerror = function(){console.warn(\"failed to load library \" + url);};\n",
       "  document.getElementsByTagName(\"head\")[0].appendChild(s);\n",
       "}\n",
       "\n",
       "if(typeof(LDAvis) !== \"undefined\"){\n",
       "   // already loaded: just create the visualization\n",
       "   !function(LDAvis){\n",
       "       new LDAvis(\"#\" + \"ldavis_el64033108232565446425695865\", ldavis_el64033108232565446425695865_data);\n",
       "   }(LDAvis);\n",
       "}else if(typeof define === \"function\" && define.amd){\n",
       "   // require.js is available: use it to load d3/LDAvis\n",
       "   require.config({paths: {d3: \"https://d3js.org/d3.v5\"}});\n",
       "   require([\"d3\"], function(d3){\n",
       "      window.d3 = d3;\n",
       "      LDAvis_load_lib(\"https://cdn.jsdelivr.net/gh/bmabey/pyLDAvis@3.3.1/pyLDAvis/js/ldavis.v3.0.0.js\", function(){\n",
       "        new LDAvis(\"#\" + \"ldavis_el64033108232565446425695865\", ldavis_el64033108232565446425695865_data);\n",
       "      });\n",
       "    });\n",
       "}else{\n",
       "    // require.js not available: dynamically load d3 & LDAvis\n",
       "    LDAvis_load_lib(\"https://d3js.org/d3.v5.js\", function(){\n",
       "         LDAvis_load_lib(\"https://cdn.jsdelivr.net/gh/bmabey/pyLDAvis@3.3.1/pyLDAvis/js/ldavis.v3.0.0.js\", function(){\n",
       "                 new LDAvis(\"#\" + \"ldavis_el64033108232565446425695865\", ldavis_el64033108232565446425695865_data);\n",
       "            })\n",
       "         });\n",
       "}\n",
       "</script>"
      ],
      "text/plain": [
       "<IPython.core.display.HTML object>"
      ]
     },
     "execution_count": 46,
     "metadata": {},
     "output_type": "execute_result"
    }
   ],
   "source": [
    "import pyLDAvis\n",
    "import pyLDAvis.gensim_models as gensimvis\n",
    "\n",
    "pyLDAvis.enable_notebook()\n",
    "\n",
    "# feed the LDA model into the pyLDAvis instance\n",
    "lda_viz = gensimvis.prepare(lda_model, bow_corpus, dictionary, sort_topics=False)\n",
    "\n",
    "pyLDAvis.display(lda_viz)"
   ]
  }
 ],
 "metadata": {
  "kernelspec": {
   "display_name": "Python 3",
   "language": "python",
   "name": "python3"
  },
  "language_info": {
   "codemirror_mode": {
    "name": "ipython",
    "version": 3
   },
   "file_extension": ".py",
   "mimetype": "text/x-python",
   "name": "python",
   "nbconvert_exporter": "python",
   "pygments_lexer": "ipython3",
   "version": "3.9.2"
  }
 },
 "nbformat": 4,
 "nbformat_minor": 5
}
