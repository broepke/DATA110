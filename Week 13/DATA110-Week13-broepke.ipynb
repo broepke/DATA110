{
 "cells": [
  {
   "cell_type": "markdown",
   "id": "floral-geography",
   "metadata": {},
   "source": [
    "# Week 13 Assignment: Topic Modeling\n",
    "\n",
    "**DATA110**  \n",
    "*Brian Roepke*  \n",
    "\n",
    "Using the same women's clothing dataset from Midterm #2, perform Topic Modeling using LDA using either packages: Gensim  or sklearn on the reviews text.  \n",
    "\n",
    "\n",
    "Given that there are 6 departments, you can use  6 topics.  Bonus if you apply coherence computations against multiple models for model selection, in order to determine the optimal number of topics.\n",
    "\n",
    "\n",
    "\n",
    "References:\n",
    "\n",
    "https://scikit-learn.org/stable/modules/generated/sklearn.decomposition.LatentDirichletAllocation.html\n",
    "https://radimrehurek.com/gensim/auto_examples/core/run_core_concepts.html#sphx-glr-auto-examples-core-run-core-concepts-py"
   ]
  },
  {
   "cell_type": "code",
   "execution_count": 1,
   "id": "twelve-campbell",
   "metadata": {},
   "outputs": [],
   "source": [
    "import numpy as np\n",
    "import pandas as pd\n",
    "import re\n",
    "import itertools\n",
    "import string\n",
    "import warnings\n",
    "warnings.filterwarnings('ignore')\n",
    "\n",
    "from textblob import TextBlob\n",
    "from textblob import Word\n",
    "\n",
    "import gensim\n",
    "from gensim import corpora, models\n",
    "from gensim.models import CoherenceModel\n",
    "\n",
    "import sklearn as sk\n",
    "from sklearn.model_selection import train_test_split\n",
    "from sklearn.feature_extraction.text import TfidfVectorizer\n",
    "from sklearn.naive_bayes import MultinomialNB, ComplementNB\n",
    "from sklearn import metrics \n",
    "from sklearn.model_selection import GridSearchCV, cross_val_score, RepeatedStratifiedKFold\n",
    "from sklearn.svm import SVC\n",
    "from sklearn.linear_model import LogisticRegression, SGDClassifier\n",
    "from sklearn.ensemble import RandomForestClassifier\n",
    "from sklearn.preprocessing import MinMaxScaler, MultiLabelBinarizer\n",
    "from sklearn.compose import ColumnTransformer\n",
    "from sklearn.multiclass import OneVsRestClassifier\n",
    "from scipy.cluster.hierarchy import dendrogram\n",
    "from sklearn.cluster import AgglomerativeClustering\n",
    "\n",
    "from sklearn.cluster import KMeans\n",
    "from sklearn.metrics import adjusted_rand_score\n",
    "from sklearn.cluster import KMeans\n",
    "from sklearn.metrics import silhouette_score\n",
    "\n",
    "# NLTK Imports and Downloads\n",
    "import nltk\n",
    "from nltk import word_tokenize\n",
    "from nltk.sentiment.util import *\n",
    "from nltk.stem import PorterStemmer\n",
    "from nltk.stem.wordnet import WordNetLemmatizer\n",
    "from nltk import FreqDist\n",
    "\n",
    "from imblearn.over_sampling import SMOTE\n",
    "from imblearn.under_sampling import RandomUnderSampler\n",
    "from imblearn.pipeline import Pipeline\n",
    "\n",
    "import seaborn as sns\n",
    "import matplotlib.pyplot as plt\n",
    "%matplotlib inline"
   ]
  },
  {
   "cell_type": "code",
   "execution_count": 2,
   "id": "inner-toddler",
   "metadata": {},
   "outputs": [
    {
     "data": {
      "text/html": [
       "<div>\n",
       "<style scoped>\n",
       "    .dataframe tbody tr th:only-of-type {\n",
       "        vertical-align: middle;\n",
       "    }\n",
       "\n",
       "    .dataframe tbody tr th {\n",
       "        vertical-align: top;\n",
       "    }\n",
       "\n",
       "    .dataframe thead th {\n",
       "        text-align: right;\n",
       "    }\n",
       "</style>\n",
       "<table border=\"1\" class=\"dataframe\">\n",
       "  <thead>\n",
       "    <tr style=\"text-align: right;\">\n",
       "      <th></th>\n",
       "      <th>Age</th>\n",
       "      <th>Title</th>\n",
       "      <th>Review Text</th>\n",
       "      <th>Rating</th>\n",
       "      <th>Recommended IND</th>\n",
       "      <th>Positive Feedback Count</th>\n",
       "      <th>Department Name</th>\n",
       "      <th>Class Name</th>\n",
       "    </tr>\n",
       "  </thead>\n",
       "  <tbody>\n",
       "    <tr>\n",
       "      <th>0</th>\n",
       "      <td>33</td>\n",
       "      <td>NaN</td>\n",
       "      <td>Absolutely wonderful - silky and sexy and comf...</td>\n",
       "      <td>4</td>\n",
       "      <td>1</td>\n",
       "      <td>0</td>\n",
       "      <td>Intimate</td>\n",
       "      <td>Intimates</td>\n",
       "    </tr>\n",
       "    <tr>\n",
       "      <th>1</th>\n",
       "      <td>34</td>\n",
       "      <td>NaN</td>\n",
       "      <td>Love this dress!  it's sooo pretty.  i happene...</td>\n",
       "      <td>5</td>\n",
       "      <td>1</td>\n",
       "      <td>4</td>\n",
       "      <td>Dresses</td>\n",
       "      <td>Dresses</td>\n",
       "    </tr>\n",
       "    <tr>\n",
       "      <th>2</th>\n",
       "      <td>60</td>\n",
       "      <td>Some major design flaws</td>\n",
       "      <td>I had such high hopes for this dress and reall...</td>\n",
       "      <td>3</td>\n",
       "      <td>0</td>\n",
       "      <td>0</td>\n",
       "      <td>Dresses</td>\n",
       "      <td>Dresses</td>\n",
       "    </tr>\n",
       "    <tr>\n",
       "      <th>3</th>\n",
       "      <td>50</td>\n",
       "      <td>My favorite buy!</td>\n",
       "      <td>I love, love, love this jumpsuit. it's fun, fl...</td>\n",
       "      <td>5</td>\n",
       "      <td>1</td>\n",
       "      <td>0</td>\n",
       "      <td>Bottoms</td>\n",
       "      <td>Pants</td>\n",
       "    </tr>\n",
       "    <tr>\n",
       "      <th>4</th>\n",
       "      <td>47</td>\n",
       "      <td>Flattering shirt</td>\n",
       "      <td>This shirt is very flattering to all due to th...</td>\n",
       "      <td>5</td>\n",
       "      <td>1</td>\n",
       "      <td>6</td>\n",
       "      <td>Tops</td>\n",
       "      <td>Blouses</td>\n",
       "    </tr>\n",
       "  </tbody>\n",
       "</table>\n",
       "</div>"
      ],
      "text/plain": [
       "   Age                    Title  \\\n",
       "0   33                      NaN   \n",
       "1   34                      NaN   \n",
       "2   60  Some major design flaws   \n",
       "3   50         My favorite buy!   \n",
       "4   47         Flattering shirt   \n",
       "\n",
       "                                         Review Text  Rating  Recommended IND  \\\n",
       "0  Absolutely wonderful - silky and sexy and comf...       4                1   \n",
       "1  Love this dress!  it's sooo pretty.  i happene...       5                1   \n",
       "2  I had such high hopes for this dress and reall...       3                0   \n",
       "3  I love, love, love this jumpsuit. it's fun, fl...       5                1   \n",
       "4  This shirt is very flattering to all due to th...       5                1   \n",
       "\n",
       "   Positive Feedback Count Department Name Class Name  \n",
       "0                        0        Intimate  Intimates  \n",
       "1                        4         Dresses    Dresses  \n",
       "2                        0         Dresses    Dresses  \n",
       "3                        0         Bottoms      Pants  \n",
       "4                        6            Tops    Blouses  "
      ]
     },
     "execution_count": 2,
     "metadata": {},
     "output_type": "execute_result"
    }
   ],
   "source": [
    "df = pd.read_csv(\"ClothingReviews.csv\")\n",
    "df.head()"
   ]
  },
  {
   "cell_type": "code",
   "execution_count": 3,
   "id": "agricultural-potato",
   "metadata": {},
   "outputs": [],
   "source": [
    "df.dropna(subset=['Department Name', 'Class Name', 'Review Text'], inplace=True)"
   ]
  },
  {
   "cell_type": "code",
   "execution_count": 4,
   "id": "decreased-fight",
   "metadata": {},
   "outputs": [],
   "source": [
    "# fill the NA values with 0\n",
    "df['Title'].fillna('', inplace=True)"
   ]
  },
  {
   "cell_type": "code",
   "execution_count": 5,
   "id": "collective-agency",
   "metadata": {},
   "outputs": [
    {
     "data": {
      "text/plain": [
       "Age                        0\n",
       "Title                      0\n",
       "Review Text                0\n",
       "Rating                     0\n",
       "Recommended IND            0\n",
       "Positive Feedback Count    0\n",
       "Department Name            0\n",
       "Class Name                 0\n",
       "dtype: int64"
      ]
     },
     "execution_count": 5,
     "metadata": {},
     "output_type": "execute_result"
    }
   ],
   "source": [
    "# count of nulls\n",
    "df.isnull().sum()"
   ]
  },
  {
   "cell_type": "code",
   "execution_count": 6,
   "id": "composed-dallas",
   "metadata": {},
   "outputs": [],
   "source": [
    "df['Text'] = df['Title'] + ' ' + df['Review Text']"
   ]
  },
  {
   "cell_type": "code",
   "execution_count": 7,
   "id": "scenic-melbourne",
   "metadata": {},
   "outputs": [],
   "source": [
    "df.drop(columns=['Title', 'Review Text'], inplace=True)"
   ]
  },
  {
   "cell_type": "code",
   "execution_count": 8,
   "id": "assigned-collapse",
   "metadata": {},
   "outputs": [],
   "source": [
    "# Add column 'text_len' that counts the length for the derived field\n",
    "df['text_len'] = df.apply(lambda row: len(row['Text']), axis = 1)"
   ]
  },
  {
   "cell_type": "code",
   "execution_count": 9,
   "id": "younger-spank",
   "metadata": {},
   "outputs": [
    {
     "name": "stdout",
     "output_type": "stream",
     "text": [
      "Before = 22628\n",
      "After = 22626\n",
      "\n",
      "Total Removed = 2\n"
     ]
    }
   ],
   "source": [
    "len_before = df.shape[0]\n",
    "df.drop_duplicates(inplace=True)\n",
    "len_after = df.shape[0]\n",
    "\n",
    "print(\"Before =\", len_before)\n",
    "# drop duplicates\n",
    "print(\"After =\", len_after)\n",
    "print('')\n",
    "print(\"Total Removed =\", len_before - len_after)"
   ]
  },
  {
   "cell_type": "code",
   "execution_count": 10,
   "id": "federal-participant",
   "metadata": {},
   "outputs": [
    {
     "data": {
      "text/plain": [
       "count    22626.000000\n",
       "mean        63.121321\n",
       "std         29.086751\n",
       "min          2.000000\n",
       "25%         39.000000\n",
       "50%         62.000000\n",
       "75%         92.000000\n",
       "max        121.000000\n",
       "Name: Text, dtype: float64"
      ]
     },
     "execution_count": 10,
     "metadata": {},
     "output_type": "execute_result"
    }
   ],
   "source": [
    "wordlen = df['Text'].str.split().map(lambda x: len(x))\n",
    "wordlen.describe()"
   ]
  },
  {
   "cell_type": "code",
   "execution_count": 11,
   "id": "transparent-request",
   "metadata": {},
   "outputs": [
    {
     "data": {
      "text/plain": [
       "'Some major design flaws I had such high hopes for this dress and really wanted it to work for me. i initially ordered the petite small (my usual size) but i found this to be outrageously small. so small in fact that i could not zip it up! i reordered it in petite medium, which was just ok. overall, the top half was comfortable and fit nicely, but the bottom half had a very tight under layer and several somewhat cheap (net) over layers. imo, a major design flaw was the net over layer sewn directly into the zipper - it c'"
      ]
     },
     "execution_count": 11,
     "metadata": {},
     "output_type": "execute_result"
    }
   ],
   "source": [
    "df['Text'][2]"
   ]
  },
  {
   "cell_type": "code",
   "execution_count": 12,
   "id": "unlimited-regression",
   "metadata": {},
   "outputs": [],
   "source": [
    "def process_string(text, stem=\"None\"):\n",
    "    \n",
    "    final_string = \"\"\n",
    "    \n",
    "    text = text.lower()\n",
    "    \n",
    "    translator = str.maketrans('', '', string.punctuation)\n",
    "    text = text.translate(translator)\n",
    "\n",
    "    text = text.split()\n",
    "    useless_words = nltk.corpus.stopwords.words(\"english\") + list(string.punctuation)\n",
    "    useless_words = useless_words + ['.', ',', '!', \"'\"]\n",
    "    text_filtered = [word for word in text if not word in useless_words]\n",
    "    \n",
    "    if stem == 'Stem':\n",
    "        stemmer = PorterStemmer() \n",
    "        text_stemmed = [stemmer.stem(y) for y in text_filtered]\n",
    "    elif stem == 'Lem':\n",
    "        lem = WordNetLemmatizer()\n",
    "        text_stemmed = [lem.lemmatize(y) for y in text_filtered]\n",
    "    else:\n",
    "        text_stemmed = text_filtered\n",
    "    \n",
    "    for word in text_stemmed:\n",
    "        final_string += word + \" \"\n",
    "    \n",
    "    return final_string"
   ]
  },
  {
   "cell_type": "code",
   "execution_count": 13,
   "id": "guided-brown",
   "metadata": {},
   "outputs": [],
   "source": [
    "df['Text_Processed'] = df['Text'].apply(lambda x: process_string(x, stem='Lem'))"
   ]
  },
  {
   "cell_type": "code",
   "execution_count": 14,
   "id": "satellite-cosmetic",
   "metadata": {},
   "outputs": [
    {
     "data": {
      "text/plain": [
       "'major design flaw high hope dress really wanted work initially ordered petite small usual size found outrageously small small fact could zip reordered petite medium ok overall top half comfortable fit nicely bottom half tight layer several somewhat cheap net layer imo major design flaw net layer sewn directly zipper c '"
      ]
     },
     "execution_count": 14,
     "metadata": {},
     "output_type": "execute_result"
    }
   ],
   "source": [
    "df['Text_Processed'][2]"
   ]
  },
  {
   "cell_type": "markdown",
   "id": "metallic-asbestos",
   "metadata": {},
   "source": [
    "# Topic Modeling"
   ]
  },
  {
   "cell_type": "code",
   "execution_count": 15,
   "id": "underlying-counter",
   "metadata": {},
   "outputs": [
    {
     "data": {
      "text/plain": [
       "['absolutely wonderful silky sexy comfortable ',\n",
       " 'love dress sooo pretty happened find store im glad bc never would ordered online bc petite bought petite 58 love length hit little knee would definitely true midi someone truly petite ',\n",
       " 'major design flaw high hope dress really wanted work initially ordered petite small usual size found outrageously small small fact could zip reordered petite medium ok overall top half comfortable fit nicely bottom half tight layer several somewhat cheap net layer imo major design flaw net layer sewn directly zipper c ',\n",
       " 'favorite buy love love love jumpsuit fun flirty fabulous every time wear get nothing great compliment ',\n",
       " 'flattering shirt shirt flattering due adjustable front tie perfect length wear legging sleeveless pair well cardigan love shirt ']"
      ]
     },
     "execution_count": 15,
     "metadata": {},
     "output_type": "execute_result"
    }
   ],
   "source": [
    "clean_docs = df['Text_Processed'].to_list()\n",
    "\n",
    "# first 5 docs\n",
    "clean_docs[:5]"
   ]
  },
  {
   "cell_type": "code",
   "execution_count": 16,
   "id": "inappropriate-armor",
   "metadata": {},
   "outputs": [
    {
     "data": {
      "image/png": "[encoded data removed]",
      "text/plain": [
       "<Figure size 1080x360 with 1 Axes>"
      ]
     },
     "metadata": {
      "needs_background": "light"
     },
     "output_type": "display_data"
    }
   ],
   "source": [
    "texts = \"\".join(clean_docs)\n",
    "word_tokens = word_tokenize(texts)\n",
    "#fdist.most_common(50)\n",
    "\n",
    "plt.figure(figsize=(15, 5)) \n",
    "fdist = FreqDist(word_tokens)\n",
    "fdist.plot(50);"
   ]
  },
  {
   "cell_type": "markdown",
   "id": "german-belarus",
   "metadata": {},
   "source": [
    "# Determine the Optimal Number of Clusters"
   ]
  },
  {
   "cell_type": "markdown",
   "id": "bronze-incident",
   "metadata": {},
   "source": [
    "## Elbow Method\n",
    "\n",
    "To select the best number of clusters, we'll use the Elbow method.  Per [Wikipedia](https://en.wikipedia.org/wiki/Elbow_method_(clustering))\n",
    "\n",
    "> *In cluster analysis, the elbow method is a heuristic used in determining the number of clusters in a data set. The method consists of plotting the explained variation as a function of the number of clusters, and picking the elbow of the curve as the number of clusters to use. The same method can be used to choose the number of parameters in other data-driven models, such as the number of principal components to describe a data set.*\n",
    "\n",
    "[Tutorial: How to determine the optimal number of clusters for k-means clustering](https://blog.cambridgespark.com/how-to-determine-the-optimal-number-of-clusters-for-k-means-clustering-14f27070048f)"
   ]
  },
  {
   "cell_type": "code",
   "execution_count": 17,
   "id": "noticed-photographer",
   "metadata": {},
   "outputs": [
    {
     "data": {
      "text/plain": [
       "(22626, 18546)"
      ]
     },
     "execution_count": 17,
     "metadata": {},
     "output_type": "execute_result"
    }
   ],
   "source": [
    "#vectorization of features\n",
    "vectorizer = TfidfVectorizer()\n",
    "X = vectorizer.fit_transform(clean_docs)\n",
    "\n",
    "X.shape"
   ]
  },
  {
   "cell_type": "code",
   "execution_count": 18,
   "id": "efficient-submission",
   "metadata": {},
   "outputs": [],
   "source": [
    "Sum_of_squared_distances = []\n",
    "K = range(1,10)\n",
    "for k in K:\n",
    "    km = KMeans(n_clusters=k)\n",
    "    km = km.fit(X)\n",
    "    Sum_of_squared_distances.append(km.inertia_)"
   ]
  },
  {
   "cell_type": "code",
   "execution_count": 19,
   "id": "antique-lighter",
   "metadata": {},
   "outputs": [
    {
     "data": {
      "image/png": "[encoded data removed]",
      "text/plain": [
       "<Figure size 432x288 with 1 Axes>"
      ]
     },
     "metadata": {
      "needs_background": "light"
     },
     "output_type": "display_data"
    }
   ],
   "source": [
    "ax = sns.lineplot(x=K, y=Sum_of_squared_distances)\n",
    "ax.lines[0].set_linestyle(\"--\")\n",
    "plt.xlabel('k')\n",
    "plt.ylabel('Sum of Squared Distances')\n",
    "plt.title('Elbow Method For Optimal k')\n",
    "plt.show()"
   ]
  },
  {
   "cell_type": "markdown",
   "id": "contained-lighter",
   "metadata": {},
   "source": [
    "**Conclusion:** Based on this method, the appropriate number of clusters is not totally clear. "
   ]
  },
  {
   "cell_type": "code",
   "execution_count": 20,
   "id": "ordered-seattle",
   "metadata": {},
   "outputs": [
    {
     "name": "stdout",
     "output_type": "stream",
     "text": [
      "For n_clusters = 2 The average silhouette_score is: 0.005158957947959958\n",
      "For n_clusters = 3 The average silhouette_score is: 0.0054280750132190215\n",
      "For n_clusters = 4 The average silhouette_score is: 0.006537274584641789\n",
      "For n_clusters = 5 The average silhouette_score is: 0.007561045537325558\n",
      "For n_clusters = 6 The average silhouette_score is: 0.007061001255105283\n",
      "For n_clusters = 7 The average silhouette_score is: 0.008841133863256995\n",
      "For n_clusters = 8 The average silhouette_score is: 0.008062911309296796\n",
      "For n_clusters = 9 The average silhouette_score is: 0.008760478475238226\n"
     ]
    }
   ],
   "source": [
    "def get_silhouette_score(X, k):\n",
    "    for n_clusters in range(2, k):\n",
    "        clusterer = KMeans(n_clusters=n_clusters, random_state=42)\n",
    "        y = clusterer.fit_predict(X)\n",
    "\n",
    "        message = \"For n_clusters = {} The average silhouette_score is: {}\"\n",
    "        print(message.format(n_clusters, silhouette_score(X, y)))\n",
    "        \n",
    "get_silhouette_score(X, 10)     "
   ]
  },
  {
   "cell_type": "markdown",
   "id": "hungarian-desktop",
   "metadata": {},
   "source": [
    "**Conclusion:** "
   ]
  },
  {
   "cell_type": "markdown",
   "id": "eleven-disclaimer",
   "metadata": {},
   "source": [
    "## Dendrogram\n",
    "\n",
    "> *A dendrogram is a diagram representing a tree. In hierarchical clustering, it illustrates the arrangement of the clusters produced by the corresponding analyses*\n",
    "\n",
    "https://en.wikipedia.org/wiki/Dendrogram"
   ]
  },
  {
   "cell_type": "code",
   "execution_count": 21,
   "id": "conditional-situation",
   "metadata": {},
   "outputs": [
    {
     "data": {
      "image/png": "[encoded data removed]",
      "text/plain": [
       "<Figure size 720x720 with 1 Axes>"
      ]
     },
     "metadata": {
      "needs_background": "light"
     },
     "output_type": "display_data"
    }
   ],
   "source": [
    "def plot_dendrogram(model, **kwargs):\n",
    "    # Create linkage matrix and then plot the dendrogram\n",
    "    # create the counts of samples under each node\n",
    "    counts = np.zeros(model.children_.shape[0]) \n",
    "    n_samples = len(model.labels_)\n",
    "    for i, merge in enumerate(model.children_):\n",
    "        current_count = 0\n",
    "        for child_idx in merge:\n",
    "            if child_idx < n_samples: \n",
    "                current_count += 1 # leaf node\n",
    "        else:\n",
    "            current_count += counts[child_idx - n_samples]\n",
    "    counts[i] = current_count\n",
    "    \n",
    "    linkage_matrix = np.column_stack([model.children_, model.distances_,counts]).astype(float) \n",
    "    \n",
    "    # Plot the corresponding dendrogram\n",
    "    dendrogram(linkage_matrix, **kwargs)\n",
    "    \n",
    "\n",
    "\n",
    "# setting distance_threshold=0 ensures we compute the full tree.\n",
    "model = AgglomerativeClustering(distance_threshold=0, n_clusters=None) \n",
    "model = model.fit(X.toarray())\n",
    "plt.figure(figsize=(10, 10)) \n",
    "plt.title('Hierarchical Clustering Dendrogram')\n",
    "# plot the top levels of the dendrogram\n",
    "plot_dendrogram(model, truncate_mode='level', p=3, show_leaf_counts=True)\n",
    "plt.show();"
   ]
  },
  {
   "cell_type": "markdown",
   "id": "widespread-gamma",
   "metadata": {},
   "source": [
    "# Clustering Model"
   ]
  },
  {
   "cell_type": "code",
   "execution_count": 22,
   "id": "naughty-radio",
   "metadata": {},
   "outputs": [
    {
     "name": "stdout",
     "output_type": "stream",
     "text": [
      "Top terms per cluster:\n",
      "Cluster 0:\n",
      " like\n",
      " fit\n",
      " look\n",
      " color\n",
      " fabric\n",
      " skirt\n",
      " love\n",
      " size\n",
      " im\n",
      " would\n",
      "Cluster 1:\n",
      " dress\n",
      " love\n",
      " fit\n",
      " beautiful\n",
      " great\n",
      " size\n",
      " perfect\n",
      " wear\n",
      " flattering\n",
      " comfortable\n",
      "Cluster 2:\n",
      " small\n",
      " size\n",
      " run\n",
      " large\n",
      " medium\n",
      " big\n",
      " ordered\n",
      " fit\n",
      " im\n",
      " wear\n",
      "Cluster 3:\n",
      " top\n",
      " love\n",
      " great\n",
      " cute\n",
      " fit\n",
      " color\n",
      " look\n",
      " size\n",
      " wear\n",
      " like\n",
      "Cluster 4:\n",
      " shirt\n",
      " love\n",
      " great\n",
      " cute\n",
      " fit\n",
      " look\n",
      " color\n",
      " soft\n",
      " wear\n",
      " like\n",
      "Cluster 5:\n",
      " love\n",
      " great\n",
      " sweater\n",
      " jean\n",
      " pant\n",
      " fit\n",
      " perfect\n",
      " soft\n",
      " color\n",
      " comfortable\n"
     ]
    }
   ],
   "source": [
    "true_k = 6\n",
    "kmeans = KMeans(n_clusters=true_k, init='k-means++', max_iter=100, n_init=1, random_state=42)\n",
    "kmeans.fit(X)\n",
    "\n",
    "\n",
    "print(\"Top terms per cluster:\")\n",
    "order_centroids = kmeans.cluster_centers_.argsort()[:, ::-1]\n",
    "terms = vectorizer.get_feature_names()\n",
    "\n",
    "for i in range(true_k):\n",
    "    print(\"Cluster %d:\" % i),\n",
    "    for ind in order_centroids[i, :10]:  \n",
    "        print(' %s' % terms[ind]),"
   ]
  },
  {
   "cell_type": "code",
   "execution_count": 23,
   "id": "broken-monitor",
   "metadata": {},
   "outputs": [
    {
     "data": {
      "text/html": [
       "<div>\n",
       "<style scoped>\n",
       "    .dataframe tbody tr th:only-of-type {\n",
       "        vertical-align: middle;\n",
       "    }\n",
       "\n",
       "    .dataframe tbody tr th {\n",
       "        vertical-align: top;\n",
       "    }\n",
       "\n",
       "    .dataframe thead th {\n",
       "        text-align: right;\n",
       "    }\n",
       "</style>\n",
       "<table border=\"1\" class=\"dataframe\">\n",
       "  <thead>\n",
       "    <tr style=\"text-align: right;\">\n",
       "      <th></th>\n",
       "      <th>Age</th>\n",
       "      <th>Rating</th>\n",
       "      <th>Recommended IND</th>\n",
       "      <th>Positive Feedback Count</th>\n",
       "      <th>Department Name</th>\n",
       "      <th>Class Name</th>\n",
       "      <th>Text</th>\n",
       "      <th>text_len</th>\n",
       "      <th>Text_Processed</th>\n",
       "      <th>clusters</th>\n",
       "    </tr>\n",
       "  </thead>\n",
       "  <tbody>\n",
       "    <tr>\n",
       "      <th>6673</th>\n",
       "      <td>53</td>\n",
       "      <td>5</td>\n",
       "      <td>1</td>\n",
       "      <td>1</td>\n",
       "      <td>Jackets</td>\n",
       "      <td>Jackets</td>\n",
       "      <td>Just purchased tonight and love i this little...</td>\n",
       "      <td>204</td>\n",
       "      <td>purchased tonight love little jacket embroider...</td>\n",
       "      <td>0</td>\n",
       "    </tr>\n",
       "    <tr>\n",
       "      <th>8079</th>\n",
       "      <td>48</td>\n",
       "      <td>5</td>\n",
       "      <td>1</td>\n",
       "      <td>3</td>\n",
       "      <td>Bottoms</td>\n",
       "      <td>Skirts</td>\n",
       "      <td>Seriously beautiful This skirt is stunning. li...</td>\n",
       "      <td>519</td>\n",
       "      <td>seriously beautiful skirt stunning like review...</td>\n",
       "      <td>0</td>\n",
       "    </tr>\n",
       "    <tr>\n",
       "      <th>2156</th>\n",
       "      <td>62</td>\n",
       "      <td>5</td>\n",
       "      <td>1</td>\n",
       "      <td>1</td>\n",
       "      <td>Tops</td>\n",
       "      <td>Knits</td>\n",
       "      <td>Need them all! Ordered this on a whim while ta...</td>\n",
       "      <td>418</td>\n",
       "      <td>need ordered whim taking advantage promotion n...</td>\n",
       "      <td>5</td>\n",
       "    </tr>\n",
       "    <tr>\n",
       "      <th>5337</th>\n",
       "      <td>37</td>\n",
       "      <td>5</td>\n",
       "      <td>1</td>\n",
       "      <td>2</td>\n",
       "      <td>Dresses</td>\n",
       "      <td>Dresses</td>\n",
       "      <td>Pretty! I am five foot tall, about 103lb and g...</td>\n",
       "      <td>152</td>\n",
       "      <td>pretty five foot tall 103lb got petite zero fi...</td>\n",
       "      <td>0</td>\n",
       "    </tr>\n",
       "    <tr>\n",
       "      <th>13662</th>\n",
       "      <td>42</td>\n",
       "      <td>5</td>\n",
       "      <td>1</td>\n",
       "      <td>1</td>\n",
       "      <td>Bottoms</td>\n",
       "      <td>Skirts</td>\n",
       "      <td>Love love this skirt! quality is great and so...</td>\n",
       "      <td>146</td>\n",
       "      <td>love love skirt quality great comfortable even...</td>\n",
       "      <td>5</td>\n",
       "    </tr>\n",
       "    <tr>\n",
       "      <th>6889</th>\n",
       "      <td>36</td>\n",
       "      <td>5</td>\n",
       "      <td>1</td>\n",
       "      <td>0</td>\n",
       "      <td>Intimate</td>\n",
       "      <td>Lounge</td>\n",
       "      <td>Love this cardigan! i've been searching for a...</td>\n",
       "      <td>252</td>\n",
       "      <td>love cardigan ive searching comfortable lounge...</td>\n",
       "      <td>5</td>\n",
       "    </tr>\n",
       "    <tr>\n",
       "      <th>20210</th>\n",
       "      <td>51</td>\n",
       "      <td>4</td>\n",
       "      <td>1</td>\n",
       "      <td>0</td>\n",
       "      <td>Tops</td>\n",
       "      <td>Knits</td>\n",
       "      <td>Love it I bought the deep maroon which is beau...</td>\n",
       "      <td>386</td>\n",
       "      <td>love bought deep maroon beautiful absolutely l...</td>\n",
       "      <td>1</td>\n",
       "    </tr>\n",
       "    <tr>\n",
       "      <th>22005</th>\n",
       "      <td>55</td>\n",
       "      <td>3</td>\n",
       "      <td>1</td>\n",
       "      <td>0</td>\n",
       "      <td>Tops</td>\n",
       "      <td>Knits</td>\n",
       "      <td>Nice material but weird fit I ordered it in tw...</td>\n",
       "      <td>148</td>\n",
       "      <td>nice material weird fit ordered two color exce...</td>\n",
       "      <td>0</td>\n",
       "    </tr>\n",
       "    <tr>\n",
       "      <th>7363</th>\n",
       "      <td>69</td>\n",
       "      <td>5</td>\n",
       "      <td>1</td>\n",
       "      <td>5</td>\n",
       "      <td>Tops</td>\n",
       "      <td>Knits</td>\n",
       "      <td>So cute and great fit I am so pleased with thi...</td>\n",
       "      <td>291</td>\n",
       "      <td>cute great fit pleased top slightly fitted 53 ...</td>\n",
       "      <td>3</td>\n",
       "    </tr>\n",
       "    <tr>\n",
       "      <th>21791</th>\n",
       "      <td>44</td>\n",
       "      <td>3</td>\n",
       "      <td>0</td>\n",
       "      <td>0</td>\n",
       "      <td>Tops</td>\n",
       "      <td>Knits</td>\n",
       "      <td>It's ok The fabric is great quality but it str...</td>\n",
       "      <td>148</td>\n",
       "      <td>ok fabric great quality stretch much around wa...</td>\n",
       "      <td>0</td>\n",
       "    </tr>\n",
       "  </tbody>\n",
       "</table>\n",
       "</div>"
      ],
      "text/plain": [
       "       Age  Rating  Recommended IND  Positive Feedback Count Department Name  \\\n",
       "6673    53       5                1                        1         Jackets   \n",
       "8079    48       5                1                        3         Bottoms   \n",
       "2156    62       5                1                        1            Tops   \n",
       "5337    37       5                1                        2         Dresses   \n",
       "13662   42       5                1                        1         Bottoms   \n",
       "6889    36       5                1                        0        Intimate   \n",
       "20210   51       4                1                        0            Tops   \n",
       "22005   55       3                1                        0            Tops   \n",
       "7363    69       5                1                        5            Tops   \n",
       "21791   44       3                0                        0            Tops   \n",
       "\n",
       "      Class Name                                               Text  text_len  \\\n",
       "6673     Jackets   Just purchased tonight and love i this little...       204   \n",
       "8079      Skirts  Seriously beautiful This skirt is stunning. li...       519   \n",
       "2156       Knits  Need them all! Ordered this on a whim while ta...       418   \n",
       "5337     Dresses  Pretty! I am five foot tall, about 103lb and g...       152   \n",
       "13662     Skirts   Love love this skirt! quality is great and so...       146   \n",
       "6889      Lounge   Love this cardigan! i've been searching for a...       252   \n",
       "20210      Knits  Love it I bought the deep maroon which is beau...       386   \n",
       "22005      Knits  Nice material but weird fit I ordered it in tw...       148   \n",
       "7363       Knits  So cute and great fit I am so pleased with thi...       291   \n",
       "21791      Knits  It's ok The fabric is great quality but it str...       148   \n",
       "\n",
       "                                          Text_Processed  clusters  \n",
       "6673   purchased tonight love little jacket embroider...         0  \n",
       "8079   seriously beautiful skirt stunning like review...         0  \n",
       "2156   need ordered whim taking advantage promotion n...         5  \n",
       "5337   pretty five foot tall 103lb got petite zero fi...         0  \n",
       "13662  love love skirt quality great comfortable even...         5  \n",
       "6889   love cardigan ive searching comfortable lounge...         5  \n",
       "20210  love bought deep maroon beautiful absolutely l...         1  \n",
       "22005  nice material weird fit ordered two color exce...         0  \n",
       "7363   cute great fit pleased top slightly fitted 53 ...         3  \n",
       "21791  ok fabric great quality stretch much around wa...         0  "
      ]
     },
     "execution_count": 23,
     "metadata": {},
     "output_type": "execute_result"
    }
   ],
   "source": [
    "# assign the data labels back to the dataframe\n",
    "df['clusters'] = kmeans.labels_\n",
    "\n",
    "df.sample(10, random_state=42)"
   ]
  },
  {
   "cell_type": "code",
   "execution_count": 24,
   "id": "arranged-outreach",
   "metadata": {},
   "outputs": [
    {
     "name": "stdout",
     "output_type": "stream",
     "text": [
      "[1 0 3 0 0]\n"
     ]
    }
   ],
   "source": [
    "new_docs = ['This dress is gorgeous and I love it and would gladly reccomend it to all of my friends.',\n",
    "            'This skirt has really horible quality and I hate it!',\n",
    "            'A super cute top with the perfect fit.',\n",
    "            'The most gorgeous pair of jeans I have seen.',\n",
    "            'this item is too little and tight.']\n",
    "\n",
    "pred = kmeans.predict(vectorizer.transform(new_docs))\n",
    "print(pred)"
   ]
  },
  {
   "cell_type": "markdown",
   "id": "ongoing-partition",
   "metadata": {},
   "source": [
    "# GenSim"
   ]
  },
  {
   "cell_type": "code",
   "execution_count": 25,
   "id": "turkish-sleeve",
   "metadata": {},
   "outputs": [
    {
     "data": {
      "text/plain": [
       "['absolutely wonderful silky sexy comfortable ']"
      ]
     },
     "execution_count": 25,
     "metadata": {},
     "output_type": "execute_result"
    }
   ],
   "source": [
    "clean_docs[:1]"
   ]
  },
  {
   "cell_type": "code",
   "execution_count": 26,
   "id": "ignored-highland",
   "metadata": {},
   "outputs": [],
   "source": [
    "tokenized_docs = [word_tokenize(word) for word in clean_docs]"
   ]
  },
  {
   "cell_type": "code",
   "execution_count": 27,
   "id": "optional-party",
   "metadata": {},
   "outputs": [
    {
     "name": "stdout",
     "output_type": "stream",
     "text": [
      "Dictionary(18578 unique tokens: ['absolutely', 'comfortable', 'sexy', 'silky', 'wonderful']...)\n",
      "[(0, 1), (1, 1), (2, 1), (3, 1), (4, 1)]\n"
     ]
    }
   ],
   "source": [
    "# create a dictionary from the corpus\n",
    "dictionary = gensim.corpora.Dictionary(tokenized_docs)\n",
    "print(dictionary)\n",
    "\n",
    "# Term Document Frequency \n",
    "# convert our entire corpus to a list of vectors:\n",
    "bow_corpus = [dictionary.doc2bow(doc) for doc in tokenized_docs]\n",
    "\n",
    "# View the first doc\n",
    "print(bow_corpus[0])"
   ]
  },
  {
   "cell_type": "code",
   "execution_count": 28,
   "id": "precious-husband",
   "metadata": {},
   "outputs": [
    {
     "name": "stdout",
     "output_type": "stream",
     "text": [
      "Word 5 (58) appears 1 times\n",
      "Word 6 (bc) appears 2 times\n",
      "Word 7 (bought) appears 1 times\n",
      "Word 8 (definitely) appears 1 times\n",
      "Word 9 (dress) appears 1 times\n",
      "Word 10 (find) appears 1 times\n",
      "Word 11 (glad) appears 1 times\n",
      "Word 12 (happened) appears 1 times\n",
      "Word 13 (hit) appears 1 times\n",
      "Word 14 (im) appears 1 times\n",
      "Word 15 (knee) appears 1 times\n",
      "Word 16 (length) appears 1 times\n",
      "Word 17 (little) appears 1 times\n",
      "Word 18 (love) appears 2 times\n",
      "Word 19 (midi) appears 1 times\n",
      "Word 20 (never) appears 1 times\n",
      "Word 21 (online) appears 1 times\n",
      "Word 22 (ordered) appears 1 times\n",
      "Word 23 (petite) appears 3 times\n",
      "Word 24 (pretty) appears 1 times\n",
      "Word 25 (someone) appears 1 times\n",
      "Word 26 (sooo) appears 1 times\n",
      "Word 27 (store) appears 1 times\n",
      "Word 28 (true) appears 1 times\n",
      "Word 29 (truly) appears 1 times\n",
      "Word 30 (would) appears 2 times\n"
     ]
    }
   ],
   "source": [
    "doc = bow_corpus[1]\n",
    "for i in range(len(doc)):\n",
    "    print (f\"Word {doc[i][0]} ({dictionary[doc[i][0]]}) appears {doc[i][1]} times\")"
   ]
  },
  {
   "cell_type": "markdown",
   "id": "sublime-product",
   "metadata": {},
   "source": [
    "# Topic Modeling"
   ]
  },
  {
   "cell_type": "code",
   "execution_count": 29,
   "id": "parental-heaven",
   "metadata": {},
   "outputs": [
    {
     "name": "stdout",
     "output_type": "stream",
     "text": [
      "(0, '0.030*\"coat\" + 0.026*\"wait\" + 0.024*\"seems\" + 0.021*\"tshirt\" + 0.019*\"lining\" + 0.018*\"weather\" + 0.017*\"month\" + 0.012*\"chic\" + 0.012*\"let\" + 0.012*\"silhouette\"')\n",
      "(1, '0.035*\"top\" + 0.030*\"like\" + 0.027*\"look\" + 0.022*\"fabric\" + 0.018*\"would\" + 0.018*\"beautiful\" + 0.014*\"really\" + 0.013*\"much\" + 0.012*\"bit\" + 0.012*\"back\"')\n",
      "(2, '0.046*\"love\" + 0.032*\"great\" + 0.031*\"color\" + 0.028*\"wear\" + 0.018*\"perfect\" + 0.018*\"flattering\" + 0.016*\"fit\" + 0.016*\"cute\" + 0.015*\"soft\" + 0.015*\"nice\"')\n",
      "(3, '0.058*\"high\" + 0.053*\"regular\" + 0.025*\"wash\" + 0.023*\"elastic\" + 0.018*\"cheap\" + 0.017*\"buying\" + 0.014*\"yes\" + 0.013*\"slit\" + 0.013*\"shown\" + 0.013*\"34\"')\n",
      "(4, '0.023*\"strap\" + 0.021*\"youre\" + 0.019*\"55\" + 0.018*\"ever\" + 0.018*\"flat\" + 0.017*\"night\" + 0.017*\"local\" + 0.017*\"wedding\" + 0.017*\"classic\" + 0.016*\"bad\"')\n",
      "(5, '0.086*\"dress\" + 0.060*\"size\" + 0.039*\"fit\" + 0.037*\"im\" + 0.032*\"small\" + 0.022*\"ordered\" + 0.020*\"run\" + 0.019*\"large\" + 0.017*\"petite\" + 0.016*\"waist\"')\n"
     ]
    }
   ],
   "source": [
    "NUM_TOPICS = 6\n",
    "\n",
    "# Build LDA model\n",
    "lda_model = gensim.models.ldamodel.LdaModel(corpus=bow_corpus,\n",
    "                                           id2word=dictionary,\n",
    "                                           num_topics=NUM_TOPICS, \n",
    "                                           random_state=42,\n",
    "                                           update_every=1,\n",
    "                                           chunksize=100,\n",
    "                                           passes=10,\n",
    "                                           alpha='auto',\n",
    "                                           per_word_topics=True)\n",
    "### View the topics in LDA model\n",
    "topics = lda_model.print_topics()\n",
    "for topic in topics:\n",
    "    print(topic)"
   ]
  },
  {
   "cell_type": "code",
   "execution_count": 30,
   "id": "bulgarian-marijuana",
   "metadata": {},
   "outputs": [
    {
     "name": "stdout",
     "output_type": "stream",
     "text": [
      "[(9, 1), (18, 1), (30, 1), (132, 1), (3456, 1), (6772, 1)]\n",
      "[(0, 0.022831386), (1, 0.35062858), (2, 0.35865673), (3, 0.024053758), (4, 0.024860613), (5, 0.2189689)]\n"
     ]
    }
   ],
   "source": [
    "new_doc = 'This dress is gorgeous and I love it and would gladly reccomend it to all of my friends.'\n",
    "new_doc = process_string(new_doc)\n",
    "new_doc = word_tokenize(new_doc)\n",
    "new_doc_bow = dictionary.doc2bow(new_doc)\n",
    "\n",
    "print(new_doc_bow)\n",
    "print(lda_model.get_document_topics(new_doc_bow))"
   ]
  },
  {
   "cell_type": "markdown",
   "id": "diagnostic-slovenia",
   "metadata": {},
   "source": [
    "# Model Perplexity and Coherence Score\n",
    "Model perplexity and topic coherence provide a convenient measure to judge how good a given topic model is."
   ]
  },
  {
   "cell_type": "code",
   "execution_count": 31,
   "id": "compact-polish",
   "metadata": {},
   "outputs": [],
   "source": [
    "def lda_scoring (model, corpus, text, dictionary):\n",
    "\n",
    "    # Compute Perplexity\n",
    "    print('\\nPerplexity: ', model.log_perplexity(corpus))  # a measure of how good the model is. lower the better.\n",
    "\n",
    "    # Compute Coherence Score\n",
    "    coherence_model_lda = CoherenceModel(model=model, \n",
    "                                         texts=text, \n",
    "                                         dictionary=dictionary, \n",
    "                                         coherence='c_v')\n",
    "    \n",
    "    coherence_lda = coherence_model_lda.get_coherence()\n",
    "    print('\\nCoherence Score: ', coherence_lda)"
   ]
  },
  {
   "cell_type": "code",
   "execution_count": 32,
   "id": "automotive-blink",
   "metadata": {},
   "outputs": [
    {
     "name": "stdout",
     "output_type": "stream",
     "text": [
      "\n",
      "Perplexity:  -7.123051829128937\n",
      "\n",
      "Coherence Score:  0.309430343359335\n"
     ]
    }
   ],
   "source": [
    "lda_scoring(lda_model, bow_corpus, tokenized_docs, dictionary)"
   ]
  },
  {
   "cell_type": "code",
   "execution_count": 33,
   "id": "suspended-switzerland",
   "metadata": {},
   "outputs": [
    {
     "data": {
      "text/html": [
       "\n",
       "<link rel=\"stylesheet\" type=\"text/css\" href=\"https://cdn.jsdelivr.net/gh/bmabey/pyLDAvis@3.3.1/pyLDAvis/js/ldavis.v1.0.0.css\">\n",
       "\n",
       "\n",
       "<div id=\"ldavis_el6641655342098568737545116\"></div>\n",
       "<script type=\"text/javascript\">\n",
       "\n",
       "var ldavis_el6641655342098568737545116_data = {\"mdsDat\": {\"x\": [-0.21174525803455932, 0.23142741768767874, 0.2316559700267659, -0.21094400815149986, -0.21207935352825413, 0.17168523199986835], \"y\": [0.018343645987819186, 0.16643567958487446, 0.1649763486238898, 0.016977991468382886, 0.01643506397325007, -0.38316872963821663], \"topics\": [1, 2, 3, 4, 5, 6], \"cluster\": [1, 1, 1, 1, 1, 1], \"Freq\": [2.6106811783817205, 35.515714670885146, 33.66047973285257, 2.764142948247246, 2.863119445401842, 22.585862024231478]}, \"tinfo\": {\"Term\": [\"dress\", \"size\", \"love\", \"top\", \"im\", \"great\", \"color\", \"like\", \"small\", \"wear\", \"fit\", \"look\", \"fabric\", \"ordered\", \"run\", \"perfect\", \"flattering\", \"beautiful\", \"large\", \"petite\", \"high\", \"soft\", \"regular\", \"comfortable\", \"waist\", \"sweater\", \"really\", \"nice\", \"bought\", \"would\", \"coat\", \"wait\", \"seems\", \"tshirt\", \"lining\", \"weather\", \"month\", \"chic\", \"let\", \"silhouette\", \"scratchy\", \"stripe\", \"gave\", \"pas\", \"reading\", \"silk\", \"silky\", \"bodice\", \"generally\", \"stand\", \"wool\", \"consider\", \"leather\", \"noted\", \"p\", \"sent\", \"maxi\", \"simply\", \"old\", \"feeling\", \"top\", \"like\", \"fabric\", \"beautiful\", \"really\", \"much\", \"back\", \"pretty\", \"also\", \"short\", \"cut\", \"design\", \"online\", \"didnt\", \"see\", \"shoulder\", \"bottom\", \"better\", \"review\", \"model\", \"side\", \"person\", \"looked\", \"picture\", \"front\", \"arm\", \"print\", \"wanted\", \"loved\", \"found\", \"sleeve\", \"made\", \"look\", \"gorgeous\", \"however\", \"bit\", \"way\", \"think\", \"retailer\", \"would\", \"material\", \"quality\", \"good\", \"little\", \"one\", \"work\", \"love\", \"great\", \"color\", \"perfect\", \"flattering\", \"soft\", \"comfortable\", \"sweater\", \"bought\", \"skirt\", \"jean\", \"long\", \"feel\", \"pant\", \"super\", \"black\", \"go\", \"style\", \"true\", \"summer\", \"purchased\", \"fall\", \"white\", \"piece\", \"time\", \"enough\", \"comfy\", \"wearing\", \"wear\", \"pair\", \"got\", \"nice\", \"well\", \"cute\", \"length\", \"fit\", \"little\", \"high\", \"regular\", \"wash\", \"elastic\", \"cheap\", \"buying\", \"yes\", \"slit\", \"shown\", \"34\", \"texture\", \"26\", \"dry\", \"bright\", \"subtle\", \"real\", \"cold\", \"snag\", \"rayon\", \"everywhere\", \"washing\", \"gold\", \"waistband\", \"life\", \"website\", \"truly\", \"sort\", \"barely\", \"quickly\", \"butt\", \"strap\", \"youre\", \"55\", \"ever\", \"flat\", \"night\", \"local\", \"wedding\", \"classic\", \"bad\", \"le\", \"elegant\", \"ordering\", \"occasion\", \"booty\", \"sandal\", \"59\", \"party\", \"athletic\", \"thread\", \"34b\", \"pic\", \"waisted\", \"closet\", \"fantastic\", \"build\", \"typical\", \"vest\", \"125\", \"weekend\", \"dress\", \"size\", \"im\", \"small\", \"ordered\", \"run\", \"large\", \"petite\", \"waist\", \"medium\", \"x\", \"big\", \"usually\", \"tight\", \"lb\", \"try\", \"2\", \"though\", \"4\", \"6\", \"chest\", \"went\", \"order\", \"bust\", \"normally\", \"reviewer\", \"say\", \"hip\", \"adorable\", \"huge\", \"usual\", \"hit\", \"store\", \"tried\", \"fit\", \"around\", \"perfectly\"], \"Freq\": [13910.0, 9768.0, 11069.0, 9011.0, 5962.0, 7762.0, 7365.0, 7687.0, 5218.0, 6702.0, 10481.0, 7102.0, 5521.0, 3592.0, 3286.0, 4424.0, 4362.0, 4523.0, 3113.0, 2825.0, 1151.0, 3576.0, 1056.0, 3505.0, 2552.0, 3309.0, 3445.0, 3639.0, 3250.0, 5415.0, 555.2494492257965, 481.51691748876874, 453.30513575426505, 398.22264133755306, 352.2141413061511, 335.8346464704792, 313.25282903150065, 232.46879562876404, 221.5517532206396, 218.01798338766707, 200.33373982995292, 196.01360353637133, 189.4663247696312, 187.60937830626497, 182.0184827184738, 178.8260335369506, 179.93872633642368, 170.34513205408768, 167.56067777011546, 158.23275417932905, 156.26458540195978, 156.86206179254089, 155.1615815028464, 147.22845948358508, 144.1833876957733, 143.9861829141261, 142.14394374924117, 142.00541160837162, 132.9249289648315, 132.70582413730853, 9010.55457756572, 7686.495942116019, 5521.0963331970825, 4522.497969925607, 3445.108577513691, 3222.791600123671, 2971.3566876315117, 2855.2742181029625, 2554.2805081287574, 2443.7472192300856, 2050.2471300034113, 1838.317769138739, 1831.2576495612382, 1821.2177738007347, 1760.2302672483029, 1649.822041972782, 1637.4245335207872, 1587.8859686589487, 1568.989292982678, 1543.8219248752296, 1461.3994362061696, 1457.3846217683658, 1444.2908035507671, 1364.1764900571368, 1322.5700588717798, 1309.518717324674, 1269.7083748805012, 1241.2059373825548, 1220.8507382601326, 1196.4581256913716, 2386.802213858899, 1779.269872779603, 6979.8720363442435, 1593.6180711066042, 1403.4710781651554, 3095.8582935545073, 2334.545260404919, 2325.8225163879506, 2154.343369371425, 4672.566745264119, 2758.999602076498, 2123.4120708933056, 1998.4826219605518, 2450.507990684056, 2344.6263113223354, 1649.1640676980965, 11068.947287811778, 7762.114212368781, 7364.957288759883, 4424.161733020704, 4361.9727148214115, 3575.523831901173, 3505.1363487224903, 3308.4429395278557, 3250.1323525934677, 3006.712066428076, 2695.136082749708, 2693.159076354049, 2365.629559386693, 2204.800369446723, 2003.511962290175, 1960.9878218875695, 1866.6126237286337, 1845.1811118560977, 1796.5137857264926, 1699.083927657304, 1655.034924352363, 1599.7523083025803, 1466.2965268821567, 1426.349895952281, 1381.1706460527937, 1372.996178768734, 1364.4785668692052, 1361.3976664883576, 6698.56416574848, 1273.1868482826712, 2394.5194204013333, 3551.005588432102, 3095.902528869297, 3796.4201503626896, 2344.673291592705, 3898.4256063877538, 1512.9767541274125, 1151.0776949467875, 1056.0064888724103, 485.54698531707726, 445.3901260651314, 349.74599463177697, 329.74576486031793, 276.5062136031413, 265.51513748991, 263.6108992050287, 262.2643183376758, 259.1819806430705, 242.68879149723168, 230.66157652034158, 229.54605909498835, 197.7511695899144, 191.2402305490989, 190.5926782917491, 189.36582828972695, 190.28645384968553, 174.5840114663414, 169.95005310685545, 165.1020857248893, 161.78908976887766, 155.025041778325, 147.37936685992236, 141.90880266169594, 141.89116809723598, 129.84347308308273, 127.74824740034259, 118.47716290582281, 462.27093129436054, 423.9016260230353, 387.4274455829215, 375.7498276174271, 360.41889306956085, 351.7020666555084, 351.16253734790115, 349.5652772578317, 342.1837486803991, 335.26715922626056, 326.40874499942754, 324.91881083696575, 310.13560860930386, 291.88506926394246, 250.56506405434698, 249.22507333145072, 247.87766174367013, 240.64161264080835, 223.09044688805673, 204.32452943031575, 203.2203085508789, 196.52359798788962, 193.00198744963484, 186.55142449487892, 183.59801565477434, 180.9405257249167, 171.62316248166277, 152.03070565928346, 151.44188196899964, 145.88025850494046, 13909.55747649263, 9767.61421152525, 5961.7578014274795, 5217.701951128847, 3592.066710460784, 3285.76837084297, 3112.587882004371, 2825.163758500448, 2551.2065130988994, 2206.2392056133035, 2073.721802308928, 2019.761890212823, 1800.289459361576, 1622.8346573330323, 1308.794157003917, 1299.4857162630085, 1213.9108149797353, 1196.480908299372, 1083.6177761178683, 1081.88671163088, 989.9847643805809, 989.5263024176486, 976.7782306720586, 969.295661914166, 895.6969037243044, 883.5217401332798, 865.2111771564846, 891.1724040865098, 739.9731084458987, 714.9586020833466, 894.1881853887135, 853.9688139847069, 1885.9743674378587, 1745.7391824925894, 6306.132938283126, 1015.4098774937848, 1079.716673388476], \"Total\": [13910.0, 9768.0, 11069.0, 9011.0, 5962.0, 7762.0, 7365.0, 7687.0, 5218.0, 6702.0, 10481.0, 7102.0, 5521.0, 3592.0, 3286.0, 4424.0, 4362.0, 4523.0, 3113.0, 2825.0, 1151.0, 3576.0, 1056.0, 3505.0, 2552.0, 3309.0, 3445.0, 3639.0, 3250.0, 5415.0, 556.0776393031505, 482.3463126824342, 454.1352254367269, 399.05174869784776, 353.0439713685989, 336.664186812681, 314.08577520608014, 233.30063565856165, 222.38409115127956, 218.8515718210748, 201.1659192673389, 196.84281350810505, 190.2979988127721, 188.44148309344223, 182.84960527104454, 179.6555217120066, 180.77402168661467, 171.1758744797428, 168.39269188846788, 159.06270514131495, 157.09214232052895, 157.6948140306994, 155.99066109049468, 148.0642426088007, 145.01229157847763, 144.81882467694825, 142.9722419926316, 142.8342683919888, 133.75437600833257, 133.53599571607472, 9011.371849335868, 7687.314275145968, 5521.914689182296, 4523.403090992829, 3445.925600009585, 3223.6099902128503, 2972.1742884028067, 2856.0917380682854, 2555.098569714235, 2444.564451088167, 2051.066048682928, 1839.1363810684393, 1832.0763297173185, 1822.0356172481327, 1761.0487593746207, 1650.6409419220613, 1638.2433402085758, 1588.7045617949425, 1569.8096103611722, 1544.639946561336, 1462.2172248972122, 1458.2023456750858, 1445.1087787349345, 1364.9943436059295, 1323.3877526020892, 1310.335228167742, 1270.527425677084, 1242.0234712273689, 1221.667965676553, 1197.2775560471516, 2391.1367527961393, 1785.059242005184, 7102.600343610003, 1599.6496804714016, 1405.9649911483984, 3169.6555359937083, 2381.921126739574, 2386.209321038237, 2227.5531046348483, 5415.63971397874, 3229.1139375950747, 2632.3394408169497, 2397.471573110888, 3964.135087851661, 3662.799198545685, 2772.3854580651328, 11069.767270483957, 7762.934040838575, 7365.809792191457, 4424.981650718896, 4362.793787339322, 3576.3430798137506, 3505.9555989467835, 3309.2636877530413, 3250.952574722852, 3007.5329599881256, 2695.954832595891, 2693.9799862527448, 2366.451238009997, 2205.6192334799975, 2004.3311282102325, 1961.8079662266352, 1867.4329033121007, 1846.001126803477, 1797.3343461255379, 1699.902873246556, 1655.8709823616239, 1600.572224038663, 1467.1159051286334, 1427.1695992546804, 1381.9910283714185, 1373.816086301183, 1365.2980816581023, 1362.2172287679184, 6702.656624197946, 1274.006824930224, 2403.656709019888, 3639.4152475893984, 3367.458420247603, 4287.328791494788, 2956.3197048810684, 10481.769863219248, 3964.135087851661, 1151.9054680534693, 1056.8328680857846, 486.37017374778793, 446.22165424223243, 350.5745768349862, 330.5763400147091, 277.3351563263597, 266.34235880005787, 264.4368708915165, 263.0934131578872, 260.00776630059, 243.5158310000841, 231.4847432012691, 230.37385384448638, 198.57985223878973, 192.06382122011098, 191.41850104517454, 190.1964290746413, 191.1224359386964, 175.41247172451668, 170.77397833277703, 165.93096503233372, 162.6148636369553, 155.84990866161496, 148.2075287227666, 142.73431694745418, 142.7180871015976, 130.66884113617434, 128.578834034297, 119.30264942824085, 463.09351776911376, 424.722997486817, 388.2468944070501, 376.57030203798803, 361.238876772936, 352.5219125168973, 351.9832398748661, 350.3855445036481, 343.0020380396248, 336.08669687441903, 327.2302708034761, 325.739090819446, 310.9577195566833, 292.7118263057002, 251.38476828916407, 250.0456561307392, 248.69783835978856, 241.46217301903212, 223.91017135207295, 205.14459289084974, 204.04058172108392, 197.34294598415616, 193.8225433079284, 187.3697829326073, 184.41849313250165, 181.75916012648855, 172.44345839127791, 152.84903150522427, 152.26433005419935, 146.69947666201116, 13910.38154713806, 9768.437068587222, 5962.58106224869, 5218.52417324292, 3592.8893193882623, 3286.590450142227, 3113.4100814964886, 2825.986602783404, 2552.030009221586, 2207.061685332977, 2074.543731620893, 2020.5843399506275, 1801.1114432420375, 1623.6580809612474, 1309.616270252043, 1300.3105812702472, 1214.7332816429946, 1197.304078861575, 1084.4400142857498, 1082.7087697314903, 990.8069054813913, 990.3496823959812, 977.6012674632635, 970.1182688802552, 896.5189860598159, 884.3450121202001, 866.0346234237169, 892.0573353761702, 740.7965159192572, 715.7807486400084, 895.8043076276618, 855.2371357111398, 1984.1027320018686, 2073.9843842139653, 10481.769863219248, 1127.4276928742356, 1697.1609455439925], \"Category\": [\"Default\", \"Default\", \"Default\", \"Default\", \"Default\", \"Default\", \"Default\", \"Default\", \"Default\", \"Default\", \"Default\", \"Default\", \"Default\", \"Default\", \"Default\", \"Default\", \"Default\", \"Default\", \"Default\", \"Default\", \"Default\", \"Default\", \"Default\", \"Default\", \"Default\", \"Default\", \"Default\", \"Default\", \"Default\", \"Default\", \"Topic1\", \"Topic1\", \"Topic1\", \"Topic1\", \"Topic1\", \"Topic1\", \"Topic1\", \"Topic1\", \"Topic1\", \"Topic1\", \"Topic1\", \"Topic1\", \"Topic1\", \"Topic1\", \"Topic1\", \"Topic1\", \"Topic1\", \"Topic1\", \"Topic1\", \"Topic1\", \"Topic1\", \"Topic1\", \"Topic1\", \"Topic1\", \"Topic1\", \"Topic1\", \"Topic1\", \"Topic1\", \"Topic1\", \"Topic1\", \"Topic2\", \"Topic2\", \"Topic2\", \"Topic2\", \"Topic2\", \"Topic2\", \"Topic2\", \"Topic2\", \"Topic2\", \"Topic2\", \"Topic2\", \"Topic2\", \"Topic2\", \"Topic2\", \"Topic2\", \"Topic2\", \"Topic2\", \"Topic2\", \"Topic2\", \"Topic2\", \"Topic2\", \"Topic2\", \"Topic2\", \"Topic2\", \"Topic2\", \"Topic2\", \"Topic2\", \"Topic2\", \"Topic2\", \"Topic2\", \"Topic2\", \"Topic2\", \"Topic2\", \"Topic2\", \"Topic2\", \"Topic2\", \"Topic2\", \"Topic2\", \"Topic2\", \"Topic2\", \"Topic2\", \"Topic2\", \"Topic2\", \"Topic2\", \"Topic2\", \"Topic2\", \"Topic3\", \"Topic3\", \"Topic3\", \"Topic3\", \"Topic3\", \"Topic3\", \"Topic3\", \"Topic3\", \"Topic3\", \"Topic3\", \"Topic3\", \"Topic3\", \"Topic3\", \"Topic3\", \"Topic3\", \"Topic3\", \"Topic3\", \"Topic3\", \"Topic3\", \"Topic3\", \"Topic3\", \"Topic3\", \"Topic3\", \"Topic3\", \"Topic3\", \"Topic3\", \"Topic3\", \"Topic3\", \"Topic3\", \"Topic3\", \"Topic3\", \"Topic3\", \"Topic3\", \"Topic3\", \"Topic3\", \"Topic3\", \"Topic3\", \"Topic4\", \"Topic4\", \"Topic4\", \"Topic4\", \"Topic4\", \"Topic4\", \"Topic4\", \"Topic4\", \"Topic4\", \"Topic4\", \"Topic4\", \"Topic4\", \"Topic4\", \"Topic4\", \"Topic4\", \"Topic4\", \"Topic4\", \"Topic4\", \"Topic4\", \"Topic4\", \"Topic4\", \"Topic4\", \"Topic4\", \"Topic4\", \"Topic4\", \"Topic4\", \"Topic4\", \"Topic4\", \"Topic4\", \"Topic4\", \"Topic5\", \"Topic5\", \"Topic5\", \"Topic5\", \"Topic5\", \"Topic5\", \"Topic5\", \"Topic5\", \"Topic5\", \"Topic5\", \"Topic5\", \"Topic5\", \"Topic5\", \"Topic5\", \"Topic5\", \"Topic5\", \"Topic5\", \"Topic5\", \"Topic5\", \"Topic5\", \"Topic5\", \"Topic5\", \"Topic5\", \"Topic5\", \"Topic5\", \"Topic5\", \"Topic5\", \"Topic5\", \"Topic5\", \"Topic5\", \"Topic6\", \"Topic6\", \"Topic6\", \"Topic6\", \"Topic6\", \"Topic6\", \"Topic6\", \"Topic6\", \"Topic6\", \"Topic6\", \"Topic6\", \"Topic6\", \"Topic6\", \"Topic6\", \"Topic6\", \"Topic6\", \"Topic6\", \"Topic6\", \"Topic6\", \"Topic6\", \"Topic6\", \"Topic6\", \"Topic6\", \"Topic6\", \"Topic6\", \"Topic6\", \"Topic6\", \"Topic6\", \"Topic6\", \"Topic6\", \"Topic6\", \"Topic6\", \"Topic6\", \"Topic6\", \"Topic6\", \"Topic6\", \"Topic6\"], \"logprob\": [30.0, 29.0, 28.0, 27.0, 26.0, 25.0, 24.0, 23.0, 22.0, 21.0, 20.0, 19.0, 18.0, 17.0, 16.0, 15.0, 14.0, 13.0, 12.0, 11.0, 10.0, 9.0, 8.0, 7.0, 6.0, 5.0, 4.0, 3.0, 2.0, 1.0, -3.5157, -3.6581, -3.7185, -3.8481, -3.9708, -4.0185, -4.0881, -4.3863, -4.4344, -4.4505, -4.5351, -4.5569, -4.5909, -4.6007, -4.631, -4.6487, -4.6425, -4.6972, -4.7137, -4.771, -4.7835, -4.7797, -4.7906, -4.8431, -4.864, -4.8654, -4.8782, -4.8792, -4.9453, -4.9469, -3.3393, -3.4982, -3.8291, -4.0286, -4.3007, -4.3674, -4.4487, -4.4885, -4.5999, -4.6442, -4.8197, -4.9288, -4.9327, -4.9382, -4.9722, -5.037, -5.0446, -5.0753, -5.0873, -5.1034, -5.1583, -5.161, -5.1701, -5.2271, -5.2581, -5.268, -5.2989, -5.3216, -5.3381, -5.3583, -4.6677, -4.9615, -3.5947, -5.0717, -5.1987, -4.4076, -4.6899, -4.6936, -4.7702, -3.996, -4.5228, -4.7847, -4.8453, -4.6414, -4.6856, -5.0374, -3.0799, -3.4348, -3.4873, -3.997, -4.0111, -4.2099, -4.2298, -4.2876, -4.3053, -4.3832, -4.4926, -4.4933, -4.623, -4.6934, -4.7891, -4.8106, -4.8599, -4.8715, -4.8982, -4.9539, -4.9802, -5.0142, -5.1013, -5.1289, -5.1611, -5.167, -5.1733, -5.1755, -3.5821, -5.2425, -4.6109, -4.2168, -4.354, -4.15, -4.6319, -4.1235, -5.07, -2.8437, -2.9299, -3.7069, -3.7932, -4.035, -4.0939, -4.27, -4.3105, -4.3177, -4.3228, -4.3347, -4.4004, -4.4512, -4.4561, -4.6052, -4.6387, -4.6421, -4.6485, -4.6437, -4.7298, -4.7567, -4.7856, -4.8059, -4.8486, -4.8992, -4.937, -4.9371, -5.0259, -5.0421, -5.1175, -3.7912, -3.8779, -3.9678, -3.9985, -4.0401, -4.0646, -4.0661, -4.0707, -4.092, -4.1124, -4.1392, -4.1438, -4.1904, -4.251, -4.4037, -4.409, -4.4144, -4.4441, -4.5198, -4.6077, -4.6131, -4.6466, -4.6647, -4.6987, -4.7146, -4.7292, -4.7821, -4.9033, -4.9072, -4.9446, -2.4525, -2.806, -3.2997, -3.433, -3.8063, -3.8954, -3.9496, -4.0465, -4.1485, -4.2937, -4.3557, -4.3821, -4.4971, -4.6009, -4.8159, -4.8231, -4.8912, -4.9056, -5.0047, -5.0063, -5.0951, -5.0956, -5.1085, -5.1162, -5.1952, -5.2089, -5.2298, -5.2003, -5.3862, -5.4206, -5.1969, -5.2429, -4.4506, -4.5279, -3.2435, -5.0697, -5.0083], \"loglift\": [30.0, 29.0, 28.0, 27.0, 26.0, 25.0, 24.0, 23.0, 22.0, 21.0, 20.0, 19.0, 18.0, 17.0, 16.0, 15.0, 14.0, 13.0, 12.0, 11.0, 10.0, 9.0, 8.0, 7.0, 6.0, 5.0, 4.0, 3.0, 2.0, 1.0, 3.6441, 3.6438, 3.6437, 3.6435, 3.6432, 3.6431, 3.6429, 3.642, 3.6418, 3.6417, 3.6414, 3.6413, 3.6412, 3.6411, 3.641, 3.6409, 3.6409, 3.6407, 3.6406, 3.6403, 3.6403, 3.6403, 3.6402, 3.6399, 3.6398, 3.6398, 3.6397, 3.6397, 3.6393, 3.6393, 1.0351, 1.0351, 1.035, 1.035, 1.035, 1.0349, 1.0349, 1.0349, 1.0349, 1.0349, 1.0348, 1.0347, 1.0347, 1.0347, 1.0347, 1.0347, 1.0347, 1.0347, 1.0347, 1.0347, 1.0346, 1.0346, 1.0346, 1.0346, 1.0346, 1.0346, 1.0346, 1.0345, 1.0345, 1.0345, 1.0334, 1.0319, 1.0178, 1.0314, 1.0334, 1.0116, 1.0151, 1.0096, 1.0018, 0.8876, 0.8779, 0.8203, 0.8532, 0.5542, 0.5891, 0.5158, 1.0888, 1.0887, 1.0887, 1.0887, 1.0887, 1.0886, 1.0886, 1.0886, 1.0886, 1.0886, 1.0885, 1.0885, 1.0885, 1.0885, 1.0884, 1.0884, 1.0884, 1.0884, 1.0884, 1.0884, 1.0883, 1.0883, 1.0883, 1.0883, 1.0883, 1.0882, 1.0882, 1.0882, 1.0882, 1.0882, 1.085, 1.0643, 1.0048, 0.9672, 0.857, 0.0998, 0.1256, 3.5877, 3.5877, 3.5867, 3.5866, 3.5861, 3.5859, 3.5854, 3.5853, 3.5853, 3.5853, 3.5853, 3.585, 3.5849, 3.5848, 3.5843, 3.5841, 3.5841, 3.5841, 3.5841, 3.5837, 3.5836, 3.5834, 3.5833, 3.5831, 3.5828, 3.5826, 3.5826, 3.5821, 3.582, 3.5815, 3.5515, 3.5513, 3.5511, 3.5511, 3.551, 3.5509, 3.5509, 3.5509, 3.5509, 3.5508, 3.5507, 3.5507, 3.5506, 3.5504, 3.55, 3.55, 3.55, 3.5499, 3.5496, 3.5493, 3.5492, 3.5491, 3.549, 3.5489, 3.5488, 3.5487, 3.5485, 3.5479, 3.5478, 3.5477, 1.4878, 1.4878, 1.4877, 1.4877, 1.4876, 1.4876, 1.4876, 1.4876, 1.4875, 1.4875, 1.4874, 1.4874, 1.4874, 1.4873, 1.4872, 1.4872, 1.4872, 1.4872, 1.4871, 1.4871, 1.487, 1.487, 1.487, 1.487, 1.4869, 1.4869, 1.4869, 1.4869, 1.4867, 1.4867, 1.486, 1.4864, 1.4371, 1.3156, 0.9797, 1.3832, 1.0356]}, \"token.table\": {\"Topic\": [5, 6, 4, 4, 5, 6, 5, 5, 6, 6, 2, 2, 3, 6, 5, 2, 5, 4, 2, 2, 6, 2, 3, 6, 3, 1, 5, 2, 3, 4, 5, 6, 4, 4, 4, 6, 1, 5, 5, 1, 4, 3, 3, 3, 1, 2, 2, 3, 2, 2, 6, 4, 4, 5, 3, 5, 4, 2, 3, 5, 3, 1, 2, 3, 6, 5, 3, 2, 2, 1, 1, 3, 4, 2, 3, 2, 6, 3, 6, 3, 4, 6, 2, 6, 2, 6, 6, 6, 3, 6, 6, 5, 1, 3, 6, 1, 4, 2, 1, 2, 3, 5, 3, 2, 3, 2, 3, 2, 2, 6, 2, 3, 1, 6, 2, 1, 2, 2, 3, 5, 6, 1, 5, 1, 2, 3, 6, 2, 6, 6, 5, 1, 3, 3, 5, 1, 3, 3, 6, 2, 6, 5, 2, 3, 2, 2, 3, 2, 3, 4, 4, 1, 4, 2, 4, 2, 3, 2, 6, 6, 5, 6, 1, 2, 1, 1, 2, 2, 4, 2, 1, 1, 1, 1, 6, 3, 2, 3, 4, 6, 4, 3, 4, 1, 2, 6, 5, 1, 3, 4, 3, 3, 3, 4, 2, 6, 6, 5, 6, 3, 2, 2, 6, 3, 4, 6, 1, 5, 2, 6, 6, 5, 6, 4, 5, 1, 2, 4, 4, 2, 6, 3, 6, 3, 1, 4, 5, 5, 2, 3, 6, 3, 1, 2, 3, 2, 6, 6, 4, 5], \"Freq\": [0.9916964790522553, 0.9993963434985474, 0.9978817352532455, 0.9958440116582051, 0.9949001237287867, 0.9995942474641719, 0.9967883982460326, 0.9971940312614257, 0.9993453736117183, 0.9989247844689593, 0.9995700480101799, 0.9997441661030433, 0.09845420748626407, 0.9002794648518742, 0.9959351049281195, 0.9996049059412873, 0.9967666174099563, 0.9948814030157556, 0.9996898151757417, 0.9995565180513195, 0.9997108064538193, 0.9767622900478311, 0.021768927006879955, 0.0012619667830075336, 0.9995881522348035, 0.9931306062649503, 0.998469404921457, 0.9992410527923052, 0.9997069859676642, 0.9983771863071808, 0.9958232634550014, 0.998847286030861, 0.9890811357963648, 0.9982565599985666, 0.9983610424915191, 0.9991856077335278, 0.9944250659459619, 0.997078623656723, 0.998026453749267, 0.9980620704250922, 0.997813685495971, 0.9998900606702721, 0.9997274355251189, 0.9990492320500987, 0.9955939322737389, 0.9994802465363744, 0.1142902781265722, 0.885399787282588, 0.9993821115822965, 0.999431615255855, 0.9999725710515727, 0.9979059388771568, 0.9972622255540086, 0.9977310343146513, 0.9994059712145457, 0.9984855363396913, 0.9976485610147239, 0.9998343528950044, 0.9996424878364943, 0.9977307420454793, 0.9998093186951208, 0.9959861330781974, 0.026426834744006245, 0.371883761126846, 0.6016159563021782, 0.9965704777292984, 0.9998180552696243, 0.9989329491389035, 0.9997070000071205, 0.993179125262115, 0.9976679992221517, 0.9997681826686609, 0.9943894436330657, 0.8333779730315861, 0.1660082248581438, 0.9964681764136404, 0.003125684367671394, 0.9963985252189288, 0.0033282622971822257, 0.9998796794055365, 0.9992139389224366, 0.9988147226257331, 0.0011692663452557964, 0.9985534588484501, 0.9978911344400001, 0.0014225105266429082, 0.998909234927746, 0.9999025485368461, 0.9996458276732435, 0.99986828542153, 0.9995294268511765, 0.9962403514795397, 0.9936492282065529, 0.7932159692093715, 0.20667588792619446, 0.9982728478944194, 0.9945466207268667, 0.999829033248944, 0.9970429423718755, 0.6182937628718159, 0.3816721596185465, 0.9972065718946854, 0.9996362310567467, 0.982738667857005, 0.017176807661684043, 0.9992327368352816, 0.9999306877493258, 0.9994532346797004, 0.9966055793205062, 0.002801027485442682, 0.8544139517278234, 0.14524108131944516, 0.9931997849436975, 0.9995189598278867, 0.9995856985553425, 0.9965430615080618, 0.999810774189588, 0.02417970855573231, 0.9757061941068799, 0.9985194891484305, 0.9994211097947888, 0.9928122915428506, 0.9975681669077601, 0.9943599900740027, 0.6402207363513355, 0.35846900930887143, 0.0013650761969111632, 0.9994125082564194, 0.9993849563382587, 0.9997524779337167, 0.9969200971821871, 0.9930192705221144, 0.9992097177891656, 0.9997192473339922, 0.998085940281024, 0.9976571873337289, 0.9997781571097054, 0.36354831380015784, 0.6363568539775859, 0.9991754603339846, 0.9996508820026138, 0.9982621827071352, 0.99927154012719, 0.9991804763391182, 0.9996177510498931, 0.9995848765902846, 0.9994740034876499, 0.8065069295702701, 0.19298422996782724, 0.9954982168049323, 0.9941271367059363, 0.9953535296410121, 0.9944611056192003, 0.9997313929210826, 0.999211920719978, 0.9669803137434493, 0.03277138482046044, 0.9994842620685792, 0.999609867059268, 0.9998203456891924, 0.9958181391873793, 0.998805332493952, 0.9942041908908564, 0.9994044688603664, 0.9975002480029265, 0.994345868510017, 0.999769099526946, 0.9996117011848046, 0.9983479199022298, 0.9991675485170832, 0.996108906991214, 0.9963512298104735, 0.9957182913817313, 0.9941591860176071, 0.9999552570606585, 0.9998227916384571, 0.9982699639444286, 0.0016728445143601653, 0.9987145912441405, 0.9998995552716594, 0.9937095082149425, 0.999904069658281, 0.9949684926684421, 0.9933189546828666, 0.04888859756880202, 0.9505556187088723, 0.997638667510654, 0.9957183425034191, 0.999457678118967, 0.9970800046819832, 0.9994688677448779, 0.999834793659804, 0.999618136276744, 0.9961240915418468, 0.9747677957221121, 0.025144483122668412, 0.9989108206640247, 0.9944205554008497, 0.999594692399241, 0.9992828981150578, 0.9999587355463646, 0.15814969606162735, 0.8418578333036627, 0.9998139766670243, 0.9948553581005716, 0.998992101357072, 0.9973643801805662, 0.9974283837994498, 0.0011163152392605449, 0.9979858238989271, 0.9993829125642348, 0.9944452935235297, 0.99959639611687, 0.996218896457534, 0.9957562041345127, 0.9992820248163435, 0.9991759646648566, 0.9992389053281464, 0.9954678204470424, 0.9803011417074919, 0.019731971588973073, 0.9994544515103541, 0.00044758372212734174, 0.9991064356387421, 0.9980271533513289, 0.9918524468144573, 0.9988996563651213, 0.9952319075846281, 0.0804761235864269, 0.9193877439984417, 0.9996469101750655, 0.9992393885685974, 0.9930477597135281, 0.5947946362230773, 0.40506632897423633, 0.8628712851665791, 0.13701059139602006, 0.9997379030325534, 0.9987915115746621, 0.9982977199466591], \"Term\": [\"125\", \"2\", \"26\", \"34\", \"34b\", \"4\", \"55\", \"59\", \"6\", \"adorable\", \"also\", \"arm\", \"around\", \"around\", \"athletic\", \"back\", \"bad\", \"barely\", \"beautiful\", \"better\", \"big\", \"bit\", \"bit\", \"bit\", \"black\", \"bodice\", \"booty\", \"bottom\", \"bought\", \"bright\", \"build\", \"bust\", \"butt\", \"buying\", \"cheap\", \"chest\", \"chic\", \"classic\", \"closet\", \"coat\", \"cold\", \"color\", \"comfortable\", \"comfy\", \"consider\", \"cut\", \"cute\", \"cute\", \"design\", \"didnt\", \"dress\", \"dry\", \"elastic\", \"elegant\", \"enough\", \"ever\", \"everywhere\", \"fabric\", \"fall\", \"fantastic\", \"feel\", \"feeling\", \"fit\", \"fit\", \"fit\", \"flat\", \"flattering\", \"found\", \"front\", \"gave\", \"generally\", \"go\", \"gold\", \"good\", \"good\", \"gorgeous\", \"gorgeous\", \"got\", \"got\", \"great\", \"high\", \"hip\", \"hit\", \"hit\", \"however\", \"however\", \"huge\", \"im\", \"jean\", \"large\", \"lb\", \"le\", \"leather\", \"length\", \"length\", \"let\", \"life\", \"like\", \"lining\", \"little\", \"little\", \"local\", \"long\", \"look\", \"look\", \"looked\", \"love\", \"loved\", \"made\", \"made\", \"material\", \"material\", \"maxi\", \"medium\", \"model\", \"month\", \"much\", \"nice\", \"nice\", \"night\", \"normally\", \"noted\", \"occasion\", \"old\", \"one\", \"one\", \"one\", \"online\", \"order\", \"ordered\", \"ordering\", \"p\", \"pair\", \"pant\", \"party\", \"pas\", \"perfect\", \"perfectly\", \"perfectly\", \"person\", \"petite\", \"pic\", \"picture\", \"piece\", \"pretty\", \"print\", \"purchased\", \"quality\", \"quality\", \"quickly\", \"rayon\", \"reading\", \"real\", \"really\", \"regular\", \"retailer\", \"retailer\", \"review\", \"reviewer\", \"run\", \"sandal\", \"say\", \"scratchy\", \"see\", \"seems\", \"sent\", \"short\", \"shoulder\", \"shown\", \"side\", \"silhouette\", \"silk\", \"silky\", \"simply\", \"size\", \"skirt\", \"sleeve\", \"sleeve\", \"slit\", \"small\", \"snag\", \"soft\", \"sort\", \"stand\", \"store\", \"store\", \"strap\", \"stripe\", \"style\", \"subtle\", \"summer\", \"super\", \"sweater\", \"texture\", \"think\", \"think\", \"though\", \"thread\", \"tight\", \"time\", \"top\", \"tried\", \"tried\", \"true\", \"truly\", \"try\", \"tshirt\", \"typical\", \"usual\", \"usual\", \"usually\", \"vest\", \"waist\", \"waistband\", \"waisted\", \"wait\", \"wanted\", \"wash\", \"washing\", \"way\", \"way\", \"wear\", \"wear\", \"wearing\", \"weather\", \"website\", \"wedding\", \"weekend\", \"well\", \"well\", \"went\", \"white\", \"wool\", \"work\", \"work\", \"would\", \"would\", \"x\", \"yes\", \"youre\"]}, \"R\": 30, \"lambda.step\": 0.01, \"plot.opts\": {\"xlab\": \"PC1\", \"ylab\": \"PC2\"}, \"topic.order\": [1, 2, 3, 4, 5, 6]};\n",
       "\n",
       "function LDAvis_load_lib(url, callback){\n",
       "  var s = document.createElement('script');\n",
       "  s.src = url;\n",
       "  s.async = true;\n",
       "  s.onreadystatechange = s.onload = callback;\n",
       "  s.onerror = function(){console.warn(\"failed to load library \" + url);};\n",
       "  document.getElementsByTagName(\"head\")[0].appendChild(s);\n",
       "}\n",
       "\n",
       "if(typeof(LDAvis) !== \"undefined\"){\n",
       "   // already loaded: just create the visualization\n",
       "   !function(LDAvis){\n",
       "       new LDAvis(\"#\" + \"ldavis_el6641655342098568737545116\", ldavis_el6641655342098568737545116_data);\n",
       "   }(LDAvis);\n",
       "}else if(typeof define === \"function\" && define.amd){\n",
       "   // require.js is available: use it to load d3/LDAvis\n",
       "   require.config({paths: {d3: \"https://d3js.org/d3.v5\"}});\n",
       "   require([\"d3\"], function(d3){\n",
       "      window.d3 = d3;\n",
       "      LDAvis_load_lib(\"https://cdn.jsdelivr.net/gh/bmabey/pyLDAvis@3.3.1/pyLDAvis/js/ldavis.v3.0.0.js\", function(){\n",
       "        new LDAvis(\"#\" + \"ldavis_el6641655342098568737545116\", ldavis_el6641655342098568737545116_data);\n",
       "      });\n",
       "    });\n",
       "}else{\n",
       "    // require.js not available: dynamically load d3 & LDAvis\n",
       "    LDAvis_load_lib(\"https://d3js.org/d3.v5.js\", function(){\n",
       "         LDAvis_load_lib(\"https://cdn.jsdelivr.net/gh/bmabey/pyLDAvis@3.3.1/pyLDAvis/js/ldavis.v3.0.0.js\", function(){\n",
       "                 new LDAvis(\"#\" + \"ldavis_el6641655342098568737545116\", ldavis_el6641655342098568737545116_data);\n",
       "            })\n",
       "         });\n",
       "}\n",
       "</script>"
      ],
      "text/plain": [
       "<IPython.core.display.HTML object>"
      ]
     },
     "execution_count": 33,
     "metadata": {},
     "output_type": "execute_result"
    }
   ],
   "source": [
    "import pyLDAvis\n",
    "import pyLDAvis.gensim_models as gensimvis\n",
    "\n",
    "pyLDAvis.enable_notebook()\n",
    "\n",
    "# feed the LDA model into the pyLDAvis instance\n",
    "lda_viz = gensimvis.prepare(lda_model, bow_corpus, dictionary, sort_topics=False)\n",
    "\n",
    "pyLDAvis.display(lda_viz)"
   ]
  },
  {
   "cell_type": "code",
   "execution_count": null,
   "id": "spanish-essay",
   "metadata": {},
   "outputs": [],
   "source": []
  }
 ],
 "metadata": {
  "kernelspec": {
   "display_name": "Python 3",
   "language": "python",
   "name": "python3"
  },
  "language_info": {
   "codemirror_mode": {
    "name": "ipython",
    "version": 3
   },
   "file_extension": ".py",
   "mimetype": "text/x-python",
   "name": "python",
   "nbconvert_exporter": "python",
   "pygments_lexer": "ipython3",
   "version": "3.9.2"
  }
 },
 "nbformat": 4,
 "nbformat_minor": 5
}
