{
 "cells": [
  {
   "cell_type": "markdown",
   "id": "cooked-influence",
   "metadata": {},
   "source": [
    "# Week 13 Assignment: Topic Modeling\n",
    "\n",
    "**DATA110**  \n",
    "*Brian Roepke*  \n",
    "\n",
    "Using the same women's clothing dataset from Midterm #2, perform Topic Modeling using LDA using either packages: Gensim  or sklearn on the reviews text.  \n",
    "\n",
    "\n",
    "Given that there are 6 departments, you can use  6 topics.  Bonus if you apply coherence computations against multiple models for model selection, in order to determine the optimal number of topics.\n",
    "\n",
    "\n",
    "\n",
    "References:\n",
    "\n",
    "https://scikit-learn.org/stable/modules/generated/sklearn.decomposition.LatentDirichletAllocation.html\n",
    "https://radimrehurek.com/gensim/auto_examples/core/run_core_concepts.html#sphx-glr-auto-examples-core-run-core-concepts-py"
   ]
  },
  {
   "cell_type": "code",
   "execution_count": 1,
   "id": "textile-classification",
   "metadata": {},
   "outputs": [],
   "source": [
    "import numpy as np\n",
    "import pandas as pd\n",
    "import string\n",
    "import re\n",
    "import warnings\n",
    "warnings.filterwarnings('ignore')\n",
    "\n",
    "import gensim\n",
    "from gensim import corpora, models\n",
    "from gensim.models import CoherenceModel\n",
    "from gensim.models.nmf import Nmf\n",
    "from gensim.models.lsimodel import LsiModel\n",
    "from gensim.models.ldamodel import LdaModel\n",
    "\n",
    "import sklearn as sk\n",
    "from sklearn.model_selection import train_test_split\n",
    "from sklearn.feature_extraction.text import TfidfVectorizer\n",
    "from sklearn.cluster import KMeans\n",
    "from sklearn.metrics import silhouette_score\n",
    "\n",
    "# NLTK Imports and Downloads\n",
    "import nltk\n",
    "from nltk import word_tokenize\n",
    "from nltk.sentiment.util import *\n",
    "from nltk.stem import PorterStemmer\n",
    "from nltk.stem.wordnet import WordNetLemmatizer\n",
    "from nltk import FreqDist\n",
    "\n",
    "import seaborn as sns\n",
    "import matplotlib.pyplot as plt\n",
    "%matplotlib inline"
   ]
  },
  {
   "cell_type": "code",
   "execution_count": 2,
   "id": "alien-chancellor",
   "metadata": {},
   "outputs": [
    {
     "data": {
      "text/html": [
       "<div>\n",
       "<style scoped>\n",
       "    .dataframe tbody tr th:only-of-type {\n",
       "        vertical-align: middle;\n",
       "    }\n",
       "\n",
       "    .dataframe tbody tr th {\n",
       "        vertical-align: top;\n",
       "    }\n",
       "\n",
       "    .dataframe thead th {\n",
       "        text-align: right;\n",
       "    }\n",
       "</style>\n",
       "<table border=\"1\" class=\"dataframe\">\n",
       "  <thead>\n",
       "    <tr style=\"text-align: right;\">\n",
       "      <th></th>\n",
       "      <th>Age</th>\n",
       "      <th>Title</th>\n",
       "      <th>Review Text</th>\n",
       "      <th>Rating</th>\n",
       "      <th>Recommended IND</th>\n",
       "      <th>Positive Feedback Count</th>\n",
       "      <th>Department Name</th>\n",
       "      <th>Class Name</th>\n",
       "    </tr>\n",
       "  </thead>\n",
       "  <tbody>\n",
       "    <tr>\n",
       "      <th>0</th>\n",
       "      <td>33</td>\n",
       "      <td>NaN</td>\n",
       "      <td>Absolutely wonderful - silky and sexy and comf...</td>\n",
       "      <td>4</td>\n",
       "      <td>1</td>\n",
       "      <td>0</td>\n",
       "      <td>Intimate</td>\n",
       "      <td>Intimates</td>\n",
       "    </tr>\n",
       "    <tr>\n",
       "      <th>1</th>\n",
       "      <td>34</td>\n",
       "      <td>NaN</td>\n",
       "      <td>Love this dress!  it's sooo pretty.  i happene...</td>\n",
       "      <td>5</td>\n",
       "      <td>1</td>\n",
       "      <td>4</td>\n",
       "      <td>Dresses</td>\n",
       "      <td>Dresses</td>\n",
       "    </tr>\n",
       "    <tr>\n",
       "      <th>2</th>\n",
       "      <td>60</td>\n",
       "      <td>Some major design flaws</td>\n",
       "      <td>I had such high hopes for this dress and reall...</td>\n",
       "      <td>3</td>\n",
       "      <td>0</td>\n",
       "      <td>0</td>\n",
       "      <td>Dresses</td>\n",
       "      <td>Dresses</td>\n",
       "    </tr>\n",
       "    <tr>\n",
       "      <th>3</th>\n",
       "      <td>50</td>\n",
       "      <td>My favorite buy!</td>\n",
       "      <td>I love, love, love this jumpsuit. it's fun, fl...</td>\n",
       "      <td>5</td>\n",
       "      <td>1</td>\n",
       "      <td>0</td>\n",
       "      <td>Bottoms</td>\n",
       "      <td>Pants</td>\n",
       "    </tr>\n",
       "    <tr>\n",
       "      <th>4</th>\n",
       "      <td>47</td>\n",
       "      <td>Flattering shirt</td>\n",
       "      <td>This shirt is very flattering to all due to th...</td>\n",
       "      <td>5</td>\n",
       "      <td>1</td>\n",
       "      <td>6</td>\n",
       "      <td>Tops</td>\n",
       "      <td>Blouses</td>\n",
       "    </tr>\n",
       "  </tbody>\n",
       "</table>\n",
       "</div>"
      ],
      "text/plain": [
       "   Age                    Title  \\\n",
       "0   33                      NaN   \n",
       "1   34                      NaN   \n",
       "2   60  Some major design flaws   \n",
       "3   50         My favorite buy!   \n",
       "4   47         Flattering shirt   \n",
       "\n",
       "                                         Review Text  Rating  Recommended IND  \\\n",
       "0  Absolutely wonderful - silky and sexy and comf...       4                1   \n",
       "1  Love this dress!  it's sooo pretty.  i happene...       5                1   \n",
       "2  I had such high hopes for this dress and reall...       3                0   \n",
       "3  I love, love, love this jumpsuit. it's fun, fl...       5                1   \n",
       "4  This shirt is very flattering to all due to th...       5                1   \n",
       "\n",
       "   Positive Feedback Count Department Name Class Name  \n",
       "0                        0        Intimate  Intimates  \n",
       "1                        4         Dresses    Dresses  \n",
       "2                        0         Dresses    Dresses  \n",
       "3                        0         Bottoms      Pants  \n",
       "4                        6            Tops    Blouses  "
      ]
     },
     "execution_count": 2,
     "metadata": {},
     "output_type": "execute_result"
    }
   ],
   "source": [
    "df = pd.read_csv(\"ClothingReviews.csv\")\n",
    "df.head()"
   ]
  },
  {
   "cell_type": "code",
   "execution_count": 3,
   "id": "efficient-university",
   "metadata": {},
   "outputs": [],
   "source": [
    "df.dropna(subset=['Department Name', 'Class Name', 'Review Text'], inplace=True)"
   ]
  },
  {
   "cell_type": "code",
   "execution_count": 4,
   "id": "biblical-optimization",
   "metadata": {},
   "outputs": [],
   "source": [
    "# fill the NA values with 0\n",
    "df['Title'].fillna('', inplace=True)"
   ]
  },
  {
   "cell_type": "code",
   "execution_count": 5,
   "id": "competitive-point",
   "metadata": {},
   "outputs": [
    {
     "data": {
      "text/plain": [
       "Age                        0\n",
       "Title                      0\n",
       "Review Text                0\n",
       "Rating                     0\n",
       "Recommended IND            0\n",
       "Positive Feedback Count    0\n",
       "Department Name            0\n",
       "Class Name                 0\n",
       "dtype: int64"
      ]
     },
     "execution_count": 5,
     "metadata": {},
     "output_type": "execute_result"
    }
   ],
   "source": [
    "# count of nulls\n",
    "df.isnull().sum()"
   ]
  },
  {
   "cell_type": "code",
   "execution_count": 6,
   "id": "cultural-hygiene",
   "metadata": {},
   "outputs": [],
   "source": [
    "df['Text'] = df['Title'] + ' ' + df['Review Text']"
   ]
  },
  {
   "cell_type": "code",
   "execution_count": 7,
   "id": "comfortable-consortium",
   "metadata": {},
   "outputs": [],
   "source": [
    "df.drop(columns=['Title', 'Review Text'], inplace=True)"
   ]
  },
  {
   "cell_type": "code",
   "execution_count": 8,
   "id": "brave-interaction",
   "metadata": {},
   "outputs": [],
   "source": [
    "# Add column 'text_len' that counts the length for the derived field\n",
    "df['text_len'] = df.apply(lambda row: len(row['Text']), axis = 1)"
   ]
  },
  {
   "cell_type": "code",
   "execution_count": 9,
   "id": "human-compensation",
   "metadata": {},
   "outputs": [
    {
     "name": "stdout",
     "output_type": "stream",
     "text": [
      "Before = 22628\n",
      "After = 22626\n",
      "\n",
      "Total Removed = 2\n"
     ]
    }
   ],
   "source": [
    "len_before = df.shape[0]\n",
    "df.drop_duplicates(inplace=True)\n",
    "len_after = df.shape[0]\n",
    "\n",
    "print(\"Before =\", len_before)\n",
    "# drop duplicates\n",
    "print(\"After =\", len_after)\n",
    "print('')\n",
    "print(\"Total Removed =\", len_before - len_after)"
   ]
  },
  {
   "cell_type": "code",
   "execution_count": 10,
   "id": "anonymous-reggae",
   "metadata": {},
   "outputs": [
    {
     "data": {
      "text/plain": [
       "count    22626.000000\n",
       "mean        63.121321\n",
       "std         29.086751\n",
       "min          2.000000\n",
       "25%         39.000000\n",
       "50%         62.000000\n",
       "75%         92.000000\n",
       "max        121.000000\n",
       "Name: Text, dtype: float64"
      ]
     },
     "execution_count": 10,
     "metadata": {},
     "output_type": "execute_result"
    }
   ],
   "source": [
    "wordlen = df['Text'].str.split().map(lambda x: len(x))\n",
    "wordlen.describe()"
   ]
  },
  {
   "cell_type": "code",
   "execution_count": 11,
   "id": "sharp-professor",
   "metadata": {},
   "outputs": [
    {
     "data": {
      "text/plain": [
       "'Some major design flaws I had such high hopes for this dress and really wanted it to work for me. i initially ordered the petite small (my usual size) but i found this to be outrageously small. so small in fact that i could not zip it up! i reordered it in petite medium, which was just ok. overall, the top half was comfortable and fit nicely, but the bottom half had a very tight under layer and several somewhat cheap (net) over layers. imo, a major design flaw was the net over layer sewn directly into the zipper - it c'"
      ]
     },
     "execution_count": 11,
     "metadata": {},
     "output_type": "execute_result"
    }
   ],
   "source": [
    "df['Text'][2]"
   ]
  },
  {
   "cell_type": "code",
   "execution_count": 12,
   "id": "continuing-storm",
   "metadata": {},
   "outputs": [],
   "source": [
    "def process_string(text, stem=\"None\"):\n",
    "    \n",
    "    final_string = \"\"\n",
    "    \n",
    "    # Make lower\n",
    "    text = text.lower()\n",
    "    \n",
    "    translator = str.maketrans('', '', string.punctuation)\n",
    "    text = text.translate(translator)\n",
    "\n",
    "    text = text.split()\n",
    "    useless_words = nltk.corpus.stopwords.words(\"english\") + list(string.punctuation)\n",
    "    useless_words = useless_words + ['.', ',', '!', \"'\"]\n",
    "    \n",
    "    # Remove stop words\n",
    "    text_filtered = [word for word in text if not word in useless_words]\n",
    "    \n",
    "    # Remove numbers\n",
    "    text_filtered = [re.sub('\\w*\\d\\w*', '', w) for w in text_filtered]\n",
    "    \n",
    "    # Stem or Lemmatize\n",
    "    if stem == 'Stem':\n",
    "        stemmer = PorterStemmer() \n",
    "        text_stemmed = [stemmer.stem(y) for y in text_filtered]\n",
    "    elif stem == 'Lem':\n",
    "        lem = WordNetLemmatizer()\n",
    "        text_stemmed = [lem.lemmatize(y) for y in text_filtered]\n",
    "    else:\n",
    "        text_stemmed = text_filtered\n",
    "    \n",
    "    for word in text_stemmed:\n",
    "        final_string += word + \" \"\n",
    "    \n",
    "    return final_string"
   ]
  },
  {
   "cell_type": "code",
   "execution_count": 13,
   "id": "former-hindu",
   "metadata": {},
   "outputs": [],
   "source": [
    "df['Text_Processed'] = df['Text'].apply(lambda x: process_string(x, stem='Lem'))"
   ]
  },
  {
   "cell_type": "code",
   "execution_count": 14,
   "id": "absent-florida",
   "metadata": {},
   "outputs": [
    {
     "data": {
      "text/plain": [
       "'major design flaw high hope dress really wanted work initially ordered petite small usual size found outrageously small small fact could zip reordered petite medium ok overall top half comfortable fit nicely bottom half tight layer several somewhat cheap net layer imo major design flaw net layer sewn directly zipper c '"
      ]
     },
     "execution_count": 14,
     "metadata": {},
     "output_type": "execute_result"
    }
   ],
   "source": [
    "df['Text_Processed'][2]"
   ]
  },
  {
   "cell_type": "code",
   "execution_count": 15,
   "id": "british-marker",
   "metadata": {},
   "outputs": [
    {
     "data": {
      "text/plain": [
       "['absolutely wonderful silky sexy comfortable ',\n",
       " 'love dress sooo pretty happened find store im glad bc never would ordered online bc petite bought petite  love length hit little knee would definitely true midi someone truly petite ',\n",
       " 'major design flaw high hope dress really wanted work initially ordered petite small usual size found outrageously small small fact could zip reordered petite medium ok overall top half comfortable fit nicely bottom half tight layer several somewhat cheap net layer imo major design flaw net layer sewn directly zipper c ',\n",
       " 'favorite buy love love love jumpsuit fun flirty fabulous every time wear get nothing great compliment ',\n",
       " 'flattering shirt shirt flattering due adjustable front tie perfect length wear legging sleeveless pair well cardigan love shirt ']"
      ]
     },
     "execution_count": 15,
     "metadata": {},
     "output_type": "execute_result"
    }
   ],
   "source": [
    "clean_docs = df['Text_Processed'].to_list()\n",
    "\n",
    "# first 5 docs\n",
    "clean_docs[:5]"
   ]
  },
  {
   "cell_type": "code",
   "execution_count": 16,
   "id": "approved-yemen",
   "metadata": {},
   "outputs": [
    {
     "data": {
      "image/png": "[encoded data removed]",
      "text/plain": [
       "<Figure size 1080x360 with 1 Axes>"
      ]
     },
     "metadata": {
      "needs_background": "light"
     },
     "output_type": "display_data"
    }
   ],
   "source": [
    "texts = \"\".join(clean_docs)\n",
    "word_tokens = word_tokenize(texts)\n",
    "#fdist.most_common(50)\n",
    "\n",
    "plt.figure(figsize=(15, 5)) \n",
    "fdist = FreqDist(word_tokens)\n",
    "fdist.plot(50);"
   ]
  },
  {
   "cell_type": "markdown",
   "id": "complimentary-southwest",
   "metadata": {},
   "source": [
    "# Clustering\n",
    "The clustering method for topic identification calculates a similarity measure for each word to a given number of cluster centers after transforming each word into a numeric value via `TF-IDF` methods. The words are then assigned to their nearest clusters.  In clustering, each word is assigned to a single cluster."
   ]
  },
  {
   "cell_type": "markdown",
   "id": "located-fountain",
   "metadata": {},
   "source": [
    "## Determine the Optimal Number of Clusters\n",
    "\n",
    "To select the best number of clusters, we'll use the Elbow method.  Per [Wikipedia](https://en.wikipedia.org/wiki/Elbow_method_(clustering))\n",
    "\n",
    "> *In cluster analysis, the elbow method is a heuristic used in determining the number of clusters in a data set. The method consists of plotting the explained variation as a function of the number of clusters, and picking the elbow of the curve as the number of clusters to use. The same method can be used to choose the number of parameters in other data-driven models, such as the number of principal components to describe a data set.*\n",
    "\n",
    "[Tutorial: How to determine the optimal number of clusters for k-means clustering](https://blog.cambridgespark.com/how-to-determine-the-optimal-number-of-clusters-for-k-means-clustering-14f27070048f)"
   ]
  },
  {
   "cell_type": "code",
   "execution_count": 17,
   "id": "colonial-accounting",
   "metadata": {},
   "outputs": [
    {
     "data": {
      "text/plain": [
       "(22626, 17464)"
      ]
     },
     "execution_count": 17,
     "metadata": {},
     "output_type": "execute_result"
    }
   ],
   "source": [
    "#vectorization of features\n",
    "vectorizer = TfidfVectorizer()\n",
    "X = vectorizer.fit_transform(clean_docs)\n",
    "\n",
    "X.shape"
   ]
  },
  {
   "cell_type": "code",
   "execution_count": 18,
   "id": "aging-wireless",
   "metadata": {},
   "outputs": [],
   "source": [
    "Sum_of_squared_distances = []\n",
    "K = range(1,16)\n",
    "for k in K:\n",
    "    km = KMeans(n_clusters=k)\n",
    "    km = km.fit(X)\n",
    "    Sum_of_squared_distances.append(km.inertia_)"
   ]
  },
  {
   "cell_type": "code",
   "execution_count": 19,
   "id": "superior-yemen",
   "metadata": {},
   "outputs": [
    {
     "data": {
      "image/png": "[encoded data removed]",
      "text/plain": [
       "<Figure size 432x288 with 1 Axes>"
      ]
     },
     "metadata": {
      "needs_background": "light"
     },
     "output_type": "display_data"
    }
   ],
   "source": [
    "ax = sns.lineplot(x=K, y=Sum_of_squared_distances)\n",
    "ax.lines[0].set_linestyle(\"--\")\n",
    "plt.xlabel('k')\n",
    "plt.ylabel('Sum of Squared Distances')\n",
    "plt.title('Elbow Method For Optimal k')\n",
    "plt.show()"
   ]
  },
  {
   "cell_type": "markdown",
   "id": "exotic-level",
   "metadata": {},
   "source": [
    "**Conclusion:** Based on this method, the appropriate number of clusters is not totally clear. "
   ]
  },
  {
   "cell_type": "markdown",
   "id": "beneficial-authorization",
   "metadata": {},
   "source": [
    "## Silhouette Score\n",
    "\n",
    "The best value is `1`, and the worst value is `-1`. Values near `0` indicate overlapping clusters. Negative values generally indicate that a sample has been assigned to the wrong cluster, as a different cluster is more similar.\n",
    "\n",
    "https://scikit-learn.org/stable/modules/generated/sklearn.metrics.silhouette_score.html?highlight=silhouette_score#sklearn.metrics.silhouette_score"
   ]
  },
  {
   "cell_type": "code",
   "execution_count": 20,
   "id": "phantom-symposium",
   "metadata": {},
   "outputs": [
    {
     "data": {
      "text/plain": [
       "(22626, 17464)"
      ]
     },
     "execution_count": 20,
     "metadata": {},
     "output_type": "execute_result"
    }
   ],
   "source": [
    "X.shape"
   ]
  },
  {
   "cell_type": "code",
   "execution_count": 21,
   "id": "adjacent-geology",
   "metadata": {},
   "outputs": [
    {
     "name": "stdout",
     "output_type": "stream",
     "text": [
      "For n_clusters = 4 The average silhouette_score is: 0.005998668790287497\n",
      "For n_clusters = 5 The average silhouette_score is: 0.0078059482504735725\n",
      "For n_clusters = 6 The average silhouette_score is: 0.008306107776129817\n",
      "For n_clusters = 7 The average silhouette_score is: 0.009123274352224143\n",
      "For n_clusters = 8 The average silhouette_score is: 0.008214071775304503\n",
      "For n_clusters = 9 The average silhouette_score is: 0.008739443596400677\n"
     ]
    }
   ],
   "source": [
    "def get_silhouette_score(X, k):\n",
    "    for n_clusters in range(4, k):\n",
    "        clusterer = KMeans(n_clusters=n_clusters, random_state=42)\n",
    "        y = clusterer.fit_predict(X)\n",
    "\n",
    "        message = \"For n_clusters = {} The average silhouette_score is: {}\"\n",
    "        print(message.format(n_clusters, silhouette_score(X, y)))\n",
    "        \n",
    "get_silhouette_score(X, 10)     "
   ]
  },
  {
   "cell_type": "markdown",
   "id": "absolute-burns",
   "metadata": {},
   "source": [
    "**Conclusion:** All of the silhouette scores are close to `0`.  No negative values are suggesting that there are not overlapping clusters. However, there is not a stand-out number.  The highest scoring is `7` clusters, close to our `6` Department Names in the dataset."
   ]
  },
  {
   "cell_type": "markdown",
   "id": "patent-softball",
   "metadata": {},
   "source": [
    "## Clustering Model\n",
    "\n",
    "Based on the above analysis, there was not a clear winner for the total number of topics.  We know from our dataset that there were `6` product categories, and we can use that number for our model. "
   ]
  },
  {
   "cell_type": "code",
   "execution_count": 22,
   "id": "awful-apple",
   "metadata": {},
   "outputs": [
    {
     "name": "stdout",
     "output_type": "stream",
     "text": [
      "Top terms per cluster:\n"
     ]
    },
    {
     "data": {
      "text/html": [
       "<div>\n",
       "<style scoped>\n",
       "    .dataframe tbody tr th:only-of-type {\n",
       "        vertical-align: middle;\n",
       "    }\n",
       "\n",
       "    .dataframe tbody tr th {\n",
       "        vertical-align: top;\n",
       "    }\n",
       "\n",
       "    .dataframe thead th {\n",
       "        text-align: right;\n",
       "    }\n",
       "</style>\n",
       "<table border=\"1\" class=\"dataframe\">\n",
       "  <thead>\n",
       "    <tr style=\"text-align: right;\">\n",
       "      <th></th>\n",
       "      <th>Custer0</th>\n",
       "      <th>Custer1</th>\n",
       "      <th>Custer2</th>\n",
       "      <th>Custer3</th>\n",
       "      <th>Custer4</th>\n",
       "      <th>Custer5</th>\n",
       "    </tr>\n",
       "  </thead>\n",
       "  <tbody>\n",
       "    <tr>\n",
       "      <th>0</th>\n",
       "      <td>sweater</td>\n",
       "      <td>dress</td>\n",
       "      <td>small</td>\n",
       "      <td>jacket</td>\n",
       "      <td>jean</td>\n",
       "      <td>top</td>\n",
       "    </tr>\n",
       "    <tr>\n",
       "      <th>1</th>\n",
       "      <td>color</td>\n",
       "      <td>love</td>\n",
       "      <td>size</td>\n",
       "      <td>tee</td>\n",
       "      <td>pant</td>\n",
       "      <td>love</td>\n",
       "    </tr>\n",
       "    <tr>\n",
       "      <th>2</th>\n",
       "      <td>love</td>\n",
       "      <td>fit</td>\n",
       "      <td>run</td>\n",
       "      <td>love</td>\n",
       "      <td>great</td>\n",
       "      <td>great</td>\n",
       "    </tr>\n",
       "    <tr>\n",
       "      <th>3</th>\n",
       "      <td>like</td>\n",
       "      <td>beautiful</td>\n",
       "      <td>large</td>\n",
       "      <td>great</td>\n",
       "      <td>love</td>\n",
       "      <td>cute</td>\n",
       "    </tr>\n",
       "    <tr>\n",
       "      <th>4</th>\n",
       "      <td>fit</td>\n",
       "      <td>great</td>\n",
       "      <td>medium</td>\n",
       "      <td>color</td>\n",
       "      <td>fit</td>\n",
       "      <td>fit</td>\n",
       "    </tr>\n",
       "    <tr>\n",
       "      <th>5</th>\n",
       "      <td>look</td>\n",
       "      <td>size</td>\n",
       "      <td>fit</td>\n",
       "      <td>cute</td>\n",
       "      <td>comfortable</td>\n",
       "      <td>color</td>\n",
       "    </tr>\n",
       "    <tr>\n",
       "      <th>6</th>\n",
       "      <td>shirt</td>\n",
       "      <td>perfect</td>\n",
       "      <td>ordered</td>\n",
       "      <td>fit</td>\n",
       "      <td>perfect</td>\n",
       "      <td>look</td>\n",
       "    </tr>\n",
       "    <tr>\n",
       "      <th>7</th>\n",
       "      <td>fabric</td>\n",
       "      <td>wear</td>\n",
       "      <td>im</td>\n",
       "      <td>wear</td>\n",
       "      <td>pair</td>\n",
       "      <td>wear</td>\n",
       "    </tr>\n",
       "    <tr>\n",
       "      <th>8</th>\n",
       "      <td>beautiful</td>\n",
       "      <td>flattering</td>\n",
       "      <td>big</td>\n",
       "      <td>perfect</td>\n",
       "      <td>color</td>\n",
       "      <td>size</td>\n",
       "    </tr>\n",
       "    <tr>\n",
       "      <th>9</th>\n",
       "      <td>skirt</td>\n",
       "      <td>im</td>\n",
       "      <td>wear</td>\n",
       "      <td>soft</td>\n",
       "      <td>soft</td>\n",
       "      <td>like</td>\n",
       "    </tr>\n",
       "    <tr>\n",
       "      <th>10</th>\n",
       "      <td>soft</td>\n",
       "      <td>comfortable</td>\n",
       "      <td>would</td>\n",
       "      <td>look</td>\n",
       "      <td>wear</td>\n",
       "      <td>fabric</td>\n",
       "    </tr>\n",
       "    <tr>\n",
       "      <th>11</th>\n",
       "      <td>wear</td>\n",
       "      <td>like</td>\n",
       "      <td>usually</td>\n",
       "      <td>size</td>\n",
       "      <td>look</td>\n",
       "      <td>beautiful</td>\n",
       "    </tr>\n",
       "    <tr>\n",
       "      <th>12</th>\n",
       "      <td>im</td>\n",
       "      <td>look</td>\n",
       "      <td>cute</td>\n",
       "      <td>like</td>\n",
       "      <td>size</td>\n",
       "      <td>pretty</td>\n",
       "    </tr>\n",
       "    <tr>\n",
       "      <th>13</th>\n",
       "      <td>would</td>\n",
       "      <td>fabric</td>\n",
       "      <td>love</td>\n",
       "      <td>nice</td>\n",
       "      <td>super</td>\n",
       "      <td>flattering</td>\n",
       "    </tr>\n",
       "    <tr>\n",
       "      <th>14</th>\n",
       "      <td>cute</td>\n",
       "      <td>color</td>\n",
       "      <td>top</td>\n",
       "      <td>sleeve</td>\n",
       "      <td>legging</td>\n",
       "      <td>perfect</td>\n",
       "    </tr>\n",
       "  </tbody>\n",
       "</table>\n",
       "</div>"
      ],
      "text/plain": [
       "      Custer0      Custer1  Custer2  Custer3      Custer4     Custer5\n",
       "0     sweater        dress    small   jacket         jean         top\n",
       "1       color         love     size      tee         pant        love\n",
       "2        love          fit      run     love        great       great\n",
       "3        like    beautiful    large    great         love        cute\n",
       "4         fit        great   medium    color          fit         fit\n",
       "5        look         size      fit     cute  comfortable       color\n",
       "6       shirt      perfect  ordered      fit      perfect        look\n",
       "7      fabric         wear       im     wear         pair        wear\n",
       "8   beautiful   flattering      big  perfect        color        size\n",
       "9       skirt           im     wear     soft         soft        like\n",
       "10       soft  comfortable    would     look         wear      fabric\n",
       "11       wear         like  usually     size         look   beautiful\n",
       "12         im         look     cute     like         size      pretty\n",
       "13      would       fabric     love     nice        super  flattering\n",
       "14       cute        color      top   sleeve      legging     perfect"
      ]
     },
     "execution_count": 22,
     "metadata": {},
     "output_type": "execute_result"
    }
   ],
   "source": [
    "true_k = 6\n",
    "kmeans = KMeans(n_clusters=true_k, init='k-means++', max_iter=100, n_init=1, random_state=42)\n",
    "kmeans.fit(X)\n",
    "\n",
    "\n",
    "print(\"Top terms per cluster:\")\n",
    "order_centroids = kmeans.cluster_centers_.argsort()[:, ::-1]\n",
    "terms = vectorizer.get_feature_names()\n",
    "\n",
    "results_dict = {}\n",
    "\n",
    "\n",
    "for i in range(true_k):\n",
    "    terms_list = []\n",
    "    \n",
    "    for ind in order_centroids[i, :15]:  \n",
    "        terms_list.append(terms[ind])\n",
    "    \n",
    "    results_dict[f'Custer{i}'] = terms_list\n",
    "    \n",
    "df_clusters = pd.DataFrame.from_dict(results_dict)\n",
    "df_clusters"
   ]
  },
  {
   "cell_type": "markdown",
   "id": "lonely-detection",
   "metadata": {},
   "source": [
    "**Observations**:  \n",
    "- Cluster `0` contains the word skirt and could indicate the category as `bottoms`. \n",
    "- Cluster `1` first word is `dress`, which matches a department of the same name.\n",
    "- Cluster `2` does not have any words that directly match a department name.\n",
    "- Cluster `3` top word is `top`, which matches the department of the same name or possibly `intimates` based on the other words.\n",
    "- Cluster `4` contains the word shirt and `top`, which could match `tops` as well. \n",
    "- Cluster `5` has `sweater`, `pant`, and `jean` most matching the `bottoms` category."
   ]
  },
  {
   "cell_type": "code",
   "execution_count": 23,
   "id": "serial-neighbor",
   "metadata": {},
   "outputs": [],
   "source": [
    "# assign the data labels back to the dataframe\n",
    "df['clusters'] = kmeans.labels_"
   ]
  },
  {
   "cell_type": "code",
   "execution_count": 24,
   "id": "streaming-carry",
   "metadata": {},
   "outputs": [
    {
     "data": {
      "text/html": [
       "<div>\n",
       "<style scoped>\n",
       "    .dataframe tbody tr th:only-of-type {\n",
       "        vertical-align: middle;\n",
       "    }\n",
       "\n",
       "    .dataframe tbody tr th {\n",
       "        vertical-align: top;\n",
       "    }\n",
       "\n",
       "    .dataframe thead th {\n",
       "        text-align: right;\n",
       "    }\n",
       "</style>\n",
       "<table border=\"1\" class=\"dataframe\">\n",
       "  <thead>\n",
       "    <tr style=\"text-align: right;\">\n",
       "      <th></th>\n",
       "      <th>Age</th>\n",
       "      <th>Rating</th>\n",
       "      <th>Recommended IND</th>\n",
       "      <th>Positive Feedback Count</th>\n",
       "      <th>Department Name</th>\n",
       "      <th>Class Name</th>\n",
       "      <th>Text</th>\n",
       "      <th>text_len</th>\n",
       "      <th>Text_Processed</th>\n",
       "      <th>clusters</th>\n",
       "    </tr>\n",
       "  </thead>\n",
       "  <tbody>\n",
       "    <tr>\n",
       "      <th>17342</th>\n",
       "      <td>37</td>\n",
       "      <td>3</td>\n",
       "      <td>0</td>\n",
       "      <td>4</td>\n",
       "      <td>Bottoms</td>\n",
       "      <td>Pants</td>\n",
       "      <td>Ick I look like a stuffed sausage in these pan...</td>\n",
       "      <td>228</td>\n",
       "      <td>ick look like stuffed sausage pant even went s...</td>\n",
       "      <td>0</td>\n",
       "    </tr>\n",
       "    <tr>\n",
       "      <th>10222</th>\n",
       "      <td>65</td>\n",
       "      <td>4</td>\n",
       "      <td>1</td>\n",
       "      <td>5</td>\n",
       "      <td>Tops</td>\n",
       "      <td>Knits</td>\n",
       "      <td>It does snag easily which stinks because it's...</td>\n",
       "      <td>123</td>\n",
       "      <td>snag easily stink darling love piece hope does...</td>\n",
       "      <td>0</td>\n",
       "    </tr>\n",
       "    <tr>\n",
       "      <th>12990</th>\n",
       "      <td>43</td>\n",
       "      <td>1</td>\n",
       "      <td>0</td>\n",
       "      <td>0</td>\n",
       "      <td>Intimate</td>\n",
       "      <td>Lounge</td>\n",
       "      <td>Runs way too big I really wanted to love this ...</td>\n",
       "      <td>130</td>\n",
       "      <td>run way big really wanted love piece large im ...</td>\n",
       "      <td>2</td>\n",
       "    </tr>\n",
       "    <tr>\n",
       "      <th>17026</th>\n",
       "      <td>45</td>\n",
       "      <td>3</td>\n",
       "      <td>1</td>\n",
       "      <td>1</td>\n",
       "      <td>Tops</td>\n",
       "      <td>Blouses</td>\n",
       "      <td>Almost ,but not quite... I really wanted to lo...</td>\n",
       "      <td>525</td>\n",
       "      <td>almost quite really wanted love top got much f...</td>\n",
       "      <td>5</td>\n",
       "    </tr>\n",
       "    <tr>\n",
       "      <th>12222</th>\n",
       "      <td>42</td>\n",
       "      <td>3</td>\n",
       "      <td>0</td>\n",
       "      <td>3</td>\n",
       "      <td>Tops</td>\n",
       "      <td>Sweaters</td>\n",
       "      <td>Unflattering cut Love the warm fuzzies of this...</td>\n",
       "      <td>211</td>\n",
       "      <td>unflattering cut love warm fuzzies sweater lov...</td>\n",
       "      <td>0</td>\n",
       "    </tr>\n",
       "    <tr>\n",
       "      <th>19477</th>\n",
       "      <td>77</td>\n",
       "      <td>3</td>\n",
       "      <td>0</td>\n",
       "      <td>1</td>\n",
       "      <td>Dresses</td>\n",
       "      <td>Dresses</td>\n",
       "      <td>Beware I just got this dress in the mail and t...</td>\n",
       "      <td>507</td>\n",
       "      <td>beware got dress mail tried loved fit perfect ...</td>\n",
       "      <td>1</td>\n",
       "    </tr>\n",
       "    <tr>\n",
       "      <th>17368</th>\n",
       "      <td>65</td>\n",
       "      <td>5</td>\n",
       "      <td>1</td>\n",
       "      <td>2</td>\n",
       "      <td>Bottoms</td>\n",
       "      <td>Pants</td>\n",
       "      <td>Love these pants Love these pants . very flatt...</td>\n",
       "      <td>346</td>\n",
       "      <td>love pant love pant flattering comfortable coo...</td>\n",
       "      <td>4</td>\n",
       "    </tr>\n",
       "    <tr>\n",
       "      <th>20026</th>\n",
       "      <td>25</td>\n",
       "      <td>5</td>\n",
       "      <td>1</td>\n",
       "      <td>0</td>\n",
       "      <td>Bottoms</td>\n",
       "      <td>Skirts</td>\n",
       "      <td>Classic and feminine I bought this skirt in th...</td>\n",
       "      <td>525</td>\n",
       "      <td>classic feminine bought skirt store month ago ...</td>\n",
       "      <td>2</td>\n",
       "    </tr>\n",
       "    <tr>\n",
       "      <th>1281</th>\n",
       "      <td>50</td>\n",
       "      <td>5</td>\n",
       "      <td>1</td>\n",
       "      <td>1</td>\n",
       "      <td>Tops</td>\n",
       "      <td>Knits</td>\n",
       "      <td>Super cute Love this top. bought it in both co...</td>\n",
       "      <td>378</td>\n",
       "      <td>super cute love top bought color way adorable ...</td>\n",
       "      <td>0</td>\n",
       "    </tr>\n",
       "    <tr>\n",
       "      <th>8546</th>\n",
       "      <td>57</td>\n",
       "      <td>4</td>\n",
       "      <td>1</td>\n",
       "      <td>0</td>\n",
       "      <td>Tops</td>\n",
       "      <td>Sweaters</td>\n",
       "      <td>Seemed more like a jacket to me Nice sweater. ...</td>\n",
       "      <td>534</td>\n",
       "      <td>seemed like jacket nice sweater love detail fr...</td>\n",
       "      <td>3</td>\n",
       "    </tr>\n",
       "  </tbody>\n",
       "</table>\n",
       "</div>"
      ],
      "text/plain": [
       "       Age  Rating  Recommended IND  Positive Feedback Count Department Name  \\\n",
       "17342   37       3                0                        4         Bottoms   \n",
       "10222   65       4                1                        5            Tops   \n",
       "12990   43       1                0                        0        Intimate   \n",
       "17026   45       3                1                        1            Tops   \n",
       "12222   42       3                0                        3            Tops   \n",
       "19477   77       3                0                        1         Dresses   \n",
       "17368   65       5                1                        2         Bottoms   \n",
       "20026   25       5                1                        0         Bottoms   \n",
       "1281    50       5                1                        1            Tops   \n",
       "8546    57       4                1                        0            Tops   \n",
       "\n",
       "      Class Name                                               Text  text_len  \\\n",
       "17342      Pants  Ick I look like a stuffed sausage in these pan...       228   \n",
       "10222      Knits   It does snag easily which stinks because it's...       123   \n",
       "12990     Lounge  Runs way too big I really wanted to love this ...       130   \n",
       "17026    Blouses  Almost ,but not quite... I really wanted to lo...       525   \n",
       "12222   Sweaters  Unflattering cut Love the warm fuzzies of this...       211   \n",
       "19477    Dresses  Beware I just got this dress in the mail and t...       507   \n",
       "17368      Pants  Love these pants Love these pants . very flatt...       346   \n",
       "20026     Skirts  Classic and feminine I bought this skirt in th...       525   \n",
       "1281       Knits  Super cute Love this top. bought it in both co...       378   \n",
       "8546    Sweaters  Seemed more like a jacket to me Nice sweater. ...       534   \n",
       "\n",
       "                                          Text_Processed  clusters  \n",
       "17342  ick look like stuffed sausage pant even went s...         0  \n",
       "10222  snag easily stink darling love piece hope does...         0  \n",
       "12990  run way big really wanted love piece large im ...         2  \n",
       "17026  almost quite really wanted love top got much f...         5  \n",
       "12222  unflattering cut love warm fuzzies sweater lov...         0  \n",
       "19477  beware got dress mail tried loved fit perfect ...         1  \n",
       "17368  love pant love pant flattering comfortable coo...         4  \n",
       "20026  classic feminine bought skirt store month ago ...         2  \n",
       "1281   super cute love top bought color way adorable ...         0  \n",
       "8546   seemed like jacket nice sweater love detail fr...         3  "
      ]
     },
     "execution_count": 24,
     "metadata": {},
     "output_type": "execute_result"
    }
   ],
   "source": [
    "df.sample(10, random_state=121)"
   ]
  },
  {
   "cell_type": "code",
   "execution_count": 25,
   "id": "cellular-divide",
   "metadata": {},
   "outputs": [
    {
     "name": "stdout",
     "output_type": "stream",
     "text": [
      "[1 0 5 0 0]\n"
     ]
    }
   ],
   "source": [
    "new_docs = ['This dress is gorgeous and I love it and would gladly reccomend it to all of my friends.',\n",
    "            'This skirt has really horible quality and I hate it!',\n",
    "            'A super cute top with the perfect fit.',\n",
    "            'The most gorgeous pair of jeans I have seen.',\n",
    "            'this item is too little and tight.']\n",
    "\n",
    "pred = kmeans.predict(vectorizer.transform(new_docs))\n",
    "print(pred)"
   ]
  },
  {
   "cell_type": "markdown",
   "id": "vanilla-gamma",
   "metadata": {},
   "source": [
    "**Results**:\n",
    "\n",
    " - Based on the clusters assigned, there is no clear mapping between cluster labels and the `Department Name` field.  \n",
    " - In many cases, there are different labels for the same department.  `Bottoms`, `Dresses` and `Tops` are all showing different labels.\n",
    " - When applying new, unseen text to the model via the `predict` method, a cluster was easily assigned but unclear how accurate they are.  The first one seems to map to `Dresses` above. However, three of them show up in cluster `0`, but all are different categories. \n",
    " \n",
    "This method is fast to run but unclear how good the results are on this dataset.  \n",
    "\n",
    "**Next** we will try Topic Modeling with GenSim."
   ]
  },
  {
   "cell_type": "markdown",
   "id": "offensive-lyric",
   "metadata": {},
   "source": [
    "# Topic Modeling with Gensim\n",
    "\n",
    "Topic modeling looks at each work and defines a probability of that word occurring in a given number of topics.  For each word, the topic with the highest probability gets assigned to that word.  A word can appear in multiple topics depending on its probability across each topic."
   ]
  },
  {
   "cell_type": "markdown",
   "id": "descending-inspiration",
   "metadata": {},
   "source": [
    "## Corpus Creation\n",
    "\n",
    "The method we will use for this is the Bag of Words method, where words are assigned, simple frequency counts. To do this, we need to tokenize each review into a list of individual words and then create a dictionary with `Gensim` from that corpus."
   ]
  },
  {
   "cell_type": "code",
   "execution_count": 26,
   "id": "motivated-nepal",
   "metadata": {},
   "outputs": [
    {
     "data": {
      "text/plain": [
       "['absolutely wonderful silky sexy comfortable ']"
      ]
     },
     "execution_count": 26,
     "metadata": {},
     "output_type": "execute_result"
    }
   ],
   "source": [
    "clean_docs[:1]"
   ]
  },
  {
   "cell_type": "code",
   "execution_count": 27,
   "id": "constitutional-madrid",
   "metadata": {},
   "outputs": [],
   "source": [
    "tokenized_docs = [word_tokenize(word) for word in clean_docs]"
   ]
  },
  {
   "cell_type": "code",
   "execution_count": 28,
   "id": "oriented-bridal",
   "metadata": {},
   "outputs": [
    {
     "data": {
      "text/plain": [
       "[['absolutely', 'wonderful', 'silky', 'sexy', 'comfortable']]"
      ]
     },
     "execution_count": 28,
     "metadata": {},
     "output_type": "execute_result"
    }
   ],
   "source": [
    "tokenized_docs[:1]"
   ]
  },
  {
   "cell_type": "code",
   "execution_count": 29,
   "id": "floppy-strand",
   "metadata": {},
   "outputs": [
    {
     "name": "stdout",
     "output_type": "stream",
     "text": [
      "Dictionary(17486 unique tokens: ['absolutely', 'comfortable', 'sexy', 'silky', 'wonderful']...)\n"
     ]
    }
   ],
   "source": [
    "# create a dictionary from the corpus\n",
    "dictionary = gensim.corpora.Dictionary(tokenized_docs)\n",
    "print(dictionary)"
   ]
  },
  {
   "cell_type": "code",
   "execution_count": 30,
   "id": "excess-bleeding",
   "metadata": {},
   "outputs": [
    {
     "name": "stdout",
     "output_type": "stream",
     "text": [
      "[(0, 1), (1, 1), (2, 1), (3, 1), (4, 1)]\n"
     ]
    }
   ],
   "source": [
    "# Term Document Frequency \n",
    "# convert our entire corpus to a list of vectors:\n",
    "bow_corpus = [dictionary.doc2bow(doc) for doc in tokenized_docs]\n",
    "\n",
    "# View the first doc\n",
    "print(bow_corpus[0])"
   ]
  },
  {
   "cell_type": "code",
   "execution_count": 31,
   "id": "covered-catering",
   "metadata": {},
   "outputs": [
    {
     "name": "stdout",
     "output_type": "stream",
     "text": [
      "Word 5 (bc) appears 2 times\n",
      "Word 6 (bought) appears 1 times\n",
      "Word 7 (definitely) appears 1 times\n",
      "Word 8 (dress) appears 1 times\n",
      "Word 9 (find) appears 1 times\n",
      "Word 10 (glad) appears 1 times\n",
      "Word 11 (happened) appears 1 times\n",
      "Word 12 (hit) appears 1 times\n",
      "Word 13 (im) appears 1 times\n",
      "Word 14 (knee) appears 1 times\n",
      "Word 15 (length) appears 1 times\n",
      "Word 16 (little) appears 1 times\n",
      "Word 17 (love) appears 2 times\n",
      "Word 18 (midi) appears 1 times\n",
      "Word 19 (never) appears 1 times\n",
      "Word 20 (online) appears 1 times\n",
      "Word 21 (ordered) appears 1 times\n",
      "Word 22 (petite) appears 3 times\n",
      "Word 23 (pretty) appears 1 times\n",
      "Word 24 (someone) appears 1 times\n",
      "Word 25 (sooo) appears 1 times\n",
      "Word 26 (store) appears 1 times\n",
      "Word 27 (true) appears 1 times\n",
      "Word 28 (truly) appears 1 times\n",
      "Word 29 (would) appears 2 times\n"
     ]
    }
   ],
   "source": [
    "doc = bow_corpus[1]\n",
    "for i in range(len(doc)):\n",
    "    print (f\"Word {doc[i][0]} ({dictionary[doc[i][0]]}) appears {doc[i][1]} times\")"
   ]
  },
  {
   "cell_type": "markdown",
   "id": "changed-lighting",
   "metadata": {},
   "source": [
    "## Topic Modeling\n",
    "\n",
    "Before building our final models, we can do a quick demonstration of how this works using `LDA`.  We will start by using `6` topics, which is the number of departments. "
   ]
  },
  {
   "cell_type": "code",
   "execution_count": 32,
   "id": "surprised-single",
   "metadata": {},
   "outputs": [],
   "source": [
    "NUM_TOPICS = 6"
   ]
  },
  {
   "cell_type": "code",
   "execution_count": 33,
   "id": "demanding-individual",
   "metadata": {},
   "outputs": [],
   "source": [
    "# Build LDA model\n",
    "lda_model = LdaModel(corpus=bow_corpus, id2word=dictionary, num_topics=NUM_TOPICS, random_state=42)"
   ]
  },
  {
   "cell_type": "code",
   "execution_count": 34,
   "id": "danish-keeping",
   "metadata": {},
   "outputs": [
    {
     "name": "stdout",
     "output_type": "stream",
     "text": [
      "(0, '0.038*\"dress\" + 0.018*\"look\" + 0.017*\"like\" + 0.014*\"fit\" + 0.014*\"fabric\" + 0.011*\"waist\" + 0.011*\"top\" + 0.010*\"im\" + 0.010*\"would\" + 0.009*\"back\"')\n",
      "(1, '0.033*\"size\" + 0.032*\"run\" + 0.030*\"small\" + 0.024*\"large\" + 0.024*\"petite\" + 0.023*\"ordered\" + 0.022*\"big\" + 0.015*\"would\" + 0.015*\"im\" + 0.013*\"dress\"')\n",
      "(2, '0.036*\"love\" + 0.030*\"great\" + 0.020*\"fit\" + 0.018*\"jean\" + 0.018*\"perfect\" + 0.016*\"wear\" + 0.015*\"pant\" + 0.015*\"comfortable\" + 0.015*\"dress\" + 0.012*\"soft\"')\n",
      "(3, '0.037*\"size\" + 0.026*\"fit\" + 0.015*\"small\" + 0.012*\"top\" + 0.012*\"im\" + 0.011*\"love\" + 0.011*\"color\" + 0.010*\"wear\" + 0.010*\"like\" + 0.010*\"dress\"')\n",
      "(4, '0.026*\"dress\" + 0.023*\"color\" + 0.022*\"love\" + 0.012*\"sweater\" + 0.012*\"beautiful\" + 0.010*\"top\" + 0.010*\"great\" + 0.010*\"wear\" + 0.008*\"perfect\" + 0.008*\"one\"')\n",
      "(5, '0.037*\"top\" + 0.016*\"like\" + 0.014*\"material\" + 0.013*\"cute\" + 0.012*\"shirt\" + 0.011*\"price\" + 0.010*\"thin\" + 0.010*\"im\" + 0.009*\"fabric\" + 0.009*\"really\"')\n"
     ]
    }
   ],
   "source": [
    "# View the topics in LDA model\n",
    "topics = lda_model.print_topics()\n",
    "for topic in topics:\n",
    "    print(topic)"
   ]
  },
  {
   "cell_type": "code",
   "execution_count": 35,
   "id": "english-pottery",
   "metadata": {},
   "outputs": [
    {
     "name": "stdout",
     "output_type": "stream",
     "text": [
      "[(8, 1), (17, 1), (29, 1), (128, 1), (3278, 1), (6388, 1)]\n",
      "[(0, 0.58058965), (1, 0.024078632), (2, 0.3229333), (3, 0.02414058), (4, 0.024261065), (5, 0.023996755)]\n"
     ]
    }
   ],
   "source": [
    "new_doc = 'This dress is gorgeous and I love it and would gladly reccomend it to all of my friends.'\n",
    "new_doc = process_string(new_doc)\n",
    "new_doc = word_tokenize(new_doc)\n",
    "new_doc_bow = dictionary.doc2bow(new_doc)\n",
    "\n",
    "print(new_doc_bow)\n",
    "print(lda_model.get_document_topics(new_doc_bow))"
   ]
  },
  {
   "cell_type": "markdown",
   "id": "eligible-performer",
   "metadata": {},
   "source": [
    "**Notes**:\n",
    "\n",
    " - The numbers returned by `print_topics` are the word **probabilities** for the topic they are assigned to.  \n",
    " The numbers in the second example from `get_document_topics` display each topic's probability for the new text (`new_doc`) provided.  We can see that topics `0` and `1` have a probability around `23-29%`.  Topic `4` has the largest probability at `40%`, and topics `2`, `3`, and `5` have about a `2.5%` probability. "
   ]
  },
  {
   "cell_type": "markdown",
   "id": "sound-belly",
   "metadata": {},
   "source": [
    "## Model Selection\n",
    "Model perplexity and topic coherence provide a convenient measure to judge how good a given topic model is. Three different models will be evaluated:\n",
    "\n",
    "1. **Latent Dirichlet allocation**: A generative statistical model that allows sets of observations to be explained by unobserved groups that explain why some parts of the data are similar. For example, suppose observations are words collected into documents. In that case, it posits that each document is a mixture of a small number of topics and that each word's presence is attributable to one of the document's topics [1].\n",
    "2. **Latent semantic analysis**:  A technique in natural language processing, in particular distributional semantics, of analyzing relationships between a set of documents and the terms they contain by producing a set of concepts related to the documents and terms. LSA assumes that words that are close in meaning will occur in similar pieces of text (the distributional hypothesis) [2].\n",
    "3. **Non-negative matrix factorization**: A group of algorithms in multivariate analysis.  NMF has an inherent clustering property, i.e., it automatically clusters the columns of input data [3].\n",
    "\n",
    "**Evaluation**:  \n",
    "The primary measure for evaluation is Coherence. This measure scores a topic by measuring the similarity between high-scoring words. \n",
    "\n",
    "**References:**\n",
    " 1. https://en.wikipedia.org/wiki/Latent_Dirichlet_allocation\n",
    " 1. https://en.wikipedia.org/wiki/Latent_semantic_analysis\n",
    " 1. https://en.wikipedia.org/wiki/Non-negative_matrix_factorization\n",
    " 1. https://radimrehurek.com/gensim/models/coherencemodel.html\n",
    " 1. https://datascienceplus.com/evaluation-of-topic-modeling-topic-coherence/"
   ]
  },
  {
   "cell_type": "code",
   "execution_count": 36,
   "id": "convinced-subdivision",
   "metadata": {},
   "outputs": [],
   "source": [
    "def model_scoring (model, corpus, text, dictionary, perplex=False):\n",
    "\n",
    "    # Compute Perplexity\n",
    "    # a measure of how good the model is. lower the better.\n",
    "    if perplex:\n",
    "        print('Perplexity: ', model.log_perplexity(corpus))  \n",
    "\n",
    "    # Compute Coherence Score\n",
    "    coherence_model = CoherenceModel(model=model, \n",
    "                                         texts=text, \n",
    "                                         dictionary=dictionary, \n",
    "                                         coherence='c_v')\n",
    "    \n",
    "    coherence_lda = coherence_model.get_coherence()\n",
    "    print('Coherence Score: ', coherence_lda)"
   ]
  },
  {
   "cell_type": "code",
   "execution_count": 37,
   "id": "arranged-iceland",
   "metadata": {},
   "outputs": [
    {
     "name": "stdout",
     "output_type": "stream",
     "text": [
      "Coherence Score:  0.3589867719038695\n"
     ]
    }
   ],
   "source": [
    "lda_model = LdaModel(corpus=bow_corpus, id2word=dictionary, num_topics=NUM_TOPICS, random_state=42)\n",
    "\n",
    "model_scoring(lda_model, bow_corpus, tokenized_docs, dictionary)"
   ]
  },
  {
   "cell_type": "code",
   "execution_count": 38,
   "id": "massive-thomas",
   "metadata": {},
   "outputs": [
    {
     "name": "stdout",
     "output_type": "stream",
     "text": [
      "Coherence Score:  0.3589218428764887\n"
     ]
    }
   ],
   "source": [
    "lsi_model = LsiModel(corpus=bow_corpus, num_topics=NUM_TOPICS, id2word=dictionary)\n",
    "\n",
    "model_scoring(lsi_model, bow_corpus, tokenized_docs, dictionary)"
   ]
  },
  {
   "cell_type": "code",
   "execution_count": 39,
   "id": "protected-graduation",
   "metadata": {},
   "outputs": [
    {
     "name": "stdout",
     "output_type": "stream",
     "text": [
      "Coherence Score:  0.37070116662968905\n"
     ]
    }
   ],
   "source": [
    "nmf_model = Nmf(corpus=bow_corpus, num_topics=NUM_TOPICS, id2word=dictionary, random_state=42)\n",
    "\n",
    "model_scoring(nmf_model, bow_corpus, tokenized_docs, dictionary)"
   ]
  },
  {
   "cell_type": "markdown",
   "id": "immediate-sweden",
   "metadata": {},
   "source": [
    "**Results**:  Based on the above, each of the models perform approximately the same with the `NMF` model slightly on top.  We will continue with the `LDA` model however, specifically for the final visualization where the other models aren't supported."
   ]
  },
  {
   "cell_type": "markdown",
   "id": "breeding-spare",
   "metadata": {},
   "source": [
    "## Find the Best Number of Topics\n",
    "\n",
    "We utilize the `c_v` coherence value, loop through a range of topic numbers to find the number with the highest value.  We'll plot this as well to visualize the results."
   ]
  },
  {
   "cell_type": "code",
   "execution_count": 40,
   "id": "accessory-halloween",
   "metadata": {},
   "outputs": [],
   "source": [
    "def compute_coherence_values(dictionary, corpus, texts, cohere, limit, start=2, step=3):\n",
    "    \"\"\"\n",
    "    Compute c_v coherence for various number of topics\n",
    "\n",
    "    Parameters:\n",
    "    ----------\n",
    "    dictionary : Gensim dictionary\n",
    "    corpus : Gensim corpus\n",
    "    texts : List of input texts\n",
    "    limit : Max num of topics\n",
    "\n",
    "    Returns:\n",
    "    -------\n",
    "    model_list : List of LDA topic models\n",
    "    coherence_values : Coherence values corresponding to the LDA model with respective number of topics\n",
    "    \"\"\"\n",
    "    coherence_values = []\n",
    "    model_list = []\n",
    "    for num_topics in range(start, limit, step):\n",
    "        model = LdaModel(corpus=corpus, id2word=dictionary, num_topics=num_topics, random_state=42)\n",
    "        model_list.append(model)\n",
    "        coherencemodel = CoherenceModel(model=model, texts=texts, dictionary=dictionary, coherence=cohere)\n",
    "        coherence_values.append(coherencemodel.get_coherence())\n",
    "\n",
    "    return model_list, coherence_values"
   ]
  },
  {
   "cell_type": "code",
   "execution_count": 41,
   "id": "modern-plane",
   "metadata": {},
   "outputs": [],
   "source": [
    "model_list, coherence_values = compute_coherence_values(dictionary=dictionary, \n",
    "                                                        corpus=bow_corpus, \n",
    "                                                        texts=tokenized_docs, \n",
    "                                                        cohere='c_v', \n",
    "                                                        start=2, \n",
    "                                                        limit=20, \n",
    "                                                        step=1)"
   ]
  },
  {
   "cell_type": "code",
   "execution_count": 42,
   "id": "jewish-watson",
   "metadata": {},
   "outputs": [
    {
     "data": {
      "image/png": "[encoded data removed]",
      "text/plain": [
       "<Figure size 432x288 with 1 Axes>"
      ]
     },
     "metadata": {
      "needs_background": "light"
     },
     "output_type": "display_data"
    }
   ],
   "source": [
    "# Show graph\n",
    "limit=20; start=2; step=1;\n",
    "x = range(start, limit, step)\n",
    "plt.plot(x, coherence_values)\n",
    "plt.xlabel(\"Num Topics\")\n",
    "plt.ylabel(\"Coherence score\")\n",
    "plt.legend((\"c_v\"), loc='best')\n",
    "plt.show()"
   ]
  },
  {
   "cell_type": "markdown",
   "id": "systematic-tribe",
   "metadata": {},
   "source": [
    "**Conclusion**:  \n",
    "\n",
    " - **Best Model**:  The best performing model with default parameters was the **Latent Dirichlet Allocation** method.  \n",
    " - **Best Number of Topics**: According to the Coherence measure, there are several potential topic candidates.  There appears to be one at `11` and `13`.\n",
    " \n",
    "**Note:** We know from the dataset, there are `6` product categories. There isn't a correct answer with the number of topics; therefore, we can use `6` or `11`.  When you have many topics, you risk words appearing in more than one resulting in overlapping topics."
   ]
  },
  {
   "cell_type": "markdown",
   "id": "eleven-accent",
   "metadata": {},
   "source": [
    "## Topic Visualization\n",
    "\n",
    "Based on the above coherence score, we will try to run the visualization with `6` topics and adapt the number from there based on the visualization results.\n",
    "\n",
    "https://towardsdatascience.com/evaluate-topic-model-in-python-latent-dirichlet-allocation-lda-7d57484bb5d0"
   ]
  },
  {
   "cell_type": "code",
   "execution_count": 43,
   "id": "general-speaker",
   "metadata": {},
   "outputs": [],
   "source": [
    "NUM_TOPICS = 6"
   ]
  },
  {
   "cell_type": "code",
   "execution_count": 44,
   "id": "specified-bonus",
   "metadata": {},
   "outputs": [],
   "source": [
    "# Build LDA model\n",
    "model = LdaModel(corpus=bow_corpus, id2word=dictionary, num_topics=NUM_TOPICS, random_state=42)"
   ]
  },
  {
   "cell_type": "code",
   "execution_count": 45,
   "id": "directed-construction",
   "metadata": {},
   "outputs": [
    {
     "data": {
      "text/html": [
       "\n",
       "<link rel=\"stylesheet\" type=\"text/css\" href=\"https://cdn.jsdelivr.net/gh/bmabey/pyLDAvis@3.3.1/pyLDAvis/js/ldavis.v1.0.0.css\">\n",
       "\n",
       "\n",
       "<div id=\"ldavis_el9037753659319208802261481\"></div>\n",
       "<script type=\"text/javascript\">\n",
       "\n",
       "var ldavis_el9037753659319208802261481_data = {\"mdsDat\": {\"x\": [-0.03138433622238086, -0.17146820517877392, 0.14092963567953998, -0.00247589110499589, 0.10101455375020395, -0.03661575692359336], \"y\": [-0.015088392125343544, 0.0652480757343251, 0.04992212518155922, 0.0431688054250528, -0.010603943629368687, -0.13264667058622498], \"topics\": [1, 2, 3, 4, 5, 6], \"cluster\": [1, 1, 1, 1, 1, 1], \"Freq\": [22.942185985552925, 7.502241659115367, 18.900330181070643, 20.38020630073096, 19.494644395971296, 10.780391477558805]}, \"tinfo\": {\"Term\": [\"size\", \"small\", \"run\", \"petite\", \"large\", \"top\", \"ordered\", \"jean\", \"big\", \"dress\", \"love\", \"great\", \"pant\", \"would\", \"perfect\", \"short\", \"pair\", \"cute\", \"price\", \"x\", \"im\", \"comfortable\", \"waist\", \"material\", \"thin\", \"compliment\", \"shirt\", \"medium\", \"color\", \"sheer\", \"ripped\", \"funny\", \"shift\", \"asked\", \"raspberry\", \"chemise\", \"break\", \"robe\", \"create\", \"horrible\", \"meh\", \"cinched\", \"bunched\", \"nightgown\", \"zipped\", \"poof\", \"elasticized\", \"grandma\", \"flap\", \"potato\", \"seamstress\", \"rating\", \"creates\", \"volume\", \"backwards\", \"pain\", \"sister\", \"carrying\", \"earring\", \"sucker\", \"poofy\", \"rear\", \"seam\", \"boob\", \"band\", \"sack\", \"folded\", \"weird\", \"elastic\", \"unflattering\", \"hemline\", \"younger\", \"waist\", \"awkward\", \"shapeless\", \"hip\", \"adjustable\", \"lower\", \"hit\", \"strange\", \"odd\", \"tent\", \"dress\", \"someone\", \"model\", \"woman\", \"figure\", \"wide\", \"bottom\", \"look\", \"back\", \"high\", \"fabric\", \"knee\", \"like\", \"front\", \"body\", \"way\", \"made\", \"right\", \"bust\", \"cut\", \"much\", \"would\", \"side\", \"wanted\", \"im\", \"really\", \"fit\", \"beautiful\", \"top\", \"make\", \"also\", \"skirt\", \"flattering\", \"work\", \"think\", \"love\", \"size\", \"pretty\", \"cute\", \"little\", \"sparkle\", \"lean\", \"silver\", \"drawstring\", \"draw\", \"intricate\", \"important\", \"fussy\", \"flexible\", \"dance\", \"meadow\", \"overwhelmed\", \"rue\", \"stranger\", \"cable\", \"midthigh\", \"embellishment\", \"exposed\", \"artsy\", \"reese\", \"aqua\", \"pure\", \"tracy\", \"picnic\", \"fave\", \"hi\", \"limited\", \"bootie\", \"navel\", \"substance\", \"suitable\", \"sparkly\", \"shed\", \"xxsp\", \"jumpsuit\", \"px\", \"pearshaped\", \"big\", \"run\", \"ran\", \"exchange\", \"petite\", \"raise\", \"large\", \"small\", \"ordered\", \"return\", \"xx\", \"sizing\", \"xsmall\", \"huge\", \"size\", \"short\", \"x\", \"unfortunately\", \"would\", \"torso\", \"im\", \"review\", \"arm\", \"medium\", \"usually\", \"normally\", \"cute\", \"pretty\", \"dress\", \"work\", \"long\", \"really\", \"skirt\", \"fit\", \"even\", \"little\", \"length\", \"wear\", \"sock\", \"sheath\", \"honey\", \"coh\", \"thanksgiving\", \"glass\", \"fringe\", \"essential\", \"specifically\", \"moth\", \"college\", \"handle\", \"sneaker\", \"puff\", \"platform\", \"pearl\", \"convinced\", \"restrictive\", \"flip\", \"heft\", \"serif\", \"intend\", \"afternoon\", \"stevies\", \"patch\", \"gently\", \"kick\", \"rolling\", \"snagging\", \"flop\", \"pair\", \"pilcro\", \"versatility\", \"jean\", \"complimented\", \"pant\", \"staple\", \"dressed\", \"throw\", \"heel\", \"dressy\", \"legging\", \"versatile\", \"comfy\", \"denim\", \"skinny\", \"wardrobe\", \"chino\", \"play\", \"casual\", \"highly\", \"comfortable\", \"great\", \"sandal\", \"perfect\", \"boot\", \"easy\", \"summer\", \"super\", \"love\", \"soft\", \"worn\", \"favorite\", \"ankle\", \"wear\", \"fall\", \"cute\", \"fit\", \"flattering\", \"long\", \"bought\", \"look\", \"color\", \"dress\", \"work\", \"top\", \"little\", \"length\", \"well\", \"size\", \"like\", \"nice\", \"hei\", \"contrast\", \"shower\", \"theyd\", \"gingham\", \"henley\", \"carefully\", \"happier\", \"sport\", \"greenish\", \"snuggly\", \"adn\", \"slinky\", \"living\", \"adored\", \"skort\", \"fashion\", \"irl\", \"tab\", \"intended\", \"jsut\", \"alter\", \"differently\", \"shrinkage\", \"stevie\", \"pm\", \"hte\", \"blonde\", \"promo\", \"depth\", \"chance\", \"hd\", \"thickness\", \"opted\", \"pjs\", \"square\", \"charming\", \"peasant\", \"minimal\", \"mock\", \"smallest\", \"size\", \"normal\", \"offered\", \"decide\", \"regular\", \"glad\", \"order\", \"decided\", \"medium\", \"consider\", \"small\", \"available\", \"fit\", \"usually\", \"blouse\", \"try\", \"typically\", \"went\", \"usual\", \"store\", \"true\", \"one\", \"ordered\", \"lb\", \"x\", \"petite\", \"im\", \"purchased\", \"review\", \"tried\", \"shoulder\", \"perfectly\", \"wear\", \"retailer\", \"color\", \"top\", \"like\", \"length\", \"bit\", \"love\", \"great\", \"would\", \"nice\", \"well\", \"dress\", \"flattering\", \"little\", \"look\", \"beautiful\", \"kimono\", \"transitional\", \"level\", \"purpose\", \"third\", \"imo\", \"regardless\", \"awhile\", \"lars\", \"byron\", \"fab\", \"service\", \"sacklike\", \"investment\", \"tentlike\", \"checked\", \"customer\", \"missed\", \"hoodie\", \"faux\", \"honest\", \"began\", \"initial\", \"degree\", \"original\", \"temp\", \"peachy\", \"sleeping\", \"washer\", \"whenever\", \"softest\", \"compliment\", \"walked\", \"charcoal\", \"caught\", \"burgundy\", \"eye\", \"many\", \"wore\", \"cooler\", \"received\", \"orange\", \"ago\", \"vibrant\", \"suede\", \"background\", \"sweater\", \"saw\", \"ton\", \"color\", \"wedding\", \"weather\", \"red\", \"romantic\", \"store\", \"immediately\", \"day\", \"beautiful\", \"love\", \"dress\", \"gorgeous\", \"wait\", \"skirt\", \"blue\", \"online\", \"time\", \"black\", \"first\", \"warm\", \"one\", \"bought\", \"got\", \"wear\", \"get\", \"much\", \"perfect\", \"great\", \"retailer\", \"top\", \"soft\", \"fabric\", \"look\", \"fit\", \"like\", \"flattering\", \"comfortable\", \"would\", \"gathered\", \"reach\", \"die\", \"transparent\", \"dolan\", \"hardly\", \"pleasant\", \"worse\", \"hated\", \"thru\", \"ordinary\", \"wrinkly\", \"ball\", \"offwhite\", \"usa\", \"moo\", \"direction\", \"story\", \"label\", \"fly\", \"bias\", \"bird\", \"partially\", \"recommendation\", \"skimpy\", \"consistently\", \"nylon\", \"empire\", \"inconsistent\", \"necessarily\", \"lately\", \"concept\", \"poor\", \"obvious\", \"cleaner\", \"cheap\", \"bordeaux\", \"tag\", \"scratchy\", \"sheer\", \"dry\", \"cost\", \"smell\", \"thin\", \"clean\", \"cami\", \"price\", \"flimsy\", \"shrunk\", \"money\", \"top\", \"washing\", \"seethrough\", \"material\", \"washed\", \"disappointed\", \"shirt\", \"wash\", \"worth\", \"boxy\", \"romper\", \"hole\", \"cute\", \"quality\", \"white\", \"like\", \"didnt\", \"sale\", \"really\", \"returned\", \"pretty\", \"little\", \"see\", \"fabric\", \"back\", \"would\", \"im\", \"however\", \"look\", \"even\", \"wear\", \"large\", \"nice\", \"fit\", \"much\", \"also\", \"love\", \"bit\", \"color\"], \"Freq\": [9857.0, 5166.0, 3329.0, 2753.0, 3190.0, 9391.0, 3733.0, 2794.0, 2139.0, 13497.0, 11097.0, 7548.0, 2429.0, 5057.0, 4449.0, 2544.0, 1288.0, 4334.0, 1474.0, 2126.0, 6030.0, 3399.0, 2518.0, 3035.0, 1186.0, 1035.0, 2720.0, 2241.0, 7229.0, 813.0, 85.50383168580848, 92.78848972711984, 67.86621941981933, 67.43703251726298, 54.99972095260852, 51.250513245504564, 55.114472710483575, 49.94932910509529, 58.46215841970246, 44.79701465798472, 41.375466068631084, 45.01894701950141, 57.70004510559169, 40.623511106856796, 45.70982645549958, 63.00781903800159, 40.177997451459696, 37.40440960784859, 36.28805917321231, 38.92355473746194, 37.880291488017484, 34.175532959095484, 41.96876122285646, 66.44658619713636, 34.00272252493793, 32.6232721582508, 30.149780715076496, 27.49334835468755, 27.286690680714763, 39.542066944652454, 42.78429994555167, 40.831109369008885, 309.3459913110367, 93.35319564557427, 170.2765221166647, 143.00267917374725, 52.994702806166124, 223.35170675681994, 327.6209554170818, 291.96256545257455, 96.11756804746815, 50.47610493430433, 1793.3282281678555, 193.26947653009708, 131.1296880025157, 720.1743590822165, 113.57846121286576, 244.90415385730867, 594.5988047970098, 161.721452264267, 226.67846263721935, 140.93036600734558, 6031.934676056564, 289.9162914828799, 879.9612002895319, 241.97317890324064, 398.5598650766509, 470.88328337711584, 829.2997553575457, 2804.2253227808073, 1494.307358961149, 630.6256080554907, 2165.042731182401, 429.85598821586376, 2710.1425001111274, 699.4423649873548, 627.8111824278183, 1020.5571813930351, 890.9160566308857, 898.7798754568934, 561.4659103510126, 903.1803975130262, 1199.1214512342196, 1529.7392460023202, 631.0872719582925, 578.8937598408173, 1659.658394695632, 1193.8756353547665, 2236.9526065358054, 1277.1702971328646, 1792.5837096587975, 804.5023394218979, 868.0622070806324, 895.805740278815, 1049.5384821863825, 838.4792271248443, 735.0454808810783, 1221.519508009862, 1107.805341985902, 786.621484085421, 821.9733305561933, 785.2248244387125, 76.37786923565339, 66.40327786094304, 95.48337291161155, 71.99798991585827, 52.8134302487153, 39.27680204586224, 40.026913505411365, 33.13614372719976, 29.684330830203276, 32.015865894539616, 29.971680402219924, 34.012770897818406, 28.290795830349193, 29.270881727212103, 30.3874534305591, 26.6117795121896, 28.43879797800226, 52.67001519553999, 22.60467452617381, 31.40649317675196, 25.45063249041922, 40.116443868622184, 30.15471458531501, 22.04386121582118, 20.65551479700551, 22.67218531698596, 29.596194822201255, 19.352483778759677, 18.49637246413805, 18.57567755581767, 29.32504893359145, 29.1384757007834, 55.85272361285981, 96.68155236730979, 381.1560550777399, 38.748514576948885, 35.211922453008604, 1165.6706503025493, 1649.298021565579, 209.8807033699096, 134.93600041527372, 1232.445039295797, 52.126502218333584, 1247.8981160799135, 1557.5102489144963, 1175.1111945188563, 395.89432280292044, 222.9284171710852, 312.5543134594791, 85.12917060966346, 273.25381345068905, 1738.994419369628, 652.2088165562137, 569.7032817191703, 251.37258296096968, 806.0603784823358, 186.43920459059711, 766.4279794044984, 305.6417382745381, 303.20230320440356, 386.09801447503816, 353.1410955160493, 233.82324652987288, 438.17151296857185, 343.09780100974365, 660.3031487910604, 336.2502835833031, 318.9714581383354, 351.3604279691383, 312.8836607673599, 422.8204094211635, 292.3782183861443, 322.06929619438404, 303.42688248953687, 340.4281484774223, 126.67995412899228, 60.23584082819058, 91.3854720186478, 40.4838704521528, 44.33668176511037, 37.71708417780849, 81.9022186664498, 32.29052534323294, 30.846245818586354, 31.229053458327986, 31.256924243808303, 29.65722495900951, 28.741564329782108, 29.785525853685087, 30.687554345440997, 29.836878354700513, 29.164744142546336, 28.234140777367724, 46.64414249460463, 27.896666452047086, 29.570568570187206, 28.806239016511782, 27.0742018110634, 25.30730651261949, 24.72462973479755, 24.637623215286503, 24.032524680407942, 23.748819331839783, 44.26134052871002, 48.02235637617884, 1182.160104216144, 307.5558378162225, 59.91767343609449, 2426.673501909651, 38.73056137240153, 1982.2896827976774, 341.72345013416543, 514.3177519523481, 174.63846809630812, 347.58084956444355, 220.74075369420723, 735.3579573097045, 540.0787379133013, 947.0688749803516, 504.5681849890718, 445.0195799114301, 340.764115006403, 74.38186300694022, 57.39793784510025, 834.3621506652913, 267.58550002735376, 1953.3430968601713, 3880.282283630432, 189.86446168799247, 2321.130351995555, 412.1998368153705, 549.4027602467024, 1076.9663043715493, 1131.2812400983103, 4707.692637302822, 1628.0386714172869, 665.8941715397294, 474.5133646302481, 273.7110651261238, 2094.02488820232, 737.675202565659, 1427.0027065538477, 2565.3347445322634, 1301.4594182234118, 971.6499319999406, 1048.1725361300605, 1591.9072047654292, 1444.3698009658126, 1913.0698788059992, 872.3510013091666, 1526.768661838059, 989.5360310630028, 854.7301903377883, 866.9199730467828, 1174.294890874331, 990.534550215385, 741.0540287636182, 83.23072244850441, 74.36738044977807, 70.61513878270804, 41.76876850545884, 41.358151609112035, 41.03548838570428, 36.35139414109253, 44.357295109367726, 30.77519481994402, 41.41680114500787, 28.714016834294195, 42.317534065892325, 28.586720026082418, 27.260241566430864, 29.17428200281396, 24.902005373202854, 32.953768842637615, 24.55905165501757, 30.305488949431172, 25.949411647998176, 27.904196058083492, 22.95486883949174, 48.800705093508135, 22.65931668795703, 23.644027706443843, 24.277388228530373, 52.85279632956295, 32.31188569381739, 27.16090169718505, 22.35117555837123, 128.78148238561812, 47.94779460973023, 47.58805352438636, 77.87649103107871, 35.4602174552675, 37.6034548643821, 70.67420918905985, 44.27965688878127, 36.58087582030896, 53.250085661470216, 43.659236070125814, 5190.210113413591, 353.89405588429884, 46.88741149587536, 59.89247775923857, 695.070033768226, 392.73511746013406, 540.1898380034395, 303.48905863146996, 1108.7281895441452, 119.3304814449081, 2125.706619683503, 213.6075184237156, 3634.5532818542174, 913.5132216934222, 511.592664297943, 607.6937620853524, 299.09054974832986, 500.47296976578457, 439.3632067362275, 793.1799214849676, 719.738324000567, 1270.013934620685, 1250.3891578761861, 585.7730462274735, 808.859277023099, 979.4949481120173, 1673.5370016653185, 639.626771529712, 552.6351919483327, 735.029290379081, 612.342746656337, 566.0262005460153, 1477.3527443973758, 736.0382571522297, 1516.4137479220917, 1739.3528226006363, 1388.9081549546977, 812.9041887043164, 832.6683313362795, 1582.8827598050989, 1279.0953617868686, 1055.9248908811508, 871.114236815754, 851.7639666369002, 1383.2818926801917, 839.2472462664509, 804.4695486530014, 870.5782294067901, 766.5473710680103, 175.06499562429153, 69.58369240257854, 67.74740977607716, 65.74985328187196, 58.87405139931013, 54.275794432701424, 51.84771118953918, 47.47296659727442, 60.78740494464982, 59.15700788225366, 39.429753623710425, 37.24283719336008, 40.076704132773, 37.56241292068226, 34.573906835466836, 33.45627786661901, 79.3163834332686, 33.77685610397268, 32.4392669616799, 72.90357146899065, 37.0151766377441, 31.40219796233118, 29.509318908284254, 54.17868910079282, 26.644687935641176, 36.178171539916136, 26.468885566260493, 27.476147653176838, 27.47928740408255, 42.89604651739896, 34.68720230969504, 953.9646120270111, 59.873995952374564, 45.1669093487721, 130.12319714026793, 95.51865059860239, 222.20836928770865, 790.3417764878172, 655.6029757998839, 96.04740754308605, 571.3488752414298, 212.1152088035693, 107.50303441648074, 231.51156765459226, 56.83915337987682, 65.34616143726181, 1689.5224833186462, 623.2431518378648, 147.56548238297916, 3051.8868217890554, 222.7596708672312, 256.4027234571189, 466.2347669735349, 160.09714195269456, 850.085690843271, 181.8007263316266, 571.7125574632478, 1594.2787888571847, 3048.0616855605513, 3462.07060561196, 700.8040849495335, 310.1110537962074, 1020.6077530565105, 586.4757570003845, 683.8724956831795, 607.3466581259157, 730.1047850724652, 533.1679886222253, 341.77016271511275, 1037.0653366349038, 933.0873327274213, 765.5821468439103, 1364.5684080842118, 680.7433382299238, 856.9026959071748, 1038.796095213366, 1391.0575333018169, 686.8419461840168, 1395.7048856317394, 822.3178996025076, 921.896100113828, 960.439848001754, 992.4706592227291, 868.4360765113584, 727.3473930715176, 694.8728251266815, 695.525861739951, 59.46214903899631, 43.61102693360613, 43.00665616022291, 38.235998110515126, 37.56995578102323, 32.91308105390383, 38.752039046847166, 47.21402434074756, 37.06131822515271, 77.80443009607353, 35.928478788919804, 31.167443824251766, 33.48246910852608, 29.967515617787107, 28.62566163953866, 28.376742614923504, 26.623904986644508, 23.251529865200514, 66.57188681167723, 22.74513165731157, 25.623935713252333, 33.669679472826246, 22.637549102379783, 22.79099027372576, 21.72848949967838, 21.638666763972818, 27.886331954758795, 57.524026099945175, 20.28880045975909, 20.31545437550085, 65.1657203308701, 67.26398502440897, 245.38279295339288, 41.237545063570956, 32.218152008489724, 347.09425764956325, 40.43635611905044, 161.31883959871277, 168.45774127756314, 589.306919597174, 224.98064787372016, 92.51379466011119, 57.22632377441747, 732.770254769355, 127.97750616063585, 313.11623349179587, 818.9827599301428, 102.15512623896913, 65.98223113000142, 106.18514067847316, 2757.2309278602147, 131.2188073993452, 132.9306645230412, 1042.9322251625522, 201.7631927655259, 322.276485027079, 896.0053651121954, 292.4294424020202, 317.3396525154555, 331.8532116349284, 160.2940301504879, 236.84250468854987, 951.3518501078931, 653.7942047936405, 477.9861988172113, 1200.9318184980739, 495.33525265344514, 432.45191681828743, 695.6841378387767, 231.91132947709036, 567.0863017308382, 668.4179765014934, 406.6292051413642, 711.9945532708292, 556.7049813218881, 677.3931784468446, 715.6264002896866, 361.4805275153464, 635.2995825958047, 414.94159500577393, 572.7007530843262, 450.90253779262554, 446.60651675019466, 549.8761660430756, 420.0223394555196, 374.5919143126928, 434.05412009929876, 378.5364144696254, 386.0112445369171], \"Total\": [9857.0, 5166.0, 3329.0, 2753.0, 3190.0, 9391.0, 3733.0, 2794.0, 2139.0, 13497.0, 11097.0, 7548.0, 2429.0, 5057.0, 4449.0, 2544.0, 1288.0, 4334.0, 1474.0, 2126.0, 6030.0, 3399.0, 2518.0, 3035.0, 1186.0, 1035.0, 2720.0, 2241.0, 7229.0, 813.0, 86.34961179525105, 93.7832327653871, 68.70519503914073, 68.28557858020966, 55.872154320646615, 52.09323718425723, 56.029124458751916, 50.788312236153274, 59.490110646223705, 45.63427496968664, 42.214805555157795, 45.93570851653899, 58.886372989868136, 41.45921463594841, 46.65174515796691, 64.3157800221275, 41.04455515520039, 38.25057579197505, 37.15192846046459, 39.868389485572145, 38.80780305999277, 35.01955848091978, 43.03166905816874, 68.13975332389704, 34.88077577663089, 33.48738086322756, 30.98848600181217, 28.347868716187374, 28.153519936379475, 40.82850291622771, 44.201998199337545, 42.193682355683706, 330.7763624196813, 97.67430474449752, 181.81238990368922, 152.1190611494205, 55.15862072668026, 251.2634610533503, 382.89545522393905, 339.8864345523027, 105.35907602268614, 52.75135034771628, 2518.695918388616, 224.31992617280608, 148.57863451576281, 988.1504104998438, 132.03608816824007, 316.70106767001374, 870.3546969659726, 197.89475905280605, 294.3767009939325, 170.24048162433368, 13497.644027425298, 396.9018562531553, 1493.6272203035999, 329.95256019523777, 606.6119902423551, 757.8147329622387, 1539.0447845827443, 6969.492497815793, 3229.7169438904994, 1103.2111766800158, 5188.582260865773, 688.6680304246613, 7413.609216613116, 1313.3539643778138, 1145.3750260893937, 2200.361495643709, 1842.1084437950865, 1870.3719229018695, 1027.6979182649243, 1958.470025804331, 3124.1669045714593, 5057.81732570739, 1348.1555517602787, 1184.6653659450885, 6030.795153011638, 3678.8492915163356, 10402.007867609254, 4509.119386570147, 9391.55826302471, 2165.8521950221, 2531.2346681511126, 2799.809517139387, 4053.090833947461, 2756.6519787144784, 2167.213389477491, 11097.803112853286, 9857.31332361785, 2813.280614172445, 4334.58195815116, 4025.9495408179428, 77.21886855332984, 67.23611359639892, 96.71429198191802, 73.01250612812683, 53.659363008351036, 40.10824724555986, 41.05028369845078, 34.027713751954046, 30.523861750913003, 32.93338422223221, 30.853160480794752, 35.05838863835897, 29.169713411573095, 30.185706168547757, 31.407252328435348, 27.507698508947414, 29.404013068905243, 54.49843584217627, 23.44808946078618, 32.584120568215155, 26.417492044211368, 41.64854675531432, 31.356256828522085, 22.92810506680629, 21.516849869352317, 23.6224336439707, 30.901092254306256, 20.212988989904986, 19.353260639375574, 19.446167157490663, 30.887519146934135, 30.741999207086632, 61.13668972029994, 109.70783397933602, 475.6250715181805, 41.82823126841512, 38.03391172635036, 2139.573622044929, 3329.588002150029, 321.00713630095606, 191.10196412860887, 2753.669451002874, 61.8220696892883, 3190.386562714643, 5166.668958879965, 3733.6266204248104, 924.1990428168824, 473.91560443120784, 798.4019131841551, 132.0996616313801, 683.2601631907024, 9857.31332361785, 2544.9862942285467, 2126.2581866761857, 662.9200836545599, 5057.81732570739, 513.3724100422422, 6030.795153011638, 1338.9325304816007, 1397.8754290885593, 2241.078760943932, 1961.5150336618133, 910.0164411281243, 4334.58195815116, 2813.280614172445, 13497.644027425298, 2756.6519787144784, 2604.875551475659, 3678.8492915163356, 2799.809517139387, 10402.007867609254, 2238.010868570749, 4025.9495408179428, 2836.0487799432944, 6466.865520895244, 127.64493710422884, 61.07342515106899, 92.73179449482237, 41.34333360634406, 45.38328720087261, 38.63732086858192, 84.03299865101206, 33.146702096195256, 31.686390263310823, 32.0956294483458, 32.14016530474904, 30.507853837023532, 29.571732807348592, 30.658394360443577, 31.602073228415847, 30.72745288409226, 30.04335807844101, 29.091876642973016, 48.09129551999482, 28.774255079687688, 30.516363187558387, 29.729716195665983, 27.949752896081204, 26.151940886098103, 25.556438742774585, 25.47782721665029, 24.86747239822487, 24.611661398717604, 45.89066615124909, 49.87158834359554, 1288.6201129838394, 330.81844091247376, 63.068747266806156, 2794.7892693220842, 40.48815811469618, 2429.120187251524, 391.05824669777195, 622.8380296172616, 201.4542805823697, 424.1430472617203, 262.37909098459875, 957.2525470650692, 699.1228817445693, 1297.6552407398985, 655.797924245222, 573.2300554672667, 436.3279660396274, 82.57970447616664, 62.58592261679744, 1206.1447917635303, 353.8427930670625, 3399.5741078262167, 7548.700594764, 243.37587145143115, 4449.803796296791, 598.1286643904843, 845.8423944304609, 1851.438754630233, 2020.6993167047674, 11097.803112853286, 3517.763500938565, 1174.4512685171758, 789.6919904086362, 394.50424759551686, 6466.865520895244, 1559.6567686237363, 4334.58195815116, 10402.007867609254, 4053.090833947461, 2604.875551475659, 3118.8368933976826, 6969.492497815793, 7229.8455636922, 13497.644027425298, 2756.6519787144784, 9391.55826302471, 4025.9495408179428, 2836.0487799432944, 3449.000731568531, 9857.31332361785, 7413.609216613116, 3486.1961526012415, 84.07557939429488, 75.20869910663805, 71.45865031960084, 42.611334996401446, 42.23381899281704, 41.91599406872322, 37.21160994912315, 45.461202395437105, 31.617901071558073, 42.56938248655714, 29.566080072254657, 43.62539074639466, 29.5026968225116, 28.169673576088744, 30.169413581108422, 25.75188188548657, 34.084935396774036, 25.40958697441473, 31.373541037301, 26.893924328213448, 28.92565648291532, 23.80248392482119, 50.60695095995352, 23.500577631183187, 24.525216026418466, 25.183889763173013, 54.867829617452514, 33.54479598113292, 28.199570739529825, 23.21018432070223, 133.96301513962217, 49.800545512530135, 49.56904140192028, 81.88144436626716, 36.933219667845265, 39.30089200481188, 75.45764347896392, 46.65943201303561, 38.81271967471183, 58.959201172375494, 47.36827895503199, 9857.31332361785, 485.8230802032486, 51.645532486758505, 68.4749647072425, 1166.9811596723605, 627.9221257361748, 940.5492928079159, 476.2198955425084, 2241.078760943932, 157.13678564508976, 5166.668958879965, 324.450958630569, 10402.007867609254, 1961.5150336618133, 973.2121513602758, 1216.8151147667384, 510.58713945720103, 1010.1492911134594, 880.4474493115895, 1934.4820166633237, 1715.439164522938, 3650.802425619553, 3733.6266204248104, 1368.5109826919934, 2126.2581866761857, 2753.669451002874, 6030.795153011638, 1604.1555255602914, 1338.9325304816007, 2056.4725611940826, 1601.341595596737, 1482.0392555618748, 6466.865520895244, 2223.4574445712947, 7229.8455636922, 9391.55826302471, 7413.609216613116, 2836.0487799432944, 3001.673222856223, 11097.803112853286, 7548.700594764, 5057.81732570739, 3486.1961526012415, 3449.000731568531, 13497.644027425298, 4053.090833947461, 4025.9495408179428, 6969.492497815793, 4509.119386570147, 176.96598551678272, 70.43017416397521, 68.58579679643856, 66.61255966914271, 59.721735790823566, 55.14297201864956, 52.7528173923929, 48.31201124268923, 61.86215236553144, 60.286673278129975, 40.273017369421005, 38.07927615458332, 40.98068983182318, 38.46549368208588, 35.42391197024987, 34.29550329055643, 81.37259182517315, 34.6548468739462, 33.289439574980854, 74.87196239523384, 38.014693854226394, 32.25580685569395, 30.350708717509555, 55.82786845641381, 27.480537033364907, 37.32492129016368, 27.309578904792698, 28.348871149163266, 28.363379424615943, 44.30252843519054, 35.86012122309489, 1035.294880513283, 62.81078284239434, 47.237056570312625, 145.3107476316711, 105.23070703123625, 260.74600469773486, 1110.589955465489, 920.0302185074215, 109.64081730383981, 838.5340347519649, 272.51986293725025, 127.39911654509235, 312.5470838433936, 62.17227553128618, 73.25238090969061, 3426.8111764257387, 1061.6800519892377, 192.6024567806716, 7229.8455636922, 318.15206380323684, 381.06632841445446, 818.8695387138205, 219.5037701741705, 1934.4820166633237, 261.84384915027454, 1166.0513279123347, 4509.119386570147, 11097.803112853286, 13497.644027425298, 1601.679276604297, 542.916287093309, 2799.809517139387, 1314.0060215413407, 1657.5321466562218, 1419.5773626065886, 1857.785051707345, 1214.449773571657, 658.490062340473, 3650.802425619553, 3118.8368933976826, 2410.4889944160373, 6466.865520895244, 2061.391117900161, 3124.1669045714593, 4449.803796296791, 7548.700594764, 2223.4574445712947, 9391.55826302471, 3517.763500938565, 5188.582260865773, 6969.492497815793, 10402.007867609254, 7413.609216613116, 4053.090833947461, 3399.5741078262167, 5057.81732570739, 60.344051006511435, 44.44989143169972, 43.86788459465962, 39.08335365215164, 38.43854184902333, 33.73601361037987, 39.72589443389738, 48.41740635481362, 38.00693787657168, 79.79342344414707, 36.86263487952992, 31.9842833677433, 34.406531142853545, 30.822722237648602, 29.45455014819748, 29.226019151132792, 27.491746888618685, 24.088410209669338, 68.97971069314752, 23.569224111956178, 26.558130772955078, 34.92326599205807, 23.4832599942619, 23.64546139572272, 22.548646888953094, 22.46289225361722, 28.954086164417205, 59.82609911030216, 21.10927415102959, 21.158511929810086, 68.17603214482156, 70.55086041831596, 265.1855423144928, 43.127910531055456, 33.749575380609066, 393.752382761464, 43.234117549888396, 189.14650413001073, 204.4536036774042, 813.0908417547579, 284.8064740461411, 109.9248557350944, 64.44563142481822, 1186.3968035351932, 162.46232579892254, 468.678938151848, 1474.2629352855602, 128.51979710817216, 79.11300085178237, 146.2997302482767, 9391.55826302471, 193.47565035563963, 196.7640435979159, 3035.014087072061, 352.402301345848, 674.8124145217587, 2720.857233358356, 605.6359704858316, 679.6610987485914, 775.9567876581929, 289.7392076175338, 519.7283300836248, 4334.58195815116, 2524.691425455806, 1576.2687193665456, 7413.609216613116, 1878.7410043272446, 1535.1635859970647, 3678.8492915163356, 560.2449681035253, 2813.280614172445, 4025.9495408179428, 1596.3147205097644, 5188.582260865773, 3229.7169438904994, 5057.81732570739, 6030.795153011638, 1518.264513106159, 6969.492497815793, 2238.010868570749, 6466.865520895244, 3190.386562714643, 3486.1961526012415, 10402.007867609254, 3124.1669045714593, 2531.2346681511126, 11097.803112853286, 3001.673222856223, 7229.8455636922], \"Category\": [\"Default\", \"Default\", \"Default\", \"Default\", \"Default\", \"Default\", \"Default\", \"Default\", \"Default\", \"Default\", \"Default\", \"Default\", \"Default\", \"Default\", \"Default\", \"Default\", \"Default\", \"Default\", \"Default\", \"Default\", \"Default\", \"Default\", \"Default\", \"Default\", \"Default\", \"Default\", \"Default\", \"Default\", \"Default\", \"Default\", \"Topic1\", \"Topic1\", \"Topic1\", \"Topic1\", \"Topic1\", \"Topic1\", \"Topic1\", \"Topic1\", \"Topic1\", \"Topic1\", \"Topic1\", \"Topic1\", \"Topic1\", \"Topic1\", \"Topic1\", \"Topic1\", \"Topic1\", \"Topic1\", \"Topic1\", \"Topic1\", \"Topic1\", \"Topic1\", \"Topic1\", \"Topic1\", \"Topic1\", \"Topic1\", \"Topic1\", \"Topic1\", \"Topic1\", \"Topic1\", \"Topic1\", \"Topic1\", \"Topic1\", \"Topic1\", \"Topic1\", \"Topic1\", \"Topic1\", \"Topic1\", \"Topic1\", \"Topic1\", \"Topic1\", \"Topic1\", \"Topic1\", \"Topic1\", \"Topic1\", \"Topic1\", \"Topic1\", \"Topic1\", \"Topic1\", \"Topic1\", \"Topic1\", \"Topic1\", \"Topic1\", \"Topic1\", \"Topic1\", \"Topic1\", \"Topic1\", \"Topic1\", \"Topic1\", \"Topic1\", \"Topic1\", \"Topic1\", \"Topic1\", \"Topic1\", \"Topic1\", \"Topic1\", \"Topic1\", \"Topic1\", \"Topic1\", \"Topic1\", \"Topic1\", \"Topic1\", \"Topic1\", \"Topic1\", \"Topic1\", \"Topic1\", \"Topic1\", \"Topic1\", \"Topic1\", \"Topic1\", \"Topic1\", \"Topic1\", \"Topic1\", \"Topic1\", \"Topic1\", \"Topic1\", \"Topic1\", \"Topic1\", \"Topic1\", \"Topic1\", \"Topic1\", \"Topic1\", \"Topic2\", \"Topic2\", \"Topic2\", \"Topic2\", \"Topic2\", \"Topic2\", \"Topic2\", \"Topic2\", \"Topic2\", \"Topic2\", \"Topic2\", \"Topic2\", \"Topic2\", \"Topic2\", \"Topic2\", \"Topic2\", \"Topic2\", \"Topic2\", \"Topic2\", \"Topic2\", \"Topic2\", \"Topic2\", \"Topic2\", \"Topic2\", \"Topic2\", \"Topic2\", \"Topic2\", \"Topic2\", \"Topic2\", \"Topic2\", \"Topic2\", \"Topic2\", \"Topic2\", \"Topic2\", \"Topic2\", \"Topic2\", \"Topic2\", \"Topic2\", \"Topic2\", \"Topic2\", \"Topic2\", \"Topic2\", \"Topic2\", \"Topic2\", \"Topic2\", \"Topic2\", \"Topic2\", \"Topic2\", \"Topic2\", \"Topic2\", \"Topic2\", \"Topic2\", \"Topic2\", \"Topic2\", \"Topic2\", \"Topic2\", \"Topic2\", \"Topic2\", \"Topic2\", \"Topic2\", \"Topic2\", \"Topic2\", \"Topic2\", \"Topic2\", \"Topic2\", \"Topic2\", \"Topic2\", \"Topic2\", \"Topic2\", \"Topic2\", \"Topic2\", \"Topic2\", \"Topic2\", \"Topic2\", \"Topic2\", \"Topic3\", \"Topic3\", \"Topic3\", \"Topic3\", \"Topic3\", \"Topic3\", \"Topic3\", \"Topic3\", \"Topic3\", \"Topic3\", \"Topic3\", \"Topic3\", \"Topic3\", \"Topic3\", \"Topic3\", \"Topic3\", \"Topic3\", \"Topic3\", \"Topic3\", \"Topic3\", \"Topic3\", \"Topic3\", \"Topic3\", \"Topic3\", \"Topic3\", \"Topic3\", \"Topic3\", \"Topic3\", \"Topic3\", \"Topic3\", \"Topic3\", \"Topic3\", \"Topic3\", \"Topic3\", \"Topic3\", \"Topic3\", \"Topic3\", \"Topic3\", \"Topic3\", \"Topic3\", \"Topic3\", \"Topic3\", \"Topic3\", \"Topic3\", \"Topic3\", \"Topic3\", \"Topic3\", \"Topic3\", \"Topic3\", \"Topic3\", \"Topic3\", \"Topic3\", \"Topic3\", \"Topic3\", \"Topic3\", \"Topic3\", \"Topic3\", \"Topic3\", \"Topic3\", \"Topic3\", \"Topic3\", \"Topic3\", \"Topic3\", \"Topic3\", \"Topic3\", \"Topic3\", \"Topic3\", \"Topic3\", \"Topic3\", \"Topic3\", \"Topic3\", \"Topic3\", \"Topic3\", \"Topic3\", \"Topic3\", \"Topic3\", \"Topic3\", \"Topic3\", \"Topic3\", \"Topic3\", \"Topic3\", \"Topic3\", \"Topic4\", \"Topic4\", \"Topic4\", \"Topic4\", \"Topic4\", \"Topic4\", \"Topic4\", \"Topic4\", \"Topic4\", \"Topic4\", \"Topic4\", \"Topic4\", \"Topic4\", \"Topic4\", \"Topic4\", \"Topic4\", \"Topic4\", \"Topic4\", \"Topic4\", \"Topic4\", \"Topic4\", \"Topic4\", \"Topic4\", \"Topic4\", \"Topic4\", \"Topic4\", \"Topic4\", \"Topic4\", \"Topic4\", \"Topic4\", \"Topic4\", \"Topic4\", \"Topic4\", \"Topic4\", \"Topic4\", \"Topic4\", \"Topic4\", \"Topic4\", \"Topic4\", \"Topic4\", \"Topic4\", \"Topic4\", \"Topic4\", \"Topic4\", \"Topic4\", \"Topic4\", \"Topic4\", \"Topic4\", \"Topic4\", \"Topic4\", \"Topic4\", \"Topic4\", \"Topic4\", \"Topic4\", \"Topic4\", \"Topic4\", \"Topic4\", \"Topic4\", \"Topic4\", \"Topic4\", \"Topic4\", \"Topic4\", \"Topic4\", \"Topic4\", \"Topic4\", \"Topic4\", \"Topic4\", \"Topic4\", \"Topic4\", \"Topic4\", \"Topic4\", \"Topic4\", \"Topic4\", \"Topic4\", \"Topic4\", \"Topic4\", \"Topic4\", \"Topic4\", \"Topic4\", \"Topic4\", \"Topic4\", \"Topic4\", \"Topic4\", \"Topic4\", \"Topic4\", \"Topic4\", \"Topic4\", \"Topic4\", \"Topic4\", \"Topic4\", \"Topic5\", \"Topic5\", \"Topic5\", \"Topic5\", \"Topic5\", \"Topic5\", \"Topic5\", \"Topic5\", \"Topic5\", \"Topic5\", \"Topic5\", \"Topic5\", \"Topic5\", \"Topic5\", \"Topic5\", \"Topic5\", \"Topic5\", \"Topic5\", \"Topic5\", \"Topic5\", \"Topic5\", \"Topic5\", \"Topic5\", \"Topic5\", \"Topic5\", \"Topic5\", \"Topic5\", \"Topic5\", \"Topic5\", \"Topic5\", \"Topic5\", \"Topic5\", \"Topic5\", \"Topic5\", \"Topic5\", \"Topic5\", \"Topic5\", \"Topic5\", \"Topic5\", \"Topic5\", \"Topic5\", \"Topic5\", \"Topic5\", \"Topic5\", \"Topic5\", \"Topic5\", \"Topic5\", \"Topic5\", \"Topic5\", \"Topic5\", \"Topic5\", \"Topic5\", \"Topic5\", \"Topic5\", \"Topic5\", \"Topic5\", \"Topic5\", \"Topic5\", \"Topic5\", \"Topic5\", \"Topic5\", \"Topic5\", \"Topic5\", \"Topic5\", \"Topic5\", \"Topic5\", \"Topic5\", \"Topic5\", \"Topic5\", \"Topic5\", \"Topic5\", \"Topic5\", \"Topic5\", \"Topic5\", \"Topic5\", \"Topic5\", \"Topic5\", \"Topic5\", \"Topic5\", \"Topic5\", \"Topic5\", \"Topic5\", \"Topic5\", \"Topic5\", \"Topic5\", \"Topic5\", \"Topic5\", \"Topic6\", \"Topic6\", \"Topic6\", \"Topic6\", \"Topic6\", \"Topic6\", \"Topic6\", \"Topic6\", \"Topic6\", \"Topic6\", \"Topic6\", \"Topic6\", \"Topic6\", \"Topic6\", \"Topic6\", \"Topic6\", \"Topic6\", \"Topic6\", \"Topic6\", \"Topic6\", \"Topic6\", \"Topic6\", \"Topic6\", \"Topic6\", \"Topic6\", \"Topic6\", \"Topic6\", \"Topic6\", \"Topic6\", \"Topic6\", \"Topic6\", \"Topic6\", \"Topic6\", \"Topic6\", \"Topic6\", \"Topic6\", \"Topic6\", \"Topic6\", \"Topic6\", \"Topic6\", \"Topic6\", \"Topic6\", \"Topic6\", \"Topic6\", \"Topic6\", \"Topic6\", \"Topic6\", \"Topic6\", \"Topic6\", \"Topic6\", \"Topic6\", \"Topic6\", \"Topic6\", \"Topic6\", \"Topic6\", \"Topic6\", \"Topic6\", \"Topic6\", \"Topic6\", \"Topic6\", \"Topic6\", \"Topic6\", \"Topic6\", \"Topic6\", \"Topic6\", \"Topic6\", \"Topic6\", \"Topic6\", \"Topic6\", \"Topic6\", \"Topic6\", \"Topic6\", \"Topic6\", \"Topic6\", \"Topic6\", \"Topic6\", \"Topic6\", \"Topic6\", \"Topic6\", \"Topic6\", \"Topic6\", \"Topic6\", \"Topic6\", \"Topic6\", \"Topic6\", \"Topic6\", \"Topic6\", \"Topic6\", \"Topic6\"], \"logprob\": [30.0, 29.0, 28.0, 27.0, 26.0, 25.0, 24.0, 23.0, 22.0, 21.0, 20.0, 19.0, 18.0, 17.0, 16.0, 15.0, 14.0, 13.0, 12.0, 11.0, 10.0, 9.0, 8.0, 7.0, 6.0, 5.0, 4.0, 3.0, 2.0, 1.0, -7.5318, -7.4501, -7.7629, -7.7692, -7.9731, -8.0437, -7.971, -8.0694, -7.912, -8.1783, -8.2577, -8.1733, -7.9251, -8.2761, -8.1581, -7.8371, -8.2871, -8.3586, -8.3889, -8.3188, -8.346, -8.4489, -8.2435, -7.784, -8.454, -8.4954, -8.5742, -8.6665, -8.674, -8.303, -8.2242, -8.271, -6.2459, -7.444, -6.843, -7.0175, -8.0102, -6.5717, -6.1885, -6.3038, -7.4148, -8.0589, -4.4886, -6.7163, -7.1042, -5.4009, -7.2479, -6.4795, -5.5925, -6.8945, -6.5569, -7.0321, -3.2756, -6.3108, -5.2005, -6.4916, -5.9925, -5.8258, -5.2598, -4.0415, -4.671, -5.5337, -4.3002, -5.917, -4.0756, -5.4301, -5.5382, -5.0523, -5.1882, -5.1794, -5.6499, -5.1745, -4.8911, -4.6476, -5.533, -5.6193, -4.566, -4.8954, -4.2675, -4.828, -4.489, -5.2902, -5.2141, -5.1827, -5.0243, -5.2488, -5.3805, -4.8726, -4.9703, -5.3127, -5.2687, -5.3144, -6.5269, -6.6669, -6.3037, -6.586, -6.8959, -7.192, -7.1731, -7.362, -7.472, -7.3964, -7.4624, -7.3359, -7.5201, -7.486, -7.4486, -7.5813, -7.5149, -6.8986, -7.7445, -7.4156, -7.6259, -7.1708, -7.4563, -7.7696, -7.8346, -7.7415, -7.475, -7.8998, -7.9451, -7.9408, -7.4842, -7.4906, -6.8399, -6.2912, -4.9194, -7.2055, -7.3012, -3.8016, -3.4545, -5.5161, -5.9578, -3.7459, -6.909, -3.7334, -3.5118, -3.7935, -4.8815, -5.4558, -5.1179, -6.4185, -5.2522, -3.4016, -4.3823, -4.5175, -5.3357, -4.1705, -5.6345, -4.2209, -5.1402, -5.1482, -4.9065, -4.9958, -5.4081, -4.78, -5.0246, -4.3699, -5.0448, -5.0975, -5.0008, -5.1168, -4.8157, -5.1846, -5.0879, -5.1475, -5.0324, -6.9449, -7.6883, -7.2715, -8.0857, -7.9948, -8.1565, -7.3811, -8.3118, -8.3576, -8.3453, -8.3444, -8.3969, -8.4283, -8.3926, -8.3628, -8.3909, -8.4136, -8.4461, -7.9441, -8.4581, -8.3998, -8.426, -8.488, -8.5555, -8.5788, -8.5823, -8.6072, -8.6191, -7.9965, -7.9149, -4.7115, -6.058, -7.6936, -3.9923, -8.13, -4.1946, -5.9526, -5.5438, -6.6239, -5.9356, -6.3896, -5.1863, -5.4949, -4.9332, -5.5629, -5.6885, -5.9554, -7.4774, -7.7366, -5.0599, -6.1972, -4.2093, -3.5229, -6.5403, -4.0368, -5.7651, -5.4778, -4.8047, -4.7555, -3.3297, -4.3915, -5.2855, -5.6243, -6.1745, -4.1398, -5.1831, -4.5233, -3.9368, -4.6154, -4.9076, -4.8318, -4.4139, -4.5112, -4.2301, -5.0154, -4.4557, -4.8894, -5.0358, -5.0217, -4.7182, -4.8884, -5.1785, -7.4404, -7.553, -7.6047, -8.1298, -8.1397, -8.1476, -8.2688, -8.0697, -8.4353, -8.1383, -8.5046, -8.1168, -8.5091, -8.5566, -8.4887, -8.647, -8.3669, -8.6609, -8.4507, -8.6058, -8.5332, -8.7285, -7.9742, -8.7414, -8.6989, -8.6724, -7.8945, -8.3866, -8.5602, -8.7551, -7.0039, -7.9919, -7.9994, -7.5069, -8.2936, -8.2349, -7.6039, -8.0715, -8.2625, -7.887, -8.0856, -3.3075, -5.993, -8.0142, -7.7694, -5.318, -5.8889, -5.5701, -6.1466, -4.851, -7.0801, -4.2001, -6.4979, -3.6638, -5.0447, -5.6245, -5.4523, -6.1612, -5.6464, -5.7767, -5.1859, -5.2831, -4.7152, -4.7308, -5.4891, -5.1664, -4.975, -4.4393, -5.4011, -5.5473, -5.2621, -5.4447, -5.5234, -4.564, -5.2607, -4.5379, -4.4007, -4.6257, -5.1614, -5.1374, -4.495, -4.7081, -4.8998, -5.0922, -5.1147, -4.6298, -5.1295, -5.1718, -5.0928, -5.2201, -6.6524, -7.575, -7.6018, -7.6317, -7.7422, -7.8235, -7.8693, -7.9574, -7.7102, -7.7374, -8.143, -8.2001, -8.1268, -8.1916, -8.2745, -8.3073, -7.4441, -8.2978, -8.3382, -7.5284, -8.2062, -8.3707, -8.4329, -7.8253, -8.535, -8.2291, -8.5416, -8.5043, -8.5041, -8.0588, -8.2712, -4.9569, -7.7253, -8.0072, -6.9491, -7.2582, -6.414, -5.1451, -5.332, -7.2527, -5.4696, -6.4604, -7.14, -6.3729, -7.7773, -7.6379, -4.3854, -5.3826, -6.8233, -3.7941, -6.4115, -6.2708, -5.6729, -6.7418, -5.0722, -6.6147, -5.4689, -4.4434, -3.7953, -3.6679, -5.2653, -6.0806, -4.8894, -5.4434, -5.2898, -5.4085, -5.2244, -5.5387, -5.9834, -4.8734, -4.9791, -5.1769, -4.599, -5.2944, -5.0642, -4.8718, -4.5797, -5.2855, -4.5764, -5.1054, -4.9911, -4.9502, -4.9174, -5.0509, -5.2282, -5.2738, -5.2729, -7.1398, -7.4498, -7.4638, -7.5814, -7.599, -7.7313, -7.568, -7.3705, -7.6126, -6.871, -7.6436, -7.7858, -7.7141, -7.825, -7.8709, -7.8796, -7.9433, -8.0788, -7.0269, -8.1008, -7.9816, -7.7086, -8.1055, -8.0988, -8.1465, -8.1507, -7.897, -7.173, -8.2151, -8.2138, -7.0482, -7.0165, -5.7223, -7.5058, -7.7526, -5.3756, -7.5254, -6.1418, -6.0985, -4.8462, -5.8091, -6.6978, -7.1781, -4.6283, -6.3733, -5.4786, -4.5171, -6.5987, -7.0358, -6.56, -3.3032, -6.3483, -6.3353, -4.2754, -5.9181, -5.4497, -4.4272, -5.5469, -5.4652, -5.4205, -6.1481, -5.7578, -4.3673, -4.7424, -5.0556, -4.1343, -5.0199, -5.1557, -4.6803, -5.7788, -4.8846, -4.7202, -5.2173, -4.6571, -4.9031, -4.7069, -4.652, -5.3349, -4.7711, -5.197, -4.8748, -5.1139, -5.1235, -4.9155, -5.1848, -5.2993, -5.152, -5.2888, -5.2693], \"loglift\": [30.0, 29.0, 28.0, 27.0, 26.0, 25.0, 24.0, 23.0, 22.0, 21.0, 20.0, 19.0, 18.0, 17.0, 16.0, 15.0, 14.0, 13.0, 12.0, 11.0, 10.0, 9.0, 8.0, 7.0, 6.0, 5.0, 4.0, 3.0, 2.0, 1.0, 1.4623, 1.4615, 1.4599, 1.4597, 1.4565, 1.4559, 1.4557, 1.4555, 1.4548, 1.4537, 1.4521, 1.452, 1.4518, 1.4518, 1.4518, 1.4516, 1.4509, 1.4498, 1.4487, 1.4482, 1.448, 1.4478, 1.4472, 1.447, 1.4467, 1.4461, 1.4448, 1.4416, 1.4409, 1.4402, 1.4396, 1.4394, 1.4052, 1.4269, 1.4066, 1.4104, 1.4322, 1.3544, 1.3163, 1.3202, 1.3804, 1.4281, 1.1325, 1.3232, 1.3473, 1.1559, 1.3216, 1.2151, 1.0912, 1.2703, 1.2109, 1.2832, 0.6667, 1.1581, 0.9431, 1.1621, 1.0522, 0.9964, 0.8539, 0.5618, 0.7015, 0.9129, 0.5982, 1.0009, 0.4659, 0.8421, 0.8709, 0.7039, 0.7458, 0.7393, 0.8677, 0.6982, 0.5146, 0.2764, 0.7131, 0.7561, 0.1819, 0.3468, -0.0647, 0.2107, -0.184, 0.4818, 0.402, 0.3326, 0.1211, 0.282, 0.3909, -0.7345, -0.7136, 0.1978, -0.1905, -0.1624, 2.579, 2.5775, 2.5772, 2.576, 2.5741, 2.569, 2.5647, 2.5634, 2.5621, 2.5617, 2.561, 2.5597, 2.5594, 2.5592, 2.557, 2.5569, 2.5566, 2.5558, 2.5533, 2.5532, 2.5527, 2.5525, 2.5509, 2.5506, 2.5491, 2.5489, 2.5468, 2.5465, 2.5447, 2.5442, 2.5381, 2.5364, 2.4996, 2.4636, 2.3685, 2.5135, 2.5129, 1.9827, 1.8875, 2.165, 2.242, 1.786, 2.4194, 1.6513, 1.3908, 1.434, 1.7422, 1.8358, 1.6521, 2.1506, 1.6735, 0.8551, 1.2285, 1.273, 1.6203, 0.7534, 1.5771, 0.5271, 1.1128, 1.0617, 0.8313, 0.8754, 1.2311, 0.2982, 0.4859, -0.4276, 0.4861, 0.4899, 0.2414, 0.3985, -0.6128, 0.5547, 0.0642, 0.3549, -0.3543, 1.6584, 1.6522, 1.6514, 1.645, 1.6427, 1.6419, 1.6403, 1.6398, 1.6391, 1.6386, 1.6381, 1.6377, 1.6375, 1.6371, 1.6366, 1.6366, 1.6363, 1.6361, 1.6354, 1.635, 1.6345, 1.6344, 1.6342, 1.6332, 1.6329, 1.6325, 1.6318, 1.6303, 1.6298, 1.6282, 1.5798, 1.5931, 1.6147, 1.5248, 1.6216, 1.4627, 1.5311, 1.4745, 1.5231, 1.4669, 1.4932, 1.4023, 1.4079, 1.351, 1.4038, 1.4128, 1.4188, 1.5614, 1.5795, 1.2975, 1.3866, 1.1119, 1.0005, 1.4177, 1.0152, 1.2937, 1.2345, 1.1242, 1.0859, 0.8084, 0.8955, 1.0986, 1.1566, 1.3004, 0.5384, 0.9173, 0.5549, 0.2661, 0.53, 0.6798, 0.5756, 0.1894, 0.0554, -0.2878, 0.5154, -0.1507, 0.2627, 0.4666, 0.2851, -0.4616, -0.3468, 0.1175, 1.5805, 1.5794, 1.5787, 1.5706, 1.5697, 1.5694, 1.5672, 1.566, 1.5636, 1.5632, 1.5614, 1.5602, 1.5591, 1.5578, 1.5571, 1.557, 1.5569, 1.5566, 1.556, 1.5549, 1.5547, 1.5543, 1.5543, 1.5542, 1.554, 1.5539, 1.5532, 1.5532, 1.5531, 1.5529, 1.5512, 1.5527, 1.5498, 1.5405, 1.5499, 1.5465, 1.5251, 1.5383, 1.5314, 1.4888, 1.5091, 0.9492, 1.2738, 1.494, 1.4567, 1.0724, 1.1213, 1.0361, 1.1401, 0.8869, 1.3154, 0.7025, 1.1726, 0.5391, 0.8264, 0.9475, 0.8963, 1.0558, 0.8883, 0.8955, 0.6991, 0.7221, 0.5347, 0.4967, 0.7421, 0.6241, 0.557, 0.3087, 0.6711, 0.7057, 0.5618, 0.6293, 0.6281, 0.1142, 0.4851, 0.0287, -0.0957, -0.0842, 0.3411, 0.3083, -0.3569, -0.1846, 0.0241, 0.2038, 0.1921, -0.6875, 0.0159, -0.0197, -0.4895, -0.1814, 1.6242, 1.6229, 1.6227, 1.622, 1.6207, 1.6192, 1.6177, 1.6175, 1.6175, 1.6161, 1.6139, 1.6128, 1.6127, 1.6113, 1.6107, 1.6103, 1.6094, 1.6094, 1.6092, 1.6084, 1.6084, 1.6082, 1.6069, 1.605, 1.6041, 1.6038, 1.6038, 1.6038, 1.6034, 1.6028, 1.6018, 1.5532, 1.5871, 1.5902, 1.5246, 1.5382, 1.4751, 1.2948, 1.2962, 1.5027, 1.2514, 1.3844, 1.4652, 1.3349, 1.5453, 1.5208, 0.9278, 1.1024, 1.3687, 0.7726, 1.2786, 1.2388, 1.0718, 1.3194, 0.8128, 1.2702, 0.9223, 0.5954, 0.3428, 0.2744, 0.8085, 1.075, 0.6259, 0.8283, 0.7497, 0.786, 0.7011, 0.8118, 0.9792, 0.3765, 0.4283, 0.4881, 0.0792, 0.5271, 0.3414, 0.1802, -0.0563, 0.4603, -0.2714, 0.1816, -0.0928, -0.3469, -0.7145, -0.5093, -0.0828, 0.0474, -0.349, 2.2127, 2.2084, 2.2076, 2.2055, 2.2046, 2.2027, 2.2026, 2.2023, 2.2022, 2.2022, 2.2018, 2.2016, 2.2002, 2.1993, 2.1989, 2.198, 2.1954, 2.1921, 2.1919, 2.1919, 2.1916, 2.1909, 2.1908, 2.1906, 2.1904, 2.1901, 2.1899, 2.1882, 2.1878, 2.1868, 2.1823, 2.1797, 2.1498, 2.1826, 2.181, 2.1013, 2.1605, 2.0683, 2.0338, 1.9055, 1.9916, 2.055, 2.1086, 1.7456, 1.9888, 1.8241, 1.6396, 1.9979, 2.0459, 1.907, 1.0019, 1.8392, 1.8353, 1.1593, 1.6698, 1.4884, 1.1167, 1.4994, 1.4658, 1.378, 1.6355, 1.4415, 0.7109, 0.8764, 1.0342, 0.4072, 0.8943, 0.9605, 0.562, 1.3454, 0.6258, 0.4318, 0.8599, 0.2413, 0.4693, 0.217, 0.096, 0.7923, -0.1678, 0.5422, -0.1966, 0.2708, 0.1726, -0.7126, 0.2208, 0.3168, -1.0139, 0.1568, -0.7027]}, \"token.table\": {\"Topic\": [1, 3, 4, 5, 4, 5, 4, 3, 1, 3, 4, 5, 6, 1, 2, 3, 4, 5, 6, 4, 1, 2, 3, 4, 5, 6, 2, 1, 2, 3, 4, 5, 6, 2, 1, 1, 2, 3, 4, 5, 6, 5, 1, 2, 3, 4, 5, 6, 1, 2, 3, 4, 5, 6, 1, 4, 5, 6, 1, 6, 1, 2, 4, 5, 6, 1, 2, 3, 4, 5, 6, 5, 6, 1, 2, 3, 4, 5, 6, 1, 6, 1, 2, 3, 4, 5, 6, 1, 2, 3, 4, 5, 6, 4, 5, 1, 2, 3, 4, 5, 6, 1, 2, 3, 4, 5, 6, 1, 2, 3, 4, 5, 6, 1, 4, 1, 2, 3, 4, 5, 2, 2, 6, 1, 2, 3, 4, 5, 6, 1, 2, 3, 4, 5, 6, 1, 2, 3, 4, 5, 6, 1, 1, 3, 4, 5, 1, 2, 3, 4, 5, 6, 5, 2, 1, 2, 3, 4, 5, 6, 4, 1, 1, 2, 3, 4, 5, 6, 1, 3, 4, 5, 1, 3, 4, 5, 1, 5, 3, 4, 6, 1, 4, 5, 6, 5, 1, 1, 3, 4, 6, 1, 1, 3, 4, 5, 6, 4, 5, 6, 3, 3, 1, 2, 3, 4, 5, 6, 1, 2, 3, 4, 5, 6, 1, 2, 3, 4, 5, 6, 1, 2, 3, 4, 5, 6, 3, 5, 2, 5, 6, 1, 3, 4, 6, 4, 3, 3, 4, 5, 6, 1, 4, 5, 6, 1, 1, 1, 5, 1, 2, 3, 4, 5, 6, 1, 2, 3, 4, 5, 6, 2, 1, 2, 3, 4, 5, 6, 3, 4, 1, 2, 3, 4, 5, 6, 4, 5, 1, 2, 3, 4, 5, 6, 4, 1, 2, 3, 4, 5, 6, 6, 3, 4, 6, 1, 2, 3, 4, 5, 6, 6, 2, 2, 1, 2, 3, 4, 5, 6, 1, 2, 3, 4, 5, 6, 1, 2, 3, 4, 5, 1, 2, 3, 4, 5, 6, 1, 1, 2, 3, 4, 5, 6, 1, 2, 3, 4, 5, 6, 1, 2, 4, 6, 3, 1, 2, 3, 4, 5, 6, 1, 2, 3, 4, 5, 6, 2, 5, 1, 3, 4, 5, 6, 5, 1, 2, 3, 4, 5, 6, 1, 2, 3, 4, 5, 6, 4, 1, 3, 5, 2, 1, 2, 3, 4, 5, 6, 1, 2, 3, 4, 5, 6, 1, 2, 3, 4, 5, 6, 1, 2, 3, 4, 5, 6, 1, 1, 2, 3, 4, 5, 6, 2, 1, 3, 4, 5, 6, 3, 3, 5, 6, 6, 1, 3, 1, 3, 1, 2, 3, 4, 5, 6, 1, 2, 6, 3, 1, 2, 3, 4, 5, 6, 4, 1, 2, 3, 4, 5, 6, 3, 1, 2, 3, 4, 5, 6, 1, 2, 3, 4, 5, 6, 1, 1, 2, 3, 4, 5, 6, 4, 3, 4, 6, 6, 1, 4, 1, 3, 4, 5, 6, 3, 4, 1, 4, 5, 4, 2, 1, 2, 3, 4, 5, 6, 1, 2, 3, 4, 5, 6, 1, 2, 3, 4, 5, 6, 1, 2, 3, 4, 5, 6, 1, 2, 3, 4, 5, 6, 5, 2, 3, 5, 1, 1, 2, 3, 4, 5, 6, 1, 4, 1, 2, 3, 4, 5, 6, 1, 2, 3, 4, 5, 6, 1, 3, 4, 5, 6, 5, 2, 6, 5, 3, 4, 2, 5, 4, 1, 2, 3, 4, 5, 6, 4, 1, 2, 3, 4, 5, 6, 3, 3, 5, 1, 2, 3, 4, 5, 6, 3, 5, 6, 1, 2, 3, 4, 5, 6, 5, 4, 6, 1, 2, 3, 4, 5, 6, 2, 1, 2, 3, 4, 5, 6, 1, 2, 3, 4, 5, 6, 5, 1, 2, 3, 4, 5, 6, 2, 1, 2, 3, 4, 5, 6, 4, 1, 2, 3, 4, 5, 6, 1, 2, 3, 4, 5, 6, 1, 2, 3, 4, 5, 6, 1, 2, 3, 4, 5, 6, 1, 2, 3, 4, 5, 6, 1, 2, 3, 4, 5, 6, 1, 2, 3, 4, 5, 6, 1, 2, 3, 4, 5, 6, 2, 1, 2, 3, 4, 5, 6, 1, 2, 3, 4, 5, 1, 4, 1, 2, 3, 4, 5, 6, 1, 3, 4, 5, 6, 6, 3, 1, 2, 3, 4, 5, 6, 2, 6, 1, 2, 3, 4, 5, 6, 1, 1, 2, 3, 4, 5, 6, 1, 2, 3, 4, 5, 6, 6, 3, 6, 1, 2, 3, 4, 5, 6, 1, 4, 6, 1, 2, 3, 4, 5, 6, 1, 2, 3, 4, 5, 6, 1, 4, 5, 1, 2, 3, 4, 5, 6, 1, 2, 3, 4, 5, 6, 1, 2, 3, 4, 5, 6, 6, 5, 2, 1, 1, 2, 3, 4, 5, 6, 1, 2, 3, 4, 5, 6, 6, 3, 5, 3, 1, 2, 6, 3, 4, 1, 2, 3, 4, 5, 6, 1, 2, 3, 4, 5, 6, 1, 2, 3, 4, 5, 6, 2, 1, 2, 3, 4, 5, 6, 4, 6, 3, 3, 4, 5, 6, 6, 4, 1, 4, 1, 5, 1, 2, 4, 5, 6, 1, 1, 2, 3, 4, 5, 6, 1, 2, 3, 4, 5, 6, 4, 3, 1, 2, 3, 4, 5, 6, 1, 2, 5, 2, 3, 4, 1, 2, 3, 4, 5, 6, 2, 6, 1, 2, 3, 4, 5, 6, 1, 1, 6, 1, 2, 3, 4, 5, 6, 1, 4, 1, 2, 3, 4, 5, 6, 6, 1, 2, 3, 4, 5, 6, 2, 5, 1, 2, 3, 4, 5, 6, 3, 1, 2, 3, 4, 5, 6, 1, 2, 3, 4, 5, 6, 1, 2, 3, 4, 5, 6, 1, 2, 3, 4, 5, 6, 1, 2, 3, 4, 5, 6, 1, 1, 3, 1, 3, 4, 5, 1, 2, 3, 4, 5, 6, 2, 1, 2, 3, 4, 5, 6, 1, 4, 5, 6, 5, 1, 2, 3, 4, 5, 6, 2, 3, 4, 5, 1, 2, 3, 4, 5, 6, 1, 2, 3, 4, 5, 6, 1, 3, 4, 5, 1, 1, 2, 3, 4, 5, 6, 1, 2, 3, 4, 5, 6, 3, 5, 1, 2, 3, 4, 5, 3, 2, 3, 1, 2, 3, 4, 5, 6, 1, 1, 2, 3, 4, 5, 6, 1, 2, 3, 4, 5, 6, 1, 2, 3, 4, 5, 6, 4, 4, 2, 4, 5, 6, 1, 2, 3, 4, 5, 6, 1, 2, 1, 1, 2, 3, 4, 5, 6, 1, 2, 3, 4, 5, 6, 6, 1, 2, 3, 4, 5, 6, 1, 2, 3, 4, 5, 6, 4, 5, 4, 1, 2, 3, 4, 5, 6, 1, 4, 5, 4, 5, 6, 3, 5, 3, 4, 3, 1, 2, 3, 4, 5, 6, 5, 1, 2, 3, 4, 5, 6, 2, 2, 4, 3, 4, 4, 5, 1, 2, 3, 4, 5, 6, 4, 3, 1, 2, 3, 4, 5, 6, 6, 1, 2, 3, 4, 5, 6, 2, 2, 1, 5, 3, 5, 1, 2, 1, 2, 3, 4, 5, 6, 1, 2, 3, 4, 5, 6, 1, 2, 3, 4, 5, 6, 4, 1, 2, 3, 4, 5, 6, 5, 1, 3, 4, 5, 6, 5, 3, 4, 4, 5, 1, 2, 3, 4, 5, 6, 1, 2, 3, 4, 5, 6, 5, 1, 2, 3, 4, 5, 3, 6, 1, 2, 3, 4, 5, 6, 1, 3, 4, 5, 6, 1, 2, 3, 4, 5, 6, 1, 2, 3, 4, 5, 6, 2, 5, 6, 1, 2, 3, 4, 5, 6, 1, 2, 3, 4, 5, 6, 1, 2, 3, 4, 5, 6, 1, 2, 3, 4, 5, 6, 1, 2, 3, 4, 5, 6, 1, 2, 3, 4, 5, 6, 6, 1, 2, 3, 4, 5, 6, 1, 2, 3, 4, 5, 6, 1, 3, 4, 5, 6, 1, 3, 1, 2, 3, 4, 5, 6, 1, 4, 5, 1, 2, 3, 4, 5, 6, 1, 2, 3, 4, 5, 6, 1, 5, 1, 2, 3, 4, 5, 6, 1, 3, 4, 5, 6, 1, 2, 3, 4, 5, 6, 1, 2, 3, 4, 5, 6, 1, 2, 3, 4, 5, 6, 5, 1, 2, 3, 4, 5, 6, 1, 2, 3, 4, 5, 6, 1, 2, 3, 4, 5, 6, 1, 2, 3, 4, 5, 6, 1, 3, 4, 5, 1, 4, 5, 6, 1, 2, 3, 4, 5, 6, 1, 2, 3, 4, 5, 6, 1, 5, 1, 2, 3, 4, 5, 6, 1, 2, 3, 4, 5, 6, 1, 2, 3, 4, 5, 6, 1, 2, 3, 4, 5, 6, 1, 2, 3, 4, 5, 6, 1, 2, 3, 4, 5, 6, 6, 1, 2, 3, 4, 5, 6, 1, 2, 3, 4, 5, 6, 6, 1, 2, 3, 4, 5, 6, 1, 2, 3, 4, 5, 1, 2, 3, 4, 5, 6, 1, 2, 3, 4, 6, 1, 4, 1], \"Freq\": [0.8634003141227683, 0.06058949572791356, 0.05301580876192437, 0.022721060897967587, 0.962742093111705, 0.02292243078837393, 0.961238438461373, 0.9660192739587917, 0.007849347994858775, 0.01569869598971755, 0.0941921759383053, 0.8477295834447477, 0.0313973919794351, 0.3429156572962129, 0.0406916044948271, 0.1975320606545005, 0.14222308367124034, 0.12839583942542532, 0.14814904549087538, 0.9662857066785219, 0.12167169375883159, 0.010139307813235965, 0.6945425852066637, 0.15462444415184848, 0.02027861562647193, 0.002534826953308991, 0.9463426716722729, 0.3970310862119311, 0.21675751193191917, 0.037914680304923155, 0.25181070693081037, 0.027899481733811377, 0.06867564734476647, 0.9808901504945403, 0.9811734980219932, 0.024657039183259354, 0.21883122275142677, 0.009246389693722257, 0.6595757981521877, 0.05856046806024097, 0.030821298979074194, 0.9728429595675803, 0.8603783145475957, 0.00891583745645177, 0.004457918728225885, 0.026747512369355308, 0.022289593641129424, 0.08024253710806592, 0.4625792371143013, 0.036535709490955526, 0.027866219103271167, 0.14180809276997994, 0.15883744888864565, 0.1724609337835782, 0.013651433408462895, 0.08190860045077737, 0.8873431715500881, 0.013651433408462895, 0.9747489625153066, 0.9591202281620973, 0.9350297858691228, 0.00550017521099484, 0.0275008760549742, 0.01650052563298452, 0.01100035042198968, 0.28320385656751207, 0.06054397246901394, 0.1204226265592475, 0.1700997321748487, 0.3535058319253048, 0.012197503610973505, 0.9610672626695659, 0.9789845611603268, 0.09113965417727757, 0.5449683936959264, 0.05141211261282324, 0.09908516249016844, 0.07057480913214827, 0.14301914963203557, 0.02863420621162439, 0.9735630111952293, 0.2348690039381308, 0.08395317587575739, 0.17257041707794574, 0.27751188692264245, 0.10527461736801323, 0.12626291133695258, 0.0457534093741809, 0.005382754044021283, 0.3310393737073089, 0.18032226047471298, 0.39294104521355366, 0.045215133969778776, 0.95394826720658, 0.029810883350205625, 0.15104620281871275, 0.010275251892429439, 0.09658736778883673, 0.5260928968923873, 0.09453231741035084, 0.12124797233066738, 0.0700148998496089, 0.00989340976135778, 0.1864527224255889, 0.2663610320365556, 0.4459644707812045, 0.020547851042820003, 0.5482920316013474, 0.02269998856948254, 0.11000763691364614, 0.21128450899287593, 0.08818072482760524, 0.019207682635715994, 0.9521439670676454, 0.03071432151831114, 0.020062573012160273, 0.0016718810843466894, 0.688815006750836, 0.03343762168693379, 0.2557978059050435, 0.9399896279312876, 0.046259762274369884, 0.9251952454873976, 0.538645794004463, 0.023391132188372337, 0.13125024172364477, 0.08576748469069857, 0.10006206547248166, 0.12085418297325708, 0.046812322987800296, 0.012825293969260356, 0.3360227019946213, 0.21482367398511096, 0.2991499818329978, 0.0904183224832855, 0.20490831774261006, 0.0502605307670553, 0.052837993883314546, 0.1327393504873512, 0.1327393504873512, 0.4278588772990349, 0.9816323301730415, 0.9849477401160258, 0.07602343674860336, 0.00950292959357542, 0.9122812409832404, 0.5458802533599986, 0.14011899551486595, 0.016541825859393896, 0.25007348505083715, 0.018487923019322592, 0.02821840881896606, 0.9786574178310692, 0.9551933956616365, 0.03413850868377647, 0.021336567927360297, 0.16855888662614635, 0.07254433095302501, 0.03413850868377647, 0.6678345761263773, 0.9674400019031775, 0.9524525554396368, 0.03150533854599611, 0.004145439282367909, 0.6914592722989672, 0.15338125344761264, 0.09285783992504117, 0.025701723550681035, 0.04129082051940578, 0.0068818034199009635, 0.05505442735920771, 0.8946344445871253, 0.022394240655700885, 0.007464746885233628, 0.9629523481951381, 0.007464746885233628, 0.021169820319170276, 0.9526419143626624, 0.05300987170524508, 0.9409252227681001, 0.01325246792631127, 0.07872968230081763, 0.012698335854970585, 0.022857004538947054, 0.8812645083349586, 0.962225272520985, 0.9790138366638577, 0.024219025881561742, 0.8961039576177845, 0.03632853882234262, 0.024219025881561742, 0.9796300406207495, 0.018465819600004128, 0.06155273200001376, 0.07386327840001651, 0.04924218560001101, 0.7878749696001761, 0.029630002414031954, 0.029630002414031954, 0.9481600772490225, 0.9675078546124319, 0.9645252196453212, 0.08298932455945668, 0.03195088995539082, 0.19972764110642574, 0.20968636005356053, 0.42213903092576965, 0.05338979879991713, 0.05912505320512782, 0.01617849714568174, 0.5744837259184807, 0.12001503337160274, 0.20443737302270565, 0.025591440939532938, 0.044696001047959004, 0.010788689908128035, 0.7297778102140893, 0.11944620969713182, 0.0670440015719385, 0.02851296618576695, 0.0038636335166816072, 0.0028977251375112054, 0.0531249608543721, 0.008693175412533616, 0.9214765937285633, 0.009659083791704017, 0.9632446082017245, 0.024698579697480117, 0.014174171570278771, 0.028348343140557543, 0.9496694952086777, 0.07636658692448554, 0.16546093833638537, 0.7573019870011484, 0.9793930252439919, 0.983928732699867, 0.9652715892904888, 0.07296552686058667, 0.03648276343029334, 0.8755863223270401, 0.009120690857573334, 0.10006835966661325, 0.04548561803027875, 0.00909712360605575, 0.8460324953631847, 0.9749519604176716, 0.9760253534025333, 0.012289150161868673, 0.9708428627876251, 0.4610741998102032, 0.035231583374201576, 0.11182198201377022, 0.14552175741518042, 0.14194753881200056, 0.10416294214981335, 0.18963766470125987, 0.10104780673862751, 0.329212831543428, 0.10035569847329445, 0.06021341908397667, 0.21939832011058166, 0.9716584176125417, 0.039449378341137945, 0.0068607614506326865, 0.339607691806318, 0.08061394704493406, 0.4905444437202371, 0.04287975906645429, 0.11683102042042894, 0.8762326531532171, 0.11129312423963837, 0.020998702686724224, 0.014699091880706956, 0.6362606914077439, 0.13859143773237986, 0.07769519994087962, 0.01791220097863354, 0.9672588528462112, 0.06251925857677601, 0.010674019757010537, 0.7700542824700459, 0.039646359097467714, 0.1006407577089565, 0.018298319583446635, 0.9478597712116051, 0.3294759621332993, 0.06280801862961118, 0.02714583856025568, 0.19640812605361463, 0.12029332381603497, 0.2634743154377757, 0.9802159460690002, 0.01976013138573244, 0.9682464379008895, 0.9821129268136007, 0.24599428882416846, 0.08891359837018137, 0.008891359837018137, 0.050384372409769444, 0.13040661094293268, 0.47716964458664, 0.9885910904022892, 0.987712060460941, 0.9861324287876104, 0.4468928049772117, 0.048897422295251944, 0.14172843765275298, 0.10246232580959612, 0.25648920603963976, 0.0034820891634497596, 0.012844430846517284, 0.014449984702331945, 0.8252546818887355, 0.04977216953025448, 0.09633323134887962, 0.0016055538558146605, 0.0038112793067748623, 0.022867675840649172, 0.8422927267972445, 0.08765942405582183, 0.045735351681298345, 0.007022312279586674, 0.01053346841938001, 0.1228904648927668, 0.056178498236693394, 0.017555780698966687, 0.7900101314535009, 0.9590275056552017, 0.1359591346534883, 0.005911266724064709, 0.6490570863023051, 0.037832107034014135, 0.16551546827381186, 0.0035467600344388254, 0.8566306952067815, 0.033951826334415125, 0.026116789488011632, 0.020893431590409305, 0.04439854212961977, 0.020893431590409305, 0.9745507010308517, 0.9522509711305364, 0.033430225766727224, 0.9694765472350896, 0.965405243246601, 0.22743410550327683, 0.13047300355001343, 0.0875777695061734, 0.14789919238032345, 0.22073172518392684, 0.18543252216868347, 0.015698425778507663, 0.7064291600328448, 0.005232808592835887, 0.13605302341373307, 0.02093123437134355, 0.12035459763522541, 0.9725049752525808, 0.01834915047646379, 0.07670299693828345, 0.007670299693828346, 0.061362397550626765, 0.8514032660149463, 0.003835149846914173, 0.9683903155866439, 0.4172623447312842, 0.009636543758228273, 0.13298430386355015, 0.12527506885696754, 0.17769786690172934, 0.1372243831171706, 0.04424050303124488, 0.0025646668423910074, 0.4731810324211409, 0.11797467474998635, 0.3455888570121883, 0.017311501186139302, 0.968169650781362, 0.013356134499603519, 0.013356134499603519, 0.9749978184710569, 0.9759792965749835, 0.01899474754991254, 0.0012663165033275027, 0.6015003390805638, 0.12283270082276776, 0.24946435115551802, 0.006331582516637514, 0.6577515881949358, 0.023079003094559153, 0.14506801945151468, 0.05769750773639788, 0.09066751215719668, 0.026376003536639034, 0.11857221528108215, 0.04775825337710254, 0.10210385204759853, 0.16715388681985888, 0.4388818801723388, 0.1251595605744756, 0.21505463449665135, 0.0406652259240427, 0.24658700826281213, 0.3494517641463244, 0.09536620358546184, 0.052874407229842754, 0.9689941139478017, 0.25906155154617266, 0.004934505743736621, 0.32098959863006726, 0.20700251594975128, 0.1793692837848262, 0.028620133313672406, 0.9828376319094901, 0.07002812175640853, 0.023342707252136174, 0.007780902417378725, 0.10115173142592343, 0.79365204657263, 0.977307836934002, 0.9624718520954048, 0.020051496918654266, 0.020051496918654266, 0.9758488396031916, 0.9608652156590975, 0.01812953237092637, 0.01190008706166713, 0.9758071390567046, 0.53222514185743, 0.006852684229923992, 0.05634429255715282, 0.10583590088438165, 0.10126744473109899, 0.19644361459115442, 0.9916484776404918, 0.9697977431147566, 0.9777268681155263, 0.9812453702355741, 0.19064795447470928, 0.06597486465282561, 0.11448579454460914, 0.19695437536064114, 0.33035943256304584, 0.10187295277274543, 0.9707859951517317, 0.02070320421462904, 0.007962770851780399, 0.09714580439172087, 0.6258737889499394, 0.19906927129451, 0.050961733451394556, 0.9835050450120584, 0.17793824529229438, 0.028719857134896633, 0.04495281986331647, 0.30280718935706236, 0.43766564894701177, 0.007492136643886079, 0.09458661729141604, 0.03733682261503265, 0.18170587005982555, 0.24476361492076956, 0.31777784581238894, 0.12404122179883068, 0.9673057002128208, 0.07352258750134616, 0.018016345766095634, 0.5139957468562578, 0.1694331340796788, 0.1842701247105811, 0.040669251104348235, 0.9631335388279891, 0.9833533410859857, 0.9678582545457758, 0.978183148166818, 0.9735064719014793, 0.020080101326367873, 0.9638448636656579, 0.10845397631053325, 0.820477907740556, 0.014146170823113032, 0.05186929301808112, 0.004715390274371011, 0.9730920895243523, 0.9872069939684786, 0.9111697219072904, 0.03796540507947044, 0.03796540507947044, 0.9781469081415222, 0.9736507400824229, 0.571966649122356, 0.023567563989193747, 0.17131806130606222, 0.06979624719876609, 0.10786692748900215, 0.05619957566653894, 0.008478341395613565, 0.014130568992689274, 0.7573984980081451, 0.0621745035678328, 0.15261014512104415, 0.005652227597075709, 0.7286340139612923, 0.07083941802401454, 0.04351564250046607, 0.11233107715236591, 0.03541970901200727, 0.009107925174516154, 0.683629331896697, 0.010340611742975249, 0.0884696782454549, 0.16889665846859572, 0.041362446971900994, 0.006893741161983499, 0.33094212888553726, 0.07503920364265089, 0.017316739302150205, 0.11544492868100137, 0.005772246434050068, 0.4560074682899554, 0.9733078514819189, 0.01078378786313506, 0.9813246955452904, 0.9612658070714428, 0.9861009083609201, 0.33261661300825635, 0.15412334147313264, 0.019759402752965723, 0.1211910035515231, 0.13436393872016691, 0.23777147979402086, 0.018225616120997743, 0.9659576544128804, 0.28393284205836733, 0.3995549787728571, 0.007317856754081632, 0.04537071187530612, 0.005854285403265306, 0.25758855774367345, 0.27525391890836065, 0.12701476017096644, 0.11391532668074927, 0.2775753375015637, 0.08755064408651472, 0.11872397948095557, 0.10311489113690983, 0.011457210126323315, 0.15276280168431086, 0.6950707476636144, 0.034371630378969946, 0.9792725713394084, 0.974414703046488, 0.9474508624459033, 0.9884447931422693, 0.9754549895174458, 0.9667611049505459, 0.9723685944495482, 0.9878984087417896, 0.9838806126668982, 0.024688802392867686, 0.003578087303314157, 0.8684017885143459, 0.04007457779711856, 0.05653377939236368, 0.0067983658762968985, 0.9679987735641523, 0.05466490636628722, 0.8010511279059781, 0.0021024963987033548, 0.050459913568880514, 0.0883048487455409, 0.0042049927974067095, 0.9651161813177767, 0.005650803441575297, 0.988890602275677, 0.6243937296390021, 0.07986431425615143, 0.09583717710738171, 0.13794745189698882, 0.0624393729639002, 0.001452078441020935, 0.014497016440797286, 0.014497016440797286, 0.9713001015334182, 0.15107887101614256, 0.3911751681081866, 0.038866763497928794, 0.1999757670296659, 0.07710664371363293, 0.14136218014166038, 0.9860633306058096, 0.014667911413145461, 0.953414241854455, 0.2250621324164562, 0.11106962378993943, 0.15125929029287802, 0.4282026285585822, 0.040189666502938606, 0.0438432725486603, 0.9816153324414466, 0.007312594802136552, 0.005223282001526108, 0.7678224542243379, 0.04074159961190365, 0.17027899324975115, 0.007312594802136552, 0.251406112984508, 0.10683878293731547, 0.3014757736349991, 0.2866664373862623, 0.03596553088978936, 0.017277558956859597, 0.9914589197209855, 0.36554395043202115, 0.03439620197792081, 0.13367308298086086, 0.18735813547973335, 0.11708197379151083, 0.16199936696267803, 0.9708394691394546, 0.19498505682724315, 0.07998113159028318, 0.24590472134900726, 0.1997044403682847, 0.11326520498499729, 0.1659235897587241, 0.9584775601701825, 0.2556744024192295, 0.12246266422182314, 0.373146425152389, 0.12092708222531125, 0.082921427811642, 0.04453187789884478, 0.402324846590876, 0.015352624317126865, 0.2284240926436072, 0.12497323159081775, 0.13774317144338122, 0.09111136861098654, 0.11011188318746622, 0.009371224101060956, 0.42422810642110553, 0.14264084376903358, 0.2746489525003249, 0.039106839037119756, 0.7736001706671776, 0.03473306888709777, 0.0063151034340177764, 0.07893879292522221, 0.0536783791891511, 0.05052082747214221, 0.4836848791401086, 0.03528565336038952, 0.10097125423126847, 0.1264854958918578, 0.14874260031918043, 0.10531410387562411, 0.37167817907896794, 0.02170046511392732, 0.227162315660686, 0.133434774849468, 0.1976127461438488, 0.04894147451226162, 0.04682196137655944, 0.005402534004987628, 0.13326250545636148, 0.05222449538154707, 0.7113336439900376, 0.051324073047382464, 0.20461190036817625, 0.03920904370984376, 0.16606183218286769, 0.13080664162023506, 0.11597969231819331, 0.3436557360451012, 0.972347711952368, 0.11601555667346969, 0.17223848029215116, 0.06559341088846171, 0.4948509705802996, 0.04908350474646795, 0.102182932608556, 0.9712232346168092, 0.9815434028847497, 0.05152949900862234, 0.9532957316595133, 0.9811037435447878, 0.08480440542913394, 0.8989266975488197, 0.5891697660820135, 0.0689596430755084, 0.05958648770602182, 0.14595341932486244, 0.023432888423716446, 0.11247786443383895, 0.20505847788706624, 0.02050584778870662, 0.02050584778870662, 0.027341130384942163, 0.7245399552009674, 0.9580504226459021, 0.965863593667509, 0.3837823127328936, 0.026887167864522988, 0.029767935850007594, 0.15108027657208156, 0.2743131292844786, 0.13443583932261494, 0.9300758324608996, 0.9452460582458133, 0.20509459843976346, 0.031553015144579, 0.21255258383757306, 0.24984251082662096, 0.17268104651851415, 0.1282199797238801, 0.9889237015225504, 0.15231882348825712, 0.004116724959142084, 0.04734233703013397, 0.7286603177681489, 0.026758712234423547, 0.04116724959142084, 0.10329483705093348, 0.257138211382111, 0.07911944965603415, 0.3944983670349481, 0.06813063720380719, 0.0967015495795973, 0.9670483067916776, 0.0231868409038718, 0.9506604770587438, 0.771120809607411, 0.1121012630706809, 0.003397007971838815, 0.033970079718388155, 0.010191023915516446, 0.06794015943677631, 0.07745103607994684, 0.9100496739393754, 0.9733079307108156, 0.14572138888335429, 0.03204774905893318, 0.10518235588572941, 0.3478687291012405, 0.28404714336849324, 0.08491283938691697, 0.16711591419737984, 0.030768634021900262, 0.013272744087878544, 0.2787276258454494, 0.4126616798231329, 0.09833896756019103, 0.01221277919239993, 0.9525967770071945, 0.02442555838479986, 0.003669457298348405, 0.00733891459669681, 0.022016743790090432, 0.17246449302237504, 0.7779249472498619, 0.01467782919339362, 0.05422363334913006, 0.15416523207105604, 0.04465475687575417, 0.5741325884025535, 0.06910855230771477, 0.10419443271009306, 0.11168765449624792, 0.3147074197436242, 0.05544207309525976, 0.3347951273868343, 0.09749234109504615, 0.08570755261102958, 0.9765986646817548, 0.9825135501252588, 0.9698106878420265, 0.9854458350977592, 0.006208191164637152, 0.002328071686738932, 0.9172602445751392, 0.045785409839198994, 0.02328071686738932, 0.005432167269057508, 0.03705045162949812, 0.017701882445204657, 0.815933279218503, 0.07615926168285725, 0.009468448749760631, 0.04363719858585334, 0.9794210857274508, 0.9782270625271722, 0.9520469023210434, 0.9763256366599503, 0.02629232583792289, 0.9202314043273012, 0.02629232583792289, 0.04286378795698251, 0.9430033350536152, 0.07348638613507756, 0.010337534441020086, 0.5215960312523396, 0.15304045552901474, 0.23349344096130148, 0.008090244345146153, 0.13494919196602215, 0.012145427276941994, 0.36773654810741035, 0.38190621326384266, 0.08974121265740473, 0.012820173236772104, 0.11657172573240163, 0.44740300966454455, 0.045393974194860444, 0.355525605894147, 0.023968018374886314, 0.010531402013207623, 0.9595210740659971, 0.015114030482124405, 0.006045612192849762, 0.9310242776988634, 0.03325086706067369, 0.009068418289274644, 0.009068418289274644, 0.9476563460962392, 0.02707589560274969, 0.9809482996870447, 0.9107479384621513, 0.01597803400810792, 0.01597803400810792, 0.04793410202432376, 0.9817274237813514, 0.9529901943541603, 0.9795418788099155, 0.015548283790633579, 0.9728066999614611, 0.02262341162701072, 0.0037709446422764066, 0.007541889284552813, 0.007541889284552813, 0.0527932249918697, 0.9238814373577197, 0.9782185963171047, 0.27974457863724483, 0.12192171597531763, 0.05829493125350464, 0.10663706936616703, 0.2317578974224697, 0.2015440611020557, 0.061725759918378184, 0.0047481353783367835, 0.03459355775645371, 0.10988541875579413, 0.2333369385925505, 0.5555318392654036, 0.9574613829901928, 0.9785248257719243, 0.045506809556076507, 0.008727333339521522, 0.23314447635578922, 0.39896380980669816, 0.21880671444086103, 0.09537728578191378, 0.02401044160976399, 0.9604176643905596, 0.9908041415585105, 0.9323846315598159, 0.023907298245123484, 0.023907298245123484, 0.1932909483826907, 0.03683618483522589, 0.17031784386179713, 0.15922737961033126, 0.181408308113263, 0.259041557873524, 0.8411235706172073, 0.14557907952990126, 0.031151955421404184, 0.6541910638494879, 0.02180636879498293, 0.07164949746922962, 0.09968625734849339, 0.12460782168561674, 0.9843901791285623, 0.9708860269761745, 0.9898786832271343, 0.3245580086016139, 0.09541026886027343, 0.10220587205544959, 0.127757340069312, 0.16064805953396466, 0.18918959295370458, 0.9717094529550367, 0.023700230559878945, 0.05605019957705404, 0.03816183800990913, 0.023851148756193208, 0.0572427570148637, 0.6809502969893161, 0.1442994499749689, 0.9727025248135155, 0.0378570682317613, 0.015875544742351512, 0.067165766217641, 0.29430817560820877, 0.5690772192258311, 0.015875544742351512, 0.9513836635578737, 0.9857293424388466, 0.07369442024594913, 0.19794664042807267, 0.11396927782222366, 0.595553745010868, 0.006855294906599919, 0.011996766086549858, 0.9624679886975681, 0.08545250122231772, 0.03373125048249384, 0.08320375119015147, 0.33101600473487286, 0.30897825441964355, 0.15741250225163791, 0.23587992402107882, 0.42847912803828997, 0.005410090000483459, 0.03787063000338421, 0.07249520600647835, 0.22073167201972513, 0.3319976270909226, 0.13565494440274256, 0.0035698669579669095, 0.04462333697458637, 0.07139733915933819, 0.4141045671241615, 0.13592917929519302, 0.22854026848532455, 0.03360886301254773, 0.4130155832430865, 0.10904208888515485, 0.07991440760761348, 0.48065306637260014, 0.033683140357590444, 0.17643549711118803, 0.14061374466740137, 0.12350484797783162, 0.045445506831669646, 0.9959512059407976, 0.9844784714938387, 0.9751474965948672, 0.15033910339587955, 0.05011303446529318, 0.06833595608903616, 0.728916864949719, 0.05177069449227093, 0.28301312989108107, 0.07593035192199736, 0.027611037062544495, 0.010354138898454187, 0.5522207412508899, 0.959899729041938, 0.05646344228733464, 0.4952564698500788, 0.07117997777711867, 0.21474128316725674, 0.06126884163093759, 0.10061304875668672, 0.9400531328518836, 0.04601658692281948, 0.006573798131831354, 0.006573798131831354, 0.9760694650127233, 0.0351754044276186, 0.0013027927565784666, 0.055368692154584835, 0.301596523147915, 0.3250467927663274, 0.2814032354209488, 0.004108870752208331, 0.7806854429195829, 0.028762095265458316, 0.18079031309716656, 0.08665510840824633, 0.010360936874899019, 0.020721873749798038, 0.27032626209963806, 0.5868057884601899, 0.025431390511115773, 0.004891085224292957, 0.014673255672878872, 0.06358410791580844, 0.01956434089717183, 0.07336627836439437, 0.8217023176812169, 0.9341659051439355, 0.027208715683803945, 0.009069571894601315, 0.027208715683803945, 0.9791845197022879, 0.2042203807378884, 0.029442815627855078, 0.04510388777033118, 0.25872091179370527, 0.20735259516638363, 0.254962254479511, 0.11180904599092627, 0.05082229363223921, 0.015246688089671764, 0.0965623579012545, 0.04574006426901529, 0.6759365053087816, 0.9830791374324411, 0.9716571252509637, 0.8816880059972695, 0.03365221396936143, 0.013460885587744572, 0.020191328381616858, 0.047113099557106006, 0.982424022421965, 0.9159802445340062, 0.06542716032385758, 0.044275495616587224, 0.009838999025908273, 0.1119186139197066, 0.038126121225394556, 0.07133274293783497, 0.7243963032824965, 0.9897359284295898, 0.10731911855572965, 0.0676257459392269, 0.2627848279703654, 0.12790086731984218, 0.10474639996021559, 0.3293079802258006, 0.27308595004071445, 0.2561899847863969, 0.2726930206161955, 0.11552125080859, 0.028683847989887996, 0.053438401734585854, 0.301622090707018, 0.1511232835426467, 0.06744344885374316, 0.3821795435045446, 0.03184829529204538, 0.06494554334064156, 0.9935815983432446, 0.9786993477760749, 0.08848103250582605, 0.05056059000332917, 0.012640147500832293, 0.8342497350549313, 0.46804688018093094, 0.03486244590888075, 0.10607084606319037, 0.10087856688527196, 0.12461470027004183, 0.16541117952511505, 0.010339733451049436, 0.9822746778496964, 0.9681015070644509, 0.11240385322289216, 0.1764172389482035, 0.11909938960620522, 0.5265126337787097, 0.03783992531781478, 0.027695173221885885, 0.16658276715492154, 0.3920331287179733, 0.05886759440813017, 0.28932796400591637, 0.02254503615630517, 0.07139261449496638, 0.9756683010002749, 0.09071401526148584, 0.0034890005869802243, 0.7763026306030999, 0.04012350675027258, 0.07675801291356493, 0.012211502054430785, 0.32002177095085327, 0.11179331953975119, 0.06643309084470837, 0.13429485030973307, 0.3646676653357379, 0.0028573372406326186, 0.9708028372904925, 0.9524188761497447, 0.9829609874129194, 0.12019349506274946, 0.30154825331362906, 0.053806427741456275, 0.41148368841128075, 0.04083869155916286, 0.07238706465936924, 0.021111174441218933, 0.928891675413633, 0.042222348882437866, 0.0931017334665974, 0.015516955577766235, 0.8844664679326754, 0.9588006383472899, 0.021790923598802043, 0.9806662392402479, 0.9808537326939774, 0.9949474133572394, 0.0670880802353636, 0.013360761741788513, 0.4627940450134404, 0.14753692221251571, 0.23367119471808848, 0.07533195450157354, 0.9760145478108158, 0.7306592182200069, 0.09574155273227676, 0.0050390290911724615, 0.09826106727786299, 0.052909805457310846, 0.020156116364689846, 0.9842154051702007, 0.943334875674414, 0.0325287888163591, 0.9783380101801755, 0.980457239392342, 0.9668991735695821, 0.02544471509393637, 0.005114327640162754, 0.002557163820081377, 0.8745500264678309, 0.05625760404179029, 0.05625760404179029, 0.005114327640162754, 0.9785846523899033, 0.9559519925838295, 0.0863280188502598, 0.025329777986004373, 0.014474158849145356, 0.40992885597758094, 0.439394107920484, 0.02481284374139204, 0.954816021472748, 0.8186169293991867, 0.030319145533303213, 0.005053190922217202, 0.030319145533303213, 0.02526595461108601, 0.09095743659990964, 0.9607196147101169, 0.9770562932079497, 0.9797077321711344, 0.02449269330427836, 0.08042169853480612, 0.9168073632967897, 0.03237553638551962, 0.9388905551800689, 0.06265397637912541, 0.0032407229161616597, 0.5817097634510179, 0.08803963922239175, 0.1885020496234032, 0.07561686804377206, 0.12470930133778942, 0.016825858117003333, 0.5597072214803168, 0.14252491581461646, 0.0836344124051048, 0.07225221426713196, 0.059238746913313954, 0.08083316697038406, 0.21127513677457785, 0.10213577054019647, 0.4931698634655201, 0.05311060068090217, 0.9562197637917903, 0.042295256985036125, 0.005286907123129516, 0.021147628492518063, 0.05286907123129515, 0.03172144273877709, 0.851192046823852, 0.9645030386035177, 0.828240138036862, 0.02937021766088163, 0.09985874004699755, 0.02937021766088163, 0.011748087064352652, 0.988033168933858, 0.9695198984870799, 0.9856532306145049, 0.9683463436543379, 0.020173882159465372, 0.13991945991877058, 0.021072207819091957, 0.0893461611529499, 0.059002181893457475, 0.07417417152320369, 0.6178371332557762, 0.3391451915019805, 0.04706504698394832, 0.12965959022048507, 0.24593794159259266, 0.1273524800742131, 0.11120270905030925, 0.9879150232111227, 0.00992781088700793, 0.004963905443503965, 0.8686834526131938, 0.00992781088700793, 0.10920591975708722, 0.012532361150038501, 0.977524169703003, 0.05353706110137661, 0.04437940591298325, 0.24162120997068656, 0.10777855721724502, 0.4275920537965211, 0.12468499756504817, 0.07268858473566966, 0.09345675180300385, 0.025960208834167737, 0.768422181491365, 0.03634429236783483, 0.19091613444588632, 0.019166148466402418, 0.1625928261566472, 0.1851662899059656, 0.14864412921720987, 0.2935615073437304, 0.39737234804498767, 0.36231008204101817, 0.03311436233708231, 0.15778019701786275, 0.005843711000661583, 0.04090597700463108, 0.9567468516430694, 0.9938921894048752, 0.9722809444196201, 0.2732834906747683, 0.1045479546175715, 0.020423321367153503, 0.35740812392518634, 0.20617829189697823, 0.03792902539614222, 0.06528940362111127, 0.020985879735357194, 0.36084054322739173, 0.41971759470714387, 0.1084270452993455, 0.02506646746167665, 0.15861078454552055, 0.09122174655208695, 0.019723620876126908, 0.499665062195215, 0.1561453319360047, 0.0747853958219812, 0.11359471384582677, 0.08813382970796906, 0.12730442068928863, 0.5856003351707276, 0.05288029782478143, 0.03329500233412164, 0.8591104860793325, 0.05295886558023282, 0.005884318397803647, 0.011768636795607294, 0.02353727359121459, 0.050016706381330996, 0.43293302929942973, 0.3786278409552504, 0.004525432362014945, 0.0030169549080099633, 0.02715259417208967, 0.15386470030850813, 0.9845677443413511, 0.10449232384276155, 0.2089846476855231, 0.09767760707040754, 0.49861011051056875, 0.043159872891575427, 0.04656723127775243, 0.1111385822993318, 0.1799629337232299, 0.0856480817719621, 0.4659663496403177, 0.08972656185634126, 0.06780473140280334, 0.011442909692838333, 0.7723964042665875, 0.09869509610073063, 0.11442909692838334, 0.0014303637116047916, 0.031711427397458775, 0.9513428219237633, 0.03519469727483273, 0.0031995179340757024, 0.031995179340757025, 0.16637493257193653, 0.742288160705563, 0.02239662553852992, 0.9685975774857023, 0.014675720870995489, 0.014675720870995489, 0.7118763273127096, 0.07940617147938757, 0.04962885717461723, 0.11672707207469972, 0.03493871545093053, 0.007146555433144881, 0.011051427526927005, 0.02026095046603284, 0.07735999268848903, 0.30943997075395613, 0.5709904222245619, 0.009209522939105838, 0.03184166650204674, 0.9552499950614022, 0.4887456125959183, 0.08187966221382396, 0.02279124618322935, 0.11057975000011278, 0.10720326908407879, 0.18908293129790277, 0.0022918540131098993, 0.7815222184704756, 0.07563118243262668, 0.13980309479970385, 0.0022918540131098993, 0.02277938705207708, 0.009111754820830834, 0.31283691551519194, 0.12149006427774443, 0.5193700247873575, 0.015186258034718054, 0.014860411928274904, 0.016511568809194337, 0.361603356921356, 0.10237172661700489, 0.023116196332872072, 0.48213780922847466, 0.005675331836261756, 0.017025995508785266, 0.15039629366093651, 0.1645846232515909, 0.09080530938018809, 0.5732085154624373, 0.9519317002320007, 0.015505827190581934, 0.04134887250821849, 0.1447210537787647, 0.07752913595290967, 0.04134887250821849, 0.6770877873220777, 0.4640146639638, 0.13225099629134748, 0.06544379197922351, 0.13134205473608052, 0.08498603541746386, 0.12225263918341057, 0.09556407165158536, 0.05257570285038677, 0.32380447579032323, 0.22839503855888604, 0.21107598350228807, 0.08860552274491652, 0.007872645196657594, 0.005248430131105063, 0.21518563537530755, 0.07872645196657593, 0.671799056781448, 0.02099372052442025, 0.22945002816372523, 0.03457466177809558, 0.03457466177809558, 0.7009226887741196, 0.8875146392759862, 0.03979886274780207, 0.02785920392346145, 0.03581897647302186, 0.21165550743969014, 0.03624238141090585, 0.25137715746604294, 0.24702807169673424, 0.1965786767727533, 0.057407932154874865, 0.14156323353192188, 0.025738769733076705, 0.05246749214819482, 0.49497634102070587, 0.23263888027973176, 0.05147753946615341, 0.022572075123497386, 0.9705992303103876, 0.03362370853955605, 0.0063440959508596325, 0.23155950220637658, 0.24297887491792391, 0.18144114419458549, 0.3032477864510904, 0.6215239418200511, 0.14251504398421552, 0.08445335939805365, 0.05674210084556729, 0.022432923590108, 0.07257710573270236, 0.7334387702789912, 0.009092216160483361, 0.08182994544435025, 0.09698363904515586, 0.06667625184354466, 0.012122954880644483, 0.017390733128262933, 0.010869208205164333, 0.17064656882108004, 0.03695530789755873, 0.7130200582587802, 0.05108527856427236, 0.3039919461980065, 0.12188698558774487, 0.31632574831105215, 0.11644560230257768, 0.10012145244707614, 0.040991754081592766, 0.03576138161358355, 0.006811691735920675, 0.5670733370153962, 0.09621514576987954, 0.2298945960873228, 0.06385961002425633, 0.9707252729643023, 0.07062343289674629, 0.002942643037364429, 0.12359100756930602, 0.10004986327039059, 0.2354114429891543, 0.466408921422262, 0.3025020283400633, 0.15935727767456928, 0.05793012699584218, 0.2087857136778476, 0.1376087658331268, 0.13385220469687767, 0.9692260302841125, 0.09923536159540433, 0.26807656923877, 0.073368324212716, 0.38048060441081566, 0.08042297077163099, 0.09829474205421566, 0.0227101263012422, 0.6434535785351957, 0.0227101263012422, 0.2876615998157345, 0.015140084200828133, 0.025320964086849106, 0.4705479159472792, 0.016880642724566068, 0.28275076563648166, 0.008440321362283034, 0.19623747167308056, 0.03646047738717929, 0.8841665766390977, 0.009115119346794822, 0.018230238693589643, 0.06380583542756375, 0.9478430347359744, 0.01895686069471949, 0.9860295653300849], \"Term\": [\"adjustable\", \"adjustable\", \"adjustable\", \"adjustable\", \"adn\", \"adn\", \"adored\", \"afternoon\", \"ago\", \"ago\", \"ago\", \"ago\", \"ago\", \"also\", \"also\", \"also\", \"also\", \"also\", \"also\", \"alter\", \"ankle\", \"ankle\", \"ankle\", \"ankle\", \"ankle\", \"ankle\", \"aqua\", \"arm\", \"arm\", \"arm\", \"arm\", \"arm\", \"arm\", \"artsy\", \"asked\", \"available\", \"available\", \"available\", \"available\", \"available\", \"available\", \"awhile\", \"awkward\", \"awkward\", \"awkward\", \"awkward\", \"awkward\", \"awkward\", \"back\", \"back\", \"back\", \"back\", \"back\", \"back\", \"background\", \"background\", \"background\", \"background\", \"backwards\", \"ball\", \"band\", \"band\", \"band\", \"band\", \"band\", \"beautiful\", \"beautiful\", \"beautiful\", \"beautiful\", \"beautiful\", \"beautiful\", \"began\", \"bias\", \"big\", \"big\", \"big\", \"big\", \"big\", \"big\", \"bird\", \"bird\", \"bit\", \"bit\", \"bit\", \"bit\", \"bit\", \"bit\", \"black\", \"black\", \"black\", \"black\", \"black\", \"black\", \"blonde\", \"blonde\", \"blouse\", \"blouse\", \"blouse\", \"blouse\", \"blouse\", \"blouse\", \"blue\", \"blue\", \"blue\", \"blue\", \"blue\", \"blue\", \"body\", \"body\", \"body\", \"body\", \"body\", \"body\", \"boob\", \"boob\", \"boot\", \"boot\", \"boot\", \"boot\", \"boot\", \"bootie\", \"bordeaux\", \"bordeaux\", \"bottom\", \"bottom\", \"bottom\", \"bottom\", \"bottom\", \"bottom\", \"bought\", \"bought\", \"bought\", \"bought\", \"bought\", \"bought\", \"boxy\", \"boxy\", \"boxy\", \"boxy\", \"boxy\", \"boxy\", \"break\", \"bunched\", \"burgundy\", \"burgundy\", \"burgundy\", \"bust\", \"bust\", \"bust\", \"bust\", \"bust\", \"bust\", \"byron\", \"cable\", \"cami\", \"cami\", \"cami\", \"cami\", \"cami\", \"cami\", \"carefully\", \"carrying\", \"casual\", \"casual\", \"casual\", \"casual\", \"casual\", \"casual\", \"caught\", \"caught\", \"caught\", \"caught\", \"chance\", \"chance\", \"chance\", \"chance\", \"charcoal\", \"charcoal\", \"charming\", \"charming\", \"charming\", \"cheap\", \"cheap\", \"cheap\", \"cheap\", \"checked\", \"chemise\", \"chino\", \"chino\", \"chino\", \"chino\", \"cinched\", \"clean\", \"clean\", \"clean\", \"clean\", \"clean\", \"cleaner\", \"cleaner\", \"cleaner\", \"coh\", \"college\", \"color\", \"color\", \"color\", \"color\", \"color\", \"color\", \"comfortable\", \"comfortable\", \"comfortable\", \"comfortable\", \"comfortable\", \"comfortable\", \"comfy\", \"comfy\", \"comfy\", \"comfy\", \"comfy\", \"comfy\", \"compliment\", \"compliment\", \"compliment\", \"compliment\", \"compliment\", \"compliment\", \"complimented\", \"complimented\", \"concept\", \"concept\", \"concept\", \"consider\", \"consider\", \"consider\", \"consistently\", \"contrast\", \"convinced\", \"cooler\", \"cooler\", \"cooler\", \"cooler\", \"cost\", \"cost\", \"cost\", \"cost\", \"create\", \"creates\", \"customer\", \"customer\", \"cut\", \"cut\", \"cut\", \"cut\", \"cut\", \"cut\", \"cute\", \"cute\", \"cute\", \"cute\", \"cute\", \"cute\", \"dance\", \"day\", \"day\", \"day\", \"day\", \"day\", \"day\", \"decide\", \"decide\", \"decided\", \"decided\", \"decided\", \"decided\", \"decided\", \"decided\", \"degree\", \"degree\", \"denim\", \"denim\", \"denim\", \"denim\", \"denim\", \"denim\", \"depth\", \"didnt\", \"didnt\", \"didnt\", \"didnt\", \"didnt\", \"didnt\", \"die\", \"differently\", \"differently\", \"direction\", \"disappointed\", \"disappointed\", \"disappointed\", \"disappointed\", \"disappointed\", \"disappointed\", \"dolan\", \"draw\", \"drawstring\", \"dress\", \"dress\", \"dress\", \"dress\", \"dress\", \"dress\", \"dressed\", \"dressed\", \"dressed\", \"dressed\", \"dressed\", \"dressed\", \"dressy\", \"dressy\", \"dressy\", \"dressy\", \"dressy\", \"dry\", \"dry\", \"dry\", \"dry\", \"dry\", \"dry\", \"earring\", \"easy\", \"easy\", \"easy\", \"easy\", \"easy\", \"easy\", \"elastic\", \"elastic\", \"elastic\", \"elastic\", \"elastic\", \"elastic\", \"elasticized\", \"embellishment\", \"empire\", \"empire\", \"essential\", \"even\", \"even\", \"even\", \"even\", \"even\", \"even\", \"exchange\", \"exchange\", \"exchange\", \"exchange\", \"exchange\", \"exchange\", \"exposed\", \"exposed\", \"eye\", \"eye\", \"eye\", \"eye\", \"eye\", \"fab\", \"fabric\", \"fabric\", \"fabric\", \"fabric\", \"fabric\", \"fabric\", \"fall\", \"fall\", \"fall\", \"fall\", \"fall\", \"fall\", \"fashion\", \"faux\", \"faux\", \"faux\", \"fave\", \"favorite\", \"favorite\", \"favorite\", \"favorite\", \"favorite\", \"favorite\", \"figure\", \"figure\", \"figure\", \"figure\", \"figure\", \"figure\", \"first\", \"first\", \"first\", \"first\", \"first\", \"first\", \"fit\", \"fit\", \"fit\", \"fit\", \"fit\", \"fit\", \"flap\", \"flattering\", \"flattering\", \"flattering\", \"flattering\", \"flattering\", \"flattering\", \"flexible\", \"flimsy\", \"flimsy\", \"flimsy\", \"flimsy\", \"flimsy\", \"flip\", \"flop\", \"flop\", \"flop\", \"fly\", \"folded\", \"folded\", \"fringe\", \"fringe\", \"front\", \"front\", \"front\", \"front\", \"front\", \"front\", \"funny\", \"fussy\", \"gathered\", \"gently\", \"get\", \"get\", \"get\", \"get\", \"get\", \"get\", \"gingham\", \"glad\", \"glad\", \"glad\", \"glad\", \"glad\", \"glad\", \"glass\", \"gorgeous\", \"gorgeous\", \"gorgeous\", \"gorgeous\", \"gorgeous\", \"gorgeous\", \"got\", \"got\", \"got\", \"got\", \"got\", \"got\", \"grandma\", \"great\", \"great\", \"great\", \"great\", \"great\", \"great\", \"greenish\", \"handle\", \"happier\", \"hardly\", \"hated\", \"hd\", \"hd\", \"heel\", \"heel\", \"heel\", \"heel\", \"heel\", \"heft\", \"hei\", \"hemline\", \"hemline\", \"hemline\", \"henley\", \"hi\", \"high\", \"high\", \"high\", \"high\", \"high\", \"high\", \"highly\", \"highly\", \"highly\", \"highly\", \"highly\", \"highly\", \"hip\", \"hip\", \"hip\", \"hip\", \"hip\", \"hip\", \"hit\", \"hit\", \"hit\", \"hit\", \"hit\", \"hit\", \"hole\", \"hole\", \"hole\", \"hole\", \"hole\", \"hole\", \"honest\", \"honey\", \"honey\", \"hoodie\", \"horrible\", \"however\", \"however\", \"however\", \"however\", \"however\", \"however\", \"hte\", \"hte\", \"huge\", \"huge\", \"huge\", \"huge\", \"huge\", \"huge\", \"im\", \"im\", \"im\", \"im\", \"im\", \"im\", \"immediately\", \"immediately\", \"immediately\", \"immediately\", \"immediately\", \"imo\", \"important\", \"inconsistent\", \"initial\", \"intend\", \"intended\", \"intricate\", \"investment\", \"irl\", \"jean\", \"jean\", \"jean\", \"jean\", \"jean\", \"jean\", \"jsut\", \"jumpsuit\", \"jumpsuit\", \"jumpsuit\", \"jumpsuit\", \"jumpsuit\", \"jumpsuit\", \"kick\", \"kimono\", \"kimono\", \"knee\", \"knee\", \"knee\", \"knee\", \"knee\", \"knee\", \"label\", \"label\", \"label\", \"large\", \"large\", \"large\", \"large\", \"large\", \"large\", \"lars\", \"lately\", \"lately\", \"lb\", \"lb\", \"lb\", \"lb\", \"lb\", \"lb\", \"lean\", \"legging\", \"legging\", \"legging\", \"legging\", \"legging\", \"legging\", \"length\", \"length\", \"length\", \"length\", \"length\", \"length\", \"level\", \"like\", \"like\", \"like\", \"like\", \"like\", \"like\", \"limited\", \"little\", \"little\", \"little\", \"little\", \"little\", \"little\", \"living\", \"long\", \"long\", \"long\", \"long\", \"long\", \"long\", \"look\", \"look\", \"look\", \"look\", \"look\", \"look\", \"love\", \"love\", \"love\", \"love\", \"love\", \"love\", \"lower\", \"lower\", \"lower\", \"lower\", \"lower\", \"lower\", \"made\", \"made\", \"made\", \"made\", \"made\", \"made\", \"make\", \"make\", \"make\", \"make\", \"make\", \"make\", \"many\", \"many\", \"many\", \"many\", \"many\", \"many\", \"material\", \"material\", \"material\", \"material\", \"material\", \"material\", \"meadow\", \"medium\", \"medium\", \"medium\", \"medium\", \"medium\", \"medium\", \"meh\", \"midthigh\", \"minimal\", \"minimal\", \"missed\", \"mock\", \"mock\", \"model\", \"model\", \"model\", \"model\", \"model\", \"model\", \"money\", \"money\", \"money\", \"money\", \"money\", \"moo\", \"moth\", \"much\", \"much\", \"much\", \"much\", \"much\", \"much\", \"navel\", \"necessarily\", \"nice\", \"nice\", \"nice\", \"nice\", \"nice\", \"nice\", \"nightgown\", \"normal\", \"normal\", \"normal\", \"normal\", \"normal\", \"normal\", \"normally\", \"normally\", \"normally\", \"normally\", \"normally\", \"normally\", \"nylon\", \"obvious\", \"obvious\", \"odd\", \"odd\", \"odd\", \"odd\", \"odd\", \"odd\", \"offered\", \"offered\", \"offwhite\", \"one\", \"one\", \"one\", \"one\", \"one\", \"one\", \"online\", \"online\", \"online\", \"online\", \"online\", \"online\", \"opted\", \"opted\", \"opted\", \"orange\", \"orange\", \"orange\", \"orange\", \"orange\", \"orange\", \"order\", \"order\", \"order\", \"order\", \"order\", \"order\", \"ordered\", \"ordered\", \"ordered\", \"ordered\", \"ordered\", \"ordered\", \"ordinary\", \"original\", \"overwhelmed\", \"pain\", \"pair\", \"pair\", \"pair\", \"pair\", \"pair\", \"pair\", \"pant\", \"pant\", \"pant\", \"pant\", \"pant\", \"pant\", \"partially\", \"patch\", \"peachy\", \"pearl\", \"pearshaped\", \"pearshaped\", \"pearshaped\", \"peasant\", \"peasant\", \"perfect\", \"perfect\", \"perfect\", \"perfect\", \"perfect\", \"perfect\", \"perfectly\", \"perfectly\", \"perfectly\", \"perfectly\", \"perfectly\", \"perfectly\", \"petite\", \"petite\", \"petite\", \"petite\", \"petite\", \"petite\", \"picnic\", \"pilcro\", \"pilcro\", \"pilcro\", \"pilcro\", \"pilcro\", \"pilcro\", \"pjs\", \"pjs\", \"platform\", \"play\", \"play\", \"play\", \"play\", \"pleasant\", \"pm\", \"poof\", \"poof\", \"poofy\", \"poofy\", \"poor\", \"poor\", \"poor\", \"poor\", \"poor\", \"potato\", \"pretty\", \"pretty\", \"pretty\", \"pretty\", \"pretty\", \"pretty\", \"price\", \"price\", \"price\", \"price\", \"price\", \"price\", \"promo\", \"puff\", \"purchased\", \"purchased\", \"purchased\", \"purchased\", \"purchased\", \"purchased\", \"pure\", \"pure\", \"purpose\", \"px\", \"px\", \"px\", \"quality\", \"quality\", \"quality\", \"quality\", \"quality\", \"quality\", \"raise\", \"raise\", \"ran\", \"ran\", \"ran\", \"ran\", \"ran\", \"ran\", \"raspberry\", \"rating\", \"reach\", \"really\", \"really\", \"really\", \"really\", \"really\", \"really\", \"rear\", \"rear\", \"received\", \"received\", \"received\", \"received\", \"received\", \"received\", \"recommendation\", \"red\", \"red\", \"red\", \"red\", \"red\", \"red\", \"reese\", \"regardless\", \"regular\", \"regular\", \"regular\", \"regular\", \"regular\", \"regular\", \"restrictive\", \"retailer\", \"retailer\", \"retailer\", \"retailer\", \"retailer\", \"retailer\", \"return\", \"return\", \"return\", \"return\", \"return\", \"return\", \"returned\", \"returned\", \"returned\", \"returned\", \"returned\", \"returned\", \"review\", \"review\", \"review\", \"review\", \"review\", \"review\", \"right\", \"right\", \"right\", \"right\", \"right\", \"right\", \"ripped\", \"robe\", \"rolling\", \"romantic\", \"romantic\", \"romantic\", \"romantic\", \"romper\", \"romper\", \"romper\", \"romper\", \"romper\", \"romper\", \"rue\", \"run\", \"run\", \"run\", \"run\", \"run\", \"run\", \"sack\", \"sack\", \"sack\", \"sack\", \"sacklike\", \"sale\", \"sale\", \"sale\", \"sale\", \"sale\", \"sale\", \"sandal\", \"sandal\", \"sandal\", \"sandal\", \"saw\", \"saw\", \"saw\", \"saw\", \"saw\", \"saw\", \"scratchy\", \"scratchy\", \"scratchy\", \"scratchy\", \"scratchy\", \"scratchy\", \"seam\", \"seam\", \"seam\", \"seam\", \"seamstress\", \"see\", \"see\", \"see\", \"see\", \"see\", \"see\", \"seethrough\", \"seethrough\", \"seethrough\", \"seethrough\", \"seethrough\", \"seethrough\", \"serif\", \"service\", \"shapeless\", \"shapeless\", \"shapeless\", \"shapeless\", \"shapeless\", \"sheath\", \"shed\", \"shed\", \"sheer\", \"sheer\", \"sheer\", \"sheer\", \"sheer\", \"sheer\", \"shift\", \"shirt\", \"shirt\", \"shirt\", \"shirt\", \"shirt\", \"shirt\", \"short\", \"short\", \"short\", \"short\", \"short\", \"short\", \"shoulder\", \"shoulder\", \"shoulder\", \"shoulder\", \"shoulder\", \"shoulder\", \"shower\", \"shrinkage\", \"shrunk\", \"shrunk\", \"shrunk\", \"shrunk\", \"side\", \"side\", \"side\", \"side\", \"side\", \"side\", \"silver\", \"silver\", \"sister\", \"size\", \"size\", \"size\", \"size\", \"size\", \"size\", \"sizing\", \"sizing\", \"sizing\", \"sizing\", \"sizing\", \"sizing\", \"skimpy\", \"skinny\", \"skinny\", \"skinny\", \"skinny\", \"skinny\", \"skinny\", \"skirt\", \"skirt\", \"skirt\", \"skirt\", \"skirt\", \"skirt\", \"skort\", \"sleeping\", \"slinky\", \"small\", \"small\", \"small\", \"small\", \"small\", \"small\", \"smallest\", \"smallest\", \"smallest\", \"smell\", \"smell\", \"smell\", \"snagging\", \"snagging\", \"sneaker\", \"snuggly\", \"sock\", \"soft\", \"soft\", \"soft\", \"soft\", \"soft\", \"soft\", \"softest\", \"someone\", \"someone\", \"someone\", \"someone\", \"someone\", \"someone\", \"sparkle\", \"sparkly\", \"sparkly\", \"specifically\", \"sport\", \"square\", \"square\", \"staple\", \"staple\", \"staple\", \"staple\", \"staple\", \"staple\", \"stevie\", \"stevies\", \"store\", \"store\", \"store\", \"store\", \"store\", \"store\", \"story\", \"strange\", \"strange\", \"strange\", \"strange\", \"strange\", \"strange\", \"stranger\", \"substance\", \"sucker\", \"sucker\", \"suede\", \"suede\", \"suitable\", \"suitable\", \"summer\", \"summer\", \"summer\", \"summer\", \"summer\", \"summer\", \"super\", \"super\", \"super\", \"super\", \"super\", \"super\", \"sweater\", \"sweater\", \"sweater\", \"sweater\", \"sweater\", \"sweater\", \"tab\", \"tag\", \"tag\", \"tag\", \"tag\", \"tag\", \"tag\", \"temp\", \"tent\", \"tent\", \"tent\", \"tent\", \"tent\", \"tentlike\", \"thanksgiving\", \"theyd\", \"thickness\", \"thickness\", \"thin\", \"thin\", \"thin\", \"thin\", \"thin\", \"thin\", \"think\", \"think\", \"think\", \"think\", \"think\", \"think\", \"third\", \"throw\", \"throw\", \"throw\", \"throw\", \"throw\", \"thru\", \"thru\", \"time\", \"time\", \"time\", \"time\", \"time\", \"time\", \"ton\", \"ton\", \"ton\", \"ton\", \"ton\", \"top\", \"top\", \"top\", \"top\", \"top\", \"top\", \"torso\", \"torso\", \"torso\", \"torso\", \"torso\", \"torso\", \"tracy\", \"transitional\", \"transparent\", \"tried\", \"tried\", \"tried\", \"tried\", \"tried\", \"tried\", \"true\", \"true\", \"true\", \"true\", \"true\", \"true\", \"try\", \"try\", \"try\", \"try\", \"try\", \"try\", \"typically\", \"typically\", \"typically\", \"typically\", \"typically\", \"typically\", \"unflattering\", \"unflattering\", \"unflattering\", \"unflattering\", \"unflattering\", \"unflattering\", \"unfortunately\", \"unfortunately\", \"unfortunately\", \"unfortunately\", \"unfortunately\", \"unfortunately\", \"usa\", \"usual\", \"usual\", \"usual\", \"usual\", \"usual\", \"usual\", \"usually\", \"usually\", \"usually\", \"usually\", \"usually\", \"usually\", \"versatile\", \"versatile\", \"versatile\", \"versatile\", \"versatile\", \"versatility\", \"versatility\", \"vibrant\", \"vibrant\", \"vibrant\", \"vibrant\", \"vibrant\", \"vibrant\", \"volume\", \"volume\", \"volume\", \"waist\", \"waist\", \"waist\", \"waist\", \"waist\", \"waist\", \"wait\", \"wait\", \"wait\", \"wait\", \"wait\", \"wait\", \"walked\", \"walked\", \"wanted\", \"wanted\", \"wanted\", \"wanted\", \"wanted\", \"wanted\", \"wardrobe\", \"wardrobe\", \"wardrobe\", \"wardrobe\", \"wardrobe\", \"warm\", \"warm\", \"warm\", \"warm\", \"warm\", \"warm\", \"wash\", \"wash\", \"wash\", \"wash\", \"wash\", \"wash\", \"washed\", \"washed\", \"washed\", \"washed\", \"washed\", \"washed\", \"washer\", \"washing\", \"washing\", \"washing\", \"washing\", \"washing\", \"washing\", \"way\", \"way\", \"way\", \"way\", \"way\", \"way\", \"wear\", \"wear\", \"wear\", \"wear\", \"wear\", \"wear\", \"weather\", \"weather\", \"weather\", \"weather\", \"weather\", \"weather\", \"wedding\", \"wedding\", \"wedding\", \"wedding\", \"weird\", \"weird\", \"weird\", \"weird\", \"well\", \"well\", \"well\", \"well\", \"well\", \"well\", \"went\", \"went\", \"went\", \"went\", \"went\", \"went\", \"whenever\", \"whenever\", \"white\", \"white\", \"white\", \"white\", \"white\", \"white\", \"wide\", \"wide\", \"wide\", \"wide\", \"wide\", \"wide\", \"woman\", \"woman\", \"woman\", \"woman\", \"woman\", \"woman\", \"wore\", \"wore\", \"wore\", \"wore\", \"wore\", \"wore\", \"work\", \"work\", \"work\", \"work\", \"work\", \"work\", \"worn\", \"worn\", \"worn\", \"worn\", \"worn\", \"worn\", \"worse\", \"worth\", \"worth\", \"worth\", \"worth\", \"worth\", \"worth\", \"would\", \"would\", \"would\", \"would\", \"would\", \"would\", \"wrinkly\", \"x\", \"x\", \"x\", \"x\", \"x\", \"x\", \"xsmall\", \"xsmall\", \"xsmall\", \"xsmall\", \"xsmall\", \"xx\", \"xx\", \"xx\", \"xx\", \"xx\", \"xx\", \"xxsp\", \"xxsp\", \"xxsp\", \"xxsp\", \"xxsp\", \"younger\", \"younger\", \"zipped\"]}, \"R\": 30, \"lambda.step\": 0.01, \"plot.opts\": {\"xlab\": \"PC1\", \"ylab\": \"PC2\"}, \"topic.order\": [1, 2, 3, 4, 5, 6]};\n",
       "\n",
       "function LDAvis_load_lib(url, callback){\n",
       "  var s = document.createElement('script');\n",
       "  s.src = url;\n",
       "  s.async = true;\n",
       "  s.onreadystatechange = s.onload = callback;\n",
       "  s.onerror = function(){console.warn(\"failed to load library \" + url);};\n",
       "  document.getElementsByTagName(\"head\")[0].appendChild(s);\n",
       "}\n",
       "\n",
       "if(typeof(LDAvis) !== \"undefined\"){\n",
       "   // already loaded: just create the visualization\n",
       "   !function(LDAvis){\n",
       "       new LDAvis(\"#\" + \"ldavis_el9037753659319208802261481\", ldavis_el9037753659319208802261481_data);\n",
       "   }(LDAvis);\n",
       "}else if(typeof define === \"function\" && define.amd){\n",
       "   // require.js is available: use it to load d3/LDAvis\n",
       "   require.config({paths: {d3: \"https://d3js.org/d3.v5\"}});\n",
       "   require([\"d3\"], function(d3){\n",
       "      window.d3 = d3;\n",
       "      LDAvis_load_lib(\"https://cdn.jsdelivr.net/gh/bmabey/pyLDAvis@3.3.1/pyLDAvis/js/ldavis.v3.0.0.js\", function(){\n",
       "        new LDAvis(\"#\" + \"ldavis_el9037753659319208802261481\", ldavis_el9037753659319208802261481_data);\n",
       "      });\n",
       "    });\n",
       "}else{\n",
       "    // require.js not available: dynamically load d3 & LDAvis\n",
       "    LDAvis_load_lib(\"https://d3js.org/d3.v5.js\", function(){\n",
       "         LDAvis_load_lib(\"https://cdn.jsdelivr.net/gh/bmabey/pyLDAvis@3.3.1/pyLDAvis/js/ldavis.v3.0.0.js\", function(){\n",
       "                 new LDAvis(\"#\" + \"ldavis_el9037753659319208802261481\", ldavis_el9037753659319208802261481_data);\n",
       "            })\n",
       "         });\n",
       "}\n",
       "</script>"
      ],
      "text/plain": [
       "<IPython.core.display.HTML object>"
      ]
     },
     "execution_count": 45,
     "metadata": {},
     "output_type": "execute_result"
    }
   ],
   "source": [
    "import pyLDAvis\n",
    "import pyLDAvis.gensim_models as gensimvis\n",
    "\n",
    "pyLDAvis.enable_notebook()\n",
    "\n",
    "# feed the LDA model into the pyLDAvis instance\n",
    "lda_viz = gensimvis.prepare(model, bow_corpus, dictionary, sort_topics=False)\n",
    "\n",
    "pyLDAvis.display(lda_viz)"
   ]
  },
  {
   "cell_type": "markdown",
   "id": "chinese-crisis",
   "metadata": {},
   "source": [
    "**How to Interpret**\n",
    "\n",
    " - Each bubble on the left-hand side plot represents a topic. The larger the bubble, the more prevalent that topic is.\n",
    " - A good topic model will have fairly big, non-overlapping bubbles scattered throughout the chart instead of clustered in one quadrant.\n",
    " - A model with too many topics will typically have many overlaps, small-sized bubbles clustered in one region of the chart.\n",
    " \n",
    "**Results**:  \n",
    " \n",
    "After running the model with various topics, `6` seemed to bring the most clarity using the above interpretation.  We can see that there are slight overlaps for topics `1`, `4`, and `3`, and `5` but not significant.  The rest of the topics are fairly large and do not overlap."
   ]
  }
 ],
 "metadata": {
  "kernelspec": {
   "display_name": "Python 3",
   "language": "python",
   "name": "python3"
  },
  "language_info": {
   "codemirror_mode": {
    "name": "ipython",
    "version": 3
   },
   "file_extension": ".py",
   "mimetype": "text/x-python",
   "name": "python",
   "nbconvert_exporter": "python",
   "pygments_lexer": "ipython3",
   "version": "3.9.2"
  }
 },
 "nbformat": 4,
 "nbformat_minor": 5
}
