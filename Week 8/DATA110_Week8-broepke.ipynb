{
 "cells": [
  {
   "cell_type": "markdown",
   "id": "conservative-community",
   "metadata": {},
   "source": [
    "# Week 8 Assignment: NLP with NLTK\n",
    "**Brian Roepke**\n",
    "\n",
    "1. Watch the  week 8: NLP with NLTK (Natural Language Tool Kit) videos with topics leading to NER of text.  Read the session notebook and refer to NLTK chapters.\n",
    "2. Load the dataset supplied as follows:\n",
    "3.  Using NLTK package perform the following\n",
    "4. Tokenize (sentence and word)\n",
    "5. Word Frequency analysis, including graphs \n",
    "6. Preprocessing (stopwords, lemmatization and stemming)\n",
    "7. NER\n",
    "8. Noun Phrase Chunking"
   ]
  },
  {
   "cell_type": "code",
   "execution_count": 1,
   "id": "herbal-parent",
   "metadata": {},
   "outputs": [],
   "source": [
    "import re\n",
    "import string\n",
    "import nltk\n",
    "from nltk.tokenize import sent_tokenize\n",
    "from nltk.tokenize import word_tokenize\n",
    "from nltk.probability import FreqDist\n",
    "from nltk.corpus import stopwords \n",
    "from nltk.stem import PorterStemmer\n",
    "from nltk.stem.wordnet import WordNetLemmatizer\n",
    "from nltk import word_tokenize, pos_tag, ne_chunk\n",
    "from nltk.chunk import tree2conlltags\n",
    "from nltk.chunk import conllstr2tree\n",
    "import matplotlib.pyplot as plt"
   ]
  },
  {
   "cell_type": "markdown",
   "id": "native-basic",
   "metadata": {},
   "source": [
    "## Load Dataset"
   ]
  },
  {
   "cell_type": "code",
   "execution_count": 2,
   "id": "downtown-trigger",
   "metadata": {},
   "outputs": [],
   "source": [
    "f=open('chatbot.txt','r',errors = 'ignore')\n",
    "raw_orig = f.read()"
   ]
  },
  {
   "cell_type": "code",
   "execution_count": 3,
   "id": "medical-interim",
   "metadata": {},
   "outputs": [
    {
     "data": {
      "text/plain": [
       "12803"
      ]
     },
     "execution_count": 3,
     "metadata": {},
     "output_type": "execute_result"
    }
   ],
   "source": [
    "len(raw_orig)"
   ]
  },
  {
   "cell_type": "markdown",
   "id": "little-gross",
   "metadata": {},
   "source": [
    "## Tokenize"
   ]
  },
  {
   "cell_type": "code",
   "execution_count": 4,
   "id": "broad-cleaner",
   "metadata": {},
   "outputs": [],
   "source": [
    "# Make lower\n",
    "raw = raw_orig.lower()"
   ]
  },
  {
   "cell_type": "code",
   "execution_count": 5,
   "id": "existing-spencer",
   "metadata": {},
   "outputs": [],
   "source": [
    "# Remove Numbers\n",
    "raw = re.sub('\\w*\\d\\w*', '', raw)"
   ]
  },
  {
   "cell_type": "code",
   "execution_count": 6,
   "id": "operating-freedom",
   "metadata": {},
   "outputs": [
    {
     "name": "stdout",
     "output_type": "stream",
     "text": [
      "number of sentences in review: 72\n",
      "first 10 sentences\n"
     ]
    },
    {
     "data": {
      "text/plain": [
       "['a chatbot (also known as a talkbot, chatterbot, bot, im bot, interactive agent, or artificial conversational entity) is a computer program or an artificial intelligence which conducts a conversation via auditory or textual methods.',\n",
       " 'such programs are often designed to convincingly simulate how a human would behave as a conversational partner, thereby passing the turing test.',\n",
       " 'chatbots are typically used in dialog systems for various practical purposes including customer service or information acquisition.',\n",
       " 'some chatterbots use sophisticated natural language processing systems, but many simpler systems scan for keywords within the input, then pull a reply with the most matching keywords, or the most similar wording pattern, from a database.',\n",
       " 'the term \"chatterbot\" was originally coined by michael mauldin (creator of the first verbot, julia) in  to describe these conversational programs.today, most chatbots are either accessed via virtual assistants such as google assistant and amazon alexa, via messaging apps such as facebook messenger or wechat, or via individual organizations\\' apps and websites.']"
      ]
     },
     "execution_count": 6,
     "metadata": {},
     "output_type": "execute_result"
    }
   ],
   "source": [
    "tokenized_sent = sent_tokenize(raw)\n",
    "print('number of sentences in review:', len(tokenized_sent))\n",
    "\n",
    "print('first 10 sentences')\n",
    "tokenized_sent[:5]"
   ]
  },
  {
   "cell_type": "code",
   "execution_count": 7,
   "id": "nutritional-medicine",
   "metadata": {},
   "outputs": [
    {
     "name": "stdout",
     "output_type": "stream",
     "text": [
      "number of words in review: 2163\n",
      "first 15 word tokens\n"
     ]
    },
    {
     "data": {
      "text/plain": [
       "['a',\n",
       " 'chatbot',\n",
       " '(',\n",
       " 'also',\n",
       " 'known',\n",
       " 'as',\n",
       " 'a',\n",
       " 'talkbot',\n",
       " ',',\n",
       " 'chatterbot',\n",
       " ',',\n",
       " 'bot',\n",
       " ',',\n",
       " 'im',\n",
       " 'bot']"
      ]
     },
     "execution_count": 7,
     "metadata": {},
     "output_type": "execute_result"
    }
   ],
   "source": [
    "tokenized_word = word_tokenize(raw)\n",
    "print('number of words in review:', len(tokenized_word))\n",
    "\n",
    "print('first 15 word tokens')\n",
    "tokenized_word[:15]"
   ]
  },
  {
   "cell_type": "markdown",
   "id": "sharing-penetration",
   "metadata": {},
   "source": [
    "## Word Frequency w/ Visualizations"
   ]
  },
  {
   "cell_type": "code",
   "execution_count": 8,
   "id": "ordinary-technician",
   "metadata": {},
   "outputs": [
    {
     "data": {
      "text/plain": [
       "FreqDist({',': 127, 'the': 83, '.': 71, 'a': 55, 'to': 48, 'of': 48, 'and': 43, 'in': 33, 'as': 30, 'chatbot': 27, ...})"
      ]
     },
     "execution_count": 8,
     "metadata": {},
     "output_type": "execute_result"
    }
   ],
   "source": [
    "fdist = FreqDist(tokenized_word)\n",
    "fdist"
   ]
  },
  {
   "cell_type": "code",
   "execution_count": 9,
   "id": "herbal-circumstances",
   "metadata": {},
   "outputs": [
    {
     "data": {
      "text/plain": [
       "[(',', 127),\n",
       " ('the', 83),\n",
       " ('.', 71),\n",
       " ('a', 55),\n",
       " ('to', 48),\n",
       " ('of', 48),\n",
       " ('and', 43),\n",
       " ('in', 33),\n",
       " ('as', 30),\n",
       " ('chatbot', 27)]"
      ]
     },
     "execution_count": 9,
     "metadata": {},
     "output_type": "execute_result"
    }
   ],
   "source": [
    "fdist.most_common(10)"
   ]
  },
  {
   "cell_type": "markdown",
   "id": "complete-arthur",
   "metadata": {},
   "source": [
    "**Note:**  You can see that the top words contain mostly `Stop Words` and punctuation.  We need to remove these to get a more accurate picture of the *meaningful* words."
   ]
  },
  {
   "cell_type": "code",
   "execution_count": 10,
   "id": "fifty-vehicle",
   "metadata": {},
   "outputs": [
    {
     "name": "stdout",
     "output_type": "stream",
     "text": [
      "number of words in review after stop words removal: 1172\n",
      "first 15 words\n"
     ]
    },
    {
     "data": {
      "text/plain": [
       "['chatbot',\n",
       " 'also',\n",
       " 'known',\n",
       " 'talkbot',\n",
       " 'chatterbot',\n",
       " 'bot',\n",
       " 'im',\n",
       " 'bot',\n",
       " 'interactive',\n",
       " 'agent']"
      ]
     },
     "execution_count": 10,
     "metadata": {},
     "output_type": "execute_result"
    }
   ],
   "source": [
    "# create a list of english stop words from NLTK, including punctuation\n",
    "useless_words = stopwords.words(\"english\") + list(string.punctuation)\n",
    "useless_words = useless_words + [\"'s\", \"``\", \"''\", \"...\", \"e.g\"]\n",
    "\n",
    "# filter out the stop words\n",
    "filtered_words = [word for word in tokenized_word if not word in useless_words]\n",
    "\n",
    "print('number of words in review after stop words removal:', len(filtered_words))\n",
    "\n",
    "print('first 15 words')\n",
    "filtered_words [:10]"
   ]
  },
  {
   "cell_type": "markdown",
   "id": "statewide-point",
   "metadata": {},
   "source": [
    "**Note:** A custom set of list items was added to capture special characters and sequences not found in stop words or punctuation.  The easiest way to do this is iterate through with multiple passes until you've sufficeintly removed as many edge cases as desired.  By simply appending them to the `useless_words` list, they're removed as part of the cleaning process."
   ]
  },
  {
   "cell_type": "code",
   "execution_count": 11,
   "id": "normal-christian",
   "metadata": {},
   "outputs": [
    {
     "data": {
      "text/plain": [
       "[('chatbot', 27),\n",
       " ('chatbots', 19),\n",
       " ('used', 10),\n",
       " ('messenger', 10),\n",
       " ('user', 10),\n",
       " ('conversational', 9),\n",
       " ('program', 9),\n",
       " ('customer', 9),\n",
       " ('service', 9),\n",
       " ('also', 8)]"
      ]
     },
     "execution_count": 11,
     "metadata": {},
     "output_type": "execute_result"
    }
   ],
   "source": [
    "fdist = FreqDist(filtered_words)\n",
    "fdist.most_common(10)"
   ]
  },
  {
   "cell_type": "markdown",
   "id": "thirty-planner",
   "metadata": {},
   "source": [
    "**Note:** The `FrequencyDistribution` shows much more meaningful words at the top.  The top two words should normally be one word when reduced to their stem or lemma.  This will be done later."
   ]
  },
  {
   "cell_type": "code",
   "execution_count": 12,
   "id": "minute-interference",
   "metadata": {},
   "outputs": [
    {
     "data": {
      "image/png": "[encoded data removed]",
      "text/plain": [
       "<Figure size 720x360 with 1 Axes>"
      ]
     },
     "metadata": {
      "needs_background": "light"
     },
     "output_type": "display_data"
    }
   ],
   "source": [
    "plt.figure(figsize=(10, 5))\n",
    "\n",
    "fdist.plot(30, cumulative=False)\n",
    "plt.show();"
   ]
  },
  {
   "cell_type": "code",
   "execution_count": 13,
   "id": "quality-final",
   "metadata": {},
   "outputs": [
    {
     "data": {
      "image/png": "[encoded data removed]",
      "text/plain": [
       "<Figure size 720x360 with 1 Axes>"
      ]
     },
     "metadata": {
      "needs_background": "light"
     },
     "output_type": "display_data"
    }
   ],
   "source": [
    "plt.figure(figsize=(10, 5))\n",
    "fdist.plot(30, cumulative=True);"
   ]
  },
  {
   "cell_type": "markdown",
   "id": "mental-syndrome",
   "metadata": {},
   "source": [
    "## Preprocessing\n",
    "1. Stopwords\n",
    "2. Lemmatization & Stemming"
   ]
  },
  {
   "cell_type": "code",
   "execution_count": 14,
   "id": "owned-square",
   "metadata": {},
   "outputs": [
    {
     "name": "stdout",
     "output_type": "stream",
     "text": [
      "Filtered Sentences word count: 1172\n",
      "Stemmed Sentences word count: 727\n",
      "\n",
      " first 10 stemmed words:\n"
     ]
    },
    {
     "data": {
      "text/plain": [
       "[('interactive', 'interact'),\n",
       " ('artificial', 'artifici'),\n",
       " ('conversational', 'convers'),\n",
       " ('entity', 'entiti'),\n",
       " ('computer', 'comput'),\n",
       " ('artificial', 'artifici'),\n",
       " ('intelligence', 'intellig'),\n",
       " ('conducts', 'conduct'),\n",
       " ('conversation', 'convers'),\n",
       " ('auditory', 'auditori')]"
      ]
     },
     "execution_count": 14,
     "metadata": {},
     "output_type": "execute_result"
    }
   ],
   "source": [
    "ps = PorterStemmer()\n",
    "\n",
    "# apply the stemmer to our words list\n",
    "stemmed_words=[]\n",
    "for w in filtered_words:\n",
    "    stemmed_words.append(ps.stem(w))\n",
    "\n",
    "# create a list of orginal words and stemmed words for comparison\n",
    "stemmed_list =[]\n",
    "for w1, w2 in zip(filtered_words, stemmed_words):\n",
    "    if w1 != w2:\n",
    "        stemmed_list.append((w1,w2))\n",
    "        \n",
    "print(\"Filtered Sentences word count:\", len(filtered_words))\n",
    "print(\"Stemmed Sentences word count:\", len(stemmed_list))\n",
    "\n",
    "# see how words were stemmed\n",
    "print('\\n first 10 stemmed words:')\n",
    "stemmed_list[:10]"
   ]
  },
  {
   "cell_type": "markdown",
   "id": "potential-powder",
   "metadata": {},
   "source": [
    "**Stemming Notes:**. There are some great examples of stemming in the list.  Often with stemming, the word is reduced, but it ends up with a form that isn't actually a word.  Such as `artificial` reducing to `artifici` and `computer` to `comput`."
   ]
  },
  {
   "cell_type": "code",
   "execution_count": 15,
   "id": "domestic-sitting",
   "metadata": {},
   "outputs": [
    {
     "name": "stdout",
     "output_type": "stream",
     "text": [
      "Filtered Sentences word count: 1172\n",
      "Lemmatized Sentences word count: 233\n",
      "\n",
      " First 20 Lemmatized words:\n"
     ]
    },
    {
     "data": {
      "text/plain": [
       "[('known', 'know'),\n",
       " ('conducts', 'conduct'),\n",
       " ('programs', 'program'),\n",
       " ('designed', 'design'),\n",
       " ('passing', 'pass'),\n",
       " ('used', 'use'),\n",
       " ('purposes', 'purpose'),\n",
       " ('including', 'include'),\n",
       " ('sophisticated', 'sophisticate'),\n",
       " ('processing', 'process'),\n",
       " ('matching', 'match'),\n",
       " ('wording', 'word'),\n",
       " ('coined', 'coin'),\n",
       " ('accessed', 'access'),\n",
       " ('messaging', 'message'),\n",
       " ('classified', 'classify'),\n",
       " ('tools', 'tool'),\n",
       " ('games', 'game'),\n",
       " ('marketing', 'market'),\n",
       " ('shopping', 'shop')]"
      ]
     },
     "execution_count": 15,
     "metadata": {},
     "output_type": "execute_result"
    }
   ],
   "source": [
    "lem = WordNetLemmatizer()\n",
    "\n",
    "# apply the lemmatization to our words list\n",
    "lemm_words=[]\n",
    "for w in filtered_words:\n",
    "    lemm_words.append(lem.lemmatize(w, 'v')) # use verb as pos\n",
    "\n",
    "# create a list of orginal words and stemmed words for comparison\n",
    "lemm_list =[]\n",
    "for w1, w2 in zip(filtered_words, lemm_words):\n",
    "    if w1 != w2:\n",
    "        lemm_list.append((w1,w2))\n",
    "        \n",
    "print(\"Filtered Sentences word count:\", len(filtered_words))\n",
    "print(\"Lemmatized Sentences word count:\", len(lemm_list))\n",
    "\n",
    "print('\\n First 20 Lemmatized words:')\n",
    "lemm_list[:20]"
   ]
  },
  {
   "cell_type": "markdown",
   "id": "logical-communication",
   "metadata": {},
   "source": [
    "**Lemmatazation Notes:** Two things to notice in the Lemmatazaiton example to explain the difference.  First is that each word in the right side of the list is actually a word.  All of them make sense.  The second is that certain examples when reduced to their lemma take a different form than simply removing characters from the front or back.  For example, `including` is now `include` and `messaging` is now `message`.\n",
    "\n",
    "This processed used *verb* as the part of speech."
   ]
  },
  {
   "cell_type": "code",
   "execution_count": 16,
   "id": "funded-offense",
   "metadata": {},
   "outputs": [
    {
     "name": "stdout",
     "output_type": "stream",
     "text": [
      "Filtered Sentences word count: 1172\n",
      "Lemmatized Sentences word count: 154\n",
      "\n",
      " First 20 Lemmatized words:\n"
     ]
    },
    {
     "data": {
      "text/plain": [
       "[('conducts', 'conduct'),\n",
       " ('methods', 'method'),\n",
       " ('programs', 'program'),\n",
       " ('systems', 'system'),\n",
       " ('purposes', 'purpose'),\n",
       " ('systems', 'system'),\n",
       " ('systems', 'system'),\n",
       " ('assistants', 'assistant'),\n",
       " ('organizations', 'organization'),\n",
       " ('websites', 'website'),\n",
       " ('categories', 'category'),\n",
       " ('tools', 'tool'),\n",
       " ('games', 'game'),\n",
       " ('sports', 'sport'),\n",
       " ('utilities', 'utility'),\n",
       " ('users', 'user'),\n",
       " ('machines', 'machine'),\n",
       " ('ways', 'way'),\n",
       " ('workings', 'working'),\n",
       " ('stands', 'stand')]"
      ]
     },
     "execution_count": 16,
     "metadata": {},
     "output_type": "execute_result"
    }
   ],
   "source": [
    "lemm_words=[]\n",
    "for w in filtered_words:\n",
    "    lemm_words.append(lem.lemmatize(w, 'n')) # use noun as pos\n",
    "\n",
    "# create a list of orginal words and stemmed words for comparison\n",
    "lemm_list =[]\n",
    "for w1, w2 in zip(filtered_words, lemm_words):\n",
    "    if w1 != w2:\n",
    "        lemm_list.append((w1,w2))\n",
    "        \n",
    "print(\"Filtered Sentences word count:\", len(filtered_words))\n",
    "print(\"Lemmatized Sentences word count:\", len(lemm_list))\n",
    "\n",
    "print('\\n First 20 Lemmatized words:')\n",
    "lemm_list[:20]"
   ]
  },
  {
   "cell_type": "markdown",
   "id": "legal-diabetes",
   "metadata": {},
   "source": [
    "**Note:** Similar Process as above but using nouns as the Part of Speech.  You can see the same process, but with different word in their Noun form such as `utilities` to `utility`."
   ]
  },
  {
   "cell_type": "code",
   "execution_count": 17,
   "id": "fatty-success",
   "metadata": {},
   "outputs": [],
   "source": [
    "stemmed_words = [ps.stem(word) for word in filtered_words]"
   ]
  },
  {
   "cell_type": "code",
   "execution_count": 18,
   "id": "liquid-delight",
   "metadata": {},
   "outputs": [
    {
     "data": {
      "text/plain": [
       "[('chatbot', 46),\n",
       " ('use', 23),\n",
       " ('convers', 16),\n",
       " ('program', 14),\n",
       " ('user', 14),\n",
       " ('design', 12),\n",
       " ('compani', 12),\n",
       " ('servic', 11),\n",
       " ('process', 11),\n",
       " ('develop', 11)]"
      ]
     },
     "execution_count": 18,
     "metadata": {},
     "output_type": "execute_result"
    }
   ],
   "source": [
    "fdist = FreqDist(stemmed_words)\n",
    "fdist.most_common(10)"
   ]
  },
  {
   "cell_type": "markdown",
   "id": "stuck-subscription",
   "metadata": {},
   "source": [
    "**Note:** After the stemming is completed on the `filtered_words` list, the duplicate `chatbot` has been reduced and words are in their stemmed format.  Note that `use` and `user` are different.  One is a noun and one is a verb."
   ]
  },
  {
   "cell_type": "code",
   "execution_count": 19,
   "id": "looking-category",
   "metadata": {},
   "outputs": [
    {
     "data": {
      "image/png": "[encoded data removed]",
      "text/plain": [
       "<Figure size 720x360 with 1 Axes>"
      ]
     },
     "metadata": {
      "needs_background": "light"
     },
     "output_type": "display_data"
    }
   ],
   "source": [
    "plt.figure(figsize=(10, 5))\n",
    "\n",
    "fdist.plot(30, cumulative=False)\n",
    "plt.show();"
   ]
  },
  {
   "cell_type": "markdown",
   "id": "official-mystery",
   "metadata": {},
   "source": [
    "**Note:**  A slightly different shapped graph now that `stemming` is completed."
   ]
  },
  {
   "cell_type": "markdown",
   "id": "personalized-thread",
   "metadata": {},
   "source": [
    "## Named Entity Recoginition"
   ]
  },
  {
   "cell_type": "code",
   "execution_count": 20,
   "id": "seven-queen",
   "metadata": {},
   "outputs": [
    {
     "name": "stdout",
     "output_type": "stream",
     "text": [
      "Chatbots can be classified into usage categories such as conversational commerce (e-commerce via chat), analytics, communication, customer support, design, developer tools, education, entertainment, finance, food, games, health, HR, marketing, news, personal, productivity, shopping, social, sports, travel and utilities.\n",
      "\n",
      "\n",
      "[('Chatbots', 'NNS', 'O'), ('can', 'MD', 'O'), ('be', 'VB', 'O'), ('classified', 'VBN', 'O'), ('into', 'IN', 'O'), ('usage', 'JJ', 'O'), ('categories', 'NNS', 'O'), ('such', 'JJ', 'O'), ('as', 'IN', 'O'), ('conversational', 'JJ', 'O'), ('commerce', 'NN', 'O'), ('(', '(', 'O'), ('e-commerce', 'JJ', 'O'), ('via', 'IN', 'O'), ('chat', 'NN', 'O'), (')', ')', 'O'), (',', ',', 'O'), ('analytics', 'NNS', 'O'), (',', ',', 'O'), ('communication', 'NN', 'O'), (',', ',', 'O'), ('customer', 'NN', 'O'), ('support', 'NN', 'O'), (',', ',', 'O'), ('design', 'NN', 'O'), (',', ',', 'O'), ('developer', 'NN', 'O'), ('tools', 'NNS', 'O'), (',', ',', 'O'), ('education', 'NN', 'O'), (',', ',', 'O'), ('entertainment', 'NN', 'O'), (',', ',', 'O'), ('finance', 'NN', 'O'), (',', ',', 'O'), ('food', 'NN', 'O'), (',', ',', 'O'), ('games', 'NNS', 'O'), (',', ',', 'O'), ('health', 'NN', 'O'), (',', ',', 'O'), ('HR', 'NNP', 'B-ORGANIZATION'), (',', ',', 'O'), ('marketing', 'NN', 'O'), (',', ',', 'O'), ('news', 'NN', 'O'), (',', ',', 'O'), ('personal', 'JJ', 'O'), (',', ',', 'O'), ('productivity', 'NN', 'O'), (',', ',', 'O'), ('shopping', 'NN', 'O'), (',', ',', 'O'), ('social', 'JJ', 'O'), (',', ',', 'O'), ('sports', 'NNS', 'O'), (',', ',', 'O'), ('travel', 'NN', 'O'), ('and', 'CC', 'O'), ('utilities', 'NNS', 'O'), ('.', '.', 'O')]\n",
      "\n",
      "\n"
     ]
    }
   ],
   "source": [
    "#tokenize sentences from the news article\n",
    "tokenized_sent = sent_tokenize(raw_orig)\n",
    "\n",
    "# review a specific setence\n",
    "for s in tokenized_sent[5:6]:\n",
    "    print(s)\n",
    "    print('\\n')\n",
    "    \n",
    "    # word tokenize and pos tagging\n",
    "    word = pos_tag(word_tokenize(s))\n",
    "    \n",
    "    # chunking using named entity chunker\n",
    "    res_chunks = ne_chunk(word)\n",
    "    \n",
    "    # Return a list of 3-tuples containing (word, tag, IOB-tag) eg:  [(token, pos_tag, name_entity_tag)] \n",
    "    print(tree2conlltags(res_chunks))\n",
    "    print('\\n')"
   ]
  },
  {
   "cell_type": "code",
   "execution_count": 21,
   "id": "noted-romantic",
   "metadata": {},
   "outputs": [],
   "source": [
    "person = []\n",
    "org = []\n",
    "gpe = []\n",
    "ner_types = set()\n",
    "\n",
    "for s in tokenized_sent:\n",
    "    pos = pos_tag(word_tokenize(s))\n",
    "    res_chunks = ne_chunk(pos)\n",
    "\n",
    "    for i in tree2conlltags(res_chunks):\n",
    "        ner = i[2]\n",
    "        if ner == 'O':  # skip Outiside labels\n",
    "            continue;\n",
    "        ner_types.add(ner) # Create a set of unique entries to ensure none are missing\n",
    "        if ner.find('PERSON')> -1:   # matches on I-PERSON, B-PERSON\n",
    "            person.append(ner)\n",
    "        elif ner.find('ORGANIZATION') > -1:\n",
    "            org.append(ner)\n",
    "        elif ner.find('GPE') >-1:\n",
    "            gpe.append(ner)  "
   ]
  },
  {
   "cell_type": "code",
   "execution_count": 22,
   "id": "killing-determination",
   "metadata": {},
   "outputs": [
    {
     "data": {
      "text/plain": [
       "{'B-GPE', 'B-ORGANIZATION', 'B-PERSON', 'I-GPE', 'I-ORGANIZATION', 'I-PERSON'}"
      ]
     },
     "execution_count": 22,
     "metadata": {},
     "output_type": "execute_result"
    }
   ],
   "source": [
    "ner_types"
   ]
  },
  {
   "cell_type": "code",
   "execution_count": 23,
   "id": "planned-jason",
   "metadata": {},
   "outputs": [
    {
     "name": "stdout",
     "output_type": "stream",
     "text": [
      "PERSON: 52\n",
      "ORGANIZATION: 70\n",
      "GPE: 33\n"
     ]
    }
   ],
   "source": [
    "print('PERSON:', len(person))\n",
    "print('ORGANIZATION:', len(org))\n",
    "print('GPE:', len(gpe))"
   ]
  },
  {
   "cell_type": "markdown",
   "id": "super-clearance",
   "metadata": {},
   "source": [
    "## Noun Phrase Chunking"
   ]
  },
  {
   "cell_type": "code",
   "execution_count": null,
   "id": "innovative-maximum",
   "metadata": {},
   "outputs": [],
   "source": []
  },
  {
   "cell_type": "code",
   "execution_count": null,
   "id": "checked-greene",
   "metadata": {},
   "outputs": [],
   "source": []
  },
  {
   "cell_type": "code",
   "execution_count": null,
   "id": "united-irrigation",
   "metadata": {},
   "outputs": [],
   "source": []
  }
 ],
 "metadata": {
  "kernelspec": {
   "display_name": "Python 3",
   "language": "python",
   "name": "python3"
  },
  "language_info": {
   "codemirror_mode": {
    "name": "ipython",
    "version": 3
   },
   "file_extension": ".py",
   "mimetype": "text/x-python",
   "name": "python",
   "nbconvert_exporter": "python",
   "pygments_lexer": "ipython3",
   "version": "3.8.8"
  }
 },
 "nbformat": 4,
 "nbformat_minor": 5
}
