{
 "cells": [
  {
   "cell_type": "markdown",
   "id": "fixed-china",
   "metadata": {},
   "source": [
    "# Week 8 Assignment: NLP with NLTK\n",
    "**Brian Roepke**\n",
    "\n",
    "1. Watch the  week 8: NLP with NLTK (Natural Language Tool Kit) videos with topics leading to NER of text.  Read the session notebook and refer to NLTK chapters.\n",
    "2. Load the dataset supplied as follows:\n",
    "3. Using NLTK package perform the following\n",
    "    4. Tokenize (sentence and word)\n",
    "    5. Word Frequency analysis, including graphs \n",
    "    6. Preprocessing (stopwords, lemmatization and stemming)\n",
    "    7. NER\n",
    "    8. Noun Phrase Chunking"
   ]
  },
  {
   "cell_type": "code",
   "execution_count": 1,
   "id": "handled-avatar",
   "metadata": {},
   "outputs": [],
   "source": [
    "import re\n",
    "import string\n",
    "import nltk\n",
    "import pandas as pd\n",
    "\n",
    "from nltk.tokenize import sent_tokenize\n",
    "from nltk.tokenize import word_tokenize\n",
    "from nltk.probability import FreqDist\n",
    "from nltk.corpus import stopwords \n",
    "from nltk.stem import PorterStemmer\n",
    "from nltk.stem.wordnet import WordNetLemmatizer\n",
    "from nltk import word_tokenize, pos_tag, ne_chunk\n",
    "from nltk.chunk import tree2conlltags\n",
    "from nltk.chunk import conllstr2tree\n",
    "\n",
    "from collections import defaultdict\n",
    "\n",
    "import matplotlib.pyplot as plt\n",
    "import seaborn as sns"
   ]
  },
  {
   "cell_type": "markdown",
   "id": "experienced-bahrain",
   "metadata": {},
   "source": [
    "## Load Dataset"
   ]
  },
  {
   "cell_type": "code",
   "execution_count": 2,
   "id": "hydraulic-restaurant",
   "metadata": {},
   "outputs": [],
   "source": [
    "f=open('chatbot.txt','r',errors = 'ignore')\n",
    "raw_orig = f.read()"
   ]
  },
  {
   "cell_type": "code",
   "execution_count": 3,
   "id": "integral-newton",
   "metadata": {},
   "outputs": [
    {
     "data": {
      "text/plain": [
       "12804"
      ]
     },
     "execution_count": 3,
     "metadata": {},
     "output_type": "execute_result"
    }
   ],
   "source": [
    "len(raw_orig)"
   ]
  },
  {
   "cell_type": "markdown",
   "id": "minimal-progressive",
   "metadata": {},
   "source": [
    "**Note:** Total number of characters `12,804`"
   ]
  },
  {
   "cell_type": "markdown",
   "id": "multiple-story",
   "metadata": {},
   "source": [
    "## Tokenize\n",
    "\n",
    "Tokenizing the text is the process of transforming the collection of characters, into words or sentences."
   ]
  },
  {
   "cell_type": "code",
   "execution_count": 4,
   "id": "periodic-mediterranean",
   "metadata": {},
   "outputs": [],
   "source": [
    "# Make lower\n",
    "raw = raw_orig.lower()"
   ]
  },
  {
   "cell_type": "code",
   "execution_count": 5,
   "id": "artistic-durham",
   "metadata": {},
   "outputs": [],
   "source": [
    "# Remove Numbers\n",
    "raw = re.sub('\\w*\\d\\w*', '', raw)"
   ]
  },
  {
   "cell_type": "code",
   "execution_count": 6,
   "id": "dental-device",
   "metadata": {},
   "outputs": [
    {
     "name": "stdout",
     "output_type": "stream",
     "text": [
      "number of sentences in review: 73\n",
      "first 5 sentences\n"
     ]
    },
    {
     "data": {
      "text/plain": [
       "['a chatbot (also known as a talkbot, chatterbot, bot, im bot, interactive agent, or artificial conversational entity) is a computer program or an artificial intelligence which conducts a conversation via auditory or textual methods.',\n",
       " 'such programs are often designed to convincingly simulate how a human would behave as a conversational partner, thereby passing the turing test.',\n",
       " 'chatbots are typically used in dialog systems for various practical purposes including customer service or information acquisition.',\n",
       " 'some chatterbots use sophisticated natural language processing systems, but many simpler systems scan for keywords within the input, then pull a reply with the most matching keywords, or the most similar wording pattern, from a database.',\n",
       " 'the term \"chatterbot\" was originally coined by michael mauldin (creator of the first verbot, julia) in  to describe these conversational programs.']"
      ]
     },
     "execution_count": 6,
     "metadata": {},
     "output_type": "execute_result"
    }
   ],
   "source": [
    "tokenized_sent = sent_tokenize(raw)\n",
    "print('number of sentences in review:', len(tokenized_sent))\n",
    "\n",
    "print('first 5 sentences')\n",
    "tokenized_sent[:5]"
   ]
  },
  {
   "cell_type": "code",
   "execution_count": 7,
   "id": "paperback-sport",
   "metadata": {},
   "outputs": [
    {
     "name": "stdout",
     "output_type": "stream",
     "text": [
      "number of words in review: 2165\n",
      "first 15 word tokens\n"
     ]
    },
    {
     "data": {
      "text/plain": [
       "['a',\n",
       " 'chatbot',\n",
       " '(',\n",
       " 'also',\n",
       " 'known',\n",
       " 'as',\n",
       " 'a',\n",
       " 'talkbot',\n",
       " ',',\n",
       " 'chatterbot',\n",
       " ',',\n",
       " 'bot',\n",
       " ',',\n",
       " 'im',\n",
       " 'bot']"
      ]
     },
     "execution_count": 7,
     "metadata": {},
     "output_type": "execute_result"
    }
   ],
   "source": [
    "tokenized_word = word_tokenize(raw)\n",
    "print('number of words in review:', len(tokenized_word))\n",
    "\n",
    "print('first 15 word tokens')\n",
    "tokenized_word[:15]"
   ]
  },
  {
   "cell_type": "markdown",
   "id": "still-mobility",
   "metadata": {},
   "source": [
    "## Word Frequency w/ Visualizations"
   ]
  },
  {
   "cell_type": "code",
   "execution_count": 8,
   "id": "authorized-ontario",
   "metadata": {},
   "outputs": [
    {
     "data": {
      "text/plain": [
       "[(',', 127),\n",
       " ('the', 83),\n",
       " ('.', 72),\n",
       " ('a', 55),\n",
       " ('to', 48),\n",
       " ('of', 48),\n",
       " ('and', 43),\n",
       " ('in', 33),\n",
       " ('as', 30),\n",
       " ('chatbot', 27)]"
      ]
     },
     "execution_count": 8,
     "metadata": {},
     "output_type": "execute_result"
    }
   ],
   "source": [
    "fdist = FreqDist(tokenized_word)\n",
    "fdist.most_common(10)"
   ]
  },
  {
   "cell_type": "markdown",
   "id": "familiar-dressing",
   "metadata": {},
   "source": [
    "**Note:**  You can see that the top words contain mostly `Stop Words` and punctuation.  We need to remove these to get a more accurate picture of the *meaningful* words."
   ]
  },
  {
   "cell_type": "markdown",
   "id": "active-scottish",
   "metadata": {},
   "source": [
    "## Stop Word Removal & Punctuation\n",
    "\n",
    "Next is the process of removing stop words. Stop words are common words that appear but do not add any additional understanding. Words such as `a` and `the` are examples. These words also appear very frequently, become dominant in your analysis, and obscure meaningful words."
   ]
  },
  {
   "cell_type": "code",
   "execution_count": 9,
   "id": "opposed-garage",
   "metadata": {},
   "outputs": [
    {
     "name": "stdout",
     "output_type": "stream",
     "text": [
      "number of words in review after stop words removal: 1173\n",
      "first 15 words\n"
     ]
    },
    {
     "data": {
      "text/plain": [
       "['chatbot',\n",
       " 'also',\n",
       " 'known',\n",
       " 'talkbot',\n",
       " 'chatterbot',\n",
       " 'bot',\n",
       " 'im',\n",
       " 'bot',\n",
       " 'interactive',\n",
       " 'agent']"
      ]
     },
     "execution_count": 9,
     "metadata": {},
     "output_type": "execute_result"
    }
   ],
   "source": [
    "# create a list of english stop words from NLTK, including punctuation\n",
    "useless_words = stopwords.words(\"english\") + list(string.punctuation)\n",
    "useless_words = useless_words + [\"'s\", \"``\", \"''\", \"...\", \"e.g\"]\n",
    "\n",
    "# filter out the stop words\n",
    "filtered_words = [word for word in tokenized_word if not word in useless_words]\n",
    "\n",
    "print('number of words in review after stop words removal:', len(filtered_words))\n",
    "\n",
    "print('first 15 words')\n",
    "filtered_words [:10]"
   ]
  },
  {
   "cell_type": "markdown",
   "id": "general-skirt",
   "metadata": {},
   "source": [
    "**Note:** A custom set of list items was added to capture special characters and sequences not found in stop words or punctuation.  The easiest way to do this is iterate through with multiple passes until you've sufficeintly removed as many edge cases as desired.  By simply appending them to the `useless_words` list, they're removed as part of the cleaning process."
   ]
  },
  {
   "cell_type": "code",
   "execution_count": 10,
   "id": "trying-submission",
   "metadata": {},
   "outputs": [
    {
     "data": {
      "text/plain": [
       "[('chatbot', 27),\n",
       " ('chatbots', 19),\n",
       " ('used', 10),\n",
       " ('messenger', 10),\n",
       " ('user', 10),\n",
       " ('conversational', 9),\n",
       " ('program', 9),\n",
       " ('customer', 9),\n",
       " ('service', 9),\n",
       " ('also', 8)]"
      ]
     },
     "execution_count": 10,
     "metadata": {},
     "output_type": "execute_result"
    }
   ],
   "source": [
    "fdist = FreqDist(filtered_words)\n",
    "fdist.most_common(10)"
   ]
  },
  {
   "cell_type": "markdown",
   "id": "short-range",
   "metadata": {},
   "source": [
    "**Note:** The `FrequencyDistribution` shows much more meaningful words at the top.  The top two words should normally be one word when reduced to their stem or lemma.  This will be done later."
   ]
  },
  {
   "cell_type": "code",
   "execution_count": 11,
   "id": "duplicate-priest",
   "metadata": {},
   "outputs": [
    {
     "data": {
      "image/png": "[encoded data removed]",
      "text/plain": [
       "<Figure size 720x360 with 1 Axes>"
      ]
     },
     "metadata": {
      "needs_background": "light"
     },
     "output_type": "display_data"
    }
   ],
   "source": [
    "plt.figure(figsize=(10, 5))\n",
    "\n",
    "fdist.plot(30, cumulative=False)\n",
    "plt.show();"
   ]
  },
  {
   "cell_type": "code",
   "execution_count": 12,
   "id": "incorrect-argentina",
   "metadata": {},
   "outputs": [
    {
     "data": {
      "image/png": "[encoded data removed]",
      "text/plain": [
       "<Figure size 720x360 with 1 Axes>"
      ]
     },
     "metadata": {
      "needs_background": "light"
     },
     "output_type": "display_data"
    }
   ],
   "source": [
    "plt.figure(figsize=(10, 5))\n",
    "fdist.plot(30, cumulative=True);"
   ]
  },
  {
   "cell_type": "markdown",
   "id": "active-seminar",
   "metadata": {},
   "source": [
    "## Stemming & Lemmatization\n",
    "\n",
    "Stemming is removing characters from the beginning or end of a word to reduce it to its stem. Lemmatization is the process of determining the lemma, or canonical form of a word. An example of stemming would be to reduce `runs` to `run` as the base word dropping the `s`, where `ran` would not be in the same stem. However, lemmatization would classify `ran` in the same lemma. These techniques ensure that you have a corpus with the most meaningful words in their base forms."
   ]
  },
  {
   "cell_type": "code",
   "execution_count": 13,
   "id": "compressed-eight",
   "metadata": {},
   "outputs": [
    {
     "name": "stdout",
     "output_type": "stream",
     "text": [
      "Filtered Sentences word count: 1173\n",
      "Stemmed Sentences word count: 728\n",
      "\n",
      " first 10 stemmed words:\n"
     ]
    },
    {
     "data": {
      "text/plain": [
       "[('interactive', 'interact'),\n",
       " ('artificial', 'artifici'),\n",
       " ('conversational', 'convers'),\n",
       " ('entity', 'entiti'),\n",
       " ('computer', 'comput'),\n",
       " ('artificial', 'artifici'),\n",
       " ('intelligence', 'intellig'),\n",
       " ('conducts', 'conduct'),\n",
       " ('conversation', 'convers'),\n",
       " ('auditory', 'auditori')]"
      ]
     },
     "execution_count": 13,
     "metadata": {},
     "output_type": "execute_result"
    }
   ],
   "source": [
    "ps = PorterStemmer()\n",
    "\n",
    "# apply the stemmer to our words list\n",
    "stemmed_words=[]\n",
    "for w in filtered_words:\n",
    "    stemmed_words.append(ps.stem(w))\n",
    "\n",
    "# create a list of orginal words and stemmed words for comparison\n",
    "stemmed_list =[]\n",
    "for w1, w2 in zip(filtered_words, stemmed_words):\n",
    "    if w1 != w2:\n",
    "        stemmed_list.append((w1,w2))\n",
    "        \n",
    "print(\"Filtered Sentences word count:\", len(filtered_words))\n",
    "print(\"Stemmed Sentences word count:\", len(stemmed_list))\n",
    "\n",
    "# see how words were stemmed\n",
    "print('\\n first 10 stemmed words:')\n",
    "stemmed_list[:10]"
   ]
  },
  {
   "cell_type": "markdown",
   "id": "median-maximum",
   "metadata": {},
   "source": [
    "**Stemming Notes:**. There are some great examples of stemming in the list.  Often with stemming, the word is reduced, but it ends up with a form that isn't actually a word.  Such as `artificial` reducing to `artifici` and `computer` to `comput`."
   ]
  },
  {
   "cell_type": "code",
   "execution_count": 14,
   "id": "critical-favorite",
   "metadata": {},
   "outputs": [
    {
     "name": "stdout",
     "output_type": "stream",
     "text": [
      "Filtered Sentences word count: 1173\n",
      "Lemmatized Sentences word count: 234\n",
      "\n",
      " First 20 Lemmatized words:\n"
     ]
    },
    {
     "data": {
      "text/plain": [
       "[('known', 'know'),\n",
       " ('conducts', 'conduct'),\n",
       " ('programs', 'program'),\n",
       " ('designed', 'design'),\n",
       " ('passing', 'pass'),\n",
       " ('used', 'use'),\n",
       " ('purposes', 'purpose'),\n",
       " ('including', 'include'),\n",
       " ('sophisticated', 'sophisticate'),\n",
       " ('processing', 'process'),\n",
       " ('matching', 'match'),\n",
       " ('wording', 'word'),\n",
       " ('coined', 'coin'),\n",
       " ('programs', 'program'),\n",
       " ('accessed', 'access'),\n",
       " ('messaging', 'message'),\n",
       " ('classified', 'classify'),\n",
       " ('tools', 'tool'),\n",
       " ('games', 'game'),\n",
       " ('marketing', 'market')]"
      ]
     },
     "execution_count": 14,
     "metadata": {},
     "output_type": "execute_result"
    }
   ],
   "source": [
    "lem = WordNetLemmatizer()\n",
    "\n",
    "# apply the lemmatization to our words list\n",
    "lemm_words=[]\n",
    "for w in filtered_words:\n",
    "    lemm_words.append(lem.lemmatize(w, 'v')) # use verb as pos\n",
    "\n",
    "# create a list of orginal words and stemmed words for comparison\n",
    "lemm_list =[]\n",
    "for w1, w2 in zip(filtered_words, lemm_words):\n",
    "    if w1 != w2:\n",
    "        lemm_list.append((w1,w2))\n",
    "        \n",
    "print(\"Filtered Sentences word count:\", len(filtered_words))\n",
    "print(\"Lemmatized Sentences word count:\", len(lemm_list))\n",
    "\n",
    "print('\\n First 20 Lemmatized words:')\n",
    "lemm_list[:20]"
   ]
  },
  {
   "cell_type": "markdown",
   "id": "compound-paper",
   "metadata": {},
   "source": [
    "**Lemmatazation Notes:** Two things to notice in the Lemmatazaiton example to explain the difference.  First is that each word in the right side of the list is actually a word.  All of them make sense.  The second is that certain examples when reduced to their lemma take a different form than simply removing characters from the front or back.  For example, `including` is now `include` and `messaging` is now `message`.\n",
    "\n",
    "This processed used *verb* as the part of speech."
   ]
  },
  {
   "cell_type": "code",
   "execution_count": 15,
   "id": "inside-baltimore",
   "metadata": {},
   "outputs": [
    {
     "name": "stdout",
     "output_type": "stream",
     "text": [
      "Filtered Sentences word count: 1173\n",
      "Lemmatized Sentences word count: 155\n",
      "\n",
      " First 20 Lemmatized words:\n"
     ]
    },
    {
     "data": {
      "text/plain": [
       "[('conducts', 'conduct'),\n",
       " ('methods', 'method'),\n",
       " ('programs', 'program'),\n",
       " ('systems', 'system'),\n",
       " ('purposes', 'purpose'),\n",
       " ('systems', 'system'),\n",
       " ('systems', 'system'),\n",
       " ('programs', 'program'),\n",
       " ('assistants', 'assistant'),\n",
       " ('organizations', 'organization'),\n",
       " ('websites', 'website'),\n",
       " ('categories', 'category'),\n",
       " ('tools', 'tool'),\n",
       " ('games', 'game'),\n",
       " ('sports', 'sport'),\n",
       " ('utilities', 'utility'),\n",
       " ('users', 'user'),\n",
       " ('machines', 'machine'),\n",
       " ('ways', 'way'),\n",
       " ('workings', 'working')]"
      ]
     },
     "execution_count": 15,
     "metadata": {},
     "output_type": "execute_result"
    }
   ],
   "source": [
    "lemm_words=[]\n",
    "for w in filtered_words:\n",
    "    lemm_words.append(lem.lemmatize(w, 'n')) # use noun as pos\n",
    "\n",
    "# create a list of orginal words and stemmed words for comparison\n",
    "lemm_list =[]\n",
    "for w1, w2 in zip(filtered_words, lemm_words):\n",
    "    if w1 != w2:\n",
    "        lemm_list.append((w1,w2))\n",
    "        \n",
    "print(\"Filtered Sentences word count:\", len(filtered_words))\n",
    "print(\"Lemmatized Sentences word count:\", len(lemm_list))\n",
    "\n",
    "print('\\n First 20 Lemmatized words:')\n",
    "lemm_list[:20]"
   ]
  },
  {
   "cell_type": "markdown",
   "id": "silent-genetics",
   "metadata": {},
   "source": [
    "**Note:** Similar Process as above but using nouns as the Part of Speech.  You can see the same process, but with different word in their Noun form such as `utilities` to `utility`."
   ]
  },
  {
   "cell_type": "code",
   "execution_count": 16,
   "id": "southwest-hanging",
   "metadata": {},
   "outputs": [
    {
     "data": {
      "text/plain": [
       "[('chatbot', 46),\n",
       " ('use', 23),\n",
       " ('convers', 16),\n",
       " ('program', 15),\n",
       " ('user', 14),\n",
       " ('design', 12),\n",
       " ('compani', 12),\n",
       " ('servic', 11),\n",
       " ('process', 11),\n",
       " ('develop', 11)]"
      ]
     },
     "execution_count": 16,
     "metadata": {},
     "output_type": "execute_result"
    }
   ],
   "source": [
    "stemmed_words = [ps.stem(word) for word in filtered_words]\n",
    "\n",
    "fdist = FreqDist(stemmed_words)\n",
    "fdist.most_common(10)"
   ]
  },
  {
   "cell_type": "markdown",
   "id": "swiss-friend",
   "metadata": {},
   "source": [
    "**Note:** After the stemming is completed on the `filtered_words` list, the duplicate `chatbot` has been reduced and words are in their stemmed format.  Note that `use` and `user` are different.  One is a noun and one is a verb."
   ]
  },
  {
   "cell_type": "code",
   "execution_count": 17,
   "id": "distinct-perth",
   "metadata": {},
   "outputs": [
    {
     "data": {
      "image/png": "[encoded data removed]",
      "text/plain": [
       "<Figure size 720x360 with 1 Axes>"
      ]
     },
     "metadata": {
      "needs_background": "light"
     },
     "output_type": "display_data"
    }
   ],
   "source": [
    "plt.figure(figsize=(10, 5))\n",
    "\n",
    "fdist.plot(30, cumulative=False)\n",
    "plt.show();"
   ]
  },
  {
   "cell_type": "markdown",
   "id": "rubber-staff",
   "metadata": {},
   "source": [
    "**Note:**  A slightly different shapped graph now that `stemming` is completed."
   ]
  },
  {
   "cell_type": "markdown",
   "id": "seeing-value",
   "metadata": {},
   "source": [
    "## Part of Speech Tagging"
   ]
  },
  {
   "cell_type": "markdown",
   "id": "guided-roots",
   "metadata": {},
   "source": [
    "### Part of Speech Codes\n",
    "\n",
    "<table cellpadding=\"2\" cellspacing=\"2\" border=\"0\">\n",
    "  <tbody><tr bgcolor=\"#DFDFFF\" align=\"none\"> \n",
    "    <td align=\"none\"> \n",
    "      <div align=\"left\">Number</div>\n",
    "    </td>\n",
    "    <td> \n",
    "      <div align=\"left\">Tag</div>\n",
    "    </td>\n",
    "    <td> \n",
    "      <div align=\"left\">Description</div>\n",
    "    </td>\n",
    "  </tr>\n",
    "  <tr bgcolor=\"#FFFFCA\"> \n",
    "    <td align=\"none\"> 1. </td>\n",
    "    <td>CC </td>\n",
    "    <td>Coordinating conjunction </td>\n",
    "  </tr>\n",
    "  <tr bgcolor=\"#FFFFCA\"> \n",
    "    <td align=\"none\"> 2. </td>\n",
    "    <td>CD </td>\n",
    "    <td>Cardinal number </td>\n",
    "  </tr>\n",
    "  <tr bgcolor=\"#FFFFCA\"> \n",
    "    <td align=\"none\"> 3. </td>\n",
    "    <td>DT </td>\n",
    "    <td>Determiner </td>\n",
    "  </tr>\n",
    "  <tr bgcolor=\"#FFFFCA\"> \n",
    "    <td align=\"none\"> 4. </td>\n",
    "    <td>EX </td>\n",
    "    <td>Existential <i>there<i> </i></i></td>\n",
    "  </tr>\n",
    "  <tr bgcolor=\"#FFFFCA\"> \n",
    "    <td align=\"none\"> 5. </td>\n",
    "    <td>FW </td>\n",
    "    <td>Foreign word </td>\n",
    "  </tr>\n",
    "  <tr bgcolor=\"#FFFFCA\"> \n",
    "    <td align=\"none\"> 6. </td>\n",
    "    <td>IN </td>\n",
    "    <td>Preposition or subordinating conjunction </td>\n",
    "  </tr>\n",
    "  <tr bgcolor=\"#FFFFCA\"> \n",
    "    <td align=\"none\"> 7. </td>\n",
    "    <td>JJ </td>\n",
    "    <td>Adjective </td>\n",
    "  </tr>\n",
    "  <tr bgcolor=\"#FFFFCA\"> \n",
    "    <td align=\"none\"> 8. </td>\n",
    "    <td>JJR </td>\n",
    "    <td>Adjective, comparative </td>\n",
    "  </tr>\n",
    "  <tr bgcolor=\"#FFFFCA\"> \n",
    "    <td align=\"none\"> 9. </td>\n",
    "    <td>JJS </td>\n",
    "    <td>Adjective, superlative </td>\n",
    "  </tr>\n",
    "  <tr bgcolor=\"#FFFFCA\"> \n",
    "    <td align=\"none\"> 10. </td>\n",
    "    <td>LS </td>\n",
    "    <td>List item marker </td>\n",
    "  </tr>\n",
    "  <tr bgcolor=\"#FFFFCA\"> \n",
    "    <td align=\"none\"> 11. </td>\n",
    "    <td>MD </td>\n",
    "    <td>Modal </td>\n",
    "  </tr>\n",
    "  <tr bgcolor=\"#FFFFCA\"> \n",
    "    <td align=\"none\"> 12. </td>\n",
    "    <td>NN </td>\n",
    "    <td>Noun, singular or mass </td>\n",
    "  </tr>\n",
    "  <tr bgcolor=\"#FFFFCA\"> \n",
    "    <td align=\"none\"> 13. </td>\n",
    "    <td>NNS </td>\n",
    "    <td>Noun, plural </td>\n",
    "  </tr>\n",
    "  <tr bgcolor=\"#FFFFCA\"> \n",
    "    <td align=\"none\"> 14. </td>\n",
    "    <td>NNP </td>\n",
    "    <td>Proper noun, singular </td>\n",
    "  </tr>\n",
    "  <tr bgcolor=\"#FFFFCA\"> \n",
    "    <td align=\"none\"> 15. </td>\n",
    "    <td>NNPS </td>\n",
    "    <td>Proper noun, plural </td>\n",
    "  </tr>\n",
    "  <tr bgcolor=\"#FFFFCA\"> \n",
    "    <td align=\"none\"> 16. </td>\n",
    "    <td>PDT </td>\n",
    "    <td>Predeterminer </td>\n",
    "  </tr>\n",
    "  <tr bgcolor=\"#FFFFCA\"> \n",
    "    <td align=\"none\"> 17. </td>\n",
    "    <td>POS </td>\n",
    "    <td>Possessive ending </td>\n",
    "  </tr>\n",
    "  <tr bgcolor=\"#FFFFCA\"> \n",
    "    <td align=\"none\"> 18. </td>\n",
    "    <td>PRP </td>\n",
    "    <td>Personal pronoun </td>\n",
    "  </tr>\n",
    "  <tr bgcolor=\"#FFFFCA\"> \n",
    "    <td align=\"none\"> 19. </td>\n",
    "    <td>PRP&#36</td>\n",
    "    <td>Possessive pronoun </td>\n",
    "  </tr>\n",
    "  <tr bgcolor=\"#FFFFCA\"> \n",
    "    <td align=\"none\"> 20. </td>\n",
    "    <td>RB </td>\n",
    "    <td>Adverb </td>\n",
    "  </tr>\n",
    "  <tr bgcolor=\"#FFFFCA\"> \n",
    "    <td align=\"none\"> 21. </td>\n",
    "    <td>RBR </td>\n",
    "    <td>Adverb, comparative </td>\n",
    "  </tr>\n",
    "  <tr bgcolor=\"#FFFFCA\"> \n",
    "    <td align=\"none\"> 22. </td>\n",
    "    <td>RBS </td>\n",
    "    <td>Adverb, superlative </td>\n",
    "  </tr>\n",
    "  <tr bgcolor=\"#FFFFCA\"> \n",
    "    <td align=\"none\"> 23. </td>\n",
    "    <td>RP </td>\n",
    "    <td>Particle </td>\n",
    "  </tr>\n",
    "  <tr bgcolor=\"#FFFFCA\"> \n",
    "    <td align=\"none\"> 24. </td>\n",
    "    <td>SYM </td>\n",
    "    <td>Symbol </td>\n",
    "  </tr>\n",
    "  <tr bgcolor=\"#FFFFCA\"> \n",
    "    <td align=\"none\"> 25. </td>\n",
    "    <td>TO </td>\n",
    "    <td><i>to</i> </td>\n",
    "  </tr>\n",
    "  <tr bgcolor=\"#FFFFCA\"> \n",
    "    <td align=\"none\"> 26. </td>\n",
    "    <td>UH </td>\n",
    "    <td>Interjection </td>\n",
    "  </tr>\n",
    "  <tr bgcolor=\"#FFFFCA\"> \n",
    "    <td align=\"none\"> 27. </td>\n",
    "    <td>VB </td>\n",
    "    <td>Verb, base form </td>\n",
    "  </tr>\n",
    "  <tr bgcolor=\"#FFFFCA\"> \n",
    "    <td align=\"none\"> 28. </td>\n",
    "    <td>VBD </td>\n",
    "    <td>Verb, past tense </td>\n",
    "  </tr>\n",
    "  <tr bgcolor=\"#FFFFCA\"> \n",
    "    <td align=\"none\"> 29. </td>\n",
    "    <td>VBG </td>\n",
    "    <td>Verb, gerund or present participle </td>\n",
    "  </tr>\n",
    "  <tr bgcolor=\"#FFFFCA\"> \n",
    "    <td align=\"none\"> 30. </td>\n",
    "    <td>VBN </td>\n",
    "    <td>Verb, past participle </td>\n",
    "  </tr>\n",
    "  <tr bgcolor=\"#FFFFCA\"> \n",
    "    <td align=\"none\"> 31. </td>\n",
    "    <td>VBP </td>\n",
    "    <td>Verb, non-3rd person singular present </td>\n",
    "  </tr>\n",
    "  <tr bgcolor=\"#FFFFCA\"> \n",
    "    <td align=\"none\"> 32. </td>\n",
    "    <td>VBZ </td>\n",
    "    <td>Verb, 3rd person singular present </td>\n",
    "  </tr>\n",
    "  <tr bgcolor=\"#FFFFCA\"> \n",
    "    <td align=\"none\"> 33. </td>\n",
    "    <td>WDT </td>\n",
    "    <td>Wh-determiner </td>\n",
    "  </tr>\n",
    "  <tr bgcolor=\"#FFFFCA\"> \n",
    "    <td align=\"none\"> 34. </td>\n",
    "    <td>WP </td>\n",
    "    <td>Wh-pronoun </td>\n",
    "  </tr>\n",
    "  <tr bgcolor=\"#FFFFCA\"> \n",
    "    <td align=\"none\"> 35. </td>\n",
    "    <td>WP&#36</td>\n",
    "    <td>Possessive wh-pronoun </td>\n",
    "  </tr>\n",
    "  <tr bgcolor=\"#FFFFCA\"> \n",
    "    <td align=\"none\"> 36. </td>\n",
    "    <td>WRB </td>\n",
    "    <td>Wh-adverb \n",
    "</td></tr></tbody></table>"
   ]
  },
  {
   "cell_type": "code",
   "execution_count": 18,
   "id": "coordinate-saturday",
   "metadata": {},
   "outputs": [
    {
     "data": {
      "text/plain": [
       "[[('Such', 'JJ'),\n",
       "  ('programs', 'NNS'),\n",
       "  ('are', 'VBP'),\n",
       "  ('often', 'RB'),\n",
       "  ('designed', 'VBN'),\n",
       "  ('to', 'TO'),\n",
       "  ('convincingly', 'VB'),\n",
       "  ('simulate', 'VB'),\n",
       "  ('how', 'WRB'),\n",
       "  ('a', 'DT'),\n",
       "  ('human', 'JJ'),\n",
       "  ('would', 'MD'),\n",
       "  ('behave', 'VB'),\n",
       "  ('as', 'IN'),\n",
       "  ('a', 'DT'),\n",
       "  ('conversational', 'JJ'),\n",
       "  ('partner', 'NN'),\n",
       "  (',', ','),\n",
       "  ('thereby', 'RB'),\n",
       "  ('passing', 'VBG'),\n",
       "  ('the', 'DT'),\n",
       "  ('Turing', 'NNP'),\n",
       "  ('test', 'NN'),\n",
       "  ('.', '.')]]"
      ]
     },
     "execution_count": 18,
     "metadata": {},
     "output_type": "execute_result"
    }
   ],
   "source": [
    "tokenized_sent = sent_tokenize(raw_orig)\n",
    "\n",
    "[nltk.pos_tag(nltk.word_tokenize(word)) for word in tokenized_sent[1:2]]"
   ]
  },
  {
   "cell_type": "markdown",
   "id": "considerable-macedonia",
   "metadata": {},
   "source": [
    "**Notes:** From the first sentence in the corpus, each word gets a POS tags that show us how this works.  Here are a couple examples:\n",
    "\n",
    " - `programs`, `partner`, and `test` are Nouns (NN and NNS for plural).\n",
    " - `Turing` is a Proper Noun (NNP) for someone's name.\n",
    " - `designed`, `passing`, and `behave` are examples of Verbs (VBN, VB, VBG).\n",
    " - `human` and `conversational` are Adjectives.\n",
    "\n",
    "These can be combined with Named Entity Recogintion as well, that is next."
   ]
  },
  {
   "cell_type": "markdown",
   "id": "electronic-services",
   "metadata": {},
   "source": [
    "## Named Entity Recoginition"
   ]
  },
  {
   "cell_type": "code",
   "execution_count": 19,
   "id": "intimate-shelter",
   "metadata": {},
   "outputs": [
    {
     "name": "stdout",
     "output_type": "stream",
     "text": [
      "Today, most chatbots are either accessed via virtual assistants such as Google Assistant and Amazon Alexa, via messaging apps such as Facebook Messenger or WeChat, or via individual organizations' apps and websites.\n",
      "\n",
      "\n",
      "[('Today', 'NN', 'O'), (',', ',', 'O'), ('most', 'JJS', 'O'), ('chatbots', 'NNS', 'O'), ('are', 'VBP', 'O'), ('either', 'DT', 'O'), ('accessed', 'JJ', 'O'), ('via', 'IN', 'O'), ('virtual', 'JJ', 'O'), ('assistants', 'NNS', 'O'), ('such', 'JJ', 'O'), ('as', 'IN', 'O'), ('Google', 'NNP', 'B-PERSON'), ('Assistant', 'NNP', 'I-PERSON'), ('and', 'CC', 'O'), ('Amazon', 'NNP', 'B-PERSON'), ('Alexa', 'NNP', 'I-PERSON'), (',', ',', 'O'), ('via', 'IN', 'O'), ('messaging', 'VBG', 'O'), ('apps', 'NNS', 'O'), ('such', 'JJ', 'O'), ('as', 'IN', 'O'), ('Facebook', 'NNP', 'B-PERSON'), ('Messenger', 'NNP', 'I-PERSON'), ('or', 'CC', 'O'), ('WeChat', 'NNP', 'B-ORGANIZATION'), (',', ',', 'O'), ('or', 'CC', 'O'), ('via', 'IN', 'O'), ('individual', 'JJ', 'O'), ('organizations', 'NNS', 'O'), (\"'\", 'POS', 'O'), ('apps', 'NN', 'O'), ('and', 'CC', 'O'), ('websites', 'NNS', 'O'), ('.', '.', 'O')]\n",
      "\n",
      "\n"
     ]
    }
   ],
   "source": [
    "#tokenize sentences from the news article\n",
    "tokenized_sent = sent_tokenize(raw_orig)\n",
    "\n",
    "# review a specific setence\n",
    "for s in tokenized_sent[5:6]:\n",
    "    print(s)\n",
    "    print('\\n')\n",
    "    \n",
    "    # word tokenize and pos tagging\n",
    "    word = pos_tag(word_tokenize(s))\n",
    "    \n",
    "    # chunking using named entity chunker\n",
    "    res_chunks = ne_chunk(word)\n",
    "    \n",
    "    # Return a list of 3-tuples containing (word, tag, IOB-tag) eg:  [(token, pos_tag, name_entity_tag)] \n",
    "    print(tree2conlltags(res_chunks))\n",
    "    print('\\n')"
   ]
  },
  {
   "cell_type": "markdown",
   "id": "front-principle",
   "metadata": {},
   "source": [
    "**Note:**  The output above is the format `(Word, POS, NER)` with it's Part of Speech Tag and Named Entity.  Most of the words are not itentified as named entities and thefore only are displayed with their `IOB` tag and no named entity.  `IOB` tags are defined as follows:\n",
    "\n",
    ">The IOB format (short for inside, outside, beginning) is a common tagging format for tagging tokens in a chunking task in computational linguistics (ex. named-entity recognition). It was presented by Ramshaw and Marcus in their paper \"Text Chunking using Transformation-Based Learning\", 1995 The B- prefix before a tag indicates that the tag is the beginning of a chunk, and an I- prefix before a tag indicates that the tag is inside a chunk. The B- tag is used only when a tag is followed by a tag of the same type without O tokens between them. An O tag indicates that a token belongs to no chunk.\n",
    "\n",
    "https://en.wikipedia.org/wiki/Inside–outside–beginning_(tagging)"
   ]
  },
  {
   "cell_type": "code",
   "execution_count": 20,
   "id": "inclusive-investor",
   "metadata": {},
   "outputs": [],
   "source": [
    "person = []\n",
    "org = []\n",
    "gpe = []\n",
    "ner_types = set()\n",
    "\n",
    "for s in tokenized_sent:\n",
    "    pos = pos_tag(word_tokenize(s))\n",
    "    res_chunks = ne_chunk(pos)\n",
    "\n",
    "    for i in tree2conlltags(res_chunks):\n",
    "        ner = i[2]\n",
    "        if ner == 'O':  # skip Outiside labels\n",
    "            continue;\n",
    "        ner_types.add(ner) # Create a set of unique entries to ensure none are missing\n",
    "        if ner.find('PERSON')> -1:   # matches on I-PERSON, B-PERSON\n",
    "            person.append(i)\n",
    "        elif ner.find('ORGANIZATION') > -1:\n",
    "            org.append(i)\n",
    "        elif ner.find('GPE') >-1:\n",
    "            gpe.append(i)  "
   ]
  },
  {
   "cell_type": "code",
   "execution_count": 21,
   "id": "sufficient-discretion",
   "metadata": {},
   "outputs": [
    {
     "data": {
      "text/plain": [
       "{'B-GPE', 'B-ORGANIZATION', 'B-PERSON', 'I-GPE', 'I-ORGANIZATION', 'I-PERSON'}"
      ]
     },
     "execution_count": 21,
     "metadata": {},
     "output_type": "execute_result"
    }
   ],
   "source": [
    "ner_types"
   ]
  },
  {
   "cell_type": "code",
   "execution_count": 22,
   "id": "computational-utilization",
   "metadata": {},
   "outputs": [
    {
     "name": "stdout",
     "output_type": "stream",
     "text": [
      "PERSON: 52\n",
      "ORGANIZATION: 70\n",
      "GPE: 33\n"
     ]
    }
   ],
   "source": [
    "print('PERSON:', len(person))\n",
    "print('ORGANIZATION:', len(org))\n",
    "print('GPE:', len(gpe))"
   ]
  },
  {
   "cell_type": "code",
   "execution_count": 23,
   "id": "undefined-demonstration",
   "metadata": {},
   "outputs": [
    {
     "data": {
      "image/png": "[encoded data removed]",
      "text/plain": [
       "<Figure size 432x288 with 1 Axes>"
      ]
     },
     "metadata": {},
     "output_type": "display_data"
    }
   ],
   "source": [
    "d = {'NER' : pd.Series([len(person), len(org), len(gpe)], index=['PER', 'ORG', 'GPE'])}\n",
    "\n",
    "df_ner = pd.DataFrame(d)\n",
    "df_ner.plot(kind='pie', y='NER', legend=False, \n",
    "            title=\"Count of NER Categories\", \n",
    "            ylabel='', autopct='%1.1f%%');"
   ]
  },
  {
   "cell_type": "markdown",
   "id": "honey-aircraft",
   "metadata": {},
   "source": [
    "A quick plot show the relative difference of each NER type in the corpus."
   ]
  },
  {
   "cell_type": "markdown",
   "id": "alive-journalist",
   "metadata": {},
   "source": [
    "### Example POS & NERs"
   ]
  },
  {
   "cell_type": "code",
   "execution_count": 24,
   "id": "modified-accreditation",
   "metadata": {},
   "outputs": [
    {
     "data": {
      "text/plain": [
       "{('Alan', 'NNP', 'B-PERSON'),\n",
       " ('Alexa', 'NNP', 'I-PERSON'),\n",
       " ('Amazon', 'NNP', 'B-PERSON'),\n",
       " ('Assistant', 'NNP', 'I-PERSON'),\n",
       " ('Bot', 'NNP', 'B-PERSON'),\n",
       " ('Facebook', 'NNP', 'B-PERSON'),\n",
       " ('Google', 'NNP', 'B-PERSON'),\n",
       " ('Mauldin', 'NNP', 'I-PERSON'),\n",
       " ('Messenger', 'NNP', 'I-PERSON'),\n",
       " ('Michael', 'NNP', 'B-PERSON')}"
      ]
     },
     "execution_count": 24,
     "metadata": {},
     "output_type": "execute_result"
    }
   ],
   "source": [
    "set(person[:10])"
   ]
  },
  {
   "cell_type": "code",
   "execution_count": 25,
   "id": "consistent-theorem",
   "metadata": {},
   "outputs": [
    {
     "data": {
      "text/plain": [
       "{('Agence', 'NNP', 'B-ORGANIZATION'),\n",
       " ('Artificial', 'NNP', 'B-ORGANIZATION'),\n",
       " ('Conversational', 'NNP', 'I-ORGANIZATION'),\n",
       " ('ELIZA', 'NN', 'B-ORGANIZATION'),\n",
       " ('ELIZA', 'NNP', 'B-ORGANIZATION'),\n",
       " ('HR', 'NNP', 'B-ORGANIZATION'),\n",
       " ('IM', 'NNP', 'B-ORGANIZATION'),\n",
       " ('Intelligence', 'NNP', 'B-ORGANIZATION'),\n",
       " ('Introduction', 'NN', 'B-ORGANIZATION'),\n",
       " ('Machinery', 'NN', 'B-ORGANIZATION'),\n",
       " ('PARRY', 'NNP', 'B-ORGANIZATION'),\n",
       " ('WeChat', 'NNP', 'B-ORGANIZATION'),\n",
       " ('YOUR', 'NNP', 'B-ORGANIZATION')}"
      ]
     },
     "execution_count": 25,
     "metadata": {},
     "output_type": "execute_result"
    }
   ],
   "source": [
    "set(org[:15])"
   ]
  },
  {
   "cell_type": "code",
   "execution_count": 26,
   "id": "seven-independence",
   "metadata": {},
   "outputs": [
    {
     "data": {
      "text/plain": [
       "{('American', 'NNP', 'B-GPE'),\n",
       " ('Background', 'NN', 'B-GPE'),\n",
       " ('ELIZA', 'NNP', 'B-GPE'),\n",
       " ('Interface', 'NN', 'B-GPE'),\n",
       " ('Jabberwacky', 'NNP', 'B-GPE'),\n",
       " ('Joseph', 'NNP', 'B-GPE'),\n",
       " ('Julia', 'NNP', 'B-GPE'),\n",
       " ('Turing', 'NNP', 'B-GPE'),\n",
       " ('Verbot', 'NNP', 'B-GPE'),\n",
       " ('Weizenbaum', 'NNP', 'B-GPE'),\n",
       " ('Weizenbaum', 'NNP', 'I-GPE')}"
      ]
     },
     "execution_count": 26,
     "metadata": {},
     "output_type": "execute_result"
    }
   ],
   "source": [
    "set(gpe[:15])"
   ]
  },
  {
   "cell_type": "markdown",
   "id": "burning-reynolds",
   "metadata": {},
   "source": [
    "**Note:** There were only three NER categories identified in the text corpus, `PERSON`, `ORGANIZATION` and `GEO POLITICAL ENTITY`.  In these we can see that the information is imperfect.  Some examples of People are actually company names and product names, others are accurate.  In the Organization category, potentially only \"HR\" is a correct match, but arguably not.  Similar in the GPE category, there appears to be less successful hits;  `American` is the most accurate."
   ]
  },
  {
   "cell_type": "markdown",
   "id": "latter-fault",
   "metadata": {},
   "source": [
    "**Additional Example of Counting NER Tags**"
   ]
  },
  {
   "cell_type": "code",
   "execution_count": 27,
   "id": "ideal-diabetes",
   "metadata": {},
   "outputs": [
    {
     "data": {
      "text/plain": [
       "defaultdict(int,\n",
       "            {'B-PERSON': 34,\n",
       "             'B-ORGANIZATION': 56,\n",
       "             'I-ORGANIZATION': 14,\n",
       "             'B-GPE': 31,\n",
       "             'I-PERSON': 18,\n",
       "             'I-GPE': 2})"
      ]
     },
     "execution_count": 27,
     "metadata": {},
     "output_type": "execute_result"
    }
   ],
   "source": [
    "ner_categories = defaultdict(int)\n",
    "\n",
    "# for each sent\n",
    "for s in tokenized_sent:\n",
    "    # tokenize the sentence into words\n",
    "    pos = pos_tag(word_tokenize(s))\n",
    "    \n",
    "    res_chunks = ne_chunk(pos)      #  tagged tokens\n",
    "       \n",
    "    for c in tree2conlltags(res_chunks):\n",
    "        ner = c[2]\n",
    "        if ner == 'O':  # skip Outiside labels\n",
    "            continue;\n",
    "        ner_categories[ner] += 1\n",
    "\n",
    "ner_categories"
   ]
  },
  {
   "cell_type": "markdown",
   "id": "auburn-amendment",
   "metadata": {},
   "source": [
    "**Note:** In this version it leaves in the `IOB` tag showing different types of organizations and GPEs. "
   ]
  },
  {
   "cell_type": "markdown",
   "id": "right-shanghai",
   "metadata": {},
   "source": [
    "## Noun Phrase Chunking"
   ]
  },
  {
   "cell_type": "markdown",
   "id": "south-fairy",
   "metadata": {},
   "source": [
    "### Regular Expression Cheat Sheet\n",
    "**Identifiers:**\n",
    "\n",
    " - `\\d` = any number\n",
    " - `\\D` = anything but a number\n",
    " - `\\s` = space\n",
    " - `\\S` = anything but a space\n",
    " - `\\w` = any letter\n",
    " - `\\W` = anything but a letter\n",
    " - `.` = any character, except for a new line\n",
    " - `\\b` = space around whole words\n",
    " - `\\.` = period. must use backslash, because . normally means any character.\n",
    "\n",
    "**Modifiers:**\n",
    "\n",
    " - `{1,3}` = for digits, u expect `1-3` counts of digits, or \"places\"\n",
    " - `+` = match 1 or more\n",
    " - `?` = match 0 or 1 repetitions.\n",
    " - `*` = match 0 or MORE repetitions\n",
    " - `$` = matches at the end of string\n",
    " - `^` = matches start of a string\n",
    " - `|` = matches either/or. Example `x|y` = will match either `x` or `y`\n",
    " - `[]` = range, or \"variance\"\n",
    " - `{x}` = expect to see this amount of the preceding code.\n",
    " - `{x,y}` = expect to see this `x-y` amounts of the precedng code\n",
    "\n",
    "**White Space Charts:**\n",
    "\n",
    " - `\\n` = new line\n",
    " - `\\s` = space\n",
    " - `\\t` = tab\n",
    " - `\\e` = escape\n",
    " - `\\f` = form feed\n",
    " - `\\r` = carriage return\n",
    "\n",
    "**Characters to REMEMBER TO ESCAPE IF USED!**\n",
    "\n",
    " - `. + * ? [ ] $ ^ ( ) { } | \\`\n",
    "\n",
    "**Brackets:**\n",
    "\n",
    " - `[]` = quanttative = will find either quantitative, or quantatative.\n",
    " - `[a-z]` = return any lowercase letter a-z\n",
    " - `[1-5a-qA-Z]` = return all numbers 1-5, lowercase letters a-q and uppercase A-Z"
   ]
  },
  {
   "cell_type": "markdown",
   "id": "democratic-repository",
   "metadata": {},
   "source": [
    "### POS Tagging Example"
   ]
  },
  {
   "cell_type": "markdown",
   "id": "studied-cedar",
   "metadata": {},
   "source": [
    "**POS Tagging**\n",
    "First, a quick demonstration on how POS tagging looks with a couple of words, `artificial` and `intelligence` back to back.  If we wanted to look for **chunks** that fall into this pattern, we would want to search for `JJ` followed by `NN`."
   ]
  },
  {
   "cell_type": "code",
   "execution_count": 28,
   "id": "impossible-requirement",
   "metadata": {},
   "outputs": [
    {
     "name": "stdout",
     "output_type": "stream",
     "text": [
      " [('artificial', 'JJ')] \n",
      " [('intelligence', 'NN')]\n"
     ]
    }
   ],
   "source": [
    "print('',pos_tag(word_tokenize(\"artificial\")), '\\n', pos_tag(word_tokenize(\"intelligence\")))"
   ]
  },
  {
   "cell_type": "markdown",
   "id": "french-certification",
   "metadata": {},
   "source": [
    "**NNP:**  Another example is a Proper, Singular Noun of `Alan`."
   ]
  },
  {
   "cell_type": "code",
   "execution_count": 29,
   "id": "parental-castle",
   "metadata": {},
   "outputs": [
    {
     "data": {
      "text/plain": [
       "[('Alan', 'NNP')]"
      ]
     },
     "execution_count": 29,
     "metadata": {},
     "output_type": "execute_result"
    }
   ],
   "source": [
    "pos_tag(word_tokenize(\"Alan\"))"
   ]
  },
  {
   "cell_type": "markdown",
   "id": "white-forge",
   "metadata": {},
   "source": [
    "### Noun Phrase Chunking the Corpus"
   ]
  },
  {
   "cell_type": "code",
   "execution_count": 30,
   "id": "faced-fleet",
   "metadata": {},
   "outputs": [],
   "source": [
    "def reg_chunker(sents, begin, end, expression):\n",
    "\n",
    "    sent = sents[begin:end] # specific sentence from the article (eg:list of one)\n",
    "    sent = ' '.join(sent)       # convert list to string\n",
    "\n",
    "    sent = pos_tag(word_tokenize(sent)) # pos tagging\n",
    "\n",
    "    pattern = expression\n",
    "    cp = nltk.RegexpParser(pattern) # chunkParser\n",
    "    chunked = cp.parse(sent)\n",
    "\n",
    "    # chunked.draw()   # visuall\n",
    "    # print(chunked)   # prints the entire tree\n",
    "\n",
    "    # prints only the noun chunks matching the pattern, ignoring the rest\n",
    "    for subtree in chunked.subtrees(filter=lambda t: t.label() == 'NP'):\n",
    "        print(subtree)"
   ]
  },
  {
   "cell_type": "markdown",
   "id": "beneficial-france",
   "metadata": {},
   "source": [
    "**Display The Sentences to Chunk**"
   ]
  },
  {
   "cell_type": "code",
   "execution_count": 31,
   "id": "worthy-plenty",
   "metadata": {},
   "outputs": [
    {
     "data": {
      "text/plain": [
       "'Such programs are often designed to convincingly simulate how a human would behave as a conversational partner, thereby passing the Turing test. Chatbots are typically used in dialog systems for various practical purposes including customer service or information acquisition. Some chatterbots use sophisticated natural language processing systems, but many simpler systems scan for keywords within the input, then pull a reply with the most matching keywords, or the most similar wording pattern, from a database. The term \"ChatterBot\" was originally coined by Michael Mauldin (creator of the first Verbot, Julia) in 1994 to describe these conversational programs. Today, most chatbots are either accessed via virtual assistants such as Google Assistant and Amazon Alexa, via messaging apps such as Facebook Messenger or WeChat, or via individual organizations\\' apps and websites. Chatbots can be classified into usage categories such as conversational commerce (e-commerce via chat), analytics, communication, customer support, design, developer tools, education, entertainment, finance, food, games, health, HR, marketing, news, personal, productivity, shopping, social, sports, travel and utilities.'"
      ]
     },
     "execution_count": 31,
     "metadata": {},
     "output_type": "execute_result"
    }
   ],
   "source": [
    "' '.join(tokenized_sent[1:7])"
   ]
  },
  {
   "cell_type": "markdown",
   "id": "amazing-wellington",
   "metadata": {},
   "source": [
    "**Chunk 1:**  Adjective Follwed by Singular Noun"
   ]
  },
  {
   "cell_type": "code",
   "execution_count": 32,
   "id": "exempt-purple",
   "metadata": {},
   "outputs": [
    {
     "name": "stdout",
     "output_type": "stream",
     "text": [
      "(NP conversational/JJ partner/NN)\n",
      "(NP sophisticated/JJ natural/JJ language/NN)\n",
      "(NP many/JJ simpler/NN)\n",
      "(NP similar/JJ wording/NN)\n",
      "(NP conversational/JJ commerce/NN)\n",
      "(NP famous/JJ article/NN)\n",
      "(NP Computing/JJ Machinery/NN)\n",
      "(NP human/JJ judge/NN)\n",
      "(NP conversational/JJ content/NN)\n",
      "(NP real/JJ human/NN)\n"
     ]
    }
   ],
   "source": [
    "reg_chunker(tokenized_sent, 1, 9, r'NP: {<JJ>+<NN>}')"
   ]
  },
  {
   "cell_type": "markdown",
   "id": "devoted-contact",
   "metadata": {},
   "source": [
    "**Results:**  \n",
    "When passing in this `RegEx` pattern, we can see some of the chunks resulting:\n",
    " - sophisticated natural language\n",
    " - famous article\n",
    " - Computing Machinery\n",
    " - human judge\n",
    " - real human"
   ]
  },
  {
   "cell_type": "markdown",
   "id": "connected-scale",
   "metadata": {},
   "source": [
    "**Chunk 2:**  Noun followed by Noun"
   ]
  },
  {
   "cell_type": "code",
   "execution_count": 33,
   "id": "finite-invite",
   "metadata": {},
   "outputs": [
    {
     "name": "stdout",
     "output_type": "stream",
     "text": [
      "(NP Turing/NNP test/NN)\n",
      "(NP dialog/NN systems/NNS)\n",
      "(NP customer/NN service/NN)\n",
      "(NP information/NN acquisition/NN)\n",
      "(NP language/NN processing/NN systems/NNS)\n",
      "(NP simpler/NN systems/NNS)\n",
      "(NP wording/NN pattern/NN)\n",
      "(NP Michael/NNP Mauldin/NNP)\n",
      "(NP Google/NNP Assistant/NNP)\n",
      "(NP Amazon/NNP Alexa/NNP)\n",
      "(NP Facebook/NNP Messenger/NNP)\n",
      "(NP customer/NN support/NN)\n",
      "(NP developer/NN tools/NNS)\n"
     ]
    }
   ],
   "source": [
    "reg_chunker(tokenized_sent, 1, 7, r'NP: {<NN.?>+<NN.?>}')"
   ]
  },
  {
   "cell_type": "markdown",
   "id": "quarterly-holocaust",
   "metadata": {},
   "source": [
    "**Results:**  \n",
    "When passing in this `RegEx` pattern, we can see some of the chunks resulting:\n",
    " - customer service\n",
    " - language processing systems\n",
    " - Michael Mauldin\n",
    " - Google Assistant\n",
    " - Amazon Alexa\n",
    " - Facebook Messenger\n",
    " - Alan Turing\n",
    " \n",
    "Some of these are a little more interesting becasue we can see the concept of extracing proper names from a corpus of text, a useful concept using these patterns."
   ]
  }
 ],
 "metadata": {
  "kernelspec": {
   "display_name": "Python 3",
   "language": "python",
   "name": "python3"
  },
  "language_info": {
   "codemirror_mode": {
    "name": "ipython",
    "version": 3
   },
   "file_extension": ".py",
   "mimetype": "text/x-python",
   "name": "python",
   "nbconvert_exporter": "python",
   "pygments_lexer": "ipython3",
   "version": "3.8.8"
  },
  "toc-autonumbering": true
 },
 "nbformat": 4,
 "nbformat_minor": 5
}
