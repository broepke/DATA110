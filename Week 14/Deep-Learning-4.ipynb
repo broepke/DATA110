{
 "cells": [
  {
   "cell_type": "markdown",
   "id": "acoustic-forwarding",
   "metadata": {},
   "source": [
    "# Tensorboard\n",
    "\n",
    "Run `tensorboard --log_dir='logs'` from the parent director of the logs folder"
   ]
  },
  {
   "cell_type": "code",
   "execution_count": 1,
   "id": "seventh-relief",
   "metadata": {},
   "outputs": [],
   "source": [
    "import numpy as np\n",
    "import time\n",
    "import tensorflow as tf\n",
    "from tensorflow.keras.models import Sequential\n",
    "from tensorflow.keras.layers import Dense, Dropout, Activation, Flatten, Conv2D, MaxPooling2D\n",
    "from tensorflow.keras.callbacks import TensorBoard\n",
    "\n",
    "import pickle"
   ]
  },
  {
   "cell_type": "code",
   "execution_count": 2,
   "id": "rising-sociology",
   "metadata": {},
   "outputs": [],
   "source": [
    "X = pickle.load(open('X.pickle', 'rb'))\n",
    "y = pickle.load(open('y.pickle', 'rb'))"
   ]
  },
  {
   "cell_type": "code",
   "execution_count": 3,
   "id": "individual-flour",
   "metadata": {},
   "outputs": [],
   "source": [
    "X = X / 255.0"
   ]
  },
  {
   "cell_type": "code",
   "execution_count": 4,
   "id": "ambient-timeline",
   "metadata": {},
   "outputs": [],
   "source": [
    "y = np.array(y)"
   ]
  },
  {
   "cell_type": "code",
   "execution_count": 5,
   "id": "alleged-router",
   "metadata": {},
   "outputs": [],
   "source": [
    "name = 'Cats-vs-Dogs-nn-64x2-{}'.format(int(time.time()))\n",
    "path = f'./logs/{name}'\n",
    "tensorboard = TensorBoard(log_dir=path)"
   ]
  },
  {
   "cell_type": "code",
   "execution_count": 7,
   "id": "specified-joseph",
   "metadata": {},
   "outputs": [
    {
     "name": "stdout",
     "output_type": "stream",
     "text": [
      "Epoch 1/10\n",
      "702/702 [==============================] - 38s 55ms/step - loss: 0.6687 - accuracy: 0.5762 - val_loss: 0.5923 - val_accuracy: 0.6890\n",
      "Epoch 2/10\n",
      "702/702 [==============================] - 38s 55ms/step - loss: 0.5609 - accuracy: 0.7145 - val_loss: 0.5404 - val_accuracy: 0.7210\n",
      "Epoch 3/10\n",
      "702/702 [==============================] - 38s 55ms/step - loss: 0.5031 - accuracy: 0.7567 - val_loss: 0.5120 - val_accuracy: 0.7611\n",
      "Epoch 4/10\n",
      "702/702 [==============================] - 39s 56ms/step - loss: 0.4712 - accuracy: 0.7719 - val_loss: 0.4962 - val_accuracy: 0.7663\n",
      "Epoch 5/10\n",
      "702/702 [==============================] - 39s 55ms/step - loss: 0.4349 - accuracy: 0.8025 - val_loss: 0.4940 - val_accuracy: 0.7519\n",
      "Epoch 6/10\n",
      "702/702 [==============================] - 37s 53ms/step - loss: 0.4050 - accuracy: 0.8165 - val_loss: 0.4960 - val_accuracy: 0.7691\n",
      "Epoch 7/10\n",
      "702/702 [==============================] - 38s 54ms/step - loss: 0.3848 - accuracy: 0.8279 - val_loss: 0.4714 - val_accuracy: 0.7800\n",
      "Epoch 8/10\n",
      "702/702 [==============================] - 37s 53ms/step - loss: 0.3372 - accuracy: 0.8529 - val_loss: 0.4904 - val_accuracy: 0.7832\n",
      "Epoch 9/10\n",
      "702/702 [==============================] - 40s 57ms/step - loss: 0.3093 - accuracy: 0.8651 - val_loss: 0.5229 - val_accuracy: 0.7739\n",
      "Epoch 10/10\n",
      "702/702 [==============================] - 39s 55ms/step - loss: 0.2664 - accuracy: 0.8885 - val_loss: 0.5263 - val_accuracy: 0.7691\n"
     ]
    },
    {
     "data": {
      "text/plain": [
       "<tensorflow.python.keras.callbacks.History at 0x177d9baf0>"
      ]
     },
     "execution_count": 7,
     "metadata": {},
     "output_type": "execute_result"
    }
   ],
   "source": [
    "model = Sequential()\n",
    "model.add(Conv2D(128, (3,3), input_shape = X.shape[1:]))\n",
    "model.add(Activation('relu'))\n",
    "model.add(MaxPooling2D(pool_size = (2,2)))\n",
    "\n",
    "model.add(Conv2D(128, (3,3)))\n",
    "model.add(Activation('relu'))\n",
    "model.add(MaxPooling2D(pool_size = (2,2)))\n",
    "\n",
    "model.add(Flatten())\n",
    "\n",
    "model.add(Dense(128))\n",
    "model.add(Activation('relu'))\n",
    "\n",
    "model.add(Dense(1))\n",
    "model.add(Activation('sigmoid'))\n",
    "\n",
    "model.compile(loss='binary_crossentropy',\n",
    "             optimizer='adam',\n",
    "             metrics=['accuracy'])\n",
    "\n",
    "model.fit(X, y, batch_size=32, epochs=10, validation_split=0.1, callbacks=[tensorboard])"
   ]
  },
  {
   "cell_type": "code",
   "execution_count": null,
   "id": "proud-yorkshire",
   "metadata": {},
   "outputs": [],
   "source": []
  }
 ],
 "metadata": {
  "kernelspec": {
   "display_name": "Python 3",
   "language": "python",
   "name": "python3"
  },
  "language_info": {
   "codemirror_mode": {
    "name": "ipython",
    "version": 3
   },
   "file_extension": ".py",
   "mimetype": "text/x-python",
   "name": "python",
   "nbconvert_exporter": "python",
   "pygments_lexer": "ipython3",
   "version": "3.8.8"
  }
 },
 "nbformat": 4,
 "nbformat_minor": 5
}
