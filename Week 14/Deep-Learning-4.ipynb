{
 "cells": [
  {
   "cell_type": "markdown",
   "id": "04de6cad",
   "metadata": {},
   "source": [
    "# Tensorboard\n",
    "\n",
    "Run `tensorboard --logdir='logs'` from the parent director of the logs folder"
   ]
  },
  {
   "cell_type": "code",
   "execution_count": 1,
   "id": "20f6bd5e",
   "metadata": {},
   "outputs": [],
   "source": [
    "import numpy as np\n",
    "import time\n",
    "import tensorflow as tf\n",
    "from tensorflow.keras.models import Sequential\n",
    "from tensorflow.keras.layers import Dense, Dropout, Activation, Flatten, Conv2D, MaxPooling2D\n",
    "from tensorflow.keras.callbacks import TensorBoard\n",
    "\n",
    "import pickle"
   ]
  },
  {
   "cell_type": "code",
   "execution_count": 2,
   "id": "ca90936c",
   "metadata": {},
   "outputs": [],
   "source": [
    "X = pickle.load(open('X.pickle', 'rb'))\n",
    "y = pickle.load(open('y.pickle', 'rb'))"
   ]
  },
  {
   "cell_type": "code",
   "execution_count": 3,
   "id": "695d4d7c",
   "metadata": {},
   "outputs": [],
   "source": [
    "X = X / 255.0"
   ]
  },
  {
   "cell_type": "code",
   "execution_count": 4,
   "id": "4e8236b9",
   "metadata": {},
   "outputs": [],
   "source": [
    "y = np.array(y)"
   ]
  },
  {
   "cell_type": "code",
   "execution_count": 7,
   "id": "d584c320",
   "metadata": {},
   "outputs": [
    {
     "data": {
      "text/plain": [
       "(24946, 50, 50, 1)"
      ]
     },
     "execution_count": 7,
     "metadata": {},
     "output_type": "execute_result"
    }
   ],
   "source": [
    "X.shape"
   ]
  },
  {
   "cell_type": "code",
   "execution_count": 9,
   "id": "626c2421",
   "metadata": {},
   "outputs": [
    {
     "data": {
      "text/plain": [
       "(24946,)"
      ]
     },
     "execution_count": 9,
     "metadata": {},
     "output_type": "execute_result"
    }
   ],
   "source": [
    "y.shape"
   ]
  },
  {
   "cell_type": "code",
   "execution_count": 5,
   "id": "987e7c3a",
   "metadata": {},
   "outputs": [
    {
     "name": "stderr",
     "output_type": "stream",
     "text": [
      "2021-11-05 10:33:15.174646: I tensorflow/core/common_runtime/pluggable_device/pluggable_device_factory.cc:305] Could not identify NUMA node of platform GPU ID 0, defaulting to 0. Your kernel may not have been built with NUMA support.\n",
      "2021-11-05 10:33:15.174789: I tensorflow/core/common_runtime/pluggable_device/pluggable_device_factory.cc:271] Created TensorFlow device (/job:localhost/replica:0/task:0/device:GPU:0 with 0 MB memory) -> physical PluggableDevice (device: 0, name: METAL, pci bus id: <undefined>)\n",
      "2021-11-05 10:33:15.321290: I tensorflow/compiler/mlir/mlir_graph_optimization_pass.cc:185] None of the MLIR Optimization Passes are enabled (registered 2)\n",
      "2021-11-05 10:33:15.321490: W tensorflow/core/platform/profile_utils/cpu_utils.cc:128] Failed to get CPU frequency: 0 Hz\n"
     ]
    },
    {
     "name": "stdout",
     "output_type": "stream",
     "text": [
      "Metal device set to: Apple M1 Max\n",
      "\n",
      "systemMemory: 32.00 GB\n",
      "maxCacheSize: 10.67 GB\n",
      "\n",
      "Epoch 1/10\n"
     ]
    },
    {
     "name": "stderr",
     "output_type": "stream",
     "text": [
      "2021-11-05 10:33:15.456260: I tensorflow/core/grappler/optimizers/custom_graph_optimizer_registry.cc:112] Plugin optimizer for device_type GPU is enabled.\n"
     ]
    },
    {
     "name": "stdout",
     "output_type": "stream",
     "text": [
      "702/702 [==============================] - ETA: 0s - loss: 0.6174 - accuracy: 0.6486"
     ]
    },
    {
     "name": "stderr",
     "output_type": "stream",
     "text": [
      "2021-11-05 10:33:26.647448: I tensorflow/core/grappler/optimizers/custom_graph_optimizer_registry.cc:112] Plugin optimizer for device_type GPU is enabled.\n"
     ]
    },
    {
     "name": "stdout",
     "output_type": "stream",
     "text": [
      "702/702 [==============================] - 12s 16ms/step - loss: 0.6174 - accuracy: 0.6486 - val_loss: 0.5341 - val_accuracy: 0.7351\n",
      "Epoch 2/10\n",
      "702/702 [==============================] - 11s 16ms/step - loss: 0.5040 - accuracy: 0.7541 - val_loss: 0.5037 - val_accuracy: 0.7539\n",
      "Epoch 3/10\n",
      "702/702 [==============================] - 11s 16ms/step - loss: 0.4468 - accuracy: 0.7881 - val_loss: 0.4743 - val_accuracy: 0.7687\n",
      "Epoch 4/10\n",
      "702/702 [==============================] - 11s 16ms/step - loss: 0.3987 - accuracy: 0.8176 - val_loss: 0.4686 - val_accuracy: 0.7788\n",
      "Epoch 5/10\n",
      "702/702 [==============================] - 11s 16ms/step - loss: 0.3499 - accuracy: 0.8434 - val_loss: 0.4670 - val_accuracy: 0.7828\n",
      "Epoch 6/10\n",
      "702/702 [==============================] - 11s 16ms/step - loss: 0.2933 - accuracy: 0.8715 - val_loss: 0.4893 - val_accuracy: 0.7848\n",
      "Epoch 7/10\n",
      "702/702 [==============================] - 11s 16ms/step - loss: 0.2361 - accuracy: 0.9009 - val_loss: 0.5265 - val_accuracy: 0.7836\n",
      "Epoch 8/10\n",
      "702/702 [==============================] - 11s 16ms/step - loss: 0.1759 - accuracy: 0.9302 - val_loss: 0.5924 - val_accuracy: 0.7852\n",
      "Epoch 9/10\n",
      "702/702 [==============================] - 11s 16ms/step - loss: 0.1116 - accuracy: 0.9587 - val_loss: 0.6581 - val_accuracy: 0.7804\n",
      "Epoch 10/10\n",
      "702/702 [==============================] - 11s 16ms/step - loss: 0.0705 - accuracy: 0.9771 - val_loss: 0.7531 - val_accuracy: 0.7912\n"
     ]
    },
    {
     "data": {
      "text/plain": [
       "<keras.callbacks.History at 0x28ed98fa0>"
      ]
     },
     "execution_count": 5,
     "metadata": {},
     "output_type": "execute_result"
    }
   ],
   "source": [
    "# 1-cov-128-1-dense\n",
    "\n",
    "model = Sequential()\n",
    "model.add(Conv2D(128, (3,3), input_shape = X.shape[1:]))\n",
    "model.add(Activation('relu'))\n",
    "model.add(MaxPooling2D(pool_size = (2,2)))\n",
    "\n",
    "model.add(Conv2D(128, (3,3)))\n",
    "model.add(Activation('relu'))\n",
    "model.add(MaxPooling2D(pool_size = (2,2)))\n",
    "\n",
    "model.add(Flatten())\n",
    "\n",
    "model.add(Dense(128))\n",
    "model.add(Activation('relu'))\n",
    "\n",
    "model.add(Dense(1))\n",
    "model.add(Activation('sigmoid'))\n",
    "\n",
    "model.compile(loss='binary_crossentropy',\n",
    "             optimizer='adam',\n",
    "             metrics=['accuracy'])\n",
    "\n",
    "model.fit(X, y, batch_size=32, epochs=10, validation_split=0.1)"
   ]
  },
  {
   "cell_type": "code",
   "execution_count": 10,
   "id": "a49e6edc",
   "metadata": {},
   "outputs": [
    {
     "name": "stderr",
     "output_type": "stream",
     "text": [
      "2021-11-05 10:51:00.516861: W tensorflow/python/util/util.cc:348] Sets are not currently considered sequences, but this may change in the future, so consider avoiding using them.\n"
     ]
    },
    {
     "name": "stdout",
     "output_type": "stream",
     "text": [
      "INFO:tensorflow:Assets written to: cats-and-dogs.model/assets\n"
     ]
    }
   ],
   "source": [
    "model.save('cats-and-dogs.model')"
   ]
  },
  {
   "cell_type": "code",
   "execution_count": null,
   "id": "4f2aa5ab",
   "metadata": {},
   "outputs": [],
   "source": []
  }
 ],
 "metadata": {
  "kernelspec": {
   "display_name": "Python 3",
   "language": "python",
   "name": "python3"
  },
  "language_info": {
   "codemirror_mode": {
    "name": "ipython",
    "version": 3
   },
   "file_extension": ".py",
   "mimetype": "text/x-python",
   "name": "python",
   "nbconvert_exporter": "python",
   "pygments_lexer": "ipython3",
   "version": "3.9.7"
  }
 },
 "nbformat": 4,
 "nbformat_minor": 5
}
