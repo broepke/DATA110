{
 "cells": [
  {
   "cell_type": "markdown",
   "id": "04de6cad",
   "metadata": {},
   "source": [
    "# Tensorboard\n",
    "\n",
    "Run `tensorboard --logdir='logs'` from the parent director of the logs folder"
   ]
  },
  {
   "cell_type": "code",
   "execution_count": 1,
   "id": "20f6bd5e",
   "metadata": {},
   "outputs": [],
   "source": [
    "import numpy as np\n",
    "import time\n",
    "import tensorflow as tf\n",
    "from tensorflow.keras.models import Sequential\n",
    "from tensorflow.keras.layers import Dense, Dropout, Activation, Flatten, Conv2D, MaxPooling2D\n",
    "from tensorflow.keras.callbacks import TensorBoard\n",
    "\n",
    "import pickle"
   ]
  },
  {
   "cell_type": "code",
   "execution_count": 2,
   "id": "ca90936c",
   "metadata": {},
   "outputs": [],
   "source": [
    "X = pickle.load(open('X.pickle', 'rb'))\n",
    "y = pickle.load(open('y.pickle', 'rb'))"
   ]
  },
  {
   "cell_type": "code",
   "execution_count": 3,
   "id": "695d4d7c",
   "metadata": {},
   "outputs": [],
   "source": [
    "X = X / 255.0"
   ]
  },
  {
   "cell_type": "code",
   "execution_count": 4,
   "id": "4e8236b9",
   "metadata": {},
   "outputs": [],
   "source": [
    "y = np.array(y)"
   ]
  },
  {
   "cell_type": "code",
   "execution_count": 5,
   "id": "987e7c3a",
   "metadata": {},
   "outputs": [
    {
     "name": "stdout",
     "output_type": "stream",
     "text": [
      "Epoch 1/10\n",
      "702/702 [==============================] - 41s 59ms/step - loss: 0.6462 - accuracy: 0.6129 - val_loss: 0.5476 - val_accuracy: 0.7166\n",
      "Epoch 2/10\n",
      "702/702 [==============================] - 39s 55ms/step - loss: 0.5105 - accuracy: 0.7497 - val_loss: 0.5180 - val_accuracy: 0.7447\n",
      "Epoch 3/10\n",
      "702/702 [==============================] - 40s 56ms/step - loss: 0.4704 - accuracy: 0.7751 - val_loss: 0.5368 - val_accuracy: 0.7327\n",
      "Epoch 4/10\n",
      "702/702 [==============================] - 37s 53ms/step - loss: 0.4154 - accuracy: 0.8047 - val_loss: 0.4735 - val_accuracy: 0.7856\n",
      "Epoch 5/10\n",
      "702/702 [==============================] - 37s 53ms/step - loss: 0.3766 - accuracy: 0.8288 - val_loss: 0.4748 - val_accuracy: 0.7804\n",
      "Epoch 6/10\n",
      "702/702 [==============================] - 38s 55ms/step - loss: 0.3245 - accuracy: 0.8573 - val_loss: 0.4900 - val_accuracy: 0.7896\n",
      "Epoch 7/10\n",
      "702/702 [==============================] - 37s 52ms/step - loss: 0.2686 - accuracy: 0.8879 - val_loss: 0.5298 - val_accuracy: 0.7828\n",
      "Epoch 8/10\n",
      "702/702 [==============================] - 38s 53ms/step - loss: 0.1996 - accuracy: 0.9210 - val_loss: 0.5467 - val_accuracy: 0.7868\n",
      "Epoch 9/10\n",
      "702/702 [==============================] - 37s 53ms/step - loss: 0.1512 - accuracy: 0.9440 - val_loss: 0.6506 - val_accuracy: 0.7860\n",
      "Epoch 10/10\n",
      "702/702 [==============================] - 37s 53ms/step - loss: 0.1014 - accuracy: 0.9628 - val_loss: 0.7223 - val_accuracy: 0.7820\n"
     ]
    },
    {
     "data": {
      "text/plain": [
       "<tensorflow.python.keras.callbacks.History at 0x145a8e2b0>"
      ]
     },
     "execution_count": 5,
     "metadata": {},
     "output_type": "execute_result"
    }
   ],
   "source": [
    "# 1-cov-128-1-dense\n",
    "\n",
    "model = Sequential()\n",
    "model.add(Conv2D(128, (3,3), input_shape = X.shape[1:]))\n",
    "model.add(Activation('relu'))\n",
    "model.add(MaxPooling2D(pool_size = (2,2)))\n",
    "\n",
    "model.add(Conv2D(128, (3,3)))\n",
    "model.add(Activation('relu'))\n",
    "model.add(MaxPooling2D(pool_size = (2,2)))\n",
    "\n",
    "model.add(Flatten())\n",
    "\n",
    "model.add(Dense(128))\n",
    "model.add(Activation('relu'))\n",
    "\n",
    "model.add(Dense(1))\n",
    "model.add(Activation('sigmoid'))\n",
    "\n",
    "model.compile(loss='binary_crossentropy',\n",
    "             optimizer='adam',\n",
    "             metrics=['accuracy'])\n",
    "\n",
    "model.fit(X, y, batch_size=32, epochs=10, validation_split=0.1)"
   ]
  },
  {
   "cell_type": "code",
   "execution_count": 6,
   "id": "a49e6edc",
   "metadata": {},
   "outputs": [
    {
     "name": "stdout",
     "output_type": "stream",
     "text": [
      "WARNING:tensorflow:FOR KERAS USERS: The object that you are saving contains one or more Keras models or layers. If you are loading the SavedModel with `tf.keras.models.load_model`, continue reading (otherwise, you may ignore the following instructions). Please change your code to save with `tf.keras.models.save_model` or `model.save`, and confirm that the file \"keras.metadata\" exists in the export directory. In the future, Keras will only load the SavedModels that have this file. In other words, `tf.saved_model.save` will no longer write SavedModels that can be recovered as Keras models (this will apply in TF 2.5).\n",
      "\n",
      "FOR DEVS: If you are overwriting _tracking_metadata in your class, this property has been used to save metadata in the SavedModel. The metadta field will be deprecated soon, so please move the metadata to a different file.\n"
     ]
    },
    {
     "name": "stderr",
     "output_type": "stream",
     "text": [
      "/Users/brianroepke/miniforge3/envs/tf/lib/python3.8/site-packages/tensorflow/python/keras/engine/training.py:2325: UserWarning: `Model.state_updates` will be removed in a future version. This property should not be used in TensorFlow 2.0, as `updates` are applied automatically.\n",
      "  warnings.warn('`Model.state_updates` will be removed in a future version. '\n",
      "/Users/brianroepke/miniforge3/envs/tf/lib/python3.8/site-packages/tensorflow/python/keras/engine/base_layer.py:1397: UserWarning: `layer.updates` will be removed in a future version. This property should not be used in TensorFlow 2.0, as `updates` are applied automatically.\n",
      "  warnings.warn('`layer.updates` will be removed in a future version. '\n"
     ]
    },
    {
     "name": "stdout",
     "output_type": "stream",
     "text": [
      "INFO:tensorflow:Assets written to: cats-and-dogs.model/assets\n"
     ]
    }
   ],
   "source": [
    "model.save('cats-and-dogs.model')"
   ]
  },
  {
   "cell_type": "code",
   "execution_count": null,
   "id": "4f2aa5ab",
   "metadata": {},
   "outputs": [],
   "source": []
  }
 ],
 "metadata": {
  "kernelspec": {
   "display_name": "Python 3",
   "language": "python",
   "name": "python3"
  },
  "language_info": {
   "codemirror_mode": {
    "name": "ipython",
    "version": 3
   },
   "file_extension": ".py",
   "mimetype": "text/x-python",
   "name": "python",
   "nbconvert_exporter": "python",
   "pygments_lexer": "ipython3",
   "version": "3.8.8"
  }
 },
 "nbformat": 4,
 "nbformat_minor": 5
}
