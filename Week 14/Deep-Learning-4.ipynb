{
 "cells": [
  {
   "cell_type": "markdown",
   "id": "0b77e909",
   "metadata": {},
   "source": [
    "# Tensorboard\n",
    "\n",
    "Run `tensorboard --log_dir='logs'` from the parent director of the logs folder"
   ]
  },
  {
   "cell_type": "code",
   "execution_count": 8,
   "id": "ffab749a",
   "metadata": {},
   "outputs": [],
   "source": [
    "import numpy as np\n",
    "import time\n",
    "import tensorflow as tf\n",
    "from tensorflow.keras.models import Sequential\n",
    "from tensorflow.keras.layers import Dense, Dropout, Activation, Flatten, Conv2D, MaxPooling2D\n",
    "from tensorflow.keras.callbacks import TensorBoard\n",
    "\n",
    "import pickle"
   ]
  },
  {
   "cell_type": "code",
   "execution_count": 9,
   "id": "2a8b59fa",
   "metadata": {},
   "outputs": [],
   "source": [
    "X = pickle.load(open('X.pickle', 'rb'))\n",
    "y = pickle.load(open('y.pickle', 'rb'))"
   ]
  },
  {
   "cell_type": "code",
   "execution_count": 28,
   "id": "a77b95bc",
   "metadata": {},
   "outputs": [],
   "source": [
    "X = X / 255.0"
   ]
  },
  {
   "cell_type": "code",
   "execution_count": 29,
   "id": "9ac2a82a",
   "metadata": {},
   "outputs": [],
   "source": [
    "y = np.array(y)"
   ]
  },
  {
   "cell_type": "code",
   "execution_count": 35,
   "id": "31c871b9",
   "metadata": {},
   "outputs": [],
   "source": [
    "name = 'Cats-vs-Dogs-nn-64x2-{}'.format(int(time.time()))\n",
    "path = f'./logs/{name}'\n",
    "tensorboard = TensorBoard(log_dir=path)"
   ]
  },
  {
   "cell_type": "code",
   "execution_count": 36,
   "id": "32c80558",
   "metadata": {},
   "outputs": [
    {
     "name": "stdout",
     "output_type": "stream",
     "text": [
      "Epoch 1/20\n",
      "702/702 [==============================] - 15s 21ms/step - loss: 0.6932 - accuracy: 0.4946 - val_loss: 0.6932 - val_accuracy: 0.4902\n",
      "Epoch 2/20\n",
      "702/702 [==============================] - 15s 21ms/step - loss: 0.6932 - accuracy: 0.5034 - val_loss: 0.6931 - val_accuracy: 0.5098\n",
      "Epoch 3/20\n",
      "702/702 [==============================] - 14s 20ms/step - loss: 0.6932 - accuracy: 0.5007 - val_loss: 0.6932 - val_accuracy: 0.4902\n",
      "Epoch 4/20\n",
      "702/702 [==============================] - 15s 22ms/step - loss: 0.6932 - accuracy: 0.4938 - val_loss: 0.6932 - val_accuracy: 0.4902\n",
      "Epoch 5/20\n",
      "702/702 [==============================] - 15s 21ms/step - loss: 0.6932 - accuracy: 0.4935 - val_loss: 0.6933 - val_accuracy: 0.4902\n",
      "Epoch 6/20\n",
      "702/702 [==============================] - 15s 21ms/step - loss: 0.6932 - accuracy: 0.4921 - val_loss: 0.6933 - val_accuracy: 0.4902\n",
      "Epoch 7/20\n",
      "702/702 [==============================] - 15s 21ms/step - loss: 0.6932 - accuracy: 0.5011 - val_loss: 0.6931 - val_accuracy: 0.5098\n",
      "Epoch 8/20\n",
      "702/702 [==============================] - 15s 21ms/step - loss: 0.6932 - accuracy: 0.4962 - val_loss: 0.6932 - val_accuracy: 0.4902\n",
      "Epoch 9/20\n",
      "702/702 [==============================] - 15s 21ms/step - loss: 0.6931 - accuracy: 0.5035 - val_loss: 0.6931 - val_accuracy: 0.5098\n",
      "Epoch 10/20\n",
      "702/702 [==============================] - 14s 20ms/step - loss: 0.6932 - accuracy: 0.4982 - val_loss: 0.6931 - val_accuracy: 0.5098\n",
      "Epoch 11/20\n",
      "702/702 [==============================] - 14s 20ms/step - loss: 0.6932 - accuracy: 0.4919 - val_loss: 0.6933 - val_accuracy: 0.4902\n",
      "Epoch 12/20\n",
      "702/702 [==============================] - 15s 21ms/step - loss: 0.6932 - accuracy: 0.4974 - val_loss: 0.6933 - val_accuracy: 0.4902\n",
      "Epoch 13/20\n",
      "702/702 [==============================] - 15s 21ms/step - loss: 0.6932 - accuracy: 0.5031 - val_loss: 0.6932 - val_accuracy: 0.4902\n",
      "Epoch 14/20\n",
      "702/702 [==============================] - 15s 21ms/step - loss: 0.6932 - accuracy: 0.5010 - val_loss: 0.6932 - val_accuracy: 0.4902\n",
      "Epoch 15/20\n",
      "702/702 [==============================] - 14s 21ms/step - loss: 0.6932 - accuracy: 0.4987 - val_loss: 0.6932 - val_accuracy: 0.4902\n",
      "Epoch 16/20\n",
      "702/702 [==============================] - 15s 21ms/step - loss: 0.6932 - accuracy: 0.4979 - val_loss: 0.6933 - val_accuracy: 0.4902\n",
      "Epoch 17/20\n",
      "702/702 [==============================] - 14s 21ms/step - loss: 0.6931 - accuracy: 0.5066 - val_loss: 0.6931 - val_accuracy: 0.5098\n",
      "Epoch 18/20\n",
      "702/702 [==============================] - 15s 21ms/step - loss: 0.6932 - accuracy: 0.4972 - val_loss: 0.6932 - val_accuracy: 0.4902\n",
      "Epoch 19/20\n",
      "702/702 [==============================] - 15s 22ms/step - loss: 0.6932 - accuracy: 0.5005 - val_loss: 0.6931 - val_accuracy: 0.5098\n",
      "Epoch 20/20\n",
      "702/702 [==============================] - 15s 21ms/step - loss: 0.6932 - accuracy: 0.5006 - val_loss: 0.6931 - val_accuracy: 0.5098\n"
     ]
    },
    {
     "data": {
      "text/plain": [
       "<tensorflow.python.keras.callbacks.History at 0x16e24f280>"
      ]
     },
     "execution_count": 36,
     "metadata": {},
     "output_type": "execute_result"
    }
   ],
   "source": [
    "model = Sequential()\n",
    "model.add(Conv2D(64, (3,3), input_shape = X.shape[1:]))\n",
    "model.add(Activation('relu'))\n",
    "model.add(MaxPooling2D(pool_size = (2,2)))\n",
    "\n",
    "model.add(Conv2D(64, (3,3)))\n",
    "model.add(Activation('relu'))\n",
    "model.add(MaxPooling2D(pool_size = (2,2)))\n",
    "\n",
    "model.add(Flatten())\n",
    "\n",
    "model.add(Dense(64))\n",
    "model.add(Activation('relu'))\n",
    "\n",
    "model.add(Dense(1))\n",
    "model.add(Activation('sigmoid'))\n",
    "\n",
    "model.compile(loss='binary_crossentropy',\n",
    "             optimizer='adam',\n",
    "             metrics=['accuracy'])\n",
    "\n",
    "model.fit(X, y, batch_size=32, epochs=20, validation_split=0.1, callbacks=[tensorboard])"
   ]
  },
  {
   "cell_type": "code",
   "execution_count": null,
   "id": "114dcbb0",
   "metadata": {},
   "outputs": [],
   "source": []
  }
 ],
 "metadata": {
  "kernelspec": {
   "display_name": "Python 3",
   "language": "python",
   "name": "python3"
  },
  "language_info": {
   "codemirror_mode": {
    "name": "ipython",
    "version": 3
   },
   "file_extension": ".py",
   "mimetype": "text/x-python",
   "name": "python",
   "nbconvert_exporter": "python",
   "pygments_lexer": "ipython3",
   "version": "3.8.8"
  }
 },
 "nbformat": 4,
 "nbformat_minor": 5
}
