{
 "cells": [
  {
   "cell_type": "code",
   "execution_count": 16,
   "id": "surgical-guide",
   "metadata": {},
   "outputs": [],
   "source": [
    "import numpy as np\n",
    "import tensorflow as tf\n",
    "from tensorflow.keras.models import Sequential\n",
    "from tensorflow.keras.layers import Dense, Dropout, Activation, Flatten, Conv2D, MaxPooling2D\n",
    "\n",
    "import pickle"
   ]
  },
  {
   "cell_type": "code",
   "execution_count": 17,
   "id": "swedish-prerequisite",
   "metadata": {},
   "outputs": [],
   "source": [
    "X = pickle.load(open('X.pickle', 'rb'))\n",
    "y = pickle.load(open('y.pickle', 'rb'))"
   ]
  },
  {
   "cell_type": "code",
   "execution_count": 18,
   "id": "undefined-hawaiian",
   "metadata": {},
   "outputs": [],
   "source": [
    "X = X / 255.0"
   ]
  },
  {
   "cell_type": "code",
   "execution_count": 19,
   "id": "scientific-cooper",
   "metadata": {},
   "outputs": [],
   "source": [
    "y = np.array(y)"
   ]
  },
  {
   "cell_type": "code",
   "execution_count": 22,
   "id": "wrong-entrance",
   "metadata": {},
   "outputs": [
    {
     "name": "stdout",
     "output_type": "stream",
     "text": [
      "Epoch 1/10\n",
      "702/702 [==============================] - 15s 21ms/step - loss: 0.6779 - accuracy: 0.5716 - val_loss: 0.5607 - val_accuracy: 0.7150\n",
      "Epoch 2/10\n",
      "702/702 [==============================] - 15s 21ms/step - loss: 0.5526 - accuracy: 0.7219 - val_loss: 0.5084 - val_accuracy: 0.7527\n",
      "Epoch 3/10\n",
      "702/702 [==============================] - 15s 21ms/step - loss: 0.4884 - accuracy: 0.7657 - val_loss: 0.5192 - val_accuracy: 0.7539\n",
      "Epoch 4/10\n",
      "702/702 [==============================] - 15s 21ms/step - loss: 0.4475 - accuracy: 0.7893 - val_loss: 0.5083 - val_accuracy: 0.7623\n",
      "Epoch 5/10\n",
      "702/702 [==============================] - 15s 21ms/step - loss: 0.4223 - accuracy: 0.8075 - val_loss: 0.4720 - val_accuracy: 0.7844\n",
      "Epoch 6/10\n",
      "702/702 [==============================] - 15s 21ms/step - loss: 0.3868 - accuracy: 0.8251 - val_loss: 0.4622 - val_accuracy: 0.7892\n",
      "Epoch 7/10\n",
      "702/702 [==============================] - 15s 21ms/step - loss: 0.3630 - accuracy: 0.8330 - val_loss: 0.4818 - val_accuracy: 0.7824\n",
      "Epoch 8/10\n",
      "702/702 [==============================] - 15s 21ms/step - loss: 0.3418 - accuracy: 0.8475 - val_loss: 0.4882 - val_accuracy: 0.7760\n",
      "Epoch 9/10\n",
      "702/702 [==============================] - 15s 21ms/step - loss: 0.3264 - accuracy: 0.8547 - val_loss: 0.4705 - val_accuracy: 0.7920\n",
      "Epoch 10/10\n",
      "702/702 [==============================] - 15s 21ms/step - loss: 0.3107 - accuracy: 0.8653 - val_loss: 0.4847 - val_accuracy: 0.8012\n"
     ]
    },
    {
     "data": {
      "text/plain": [
       "<tensorflow.python.keras.callbacks.History at 0x2c21f2b50>"
      ]
     },
     "execution_count": 22,
     "metadata": {},
     "output_type": "execute_result"
    }
   ],
   "source": [
    "model = Sequential()\n",
    "model.add(Conv2D(64, (3,3), input_shape = X.shape[1:]))\n",
    "model.add(Activation('relu'))\n",
    "model.add(MaxPooling2D(pool_size = (2,2)))\n",
    "\n",
    "model.add(Conv2D(64, (3,3)))\n",
    "model.add(Activation('relu'))\n",
    "model.add(MaxPooling2D(pool_size = (2,2)))\n",
    "\n",
    "model.add(Flatten())\n",
    "model.add(Dense(64))\n",
    "\n",
    "model.add(Dense(1))\n",
    "model.add(Activation('sigmoid'))\n",
    "\n",
    "model.compile(loss='binary_crossentropy',\n",
    "             optimizer='adam',\n",
    "             metrics=['accuracy'])\n",
    "\n",
    "model.fit(X, y, batch_size=32, epochs=10, validation_split=0.1)"
   ]
  },
  {
   "cell_type": "code",
   "execution_count": null,
   "id": "static-sessions",
   "metadata": {},
   "outputs": [],
   "source": []
  }
 ],
 "metadata": {
  "kernelspec": {
   "display_name": "Python 3",
   "language": "python",
   "name": "python3"
  },
  "language_info": {
   "codemirror_mode": {
    "name": "ipython",
    "version": 3
   },
   "file_extension": ".py",
   "mimetype": "text/x-python",
   "name": "python",
   "nbconvert_exporter": "python",
   "pygments_lexer": "ipython3",
   "version": "3.8.8"
  }
 },
 "nbformat": 4,
 "nbformat_minor": 5
}
