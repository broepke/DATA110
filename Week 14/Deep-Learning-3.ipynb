{
 "cells": [
  {
   "cell_type": "code",
   "execution_count": 1,
   "id": "f36f20ae",
   "metadata": {},
   "outputs": [],
   "source": [
    "import numpy as np\n",
    "import tensorflow as tf\n",
    "from tensorflow.keras.models import Sequential\n",
    "from tensorflow.keras.layers import Dense, Dropout, Activation, Flatten, Conv2D, MaxPooling2D\n",
    "\n",
    "import pickle"
   ]
  },
  {
   "cell_type": "code",
   "execution_count": 2,
   "id": "0a547944",
   "metadata": {},
   "outputs": [],
   "source": [
    "X = pickle.load(open('X.pickle', 'rb'))\n",
    "y = pickle.load(open('y.pickle', 'rb'))"
   ]
  },
  {
   "cell_type": "code",
   "execution_count": 3,
   "id": "90fe52c4",
   "metadata": {},
   "outputs": [],
   "source": [
    "X = X / 255.0"
   ]
  },
  {
   "cell_type": "code",
   "execution_count": 4,
   "id": "a9108562",
   "metadata": {},
   "outputs": [],
   "source": [
    "y = np.array(y)"
   ]
  },
  {
   "cell_type": "code",
   "execution_count": 5,
   "id": "89f4a880",
   "metadata": {},
   "outputs": [
    {
     "name": "stdout",
     "output_type": "stream",
     "text": [
      "Epoch 1/10\n",
      "702/702 [==============================] - 15s 21ms/step - loss: 0.6475 - accuracy: 0.6204 - val_loss: 0.5732 - val_accuracy: 0.7066\n",
      "Epoch 2/10\n",
      "702/702 [==============================] - 15s 21ms/step - loss: 0.5211 - accuracy: 0.7487 - val_loss: 0.5094 - val_accuracy: 0.7471\n",
      "Epoch 3/10\n",
      "702/702 [==============================] - 15s 22ms/step - loss: 0.4744 - accuracy: 0.7734 - val_loss: 0.5285 - val_accuracy: 0.7375\n",
      "Epoch 4/10\n",
      "702/702 [==============================] - 15s 21ms/step - loss: 0.4414 - accuracy: 0.7890 - val_loss: 0.4851 - val_accuracy: 0.7711\n",
      "Epoch 5/10\n",
      "702/702 [==============================] - 14s 20ms/step - loss: 0.4016 - accuracy: 0.8182 - val_loss: 0.4804 - val_accuracy: 0.7768\n",
      "Epoch 6/10\n",
      "702/702 [==============================] - 15s 21ms/step - loss: 0.3850 - accuracy: 0.8241 - val_loss: 0.4720 - val_accuracy: 0.7844\n",
      "Epoch 7/10\n",
      "702/702 [==============================] - 14s 20ms/step - loss: 0.3693 - accuracy: 0.8310 - val_loss: 0.4644 - val_accuracy: 0.7868\n",
      "Epoch 8/10\n",
      "702/702 [==============================] - 14s 21ms/step - loss: 0.3487 - accuracy: 0.8464 - val_loss: 0.4811 - val_accuracy: 0.7880\n",
      "Epoch 9/10\n",
      "702/702 [==============================] - 15s 21ms/step - loss: 0.3199 - accuracy: 0.8578 - val_loss: 0.4634 - val_accuracy: 0.7948\n",
      "Epoch 10/10\n",
      "702/702 [==============================] - 15s 21ms/step - loss: 0.3017 - accuracy: 0.8669 - val_loss: 0.4901 - val_accuracy: 0.7844\n"
     ]
    },
    {
     "data": {
      "text/plain": [
       "<tensorflow.python.keras.callbacks.History at 0x14aa900d0>"
      ]
     },
     "execution_count": 5,
     "metadata": {},
     "output_type": "execute_result"
    }
   ],
   "source": [
    "model = Sequential()\n",
    "model.add(Conv2D(64, (3,3), input_shape = X.shape[1:]))\n",
    "model.add(Activation('relu'))\n",
    "model.add(MaxPooling2D(pool_size = (2,2)))\n",
    "\n",
    "model.add(Conv2D(64, (3,3)))\n",
    "model.add(Activation('relu'))\n",
    "model.add(MaxPooling2D(pool_size = (2,2)))\n",
    "\n",
    "model.add(Flatten())\n",
    "model.add(Dense(64))\n",
    "\n",
    "model.add(Dense(1))\n",
    "model.add(Activation('sigmoid'))\n",
    "\n",
    "model.compile(loss='binary_crossentropy',\n",
    "             optimizer='adam',\n",
    "             metrics=['accuracy'])\n",
    "\n",
    "model.fit(X, y, batch_size=32, epochs=10, validation_split=0.1)"
   ]
  },
  {
   "cell_type": "code",
   "execution_count": null,
   "id": "2db64b60",
   "metadata": {},
   "outputs": [],
   "source": []
  }
 ],
 "metadata": {
  "kernelspec": {
   "display_name": "Python 3",
   "language": "python",
   "name": "python3"
  },
  "language_info": {
   "codemirror_mode": {
    "name": "ipython",
    "version": 3
   },
   "file_extension": ".py",
   "mimetype": "text/x-python",
   "name": "python",
   "nbconvert_exporter": "python",
   "pygments_lexer": "ipython3",
   "version": "3.8.8"
  }
 },
 "nbformat": 4,
 "nbformat_minor": 5
}
