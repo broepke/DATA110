{
 "cells": [
  {
   "cell_type": "code",
   "execution_count": 2,
   "id": "f36f20ae",
   "metadata": {},
   "outputs": [],
   "source": [
    "import numpy as np\n",
    "import tensorflow as tf\n",
    "from tensorflow.keras.models import Sequential\n",
    "from tensorflow.keras.layers import Dense, Dropout, Activation, Flatten, Conv2D, MaxPooling2D\n",
    "\n",
    "import pickle"
   ]
  },
  {
   "cell_type": "code",
   "execution_count": 3,
   "id": "0a547944",
   "metadata": {},
   "outputs": [],
   "source": [
    "X = pickle.load(open('X.pickle', 'rb'))\n",
    "y = pickle.load(open('y.pickle', 'rb'))"
   ]
  },
  {
   "cell_type": "code",
   "execution_count": 4,
   "id": "90fe52c4",
   "metadata": {},
   "outputs": [],
   "source": [
    "X = X / 255.0"
   ]
  },
  {
   "cell_type": "code",
   "execution_count": 5,
   "id": "a9108562",
   "metadata": {},
   "outputs": [],
   "source": [
    "y = np.array(y)"
   ]
  },
  {
   "cell_type": "code",
   "execution_count": 6,
   "id": "89f4a880",
   "metadata": {},
   "outputs": [
    {
     "name": "stderr",
     "output_type": "stream",
     "text": [
      "2021-11-05 10:28:56.565685: I tensorflow/core/common_runtime/pluggable_device/pluggable_device_factory.cc:305] Could not identify NUMA node of platform GPU ID 0, defaulting to 0. Your kernel may not have been built with NUMA support.\n",
      "2021-11-05 10:28:56.565811: I tensorflow/core/common_runtime/pluggable_device/pluggable_device_factory.cc:271] Created TensorFlow device (/job:localhost/replica:0/task:0/device:GPU:0 with 0 MB memory) -> physical PluggableDevice (device: 0, name: METAL, pci bus id: <undefined>)\n",
      "2021-11-05 10:28:56.719654: I tensorflow/compiler/mlir/mlir_graph_optimization_pass.cc:185] None of the MLIR Optimization Passes are enabled (registered 2)\n",
      "2021-11-05 10:28:56.719824: W tensorflow/core/platform/profile_utils/cpu_utils.cc:128] Failed to get CPU frequency: 0 Hz\n"
     ]
    },
    {
     "name": "stdout",
     "output_type": "stream",
     "text": [
      "Metal device set to: Apple M1 Max\n",
      "\n",
      "systemMemory: 32.00 GB\n",
      "maxCacheSize: 10.67 GB\n",
      "\n",
      "Epoch 1/10\n"
     ]
    },
    {
     "name": "stderr",
     "output_type": "stream",
     "text": [
      "2021-11-05 10:28:56.941061: I tensorflow/core/grappler/optimizers/custom_graph_optimizer_registry.cc:112] Plugin optimizer for device_type GPU is enabled.\n"
     ]
    },
    {
     "name": "stdout",
     "output_type": "stream",
     "text": [
      "702/702 [==============================] - ETA: 0s - loss: 0.6622 - accuracy: 0.5916"
     ]
    },
    {
     "name": "stderr",
     "output_type": "stream",
     "text": [
      "2021-11-05 10:29:08.729622: I tensorflow/core/grappler/optimizers/custom_graph_optimizer_registry.cc:112] Plugin optimizer for device_type GPU is enabled.\n"
     ]
    },
    {
     "name": "stdout",
     "output_type": "stream",
     "text": [
      "702/702 [==============================] - 12s 15ms/step - loss: 0.6622 - accuracy: 0.5916 - val_loss: 0.5911 - val_accuracy: 0.6970\n",
      "Epoch 2/10\n",
      "702/702 [==============================] - 10s 14ms/step - loss: 0.5550 - accuracy: 0.7188 - val_loss: 0.5477 - val_accuracy: 0.7279\n",
      "Epoch 3/10\n",
      "702/702 [==============================] - 10s 14ms/step - loss: 0.5019 - accuracy: 0.7582 - val_loss: 0.5329 - val_accuracy: 0.7487\n",
      "Epoch 4/10\n",
      "702/702 [==============================] - 10s 14ms/step - loss: 0.4687 - accuracy: 0.7786 - val_loss: 0.5062 - val_accuracy: 0.7635\n",
      "Epoch 5/10\n",
      "702/702 [==============================] - 10s 14ms/step - loss: 0.4460 - accuracy: 0.7944 - val_loss: 0.4929 - val_accuracy: 0.7655\n",
      "Epoch 6/10\n",
      "702/702 [==============================] - 10s 14ms/step - loss: 0.4238 - accuracy: 0.8041 - val_loss: 0.4885 - val_accuracy: 0.7808\n",
      "Epoch 7/10\n",
      "702/702 [==============================] - 10s 15ms/step - loss: 0.4067 - accuracy: 0.8149 - val_loss: 0.4566 - val_accuracy: 0.7884\n",
      "Epoch 8/10\n",
      "702/702 [==============================] - 10s 15ms/step - loss: 0.3908 - accuracy: 0.8244 - val_loss: 0.4567 - val_accuracy: 0.7852\n",
      "Epoch 9/10\n",
      "702/702 [==============================] - 11s 15ms/step - loss: 0.3758 - accuracy: 0.8305 - val_loss: 0.4753 - val_accuracy: 0.7800\n",
      "Epoch 10/10\n",
      "702/702 [==============================] - 10s 14ms/step - loss: 0.3653 - accuracy: 0.8366 - val_loss: 0.4770 - val_accuracy: 0.7864\n"
     ]
    },
    {
     "data": {
      "text/plain": [
       "<keras.callbacks.History at 0x2978ba550>"
      ]
     },
     "execution_count": 6,
     "metadata": {},
     "output_type": "execute_result"
    }
   ],
   "source": [
    "model = Sequential()\n",
    "model.add(Conv2D(64, (3,3), input_shape = X.shape[1:]))\n",
    "model.add(Activation('relu'))\n",
    "model.add(MaxPooling2D(pool_size = (2,2)))\n",
    "\n",
    "model.add(Conv2D(64, (3,3)))\n",
    "model.add(Activation('relu'))\n",
    "model.add(MaxPooling2D(pool_size = (2,2)))\n",
    "\n",
    "model.add(Flatten())\n",
    "model.add(Dense(64))\n",
    "\n",
    "model.add(Dense(1))\n",
    "model.add(Activation('sigmoid'))\n",
    "\n",
    "model.compile(loss='binary_crossentropy',\n",
    "             optimizer='adam',\n",
    "             metrics=['accuracy'])\n",
    "\n",
    "model.fit(X, y, batch_size=32, epochs=10, validation_split=0.1)"
   ]
  },
  {
   "cell_type": "code",
   "execution_count": null,
   "id": "2db64b60",
   "metadata": {},
   "outputs": [],
   "source": []
  }
 ],
 "metadata": {
  "kernelspec": {
   "display_name": "Python 3",
   "language": "python",
   "name": "python3"
  },
  "language_info": {
   "codemirror_mode": {
    "name": "ipython",
    "version": 3
   },
   "file_extension": ".py",
   "mimetype": "text/x-python",
   "name": "python",
   "nbconvert_exporter": "python",
   "pygments_lexer": "ipython3",
   "version": "3.9.7"
  }
 },
 "nbformat": 4,
 "nbformat_minor": 5
}
