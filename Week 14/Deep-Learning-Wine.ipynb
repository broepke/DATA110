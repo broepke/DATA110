{
 "cells": [
  {
   "cell_type": "markdown",
   "id": "exceptional-owner",
   "metadata": {},
   "source": [
    "# NN on Wine Dataset"
   ]
  },
  {
   "cell_type": "code",
   "execution_count": 1,
   "id": "sunset-cement",
   "metadata": {},
   "outputs": [],
   "source": [
    "import numpy as np\n",
    "import pandas as pd\n",
    "import time\n",
    "from sklearn.preprocessing import StandardScaler\n",
    "from sklearn.model_selection import train_test_split\n",
    "import tensorflow as tf\n",
    "from tensorflow.keras.models import Sequential\n",
    "from tensorflow.keras.layers import Dense, Dropout, Activation, Flatten, Conv2D, MaxPooling2D\n",
    "from tensorflow.keras.callbacks import TensorBoard\n",
    "\n",
    "import pickle"
   ]
  },
  {
   "cell_type": "code",
   "execution_count": 10,
   "id": "endangered-secretariat",
   "metadata": {},
   "outputs": [],
   "source": [
    "name = 'Wine-{}'.format(int(time.time()))\n",
    "path = f'./logs/{name}'\n",
    "tensorboard = TensorBoard(log_dir=path)"
   ]
  },
  {
   "cell_type": "code",
   "execution_count": 11,
   "id": "threatened-porter",
   "metadata": {},
   "outputs": [
    {
     "data": {
      "text/html": [
       "<div>\n",
       "<style scoped>\n",
       "    .dataframe tbody tr th:only-of-type {\n",
       "        vertical-align: middle;\n",
       "    }\n",
       "\n",
       "    .dataframe tbody tr th {\n",
       "        vertical-align: top;\n",
       "    }\n",
       "\n",
       "    .dataframe thead th {\n",
       "        text-align: right;\n",
       "    }\n",
       "</style>\n",
       "<table border=\"1\" class=\"dataframe\">\n",
       "  <thead>\n",
       "    <tr style=\"text-align: right;\">\n",
       "      <th></th>\n",
       "      <th>Class</th>\n",
       "      <th>Alcohol</th>\n",
       "      <th>Malic acid</th>\n",
       "      <th>Ash</th>\n",
       "      <th>Ash Alcalinity</th>\n",
       "      <th>Magnesium</th>\n",
       "      <th>Total phenols</th>\n",
       "      <th>Flavanoids</th>\n",
       "      <th>Nonflavanoid phenols</th>\n",
       "      <th>Proanthocyanins</th>\n",
       "      <th>Color intensity</th>\n",
       "      <th>Hue</th>\n",
       "      <th>OD280/OD315</th>\n",
       "      <th>Proline</th>\n",
       "    </tr>\n",
       "  </thead>\n",
       "  <tbody>\n",
       "    <tr>\n",
       "      <th>0</th>\n",
       "      <td>1</td>\n",
       "      <td>14.23</td>\n",
       "      <td>1.71</td>\n",
       "      <td>2.43</td>\n",
       "      <td>15.6</td>\n",
       "      <td>127</td>\n",
       "      <td>2.80</td>\n",
       "      <td>3.06</td>\n",
       "      <td>0.28</td>\n",
       "      <td>2.29</td>\n",
       "      <td>5.64</td>\n",
       "      <td>1.04</td>\n",
       "      <td>3.92</td>\n",
       "      <td>1065</td>\n",
       "    </tr>\n",
       "    <tr>\n",
       "      <th>1</th>\n",
       "      <td>1</td>\n",
       "      <td>13.20</td>\n",
       "      <td>1.78</td>\n",
       "      <td>2.14</td>\n",
       "      <td>11.2</td>\n",
       "      <td>100</td>\n",
       "      <td>2.65</td>\n",
       "      <td>2.76</td>\n",
       "      <td>0.26</td>\n",
       "      <td>1.28</td>\n",
       "      <td>4.38</td>\n",
       "      <td>1.05</td>\n",
       "      <td>3.40</td>\n",
       "      <td>1050</td>\n",
       "    </tr>\n",
       "    <tr>\n",
       "      <th>2</th>\n",
       "      <td>1</td>\n",
       "      <td>13.16</td>\n",
       "      <td>2.36</td>\n",
       "      <td>2.67</td>\n",
       "      <td>18.6</td>\n",
       "      <td>101</td>\n",
       "      <td>2.80</td>\n",
       "      <td>3.24</td>\n",
       "      <td>0.30</td>\n",
       "      <td>2.81</td>\n",
       "      <td>5.68</td>\n",
       "      <td>1.03</td>\n",
       "      <td>3.17</td>\n",
       "      <td>1185</td>\n",
       "    </tr>\n",
       "    <tr>\n",
       "      <th>3</th>\n",
       "      <td>1</td>\n",
       "      <td>14.37</td>\n",
       "      <td>1.95</td>\n",
       "      <td>2.50</td>\n",
       "      <td>16.8</td>\n",
       "      <td>113</td>\n",
       "      <td>3.85</td>\n",
       "      <td>3.49</td>\n",
       "      <td>0.24</td>\n",
       "      <td>2.18</td>\n",
       "      <td>7.80</td>\n",
       "      <td>0.86</td>\n",
       "      <td>3.45</td>\n",
       "      <td>1480</td>\n",
       "    </tr>\n",
       "    <tr>\n",
       "      <th>4</th>\n",
       "      <td>1</td>\n",
       "      <td>13.24</td>\n",
       "      <td>2.59</td>\n",
       "      <td>2.87</td>\n",
       "      <td>21.0</td>\n",
       "      <td>118</td>\n",
       "      <td>2.80</td>\n",
       "      <td>2.69</td>\n",
       "      <td>0.39</td>\n",
       "      <td>1.82</td>\n",
       "      <td>4.32</td>\n",
       "      <td>1.04</td>\n",
       "      <td>2.93</td>\n",
       "      <td>735</td>\n",
       "    </tr>\n",
       "  </tbody>\n",
       "</table>\n",
       "</div>"
      ],
      "text/plain": [
       "   Class  Alcohol  Malic acid   Ash  Ash Alcalinity  Magnesium  Total phenols  \\\n",
       "0      1    14.23        1.71  2.43            15.6        127           2.80   \n",
       "1      1    13.20        1.78  2.14            11.2        100           2.65   \n",
       "2      1    13.16        2.36  2.67            18.6        101           2.80   \n",
       "3      1    14.37        1.95  2.50            16.8        113           3.85   \n",
       "4      1    13.24        2.59  2.87            21.0        118           2.80   \n",
       "\n",
       "   Flavanoids  Nonflavanoid phenols  Proanthocyanins  Color intensity   Hue  \\\n",
       "0        3.06                  0.28             2.29             5.64  1.04   \n",
       "1        2.76                  0.26             1.28             4.38  1.05   \n",
       "2        3.24                  0.30             2.81             5.68  1.03   \n",
       "3        3.49                  0.24             2.18             7.80  0.86   \n",
       "4        2.69                  0.39             1.82             4.32  1.04   \n",
       "\n",
       "   OD280/OD315  Proline  \n",
       "0         3.92     1065  \n",
       "1         3.40     1050  \n",
       "2         3.17     1185  \n",
       "3         3.45     1480  \n",
       "4         2.93      735  "
      ]
     },
     "execution_count": 11,
     "metadata": {},
     "output_type": "execute_result"
    }
   ],
   "source": [
    "df = pd.read_csv(\"wine.csv\")\n",
    "df.head()"
   ]
  },
  {
   "cell_type": "code",
   "execution_count": 23,
   "id": "resistant-breeding",
   "metadata": {},
   "outputs": [],
   "source": [
    "y = df['Class'].copy()\n",
    "X = df.drop(columns=['Class']).copy()"
   ]
  },
  {
   "cell_type": "code",
   "execution_count": 24,
   "id": "continental-papua",
   "metadata": {},
   "outputs": [
    {
     "data": {
      "text/plain": [
       "array([[ 1.51861254, -0.5622498 ,  0.23205254, -1.16959318,  1.91390522,\n",
       "         0.80899739,  1.03481896, -0.65956311,  1.22488398,  0.25171685,\n",
       "         0.36217728,  1.84791957,  1.01300893]])"
      ]
     },
     "execution_count": 24,
     "metadata": {},
     "output_type": "execute_result"
    }
   ],
   "source": [
    "mms = StandardScaler()\n",
    "mms.fit(X)\n",
    "X = mms.transform(X)\n",
    "# Show five rows of the rescaled data\n",
    "X[:1]"
   ]
  },
  {
   "cell_type": "code",
   "execution_count": 25,
   "id": "moderate-surprise",
   "metadata": {},
   "outputs": [],
   "source": [
    "X_train, X_test, y_train, y_test = train_test_split(X, y, test_size=0.33, random_state=42)"
   ]
  },
  {
   "cell_type": "code",
   "execution_count": 26,
   "id": "collected-prophet",
   "metadata": {},
   "outputs": [],
   "source": [
    "model = tf.keras.models.Sequential()\n",
    "model.add(tf.keras.layers.Flatten())\n",
    "model.add(tf.keras.layers.Dense(128, activation=tf.nn.relu))\n",
    "model.add(tf.keras.layers.Dense(128, activation=tf.nn.relu))\n",
    "model.add(tf.keras.layers.Dense(4, activation=tf.nn.softmax))\n",
    "\n",
    "model.compile(optimizer='adam',\n",
    "             loss='sparse_categorical_crossentropy',\n",
    "             metrics=['accuracy'])"
   ]
  },
  {
   "cell_type": "code",
   "execution_count": 27,
   "id": "cleared-bangladesh",
   "metadata": {},
   "outputs": [
    {
     "name": "stdout",
     "output_type": "stream",
     "text": [
      "Epoch 1/20\n",
      "3/3 [==============================] - 0s 46ms/step - loss: 1.4640 - accuracy: 0.2224 - val_loss: 1.3031 - val_accuracy: 0.4722\n",
      "Epoch 2/20\n",
      "3/3 [==============================] - 0s 9ms/step - loss: 1.1893 - accuracy: 0.5331 - val_loss: 1.0946 - val_accuracy: 0.6389\n",
      "Epoch 3/20\n",
      "3/3 [==============================] - 0s 8ms/step - loss: 0.9696 - accuracy: 0.8375 - val_loss: 0.9252 - val_accuracy: 0.7778\n",
      "Epoch 4/20\n",
      "3/3 [==============================] - 0s 9ms/step - loss: 0.8110 - accuracy: 0.9053 - val_loss: 0.7788 - val_accuracy: 0.8611\n",
      "Epoch 5/20\n",
      "3/3 [==============================] - 0s 9ms/step - loss: 0.6755 - accuracy: 0.9468 - val_loss: 0.6529 - val_accuracy: 0.8611\n",
      "Epoch 6/20\n",
      "3/3 [==============================] - 0s 9ms/step - loss: 0.5408 - accuracy: 0.9880 - val_loss: 0.5435 - val_accuracy: 0.8889\n",
      "Epoch 7/20\n",
      "3/3 [==============================] - 0s 8ms/step - loss: 0.4546 - accuracy: 0.9762 - val_loss: 0.4470 - val_accuracy: 0.9167\n",
      "Epoch 8/20\n",
      "3/3 [==============================] - 0s 8ms/step - loss: 0.3645 - accuracy: 0.9823 - val_loss: 0.3669 - val_accuracy: 0.9167\n",
      "Epoch 9/20\n",
      "3/3 [==============================] - 0s 9ms/step - loss: 0.2924 - accuracy: 0.9823 - val_loss: 0.3023 - val_accuracy: 0.9444\n",
      "Epoch 10/20\n",
      "3/3 [==============================] - 0s 9ms/step - loss: 0.2231 - accuracy: 0.9901 - val_loss: 0.2501 - val_accuracy: 0.9444\n",
      "Epoch 11/20\n",
      "3/3 [==============================] - 0s 8ms/step - loss: 0.1835 - accuracy: 0.9823 - val_loss: 0.2096 - val_accuracy: 0.9722\n",
      "Epoch 12/20\n",
      "3/3 [==============================] - 0s 9ms/step - loss: 0.1275 - accuracy: 0.9901 - val_loss: 0.1786 - val_accuracy: 0.9722\n",
      "Epoch 13/20\n",
      "3/3 [==============================] - 0s 9ms/step - loss: 0.1312 - accuracy: 0.9823 - val_loss: 0.1571 - val_accuracy: 0.9722\n",
      "Epoch 14/20\n",
      "3/3 [==============================] - 0s 9ms/step - loss: 0.1048 - accuracy: 0.9823 - val_loss: 0.1439 - val_accuracy: 0.9444\n",
      "Epoch 15/20\n",
      "3/3 [==============================] - 0s 9ms/step - loss: 0.0779 - accuracy: 0.9940 - val_loss: 0.1334 - val_accuracy: 0.9444\n",
      "Epoch 16/20\n",
      "3/3 [==============================] - 0s 9ms/step - loss: 0.0678 - accuracy: 0.9823 - val_loss: 0.1268 - val_accuracy: 0.9444\n",
      "Epoch 17/20\n",
      "3/3 [==============================] - 0s 11ms/step - loss: 0.0630 - accuracy: 1.0000 - val_loss: 0.1220 - val_accuracy: 0.9167\n",
      "Epoch 18/20\n",
      "3/3 [==============================] - 0s 12ms/step - loss: 0.0466 - accuracy: 1.0000 - val_loss: 0.1167 - val_accuracy: 0.9167\n",
      "Epoch 19/20\n",
      "3/3 [==============================] - 0s 9ms/step - loss: 0.0424 - accuracy: 1.0000 - val_loss: 0.1145 - val_accuracy: 0.9167\n",
      "Epoch 20/20\n",
      "3/3 [==============================] - 0s 9ms/step - loss: 0.0340 - accuracy: 1.0000 - val_loss: 0.1115 - val_accuracy: 0.9167\n"
     ]
    },
    {
     "data": {
      "text/plain": [
       "<tensorflow.python.keras.callbacks.History at 0x1606d2d90>"
      ]
     },
     "execution_count": 27,
     "metadata": {},
     "output_type": "execute_result"
    }
   ],
   "source": [
    "model.fit(X_train, y_train, epochs=20,\n",
    "              validation_split=0.3,\n",
    "              callbacks=[tensorboard])"
   ]
  },
  {
   "cell_type": "code",
   "execution_count": 28,
   "id": "sorted-bolivia",
   "metadata": {},
   "outputs": [
    {
     "name": "stdout",
     "output_type": "stream",
     "text": [
      "2/2 [==============================] - 0s 997us/step - loss: 0.0589 - accuracy: 1.0000\n"
     ]
    }
   ],
   "source": [
    "val_loss, val_acc = model.evaluate(X_test, y_test)"
   ]
  }
 ],
 "metadata": {
  "kernelspec": {
   "display_name": "Python 3",
   "language": "python",
   "name": "python3"
  },
  "language_info": {
   "codemirror_mode": {
    "name": "ipython",
    "version": 3
   },
   "file_extension": ".py",
   "mimetype": "text/x-python",
   "name": "python",
   "nbconvert_exporter": "python",
   "pygments_lexer": "ipython3",
   "version": "3.8.8"
  }
 },
 "nbformat": 4,
 "nbformat_minor": 5
}
