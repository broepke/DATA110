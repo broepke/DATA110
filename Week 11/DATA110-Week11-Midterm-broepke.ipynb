{
 "cells": [
  {
   "cell_type": "markdown",
   "id": "innovative-valuation",
   "metadata": {},
   "source": [
    "# Week 11 Midterm: NLP\n",
    "\n",
    "**Brian Roepke**  \n",
    "*DATA 110*"
   ]
  },
  {
   "cell_type": "markdown",
   "id": "occupational-branch",
   "metadata": {},
   "source": [
    "# Overview\n",
    "\n",
    "As a clothing retailer with an e-Commerce presence, it's important for us to understand what customers are saying about our products, which products are most popular with our customers, and how we can improve our offerings.  To accomplish this we'll take a look at several different analyses that will help with the following:\n",
    "\n",
    "1. **Review Trends**: General trends of customer reviews, quantity, distribution, etc.\n",
    "1. **Sentiment Analysis**:  How customers feel about the products; are they positive or negative generally.\n",
    "1. **Part of Speech Analysis**: Using different parts of speech (Nouns, Verbs, Adjectives, etc.).  Via this, we can see the most common positive and negative words used to describe products as well as which a the most commonly referenced products categories.\n",
    "1. **Recommendation Prediction**: We will use this customer sentiment to understand better if a customer will give a positive rating on the clothing items based on their review.\n",
    "1. **Department Prediction**: Finally, we'll use a multi-label classification model to predict the departments a product belongs to based on the description that's being used.  This might identify cross-selling opportunities or cross-listing opportunities for products in new categories.\n",
    "\n",
    "![](https://github.com/broepke/DATA110/blob/main/Week%2011/clothing.jpg?raw=true)\n",
    "<a href='https://www.freepik.com/vectors/woman'>Woman vector created by freepik - www.freepik.com</a>"
   ]
  },
  {
   "cell_type": "code",
   "execution_count": 1,
   "id": "photographic-syntax",
   "metadata": {},
   "outputs": [],
   "source": [
    "import numpy as np\n",
    "import pandas as pd\n",
    "import re\n",
    "import itertools\n",
    "import string\n",
    "import warnings\n",
    "warnings.filterwarnings('ignore')\n",
    "\n",
    "from textblob import TextBlob\n",
    "from textblob import Word\n",
    "\n",
    "import sklearn as sk\n",
    "from sklearn.model_selection import train_test_split\n",
    "from sklearn.feature_extraction.text import TfidfVectorizer\n",
    "from sklearn.naive_bayes import MultinomialNB, ComplementNB\n",
    "from sklearn import metrics \n",
    "from sklearn.model_selection import GridSearchCV, cross_val_score, RepeatedStratifiedKFold\n",
    "from sklearn.svm import SVC\n",
    "from sklearn.linear_model import LogisticRegression, SGDClassifier\n",
    "from sklearn.ensemble import RandomForestClassifier\n",
    "from sklearn.preprocessing import MinMaxScaler, MultiLabelBinarizer\n",
    "from sklearn.compose import ColumnTransformer\n",
    "from sklearn.multiclass import OneVsRestClassifier\n",
    "\n",
    "# NLTK Imports and Downloads\n",
    "import nltk\n",
    "from nltk import word_tokenize\n",
    "from nltk.sentiment.util import *\n",
    "from nltk.stem import PorterStemmer\n",
    "from nltk.stem.wordnet import WordNetLemmatizer\n",
    "\n",
    "from imblearn.over_sampling import SMOTE\n",
    "from imblearn.under_sampling import RandomUnderSampler\n",
    "from imblearn.pipeline import Pipeline\n",
    "\n",
    "import seaborn as sns\n",
    "import matplotlib.pyplot as plt\n",
    "%matplotlib inline"
   ]
  },
  {
   "cell_type": "markdown",
   "id": "veterinary-belle",
   "metadata": {},
   "source": [
    "# Preprocessing & EDA\n",
    "\n",
    "Importing our dataset and providing the necessary cleaning and analysis."
   ]
  },
  {
   "cell_type": "code",
   "execution_count": 2,
   "id": "fatal-rouge",
   "metadata": {},
   "outputs": [
    {
     "data": {
      "text/html": [
       "<div>\n",
       "<style scoped>\n",
       "    .dataframe tbody tr th:only-of-type {\n",
       "        vertical-align: middle;\n",
       "    }\n",
       "\n",
       "    .dataframe tbody tr th {\n",
       "        vertical-align: top;\n",
       "    }\n",
       "\n",
       "    .dataframe thead th {\n",
       "        text-align: right;\n",
       "    }\n",
       "</style>\n",
       "<table border=\"1\" class=\"dataframe\">\n",
       "  <thead>\n",
       "    <tr style=\"text-align: right;\">\n",
       "      <th></th>\n",
       "      <th>Age</th>\n",
       "      <th>Title</th>\n",
       "      <th>Review Text</th>\n",
       "      <th>Rating</th>\n",
       "      <th>Recommended IND</th>\n",
       "      <th>Positive Feedback Count</th>\n",
       "      <th>Department Name</th>\n",
       "      <th>Class Name</th>\n",
       "    </tr>\n",
       "  </thead>\n",
       "  <tbody>\n",
       "    <tr>\n",
       "      <th>0</th>\n",
       "      <td>33</td>\n",
       "      <td>NaN</td>\n",
       "      <td>Absolutely wonderful - silky and sexy and comf...</td>\n",
       "      <td>4</td>\n",
       "      <td>1</td>\n",
       "      <td>0</td>\n",
       "      <td>Intimate</td>\n",
       "      <td>Intimates</td>\n",
       "    </tr>\n",
       "    <tr>\n",
       "      <th>1</th>\n",
       "      <td>34</td>\n",
       "      <td>NaN</td>\n",
       "      <td>Love this dress!  it's sooo pretty.  i happene...</td>\n",
       "      <td>5</td>\n",
       "      <td>1</td>\n",
       "      <td>4</td>\n",
       "      <td>Dresses</td>\n",
       "      <td>Dresses</td>\n",
       "    </tr>\n",
       "    <tr>\n",
       "      <th>2</th>\n",
       "      <td>60</td>\n",
       "      <td>Some major design flaws</td>\n",
       "      <td>I had such high hopes for this dress and reall...</td>\n",
       "      <td>3</td>\n",
       "      <td>0</td>\n",
       "      <td>0</td>\n",
       "      <td>Dresses</td>\n",
       "      <td>Dresses</td>\n",
       "    </tr>\n",
       "    <tr>\n",
       "      <th>3</th>\n",
       "      <td>50</td>\n",
       "      <td>My favorite buy!</td>\n",
       "      <td>I love, love, love this jumpsuit. it's fun, fl...</td>\n",
       "      <td>5</td>\n",
       "      <td>1</td>\n",
       "      <td>0</td>\n",
       "      <td>Bottoms</td>\n",
       "      <td>Pants</td>\n",
       "    </tr>\n",
       "    <tr>\n",
       "      <th>4</th>\n",
       "      <td>47</td>\n",
       "      <td>Flattering shirt</td>\n",
       "      <td>This shirt is very flattering to all due to th...</td>\n",
       "      <td>5</td>\n",
       "      <td>1</td>\n",
       "      <td>6</td>\n",
       "      <td>Tops</td>\n",
       "      <td>Blouses</td>\n",
       "    </tr>\n",
       "  </tbody>\n",
       "</table>\n",
       "</div>"
      ],
      "text/plain": [
       "   Age                    Title  \\\n",
       "0   33                      NaN   \n",
       "1   34                      NaN   \n",
       "2   60  Some major design flaws   \n",
       "3   50         My favorite buy!   \n",
       "4   47         Flattering shirt   \n",
       "\n",
       "                                         Review Text  Rating  Recommended IND  \\\n",
       "0  Absolutely wonderful - silky and sexy and comf...       4                1   \n",
       "1  Love this dress!  it's sooo pretty.  i happene...       5                1   \n",
       "2  I had such high hopes for this dress and reall...       3                0   \n",
       "3  I love, love, love this jumpsuit. it's fun, fl...       5                1   \n",
       "4  This shirt is very flattering to all due to th...       5                1   \n",
       "\n",
       "   Positive Feedback Count Department Name Class Name  \n",
       "0                        0        Intimate  Intimates  \n",
       "1                        4         Dresses    Dresses  \n",
       "2                        0         Dresses    Dresses  \n",
       "3                        0         Bottoms      Pants  \n",
       "4                        6            Tops    Blouses  "
      ]
     },
     "execution_count": 2,
     "metadata": {},
     "output_type": "execute_result"
    }
   ],
   "source": [
    "df = pd.read_csv(\"ClothingReviews.csv\")\n",
    "df.head()"
   ]
  },
  {
   "cell_type": "markdown",
   "id": "stable-senator",
   "metadata": {},
   "source": [
    "## Data Cleaning"
   ]
  },
  {
   "cell_type": "code",
   "execution_count": 3,
   "id": "higher-forge",
   "metadata": {},
   "outputs": [
    {
     "name": "stdout",
     "output_type": "stream",
     "text": [
      "<class 'pandas.core.frame.DataFrame'>\n",
      "RangeIndex: 23486 entries, 0 to 23485\n",
      "Data columns (total 8 columns):\n",
      " #   Column                   Non-Null Count  Dtype \n",
      "---  ------                   --------------  ----- \n",
      " 0   Age                      23486 non-null  int64 \n",
      " 1   Title                    19676 non-null  object\n",
      " 2   Review Text              22641 non-null  object\n",
      " 3   Rating                   23486 non-null  int64 \n",
      " 4   Recommended IND          23486 non-null  int64 \n",
      " 5   Positive Feedback Count  23486 non-null  int64 \n",
      " 6   Department Name          23472 non-null  object\n",
      " 7   Class Name               23472 non-null  object\n",
      "dtypes: int64(4), object(4)\n",
      "memory usage: 1.4+ MB\n"
     ]
    }
   ],
   "source": [
    "df.info()"
   ]
  },
  {
   "cell_type": "code",
   "execution_count": 4,
   "id": "auburn-yugoslavia",
   "metadata": {},
   "outputs": [
    {
     "data": {
      "text/plain": [
       "(23486, 8)"
      ]
     },
     "execution_count": 4,
     "metadata": {},
     "output_type": "execute_result"
    }
   ],
   "source": [
    "df.shape"
   ]
  },
  {
   "cell_type": "markdown",
   "id": "hired-intervention",
   "metadata": {},
   "source": [
    "### Null Values\n",
    "\n",
    "Nulll values are generally not desireable in a dataset.  In certain cases, observations (rows) with low counts will simply be dropped, in other cases, they can be filled with other values."
   ]
  },
  {
   "cell_type": "code",
   "execution_count": 5,
   "id": "agreed-wiring",
   "metadata": {},
   "outputs": [
    {
     "data": {
      "text/plain": [
       "True"
      ]
     },
     "execution_count": 5,
     "metadata": {},
     "output_type": "execute_result"
    }
   ],
   "source": [
    "# check for nan/null\n",
    "df.isnull().values.any()"
   ]
  },
  {
   "cell_type": "code",
   "execution_count": 6,
   "id": "eleven-piece",
   "metadata": {},
   "outputs": [
    {
     "data": {
      "text/plain": [
       "Age                           0\n",
       "Title                      3810\n",
       "Review Text                 845\n",
       "Rating                        0\n",
       "Recommended IND               0\n",
       "Positive Feedback Count       0\n",
       "Department Name              14\n",
       "Class Name                   14\n",
       "dtype: int64"
      ]
     },
     "execution_count": 6,
     "metadata": {},
     "output_type": "execute_result"
    }
   ],
   "source": [
    "# count of nulls\n",
    "df.isnull().sum()"
   ]
  },
  {
   "cell_type": "code",
   "execution_count": 7,
   "id": "neutral-anatomy",
   "metadata": {},
   "outputs": [],
   "source": [
    "df.dropna(subset=['Department Name', 'Class Name', 'Review Text'], inplace=True)"
   ]
  },
  {
   "cell_type": "markdown",
   "id": "cordless-cleaner",
   "metadata": {},
   "source": [
    "**Note**: The null values for the lower counts (except `Title`) were dropped from the dataset."
   ]
  },
  {
   "cell_type": "code",
   "execution_count": 8,
   "id": "charged-bathroom",
   "metadata": {},
   "outputs": [
    {
     "data": {
      "text/plain": [
       "Age                           0\n",
       "Title                      2966\n",
       "Review Text                   0\n",
       "Rating                        0\n",
       "Recommended IND               0\n",
       "Positive Feedback Count       0\n",
       "Department Name               0\n",
       "Class Name                    0\n",
       "dtype: int64"
      ]
     },
     "execution_count": 8,
     "metadata": {},
     "output_type": "execute_result"
    }
   ],
   "source": [
    "# count of nulls\n",
    "df.isnull().sum()"
   ]
  },
  {
   "cell_type": "code",
   "execution_count": 9,
   "id": "thirty-theta",
   "metadata": {
    "tags": []
   },
   "outputs": [],
   "source": [
    "# fill the NA values with 0\n",
    "df['Title'].fillna('', inplace=True)"
   ]
  },
  {
   "cell_type": "markdown",
   "id": "minimal-coordinator",
   "metadata": {},
   "source": [
    "**Note**: Any `NULL` values for the title field are filled with blank strings.  Next these will be combined with the `Review Text` field so we have a single text field for analysis."
   ]
  },
  {
   "cell_type": "code",
   "execution_count": 10,
   "id": "caring-manor",
   "metadata": {},
   "outputs": [
    {
     "data": {
      "text/plain": [
       "Age                        0\n",
       "Title                      0\n",
       "Review Text                0\n",
       "Rating                     0\n",
       "Recommended IND            0\n",
       "Positive Feedback Count    0\n",
       "Department Name            0\n",
       "Class Name                 0\n",
       "dtype: int64"
      ]
     },
     "execution_count": 10,
     "metadata": {},
     "output_type": "execute_result"
    }
   ],
   "source": [
    "# count of nulls\n",
    "df.isnull().sum()"
   ]
  },
  {
   "cell_type": "code",
   "execution_count": 11,
   "id": "experienced-journal",
   "metadata": {},
   "outputs": [],
   "source": [
    "df['Text'] = df['Title'] + ' ' + df['Review Text']"
   ]
  },
  {
   "cell_type": "code",
   "execution_count": 12,
   "id": "parliamentary-moore",
   "metadata": {},
   "outputs": [],
   "source": [
    "df.drop(columns=['Title', 'Review Text'], inplace=True)"
   ]
  },
  {
   "cell_type": "code",
   "execution_count": 13,
   "id": "forty-package",
   "metadata": {},
   "outputs": [],
   "source": [
    "# Add column 'text_len' that counts the length for the derived field\n",
    "df['text_len'] = df.apply(lambda row: len(row['Text']), axis = 1)"
   ]
  },
  {
   "cell_type": "markdown",
   "id": "sexual-eleven",
   "metadata": {},
   "source": [
    "### Duplicates\n",
    "\n",
    "A common practice is to review any duplicates.  If there are large quantities, they can skew the results."
   ]
  },
  {
   "cell_type": "code",
   "execution_count": 14,
   "id": "specific-fiction",
   "metadata": {},
   "outputs": [
    {
     "name": "stdout",
     "output_type": "stream",
     "text": [
      "Before = 22628\n",
      "After = 22626\n",
      "\n",
      "Total Removed = 2\n"
     ]
    }
   ],
   "source": [
    "len_before = df.shape[0]\n",
    "df.drop_duplicates(inplace=True)\n",
    "len_after = df.shape[0]\n",
    "\n",
    "print(\"Before =\", len_before)\n",
    "# drop duplicates\n",
    "print(\"After =\", len_after)\n",
    "print('')\n",
    "print(\"Total Removed =\", len_before - len_after)"
   ]
  },
  {
   "cell_type": "markdown",
   "id": "introductory-hours",
   "metadata": {},
   "source": [
    "**Note**: After the prior clean up of `NULL` values, there were just `2` duplicates left."
   ]
  },
  {
   "cell_type": "markdown",
   "id": "together-convention",
   "metadata": {},
   "source": [
    "### Numeric Variables"
   ]
  },
  {
   "cell_type": "code",
   "execution_count": 15,
   "id": "answering-irrigation",
   "metadata": {},
   "outputs": [
    {
     "data": {
      "text/html": [
       "<div>\n",
       "<style scoped>\n",
       "    .dataframe tbody tr th:only-of-type {\n",
       "        vertical-align: middle;\n",
       "    }\n",
       "\n",
       "    .dataframe tbody tr th {\n",
       "        vertical-align: top;\n",
       "    }\n",
       "\n",
       "    .dataframe thead th {\n",
       "        text-align: right;\n",
       "    }\n",
       "</style>\n",
       "<table border=\"1\" class=\"dataframe\">\n",
       "  <thead>\n",
       "    <tr style=\"text-align: right;\">\n",
       "      <th></th>\n",
       "      <th>Age</th>\n",
       "      <th>Rating</th>\n",
       "      <th>Recommended IND</th>\n",
       "      <th>Positive Feedback Count</th>\n",
       "      <th>text_len</th>\n",
       "    </tr>\n",
       "  </thead>\n",
       "  <tbody>\n",
       "    <tr>\n",
       "      <th>count</th>\n",
       "      <td>22626.000000</td>\n",
       "      <td>22626.000000</td>\n",
       "      <td>22626.000000</td>\n",
       "      <td>22626.000000</td>\n",
       "      <td>22626.000000</td>\n",
       "    </tr>\n",
       "    <tr>\n",
       "      <th>mean</th>\n",
       "      <td>43.283921</td>\n",
       "      <td>4.183020</td>\n",
       "      <td>0.818748</td>\n",
       "      <td>2.632016</td>\n",
       "      <td>326.229515</td>\n",
       "    </tr>\n",
       "    <tr>\n",
       "      <th>std</th>\n",
       "      <td>12.328115</td>\n",
       "      <td>1.115934</td>\n",
       "      <td>0.385235</td>\n",
       "      <td>5.787722</td>\n",
       "      <td>147.168583</td>\n",
       "    </tr>\n",
       "    <tr>\n",
       "      <th>min</th>\n",
       "      <td>18.000000</td>\n",
       "      <td>1.000000</td>\n",
       "      <td>0.000000</td>\n",
       "      <td>0.000000</td>\n",
       "      <td>12.000000</td>\n",
       "    </tr>\n",
       "    <tr>\n",
       "      <th>25%</th>\n",
       "      <td>34.000000</td>\n",
       "      <td>4.000000</td>\n",
       "      <td>1.000000</td>\n",
       "      <td>0.000000</td>\n",
       "      <td>201.000000</td>\n",
       "    </tr>\n",
       "    <tr>\n",
       "      <th>50%</th>\n",
       "      <td>41.000000</td>\n",
       "      <td>5.000000</td>\n",
       "      <td>1.000000</td>\n",
       "      <td>1.000000</td>\n",
       "      <td>319.000000</td>\n",
       "    </tr>\n",
       "    <tr>\n",
       "      <th>75%</th>\n",
       "      <td>52.000000</td>\n",
       "      <td>5.000000</td>\n",
       "      <td>1.000000</td>\n",
       "      <td>3.000000</td>\n",
       "      <td>478.000000</td>\n",
       "    </tr>\n",
       "    <tr>\n",
       "      <th>max</th>\n",
       "      <td>99.000000</td>\n",
       "      <td>5.000000</td>\n",
       "      <td>1.000000</td>\n",
       "      <td>122.000000</td>\n",
       "      <td>557.000000</td>\n",
       "    </tr>\n",
       "  </tbody>\n",
       "</table>\n",
       "</div>"
      ],
      "text/plain": [
       "                Age        Rating  Recommended IND  Positive Feedback Count  \\\n",
       "count  22626.000000  22626.000000     22626.000000             22626.000000   \n",
       "mean      43.283921      4.183020         0.818748                 2.632016   \n",
       "std       12.328115      1.115934         0.385235                 5.787722   \n",
       "min       18.000000      1.000000         0.000000                 0.000000   \n",
       "25%       34.000000      4.000000         1.000000                 0.000000   \n",
       "50%       41.000000      5.000000         1.000000                 1.000000   \n",
       "75%       52.000000      5.000000         1.000000                 3.000000   \n",
       "max       99.000000      5.000000         1.000000               122.000000   \n",
       "\n",
       "           text_len  \n",
       "count  22626.000000  \n",
       "mean     326.229515  \n",
       "std      147.168583  \n",
       "min       12.000000  \n",
       "25%      201.000000  \n",
       "50%      319.000000  \n",
       "75%      478.000000  \n",
       "max      557.000000  "
      ]
     },
     "execution_count": 15,
     "metadata": {},
     "output_type": "execute_result"
    }
   ],
   "source": [
    "df.describe()"
   ]
  },
  {
   "cell_type": "markdown",
   "id": "widespread-indian",
   "metadata": {},
   "source": [
    "**Observations:** \n",
    "\n",
    "1. The age ranges for the dataset range from `18` to `99` with a mean of `43`.  Most shoppers are middled aged with our store.\n",
    "1. Ratings are based on `1-5` star system.  Mean rating is `4.18` meaning most people give positive reviews. \n",
    "1. Positive feedback count is the number of times that people found a review useful.  the mean is `2.63` with a min of `0` and max of `122`\n",
    "1. Text lenght will be covered later in EDA"
   ]
  },
  {
   "cell_type": "markdown",
   "id": "forty-communist",
   "metadata": {},
   "source": [
    "### Categorical Variables"
   ]
  },
  {
   "cell_type": "code",
   "execution_count": 16,
   "id": "naval-privacy",
   "metadata": {},
   "outputs": [
    {
     "name": "stdout",
     "output_type": "stream",
     "text": [
      "<class 'pandas.core.frame.DataFrame'>\n",
      "Int64Index: 22626 entries, 0 to 23485\n",
      "Data columns (total 3 columns):\n",
      " #   Column           Non-Null Count  Dtype \n",
      "---  ------           --------------  ----- \n",
      " 0   Department Name  22626 non-null  object\n",
      " 1   Class Name       22626 non-null  object\n",
      " 2   Text             22626 non-null  object\n",
      "dtypes: object(3)\n",
      "memory usage: 707.1+ KB\n"
     ]
    }
   ],
   "source": [
    "# get categorical data\n",
    "cat_data = df.select_dtypes(include=['object'])\n",
    "cat_data.info()"
   ]
  },
  {
   "cell_type": "code",
   "execution_count": 81,
   "id": "material-spice",
   "metadata": {},
   "outputs": [
    {
     "name": "stdout",
     "output_type": "stream",
     "text": [
      "[Tops]        10048\n",
      "[Dresses]     6145 \n",
      "[Bottoms]     3661 \n",
      "[Intimate]    1652 \n",
      "[Jackets]     1002 \n",
      "[Trend]       118  \n",
      "Name: Department Name, dtype: int64 \n",
      "\n",
      "Dresses           6145\n",
      "Knits             4626\n",
      "Blouses           2983\n",
      "Sweaters          1380\n",
      "Pants             1350\n",
      "Jeans             1103\n",
      "Fine gauge        1059\n",
      "Skirts            903 \n",
      "Jackets           683 \n",
      "Lounge            669 \n",
      "Swim              331 \n",
      "Outerwear         319 \n",
      "Shorts            304 \n",
      "Sleep             214 \n",
      "Legwear           158 \n",
      "Intimates         147 \n",
      "Layering          132 \n",
      "Trend             118 \n",
      "Casual bottoms    1   \n",
      "Chemises          1   \n",
      "Name: Class Name, dtype: int64 \n",
      "\n"
     ]
    }
   ],
   "source": [
    "print (df['Department Name'].value_counts(), '\\n')\n",
    "print (df['Class Name'].value_counts(), '\\n')"
   ]
  },
  {
   "cell_type": "markdown",
   "id": "important-safety",
   "metadata": {},
   "source": [
    "**Observations:**  \n",
    "\n",
    "The categorical values are extermely clean and well labled.  We can look at the distributions of these better via visualization in the next section."
   ]
  },
  {
   "cell_type": "markdown",
   "id": "guilty-native",
   "metadata": {},
   "source": [
    "## EDA"
   ]
  },
  {
   "cell_type": "code",
   "execution_count": 18,
   "id": "modern-national",
   "metadata": {},
   "outputs": [
    {
     "data": {
      "image/png": "[encoded data removed]",
      "text/plain": [
       "<Figure size 576x360 with 1 Axes>"
      ]
     },
     "metadata": {
      "needs_background": "light"
     },
     "output_type": "display_data"
    }
   ],
   "source": [
    "plt.figure(figsize=(8,5))\n",
    "sns.countplot(x='Rating', data=df, palette=\"tab20\", dodge=False);"
   ]
  },
  {
   "cell_type": "markdown",
   "id": "derived-folks",
   "metadata": {},
   "source": [
    "**Notes:** As observed in the prior section, the reviews are skewed to the postive."
   ]
  },
  {
   "cell_type": "code",
   "execution_count": 19,
   "id": "seasonal-fluid",
   "metadata": {},
   "outputs": [
    {
     "data": {
      "image/png": "[encoded data removed]",
      "text/plain": [
       "<Figure size 576x360 with 1 Axes>"
      ]
     },
     "metadata": {
      "needs_background": "light"
     },
     "output_type": "display_data"
    }
   ],
   "source": [
    "plt.figure(figsize=(8,5))\n",
    "sns.countplot(x='Department Name', data=df, palette=\"tab20\", \n",
    "              order = df['Department Name'].value_counts().index, dodge=False);"
   ]
  },
  {
   "cell_type": "markdown",
   "id": "rotary-virus",
   "metadata": {},
   "source": [
    "**Notes**:  \n",
    "\n",
    "1. `Tops` followed by `Dresses` are the largest categories.  \n",
    "1. There are very few `Trend` and `Jackets` in the product line.  Predictions will be harder on these imbalanced classes."
   ]
  },
  {
   "cell_type": "code",
   "execution_count": 20,
   "id": "offensive-contributor",
   "metadata": {},
   "outputs": [
    {
     "data": {
      "image/png": "[encoded data removed]",
      "text/plain": [
       "<Figure size 720x360 with 1 Axes>"
      ]
     },
     "metadata": {
      "needs_background": "light"
     },
     "output_type": "display_data"
    }
   ],
   "source": [
    "plt.figure(figsize=(10,5))\n",
    "ax = sns.countplot(x='Class Name', data=df, palette=\"tab20\", \n",
    "                   order = df['Class Name'].value_counts().index, dodge=False);\n",
    "ax.set_xticklabels(ax.get_xticklabels(), rotation=90);"
   ]
  },
  {
   "cell_type": "code",
   "execution_count": 21,
   "id": "concerned-constant",
   "metadata": {},
   "outputs": [
    {
     "data": {
      "image/png": "[encoded data removed]",
      "text/plain": [
       "<Figure size 720x360 with 1 Axes>"
      ]
     },
     "metadata": {
      "needs_background": "light"
     },
     "output_type": "display_data"
    }
   ],
   "source": [
    "plt.figure(figsize=(10, 5))\n",
    "ax = sns.histplot(df, x='Positive Feedback Count', palette=\"tab20c\", binwidth=5);\n",
    "ax.set(yscale=\"log\");"
   ]
  },
  {
   "cell_type": "markdown",
   "id": "short-earth",
   "metadata": {},
   "source": [
    "**Observations**: \n",
    "\n",
    "Most items in the dataset do not have any `Positive Feedback Count` and were set to `0` earlier.  The maximum is `~120`.\n",
    "\n",
    "Please note the `Y-Axis` as this is on a log scale."
   ]
  },
  {
   "cell_type": "code",
   "execution_count": 22,
   "id": "macro-perfume",
   "metadata": {},
   "outputs": [
    {
     "data": {
      "image/png": "[encoded data removed]",
      "text/plain": [
       "<Figure size 720x360 with 1 Axes>"
      ]
     },
     "metadata": {
      "needs_background": "light"
     },
     "output_type": "display_data"
    }
   ],
   "source": [
    "plt.figure(figsize=(10, 5))\n",
    "sns.histplot(df, x='text_len', kde=True, palette=\"tab20c\", binwidth=10);\n",
    "# ax.set(yscale=\"log\");"
   ]
  },
  {
   "cell_type": "markdown",
   "id": "above-blink",
   "metadata": {},
   "source": [
    "**Notes**: For the `text_len` attribute, there is a fairly even distribution from `100` to `400` characters and then a higher concentration of reviews that are longer, around `500` characters.  Given that there are not massive outliers here, the number of characters of the reviews is probably limited to `~600~` chars."
   ]
  },
  {
   "cell_type": "markdown",
   "id": "stock-crystal",
   "metadata": {},
   "source": [
    "## Text Cleaning\n",
    "\n",
    "For **Parts** of our analysis, the text needs to have some basic transformation for our models to work propertly.  These are as follows:\n",
    "\n",
    "1. **Lower**: Convert all characters to lowercase\n",
    "1. **Remove Punctuation**: In most cases, punctuation doesn't help NLP and ML models and can be removed.\n",
    "1. **Stop Word Removal**: Stop words generally don't add context to analysis (unless the length of text is very short (`100` - `200` characters) and can be removed.\n",
    "1. **Lemmatization**: Words will be reduced to there *Lemma* or root.  This will greatly improve the accuracy of the analysis since words like `simming` and `swimmer` will be reduced to `swim`.\n",
    "\n",
    "**Note**: The orginal text will be preserved for other analysis."
   ]
  },
  {
   "cell_type": "code",
   "execution_count": 23,
   "id": "intense-bolivia",
   "metadata": {},
   "outputs": [
    {
     "data": {
      "text/plain": [
       "'Some major design flaws I had such high hopes for this dress and really wanted it to work for me. i initially ordered the petite small (my usual size) but i found this to be outrageously small. so small in fact that i could not zip it up! i reordered it in petite medium, which was just ok. overall, the top half was comfortable and fit nicely, but the bottom half had a very tight under layer and several somewhat cheap (net) over layers. imo, a major design flaw was the net over layer sewn directly into the zipper - it c'"
      ]
     },
     "execution_count": 23,
     "metadata": {},
     "output_type": "execute_result"
    }
   ],
   "source": [
    "df['Text'][2]"
   ]
  },
  {
   "cell_type": "code",
   "execution_count": 24,
   "id": "dietary-period",
   "metadata": {},
   "outputs": [],
   "source": [
    "def process_string(text, stem=\"None\"):\n",
    "    \n",
    "    final_string = \"\"\n",
    "    \n",
    "    text = text.lower()\n",
    "    \n",
    "    translator = str.maketrans('', '', string.punctuation)\n",
    "    text = text.translate(translator)\n",
    "\n",
    "    text = text.split()\n",
    "    useless_words = nltk.corpus.stopwords.words(\"english\") + list(string.punctuation)\n",
    "    useless_words = useless_words + ['.', ',', '!', \"'\"]\n",
    "    text_filtered = [word for word in text if not word in useless_words]\n",
    "    \n",
    "    if stem == 'Stem':\n",
    "        stemmer = PorterStemmer() \n",
    "        text_stemmed = [stemmer.stem(y) for y in text_filtered]\n",
    "    elif stem == 'Lem':\n",
    "        lem = WordNetLemmatizer()\n",
    "        text_stemmed = [lem.lemmatize(y) for y in text_filtered]\n",
    "    else:\n",
    "        text_stemmed = text_filtered\n",
    "    \n",
    "    for word in text_stemmed:\n",
    "        final_string += word + \" \"\n",
    "    \n",
    "    return final_string"
   ]
  },
  {
   "cell_type": "code",
   "execution_count": 25,
   "id": "seeing-kennedy",
   "metadata": {},
   "outputs": [],
   "source": [
    "df['Text_Processed'] = df['Text'].apply(lambda x: process_string(x, stem='Lem'))"
   ]
  },
  {
   "cell_type": "code",
   "execution_count": 26,
   "id": "global-qualification",
   "metadata": {},
   "outputs": [
    {
     "data": {
      "text/plain": [
       "'major design flaw high hope dress really wanted work initially ordered petite small usual size found outrageously small small fact could zip reordered petite medium ok overall top half comfortable fit nicely bottom half tight layer several somewhat cheap net layer imo major design flaw net layer sewn directly zipper c '"
      ]
     },
     "execution_count": 26,
     "metadata": {},
     "output_type": "execute_result"
    }
   ],
   "source": [
    "df['Text_Processed'][2]"
   ]
  },
  {
   "cell_type": "markdown",
   "id": "passive-intention",
   "metadata": {},
   "source": [
    "# Sentiment Analysis\n",
    "\n",
    "For our sentiment analysis section, we will be using the `TextBlob` package to assist in creating `polarity scores` or sentiment scores that range from `-1` to `1` where lower scores are more negative and higher more positive.  Based off of these scores, we'll add a classifier of `1` for positive and `0` for negative to be used later in our prediction model. \n",
    "\n",
    "**Note**: `0` is technically nuetral sentiment, we'll verify how many observations were neutral before assuming we can use a binary label."
   ]
  },
  {
   "cell_type": "code",
   "execution_count": 27,
   "id": "parliamentary-cause",
   "metadata": {},
   "outputs": [],
   "source": [
    "def get_sentiment(x):\n",
    "    '''using TextBlob, get the sentiment score for a given body of text'''\n",
    "    blob = TextBlob(x)\n",
    "    return blob.sentiment.polarity"
   ]
  },
  {
   "cell_type": "code",
   "execution_count": 28,
   "id": "southern-stroke",
   "metadata": {},
   "outputs": [],
   "source": [
    "# Apply the Polarity Scoring from TextBlob\n",
    "df['sentiment'] = df['Text_Processed'].apply(lambda x: get_sentiment(x))"
   ]
  },
  {
   "cell_type": "code",
   "execution_count": 29,
   "id": "frank-amplifier",
   "metadata": {},
   "outputs": [],
   "source": [
    "# Create a few extra columns to aid in the analysis\n",
    "df['sentiment_label'] = df['sentiment'].apply(lambda x: 1 if x >= 0 else 0)"
   ]
  },
  {
   "cell_type": "code",
   "execution_count": 30,
   "id": "champion-deviation",
   "metadata": {},
   "outputs": [
    {
     "data": {
      "text/html": [
       "<div>\n",
       "<style scoped>\n",
       "    .dataframe tbody tr th:only-of-type {\n",
       "        vertical-align: middle;\n",
       "    }\n",
       "\n",
       "    .dataframe tbody tr th {\n",
       "        vertical-align: top;\n",
       "    }\n",
       "\n",
       "    .dataframe thead th {\n",
       "        text-align: right;\n",
       "    }\n",
       "</style>\n",
       "<table border=\"1\" class=\"dataframe\">\n",
       "  <thead>\n",
       "    <tr style=\"text-align: right;\">\n",
       "      <th></th>\n",
       "      <th>text_len</th>\n",
       "      <th>Text_Processed</th>\n",
       "      <th>sentiment</th>\n",
       "      <th>sentiment_label</th>\n",
       "    </tr>\n",
       "  </thead>\n",
       "  <tbody>\n",
       "    <tr>\n",
       "      <th>12429</th>\n",
       "      <td>550</td>\n",
       "      <td>detail lace beading design comfortable eyeing ...</td>\n",
       "      <td>0.278788</td>\n",
       "      <td>1</td>\n",
       "    </tr>\n",
       "    <tr>\n",
       "      <th>9793</th>\n",
       "      <td>217</td>\n",
       "      <td>run small usually wear size 24 ordered 4 way s...</td>\n",
       "      <td>-0.075000</td>\n",
       "      <td>0</td>\n",
       "    </tr>\n",
       "    <tr>\n",
       "      <th>8852</th>\n",
       "      <td>517</td>\n",
       "      <td>disappointed huge fan lovely swing dress last ...</td>\n",
       "      <td>0.070317</td>\n",
       "      <td>1</td>\n",
       "    </tr>\n",
       "    <tr>\n",
       "      <th>5600</th>\n",
       "      <td>79</td>\n",
       "      <td>unique style got mustard grey cute looking for...</td>\n",
       "      <td>0.275000</td>\n",
       "      <td>1</td>\n",
       "    </tr>\n",
       "    <tr>\n",
       "      <th>14474</th>\n",
       "      <td>212</td>\n",
       "      <td>run large beautiful dress usually wear size 4 ...</td>\n",
       "      <td>0.202381</td>\n",
       "      <td>1</td>\n",
       "    </tr>\n",
       "  </tbody>\n",
       "</table>\n",
       "</div>"
      ],
      "text/plain": [
       "       text_len                                     Text_Processed  sentiment  \\\n",
       "12429       550  detail lace beading design comfortable eyeing ...   0.278788   \n",
       "9793        217  run small usually wear size 24 ordered 4 way s...  -0.075000   \n",
       "8852        517  disappointed huge fan lovely swing dress last ...   0.070317   \n",
       "5600         79  unique style got mustard grey cute looking for...   0.275000   \n",
       "14474       212  run large beautiful dress usually wear size 4 ...   0.202381   \n",
       "\n",
       "       sentiment_label  \n",
       "12429                1  \n",
       "9793                 0  \n",
       "8852                 1  \n",
       "5600                 1  \n",
       "14474                1  "
      ]
     },
     "execution_count": 30,
     "metadata": {},
     "output_type": "execute_result"
    }
   ],
   "source": [
    "df[df.columns[-4:]].sample(5, random_state=4)"
   ]
  },
  {
   "cell_type": "code",
   "execution_count": 31,
   "id": "inappropriate-supplier",
   "metadata": {},
   "outputs": [
    {
     "data": {
      "image/png": "[encoded data removed]",
      "text/plain": [
       "<Figure size 720x360 with 1 Axes>"
      ]
     },
     "metadata": {
      "needs_background": "light"
     },
     "output_type": "display_data"
    }
   ],
   "source": [
    "plt.figure(figsize=(10, 5))\n",
    "sns.histplot(df, x='sentiment', palette=\"tab20c\", bins=20);"
   ]
  },
  {
   "cell_type": "markdown",
   "id": "differential-agent",
   "metadata": {},
   "source": [
    "**Observations:**\n",
    "\n",
    "The distributions of sentiment, similar to the `1-5` star reviews is left skewed to the positive.  There are very few that have a `<0` polartity score."
   ]
  },
  {
   "cell_type": "code",
   "execution_count": 32,
   "id": "lucky-winter",
   "metadata": {},
   "outputs": [
    {
     "data": {
      "text/plain": [
       "83"
      ]
     },
     "execution_count": 32,
     "metadata": {},
     "output_type": "execute_result"
    }
   ],
   "source": [
    "len(df[df['sentiment'] == 0])"
   ]
  },
  {
   "cell_type": "markdown",
   "id": "chicken-isolation",
   "metadata": {},
   "source": [
    "**Note**: There are a small number (`83`) of reviews that received a `neutral` sentiment.  Since this number is so low, a `0` rating was grouped together with the majority class (`positive`)."
   ]
  },
  {
   "cell_type": "markdown",
   "id": "liberal-thirty",
   "metadata": {},
   "source": [
    "# Part-of-speech Tagging\n",
    "\n",
    "In this portion of the analysis, we will use a method known as Part of Speech tagging or POS.  This method uses a lexicon-based lookup to identify what parts of speech words are, such as Nouns, Verbs, Adjectives, and Adverbs.  By utilizing these, we can perform various analysis such as the following:\n",
    "\n",
    "- Word counts for different parts of speech to start giving us an overview of the most common parts of language used.\n",
    "- Identify nouns used to tag products (e.g., dress, jacket, bottom, etc.).  This will give us a different look at the popularity of items vs. simply counting categories.\n",
    "- Finally, we'll identify the top adjectives and adverbs for positive vs. negative reviews, telling us what words are used in each sentiment to describe the products."
   ]
  },
  {
   "cell_type": "code",
   "execution_count": 33,
   "id": "unlikely-footage",
   "metadata": {},
   "outputs": [],
   "source": [
    "# Tokenize the words\n",
    "df['Text_Tok'] = df['Text_Processed'].apply(word_tokenize)"
   ]
  },
  {
   "cell_type": "code",
   "execution_count": 34,
   "id": "challenging-solomon",
   "metadata": {},
   "outputs": [],
   "source": [
    "def parse_text(x):\n",
    "    '''using TextBlob, get the full parsed results (POS, etc)'''\n",
    "    blob = TextBlob(x)\n",
    "    p = blob.parse()\n",
    "    p = re.sub(r'^\\w+/', '',p)\n",
    "    return p.split('/')"
   ]
  },
  {
   "cell_type": "code",
   "execution_count": 35,
   "id": "focused-consumption",
   "metadata": {},
   "outputs": [],
   "source": [
    "def build_pos(x):\n",
    "    '''pass a DataFrame column with tokenized text and return a DF of the Words'''\n",
    "    all_words = []\n",
    "    for l in x:\n",
    "        all_words = all_words + l\n",
    "        \n",
    "    df = pd.DataFrame(all_words)\n",
    "    df.columns = ['Word']\n",
    "    \n",
    "    # Add a column for the POS\n",
    "    df['Parse'] = df['Word'].apply(lambda x: parse_text(x))\n",
    "    \n",
    "    # Expned the extracted list of POS tags into their own columns, and concat that back to the orig DF\n",
    "    # https://chrisalbon.com/python/data_wrangling/pandas_expand_cells_containing_lists/\n",
    "    par = pd.DataFrame(df['Parse'].to_list(), columns=['P1','P2', 'P3', 'P4'])\n",
    "    df = pd.concat([df[:], par[:]], axis=1)\n",
    "    df.drop(columns=['Parse'], inplace=True)\n",
    "\n",
    "    return df"
   ]
  },
  {
   "cell_type": "code",
   "execution_count": 36,
   "id": "bibliographic-polish",
   "metadata": {},
   "outputs": [],
   "source": [
    "df_words = build_pos(df['Text_Tok'])"
   ]
  },
  {
   "cell_type": "code",
   "execution_count": 37,
   "id": "raising-class",
   "metadata": {},
   "outputs": [
    {
     "data": {
      "text/html": [
       "<div>\n",
       "<style scoped>\n",
       "    .dataframe tbody tr th:only-of-type {\n",
       "        vertical-align: middle;\n",
       "    }\n",
       "\n",
       "    .dataframe tbody tr th {\n",
       "        vertical-align: top;\n",
       "    }\n",
       "\n",
       "    .dataframe thead th {\n",
       "        text-align: right;\n",
       "    }\n",
       "</style>\n",
       "<table border=\"1\" class=\"dataframe\">\n",
       "  <thead>\n",
       "    <tr style=\"text-align: right;\">\n",
       "      <th></th>\n",
       "      <th>Word</th>\n",
       "      <th>P1</th>\n",
       "      <th>P2</th>\n",
       "      <th>P3</th>\n",
       "      <th>P4</th>\n",
       "    </tr>\n",
       "  </thead>\n",
       "  <tbody>\n",
       "    <tr>\n",
       "      <th>150468</th>\n",
       "      <td>paired</td>\n",
       "      <td>VBN</td>\n",
       "      <td>B-VP</td>\n",
       "      <td>O</td>\n",
       "      <td>None</td>\n",
       "    </tr>\n",
       "    <tr>\n",
       "      <th>677734</th>\n",
       "      <td>machine</td>\n",
       "      <td>NN</td>\n",
       "      <td>B-NP</td>\n",
       "      <td>O</td>\n",
       "      <td>None</td>\n",
       "    </tr>\n",
       "    <tr>\n",
       "      <th>546479</th>\n",
       "      <td>poof</td>\n",
       "      <td>NN</td>\n",
       "      <td>B-NP</td>\n",
       "      <td>O</td>\n",
       "      <td>None</td>\n",
       "    </tr>\n",
       "    <tr>\n",
       "      <th>417969</th>\n",
       "      <td>better</td>\n",
       "      <td>JJR</td>\n",
       "      <td>B-ADJP</td>\n",
       "      <td>O</td>\n",
       "      <td>None</td>\n",
       "    </tr>\n",
       "    <tr>\n",
       "      <th>665962</th>\n",
       "      <td>elegant</td>\n",
       "      <td>JJ</td>\n",
       "      <td>B-ADJP</td>\n",
       "      <td>O</td>\n",
       "      <td>None</td>\n",
       "    </tr>\n",
       "    <tr>\n",
       "      <th>183282</th>\n",
       "      <td>shrink</td>\n",
       "      <td>VB</td>\n",
       "      <td>B-VP</td>\n",
       "      <td>O</td>\n",
       "      <td>None</td>\n",
       "    </tr>\n",
       "    <tr>\n",
       "      <th>24327</th>\n",
       "      <td>keeper</td>\n",
       "      <td>NN</td>\n",
       "      <td>B-NP</td>\n",
       "      <td>O</td>\n",
       "      <td>None</td>\n",
       "    </tr>\n",
       "    <tr>\n",
       "      <th>30066</th>\n",
       "      <td>top</td>\n",
       "      <td>JJ</td>\n",
       "      <td>B-ADJP</td>\n",
       "      <td>O</td>\n",
       "      <td>None</td>\n",
       "    </tr>\n",
       "    <tr>\n",
       "      <th>694883</th>\n",
       "      <td>maybe</td>\n",
       "      <td>RB</td>\n",
       "      <td>B-ADVP</td>\n",
       "      <td>O</td>\n",
       "      <td>None</td>\n",
       "    </tr>\n",
       "    <tr>\n",
       "      <th>678919</th>\n",
       "      <td>im</td>\n",
       "      <td>VBP</td>\n",
       "      <td>B-VP</td>\n",
       "      <td>O</td>\n",
       "      <td>None</td>\n",
       "    </tr>\n",
       "  </tbody>\n",
       "</table>\n",
       "</div>"
      ],
      "text/plain": [
       "           Word   P1      P2 P3    P4\n",
       "150468   paired  VBN    B-VP  O  None\n",
       "677734  machine   NN    B-NP  O  None\n",
       "546479     poof   NN    B-NP  O  None\n",
       "417969   better  JJR  B-ADJP  O  None\n",
       "665962  elegant   JJ  B-ADJP  O  None\n",
       "183282   shrink   VB    B-VP  O  None\n",
       "24327    keeper   NN    B-NP  O  None\n",
       "30066       top   JJ  B-ADJP  O  None\n",
       "694883    maybe   RB  B-ADVP  O  None\n",
       "678919       im  VBP    B-VP  O  None"
      ]
     },
     "execution_count": 37,
     "metadata": {},
     "output_type": "execute_result"
    }
   ],
   "source": [
    "df_words.sample(10)"
   ]
  },
  {
   "cell_type": "markdown",
   "id": "substantial-certification",
   "metadata": {},
   "source": [
    "**Notes:** Rather than using the much simpler approach of the POS with the TextBlog `tags` function[1], We used the `parse` function since it provides more verbose labeling text.\n",
    "\n",
    "The attempt here was to discover if there was a better way to identify nouns that would represent product features vs. other nouns.  Unfortunately, this didn't end up providing the detail needed. More information on this is presented below."
   ]
  },
  {
   "cell_type": "markdown",
   "id": "bibliographic-mitchell",
   "metadata": {},
   "source": [
    "## Word Counts for Different Parts of Speech"
   ]
  },
  {
   "cell_type": "code",
   "execution_count": 38,
   "id": "basic-apparel",
   "metadata": {},
   "outputs": [],
   "source": [
    "df_top_pos = df_words.groupby('P1')['P1'].count().\\\n",
    "    reset_index(name='count').sort_values(['count'],ascending=False).head(15)"
   ]
  },
  {
   "cell_type": "code",
   "execution_count": 39,
   "id": "necessary-defense",
   "metadata": {},
   "outputs": [
    {
     "data": {
      "text/html": [
       "<div>\n",
       "<style scoped>\n",
       "    .dataframe tbody tr th:only-of-type {\n",
       "        vertical-align: middle;\n",
       "    }\n",
       "\n",
       "    .dataframe tbody tr th {\n",
       "        vertical-align: top;\n",
       "    }\n",
       "\n",
       "    .dataframe thead th {\n",
       "        text-align: right;\n",
       "    }\n",
       "</style>\n",
       "<table border=\"1\" class=\"dataframe\">\n",
       "  <thead>\n",
       "    <tr style=\"text-align: right;\">\n",
       "      <th></th>\n",
       "      <th>P1</th>\n",
       "      <th>count</th>\n",
       "    </tr>\n",
       "  </thead>\n",
       "  <tbody>\n",
       "    <tr>\n",
       "      <th>10</th>\n",
       "      <td>NN</td>\n",
       "      <td>269428</td>\n",
       "    </tr>\n",
       "    <tr>\n",
       "      <th>6</th>\n",
       "      <td>JJ</td>\n",
       "      <td>166542</td>\n",
       "    </tr>\n",
       "    <tr>\n",
       "      <th>20</th>\n",
       "      <td>VB</td>\n",
       "      <td>65332</td>\n",
       "    </tr>\n",
       "    <tr>\n",
       "      <th>16</th>\n",
       "      <td>RB</td>\n",
       "      <td>54957</td>\n",
       "    </tr>\n",
       "    <tr>\n",
       "      <th>21</th>\n",
       "      <td>VBD</td>\n",
       "      <td>37820</td>\n",
       "    </tr>\n",
       "    <tr>\n",
       "      <th>23</th>\n",
       "      <td>VBN</td>\n",
       "      <td>23676</td>\n",
       "    </tr>\n",
       "    <tr>\n",
       "      <th>1</th>\n",
       "      <td>CD</td>\n",
       "      <td>19369</td>\n",
       "    </tr>\n",
       "    <tr>\n",
       "      <th>5</th>\n",
       "      <td>IN</td>\n",
       "      <td>17498</td>\n",
       "    </tr>\n",
       "    <tr>\n",
       "      <th>22</th>\n",
       "      <td>VBG</td>\n",
       "      <td>16842</td>\n",
       "    </tr>\n",
       "    <tr>\n",
       "      <th>24</th>\n",
       "      <td>VBP</td>\n",
       "      <td>13959</td>\n",
       "    </tr>\n",
       "    <tr>\n",
       "      <th>9</th>\n",
       "      <td>MD</td>\n",
       "      <td>9622</td>\n",
       "    </tr>\n",
       "    <tr>\n",
       "      <th>7</th>\n",
       "      <td>JJR</td>\n",
       "      <td>6844</td>\n",
       "    </tr>\n",
       "    <tr>\n",
       "      <th>25</th>\n",
       "      <td>VBZ</td>\n",
       "      <td>3784</td>\n",
       "    </tr>\n",
       "    <tr>\n",
       "      <th>12</th>\n",
       "      <td>NNS</td>\n",
       "      <td>3290</td>\n",
       "    </tr>\n",
       "    <tr>\n",
       "      <th>2</th>\n",
       "      <td>DT</td>\n",
       "      <td>2039</td>\n",
       "    </tr>\n",
       "  </tbody>\n",
       "</table>\n",
       "</div>"
      ],
      "text/plain": [
       "     P1   count\n",
       "10   NN  269428\n",
       "6    JJ  166542\n",
       "20   VB   65332\n",
       "16   RB   54957\n",
       "21  VBD   37820\n",
       "23  VBN   23676\n",
       "1    CD   19369\n",
       "5    IN   17498\n",
       "22  VBG   16842\n",
       "24  VBP   13959\n",
       "9    MD    9622\n",
       "7   JJR    6844\n",
       "25  VBZ    3784\n",
       "12  NNS    3290\n",
       "2    DT    2039"
      ]
     },
     "execution_count": 39,
     "metadata": {},
     "output_type": "execute_result"
    }
   ],
   "source": [
    "df_top_pos"
   ]
  },
  {
   "cell_type": "code",
   "execution_count": 40,
   "id": "correct-algebra",
   "metadata": {},
   "outputs": [
    {
     "data": {
      "image/png": "[encoded data removed]",
      "text/plain": [
       "<Figure size 720x360 with 1 Axes>"
      ]
     },
     "metadata": {
      "needs_background": "light"
     },
     "output_type": "display_data"
    }
   ],
   "source": [
    "plt.figure(figsize=(10,5))\n",
    "sns.barplot(data =df_top_pos, x='P1', y='count', palette=\"tab20\");"
   ]
  },
  {
   "cell_type": "markdown",
   "id": "labeled-parallel",
   "metadata": {},
   "source": [
    "## Identify Top Product Nouns"
   ]
  },
  {
   "cell_type": "code",
   "execution_count": 41,
   "id": "religious-hunger",
   "metadata": {},
   "outputs": [],
   "source": [
    "df_nn = df_words[df_words['P1'] == 'NN'].copy()"
   ]
  },
  {
   "cell_type": "code",
   "execution_count": 42,
   "id": "sized-segment",
   "metadata": {},
   "outputs": [
    {
     "data": {
      "text/html": [
       "<div>\n",
       "<style scoped>\n",
       "    .dataframe tbody tr th:only-of-type {\n",
       "        vertical-align: middle;\n",
       "    }\n",
       "\n",
       "    .dataframe tbody tr th {\n",
       "        vertical-align: top;\n",
       "    }\n",
       "\n",
       "    .dataframe thead th {\n",
       "        text-align: right;\n",
       "    }\n",
       "</style>\n",
       "<table border=\"1\" class=\"dataframe\">\n",
       "  <thead>\n",
       "    <tr style=\"text-align: right;\">\n",
       "      <th></th>\n",
       "      <th>Word</th>\n",
       "      <th>count</th>\n",
       "    </tr>\n",
       "  </thead>\n",
       "  <tbody>\n",
       "    <tr>\n",
       "      <th>2994</th>\n",
       "      <td>dress</td>\n",
       "      <td>12970</td>\n",
       "    </tr>\n",
       "    <tr>\n",
       "      <th>5449</th>\n",
       "      <td>love</td>\n",
       "      <td>10812</td>\n",
       "    </tr>\n",
       "    <tr>\n",
       "      <th>8332</th>\n",
       "      <td>size</td>\n",
       "      <td>9572</td>\n",
       "    </tr>\n",
       "    <tr>\n",
       "      <th>2151</th>\n",
       "      <td>color</td>\n",
       "      <td>7357</td>\n",
       "    </tr>\n",
       "    <tr>\n",
       "      <th>3371</th>\n",
       "      <td>fabric</td>\n",
       "      <td>5127</td>\n",
       "    </tr>\n",
       "    <tr>\n",
       "      <th>9078</th>\n",
       "      <td>sweater</td>\n",
       "      <td>3112</td>\n",
       "    </tr>\n",
       "    <tr>\n",
       "      <th>8139</th>\n",
       "      <td>shirt</td>\n",
       "      <td>3099</td>\n",
       "    </tr>\n",
       "    <tr>\n",
       "      <th>1219</th>\n",
       "      <td>bit</td>\n",
       "      <td>2947</td>\n",
       "    </tr>\n",
       "    <tr>\n",
       "      <th>5633</th>\n",
       "      <td>material</td>\n",
       "      <td>2922</td>\n",
       "    </tr>\n",
       "    <tr>\n",
       "      <th>4851</th>\n",
       "      <td>jean</td>\n",
       "      <td>2848</td>\n",
       "    </tr>\n",
       "  </tbody>\n",
       "</table>\n",
       "</div>"
      ],
      "text/plain": [
       "          Word  count\n",
       "2994     dress  12970\n",
       "5449      love  10812\n",
       "8332      size   9572\n",
       "2151     color   7357\n",
       "3371    fabric   5127\n",
       "9078   sweater   3112\n",
       "8139     shirt   3099\n",
       "1219       bit   2947\n",
       "5633  material   2922\n",
       "4851      jean   2848"
      ]
     },
     "execution_count": 42,
     "metadata": {},
     "output_type": "execute_result"
    }
   ],
   "source": [
    "df_nn.groupby('Word')['Word'].count().reset_index(name='count').\\\n",
    "    sort_values(['count'], ascending=False).head(10)"
   ]
  },
  {
   "cell_type": "markdown",
   "id": "radical-orientation",
   "metadata": {},
   "source": [
    "**Notes**:  When inspecting `nouns` only, there is a mix of different types of words displayed, and some we can see are not tagged in such a way that seems to make sense with this dataset.  For example, `love` is tagged as a noun, but it's probably an adjective.  `bit` is probably referring to an adjective as well but is showing as a noun.\n",
    "\n",
    "We can inspect these words directly to see if there is a difference in their POS tags."
   ]
  },
  {
   "cell_type": "code",
   "execution_count": 43,
   "id": "arranged-chapel",
   "metadata": {},
   "outputs": [
    {
     "name": "stdout",
     "output_type": "stream",
     "text": [
      "dress/NN/B-NP/O\n",
      "love/NN/B-NP/O\n",
      "bit/NN/B-NP/O\n"
     ]
    }
   ],
   "source": [
    "print(TextBlob('dress').parse())\n",
    "print(TextBlob('love').parse())\n",
    "print(TextBlob('bit').parse())"
   ]
  },
  {
   "cell_type": "markdown",
   "id": "educational-michael",
   "metadata": {},
   "source": [
    "**Observations:**  When we try to use the Part of Speech (POS) tagging, there isn't a distinction between Nouns.  Each of these has the same POS sequence. \n",
    "\n",
    "We can use the Class name to determine clothing nouns to use.  "
   ]
  },
  {
   "cell_type": "code",
   "execution_count": 44,
   "id": "charged-radical",
   "metadata": {},
   "outputs": [
    {
     "data": {
      "text/plain": [
       "['intimate',\n",
       " 'dress',\n",
       " 'pant',\n",
       " 'blouse',\n",
       " 'knit',\n",
       " 'outerwear',\n",
       " 'lounge',\n",
       " 'sweater',\n",
       " 'skirt',\n",
       " 'fine gauge',\n",
       " 'sleep',\n",
       " 'jacket',\n",
       " 'swim',\n",
       " 'trend',\n",
       " 'jean',\n",
       " 'legwear',\n",
       " 'short',\n",
       " 'layering',\n",
       " 'casual bottoms',\n",
       " 'chemise']"
      ]
     },
     "execution_count": 44,
     "metadata": {},
     "output_type": "execute_result"
    }
   ],
   "source": [
    "# Extract a list of all the unique class names\n",
    "noun_types = list(df['Class Name'].unique())\n",
    "\n",
    "# The words from the categories need to be lemmatized.\n",
    "lem = WordNetLemmatizer()\n",
    "for i in range(len(noun_types)):\n",
    "    noun_types[i] = lem.lemmatize(noun_types[i].lower())\n",
    "noun_types"
   ]
  },
  {
   "cell_type": "code",
   "execution_count": 45,
   "id": "severe-finger",
   "metadata": {},
   "outputs": [
    {
     "data": {
      "text/html": [
       "<div>\n",
       "<style scoped>\n",
       "    .dataframe tbody tr th:only-of-type {\n",
       "        vertical-align: middle;\n",
       "    }\n",
       "\n",
       "    .dataframe tbody tr th {\n",
       "        vertical-align: top;\n",
       "    }\n",
       "\n",
       "    .dataframe thead th {\n",
       "        text-align: right;\n",
       "    }\n",
       "</style>\n",
       "<table border=\"1\" class=\"dataframe\">\n",
       "  <thead>\n",
       "    <tr style=\"text-align: right;\">\n",
       "      <th></th>\n",
       "      <th>Word</th>\n",
       "      <th>Count</th>\n",
       "    </tr>\n",
       "  </thead>\n",
       "  <tbody>\n",
       "    <tr>\n",
       "      <th>6</th>\n",
       "      <td>dress</td>\n",
       "      <td>12970</td>\n",
       "    </tr>\n",
       "    <tr>\n",
       "      <th>455</th>\n",
       "      <td>sweater</td>\n",
       "      <td>3112</td>\n",
       "    </tr>\n",
       "    <tr>\n",
       "      <th>362</th>\n",
       "      <td>jean</td>\n",
       "      <td>2848</td>\n",
       "    </tr>\n",
       "    <tr>\n",
       "      <th>460</th>\n",
       "      <td>short</td>\n",
       "      <td>2594</td>\n",
       "    </tr>\n",
       "    <tr>\n",
       "      <th>104</th>\n",
       "      <td>skirt</td>\n",
       "      <td>2480</td>\n",
       "    </tr>\n",
       "    <tr>\n",
       "      <th>154</th>\n",
       "      <td>pant</td>\n",
       "      <td>2366</td>\n",
       "    </tr>\n",
       "    <tr>\n",
       "      <th>512</th>\n",
       "      <td>jacket</td>\n",
       "      <td>1477</td>\n",
       "    </tr>\n",
       "    <tr>\n",
       "      <th>340</th>\n",
       "      <td>blouse</td>\n",
       "      <td>1188</td>\n",
       "    </tr>\n",
       "    <tr>\n",
       "      <th>506</th>\n",
       "      <td>knit</td>\n",
       "      <td>485</td>\n",
       "    </tr>\n",
       "    <tr>\n",
       "      <th>492</th>\n",
       "      <td>layering</td>\n",
       "      <td>258</td>\n",
       "    </tr>\n",
       "    <tr>\n",
       "      <th>513</th>\n",
       "      <td>trend</td>\n",
       "      <td>81</td>\n",
       "    </tr>\n",
       "    <tr>\n",
       "      <th>2138</th>\n",
       "      <td>lounge</td>\n",
       "      <td>76</td>\n",
       "    </tr>\n",
       "    <tr>\n",
       "      <th>716</th>\n",
       "      <td>sleep</td>\n",
       "      <td>68</td>\n",
       "    </tr>\n",
       "    <tr>\n",
       "      <th>2797</th>\n",
       "      <td>swim</td>\n",
       "      <td>48</td>\n",
       "    </tr>\n",
       "    <tr>\n",
       "      <th>4291</th>\n",
       "      <td>chemise</td>\n",
       "      <td>31</td>\n",
       "    </tr>\n",
       "    <tr>\n",
       "      <th>9219</th>\n",
       "      <td>outerwear</td>\n",
       "      <td>9</td>\n",
       "    </tr>\n",
       "    <tr>\n",
       "      <th>765</th>\n",
       "      <td>intimate</td>\n",
       "      <td>2</td>\n",
       "    </tr>\n",
       "  </tbody>\n",
       "</table>\n",
       "</div>"
      ],
      "text/plain": [
       "           Word  Count\n",
       "6         dress  12970\n",
       "455     sweater   3112\n",
       "362        jean   2848\n",
       "460       short   2594\n",
       "104       skirt   2480\n",
       "154        pant   2366\n",
       "512      jacket   1477\n",
       "340      blouse   1188\n",
       "506        knit    485\n",
       "492    layering    258\n",
       "513       trend     81\n",
       "2138     lounge     76\n",
       "716       sleep     68\n",
       "2797       swim     48\n",
       "4291    chemise     31\n",
       "9219  outerwear      9\n",
       "765    intimate      2"
      ]
     },
     "execution_count": 45,
     "metadata": {},
     "output_type": "execute_result"
    }
   ],
   "source": [
    "# Extract all the text into a huge string and use Text Blobs to get a Dictionary out with counts\n",
    "all_text = ' '.join(df['Text_Processed'])\n",
    "all_text_blob = TextBlob(all_text)\n",
    "all_text_dict = all_text_blob.word_counts\n",
    "\n",
    "# Turn the dictionary into a Dataframe.  Filter by the word list and then sort for plotting.\n",
    "df_dict = pd.DataFrame(list(all_text_dict.items()),columns = ['Word','Count']) \n",
    "df_products = df_dict[df_dict.Word.isin(noun_types)]\n",
    "df_products.sort_values(by=['Count'], inplace=True, ascending=False)\n",
    "df_products"
   ]
  },
  {
   "cell_type": "markdown",
   "id": "maritime-potential",
   "metadata": {},
   "source": [
    "**Observations**: Based on the top outputs, we can see that `dresses` are the largest mentioned product line at a rate of `4x` the second, `sweaters`."
   ]
  },
  {
   "cell_type": "code",
   "execution_count": 46,
   "id": "christian-donna",
   "metadata": {},
   "outputs": [
    {
     "data": {
      "image/png": "[encoded data removed]",
      "text/plain": [
       "<Figure size 720x360 with 1 Axes>"
      ]
     },
     "metadata": {
      "needs_background": "light"
     },
     "output_type": "display_data"
    }
   ],
   "source": [
    "plt.figure(figsize=(10,5))\n",
    "ax = sns.barplot(x='Word', y='Count', data=df_products, palette=\"tab20\", dodge=False)\n",
    "ax.set_xticklabels(ax.get_xticklabels(), rotation=90);"
   ]
  },
  {
   "cell_type": "markdown",
   "id": "lasting-programmer",
   "metadata": {},
   "source": [
    "## Top Adjectives and Adverbs for Positive vs Negative Reviews\n",
    "\n",
    "Using Part of Speech taggs, we can look at which adjectives and adverbs people are using most to describe the products.  Below is a table that shows how different parts of speech are encoded in this system.\n",
    " \n",
    "**Part of Speech Codes**\n",
    "\n",
    "<table align=\"left\" cellpadding=\"2\" cellspacing=\"2\" border=\"0\">\n",
    "  <tbody><tr bgcolor=\"#DFDFFF\" align=\"none\"> \n",
    "    <td align=\"none\"> \n",
    "      <div align=\"left\">Number</div>\n",
    "    </td>\n",
    "    <td> \n",
    "      <div align=\"left\">Tag</div>\n",
    "    </td>\n",
    "    <td> \n",
    "      <div align=\"left\">Description</div>\n",
    "    </td>\n",
    "  <tr bgcolor=\"#FFFFCA\"> \n",
    "    <td align=\"none\"> 7. </td>\n",
    "    <td>JJ </td>\n",
    "    <td>Adjective </td>\n",
    "  </tr>\n",
    "  <tr bgcolor=\"#FFFFCA\"> \n",
    "    <td align=\"none\"> 8. </td>\n",
    "    <td>JJR </td>\n",
    "    <td>Adjective, comparative </td>\n",
    "  </tr>\n",
    "  <tr bgcolor=\"#FFFFCA\"> \n",
    "    <td align=\"none\"> 9. </td>\n",
    "    <td>JJS </td>\n",
    "    <td>Adjective, superlative </td>\n",
    "  </tr>\n",
    "\n",
    "  <tr bgcolor=\"#FFFFCA\"> \n",
    "    <td align=\"none\"> 20. </td>\n",
    "    <td>RB </td>\n",
    "    <td>Adverb </td>\n",
    "  </tr>\n",
    "  <tr bgcolor=\"#FFFFCA\"> \n",
    "    <td align=\"none\"> 21. </td>\n",
    "    <td>RBR </td>\n",
    "    <td>Adverb, comparative </td>\n",
    "  </tr>\n",
    "  <tr bgcolor=\"#FFFFCA\"> \n",
    "    <td align=\"none\"> 22. </td>\n",
    "    <td>RBS </td>\n",
    "    <td>Adverb, superlative </td>\n",
    "  </tr>\n",
    "  \n",
    "</td></tr></tbody></table>\n",
    " "
   ]
  },
  {
   "cell_type": "code",
   "execution_count": 47,
   "id": "protected-notion",
   "metadata": {},
   "outputs": [],
   "source": [
    "# Extract pos and neg reviews based on sentiment into their own DFs\n",
    "df_pos = df[df['sentiment_label'] == 1]\n",
    "df_neg = df[df['sentiment_label'] == 0]\n",
    "\n",
    "# Drop the rest of the columns after separating\n",
    "df_pos = df_pos[['Text_Tok']]\n",
    "df_neg = df_neg[['Text_Tok']]"
   ]
  },
  {
   "cell_type": "code",
   "execution_count": 48,
   "id": "daily-reflection",
   "metadata": {},
   "outputs": [],
   "source": [
    "def get_top_mods(df_all_words):\n",
    "    ''' this function will return a dataframe of the top adjetives and \n",
    "    adverbs group together and counted'''\n",
    "    \n",
    "    df_mods = df_all_words[(df_all_words.P1.str.startswith('JJ')) | (df_all_words.P1.str.startswith('RB'))]\n",
    "\n",
    "    # Groupby, count, sort in order to get the counts of the words\n",
    "    df_grouped = df_mods.groupby(['P1', 'Word'])['Word'].count().\\\n",
    "        reset_index(name='count').sort_values(['count'],ascending=False)\n",
    "\n",
    "    # Convert to Multi-Level Index\n",
    "    df_grouped.set_index(['P1', 'Word'], inplace=True)\n",
    "\n",
    "    # Finally, just display the top 3 (if there are 3)\n",
    "    return df_grouped.groupby(level=0).head(5)"
   ]
  },
  {
   "cell_type": "code",
   "execution_count": 49,
   "id": "hairy-office",
   "metadata": {},
   "outputs": [
    {
     "data": {
      "text/html": [
       "<div>\n",
       "<style scoped>\n",
       "    .dataframe tbody tr th:only-of-type {\n",
       "        vertical-align: middle;\n",
       "    }\n",
       "\n",
       "    .dataframe tbody tr th {\n",
       "        vertical-align: top;\n",
       "    }\n",
       "\n",
       "    .dataframe thead th {\n",
       "        text-align: right;\n",
       "    }\n",
       "</style>\n",
       "<table border=\"1\" class=\"dataframe\">\n",
       "  <thead>\n",
       "    <tr style=\"text-align: right;\">\n",
       "      <th></th>\n",
       "      <th></th>\n",
       "      <th>count</th>\n",
       "    </tr>\n",
       "    <tr>\n",
       "      <th>P1</th>\n",
       "      <th>Word</th>\n",
       "      <th></th>\n",
       "    </tr>\n",
       "  </thead>\n",
       "  <tbody>\n",
       "    <tr>\n",
       "      <th rowspan=\"5\" valign=\"top\">JJ</th>\n",
       "      <th>top</th>\n",
       "      <td>9293</td>\n",
       "    </tr>\n",
       "    <tr>\n",
       "      <th>great</th>\n",
       "      <td>7817</td>\n",
       "    </tr>\n",
       "    <tr>\n",
       "      <th>perfect</th>\n",
       "      <td>4525</td>\n",
       "    </tr>\n",
       "    <tr>\n",
       "      <th>cute</th>\n",
       "      <td>4455</td>\n",
       "    </tr>\n",
       "    <tr>\n",
       "      <th>small</th>\n",
       "      <td>4422</td>\n",
       "    </tr>\n",
       "    <tr>\n",
       "      <th rowspan=\"5\" valign=\"top\">RB</th>\n",
       "      <th>really</th>\n",
       "      <td>3898</td>\n",
       "    </tr>\n",
       "    <tr>\n",
       "      <th>well</th>\n",
       "      <td>3228</td>\n",
       "    </tr>\n",
       "    <tr>\n",
       "      <th>back</th>\n",
       "      <td>3035</td>\n",
       "    </tr>\n",
       "    <tr>\n",
       "      <th>pretty</th>\n",
       "      <td>2755</td>\n",
       "    </tr>\n",
       "    <tr>\n",
       "      <th>also</th>\n",
       "      <td>2403</td>\n",
       "    </tr>\n",
       "    <tr>\n",
       "      <th>JJR</th>\n",
       "      <th>better</th>\n",
       "      <td>1327</td>\n",
       "    </tr>\n",
       "    <tr>\n",
       "      <th>JJS</th>\n",
       "      <th>best</th>\n",
       "      <td>642</td>\n",
       "    </tr>\n",
       "    <tr>\n",
       "      <th rowspan=\"3\" valign=\"top\">JJR</th>\n",
       "      <th>smaller</th>\n",
       "      <td>616</td>\n",
       "    </tr>\n",
       "    <tr>\n",
       "      <th>shorter</th>\n",
       "      <td>595</td>\n",
       "    </tr>\n",
       "    <tr>\n",
       "      <th>larger</th>\n",
       "      <td>540</td>\n",
       "    </tr>\n",
       "    <tr>\n",
       "      <th>JJS</th>\n",
       "      <th>least</th>\n",
       "      <td>294</td>\n",
       "    </tr>\n",
       "    <tr>\n",
       "      <th>JJR</th>\n",
       "      <th>bigger</th>\n",
       "      <td>256</td>\n",
       "    </tr>\n",
       "    <tr>\n",
       "      <th rowspan=\"3\" valign=\"top\">JJS</th>\n",
       "      <th>softest</th>\n",
       "      <td>56</td>\n",
       "    </tr>\n",
       "    <tr>\n",
       "      <th>cutest</th>\n",
       "      <td>56</td>\n",
       "    </tr>\n",
       "    <tr>\n",
       "      <th>biggest</th>\n",
       "      <td>47</td>\n",
       "    </tr>\n",
       "    <tr>\n",
       "      <th rowspan=\"4\" valign=\"top\">RBR</th>\n",
       "      <th>earlier</th>\n",
       "      <td>41</td>\n",
       "    </tr>\n",
       "    <tr>\n",
       "      <th>sooner</th>\n",
       "      <td>6</td>\n",
       "    </tr>\n",
       "    <tr>\n",
       "      <th>neater</th>\n",
       "      <td>2</td>\n",
       "    </tr>\n",
       "    <tr>\n",
       "      <th>faster</th>\n",
       "      <td>2</td>\n",
       "    </tr>\n",
       "  </tbody>\n",
       "</table>\n",
       "</div>"
      ],
      "text/plain": [
       "             count\n",
       "P1  Word          \n",
       "JJ  top       9293\n",
       "    great     7817\n",
       "    perfect   4525\n",
       "    cute      4455\n",
       "    small     4422\n",
       "RB  really    3898\n",
       "    well      3228\n",
       "    back      3035\n",
       "    pretty    2755\n",
       "    also      2403\n",
       "JJR better    1327\n",
       "JJS best       642\n",
       "JJR smaller    616\n",
       "    shorter    595\n",
       "    larger     540\n",
       "JJS least      294\n",
       "JJR bigger     256\n",
       "JJS softest     56\n",
       "    cutest      56\n",
       "    biggest     47\n",
       "RBR earlier     41\n",
       "    sooner       6\n",
       "    neater       2\n",
       "    faster       2"
      ]
     },
     "execution_count": 49,
     "metadata": {},
     "output_type": "execute_result"
    }
   ],
   "source": [
    "# Build the Dataframe via the Function\n",
    "df_all_words_pos = build_pos(df_pos['Text_Tok'])\n",
    "\n",
    "# Get the top words\n",
    "get_top_mods(df_all_words_pos)"
   ]
  },
  {
   "cell_type": "code",
   "execution_count": 50,
   "id": "loose-apollo",
   "metadata": {},
   "outputs": [
    {
     "data": {
      "text/html": [
       "<div>\n",
       "<style scoped>\n",
       "    .dataframe tbody tr th:only-of-type {\n",
       "        vertical-align: middle;\n",
       "    }\n",
       "\n",
       "    .dataframe tbody tr th {\n",
       "        vertical-align: top;\n",
       "    }\n",
       "\n",
       "    .dataframe thead th {\n",
       "        text-align: right;\n",
       "    }\n",
       "</style>\n",
       "<table border=\"1\" class=\"dataframe\">\n",
       "  <thead>\n",
       "    <tr style=\"text-align: right;\">\n",
       "      <th></th>\n",
       "      <th></th>\n",
       "      <th>count</th>\n",
       "    </tr>\n",
       "    <tr>\n",
       "      <th>P1</th>\n",
       "      <th>Word</th>\n",
       "      <th></th>\n",
       "    </tr>\n",
       "  </thead>\n",
       "  <tbody>\n",
       "    <tr>\n",
       "      <th>JJ</th>\n",
       "      <th>small</th>\n",
       "      <td>476</td>\n",
       "    </tr>\n",
       "    <tr>\n",
       "      <th>RB</th>\n",
       "      <th>back</th>\n",
       "      <td>227</td>\n",
       "    </tr>\n",
       "    <tr>\n",
       "      <th rowspan=\"2\" valign=\"top\">JJ</th>\n",
       "      <th>little</th>\n",
       "      <td>211</td>\n",
       "    </tr>\n",
       "    <tr>\n",
       "      <th>thin</th>\n",
       "      <td>183</td>\n",
       "    </tr>\n",
       "    <tr>\n",
       "      <th rowspan=\"3\" valign=\"top\">RB</th>\n",
       "      <th>also</th>\n",
       "      <td>174</td>\n",
       "    </tr>\n",
       "    <tr>\n",
       "      <th>really</th>\n",
       "      <td>171</td>\n",
       "    </tr>\n",
       "    <tr>\n",
       "      <th>even</th>\n",
       "      <td>170</td>\n",
       "    </tr>\n",
       "    <tr>\n",
       "      <th rowspan=\"2\" valign=\"top\">JJ</th>\n",
       "      <th>tight</th>\n",
       "      <td>147</td>\n",
       "    </tr>\n",
       "    <tr>\n",
       "      <th>short</th>\n",
       "      <td>145</td>\n",
       "    </tr>\n",
       "    <tr>\n",
       "      <th>RB</th>\n",
       "      <th>usually</th>\n",
       "      <td>124</td>\n",
       "    </tr>\n",
       "    <tr>\n",
       "      <th>JJR</th>\n",
       "      <th>smaller</th>\n",
       "      <td>36</td>\n",
       "    </tr>\n",
       "    <tr>\n",
       "      <th>JJS</th>\n",
       "      <th>least</th>\n",
       "      <td>36</td>\n",
       "    </tr>\n",
       "    <tr>\n",
       "      <th rowspan=\"3\" valign=\"top\">JJR</th>\n",
       "      <th>shorter</th>\n",
       "      <td>35</td>\n",
       "    </tr>\n",
       "    <tr>\n",
       "      <th>better</th>\n",
       "      <td>30</td>\n",
       "    </tr>\n",
       "    <tr>\n",
       "      <th>larger</th>\n",
       "      <td>29</td>\n",
       "    </tr>\n",
       "    <tr>\n",
       "      <th>JJS</th>\n",
       "      <th>worst</th>\n",
       "      <td>23</td>\n",
       "    </tr>\n",
       "    <tr>\n",
       "      <th>JJR</th>\n",
       "      <th>bigger</th>\n",
       "      <td>19</td>\n",
       "    </tr>\n",
       "    <tr>\n",
       "      <th>JJS</th>\n",
       "      <th>longest</th>\n",
       "      <td>2</td>\n",
       "    </tr>\n",
       "    <tr>\n",
       "      <th>RBR</th>\n",
       "      <th>faster</th>\n",
       "      <td>2</td>\n",
       "    </tr>\n",
       "    <tr>\n",
       "      <th rowspan=\"2\" valign=\"top\">JJS</th>\n",
       "      <th>cutest</th>\n",
       "      <td>2</td>\n",
       "    </tr>\n",
       "    <tr>\n",
       "      <th>strangest</th>\n",
       "      <td>1</td>\n",
       "    </tr>\n",
       "  </tbody>\n",
       "</table>\n",
       "</div>"
      ],
      "text/plain": [
       "               count\n",
       "P1  Word            \n",
       "JJ  small        476\n",
       "RB  back         227\n",
       "JJ  little       211\n",
       "    thin         183\n",
       "RB  also         174\n",
       "    really       171\n",
       "    even         170\n",
       "JJ  tight        147\n",
       "    short        145\n",
       "RB  usually      124\n",
       "JJR smaller       36\n",
       "JJS least         36\n",
       "JJR shorter       35\n",
       "    better        30\n",
       "    larger        29\n",
       "JJS worst         23\n",
       "JJR bigger        19\n",
       "JJS longest        2\n",
       "RBR faster         2\n",
       "JJS cutest         2\n",
       "    strangest      1"
      ]
     },
     "execution_count": 50,
     "metadata": {},
     "output_type": "execute_result"
    }
   ],
   "source": [
    "# Build the Dataframe via the Function\n",
    "df_all_words_neg = build_pos(df_neg['Text_Tok'])\n",
    "\n",
    "# Get the top words\n",
    "get_top_mods(df_all_words_neg)"
   ]
  },
  {
   "cell_type": "markdown",
   "id": "cutting-trade",
   "metadata": {},
   "source": [
    "**Notes**:\n",
    "\n",
    "Above are the most frequently occurring positive and negative words per Adjective and Adverb.  \n",
    "\n",
    "1. **Positive**: Top words are `top`, `great`, `perfect`, `really`, and `pretty`\n",
    "1. **Negative**: Top words are `small`, `little`, `thin`, `tight`, and `short`\n",
    "\n",
    "None of the positive words are surprising, but with the negative words, there appears to be a **sizing issue** where products are smaller or larger than people expect vs. the sizes claimed. "
   ]
  },
  {
   "cell_type": "markdown",
   "id": "aging-absence",
   "metadata": {},
   "source": [
    "# Sentiment Based Prediction Model:\n",
    "\n",
    "Next, we'll create a Supervised ML model to predict whether a customer will recommend a product based on the text from the review and the sentiment of that text, and the length of the review.\n",
    "\n",
    "To create our model, we will be mixing both text and numeric values.  There are multiple ways to accomplish this, but we will be using a `ColumnTransformer` in a Pipeline[2]."
   ]
  },
  {
   "cell_type": "markdown",
   "id": "another-darwin",
   "metadata": {},
   "source": [
    "## Model Selection\n",
    "During this section, we will use the ColumnTransformer to perform all of the pre-processing steps.  A `FeatureUnion` could also be used but isn't required since we're not transforming the entire numeric data with a PCA process [2].\n",
    "\n",
    ">*FeatureUnion applies different transformers to the whole of the input data and then combines the results by concatenating them.*  \n",
    ">*ColumnTransformer, on the other hand, applies different transformers to different subsets of the whole input data, and again concatenates the results.*"
   ]
  },
  {
   "cell_type": "code",
   "execution_count": 51,
   "id": "legendary-parcel",
   "metadata": {},
   "outputs": [],
   "source": [
    "X = df[['Text', 'sentiment', 'text_len']]\n",
    "y = df['sentiment_label']"
   ]
  },
  {
   "cell_type": "code",
   "execution_count": 52,
   "id": "disciplinary-detector",
   "metadata": {},
   "outputs": [
    {
     "name": "stdout",
     "output_type": "stream",
     "text": [
      "(22626, 3)\n",
      "(22626,)\n"
     ]
    }
   ],
   "source": [
    "print(X.shape)\n",
    "print(y.shape)"
   ]
  },
  {
   "cell_type": "code",
   "execution_count": 53,
   "id": "mechanical-bermuda",
   "metadata": {},
   "outputs": [],
   "source": [
    "def col_trans():\n",
    "    column_trans = ColumnTransformer(\n",
    "            [('Text', TfidfVectorizer(stop_words='english'), 'Text'),\n",
    "             ('Text Length', MinMaxScaler(), ['text_len']),\n",
    "             ('Sentiment', MinMaxScaler(), ['sentiment'])],\n",
    "            remainder='drop') \n",
    "    \n",
    "    return column_trans"
   ]
  },
  {
   "cell_type": "code",
   "execution_count": 54,
   "id": "incident-holiday",
   "metadata": {},
   "outputs": [],
   "source": [
    "def create_pipe(clf):\n",
    "    '''Create a pipeline for a given classifier.  The classifier needs to be an instance\n",
    "    of the classifier with all parmeters needed specified.'''\n",
    "    \n",
    "    # Each pipeline uses the same column transformer.  \n",
    "    column_trans = col_trans()\n",
    "    \n",
    "    pipeline = Pipeline([('prep',column_trans),\n",
    "                         ('over', SMOTE(random_state=42)),\n",
    "                         ('under', RandomUnderSampler(random_state=42)),\n",
    "                         ('clf', clf)])\n",
    "     \n",
    "    return pipeline"
   ]
  },
  {
   "cell_type": "code",
   "execution_count": 55,
   "id": "apparent-silly",
   "metadata": {},
   "outputs": [
    {
     "name": "stdout",
     "output_type": "stream",
     "text": [
      "ComplementNB : Mean f1 Macro: 0.642 and Standard Deviation: (0.015)\n",
      "SVC : Mean f1 Macro: 0.920 and Standard Deviation: (0.014)\n",
      "LogReg : Mean f1 Macro: 0.895 and Standard Deviation: (0.014)\n",
      "RandomForest : Mean f1 Macro: 0.899 and Standard Deviation: (0.028)\n"
     ]
    }
   ],
   "source": [
    "models = {'ComplementNB' : ComplementNB(),\n",
    "          'SVC' : SVC(class_weight='balanced', random_state=42),\n",
    "          'LogReg' : LogisticRegression(random_state=42, class_weight='balanced', max_iter=500),\n",
    "          'RandomForest' : RandomForestClassifier(class_weight='balanced', random_state=42)}\n",
    "\n",
    "for name, model, in models.items():\n",
    "    clf = model\n",
    "    pipeline = create_pipe(clf)\n",
    "    cv = RepeatedStratifiedKFold(n_splits=10, n_repeats=3, random_state=1)\n",
    "    scores = cross_val_score(pipeline, X, y, scoring='f1_macro', cv=cv, n_jobs=-1, error_score='raise')\n",
    "    print(name, ': Mean f1 Macro: %.3f and Standard Deviation: (%.3f)' % (np.mean(scores), np.std(scores)))"
   ]
  },
  {
   "cell_type": "markdown",
   "id": "constant-bulgarian",
   "metadata": {},
   "source": [
    "**Observations**:\n",
    "\n",
    "The **Support Vector Machine** Classifier performed the best with the **Random Forest** and **Logistic Regression** behind it.  Complement Naive Bayes performed the worst. \n",
    "\n",
    "`SVC` is a fairly computationally expensive algorithm [5]; it might be advantageous to use **Logistic Regression** if performance were top priority."
   ]
  },
  {
   "cell_type": "markdown",
   "id": "average-devon",
   "metadata": {},
   "source": [
    "## Model Building"
   ]
  },
  {
   "cell_type": "code",
   "execution_count": 56,
   "id": "lined-fluid",
   "metadata": {},
   "outputs": [],
   "source": [
    "# Make training and test sets \n",
    "X_train, X_test, y_train, y_test = train_test_split(X, y, test_size=0.33, random_state=53)"
   ]
  },
  {
   "cell_type": "code",
   "execution_count": 57,
   "id": "satellite-strip",
   "metadata": {},
   "outputs": [
    {
     "name": "stdout",
     "output_type": "stream",
     "text": [
      "(15159,)\n",
      "(15159, 3)\n"
     ]
    }
   ],
   "source": [
    "print(y_train.shape)\n",
    "print(X_train.shape)"
   ]
  },
  {
   "cell_type": "code",
   "execution_count": 58,
   "id": "unavailable-clearance",
   "metadata": {},
   "outputs": [],
   "source": [
    "def get_params(parameters, X, y, pipeline):\n",
    "    ''' implements a the GridSearch Cross validation for a given model and set of parameters'''\n",
    "    \n",
    "    cv = RepeatedStratifiedKFold(n_splits=3, n_repeats=3, random_state=1)\n",
    "    grid = GridSearchCV(pipeline, parameters, scoring='f1_macro', n_jobs=-1, cv=cv, error_score='raise')\n",
    "    grid.fit(X, y)\n",
    "\n",
    "    return grid"
   ]
  },
  {
   "cell_type": "code",
   "execution_count": 59,
   "id": "sized-nightlife",
   "metadata": {},
   "outputs": [
    {
     "name": "stdout",
     "output_type": "stream",
     "text": [
      "Best cross-validation accuracy: 0.917\n",
      "Test set score: 0.915\n",
      "Best parameters: {'clf__C': 1.05, 'clf__class_weight': 'balanced', 'clf__gamma': 0.1}\n"
     ]
    }
   ],
   "source": [
    "parameters = [{'clf__C': np.linspace(.1, 2 ,5), \n",
    "               'clf__gamma': [.01, .1, .5], \n",
    "               'clf__class_weight' : ['balanced']}]\n",
    "\n",
    "clf = SVC()\n",
    "pipeline = create_pipe(clf)\n",
    "grid = get_params(parameters, X_train, y_train, pipeline)\n",
    "\n",
    "print(\"Best cross-validation accuracy: {:.3f}\".format(grid.best_score_))\n",
    "print(\"Test set score: {:.3f}\".format(grid.score(X_test, y_test))) \n",
    "print(\"Best parameters: {}\".format(grid.best_params_))\n",
    "\n",
    "svc_C = grid.best_params_['clf__C']\n",
    "svc_gamma = grid.best_params_['clf__gamma']"
   ]
  },
  {
   "cell_type": "markdown",
   "id": "fossil-canberra",
   "metadata": {},
   "source": [
    "## Model Validation"
   ]
  },
  {
   "cell_type": "code",
   "execution_count": 60,
   "id": "conservative-spank",
   "metadata": {},
   "outputs": [],
   "source": [
    "def plot_confusion_matrix(cm, classes,\n",
    "                          normalize=False,\n",
    "                          title='Confusion matrix',\n",
    "                          cmap=plt.cm.Blues):\n",
    "    \"\"\"\n",
    "    See full source and example: \n",
    "    http://scikit-learn.org/stable/auto_examples/model_selection/plot_confusion_matrix.html\n",
    "    \n",
    "    This function prints and plots the confusion matrix.\n",
    "    Normalization can be applied by setting `normalize=True`.\n",
    "    \"\"\"\n",
    "    plt.imshow(cm, interpolation='nearest', cmap=cmap)\n",
    "    plt.title(title)\n",
    "    plt.colorbar()\n",
    "    tick_marks = np.arange(len(classes))\n",
    "    plt.xticks(tick_marks, classes, rotation=45)\n",
    "    plt.yticks(tick_marks, classes)\n",
    "\n",
    "    if normalize:\n",
    "        cm = cm.astype('float') / cm.sum(axis=1)[:, np.newaxis]\n",
    "        print(\"Normalized confusion matrix\")\n",
    "    else:\n",
    "        print('Confusion matrix, without normalization')\n",
    "\n",
    "    thresh = cm.max() / 2.\n",
    "    for i, j in itertools.product(range(cm.shape[0]), range(cm.shape[1])):\n",
    "        plt.text(j, i, cm[i, j],\n",
    "                 horizontalalignment=\"center\",\n",
    "                 color=\"white\" if cm[i, j] > thresh else \"black\")\n",
    "\n",
    "    plt.tight_layout()\n",
    "    plt.ylabel('True label')\n",
    "    plt.xlabel('predicted label')"
   ]
  },
  {
   "cell_type": "code",
   "execution_count": 61,
   "id": "delayed-claim",
   "metadata": {},
   "outputs": [],
   "source": [
    "def fit_and_print(pipeline, name):\n",
    "    ''' take a supplied pipeline and run it against the train-test spit \n",
    "    and product scoring results.'''\n",
    "    \n",
    "    pipeline.fit(X_train, y_train)\n",
    "    y_pred = pipeline.predict(X_test)\n",
    "    score = metrics.f1_score(y_test, y_pred, average='macro')\n",
    "\n",
    "    print(metrics.classification_report(y_test, y_pred, digits=3))\n",
    "\n",
    "    cm = metrics.confusion_matrix(y_test, y_pred, labels=[0,1])\n",
    "    plot_confusion_matrix(cm, classes=[0,1])"
   ]
  },
  {
   "cell_type": "code",
   "execution_count": 62,
   "id": "younger-shirt",
   "metadata": {},
   "outputs": [
    {
     "name": "stdout",
     "output_type": "stream",
     "text": [
      "              precision    recall  f1-score   support\n",
      "\n",
      "           0      0.766     0.928     0.839       359\n",
      "           1      0.996     0.986     0.991      7108\n",
      "\n",
      "    accuracy                          0.983      7467\n",
      "   macro avg      0.881     0.957     0.915      7467\n",
      "weighted avg      0.985     0.983     0.984      7467\n",
      "\n",
      "Confusion matrix, without normalization\n"
     ]
    },
    {
     "data": {
      "image/png": "[encoded data removed]",
      "text/plain": [
       "<Figure size 432x288 with 2 Axes>"
      ]
     },
     "metadata": {
      "needs_background": "light"
     },
     "output_type": "display_data"
    }
   ],
   "source": [
    "clf = SVC(C=svc_C, gamma=svc_gamma, class_weight='balanced', random_state=42)\n",
    "pipeline = create_pipe(clf)\n",
    "fit_and_print(pipeline, 'SVC')"
   ]
  },
  {
   "cell_type": "markdown",
   "id": "rubber-learning",
   "metadata": {},
   "source": [
    "**Observations**:\n",
    "\n",
    "This model performed extremely well across our dataset with an `f1 macro` score of `0.915`.  The dataset has imbalanced, which was corrected for SMOTE (Over Sampling combined with Undersampling).  The result was a very strong predictor model based on `text`, `sentiment`, and `text_len`.\n",
    "\n",
    "**Synthetic Minority Oversampling Technique** uses a nearest-neighbor approach for generating new minority class samples.  The method is applied only to the training data and then tested on the original, untouched test partition.  The method chosen here is first to oversample the minority class making it balanced, and then undersample it to reduce the size.  This helps bring balance without bloating the dataset [4]."
   ]
  },
  {
   "cell_type": "markdown",
   "id": "rubber-whole",
   "metadata": {},
   "source": [
    "## Test on Custom Data"
   ]
  },
  {
   "cell_type": "code",
   "execution_count": 63,
   "id": "informed-tuner",
   "metadata": {},
   "outputs": [],
   "source": [
    "def create_test_data(x):\n",
    "    '''calculate the numbers needed to run on custom data including sentiment and text length,\n",
    "    this is a farily simple process using the fuctions from previous transformations.'''\n",
    "    \n",
    "    x = process_string(x)\n",
    "    sent = get_sentiment(x)\n",
    "    length = len(x)\n",
    "    \n",
    "    d = {'Text' : x,\n",
    "         'sentiment' : sent,\n",
    "        'text_len' : length}\n",
    "\n",
    "    df = pd.DataFrame(d, index=[0])\n",
    "    \n",
    "    return df"
   ]
  },
  {
   "cell_type": "code",
   "execution_count": 64,
   "id": "negative-humidity",
   "metadata": {},
   "outputs": [],
   "source": [
    "revs = ['This dress is gorgeous and I love it and would gladly reccomend it to all of my friends.',\n",
    "        'This skirt has really horible quality and I hate it!',\n",
    "        'A super cute top with the perfect fit.',\n",
    "        'The most gorgeous pair of jeans I have seen.',\n",
    "        'this item is too little and tight.']"
   ]
  },
  {
   "cell_type": "code",
   "execution_count": 65,
   "id": "blank-ready",
   "metadata": {},
   "outputs": [
    {
     "name": "stdout",
     "output_type": "stream",
     "text": [
      "The classifier will return 1 for Positive reviews and 0 for Negative reviews: \n",
      "\n",
      "This dress is gorgeous and I love it and would gladly reccomend it to all of my friends. = [1]\n",
      "This skirt has really horible quality and I hate it! = [0]\n",
      "A super cute top with the perfect fit. = [1]\n",
      "The most gorgeous pair of jeans I have seen. = [1]\n",
      "this item is too little and tight. = [0]\n"
     ]
    }
   ],
   "source": [
    "print('The classifier will return 1 for Positive reviews and 0 for Negative reviews:','\\n')\n",
    "for rev in revs:\n",
    "    c_res = pipeline.predict(create_test_data(rev))\n",
    "    print(rev, '=', c_res)"
   ]
  },
  {
   "cell_type": "markdown",
   "id": "attempted-essence",
   "metadata": {},
   "source": [
    "**Notes**:\n",
    "\n",
    "Based on our custom strings, each one produced **Correct** classifications with our model."
   ]
  },
  {
   "cell_type": "markdown",
   "id": "caring-delivery",
   "metadata": {},
   "source": [
    "# Text Classification for Departments\n",
    "\n",
    "Next, we'll attempt to create a Supervised Machine Learning model to classify products by Department.  This process looks at the text that a user wrote in a review and determined its Department.\n",
    "\n",
    "An interesting opportunity is to use this information to **cross-sell** or **cross-list** products.  If there is a strong enough probability that an item could be in multiple departments from our analysis, could we **increase sales** with cross-marketing?"
   ]
  },
  {
   "cell_type": "markdown",
   "id": "greater-audio",
   "metadata": {},
   "source": [
    "## Model Selection"
   ]
  },
  {
   "cell_type": "code",
   "execution_count": 66,
   "id": "overhead-ordinary",
   "metadata": {},
   "outputs": [],
   "source": [
    "# Tokenize the words\n",
    "df['Department Name'] = df['Department Name'].apply(word_tokenize)"
   ]
  },
  {
   "cell_type": "code",
   "execution_count": 67,
   "id": "broad-information",
   "metadata": {},
   "outputs": [],
   "source": [
    "X = df[['Text', 'Department Name']]\n",
    "y = df['Department Name']"
   ]
  },
  {
   "cell_type": "code",
   "execution_count": 68,
   "id": "convenient-significance",
   "metadata": {},
   "outputs": [],
   "source": [
    "mlb = MultiLabelBinarizer()\n",
    "y = mlb.fit_transform(y)"
   ]
  },
  {
   "cell_type": "code",
   "execution_count": 69,
   "id": "controlling-headquarters",
   "metadata": {},
   "outputs": [
    {
     "name": "stdout",
     "output_type": "stream",
     "text": [
      "(22626, 2)\n",
      "(22626, 6)\n",
      "['Bottoms' 'Dresses' 'Intimate' 'Jackets' 'Tops' 'Trend']\n"
     ]
    }
   ],
   "source": [
    "print(X.shape)\n",
    "print(y.shape)\n",
    "print(mlb.classes_)"
   ]
  },
  {
   "cell_type": "code",
   "execution_count": 70,
   "id": "pediatric-reference",
   "metadata": {},
   "outputs": [],
   "source": [
    "def col_trans():\n",
    "    column_trans = ColumnTransformer(\n",
    "            [('Text', TfidfVectorizer(stop_words='english'), 'Text')],\n",
    "            remainder='drop') \n",
    "    \n",
    "    return column_trans"
   ]
  },
  {
   "cell_type": "code",
   "execution_count": 71,
   "id": "indirect-exclusion",
   "metadata": {},
   "outputs": [],
   "source": [
    "def create_pipe(clf):\n",
    "    '''Create a pipeline for a given classifier.  The classifier needs to be an instance\n",
    "    of the classifier with all parmeters needed specified.'''\n",
    "    \n",
    "    # Each pipeline uses the same column transformer.  \n",
    "    column_trans = col_trans()\n",
    "    \n",
    "    pipeline = Pipeline([('prep',column_trans), \n",
    "                         ('over', SMOTE(random_state=42)),\n",
    "                         ('under', RandomUnderSampler(random_state=42)),\n",
    "                         ('clf', clf)])\n",
    "     \n",
    "    return pipeline"
   ]
  },
  {
   "cell_type": "code",
   "execution_count": 72,
   "id": "stuffed-assessment",
   "metadata": {},
   "outputs": [
    {
     "name": "stdout",
     "output_type": "stream",
     "text": [
      "SVC : Mean f1 Macro: 0.590 and Standard Deviation: (0.013)\n",
      "RF : Mean f1 Macro: 0.450 and Standard Deviation: (0.011)\n",
      "LogReg : Mean f1 Macro: 0.582 and Standard Deviation: (0.010)\n",
      "Bayes : Mean f1 Macro: 0.207 and Standard Deviation: (0.008)\n"
     ]
    }
   ],
   "source": [
    "models = {'SVC' : OneVsRestClassifier(SVC(kernel='linear'), n_jobs=-1),\n",
    "          'RF' : OneVsRestClassifier(RandomForestClassifier(), n_jobs=-1),\n",
    "          'LogReg' : OneVsRestClassifier(LogisticRegression(), n_jobs=-1),\n",
    "          'Bayes' : OneVsRestClassifier(MultinomialNB(), n_jobs=-1)}\n",
    "\n",
    "for name, model, in models.items():\n",
    "    clf = model\n",
    "    pipeline = create_pipe(clf)\n",
    "    scores = cross_val_score(pipeline, X, y, scoring='f1_macro', cv=3, n_jobs=-1, error_score='raise')\n",
    "    print(name, ': Mean f1 Macro: %.3f and Standard Deviation: (%.3f)' % (np.mean(scores), np.std(scores)))"
   ]
  },
  {
   "cell_type": "markdown",
   "id": "trying-forty",
   "metadata": {},
   "source": [
    "**Notes**:\n",
    "\n",
    "Again the `SVC` classifier performed the best with `LogisticRegression` coming out second best.   `MultinomialNB` perfrormed the worst out of these."
   ]
  },
  {
   "cell_type": "markdown",
   "id": "musical-contrast",
   "metadata": {},
   "source": [
    "## Model Building & Validation"
   ]
  },
  {
   "cell_type": "code",
   "execution_count": 73,
   "id": "eight-insider",
   "metadata": {},
   "outputs": [],
   "source": [
    "# Make training and test sets \n",
    "X_train, X_test, y_train, y_test = train_test_split(X, y, test_size=0.33, random_state=1)"
   ]
  },
  {
   "cell_type": "code",
   "execution_count": 74,
   "id": "suited-phone",
   "metadata": {},
   "outputs": [
    {
     "name": "stdout",
     "output_type": "stream",
     "text": [
      "(15159, 6)\n",
      "(15159, 2)\n"
     ]
    }
   ],
   "source": [
    "print(y_train.shape)\n",
    "print(X_train.shape)"
   ]
  },
  {
   "cell_type": "code",
   "execution_count": 75,
   "id": "swiss-indianapolis",
   "metadata": {},
   "outputs": [
    {
     "name": "stdout",
     "output_type": "stream",
     "text": [
      "              precision    recall  f1-score   support\n",
      "\n",
      "           0      0.707     0.842     0.768      1175\n",
      "           1      0.823     0.894     0.857      2068\n",
      "           2      0.309     0.663     0.422       523\n",
      "           3      0.490     0.700     0.576       340\n",
      "           4      0.802     0.893     0.845      3323\n",
      "           5      0.083     0.026     0.040        38\n",
      "\n",
      "   micro avg      0.713     0.856     0.778      7467\n",
      "   macro avg      0.536     0.670     0.585      7467\n",
      "weighted avg      0.740     0.856     0.790      7467\n",
      " samples avg      0.752     0.856     0.786      7467\n",
      "\n"
     ]
    }
   ],
   "source": [
    "# Note: Optimization was performed prior to Hyperparemeter selection\n",
    "clf = OneVsRestClassifier(SVC(C=.5, gamma=.1, kernel='linear', \n",
    "                              class_weight='balanced', random_state=42))\n",
    "pipeline = create_pipe(clf)\n",
    "\n",
    "pipeline.fit(X_train, y_train)\n",
    "y_pred = pipeline.predict(X_test)\n",
    "score = metrics.f1_score(y_test, y_pred, average='macro')\n",
    "\n",
    "print(metrics.classification_report(y_test, y_pred, digits=3))"
   ]
  },
  {
   "cell_type": "markdown",
   "id": "final-imaging",
   "metadata": {},
   "source": [
    "**Observations**:\n",
    "\n",
    " - There are very few observations in the `5` class overall in the dataset.  You can see in the support column for this class only `38` samples are present.  Through synthetic oversampling (SMOTE), we could get a small precision and recall score, but it's difficult without more observations.\n",
    " - The `2` and `3` classes are also smaller and therefore do not have as high an `f1` score.\n",
    " - The remainder of the classes are all performing very well.  \n",
    " - The `f1 macro` score is `~.6`, which normally is not considered a good score, but in the case of multi-value classification, it doesn't necessarily mean it's a poor-performing model.  We can test this thorough inspection of the actual predictions."
   ]
  },
  {
   "cell_type": "code",
   "execution_count": 76,
   "id": "endless-publisher",
   "metadata": {},
   "outputs": [],
   "source": [
    "# Retreive the text lables from the MultiLabelBinarizer\n",
    "pred_labels = mlb.inverse_transform(y_pred)\n",
    "\n",
    "# Append them to the DataFrame\n",
    "X_test['Predicted Labels'] = pred_labels"
   ]
  },
  {
   "cell_type": "code",
   "execution_count": 77,
   "id": "pointed-singing",
   "metadata": {},
   "outputs": [
    {
     "data": {
      "text/html": [
       "<div>\n",
       "<style scoped>\n",
       "    .dataframe tbody tr th:only-of-type {\n",
       "        vertical-align: middle;\n",
       "    }\n",
       "\n",
       "    .dataframe tbody tr th {\n",
       "        vertical-align: top;\n",
       "    }\n",
       "\n",
       "    .dataframe thead th {\n",
       "        text-align: right;\n",
       "    }\n",
       "</style>\n",
       "<table border=\"1\" class=\"dataframe\">\n",
       "  <thead>\n",
       "    <tr style=\"text-align: right;\">\n",
       "      <th></th>\n",
       "      <th>Text</th>\n",
       "      <th>Department Name</th>\n",
       "      <th>Predicted Labels</th>\n",
       "    </tr>\n",
       "  </thead>\n",
       "  <tbody>\n",
       "    <tr>\n",
       "      <th>12739</th>\n",
       "      <td>Perfect denim dress Strapless dresses can be so flattering so when i saw this on retailer i had to order it! this dress did not disappoint. for reference i ordered a size 4 and i am 5'5\", 135 lbs, 34b chest. in the chest area it fits perfectly, while the ribcage area is a little snug, but not uncomfortably so. the pockets are great. the denim quality is great. and i like the frayed bottom of dress. i got compliments straight away on the beauty of the dress from two men. which i thought was quite interesting because i</td>\n",
       "      <td>[Dresses]</td>\n",
       "      <td>(Dresses,)</td>\n",
       "    </tr>\n",
       "    <tr>\n",
       "      <th>8442</th>\n",
       "      <td>Reminds me of my mamaw I got these in the mail today and to me, they look exactly like the pants my mamaw used to wear in the 80s. they were super comfy but not cute at all on me. they do run large like other reviews say. i am usually an 8/10 or med and these in the small were the right choice. going back because they just look horrible on me though</td>\n",
       "      <td>[Bottoms]</td>\n",
       "      <td>(Bottoms,)</td>\n",
       "    </tr>\n",
       "    <tr>\n",
       "      <th>12643</th>\n",
       "      <td>Pilcro faux fur denim jacket Denim, faux fur, flannel... hooray! i absolutely love this jacket and i'll wear it all winter (even under my warmer winter coat). i'm 5'6\"/130 and usually a 2-4 in retailer and the small in this coat was plenty big in the waist/chest and even had room underneath to add a second shirt or light sweater. it seems a little shorter on me than in the photo... maybe that's the only drawback.</td>\n",
       "      <td>[Jackets]</td>\n",
       "      <td>(Jackets,)</td>\n",
       "    </tr>\n",
       "    <tr>\n",
       "      <th>4451</th>\n",
       "      <td>This is cute! i've been so looking forward to it, but it's big!! i'm usually a small in retailer size, medium most of the time otherwise. i ordered the medium, but it's way too big. doesn't fit at all like the pictures. sadly, it's going back, hopefully for a much smaller size. but other than this, it's lovely</td>\n",
       "      <td>[Tops]</td>\n",
       "      <td>()</td>\n",
       "    </tr>\n",
       "    <tr>\n",
       "      <th>1023</th>\n",
       "      <td>Cozy, flattering, and practical At first, i thought this sweater might be too boxy, but fastened at the waist, it's very flattering and the collar is face-framing, and the coral in particular (really more of a mango sorbet shade) is unexpected but cheery for winter.\\n\\nbut the big selling point is the warmth and the giant pockets. brought a new puppy home just after christmas, and this sweater is perfect for layering for late- night trips out with an easy place to stash my phone and treats. bought it in coral and pink.</td>\n",
       "      <td>[Tops]</td>\n",
       "      <td>(Intimate, Tops)</td>\n",
       "    </tr>\n",
       "    <tr>\n",
       "      <th>18632</th>\n",
       "      <td>Purple motif I like the look and fit of this shirt. can be dressed up or more casual. i got the purple motif, although i also like the brown and think that with all of the black in there (on the brown one) it would give a dressier look. i usually wear small from retailer, although this is my first blouse from this brand -- ended up getting an xs regular. i wanted the sleeves to fit at 3/4 as shown in the pics, but still be loose. i had a ton of extra room in the small, and the sleeves hit at wrist bone</td>\n",
       "      <td>[Tops]</td>\n",
       "      <td>(Tops,)</td>\n",
       "    </tr>\n",
       "    <tr>\n",
       "      <th>6109</th>\n",
       "      <td>Hard one to review I had a really, really difficult time reviewing this dress. the instant i touched it, i wanted to love it! in theory, it should have worked for me. fit and flare is usually a really great option for my pear shape. the silhouette shows off my thinner upper body and camouflages my thicker lower body. best of both worlds! however, as you can see for yourself in the photo, this dress makes me look pretty big. i'm a solid size 8 and i feel this dress makes me look like a 12. it really makes my middle</td>\n",
       "      <td>[Dresses]</td>\n",
       "      <td>(Dresses,)</td>\n",
       "    </tr>\n",
       "    <tr>\n",
       "      <th>6930</th>\n",
       "      <td>Unique white top Although it kind of ran big and the material is stiff causing some protrusion off my shoulders, i decided to keep it only because it was unique and still looked cute</td>\n",
       "      <td>[Tops]</td>\n",
       "      <td>(Tops,)</td>\n",
       "    </tr>\n",
       "    <tr>\n",
       "      <th>10302</th>\n",
       "      <td>Light and sweet Online this jacket is supposedly an online exclusive, but i saw it in green at my local store. i had to try it on and i loved it. it does swing but is not to much fabric. the drape is really nice it is shorter in the front and longer in the back. it sort of shows that on the model but is much more noticeable in person. this jacket is not lined and i would say more of a shirt. this is perfect for spring or cooler summer nights or over a tank or short sleeve in the winter. i also love lyocell it j</td>\n",
       "      <td>[Jackets]</td>\n",
       "      <td>(Jackets, Tops)</td>\n",
       "    </tr>\n",
       "    <tr>\n",
       "      <th>965</th>\n",
       "      <td>This skirt is not what i was expecting at all. for starters it runs large, i expected it to sit at the natural waist and it is definitely made to do so, but it was a good two inches too big and therefore wouldn't lay flat and gaped at the front. no bueno. my biggest gripe, though, is that the color looks nothing like it does in the picture. they have it paired with an ivory top and the two look like they match so well but do not be fooled, the background color of this skirt is not even close to</td>\n",
       "      <td>[Trend]</td>\n",
       "      <td>(Bottoms,)</td>\n",
       "    </tr>\n",
       "  </tbody>\n",
       "</table>\n",
       "</div>"
      ],
      "text/plain": [
       "                                                                                                                                                                                                                                                                                                                                                                                                                                                                                                                                               Text  \\\n",
       "12739  Perfect denim dress Strapless dresses can be so flattering so when i saw this on retailer i had to order it! this dress did not disappoint. for reference i ordered a size 4 and i am 5'5\", 135 lbs, 34b chest. in the chest area it fits perfectly, while the ribcage area is a little snug, but not uncomfortably so. the pockets are great. the denim quality is great. and i like the frayed bottom of dress. i got compliments straight away on the beauty of the dress from two men. which i thought was quite interesting because i     \n",
       "8442   Reminds me of my mamaw I got these in the mail today and to me, they look exactly like the pants my mamaw used to wear in the 80s. they were super comfy but not cute at all on me. they do run large like other reviews say. i am usually an 8/10 or med and these in the small were the right choice. going back because they just look horrible on me though                                                                                                                                                                                \n",
       "12643  Pilcro faux fur denim jacket Denim, faux fur, flannel... hooray! i absolutely love this jacket and i'll wear it all winter (even under my warmer winter coat). i'm 5'6\"/130 and usually a 2-4 in retailer and the small in this coat was plenty big in the waist/chest and even had room underneath to add a second shirt or light sweater. it seems a little shorter on me than in the photo... maybe that's the only drawback.                                                                                                               \n",
       "4451    This is cute! i've been so looking forward to it, but it's big!! i'm usually a small in retailer size, medium most of the time otherwise. i ordered the medium, but it's way too big. doesn't fit at all like the pictures. sadly, it's going back, hopefully for a much smaller size. but other than this, it's lovely                                                                                                                                                                                                                       \n",
       "1023   Cozy, flattering, and practical At first, i thought this sweater might be too boxy, but fastened at the waist, it's very flattering and the collar is face-framing, and the coral in particular (really more of a mango sorbet shade) is unexpected but cheery for winter.\\n\\nbut the big selling point is the warmth and the giant pockets. brought a new puppy home just after christmas, and this sweater is perfect for layering for late- night trips out with an easy place to stash my phone and treats. bought it in coral and pink.   \n",
       "18632  Purple motif I like the look and fit of this shirt. can be dressed up or more casual. i got the purple motif, although i also like the brown and think that with all of the black in there (on the brown one) it would give a dressier look. i usually wear small from retailer, although this is my first blouse from this brand -- ended up getting an xs regular. i wanted the sleeves to fit at 3/4 as shown in the pics, but still be loose. i had a ton of extra room in the small, and the sleeves hit at wrist bone                    \n",
       "6109   Hard one to review I had a really, really difficult time reviewing this dress. the instant i touched it, i wanted to love it! in theory, it should have worked for me. fit and flare is usually a really great option for my pear shape. the silhouette shows off my thinner upper body and camouflages my thicker lower body. best of both worlds! however, as you can see for yourself in the photo, this dress makes me look pretty big. i'm a solid size 8 and i feel this dress makes me look like a 12. it really makes my middle        \n",
       "6930   Unique white top Although it kind of ran big and the material is stiff causing some protrusion off my shoulders, i decided to keep it only because it was unique and still looked cute                                                                                                                                                                                                                                                                                                                                                         \n",
       "10302  Light and sweet Online this jacket is supposedly an online exclusive, but i saw it in green at my local store. i had to try it on and i loved it. it does swing but is not to much fabric. the drape is really nice it is shorter in the front and longer in the back. it sort of shows that on the model but is much more noticeable in person. this jacket is not lined and i would say more of a shirt. this is perfect for spring or cooler summer nights or over a tank or short sleeve in the winter. i also love lyocell it j           \n",
       "965     This skirt is not what i was expecting at all. for starters it runs large, i expected it to sit at the natural waist and it is definitely made to do so, but it was a good two inches too big and therefore wouldn't lay flat and gaped at the front. no bueno. my biggest gripe, though, is that the color looks nothing like it does in the picture. they have it paired with an ivory top and the two look like they match so well but do not be fooled, the background color of this skirt is not even close to                           \n",
       "\n",
       "      Department Name  Predicted Labels  \n",
       "12739  [Dresses]       (Dresses,)        \n",
       "8442   [Bottoms]       (Bottoms,)        \n",
       "12643  [Jackets]       (Jackets,)        \n",
       "4451   [Tops]          ()                \n",
       "1023   [Tops]          (Intimate, Tops)  \n",
       "18632  [Tops]          (Tops,)           \n",
       "6109   [Dresses]       (Dresses,)        \n",
       "6930   [Tops]          (Tops,)           \n",
       "10302  [Jackets]       (Jackets, Tops)   \n",
       "965    [Trend]         (Bottoms,)        "
      ]
     },
     "execution_count": 77,
     "metadata": {},
     "output_type": "execute_result"
    }
   ],
   "source": [
    "# Display a random sample of them\n",
    "pd.set_option('display.max_colwidth', -1)\n",
    "X_test.sample(10, random_state=60)"
   ]
  },
  {
   "cell_type": "markdown",
   "id": "fantastic-ownership",
   "metadata": {},
   "source": [
    "**Observations:**\n",
    "\n",
    " - In many cases, our classifier was very accurate in determining the correct Department.  Since we used a multi-label classifier, the algorithm suggested more than one label in some cases.  Upon inspecting these, in some cases, the suggestion of an additional Department is incredibly logical.  \n",
    " - One item in the above list did not receive a predicted label.\n",
    " - Two are showing multiple classes, but in one of these cases, they make sense.  `Jackets` and `Tops`.  For the other, it's classifying it as `Intimate` and `Tops`, which probably would not apply.\n",
    " - There is one misclassified item.  The original class was `Trend`, and the predicted class is `Bottoms` for this skirt.  However, a skirt is a bottom and therefore is correct.  We also do not have many observations in the `Trend` class; therefore, it's harder to be accurate with predictions here, as we noted earlier.\n",
    " - It's possible to use these multi-label classes to investigate **cross-marketing / cross-listing** opportunities for these products.  "
   ]
  },
  {
   "cell_type": "markdown",
   "id": "coated-database",
   "metadata": {},
   "source": [
    "## Test on New Data"
   ]
  },
  {
   "cell_type": "code",
   "execution_count": 78,
   "id": "recent-senator",
   "metadata": {},
   "outputs": [],
   "source": [
    "def create_test_data(x):\n",
    "    '''create a dataframe that is in the same format as the Train and Test Data.\n",
    "    ['Bottoms' 'Dresses' 'Intimate' 'Jackets' 'Tops' 'Trend']'''\n",
    "    \n",
    "    s = process_string(x[0])\n",
    "    \n",
    "    d = {'Text' : s,\n",
    "         'Department Name' : x[1]}\n",
    "\n",
    "    df = pd.DataFrame(d, index=[0])\n",
    "    \n",
    "    return df"
   ]
  },
  {
   "cell_type": "code",
   "execution_count": 79,
   "id": "animal-metropolitan",
   "metadata": {},
   "outputs": [],
   "source": [
    "revs = [('This dress is gorgeous and would gladly reccomend it to all of my friends.', ['Dresses']),\n",
    "     ('These pants have really horible quality and I hate them!', ['Bottoms']),\n",
    "     ('A super cute blouse with a great fit.', ['Tops']),\n",
    "     ('The most gorgeous pair of jeans I have seen.', ['Bottoms']),\n",
    "     ('This bra is silky smooth material and fits perfectly.', ['Intimate'])]"
   ]
  },
  {
   "cell_type": "code",
   "execution_count": 88,
   "id": "surprised-senate",
   "metadata": {
    "scrolled": true
   },
   "outputs": [
    {
     "name": "stdout",
     "output_type": "stream",
     "text": [
      "This dress is gorgeous and would gladly reccomend it to all of my friends. \n",
      " ['Dresses'] \n",
      " [('Dresses',)] \n",
      "\n",
      "These pants have really horible quality and I hate them! \n",
      " ['Bottoms'] \n",
      " [('Bottoms',)] \n",
      "\n",
      "A super cute blouse with a great fit. \n",
      " ['Tops'] \n",
      " [('Tops',)] \n",
      "\n",
      "The most gorgeous pair of jeans I have seen. \n",
      " ['Bottoms'] \n",
      " [('Bottoms', 'Tops')] \n",
      "\n",
      "This bra is silky smooth material and fits perfectly. \n",
      " ['Intimate'] \n",
      " [('Bottoms', 'Dresses', 'Intimate')] \n",
      "\n"
     ]
    }
   ],
   "source": [
    "for rev in revs:\n",
    "    c_res = pipeline.predict(create_test_data(rev))\n",
    "    print(rev[0], '\\n', rev[1], '\\n' ,mlb.inverse_transform(c_res), '\\n')"
   ]
  },
  {
   "cell_type": "markdown",
   "id": "sunrise-third",
   "metadata": {},
   "source": [
    "**Observations**:  \n",
    "\n",
    "- The first three sample sentences do not have a problem with the classification.  They do contain keywords that are highly related to the Department names.  `Dress`, `Pants`, and `Blouse`.  \n",
    "- The fourth sentence miss-classified with a match to both `tops` and `bottoms`.\n",
    "- The fifth sentence also miss classified with getting one correct, but miss matching on `bottoms` and `dresses`."
   ]
  },
  {
   "cell_type": "markdown",
   "id": "answering-smoke",
   "metadata": {},
   "source": [
    "# Conclusion\n",
    "\n",
    "**Parts of Speech**  \n",
    "\n",
    "The most interesting takeaway from this portion of the exercise was the negative adjectives and adverbs.  These descriptors of the products help point us in a direction we might not have been previously aware.  For example, the following top words identified above:\n",
    "\n",
    " - **Positive**: Top words are `top`, `great`, `perfect`, `really`, and `pretty`\n",
    " - **Negative**: Top words are `small`, `little`, `thin`, `tight`, and `short`\n",
    "\n",
    "The negative words suggest there appears to be a **clothing size issue** where products are smaller or larger than people expect vs. the sizes claimed.  I would strongly suggest we review how clothes are labeled and potentially let customers offer a **True to Size** feedback option. \n",
    "\n",
    "**Sentiment Analysis**\n",
    "\n",
    " - Our model to predict recommendations based on sentiment was very accurate.  Using the `SVC` classifier tuned to the model, we achieved about a `0.915` accuracy in our test data set predictions.  With `91.5%` confidence, we can determine how a person will rate our products based on the reviews they write.\n",
    "\n",
    "**Department Classification**\n",
    "\n",
    "- This exercise proved interesting as well.  While the overall performance (as measured by `f1 macro`) was not as strong as the sentiment-based model, it also provided different points of view we could not achieve otherwise.  In the sample selections, we can see that those were often quite relevant to the prediction cases where it misclassified with multiple categories/departments.  Therefore it might be possible to **cross-list/market** products in these categories.\n",
    "\n",
    "\n"
   ]
  },
  {
   "cell_type": "markdown",
   "id": "weekly-audit",
   "metadata": {},
   "source": [
    "# References\n",
    "\n",
    "1. https://textblob.readthedocs.io/en/dev/api_reference.html#textblob.blob.TextBlob.tags\n",
    "1. https://stackoverflow.com/questions/55604249/featureunion-vs-columntransformer\n",
    "1. https://chrisalbon.com/python/data_wrangling/pandas_expand_cells_containing_lists/\n",
    "1. https://machinelearningmastery.com/smote-oversampling-for-imbalanced-classification/\n",
    "1. https://sklearn.org/modules/svm.html#complexity"
   ]
  }
 ],
 "metadata": {
  "kernelspec": {
   "display_name": "Python 3",
   "language": "python",
   "name": "python3"
  },
  "language_info": {
   "codemirror_mode": {
    "name": "ipython",
    "version": 3
   },
   "file_extension": ".py",
   "mimetype": "text/x-python",
   "name": "python",
   "nbconvert_exporter": "python",
   "pygments_lexer": "ipython3",
   "version": "3.9.2"
  },
  "toc-autonumbering": true,
  "toc-showcode": false,
  "toc-showmarkdowntxt": false,
  "toc-showtags": false
 },
 "nbformat": 4,
 "nbformat_minor": 5
}
