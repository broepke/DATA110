{
 "cells": [
  {
   "cell_type": "markdown",
   "id": "moving-bridges",
   "metadata": {},
   "source": [
    "# Week 10 Assignment: Sentiment Analysis\n",
    "\n",
    "**Brian Roepke**  \n",
    "*DATA 110*\n",
    "\n",
    "For the given dataset perform sentiment analysis using  1) Machine Learning and 2) Lexicon-based techniques.  Refer to assigned reading (especially ch 7), supplementals, or conduct your own research.\n",
    "\n",
    "Requirements:\n",
    "\n",
    "1) Perform full EDA,  including key statistics and visualizations.\n",
    "\n",
    "2) Perform required text preprocessing and feature vectorization (Eg: TF-IDF)\n",
    "\n",
    "3) Modeling: Create ML and Lexicon-based models.\n",
    "\n",
    " a) Machine learning:\n",
    "\n",
    " - create a new column (sent_label) for the target based on reviews.rating, where  1, 2, or 3 are labeled as 0 (negative) while 4 or greater are labeled as 1 (positive)\n",
    "\n",
    "- Use any appropriate ML algorithm (eg: SVM, Logistic Regression, etc...)  and create 3 different models using pipelines. \n",
    "\n",
    "- Use cross-validation (StratifiedKFold for imbalanced datasets) to compare each of the models for model selection.\n",
    "\n",
    "- Consider the case of imbalanced dataset (Eg: significantly more positive reviews versus negative reviews). \n",
    "\n",
    "\n",
    "\n",
    "b) Lexicon: use any of the lexicons such as VADER or SentiWordNet.\n",
    "\n",
    "4) Assess performance using appropriate performance metrics. Compare performance between the two approaches.\n",
    "\n",
    "5) For both approaches, provide visualizations of the most common words in negative and positive reviews.  These can be bar plots, word clouds, etc."
   ]
  },
  {
   "cell_type": "code",
   "execution_count": 1,
   "id": "velvet-hungary",
   "metadata": {},
   "outputs": [],
   "source": [
    "import numpy as np\n",
    "import pandas as pd\n",
    "import re\n",
    "import itertools\n",
    "import string\n",
    "\n",
    "import sklearn as sk\n",
    "from sklearn.model_selection import train_test_split\n",
    "from sklearn.feature_extraction.text import CountVectorizer, TfidfVectorizer\n",
    "from sklearn.naive_bayes import MultinomialNB, ComplementNB\n",
    "from sklearn import metrics \n",
    "from sklearn.utils import resample\n",
    "from sklearn.pipeline import Pipeline\n",
    "from sklearn.model_selection import GridSearchCV\n",
    "from sklearn.cluster import KMeans\n",
    "from sklearn.metrics import adjusted_rand_score\n",
    "from sklearn.svm import SVC\n",
    "\n",
    "from sklearn.compose import ColumnTransformer\n",
    "from sklearn.preprocessing import OneHotEncoder\n",
    "\n",
    "# NLTK Imports and Downloads\n",
    "import nltk\n",
    "from nltk.tokenize import word_tokenize\n",
    "from nltk.sentiment.util import *\n",
    "from nltk.sentiment.vader import SentimentIntensityAnalyzer\n",
    "from nltk.stem import PorterStemmer\n",
    "from nltk.probability import FreqDist\n",
    "\n",
    "import seaborn as sns\n",
    "import matplotlib.pyplot as plt\n",
    "%matplotlib inline"
   ]
  },
  {
   "cell_type": "code",
   "execution_count": 2,
   "id": "exterior-firewall",
   "metadata": {},
   "outputs": [],
   "source": [
    "df = pd.read_csv(\"Amazon_Consumer_Reviews.csv\")"
   ]
  },
  {
   "cell_type": "markdown",
   "id": "aggregate-ontario",
   "metadata": {},
   "source": [
    "# EDA"
   ]
  },
  {
   "cell_type": "code",
   "execution_count": 3,
   "id": "female-arabic",
   "metadata": {},
   "outputs": [
    {
     "data": {
      "text/html": [
       "<div>\n",
       "<style scoped>\n",
       "    .dataframe tbody tr th:only-of-type {\n",
       "        vertical-align: middle;\n",
       "    }\n",
       "\n",
       "    .dataframe tbody tr th {\n",
       "        vertical-align: top;\n",
       "    }\n",
       "\n",
       "    .dataframe thead th {\n",
       "        text-align: right;\n",
       "    }\n",
       "</style>\n",
       "<table border=\"1\" class=\"dataframe\">\n",
       "  <thead>\n",
       "    <tr style=\"text-align: right;\">\n",
       "      <th></th>\n",
       "      <th>id</th>\n",
       "      <th>dateAdded</th>\n",
       "      <th>dateUpdated</th>\n",
       "      <th>name</th>\n",
       "      <th>asins</th>\n",
       "      <th>brand</th>\n",
       "      <th>categories</th>\n",
       "      <th>primaryCategories</th>\n",
       "      <th>keys</th>\n",
       "      <th>manufacturer</th>\n",
       "      <th>manufacturerNumber</th>\n",
       "      <th>reviews.date</th>\n",
       "      <th>reviews.dateSeen</th>\n",
       "      <th>reviews.numHelpful</th>\n",
       "      <th>reviews.rating</th>\n",
       "      <th>reviews.sourceURLs</th>\n",
       "      <th>reviews.text</th>\n",
       "      <th>reviews.title</th>\n",
       "      <th>reviews.username</th>\n",
       "    </tr>\n",
       "  </thead>\n",
       "  <tbody>\n",
       "    <tr>\n",
       "      <th>0</th>\n",
       "      <td>AVpgNzjwLJeJML43Kpxn</td>\n",
       "      <td>2015-10-30T08:59:32Z</td>\n",
       "      <td>2019-04-25T09:08:16Z</td>\n",
       "      <td>AmazonBasics AAA Performance Alkaline Batterie...</td>\n",
       "      <td>B00QWO9P0O,B00LH3DMUO</td>\n",
       "      <td>Amazonbasics</td>\n",
       "      <td>AA,AAA,Health,Electronics,Health &amp; Household,C...</td>\n",
       "      <td>Health &amp; Beauty</td>\n",
       "      <td>amazonbasics/hl002619,amazonbasicsaaaperforman...</td>\n",
       "      <td>AmazonBasics</td>\n",
       "      <td>HL-002619</td>\n",
       "      <td>2017-03-02T00:00:00.000Z</td>\n",
       "      <td>2017-08-28T00:00:00Z</td>\n",
       "      <td>NaN</td>\n",
       "      <td>3</td>\n",
       "      <td>https://www.amazon.com/product-reviews/B00QWO9...</td>\n",
       "      <td>I order 3 of them and one of the item is bad q...</td>\n",
       "      <td>... 3 of them and one of the item is bad quali...</td>\n",
       "      <td>Byger yang</td>\n",
       "    </tr>\n",
       "    <tr>\n",
       "      <th>1</th>\n",
       "      <td>AVpgNzjwLJeJML43Kpxn</td>\n",
       "      <td>2015-10-30T08:59:32Z</td>\n",
       "      <td>2019-04-25T09:08:16Z</td>\n",
       "      <td>AmazonBasics AAA Performance Alkaline Batterie...</td>\n",
       "      <td>B00QWO9P0O,B00LH3DMUO</td>\n",
       "      <td>Amazonbasics</td>\n",
       "      <td>AA,AAA,Health,Electronics,Health &amp; Household,C...</td>\n",
       "      <td>Health &amp; Beauty</td>\n",
       "      <td>amazonbasics/hl002619,amazonbasicsaaaperforman...</td>\n",
       "      <td>AmazonBasics</td>\n",
       "      <td>HL-002619</td>\n",
       "      <td>2016-08-31T00:00:00.000Z</td>\n",
       "      <td>2017-08-28T00:00:00Z</td>\n",
       "      <td>NaN</td>\n",
       "      <td>4</td>\n",
       "      <td>https://www.amazon.com/product-reviews/B00QWO9...</td>\n",
       "      <td>Bulk is always the less expensive way to go fo...</td>\n",
       "      <td>... always the less expensive way to go for pr...</td>\n",
       "      <td>ByMG</td>\n",
       "    </tr>\n",
       "    <tr>\n",
       "      <th>2</th>\n",
       "      <td>AVpgNzjwLJeJML43Kpxn</td>\n",
       "      <td>2015-10-30T08:59:32Z</td>\n",
       "      <td>2019-04-25T09:08:16Z</td>\n",
       "      <td>AmazonBasics AAA Performance Alkaline Batterie...</td>\n",
       "      <td>B00QWO9P0O,B00LH3DMUO</td>\n",
       "      <td>Amazonbasics</td>\n",
       "      <td>AA,AAA,Health,Electronics,Health &amp; Household,C...</td>\n",
       "      <td>Health &amp; Beauty</td>\n",
       "      <td>amazonbasics/hl002619,amazonbasicsaaaperforman...</td>\n",
       "      <td>AmazonBasics</td>\n",
       "      <td>HL-002619</td>\n",
       "      <td>2016-12-06T00:00:00.000Z</td>\n",
       "      <td>2017-08-28T00:00:00Z</td>\n",
       "      <td>NaN</td>\n",
       "      <td>5</td>\n",
       "      <td>https://www.amazon.com/product-reviews/B00QWO9...</td>\n",
       "      <td>Well they are not Duracell but for the price i...</td>\n",
       "      <td>... are not Duracell but for the price i am ha...</td>\n",
       "      <td>BySharon Lambert</td>\n",
       "    </tr>\n",
       "    <tr>\n",
       "      <th>3</th>\n",
       "      <td>AVpgNzjwLJeJML43Kpxn</td>\n",
       "      <td>2015-10-30T08:59:32Z</td>\n",
       "      <td>2019-04-25T09:08:16Z</td>\n",
       "      <td>AmazonBasics AAA Performance Alkaline Batterie...</td>\n",
       "      <td>B00QWO9P0O,B00LH3DMUO</td>\n",
       "      <td>Amazonbasics</td>\n",
       "      <td>AA,AAA,Health,Electronics,Health &amp; Household,C...</td>\n",
       "      <td>Health &amp; Beauty</td>\n",
       "      <td>amazonbasics/hl002619,amazonbasicsaaaperforman...</td>\n",
       "      <td>AmazonBasics</td>\n",
       "      <td>HL-002619</td>\n",
       "      <td>2016-03-28T00:00:00.000Z</td>\n",
       "      <td>2017-08-28T00:00:00Z</td>\n",
       "      <td>NaN</td>\n",
       "      <td>5</td>\n",
       "      <td>https://www.amazon.com/product-reviews/B00QWO9...</td>\n",
       "      <td>Seem to work as well as name brand batteries a...</td>\n",
       "      <td>... as well as name brand batteries at a much ...</td>\n",
       "      <td>Bymark sexson</td>\n",
       "    </tr>\n",
       "    <tr>\n",
       "      <th>4</th>\n",
       "      <td>AVpgNzjwLJeJML43Kpxn</td>\n",
       "      <td>2015-10-30T08:59:32Z</td>\n",
       "      <td>2019-04-25T09:08:16Z</td>\n",
       "      <td>AmazonBasics AAA Performance Alkaline Batterie...</td>\n",
       "      <td>B00QWO9P0O,B00LH3DMUO</td>\n",
       "      <td>Amazonbasics</td>\n",
       "      <td>AA,AAA,Health,Electronics,Health &amp; Household,C...</td>\n",
       "      <td>Health &amp; Beauty</td>\n",
       "      <td>amazonbasics/hl002619,amazonbasicsaaaperforman...</td>\n",
       "      <td>AmazonBasics</td>\n",
       "      <td>HL-002619</td>\n",
       "      <td>2017-04-22T00:00:00.000Z</td>\n",
       "      <td>2017-08-28T00:00:00Z</td>\n",
       "      <td>NaN</td>\n",
       "      <td>5</td>\n",
       "      <td>https://www.amazon.com/product-reviews/B00QWO9...</td>\n",
       "      <td>These batteries are very long lasting the pric...</td>\n",
       "      <td>... batteries are very long lasting the price ...</td>\n",
       "      <td>Bylinda</td>\n",
       "    </tr>\n",
       "  </tbody>\n",
       "</table>\n",
       "</div>"
      ],
      "text/plain": [
       "                     id             dateAdded           dateUpdated  \\\n",
       "0  AVpgNzjwLJeJML43Kpxn  2015-10-30T08:59:32Z  2019-04-25T09:08:16Z   \n",
       "1  AVpgNzjwLJeJML43Kpxn  2015-10-30T08:59:32Z  2019-04-25T09:08:16Z   \n",
       "2  AVpgNzjwLJeJML43Kpxn  2015-10-30T08:59:32Z  2019-04-25T09:08:16Z   \n",
       "3  AVpgNzjwLJeJML43Kpxn  2015-10-30T08:59:32Z  2019-04-25T09:08:16Z   \n",
       "4  AVpgNzjwLJeJML43Kpxn  2015-10-30T08:59:32Z  2019-04-25T09:08:16Z   \n",
       "\n",
       "                                                name                  asins  \\\n",
       "0  AmazonBasics AAA Performance Alkaline Batterie...  B00QWO9P0O,B00LH3DMUO   \n",
       "1  AmazonBasics AAA Performance Alkaline Batterie...  B00QWO9P0O,B00LH3DMUO   \n",
       "2  AmazonBasics AAA Performance Alkaline Batterie...  B00QWO9P0O,B00LH3DMUO   \n",
       "3  AmazonBasics AAA Performance Alkaline Batterie...  B00QWO9P0O,B00LH3DMUO   \n",
       "4  AmazonBasics AAA Performance Alkaline Batterie...  B00QWO9P0O,B00LH3DMUO   \n",
       "\n",
       "          brand                                         categories  \\\n",
       "0  Amazonbasics  AA,AAA,Health,Electronics,Health & Household,C...   \n",
       "1  Amazonbasics  AA,AAA,Health,Electronics,Health & Household,C...   \n",
       "2  Amazonbasics  AA,AAA,Health,Electronics,Health & Household,C...   \n",
       "3  Amazonbasics  AA,AAA,Health,Electronics,Health & Household,C...   \n",
       "4  Amazonbasics  AA,AAA,Health,Electronics,Health & Household,C...   \n",
       "\n",
       "  primaryCategories                                               keys  \\\n",
       "0   Health & Beauty  amazonbasics/hl002619,amazonbasicsaaaperforman...   \n",
       "1   Health & Beauty  amazonbasics/hl002619,amazonbasicsaaaperforman...   \n",
       "2   Health & Beauty  amazonbasics/hl002619,amazonbasicsaaaperforman...   \n",
       "3   Health & Beauty  amazonbasics/hl002619,amazonbasicsaaaperforman...   \n",
       "4   Health & Beauty  amazonbasics/hl002619,amazonbasicsaaaperforman...   \n",
       "\n",
       "   manufacturer manufacturerNumber              reviews.date  \\\n",
       "0  AmazonBasics          HL-002619  2017-03-02T00:00:00.000Z   \n",
       "1  AmazonBasics          HL-002619  2016-08-31T00:00:00.000Z   \n",
       "2  AmazonBasics          HL-002619  2016-12-06T00:00:00.000Z   \n",
       "3  AmazonBasics          HL-002619  2016-03-28T00:00:00.000Z   \n",
       "4  AmazonBasics          HL-002619  2017-04-22T00:00:00.000Z   \n",
       "\n",
       "       reviews.dateSeen  reviews.numHelpful  reviews.rating  \\\n",
       "0  2017-08-28T00:00:00Z                 NaN               3   \n",
       "1  2017-08-28T00:00:00Z                 NaN               4   \n",
       "2  2017-08-28T00:00:00Z                 NaN               5   \n",
       "3  2017-08-28T00:00:00Z                 NaN               5   \n",
       "4  2017-08-28T00:00:00Z                 NaN               5   \n",
       "\n",
       "                                  reviews.sourceURLs  \\\n",
       "0  https://www.amazon.com/product-reviews/B00QWO9...   \n",
       "1  https://www.amazon.com/product-reviews/B00QWO9...   \n",
       "2  https://www.amazon.com/product-reviews/B00QWO9...   \n",
       "3  https://www.amazon.com/product-reviews/B00QWO9...   \n",
       "4  https://www.amazon.com/product-reviews/B00QWO9...   \n",
       "\n",
       "                                        reviews.text  \\\n",
       "0  I order 3 of them and one of the item is bad q...   \n",
       "1  Bulk is always the less expensive way to go fo...   \n",
       "2  Well they are not Duracell but for the price i...   \n",
       "3  Seem to work as well as name brand batteries a...   \n",
       "4  These batteries are very long lasting the pric...   \n",
       "\n",
       "                                       reviews.title  reviews.username  \n",
       "0  ... 3 of them and one of the item is bad quali...        Byger yang  \n",
       "1  ... always the less expensive way to go for pr...              ByMG  \n",
       "2  ... are not Duracell but for the price i am ha...  BySharon Lambert  \n",
       "3  ... as well as name brand batteries at a much ...     Bymark sexson  \n",
       "4  ... batteries are very long lasting the price ...           Bylinda  "
      ]
     },
     "execution_count": 3,
     "metadata": {},
     "output_type": "execute_result"
    }
   ],
   "source": [
    "df.head()"
   ]
  },
  {
   "cell_type": "markdown",
   "id": "adjacent-radiation",
   "metadata": {},
   "source": [
    "## Data Clean Up\n",
    "**Change Data Types**\n",
    "As needed, adjust certain datatypes to better suit analysis\n",
    " - **Date Time**: Any Date time field should be converted into their appropriate types\n",
    " - **Drop Unused Fields**: Certain fields will not add to the analysis of this data and can be droped.\n",
    " - **Referer**: Create a new column for the referring domain\n",
    " - **Categories**: Certain types of fields are better suited as categories vs. objects.  These are the fields with a limited number of entries such as Category, and Manufacturer.\n",
    " - **Target**: Add a new column for the target based on reviews.rating, where  1, 2, or 3 are labeled as 0 (negative) while 4 or greater are labeled as 1 (positive)."
   ]
  },
  {
   "cell_type": "code",
   "execution_count": 4,
   "id": "shared-address",
   "metadata": {},
   "outputs": [],
   "source": [
    "# Date Time Conversion\n",
    "df['dateAdded']= pd.to_datetime(df['dateAdded'])\n",
    "df['dateUpdated']= pd.to_datetime(df['dateUpdated'])\n",
    "df['reviews.date']= pd.to_datetime(df['reviews.date'])"
   ]
  },
  {
   "cell_type": "code",
   "execution_count": 5,
   "id": "right-treasure",
   "metadata": {},
   "outputs": [],
   "source": [
    "def get_domain(x):\n",
    "    \n",
    "    m = re.findall('://([\\w\\-\\.]+)', x)\n",
    "    \n",
    "    try:\n",
    "        return m[0]\n",
    "    except:\n",
    "        return \"None\""
   ]
  },
  {
   "cell_type": "code",
   "execution_count": 6,
   "id": "professional-syracuse",
   "metadata": {},
   "outputs": [],
   "source": [
    "df['domain'] = df['reviews.sourceURLs'].apply(lambda x: get_domain(x))"
   ]
  },
  {
   "cell_type": "code",
   "execution_count": 7,
   "id": "terminal-psychology",
   "metadata": {},
   "outputs": [],
   "source": [
    "# Change to Categorical types\n",
    "df[\"brand\"] = df[\"brand\"].astype('category')\n",
    "df[\"primaryCategories\"] = df[\"primaryCategories\"].astype('category')\n",
    "df[\"manufacturer\"] = df[\"manufacturer\"].astype('category')\n",
    "df[\"reviews.username\"] = df[\"reviews.username\"].astype('category')\n",
    "df[\"domain\"] = df[\"domain\"].astype('category')"
   ]
  },
  {
   "cell_type": "code",
   "execution_count": 8,
   "id": "ecological-immigration",
   "metadata": {},
   "outputs": [],
   "source": [
    "# Add a length of text column before the cleaning\n",
    "df['title_length'] = df.apply(lambda row: len(row['reviews.title']), axis = 1)\n",
    "df['text_length'] = df.apply(lambda row: len(row['reviews.text']), axis = 1)"
   ]
  },
  {
   "cell_type": "code",
   "execution_count": 9,
   "id": "experienced-multiple",
   "metadata": {},
   "outputs": [],
   "source": [
    "# add a column for positive or negative\n",
    "df['sent_label'] = df['reviews.rating'].apply(lambda c: 0 if c < 4 else 1)"
   ]
  },
  {
   "cell_type": "code",
   "execution_count": 10,
   "id": "million-audio",
   "metadata": {},
   "outputs": [],
   "source": [
    "# Clean up some case based issues and other text issues.\n",
    "df['brand'] = df['brand'].str.replace('Amazonbasics','AmazonBasics', regex=True)\n",
    "df['manufacturer'] = df['manufacturer'].str.replace('Amazon.com','Amazon', regex=True)"
   ]
  },
  {
   "cell_type": "code",
   "execution_count": 11,
   "id": "instrumental-florence",
   "metadata": {},
   "outputs": [],
   "source": [
    "df.drop(columns=['id', 'manufacturerNumber', 'keys', 'categories', 'reviews.dateSeen', 'asins'], inplace=True)"
   ]
  },
  {
   "cell_type": "markdown",
   "id": "handmade-terminal",
   "metadata": {},
   "source": [
    "## EDA"
   ]
  },
  {
   "cell_type": "code",
   "execution_count": 12,
   "id": "cultural-quality",
   "metadata": {},
   "outputs": [
    {
     "data": {
      "text/html": [
       "<div>\n",
       "<style scoped>\n",
       "    .dataframe tbody tr th:only-of-type {\n",
       "        vertical-align: middle;\n",
       "    }\n",
       "\n",
       "    .dataframe tbody tr th {\n",
       "        vertical-align: top;\n",
       "    }\n",
       "\n",
       "    .dataframe thead th {\n",
       "        text-align: right;\n",
       "    }\n",
       "</style>\n",
       "<table border=\"1\" class=\"dataframe\">\n",
       "  <thead>\n",
       "    <tr style=\"text-align: right;\">\n",
       "      <th></th>\n",
       "      <th>dateAdded</th>\n",
       "      <th>dateUpdated</th>\n",
       "      <th>name</th>\n",
       "      <th>brand</th>\n",
       "      <th>primaryCategories</th>\n",
       "      <th>manufacturer</th>\n",
       "      <th>reviews.date</th>\n",
       "      <th>reviews.numHelpful</th>\n",
       "      <th>reviews.rating</th>\n",
       "      <th>reviews.sourceURLs</th>\n",
       "      <th>reviews.text</th>\n",
       "      <th>reviews.title</th>\n",
       "      <th>reviews.username</th>\n",
       "      <th>domain</th>\n",
       "      <th>title_length</th>\n",
       "      <th>text_length</th>\n",
       "      <th>sent_label</th>\n",
       "    </tr>\n",
       "  </thead>\n",
       "  <tbody>\n",
       "    <tr>\n",
       "      <th>0</th>\n",
       "      <td>2015-10-30 08:59:32+00:00</td>\n",
       "      <td>2019-04-25 09:08:16+00:00</td>\n",
       "      <td>AmazonBasics AAA Performance Alkaline Batterie...</td>\n",
       "      <td>AmazonBasics</td>\n",
       "      <td>Health &amp; Beauty</td>\n",
       "      <td>AmazonBasics</td>\n",
       "      <td>2017-03-02 00:00:00+00:00</td>\n",
       "      <td>NaN</td>\n",
       "      <td>3</td>\n",
       "      <td>https://www.amazon.com/product-reviews/B00QWO9...</td>\n",
       "      <td>I order 3 of them and one of the item is bad q...</td>\n",
       "      <td>... 3 of them and one of the item is bad quali...</td>\n",
       "      <td>Byger yang</td>\n",
       "      <td>www.amazon.com</td>\n",
       "      <td>88</td>\n",
       "      <td>139</td>\n",
       "      <td>0</td>\n",
       "    </tr>\n",
       "    <tr>\n",
       "      <th>1</th>\n",
       "      <td>2015-10-30 08:59:32+00:00</td>\n",
       "      <td>2019-04-25 09:08:16+00:00</td>\n",
       "      <td>AmazonBasics AAA Performance Alkaline Batterie...</td>\n",
       "      <td>AmazonBasics</td>\n",
       "      <td>Health &amp; Beauty</td>\n",
       "      <td>AmazonBasics</td>\n",
       "      <td>2016-08-31 00:00:00+00:00</td>\n",
       "      <td>NaN</td>\n",
       "      <td>4</td>\n",
       "      <td>https://www.amazon.com/product-reviews/B00QWO9...</td>\n",
       "      <td>Bulk is always the less expensive way to go fo...</td>\n",
       "      <td>... always the less expensive way to go for pr...</td>\n",
       "      <td>ByMG</td>\n",
       "      <td>www.amazon.com</td>\n",
       "      <td>57</td>\n",
       "      <td>67</td>\n",
       "      <td>1</td>\n",
       "    </tr>\n",
       "    <tr>\n",
       "      <th>2</th>\n",
       "      <td>2015-10-30 08:59:32+00:00</td>\n",
       "      <td>2019-04-25 09:08:16+00:00</td>\n",
       "      <td>AmazonBasics AAA Performance Alkaline Batterie...</td>\n",
       "      <td>AmazonBasics</td>\n",
       "      <td>Health &amp; Beauty</td>\n",
       "      <td>AmazonBasics</td>\n",
       "      <td>2016-12-06 00:00:00+00:00</td>\n",
       "      <td>NaN</td>\n",
       "      <td>5</td>\n",
       "      <td>https://www.amazon.com/product-reviews/B00QWO9...</td>\n",
       "      <td>Well they are not Duracell but for the price i...</td>\n",
       "      <td>... are not Duracell but for the price i am ha...</td>\n",
       "      <td>BySharon Lambert</td>\n",
       "      <td>www.amazon.com</td>\n",
       "      <td>50</td>\n",
       "      <td>56</td>\n",
       "      <td>1</td>\n",
       "    </tr>\n",
       "    <tr>\n",
       "      <th>3</th>\n",
       "      <td>2015-10-30 08:59:32+00:00</td>\n",
       "      <td>2019-04-25 09:08:16+00:00</td>\n",
       "      <td>AmazonBasics AAA Performance Alkaline Batterie...</td>\n",
       "      <td>AmazonBasics</td>\n",
       "      <td>Health &amp; Beauty</td>\n",
       "      <td>AmazonBasics</td>\n",
       "      <td>2016-03-28 00:00:00+00:00</td>\n",
       "      <td>NaN</td>\n",
       "      <td>5</td>\n",
       "      <td>https://www.amazon.com/product-reviews/B00QWO9...</td>\n",
       "      <td>Seem to work as well as name brand batteries a...</td>\n",
       "      <td>... as well as name brand batteries at a much ...</td>\n",
       "      <td>Bymark sexson</td>\n",
       "      <td>www.amazon.com</td>\n",
       "      <td>52</td>\n",
       "      <td>67</td>\n",
       "      <td>1</td>\n",
       "    </tr>\n",
       "    <tr>\n",
       "      <th>4</th>\n",
       "      <td>2015-10-30 08:59:32+00:00</td>\n",
       "      <td>2019-04-25 09:08:16+00:00</td>\n",
       "      <td>AmazonBasics AAA Performance Alkaline Batterie...</td>\n",
       "      <td>AmazonBasics</td>\n",
       "      <td>Health &amp; Beauty</td>\n",
       "      <td>AmazonBasics</td>\n",
       "      <td>2017-04-22 00:00:00+00:00</td>\n",
       "      <td>NaN</td>\n",
       "      <td>5</td>\n",
       "      <td>https://www.amazon.com/product-reviews/B00QWO9...</td>\n",
       "      <td>These batteries are very long lasting the pric...</td>\n",
       "      <td>... batteries are very long lasting the price ...</td>\n",
       "      <td>Bylinda</td>\n",
       "      <td>www.amazon.com</td>\n",
       "      <td>55</td>\n",
       "      <td>57</td>\n",
       "      <td>1</td>\n",
       "    </tr>\n",
       "  </tbody>\n",
       "</table>\n",
       "</div>"
      ],
      "text/plain": [
       "                  dateAdded               dateUpdated  \\\n",
       "0 2015-10-30 08:59:32+00:00 2019-04-25 09:08:16+00:00   \n",
       "1 2015-10-30 08:59:32+00:00 2019-04-25 09:08:16+00:00   \n",
       "2 2015-10-30 08:59:32+00:00 2019-04-25 09:08:16+00:00   \n",
       "3 2015-10-30 08:59:32+00:00 2019-04-25 09:08:16+00:00   \n",
       "4 2015-10-30 08:59:32+00:00 2019-04-25 09:08:16+00:00   \n",
       "\n",
       "                                                name         brand  \\\n",
       "0  AmazonBasics AAA Performance Alkaline Batterie...  AmazonBasics   \n",
       "1  AmazonBasics AAA Performance Alkaline Batterie...  AmazonBasics   \n",
       "2  AmazonBasics AAA Performance Alkaline Batterie...  AmazonBasics   \n",
       "3  AmazonBasics AAA Performance Alkaline Batterie...  AmazonBasics   \n",
       "4  AmazonBasics AAA Performance Alkaline Batterie...  AmazonBasics   \n",
       "\n",
       "  primaryCategories  manufacturer              reviews.date  \\\n",
       "0   Health & Beauty  AmazonBasics 2017-03-02 00:00:00+00:00   \n",
       "1   Health & Beauty  AmazonBasics 2016-08-31 00:00:00+00:00   \n",
       "2   Health & Beauty  AmazonBasics 2016-12-06 00:00:00+00:00   \n",
       "3   Health & Beauty  AmazonBasics 2016-03-28 00:00:00+00:00   \n",
       "4   Health & Beauty  AmazonBasics 2017-04-22 00:00:00+00:00   \n",
       "\n",
       "   reviews.numHelpful  reviews.rating  \\\n",
       "0                 NaN               3   \n",
       "1                 NaN               4   \n",
       "2                 NaN               5   \n",
       "3                 NaN               5   \n",
       "4                 NaN               5   \n",
       "\n",
       "                                  reviews.sourceURLs  \\\n",
       "0  https://www.amazon.com/product-reviews/B00QWO9...   \n",
       "1  https://www.amazon.com/product-reviews/B00QWO9...   \n",
       "2  https://www.amazon.com/product-reviews/B00QWO9...   \n",
       "3  https://www.amazon.com/product-reviews/B00QWO9...   \n",
       "4  https://www.amazon.com/product-reviews/B00QWO9...   \n",
       "\n",
       "                                        reviews.text  \\\n",
       "0  I order 3 of them and one of the item is bad q...   \n",
       "1  Bulk is always the less expensive way to go fo...   \n",
       "2  Well they are not Duracell but for the price i...   \n",
       "3  Seem to work as well as name brand batteries a...   \n",
       "4  These batteries are very long lasting the pric...   \n",
       "\n",
       "                                       reviews.title  reviews.username  \\\n",
       "0  ... 3 of them and one of the item is bad quali...        Byger yang   \n",
       "1  ... always the less expensive way to go for pr...              ByMG   \n",
       "2  ... are not Duracell but for the price i am ha...  BySharon Lambert   \n",
       "3  ... as well as name brand batteries at a much ...     Bymark sexson   \n",
       "4  ... batteries are very long lasting the price ...           Bylinda   \n",
       "\n",
       "           domain  title_length  text_length  sent_label  \n",
       "0  www.amazon.com            88          139           0  \n",
       "1  www.amazon.com            57           67           1  \n",
       "2  www.amazon.com            50           56           1  \n",
       "3  www.amazon.com            52           67           1  \n",
       "4  www.amazon.com            55           57           1  "
      ]
     },
     "execution_count": 12,
     "metadata": {},
     "output_type": "execute_result"
    }
   ],
   "source": [
    "df.head()"
   ]
  },
  {
   "cell_type": "code",
   "execution_count": 13,
   "id": "metallic-niagara",
   "metadata": {},
   "outputs": [
    {
     "name": "stdout",
     "output_type": "stream",
     "text": [
      "<class 'pandas.core.frame.DataFrame'>\n",
      "RangeIndex: 28332 entries, 0 to 28331\n",
      "Data columns (total 17 columns):\n",
      " #   Column              Non-Null Count  Dtype              \n",
      "---  ------              --------------  -----              \n",
      " 0   dateAdded           28332 non-null  datetime64[ns, UTC]\n",
      " 1   dateUpdated         28332 non-null  datetime64[ns, UTC]\n",
      " 2   name                28332 non-null  object             \n",
      " 3   brand               28332 non-null  object             \n",
      " 4   primaryCategories   28332 non-null  category           \n",
      " 5   manufacturer        28332 non-null  object             \n",
      " 6   reviews.date        28332 non-null  datetime64[ns, UTC]\n",
      " 7   reviews.numHelpful  16115 non-null  float64            \n",
      " 8   reviews.rating      28332 non-null  int64              \n",
      " 9   reviews.sourceURLs  28332 non-null  object             \n",
      " 10  reviews.text        28332 non-null  object             \n",
      " 11  reviews.title       28332 non-null  object             \n",
      " 12  reviews.username    28332 non-null  category           \n",
      " 13  domain              28332 non-null  category           \n",
      " 14  title_length        28332 non-null  int64              \n",
      " 15  text_length         28332 non-null  int64              \n",
      " 16  sent_label          28332 non-null  int64              \n",
      "dtypes: category(3), datetime64[ns, UTC](3), float64(1), int64(4), object(6)\n",
      "memory usage: 3.8+ MB\n"
     ]
    }
   ],
   "source": [
    "df.info()"
   ]
  },
  {
   "cell_type": "code",
   "execution_count": 14,
   "id": "intelligent-sphere",
   "metadata": {},
   "outputs": [
    {
     "data": {
      "text/html": [
       "<div>\n",
       "<style scoped>\n",
       "    .dataframe tbody tr th:only-of-type {\n",
       "        vertical-align: middle;\n",
       "    }\n",
       "\n",
       "    .dataframe tbody tr th {\n",
       "        vertical-align: top;\n",
       "    }\n",
       "\n",
       "    .dataframe thead th {\n",
       "        text-align: right;\n",
       "    }\n",
       "</style>\n",
       "<table border=\"1\" class=\"dataframe\">\n",
       "  <thead>\n",
       "    <tr style=\"text-align: right;\">\n",
       "      <th></th>\n",
       "      <th>reviews.numHelpful</th>\n",
       "      <th>reviews.rating</th>\n",
       "      <th>title_length</th>\n",
       "      <th>text_length</th>\n",
       "      <th>sent_label</th>\n",
       "    </tr>\n",
       "  </thead>\n",
       "  <tbody>\n",
       "    <tr>\n",
       "      <th>count</th>\n",
       "      <td>16115.000000</td>\n",
       "      <td>28332.000000</td>\n",
       "      <td>28332.000000</td>\n",
       "      <td>28332.000000</td>\n",
       "      <td>28332.000000</td>\n",
       "    </tr>\n",
       "    <tr>\n",
       "      <th>mean</th>\n",
       "      <td>0.529321</td>\n",
       "      <td>4.514048</td>\n",
       "      <td>19.748553</td>\n",
       "      <td>137.517118</td>\n",
       "      <td>0.901631</td>\n",
       "    </tr>\n",
       "    <tr>\n",
       "      <th>std</th>\n",
       "      <td>9.345017</td>\n",
       "      <td>0.934957</td>\n",
       "      <td>13.860225</td>\n",
       "      <td>199.877736</td>\n",
       "      <td>0.297819</td>\n",
       "    </tr>\n",
       "    <tr>\n",
       "      <th>min</th>\n",
       "      <td>0.000000</td>\n",
       "      <td>1.000000</td>\n",
       "      <td>1.000000</td>\n",
       "      <td>1.000000</td>\n",
       "      <td>0.000000</td>\n",
       "    </tr>\n",
       "    <tr>\n",
       "      <th>25%</th>\n",
       "      <td>0.000000</td>\n",
       "      <td>4.000000</td>\n",
       "      <td>10.000000</td>\n",
       "      <td>54.000000</td>\n",
       "      <td>1.000000</td>\n",
       "    </tr>\n",
       "    <tr>\n",
       "      <th>50%</th>\n",
       "      <td>0.000000</td>\n",
       "      <td>5.000000</td>\n",
       "      <td>15.000000</td>\n",
       "      <td>87.000000</td>\n",
       "      <td>1.000000</td>\n",
       "    </tr>\n",
       "    <tr>\n",
       "      <th>75%</th>\n",
       "      <td>0.000000</td>\n",
       "      <td>5.000000</td>\n",
       "      <td>25.000000</td>\n",
       "      <td>162.000000</td>\n",
       "      <td>1.000000</td>\n",
       "    </tr>\n",
       "    <tr>\n",
       "      <th>max</th>\n",
       "      <td>621.000000</td>\n",
       "      <td>5.000000</td>\n",
       "      <td>141.000000</td>\n",
       "      <td>8351.000000</td>\n",
       "      <td>1.000000</td>\n",
       "    </tr>\n",
       "  </tbody>\n",
       "</table>\n",
       "</div>"
      ],
      "text/plain": [
       "       reviews.numHelpful  reviews.rating  title_length   text_length  \\\n",
       "count        16115.000000    28332.000000  28332.000000  28332.000000   \n",
       "mean             0.529321        4.514048     19.748553    137.517118   \n",
       "std              9.345017        0.934957     13.860225    199.877736   \n",
       "min              0.000000        1.000000      1.000000      1.000000   \n",
       "25%              0.000000        4.000000     10.000000     54.000000   \n",
       "50%              0.000000        5.000000     15.000000     87.000000   \n",
       "75%              0.000000        5.000000     25.000000    162.000000   \n",
       "max            621.000000        5.000000    141.000000   8351.000000   \n",
       "\n",
       "         sent_label  \n",
       "count  28332.000000  \n",
       "mean       0.901631  \n",
       "std        0.297819  \n",
       "min        0.000000  \n",
       "25%        1.000000  \n",
       "50%        1.000000  \n",
       "75%        1.000000  \n",
       "max        1.000000  "
      ]
     },
     "execution_count": 14,
     "metadata": {},
     "output_type": "execute_result"
    }
   ],
   "source": [
    "df.describe()"
   ]
  },
  {
   "cell_type": "code",
   "execution_count": 15,
   "id": "amateur-uzbekistan",
   "metadata": {},
   "outputs": [
    {
     "data": {
      "text/html": [
       "<div>\n",
       "<style scoped>\n",
       "    .dataframe tbody tr th:only-of-type {\n",
       "        vertical-align: middle;\n",
       "    }\n",
       "\n",
       "    .dataframe tbody tr th {\n",
       "        vertical-align: top;\n",
       "    }\n",
       "\n",
       "    .dataframe thead th {\n",
       "        text-align: right;\n",
       "    }\n",
       "</style>\n",
       "<table border=\"1\" class=\"dataframe\">\n",
       "  <thead>\n",
       "    <tr style=\"text-align: right;\">\n",
       "      <th></th>\n",
       "      <th>reviews.numHelpful</th>\n",
       "      <th>reviews.rating</th>\n",
       "      <th>title_length</th>\n",
       "      <th>text_length</th>\n",
       "      <th>sent_label</th>\n",
       "    </tr>\n",
       "  </thead>\n",
       "  <tbody>\n",
       "    <tr>\n",
       "      <th>reviews.numHelpful</th>\n",
       "      <td>1.000000</td>\n",
       "      <td>-0.041006</td>\n",
       "      <td>0.065621</td>\n",
       "      <td>0.237227</td>\n",
       "      <td>-0.028797</td>\n",
       "    </tr>\n",
       "    <tr>\n",
       "      <th>reviews.rating</th>\n",
       "      <td>-0.041006</td>\n",
       "      <td>1.000000</td>\n",
       "      <td>-0.084805</td>\n",
       "      <td>-0.120010</td>\n",
       "      <td>0.857638</td>\n",
       "    </tr>\n",
       "    <tr>\n",
       "      <th>title_length</th>\n",
       "      <td>0.065621</td>\n",
       "      <td>-0.084805</td>\n",
       "      <td>1.000000</td>\n",
       "      <td>0.262497</td>\n",
       "      <td>-0.074554</td>\n",
       "    </tr>\n",
       "    <tr>\n",
       "      <th>text_length</th>\n",
       "      <td>0.237227</td>\n",
       "      <td>-0.120010</td>\n",
       "      <td>0.262497</td>\n",
       "      <td>1.000000</td>\n",
       "      <td>-0.091343</td>\n",
       "    </tr>\n",
       "    <tr>\n",
       "      <th>sent_label</th>\n",
       "      <td>-0.028797</td>\n",
       "      <td>0.857638</td>\n",
       "      <td>-0.074554</td>\n",
       "      <td>-0.091343</td>\n",
       "      <td>1.000000</td>\n",
       "    </tr>\n",
       "  </tbody>\n",
       "</table>\n",
       "</div>"
      ],
      "text/plain": [
       "                    reviews.numHelpful  reviews.rating  title_length  \\\n",
       "reviews.numHelpful            1.000000       -0.041006      0.065621   \n",
       "reviews.rating               -0.041006        1.000000     -0.084805   \n",
       "title_length                  0.065621       -0.084805      1.000000   \n",
       "text_length                   0.237227       -0.120010      0.262497   \n",
       "sent_label                   -0.028797        0.857638     -0.074554   \n",
       "\n",
       "                    text_length  sent_label  \n",
       "reviews.numHelpful     0.237227   -0.028797  \n",
       "reviews.rating        -0.120010    0.857638  \n",
       "title_length           0.262497   -0.074554  \n",
       "text_length            1.000000   -0.091343  \n",
       "sent_label            -0.091343    1.000000  "
      ]
     },
     "execution_count": 15,
     "metadata": {},
     "output_type": "execute_result"
    }
   ],
   "source": [
    "df.corr()"
   ]
  },
  {
   "cell_type": "code",
   "execution_count": 16,
   "id": "located-smile",
   "metadata": {},
   "outputs": [
    {
     "data": {
      "text/plain": [
       "(28332, 17)"
      ]
     },
     "execution_count": 16,
     "metadata": {},
     "output_type": "execute_result"
    }
   ],
   "source": [
    "df.shape"
   ]
  },
  {
   "cell_type": "code",
   "execution_count": 18,
   "id": "detected-termination",
   "metadata": {},
   "outputs": [
    {
     "name": "stdout",
     "output_type": "stream",
     "text": [
      "<class 'pandas.core.frame.DataFrame'>\n",
      "RangeIndex: 28332 entries, 0 to 28331\n",
      "Data columns (total 3 columns):\n",
      " #   Column             Non-Null Count  Dtype   \n",
      "---  ------             --------------  -----   \n",
      " 0   primaryCategories  28332 non-null  category\n",
      " 1   reviews.username   28332 non-null  category\n",
      " 2   domain             28332 non-null  category\n",
      "dtypes: category(3)\n",
      "memory usage: 754.5 KB\n"
     ]
    }
   ],
   "source": [
    "# get categorical data\n",
    "cat_data = df.select_dtypes(include=['category'])\n",
    "cat_data.info()"
   ]
  },
  {
   "cell_type": "code",
   "execution_count": 19,
   "id": "intermediate-gallery",
   "metadata": {},
   "outputs": [
    {
     "name": "stdout",
     "output_type": "stream",
     "text": [
      "primaryCategories\n",
      "Electronics                    13995\n",
      "Health & Beauty                12071\n",
      "Toys & Games,Electronics        1676\n",
      "Office Supplies,Electronics      386\n",
      "Electronics,Media                185\n",
      "Office Supplies                    9\n",
      "Animals & Pet Supplies             6\n",
      "Electronics,Furniture              2\n",
      "Home & Garden                      2\n",
      "Name: primaryCategories, dtype: int64 \n",
      "\n",
      "reviews.username\n",
      "ByAmazon Customer     889\n",
      "Mike                   63\n",
      "ByKindle Customer      45\n",
      "Dave                   44\n",
      "Chris                  38\n",
      "                     ... \n",
      "ByRatqueen Reader       1\n",
      "ByRaul Villarreal       1\n",
      "ByRay J Carstensen      1\n",
      "ByRay Ray               1\n",
      "ztlbxx                  1\n",
      "Name: reviews.username, Length: 16269, dtype: int64 \n",
      "\n",
      "domain\n",
      "reviews.bestbuy.com    16043\n",
      "www.amazon.com         12144\n",
      "www.ebay.com              81\n",
      "redsky.target.com         43\n",
      "www.amazon.co.uk          12\n",
      "www.newegg.com             9\n",
      "Name: domain, dtype: int64 \n",
      "\n"
     ]
    }
   ],
   "source": [
    "# show counts values of each categorical variable\n",
    "for colname in cat_data.columns:\n",
    "    print (colname)\n",
    "    print (cat_data[colname].value_counts(), '\\n')"
   ]
  },
  {
   "cell_type": "code",
   "execution_count": 20,
   "id": "nasty-display",
   "metadata": {},
   "outputs": [
    {
     "data": {
      "text/plain": [
       "True"
      ]
     },
     "execution_count": 20,
     "metadata": {},
     "output_type": "execute_result"
    }
   ],
   "source": [
    "# check for nan/null\n",
    "df.isnull().values.any()"
   ]
  },
  {
   "cell_type": "code",
   "execution_count": 21,
   "id": "taken-joseph",
   "metadata": {},
   "outputs": [
    {
     "data": {
      "text/plain": [
       "dateAdded                 0\n",
       "dateUpdated               0\n",
       "name                      0\n",
       "brand                     0\n",
       "primaryCategories         0\n",
       "manufacturer              0\n",
       "reviews.date              0\n",
       "reviews.numHelpful    12217\n",
       "reviews.rating            0\n",
       "reviews.sourceURLs        0\n",
       "reviews.text              0\n",
       "reviews.title             0\n",
       "reviews.username          0\n",
       "domain                    0\n",
       "title_length              0\n",
       "text_length               0\n",
       "sent_label                0\n",
       "dtype: int64"
      ]
     },
     "execution_count": 21,
     "metadata": {},
     "output_type": "execute_result"
    }
   ],
   "source": [
    "# count of nulls\n",
    "df.isnull().sum()"
   ]
  },
  {
   "cell_type": "code",
   "execution_count": 22,
   "id": "reduced-airfare",
   "metadata": {},
   "outputs": [
    {
     "name": "stdout",
     "output_type": "stream",
     "text": [
      "Before = (28332, 17)\n",
      "After = (28332, 17)\n"
     ]
    }
   ],
   "source": [
    "print(\"Before =\", df.shape)\n",
    "# drop duplicates\n",
    "print(\"After =\", df.drop_duplicates().shape)"
   ]
  },
  {
   "cell_type": "code",
   "execution_count": 23,
   "id": "missing-hydrogen",
   "metadata": {},
   "outputs": [
    {
     "data": {
      "image/png": "[encoded data removed]",
      "text/plain": [
       "<Figure size 576x360 with 1 Axes>"
      ]
     },
     "metadata": {
      "needs_background": "light"
     },
     "output_type": "display_data"
    }
   ],
   "source": [
    "plt.figure(figsize=(8,5))\n",
    "sns.countplot(x='reviews.rating', data=df, palette=\"tab20\", dodge=False);"
   ]
  },
  {
   "cell_type": "code",
   "execution_count": 24,
   "id": "diagnostic-reserve",
   "metadata": {},
   "outputs": [
    {
     "data": {
      "image/png": "[encoded data removed]",
      "text/plain": [
       "<Figure size 576x360 with 1 Axes>"
      ]
     },
     "metadata": {
      "needs_background": "light"
     },
     "output_type": "display_data"
    }
   ],
   "source": [
    "plt.figure(figsize=(8,5))\n",
    "sns.countplot(x='sent_label', data=df, palette=\"tab20\", dodge=False);"
   ]
  },
  {
   "cell_type": "code",
   "execution_count": 25,
   "id": "significant-atlanta",
   "metadata": {},
   "outputs": [
    {
     "data": {
      "image/png": "[encoded data removed]",
      "text/plain": [
       "<Figure size 720x360 with 1 Axes>"
      ]
     },
     "metadata": {
      "needs_background": "light"
     },
     "output_type": "display_data"
    }
   ],
   "source": [
    "plt.figure(figsize=(10,5))\n",
    "sns.histplot(x='reviews.numHelpful', data=df, palette=\"tab20\", binwidth=50);"
   ]
  },
  {
   "cell_type": "code",
   "execution_count": 26,
   "id": "built-scroll",
   "metadata": {},
   "outputs": [
    {
     "data": {
      "image/png": "[encoded data removed]",
      "text/plain": [
       "<Figure size 576x360 with 1 Axes>"
      ]
     },
     "metadata": {
      "needs_background": "light"
     },
     "output_type": "display_data"
    }
   ],
   "source": [
    "plt.figure(figsize=(8,5))\n",
    "sns.countplot(x='brand', data=df, palette=\"tab20\", dodge=False);"
   ]
  },
  {
   "cell_type": "code",
   "execution_count": 27,
   "id": "lesser-asset",
   "metadata": {},
   "outputs": [
    {
     "data": {
      "image/png": "[encoded data removed]",
      "text/plain": [
       "<Figure size 576x360 with 1 Axes>"
      ]
     },
     "metadata": {
      "needs_background": "light"
     },
     "output_type": "display_data"
    }
   ],
   "source": [
    "plt.figure(figsize=(8,5))\n",
    "sns.countplot(x='manufacturer', data=df, palette=\"tab20\", dodge=False);"
   ]
  },
  {
   "cell_type": "code",
   "execution_count": 28,
   "id": "optional-gothic",
   "metadata": {},
   "outputs": [
    {
     "data": {
      "image/png": "[encoded data removed]",
      "text/plain": [
       "<Figure size 576x288 with 1 Axes>"
      ]
     },
     "metadata": {
      "needs_background": "light"
     },
     "output_type": "display_data"
    }
   ],
   "source": [
    "plt.figure(figsize=(8,4))\n",
    "sns.countplot(y='primaryCategories', data=df, palette=\"tab20\", orient='v');"
   ]
  },
  {
   "cell_type": "code",
   "execution_count": 29,
   "id": "secret-oracle",
   "metadata": {},
   "outputs": [
    {
     "data": {
      "image/png": "[encoded data removed]",
      "text/plain": [
       "<Figure size 576x288 with 1 Axes>"
      ]
     },
     "metadata": {
      "needs_background": "light"
     },
     "output_type": "display_data"
    }
   ],
   "source": [
    "plt.figure(figsize=(8,4))\n",
    "sns.countplot(y='domain', data=df, palette=\"tab20\", orient='v');"
   ]
  },
  {
   "cell_type": "code",
   "execution_count": 30,
   "id": "worthy-circuit",
   "metadata": {},
   "outputs": [
    {
     "data": {
      "image/png": "[encoded data removed]",
      "text/plain": [
       "<Figure size 720x360 with 1 Axes>"
      ]
     },
     "metadata": {
      "needs_background": "light"
     },
     "output_type": "display_data"
    }
   ],
   "source": [
    "plt.figure(figsize=(10, 5))\n",
    "sns.histplot(df, x='title_length', kde=True, palette=\"tab20c\", binwidth=5);"
   ]
  },
  {
   "cell_type": "code",
   "execution_count": 31,
   "id": "bearing-leather",
   "metadata": {},
   "outputs": [
    {
     "data": {
      "image/png": "[encoded data removed]",
      "text/plain": [
       "<Figure size 720x360 with 1 Axes>"
      ]
     },
     "metadata": {
      "needs_background": "light"
     },
     "output_type": "display_data"
    }
   ],
   "source": [
    "plt.figure(figsize=(10, 5))\n",
    "sns.histplot(df, x='text_length', kde=True, palette=\"tab20c\", binwidth=100);"
   ]
  },
  {
   "cell_type": "code",
   "execution_count": 32,
   "id": "exceptional-testimony",
   "metadata": {},
   "outputs": [
    {
     "data": {
      "image/png": "[encoded data removed]",
      "text/plain": [
       "<Figure size 1080x360 with 1 Axes>"
      ]
     },
     "metadata": {
      "needs_background": "light"
     },
     "output_type": "display_data"
    }
   ],
   "source": [
    "df_ts = df.groupby(\n",
    "    [df.dateAdded.dt.strftime('%b %Y'), 'sent_label']\n",
    ")['reviews.rating'].mean().reset_index(name='Monthly Average')\n",
    "\n",
    "plt.figure(figsize=(15, 5))\n",
    "sns.lineplot(data=df_ts, x=\"dateAdded\", y=\"Monthly Average\", hue='sent_label');"
   ]
  },
  {
   "cell_type": "markdown",
   "id": "general-locator",
   "metadata": {},
   "source": [
    "# Preprocessing"
   ]
  },
  {
   "cell_type": "code",
   "execution_count": 33,
   "id": "electric-cancellation",
   "metadata": {},
   "outputs": [
    {
     "data": {
      "text/plain": [
       "'I order 3 of them and one of the item is bad quality. Is missing backup spring so I have to put a pcs of aluminum to make the battery work.'"
      ]
     },
     "execution_count": 33,
     "metadata": {},
     "output_type": "execute_result"
    }
   ],
   "source": [
    "df['reviews.text'][0]"
   ]
  },
  {
   "cell_type": "code",
   "execution_count": 34,
   "id": "super-biodiversity",
   "metadata": {},
   "outputs": [],
   "source": [
    "def process_string(text):\n",
    "    \n",
    "    final_string = \"\"\n",
    "    \n",
    "    text = text.lower()\n",
    "    \n",
    "    translator = str.maketrans('', '', string.punctuation)\n",
    "    text = text.translate(translator)\n",
    "    \n",
    "    text = text.split()\n",
    "    useless_words = nltk.corpus.stopwords.words(\"english\") + list(string.punctuation)\n",
    "    useless_words = useless_words + ['.', ',', '!', \"'\"]\n",
    "    text_filtered = [word for word in text if not word in useless_words]\n",
    "    \n",
    "    stemmer = PorterStemmer() \n",
    "    text_stemmed = [stemmer.stem(y) for y in text_filtered]\n",
    "        \n",
    "    for word in text_stemmed:\n",
    "        final_string += word + \" \"\n",
    "    \n",
    "    return final_string"
   ]
  },
  {
   "cell_type": "code",
   "execution_count": 35,
   "id": "coupled-morgan",
   "metadata": {},
   "outputs": [],
   "source": [
    "df['reviews.text'] = df['reviews.text'].apply(lambda x: process_string(x))"
   ]
  },
  {
   "cell_type": "code",
   "execution_count": 36,
   "id": "measured-passenger",
   "metadata": {},
   "outputs": [
    {
     "data": {
      "text/plain": [
       "'order 3 one item bad qualiti miss backup spring put pc aluminum make batteri work '"
      ]
     },
     "execution_count": 36,
     "metadata": {},
     "output_type": "execute_result"
    }
   ],
   "source": [
    "df['reviews.text'][0]"
   ]
  },
  {
   "cell_type": "code",
   "execution_count": 37,
   "id": "moral-blocking",
   "metadata": {},
   "outputs": [],
   "source": [
    "# Tokenize the words\n",
    "df['reviews.text.tok'] = df['reviews.text'].apply(word_tokenize)"
   ]
  },
  {
   "cell_type": "code",
   "execution_count": 38,
   "id": "continuous-tonight",
   "metadata": {},
   "outputs": [],
   "source": [
    "freq_stats = []\n",
    "for i in df['reviews.text.tok']:\n",
    "    freq_stats = freq_stats + i"
   ]
  },
  {
   "cell_type": "code",
   "execution_count": 39,
   "id": "rocky-accent",
   "metadata": {},
   "outputs": [
    {
     "data": {
      "text/plain": [
       "[('batteri', 10137),\n",
       " ('great', 9364),\n",
       " ('tablet', 7295),\n",
       " ('use', 6957),\n",
       " ('love', 6205),\n",
       " ('good', 5856),\n",
       " ('price', 5394),\n",
       " ('work', 4591),\n",
       " ('amazon', 3864),\n",
       " ('one', 3178),\n",
       " ('bought', 3174),\n",
       " ('last', 3154),\n",
       " ('kindl', 3045),\n",
       " ('kid', 2983),\n",
       " ('easi', 2906),\n",
       " ('like', 2862),\n",
       " ('buy', 2798),\n",
       " ('purchas', 2558),\n",
       " ('long', 2464),\n",
       " ('time', 2444)]"
      ]
     },
     "execution_count": 39,
     "metadata": {},
     "output_type": "execute_result"
    }
   ],
   "source": [
    "fdist_ham = FreqDist(freq_stats)\n",
    "fdist_ham.most_common(20)"
   ]
  },
  {
   "cell_type": "code",
   "execution_count": 40,
   "id": "swiss-angola",
   "metadata": {},
   "outputs": [
    {
     "data": {
      "image/png": "[encoded data removed]",
      "text/plain": [
       "<Figure size 720x360 with 1 Axes>"
      ]
     },
     "metadata": {
      "needs_background": "light"
     },
     "output_type": "display_data"
    }
   ],
   "source": [
    "plt.figure(figsize=(10, 5))\n",
    "fdist_ham.plot(20, cumulative=False)\n",
    "plt.show()"
   ]
  },
  {
   "cell_type": "markdown",
   "id": "civil-opportunity",
   "metadata": {},
   "source": [
    "# Machine learning"
   ]
  },
  {
   "cell_type": "code",
   "execution_count": 41,
   "id": "level-department",
   "metadata": {},
   "outputs": [],
   "source": [
    "X = df.drop(columns=['sent_label'])\n",
    "y = df['sent_label']\n",
    "\n",
    "# Make training and test sets \n",
    "X_train, X_test, y_train, y_test = train_test_split(X, y, test_size=0.33, random_state=53)"
   ]
  },
  {
   "cell_type": "code",
   "execution_count": 42,
   "id": "understanding-acceptance",
   "metadata": {},
   "outputs": [
    {
     "name": "stdout",
     "output_type": "stream",
     "text": [
      "(18982,)\n",
      "(18982, 17)\n"
     ]
    }
   ],
   "source": [
    "print(y_train.shape)\n",
    "print(X_train.shape)"
   ]
  },
  {
   "cell_type": "code",
   "execution_count": 43,
   "id": "coastal-greece",
   "metadata": {},
   "outputs": [],
   "source": [
    "def plot_confusion_matrix(cm, classes,\n",
    "                          normalize=False,\n",
    "                          title='Confusion matrix',\n",
    "                          cmap=plt.cm.Blues):\n",
    "    \"\"\"\n",
    "    See full source and example: \n",
    "    http://scikit-learn.org/stable/auto_examples/model_selection/plot_confusion_matrix.html\n",
    "    \n",
    "    This function prints and plots the confusion matrix.\n",
    "    Normalization can be applied by setting `normalize=True`.\n",
    "    \"\"\"\n",
    "    plt.imshow(cm, interpolation='nearest', cmap=cmap)\n",
    "    plt.title(title)\n",
    "    plt.colorbar()\n",
    "    tick_marks = np.arange(len(classes))\n",
    "    plt.xticks(tick_marks, classes, rotation=45)\n",
    "    plt.yticks(tick_marks, classes)\n",
    "\n",
    "    if normalize:\n",
    "        cm = cm.astype('float') / cm.sum(axis=1)[:, np.newaxis]\n",
    "        print(\"Normalized confusion matrix\")\n",
    "    else:\n",
    "        print('Confusion matrix, without normalization')\n",
    "\n",
    "    thresh = cm.max() / 2.\n",
    "    for i, j in itertools.product(range(cm.shape[0]), range(cm.shape[1])):\n",
    "        plt.text(j, i, cm[i, j],\n",
    "                 horizontalalignment=\"center\",\n",
    "                 color=\"white\" if cm[i, j] > thresh else \"black\")\n",
    "\n",
    "    plt.tight_layout()\n",
    "    plt.ylabel('True label')\n",
    "    plt.xlabel('predicted label')"
   ]
  },
  {
   "cell_type": "code",
   "execution_count": 44,
   "id": "simplified-patrick",
   "metadata": {},
   "outputs": [],
   "source": [
    "def get_params(X, y, model):\n",
    "    vals = np.linspace(.001, 2, 10)\n",
    "\n",
    "    #parameters = {'C':vals, 'kernel': ['linear', 'poly', 'rbf', 'sigmoid']}\n",
    "    \n",
    "    #parameters = [{'C': [1, 10, 100, 1000], 'kernel': ['linear']},\n",
    "    #              {'C': [1, 10, 100, 1000], 'gamma': [0.001, 0.0001], 'kernel': ['rbf']}]\n",
    "    \n",
    "    parameters = [{'C': [1, 10, 100, 1000], 'gamma': [0.001, 0.0001], 'kernel': ['rbf']}]\n",
    "    \n",
    "    model = model\n",
    "    clf = GridSearchCV(model, parameters)\n",
    "    clf.fit(X, y)\n",
    "\n",
    "    # extract the best alpha score\n",
    "    return clf.best_params_"
   ]
  },
  {
   "cell_type": "code",
   "execution_count": 45,
   "id": "impaired-museum",
   "metadata": {},
   "outputs": [],
   "source": [
    "#params = get_params(vec_train, y_train, SVC())\n",
    "# params\n",
    "# {'C': 1000, 'gamma': 0.001, 'kernel': 'rbf'}"
   ]
  },
  {
   "cell_type": "markdown",
   "id": "optical-surgery",
   "metadata": {},
   "source": [
    "## Create Pipelines"
   ]
  },
  {
   "cell_type": "code",
   "execution_count": 47,
   "id": "organic-israeli",
   "metadata": {},
   "outputs": [],
   "source": [
    "column_trans = ColumnTransformer(\n",
    "    [('primaryCategories', OneHotEncoder(dtype='int'),['primaryCategories']),\n",
    "     ('manufacturer', OneHotEncoder(dtype='int'),['manufacturer']),\n",
    "     ('domain', OneHotEncoder(dtype='int'),['domain']),\n",
    "     ('title', TfidfVectorizer(stop_words='english'), 'reviews.title'),\n",
    "     ('text', TfidfVectorizer(stop_words='english'), 'reviews.text')],\n",
    "    remainder='drop') "
   ]
  },
  {
   "cell_type": "code",
   "execution_count": 51,
   "id": "designing-consciousness",
   "metadata": {},
   "outputs": [
    {
     "data": {
      "text/plain": [
       "Pipeline(steps=[('prep',\n",
       "                 ColumnTransformer(transformers=[('primaryCategories',\n",
       "                                                  OneHotEncoder(dtype='int'),\n",
       "                                                  ['primaryCategories']),\n",
       "                                                 ('manufacturer',\n",
       "                                                  OneHotEncoder(dtype='int'),\n",
       "                                                  ['manufacturer']),\n",
       "                                                 ('domain',\n",
       "                                                  OneHotEncoder(dtype='int'),\n",
       "                                                  ['domain']),\n",
       "                                                 ('title',\n",
       "                                                  TfidfVectorizer(stop_words='english'),\n",
       "                                                  'reviews.title'),\n",
       "                                                 ('text',\n",
       "                                                  TfidfVectorizer(stop_words='english'),\n",
       "                                                  'reviews.text')])),\n",
       "                ('clf', SVC(class_weight='balanced', random_state=42))])"
      ]
     },
     "execution_count": 51,
     "metadata": {},
     "output_type": "execute_result"
    }
   ],
   "source": [
    "clf = SVC(class_weight='balanced', random_state=42)\n",
    "pipeline = Pipeline([('prep',column_trans), ('clf', clf)])\n",
    "pipeline.fit(X_train, y_train)"
   ]
  },
  {
   "cell_type": "code",
   "execution_count": 50,
   "id": "comparable-castle",
   "metadata": {},
   "outputs": [
    {
     "name": "stdout",
     "output_type": "stream",
     "text": [
      "              precision    recall  f1-score   support\n",
      "\n",
      "           0      0.680     0.804     0.737       915\n",
      "           1      0.978     0.959     0.969      8435\n",
      "\n",
      "    accuracy                          0.944      9350\n",
      "   macro avg      0.829     0.882     0.853      9350\n",
      "weighted avg      0.949     0.944     0.946      9350\n",
      "\n",
      "accuracy:   0.944\n",
      "Confusion matrix, without normalization\n"
     ]
    },
    {
     "data": {
      "image/png": "[encoded data removed]",
      "text/plain": [
       "<Figure size 432x288 with 2 Axes>"
      ]
     },
     "metadata": {
      "needs_background": "light"
     },
     "output_type": "display_data"
    }
   ],
   "source": [
    "y_pred = pipeline.predict(X_test)\n",
    "score = metrics.accuracy_score(y_test, y_pred)\n",
    "\n",
    "print(metrics.classification_report(y_test, y_pred, digits=3))\n",
    "\n",
    "print(\"accuracy:   %0.3f\" % score)\n",
    "cm = metrics.confusion_matrix(y_test, y_pred, labels=[0,1])\n",
    "plot_confusion_matrix(cm, classes=[0,1])"
   ]
  },
  {
   "cell_type": "code",
   "execution_count": null,
   "id": "unusual-division",
   "metadata": {},
   "outputs": [],
   "source": []
  },
  {
   "cell_type": "code",
   "execution_count": null,
   "id": "competent-layout",
   "metadata": {},
   "outputs": [],
   "source": []
  },
  {
   "cell_type": "code",
   "execution_count": 53,
   "id": "extensive-timber",
   "metadata": {},
   "outputs": [
    {
     "data": {
      "text/plain": [
       "Pipeline(steps=[('prep',\n",
       "                 ColumnTransformer(transformers=[('primaryCategories',\n",
       "                                                  OneHotEncoder(dtype='int'),\n",
       "                                                  ['primaryCategories']),\n",
       "                                                 ('manufacturer',\n",
       "                                                  OneHotEncoder(dtype='int'),\n",
       "                                                  ['manufacturer']),\n",
       "                                                 ('domain',\n",
       "                                                  OneHotEncoder(dtype='int'),\n",
       "                                                  ['domain']),\n",
       "                                                 ('title',\n",
       "                                                  TfidfVectorizer(stop_words='english'),\n",
       "                                                  'reviews.title'),\n",
       "                                                 ('text',\n",
       "                                                  TfidfVectorizer(stop_words='english'),\n",
       "                                                  'reviews.text')])),\n",
       "                ('clf', ComplementNB())])"
      ]
     },
     "execution_count": 53,
     "metadata": {},
     "output_type": "execute_result"
    }
   ],
   "source": [
    "clf = ComplementNB()\n",
    "pipeline = Pipeline([('prep',column_trans), ('clf', clf)])\n",
    "pipeline.fit(X_train, y_train)"
   ]
  },
  {
   "cell_type": "code",
   "execution_count": 54,
   "id": "creative-thermal",
   "metadata": {},
   "outputs": [
    {
     "name": "stdout",
     "output_type": "stream",
     "text": [
      "              precision    recall  f1-score   support\n",
      "\n",
      "           0      0.608     0.590     0.599       915\n",
      "           1      0.956     0.959     0.957      8435\n",
      "\n",
      "    accuracy                          0.923      9350\n",
      "   macro avg      0.782     0.774     0.778      9350\n",
      "weighted avg      0.922     0.923     0.922      9350\n",
      "\n",
      "accuracy:   0.923\n",
      "Confusion matrix, without normalization\n"
     ]
    },
    {
     "data": {
      "image/png": "[encoded data removed]",
      "text/plain": [
       "<Figure size 432x288 with 2 Axes>"
      ]
     },
     "metadata": {
      "needs_background": "light"
     },
     "output_type": "display_data"
    }
   ],
   "source": [
    "y_pred = pipeline.predict(X_test)\n",
    "score = metrics.accuracy_score(y_test, y_pred)\n",
    "\n",
    "print(metrics.classification_report(y_test, y_pred, digits=3))\n",
    "\n",
    "print(\"accuracy:   %0.3f\" % score)\n",
    "cm = metrics.confusion_matrix(y_test, y_pred, labels=[0,1])\n",
    "plot_confusion_matrix(cm, classes=[0,1])"
   ]
  },
  {
   "cell_type": "code",
   "execution_count": null,
   "id": "molecular-laptop",
   "metadata": {},
   "outputs": [],
   "source": []
  },
  {
   "cell_type": "code",
   "execution_count": null,
   "id": "simplified-heater",
   "metadata": {},
   "outputs": [],
   "source": []
  },
  {
   "cell_type": "code",
   "execution_count": null,
   "id": "universal-living",
   "metadata": {},
   "outputs": [],
   "source": []
  },
  {
   "cell_type": "code",
   "execution_count": null,
   "id": "induced-turkish",
   "metadata": {},
   "outputs": [],
   "source": []
  },
  {
   "cell_type": "code",
   "execution_count": null,
   "id": "optional-ghana",
   "metadata": {},
   "outputs": [],
   "source": []
  },
  {
   "cell_type": "code",
   "execution_count": null,
   "id": "original-joyce",
   "metadata": {},
   "outputs": [],
   "source": []
  },
  {
   "cell_type": "markdown",
   "id": "formal-presence",
   "metadata": {},
   "source": [
    "## Sentiment Analysis"
   ]
  },
  {
   "cell_type": "code",
   "execution_count": null,
   "id": "loved-vietnamese",
   "metadata": {},
   "outputs": [],
   "source": [
    "sid = SentimentIntensityAnalyzer()"
   ]
  },
  {
   "cell_type": "code",
   "execution_count": null,
   "id": "fifty-hudson",
   "metadata": {},
   "outputs": [],
   "source": [
    "df['vader'] = df['reviews.text'].apply(lambda review: sid.polarity_scores(review))"
   ]
  },
  {
   "cell_type": "code",
   "execution_count": null,
   "id": "judicial-better",
   "metadata": {},
   "outputs": [],
   "source": [
    "df['sentiment'] = df['vader'].apply(lambda score_dict: score_dict['compound'])"
   ]
  },
  {
   "cell_type": "code",
   "execution_count": null,
   "id": "sealed-regular",
   "metadata": {},
   "outputs": [],
   "source": [
    "df['comp_score'] = df['sentiment'].apply(lambda c: 'pos' if c > 0 else ('neu' if c == 0 else 'neg'))"
   ]
  },
  {
   "cell_type": "code",
   "execution_count": null,
   "id": "hungry-psychology",
   "metadata": {},
   "outputs": [],
   "source": [
    "df"
   ]
  },
  {
   "cell_type": "code",
   "execution_count": null,
   "id": "outstanding-calendar",
   "metadata": {},
   "outputs": [],
   "source": [
    "df['sentiment'][0]"
   ]
  },
  {
   "cell_type": "code",
   "execution_count": null,
   "id": "legendary-outdoors",
   "metadata": {},
   "outputs": [],
   "source": [
    "plt.figure(figsize=(10, 5))\n",
    "sns.histplot(df, x='sentiment', kde=True, palette=\"tab20c\");"
   ]
  },
  {
   "cell_type": "code",
   "execution_count": null,
   "id": "elementary-healthcare",
   "metadata": {},
   "outputs": [],
   "source": [
    "plt.figure(figsize=(10, 5))\n",
    "sns.countplot(data=df, y='comp_score', palette=\"tab20c\");"
   ]
  },
  {
   "cell_type": "code",
   "execution_count": null,
   "id": "comparable-closure",
   "metadata": {},
   "outputs": [],
   "source": []
  }
 ],
 "metadata": {
  "kernelspec": {
   "display_name": "Python 3",
   "language": "python",
   "name": "python3"
  },
  "language_info": {
   "codemirror_mode": {
    "name": "ipython",
    "version": 3
   },
   "file_extension": ".py",
   "mimetype": "text/x-python",
   "name": "python",
   "nbconvert_exporter": "python",
   "pygments_lexer": "ipython3",
   "version": "3.8.8"
  }
 },
 "nbformat": 4,
 "nbformat_minor": 5
}
