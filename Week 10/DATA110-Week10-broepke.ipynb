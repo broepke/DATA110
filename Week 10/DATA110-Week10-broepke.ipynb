{
 "cells": [
  {
   "cell_type": "markdown",
   "id": "annual-county",
   "metadata": {},
   "source": [
    "# Week 10 Assignment: Sentiment Analysis\n",
    "\n",
    "**Brian Roepke**  \n",
    "*DATA 110*\n",
    "\n",
    "For the given dataset perform sentiment analysis using  1) Machine Learning and 2) Lexicon-based techniques.  Refer to assigned reading (especially ch 7), supplementals, or conduct your own research.\n",
    "\n",
    "Requirements:\n",
    "\n",
    "1) Perform full EDA,  including key statistics and visualizations.\n",
    "\n",
    "2) Perform required text preprocessing and feature vectorization (Eg: TF-IDF)\n",
    "\n",
    "3) Modeling: Create ML and Lexicon-based models.\n",
    "\n",
    " a) Machine learning:\n",
    "\n",
    " - create a new column (sent_label) for the target based on reviews.rating, where  1, 2, or 3 are labeled as 0 (negative) while 4 or greater are labeled as 1 (positive)\n",
    "\n",
    "- Use any appropriate ML algorithm (eg: SVM, Logistic Regression, etc...)  and create 3 different models using pipelines. \n",
    "\n",
    "- Use cross-validation (StratifiedKFold for imbalanced datasets) to compare each of the models for model selection.\n",
    "\n",
    "- Consider the case of imbalanced dataset (Eg: significantly more positive reviews versus negative reviews). \n",
    "\n",
    "\n",
    "\n",
    "b) Lexicon: use any of the lexicons such as VADER or SentiWordNet.\n",
    "\n",
    "4) Assess performance using appropriate performance metrics. Compare performance between the two approaches.\n",
    "\n",
    "5) For both approaches, provide visualizations of the most common words in negative and positive reviews.  These can be bar plots, word clouds, etc."
   ]
  },
  {
   "cell_type": "code",
   "execution_count": 1,
   "id": "stunning-conservative",
   "metadata": {},
   "outputs": [],
   "source": [
    "import numpy as np\n",
    "import pandas as pd\n",
    "import re\n",
    "\n",
    "\n",
    "import seaborn as sns\n",
    "import matplotlib.pyplot as plt\n",
    "%matplotlib inline"
   ]
  },
  {
   "cell_type": "code",
   "execution_count": 2,
   "id": "reserved-warrant",
   "metadata": {},
   "outputs": [],
   "source": [
    "df = pd.read_csv(\"Amazon_Consumer_Reviews.csv\")"
   ]
  },
  {
   "cell_type": "markdown",
   "id": "intelligent-authentication",
   "metadata": {},
   "source": [
    "# EDA"
   ]
  },
  {
   "cell_type": "code",
   "execution_count": 3,
   "id": "uniform-outdoors",
   "metadata": {},
   "outputs": [
    {
     "data": {
      "text/html": [
       "<div>\n",
       "<style scoped>\n",
       "    .dataframe tbody tr th:only-of-type {\n",
       "        vertical-align: middle;\n",
       "    }\n",
       "\n",
       "    .dataframe tbody tr th {\n",
       "        vertical-align: top;\n",
       "    }\n",
       "\n",
       "    .dataframe thead th {\n",
       "        text-align: right;\n",
       "    }\n",
       "</style>\n",
       "<table border=\"1\" class=\"dataframe\">\n",
       "  <thead>\n",
       "    <tr style=\"text-align: right;\">\n",
       "      <th></th>\n",
       "      <th>id</th>\n",
       "      <th>dateAdded</th>\n",
       "      <th>dateUpdated</th>\n",
       "      <th>name</th>\n",
       "      <th>asins</th>\n",
       "      <th>brand</th>\n",
       "      <th>categories</th>\n",
       "      <th>primaryCategories</th>\n",
       "      <th>keys</th>\n",
       "      <th>manufacturer</th>\n",
       "      <th>manufacturerNumber</th>\n",
       "      <th>reviews.date</th>\n",
       "      <th>reviews.dateSeen</th>\n",
       "      <th>reviews.numHelpful</th>\n",
       "      <th>reviews.rating</th>\n",
       "      <th>reviews.sourceURLs</th>\n",
       "      <th>reviews.text</th>\n",
       "      <th>reviews.title</th>\n",
       "      <th>reviews.username</th>\n",
       "    </tr>\n",
       "  </thead>\n",
       "  <tbody>\n",
       "    <tr>\n",
       "      <th>0</th>\n",
       "      <td>AVpgNzjwLJeJML43Kpxn</td>\n",
       "      <td>2015-10-30T08:59:32Z</td>\n",
       "      <td>2019-04-25T09:08:16Z</td>\n",
       "      <td>AmazonBasics AAA Performance Alkaline Batterie...</td>\n",
       "      <td>B00QWO9P0O,B00LH3DMUO</td>\n",
       "      <td>Amazonbasics</td>\n",
       "      <td>AA,AAA,Health,Electronics,Health &amp; Household,C...</td>\n",
       "      <td>Health &amp; Beauty</td>\n",
       "      <td>amazonbasics/hl002619,amazonbasicsaaaperforman...</td>\n",
       "      <td>AmazonBasics</td>\n",
       "      <td>HL-002619</td>\n",
       "      <td>2017-03-02T00:00:00.000Z</td>\n",
       "      <td>2017-08-28T00:00:00Z</td>\n",
       "      <td>NaN</td>\n",
       "      <td>3</td>\n",
       "      <td>https://www.amazon.com/product-reviews/B00QWO9...</td>\n",
       "      <td>I order 3 of them and one of the item is bad q...</td>\n",
       "      <td>... 3 of them and one of the item is bad quali...</td>\n",
       "      <td>Byger yang</td>\n",
       "    </tr>\n",
       "    <tr>\n",
       "      <th>1</th>\n",
       "      <td>AVpgNzjwLJeJML43Kpxn</td>\n",
       "      <td>2015-10-30T08:59:32Z</td>\n",
       "      <td>2019-04-25T09:08:16Z</td>\n",
       "      <td>AmazonBasics AAA Performance Alkaline Batterie...</td>\n",
       "      <td>B00QWO9P0O,B00LH3DMUO</td>\n",
       "      <td>Amazonbasics</td>\n",
       "      <td>AA,AAA,Health,Electronics,Health &amp; Household,C...</td>\n",
       "      <td>Health &amp; Beauty</td>\n",
       "      <td>amazonbasics/hl002619,amazonbasicsaaaperforman...</td>\n",
       "      <td>AmazonBasics</td>\n",
       "      <td>HL-002619</td>\n",
       "      <td>2016-08-31T00:00:00.000Z</td>\n",
       "      <td>2017-08-28T00:00:00Z</td>\n",
       "      <td>NaN</td>\n",
       "      <td>4</td>\n",
       "      <td>https://www.amazon.com/product-reviews/B00QWO9...</td>\n",
       "      <td>Bulk is always the less expensive way to go fo...</td>\n",
       "      <td>... always the less expensive way to go for pr...</td>\n",
       "      <td>ByMG</td>\n",
       "    </tr>\n",
       "    <tr>\n",
       "      <th>2</th>\n",
       "      <td>AVpgNzjwLJeJML43Kpxn</td>\n",
       "      <td>2015-10-30T08:59:32Z</td>\n",
       "      <td>2019-04-25T09:08:16Z</td>\n",
       "      <td>AmazonBasics AAA Performance Alkaline Batterie...</td>\n",
       "      <td>B00QWO9P0O,B00LH3DMUO</td>\n",
       "      <td>Amazonbasics</td>\n",
       "      <td>AA,AAA,Health,Electronics,Health &amp; Household,C...</td>\n",
       "      <td>Health &amp; Beauty</td>\n",
       "      <td>amazonbasics/hl002619,amazonbasicsaaaperforman...</td>\n",
       "      <td>AmazonBasics</td>\n",
       "      <td>HL-002619</td>\n",
       "      <td>2016-12-06T00:00:00.000Z</td>\n",
       "      <td>2017-08-28T00:00:00Z</td>\n",
       "      <td>NaN</td>\n",
       "      <td>5</td>\n",
       "      <td>https://www.amazon.com/product-reviews/B00QWO9...</td>\n",
       "      <td>Well they are not Duracell but for the price i...</td>\n",
       "      <td>... are not Duracell but for the price i am ha...</td>\n",
       "      <td>BySharon Lambert</td>\n",
       "    </tr>\n",
       "    <tr>\n",
       "      <th>3</th>\n",
       "      <td>AVpgNzjwLJeJML43Kpxn</td>\n",
       "      <td>2015-10-30T08:59:32Z</td>\n",
       "      <td>2019-04-25T09:08:16Z</td>\n",
       "      <td>AmazonBasics AAA Performance Alkaline Batterie...</td>\n",
       "      <td>B00QWO9P0O,B00LH3DMUO</td>\n",
       "      <td>Amazonbasics</td>\n",
       "      <td>AA,AAA,Health,Electronics,Health &amp; Household,C...</td>\n",
       "      <td>Health &amp; Beauty</td>\n",
       "      <td>amazonbasics/hl002619,amazonbasicsaaaperforman...</td>\n",
       "      <td>AmazonBasics</td>\n",
       "      <td>HL-002619</td>\n",
       "      <td>2016-03-28T00:00:00.000Z</td>\n",
       "      <td>2017-08-28T00:00:00Z</td>\n",
       "      <td>NaN</td>\n",
       "      <td>5</td>\n",
       "      <td>https://www.amazon.com/product-reviews/B00QWO9...</td>\n",
       "      <td>Seem to work as well as name brand batteries a...</td>\n",
       "      <td>... as well as name brand batteries at a much ...</td>\n",
       "      <td>Bymark sexson</td>\n",
       "    </tr>\n",
       "    <tr>\n",
       "      <th>4</th>\n",
       "      <td>AVpgNzjwLJeJML43Kpxn</td>\n",
       "      <td>2015-10-30T08:59:32Z</td>\n",
       "      <td>2019-04-25T09:08:16Z</td>\n",
       "      <td>AmazonBasics AAA Performance Alkaline Batterie...</td>\n",
       "      <td>B00QWO9P0O,B00LH3DMUO</td>\n",
       "      <td>Amazonbasics</td>\n",
       "      <td>AA,AAA,Health,Electronics,Health &amp; Household,C...</td>\n",
       "      <td>Health &amp; Beauty</td>\n",
       "      <td>amazonbasics/hl002619,amazonbasicsaaaperforman...</td>\n",
       "      <td>AmazonBasics</td>\n",
       "      <td>HL-002619</td>\n",
       "      <td>2017-04-22T00:00:00.000Z</td>\n",
       "      <td>2017-08-28T00:00:00Z</td>\n",
       "      <td>NaN</td>\n",
       "      <td>5</td>\n",
       "      <td>https://www.amazon.com/product-reviews/B00QWO9...</td>\n",
       "      <td>These batteries are very long lasting the pric...</td>\n",
       "      <td>... batteries are very long lasting the price ...</td>\n",
       "      <td>Bylinda</td>\n",
       "    </tr>\n",
       "  </tbody>\n",
       "</table>\n",
       "</div>"
      ],
      "text/plain": [
       "                     id             dateAdded           dateUpdated  \\\n",
       "0  AVpgNzjwLJeJML43Kpxn  2015-10-30T08:59:32Z  2019-04-25T09:08:16Z   \n",
       "1  AVpgNzjwLJeJML43Kpxn  2015-10-30T08:59:32Z  2019-04-25T09:08:16Z   \n",
       "2  AVpgNzjwLJeJML43Kpxn  2015-10-30T08:59:32Z  2019-04-25T09:08:16Z   \n",
       "3  AVpgNzjwLJeJML43Kpxn  2015-10-30T08:59:32Z  2019-04-25T09:08:16Z   \n",
       "4  AVpgNzjwLJeJML43Kpxn  2015-10-30T08:59:32Z  2019-04-25T09:08:16Z   \n",
       "\n",
       "                                                name                  asins  \\\n",
       "0  AmazonBasics AAA Performance Alkaline Batterie...  B00QWO9P0O,B00LH3DMUO   \n",
       "1  AmazonBasics AAA Performance Alkaline Batterie...  B00QWO9P0O,B00LH3DMUO   \n",
       "2  AmazonBasics AAA Performance Alkaline Batterie...  B00QWO9P0O,B00LH3DMUO   \n",
       "3  AmazonBasics AAA Performance Alkaline Batterie...  B00QWO9P0O,B00LH3DMUO   \n",
       "4  AmazonBasics AAA Performance Alkaline Batterie...  B00QWO9P0O,B00LH3DMUO   \n",
       "\n",
       "          brand                                         categories  \\\n",
       "0  Amazonbasics  AA,AAA,Health,Electronics,Health & Household,C...   \n",
       "1  Amazonbasics  AA,AAA,Health,Electronics,Health & Household,C...   \n",
       "2  Amazonbasics  AA,AAA,Health,Electronics,Health & Household,C...   \n",
       "3  Amazonbasics  AA,AAA,Health,Electronics,Health & Household,C...   \n",
       "4  Amazonbasics  AA,AAA,Health,Electronics,Health & Household,C...   \n",
       "\n",
       "  primaryCategories                                               keys  \\\n",
       "0   Health & Beauty  amazonbasics/hl002619,amazonbasicsaaaperforman...   \n",
       "1   Health & Beauty  amazonbasics/hl002619,amazonbasicsaaaperforman...   \n",
       "2   Health & Beauty  amazonbasics/hl002619,amazonbasicsaaaperforman...   \n",
       "3   Health & Beauty  amazonbasics/hl002619,amazonbasicsaaaperforman...   \n",
       "4   Health & Beauty  amazonbasics/hl002619,amazonbasicsaaaperforman...   \n",
       "\n",
       "   manufacturer manufacturerNumber              reviews.date  \\\n",
       "0  AmazonBasics          HL-002619  2017-03-02T00:00:00.000Z   \n",
       "1  AmazonBasics          HL-002619  2016-08-31T00:00:00.000Z   \n",
       "2  AmazonBasics          HL-002619  2016-12-06T00:00:00.000Z   \n",
       "3  AmazonBasics          HL-002619  2016-03-28T00:00:00.000Z   \n",
       "4  AmazonBasics          HL-002619  2017-04-22T00:00:00.000Z   \n",
       "\n",
       "       reviews.dateSeen  reviews.numHelpful  reviews.rating  \\\n",
       "0  2017-08-28T00:00:00Z                 NaN               3   \n",
       "1  2017-08-28T00:00:00Z                 NaN               4   \n",
       "2  2017-08-28T00:00:00Z                 NaN               5   \n",
       "3  2017-08-28T00:00:00Z                 NaN               5   \n",
       "4  2017-08-28T00:00:00Z                 NaN               5   \n",
       "\n",
       "                                  reviews.sourceURLs  \\\n",
       "0  https://www.amazon.com/product-reviews/B00QWO9...   \n",
       "1  https://www.amazon.com/product-reviews/B00QWO9...   \n",
       "2  https://www.amazon.com/product-reviews/B00QWO9...   \n",
       "3  https://www.amazon.com/product-reviews/B00QWO9...   \n",
       "4  https://www.amazon.com/product-reviews/B00QWO9...   \n",
       "\n",
       "                                        reviews.text  \\\n",
       "0  I order 3 of them and one of the item is bad q...   \n",
       "1  Bulk is always the less expensive way to go fo...   \n",
       "2  Well they are not Duracell but for the price i...   \n",
       "3  Seem to work as well as name brand batteries a...   \n",
       "4  These batteries are very long lasting the pric...   \n",
       "\n",
       "                                       reviews.title  reviews.username  \n",
       "0  ... 3 of them and one of the item is bad quali...        Byger yang  \n",
       "1  ... always the less expensive way to go for pr...              ByMG  \n",
       "2  ... are not Duracell but for the price i am ha...  BySharon Lambert  \n",
       "3  ... as well as name brand batteries at a much ...     Bymark sexson  \n",
       "4  ... batteries are very long lasting the price ...           Bylinda  "
      ]
     },
     "execution_count": 3,
     "metadata": {},
     "output_type": "execute_result"
    }
   ],
   "source": [
    "df.head()"
   ]
  },
  {
   "cell_type": "markdown",
   "id": "centered-reading",
   "metadata": {},
   "source": [
    "## Data Clean Up\n",
    "**Change Data Types**\n",
    "As needed, adjust certain datatypes to better suit analysis\n",
    " - **Date Time**: Any Date time field should be converted into their appropriate types\n",
    " - **Drop Unused Fields**: Certain fields will not add to the analysis of this data and can be droped.\n",
    " - **Referer**: Create a new column for the referring domain\n",
    " - **Categories**: Certain types of fields are better suited as categories vs. objects.  These are the fields with a limited number of entries such as Category, and Manufacturer."
   ]
  },
  {
   "cell_type": "code",
   "execution_count": 4,
   "id": "military-monroe",
   "metadata": {},
   "outputs": [],
   "source": [
    "# Date Time Conversion\n",
    "df['dateAdded']= pd.to_datetime(df['dateAdded'])\n",
    "df['dateUpdated']= pd.to_datetime(df['dateUpdated'])\n",
    "df['reviews.date']= pd.to_datetime(df['reviews.date'])"
   ]
  },
  {
   "cell_type": "code",
   "execution_count": 5,
   "id": "unsigned-hardware",
   "metadata": {},
   "outputs": [],
   "source": [
    "def get_domain(x):\n",
    "    \n",
    "    m = re.findall('://([\\w\\-\\.]+)', x)\n",
    "    \n",
    "    try:\n",
    "        return m[0]\n",
    "    except:\n",
    "        return None"
   ]
  },
  {
   "cell_type": "code",
   "execution_count": 6,
   "id": "peripheral-three",
   "metadata": {},
   "outputs": [],
   "source": [
    "df['domain'] = df['reviews.sourceURLs'].apply(lambda x: get_domain(x))"
   ]
  },
  {
   "cell_type": "code",
   "execution_count": 7,
   "id": "guided-hartford",
   "metadata": {},
   "outputs": [],
   "source": [
    "# Change to Categorical types\n",
    "df[\"brand\"] = df[\"brand\"].astype('category')\n",
    "df[\"primaryCategories\"] = df[\"primaryCategories\"].astype('category')\n",
    "df[\"manufacturer\"] = df[\"manufacturer\"].astype('category')\n",
    "df[\"reviews.username\"] = df[\"reviews.username\"].astype('category')\n",
    "df[\"domain\"] = df[\"domain\"].astype('category')"
   ]
  },
  {
   "cell_type": "code",
   "execution_count": 8,
   "id": "comic-livestock",
   "metadata": {},
   "outputs": [],
   "source": [
    "df.drop(columns=['id', 'manufacturerNumber', 'keys', 'categories', 'reviews.dateSeen', 'asins'], inplace=True)"
   ]
  },
  {
   "cell_type": "markdown",
   "id": "duplicate-approach",
   "metadata": {},
   "source": [
    "## EDA"
   ]
  },
  {
   "cell_type": "code",
   "execution_count": 9,
   "id": "appointed-canvas",
   "metadata": {},
   "outputs": [
    {
     "data": {
      "text/html": [
       "<div>\n",
       "<style scoped>\n",
       "    .dataframe tbody tr th:only-of-type {\n",
       "        vertical-align: middle;\n",
       "    }\n",
       "\n",
       "    .dataframe tbody tr th {\n",
       "        vertical-align: top;\n",
       "    }\n",
       "\n",
       "    .dataframe thead th {\n",
       "        text-align: right;\n",
       "    }\n",
       "</style>\n",
       "<table border=\"1\" class=\"dataframe\">\n",
       "  <thead>\n",
       "    <tr style=\"text-align: right;\">\n",
       "      <th></th>\n",
       "      <th>dateAdded</th>\n",
       "      <th>dateUpdated</th>\n",
       "      <th>name</th>\n",
       "      <th>brand</th>\n",
       "      <th>primaryCategories</th>\n",
       "      <th>manufacturer</th>\n",
       "      <th>reviews.date</th>\n",
       "      <th>reviews.numHelpful</th>\n",
       "      <th>reviews.rating</th>\n",
       "      <th>reviews.sourceURLs</th>\n",
       "      <th>reviews.text</th>\n",
       "      <th>reviews.title</th>\n",
       "      <th>reviews.username</th>\n",
       "      <th>domain</th>\n",
       "    </tr>\n",
       "  </thead>\n",
       "  <tbody>\n",
       "    <tr>\n",
       "      <th>0</th>\n",
       "      <td>2015-10-30 08:59:32+00:00</td>\n",
       "      <td>2019-04-25 09:08:16+00:00</td>\n",
       "      <td>AmazonBasics AAA Performance Alkaline Batterie...</td>\n",
       "      <td>Amazonbasics</td>\n",
       "      <td>Health &amp; Beauty</td>\n",
       "      <td>AmazonBasics</td>\n",
       "      <td>2017-03-02 00:00:00+00:00</td>\n",
       "      <td>NaN</td>\n",
       "      <td>3</td>\n",
       "      <td>https://www.amazon.com/product-reviews/B00QWO9...</td>\n",
       "      <td>I order 3 of them and one of the item is bad q...</td>\n",
       "      <td>... 3 of them and one of the item is bad quali...</td>\n",
       "      <td>Byger yang</td>\n",
       "      <td>www.amazon.com</td>\n",
       "    </tr>\n",
       "    <tr>\n",
       "      <th>1</th>\n",
       "      <td>2015-10-30 08:59:32+00:00</td>\n",
       "      <td>2019-04-25 09:08:16+00:00</td>\n",
       "      <td>AmazonBasics AAA Performance Alkaline Batterie...</td>\n",
       "      <td>Amazonbasics</td>\n",
       "      <td>Health &amp; Beauty</td>\n",
       "      <td>AmazonBasics</td>\n",
       "      <td>2016-08-31 00:00:00+00:00</td>\n",
       "      <td>NaN</td>\n",
       "      <td>4</td>\n",
       "      <td>https://www.amazon.com/product-reviews/B00QWO9...</td>\n",
       "      <td>Bulk is always the less expensive way to go fo...</td>\n",
       "      <td>... always the less expensive way to go for pr...</td>\n",
       "      <td>ByMG</td>\n",
       "      <td>www.amazon.com</td>\n",
       "    </tr>\n",
       "    <tr>\n",
       "      <th>2</th>\n",
       "      <td>2015-10-30 08:59:32+00:00</td>\n",
       "      <td>2019-04-25 09:08:16+00:00</td>\n",
       "      <td>AmazonBasics AAA Performance Alkaline Batterie...</td>\n",
       "      <td>Amazonbasics</td>\n",
       "      <td>Health &amp; Beauty</td>\n",
       "      <td>AmazonBasics</td>\n",
       "      <td>2016-12-06 00:00:00+00:00</td>\n",
       "      <td>NaN</td>\n",
       "      <td>5</td>\n",
       "      <td>https://www.amazon.com/product-reviews/B00QWO9...</td>\n",
       "      <td>Well they are not Duracell but for the price i...</td>\n",
       "      <td>... are not Duracell but for the price i am ha...</td>\n",
       "      <td>BySharon Lambert</td>\n",
       "      <td>www.amazon.com</td>\n",
       "    </tr>\n",
       "    <tr>\n",
       "      <th>3</th>\n",
       "      <td>2015-10-30 08:59:32+00:00</td>\n",
       "      <td>2019-04-25 09:08:16+00:00</td>\n",
       "      <td>AmazonBasics AAA Performance Alkaline Batterie...</td>\n",
       "      <td>Amazonbasics</td>\n",
       "      <td>Health &amp; Beauty</td>\n",
       "      <td>AmazonBasics</td>\n",
       "      <td>2016-03-28 00:00:00+00:00</td>\n",
       "      <td>NaN</td>\n",
       "      <td>5</td>\n",
       "      <td>https://www.amazon.com/product-reviews/B00QWO9...</td>\n",
       "      <td>Seem to work as well as name brand batteries a...</td>\n",
       "      <td>... as well as name brand batteries at a much ...</td>\n",
       "      <td>Bymark sexson</td>\n",
       "      <td>www.amazon.com</td>\n",
       "    </tr>\n",
       "    <tr>\n",
       "      <th>4</th>\n",
       "      <td>2015-10-30 08:59:32+00:00</td>\n",
       "      <td>2019-04-25 09:08:16+00:00</td>\n",
       "      <td>AmazonBasics AAA Performance Alkaline Batterie...</td>\n",
       "      <td>Amazonbasics</td>\n",
       "      <td>Health &amp; Beauty</td>\n",
       "      <td>AmazonBasics</td>\n",
       "      <td>2017-04-22 00:00:00+00:00</td>\n",
       "      <td>NaN</td>\n",
       "      <td>5</td>\n",
       "      <td>https://www.amazon.com/product-reviews/B00QWO9...</td>\n",
       "      <td>These batteries are very long lasting the pric...</td>\n",
       "      <td>... batteries are very long lasting the price ...</td>\n",
       "      <td>Bylinda</td>\n",
       "      <td>www.amazon.com</td>\n",
       "    </tr>\n",
       "  </tbody>\n",
       "</table>\n",
       "</div>"
      ],
      "text/plain": [
       "                  dateAdded               dateUpdated  \\\n",
       "0 2015-10-30 08:59:32+00:00 2019-04-25 09:08:16+00:00   \n",
       "1 2015-10-30 08:59:32+00:00 2019-04-25 09:08:16+00:00   \n",
       "2 2015-10-30 08:59:32+00:00 2019-04-25 09:08:16+00:00   \n",
       "3 2015-10-30 08:59:32+00:00 2019-04-25 09:08:16+00:00   \n",
       "4 2015-10-30 08:59:32+00:00 2019-04-25 09:08:16+00:00   \n",
       "\n",
       "                                                name         brand  \\\n",
       "0  AmazonBasics AAA Performance Alkaline Batterie...  Amazonbasics   \n",
       "1  AmazonBasics AAA Performance Alkaline Batterie...  Amazonbasics   \n",
       "2  AmazonBasics AAA Performance Alkaline Batterie...  Amazonbasics   \n",
       "3  AmazonBasics AAA Performance Alkaline Batterie...  Amazonbasics   \n",
       "4  AmazonBasics AAA Performance Alkaline Batterie...  Amazonbasics   \n",
       "\n",
       "  primaryCategories  manufacturer              reviews.date  \\\n",
       "0   Health & Beauty  AmazonBasics 2017-03-02 00:00:00+00:00   \n",
       "1   Health & Beauty  AmazonBasics 2016-08-31 00:00:00+00:00   \n",
       "2   Health & Beauty  AmazonBasics 2016-12-06 00:00:00+00:00   \n",
       "3   Health & Beauty  AmazonBasics 2016-03-28 00:00:00+00:00   \n",
       "4   Health & Beauty  AmazonBasics 2017-04-22 00:00:00+00:00   \n",
       "\n",
       "   reviews.numHelpful  reviews.rating  \\\n",
       "0                 NaN               3   \n",
       "1                 NaN               4   \n",
       "2                 NaN               5   \n",
       "3                 NaN               5   \n",
       "4                 NaN               5   \n",
       "\n",
       "                                  reviews.sourceURLs  \\\n",
       "0  https://www.amazon.com/product-reviews/B00QWO9...   \n",
       "1  https://www.amazon.com/product-reviews/B00QWO9...   \n",
       "2  https://www.amazon.com/product-reviews/B00QWO9...   \n",
       "3  https://www.amazon.com/product-reviews/B00QWO9...   \n",
       "4  https://www.amazon.com/product-reviews/B00QWO9...   \n",
       "\n",
       "                                        reviews.text  \\\n",
       "0  I order 3 of them and one of the item is bad q...   \n",
       "1  Bulk is always the less expensive way to go fo...   \n",
       "2  Well they are not Duracell but for the price i...   \n",
       "3  Seem to work as well as name brand batteries a...   \n",
       "4  These batteries are very long lasting the pric...   \n",
       "\n",
       "                                       reviews.title  reviews.username  \\\n",
       "0  ... 3 of them and one of the item is bad quali...        Byger yang   \n",
       "1  ... always the less expensive way to go for pr...              ByMG   \n",
       "2  ... are not Duracell but for the price i am ha...  BySharon Lambert   \n",
       "3  ... as well as name brand batteries at a much ...     Bymark sexson   \n",
       "4  ... batteries are very long lasting the price ...           Bylinda   \n",
       "\n",
       "           domain  \n",
       "0  www.amazon.com  \n",
       "1  www.amazon.com  \n",
       "2  www.amazon.com  \n",
       "3  www.amazon.com  \n",
       "4  www.amazon.com  "
      ]
     },
     "execution_count": 9,
     "metadata": {},
     "output_type": "execute_result"
    }
   ],
   "source": [
    "df.head()"
   ]
  },
  {
   "cell_type": "code",
   "execution_count": 10,
   "id": "south-trace",
   "metadata": {},
   "outputs": [
    {
     "name": "stdout",
     "output_type": "stream",
     "text": [
      "<class 'pandas.core.frame.DataFrame'>\n",
      "RangeIndex: 28332 entries, 0 to 28331\n",
      "Data columns (total 14 columns):\n",
      " #   Column              Non-Null Count  Dtype              \n",
      "---  ------              --------------  -----              \n",
      " 0   dateAdded           28332 non-null  datetime64[ns, UTC]\n",
      " 1   dateUpdated         28332 non-null  datetime64[ns, UTC]\n",
      " 2   name                28332 non-null  object             \n",
      " 3   brand               28332 non-null  category           \n",
      " 4   primaryCategories   28332 non-null  category           \n",
      " 5   manufacturer        28332 non-null  category           \n",
      " 6   reviews.date        28332 non-null  datetime64[ns, UTC]\n",
      " 7   reviews.numHelpful  16115 non-null  float64            \n",
      " 8   reviews.rating      28332 non-null  int64              \n",
      " 9   reviews.sourceURLs  28332 non-null  object             \n",
      " 10  reviews.text        28332 non-null  object             \n",
      " 11  reviews.title       28332 non-null  object             \n",
      " 12  reviews.username    28332 non-null  category           \n",
      " 13  domain              28332 non-null  category           \n",
      "dtypes: category(5), datetime64[ns, UTC](3), float64(1), int64(1), object(4)\n",
      "memory usage: 2.7+ MB\n"
     ]
    }
   ],
   "source": [
    "df.info()"
   ]
  },
  {
   "cell_type": "code",
   "execution_count": 11,
   "id": "cellular-helicopter",
   "metadata": {},
   "outputs": [
    {
     "data": {
      "text/html": [
       "<div>\n",
       "<style scoped>\n",
       "    .dataframe tbody tr th:only-of-type {\n",
       "        vertical-align: middle;\n",
       "    }\n",
       "\n",
       "    .dataframe tbody tr th {\n",
       "        vertical-align: top;\n",
       "    }\n",
       "\n",
       "    .dataframe thead th {\n",
       "        text-align: right;\n",
       "    }\n",
       "</style>\n",
       "<table border=\"1\" class=\"dataframe\">\n",
       "  <thead>\n",
       "    <tr style=\"text-align: right;\">\n",
       "      <th></th>\n",
       "      <th>reviews.numHelpful</th>\n",
       "      <th>reviews.rating</th>\n",
       "    </tr>\n",
       "  </thead>\n",
       "  <tbody>\n",
       "    <tr>\n",
       "      <th>count</th>\n",
       "      <td>16115.000000</td>\n",
       "      <td>28332.000000</td>\n",
       "    </tr>\n",
       "    <tr>\n",
       "      <th>mean</th>\n",
       "      <td>0.529321</td>\n",
       "      <td>4.514048</td>\n",
       "    </tr>\n",
       "    <tr>\n",
       "      <th>std</th>\n",
       "      <td>9.345017</td>\n",
       "      <td>0.934957</td>\n",
       "    </tr>\n",
       "    <tr>\n",
       "      <th>min</th>\n",
       "      <td>0.000000</td>\n",
       "      <td>1.000000</td>\n",
       "    </tr>\n",
       "    <tr>\n",
       "      <th>25%</th>\n",
       "      <td>0.000000</td>\n",
       "      <td>4.000000</td>\n",
       "    </tr>\n",
       "    <tr>\n",
       "      <th>50%</th>\n",
       "      <td>0.000000</td>\n",
       "      <td>5.000000</td>\n",
       "    </tr>\n",
       "    <tr>\n",
       "      <th>75%</th>\n",
       "      <td>0.000000</td>\n",
       "      <td>5.000000</td>\n",
       "    </tr>\n",
       "    <tr>\n",
       "      <th>max</th>\n",
       "      <td>621.000000</td>\n",
       "      <td>5.000000</td>\n",
       "    </tr>\n",
       "  </tbody>\n",
       "</table>\n",
       "</div>"
      ],
      "text/plain": [
       "       reviews.numHelpful  reviews.rating\n",
       "count        16115.000000    28332.000000\n",
       "mean             0.529321        4.514048\n",
       "std              9.345017        0.934957\n",
       "min              0.000000        1.000000\n",
       "25%              0.000000        4.000000\n",
       "50%              0.000000        5.000000\n",
       "75%              0.000000        5.000000\n",
       "max            621.000000        5.000000"
      ]
     },
     "execution_count": 11,
     "metadata": {},
     "output_type": "execute_result"
    }
   ],
   "source": [
    "df.describe()"
   ]
  },
  {
   "cell_type": "code",
   "execution_count": 12,
   "id": "protective-setup",
   "metadata": {},
   "outputs": [
    {
     "data": {
      "text/plain": [
       "(28332, 14)"
      ]
     },
     "execution_count": 12,
     "metadata": {},
     "output_type": "execute_result"
    }
   ],
   "source": [
    "df.shape"
   ]
  },
  {
   "cell_type": "code",
   "execution_count": 13,
   "id": "honey-slave",
   "metadata": {},
   "outputs": [
    {
     "name": "stdout",
     "output_type": "stream",
     "text": [
      "<class 'pandas.core.frame.DataFrame'>\n",
      "RangeIndex: 28332 entries, 0 to 28331\n",
      "Data columns (total 5 columns):\n",
      " #   Column             Non-Null Count  Dtype   \n",
      "---  ------             --------------  -----   \n",
      " 0   brand              28332 non-null  category\n",
      " 1   primaryCategories  28332 non-null  category\n",
      " 2   manufacturer       28332 non-null  category\n",
      " 3   reviews.username   28332 non-null  category\n",
      " 4   domain             28332 non-null  category\n",
      "dtypes: category(5)\n",
      "memory usage: 810.2 KB\n"
     ]
    }
   ],
   "source": [
    "# get categorical data\n",
    "cat_data = df.select_dtypes(include=['category'])\n",
    "cat_data.info()"
   ]
  },
  {
   "cell_type": "code",
   "execution_count": 14,
   "id": "biological-defeat",
   "metadata": {},
   "outputs": [
    {
     "name": "stdout",
     "output_type": "stream",
     "text": [
      "brand\n",
      "Amazon          16153\n",
      "Amazonbasics    12169\n",
      "AmazonBasics       10\n",
      "Name: brand, dtype: int64 \n",
      "\n",
      "primaryCategories\n",
      "Electronics                    13995\n",
      "Health & Beauty                12071\n",
      "Toys & Games,Electronics        1676\n",
      "Office Supplies,Electronics      386\n",
      "Electronics,Media                185\n",
      "Office Supplies                    9\n",
      "Animals & Pet Supplies             6\n",
      "Electronics,Furniture              2\n",
      "Home & Garden                      2\n",
      "Name: primaryCategories, dtype: int64 \n",
      "\n",
      "manufacturer\n",
      "Amazon                     16130\n",
      "AmazonBasics               12179\n",
      "Amazon Digital Services       18\n",
      "Amazon.com                     5\n",
      "Name: manufacturer, dtype: int64 \n",
      "\n",
      "reviews.username\n",
      "ByAmazon Customer     889\n",
      "Mike                   63\n",
      "ByKindle Customer      45\n",
      "Dave                   44\n",
      "Chris                  38\n",
      "                     ... \n",
      "ByRatqueen Reader       1\n",
      "ByRaul Villarreal       1\n",
      "ByRay J Carstensen      1\n",
      "ByRay Ray               1\n",
      "ztlbxx                  1\n",
      "Name: reviews.username, Length: 16269, dtype: int64 \n",
      "\n",
      "domain\n",
      "reviews.bestbuy.com    16043\n",
      "www.amazon.com         12144\n",
      "www.ebay.com              81\n",
      "redsky.target.com         43\n",
      "www.amazon.co.uk          12\n",
      "www.newegg.com             9\n",
      "Name: domain, dtype: int64 \n",
      "\n"
     ]
    }
   ],
   "source": [
    "# show counts values of each categorical variable\n",
    "for colname in cat_data.columns:\n",
    "    print (colname)\n",
    "    print (cat_data[colname].value_counts(), '\\n')"
   ]
  },
  {
   "cell_type": "code",
   "execution_count": null,
   "id": "greater-charlotte",
   "metadata": {},
   "outputs": [],
   "source": []
  },
  {
   "cell_type": "code",
   "execution_count": null,
   "id": "defensive-defeat",
   "metadata": {},
   "outputs": [],
   "source": []
  },
  {
   "cell_type": "code",
   "execution_count": 15,
   "id": "civic-estate",
   "metadata": {},
   "outputs": [
    {
     "data": {
      "image/png": "[encoded data removed]",
      "text/plain": [
       "<Figure size 576x360 with 1 Axes>"
      ]
     },
     "metadata": {
      "needs_background": "light"
     },
     "output_type": "display_data"
    }
   ],
   "source": [
    "plt.figure(figsize=(8,5))\n",
    "sns.countplot(x='reviews.rating', data=df, palette=\"tab20\", dodge=False);"
   ]
  },
  {
   "cell_type": "code",
   "execution_count": 16,
   "id": "settled-medicaid",
   "metadata": {},
   "outputs": [
    {
     "data": {
      "image/png": "[encoded data removed]",
      "text/plain": [
       "<Figure size 576x288 with 1 Axes>"
      ]
     },
     "metadata": {
      "needs_background": "light"
     },
     "output_type": "display_data"
    }
   ],
   "source": [
    "plt.figure(figsize=(8,4))\n",
    "sns.countplot(y='primaryCategories', data=df, palette=\"tab20\", orient='v');"
   ]
  },
  {
   "cell_type": "code",
   "execution_count": 17,
   "id": "trying-tragedy",
   "metadata": {},
   "outputs": [
    {
     "data": {
      "image/png": "[encoded data removed]",
      "text/plain": [
       "<Figure size 576x288 with 1 Axes>"
      ]
     },
     "metadata": {
      "needs_background": "light"
     },
     "output_type": "display_data"
    }
   ],
   "source": [
    "plt.figure(figsize=(8,4))\n",
    "sns.countplot(y='domain', data=df, palette=\"tab20\", orient='v');"
   ]
  },
  {
   "cell_type": "markdown",
   "id": "romantic-partnership",
   "metadata": {},
   "source": [
    "# Preprocessing"
   ]
  },
  {
   "cell_type": "code",
   "execution_count": null,
   "id": "built-staff",
   "metadata": {},
   "outputs": [],
   "source": []
  },
  {
   "cell_type": "code",
   "execution_count": null,
   "id": "broadband-patrol",
   "metadata": {},
   "outputs": [],
   "source": []
  },
  {
   "cell_type": "code",
   "execution_count": null,
   "id": "fantastic-belly",
   "metadata": {},
   "outputs": [],
   "source": []
  },
  {
   "cell_type": "markdown",
   "id": "super-vietnam",
   "metadata": {},
   "source": [
    "# Machine learning"
   ]
  },
  {
   "cell_type": "code",
   "execution_count": null,
   "id": "center-firmware",
   "metadata": {},
   "outputs": [],
   "source": []
  }
 ],
 "metadata": {
  "kernelspec": {
   "display_name": "Python 3",
   "language": "python",
   "name": "python3"
  },
  "language_info": {
   "codemirror_mode": {
    "name": "ipython",
    "version": 3
   },
   "file_extension": ".py",
   "mimetype": "text/x-python",
   "name": "python",
   "nbconvert_exporter": "python",
   "pygments_lexer": "ipython3",
   "version": "3.8.8"
  }
 },
 "nbformat": 4,
 "nbformat_minor": 5
}
