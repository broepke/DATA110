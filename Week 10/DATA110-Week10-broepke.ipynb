{
 "cells": [
  {
   "cell_type": "markdown",
   "id": "cardiovascular-newark",
   "metadata": {},
   "source": [
    "# Week 10 Assignment: Sentiment Analysis\n",
    "\n",
    "**Brian Roepke**  \n",
    "*DATA 110*\n",
    "\n",
    "For the given dataset perform sentiment analysis using  1) Machine Learning and 2) Lexicon-based techniques.  Refer to assigned reading (especially ch 7), supplementals, or conduct your own research.\n",
    "\n",
    "Requirements:\n",
    "\n",
    "1) Perform full EDA,  including key statistics and visualizations.\n",
    "\n",
    "2) Perform required text preprocessing and feature vectorization (Eg: TF-IDF)\n",
    "\n",
    "3) Modeling: Create ML and Lexicon-based models.\n",
    "\n",
    " a) Machine learning:\n",
    "\n",
    " - create a new column (sent_label) for the target based on reviews.rating, where  1, 2, or 3 are labeled as 0 (negative) while 4 or greater are labeled as 1 (positive)\n",
    "\n",
    "- Use any appropriate ML algorithm (eg: SVM, Logistic Regression, etc...)  and create 3 different models using pipelines. \n",
    "\n",
    "- Use cross-validation (StratifiedKFold for imbalanced datasets) to compare each of the models for model selection.\n",
    "\n",
    "- Consider the case of imbalanced dataset (Eg: significantly more positive reviews versus negative reviews). \n",
    "\n",
    "\n",
    "\n",
    "b) Lexicon: use any of the lexicons such as VADER or SentiWordNet.\n",
    "\n",
    "4) Assess performance using appropriate performance metrics. Compare performance between the two approaches.\n",
    "\n",
    "5) For both approaches, provide visualizations of the most common words in negative and positive reviews.  These can be bar plots, word clouds, etc."
   ]
  },
  {
   "cell_type": "code",
   "execution_count": 69,
   "id": "buried-queens",
   "metadata": {},
   "outputs": [],
   "source": [
    "import numpy as np\n",
    "import pandas as pd\n",
    "import re\n",
    "import itertools\n",
    "import string\n",
    "\n",
    "\n",
    "import sklearn as sk\n",
    "from sklearn.model_selection import train_test_split\n",
    "from sklearn.feature_extraction.text import CountVectorizer, TfidfVectorizer\n",
    "from sklearn.naive_bayes import MultinomialNB, ComplementNB\n",
    "from sklearn import metrics \n",
    "from sklearn.utils import resample\n",
    "from sklearn.pipeline import Pipeline\n",
    "from sklearn.model_selection import GridSearchCV\n",
    "from sklearn.cluster import KMeans\n",
    "from sklearn.metrics import adjusted_rand_score\n",
    "from sklearn.svm import SVC\n",
    "\n",
    "# NLTK Imports and Downloads\n",
    "import nltk\n",
    "from nltk.tokenize import word_tokenize\n",
    "from nltk.sentiment.util import *\n",
    "from nltk.sentiment.vader import SentimentIntensityAnalyzer\n",
    "from nltk.stem import PorterStemmer\n",
    "from nltk.probability import FreqDist\n",
    "\n",
    "import seaborn as sns\n",
    "import matplotlib.pyplot as plt\n",
    "%matplotlib inline"
   ]
  },
  {
   "cell_type": "code",
   "execution_count": 2,
   "id": "generic-respect",
   "metadata": {},
   "outputs": [],
   "source": [
    "df = pd.read_csv(\"Amazon_Consumer_Reviews.csv\")"
   ]
  },
  {
   "cell_type": "markdown",
   "id": "polish-output",
   "metadata": {},
   "source": [
    "# EDA"
   ]
  },
  {
   "cell_type": "code",
   "execution_count": 3,
   "id": "hearing-norwegian",
   "metadata": {},
   "outputs": [
    {
     "data": {
      "text/html": [
       "<div>\n",
       "<style scoped>\n",
       "    .dataframe tbody tr th:only-of-type {\n",
       "        vertical-align: middle;\n",
       "    }\n",
       "\n",
       "    .dataframe tbody tr th {\n",
       "        vertical-align: top;\n",
       "    }\n",
       "\n",
       "    .dataframe thead th {\n",
       "        text-align: right;\n",
       "    }\n",
       "</style>\n",
       "<table border=\"1\" class=\"dataframe\">\n",
       "  <thead>\n",
       "    <tr style=\"text-align: right;\">\n",
       "      <th></th>\n",
       "      <th>id</th>\n",
       "      <th>dateAdded</th>\n",
       "      <th>dateUpdated</th>\n",
       "      <th>name</th>\n",
       "      <th>asins</th>\n",
       "      <th>brand</th>\n",
       "      <th>categories</th>\n",
       "      <th>primaryCategories</th>\n",
       "      <th>keys</th>\n",
       "      <th>manufacturer</th>\n",
       "      <th>manufacturerNumber</th>\n",
       "      <th>reviews.date</th>\n",
       "      <th>reviews.dateSeen</th>\n",
       "      <th>reviews.numHelpful</th>\n",
       "      <th>reviews.rating</th>\n",
       "      <th>reviews.sourceURLs</th>\n",
       "      <th>reviews.text</th>\n",
       "      <th>reviews.title</th>\n",
       "      <th>reviews.username</th>\n",
       "    </tr>\n",
       "  </thead>\n",
       "  <tbody>\n",
       "    <tr>\n",
       "      <th>0</th>\n",
       "      <td>AVpgNzjwLJeJML43Kpxn</td>\n",
       "      <td>2015-10-30T08:59:32Z</td>\n",
       "      <td>2019-04-25T09:08:16Z</td>\n",
       "      <td>AmazonBasics AAA Performance Alkaline Batterie...</td>\n",
       "      <td>B00QWO9P0O,B00LH3DMUO</td>\n",
       "      <td>Amazonbasics</td>\n",
       "      <td>AA,AAA,Health,Electronics,Health &amp; Household,C...</td>\n",
       "      <td>Health &amp; Beauty</td>\n",
       "      <td>amazonbasics/hl002619,amazonbasicsaaaperforman...</td>\n",
       "      <td>AmazonBasics</td>\n",
       "      <td>HL-002619</td>\n",
       "      <td>2017-03-02T00:00:00.000Z</td>\n",
       "      <td>2017-08-28T00:00:00Z</td>\n",
       "      <td>NaN</td>\n",
       "      <td>3</td>\n",
       "      <td>https://www.amazon.com/product-reviews/B00QWO9...</td>\n",
       "      <td>I order 3 of them and one of the item is bad q...</td>\n",
       "      <td>... 3 of them and one of the item is bad quali...</td>\n",
       "      <td>Byger yang</td>\n",
       "    </tr>\n",
       "    <tr>\n",
       "      <th>1</th>\n",
       "      <td>AVpgNzjwLJeJML43Kpxn</td>\n",
       "      <td>2015-10-30T08:59:32Z</td>\n",
       "      <td>2019-04-25T09:08:16Z</td>\n",
       "      <td>AmazonBasics AAA Performance Alkaline Batterie...</td>\n",
       "      <td>B00QWO9P0O,B00LH3DMUO</td>\n",
       "      <td>Amazonbasics</td>\n",
       "      <td>AA,AAA,Health,Electronics,Health &amp; Household,C...</td>\n",
       "      <td>Health &amp; Beauty</td>\n",
       "      <td>amazonbasics/hl002619,amazonbasicsaaaperforman...</td>\n",
       "      <td>AmazonBasics</td>\n",
       "      <td>HL-002619</td>\n",
       "      <td>2016-08-31T00:00:00.000Z</td>\n",
       "      <td>2017-08-28T00:00:00Z</td>\n",
       "      <td>NaN</td>\n",
       "      <td>4</td>\n",
       "      <td>https://www.amazon.com/product-reviews/B00QWO9...</td>\n",
       "      <td>Bulk is always the less expensive way to go fo...</td>\n",
       "      <td>... always the less expensive way to go for pr...</td>\n",
       "      <td>ByMG</td>\n",
       "    </tr>\n",
       "    <tr>\n",
       "      <th>2</th>\n",
       "      <td>AVpgNzjwLJeJML43Kpxn</td>\n",
       "      <td>2015-10-30T08:59:32Z</td>\n",
       "      <td>2019-04-25T09:08:16Z</td>\n",
       "      <td>AmazonBasics AAA Performance Alkaline Batterie...</td>\n",
       "      <td>B00QWO9P0O,B00LH3DMUO</td>\n",
       "      <td>Amazonbasics</td>\n",
       "      <td>AA,AAA,Health,Electronics,Health &amp; Household,C...</td>\n",
       "      <td>Health &amp; Beauty</td>\n",
       "      <td>amazonbasics/hl002619,amazonbasicsaaaperforman...</td>\n",
       "      <td>AmazonBasics</td>\n",
       "      <td>HL-002619</td>\n",
       "      <td>2016-12-06T00:00:00.000Z</td>\n",
       "      <td>2017-08-28T00:00:00Z</td>\n",
       "      <td>NaN</td>\n",
       "      <td>5</td>\n",
       "      <td>https://www.amazon.com/product-reviews/B00QWO9...</td>\n",
       "      <td>Well they are not Duracell but for the price i...</td>\n",
       "      <td>... are not Duracell but for the price i am ha...</td>\n",
       "      <td>BySharon Lambert</td>\n",
       "    </tr>\n",
       "    <tr>\n",
       "      <th>3</th>\n",
       "      <td>AVpgNzjwLJeJML43Kpxn</td>\n",
       "      <td>2015-10-30T08:59:32Z</td>\n",
       "      <td>2019-04-25T09:08:16Z</td>\n",
       "      <td>AmazonBasics AAA Performance Alkaline Batterie...</td>\n",
       "      <td>B00QWO9P0O,B00LH3DMUO</td>\n",
       "      <td>Amazonbasics</td>\n",
       "      <td>AA,AAA,Health,Electronics,Health &amp; Household,C...</td>\n",
       "      <td>Health &amp; Beauty</td>\n",
       "      <td>amazonbasics/hl002619,amazonbasicsaaaperforman...</td>\n",
       "      <td>AmazonBasics</td>\n",
       "      <td>HL-002619</td>\n",
       "      <td>2016-03-28T00:00:00.000Z</td>\n",
       "      <td>2017-08-28T00:00:00Z</td>\n",
       "      <td>NaN</td>\n",
       "      <td>5</td>\n",
       "      <td>https://www.amazon.com/product-reviews/B00QWO9...</td>\n",
       "      <td>Seem to work as well as name brand batteries a...</td>\n",
       "      <td>... as well as name brand batteries at a much ...</td>\n",
       "      <td>Bymark sexson</td>\n",
       "    </tr>\n",
       "    <tr>\n",
       "      <th>4</th>\n",
       "      <td>AVpgNzjwLJeJML43Kpxn</td>\n",
       "      <td>2015-10-30T08:59:32Z</td>\n",
       "      <td>2019-04-25T09:08:16Z</td>\n",
       "      <td>AmazonBasics AAA Performance Alkaline Batterie...</td>\n",
       "      <td>B00QWO9P0O,B00LH3DMUO</td>\n",
       "      <td>Amazonbasics</td>\n",
       "      <td>AA,AAA,Health,Electronics,Health &amp; Household,C...</td>\n",
       "      <td>Health &amp; Beauty</td>\n",
       "      <td>amazonbasics/hl002619,amazonbasicsaaaperforman...</td>\n",
       "      <td>AmazonBasics</td>\n",
       "      <td>HL-002619</td>\n",
       "      <td>2017-04-22T00:00:00.000Z</td>\n",
       "      <td>2017-08-28T00:00:00Z</td>\n",
       "      <td>NaN</td>\n",
       "      <td>5</td>\n",
       "      <td>https://www.amazon.com/product-reviews/B00QWO9...</td>\n",
       "      <td>These batteries are very long lasting the pric...</td>\n",
       "      <td>... batteries are very long lasting the price ...</td>\n",
       "      <td>Bylinda</td>\n",
       "    </tr>\n",
       "  </tbody>\n",
       "</table>\n",
       "</div>"
      ],
      "text/plain": [
       "                     id             dateAdded           dateUpdated  \\\n",
       "0  AVpgNzjwLJeJML43Kpxn  2015-10-30T08:59:32Z  2019-04-25T09:08:16Z   \n",
       "1  AVpgNzjwLJeJML43Kpxn  2015-10-30T08:59:32Z  2019-04-25T09:08:16Z   \n",
       "2  AVpgNzjwLJeJML43Kpxn  2015-10-30T08:59:32Z  2019-04-25T09:08:16Z   \n",
       "3  AVpgNzjwLJeJML43Kpxn  2015-10-30T08:59:32Z  2019-04-25T09:08:16Z   \n",
       "4  AVpgNzjwLJeJML43Kpxn  2015-10-30T08:59:32Z  2019-04-25T09:08:16Z   \n",
       "\n",
       "                                                name                  asins  \\\n",
       "0  AmazonBasics AAA Performance Alkaline Batterie...  B00QWO9P0O,B00LH3DMUO   \n",
       "1  AmazonBasics AAA Performance Alkaline Batterie...  B00QWO9P0O,B00LH3DMUO   \n",
       "2  AmazonBasics AAA Performance Alkaline Batterie...  B00QWO9P0O,B00LH3DMUO   \n",
       "3  AmazonBasics AAA Performance Alkaline Batterie...  B00QWO9P0O,B00LH3DMUO   \n",
       "4  AmazonBasics AAA Performance Alkaline Batterie...  B00QWO9P0O,B00LH3DMUO   \n",
       "\n",
       "          brand                                         categories  \\\n",
       "0  Amazonbasics  AA,AAA,Health,Electronics,Health & Household,C...   \n",
       "1  Amazonbasics  AA,AAA,Health,Electronics,Health & Household,C...   \n",
       "2  Amazonbasics  AA,AAA,Health,Electronics,Health & Household,C...   \n",
       "3  Amazonbasics  AA,AAA,Health,Electronics,Health & Household,C...   \n",
       "4  Amazonbasics  AA,AAA,Health,Electronics,Health & Household,C...   \n",
       "\n",
       "  primaryCategories                                               keys  \\\n",
       "0   Health & Beauty  amazonbasics/hl002619,amazonbasicsaaaperforman...   \n",
       "1   Health & Beauty  amazonbasics/hl002619,amazonbasicsaaaperforman...   \n",
       "2   Health & Beauty  amazonbasics/hl002619,amazonbasicsaaaperforman...   \n",
       "3   Health & Beauty  amazonbasics/hl002619,amazonbasicsaaaperforman...   \n",
       "4   Health & Beauty  amazonbasics/hl002619,amazonbasicsaaaperforman...   \n",
       "\n",
       "   manufacturer manufacturerNumber              reviews.date  \\\n",
       "0  AmazonBasics          HL-002619  2017-03-02T00:00:00.000Z   \n",
       "1  AmazonBasics          HL-002619  2016-08-31T00:00:00.000Z   \n",
       "2  AmazonBasics          HL-002619  2016-12-06T00:00:00.000Z   \n",
       "3  AmazonBasics          HL-002619  2016-03-28T00:00:00.000Z   \n",
       "4  AmazonBasics          HL-002619  2017-04-22T00:00:00.000Z   \n",
       "\n",
       "       reviews.dateSeen  reviews.numHelpful  reviews.rating  \\\n",
       "0  2017-08-28T00:00:00Z                 NaN               3   \n",
       "1  2017-08-28T00:00:00Z                 NaN               4   \n",
       "2  2017-08-28T00:00:00Z                 NaN               5   \n",
       "3  2017-08-28T00:00:00Z                 NaN               5   \n",
       "4  2017-08-28T00:00:00Z                 NaN               5   \n",
       "\n",
       "                                  reviews.sourceURLs  \\\n",
       "0  https://www.amazon.com/product-reviews/B00QWO9...   \n",
       "1  https://www.amazon.com/product-reviews/B00QWO9...   \n",
       "2  https://www.amazon.com/product-reviews/B00QWO9...   \n",
       "3  https://www.amazon.com/product-reviews/B00QWO9...   \n",
       "4  https://www.amazon.com/product-reviews/B00QWO9...   \n",
       "\n",
       "                                        reviews.text  \\\n",
       "0  I order 3 of them and one of the item is bad q...   \n",
       "1  Bulk is always the less expensive way to go fo...   \n",
       "2  Well they are not Duracell but for the price i...   \n",
       "3  Seem to work as well as name brand batteries a...   \n",
       "4  These batteries are very long lasting the pric...   \n",
       "\n",
       "                                       reviews.title  reviews.username  \n",
       "0  ... 3 of them and one of the item is bad quali...        Byger yang  \n",
       "1  ... always the less expensive way to go for pr...              ByMG  \n",
       "2  ... are not Duracell but for the price i am ha...  BySharon Lambert  \n",
       "3  ... as well as name brand batteries at a much ...     Bymark sexson  \n",
       "4  ... batteries are very long lasting the price ...           Bylinda  "
      ]
     },
     "execution_count": 3,
     "metadata": {},
     "output_type": "execute_result"
    }
   ],
   "source": [
    "df.head()"
   ]
  },
  {
   "cell_type": "markdown",
   "id": "armed-circuit",
   "metadata": {},
   "source": [
    "## Data Clean Up\n",
    "**Change Data Types**\n",
    "As needed, adjust certain datatypes to better suit analysis\n",
    " - **Date Time**: Any Date time field should be converted into their appropriate types\n",
    " - **Drop Unused Fields**: Certain fields will not add to the analysis of this data and can be droped.\n",
    " - **Referer**: Create a new column for the referring domain\n",
    " - **Categories**: Certain types of fields are better suited as categories vs. objects.  These are the fields with a limited number of entries such as Category, and Manufacturer."
   ]
  },
  {
   "cell_type": "code",
   "execution_count": 4,
   "id": "metallic-length",
   "metadata": {},
   "outputs": [],
   "source": [
    "# Date Time Conversion\n",
    "df['dateAdded']= pd.to_datetime(df['dateAdded'])\n",
    "df['dateUpdated']= pd.to_datetime(df['dateUpdated'])\n",
    "df['reviews.date']= pd.to_datetime(df['reviews.date'])"
   ]
  },
  {
   "cell_type": "code",
   "execution_count": 5,
   "id": "trained-watts",
   "metadata": {},
   "outputs": [],
   "source": [
    "def get_domain(x):\n",
    "    \n",
    "    m = re.findall('://([\\w\\-\\.]+)', x)\n",
    "    \n",
    "    try:\n",
    "        return m[0]\n",
    "    except:\n",
    "        return None"
   ]
  },
  {
   "cell_type": "code",
   "execution_count": 6,
   "id": "saving-jones",
   "metadata": {},
   "outputs": [],
   "source": [
    "df['domain'] = df['reviews.sourceURLs'].apply(lambda x: get_domain(x))"
   ]
  },
  {
   "cell_type": "code",
   "execution_count": 7,
   "id": "central-beast",
   "metadata": {},
   "outputs": [],
   "source": [
    "# Change to Categorical types\n",
    "df[\"brand\"] = df[\"brand\"].astype('category')\n",
    "df[\"primaryCategories\"] = df[\"primaryCategories\"].astype('category')\n",
    "df[\"manufacturer\"] = df[\"manufacturer\"].astype('category')\n",
    "df[\"reviews.username\"] = df[\"reviews.username\"].astype('category')\n",
    "df[\"domain\"] = df[\"domain\"].astype('category')"
   ]
  },
  {
   "cell_type": "code",
   "execution_count": 8,
   "id": "frequent-money",
   "metadata": {},
   "outputs": [],
   "source": [
    "# Add a length of text column before the cleaning\n",
    "df['title_length'] = df.apply(lambda row: len(row['reviews.title']), axis = 1)\n",
    "df['text_length'] = df.apply(lambda row: len(row['reviews.text']), axis = 1)"
   ]
  },
  {
   "cell_type": "code",
   "execution_count": 9,
   "id": "angry-cigarette",
   "metadata": {},
   "outputs": [],
   "source": [
    "# add a column for positive or negative\n",
    "df['sent_label'] = df['reviews.rating'].apply(lambda c: 0 if c < 4 else 1)"
   ]
  },
  {
   "cell_type": "code",
   "execution_count": 10,
   "id": "adjustable-collaboration",
   "metadata": {},
   "outputs": [],
   "source": [
    "# Clean up some case based issues and other text issues.\n",
    "df['brand'] = df['brand'].str.replace('Amazonbasics','AmazonBasics', regex=True)\n",
    "df['manufacturer'] = df['manufacturer'].str.replace('Amazon.com','Amazon', regex=True)"
   ]
  },
  {
   "cell_type": "code",
   "execution_count": 11,
   "id": "honey-jurisdiction",
   "metadata": {},
   "outputs": [],
   "source": [
    "df.drop(columns=['id', 'manufacturerNumber', 'keys', 'categories', 'reviews.dateSeen', 'asins'], inplace=True)"
   ]
  },
  {
   "cell_type": "markdown",
   "id": "lasting-choir",
   "metadata": {},
   "source": [
    "## EDA"
   ]
  },
  {
   "cell_type": "code",
   "execution_count": 12,
   "id": "important-ethiopia",
   "metadata": {},
   "outputs": [
    {
     "data": {
      "text/html": [
       "<div>\n",
       "<style scoped>\n",
       "    .dataframe tbody tr th:only-of-type {\n",
       "        vertical-align: middle;\n",
       "    }\n",
       "\n",
       "    .dataframe tbody tr th {\n",
       "        vertical-align: top;\n",
       "    }\n",
       "\n",
       "    .dataframe thead th {\n",
       "        text-align: right;\n",
       "    }\n",
       "</style>\n",
       "<table border=\"1\" class=\"dataframe\">\n",
       "  <thead>\n",
       "    <tr style=\"text-align: right;\">\n",
       "      <th></th>\n",
       "      <th>dateAdded</th>\n",
       "      <th>dateUpdated</th>\n",
       "      <th>name</th>\n",
       "      <th>brand</th>\n",
       "      <th>primaryCategories</th>\n",
       "      <th>manufacturer</th>\n",
       "      <th>reviews.date</th>\n",
       "      <th>reviews.numHelpful</th>\n",
       "      <th>reviews.rating</th>\n",
       "      <th>reviews.sourceURLs</th>\n",
       "      <th>reviews.text</th>\n",
       "      <th>reviews.title</th>\n",
       "      <th>reviews.username</th>\n",
       "      <th>domain</th>\n",
       "      <th>title_length</th>\n",
       "      <th>text_length</th>\n",
       "      <th>sent_label</th>\n",
       "    </tr>\n",
       "  </thead>\n",
       "  <tbody>\n",
       "    <tr>\n",
       "      <th>0</th>\n",
       "      <td>2015-10-30 08:59:32+00:00</td>\n",
       "      <td>2019-04-25 09:08:16+00:00</td>\n",
       "      <td>AmazonBasics AAA Performance Alkaline Batterie...</td>\n",
       "      <td>AmazonBasics</td>\n",
       "      <td>Health &amp; Beauty</td>\n",
       "      <td>AmazonBasics</td>\n",
       "      <td>2017-03-02 00:00:00+00:00</td>\n",
       "      <td>NaN</td>\n",
       "      <td>3</td>\n",
       "      <td>https://www.amazon.com/product-reviews/B00QWO9...</td>\n",
       "      <td>I order 3 of them and one of the item is bad q...</td>\n",
       "      <td>... 3 of them and one of the item is bad quali...</td>\n",
       "      <td>Byger yang</td>\n",
       "      <td>www.amazon.com</td>\n",
       "      <td>88</td>\n",
       "      <td>139</td>\n",
       "      <td>0</td>\n",
       "    </tr>\n",
       "    <tr>\n",
       "      <th>1</th>\n",
       "      <td>2015-10-30 08:59:32+00:00</td>\n",
       "      <td>2019-04-25 09:08:16+00:00</td>\n",
       "      <td>AmazonBasics AAA Performance Alkaline Batterie...</td>\n",
       "      <td>AmazonBasics</td>\n",
       "      <td>Health &amp; Beauty</td>\n",
       "      <td>AmazonBasics</td>\n",
       "      <td>2016-08-31 00:00:00+00:00</td>\n",
       "      <td>NaN</td>\n",
       "      <td>4</td>\n",
       "      <td>https://www.amazon.com/product-reviews/B00QWO9...</td>\n",
       "      <td>Bulk is always the less expensive way to go fo...</td>\n",
       "      <td>... always the less expensive way to go for pr...</td>\n",
       "      <td>ByMG</td>\n",
       "      <td>www.amazon.com</td>\n",
       "      <td>57</td>\n",
       "      <td>67</td>\n",
       "      <td>1</td>\n",
       "    </tr>\n",
       "    <tr>\n",
       "      <th>2</th>\n",
       "      <td>2015-10-30 08:59:32+00:00</td>\n",
       "      <td>2019-04-25 09:08:16+00:00</td>\n",
       "      <td>AmazonBasics AAA Performance Alkaline Batterie...</td>\n",
       "      <td>AmazonBasics</td>\n",
       "      <td>Health &amp; Beauty</td>\n",
       "      <td>AmazonBasics</td>\n",
       "      <td>2016-12-06 00:00:00+00:00</td>\n",
       "      <td>NaN</td>\n",
       "      <td>5</td>\n",
       "      <td>https://www.amazon.com/product-reviews/B00QWO9...</td>\n",
       "      <td>Well they are not Duracell but for the price i...</td>\n",
       "      <td>... are not Duracell but for the price i am ha...</td>\n",
       "      <td>BySharon Lambert</td>\n",
       "      <td>www.amazon.com</td>\n",
       "      <td>50</td>\n",
       "      <td>56</td>\n",
       "      <td>1</td>\n",
       "    </tr>\n",
       "    <tr>\n",
       "      <th>3</th>\n",
       "      <td>2015-10-30 08:59:32+00:00</td>\n",
       "      <td>2019-04-25 09:08:16+00:00</td>\n",
       "      <td>AmazonBasics AAA Performance Alkaline Batterie...</td>\n",
       "      <td>AmazonBasics</td>\n",
       "      <td>Health &amp; Beauty</td>\n",
       "      <td>AmazonBasics</td>\n",
       "      <td>2016-03-28 00:00:00+00:00</td>\n",
       "      <td>NaN</td>\n",
       "      <td>5</td>\n",
       "      <td>https://www.amazon.com/product-reviews/B00QWO9...</td>\n",
       "      <td>Seem to work as well as name brand batteries a...</td>\n",
       "      <td>... as well as name brand batteries at a much ...</td>\n",
       "      <td>Bymark sexson</td>\n",
       "      <td>www.amazon.com</td>\n",
       "      <td>52</td>\n",
       "      <td>67</td>\n",
       "      <td>1</td>\n",
       "    </tr>\n",
       "    <tr>\n",
       "      <th>4</th>\n",
       "      <td>2015-10-30 08:59:32+00:00</td>\n",
       "      <td>2019-04-25 09:08:16+00:00</td>\n",
       "      <td>AmazonBasics AAA Performance Alkaline Batterie...</td>\n",
       "      <td>AmazonBasics</td>\n",
       "      <td>Health &amp; Beauty</td>\n",
       "      <td>AmazonBasics</td>\n",
       "      <td>2017-04-22 00:00:00+00:00</td>\n",
       "      <td>NaN</td>\n",
       "      <td>5</td>\n",
       "      <td>https://www.amazon.com/product-reviews/B00QWO9...</td>\n",
       "      <td>These batteries are very long lasting the pric...</td>\n",
       "      <td>... batteries are very long lasting the price ...</td>\n",
       "      <td>Bylinda</td>\n",
       "      <td>www.amazon.com</td>\n",
       "      <td>55</td>\n",
       "      <td>57</td>\n",
       "      <td>1</td>\n",
       "    </tr>\n",
       "  </tbody>\n",
       "</table>\n",
       "</div>"
      ],
      "text/plain": [
       "                  dateAdded               dateUpdated  \\\n",
       "0 2015-10-30 08:59:32+00:00 2019-04-25 09:08:16+00:00   \n",
       "1 2015-10-30 08:59:32+00:00 2019-04-25 09:08:16+00:00   \n",
       "2 2015-10-30 08:59:32+00:00 2019-04-25 09:08:16+00:00   \n",
       "3 2015-10-30 08:59:32+00:00 2019-04-25 09:08:16+00:00   \n",
       "4 2015-10-30 08:59:32+00:00 2019-04-25 09:08:16+00:00   \n",
       "\n",
       "                                                name         brand  \\\n",
       "0  AmazonBasics AAA Performance Alkaline Batterie...  AmazonBasics   \n",
       "1  AmazonBasics AAA Performance Alkaline Batterie...  AmazonBasics   \n",
       "2  AmazonBasics AAA Performance Alkaline Batterie...  AmazonBasics   \n",
       "3  AmazonBasics AAA Performance Alkaline Batterie...  AmazonBasics   \n",
       "4  AmazonBasics AAA Performance Alkaline Batterie...  AmazonBasics   \n",
       "\n",
       "  primaryCategories  manufacturer              reviews.date  \\\n",
       "0   Health & Beauty  AmazonBasics 2017-03-02 00:00:00+00:00   \n",
       "1   Health & Beauty  AmazonBasics 2016-08-31 00:00:00+00:00   \n",
       "2   Health & Beauty  AmazonBasics 2016-12-06 00:00:00+00:00   \n",
       "3   Health & Beauty  AmazonBasics 2016-03-28 00:00:00+00:00   \n",
       "4   Health & Beauty  AmazonBasics 2017-04-22 00:00:00+00:00   \n",
       "\n",
       "   reviews.numHelpful  reviews.rating  \\\n",
       "0                 NaN               3   \n",
       "1                 NaN               4   \n",
       "2                 NaN               5   \n",
       "3                 NaN               5   \n",
       "4                 NaN               5   \n",
       "\n",
       "                                  reviews.sourceURLs  \\\n",
       "0  https://www.amazon.com/product-reviews/B00QWO9...   \n",
       "1  https://www.amazon.com/product-reviews/B00QWO9...   \n",
       "2  https://www.amazon.com/product-reviews/B00QWO9...   \n",
       "3  https://www.amazon.com/product-reviews/B00QWO9...   \n",
       "4  https://www.amazon.com/product-reviews/B00QWO9...   \n",
       "\n",
       "                                        reviews.text  \\\n",
       "0  I order 3 of them and one of the item is bad q...   \n",
       "1  Bulk is always the less expensive way to go fo...   \n",
       "2  Well they are not Duracell but for the price i...   \n",
       "3  Seem to work as well as name brand batteries a...   \n",
       "4  These batteries are very long lasting the pric...   \n",
       "\n",
       "                                       reviews.title  reviews.username  \\\n",
       "0  ... 3 of them and one of the item is bad quali...        Byger yang   \n",
       "1  ... always the less expensive way to go for pr...              ByMG   \n",
       "2  ... are not Duracell but for the price i am ha...  BySharon Lambert   \n",
       "3  ... as well as name brand batteries at a much ...     Bymark sexson   \n",
       "4  ... batteries are very long lasting the price ...           Bylinda   \n",
       "\n",
       "           domain  title_length  text_length  sent_label  \n",
       "0  www.amazon.com            88          139           0  \n",
       "1  www.amazon.com            57           67           1  \n",
       "2  www.amazon.com            50           56           1  \n",
       "3  www.amazon.com            52           67           1  \n",
       "4  www.amazon.com            55           57           1  "
      ]
     },
     "execution_count": 12,
     "metadata": {},
     "output_type": "execute_result"
    }
   ],
   "source": [
    "df.head()"
   ]
  },
  {
   "cell_type": "code",
   "execution_count": 13,
   "id": "continuous-wright",
   "metadata": {},
   "outputs": [
    {
     "name": "stdout",
     "output_type": "stream",
     "text": [
      "<class 'pandas.core.frame.DataFrame'>\n",
      "RangeIndex: 28332 entries, 0 to 28331\n",
      "Data columns (total 17 columns):\n",
      " #   Column              Non-Null Count  Dtype              \n",
      "---  ------              --------------  -----              \n",
      " 0   dateAdded           28332 non-null  datetime64[ns, UTC]\n",
      " 1   dateUpdated         28332 non-null  datetime64[ns, UTC]\n",
      " 2   name                28332 non-null  object             \n",
      " 3   brand               28332 non-null  object             \n",
      " 4   primaryCategories   28332 non-null  category           \n",
      " 5   manufacturer        28332 non-null  object             \n",
      " 6   reviews.date        28332 non-null  datetime64[ns, UTC]\n",
      " 7   reviews.numHelpful  16115 non-null  float64            \n",
      " 8   reviews.rating      28332 non-null  int64              \n",
      " 9   reviews.sourceURLs  28332 non-null  object             \n",
      " 10  reviews.text        28332 non-null  object             \n",
      " 11  reviews.title       28332 non-null  object             \n",
      " 12  reviews.username    28332 non-null  category           \n",
      " 13  domain              28332 non-null  category           \n",
      " 14  title_length        28332 non-null  int64              \n",
      " 15  text_length         28332 non-null  int64              \n",
      " 16  sent_label          28332 non-null  int64              \n",
      "dtypes: category(3), datetime64[ns, UTC](3), float64(1), int64(4), object(6)\n",
      "memory usage: 3.8+ MB\n"
     ]
    }
   ],
   "source": [
    "df.info()"
   ]
  },
  {
   "cell_type": "code",
   "execution_count": 14,
   "id": "cognitive-collector",
   "metadata": {},
   "outputs": [
    {
     "data": {
      "text/html": [
       "<div>\n",
       "<style scoped>\n",
       "    .dataframe tbody tr th:only-of-type {\n",
       "        vertical-align: middle;\n",
       "    }\n",
       "\n",
       "    .dataframe tbody tr th {\n",
       "        vertical-align: top;\n",
       "    }\n",
       "\n",
       "    .dataframe thead th {\n",
       "        text-align: right;\n",
       "    }\n",
       "</style>\n",
       "<table border=\"1\" class=\"dataframe\">\n",
       "  <thead>\n",
       "    <tr style=\"text-align: right;\">\n",
       "      <th></th>\n",
       "      <th>reviews.numHelpful</th>\n",
       "      <th>reviews.rating</th>\n",
       "      <th>title_length</th>\n",
       "      <th>text_length</th>\n",
       "      <th>sent_label</th>\n",
       "    </tr>\n",
       "  </thead>\n",
       "  <tbody>\n",
       "    <tr>\n",
       "      <th>count</th>\n",
       "      <td>16115.000000</td>\n",
       "      <td>28332.000000</td>\n",
       "      <td>28332.000000</td>\n",
       "      <td>28332.000000</td>\n",
       "      <td>28332.000000</td>\n",
       "    </tr>\n",
       "    <tr>\n",
       "      <th>mean</th>\n",
       "      <td>0.529321</td>\n",
       "      <td>4.514048</td>\n",
       "      <td>19.748553</td>\n",
       "      <td>137.517118</td>\n",
       "      <td>0.901631</td>\n",
       "    </tr>\n",
       "    <tr>\n",
       "      <th>std</th>\n",
       "      <td>9.345017</td>\n",
       "      <td>0.934957</td>\n",
       "      <td>13.860225</td>\n",
       "      <td>199.877736</td>\n",
       "      <td>0.297819</td>\n",
       "    </tr>\n",
       "    <tr>\n",
       "      <th>min</th>\n",
       "      <td>0.000000</td>\n",
       "      <td>1.000000</td>\n",
       "      <td>1.000000</td>\n",
       "      <td>1.000000</td>\n",
       "      <td>0.000000</td>\n",
       "    </tr>\n",
       "    <tr>\n",
       "      <th>25%</th>\n",
       "      <td>0.000000</td>\n",
       "      <td>4.000000</td>\n",
       "      <td>10.000000</td>\n",
       "      <td>54.000000</td>\n",
       "      <td>1.000000</td>\n",
       "    </tr>\n",
       "    <tr>\n",
       "      <th>50%</th>\n",
       "      <td>0.000000</td>\n",
       "      <td>5.000000</td>\n",
       "      <td>15.000000</td>\n",
       "      <td>87.000000</td>\n",
       "      <td>1.000000</td>\n",
       "    </tr>\n",
       "    <tr>\n",
       "      <th>75%</th>\n",
       "      <td>0.000000</td>\n",
       "      <td>5.000000</td>\n",
       "      <td>25.000000</td>\n",
       "      <td>162.000000</td>\n",
       "      <td>1.000000</td>\n",
       "    </tr>\n",
       "    <tr>\n",
       "      <th>max</th>\n",
       "      <td>621.000000</td>\n",
       "      <td>5.000000</td>\n",
       "      <td>141.000000</td>\n",
       "      <td>8351.000000</td>\n",
       "      <td>1.000000</td>\n",
       "    </tr>\n",
       "  </tbody>\n",
       "</table>\n",
       "</div>"
      ],
      "text/plain": [
       "       reviews.numHelpful  reviews.rating  title_length   text_length  \\\n",
       "count        16115.000000    28332.000000  28332.000000  28332.000000   \n",
       "mean             0.529321        4.514048     19.748553    137.517118   \n",
       "std              9.345017        0.934957     13.860225    199.877736   \n",
       "min              0.000000        1.000000      1.000000      1.000000   \n",
       "25%              0.000000        4.000000     10.000000     54.000000   \n",
       "50%              0.000000        5.000000     15.000000     87.000000   \n",
       "75%              0.000000        5.000000     25.000000    162.000000   \n",
       "max            621.000000        5.000000    141.000000   8351.000000   \n",
       "\n",
       "         sent_label  \n",
       "count  28332.000000  \n",
       "mean       0.901631  \n",
       "std        0.297819  \n",
       "min        0.000000  \n",
       "25%        1.000000  \n",
       "50%        1.000000  \n",
       "75%        1.000000  \n",
       "max        1.000000  "
      ]
     },
     "execution_count": 14,
     "metadata": {},
     "output_type": "execute_result"
    }
   ],
   "source": [
    "df.describe()"
   ]
  },
  {
   "cell_type": "code",
   "execution_count": 15,
   "id": "christian-booth",
   "metadata": {},
   "outputs": [
    {
     "data": {
      "text/html": [
       "<div>\n",
       "<style scoped>\n",
       "    .dataframe tbody tr th:only-of-type {\n",
       "        vertical-align: middle;\n",
       "    }\n",
       "\n",
       "    .dataframe tbody tr th {\n",
       "        vertical-align: top;\n",
       "    }\n",
       "\n",
       "    .dataframe thead th {\n",
       "        text-align: right;\n",
       "    }\n",
       "</style>\n",
       "<table border=\"1\" class=\"dataframe\">\n",
       "  <thead>\n",
       "    <tr style=\"text-align: right;\">\n",
       "      <th></th>\n",
       "      <th>reviews.numHelpful</th>\n",
       "      <th>reviews.rating</th>\n",
       "      <th>title_length</th>\n",
       "      <th>text_length</th>\n",
       "      <th>sent_label</th>\n",
       "    </tr>\n",
       "  </thead>\n",
       "  <tbody>\n",
       "    <tr>\n",
       "      <th>reviews.numHelpful</th>\n",
       "      <td>1.000000</td>\n",
       "      <td>-0.041006</td>\n",
       "      <td>0.065621</td>\n",
       "      <td>0.237227</td>\n",
       "      <td>-0.028797</td>\n",
       "    </tr>\n",
       "    <tr>\n",
       "      <th>reviews.rating</th>\n",
       "      <td>-0.041006</td>\n",
       "      <td>1.000000</td>\n",
       "      <td>-0.084805</td>\n",
       "      <td>-0.120010</td>\n",
       "      <td>0.857638</td>\n",
       "    </tr>\n",
       "    <tr>\n",
       "      <th>title_length</th>\n",
       "      <td>0.065621</td>\n",
       "      <td>-0.084805</td>\n",
       "      <td>1.000000</td>\n",
       "      <td>0.262497</td>\n",
       "      <td>-0.074554</td>\n",
       "    </tr>\n",
       "    <tr>\n",
       "      <th>text_length</th>\n",
       "      <td>0.237227</td>\n",
       "      <td>-0.120010</td>\n",
       "      <td>0.262497</td>\n",
       "      <td>1.000000</td>\n",
       "      <td>-0.091343</td>\n",
       "    </tr>\n",
       "    <tr>\n",
       "      <th>sent_label</th>\n",
       "      <td>-0.028797</td>\n",
       "      <td>0.857638</td>\n",
       "      <td>-0.074554</td>\n",
       "      <td>-0.091343</td>\n",
       "      <td>1.000000</td>\n",
       "    </tr>\n",
       "  </tbody>\n",
       "</table>\n",
       "</div>"
      ],
      "text/plain": [
       "                    reviews.numHelpful  reviews.rating  title_length  \\\n",
       "reviews.numHelpful            1.000000       -0.041006      0.065621   \n",
       "reviews.rating               -0.041006        1.000000     -0.084805   \n",
       "title_length                  0.065621       -0.084805      1.000000   \n",
       "text_length                   0.237227       -0.120010      0.262497   \n",
       "sent_label                   -0.028797        0.857638     -0.074554   \n",
       "\n",
       "                    text_length  sent_label  \n",
       "reviews.numHelpful     0.237227   -0.028797  \n",
       "reviews.rating        -0.120010    0.857638  \n",
       "title_length           0.262497   -0.074554  \n",
       "text_length            1.000000   -0.091343  \n",
       "sent_label            -0.091343    1.000000  "
      ]
     },
     "execution_count": 15,
     "metadata": {},
     "output_type": "execute_result"
    }
   ],
   "source": [
    "df.corr()"
   ]
  },
  {
   "cell_type": "code",
   "execution_count": 16,
   "id": "egyptian-timber",
   "metadata": {},
   "outputs": [
    {
     "data": {
      "text/plain": [
       "(28332, 17)"
      ]
     },
     "execution_count": 16,
     "metadata": {},
     "output_type": "execute_result"
    }
   ],
   "source": [
    "df.shape"
   ]
  },
  {
   "cell_type": "code",
   "execution_count": 17,
   "id": "filled-spoke",
   "metadata": {},
   "outputs": [
    {
     "name": "stdout",
     "output_type": "stream",
     "text": [
      "<class 'pandas.core.frame.DataFrame'>\n",
      "RangeIndex: 28332 entries, 0 to 28331\n",
      "Data columns (total 3 columns):\n",
      " #   Column             Non-Null Count  Dtype   \n",
      "---  ------             --------------  -----   \n",
      " 0   primaryCategories  28332 non-null  category\n",
      " 1   reviews.username   28332 non-null  category\n",
      " 2   domain             28332 non-null  category\n",
      "dtypes: category(3)\n",
      "memory usage: 754.5 KB\n"
     ]
    }
   ],
   "source": [
    "# get categorical data\n",
    "cat_data = df.select_dtypes(include=['category'])\n",
    "cat_data.info()"
   ]
  },
  {
   "cell_type": "code",
   "execution_count": 18,
   "id": "industrial-species",
   "metadata": {},
   "outputs": [
    {
     "name": "stdout",
     "output_type": "stream",
     "text": [
      "primaryCategories\n",
      "Electronics                    13995\n",
      "Health & Beauty                12071\n",
      "Toys & Games,Electronics        1676\n",
      "Office Supplies,Electronics      386\n",
      "Electronics,Media                185\n",
      "Office Supplies                    9\n",
      "Animals & Pet Supplies             6\n",
      "Electronics,Furniture              2\n",
      "Home & Garden                      2\n",
      "Name: primaryCategories, dtype: int64 \n",
      "\n",
      "reviews.username\n",
      "ByAmazon Customer     889\n",
      "Mike                   63\n",
      "ByKindle Customer      45\n",
      "Dave                   44\n",
      "Chris                  38\n",
      "                     ... \n",
      "ByRatqueen Reader       1\n",
      "ByRaul Villarreal       1\n",
      "ByRay J Carstensen      1\n",
      "ByRay Ray               1\n",
      "ztlbxx                  1\n",
      "Name: reviews.username, Length: 16269, dtype: int64 \n",
      "\n",
      "domain\n",
      "reviews.bestbuy.com    16043\n",
      "www.amazon.com         12144\n",
      "www.ebay.com              81\n",
      "redsky.target.com         43\n",
      "www.amazon.co.uk          12\n",
      "www.newegg.com             9\n",
      "Name: domain, dtype: int64 \n",
      "\n"
     ]
    }
   ],
   "source": [
    "# show counts values of each categorical variable\n",
    "for colname in cat_data.columns:\n",
    "    print (colname)\n",
    "    print (cat_data[colname].value_counts(), '\\n')"
   ]
  },
  {
   "cell_type": "code",
   "execution_count": 19,
   "id": "dated-satellite",
   "metadata": {},
   "outputs": [
    {
     "data": {
      "text/plain": [
       "True"
      ]
     },
     "execution_count": 19,
     "metadata": {},
     "output_type": "execute_result"
    }
   ],
   "source": [
    "# check for nan/null\n",
    "df.isnull().values.any()"
   ]
  },
  {
   "cell_type": "code",
   "execution_count": 20,
   "id": "threaded-cream",
   "metadata": {},
   "outputs": [
    {
     "data": {
      "text/plain": [
       "dateAdded                 0\n",
       "dateUpdated               0\n",
       "name                      0\n",
       "brand                     0\n",
       "primaryCategories         0\n",
       "manufacturer              0\n",
       "reviews.date              0\n",
       "reviews.numHelpful    12217\n",
       "reviews.rating            0\n",
       "reviews.sourceURLs        0\n",
       "reviews.text              0\n",
       "reviews.title             0\n",
       "reviews.username          0\n",
       "domain                    0\n",
       "title_length              0\n",
       "text_length               0\n",
       "sent_label                0\n",
       "dtype: int64"
      ]
     },
     "execution_count": 20,
     "metadata": {},
     "output_type": "execute_result"
    }
   ],
   "source": [
    "# count of nulls\n",
    "df.isnull().sum()"
   ]
  },
  {
   "cell_type": "code",
   "execution_count": 21,
   "id": "outstanding-islam",
   "metadata": {},
   "outputs": [
    {
     "name": "stdout",
     "output_type": "stream",
     "text": [
      "Before = (28332, 17)\n",
      "After = (28332, 17)\n"
     ]
    }
   ],
   "source": [
    "print(\"Before =\", df.shape)\n",
    "# drop duplicates\n",
    "print(\"After =\", df.drop_duplicates().shape)"
   ]
  },
  {
   "cell_type": "code",
   "execution_count": null,
   "id": "fatal-switch",
   "metadata": {},
   "outputs": [],
   "source": []
  },
  {
   "cell_type": "code",
   "execution_count": 22,
   "id": "equivalent-decrease",
   "metadata": {},
   "outputs": [
    {
     "data": {
      "image/png": "[encoded data removed]",
      "text/plain": [
       "<Figure size 576x360 with 1 Axes>"
      ]
     },
     "metadata": {
      "needs_background": "light"
     },
     "output_type": "display_data"
    }
   ],
   "source": [
    "plt.figure(figsize=(8,5))\n",
    "sns.countplot(x='reviews.rating', data=df, palette=\"tab20\", dodge=False);"
   ]
  },
  {
   "cell_type": "code",
   "execution_count": 23,
   "id": "sound-secondary",
   "metadata": {},
   "outputs": [
    {
     "data": {
      "image/png": "[encoded data removed]",
      "text/plain": [
       "<Figure size 576x360 with 1 Axes>"
      ]
     },
     "metadata": {
      "needs_background": "light"
     },
     "output_type": "display_data"
    }
   ],
   "source": [
    "plt.figure(figsize=(8,5))\n",
    "sns.countplot(x='sent_label', data=df, palette=\"tab20\", dodge=False);"
   ]
  },
  {
   "cell_type": "code",
   "execution_count": 24,
   "id": "surrounded-mileage",
   "metadata": {},
   "outputs": [
    {
     "data": {
      "image/png": "[encoded data removed]",
      "text/plain": [
       "<Figure size 720x360 with 1 Axes>"
      ]
     },
     "metadata": {
      "needs_background": "light"
     },
     "output_type": "display_data"
    }
   ],
   "source": [
    "plt.figure(figsize=(10,5))\n",
    "sns.histplot(x='reviews.numHelpful', data=df, palette=\"tab20\", binwidth=50);"
   ]
  },
  {
   "cell_type": "code",
   "execution_count": 25,
   "id": "superior-appearance",
   "metadata": {},
   "outputs": [
    {
     "data": {
      "image/png": "[encoded data removed]",
      "text/plain": [
       "<Figure size 576x360 with 1 Axes>"
      ]
     },
     "metadata": {
      "needs_background": "light"
     },
     "output_type": "display_data"
    }
   ],
   "source": [
    "plt.figure(figsize=(8,5))\n",
    "sns.countplot(x='brand', data=df, palette=\"tab20\", dodge=False);"
   ]
  },
  {
   "cell_type": "code",
   "execution_count": 26,
   "id": "hungry-complaint",
   "metadata": {},
   "outputs": [
    {
     "data": {
      "image/png": "[encoded data removed]",
      "text/plain": [
       "<Figure size 576x360 with 1 Axes>"
      ]
     },
     "metadata": {
      "needs_background": "light"
     },
     "output_type": "display_data"
    }
   ],
   "source": [
    "plt.figure(figsize=(8,5))\n",
    "sns.countplot(x='manufacturer', data=df, palette=\"tab20\", dodge=False);"
   ]
  },
  {
   "cell_type": "code",
   "execution_count": 27,
   "id": "favorite-draft",
   "metadata": {},
   "outputs": [
    {
     "data": {
      "image/png": "[encoded data removed]",
      "text/plain": [
       "<Figure size 576x288 with 1 Axes>"
      ]
     },
     "metadata": {
      "needs_background": "light"
     },
     "output_type": "display_data"
    }
   ],
   "source": [
    "plt.figure(figsize=(8,4))\n",
    "sns.countplot(y='primaryCategories', data=df, palette=\"tab20\", orient='v');"
   ]
  },
  {
   "cell_type": "code",
   "execution_count": 28,
   "id": "occupational-nylon",
   "metadata": {},
   "outputs": [
    {
     "data": {
      "image/png": "[encoded data removed]",
      "text/plain": [
       "<Figure size 576x288 with 1 Axes>"
      ]
     },
     "metadata": {
      "needs_background": "light"
     },
     "output_type": "display_data"
    }
   ],
   "source": [
    "plt.figure(figsize=(8,4))\n",
    "sns.countplot(y='domain', data=df, palette=\"tab20\", orient='v');"
   ]
  },
  {
   "cell_type": "code",
   "execution_count": 29,
   "id": "modular-marina",
   "metadata": {},
   "outputs": [
    {
     "data": {
      "image/png": "[encoded data removed]",
      "text/plain": [
       "<Figure size 720x360 with 1 Axes>"
      ]
     },
     "metadata": {
      "needs_background": "light"
     },
     "output_type": "display_data"
    }
   ],
   "source": [
    "plt.figure(figsize=(10, 5))\n",
    "sns.histplot(df, x='title_length', kde=True, palette=\"tab20c\", binwidth=5);"
   ]
  },
  {
   "cell_type": "code",
   "execution_count": 30,
   "id": "accredited-stress",
   "metadata": {},
   "outputs": [
    {
     "data": {
      "image/png": "[encoded data removed]",
      "text/plain": [
       "<Figure size 720x360 with 1 Axes>"
      ]
     },
     "metadata": {
      "needs_background": "light"
     },
     "output_type": "display_data"
    }
   ],
   "source": [
    "plt.figure(figsize=(10, 5))\n",
    "sns.histplot(df, x='text_length', kde=True, palette=\"tab20c\", binwidth=100);"
   ]
  },
  {
   "cell_type": "code",
   "execution_count": 60,
   "id": "electronic-destruction",
   "metadata": {},
   "outputs": [
    {
     "data": {
      "image/png": "[encoded data removed]",
      "text/plain": [
       "<Figure size 720x360 with 1 Axes>"
      ]
     },
     "metadata": {
      "needs_background": "light"
     },
     "output_type": "display_data"
    }
   ],
   "source": [
    "plt.figure(figsize=(10, 5))\n",
    "sns.lineplot(data=df, x=\"dateAdded\", y=\"reviews.rating\", hue='sent_label');"
   ]
  },
  {
   "cell_type": "markdown",
   "id": "collective-survival",
   "metadata": {},
   "source": [
    "# Preprocessing"
   ]
  },
  {
   "cell_type": "code",
   "execution_count": 31,
   "id": "fresh-olive",
   "metadata": {},
   "outputs": [
    {
     "data": {
      "text/plain": [
       "'I order 3 of them and one of the item is bad quality. Is missing backup spring so I have to put a pcs of aluminum to make the battery work.'"
      ]
     },
     "execution_count": 31,
     "metadata": {},
     "output_type": "execute_result"
    }
   ],
   "source": [
    "df['reviews.text'][0]"
   ]
  },
  {
   "cell_type": "code",
   "execution_count": 90,
   "id": "about-cross",
   "metadata": {},
   "outputs": [],
   "source": [
    "def process_string(text):\n",
    "    \n",
    "    final_string = \"\"\n",
    "    \n",
    "    text = text.lower()\n",
    "    \n",
    "    translator = str.maketrans('', '', string.punctuation)\n",
    "    text = text.translate(translator)\n",
    "    \n",
    "    text = text.split()\n",
    "    useless_words = nltk.corpus.stopwords.words(\"english\") + list(string.punctuation)\n",
    "    useless_words = useless_words + ['.', ',', '!', \"'\"]\n",
    "    text_filtered = [word for word in text if not word in useless_words]\n",
    "    \n",
    "    stemmer = PorterStemmer() \n",
    "    text_stemmed = [stemmer.stem(y) for y in text_filtered]\n",
    "        \n",
    "    for word in text_stemmed:\n",
    "        final_string += word + \" \"\n",
    "    \n",
    "    return final_string"
   ]
  },
  {
   "cell_type": "code",
   "execution_count": 91,
   "id": "soviet-class",
   "metadata": {},
   "outputs": [],
   "source": [
    "df['reviews.text'] = df['reviews.text'].apply(lambda x: process_string(x))"
   ]
  },
  {
   "cell_type": "code",
   "execution_count": 92,
   "id": "capable-record",
   "metadata": {},
   "outputs": [
    {
     "data": {
      "text/plain": [
       "'order 3 one item bad qualiti miss backup spring put pc aluminum make batteri work '"
      ]
     },
     "execution_count": 92,
     "metadata": {},
     "output_type": "execute_result"
    }
   ],
   "source": [
    "df['reviews.text'][0]"
   ]
  },
  {
   "cell_type": "code",
   "execution_count": 93,
   "id": "corrected-orlando",
   "metadata": {},
   "outputs": [],
   "source": [
    "# Tokenize the words\n",
    "df['reviews.text.tok'] = df['reviews.text'].apply(word_tokenize)"
   ]
  },
  {
   "cell_type": "code",
   "execution_count": 94,
   "id": "unknown-correlation",
   "metadata": {},
   "outputs": [],
   "source": [
    "freq_stats = []\n",
    "for i in df['reviews.text.tok']:\n",
    "    freq_stats = freq_stats + i"
   ]
  },
  {
   "cell_type": "code",
   "execution_count": 95,
   "id": "informed-therapist",
   "metadata": {},
   "outputs": [
    {
     "data": {
      "text/plain": [
       "[('batteri', 10137),\n",
       " ('great', 9364),\n",
       " ('tablet', 7297),\n",
       " ('use', 6958),\n",
       " ('love', 6205),\n",
       " ('good', 5856),\n",
       " ('price', 5395),\n",
       " ('work', 4591),\n",
       " ('amazon', 3864),\n",
       " ('one', 3178),\n",
       " ('bought', 3174),\n",
       " ('last', 3154),\n",
       " ('kindl', 3045),\n",
       " ('kid', 2983),\n",
       " ('easi', 2906),\n",
       " ('like', 2862),\n",
       " ('buy', 2798),\n",
       " ('long', 2464),\n",
       " ('time', 2444),\n",
       " ('well', 2437)]"
      ]
     },
     "execution_count": 95,
     "metadata": {},
     "output_type": "execute_result"
    }
   ],
   "source": [
    "fdist_ham = FreqDist(freq_stats)\n",
    "fdist_ham.most_common(20)"
   ]
  },
  {
   "cell_type": "code",
   "execution_count": 96,
   "id": "reflected-spokesman",
   "metadata": {},
   "outputs": [
    {
     "data": {
      "image/png": "[encoded data removed]",
      "text/plain": [
       "<Figure size 720x360 with 1 Axes>"
      ]
     },
     "metadata": {
      "needs_background": "light"
     },
     "output_type": "display_data"
    }
   ],
   "source": [
    "plt.figure(figsize=(10, 5))\n",
    "fdist_ham.plot(20, cumulative=False)\n",
    "plt.show()"
   ]
  },
  {
   "cell_type": "markdown",
   "id": "returning-banner",
   "metadata": {},
   "source": [
    "# Machine learning"
   ]
  },
  {
   "cell_type": "code",
   "execution_count": 35,
   "id": "hungry-combat",
   "metadata": {},
   "outputs": [],
   "source": [
    "X = df['reviews.text']\n",
    "y = df['sent_label']\n",
    "\n",
    "# Make training and test sets \n",
    "X_train, X_test, y_train, y_test = train_test_split(X, y, test_size=0.33, random_state=53)"
   ]
  },
  {
   "cell_type": "code",
   "execution_count": 36,
   "id": "accredited-cheat",
   "metadata": {},
   "outputs": [
    {
     "name": "stdout",
     "output_type": "stream",
     "text": [
      "(18982,)\n",
      "(18982,)\n"
     ]
    }
   ],
   "source": [
    "print(y_train.shape)\n",
    "print(X_train.shape)"
   ]
  },
  {
   "cell_type": "code",
   "execution_count": 37,
   "id": "independent-pioneer",
   "metadata": {},
   "outputs": [],
   "source": [
    "def plot_confusion_matrix(cm, classes,\n",
    "                          normalize=False,\n",
    "                          title='Confusion matrix',\n",
    "                          cmap=plt.cm.Blues):\n",
    "    \"\"\"\n",
    "    See full source and example: \n",
    "    http://scikit-learn.org/stable/auto_examples/model_selection/plot_confusion_matrix.html\n",
    "    \n",
    "    This function prints and plots the confusion matrix.\n",
    "    Normalization can be applied by setting `normalize=True`.\n",
    "    \"\"\"\n",
    "    plt.imshow(cm, interpolation='nearest', cmap=cmap)\n",
    "    plt.title(title)\n",
    "    plt.colorbar()\n",
    "    tick_marks = np.arange(len(classes))\n",
    "    plt.xticks(tick_marks, classes, rotation=45)\n",
    "    plt.yticks(tick_marks, classes)\n",
    "\n",
    "    if normalize:\n",
    "        cm = cm.astype('float') / cm.sum(axis=1)[:, np.newaxis]\n",
    "        print(\"Normalized confusion matrix\")\n",
    "    else:\n",
    "        print('Confusion matrix, without normalization')\n",
    "\n",
    "    thresh = cm.max() / 2.\n",
    "    for i, j in itertools.product(range(cm.shape[0]), range(cm.shape[1])):\n",
    "        plt.text(j, i, cm[i, j],\n",
    "                 horizontalalignment=\"center\",\n",
    "                 color=\"white\" if cm[i, j] > thresh else \"black\")\n",
    "\n",
    "    plt.tight_layout()\n",
    "    plt.ylabel('True label')\n",
    "    plt.xlabel('predicted label')"
   ]
  },
  {
   "cell_type": "code",
   "execution_count": 38,
   "id": "nutritional-madison",
   "metadata": {},
   "outputs": [],
   "source": [
    "def get_params(X, y, model):\n",
    "    vals = np.linspace(.001, 2, 10)\n",
    "\n",
    "    #parameters = {'C':vals, 'kernel': ['linear', 'poly', 'rbf', 'sigmoid']}\n",
    "    \n",
    "    #parameters = [{'C': [1, 10, 100, 1000], 'kernel': ['linear']},\n",
    "    #              {'C': [1, 10, 100, 1000], 'gamma': [0.001, 0.0001], 'kernel': ['rbf']}]\n",
    "    \n",
    "    parameters = [{'C': [1, 10, 100, 1000], 'gamma': [0.001, 0.0001], 'kernel': ['rbf']}]\n",
    "    \n",
    "    model = model\n",
    "    clf = GridSearchCV(model, parameters)\n",
    "    clf.fit(X, y)\n",
    "\n",
    "    # extract the best alpha score\n",
    "    return clf.best_params_"
   ]
  },
  {
   "cell_type": "code",
   "execution_count": 39,
   "id": "posted-cleaners",
   "metadata": {},
   "outputs": [],
   "source": [
    "vectorizer = TfidfVectorizer(stop_words='english', max_df=0.7, strip_accents='unicode') \n",
    "vec_train = vectorizer.fit_transform(X_train) \n",
    "vec_test = vectorizer.transform(X_test)  "
   ]
  },
  {
   "cell_type": "code",
   "execution_count": 40,
   "id": "light-district",
   "metadata": {},
   "outputs": [],
   "source": [
    "#params = get_params(vec_train, y_train, SVC())\n",
    "# params\n",
    "# {'C': 1000, 'gamma': 0.001, 'kernel': 'rbf'}"
   ]
  },
  {
   "cell_type": "code",
   "execution_count": 44,
   "id": "excited-smith",
   "metadata": {},
   "outputs": [],
   "source": [
    "clf = SVC(class_weight='balanced', random_state=42)"
   ]
  },
  {
   "cell_type": "code",
   "execution_count": 45,
   "id": "subjective-enough",
   "metadata": {},
   "outputs": [
    {
     "name": "stdout",
     "output_type": "stream",
     "text": [
      "              precision    recall  f1-score   support\n",
      "\n",
      "           0      0.769     0.697     0.731       915\n",
      "           1      0.967     0.977     0.972      8435\n",
      "\n",
      "    accuracy                          0.950      9350\n",
      "   macro avg      0.868     0.837     0.852      9350\n",
      "weighted avg      0.948     0.950     0.949      9350\n",
      "\n",
      "accuracy:   0.950\n",
      "Confusion matrix, without normalization\n"
     ]
    },
    {
     "data": {
      "image/png": "[encoded data removed]",
      "text/plain": [
       "<Figure size 432x288 with 2 Axes>"
      ]
     },
     "metadata": {
      "needs_background": "light"
     },
     "output_type": "display_data"
    }
   ],
   "source": [
    "clf.fit(vec_train, y_train)\n",
    "y_pred = clf.predict(vec_test)\n",
    "score = metrics.accuracy_score(y_test, y_pred)\n",
    "\n",
    "print(metrics.classification_report(y_test, y_pred, digits=3))\n",
    "\n",
    "print(\"accuracy:   %0.3f\" % score)\n",
    "cm = metrics.confusion_matrix(y_test, y_pred, labels=[0,1])\n",
    "plot_confusion_matrix(cm, classes=[0,1])"
   ]
  },
  {
   "cell_type": "code",
   "execution_count": 46,
   "id": "twelve-jacket",
   "metadata": {},
   "outputs": [],
   "source": [
    "sid = SentimentIntensityAnalyzer()"
   ]
  },
  {
   "cell_type": "code",
   "execution_count": 47,
   "id": "welcome-laundry",
   "metadata": {},
   "outputs": [],
   "source": [
    "df['vader'] = df['reviews.text'].apply(lambda review: sid.polarity_scores(review))"
   ]
  },
  {
   "cell_type": "code",
   "execution_count": 48,
   "id": "manual-bidder",
   "metadata": {},
   "outputs": [],
   "source": [
    "df['sentiment'] = df['vader'].apply(lambda score_dict: score_dict['compound'])"
   ]
  },
  {
   "cell_type": "code",
   "execution_count": 49,
   "id": "judicial-graduation",
   "metadata": {},
   "outputs": [],
   "source": [
    "df['comp_score'] = df['sentiment'].apply(lambda c: 'pos' if c > 0 else ('neu' if c == 0 else 'neg'))"
   ]
  },
  {
   "cell_type": "code",
   "execution_count": 50,
   "id": "internal-fancy",
   "metadata": {},
   "outputs": [
    {
     "data": {
      "text/html": [
       "<div>\n",
       "<style scoped>\n",
       "    .dataframe tbody tr th:only-of-type {\n",
       "        vertical-align: middle;\n",
       "    }\n",
       "\n",
       "    .dataframe tbody tr th {\n",
       "        vertical-align: top;\n",
       "    }\n",
       "\n",
       "    .dataframe thead th {\n",
       "        text-align: right;\n",
       "    }\n",
       "</style>\n",
       "<table border=\"1\" class=\"dataframe\">\n",
       "  <thead>\n",
       "    <tr style=\"text-align: right;\">\n",
       "      <th></th>\n",
       "      <th>dateAdded</th>\n",
       "      <th>dateUpdated</th>\n",
       "      <th>name</th>\n",
       "      <th>brand</th>\n",
       "      <th>primaryCategories</th>\n",
       "      <th>manufacturer</th>\n",
       "      <th>reviews.date</th>\n",
       "      <th>reviews.numHelpful</th>\n",
       "      <th>reviews.rating</th>\n",
       "      <th>reviews.sourceURLs</th>\n",
       "      <th>reviews.text</th>\n",
       "      <th>reviews.title</th>\n",
       "      <th>reviews.username</th>\n",
       "      <th>domain</th>\n",
       "      <th>title_length</th>\n",
       "      <th>text_length</th>\n",
       "      <th>sent_label</th>\n",
       "      <th>vader</th>\n",
       "      <th>sentiment</th>\n",
       "      <th>comp_score</th>\n",
       "    </tr>\n",
       "  </thead>\n",
       "  <tbody>\n",
       "    <tr>\n",
       "      <th>0</th>\n",
       "      <td>2015-10-30 08:59:32+00:00</td>\n",
       "      <td>2019-04-25 09:08:16+00:00</td>\n",
       "      <td>AmazonBasics AAA Performance Alkaline Batterie...</td>\n",
       "      <td>AmazonBasics</td>\n",
       "      <td>Health &amp; Beauty</td>\n",
       "      <td>AmazonBasics</td>\n",
       "      <td>2017-03-02 00:00:00+00:00</td>\n",
       "      <td>NaN</td>\n",
       "      <td>3</td>\n",
       "      <td>https://www.amazon.com/product-reviews/B00QWO9...</td>\n",
       "      <td>order 3 one item bad quality. miss backup spri...</td>\n",
       "      <td>... 3 of them and one of the item is bad quali...</td>\n",
       "      <td>Byger yang</td>\n",
       "      <td>www.amazon.com</td>\n",
       "      <td>88</td>\n",
       "      <td>139</td>\n",
       "      <td>0</td>\n",
       "      <td>{'neg': 0.298, 'neu': 0.702, 'pos': 0.0, 'comp...</td>\n",
       "      <td>-0.6249</td>\n",
       "      <td>neg</td>\n",
       "    </tr>\n",
       "    <tr>\n",
       "      <th>1</th>\n",
       "      <td>2015-10-30 08:59:32+00:00</td>\n",
       "      <td>2019-04-25 09:08:16+00:00</td>\n",
       "      <td>AmazonBasics AAA Performance Alkaline Batterie...</td>\n",
       "      <td>AmazonBasics</td>\n",
       "      <td>Health &amp; Beauty</td>\n",
       "      <td>AmazonBasics</td>\n",
       "      <td>2016-08-31 00:00:00+00:00</td>\n",
       "      <td>NaN</td>\n",
       "      <td>4</td>\n",
       "      <td>https://www.amazon.com/product-reviews/B00QWO9...</td>\n",
       "      <td>bulk alway less expens way go product like</td>\n",
       "      <td>... always the less expensive way to go for pr...</td>\n",
       "      <td>ByMG</td>\n",
       "      <td>www.amazon.com</td>\n",
       "      <td>57</td>\n",
       "      <td>67</td>\n",
       "      <td>1</td>\n",
       "      <td>{'neg': 0.0, 'neu': 0.737, 'pos': 0.263, 'comp...</td>\n",
       "      <td>0.3612</td>\n",
       "      <td>pos</td>\n",
       "    </tr>\n",
       "    <tr>\n",
       "      <th>2</th>\n",
       "      <td>2015-10-30 08:59:32+00:00</td>\n",
       "      <td>2019-04-25 09:08:16+00:00</td>\n",
       "      <td>AmazonBasics AAA Performance Alkaline Batterie...</td>\n",
       "      <td>AmazonBasics</td>\n",
       "      <td>Health &amp; Beauty</td>\n",
       "      <td>AmazonBasics</td>\n",
       "      <td>2016-12-06 00:00:00+00:00</td>\n",
       "      <td>NaN</td>\n",
       "      <td>5</td>\n",
       "      <td>https://www.amazon.com/product-reviews/B00QWO9...</td>\n",
       "      <td>well duracel price happy.</td>\n",
       "      <td>... are not Duracell but for the price i am ha...</td>\n",
       "      <td>BySharon Lambert</td>\n",
       "      <td>www.amazon.com</td>\n",
       "      <td>50</td>\n",
       "      <td>56</td>\n",
       "      <td>1</td>\n",
       "      <td>{'neg': 0.0, 'neu': 0.256, 'pos': 0.744, 'comp...</td>\n",
       "      <td>0.7003</td>\n",
       "      <td>pos</td>\n",
       "    </tr>\n",
       "    <tr>\n",
       "      <th>3</th>\n",
       "      <td>2015-10-30 08:59:32+00:00</td>\n",
       "      <td>2019-04-25 09:08:16+00:00</td>\n",
       "      <td>AmazonBasics AAA Performance Alkaline Batterie...</td>\n",
       "      <td>AmazonBasics</td>\n",
       "      <td>Health &amp; Beauty</td>\n",
       "      <td>AmazonBasics</td>\n",
       "      <td>2016-03-28 00:00:00+00:00</td>\n",
       "      <td>NaN</td>\n",
       "      <td>5</td>\n",
       "      <td>https://www.amazon.com/product-reviews/B00QWO9...</td>\n",
       "      <td>seem work well name brand batteri much better ...</td>\n",
       "      <td>... as well as name brand batteries at a much ...</td>\n",
       "      <td>Bymark sexson</td>\n",
       "      <td>www.amazon.com</td>\n",
       "      <td>52</td>\n",
       "      <td>67</td>\n",
       "      <td>1</td>\n",
       "      <td>{'neg': 0.0, 'neu': 0.583, 'pos': 0.417, 'comp...</td>\n",
       "      <td>0.6124</td>\n",
       "      <td>pos</td>\n",
       "    </tr>\n",
       "    <tr>\n",
       "      <th>4</th>\n",
       "      <td>2015-10-30 08:59:32+00:00</td>\n",
       "      <td>2019-04-25 09:08:16+00:00</td>\n",
       "      <td>AmazonBasics AAA Performance Alkaline Batterie...</td>\n",
       "      <td>AmazonBasics</td>\n",
       "      <td>Health &amp; Beauty</td>\n",
       "      <td>AmazonBasics</td>\n",
       "      <td>2017-04-22 00:00:00+00:00</td>\n",
       "      <td>NaN</td>\n",
       "      <td>5</td>\n",
       "      <td>https://www.amazon.com/product-reviews/B00QWO9...</td>\n",
       "      <td>batteri long last price great.</td>\n",
       "      <td>... batteries are very long lasting the price ...</td>\n",
       "      <td>Bylinda</td>\n",
       "      <td>www.amazon.com</td>\n",
       "      <td>55</td>\n",
       "      <td>57</td>\n",
       "      <td>1</td>\n",
       "      <td>{'neg': 0.0, 'neu': 0.494, 'pos': 0.506, 'comp...</td>\n",
       "      <td>0.6249</td>\n",
       "      <td>pos</td>\n",
       "    </tr>\n",
       "    <tr>\n",
       "      <th>...</th>\n",
       "      <td>...</td>\n",
       "      <td>...</td>\n",
       "      <td>...</td>\n",
       "      <td>...</td>\n",
       "      <td>...</td>\n",
       "      <td>...</td>\n",
       "      <td>...</td>\n",
       "      <td>...</td>\n",
       "      <td>...</td>\n",
       "      <td>...</td>\n",
       "      <td>...</td>\n",
       "      <td>...</td>\n",
       "      <td>...</td>\n",
       "      <td>...</td>\n",
       "      <td>...</td>\n",
       "      <td>...</td>\n",
       "      <td>...</td>\n",
       "      <td>...</td>\n",
       "      <td>...</td>\n",
       "      <td>...</td>\n",
       "    </tr>\n",
       "    <tr>\n",
       "      <th>28327</th>\n",
       "      <td>2017-03-06 14:59:43+00:00</td>\n",
       "      <td>2019-02-23 02:49:38+00:00</td>\n",
       "      <td>Fire HD 8 Tablet with Alexa, 8 HD Display, 16 ...</td>\n",
       "      <td>Amazon</td>\n",
       "      <td>Electronics</td>\n",
       "      <td>Amazon</td>\n",
       "      <td>2016-12-07 00:00:00+00:00</td>\n",
       "      <td>0.0</td>\n",
       "      <td>5</td>\n",
       "      <td>http://reviews.bestbuy.com/3545/5620410/review...</td>\n",
       "      <td>got 2 8 yr old twins. 11 yr old one one better...</td>\n",
       "      <td>Xmas gift</td>\n",
       "      <td>Mom2twinsplus1</td>\n",
       "      <td>reviews.bestbuy.com</td>\n",
       "      <td>9</td>\n",
       "      <td>116</td>\n",
       "      <td>1</td>\n",
       "      <td>{'neg': 0.0, 'neu': 0.645, 'pos': 0.355, 'comp...</td>\n",
       "      <td>0.7650</td>\n",
       "      <td>pos</td>\n",
       "    </tr>\n",
       "    <tr>\n",
       "      <th>28328</th>\n",
       "      <td>2017-03-06 14:59:43+00:00</td>\n",
       "      <td>2019-02-23 02:49:38+00:00</td>\n",
       "      <td>Fire HD 8 Tablet with Alexa, 8 HD Display, 16 ...</td>\n",
       "      <td>Amazon</td>\n",
       "      <td>Electronics</td>\n",
       "      <td>Amazon</td>\n",
       "      <td>2017-01-20 00:00:00+00:00</td>\n",
       "      <td>0.0</td>\n",
       "      <td>4</td>\n",
       "      <td>http://reviews.bestbuy.com/3545/5620410/review...</td>\n",
       "      <td>bought niec christma gift.sh 9 year old love it.</td>\n",
       "      <td>yes it is a great tablet.</td>\n",
       "      <td>fireman21</td>\n",
       "      <td>reviews.bestbuy.com</td>\n",
       "      <td>25</td>\n",
       "      <td>83</td>\n",
       "      <td>1</td>\n",
       "      <td>{'neg': 0.0, 'neu': 0.625, 'pos': 0.375, 'comp...</td>\n",
       "      <td>0.6369</td>\n",
       "      <td>pos</td>\n",
       "    </tr>\n",
       "    <tr>\n",
       "      <th>28329</th>\n",
       "      <td>2017-03-06 14:59:43+00:00</td>\n",
       "      <td>2019-02-23 02:49:38+00:00</td>\n",
       "      <td>Fire HD 8 Tablet with Alexa, 8 HD Display, 16 ...</td>\n",
       "      <td>Amazon</td>\n",
       "      <td>Electronics</td>\n",
       "      <td>Amazon</td>\n",
       "      <td>2017-01-30 00:00:00+00:00</td>\n",
       "      <td>0.0</td>\n",
       "      <td>5</td>\n",
       "      <td>http://reviews.bestbuy.com/3545/5620410/review...</td>\n",
       "      <td>nice light internet browsing, keep top email, ...</td>\n",
       "      <td>You get a lot for the price!</td>\n",
       "      <td>suzannalicious</td>\n",
       "      <td>reviews.bestbuy.com</td>\n",
       "      <td>28</td>\n",
       "      <td>317</td>\n",
       "      <td>1</td>\n",
       "      <td>{'neg': 0.0, 'neu': 0.538, 'pos': 0.462, 'comp...</td>\n",
       "      <td>0.9652</td>\n",
       "      <td>pos</td>\n",
       "    </tr>\n",
       "    <tr>\n",
       "      <th>28330</th>\n",
       "      <td>2017-03-06 14:59:43+00:00</td>\n",
       "      <td>2019-02-23 02:49:38+00:00</td>\n",
       "      <td>Fire HD 8 Tablet with Alexa, 8 HD Display, 16 ...</td>\n",
       "      <td>Amazon</td>\n",
       "      <td>Electronics</td>\n",
       "      <td>Amazon</td>\n",
       "      <td>2017-02-17 00:00:00+00:00</td>\n",
       "      <td>0.0</td>\n",
       "      <td>5</td>\n",
       "      <td>http://reviews.bestbuy.com/3545/5620410/review...</td>\n",
       "      <td>tablet absolut everyth want! watch tv show mov...</td>\n",
       "      <td>You get the entire World for less than $100!</td>\n",
       "      <td>SandyJ</td>\n",
       "      <td>reviews.bestbuy.com</td>\n",
       "      <td>44</td>\n",
       "      <td>241</td>\n",
       "      <td>1</td>\n",
       "      <td>{'neg': 0.0, 'neu': 0.868, 'pos': 0.132, 'comp...</td>\n",
       "      <td>0.2924</td>\n",
       "      <td>pos</td>\n",
       "    </tr>\n",
       "    <tr>\n",
       "      <th>28331</th>\n",
       "      <td>2017-03-06 14:59:43+00:00</td>\n",
       "      <td>2019-02-23 02:49:38+00:00</td>\n",
       "      <td>Fire HD 8 Tablet with Alexa, 8 HD Display, 16 ...</td>\n",
       "      <td>Amazon</td>\n",
       "      <td>Electronics</td>\n",
       "      <td>Amazon</td>\n",
       "      <td>2016-12-23 00:00:00+00:00</td>\n",
       "      <td>0.0</td>\n",
       "      <td>4</td>\n",
       "      <td>http://reviews.bestbuy.com/3545/5620410/review...</td>\n",
       "      <td>nineti dollars, expection low, still good tabl...</td>\n",
       "      <td>You get what your paying for</td>\n",
       "      <td>Hung</td>\n",
       "      <td>reviews.bestbuy.com</td>\n",
       "      <td>28</td>\n",
       "      <td>315</td>\n",
       "      <td>1</td>\n",
       "      <td>{'neg': 0.104, 'neu': 0.531, 'pos': 0.365, 'co...</td>\n",
       "      <td>0.8834</td>\n",
       "      <td>pos</td>\n",
       "    </tr>\n",
       "  </tbody>\n",
       "</table>\n",
       "<p>28332 rows × 20 columns</p>\n",
       "</div>"
      ],
      "text/plain": [
       "                      dateAdded               dateUpdated  \\\n",
       "0     2015-10-30 08:59:32+00:00 2019-04-25 09:08:16+00:00   \n",
       "1     2015-10-30 08:59:32+00:00 2019-04-25 09:08:16+00:00   \n",
       "2     2015-10-30 08:59:32+00:00 2019-04-25 09:08:16+00:00   \n",
       "3     2015-10-30 08:59:32+00:00 2019-04-25 09:08:16+00:00   \n",
       "4     2015-10-30 08:59:32+00:00 2019-04-25 09:08:16+00:00   \n",
       "...                         ...                       ...   \n",
       "28327 2017-03-06 14:59:43+00:00 2019-02-23 02:49:38+00:00   \n",
       "28328 2017-03-06 14:59:43+00:00 2019-02-23 02:49:38+00:00   \n",
       "28329 2017-03-06 14:59:43+00:00 2019-02-23 02:49:38+00:00   \n",
       "28330 2017-03-06 14:59:43+00:00 2019-02-23 02:49:38+00:00   \n",
       "28331 2017-03-06 14:59:43+00:00 2019-02-23 02:49:38+00:00   \n",
       "\n",
       "                                                    name         brand  \\\n",
       "0      AmazonBasics AAA Performance Alkaline Batterie...  AmazonBasics   \n",
       "1      AmazonBasics AAA Performance Alkaline Batterie...  AmazonBasics   \n",
       "2      AmazonBasics AAA Performance Alkaline Batterie...  AmazonBasics   \n",
       "3      AmazonBasics AAA Performance Alkaline Batterie...  AmazonBasics   \n",
       "4      AmazonBasics AAA Performance Alkaline Batterie...  AmazonBasics   \n",
       "...                                                  ...           ...   \n",
       "28327  Fire HD 8 Tablet with Alexa, 8 HD Display, 16 ...        Amazon   \n",
       "28328  Fire HD 8 Tablet with Alexa, 8 HD Display, 16 ...        Amazon   \n",
       "28329  Fire HD 8 Tablet with Alexa, 8 HD Display, 16 ...        Amazon   \n",
       "28330  Fire HD 8 Tablet with Alexa, 8 HD Display, 16 ...        Amazon   \n",
       "28331  Fire HD 8 Tablet with Alexa, 8 HD Display, 16 ...        Amazon   \n",
       "\n",
       "      primaryCategories  manufacturer              reviews.date  \\\n",
       "0       Health & Beauty  AmazonBasics 2017-03-02 00:00:00+00:00   \n",
       "1       Health & Beauty  AmazonBasics 2016-08-31 00:00:00+00:00   \n",
       "2       Health & Beauty  AmazonBasics 2016-12-06 00:00:00+00:00   \n",
       "3       Health & Beauty  AmazonBasics 2016-03-28 00:00:00+00:00   \n",
       "4       Health & Beauty  AmazonBasics 2017-04-22 00:00:00+00:00   \n",
       "...                 ...           ...                       ...   \n",
       "28327       Electronics        Amazon 2016-12-07 00:00:00+00:00   \n",
       "28328       Electronics        Amazon 2017-01-20 00:00:00+00:00   \n",
       "28329       Electronics        Amazon 2017-01-30 00:00:00+00:00   \n",
       "28330       Electronics        Amazon 2017-02-17 00:00:00+00:00   \n",
       "28331       Electronics        Amazon 2016-12-23 00:00:00+00:00   \n",
       "\n",
       "       reviews.numHelpful  reviews.rating  \\\n",
       "0                     NaN               3   \n",
       "1                     NaN               4   \n",
       "2                     NaN               5   \n",
       "3                     NaN               5   \n",
       "4                     NaN               5   \n",
       "...                   ...             ...   \n",
       "28327                 0.0               5   \n",
       "28328                 0.0               4   \n",
       "28329                 0.0               5   \n",
       "28330                 0.0               5   \n",
       "28331                 0.0               4   \n",
       "\n",
       "                                      reviews.sourceURLs  \\\n",
       "0      https://www.amazon.com/product-reviews/B00QWO9...   \n",
       "1      https://www.amazon.com/product-reviews/B00QWO9...   \n",
       "2      https://www.amazon.com/product-reviews/B00QWO9...   \n",
       "3      https://www.amazon.com/product-reviews/B00QWO9...   \n",
       "4      https://www.amazon.com/product-reviews/B00QWO9...   \n",
       "...                                                  ...   \n",
       "28327  http://reviews.bestbuy.com/3545/5620410/review...   \n",
       "28328  http://reviews.bestbuy.com/3545/5620410/review...   \n",
       "28329  http://reviews.bestbuy.com/3545/5620410/review...   \n",
       "28330  http://reviews.bestbuy.com/3545/5620410/review...   \n",
       "28331  http://reviews.bestbuy.com/3545/5620410/review...   \n",
       "\n",
       "                                            reviews.text  \\\n",
       "0      order 3 one item bad quality. miss backup spri...   \n",
       "1            bulk alway less expens way go product like    \n",
       "2                             well duracel price happy.    \n",
       "3      seem work well name brand batteri much better ...   \n",
       "4                        batteri long last price great.    \n",
       "...                                                  ...   \n",
       "28327  got 2 8 yr old twins. 11 yr old one one better...   \n",
       "28328  bought niec christma gift.sh 9 year old love it.    \n",
       "28329  nice light internet browsing, keep top email, ...   \n",
       "28330  tablet absolut everyth want! watch tv show mov...   \n",
       "28331  nineti dollars, expection low, still good tabl...   \n",
       "\n",
       "                                           reviews.title  reviews.username  \\\n",
       "0      ... 3 of them and one of the item is bad quali...        Byger yang   \n",
       "1      ... always the less expensive way to go for pr...              ByMG   \n",
       "2      ... are not Duracell but for the price i am ha...  BySharon Lambert   \n",
       "3      ... as well as name brand batteries at a much ...     Bymark sexson   \n",
       "4      ... batteries are very long lasting the price ...           Bylinda   \n",
       "...                                                  ...               ...   \n",
       "28327                                          Xmas gift    Mom2twinsplus1   \n",
       "28328                          yes it is a great tablet.         fireman21   \n",
       "28329                       You get a lot for the price!    suzannalicious   \n",
       "28330       You get the entire World for less than $100!            SandyJ   \n",
       "28331                       You get what your paying for              Hung   \n",
       "\n",
       "                    domain  title_length  text_length  sent_label  \\\n",
       "0           www.amazon.com            88          139           0   \n",
       "1           www.amazon.com            57           67           1   \n",
       "2           www.amazon.com            50           56           1   \n",
       "3           www.amazon.com            52           67           1   \n",
       "4           www.amazon.com            55           57           1   \n",
       "...                    ...           ...          ...         ...   \n",
       "28327  reviews.bestbuy.com             9          116           1   \n",
       "28328  reviews.bestbuy.com            25           83           1   \n",
       "28329  reviews.bestbuy.com            28          317           1   \n",
       "28330  reviews.bestbuy.com            44          241           1   \n",
       "28331  reviews.bestbuy.com            28          315           1   \n",
       "\n",
       "                                                   vader  sentiment comp_score  \n",
       "0      {'neg': 0.298, 'neu': 0.702, 'pos': 0.0, 'comp...    -0.6249        neg  \n",
       "1      {'neg': 0.0, 'neu': 0.737, 'pos': 0.263, 'comp...     0.3612        pos  \n",
       "2      {'neg': 0.0, 'neu': 0.256, 'pos': 0.744, 'comp...     0.7003        pos  \n",
       "3      {'neg': 0.0, 'neu': 0.583, 'pos': 0.417, 'comp...     0.6124        pos  \n",
       "4      {'neg': 0.0, 'neu': 0.494, 'pos': 0.506, 'comp...     0.6249        pos  \n",
       "...                                                  ...        ...        ...  \n",
       "28327  {'neg': 0.0, 'neu': 0.645, 'pos': 0.355, 'comp...     0.7650        pos  \n",
       "28328  {'neg': 0.0, 'neu': 0.625, 'pos': 0.375, 'comp...     0.6369        pos  \n",
       "28329  {'neg': 0.0, 'neu': 0.538, 'pos': 0.462, 'comp...     0.9652        pos  \n",
       "28330  {'neg': 0.0, 'neu': 0.868, 'pos': 0.132, 'comp...     0.2924        pos  \n",
       "28331  {'neg': 0.104, 'neu': 0.531, 'pos': 0.365, 'co...     0.8834        pos  \n",
       "\n",
       "[28332 rows x 20 columns]"
      ]
     },
     "execution_count": 50,
     "metadata": {},
     "output_type": "execute_result"
    }
   ],
   "source": [
    "df"
   ]
  },
  {
   "cell_type": "code",
   "execution_count": 51,
   "id": "capable-roulette",
   "metadata": {},
   "outputs": [
    {
     "data": {
      "text/plain": [
       "-0.6249"
      ]
     },
     "execution_count": 51,
     "metadata": {},
     "output_type": "execute_result"
    }
   ],
   "source": [
    "df['sentiment'][0]"
   ]
  },
  {
   "cell_type": "code",
   "execution_count": 52,
   "id": "molecular-suffering",
   "metadata": {},
   "outputs": [
    {
     "data": {
      "image/png": "[encoded data removed]",
      "text/plain": [
       "<Figure size 720x360 with 1 Axes>"
      ]
     },
     "metadata": {
      "needs_background": "light"
     },
     "output_type": "display_data"
    }
   ],
   "source": [
    "plt.figure(figsize=(10, 5))\n",
    "sns.histplot(df, x='sentiment', kde=True, palette=\"tab20c\");"
   ]
  },
  {
   "cell_type": "code",
   "execution_count": 53,
   "id": "adapted-gates",
   "metadata": {},
   "outputs": [
    {
     "name": "stderr",
     "output_type": "stream",
     "text": [
      "/Users/brianroepke/opt/anaconda3/envs/DATA110/lib/python3.8/site-packages/seaborn/_decorators.py:36: FutureWarning: Pass the following variable as a keyword arg: x. From version 0.12, the only valid positional argument will be `data`, and passing other arguments without an explicit keyword will result in an error or misinterpretation.\n",
      "  warnings.warn(\n"
     ]
    },
    {
     "ename": "ValueError",
     "evalue": "The truth value of a Series is ambiguous. Use a.empty, a.bool(), a.item(), a.any() or a.all().",
     "output_type": "error",
     "traceback": [
      "\u001b[0;31m---------------------------------------------------------------------------\u001b[0m",
      "\u001b[0;31mValueError\u001b[0m                                Traceback (most recent call last)",
      "\u001b[0;32m<ipython-input-53-7c7330f9a383>\u001b[0m in \u001b[0;36m<module>\u001b[0;34m\u001b[0m\n\u001b[1;32m      1\u001b[0m \u001b[0mplt\u001b[0m\u001b[0;34m.\u001b[0m\u001b[0mfigure\u001b[0m\u001b[0;34m(\u001b[0m\u001b[0mfigsize\u001b[0m\u001b[0;34m=\u001b[0m\u001b[0;34m(\u001b[0m\u001b[0;36m10\u001b[0m\u001b[0;34m,\u001b[0m \u001b[0;36m5\u001b[0m\u001b[0;34m)\u001b[0m\u001b[0;34m)\u001b[0m\u001b[0;34m\u001b[0m\u001b[0;34m\u001b[0m\u001b[0m\n\u001b[0;32m----> 2\u001b[0;31m \u001b[0msns\u001b[0m\u001b[0;34m.\u001b[0m\u001b[0mcountplot\u001b[0m\u001b[0;34m(\u001b[0m\u001b[0mdf\u001b[0m\u001b[0;34m,\u001b[0m \u001b[0mx\u001b[0m\u001b[0;34m=\u001b[0m\u001b[0;34m'comp_score'\u001b[0m\u001b[0;34m,\u001b[0m \u001b[0mpalette\u001b[0m\u001b[0;34m=\u001b[0m\u001b[0;34m\"tab20c\"\u001b[0m\u001b[0;34m)\u001b[0m\u001b[0;34m;\u001b[0m\u001b[0;34m\u001b[0m\u001b[0;34m\u001b[0m\u001b[0m\n\u001b[0m",
      "\u001b[0;32m~/opt/anaconda3/envs/DATA110/lib/python3.8/site-packages/seaborn/_decorators.py\u001b[0m in \u001b[0;36minner_f\u001b[0;34m(*args, **kwargs)\u001b[0m\n\u001b[1;32m     44\u001b[0m             )\n\u001b[1;32m     45\u001b[0m         \u001b[0mkwargs\u001b[0m\u001b[0;34m.\u001b[0m\u001b[0mupdate\u001b[0m\u001b[0;34m(\u001b[0m\u001b[0;34m{\u001b[0m\u001b[0mk\u001b[0m\u001b[0;34m:\u001b[0m \u001b[0marg\u001b[0m \u001b[0;32mfor\u001b[0m \u001b[0mk\u001b[0m\u001b[0;34m,\u001b[0m \u001b[0marg\u001b[0m \u001b[0;32min\u001b[0m \u001b[0mzip\u001b[0m\u001b[0;34m(\u001b[0m\u001b[0msig\u001b[0m\u001b[0;34m.\u001b[0m\u001b[0mparameters\u001b[0m\u001b[0;34m,\u001b[0m \u001b[0margs\u001b[0m\u001b[0;34m)\u001b[0m\u001b[0;34m}\u001b[0m\u001b[0;34m)\u001b[0m\u001b[0;34m\u001b[0m\u001b[0;34m\u001b[0m\u001b[0m\n\u001b[0;32m---> 46\u001b[0;31m         \u001b[0;32mreturn\u001b[0m \u001b[0mf\u001b[0m\u001b[0;34m(\u001b[0m\u001b[0;34m**\u001b[0m\u001b[0mkwargs\u001b[0m\u001b[0;34m)\u001b[0m\u001b[0;34m\u001b[0m\u001b[0;34m\u001b[0m\u001b[0m\n\u001b[0m\u001b[1;32m     47\u001b[0m     \u001b[0;32mreturn\u001b[0m \u001b[0minner_f\u001b[0m\u001b[0;34m\u001b[0m\u001b[0;34m\u001b[0m\u001b[0m\n\u001b[1;32m     48\u001b[0m \u001b[0;34m\u001b[0m\u001b[0m\n",
      "\u001b[0;32m~/opt/anaconda3/envs/DATA110/lib/python3.8/site-packages/seaborn/categorical.py\u001b[0m in \u001b[0;36mcountplot\u001b[0;34m(x, y, hue, data, order, hue_order, orient, color, palette, saturation, dodge, ax, **kwargs)\u001b[0m\n\u001b[1;32m   3593\u001b[0m         \u001b[0;32mraise\u001b[0m \u001b[0mValueError\u001b[0m\u001b[0;34m(\u001b[0m\u001b[0;34m\"Cannot pass values for both `x` and `y`\"\u001b[0m\u001b[0;34m)\u001b[0m\u001b[0;34m\u001b[0m\u001b[0;34m\u001b[0m\u001b[0m\n\u001b[1;32m   3594\u001b[0m \u001b[0;34m\u001b[0m\u001b[0m\n\u001b[0;32m-> 3595\u001b[0;31m     plotter = _CountPlotter(\n\u001b[0m\u001b[1;32m   3596\u001b[0m         \u001b[0mx\u001b[0m\u001b[0;34m,\u001b[0m \u001b[0my\u001b[0m\u001b[0;34m,\u001b[0m \u001b[0mhue\u001b[0m\u001b[0;34m,\u001b[0m \u001b[0mdata\u001b[0m\u001b[0;34m,\u001b[0m \u001b[0morder\u001b[0m\u001b[0;34m,\u001b[0m \u001b[0mhue_order\u001b[0m\u001b[0;34m,\u001b[0m\u001b[0;34m\u001b[0m\u001b[0;34m\u001b[0m\u001b[0m\n\u001b[1;32m   3597\u001b[0m         \u001b[0mestimator\u001b[0m\u001b[0;34m,\u001b[0m \u001b[0mci\u001b[0m\u001b[0;34m,\u001b[0m \u001b[0mn_boot\u001b[0m\u001b[0;34m,\u001b[0m \u001b[0munits\u001b[0m\u001b[0;34m,\u001b[0m \u001b[0mseed\u001b[0m\u001b[0;34m,\u001b[0m\u001b[0;34m\u001b[0m\u001b[0;34m\u001b[0m\u001b[0m\n",
      "\u001b[0;32m~/opt/anaconda3/envs/DATA110/lib/python3.8/site-packages/seaborn/categorical.py\u001b[0m in \u001b[0;36m__init__\u001b[0;34m(self, x, y, hue, data, order, hue_order, estimator, ci, n_boot, units, seed, orient, color, palette, saturation, errcolor, errwidth, capsize, dodge)\u001b[0m\n\u001b[1;32m   1582\u001b[0m                  errwidth, capsize, dodge):\n\u001b[1;32m   1583\u001b[0m         \u001b[0;34m\"\"\"Initialize the plotter.\"\"\"\u001b[0m\u001b[0;34m\u001b[0m\u001b[0;34m\u001b[0m\u001b[0m\n\u001b[0;32m-> 1584\u001b[0;31m         self.establish_variables(x, y, hue, data, orient,\n\u001b[0m\u001b[1;32m   1585\u001b[0m                                  order, hue_order, units)\n\u001b[1;32m   1586\u001b[0m         \u001b[0mself\u001b[0m\u001b[0;34m.\u001b[0m\u001b[0mestablish_colors\u001b[0m\u001b[0;34m(\u001b[0m\u001b[0mcolor\u001b[0m\u001b[0;34m,\u001b[0m \u001b[0mpalette\u001b[0m\u001b[0;34m,\u001b[0m \u001b[0msaturation\u001b[0m\u001b[0;34m)\u001b[0m\u001b[0;34m\u001b[0m\u001b[0;34m\u001b[0m\u001b[0m\n",
      "\u001b[0;32m~/opt/anaconda3/envs/DATA110/lib/python3.8/site-packages/seaborn/categorical.py\u001b[0m in \u001b[0;36mestablish_variables\u001b[0;34m(self, x, y, hue, data, orient, order, hue_order, units)\u001b[0m\n\u001b[1;32m    154\u001b[0m \u001b[0;34m\u001b[0m\u001b[0m\n\u001b[1;32m    155\u001b[0m             \u001b[0;31m# Figure out the plotting orientation\u001b[0m\u001b[0;34m\u001b[0m\u001b[0;34m\u001b[0m\u001b[0;34m\u001b[0m\u001b[0m\n\u001b[0;32m--> 156\u001b[0;31m             orient = infer_orient(\n\u001b[0m\u001b[1;32m    157\u001b[0m                 \u001b[0mx\u001b[0m\u001b[0;34m,\u001b[0m \u001b[0my\u001b[0m\u001b[0;34m,\u001b[0m \u001b[0morient\u001b[0m\u001b[0;34m,\u001b[0m \u001b[0mrequire_numeric\u001b[0m\u001b[0;34m=\u001b[0m\u001b[0mself\u001b[0m\u001b[0;34m.\u001b[0m\u001b[0mrequire_numeric\u001b[0m\u001b[0;34m\u001b[0m\u001b[0;34m\u001b[0m\u001b[0m\n\u001b[1;32m    158\u001b[0m             )\n",
      "\u001b[0;32m~/opt/anaconda3/envs/DATA110/lib/python3.8/site-packages/seaborn/_core.py\u001b[0m in \u001b[0;36minfer_orient\u001b[0;34m(x, y, orient, require_numeric)\u001b[0m\n\u001b[1;32m   1302\u001b[0m     \"\"\"\n\u001b[1;32m   1303\u001b[0m \u001b[0;34m\u001b[0m\u001b[0m\n\u001b[0;32m-> 1304\u001b[0;31m     \u001b[0mx_type\u001b[0m \u001b[0;34m=\u001b[0m \u001b[0;32mNone\u001b[0m \u001b[0;32mif\u001b[0m \u001b[0mx\u001b[0m \u001b[0;32mis\u001b[0m \u001b[0;32mNone\u001b[0m \u001b[0;32melse\u001b[0m \u001b[0mvariable_type\u001b[0m\u001b[0;34m(\u001b[0m\u001b[0mx\u001b[0m\u001b[0;34m)\u001b[0m\u001b[0;34m\u001b[0m\u001b[0;34m\u001b[0m\u001b[0m\n\u001b[0m\u001b[1;32m   1305\u001b[0m     \u001b[0my_type\u001b[0m \u001b[0;34m=\u001b[0m \u001b[0;32mNone\u001b[0m \u001b[0;32mif\u001b[0m \u001b[0my\u001b[0m \u001b[0;32mis\u001b[0m \u001b[0;32mNone\u001b[0m \u001b[0;32melse\u001b[0m \u001b[0mvariable_type\u001b[0m\u001b[0;34m(\u001b[0m\u001b[0my\u001b[0m\u001b[0;34m)\u001b[0m\u001b[0;34m\u001b[0m\u001b[0;34m\u001b[0m\u001b[0m\n\u001b[1;32m   1306\u001b[0m \u001b[0;34m\u001b[0m\u001b[0m\n",
      "\u001b[0;32m~/opt/anaconda3/envs/DATA110/lib/python3.8/site-packages/seaborn/_core.py\u001b[0m in \u001b[0;36mvariable_type\u001b[0;34m(vector, boolean_type)\u001b[0m\n\u001b[1;32m   1220\u001b[0m \u001b[0;34m\u001b[0m\u001b[0m\n\u001b[1;32m   1221\u001b[0m     \u001b[0;31m# Special-case all-na data, which is always \"numeric\"\u001b[0m\u001b[0;34m\u001b[0m\u001b[0;34m\u001b[0m\u001b[0;34m\u001b[0m\u001b[0m\n\u001b[0;32m-> 1222\u001b[0;31m     \u001b[0;32mif\u001b[0m \u001b[0mpd\u001b[0m\u001b[0;34m.\u001b[0m\u001b[0misna\u001b[0m\u001b[0;34m(\u001b[0m\u001b[0mvector\u001b[0m\u001b[0;34m)\u001b[0m\u001b[0;34m.\u001b[0m\u001b[0mall\u001b[0m\u001b[0;34m(\u001b[0m\u001b[0;34m)\u001b[0m\u001b[0;34m:\u001b[0m\u001b[0;34m\u001b[0m\u001b[0;34m\u001b[0m\u001b[0m\n\u001b[0m\u001b[1;32m   1223\u001b[0m         \u001b[0;32mreturn\u001b[0m \u001b[0;34m\"numeric\"\u001b[0m\u001b[0;34m\u001b[0m\u001b[0;34m\u001b[0m\u001b[0m\n\u001b[1;32m   1224\u001b[0m \u001b[0;34m\u001b[0m\u001b[0m\n",
      "\u001b[0;32m~/opt/anaconda3/envs/DATA110/lib/python3.8/site-packages/pandas/core/generic.py\u001b[0m in \u001b[0;36m__nonzero__\u001b[0;34m(self)\u001b[0m\n\u001b[1;32m   1440\u001b[0m     \u001b[0;34m@\u001b[0m\u001b[0mfinal\u001b[0m\u001b[0;34m\u001b[0m\u001b[0;34m\u001b[0m\u001b[0m\n\u001b[1;32m   1441\u001b[0m     \u001b[0;32mdef\u001b[0m \u001b[0m__nonzero__\u001b[0m\u001b[0;34m(\u001b[0m\u001b[0mself\u001b[0m\u001b[0;34m)\u001b[0m\u001b[0;34m:\u001b[0m\u001b[0;34m\u001b[0m\u001b[0;34m\u001b[0m\u001b[0m\n\u001b[0;32m-> 1442\u001b[0;31m         raise ValueError(\n\u001b[0m\u001b[1;32m   1443\u001b[0m             \u001b[0;34mf\"The truth value of a {type(self).__name__} is ambiguous. \"\u001b[0m\u001b[0;34m\u001b[0m\u001b[0;34m\u001b[0m\u001b[0m\n\u001b[1;32m   1444\u001b[0m             \u001b[0;34m\"Use a.empty, a.bool(), a.item(), a.any() or a.all().\"\u001b[0m\u001b[0;34m\u001b[0m\u001b[0;34m\u001b[0m\u001b[0m\n",
      "\u001b[0;31mValueError\u001b[0m: The truth value of a Series is ambiguous. Use a.empty, a.bool(), a.item(), a.any() or a.all()."
     ]
    },
    {
     "data": {
      "text/plain": [
       "<Figure size 720x360 with 0 Axes>"
      ]
     },
     "metadata": {},
     "output_type": "display_data"
    }
   ],
   "source": [
    "plt.figure(figsize=(10, 5))\n",
    "sns.countplot(df, x='comp_score', palette=\"tab20c\");"
   ]
  },
  {
   "cell_type": "code",
   "execution_count": null,
   "id": "compatible-harvard",
   "metadata": {},
   "outputs": [],
   "source": []
  }
 ],
 "metadata": {
  "kernelspec": {
   "display_name": "Python 3",
   "language": "python",
   "name": "python3"
  },
  "language_info": {
   "codemirror_mode": {
    "name": "ipython",
    "version": 3
   },
   "file_extension": ".py",
   "mimetype": "text/x-python",
   "name": "python",
   "nbconvert_exporter": "python",
   "pygments_lexer": "ipython3",
   "version": "3.8.8"
  }
 },
 "nbformat": 4,
 "nbformat_minor": 5
}
