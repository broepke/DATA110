{
 "cells": [
  {
   "cell_type": "markdown",
   "id": "patient-familiar",
   "metadata": {},
   "source": [
    "# Week 10 Assignment: Sentiment Analysis\n",
    "\n",
    "**Brian Roepke**  \n",
    "*DATA 110*\n",
    "\n",
    "For the given dataset perform sentiment analysis using  1) Machine Learning and 2) Lexicon-based techniques.  Refer to assigned reading (especially ch 7), supplementals, or conduct your own research.\n",
    "\n",
    "Requirements:\n",
    "\n",
    "1) Perform full EDA,  including key statistics and visualizations.\n",
    "\n",
    "2) Perform required text preprocessing and feature vectorization (Eg: TF-IDF)\n",
    "\n",
    "3) Modeling: Create ML and Lexicon-based models.\n",
    "\n",
    " - **Machine learning**:\n",
    "     - create a new column (sent_label) for the target based on reviews.rating, where  1, 2, or 3 are labeled as 0 (negative) while 4 or greater are labeled as 1 (positive)\n",
    "     - Use any appropriate ML algorithm (eg: SVM, Logistic Regression, etc...)  and create 3 different models using pipelines. \n",
    "     - Use cross-validation (StratifiedKFold for imbalanced datasets) to compare each of the models for model selection.\n",
    "     - Consider the case of imbalanced dataset (Eg: significantly more positive reviews versus negative reviews). \n",
    " - **Lexicon:**\n",
    "     - Use any of the lexicons such as VADER or SentiWordNet\n",
    "\n",
    "4) Assess performance using appropriate performance metrics. Compare performance between the two approaches.\n",
    "\n",
    "5) For both approaches, provide visualizations of the most common words in negative and positive reviews.  These can be bar plots, word clouds, etc."
   ]
  },
  {
   "cell_type": "code",
   "execution_count": 1,
   "id": "deadly-reminder",
   "metadata": {},
   "outputs": [],
   "source": [
    "import numpy as np\n",
    "import pandas as pd\n",
    "import re\n",
    "import itertools\n",
    "import string\n",
    "import warnings\n",
    "warnings.filterwarnings('ignore')\n",
    "\n",
    "from PIL import Image\n",
    "from wordcloud import WordCloud, STOPWORDS, ImageColorGenerator\n",
    "\n",
    "\n",
    "import sklearn as sk\n",
    "from sklearn.model_selection import train_test_split\n",
    "from sklearn.feature_extraction.text import CountVectorizer, TfidfVectorizer\n",
    "from sklearn.naive_bayes import MultinomialNB, ComplementNB\n",
    "from sklearn import metrics \n",
    "from sklearn.utils import resample\n",
    "from sklearn.pipeline import Pipeline\n",
    "from sklearn.model_selection import GridSearchCV\n",
    "from sklearn.model_selection import cross_val_score, RepeatedStratifiedKFold\n",
    "from sklearn.cluster import KMeans\n",
    "from sklearn.metrics import adjusted_rand_score\n",
    "from sklearn.svm import SVC\n",
    "from sklearn.linear_model import LogisticRegression\n",
    "from sklearn.linear_model import SGDClassifier\n",
    "from sklearn.ensemble import RandomForestClassifier\n",
    "from sklearn.preprocessing import MinMaxScaler\n",
    "\n",
    "from sklearn.compose import ColumnTransformer\n",
    "from sklearn.preprocessing import OneHotEncoder\n",
    "\n",
    "# NLTK Imports and Downloads\n",
    "import nltk\n",
    "from nltk.tokenize import word_tokenize\n",
    "from nltk.sentiment.util import *\n",
    "from nltk.sentiment.vader import SentimentIntensityAnalyzer\n",
    "from nltk.stem import PorterStemmer\n",
    "from nltk.probability import FreqDist\n",
    "\n",
    "import seaborn as sns\n",
    "import matplotlib.pyplot as plt\n",
    "%matplotlib inline"
   ]
  },
  {
   "cell_type": "code",
   "execution_count": 2,
   "id": "invisible-germany",
   "metadata": {},
   "outputs": [],
   "source": [
    "df = pd.read_csv(\"Amazon_Consumer_Reviews.csv\")"
   ]
  },
  {
   "cell_type": "markdown",
   "id": "bronze-music",
   "metadata": {},
   "source": [
    "# EDA"
   ]
  },
  {
   "cell_type": "code",
   "execution_count": 3,
   "id": "greatest-float",
   "metadata": {},
   "outputs": [
    {
     "data": {
      "text/html": [
       "<div>\n",
       "<style scoped>\n",
       "    .dataframe tbody tr th:only-of-type {\n",
       "        vertical-align: middle;\n",
       "    }\n",
       "\n",
       "    .dataframe tbody tr th {\n",
       "        vertical-align: top;\n",
       "    }\n",
       "\n",
       "    .dataframe thead th {\n",
       "        text-align: right;\n",
       "    }\n",
       "</style>\n",
       "<table border=\"1\" class=\"dataframe\">\n",
       "  <thead>\n",
       "    <tr style=\"text-align: right;\">\n",
       "      <th></th>\n",
       "      <th>id</th>\n",
       "      <th>dateAdded</th>\n",
       "      <th>dateUpdated</th>\n",
       "      <th>name</th>\n",
       "      <th>asins</th>\n",
       "      <th>brand</th>\n",
       "      <th>categories</th>\n",
       "      <th>primaryCategories</th>\n",
       "      <th>keys</th>\n",
       "      <th>manufacturer</th>\n",
       "      <th>manufacturerNumber</th>\n",
       "      <th>reviews.date</th>\n",
       "      <th>reviews.dateSeen</th>\n",
       "      <th>reviews.numHelpful</th>\n",
       "      <th>reviews.rating</th>\n",
       "      <th>reviews.sourceURLs</th>\n",
       "      <th>reviews.text</th>\n",
       "      <th>reviews.title</th>\n",
       "      <th>reviews.username</th>\n",
       "    </tr>\n",
       "  </thead>\n",
       "  <tbody>\n",
       "    <tr>\n",
       "      <th>0</th>\n",
       "      <td>AVpgNzjwLJeJML43Kpxn</td>\n",
       "      <td>2015-10-30T08:59:32Z</td>\n",
       "      <td>2019-04-25T09:08:16Z</td>\n",
       "      <td>AmazonBasics AAA Performance Alkaline Batterie...</td>\n",
       "      <td>B00QWO9P0O,B00LH3DMUO</td>\n",
       "      <td>Amazonbasics</td>\n",
       "      <td>AA,AAA,Health,Electronics,Health &amp; Household,C...</td>\n",
       "      <td>Health &amp; Beauty</td>\n",
       "      <td>amazonbasics/hl002619,amazonbasicsaaaperforman...</td>\n",
       "      <td>AmazonBasics</td>\n",
       "      <td>HL-002619</td>\n",
       "      <td>2017-03-02T00:00:00.000Z</td>\n",
       "      <td>2017-08-28T00:00:00Z</td>\n",
       "      <td>NaN</td>\n",
       "      <td>3</td>\n",
       "      <td>https://www.amazon.com/product-reviews/B00QWO9...</td>\n",
       "      <td>I order 3 of them and one of the item is bad q...</td>\n",
       "      <td>... 3 of them and one of the item is bad quali...</td>\n",
       "      <td>Byger yang</td>\n",
       "    </tr>\n",
       "    <tr>\n",
       "      <th>1</th>\n",
       "      <td>AVpgNzjwLJeJML43Kpxn</td>\n",
       "      <td>2015-10-30T08:59:32Z</td>\n",
       "      <td>2019-04-25T09:08:16Z</td>\n",
       "      <td>AmazonBasics AAA Performance Alkaline Batterie...</td>\n",
       "      <td>B00QWO9P0O,B00LH3DMUO</td>\n",
       "      <td>Amazonbasics</td>\n",
       "      <td>AA,AAA,Health,Electronics,Health &amp; Household,C...</td>\n",
       "      <td>Health &amp; Beauty</td>\n",
       "      <td>amazonbasics/hl002619,amazonbasicsaaaperforman...</td>\n",
       "      <td>AmazonBasics</td>\n",
       "      <td>HL-002619</td>\n",
       "      <td>2016-08-31T00:00:00.000Z</td>\n",
       "      <td>2017-08-28T00:00:00Z</td>\n",
       "      <td>NaN</td>\n",
       "      <td>4</td>\n",
       "      <td>https://www.amazon.com/product-reviews/B00QWO9...</td>\n",
       "      <td>Bulk is always the less expensive way to go fo...</td>\n",
       "      <td>... always the less expensive way to go for pr...</td>\n",
       "      <td>ByMG</td>\n",
       "    </tr>\n",
       "    <tr>\n",
       "      <th>2</th>\n",
       "      <td>AVpgNzjwLJeJML43Kpxn</td>\n",
       "      <td>2015-10-30T08:59:32Z</td>\n",
       "      <td>2019-04-25T09:08:16Z</td>\n",
       "      <td>AmazonBasics AAA Performance Alkaline Batterie...</td>\n",
       "      <td>B00QWO9P0O,B00LH3DMUO</td>\n",
       "      <td>Amazonbasics</td>\n",
       "      <td>AA,AAA,Health,Electronics,Health &amp; Household,C...</td>\n",
       "      <td>Health &amp; Beauty</td>\n",
       "      <td>amazonbasics/hl002619,amazonbasicsaaaperforman...</td>\n",
       "      <td>AmazonBasics</td>\n",
       "      <td>HL-002619</td>\n",
       "      <td>2016-12-06T00:00:00.000Z</td>\n",
       "      <td>2017-08-28T00:00:00Z</td>\n",
       "      <td>NaN</td>\n",
       "      <td>5</td>\n",
       "      <td>https://www.amazon.com/product-reviews/B00QWO9...</td>\n",
       "      <td>Well they are not Duracell but for the price i...</td>\n",
       "      <td>... are not Duracell but for the price i am ha...</td>\n",
       "      <td>BySharon Lambert</td>\n",
       "    </tr>\n",
       "    <tr>\n",
       "      <th>3</th>\n",
       "      <td>AVpgNzjwLJeJML43Kpxn</td>\n",
       "      <td>2015-10-30T08:59:32Z</td>\n",
       "      <td>2019-04-25T09:08:16Z</td>\n",
       "      <td>AmazonBasics AAA Performance Alkaline Batterie...</td>\n",
       "      <td>B00QWO9P0O,B00LH3DMUO</td>\n",
       "      <td>Amazonbasics</td>\n",
       "      <td>AA,AAA,Health,Electronics,Health &amp; Household,C...</td>\n",
       "      <td>Health &amp; Beauty</td>\n",
       "      <td>amazonbasics/hl002619,amazonbasicsaaaperforman...</td>\n",
       "      <td>AmazonBasics</td>\n",
       "      <td>HL-002619</td>\n",
       "      <td>2016-03-28T00:00:00.000Z</td>\n",
       "      <td>2017-08-28T00:00:00Z</td>\n",
       "      <td>NaN</td>\n",
       "      <td>5</td>\n",
       "      <td>https://www.amazon.com/product-reviews/B00QWO9...</td>\n",
       "      <td>Seem to work as well as name brand batteries a...</td>\n",
       "      <td>... as well as name brand batteries at a much ...</td>\n",
       "      <td>Bymark sexson</td>\n",
       "    </tr>\n",
       "    <tr>\n",
       "      <th>4</th>\n",
       "      <td>AVpgNzjwLJeJML43Kpxn</td>\n",
       "      <td>2015-10-30T08:59:32Z</td>\n",
       "      <td>2019-04-25T09:08:16Z</td>\n",
       "      <td>AmazonBasics AAA Performance Alkaline Batterie...</td>\n",
       "      <td>B00QWO9P0O,B00LH3DMUO</td>\n",
       "      <td>Amazonbasics</td>\n",
       "      <td>AA,AAA,Health,Electronics,Health &amp; Household,C...</td>\n",
       "      <td>Health &amp; Beauty</td>\n",
       "      <td>amazonbasics/hl002619,amazonbasicsaaaperforman...</td>\n",
       "      <td>AmazonBasics</td>\n",
       "      <td>HL-002619</td>\n",
       "      <td>2017-04-22T00:00:00.000Z</td>\n",
       "      <td>2017-08-28T00:00:00Z</td>\n",
       "      <td>NaN</td>\n",
       "      <td>5</td>\n",
       "      <td>https://www.amazon.com/product-reviews/B00QWO9...</td>\n",
       "      <td>These batteries are very long lasting the pric...</td>\n",
       "      <td>... batteries are very long lasting the price ...</td>\n",
       "      <td>Bylinda</td>\n",
       "    </tr>\n",
       "  </tbody>\n",
       "</table>\n",
       "</div>"
      ],
      "text/plain": [
       "                     id             dateAdded           dateUpdated  \\\n",
       "0  AVpgNzjwLJeJML43Kpxn  2015-10-30T08:59:32Z  2019-04-25T09:08:16Z   \n",
       "1  AVpgNzjwLJeJML43Kpxn  2015-10-30T08:59:32Z  2019-04-25T09:08:16Z   \n",
       "2  AVpgNzjwLJeJML43Kpxn  2015-10-30T08:59:32Z  2019-04-25T09:08:16Z   \n",
       "3  AVpgNzjwLJeJML43Kpxn  2015-10-30T08:59:32Z  2019-04-25T09:08:16Z   \n",
       "4  AVpgNzjwLJeJML43Kpxn  2015-10-30T08:59:32Z  2019-04-25T09:08:16Z   \n",
       "\n",
       "                                                name                  asins  \\\n",
       "0  AmazonBasics AAA Performance Alkaline Batterie...  B00QWO9P0O,B00LH3DMUO   \n",
       "1  AmazonBasics AAA Performance Alkaline Batterie...  B00QWO9P0O,B00LH3DMUO   \n",
       "2  AmazonBasics AAA Performance Alkaline Batterie...  B00QWO9P0O,B00LH3DMUO   \n",
       "3  AmazonBasics AAA Performance Alkaline Batterie...  B00QWO9P0O,B00LH3DMUO   \n",
       "4  AmazonBasics AAA Performance Alkaline Batterie...  B00QWO9P0O,B00LH3DMUO   \n",
       "\n",
       "          brand                                         categories  \\\n",
       "0  Amazonbasics  AA,AAA,Health,Electronics,Health & Household,C...   \n",
       "1  Amazonbasics  AA,AAA,Health,Electronics,Health & Household,C...   \n",
       "2  Amazonbasics  AA,AAA,Health,Electronics,Health & Household,C...   \n",
       "3  Amazonbasics  AA,AAA,Health,Electronics,Health & Household,C...   \n",
       "4  Amazonbasics  AA,AAA,Health,Electronics,Health & Household,C...   \n",
       "\n",
       "  primaryCategories                                               keys  \\\n",
       "0   Health & Beauty  amazonbasics/hl002619,amazonbasicsaaaperforman...   \n",
       "1   Health & Beauty  amazonbasics/hl002619,amazonbasicsaaaperforman...   \n",
       "2   Health & Beauty  amazonbasics/hl002619,amazonbasicsaaaperforman...   \n",
       "3   Health & Beauty  amazonbasics/hl002619,amazonbasicsaaaperforman...   \n",
       "4   Health & Beauty  amazonbasics/hl002619,amazonbasicsaaaperforman...   \n",
       "\n",
       "   manufacturer manufacturerNumber              reviews.date  \\\n",
       "0  AmazonBasics          HL-002619  2017-03-02T00:00:00.000Z   \n",
       "1  AmazonBasics          HL-002619  2016-08-31T00:00:00.000Z   \n",
       "2  AmazonBasics          HL-002619  2016-12-06T00:00:00.000Z   \n",
       "3  AmazonBasics          HL-002619  2016-03-28T00:00:00.000Z   \n",
       "4  AmazonBasics          HL-002619  2017-04-22T00:00:00.000Z   \n",
       "\n",
       "       reviews.dateSeen  reviews.numHelpful  reviews.rating  \\\n",
       "0  2017-08-28T00:00:00Z                 NaN               3   \n",
       "1  2017-08-28T00:00:00Z                 NaN               4   \n",
       "2  2017-08-28T00:00:00Z                 NaN               5   \n",
       "3  2017-08-28T00:00:00Z                 NaN               5   \n",
       "4  2017-08-28T00:00:00Z                 NaN               5   \n",
       "\n",
       "                                  reviews.sourceURLs  \\\n",
       "0  https://www.amazon.com/product-reviews/B00QWO9...   \n",
       "1  https://www.amazon.com/product-reviews/B00QWO9...   \n",
       "2  https://www.amazon.com/product-reviews/B00QWO9...   \n",
       "3  https://www.amazon.com/product-reviews/B00QWO9...   \n",
       "4  https://www.amazon.com/product-reviews/B00QWO9...   \n",
       "\n",
       "                                        reviews.text  \\\n",
       "0  I order 3 of them and one of the item is bad q...   \n",
       "1  Bulk is always the less expensive way to go fo...   \n",
       "2  Well they are not Duracell but for the price i...   \n",
       "3  Seem to work as well as name brand batteries a...   \n",
       "4  These batteries are very long lasting the pric...   \n",
       "\n",
       "                                       reviews.title  reviews.username  \n",
       "0  ... 3 of them and one of the item is bad quali...        Byger yang  \n",
       "1  ... always the less expensive way to go for pr...              ByMG  \n",
       "2  ... are not Duracell but for the price i am ha...  BySharon Lambert  \n",
       "3  ... as well as name brand batteries at a much ...     Bymark sexson  \n",
       "4  ... batteries are very long lasting the price ...           Bylinda  "
      ]
     },
     "execution_count": 3,
     "metadata": {},
     "output_type": "execute_result"
    }
   ],
   "source": [
    "df.head()"
   ]
  },
  {
   "cell_type": "markdown",
   "id": "funded-turtle",
   "metadata": {},
   "source": [
    "## Data Clean Up\n",
    "**Change Data Types**\n",
    "As needed, adjust certain datatypes to better suit analysis\n",
    " - **NULLs**: Check and fill NA values as needed\n",
    " - **Date Time**: Any Date time field should be converted into their appropriate types\n",
    " - **Drop Unused Fields**: Certain fields will not add to the analysis of this data and can be droped.\n",
    " - **Referer**: Create a new column for the referring domain\n",
    " - **Categories**: Certain types of fields are better suited as categories vs. objects.  These are the fields with a limited number of entries such as Category, and Manufacturer.\n",
    " - **Target**: Add a new column for the target based on reviews.rating, where  1, 2, or 3 are labeled as 0 (negative) while 4 or greater are labeled as 1 (positive).\n",
    " - **Duplicates**: Check for duplicate values"
   ]
  },
  {
   "cell_type": "code",
   "execution_count": 13,
   "id": "acquired-questionnaire",
   "metadata": {},
   "outputs": [
    {
     "data": {
      "text/plain": [
       "True"
      ]
     },
     "execution_count": 13,
     "metadata": {},
     "output_type": "execute_result"
    }
   ],
   "source": [
    "# check for nan/null\n",
    "df.isnull().values.any()"
   ]
  },
  {
   "cell_type": "code",
   "execution_count": 14,
   "id": "promising-bracelet",
   "metadata": {},
   "outputs": [
    {
     "data": {
      "text/plain": [
       "id                        0\n",
       "dateAdded                 0\n",
       "dateUpdated               0\n",
       "name                      0\n",
       "asins                     0\n",
       "brand                     0\n",
       "categories                0\n",
       "primaryCategories         0\n",
       "keys                      0\n",
       "manufacturer              0\n",
       "manufacturerNumber        0\n",
       "reviews.date              0\n",
       "reviews.dateSeen          0\n",
       "reviews.numHelpful    12217\n",
       "reviews.rating            0\n",
       "reviews.sourceURLs        0\n",
       "reviews.text              0\n",
       "reviews.title             0\n",
       "reviews.username          0\n",
       "dtype: int64"
      ]
     },
     "execution_count": 14,
     "metadata": {},
     "output_type": "execute_result"
    }
   ],
   "source": [
    "# count of nulls\n",
    "df.isnull().sum()"
   ]
  },
  {
   "cell_type": "code",
   "execution_count": 15,
   "id": "genetic-gamma",
   "metadata": {},
   "outputs": [],
   "source": [
    "# fill the NA values with 0\n",
    "df.fillna(0, inplace=True)"
   ]
  },
  {
   "cell_type": "code",
   "execution_count": 16,
   "id": "outstanding-extent",
   "metadata": {},
   "outputs": [
    {
     "data": {
      "text/plain": [
       "False"
      ]
     },
     "execution_count": 16,
     "metadata": {},
     "output_type": "execute_result"
    }
   ],
   "source": [
    "# check for nan/null\n",
    "df.isnull().values.any()"
   ]
  },
  {
   "cell_type": "code",
   "execution_count": 17,
   "id": "freelance-hughes",
   "metadata": {},
   "outputs": [],
   "source": [
    "# Date Time Conversion\n",
    "df['dateAdded']= pd.to_datetime(df['dateAdded'])\n",
    "df['dateUpdated']= pd.to_datetime(df['dateUpdated'])\n",
    "df['reviews.date']= pd.to_datetime(df['reviews.date'])"
   ]
  },
  {
   "cell_type": "code",
   "execution_count": 18,
   "id": "chubby-melbourne",
   "metadata": {},
   "outputs": [],
   "source": [
    "def get_domain(x):\n",
    "    \n",
    "    m = re.findall('://([\\w\\-\\.]+)', x)\n",
    "    \n",
    "    try:\n",
    "        return m[0]\n",
    "    except:\n",
    "        return \"None\""
   ]
  },
  {
   "cell_type": "code",
   "execution_count": 19,
   "id": "improved-victorian",
   "metadata": {},
   "outputs": [],
   "source": [
    "df['domain'] = df['reviews.sourceURLs'].apply(lambda x: get_domain(x))"
   ]
  },
  {
   "cell_type": "code",
   "execution_count": 20,
   "id": "dutch-savannah",
   "metadata": {},
   "outputs": [],
   "source": [
    "# Change to Categorical types\n",
    "df[\"brand\"] = df[\"brand\"].astype('category')\n",
    "df[\"primaryCategories\"] = df[\"primaryCategories\"].astype('category')\n",
    "df[\"manufacturer\"] = df[\"manufacturer\"].astype('category')\n",
    "df[\"reviews.username\"] = df[\"reviews.username\"].astype('category')\n",
    "df[\"domain\"] = df[\"domain\"].astype('category')"
   ]
  },
  {
   "cell_type": "code",
   "execution_count": 21,
   "id": "favorite-sociology",
   "metadata": {},
   "outputs": [],
   "source": [
    "# Add a length of text column before the cleaning\n",
    "df['title_length'] = df.apply(lambda row: len(row['reviews.title']), axis = 1)\n",
    "df['text_length'] = df.apply(lambda row: len(row['reviews.text']), axis = 1)"
   ]
  },
  {
   "cell_type": "code",
   "execution_count": 22,
   "id": "polished-strap",
   "metadata": {},
   "outputs": [],
   "source": [
    "# add a column for positive or negative\n",
    "df['sent_label'] = df['reviews.rating'].apply(lambda c: 0 if c < 4 else 1)"
   ]
  },
  {
   "cell_type": "code",
   "execution_count": 23,
   "id": "annoying-mobile",
   "metadata": {},
   "outputs": [],
   "source": [
    "# Clean up some case based issues and other text issues.\n",
    "df['brand'] = df['brand'].str.replace('Amazonbasics','AmazonBasics', regex=True)\n",
    "df['manufacturer'] = df['manufacturer'].str.replace('Amazon.com','Amazon', regex=True)"
   ]
  },
  {
   "cell_type": "code",
   "execution_count": 24,
   "id": "threaded-ribbon",
   "metadata": {},
   "outputs": [],
   "source": [
    "df.drop(columns=['manufacturerNumber', 'keys', 'categories', 'reviews.dateSeen', 'asins'], inplace=True)"
   ]
  },
  {
   "cell_type": "markdown",
   "id": "retained-reliance",
   "metadata": {},
   "source": [
    "## EDA"
   ]
  },
  {
   "cell_type": "code",
   "execution_count": 25,
   "id": "public-restoration",
   "metadata": {},
   "outputs": [
    {
     "data": {
      "text/html": [
       "<div>\n",
       "<style scoped>\n",
       "    .dataframe tbody tr th:only-of-type {\n",
       "        vertical-align: middle;\n",
       "    }\n",
       "\n",
       "    .dataframe tbody tr th {\n",
       "        vertical-align: top;\n",
       "    }\n",
       "\n",
       "    .dataframe thead th {\n",
       "        text-align: right;\n",
       "    }\n",
       "</style>\n",
       "<table border=\"1\" class=\"dataframe\">\n",
       "  <thead>\n",
       "    <tr style=\"text-align: right;\">\n",
       "      <th></th>\n",
       "      <th>id</th>\n",
       "      <th>dateAdded</th>\n",
       "      <th>dateUpdated</th>\n",
       "      <th>name</th>\n",
       "      <th>brand</th>\n",
       "      <th>primaryCategories</th>\n",
       "      <th>manufacturer</th>\n",
       "      <th>reviews.date</th>\n",
       "      <th>reviews.numHelpful</th>\n",
       "      <th>reviews.rating</th>\n",
       "      <th>reviews.sourceURLs</th>\n",
       "      <th>reviews.text</th>\n",
       "      <th>reviews.title</th>\n",
       "      <th>reviews.username</th>\n",
       "      <th>domain</th>\n",
       "      <th>title_length</th>\n",
       "      <th>text_length</th>\n",
       "      <th>sent_label</th>\n",
       "    </tr>\n",
       "  </thead>\n",
       "  <tbody>\n",
       "    <tr>\n",
       "      <th>0</th>\n",
       "      <td>AVpgNzjwLJeJML43Kpxn</td>\n",
       "      <td>2015-10-30 08:59:32+00:00</td>\n",
       "      <td>2019-04-25 09:08:16+00:00</td>\n",
       "      <td>AmazonBasics AAA Performance Alkaline Batterie...</td>\n",
       "      <td>AmazonBasics</td>\n",
       "      <td>Health &amp; Beauty</td>\n",
       "      <td>AmazonBasics</td>\n",
       "      <td>2017-03-02 00:00:00+00:00</td>\n",
       "      <td>0.0</td>\n",
       "      <td>3</td>\n",
       "      <td>https://www.amazon.com/product-reviews/B00QWO9...</td>\n",
       "      <td>I order 3 of them and one of the item is bad q...</td>\n",
       "      <td>... 3 of them and one of the item is bad quali...</td>\n",
       "      <td>Byger yang</td>\n",
       "      <td>www.amazon.com</td>\n",
       "      <td>88</td>\n",
       "      <td>139</td>\n",
       "      <td>0</td>\n",
       "    </tr>\n",
       "    <tr>\n",
       "      <th>1</th>\n",
       "      <td>AVpgNzjwLJeJML43Kpxn</td>\n",
       "      <td>2015-10-30 08:59:32+00:00</td>\n",
       "      <td>2019-04-25 09:08:16+00:00</td>\n",
       "      <td>AmazonBasics AAA Performance Alkaline Batterie...</td>\n",
       "      <td>AmazonBasics</td>\n",
       "      <td>Health &amp; Beauty</td>\n",
       "      <td>AmazonBasics</td>\n",
       "      <td>2016-08-31 00:00:00+00:00</td>\n",
       "      <td>0.0</td>\n",
       "      <td>4</td>\n",
       "      <td>https://www.amazon.com/product-reviews/B00QWO9...</td>\n",
       "      <td>Bulk is always the less expensive way to go fo...</td>\n",
       "      <td>... always the less expensive way to go for pr...</td>\n",
       "      <td>ByMG</td>\n",
       "      <td>www.amazon.com</td>\n",
       "      <td>57</td>\n",
       "      <td>67</td>\n",
       "      <td>1</td>\n",
       "    </tr>\n",
       "    <tr>\n",
       "      <th>2</th>\n",
       "      <td>AVpgNzjwLJeJML43Kpxn</td>\n",
       "      <td>2015-10-30 08:59:32+00:00</td>\n",
       "      <td>2019-04-25 09:08:16+00:00</td>\n",
       "      <td>AmazonBasics AAA Performance Alkaline Batterie...</td>\n",
       "      <td>AmazonBasics</td>\n",
       "      <td>Health &amp; Beauty</td>\n",
       "      <td>AmazonBasics</td>\n",
       "      <td>2016-12-06 00:00:00+00:00</td>\n",
       "      <td>0.0</td>\n",
       "      <td>5</td>\n",
       "      <td>https://www.amazon.com/product-reviews/B00QWO9...</td>\n",
       "      <td>Well they are not Duracell but for the price i...</td>\n",
       "      <td>... are not Duracell but for the price i am ha...</td>\n",
       "      <td>BySharon Lambert</td>\n",
       "      <td>www.amazon.com</td>\n",
       "      <td>50</td>\n",
       "      <td>56</td>\n",
       "      <td>1</td>\n",
       "    </tr>\n",
       "    <tr>\n",
       "      <th>3</th>\n",
       "      <td>AVpgNzjwLJeJML43Kpxn</td>\n",
       "      <td>2015-10-30 08:59:32+00:00</td>\n",
       "      <td>2019-04-25 09:08:16+00:00</td>\n",
       "      <td>AmazonBasics AAA Performance Alkaline Batterie...</td>\n",
       "      <td>AmazonBasics</td>\n",
       "      <td>Health &amp; Beauty</td>\n",
       "      <td>AmazonBasics</td>\n",
       "      <td>2016-03-28 00:00:00+00:00</td>\n",
       "      <td>0.0</td>\n",
       "      <td>5</td>\n",
       "      <td>https://www.amazon.com/product-reviews/B00QWO9...</td>\n",
       "      <td>Seem to work as well as name brand batteries a...</td>\n",
       "      <td>... as well as name brand batteries at a much ...</td>\n",
       "      <td>Bymark sexson</td>\n",
       "      <td>www.amazon.com</td>\n",
       "      <td>52</td>\n",
       "      <td>67</td>\n",
       "      <td>1</td>\n",
       "    </tr>\n",
       "    <tr>\n",
       "      <th>4</th>\n",
       "      <td>AVpgNzjwLJeJML43Kpxn</td>\n",
       "      <td>2015-10-30 08:59:32+00:00</td>\n",
       "      <td>2019-04-25 09:08:16+00:00</td>\n",
       "      <td>AmazonBasics AAA Performance Alkaline Batterie...</td>\n",
       "      <td>AmazonBasics</td>\n",
       "      <td>Health &amp; Beauty</td>\n",
       "      <td>AmazonBasics</td>\n",
       "      <td>2017-04-22 00:00:00+00:00</td>\n",
       "      <td>0.0</td>\n",
       "      <td>5</td>\n",
       "      <td>https://www.amazon.com/product-reviews/B00QWO9...</td>\n",
       "      <td>These batteries are very long lasting the pric...</td>\n",
       "      <td>... batteries are very long lasting the price ...</td>\n",
       "      <td>Bylinda</td>\n",
       "      <td>www.amazon.com</td>\n",
       "      <td>55</td>\n",
       "      <td>57</td>\n",
       "      <td>1</td>\n",
       "    </tr>\n",
       "  </tbody>\n",
       "</table>\n",
       "</div>"
      ],
      "text/plain": [
       "                     id                 dateAdded               dateUpdated  \\\n",
       "0  AVpgNzjwLJeJML43Kpxn 2015-10-30 08:59:32+00:00 2019-04-25 09:08:16+00:00   \n",
       "1  AVpgNzjwLJeJML43Kpxn 2015-10-30 08:59:32+00:00 2019-04-25 09:08:16+00:00   \n",
       "2  AVpgNzjwLJeJML43Kpxn 2015-10-30 08:59:32+00:00 2019-04-25 09:08:16+00:00   \n",
       "3  AVpgNzjwLJeJML43Kpxn 2015-10-30 08:59:32+00:00 2019-04-25 09:08:16+00:00   \n",
       "4  AVpgNzjwLJeJML43Kpxn 2015-10-30 08:59:32+00:00 2019-04-25 09:08:16+00:00   \n",
       "\n",
       "                                                name         brand  \\\n",
       "0  AmazonBasics AAA Performance Alkaline Batterie...  AmazonBasics   \n",
       "1  AmazonBasics AAA Performance Alkaline Batterie...  AmazonBasics   \n",
       "2  AmazonBasics AAA Performance Alkaline Batterie...  AmazonBasics   \n",
       "3  AmazonBasics AAA Performance Alkaline Batterie...  AmazonBasics   \n",
       "4  AmazonBasics AAA Performance Alkaline Batterie...  AmazonBasics   \n",
       "\n",
       "  primaryCategories  manufacturer              reviews.date  \\\n",
       "0   Health & Beauty  AmazonBasics 2017-03-02 00:00:00+00:00   \n",
       "1   Health & Beauty  AmazonBasics 2016-08-31 00:00:00+00:00   \n",
       "2   Health & Beauty  AmazonBasics 2016-12-06 00:00:00+00:00   \n",
       "3   Health & Beauty  AmazonBasics 2016-03-28 00:00:00+00:00   \n",
       "4   Health & Beauty  AmazonBasics 2017-04-22 00:00:00+00:00   \n",
       "\n",
       "   reviews.numHelpful  reviews.rating  \\\n",
       "0                 0.0               3   \n",
       "1                 0.0               4   \n",
       "2                 0.0               5   \n",
       "3                 0.0               5   \n",
       "4                 0.0               5   \n",
       "\n",
       "                                  reviews.sourceURLs  \\\n",
       "0  https://www.amazon.com/product-reviews/B00QWO9...   \n",
       "1  https://www.amazon.com/product-reviews/B00QWO9...   \n",
       "2  https://www.amazon.com/product-reviews/B00QWO9...   \n",
       "3  https://www.amazon.com/product-reviews/B00QWO9...   \n",
       "4  https://www.amazon.com/product-reviews/B00QWO9...   \n",
       "\n",
       "                                        reviews.text  \\\n",
       "0  I order 3 of them and one of the item is bad q...   \n",
       "1  Bulk is always the less expensive way to go fo...   \n",
       "2  Well they are not Duracell but for the price i...   \n",
       "3  Seem to work as well as name brand batteries a...   \n",
       "4  These batteries are very long lasting the pric...   \n",
       "\n",
       "                                       reviews.title  reviews.username  \\\n",
       "0  ... 3 of them and one of the item is bad quali...        Byger yang   \n",
       "1  ... always the less expensive way to go for pr...              ByMG   \n",
       "2  ... are not Duracell but for the price i am ha...  BySharon Lambert   \n",
       "3  ... as well as name brand batteries at a much ...     Bymark sexson   \n",
       "4  ... batteries are very long lasting the price ...           Bylinda   \n",
       "\n",
       "           domain  title_length  text_length  sent_label  \n",
       "0  www.amazon.com            88          139           0  \n",
       "1  www.amazon.com            57           67           1  \n",
       "2  www.amazon.com            50           56           1  \n",
       "3  www.amazon.com            52           67           1  \n",
       "4  www.amazon.com            55           57           1  "
      ]
     },
     "execution_count": 25,
     "metadata": {},
     "output_type": "execute_result"
    }
   ],
   "source": [
    "df.head()"
   ]
  },
  {
   "cell_type": "code",
   "execution_count": 26,
   "id": "floral-headline",
   "metadata": {},
   "outputs": [
    {
     "name": "stdout",
     "output_type": "stream",
     "text": [
      "<class 'pandas.core.frame.DataFrame'>\n",
      "RangeIndex: 28332 entries, 0 to 28331\n",
      "Data columns (total 18 columns):\n",
      " #   Column              Non-Null Count  Dtype              \n",
      "---  ------              --------------  -----              \n",
      " 0   id                  28332 non-null  object             \n",
      " 1   dateAdded           28332 non-null  datetime64[ns, UTC]\n",
      " 2   dateUpdated         28332 non-null  datetime64[ns, UTC]\n",
      " 3   name                28332 non-null  object             \n",
      " 4   brand               28332 non-null  object             \n",
      " 5   primaryCategories   28332 non-null  category           \n",
      " 6   manufacturer        28332 non-null  object             \n",
      " 7   reviews.date        28332 non-null  datetime64[ns, UTC]\n",
      " 8   reviews.numHelpful  28332 non-null  float64            \n",
      " 9   reviews.rating      28332 non-null  int64              \n",
      " 10  reviews.sourceURLs  28332 non-null  object             \n",
      " 11  reviews.text        28332 non-null  object             \n",
      " 12  reviews.title       28332 non-null  object             \n",
      " 13  reviews.username    28332 non-null  category           \n",
      " 14  domain              28332 non-null  category           \n",
      " 15  title_length        28332 non-null  int64              \n",
      " 16  text_length         28332 non-null  int64              \n",
      " 17  sent_label          28332 non-null  int64              \n",
      "dtypes: category(3), datetime64[ns, UTC](3), float64(1), int64(4), object(7)\n",
      "memory usage: 4.0+ MB\n"
     ]
    }
   ],
   "source": [
    "df.info()"
   ]
  },
  {
   "cell_type": "code",
   "execution_count": 27,
   "id": "concerned-south",
   "metadata": {},
   "outputs": [
    {
     "data": {
      "text/html": [
       "<div>\n",
       "<style scoped>\n",
       "    .dataframe tbody tr th:only-of-type {\n",
       "        vertical-align: middle;\n",
       "    }\n",
       "\n",
       "    .dataframe tbody tr th {\n",
       "        vertical-align: top;\n",
       "    }\n",
       "\n",
       "    .dataframe thead th {\n",
       "        text-align: right;\n",
       "    }\n",
       "</style>\n",
       "<table border=\"1\" class=\"dataframe\">\n",
       "  <thead>\n",
       "    <tr style=\"text-align: right;\">\n",
       "      <th></th>\n",
       "      <th>reviews.numHelpful</th>\n",
       "      <th>reviews.rating</th>\n",
       "      <th>title_length</th>\n",
       "      <th>text_length</th>\n",
       "      <th>sent_label</th>\n",
       "    </tr>\n",
       "  </thead>\n",
       "  <tbody>\n",
       "    <tr>\n",
       "      <th>count</th>\n",
       "      <td>28332.000000</td>\n",
       "      <td>28332.000000</td>\n",
       "      <td>28332.000000</td>\n",
       "      <td>28332.000000</td>\n",
       "      <td>28332.000000</td>\n",
       "    </tr>\n",
       "    <tr>\n",
       "      <th>mean</th>\n",
       "      <td>0.301073</td>\n",
       "      <td>4.514048</td>\n",
       "      <td>19.748553</td>\n",
       "      <td>137.517118</td>\n",
       "      <td>0.901631</td>\n",
       "    </tr>\n",
       "    <tr>\n",
       "      <th>std</th>\n",
       "      <td>7.052629</td>\n",
       "      <td>0.934957</td>\n",
       "      <td>13.860225</td>\n",
       "      <td>199.877736</td>\n",
       "      <td>0.297819</td>\n",
       "    </tr>\n",
       "    <tr>\n",
       "      <th>min</th>\n",
       "      <td>0.000000</td>\n",
       "      <td>1.000000</td>\n",
       "      <td>1.000000</td>\n",
       "      <td>1.000000</td>\n",
       "      <td>0.000000</td>\n",
       "    </tr>\n",
       "    <tr>\n",
       "      <th>25%</th>\n",
       "      <td>0.000000</td>\n",
       "      <td>4.000000</td>\n",
       "      <td>10.000000</td>\n",
       "      <td>54.000000</td>\n",
       "      <td>1.000000</td>\n",
       "    </tr>\n",
       "    <tr>\n",
       "      <th>50%</th>\n",
       "      <td>0.000000</td>\n",
       "      <td>5.000000</td>\n",
       "      <td>15.000000</td>\n",
       "      <td>87.000000</td>\n",
       "      <td>1.000000</td>\n",
       "    </tr>\n",
       "    <tr>\n",
       "      <th>75%</th>\n",
       "      <td>0.000000</td>\n",
       "      <td>5.000000</td>\n",
       "      <td>25.000000</td>\n",
       "      <td>162.000000</td>\n",
       "      <td>1.000000</td>\n",
       "    </tr>\n",
       "    <tr>\n",
       "      <th>max</th>\n",
       "      <td>621.000000</td>\n",
       "      <td>5.000000</td>\n",
       "      <td>141.000000</td>\n",
       "      <td>8351.000000</td>\n",
       "      <td>1.000000</td>\n",
       "    </tr>\n",
       "  </tbody>\n",
       "</table>\n",
       "</div>"
      ],
      "text/plain": [
       "       reviews.numHelpful  reviews.rating  title_length   text_length  \\\n",
       "count        28332.000000    28332.000000  28332.000000  28332.000000   \n",
       "mean             0.301073        4.514048     19.748553    137.517118   \n",
       "std              7.052629        0.934957     13.860225    199.877736   \n",
       "min              0.000000        1.000000      1.000000      1.000000   \n",
       "25%              0.000000        4.000000     10.000000     54.000000   \n",
       "50%              0.000000        5.000000     15.000000     87.000000   \n",
       "75%              0.000000        5.000000     25.000000    162.000000   \n",
       "max            621.000000        5.000000    141.000000   8351.000000   \n",
       "\n",
       "         sent_label  \n",
       "count  28332.000000  \n",
       "mean       0.901631  \n",
       "std        0.297819  \n",
       "min        0.000000  \n",
       "25%        1.000000  \n",
       "50%        1.000000  \n",
       "75%        1.000000  \n",
       "max        1.000000  "
      ]
     },
     "execution_count": 27,
     "metadata": {},
     "output_type": "execute_result"
    }
   ],
   "source": [
    "df.describe()"
   ]
  },
  {
   "cell_type": "code",
   "execution_count": 28,
   "id": "dental-booth",
   "metadata": {},
   "outputs": [
    {
     "data": {
      "text/plain": [
       "(28332, 18)"
      ]
     },
     "execution_count": 28,
     "metadata": {},
     "output_type": "execute_result"
    }
   ],
   "source": [
    "df.shape"
   ]
  },
  {
   "cell_type": "code",
   "execution_count": 29,
   "id": "native-dispatch",
   "metadata": {},
   "outputs": [
    {
     "name": "stdout",
     "output_type": "stream",
     "text": [
      "<class 'pandas.core.frame.DataFrame'>\n",
      "RangeIndex: 28332 entries, 0 to 28331\n",
      "Data columns (total 3 columns):\n",
      " #   Column             Non-Null Count  Dtype   \n",
      "---  ------             --------------  -----   \n",
      " 0   primaryCategories  28332 non-null  category\n",
      " 1   reviews.username   28332 non-null  category\n",
      " 2   domain             28332 non-null  category\n",
      "dtypes: category(3)\n",
      "memory usage: 754.5 KB\n"
     ]
    }
   ],
   "source": [
    "# get categorical data\n",
    "cat_data = df.select_dtypes(include=['category'])\n",
    "cat_data.info()"
   ]
  },
  {
   "cell_type": "code",
   "execution_count": 30,
   "id": "cross-yeast",
   "metadata": {},
   "outputs": [
    {
     "name": "stdout",
     "output_type": "stream",
     "text": [
      "primaryCategories\n",
      "Electronics                    13995\n",
      "Health & Beauty                12071\n",
      "Toys & Games,Electronics        1676\n",
      "Office Supplies,Electronics      386\n",
      "Electronics,Media                185\n",
      "Office Supplies                    9\n",
      "Animals & Pet Supplies             6\n",
      "Electronics,Furniture              2\n",
      "Home & Garden                      2\n",
      "Name: primaryCategories, dtype: int64 \n",
      "\n",
      "reviews.username\n",
      "ByAmazon Customer     889\n",
      "Mike                   63\n",
      "ByKindle Customer      45\n",
      "Dave                   44\n",
      "Chris                  38\n",
      "                     ... \n",
      "ByRatqueen Reader       1\n",
      "ByRaul Villarreal       1\n",
      "ByRay J Carstensen      1\n",
      "ByRay Ray               1\n",
      "ztlbxx                  1\n",
      "Name: reviews.username, Length: 16269, dtype: int64 \n",
      "\n",
      "domain\n",
      "reviews.bestbuy.com    16043\n",
      "www.amazon.com         12144\n",
      "www.ebay.com              81\n",
      "redsky.target.com         43\n",
      "www.amazon.co.uk          12\n",
      "www.newegg.com             9\n",
      "Name: domain, dtype: int64 \n",
      "\n"
     ]
    }
   ],
   "source": [
    "# show counts values of each categorical variable\n",
    "for colname in cat_data.columns:\n",
    "    print (colname)\n",
    "    print (cat_data[colname].value_counts(), '\\n')"
   ]
  },
  {
   "cell_type": "code",
   "execution_count": 31,
   "id": "stylish-basement",
   "metadata": {},
   "outputs": [
    {
     "name": "stdout",
     "output_type": "stream",
     "text": [
      "Before = (28332, 18)\n",
      "After = (28332, 18)\n"
     ]
    }
   ],
   "source": [
    "print(\"Before =\", df.shape)\n",
    "# drop duplicates\n",
    "print(\"After =\", df.drop_duplicates().shape)"
   ]
  },
  {
   "cell_type": "code",
   "execution_count": 32,
   "id": "entitled-douglas",
   "metadata": {},
   "outputs": [
    {
     "data": {
      "text/plain": [
       "28332"
      ]
     },
     "execution_count": 32,
     "metadata": {},
     "output_type": "execute_result"
    }
   ],
   "source": [
    "# Check for duplicates\n",
    "len(df.drop_duplicates())"
   ]
  },
  {
   "cell_type": "markdown",
   "id": "favorite-dancing",
   "metadata": {},
   "source": [
    "**Note**: There are no duplicates"
   ]
  },
  {
   "cell_type": "code",
   "execution_count": 33,
   "id": "prerequisite-iceland",
   "metadata": {},
   "outputs": [
    {
     "data": {
      "image/png": "[encoded data removed]",
      "text/plain": [
       "<Figure size 576x360 with 1 Axes>"
      ]
     },
     "metadata": {
      "needs_background": "light"
     },
     "output_type": "display_data"
    }
   ],
   "source": [
    "plt.figure(figsize=(8,5))\n",
    "sns.countplot(x='reviews.rating', data=df, palette=\"tab20\", dodge=False);"
   ]
  },
  {
   "cell_type": "markdown",
   "id": "ongoing-saint",
   "metadata": {},
   "source": [
    "**Observations**:  The dataset is heavily imbalanced with most of the observations in the `4` and `5` star rating."
   ]
  },
  {
   "cell_type": "code",
   "execution_count": 44,
   "id": "resistant-ribbon",
   "metadata": {},
   "outputs": [
    {
     "data": {
      "text/html": [
       "<div>\n",
       "<style scoped>\n",
       "    .dataframe tbody tr th:only-of-type {\n",
       "        vertical-align: middle;\n",
       "    }\n",
       "\n",
       "    .dataframe tbody tr th {\n",
       "        vertical-align: top;\n",
       "    }\n",
       "\n",
       "    .dataframe thead th {\n",
       "        text-align: right;\n",
       "    }\n",
       "</style>\n",
       "<table border=\"1\" class=\"dataframe\">\n",
       "  <thead>\n",
       "    <tr style=\"text-align: right;\">\n",
       "      <th></th>\n",
       "      <th>reviews.numHelpful</th>\n",
       "      <th>reviews.rating</th>\n",
       "      <th>title_length</th>\n",
       "      <th>text_length</th>\n",
       "      <th>sent_label</th>\n",
       "    </tr>\n",
       "    <tr>\n",
       "      <th>id</th>\n",
       "      <th></th>\n",
       "      <th></th>\n",
       "      <th></th>\n",
       "      <th></th>\n",
       "      <th></th>\n",
       "    </tr>\n",
       "  </thead>\n",
       "  <tbody>\n",
       "    <tr>\n",
       "      <th>AV-ETMhgYSSHbkXwpNb9</th>\n",
       "      <td>3.000000</td>\n",
       "      <td>4.750000</td>\n",
       "      <td>19.500000</td>\n",
       "      <td>498.750000</td>\n",
       "      <td>1.000000</td>\n",
       "    </tr>\n",
       "    <tr>\n",
       "      <th>AV-EVZITKZqtpbFMSoqc</th>\n",
       "      <td>1.181818</td>\n",
       "      <td>4.590909</td>\n",
       "      <td>18.954545</td>\n",
       "      <td>247.954545</td>\n",
       "      <td>0.954545</td>\n",
       "    </tr>\n",
       "    <tr>\n",
       "      <th>AV2ElNnuvKc47QAVouhY</th>\n",
       "      <td>0.000000</td>\n",
       "      <td>4.000000</td>\n",
       "      <td>10.000000</td>\n",
       "      <td>31.000000</td>\n",
       "      <td>1.000000</td>\n",
       "    </tr>\n",
       "    <tr>\n",
       "      <th>AVpe5Q3sLJeJML43xt5X</th>\n",
       "      <td>0.000000</td>\n",
       "      <td>5.000000</td>\n",
       "      <td>9.000000</td>\n",
       "      <td>43.000000</td>\n",
       "      <td>1.000000</td>\n",
       "    </tr>\n",
       "    <tr>\n",
       "      <th>AVpe6nyKLJeJML43yOe2</th>\n",
       "      <td>0.000000</td>\n",
       "      <td>4.000000</td>\n",
       "      <td>94.000000</td>\n",
       "      <td>1167.000000</td>\n",
       "      <td>0.500000</td>\n",
       "    </tr>\n",
       "    <tr>\n",
       "      <th>...</th>\n",
       "      <td>...</td>\n",
       "      <td>...</td>\n",
       "      <td>...</td>\n",
       "      <td>...</td>\n",
       "      <td>...</td>\n",
       "    </tr>\n",
       "    <tr>\n",
       "      <th>AWMjXUGdHh53nbDRJ9LA</th>\n",
       "      <td>0.000000</td>\n",
       "      <td>4.333333</td>\n",
       "      <td>8.333333</td>\n",
       "      <td>131.666667</td>\n",
       "      <td>1.000000</td>\n",
       "    </tr>\n",
       "    <tr>\n",
       "      <th>AWP6zKOtIwln0LfXnf2p</th>\n",
       "      <td>0.857143</td>\n",
       "      <td>4.428571</td>\n",
       "      <td>17.857143</td>\n",
       "      <td>204.571429</td>\n",
       "      <td>0.857143</td>\n",
       "    </tr>\n",
       "    <tr>\n",
       "      <th>AWYAV-i9Iwln0LfXqrUq</th>\n",
       "      <td>0.000000</td>\n",
       "      <td>4.500000</td>\n",
       "      <td>27.000000</td>\n",
       "      <td>257.500000</td>\n",
       "      <td>1.000000</td>\n",
       "    </tr>\n",
       "    <tr>\n",
       "      <th>AWdDioCIHh53nbDRScLV</th>\n",
       "      <td>0.000000</td>\n",
       "      <td>5.000000</td>\n",
       "      <td>12.500000</td>\n",
       "      <td>84.500000</td>\n",
       "      <td>1.000000</td>\n",
       "    </tr>\n",
       "    <tr>\n",
       "      <th>AWdDlIX9Hh53nbDRSc-U</th>\n",
       "      <td>0.000000</td>\n",
       "      <td>5.000000</td>\n",
       "      <td>22.571429</td>\n",
       "      <td>319.142857</td>\n",
       "      <td>1.000000</td>\n",
       "    </tr>\n",
       "  </tbody>\n",
       "</table>\n",
       "<p>65 rows × 5 columns</p>\n",
       "</div>"
      ],
      "text/plain": [
       "                      reviews.numHelpful  reviews.rating  title_length  \\\n",
       "id                                                                       \n",
       "AV-ETMhgYSSHbkXwpNb9            3.000000        4.750000     19.500000   \n",
       "AV-EVZITKZqtpbFMSoqc            1.181818        4.590909     18.954545   \n",
       "AV2ElNnuvKc47QAVouhY            0.000000        4.000000     10.000000   \n",
       "AVpe5Q3sLJeJML43xt5X            0.000000        5.000000      9.000000   \n",
       "AVpe6nyKLJeJML43yOe2            0.000000        4.000000     94.000000   \n",
       "...                                  ...             ...           ...   \n",
       "AWMjXUGdHh53nbDRJ9LA            0.000000        4.333333      8.333333   \n",
       "AWP6zKOtIwln0LfXnf2p            0.857143        4.428571     17.857143   \n",
       "AWYAV-i9Iwln0LfXqrUq            0.000000        4.500000     27.000000   \n",
       "AWdDioCIHh53nbDRScLV            0.000000        5.000000     12.500000   \n",
       "AWdDlIX9Hh53nbDRSc-U            0.000000        5.000000     22.571429   \n",
       "\n",
       "                      text_length  sent_label  \n",
       "id                                             \n",
       "AV-ETMhgYSSHbkXwpNb9   498.750000    1.000000  \n",
       "AV-EVZITKZqtpbFMSoqc   247.954545    0.954545  \n",
       "AV2ElNnuvKc47QAVouhY    31.000000    1.000000  \n",
       "AVpe5Q3sLJeJML43xt5X    43.000000    1.000000  \n",
       "AVpe6nyKLJeJML43yOe2  1167.000000    0.500000  \n",
       "...                           ...         ...  \n",
       "AWMjXUGdHh53nbDRJ9LA   131.666667    1.000000  \n",
       "AWP6zKOtIwln0LfXnf2p   204.571429    0.857143  \n",
       "AWYAV-i9Iwln0LfXqrUq   257.500000    1.000000  \n",
       "AWdDioCIHh53nbDRScLV    84.500000    1.000000  \n",
       "AWdDlIX9Hh53nbDRSc-U   319.142857    1.000000  \n",
       "\n",
       "[65 rows x 5 columns]"
      ]
     },
     "execution_count": 44,
     "metadata": {},
     "output_type": "execute_result"
    }
   ],
   "source": [
    "df_prod = df.groupby('id').mean()\n",
    "df_prod"
   ]
  },
  {
   "cell_type": "markdown",
   "id": "purple-encyclopedia",
   "metadata": {},
   "source": [
    "**Observations**:  There are only 65 unique products in this dataset with 28k reviews.\n",
    "\n",
    "**Note**: Since we are not looking at individual product performance, but rather trying to predict a rating, we wont further break this down."
   ]
  },
  {
   "cell_type": "code",
   "execution_count": 34,
   "id": "emotional-report",
   "metadata": {},
   "outputs": [
    {
     "data": {
      "image/png": "[encoded data removed]",
      "text/plain": [
       "<Figure size 576x360 with 1 Axes>"
      ]
     },
     "metadata": {
      "needs_background": "light"
     },
     "output_type": "display_data"
    }
   ],
   "source": [
    "plt.figure(figsize=(8,5))\n",
    "sns.countplot(x='sent_label', data=df, palette=\"tab20\", dodge=False);"
   ]
  },
  {
   "cell_type": "markdown",
   "id": "cellular-cement",
   "metadata": {},
   "source": [
    "**Observations**:  The same view as above, but using the binary classification where `4-5` star ratings = `1` and the rest `0`."
   ]
  },
  {
   "cell_type": "code",
   "execution_count": null,
   "id": "unsigned-mortality",
   "metadata": {},
   "outputs": [],
   "source": [
    "plt.figure(figsize=(10,5))\n",
    "ax = sns.histplot(x='reviews.numHelpful', data=df, palette=\"tab20\");\n",
    "ax.set(yscale=\"log\");"
   ]
  },
  {
   "cell_type": "markdown",
   "id": "proper-carnival",
   "metadata": {},
   "source": [
    "**Observations**:  There is a field that counts the number of times another user found a review helpful.  The null values were set to zero and you can see that a majority of the observations are `0` (Note that this is in log-scale on the y-axis).  There are a number of reviews that have recieved a significant amount of votes.  The max is `~600`."
   ]
  },
  {
   "cell_type": "code",
   "execution_count": null,
   "id": "viral-florist",
   "metadata": {},
   "outputs": [],
   "source": [
    "plt.figure(figsize=(8,5))\n",
    "sns.countplot(x='brand', data=df, palette=\"tab20\", dodge=False);"
   ]
  },
  {
   "cell_type": "markdown",
   "id": "sunrise-antarctica",
   "metadata": {},
   "source": [
    "**Observations**:  The brand of all products in this dataset is Amazon."
   ]
  },
  {
   "cell_type": "code",
   "execution_count": null,
   "id": "basic-browser",
   "metadata": {},
   "outputs": [],
   "source": [
    "plt.figure(figsize=(8,5))\n",
    "sns.countplot(x='manufacturer', data=df, palette=\"tab20\", dodge=False);"
   ]
  },
  {
   "cell_type": "markdown",
   "id": "defined-diana",
   "metadata": {},
   "source": [
    "**Observations**:  There are only three Manufactures listed, all of them being Amazon with slightly different representations.  "
   ]
  },
  {
   "cell_type": "code",
   "execution_count": null,
   "id": "hearing-repeat",
   "metadata": {},
   "outputs": [],
   "source": [
    "plt.figure(figsize=(8,4))\n",
    "sns.countplot(y='primaryCategories', data=df, palette=\"tab20\", orient='v');"
   ]
  },
  {
   "cell_type": "markdown",
   "id": "overall-paragraph",
   "metadata": {},
   "source": [
    "**Observations**:  The top two categories for products are **Electronics** and **Health & Beauty**.  There are some in Office supplies and Toys and Games as well."
   ]
  },
  {
   "cell_type": "code",
   "execution_count": null,
   "id": "authorized-quarter",
   "metadata": {},
   "outputs": [],
   "source": [
    "plt.figure(figsize=(8,4))\n",
    "sns.countplot(y='domain', data=df, palette=\"tab20\", orient='v');"
   ]
  },
  {
   "cell_type": "markdown",
   "id": "injured-argument",
   "metadata": {},
   "source": [
    "**Observations**:  Very interesting.  The majority of the reviews for these Amazon products are coming from a BestBuy web site domain, the rest of them from Amazon.  There are a few other's but the majority fall into two categories."
   ]
  },
  {
   "cell_type": "code",
   "execution_count": null,
   "id": "macro-lodge",
   "metadata": {},
   "outputs": [],
   "source": [
    "plt.figure(figsize=(10, 5))\n",
    "sns.histplot(df, x='title_length', kde=True, palette=\"tab20c\", binwidth=5);"
   ]
  },
  {
   "cell_type": "code",
   "execution_count": null,
   "id": "hourly-gibson",
   "metadata": {},
   "outputs": [],
   "source": [
    "plt.figure(figsize=(10, 5))\n",
    "sns.histplot(df, x='text_length', kde=True, palette=\"tab20c\", binwidth=100);"
   ]
  },
  {
   "cell_type": "markdown",
   "id": "printable-regulation",
   "metadata": {},
   "source": [
    "**Observations**:  Most reviews are fairly short in nature. There are some extreme outliers up to `~8,000` characters."
   ]
  },
  {
   "cell_type": "markdown",
   "id": "casual-bradley",
   "metadata": {},
   "source": [
    "# Preprocessing\n",
    "\n",
    "For the initial part of the assesment we're going to use features from the NLTK library that require the text to be cleaned.  For this part we'll change to lowercase, remove stop words / punctuation and stemm the words.\n",
    "\n",
    "This would automatically be done later for the Machine Learning processes, but it's required now."
   ]
  },
  {
   "cell_type": "code",
   "execution_count": null,
   "id": "electronic-norman",
   "metadata": {},
   "outputs": [],
   "source": [
    "df['reviews.text'][0]"
   ]
  },
  {
   "cell_type": "code",
   "execution_count": null,
   "id": "further-accordance",
   "metadata": {},
   "outputs": [],
   "source": [
    "def process_string(text):\n",
    "    \n",
    "    final_string = \"\"\n",
    "    \n",
    "    text = text.lower()\n",
    "    \n",
    "    translator = str.maketrans('', '', string.punctuation)\n",
    "    text = text.translate(translator)\n",
    "    \n",
    "    text = text.split()\n",
    "    useless_words = nltk.corpus.stopwords.words(\"english\") + list(string.punctuation)\n",
    "    useless_words = useless_words + ['.', ',', '!', \"'\"]\n",
    "    text_filtered = [word for word in text if not word in useless_words]\n",
    "    \n",
    "    stemmer = PorterStemmer() \n",
    "    text_stemmed = [stemmer.stem(y) for y in text_filtered]\n",
    "        \n",
    "    for word in text_stemmed:\n",
    "        final_string += word + \" \"\n",
    "    \n",
    "    return final_string"
   ]
  },
  {
   "cell_type": "code",
   "execution_count": null,
   "id": "specialized-riverside",
   "metadata": {},
   "outputs": [],
   "source": [
    "df['reviews.text'] = df['reviews.text'].apply(lambda x: process_string(x))"
   ]
  },
  {
   "cell_type": "code",
   "execution_count": null,
   "id": "academic-logan",
   "metadata": {},
   "outputs": [],
   "source": [
    "df['reviews.text'][0]"
   ]
  },
  {
   "cell_type": "code",
   "execution_count": null,
   "id": "funny-australia",
   "metadata": {},
   "outputs": [],
   "source": [
    "# Tokenize the words\n",
    "df['reviews.text.tok'] = df['reviews.text'].apply(word_tokenize)"
   ]
  },
  {
   "cell_type": "markdown",
   "id": "unexpected-colombia",
   "metadata": {},
   "source": [
    "## Positive and Negative Terms\n",
    "\n",
    "There will be an additional analysis below, the first process will be using NLTKs Frequency Distribution (`FreqDist`) function on observations from both negative (`0`) and positive (`1`) reviews."
   ]
  },
  {
   "cell_type": "code",
   "execution_count": null,
   "id": "surrounded-veteran",
   "metadata": {},
   "outputs": [],
   "source": [
    "df_pos = df[df['sent_label'] == 1]\n",
    "df_neg = df[df['sent_label'] == 0]"
   ]
  },
  {
   "cell_type": "code",
   "execution_count": null,
   "id": "lined-manchester",
   "metadata": {},
   "outputs": [],
   "source": [
    "freq_stats_pos = []\n",
    "for list in df_pos['reviews.text.tok']:\n",
    "    freq_stats_pos = freq_stats_pos + list"
   ]
  },
  {
   "cell_type": "code",
   "execution_count": null,
   "id": "angry-nightlife",
   "metadata": {},
   "outputs": [],
   "source": [
    "fdist_pos = FreqDist(freq_stats_pos)\n",
    "fdist_pos.most_common(20)"
   ]
  },
  {
   "cell_type": "code",
   "execution_count": null,
   "id": "fatal-cycling",
   "metadata": {},
   "outputs": [],
   "source": [
    "plt.figure(figsize=(10, 5))\n",
    "fdist_pos.plot(20, cumulative=False)\n",
    "plt.show()"
   ]
  },
  {
   "cell_type": "markdown",
   "id": "advised-vegetable",
   "metadata": {},
   "source": [
    "**Observations**: Some of the top words are clearly positive words like `great`, `love`, `good`, and `like`.  Additionally there are product type words signaling that these might be strongly reccomended products/attributes.  `Battery`, `tablet`, `price`, and `kindle`."
   ]
  },
  {
   "cell_type": "code",
   "execution_count": null,
   "id": "resistant-density",
   "metadata": {},
   "outputs": [],
   "source": [
    "freq_stats_neg = []\n",
    "for list in df_neg['reviews.text.tok']:\n",
    "    freq_stats_neg = freq_stats_neg + list"
   ]
  },
  {
   "cell_type": "code",
   "execution_count": null,
   "id": "paperback-cisco",
   "metadata": {},
   "outputs": [],
   "source": [
    "fdist_neg = FreqDist(freq_stats_neg)\n",
    "fdist_neg.most_common(20)"
   ]
  },
  {
   "cell_type": "code",
   "execution_count": null,
   "id": "chicken-mercury",
   "metadata": {},
   "outputs": [],
   "source": [
    "plt.figure(figsize=(10, 5))\n",
    "fdist_neg.plot(20, cumulative=False)\n",
    "plt.show()"
   ]
  },
  {
   "cell_type": "markdown",
   "id": "unauthorized-artwork",
   "metadata": {},
   "source": [
    "**Observations**: The first word in the negative reviews is `battery` which also was a positive word.  That would be interesting to investigate a further.  It's also notable that battery occurs **over 2x the frequency** of the next word.  Other notable words are `dont`, `app`, and `price`.\n",
    "\n",
    "To check for positive and negative uses of the word `batteri` in context we can use the `concordance` feature of NLTK."
   ]
  },
  {
   "cell_type": "code",
   "execution_count": null,
   "id": "favorite-document",
   "metadata": {},
   "outputs": [],
   "source": [
    "pos_text = nltk.Text(freq_stats_pos)\n",
    "pos_text.concordance('batteri', lines=10)"
   ]
  },
  {
   "cell_type": "code",
   "execution_count": null,
   "id": "touched-grade",
   "metadata": {},
   "outputs": [],
   "source": [
    "neg_text = nltk.Text(freq_stats_neg)\n",
    "neg_text.concordance('batteri', lines=10)"
   ]
  },
  {
   "cell_type": "markdown",
   "id": "center-litigation",
   "metadata": {},
   "source": [
    "# Machine learning\n",
    "\n",
    "The process for completing the Machine Learning portion of the workflow will follow the below diagram from Scikit-Learn.\n",
    "\n",
    "The general process is the following:\n",
    "\n",
    "1. **Pipeline Creation**: Here the overall setup for preprocessing will be captured in a sklearn pipeline, helping chain everything together and making the process repeatable.\n",
    "1. **Cross Validation for Model Selection**: Here, four different models will be run across a `RepeatedStratifiedKFold` process where different \"folds\" or sections of the model are trained and tested against different algorithms. \n",
    "1. **Hyperparameter Optimization**:  Using a Grid Seach Cross Validation, testing each of the above four algorithms for which parameters give the best results.\n",
    "1. **Model Training and Valdation**: Each model with the new parameters is then run against the training and test data for final performance evaluation.\n",
    "\n",
    "\n",
    "**Note on Feature Selection:** Some cursory work on feature selection was done testing the different models, but an exhaustive slection was not performed for the sake of time / assignment.  Normally this would be done as well to determine the features that have the largest impact on model performance. \n",
    "\n",
    "**Workflow**  \n",
    "\n",
    "![workflow](https://raw.githubusercontent.com/broepke/DATA110/main/Week%2010/workflow.png)\n",
    "\n",
    "**References:**\n",
    "1. Image courtesy of Scikit-Learn: https://scikit-learn.org/stable/modules/cross_validation.html#cross-validation"
   ]
  },
  {
   "cell_type": "markdown",
   "id": "subject-shape",
   "metadata": {},
   "source": [
    "## Train Test Split"
   ]
  },
  {
   "cell_type": "code",
   "execution_count": null,
   "id": "grateful-audit",
   "metadata": {},
   "outputs": [],
   "source": [
    "X = df.drop(columns=['sent_label'])\n",
    "y = df['sent_label']\n",
    "\n",
    "# Make training and test sets \n",
    "X_train, X_test, y_train, y_test = train_test_split(X, y, test_size=0.33, random_state=53)"
   ]
  },
  {
   "cell_type": "code",
   "execution_count": null,
   "id": "banned-sixth",
   "metadata": {},
   "outputs": [],
   "source": [
    "print(y_train.shape)\n",
    "print(X_train.shape)"
   ]
  },
  {
   "cell_type": "markdown",
   "id": "permanent-manitoba",
   "metadata": {},
   "source": [
    "## Cross Validation"
   ]
  },
  {
   "cell_type": "markdown",
   "id": "spanish-henry",
   "metadata": {},
   "source": [
    "**Model Choices:**  \n",
    "\n",
    "We know from the EDA above that the dataset is highly imbalanced.  Rather than balancing with SMOTE or over/under sampling, we'll specifically explore classifiers that are suitable for imbalanced data.  Either with flags (`class_weight`) or by the nature of their algorithm.\n",
    "\n",
    " - **Support Vector Classifier**: A widely used agorithm that's simple and performs well on high dimentionality datasets.  It can be used as a regression or a classification algorithm[1].\n",
    " - **Compliment Naive Bayes**: CNB is an adaptation of the standard multinomial naive Bayes (MNB) algorithm that is particularly suited for imbalanced data sets[2].\n",
    " - **LogisticRegresion:** Contains many hyper parameters for working with different datasets.  In addition to the `class_weight` parameter, it contains the abiliyt to leverage different solvers for different needs[3].  \n",
    " - **Random Forest**: Supports imbalanced data via the `class_weight` parameter[4].\n",
    " \n",
    " \n",
    "1. https://towardsdatascience.com/support-vector-machine-introduction-to-machine-learning-algorithms-934a444fca47\n",
    "2. https://scikit-learn.org/stable/modules/naive_bayes.html#complement-naive-bayes\n",
    "3. https://scikit-learn.org/stable/modules/generated/sklearn.linear_model.LogisticRegression.html?highlight=logistic%20regression#sklearn.linear_model.LogisticRegression\n",
    "4. https://machinelearningmastery.com/bagging-and-random-forest-for-imbalanced-classification/"
   ]
  },
  {
   "cell_type": "markdown",
   "id": "increasing-seattle",
   "metadata": {},
   "source": [
    "## Create Pipelines\n",
    "\n",
    "The following columns are including in the model:\n",
    "\n",
    " - Primary category\n",
    " - Brand\n",
    " - Domain (where the review was placed)\n",
    " - Number of times the review was found helpful\n",
    " - Title\n",
    " - Text\n",
    " \n",
    "**Note**: The ID of the product was left out because it would have a significant effect on the outcome of the prediction.  With only 65 products, it would provide a significant indicator in the model to the end rating."
   ]
  },
  {
   "cell_type": "code",
   "execution_count": null,
   "id": "diverse-wisdom",
   "metadata": {},
   "outputs": [],
   "source": [
    "def col_trans():\n",
    "    column_trans = ColumnTransformer(\n",
    "            [('primaryCategories', OneHotEncoder(dtype='int'),['primaryCategories']),\n",
    "             ('brand', OneHotEncoder(dtype='int'),['brand']),\n",
    "             ('domain', OneHotEncoder(dtype='int'),['domain']),\n",
    "             ('numHelpful', MinMaxScaler(), ['reviews.numHelpful']),\n",
    "             ('title', TfidfVectorizer(stop_words='english'), 'reviews.title'),\n",
    "             ('text', TfidfVectorizer(stop_words='english'), 'reviews.text')],\n",
    "            remainder='drop') \n",
    "    \n",
    "    return column_trans"
   ]
  },
  {
   "cell_type": "code",
   "execution_count": null,
   "id": "colored-initial",
   "metadata": {},
   "outputs": [],
   "source": [
    "def create_pipe(clf):\n",
    "    '''Create a pipeline for a given classifier.  The classifier needs to be an instance\n",
    "    of the classifier with all parmeters needed specified.'''\n",
    "    \n",
    "    # Each pipeline uses the same column transformer.  \n",
    "    column_trans = col_trans()\n",
    "    \n",
    "    pipeline = Pipeline([('prep',column_trans), ('clf', clf)])\n",
    "     \n",
    "    return pipeline"
   ]
  },
  {
   "cell_type": "markdown",
   "id": "earlier-chemistry",
   "metadata": {},
   "source": [
    "## Cross Validation for Model Selection\n",
    "\n",
    "**Scoring Parameter**: Since there is an imbalance but we don't have a class that is more important than one or the other, the `F1` score will be used to evaluate our models.  Tht `f1` score provides a balance between precision and recall for our classifiers."
   ]
  },
  {
   "cell_type": "code",
   "execution_count": null,
   "id": "solid-youth",
   "metadata": {},
   "outputs": [],
   "source": [
    "models = {'SVC' : SVC(class_weight='balanced', random_state=42),\n",
    "         'ComplementNB' : ComplementNB(),\n",
    "         'LogReg' : LogisticRegression(random_state=42, class_weight='balanced', max_iter=500),\n",
    "         'RandomForest' : RandomForestClassifier(class_weight='balanced', random_state=42)}\n",
    "\n",
    "for name, model, in models.items():\n",
    "    clf = model\n",
    "    pipeline = create_pipe(clf)\n",
    "    cv = RepeatedStratifiedKFold(n_splits=10, n_repeats=3, random_state=1)\n",
    "    scores = cross_val_score(pipeline, X, y, scoring='f1', cv=cv, n_jobs=-1)\n",
    "    print(name, ': Mean f1: %.3f and Standard Deviation: (%.3f)' % (np.mean(scores), np.std(scores)))"
   ]
  },
  {
   "cell_type": "markdown",
   "id": "happy-graham",
   "metadata": {},
   "source": [
    "The best performing model of these for is the `RandomForestClassifier`.  After all tuning and train-test validation we'll see if it still is the best performing.  However, there isn't a large difference between them, so it's worth exploring the optimization of each."
   ]
  },
  {
   "cell_type": "markdown",
   "id": "suspended-kazakhstan",
   "metadata": {},
   "source": [
    "## Hyperparameter Optimization\n",
    "\n",
    "The `GridSearchCV` function from Sci-Kit learn helps iterate through various parameters until the best score based on the `score` parameter, in our case `f1` for balance between `precision` and `recall`.\n",
    "\n",
    "**Note:** Because of the long computation times for some of the parameter searches, certain variables have been reduced to smaller windows after iterating a few times.  Wider ranges were considered when running these iteratively."
   ]
  },
  {
   "cell_type": "code",
   "execution_count": null,
   "id": "adaptive-miami",
   "metadata": {},
   "outputs": [],
   "source": [
    "def get_params(parameters, X, y, model):\n",
    "    ''' implements a the GridSearch Cross validation for a given model and set of parameters'''\n",
    "    \n",
    "    clf = GridSearchCV(model, parameters, scoring='f1', n_jobs=-1)\n",
    "    clf.fit(X, y)\n",
    "\n",
    "    # extract the best alpha score\n",
    "    return clf.best_params_"
   ]
  },
  {
   "cell_type": "code",
   "execution_count": null,
   "id": "confident-trading",
   "metadata": {},
   "outputs": [],
   "source": [
    "parameters = {'alpha': np.linspace(1,5,50)}\n",
    "column_trans = col_trans()\n",
    "\n",
    "clf = ComplementNB()\n",
    "X_p = column_trans.fit_transform(X_train)\n",
    "get_params(parameters, X_p, y_train, clf)"
   ]
  },
  {
   "cell_type": "code",
   "execution_count": null,
   "id": "pursuant-victor",
   "metadata": {},
   "outputs": [],
   "source": [
    "parameters = [{'C': [4250, 4000], \n",
    "               'gamma': [.3, .25, .2], \n",
    "               'class_weight' : ['balanced']}]\n",
    "column_trans = col_trans()\n",
    "\n",
    "clf = SVC()\n",
    "X_p = column_trans.fit_transform(X_train)\n",
    "\n",
    "get_params(parameters, X_p, y_train, clf)"
   ]
  },
  {
   "cell_type": "code",
   "execution_count": null,
   "id": "actual-lingerie",
   "metadata": {},
   "outputs": [],
   "source": [
    "parameters = [{'class_weight' : ['balanced'],\n",
    "               'max_iter' : [1000],\n",
    "               'solver' : ['newton-cg', 'lbfgs', 'sag'],\n",
    "               'C' : np.linspace(50,55,5)}]\n",
    "column_trans = col_trans()\n",
    "\n",
    "clf = LogisticRegression()\n",
    "X_p = column_trans.fit_transform(X_train)\n",
    "\n",
    "get_params(parameters, X_p, y_train, clf)"
   ]
  },
  {
   "cell_type": "code",
   "execution_count": null,
   "id": "reflected-steering",
   "metadata": {},
   "outputs": [],
   "source": [
    "parameters = [{'class_weight' : ['balanced'],\n",
    "              'criterion' : [\"gini\", \"entropy\"],\n",
    "              'n_estimators' : [50, 100, 150]}]\n",
    "column_trans = col_trans()\n",
    "clf = RandomForestClassifier()\n",
    "X_p = column_trans.fit_transform(X_train)\n",
    "\n",
    "get_params(parameters, X_p, y_train, clf)"
   ]
  },
  {
   "cell_type": "markdown",
   "id": "laughing-caribbean",
   "metadata": {},
   "source": [
    "**Note**:  Each of the above parameters will be utilized later to get the best model performance."
   ]
  },
  {
   "cell_type": "markdown",
   "id": "apparent-zambia",
   "metadata": {},
   "source": [
    "## Model Validation"
   ]
  },
  {
   "cell_type": "code",
   "execution_count": null,
   "id": "eastern-failing",
   "metadata": {},
   "outputs": [],
   "source": [
    "def plot_confusion_matrix(cm, classes,\n",
    "                          normalize=False,\n",
    "                          title='Confusion matrix',\n",
    "                          cmap=plt.cm.Blues):\n",
    "    \"\"\"\n",
    "    See full source and example: \n",
    "    http://scikit-learn.org/stable/auto_examples/model_selection/plot_confusion_matrix.html\n",
    "    \n",
    "    This function prints and plots the confusion matrix.\n",
    "    Normalization can be applied by setting `normalize=True`.\n",
    "    \"\"\"\n",
    "    plt.imshow(cm, interpolation='nearest', cmap=cmap)\n",
    "    plt.title(title)\n",
    "    plt.colorbar()\n",
    "    tick_marks = np.arange(len(classes))\n",
    "    plt.xticks(tick_marks, classes, rotation=45)\n",
    "    plt.yticks(tick_marks, classes)\n",
    "\n",
    "    if normalize:\n",
    "        cm = cm.astype('float') / cm.sum(axis=1)[:, np.newaxis]\n",
    "        print(\"Normalized confusion matrix\")\n",
    "    else:\n",
    "        print('Confusion matrix, without normalization')\n",
    "\n",
    "    thresh = cm.max() / 2.\n",
    "    for i, j in itertools.product(range(cm.shape[0]), range(cm.shape[1])):\n",
    "        plt.text(j, i, cm[i, j],\n",
    "                 horizontalalignment=\"center\",\n",
    "                 color=\"white\" if cm[i, j] > thresh else \"black\")\n",
    "\n",
    "    plt.tight_layout()\n",
    "    plt.ylabel('True label')\n",
    "    plt.xlabel('predicted label')"
   ]
  },
  {
   "cell_type": "code",
   "execution_count": null,
   "id": "useful-bulletin",
   "metadata": {},
   "outputs": [],
   "source": [
    "def fit_and_print(pipeline):\n",
    "    ''' take a supplied pipeline and run it against the train-test spit \n",
    "    and product scoring results.'''\n",
    "    \n",
    "    pipeline.fit(X_train, y_train)\n",
    "    y_pred = pipeline.predict(X_test)\n",
    "    score = metrics.f1_score(y_test, y_pred)\n",
    "\n",
    "    print(metrics.classification_report(y_test, y_pred, digits=3))\n",
    "\n",
    "    cm = metrics.confusion_matrix(y_test, y_pred, labels=[0,1])\n",
    "    plot_confusion_matrix(cm, classes=[0,1])"
   ]
  },
  {
   "cell_type": "code",
   "execution_count": null,
   "id": "labeled-coordinate",
   "metadata": {},
   "outputs": [],
   "source": [
    "# {'C': 4250, 'class_weight': 'balanced', 'gamma': 0.25}\n",
    "clf = SVC(C=4250, gamma=0.25, class_weight='balanced', random_state=42)\n",
    "pipeline = create_pipe(clf)\n",
    "fit_and_print(pipeline)"
   ]
  },
  {
   "cell_type": "code",
   "execution_count": null,
   "id": "developmental-college",
   "metadata": {},
   "outputs": [],
   "source": [
    "clf = ComplementNB(alpha=1.9)\n",
    "pipeline = create_pipe(clf)\n",
    "fit_and_print(pipeline)"
   ]
  },
  {
   "cell_type": "code",
   "execution_count": null,
   "id": "material-kenya",
   "metadata": {},
   "outputs": [],
   "source": [
    "# {'C': 51.25, 'class_weight': 'balanced', 'max_iter': 1000, 'solver': 'sag'}\n",
    "clf = LogisticRegression(C=51.25, solver='sag', random_state=42, class_weight='balanced', max_iter=1000)\n",
    "pipeline = create_pipe(clf)\n",
    "fit_and_print(pipeline)"
   ]
  },
  {
   "cell_type": "code",
   "execution_count": null,
   "id": "bearing-browser",
   "metadata": {},
   "outputs": [],
   "source": [
    "# {'class_weight': 'balanced', 'criterion': 'entropy', 'n_estimators': 100}\n",
    "clf = RandomForestClassifier(criterion='entropy', class_weight='balanced', n_estimators=100, random_state=42)\n",
    "pipeline = create_pipe(clf)\n",
    "fit_and_print(pipeline)"
   ]
  },
  {
   "cell_type": "markdown",
   "id": "stunning-shell",
   "metadata": {},
   "source": [
    "**Results:**  \n",
    "\n",
    "Using `f1` as our proxy for the best model, the best `macro avg` score (unweighted average) for the four models was `0.878` for the Support Vector Classifier algorightm. After **hyperparameter tuning**, it performed slightly better than the `RandomForestClassifier` that was the original best model. "
   ]
  },
  {
   "cell_type": "markdown",
   "id": "aggressive-steam",
   "metadata": {},
   "source": [
    "# Sentiment Analysis"
   ]
  },
  {
   "cell_type": "code",
   "execution_count": null,
   "id": "biological-agency",
   "metadata": {},
   "outputs": [],
   "source": [
    "sid = SentimentIntensityAnalyzer()"
   ]
  },
  {
   "cell_type": "code",
   "execution_count": null,
   "id": "religious-supervisor",
   "metadata": {},
   "outputs": [],
   "source": [
    "# Apply the Polarity Scoring from Vader\n",
    "df['vader'] = df['reviews.text'].apply(lambda review: sid.polarity_scores(review))\n",
    "\n",
    "# Create a few extra columns to aid in the analysis\n",
    "df['compound'] = df['vader'].apply(lambda score_dict: score_dict['compound'])\n",
    "df['vader_score'] = df['compound'].apply(lambda c: 'pos' if c > 0 else ('neu' if c == 0 else 'neg'))\n",
    "df['vader_label'] = df['compound'].apply(lambda c: 1 if c >= 0 else 0)"
   ]
  },
  {
   "cell_type": "code",
   "execution_count": null,
   "id": "harmful-nudist",
   "metadata": {},
   "outputs": [],
   "source": [
    "df[df.columns[-6:]].head()"
   ]
  },
  {
   "cell_type": "code",
   "execution_count": null,
   "id": "fifth-louisville",
   "metadata": {},
   "outputs": [],
   "source": [
    "plt.figure(figsize=(10, 5))\n",
    "sns.histplot(df, x='compound', palette=\"tab20c\");"
   ]
  },
  {
   "cell_type": "code",
   "execution_count": null,
   "id": "sunset-bidder",
   "metadata": {},
   "outputs": [],
   "source": [
    "plt.figure(figsize=(10, 5))\n",
    "sns.countplot(data=df, y='vader_score', palette=\"tab20c\");"
   ]
  },
  {
   "cell_type": "markdown",
   "id": "supported-weapon",
   "metadata": {},
   "source": [
    "## Validating Sentiment Predictions"
   ]
  },
  {
   "cell_type": "code",
   "execution_count": null,
   "id": "previous-tragedy",
   "metadata": {},
   "outputs": [],
   "source": [
    "print(metrics.classification_report(df['sent_label'], df['vader_label'], digits=3))\n",
    "print('')\n",
    "\n",
    "cm = metrics.confusion_matrix(df['sent_label'], df['vader_label'], labels=[0,1])\n",
    "plot_confusion_matrix(cm, classes=[0,1])"
   ]
  },
  {
   "cell_type": "code",
   "execution_count": null,
   "id": "nearby-average",
   "metadata": {},
   "outputs": [],
   "source": [
    "df[(df['sent_label'] == 0) & (df['vader_label'] == 1)][df.columns[-6:]].head()"
   ]
  },
  {
   "cell_type": "markdown",
   "id": "alpha-kazakhstan",
   "metadata": {},
   "source": [
    "**Observations**:  Checking to see if some of the scores that were misclassified were borderline scores.  Looking at the scores they range from scores close to `0` to scores that are very close to `1`, meaning the user used very positive language but applied a lower star rating."
   ]
  },
  {
   "cell_type": "markdown",
   "id": "standard-pricing",
   "metadata": {},
   "source": [
    "# Word Clouds"
   ]
  },
  {
   "cell_type": "code",
   "execution_count": null,
   "id": "confused-characteristic",
   "metadata": {},
   "outputs": [],
   "source": [
    "df_pos = df[df['vader_score'] == 'pos']\n",
    "df_neg = df[df['vader_score'] == 'neg']"
   ]
  },
  {
   "cell_type": "code",
   "execution_count": null,
   "id": "suited-nitrogen",
   "metadata": {},
   "outputs": [],
   "source": [
    "def gen_word_cloud(text, from_col, cmap='viridis'):\n",
    "    \n",
    "    # lower max_font_size, change the maximum number of word and lighten the background:\n",
    "    wordcloud = WordCloud(max_font_size=50, max_words=100, background_color=\"white\",\\\n",
    "                          scale=10, colormap=cmap).generate(text)\n",
    "    plt.figure()\n",
    "    plt.imshow(wordcloud, interpolation=\"bilinear\")\n",
    "    plt.axis(\"off\")\n",
    "    plt.show()\n",
    "        \n",
    "    return"
   ]
  },
  {
   "cell_type": "code",
   "execution_count": null,
   "id": "popular-astronomy",
   "metadata": {},
   "outputs": [],
   "source": [
    "title = \" \".join(word for word in df_pos['reviews.text'])\n",
    "\n",
    "# Generate a word cloud image\n",
    "wordcloud_pos = WordCloud(background_color=\"white\", \n",
    "                            mode=\"RGBA\", max_words=100, colormap='Greens').generate(title)\n",
    "\n",
    "# create coloring from image\n",
    "plt.figure(figsize=[15,15])\n",
    "plt.imshow(wordcloud_pos)\n",
    "plt.axis(\"off\")\n",
    "\n",
    "plt.show()"
   ]
  },
  {
   "cell_type": "code",
   "execution_count": null,
   "id": "integrated-token",
   "metadata": {},
   "outputs": [],
   "source": [
    "title = \" \".join(word for word in df_neg['reviews.text'])\n",
    "\n",
    "# Generate a word cloud image\n",
    "wordcloud_neg = WordCloud(background_color=\"white\", \n",
    "                            mode=\"RGBA\", max_words=100, colormap='Oranges').generate(title)\n",
    "\n",
    "# create coloring from image\n",
    "plt.figure(figsize=[15,15])\n",
    "plt.imshow(wordcloud_neg)\n",
    "plt.axis(\"off\")\n",
    "\n",
    "plt.show()"
   ]
  },
  {
   "cell_type": "markdown",
   "id": "polished-jackson",
   "metadata": {},
   "source": [
    "# Summary and Conclusion\n",
    "\n",
    " - **Performance**: The winner overall was the Machine Learning based model using the Support Vector Classifier (`SVC`).  Given we were able to use multiple features and use a supervised model, vs. the unsupervised sentiment approach, its performnace was superior.\n",
    " - **Machine Learning**: By utilitizing Hyperparameter tuning and including multiple additional features, most of the classifiers performed very well in the test.  An additional test could be done to balance the dataset and try to see if the training would improve on the `0` class.  But the algorithms used all handled imbalanced data well.\n",
    " - **Sentiment**: The method here as mentioned is totally unsupervised.  It only used the words from the text to generate a positive or negative number. This concept while not as accurate, is pretty amazing considering.  The `f1` score for the positive class (`1`) was `0.940` where the negative class (`0`) did not perform as well at `0.354`."
   ]
  }
 ],
 "metadata": {
  "kernelspec": {
   "display_name": "Python 3",
   "language": "python",
   "name": "python3"
  },
  "language_info": {
   "codemirror_mode": {
    "name": "ipython",
    "version": 3
   },
   "file_extension": ".py",
   "mimetype": "text/x-python",
   "name": "python",
   "nbconvert_exporter": "python",
   "pygments_lexer": "ipython3",
   "version": "3.8.8"
  }
 },
 "nbformat": 4,
 "nbformat_minor": 5
}
