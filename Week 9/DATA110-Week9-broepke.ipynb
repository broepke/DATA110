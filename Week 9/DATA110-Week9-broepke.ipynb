{
 "cells": [
  {
   "cell_type": "markdown",
   "id": "fancy-civilian",
   "metadata": {},
   "source": [
    "# Week 9 Assignment: NLP Text classification\n",
    "\n",
    "Create a NLP text classifier to predict whether a text message is spam. \n",
    "\n",
    "1) Load the dataset which includes 2 fields: (text and label) where label  indicates whether the message is “spam” or \"not spam\"  (eg: ham).\n",
    "\n",
    "2) Perform basic EDA\n",
    "\n",
    "3) Perform preprocessing of text (eg: lower-case, tokenization, removal of stop words, stemming/lemmatization, etc. as needed)\n",
    "\n",
    "4) Vectorize Text (eg: BoW, TF-IDF, etc)\n",
    "\n",
    "5) Create a model, using at least 2 different ML algorithms\n",
    "    \n",
    " * Split the data into training and testing set\n",
    " * Train the model on training, then predict and assess performance on test\n",
    " * predict custom messages (eg: your own custom message, at least 3) to evaluate how well your model categorized it"
   ]
  },
  {
   "cell_type": "code",
   "execution_count": 1,
   "id": "tracked-tokyo",
   "metadata": {},
   "outputs": [],
   "source": [
    "import numpy as np\n",
    "import pandas as pd\n",
    "import string\n",
    "import re\n",
    "import itertools\n",
    "import random\n",
    "from collections import Counter\n",
    "import unidecode\n",
    "\n",
    "import nltk\n",
    "from nltk.tokenize import word_tokenize\n",
    "from nltk.probability import FreqDist\n",
    "from nltk.corpus import stopwords \n",
    "from nltk.stem import PorterStemmer\n",
    "from nltk import NaiveBayesClassifier\n",
    "\n",
    "from sklearn.model_selection import train_test_split\n",
    "from sklearn.feature_extraction.text import CountVectorizer, TfidfVectorizer\n",
    "from sklearn.naive_bayes import MultinomialNB\n",
    "from sklearn import metrics \n",
    "from sklearn.utils import resample\n",
    "from sklearn.pipeline import Pipeline\n",
    "from sklearn.model_selection import GridSearchCV\n",
    "from sklearn.cluster import KMeans\n",
    "from sklearn.metrics import adjusted_rand_score\n",
    "\n",
    "import seaborn as sns\n",
    "import matplotlib.pyplot as plt"
   ]
  },
  {
   "cell_type": "code",
   "execution_count": 2,
   "id": "auburn-input",
   "metadata": {},
   "outputs": [],
   "source": [
    "df = pd.read_csv(\"spam.csv\")"
   ]
  },
  {
   "cell_type": "code",
   "execution_count": 3,
   "id": "ignored-xerox",
   "metadata": {},
   "outputs": [
    {
     "data": {
      "text/html": [
       "<div>\n",
       "<style scoped>\n",
       "    .dataframe tbody tr th:only-of-type {\n",
       "        vertical-align: middle;\n",
       "    }\n",
       "\n",
       "    .dataframe tbody tr th {\n",
       "        vertical-align: top;\n",
       "    }\n",
       "\n",
       "    .dataframe thead th {\n",
       "        text-align: right;\n",
       "    }\n",
       "</style>\n",
       "<table border=\"1\" class=\"dataframe\">\n",
       "  <thead>\n",
       "    <tr style=\"text-align: right;\">\n",
       "      <th></th>\n",
       "      <th>label</th>\n",
       "      <th>text</th>\n",
       "    </tr>\n",
       "  </thead>\n",
       "  <tbody>\n",
       "    <tr>\n",
       "      <th>0</th>\n",
       "      <td>ham</td>\n",
       "      <td>Go until jurong point, crazy.. Available only ...</td>\n",
       "    </tr>\n",
       "    <tr>\n",
       "      <th>1</th>\n",
       "      <td>ham</td>\n",
       "      <td>Ok lar... Joking wif u oni...</td>\n",
       "    </tr>\n",
       "    <tr>\n",
       "      <th>2</th>\n",
       "      <td>spam</td>\n",
       "      <td>Free entry in 2 a wkly comp to win FA Cup fina...</td>\n",
       "    </tr>\n",
       "    <tr>\n",
       "      <th>3</th>\n",
       "      <td>ham</td>\n",
       "      <td>U dun say so early hor... U c already then say...</td>\n",
       "    </tr>\n",
       "    <tr>\n",
       "      <th>4</th>\n",
       "      <td>ham</td>\n",
       "      <td>Nah I don't think he goes to usf, he lives aro...</td>\n",
       "    </tr>\n",
       "  </tbody>\n",
       "</table>\n",
       "</div>"
      ],
      "text/plain": [
       "  label                                               text\n",
       "0   ham  Go until jurong point, crazy.. Available only ...\n",
       "1   ham                      Ok lar... Joking wif u oni...\n",
       "2  spam  Free entry in 2 a wkly comp to win FA Cup fina...\n",
       "3   ham  U dun say so early hor... U c already then say...\n",
       "4   ham  Nah I don't think he goes to usf, he lives aro..."
      ]
     },
     "execution_count": 3,
     "metadata": {},
     "output_type": "execute_result"
    }
   ],
   "source": [
    "df.head()"
   ]
  },
  {
   "cell_type": "code",
   "execution_count": 4,
   "id": "seventh-demonstration",
   "metadata": {},
   "outputs": [],
   "source": [
    "# Make a copy without any transformations for us with Sklearn\n",
    "df_clean = df.copy()"
   ]
  },
  {
   "cell_type": "code",
   "execution_count": 5,
   "id": "overall-capitol",
   "metadata": {},
   "outputs": [],
   "source": [
    "# Add a length of text column before the cleaning\n",
    "df['length'] = df.apply(lambda row: len(row.text), axis = 1)"
   ]
  },
  {
   "cell_type": "markdown",
   "id": "seventh-improvement",
   "metadata": {},
   "source": [
    "## Data Cleaning & EDA\n",
    "\n",
    "Perform the following transfermations\n",
    "\n",
    "1. Replace the output variables of `ham` and `spam` with `1` and `0`\n",
    "1. Covert all text to lowercase\n",
    "1. Tokenize the words\n",
    "1. Remove stop words & puncutation\n",
    "1. Remove accented characters\n",
    "1. Stemm the words\n",
    "1. Add a column for the count of words after text is tokenized"
   ]
  },
  {
   "cell_type": "code",
   "execution_count": 6,
   "id": "honey-disposition",
   "metadata": {},
   "outputs": [],
   "source": [
    "# Replace the text based labels with 1 and 0\n",
    "df['label'] = df.label.map({'ham': 0, 'spam': 1})\n",
    "# Convert all to lowercase\n",
    "df['text'] = df.text.map(lambda x: x.lower())\n",
    "# Convert all to lowercase\n",
    "df['text'] = df.text.map(lambda x: unidecode.unidecode(x))\n",
    "# Tokenize the words\n",
    "df['text'] = df['text'].apply(word_tokenize)\n",
    "# Remove stopword\n",
    "useless_words = stopwords.words(\"english\") + list(string.punctuation)\n",
    "useless_words = useless_words + [\"...\", \"..\", \"''\", \"'s\"]\n",
    "df['text'] = df['text'].apply(lambda x: [y for y in x if not y in useless_words])\n",
    "# Stem the tokenized words\n",
    "stemmer = PorterStemmer() \n",
    "df['text'] = df['text'].apply(lambda x: [stemmer.stem(y) for y in x])"
   ]
  },
  {
   "cell_type": "code",
   "execution_count": 7,
   "id": "organic-gospel",
   "metadata": {},
   "outputs": [],
   "source": [
    "# Add a length of text column\n",
    "df['tok_length'] = df.apply(lambda row: len(row.text), axis = 1)"
   ]
  },
  {
   "cell_type": "code",
   "execution_count": 8,
   "id": "synthetic-vision",
   "metadata": {},
   "outputs": [
    {
     "data": {
      "text/html": [
       "<div>\n",
       "<style scoped>\n",
       "    .dataframe tbody tr th:only-of-type {\n",
       "        vertical-align: middle;\n",
       "    }\n",
       "\n",
       "    .dataframe tbody tr th {\n",
       "        vertical-align: top;\n",
       "    }\n",
       "\n",
       "    .dataframe thead th {\n",
       "        text-align: right;\n",
       "    }\n",
       "</style>\n",
       "<table border=\"1\" class=\"dataframe\">\n",
       "  <thead>\n",
       "    <tr style=\"text-align: right;\">\n",
       "      <th></th>\n",
       "      <th>label</th>\n",
       "      <th>text</th>\n",
       "      <th>length</th>\n",
       "      <th>tok_length</th>\n",
       "    </tr>\n",
       "  </thead>\n",
       "  <tbody>\n",
       "    <tr>\n",
       "      <th>0</th>\n",
       "      <td>0</td>\n",
       "      <td>[go, jurong, point, crazi, avail, bugi, n, gre...</td>\n",
       "      <td>111</td>\n",
       "      <td>16</td>\n",
       "    </tr>\n",
       "    <tr>\n",
       "      <th>1</th>\n",
       "      <td>0</td>\n",
       "      <td>[ok, lar, joke, wif, u, oni]</td>\n",
       "      <td>29</td>\n",
       "      <td>6</td>\n",
       "    </tr>\n",
       "    <tr>\n",
       "      <th>2</th>\n",
       "      <td>1</td>\n",
       "      <td>[free, entri, 2, wkli, comp, win, fa, cup, fin...</td>\n",
       "      <td>155</td>\n",
       "      <td>25</td>\n",
       "    </tr>\n",
       "    <tr>\n",
       "      <th>3</th>\n",
       "      <td>0</td>\n",
       "      <td>[u, dun, say, earli, hor, u, c, alreadi, say]</td>\n",
       "      <td>49</td>\n",
       "      <td>9</td>\n",
       "    </tr>\n",
       "    <tr>\n",
       "      <th>4</th>\n",
       "      <td>0</td>\n",
       "      <td>[nah, n't, think, goe, usf, live, around, though]</td>\n",
       "      <td>61</td>\n",
       "      <td>8</td>\n",
       "    </tr>\n",
       "  </tbody>\n",
       "</table>\n",
       "</div>"
      ],
      "text/plain": [
       "   label                                               text  length  \\\n",
       "0      0  [go, jurong, point, crazi, avail, bugi, n, gre...     111   \n",
       "1      0                       [ok, lar, joke, wif, u, oni]      29   \n",
       "2      1  [free, entri, 2, wkli, comp, win, fa, cup, fin...     155   \n",
       "3      0      [u, dun, say, earli, hor, u, c, alreadi, say]      49   \n",
       "4      0  [nah, n't, think, goe, usf, live, around, though]      61   \n",
       "\n",
       "   tok_length  \n",
       "0          16  \n",
       "1           6  \n",
       "2          25  \n",
       "3           9  \n",
       "4           8  "
      ]
     },
     "execution_count": 8,
     "metadata": {},
     "output_type": "execute_result"
    }
   ],
   "source": [
    "df.head()"
   ]
  },
  {
   "cell_type": "code",
   "execution_count": 9,
   "id": "professional-significance",
   "metadata": {},
   "outputs": [
    {
     "data": {
      "text/html": [
       "<div>\n",
       "<style scoped>\n",
       "    .dataframe tbody tr th:only-of-type {\n",
       "        vertical-align: middle;\n",
       "    }\n",
       "\n",
       "    .dataframe tbody tr th {\n",
       "        vertical-align: top;\n",
       "    }\n",
       "\n",
       "    .dataframe thead th {\n",
       "        text-align: right;\n",
       "    }\n",
       "</style>\n",
       "<table border=\"1\" class=\"dataframe\">\n",
       "  <thead>\n",
       "    <tr style=\"text-align: right;\">\n",
       "      <th></th>\n",
       "      <th>label</th>\n",
       "      <th>text</th>\n",
       "      <th>length</th>\n",
       "      <th>tok_length</th>\n",
       "    </tr>\n",
       "  </thead>\n",
       "  <tbody>\n",
       "    <tr>\n",
       "      <th>5567</th>\n",
       "      <td>1</td>\n",
       "      <td>[2nd, time, tri, 2, contact, u., u, aps750, po...</td>\n",
       "      <td>161</td>\n",
       "      <td>20</td>\n",
       "    </tr>\n",
       "    <tr>\n",
       "      <th>5568</th>\n",
       "      <td>0</td>\n",
       "      <td>[i_, b, go, esplanad, fr, home]</td>\n",
       "      <td>37</td>\n",
       "      <td>6</td>\n",
       "    </tr>\n",
       "    <tr>\n",
       "      <th>5569</th>\n",
       "      <td>0</td>\n",
       "      <td>[piti, mood, suggest]</td>\n",
       "      <td>57</td>\n",
       "      <td>3</td>\n",
       "    </tr>\n",
       "    <tr>\n",
       "      <th>5570</th>\n",
       "      <td>0</td>\n",
       "      <td>[guy, bitch, act, like, 'd, interest, buy, som...</td>\n",
       "      <td>125</td>\n",
       "      <td>14</td>\n",
       "    </tr>\n",
       "    <tr>\n",
       "      <th>5571</th>\n",
       "      <td>0</td>\n",
       "      <td>[rofl, true, name]</td>\n",
       "      <td>26</td>\n",
       "      <td>3</td>\n",
       "    </tr>\n",
       "  </tbody>\n",
       "</table>\n",
       "</div>"
      ],
      "text/plain": [
       "      label                                               text  length  \\\n",
       "5567      1  [2nd, time, tri, 2, contact, u., u, aps750, po...     161   \n",
       "5568      0                    [i_, b, go, esplanad, fr, home]      37   \n",
       "5569      0                              [piti, mood, suggest]      57   \n",
       "5570      0  [guy, bitch, act, like, 'd, interest, buy, som...     125   \n",
       "5571      0                                 [rofl, true, name]      26   \n",
       "\n",
       "      tok_length  \n",
       "5567          20  \n",
       "5568           6  \n",
       "5569           3  \n",
       "5570          14  \n",
       "5571           3  "
      ]
     },
     "execution_count": 9,
     "metadata": {},
     "output_type": "execute_result"
    }
   ],
   "source": [
    "df.tail()"
   ]
  },
  {
   "cell_type": "code",
   "execution_count": 10,
   "id": "assisted-convertible",
   "metadata": {},
   "outputs": [
    {
     "name": "stdout",
     "output_type": "stream",
     "text": [
      "<class 'pandas.core.frame.DataFrame'>\n",
      "RangeIndex: 5572 entries, 0 to 5571\n",
      "Data columns (total 4 columns):\n",
      " #   Column      Non-Null Count  Dtype \n",
      "---  ------      --------------  ----- \n",
      " 0   label       5572 non-null   int64 \n",
      " 1   text        5572 non-null   object\n",
      " 2   length      5572 non-null   int64 \n",
      " 3   tok_length  5572 non-null   int64 \n",
      "dtypes: int64(3), object(1)\n",
      "memory usage: 174.2+ KB\n"
     ]
    }
   ],
   "source": [
    "df.info()"
   ]
  },
  {
   "cell_type": "code",
   "execution_count": 11,
   "id": "premium-settlement",
   "metadata": {},
   "outputs": [
    {
     "data": {
      "text/html": [
       "<div>\n",
       "<style scoped>\n",
       "    .dataframe tbody tr th:only-of-type {\n",
       "        vertical-align: middle;\n",
       "    }\n",
       "\n",
       "    .dataframe tbody tr th {\n",
       "        vertical-align: top;\n",
       "    }\n",
       "\n",
       "    .dataframe thead th {\n",
       "        text-align: right;\n",
       "    }\n",
       "</style>\n",
       "<table border=\"1\" class=\"dataframe\">\n",
       "  <thead>\n",
       "    <tr style=\"text-align: right;\">\n",
       "      <th></th>\n",
       "      <th>label</th>\n",
       "      <th>length</th>\n",
       "      <th>tok_length</th>\n",
       "    </tr>\n",
       "  </thead>\n",
       "  <tbody>\n",
       "    <tr>\n",
       "      <th>count</th>\n",
       "      <td>5572.00</td>\n",
       "      <td>5572.00</td>\n",
       "      <td>5572.00</td>\n",
       "    </tr>\n",
       "    <tr>\n",
       "      <th>mean</th>\n",
       "      <td>0.13</td>\n",
       "      <td>80.12</td>\n",
       "      <td>9.59</td>\n",
       "    </tr>\n",
       "    <tr>\n",
       "      <th>std</th>\n",
       "      <td>0.34</td>\n",
       "      <td>59.69</td>\n",
       "      <td>7.15</td>\n",
       "    </tr>\n",
       "    <tr>\n",
       "      <th>min</th>\n",
       "      <td>0.00</td>\n",
       "      <td>2.00</td>\n",
       "      <td>0.00</td>\n",
       "    </tr>\n",
       "    <tr>\n",
       "      <th>25%</th>\n",
       "      <td>0.00</td>\n",
       "      <td>36.00</td>\n",
       "      <td>4.00</td>\n",
       "    </tr>\n",
       "    <tr>\n",
       "      <th>50%</th>\n",
       "      <td>0.00</td>\n",
       "      <td>61.00</td>\n",
       "      <td>7.00</td>\n",
       "    </tr>\n",
       "    <tr>\n",
       "      <th>75%</th>\n",
       "      <td>0.00</td>\n",
       "      <td>121.00</td>\n",
       "      <td>14.00</td>\n",
       "    </tr>\n",
       "    <tr>\n",
       "      <th>max</th>\n",
       "      <td>1.00</td>\n",
       "      <td>910.00</td>\n",
       "      <td>80.00</td>\n",
       "    </tr>\n",
       "  </tbody>\n",
       "</table>\n",
       "</div>"
      ],
      "text/plain": [
       "         label   length  tok_length\n",
       "count  5572.00  5572.00     5572.00\n",
       "mean      0.13    80.12        9.59\n",
       "std       0.34    59.69        7.15\n",
       "min       0.00     2.00        0.00\n",
       "25%       0.00    36.00        4.00\n",
       "50%       0.00    61.00        7.00\n",
       "75%       0.00   121.00       14.00\n",
       "max       1.00   910.00       80.00"
      ]
     },
     "execution_count": 11,
     "metadata": {},
     "output_type": "execute_result"
    }
   ],
   "source": [
    "df.describe().round(2)"
   ]
  },
  {
   "cell_type": "markdown",
   "id": "satisfactory-kitchen",
   "metadata": {},
   "source": [
    "**Observations:**  \n",
    " - **Label**: This is just a binary label after changing from the categorical lables.  We'll count these in the next visualization.\n",
    " - **length**:  Character count for the text colum.  `Min` of `2` and `max` of `910`.  Mean is `80` characters meaning these are all bascially short messages not unlike Tweets.\n",
    " - **tok_length**:  Number of tokenized `words` in each message.  `Min` of `0` and `max` of `80`.  The mean number of words is approximatley `10`."
   ]
  },
  {
   "cell_type": "code",
   "execution_count": 12,
   "id": "ecological-tender",
   "metadata": {},
   "outputs": [
    {
     "data": {
      "image/png": "[encoded data removed]",
      "text/plain": [
       "<Figure size 432x288 with 1 Axes>"
      ]
     },
     "metadata": {
      "needs_background": "light"
     },
     "output_type": "display_data"
    }
   ],
   "source": [
    "sns.countplot(x=df['label'], palette=\"tab20c\");"
   ]
  },
  {
   "cell_type": "markdown",
   "id": "answering-devices",
   "metadata": {},
   "source": [
    "**Count of Ham/Spam**:  There are  a far greater portion of `ham` messages in the dataset compared to `spam`.  This is known as imbalanced data."
   ]
  },
  {
   "cell_type": "code",
   "execution_count": 13,
   "id": "dependent-chassis",
   "metadata": {},
   "outputs": [
    {
     "data": {
      "image/png": "[encoded data removed]",
      "text/plain": [
       "<Figure size 720x360 with 1 Axes>"
      ]
     },
     "metadata": {
      "needs_background": "light"
     },
     "output_type": "display_data"
    }
   ],
   "source": [
    "plt.figure(figsize=(10, 5))\n",
    "sns.histplot(df, x='length', kde=True, palette=\"tab20c\");"
   ]
  },
  {
   "cell_type": "markdown",
   "id": "fixed-constitution",
   "metadata": {},
   "source": [
    "**Notes**:  For the lenth (char count) we can see the right skewed data with most of the observations falling under `200` characters."
   ]
  },
  {
   "cell_type": "code",
   "execution_count": 14,
   "id": "possible-insert",
   "metadata": {},
   "outputs": [
    {
     "data": {
      "image/png": "[encoded data removed]",
      "text/plain": [
       "<Figure size 720x360 with 1 Axes>"
      ]
     },
     "metadata": {
      "needs_background": "light"
     },
     "output_type": "display_data"
    }
   ],
   "source": [
    "plt.figure(figsize=(10, 5))\n",
    "sns.histplot(df, x='tok_length', kde=True, palette=\"tab20c\");"
   ]
  },
  {
   "cell_type": "markdown",
   "id": "hungry-relations",
   "metadata": {},
   "source": [
    "**Notes**:  For token lenth (number of words), most fall under `30` and a large proportion have less than `10`."
   ]
  },
  {
   "cell_type": "code",
   "execution_count": 15,
   "id": "worse-yorkshire",
   "metadata": {},
   "outputs": [
    {
     "data": {
      "image/png": "[encoded data removed]",
      "text/plain": [
       "<Figure size 360x360 with 1 Axes>"
      ]
     },
     "metadata": {
      "needs_background": "light"
     },
     "output_type": "display_data"
    }
   ],
   "source": [
    "plt.figure(figsize=(5, 5))\n",
    "sns.boxplot(data=df[['length']], palette=\"tab20c\");"
   ]
  },
  {
   "cell_type": "markdown",
   "id": "optical-limit",
   "metadata": {},
   "source": [
    "**Notes**:  Outliers can be observed outside of the upper quartile of approx `225`."
   ]
  },
  {
   "cell_type": "code",
   "execution_count": 16,
   "id": "considerable-relative",
   "metadata": {},
   "outputs": [
    {
     "data": {
      "image/png": "[encoded data removed]",
      "text/plain": [
       "<Figure size 360x360 with 1 Axes>"
      ]
     },
     "metadata": {
      "needs_background": "light"
     },
     "output_type": "display_data"
    }
   ],
   "source": [
    "plt.figure(figsize=(5, 5))\n",
    "sns.boxplot(data=df[['tok_length']], palette=\"tab20c\");"
   ]
  },
  {
   "cell_type": "markdown",
   "id": "express-printer",
   "metadata": {},
   "source": [
    "**Notes**:  Outliers can be observed outside of the upper quartile of approx `225`."
   ]
  },
  {
   "cell_type": "code",
   "execution_count": 17,
   "id": "parliamentary-citizenship",
   "metadata": {},
   "outputs": [
    {
     "data": {
      "text/plain": [
       "154     [everywher, dirt, floor, window, even, shirt, ...\n",
       "472     [noth, meant, money, enter, account, bank, rem...\n",
       "710     [height, confid, aeronaut, professor, wer, cal...\n",
       "837     [sir, late, pay, rent, past, month, pay, lt, g...\n",
       "881     [see, knew, give, break, time, woul, lead, alw...\n",
       "1084    [love, start, attraction.i, feel, need, everi,...\n",
       "1359    [lt, gt, pple, marri, lover, becz, hav, gud, u...\n",
       "1384    [storm, msg, wen, u, lift, phne, u, say, \\hell...\n",
       "1512    [hey, sweet, wonder, moment, might, come, want...\n",
       "1541    [u, konw, waht, rael, friendship, im, gving, y...\n",
       "Name: text, dtype: object"
      ]
     },
     "execution_count": 17,
     "metadata": {},
     "output_type": "execute_result"
    }
   ],
   "source": [
    "df[df['tok_length'] > 30].text.head(n=10)"
   ]
  },
  {
   "cell_type": "markdown",
   "id": "linear-tribune",
   "metadata": {},
   "source": [
    "**Outliers**: Given we are working with text data, there is nothing to suggest that these outliers (displayed above) are in error or will hurt our models.  They will stay in the datset."
   ]
  },
  {
   "cell_type": "code",
   "execution_count": 18,
   "id": "found-stocks",
   "metadata": {},
   "outputs": [],
   "source": [
    "# Extract only Ham\n",
    "df_ham = df[df['label'] == 0]\n",
    "# Extract only SPAM\n",
    "df_spam = df[df['label'] == 1]"
   ]
  },
  {
   "cell_type": "code",
   "execution_count": 19,
   "id": "polar-modification",
   "metadata": {},
   "outputs": [],
   "source": [
    "freq_stats_ham = []\n",
    "for i in df_ham['text']:\n",
    "    freq_stats_ham = freq_stats_ham + i"
   ]
  },
  {
   "cell_type": "code",
   "execution_count": 20,
   "id": "threaded-cache",
   "metadata": {},
   "outputs": [
    {
     "data": {
      "text/plain": [
       "[('u', 980),\n",
       " ('go', 417),\n",
       " (\"'m\", 387),\n",
       " ('get', 357),\n",
       " (\"n't\", 346),\n",
       " ('gt', 318),\n",
       " ('lt', 316),\n",
       " ('2', 300),\n",
       " ('come', 295),\n",
       " ('call', 291),\n",
       " ('know', 248),\n",
       " ('like', 244),\n",
       " ('got', 242),\n",
       " ('love', 241),\n",
       " ('ok', 240),\n",
       " ('ur', 237),\n",
       " ('good', 230),\n",
       " ('time', 228),\n",
       " (\"'ll\", 228),\n",
       " ('want', 212)]"
      ]
     },
     "execution_count": 20,
     "metadata": {},
     "output_type": "execute_result"
    }
   ],
   "source": [
    "fdist_ham = FreqDist(freq_stats_ham)\n",
    "fdist_ham.most_common(20)"
   ]
  },
  {
   "cell_type": "code",
   "execution_count": 21,
   "id": "approximate-typing",
   "metadata": {},
   "outputs": [
    {
     "data": {
      "image/png": "[encoded data removed]",
      "text/plain": [
       "<Figure size 720x360 with 1 Axes>"
      ]
     },
     "metadata": {
      "needs_background": "light"
     },
     "output_type": "display_data"
    }
   ],
   "source": [
    "plt.figure(figsize=(10, 5))\n",
    "fdist_ham.plot(20, cumulative=False)\n",
    "plt.show()"
   ]
  },
  {
   "cell_type": "code",
   "execution_count": 22,
   "id": "stable-bleeding",
   "metadata": {},
   "outputs": [],
   "source": [
    "freq_stats_spam = []\n",
    "for i in df_spam['text']:\n",
    "    freq_stats_spam = freq_stats_spam + i"
   ]
  },
  {
   "cell_type": "code",
   "execution_count": 23,
   "id": "potential-volleyball",
   "metadata": {},
   "outputs": [
    {
     "data": {
      "text/plain": [
       "[('call', 365),\n",
       " ('free', 219),\n",
       " ('2', 174),\n",
       " ('txt', 169),\n",
       " ('ur', 144),\n",
       " ('u', 141),\n",
       " ('text', 139),\n",
       " ('mobil', 135),\n",
       " ('4', 120),\n",
       " ('claim', 115),\n",
       " ('stop', 114),\n",
       " ('repli', 112),\n",
       " ('prize', 94),\n",
       " ('get', 88),\n",
       " ('tone', 74),\n",
       " ('servic', 72),\n",
       " ('send', 70),\n",
       " ('new', 69),\n",
       " ('nokia', 68),\n",
       " ('award', 66)]"
      ]
     },
     "execution_count": 23,
     "metadata": {},
     "output_type": "execute_result"
    }
   ],
   "source": [
    "fdist_spam = FreqDist(freq_stats_spam)\n",
    "fdist_spam.most_common(20)"
   ]
  },
  {
   "cell_type": "code",
   "execution_count": 24,
   "id": "boxed-yellow",
   "metadata": {},
   "outputs": [
    {
     "data": {
      "image/png": "[encoded data removed]",
      "text/plain": [
       "<Figure size 720x360 with 1 Axes>"
      ]
     },
     "metadata": {
      "needs_background": "light"
     },
     "output_type": "display_data"
    }
   ],
   "source": [
    "plt.figure(figsize=(10, 5))\n",
    "fdist_spam.plot(20, cumulative=False)\n",
    "plt.show()"
   ]
  },
  {
   "cell_type": "code",
   "execution_count": 25,
   "id": "coastal-explorer",
   "metadata": {},
   "outputs": [
    {
     "data": {
      "image/png": "[encoded data removed]",
      "text/plain": [
       "<Figure size 432x288 with 1 Axes>"
      ]
     },
     "metadata": {
      "needs_background": "light"
     },
     "output_type": "display_data"
    }
   ],
   "source": [
    "word_counter_ham = Counter(freq_stats_ham)\n",
    "sorted_word_counts_ham = sorted(list(word_counter_ham.values()), reverse=True) \n",
    "\n",
    "plt.loglog(sorted_word_counts_ham)\n",
    "plt.ylabel('Freq')\n",
    "plt.xlabel('Word Rank');"
   ]
  },
  {
   "cell_type": "code",
   "execution_count": 26,
   "id": "armed-citizenship",
   "metadata": {},
   "outputs": [
    {
     "data": {
      "image/png": "[encoded data removed]",
      "text/plain": [
       "<Figure size 432x288 with 1 Axes>"
      ]
     },
     "metadata": {
      "needs_background": "light"
     },
     "output_type": "display_data"
    }
   ],
   "source": [
    "word_counter_spam = Counter(freq_stats_spam)\n",
    "sorted_word_counts_spam = sorted(list(word_counter_spam.values()), reverse=True) \n",
    "\n",
    "plt.loglog(sorted_word_counts_spam)\n",
    "plt.ylabel('Freq')\n",
    "plt.xlabel('Word Rank');"
   ]
  },
  {
   "cell_type": "code",
   "execution_count": 27,
   "id": "invalid-cheat",
   "metadata": {},
   "outputs": [],
   "source": [
    "# Change the order of the columns and remove anything we don't need post analysis.\n",
    "df = df[['text', 'label']].copy()"
   ]
  },
  {
   "cell_type": "markdown",
   "id": "durable-passenger",
   "metadata": {},
   "source": [
    "# NLTK Classifier\n",
    "\n",
    "We will use the NLTK `NaiveBayesClassifier` to build a classification model for our spam and ham.  The process for building the Bag of Words is simple with NLTK, building a tuple in the following format\n",
    "\n",
    "`({ \"word\": count, \"word2\": count}, class)`\n",
    "\n",
    "The following function creates this for each observation in the datset."
   ]
  },
  {
   "cell_type": "code",
   "execution_count": 178,
   "id": "confident-lexington",
   "metadata": {},
   "outputs": [],
   "source": [
    "X = df['text']\n",
    "y = df.label"
   ]
  },
  {
   "cell_type": "code",
   "execution_count": 179,
   "id": "placed-surrey",
   "metadata": {},
   "outputs": [
    {
     "data": {
      "text/plain": [
       "(5572,)"
      ]
     },
     "execution_count": 179,
     "metadata": {},
     "output_type": "execute_result"
    }
   ],
   "source": [
    "X.shape"
   ]
  },
  {
   "cell_type": "code",
   "execution_count": 180,
   "id": "lesser-performance",
   "metadata": {},
   "outputs": [
    {
     "data": {
      "text/plain": [
       "(5572,)"
      ]
     },
     "execution_count": 180,
     "metadata": {},
     "output_type": "execute_result"
    }
   ],
   "source": [
    "y.shape"
   ]
  },
  {
   "cell_type": "code",
   "execution_count": 181,
   "id": "rapid-capital",
   "metadata": {},
   "outputs": [],
   "source": [
    "# Make training and test sets \n",
    "X_train, X_test, y_train, y_test = train_test_split(X, y, test_size=0.2, random_state=53)"
   ]
  },
  {
   "cell_type": "code",
   "execution_count": 182,
   "id": "municipal-ensemble",
   "metadata": {},
   "outputs": [
    {
     "data": {
      "text/plain": [
       "(4457,)"
      ]
     },
     "execution_count": 182,
     "metadata": {},
     "output_type": "execute_result"
    }
   ],
   "source": [
    "X_train.shape"
   ]
  },
  {
   "cell_type": "code",
   "execution_count": 183,
   "id": "sorted-mustang",
   "metadata": {},
   "outputs": [
    {
     "data": {
      "text/plain": [
       "(1115,)"
      ]
     },
     "execution_count": 183,
     "metadata": {},
     "output_type": "execute_result"
    }
   ],
   "source": [
    "X_test.shape"
   ]
  },
  {
   "cell_type": "markdown",
   "id": "level-malpractice",
   "metadata": {},
   "source": [
    "## Oversample the Minority Class\n",
    "Oversampling can be defined as adding more copies of the minority class. Oversampling can be a good choice when you don’t have a ton of data to work with.  \n",
    "We will use the resampling module from Scikit-Learn to randomly replicate samples from the minority class.\n",
    "\n",
    "https://towardsdatascience.com/methods-for-dealing-with-imbalanced-data-5b761be45a18\n",
    "\n",
    "https://scikit-learn.org/stable/modules/generated/sklearn.utils.resample.html?highlight=resample"
   ]
  },
  {
   "cell_type": "code",
   "execution_count": 189,
   "id": "emotional-opportunity",
   "metadata": {},
   "outputs": [],
   "source": [
    "# concatenate our training data back together\n",
    "X = pd.concat([X_train, y_train], axis=1)"
   ]
  },
  {
   "cell_type": "code",
   "execution_count": 190,
   "id": "specialized-saint",
   "metadata": {},
   "outputs": [],
   "source": [
    "# separate minority and majority classes\n",
    "ham = X[X.label == 0]\n",
    "spam = X[X.label == 1]"
   ]
  },
  {
   "cell_type": "code",
   "execution_count": 191,
   "id": "flying-moderator",
   "metadata": {},
   "outputs": [],
   "source": [
    "# upsample minority\n",
    "spam_upsampled = resample(spam,\n",
    "                          replace=True, # sample with replacement\n",
    "                          n_samples=len(ham), # match number in majority class\n",
    "                          random_state=27) # reproducible results"
   ]
  },
  {
   "cell_type": "code",
   "execution_count": 192,
   "id": "frequent-classics",
   "metadata": {},
   "outputs": [],
   "source": [
    "# combine majority and upsampled minority\n",
    "upsampled = pd.concat([ham, spam_upsampled])"
   ]
  },
  {
   "cell_type": "code",
   "execution_count": 193,
   "id": "micro-machinery",
   "metadata": {},
   "outputs": [
    {
     "data": {
      "text/plain": [
       "0    3834\n",
       "1    3834\n",
       "Name: label, dtype: int64"
      ]
     },
     "execution_count": 193,
     "metadata": {},
     "output_type": "execute_result"
    }
   ],
   "source": [
    "# check new class counts\n",
    "upsampled.label.value_counts()"
   ]
  },
  {
   "cell_type": "markdown",
   "id": "micro-running",
   "metadata": {},
   "source": [
    "### Build BoW for `Train` Data and Validate"
   ]
  },
  {
   "cell_type": "code",
   "execution_count": 195,
   "id": "indonesian-disco",
   "metadata": {},
   "outputs": [],
   "source": [
    "# Extract only Ham\n",
    "train_ham = upsampled[upsampled['label'] == 0]\n",
    "# Extract only SPAM\n",
    "train_spam = upsampled[upsampled['label'] == 1]"
   ]
  },
  {
   "cell_type": "code",
   "execution_count": 196,
   "id": "cross-reading",
   "metadata": {},
   "outputs": [],
   "source": [
    "# build a bad of words Function\n",
    "def build_bag_of_words_features(words):\n",
    "    return {word:1 for word in words}"
   ]
  },
  {
   "cell_type": "code",
   "execution_count": 197,
   "id": "dutch-greensboro",
   "metadata": {},
   "outputs": [
    {
     "name": "stdout",
     "output_type": "stream",
     "text": [
      "({'place': 1, 'get': 1, 'room': 1, 'cheap': 1}, 'ham')\n"
     ]
    }
   ],
   "source": [
    "# builds a list of positive reviews words/features with stop words and punction removed\n",
    "ham_train_features = [(build_bag_of_words_features(x), 'ham') for x in train_ham['text']]\n",
    "\n",
    "print(ham_train_features[0])"
   ]
  },
  {
   "cell_type": "code",
   "execution_count": 198,
   "id": "particular-concrete",
   "metadata": {},
   "outputs": [
    {
     "name": "stdout",
     "output_type": "stream",
     "text": [
      "({'valu': 1, 'custom': 1, 'pleas': 1, 'advis': 1, 'follow': 1, 'recent': 1, 'review': 1, 'mob': 1, 'award': 1, 'aps1500': 1, 'bonu': 1, 'prize': 1, 'call': 1, '09066364589': 1}, 'spam')\n"
     ]
    }
   ],
   "source": [
    "# builds a list of positive reviews words/features with stop words and punction removed\n",
    "spam_train_features = [(build_bag_of_words_features(x), 'spam') for x in train_spam['text']]\n",
    "\n",
    "print(spam_train_features[0])"
   ]
  },
  {
   "cell_type": "code",
   "execution_count": 199,
   "id": "popular-transformation",
   "metadata": {},
   "outputs": [],
   "source": [
    "train = ham_train_features + spam_train_features\n",
    "random.shuffle(train)\n",
    "\n",
    "sent_classifier = NaiveBayesClassifier.train(train)"
   ]
  },
  {
   "cell_type": "code",
   "execution_count": 200,
   "id": "charming-referral",
   "metadata": {},
   "outputs": [
    {
     "name": "stdout",
     "output_type": "stream",
     "text": [
      "num features for train:  7668\n"
     ]
    },
    {
     "data": {
      "text/plain": [
       "97.70474700052165"
      ]
     },
     "execution_count": 200,
     "metadata": {},
     "output_type": "execute_result"
    }
   ],
   "source": [
    "print('num features for train: ', len(train))\n",
    "\n",
    "nltk.classify.util.accuracy(sent_classifier, train)*100"
   ]
  },
  {
   "cell_type": "markdown",
   "id": "mechanical-proposal",
   "metadata": {},
   "source": [
    "### Build BoW for `Test` Data and Validate"
   ]
  },
  {
   "cell_type": "code",
   "execution_count": 201,
   "id": "certified-oasis",
   "metadata": {},
   "outputs": [],
   "source": [
    "# concatenate our training data back together\n",
    "all_test = pd.concat([X_test, y_test], axis=1)"
   ]
  },
  {
   "cell_type": "code",
   "execution_count": 202,
   "id": "behind-pearl",
   "metadata": {},
   "outputs": [],
   "source": [
    "# Extract only Ham\n",
    "test_ham = all_test[all_test['label'] == 0]\n",
    "# Extract only SPAM\n",
    "test_spam = all_test[all_test['label'] == 1]"
   ]
  },
  {
   "cell_type": "code",
   "execution_count": 203,
   "id": "necessary-thunder",
   "metadata": {},
   "outputs": [
    {
     "name": "stdout",
     "output_type": "stream",
     "text": [
      "({'aiyah': 1, 'ok': 1, 'wat': 1, 'long': 1, 'got': 1, 'improv': 1, 'alreadi': 1}, 'ham')\n"
     ]
    }
   ],
   "source": [
    "# builds a list of positive reviews words/features with stop words and punction removed\n",
    "ham_test_features = [(build_bag_of_words_features(x), 'ham') for x in test_ham['text']]\n",
    "\n",
    "print(ham_test_features[0])"
   ]
  },
  {
   "cell_type": "code",
   "execution_count": 204,
   "id": "robust-russian",
   "metadata": {},
   "outputs": [
    {
     "name": "stdout",
     "output_type": "stream",
     "text": [
      "({'2nd': 1, 'time': 1, 'tri': 1, '2': 1, 'contact': 1, 'u.': 1, 'u': 1, '750': 1, 'pound': 1, 'prize': 1, 'claim': 1, 'easi': 1, 'call': 1, '08718726970': 1, '10p': 1, 'per': 1, 'min': 1, 'bt-national-r': 1}, 'spam')\n"
     ]
    }
   ],
   "source": [
    "# builds a list of positive reviews words/features with stop words and punction removed\n",
    "spam_test_features = [(build_bag_of_words_features(x), 'spam') for x in test_spam['text']]\n",
    "\n",
    "print(spam_test_features[0])"
   ]
  },
  {
   "cell_type": "code",
   "execution_count": 205,
   "id": "interior-delhi",
   "metadata": {},
   "outputs": [
    {
     "name": "stdout",
     "output_type": "stream",
     "text": [
      "num features for test:  1115\n"
     ]
    },
    {
     "data": {
      "text/plain": [
       "94.52914798206278"
      ]
     },
     "execution_count": 205,
     "metadata": {},
     "output_type": "execute_result"
    }
   ],
   "source": [
    "test = ham_test_features + spam_test_features\n",
    "\n",
    "print('num features for test: ', len(test))\n",
    "\n",
    "nltk.classify.util.accuracy(sent_classifier, test)*100"
   ]
  },
  {
   "cell_type": "code",
   "execution_count": 214,
   "id": "settled-balloon",
   "metadata": {},
   "outputs": [
    {
     "name": "stdout",
     "output_type": "stream",
     "text": [
      "Most Informative Features\n",
      "                   award = 1                spam : ham    =    221.0 : 1.0\n",
      "                 voucher = 1                spam : ham    =    129.0 : 1.0\n",
      "                 landlin = 1                spam : ham    =    117.7 : 1.0\n",
      "                   nokia = 1                spam : ham    =    110.2 : 1.0\n",
      "                   await = 1                spam : ham    =     98.3 : 1.0\n",
      "                    code = 1                spam : ham    =     95.7 : 1.0\n",
      "                     txt = 1                spam : ham    =     91.5 : 1.0\n",
      "                      16 = 1                spam : ham    =     87.0 : 1.0\n",
      "                      uk = 1                spam : ham    =     83.7 : 1.0\n",
      "                  latest = 1                spam : ham    =     78.2 : 1.0\n",
      "                     100 = 1                spam : ham    =     75.7 : 1.0\n",
      "                  urgent = 1                spam : ham    =     74.3 : 1.0\n",
      "                    draw = 1                spam : ham    =     67.0 : 1.0\n",
      "                  servic = 1                spam : ham    =     67.0 : 1.0\n",
      "                deliveri = 1                spam : ham    =     66.3 : 1.0\n",
      "                   mobil = 1                spam : ham    =     61.5 : 1.0\n",
      "                    rate = 1                spam : ham    =     60.6 : 1.0\n",
      "               congratul = 1                spam : ham    =     60.3 : 1.0\n",
      "                      cd = 1                spam : ham    =     56.3 : 1.0\n",
      "                   video = 1                spam : ham    =     56.2 : 1.0\n",
      "                  reveal = 1                spam : ham    =     55.0 : 1.0\n",
      "                  privat = 1                spam : ham    =     51.7 : 1.0\n",
      "                      po = 1                spam : ham    =     46.4 : 1.0\n",
      "                   expir = 1                spam : ham    =     46.3 : 1.0\n",
      "                    oper = 1                spam : ham    =     46.3 : 1.0\n",
      "                    info = 1                spam : ham    =     45.0 : 1.0\n",
      "                discount = 1                spam : ham    =     43.0 : 1.0\n",
      "                   appli = 1                spam : ham    =     42.4 : 1.0\n",
      "                    comp = 1                spam : ham    =     42.3 : 1.0\n",
      "                    user = 1                spam : ham    =     42.3 : 1.0\n",
      "                   orang = 1                spam : ham    =     41.9 : 1.0\n",
      "                    land = 1                spam : ham    =     41.4 : 1.0\n",
      "                  camera = 1                spam : ham    =     41.0 : 1.0\n",
      "                 auction = 1                spam : ham    =     39.0 : 1.0\n",
      "                  txting = 1                spam : ham    =     38.3 : 1.0\n",
      "                 collect = 1                spam : ham    =     37.3 : 1.0\n",
      "                 fantast = 1                spam : ham    =     36.3 : 1.0\n",
      "                 attempt = 1                spam : ham    =     36.2 : 1.0\n",
      "                  credit = 1                spam : ham    =     36.2 : 1.0\n",
      "                     box = 1                spam : ham    =     34.8 : 1.0\n",
      "                  custom = 1                spam : ham    =     32.4 : 1.0\n",
      "                    cash = 1                spam : ham    =     32.3 : 1.0\n",
      "                  select = 1                spam : ham    =     30.8 : 1.0\n",
      "                  reward = 1                spam : ham    =     29.7 : 1.0\n",
      "                  member = 1                spam : ham    =     28.3 : 1.0\n",
      "                   chanc = 1                spam : ham    =     28.2 : 1.0\n",
      "                   offer = 1                spam : ham    =     27.6 : 1.0\n",
      "                   pound = 1                spam : ham    =     27.6 : 1.0\n",
      "                     del = 1                spam : ham    =     26.3 : 1.0\n",
      "                 contact = 1                spam : ham    =     25.9 : 1.0\n",
      "                  receiv = 1                spam : ham    =     25.8 : 1.0\n",
      "               statement = 1                spam : ham    =     25.8 : 1.0\n",
      "                     win = 1                spam : ham    =     25.2 : 1.0\n",
      "                     per = 1                spam : ham    =     25.2 : 1.0\n",
      "                 england = 1                spam : ham    =     25.0 : 1.0\n",
      "                    home = 1                 ham : spam   =     23.7 : 1.0\n",
      "                   daili = 1                spam : ham    =     23.7 : 1.0\n",
      "                     mth = 1                spam : ham    =     23.7 : 1.0\n",
      "                    line = 1                spam : ham    =     23.6 : 1.0\n",
      "                  summer = 1                spam : ham    =     23.0 : 1.0\n",
      "                   music = 1                spam : ham    =     22.6 : 1.0\n",
      "                  access = 1                spam : ham    =     22.3 : 1.0\n",
      "                  direct = 1                spam : ham    =     21.8 : 1.0\n",
      "                 network = 1                spam : ham    =     21.4 : 1.0\n",
      "                   excit = 1                spam : ham    =     21.0 : 1.0\n",
      "                   price = 1                spam : ham    =     20.5 : 1.0\n",
      "                 announc = 1                spam : ham    =     20.3 : 1.0\n",
      "                   worth = 1                spam : ham    =     20.1 : 1.0\n",
      "                     sub = 1                spam : ham    =     19.8 : 1.0\n",
      "                      s. = 1                spam : ham    =     19.0 : 1.0\n",
      "                     sex = 1                spam : ham    =     19.0 : 1.0\n",
      "                  colour = 1                spam : ham    =     18.8 : 1.0\n",
      "                    much = 1                 ham : spam   =     18.6 : 1.0\n",
      "                     eng = 1                spam : ham    =     18.3 : 1.0\n",
      "                   match = 1                spam : ham    =     18.1 : 1.0\n",
      "                     dvd = 1                spam : ham    =     17.7 : 1.0\n",
      "                    free = 1                spam : ham    =     17.6 : 1.0\n",
      "                    1000 = 1                spam : ham    =     17.0 : 1.0\n",
      "                     wat = 1                 ham : spam   =     16.6 : 1.0\n",
      "                motorola = 1                spam : ham    =     16.6 : 1.0\n",
      "                  offici = 1                spam : ham    =     16.6 : 1.0\n",
      "                    chat = 1                spam : ham    =     16.4 : 1.0\n",
      "                     sam = 1                spam : ham    =     16.3 : 1.0\n",
      "                 content = 1                spam : ham    =     16.3 : 1.0\n",
      "                  anytim = 1                spam : ham    =     15.6 : 1.0\n",
      "                    date = 1                spam : ham    =     15.1 : 1.0\n",
      "                      25 = 1                spam : ham    =     15.0 : 1.0\n",
      "                     cup = 1                spam : ham    =     15.0 : 1.0\n",
      "                 holiday = 1                spam : ham    =     15.0 : 1.0\n",
      "                    laid = 1                spam : ham    =     15.0 : 1.0\n",
      "                   flirt = 1                spam : ham    =     14.6 : 1.0\n",
      "                     top = 1                spam : ham    =     14.5 : 1.0\n",
      "                   brand = 1                spam : ham    =     14.3 : 1.0\n",
      "                   local = 1                spam : ham    =     14.3 : 1.0\n",
      "                    stop = 1                spam : ham    =     14.2 : 1.0\n",
      "                    yeah = 1                 ham : spam   =     14.1 : 1.0\n",
      "                   order = 1                spam : ham    =     14.1 : 1.0\n",
      "                   repli = 1                spam : ham    =     13.8 : 1.0\n",
      "                     mp3 = 1                spam : ham    =     13.8 : 1.0\n",
      "                      pc = 1                spam : ham    =     13.8 : 1.0\n"
     ]
    }
   ],
   "source": [
    "sent_classifier.show_most_informative_features(n=100)"
   ]
  },
  {
   "cell_type": "markdown",
   "id": "tutorial-kitchen",
   "metadata": {},
   "source": [
    "**Observations**:  When displaying `50` of the top informative features, **most** of these are `spam:ham` ratios, meaning that the weight of the effect of these words ends up predicting a `spam` message.  In the most weighted case, the word `txt` is `49` times more probable of being a spam message.  The word `way` is the highest weighted ham word with a `10.3:1` mulitiple of being not spam."
   ]
  },
  {
   "cell_type": "markdown",
   "id": "systematic-firewall",
   "metadata": {},
   "source": [
    "### Test with Custom Data"
   ]
  },
  {
   "cell_type": "code",
   "execution_count": 207,
   "id": "governmental-dancing",
   "metadata": {},
   "outputs": [
    {
     "data": {
      "text/plain": [
       "7108"
      ]
     },
     "execution_count": 207,
     "metadata": {},
     "output_type": "execute_result"
    }
   ],
   "source": [
    "# get the training vocabulary\n",
    "train_vocab = set()\n",
    "\n",
    "for t in train:\n",
    "    vocabDict = t[0]\n",
    "    for key in vocabDict.keys():\n",
    "      train_vocab.add(key)\n",
    "len(train_vocab)"
   ]
  },
  {
   "cell_type": "code",
   "execution_count": 215,
   "id": "invisible-coordinate",
   "metadata": {},
   "outputs": [
    {
     "name": "stdout",
     "output_type": "stream",
     "text": [
      "txt us at 8787 for a free trip to hawaii!  :  spam\n",
      "I'm looking forward to when my day is over  :  ham\n",
      "Nah I don't think he goes to usf  :  ham\n",
      "for a free week of mobile service award  :  spam\n"
     ]
    }
   ],
   "source": [
    "from nltk.tokenize import word_tokenize\n",
    "\n",
    "docs=[\"txt us at 8787 for a free trip to hawaii!\", \n",
    "      \"I'm looking forward to when my day is over\",\n",
    "      \"Nah I don't think he goes to usf\",\n",
    "      \"for a free week of mobile service award\"]\n",
    "\n",
    "for doc in docs:\n",
    "     t_features = {word: (word in word_tokenize(doc.lower())) for word in train_vocab}\n",
    "     print(doc,\" : \", sent_classifier.classify(t_features)) "
   ]
  },
  {
   "cell_type": "markdown",
   "id": "turkish-import",
   "metadata": {},
   "source": [
    "### Findings\n",
    "\n",
    "With the NLTK model, the accuracy on the `test` partition of the data was about `~85%`, not a bad score.  When testing our sample strings it ended up classifying them correctly.  It's very possible to make just minor word changes and have these mis-classify, however this does show the model working properly."
   ]
  },
  {
   "cell_type": "markdown",
   "id": "handed-consensus",
   "metadata": {},
   "source": [
    "# Scikit Learn Naive Bayes Classification\n",
    "\n",
    "The following section will look to classify the data based on Scikit-Learn's `NaiveBayesClassification`, and specifically the `MultinomialNB` algorithm.  A number of options through different versions of the same process\n",
    "\n",
    "1. **Four total passes**\n",
    "    - The first two will use an imbalanced dataset\n",
    "    - The second two will use a balanced training set\n",
    "1. **For each of the two passes, different word vectorization will be used.**\n",
    "    - `CountVectorizer` which uses a sparse matrix of token counts per document\n",
    "    - `TfidfVectorizer` Tf-idf instead of the token counts, scales down the impact of tokens that occur very frequently in a given corpus and that are hence less informative than features that occur in a small fraction of the training corpus.\n",
    "1. **Hyper Parameter Tuning**\n",
    "    - Each of the passes will use a Grid Search Cross Validation to pick the best performing `alpha` setting.  This is tuned per training data set, and per word vectorization model from step 2.\n",
    "\n",
    "After everything is run, we can see which model performed the best.  The metric for determining the best model is `percision` primarily, since it will measure how precise/accurate the model is out of those predicted positive, how many of them are actual positive.\n",
    "\n",
    ">Precision is a good measure to determine, when the costs of False Positive is high. For instance, email spam detection. In email spam detection, a false positive means that an email that is non-spam (actual negative) has been identified as spam (predicted spam). The email user might lose important emails if the precision is not high for the spam detection model[3].\n",
    "\n",
    "**Note:** Different than the NLTK version above, we will not do any special pre-processing but rather let `scikit-learn` do stop word removal and accent removal.  Because of this, we'll start with the raw imported CSV.\n",
    "\n",
    "**References:**  \n",
    " 1. [Detecting Fake News with Scikit-Learn](https://www.datacamp.com/community/tutorials/scikit-learn-fake-news)  \n",
    " 1. [Dealing with Imbalanced Data](https://towardsdatascience.com/methods-for-dealing-with-imbalanced-data-5b761be45a18)\n",
    " 1. [Accuracy, Precision, Recall or F1?](https://towardsdatascience.com/accuracy-precision-recall-or-f1-331fb37c5cb9)"
   ]
  },
  {
   "cell_type": "code",
   "execution_count": null,
   "id": "divided-ticket",
   "metadata": {},
   "outputs": [],
   "source": [
    "df = df_clean.copy()\n",
    "\n",
    "# Set `y` \n",
    "y = df.label\n",
    "X = df['text']\n",
    "\n",
    "# Drop the `label` column\n",
    "df.drop(\"label\", axis=1)\n",
    "\n",
    "# Make training and test sets \n",
    "X_train, X_test, y_train, y_test = train_test_split(X, y, test_size=0.33, random_state=53)"
   ]
  },
  {
   "cell_type": "code",
   "execution_count": null,
   "id": "hungry-constant",
   "metadata": {},
   "outputs": [],
   "source": [
    "print(y_train.shape)\n",
    "print(X_train.shape)"
   ]
  },
  {
   "cell_type": "markdown",
   "id": "facial-pencil",
   "metadata": {},
   "source": [
    "## Models on Original Dataset"
   ]
  },
  {
   "cell_type": "code",
   "execution_count": null,
   "id": "embedded-hurricane",
   "metadata": {},
   "outputs": [],
   "source": [
    "# Initialize the `count_vectorizer` \n",
    "count_vectorizer = CountVectorizer(stop_words='english', strip_accents='unicode')\n",
    "\n",
    "# Fit and transform the training data \n",
    "count_train = count_vectorizer.fit_transform(X_train) \n",
    "\n",
    "# Transform the test set \n",
    "count_test = count_vectorizer.transform(X_test)"
   ]
  },
  {
   "cell_type": "code",
   "execution_count": null,
   "id": "religious-profession",
   "metadata": {},
   "outputs": [],
   "source": [
    "# Initialize the `tfidf_vectorizer` \n",
    "tfidf_vectorizer = TfidfVectorizer(stop_words='english', max_df=0.7, strip_accents='unicode') \n",
    "\n",
    "# Fit and transform the training data \n",
    "tfidf_train = tfidf_vectorizer.fit_transform(X_train) \n",
    "\n",
    "# Transform the test set \n",
    "tfidf_test = tfidf_vectorizer.transform(X_test)"
   ]
  },
  {
   "cell_type": "code",
   "execution_count": null,
   "id": "homeless-intake",
   "metadata": {},
   "outputs": [],
   "source": [
    "# Get the feature names of `tfidf_vectorizer` \n",
    "print(tfidf_vectorizer.get_feature_names()[-10:])\n",
    "\n",
    "# Get the feature names of `count_vectorizer` \n",
    "print(count_vectorizer.get_feature_names()[:10])"
   ]
  },
  {
   "cell_type": "code",
   "execution_count": null,
   "id": "actual-assault",
   "metadata": {},
   "outputs": [],
   "source": [
    "count_df = pd.DataFrame(count_train.A, columns=count_vectorizer.get_feature_names())\n",
    "count_df"
   ]
  },
  {
   "cell_type": "code",
   "execution_count": null,
   "id": "handed-leader",
   "metadata": {},
   "outputs": [],
   "source": [
    "tfidf_df = pd.DataFrame(tfidf_train.A, columns=tfidf_vectorizer.get_feature_names())\n",
    "tfidf_df"
   ]
  },
  {
   "cell_type": "code",
   "execution_count": null,
   "id": "prescribed-springfield",
   "metadata": {},
   "outputs": [],
   "source": [
    "difference = set(count_df.columns) - set(tfidf_df.columns)\n",
    "difference"
   ]
  },
  {
   "cell_type": "markdown",
   "id": "prompt-japanese",
   "metadata": {},
   "source": [
    "**Note:** The empty `set` denotes that the features (columns) are identical between the models."
   ]
  },
  {
   "cell_type": "markdown",
   "id": "hispanic-delivery",
   "metadata": {},
   "source": [
    "### Function for Plotting Confusion Matrix"
   ]
  },
  {
   "cell_type": "code",
   "execution_count": null,
   "id": "solid-chile",
   "metadata": {},
   "outputs": [],
   "source": [
    "def plot_confusion_matrix(cm, classes,\n",
    "                          normalize=False,\n",
    "                          title='Confusion matrix',\n",
    "                          cmap=plt.cm.Blues):\n",
    "    \"\"\"\n",
    "    See full source and example: \n",
    "    http://scikit-learn.org/stable/auto_examples/model_selection/plot_confusion_matrix.html\n",
    "    \n",
    "    This function prints and plots the confusion matrix.\n",
    "    Normalization can be applied by setting `normalize=True`.\n",
    "    \"\"\"\n",
    "    plt.imshow(cm, interpolation='nearest', cmap=cmap)\n",
    "    plt.title(title)\n",
    "    plt.colorbar()\n",
    "    tick_marks = np.arange(len(classes))\n",
    "    plt.xticks(tick_marks, classes, rotation=45)\n",
    "    plt.yticks(tick_marks, classes)\n",
    "\n",
    "    if normalize:\n",
    "        cm = cm.astype('float') / cm.sum(axis=1)[:, np.newaxis]\n",
    "        print(\"Normalized confusion matrix\")\n",
    "    else:\n",
    "        print('Confusion matrix, without normalization')\n",
    "\n",
    "    thresh = cm.max() / 2.\n",
    "    for i, j in itertools.product(range(cm.shape[0]), range(cm.shape[1])):\n",
    "        plt.text(j, i, cm[i, j],\n",
    "                 horizontalalignment=\"center\",\n",
    "                 color=\"white\" if cm[i, j] > thresh else \"black\")\n",
    "\n",
    "    plt.tight_layout()\n",
    "    plt.ylabel('True label')\n",
    "    plt.xlabel('predicted label')"
   ]
  },
  {
   "cell_type": "markdown",
   "id": "coordinate-multimedia",
   "metadata": {},
   "source": [
    "### Function for Hyper Parameter Tuning\n",
    "\n",
    "GridSearch Cross Validation of `alpha` parameter."
   ]
  },
  {
   "cell_type": "code",
   "execution_count": null,
   "id": "toxic-sacrifice",
   "metadata": {},
   "outputs": [],
   "source": [
    "def get_alpha(X, y):\n",
    "    vals = np.linspace(.0001, 2, 100)\n",
    "\n",
    "    parameters = {'alpha':vals}\n",
    "    model = MultinomialNB()\n",
    "    clf = GridSearchCV(model, parameters)\n",
    "    clf.fit(X, y)\n",
    "\n",
    "    # extract the best alpha score\n",
    "    return clf.best_params_"
   ]
  },
  {
   "cell_type": "code",
   "execution_count": null,
   "id": "premier-priority",
   "metadata": {},
   "outputs": [],
   "source": [
    "alph_dict = get_alpha(count_train, y_train)\n",
    "alph = alph_dict['alpha']\n",
    "alph"
   ]
  },
  {
   "cell_type": "code",
   "execution_count": null,
   "id": "instructional-corrections",
   "metadata": {},
   "outputs": [],
   "source": [
    "clf = MultinomialNB(alpha=alph) "
   ]
  },
  {
   "cell_type": "code",
   "execution_count": null,
   "id": "wooden-pharmaceutical",
   "metadata": {},
   "outputs": [],
   "source": [
    "clf.fit(count_train, y_train)\n",
    "y_pred = clf.predict(count_test)\n",
    "score = metrics.accuracy_score(y_test, y_pred)\n",
    "\n",
    "print(metrics.classification_report(y_test, y_pred, digits=3))\n",
    "\n",
    "print(\"accuracy:   %0.3f\" % score)\n",
    "cm = metrics.confusion_matrix(y_test, y_pred, labels=['spam', 'ham'])\n",
    "plot_confusion_matrix(cm, classes=['spam', 'ham'])"
   ]
  },
  {
   "cell_type": "code",
   "execution_count": null,
   "id": "moral-bargain",
   "metadata": {},
   "outputs": [],
   "source": [
    "alph_dict = get_alpha(tfidf_train, y_train)\n",
    "alph = alph_dict['alpha']\n",
    "alph"
   ]
  },
  {
   "cell_type": "code",
   "execution_count": null,
   "id": "japanese-minnesota",
   "metadata": {},
   "outputs": [],
   "source": [
    "clf = MultinomialNB(alpha=alph) "
   ]
  },
  {
   "cell_type": "code",
   "execution_count": null,
   "id": "constitutional-benchmark",
   "metadata": {},
   "outputs": [],
   "source": [
    "clf.fit(tfidf_train, y_train)\n",
    "y_pred = clf.predict(tfidf_test)\n",
    "score = metrics.accuracy_score(y_test, y_pred)\n",
    "\n",
    "print(metrics.classification_report(y_test, y_pred, digits=3))\n",
    "\n",
    "print(\"accuracy:   %0.3f\" % score)\n",
    "cm = metrics.confusion_matrix(y_test, y_pred, labels=['spam', 'ham'])\n",
    "plot_confusion_matrix(cm, classes=['spam', 'ham'])"
   ]
  },
  {
   "cell_type": "markdown",
   "id": "ready-union",
   "metadata": {},
   "source": [
    "## Oversample the Minority Class\n",
    "Oversampling can be defined as adding more copies of the minority class. Oversampling can be a good choice when you don’t have a ton of data to work with.  \n",
    "We will use the resampling module from Scikit-Learn to randomly replicate samples from the minority class.\n",
    "\n",
    "https://towardsdatascience.com/methods-for-dealing-with-imbalanced-data-5b761be45a18\n",
    "\n",
    "https://scikit-learn.org/stable/modules/generated/sklearn.utils.resample.html?highlight=resample"
   ]
  },
  {
   "cell_type": "code",
   "execution_count": null,
   "id": "extraordinary-spiritual",
   "metadata": {},
   "outputs": [],
   "source": [
    "# concatenate our training data back together\n",
    "X = pd.concat([X_train, y_train], axis=1)"
   ]
  },
  {
   "cell_type": "code",
   "execution_count": null,
   "id": "australian-decimal",
   "metadata": {},
   "outputs": [],
   "source": [
    "# separate minority and majority classes\n",
    "ham = X[X.label == 'ham']\n",
    "spam = X[X.label == 'spam']"
   ]
  },
  {
   "cell_type": "code",
   "execution_count": null,
   "id": "clinical-prior",
   "metadata": {},
   "outputs": [],
   "source": [
    "# upsample minority\n",
    "spam_upsampled = resample(spam,\n",
    "                          replace=True, # sample with replacement\n",
    "                          n_samples=len(ham), # match number in majority class\n",
    "                          random_state=27) # reproducible results"
   ]
  },
  {
   "cell_type": "code",
   "execution_count": null,
   "id": "committed-hundred",
   "metadata": {},
   "outputs": [],
   "source": [
    "# combine majority and upsampled minority\n",
    "upsampled = pd.concat([ham, spam_upsampled])"
   ]
  },
  {
   "cell_type": "code",
   "execution_count": null,
   "id": "fleet-topic",
   "metadata": {},
   "outputs": [],
   "source": [
    "# check new class counts\n",
    "upsampled.label.value_counts()"
   ]
  },
  {
   "cell_type": "markdown",
   "id": "bulgarian-connecticut",
   "metadata": {},
   "source": [
    "**Note:** Now we can see that the number of `spam` and `ham` entries are the same"
   ]
  },
  {
   "cell_type": "markdown",
   "id": "looking-closer",
   "metadata": {},
   "source": [
    "## Post Oversampling Models"
   ]
  },
  {
   "cell_type": "code",
   "execution_count": null,
   "id": "surface-composer",
   "metadata": {},
   "outputs": [],
   "source": [
    "# balanced dataset\n",
    "y_train = upsampled.label\n",
    "X_train = upsampled.text"
   ]
  },
  {
   "cell_type": "code",
   "execution_count": null,
   "id": "least-replica",
   "metadata": {},
   "outputs": [],
   "source": [
    "# Initialize the `count_vectorizer` \n",
    "count_vectorizer = CountVectorizer(stop_words='english', strip_accents='unicode')\n",
    "\n",
    "# Fit and transform the training data \n",
    "count_train = count_vectorizer.fit_transform(X_train) \n",
    "\n",
    "# Transform the test set \n",
    "count_test = count_vectorizer.transform(X_test)"
   ]
  },
  {
   "cell_type": "code",
   "execution_count": null,
   "id": "alert-summary",
   "metadata": {},
   "outputs": [],
   "source": [
    "# Initialize the `tfidf_vectorizer` \n",
    "tfidf_vectorizer = TfidfVectorizer(stop_words='english', strip_accents='unicode') \n",
    "\n",
    "# Fit and transform the training data \n",
    "tfidf_train = tfidf_vectorizer.fit_transform(X_train) \n",
    "\n",
    "# Transform the test set \n",
    "tfidf_test = tfidf_vectorizer.transform(X_test)"
   ]
  },
  {
   "cell_type": "code",
   "execution_count": null,
   "id": "comprehensive-insulin",
   "metadata": {},
   "outputs": [],
   "source": [
    "alph_dict = get_alpha(count_train, y_train)\n",
    "alph = alph_dict['alpha']\n",
    "alph"
   ]
  },
  {
   "cell_type": "markdown",
   "id": "minus-digest",
   "metadata": {},
   "source": [
    "**Note**: The very low `alpha` value returned suggest that our model might be overfit to the data."
   ]
  },
  {
   "cell_type": "code",
   "execution_count": null,
   "id": "welcome-swimming",
   "metadata": {},
   "outputs": [],
   "source": [
    "clf = MultinomialNB(alpha=alph) "
   ]
  },
  {
   "cell_type": "code",
   "execution_count": null,
   "id": "rising-present",
   "metadata": {},
   "outputs": [],
   "source": [
    "clf.fit(count_train, y_train)\n",
    "y_pred = clf.predict(count_test)\n",
    "score = metrics.accuracy_score(y_test, y_pred)\n",
    "\n",
    "print(metrics.classification_report(y_test, y_pred, digits=3))\n",
    "\n",
    "print(\"accuracy:   %0.3f\" % score)\n",
    "cm = metrics.confusion_matrix(y_test, y_pred, labels=['spam', 'ham'])\n",
    "plot_confusion_matrix(cm, classes=['spam', 'ham'])"
   ]
  },
  {
   "cell_type": "code",
   "execution_count": null,
   "id": "abstract-encounter",
   "metadata": {},
   "outputs": [],
   "source": [
    "alph_dict = get_alpha(tfidf_train, y_train)\n",
    "alph = alph_dict['alpha']\n",
    "alph"
   ]
  },
  {
   "cell_type": "markdown",
   "id": "alone-fountain",
   "metadata": {},
   "source": [
    "**Note**: The very low `alpha` value returned suggest that our model might be overfit to the data."
   ]
  },
  {
   "cell_type": "code",
   "execution_count": null,
   "id": "golden-purse",
   "metadata": {},
   "outputs": [],
   "source": [
    "clf = MultinomialNB(alpha=alph) "
   ]
  },
  {
   "cell_type": "code",
   "execution_count": null,
   "id": "competitive-macedonia",
   "metadata": {},
   "outputs": [],
   "source": [
    "clf.fit(tfidf_train, y_train)\n",
    "y_pred = clf.predict(tfidf_test)\n",
    "score = metrics.accuracy_score(y_test, y_pred)\n",
    "\n",
    "print(metrics.classification_report(y_test, y_pred, digits=3))\n",
    "\n",
    "print(\"accuracy:   %0.3f\" % score)\n",
    "cm = metrics.confusion_matrix(y_test, y_pred, labels=['spam', 'ham'])\n",
    "plot_confusion_matrix(cm, classes=['spam', 'ham'])"
   ]
  },
  {
   "cell_type": "markdown",
   "id": "white-atmosphere",
   "metadata": {},
   "source": [
    "## Test with Custom Data"
   ]
  },
  {
   "cell_type": "code",
   "execution_count": null,
   "id": "correct-combine",
   "metadata": {},
   "outputs": [],
   "source": [
    "samples = [\"txt us at 8787 for a free trip to hawaii!\", \n",
    "           \"I'm looking forward to when my day is over\",\n",
    "           \"Nah I don't think he goes to usf\",\n",
    "           \"for a free week of mobile service\"]"
   ]
  },
  {
   "cell_type": "code",
   "execution_count": null,
   "id": "together-stanford",
   "metadata": {},
   "outputs": [],
   "source": [
    "for sample in samples:\n",
    "    sample_trans = tfidf_vectorizer.transform([sample])\n",
    "    print(sample, \"=\", clf.predict(sample_trans))"
   ]
  },
  {
   "cell_type": "markdown",
   "id": "sexual-radar",
   "metadata": {},
   "source": [
    "## Findings\n",
    "\n",
    "\n",
    "https://towardsdatascience.com/accuracy-precision-recall-or-f1-331fb37c5cb9"
   ]
  },
  {
   "cell_type": "markdown",
   "id": "hispanic-music",
   "metadata": {},
   "source": [
    "# Clustering with Kmeans\n",
    "\n",
    "It's possible to apply the same methods of vecorization, specifically `TF-IDF` and use an unsupervised model such as `kMeans` to build a number of clusters representing different groupings of like data.  Since we know there are naturally `2` clusters in here, we can try to run the algorithm with the `spam` and `ham` label removed.  \n",
    "\n",
    "After the model is built, we can try our sample strings against the clusters seeing if they are placed logically in the right ones."
   ]
  },
  {
   "cell_type": "code",
   "execution_count": null,
   "id": "convertible-disney",
   "metadata": {},
   "outputs": [],
   "source": [
    "df = df_clean.copy()\n",
    "\n",
    "X = df['text']\n",
    "\n",
    "# Drop the `label` column\n",
    "df.drop(\"label\", axis=1, inplace=True)"
   ]
  },
  {
   "cell_type": "code",
   "execution_count": null,
   "id": "equal-bruce",
   "metadata": {},
   "outputs": [],
   "source": [
    "# vectorization\n",
    "vectorizer = TfidfVectorizer(stop_words='english')\n",
    "X = vectorizer.fit_transform(X)"
   ]
  },
  {
   "cell_type": "code",
   "execution_count": null,
   "id": "proud-separate",
   "metadata": {},
   "outputs": [],
   "source": [
    "# train k-means model\n",
    "true_k = 2\n",
    "model = KMeans(n_clusters=true_k, init='k-means++', max_iter=1000, n_init=1, random_state=999)\n",
    "model.fit(X)\n",
    "\n",
    "\n",
    "print(\"Top terms per cluster:\")\n",
    "order_centroids = model.cluster_centers_.argsort()[:, ::-1]\n",
    "terms = vectorizer.get_feature_names()\n",
    "\n",
    "for i in range(true_k):\n",
    "    print(\"Cluster %d:\" % i),\n",
    "    for ind in order_centroids[i, :15]:\n",
    "        print(' %s' % terms[ind]),\n",
    "    print('\\n')\n",
    "    \n",
    "    "
   ]
  },
  {
   "cell_type": "code",
   "execution_count": null,
   "id": "original-water",
   "metadata": {},
   "outputs": [],
   "source": [
    "print(\"Predictions:\")\n",
    "samples = [\"txt us at 8787 for a free trip to hawaii!\", \n",
    "           \"I'm looking forward to when my day is over\",\n",
    "           \"Nah I don't think he goes to usf\",\n",
    "           \"for a free week of mobile service\"]\n",
    "\n",
    "# prediction\n",
    "pred = model.predict(vectorizer.transform(samples))\n",
    "print(pred)"
   ]
  },
  {
   "cell_type": "markdown",
   "id": "saving-identity",
   "metadata": {},
   "source": [
    "**kMeans Notes:**  \n",
    "\n",
    "The kMeans clustering unsupervised algorithm with two clusters comes up with an approimation of a `spam` and a `ham` cluster.  feeding in the same items from our prior tests result in the same predictions.  `#1` and `#4` predicted as `spam`, and `#2` and `#3` as `ham`.\n",
    "\n",
    "While you wouldn't use an unsupervised method when you have actual labels, it demonstrates really well how clustering, an unsupervised method, can be used on text.  It is also very useful when you have some subject matter on the text, where we know there are generally `2` labels we're looking for."
   ]
  }
 ],
 "metadata": {
  "kernelspec": {
   "display_name": "Python 3",
   "language": "python",
   "name": "python3"
  },
  "language_info": {
   "codemirror_mode": {
    "name": "ipython",
    "version": 3
   },
   "file_extension": ".py",
   "mimetype": "text/x-python",
   "name": "python",
   "nbconvert_exporter": "python",
   "pygments_lexer": "ipython3",
   "version": "3.8.8"
  },
  "toc-autonumbering": true
 },
 "nbformat": 4,
 "nbformat_minor": 5
}
