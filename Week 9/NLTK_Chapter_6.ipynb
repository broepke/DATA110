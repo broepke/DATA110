{
 "cells": [
  {
   "cell_type": "markdown",
   "id": "municipal-extraction",
   "metadata": {},
   "source": [
    "# Learning to Classify Text\n",
    "\n",
    "https://www.nltk.org/book/ch06.html"
   ]
  },
  {
   "cell_type": "code",
   "execution_count": 28,
   "id": "surrounded-panama",
   "metadata": {},
   "outputs": [],
   "source": [
    "import nltk\n",
    "from nltk import *"
   ]
  },
  {
   "cell_type": "code",
   "execution_count": 29,
   "id": "public-danger",
   "metadata": {},
   "outputs": [
    {
     "data": {
      "text/plain": [
       "{'last_letter': 'k'}"
      ]
     },
     "execution_count": 29,
     "metadata": {},
     "output_type": "execute_result"
    }
   ],
   "source": [
    "def gender_features(word):\n",
    "    return {'last_letter': word[-1]}\n",
    "gender_features('Shrek')"
   ]
  },
  {
   "cell_type": "code",
   "execution_count": 30,
   "id": "aerial-request",
   "metadata": {},
   "outputs": [],
   "source": [
    "from nltk.corpus import names\n",
    "labeled_names = ([(name, 'male') for name in names.words('male.txt')] +\n",
    "    [(name, 'female') for name in names.words('female.txt')])\n",
    "import random\n",
    "random.shuffle(labeled_names)"
   ]
  },
  {
   "cell_type": "code",
   "execution_count": 31,
   "id": "failing-david",
   "metadata": {},
   "outputs": [],
   "source": [
    "featuresets = [(gender_features(n), gender) for (n, gender) in labeled_names]\n",
    "train_set, test_set = featuresets[500:], featuresets[:500]\n"
   ]
  },
  {
   "cell_type": "code",
   "execution_count": 33,
   "id": "rolled-rogers",
   "metadata": {},
   "outputs": [
    {
     "data": {
      "text/plain": [
       "({'last_letter': 'a'}, 'female')"
      ]
     },
     "execution_count": 33,
     "metadata": {},
     "output_type": "execute_result"
    }
   ],
   "source": [
    "train_set[0]"
   ]
  },
  {
   "cell_type": "code",
   "execution_count": 34,
   "id": "greek-movie",
   "metadata": {},
   "outputs": [],
   "source": [
    "classifier = nltk.NaiveBayesClassifier.train(train_set)"
   ]
  },
  {
   "cell_type": "code",
   "execution_count": 35,
   "id": "known-store",
   "metadata": {},
   "outputs": [
    {
     "data": {
      "text/plain": [
       "'male'"
      ]
     },
     "execution_count": 35,
     "metadata": {},
     "output_type": "execute_result"
    }
   ],
   "source": [
    "classifier.classify(gender_features('Neo'))"
   ]
  },
  {
   "cell_type": "code",
   "execution_count": 36,
   "id": "assigned-october",
   "metadata": {},
   "outputs": [
    {
     "data": {
      "text/plain": [
       "'female'"
      ]
     },
     "execution_count": 36,
     "metadata": {},
     "output_type": "execute_result"
    }
   ],
   "source": [
    "classifier.classify(gender_features('Trinity'))"
   ]
  },
  {
   "cell_type": "code",
   "execution_count": 37,
   "id": "specialized-sodium",
   "metadata": {},
   "outputs": [
    {
     "name": "stdout",
     "output_type": "stream",
     "text": [
      "0.774\n"
     ]
    }
   ],
   "source": [
    "print(nltk.classify.accuracy(classifier, test_set))"
   ]
  },
  {
   "cell_type": "code",
   "execution_count": 38,
   "id": "differential-tower",
   "metadata": {},
   "outputs": [
    {
     "name": "stdout",
     "output_type": "stream",
     "text": [
      "Most Informative Features\n",
      "             last_letter = 'a'            female : male   =     36.9 : 1.0\n",
      "             last_letter = 'k'              male : female =     31.8 : 1.0\n",
      "             last_letter = 'f'              male : female =     16.7 : 1.0\n",
      "             last_letter = 'p'              male : female =     11.2 : 1.0\n",
      "             last_letter = 'v'              male : female =     10.5 : 1.0\n",
      "             last_letter = 'd'              male : female =      9.6 : 1.0\n",
      "             last_letter = 'm'              male : female =      8.3 : 1.0\n",
      "             last_letter = 'o'              male : female =      8.1 : 1.0\n",
      "             last_letter = 'r'              male : female =      6.5 : 1.0\n",
      "             last_letter = 'g'              male : female =      6.5 : 1.0\n"
     ]
    }
   ],
   "source": [
    "classifier.show_most_informative_features(10)"
   ]
  },
  {
   "cell_type": "code",
   "execution_count": 39,
   "id": "latest-letters",
   "metadata": {},
   "outputs": [],
   "source": [
    "from nltk.classify import apply_features\n",
    "train_set = apply_features(gender_features, labeled_names[500:])\n",
    "test_set = apply_features(gender_features, labeled_names[:500])"
   ]
  },
  {
   "cell_type": "code",
   "execution_count": 40,
   "id": "wound-crowd",
   "metadata": {},
   "outputs": [],
   "source": [
    "def gender_features2(name):\n",
    "    features = {}\n",
    "    features[\"first_letter\"] = name[0].lower()\n",
    "    features[\"last_letter\"] = name[-1].lower()\n",
    "    for letter in 'abcdefghijklmnopqrstuvwxyz':\n",
    "        features[\"count({})\".format(letter)] = name.lower().count(letter)\n",
    "        features[\"has({})\".format(letter)] = (letter in name.lower())\n",
    "    return features"
   ]
  },
  {
   "cell_type": "code",
   "execution_count": 41,
   "id": "suffering-despite",
   "metadata": {},
   "outputs": [
    {
     "data": {
      "text/plain": [
       "{'first_letter': 'j',\n",
       " 'last_letter': 'n',\n",
       " 'count(a)': 0,\n",
       " 'has(a)': False,\n",
       " 'count(b)': 0,\n",
       " 'has(b)': False,\n",
       " 'count(c)': 0,\n",
       " 'has(c)': False,\n",
       " 'count(d)': 0,\n",
       " 'has(d)': False,\n",
       " 'count(e)': 0,\n",
       " 'has(e)': False,\n",
       " 'count(f)': 0,\n",
       " 'has(f)': False,\n",
       " 'count(g)': 0,\n",
       " 'has(g)': False,\n",
       " 'count(h)': 1,\n",
       " 'has(h)': True,\n",
       " 'count(i)': 0,\n",
       " 'has(i)': False,\n",
       " 'count(j)': 1,\n",
       " 'has(j)': True,\n",
       " 'count(k)': 0,\n",
       " 'has(k)': False,\n",
       " 'count(l)': 0,\n",
       " 'has(l)': False,\n",
       " 'count(m)': 0,\n",
       " 'has(m)': False,\n",
       " 'count(n)': 1,\n",
       " 'has(n)': True,\n",
       " 'count(o)': 1,\n",
       " 'has(o)': True,\n",
       " 'count(p)': 0,\n",
       " 'has(p)': False,\n",
       " 'count(q)': 0,\n",
       " 'has(q)': False,\n",
       " 'count(r)': 0,\n",
       " 'has(r)': False,\n",
       " 'count(s)': 0,\n",
       " 'has(s)': False,\n",
       " 'count(t)': 0,\n",
       " 'has(t)': False,\n",
       " 'count(u)': 0,\n",
       " 'has(u)': False,\n",
       " 'count(v)': 0,\n",
       " 'has(v)': False,\n",
       " 'count(w)': 0,\n",
       " 'has(w)': False,\n",
       " 'count(x)': 0,\n",
       " 'has(x)': False,\n",
       " 'count(y)': 0,\n",
       " 'has(y)': False,\n",
       " 'count(z)': 0,\n",
       " 'has(z)': False}"
      ]
     },
     "execution_count": 41,
     "metadata": {},
     "output_type": "execute_result"
    }
   ],
   "source": [
    "gender_features2('John') "
   ]
  },
  {
   "cell_type": "code",
   "execution_count": 42,
   "id": "qualified-cooling",
   "metadata": {},
   "outputs": [
    {
     "name": "stdout",
     "output_type": "stream",
     "text": [
      "0.786\n"
     ]
    }
   ],
   "source": [
    "featuresets = [(gender_features2(n), gender) for (n, gender) in labeled_names]\n",
    "train_set, test_set = featuresets[500:], featuresets[:500]\n",
    "classifier = nltk.NaiveBayesClassifier.train(train_set)\n",
    "print(nltk.classify.accuracy(classifier, test_set))"
   ]
  },
  {
   "cell_type": "code",
   "execution_count": 43,
   "id": "compatible-gathering",
   "metadata": {},
   "outputs": [],
   "source": [
    "train_names = labeled_names[1500:]\n",
    "devtest_names = labeled_names[500:1500]\n",
    "test_names = labeled_names[:500]"
   ]
  },
  {
   "cell_type": "code",
   "execution_count": 44,
   "id": "italic-seating",
   "metadata": {},
   "outputs": [
    {
     "name": "stdout",
     "output_type": "stream",
     "text": [
      "0.773\n"
     ]
    }
   ],
   "source": [
    "train_set = [(gender_features(n), gender) for (n, gender) in train_names]\n",
    "devtest_set = [(gender_features(n), gender) for (n, gender) in devtest_names]\n",
    "test_set = [(gender_features(n), gender) for (n, gender) in test_names]\n",
    "classifier = nltk.NaiveBayesClassifier.train(train_set)\n",
    "print(nltk.classify.accuracy(classifier, devtest_set))"
   ]
  },
  {
   "cell_type": "code",
   "execution_count": 45,
   "id": "prostate-lloyd",
   "metadata": {},
   "outputs": [],
   "source": [
    "errors = []\n",
    "for (name, tag) in devtest_names:\n",
    "    guess = classifier.classify(gender_features(name))\n",
    "    if guess != tag:\n",
    "        errors.append( (tag, guess, name) )"
   ]
  },
  {
   "cell_type": "code",
   "execution_count": 46,
   "id": "practical-suspect",
   "metadata": {},
   "outputs": [
    {
     "name": "stdout",
     "output_type": "stream",
     "text": [
      "correct=female   guess=male     name=Addis                         \n",
      "correct=female   guess=male     name=Adrian                        \n",
      "correct=female   guess=male     name=Agnes                         \n",
      "correct=female   guess=male     name=Aimil                         \n",
      "correct=female   guess=male     name=Alisun                        \n",
      "correct=female   guess=male     name=Allyson                       \n",
      "correct=female   guess=male     name=Ariel                         \n",
      "correct=female   guess=male     name=Barb                          \n",
      "correct=female   guess=male     name=Bev                           \n",
      "correct=female   guess=male     name=Bidget                        \n",
      "correct=female   guess=male     name=Brett                         \n",
      "correct=female   guess=male     name=Britt                         \n",
      "correct=female   guess=male     name=Carmel                        \n",
      "correct=female   guess=male     name=Caro                          \n",
      "correct=female   guess=male     name=Carolin                       \n",
      "correct=female   guess=male     name=Carrol                        \n",
      "correct=female   guess=male     name=Caryl                         \n",
      "correct=female   guess=male     name=Cass                          \n",
      "correct=female   guess=male     name=Chandal                       \n",
      "correct=female   guess=male     name=Charis                        \n",
      "correct=female   guess=male     name=Charyl                        \n",
      "correct=female   guess=male     name=Cherilyn                      \n",
      "correct=female   guess=male     name=Christal                      \n",
      "correct=female   guess=male     name=Christan                      \n",
      "correct=female   guess=male     name=Christin                      \n",
      "correct=female   guess=male     name=Chrystal                      \n",
      "correct=female   guess=male     name=Ciel                          \n",
      "correct=female   guess=male     name=Coreen                        \n",
      "correct=female   guess=male     name=Crystal                       \n",
      "correct=female   guess=male     name=Cybal                         \n",
      "correct=female   guess=male     name=Cybel                         \n",
      "correct=female   guess=male     name=Darell                        \n",
      "correct=female   guess=male     name=Daryn                         \n",
      "correct=female   guess=male     name=Del                           \n",
      "correct=female   guess=male     name=Dell                          \n",
      "correct=female   guess=male     name=Demetris                      \n",
      "correct=female   guess=male     name=Dew                           \n",
      "correct=female   guess=male     name=Dolores                       \n",
      "correct=female   guess=male     name=Donnajean                     \n",
      "correct=female   guess=male     name=Doralin                       \n",
      "correct=female   guess=male     name=Doralynn                      \n",
      "correct=female   guess=male     name=Doris                         \n",
      "correct=female   guess=male     name=Dyann                         \n",
      "correct=female   guess=male     name=Easter                        \n",
      "correct=female   guess=male     name=Elinor                        \n",
      "correct=female   guess=male     name=Emlynn                        \n",
      "correct=female   guess=male     name=Emmalynn                      \n",
      "correct=female   guess=male     name=Ethelyn                       \n",
      "correct=female   guess=male     name=Eveleen                       \n",
      "correct=female   guess=male     name=Fanchon                       \n",
      "correct=female   guess=male     name=Gael                          \n",
      "correct=female   guess=male     name=Grethel                       \n",
      "correct=female   guess=male     name=Gwendolyn                     \n",
      "correct=female   guess=male     name=Harriott                      \n",
      "correct=female   guess=male     name=Hedvig                        \n",
      "correct=female   guess=male     name=Helen                         \n",
      "correct=female   guess=male     name=Ines                          \n",
      "correct=female   guess=male     name=Iris                          \n",
      "correct=female   guess=male     name=Jacklin                       \n",
      "correct=female   guess=male     name=Janifer                       \n",
      "correct=female   guess=male     name=Jessalin                      \n",
      "correct=female   guess=male     name=Jilleen                       \n",
      "correct=female   guess=male     name=Jillian                       \n",
      "correct=female   guess=male     name=Joann                         \n",
      "correct=female   guess=male     name=Joscelin                      \n",
      "correct=female   guess=male     name=Joselyn                       \n",
      "correct=female   guess=male     name=Jourdan                       \n",
      "correct=female   guess=male     name=Karilynn                      \n",
      "correct=female   guess=male     name=Karlen                        \n",
      "correct=female   guess=male     name=Karmen                        \n",
      "correct=female   guess=male     name=Katheryn                      \n",
      "correct=female   guess=male     name=Kym                           \n",
      "correct=female   guess=male     name=Kyrstin                       \n",
      "correct=female   guess=male     name=Leann                         \n",
      "correct=female   guess=male     name=Lin                           \n",
      "correct=female   guess=male     name=Loreen                        \n",
      "correct=female   guess=male     name=Lurleen                       \n",
      "correct=female   guess=male     name=Lynett                        \n",
      "correct=female   guess=male     name=Magdalen                      \n",
      "correct=female   guess=male     name=Margaret                      \n",
      "correct=female   guess=male     name=Margit                        \n",
      "correct=female   guess=male     name=Margo                         \n",
      "correct=female   guess=male     name=Marigold                      \n",
      "correct=female   guess=male     name=Marijo                        \n",
      "correct=female   guess=male     name=Marit                         \n",
      "correct=female   guess=male     name=Marris                        \n",
      "correct=female   guess=male     name=Maryann                       \n",
      "correct=female   guess=male     name=Mercedes                      \n",
      "correct=female   guess=male     name=Meris                         \n",
      "correct=female   guess=male     name=Merrill                       \n",
      "correct=female   guess=male     name=Nell                          \n",
      "correct=female   guess=male     name=Opal                          \n",
      "correct=female   guess=male     name=Perl                          \n",
      "correct=female   guess=male     name=Piper                         \n",
      "correct=female   guess=male     name=Rahal                         \n",
      "correct=female   guess=male     name=Rosabel                       \n",
      "correct=female   guess=male     name=Rosalynd                      \n",
      "correct=female   guess=male     name=Roslyn                        \n",
      "correct=female   guess=male     name=Shamit                        \n",
      "correct=female   guess=male     name=Shanon                        \n",
      "correct=female   guess=male     name=Shirleen                      \n",
      "correct=female   guess=male     name=Sinead                        \n",
      "correct=female   guess=male     name=Teriann                       \n",
      "correct=female   guess=male     name=Teryl                         \n",
      "correct=female   guess=male     name=Umeko                         \n",
      "correct=female   guess=male     name=Viviyan                       \n",
      "correct=female   guess=male     name=Yoshiko                       \n",
      "correct=male     guess=female   name=Aditya                        \n",
      "correct=male     guess=female   name=Ali                           \n",
      "correct=male     guess=female   name=Alix                          \n",
      "correct=male     guess=female   name=Archie                        \n",
      "correct=male     guess=female   name=Aristotle                     \n",
      "correct=male     guess=female   name=Arvie                         \n",
      "correct=male     guess=female   name=Ash                           \n",
      "correct=male     guess=female   name=Baily                         \n",
      "correct=male     guess=female   name=Barclay                       \n",
      "correct=male     guess=female   name=Barrie                        \n",
      "correct=male     guess=female   name=Barty                         \n",
      "correct=male     guess=female   name=Benjy                         \n",
      "correct=male     guess=female   name=Berkley                       \n",
      "correct=male     guess=female   name=Binky                         \n",
      "correct=male     guess=female   name=Bjorne                        \n",
      "correct=male     guess=female   name=Bradly                        \n",
      "correct=male     guess=female   name=Broddie                       \n",
      "correct=male     guess=female   name=Brodie                        \n",
      "correct=male     guess=female   name=Brody                         \n",
      "correct=male     guess=female   name=Chaddy                        \n",
      "correct=male     guess=female   name=Charlie                       \n",
      "correct=male     guess=female   name=Clarance                      \n",
      "correct=male     guess=female   name=Clive                         \n",
      "correct=male     guess=female   name=Clyde                         \n",
      "correct=male     guess=female   name=Corky                         \n",
      "correct=male     guess=female   name=Courtney                      \n",
      "correct=male     guess=female   name=Dale                          \n",
      "correct=male     guess=female   name=Darby                         \n",
      "correct=male     guess=female   name=Darcy                         \n",
      "correct=male     guess=female   name=Davey                         \n",
      "correct=male     guess=female   name=Dimitri                       \n",
      "correct=male     guess=female   name=Dominique                     \n",
      "correct=male     guess=female   name=Donny                         \n",
      "correct=male     guess=female   name=Duke                          \n",
      "correct=male     guess=female   name=Farley                        \n",
      "correct=male     guess=female   name=Filmore                       \n",
      "correct=male     guess=female   name=Gale                          \n",
      "correct=male     guess=female   name=Garth                         \n",
      "correct=male     guess=female   name=Garvy                         \n",
      "correct=male     guess=female   name=Gary                          \n",
      "correct=male     guess=female   name=Geoffry                       \n",
      "correct=male     guess=female   name=Georgie                       \n",
      "correct=male     guess=female   name=Graeme                        \n",
      "correct=male     guess=female   name=Griffith                      \n",
      "correct=male     guess=female   name=Guthrie                       \n",
      "correct=male     guess=female   name=Harley                        \n",
      "correct=male     guess=female   name=Hercule                       \n",
      "correct=male     guess=female   name=Hersh                         \n",
      "correct=male     guess=female   name=Huey                          \n",
      "correct=male     guess=female   name=Ike                           \n",
      "correct=male     guess=female   name=Ira                           \n",
      "correct=male     guess=female   name=Isa                           \n",
      "correct=male     guess=female   name=Jeramie                       \n",
      "correct=male     guess=female   name=Jere                          \n",
      "correct=male     guess=female   name=Jereme                        \n",
      "correct=male     guess=female   name=Jermaine                      \n",
      "correct=male     guess=female   name=Jerri                         \n",
      "correct=male     guess=female   name=Juanita                       \n",
      "correct=male     guess=female   name=Jude                          \n",
      "correct=male     guess=female   name=Jule                          \n",
      "correct=male     guess=female   name=Kelley                        \n",
      "correct=male     guess=female   name=Kenneth                       \n",
      "correct=male     guess=female   name=Kingsley                      \n",
      "correct=male     guess=female   name=Krishna                       \n",
      "correct=male     guess=female   name=Lazare                        \n",
      "correct=male     guess=female   name=Lemmy                         \n",
      "correct=male     guess=female   name=Lonny                         \n",
      "correct=male     guess=female   name=Louie                         \n",
      "correct=male     guess=female   name=Maurie                        \n",
      "correct=male     guess=female   name=Maurise                       \n",
      "correct=male     guess=female   name=Merry                         \n",
      "correct=male     guess=female   name=Mickie                        \n",
      "correct=male     guess=female   name=Morlee                        \n",
      "correct=male     guess=female   name=Morly                         \n",
      "correct=male     guess=female   name=Morse                         \n",
      "correct=male     guess=female   name=Munroe                        \n",
      "correct=male     guess=female   name=Murphy                        \n",
      "correct=male     guess=female   name=Obie                          \n",
      "correct=male     guess=female   name=Ole                           \n",
      "correct=male     guess=female   name=Olle                          \n",
      "correct=male     guess=female   name=Pasquale                      \n",
      "correct=male     guess=female   name=Pate                          \n",
      "correct=male     guess=female   name=Pepe                          \n",
      "correct=male     guess=female   name=Percy                         \n",
      "correct=male     guess=female   name=Perry                         \n",
      "correct=male     guess=female   name=Ramsay                        \n",
      "correct=male     guess=female   name=Rex                           \n",
      "correct=male     guess=female   name=Ritchie                       \n",
      "correct=male     guess=female   name=Robbie                        \n",
      "correct=male     guess=female   name=Roderich                      \n",
      "correct=male     guess=female   name=Rodrique                      \n",
      "correct=male     guess=female   name=Roice                         \n",
      "correct=male     guess=female   name=Sammy                         \n",
      "correct=male     guess=female   name=Sawyere                       \n",
      "correct=male     guess=female   name=Sheffie                       \n",
      "correct=male     guess=female   name=Shorty                        \n",
      "correct=male     guess=female   name=Sidney                        \n",
      "correct=male     guess=female   name=Slade                         \n",
      "correct=male     guess=female   name=Smith                         \n",
      "correct=male     guess=female   name=Tallie                        \n",
      "correct=male     guess=female   name=Tannie                        \n",
      "correct=male     guess=female   name=Tedie                         \n",
      "correct=male     guess=female   name=Thaine                        \n",
      "correct=male     guess=female   name=Tobiah                        \n",
      "correct=male     guess=female   name=Tommy                         \n",
      "correct=male     guess=female   name=Torre                         \n",
      "correct=male     guess=female   name=Trace                         \n",
      "correct=male     guess=female   name=Tracie                        \n",
      "correct=male     guess=female   name=Tremaine                      \n",
      "correct=male     guess=female   name=Ty                            \n",
      "correct=male     guess=female   name=Valentine                     \n",
      "correct=male     guess=female   name=Vassily                       \n",
      "correct=male     guess=female   name=Virge                         \n",
      "correct=male     guess=female   name=Westley                       \n",
      "correct=male     guess=female   name=Willie                        \n",
      "correct=male     guess=female   name=Yule                          \n",
      "correct=male     guess=female   name=Zacharie                      \n",
      "correct=male     guess=female   name=Zechariah                     \n",
      "correct=male     guess=female   name=Zeke                          \n",
      "correct=male     guess=female   name=Zollie                        \n"
     ]
    }
   ],
   "source": [
    "for (tag, guess, name) in sorted(errors):\n",
    "    print('correct={:<8} guess={:<8s} name={:<30}'.format(tag, guess, name))"
   ]
  },
  {
   "cell_type": "code",
   "execution_count": 26,
   "id": "unsigned-crest",
   "metadata": {},
   "outputs": [],
   "source": [
    "def gender_features(word):\n",
    "    return {'suffix1': word[-1:], 'suffix2': word[-2:]}"
   ]
  },
  {
   "cell_type": "code",
   "execution_count": 27,
   "id": "after-anthony",
   "metadata": {},
   "outputs": [
    {
     "name": "stdout",
     "output_type": "stream",
     "text": [
      "0.771\n"
     ]
    }
   ],
   "source": [
    "train_set = [(gender_features(n), gender) for (n, gender) in train_names]\n",
    "devtest_set = [(gender_features(n), gender) for (n, gender) in devtest_names]\n",
    "classifier = nltk.NaiveBayesClassifier.train(train_set)\n",
    "print(nltk.classify.accuracy(classifier, devtest_set))"
   ]
  },
  {
   "cell_type": "code",
   "execution_count": null,
   "id": "dramatic-press",
   "metadata": {},
   "outputs": [],
   "source": []
  },
  {
   "cell_type": "code",
   "execution_count": null,
   "id": "annoying-shoulder",
   "metadata": {},
   "outputs": [],
   "source": []
  },
  {
   "cell_type": "code",
   "execution_count": null,
   "id": "vocational-annotation",
   "metadata": {},
   "outputs": [],
   "source": []
  },
  {
   "cell_type": "code",
   "execution_count": null,
   "id": "entertaining-deficit",
   "metadata": {},
   "outputs": [],
   "source": []
  },
  {
   "cell_type": "code",
   "execution_count": null,
   "id": "adjacent-matter",
   "metadata": {},
   "outputs": [],
   "source": []
  },
  {
   "cell_type": "code",
   "execution_count": 47,
   "id": "medium-vision",
   "metadata": {},
   "outputs": [],
   "source": [
    "sports_sentences = [ 'The team dominated the game',\n",
    "                    'They lost the ball',\n",
    "                    'The game was intense',\n",
    "                    'The goalkeeper catched the ball',\n",
    "                    'The other team controlled the ball' ]"
   ]
  },
  {
   "cell_type": "code",
   "execution_count": 48,
   "id": "quarterly-chambers",
   "metadata": {},
   "outputs": [],
   "source": [
    "def features(sentence):\n",
    "    words = sentence.lower().split()\n",
    "    return dict(('contains(%s)' % w, True) for w in words)"
   ]
  },
  {
   "cell_type": "code",
   "execution_count": 49,
   "id": "naughty-franklin",
   "metadata": {},
   "outputs": [],
   "source": [
    "positive_featuresets = map(features, sports_sentences)"
   ]
  },
  {
   "cell_type": "code",
   "execution_count": 51,
   "id": "posted-shower",
   "metadata": {},
   "outputs": [
    {
     "data": {
      "text/plain": [
       "[{'contains(the)': True,\n",
       "  'contains(team)': True,\n",
       "  'contains(dominated)': True,\n",
       "  'contains(game)': True},\n",
       " {'contains(they)': True,\n",
       "  'contains(lost)': True,\n",
       "  'contains(the)': True,\n",
       "  'contains(ball)': True},\n",
       " {'contains(the)': True,\n",
       "  'contains(game)': True,\n",
       "  'contains(was)': True,\n",
       "  'contains(intense)': True},\n",
       " {'contains(the)': True,\n",
       "  'contains(goalkeeper)': True,\n",
       "  'contains(catched)': True,\n",
       "  'contains(ball)': True},\n",
       " {'contains(the)': True,\n",
       "  'contains(other)': True,\n",
       "  'contains(team)': True,\n",
       "  'contains(controlled)': True,\n",
       "  'contains(ball)': True}]"
      ]
     },
     "execution_count": 51,
     "metadata": {},
     "output_type": "execute_result"
    }
   ],
   "source": [
    "list(positive_featuresets)"
   ]
  },
  {
   "cell_type": "code",
   "execution_count": null,
   "id": "juvenile-indiana",
   "metadata": {},
   "outputs": [],
   "source": []
  }
 ],
 "metadata": {
  "kernelspec": {
   "display_name": "Python 3",
   "language": "python",
   "name": "python3"
  },
  "language_info": {
   "codemirror_mode": {
    "name": "ipython",
    "version": 3
   },
   "file_extension": ".py",
   "mimetype": "text/x-python",
   "name": "python",
   "nbconvert_exporter": "python",
   "pygments_lexer": "ipython3",
   "version": "3.8.8"
  },
  "toc-autonumbering": false
 },
 "nbformat": 4,
 "nbformat_minor": 5
}
