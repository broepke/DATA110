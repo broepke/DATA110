{
 "cells": [
  {
   "cell_type": "markdown",
   "id": "welsh-enclosure",
   "metadata": {},
   "source": [
    "# Week 9 Assignment: NLP Text classification\n",
    "\n",
    "Create a NLP text classifier to predict whether a text message is spam. \n",
    "\n",
    "1) Load the dataset which includes 2 fields: (text and label) where label  indicates whether the message is “spam” or \"not spam\"  (eg: ham).\n",
    "\n",
    "2) Perform basic EDA\n",
    "\n",
    "3) Perform preprocessing of text (eg: lower-case, tokenization, removal of stop words, stemming/lemmatization, etc. as needed)\n",
    "\n",
    "4) Vectorize Text (eg: BoW, TF-IDF, etc)\n",
    "\n",
    "5) Create a model, using at least 2 different ML algorithms\n",
    "    \n",
    " * Split the data into training and testing set\n",
    " * Train the model on training, then predict and assess performance on test\n",
    " * predict custom messages (eg: your own custom message, at least 3) to evaluate how well your model categorized it"
   ]
  },
  {
   "cell_type": "code",
   "execution_count": 32,
   "id": "atlantic-victory",
   "metadata": {},
   "outputs": [],
   "source": [
    "import numpy as np\n",
    "import pandas as pd\n",
    "import string\n",
    "import re\n",
    "import itertools\n",
    "import random\n",
    "\n",
    "import nltk\n",
    "from nltk.tokenize import word_tokenize\n",
    "from nltk.probability import FreqDist\n",
    "from nltk.corpus import stopwords \n",
    "from nltk.stem import PorterStemmer\n",
    "from nltk import NaiveBayesClassifier\n",
    "\n",
    "from sklearn.model_selection import train_test_split\n",
    "from sklearn.feature_extraction.text import CountVectorizer, TfidfVectorizer\n",
    "from sklearn.naive_bayes import MultinomialNB\n",
    "from sklearn import metrics \n",
    "from sklearn.utils import resample\n",
    "\n",
    "import seaborn as sns\n",
    "import matplotlib.pyplot as plt"
   ]
  },
  {
   "cell_type": "code",
   "execution_count": 2,
   "id": "transsexual-detector",
   "metadata": {},
   "outputs": [],
   "source": [
    "df = pd.read_csv(\"spam.csv\")"
   ]
  },
  {
   "cell_type": "code",
   "execution_count": 3,
   "id": "bored-terrace",
   "metadata": {},
   "outputs": [],
   "source": [
    "# Make a copy without any transformations for us with Sklearn\n",
    "df_clean = df.copy()"
   ]
  },
  {
   "cell_type": "code",
   "execution_count": 5,
   "id": "running-destiny",
   "metadata": {},
   "outputs": [],
   "source": [
    "# Add a length of text column before the cleaning\n",
    "df['length'] = df.apply(lambda row: len(row.text), axis = 1)"
   ]
  },
  {
   "cell_type": "markdown",
   "id": "specific-nomination",
   "metadata": {},
   "source": [
    "## Data Cleaning\n",
    "\n",
    "Perform the following transfermations\n",
    "\n",
    "1. Replace the output variables of `ham` and `spam` with `1` and `0`\n",
    "2. Covert all text to lowercase\n",
    "3. Remove puncutation\n",
    "4. Tokenize the words\n",
    "5. Stemm the words"
   ]
  },
  {
   "cell_type": "code",
   "execution_count": 6,
   "id": "difficult-chance",
   "metadata": {},
   "outputs": [],
   "source": [
    "# Replace the text based labels with 1 and 0\n",
    "df['label'] = df.label.map({'ham': 0, 'spam': 1})\n",
    "# Convert all to lowercase\n",
    "df['text'] = df.text.map(lambda x: x.lower())\n",
    "# Remove punctuation\n",
    "df['text'] = df.text.str.replace('[^\\w\\s]', '', regex=True)\n",
    "# Tokenize the words\n",
    "df['text'] = df['text'].apply(word_tokenize)\n",
    "# Stem the tokenized words\n",
    "stemmer = PorterStemmer() \n",
    "df['text'] = df['text'].apply(lambda x: [stemmer.stem(y) for y in x])"
   ]
  },
  {
   "cell_type": "code",
   "execution_count": 7,
   "id": "dense-algorithm",
   "metadata": {},
   "outputs": [],
   "source": [
    "# Add a length of text column\n",
    "df['tok_length'] = df.apply(lambda row: len(row.text), axis = 1)"
   ]
  },
  {
   "cell_type": "code",
   "execution_count": 8,
   "id": "greek-inspiration",
   "metadata": {},
   "outputs": [
    {
     "data": {
      "text/html": [
       "<div>\n",
       "<style scoped>\n",
       "    .dataframe tbody tr th:only-of-type {\n",
       "        vertical-align: middle;\n",
       "    }\n",
       "\n",
       "    .dataframe tbody tr th {\n",
       "        vertical-align: top;\n",
       "    }\n",
       "\n",
       "    .dataframe thead th {\n",
       "        text-align: right;\n",
       "    }\n",
       "</style>\n",
       "<table border=\"1\" class=\"dataframe\">\n",
       "  <thead>\n",
       "    <tr style=\"text-align: right;\">\n",
       "      <th></th>\n",
       "      <th>label</th>\n",
       "      <th>text</th>\n",
       "      <th>length</th>\n",
       "      <th>tok_length</th>\n",
       "    </tr>\n",
       "  </thead>\n",
       "  <tbody>\n",
       "    <tr>\n",
       "      <th>0</th>\n",
       "      <td>0</td>\n",
       "      <td>[go, until, jurong, point, crazi, avail, onli,...</td>\n",
       "      <td>111</td>\n",
       "      <td>20</td>\n",
       "    </tr>\n",
       "    <tr>\n",
       "      <th>1</th>\n",
       "      <td>0</td>\n",
       "      <td>[ok, lar, joke, wif, u, oni]</td>\n",
       "      <td>29</td>\n",
       "      <td>6</td>\n",
       "    </tr>\n",
       "    <tr>\n",
       "      <th>2</th>\n",
       "      <td>1</td>\n",
       "      <td>[free, entri, in, 2, a, wkli, comp, to, win, f...</td>\n",
       "      <td>155</td>\n",
       "      <td>28</td>\n",
       "    </tr>\n",
       "    <tr>\n",
       "      <th>3</th>\n",
       "      <td>0</td>\n",
       "      <td>[u, dun, say, so, earli, hor, u, c, alreadi, t...</td>\n",
       "      <td>49</td>\n",
       "      <td>11</td>\n",
       "    </tr>\n",
       "    <tr>\n",
       "      <th>4</th>\n",
       "      <td>0</td>\n",
       "      <td>[nah, i, dont, think, he, goe, to, usf, he, li...</td>\n",
       "      <td>61</td>\n",
       "      <td>13</td>\n",
       "    </tr>\n",
       "  </tbody>\n",
       "</table>\n",
       "</div>"
      ],
      "text/plain": [
       "   label                                               text  length  \\\n",
       "0      0  [go, until, jurong, point, crazi, avail, onli,...     111   \n",
       "1      0                       [ok, lar, joke, wif, u, oni]      29   \n",
       "2      1  [free, entri, in, 2, a, wkli, comp, to, win, f...     155   \n",
       "3      0  [u, dun, say, so, earli, hor, u, c, alreadi, t...      49   \n",
       "4      0  [nah, i, dont, think, he, goe, to, usf, he, li...      61   \n",
       "\n",
       "   tok_length  \n",
       "0          20  \n",
       "1           6  \n",
       "2          28  \n",
       "3          11  \n",
       "4          13  "
      ]
     },
     "execution_count": 8,
     "metadata": {},
     "output_type": "execute_result"
    }
   ],
   "source": [
    "df.head()"
   ]
  },
  {
   "cell_type": "code",
   "execution_count": 9,
   "id": "amber-motor",
   "metadata": {},
   "outputs": [
    {
     "data": {
      "text/html": [
       "<div>\n",
       "<style scoped>\n",
       "    .dataframe tbody tr th:only-of-type {\n",
       "        vertical-align: middle;\n",
       "    }\n",
       "\n",
       "    .dataframe tbody tr th {\n",
       "        vertical-align: top;\n",
       "    }\n",
       "\n",
       "    .dataframe thead th {\n",
       "        text-align: right;\n",
       "    }\n",
       "</style>\n",
       "<table border=\"1\" class=\"dataframe\">\n",
       "  <thead>\n",
       "    <tr style=\"text-align: right;\">\n",
       "      <th></th>\n",
       "      <th>label</th>\n",
       "      <th>text</th>\n",
       "      <th>length</th>\n",
       "      <th>tok_length</th>\n",
       "    </tr>\n",
       "  </thead>\n",
       "  <tbody>\n",
       "    <tr>\n",
       "      <th>5567</th>\n",
       "      <td>1</td>\n",
       "      <td>[thi, is, the, 2nd, time, we, have, tri, 2, co...</td>\n",
       "      <td>161</td>\n",
       "      <td>30</td>\n",
       "    </tr>\n",
       "    <tr>\n",
       "      <th>5568</th>\n",
       "      <td>0</td>\n",
       "      <td>[will, ì_, b, go, to, esplanad, fr, home]</td>\n",
       "      <td>37</td>\n",
       "      <td>8</td>\n",
       "    </tr>\n",
       "    <tr>\n",
       "      <th>5569</th>\n",
       "      <td>0</td>\n",
       "      <td>[piti, wa, in, mood, for, that, soani, other, ...</td>\n",
       "      <td>57</td>\n",
       "      <td>9</td>\n",
       "    </tr>\n",
       "    <tr>\n",
       "      <th>5570</th>\n",
       "      <td>0</td>\n",
       "      <td>[the, guy, did, some, bitch, but, i, act, like...</td>\n",
       "      <td>125</td>\n",
       "      <td>26</td>\n",
       "    </tr>\n",
       "    <tr>\n",
       "      <th>5571</th>\n",
       "      <td>0</td>\n",
       "      <td>[rofl, it, true, to, it, name]</td>\n",
       "      <td>26</td>\n",
       "      <td>6</td>\n",
       "    </tr>\n",
       "  </tbody>\n",
       "</table>\n",
       "</div>"
      ],
      "text/plain": [
       "      label                                               text  length  \\\n",
       "5567      1  [thi, is, the, 2nd, time, we, have, tri, 2, co...     161   \n",
       "5568      0          [will, ì_, b, go, to, esplanad, fr, home]      37   \n",
       "5569      0  [piti, wa, in, mood, for, that, soani, other, ...      57   \n",
       "5570      0  [the, guy, did, some, bitch, but, i, act, like...     125   \n",
       "5571      0                     [rofl, it, true, to, it, name]      26   \n",
       "\n",
       "      tok_length  \n",
       "5567          30  \n",
       "5568           8  \n",
       "5569           9  \n",
       "5570          26  \n",
       "5571           6  "
      ]
     },
     "execution_count": 9,
     "metadata": {},
     "output_type": "execute_result"
    }
   ],
   "source": [
    "df.tail()"
   ]
  },
  {
   "cell_type": "code",
   "execution_count": 10,
   "id": "complete-treasury",
   "metadata": {},
   "outputs": [
    {
     "name": "stdout",
     "output_type": "stream",
     "text": [
      "<class 'pandas.core.frame.DataFrame'>\n",
      "RangeIndex: 5572 entries, 0 to 5571\n",
      "Data columns (total 4 columns):\n",
      " #   Column      Non-Null Count  Dtype \n",
      "---  ------      --------------  ----- \n",
      " 0   label       5572 non-null   int64 \n",
      " 1   text        5572 non-null   object\n",
      " 2   length      5572 non-null   int64 \n",
      " 3   tok_length  5572 non-null   int64 \n",
      "dtypes: int64(3), object(1)\n",
      "memory usage: 174.2+ KB\n"
     ]
    }
   ],
   "source": [
    "df.info()"
   ]
  },
  {
   "cell_type": "code",
   "execution_count": 11,
   "id": "congressional-coach",
   "metadata": {},
   "outputs": [
    {
     "data": {
      "text/html": [
       "<div>\n",
       "<style scoped>\n",
       "    .dataframe tbody tr th:only-of-type {\n",
       "        vertical-align: middle;\n",
       "    }\n",
       "\n",
       "    .dataframe tbody tr th {\n",
       "        vertical-align: top;\n",
       "    }\n",
       "\n",
       "    .dataframe thead th {\n",
       "        text-align: right;\n",
       "    }\n",
       "</style>\n",
       "<table border=\"1\" class=\"dataframe\">\n",
       "  <thead>\n",
       "    <tr style=\"text-align: right;\">\n",
       "      <th></th>\n",
       "      <th>label</th>\n",
       "      <th>length</th>\n",
       "      <th>tok_length</th>\n",
       "    </tr>\n",
       "  </thead>\n",
       "  <tbody>\n",
       "    <tr>\n",
       "      <th>count</th>\n",
       "      <td>5572.000000</td>\n",
       "      <td>5572.000000</td>\n",
       "      <td>5572.000000</td>\n",
       "    </tr>\n",
       "    <tr>\n",
       "      <th>mean</th>\n",
       "      <td>0.134063</td>\n",
       "      <td>80.118808</td>\n",
       "      <td>15.297559</td>\n",
       "    </tr>\n",
       "    <tr>\n",
       "      <th>std</th>\n",
       "      <td>0.340751</td>\n",
       "      <td>59.690841</td>\n",
       "      <td>11.089433</td>\n",
       "    </tr>\n",
       "    <tr>\n",
       "      <th>min</th>\n",
       "      <td>0.000000</td>\n",
       "      <td>2.000000</td>\n",
       "      <td>0.000000</td>\n",
       "    </tr>\n",
       "    <tr>\n",
       "      <th>25%</th>\n",
       "      <td>0.000000</td>\n",
       "      <td>36.000000</td>\n",
       "      <td>7.000000</td>\n",
       "    </tr>\n",
       "    <tr>\n",
       "      <th>50%</th>\n",
       "      <td>0.000000</td>\n",
       "      <td>61.000000</td>\n",
       "      <td>12.000000</td>\n",
       "    </tr>\n",
       "    <tr>\n",
       "      <th>75%</th>\n",
       "      <td>0.000000</td>\n",
       "      <td>121.000000</td>\n",
       "      <td>22.000000</td>\n",
       "    </tr>\n",
       "    <tr>\n",
       "      <th>max</th>\n",
       "      <td>1.000000</td>\n",
       "      <td>910.000000</td>\n",
       "      <td>171.000000</td>\n",
       "    </tr>\n",
       "  </tbody>\n",
       "</table>\n",
       "</div>"
      ],
      "text/plain": [
       "             label       length   tok_length\n",
       "count  5572.000000  5572.000000  5572.000000\n",
       "mean      0.134063    80.118808    15.297559\n",
       "std       0.340751    59.690841    11.089433\n",
       "min       0.000000     2.000000     0.000000\n",
       "25%       0.000000    36.000000     7.000000\n",
       "50%       0.000000    61.000000    12.000000\n",
       "75%       0.000000   121.000000    22.000000\n",
       "max       1.000000   910.000000   171.000000"
      ]
     },
     "execution_count": 11,
     "metadata": {},
     "output_type": "execute_result"
    }
   ],
   "source": [
    "df.describe()"
   ]
  },
  {
   "cell_type": "code",
   "execution_count": 12,
   "id": "atomic-anaheim",
   "metadata": {},
   "outputs": [
    {
     "data": {
      "image/png": "[encoded data removed]",
      "text/plain": [
       "<Figure size 432x288 with 1 Axes>"
      ]
     },
     "metadata": {
      "needs_background": "light"
     },
     "output_type": "display_data"
    }
   ],
   "source": [
    "sns.countplot(x=df['label'], palette=\"tab20c\");"
   ]
  },
  {
   "cell_type": "code",
   "execution_count": 13,
   "id": "swiss-central",
   "metadata": {},
   "outputs": [
    {
     "data": {
      "image/png": "[encoded data removed]",
      "text/plain": [
       "<Figure size 720x360 with 1 Axes>"
      ]
     },
     "metadata": {
      "needs_background": "light"
     },
     "output_type": "display_data"
    }
   ],
   "source": [
    "plt.figure(figsize=(10, 5))\n",
    "sns.histplot(df, x='length', kde=True, palette=\"tab20c\");"
   ]
  },
  {
   "cell_type": "code",
   "execution_count": 17,
   "id": "nasty-fifty",
   "metadata": {},
   "outputs": [
    {
     "data": {
      "image/png": "[encoded data removed]",
      "text/plain": [
       "<Figure size 720x360 with 1 Axes>"
      ]
     },
     "metadata": {
      "needs_background": "light"
     },
     "output_type": "display_data"
    }
   ],
   "source": [
    "plt.figure(figsize=(10, 5))\n",
    "sns.histplot(df, x='tok_length', kde=True, palette=\"tab10\");"
   ]
  },
  {
   "cell_type": "code",
   "execution_count": 21,
   "id": "owned-annual",
   "metadata": {},
   "outputs": [
    {
     "data": {
      "image/png": "[encoded data removed]",
      "text/plain": [
       "<Figure size 720x360 with 1 Axes>"
      ]
     },
     "metadata": {
      "needs_background": "light"
     },
     "output_type": "display_data"
    }
   ],
   "source": [
    "plt.figure(figsize=(10, 5))\n",
    "sns.boxplot(data=df[['length', 'tok_length']], palette=\"tab20c\");"
   ]
  },
  {
   "cell_type": "code",
   "execution_count": 23,
   "id": "french-console",
   "metadata": {},
   "outputs": [
    {
     "data": {
      "text/html": [
       "<div>\n",
       "<style scoped>\n",
       "    .dataframe tbody tr th:only-of-type {\n",
       "        vertical-align: middle;\n",
       "    }\n",
       "\n",
       "    .dataframe tbody tr th {\n",
       "        vertical-align: top;\n",
       "    }\n",
       "\n",
       "    .dataframe thead th {\n",
       "        text-align: right;\n",
       "    }\n",
       "</style>\n",
       "<table border=\"1\" class=\"dataframe\">\n",
       "  <thead>\n",
       "    <tr style=\"text-align: right;\">\n",
       "      <th></th>\n",
       "      <th>text</th>\n",
       "      <th>label</th>\n",
       "    </tr>\n",
       "  </thead>\n",
       "  <tbody>\n",
       "    <tr>\n",
       "      <th>0</th>\n",
       "      <td>[go, until, jurong, point, crazi, avail, onli,...</td>\n",
       "      <td>0</td>\n",
       "    </tr>\n",
       "    <tr>\n",
       "      <th>1</th>\n",
       "      <td>[ok, lar, joke, wif, u, oni]</td>\n",
       "      <td>0</td>\n",
       "    </tr>\n",
       "    <tr>\n",
       "      <th>2</th>\n",
       "      <td>[free, entri, in, 2, a, wkli, comp, to, win, f...</td>\n",
       "      <td>1</td>\n",
       "    </tr>\n",
       "    <tr>\n",
       "      <th>3</th>\n",
       "      <td>[u, dun, say, so, earli, hor, u, c, alreadi, t...</td>\n",
       "      <td>0</td>\n",
       "    </tr>\n",
       "    <tr>\n",
       "      <th>4</th>\n",
       "      <td>[nah, i, dont, think, he, goe, to, usf, he, li...</td>\n",
       "      <td>0</td>\n",
       "    </tr>\n",
       "    <tr>\n",
       "      <th>...</th>\n",
       "      <td>...</td>\n",
       "      <td>...</td>\n",
       "    </tr>\n",
       "    <tr>\n",
       "      <th>5567</th>\n",
       "      <td>[thi, is, the, 2nd, time, we, have, tri, 2, co...</td>\n",
       "      <td>1</td>\n",
       "    </tr>\n",
       "    <tr>\n",
       "      <th>5568</th>\n",
       "      <td>[will, ì_, b, go, to, esplanad, fr, home]</td>\n",
       "      <td>0</td>\n",
       "    </tr>\n",
       "    <tr>\n",
       "      <th>5569</th>\n",
       "      <td>[piti, wa, in, mood, for, that, soani, other, ...</td>\n",
       "      <td>0</td>\n",
       "    </tr>\n",
       "    <tr>\n",
       "      <th>5570</th>\n",
       "      <td>[the, guy, did, some, bitch, but, i, act, like...</td>\n",
       "      <td>0</td>\n",
       "    </tr>\n",
       "    <tr>\n",
       "      <th>5571</th>\n",
       "      <td>[rofl, it, true, to, it, name]</td>\n",
       "      <td>0</td>\n",
       "    </tr>\n",
       "  </tbody>\n",
       "</table>\n",
       "<p>5572 rows × 2 columns</p>\n",
       "</div>"
      ],
      "text/plain": [
       "                                                   text  label\n",
       "0     [go, until, jurong, point, crazi, avail, onli,...      0\n",
       "1                          [ok, lar, joke, wif, u, oni]      0\n",
       "2     [free, entri, in, 2, a, wkli, comp, to, win, f...      1\n",
       "3     [u, dun, say, so, earli, hor, u, c, alreadi, t...      0\n",
       "4     [nah, i, dont, think, he, goe, to, usf, he, li...      0\n",
       "...                                                 ...    ...\n",
       "5567  [thi, is, the, 2nd, time, we, have, tri, 2, co...      1\n",
       "5568          [will, ì_, b, go, to, esplanad, fr, home]      0\n",
       "5569  [piti, wa, in, mood, for, that, soani, other, ...      0\n",
       "5570  [the, guy, did, some, bitch, but, i, act, like...      0\n",
       "5571                     [rofl, it, true, to, it, name]      0\n",
       "\n",
       "[5572 rows x 2 columns]"
      ]
     },
     "execution_count": 23,
     "metadata": {},
     "output_type": "execute_result"
    }
   ],
   "source": [
    "# Change the order of the columns and remove anything we don't need post analysis.\n",
    "df = df[['text', 'label']].copy()\n",
    "df"
   ]
  },
  {
   "cell_type": "markdown",
   "id": "worst-salad",
   "metadata": {},
   "source": [
    "## NLTK Version"
   ]
  },
  {
   "cell_type": "code",
   "execution_count": 24,
   "id": "considered-response",
   "metadata": {},
   "outputs": [],
   "source": [
    "# build a bad of words...\n",
    "def build_bag_of_words_features(words):\n",
    "    return {word:1 for word in words}"
   ]
  },
  {
   "cell_type": "code",
   "execution_count": 25,
   "id": "basic-trunk",
   "metadata": {},
   "outputs": [
    {
     "name": "stdout",
     "output_type": "stream",
     "text": [
      "({'go': 1, 'until': 1, 'jurong': 1, 'point': 1, 'crazi': 1, 'avail': 1, 'onli': 1, 'in': 1, 'bugi': 1, 'n': 1, 'great': 1, 'world': 1, 'la': 1, 'e': 1, 'buffet': 1, 'cine': 1, 'there': 1, 'got': 1, 'amor': 1, 'wat': 1}, 'ham')\n",
      "({'ok': 1, 'lar': 1, 'joke': 1, 'wif': 1, 'u': 1, 'oni': 1}, 'ham')\n"
     ]
    }
   ],
   "source": [
    "# Extract only Ham\n",
    "df_ham = df[df['label'] == 0]\n",
    "\n",
    "# builds a list of positive reviews words/features with stop words and punction removed\n",
    "ham_features = [(build_bag_of_words_features(x), 'ham')\n",
    "               for x in df_ham['text']]\n",
    "\n",
    "print(ham_features[0])\n",
    "print(ham_features[1])"
   ]
  },
  {
   "cell_type": "code",
   "execution_count": 26,
   "id": "matched-adams",
   "metadata": {},
   "outputs": [
    {
     "data": {
      "text/plain": [
       "4825"
      ]
     },
     "execution_count": 26,
     "metadata": {},
     "output_type": "execute_result"
    }
   ],
   "source": [
    "len(ham_features)"
   ]
  },
  {
   "cell_type": "code",
   "execution_count": 27,
   "id": "electoral-essay",
   "metadata": {},
   "outputs": [
    {
     "name": "stdout",
     "output_type": "stream",
     "text": [
      "({'free': 1, 'entri': 1, 'in': 1, '2': 1, 'a': 1, 'wkli': 1, 'comp': 1, 'to': 1, 'win': 1, 'fa': 1, 'cup': 1, 'final': 1, 'tkt': 1, '21st': 1, 'may': 1, '2005': 1, 'text': 1, '87121': 1, 'receiv': 1, 'questionstd': 1, 'txt': 1, 'ratetc': 1, 'appli': 1, '08452810075over18': 1}, 'spam')\n",
      "({'freemsg': 1, 'hey': 1, 'there': 1, 'darl': 1, 'it': 1, 'been': 1, '3': 1, 'week': 1, 'now': 1, 'and': 1, 'no': 1, 'word': 1, 'back': 1, 'id': 1, 'like': 1, 'some': 1, 'fun': 1, 'you': 1, 'up': 1, 'for': 1, 'still': 1, 'tb': 1, 'ok': 1, 'xxx': 1, 'std': 1, 'chg': 1, 'to': 1, 'send': 1, 'å150': 1, 'rcv': 1}, 'spam')\n"
     ]
    }
   ],
   "source": [
    "# Extract only SPAM\n",
    "df_spam = df[df['label'] == 1]\n",
    "\n",
    "# builds a list of negative reviews words/features with stop words and punction removed\n",
    "spam_features = [(build_bag_of_words_features(x), 'spam')\n",
    "                 for x in df_spam['text']]\n",
    "\n",
    "print(spam_features[0])\n",
    "print(spam_features[1])"
   ]
  },
  {
   "cell_type": "code",
   "execution_count": 28,
   "id": "dirty-worst",
   "metadata": {},
   "outputs": [
    {
     "data": {
      "text/plain": [
       "747"
      ]
     },
     "execution_count": 28,
     "metadata": {},
     "output_type": "execute_result"
    }
   ],
   "source": [
    "len(spam_features)"
   ]
  },
  {
   "cell_type": "code",
   "execution_count": 43,
   "id": "tired-senator",
   "metadata": {},
   "outputs": [],
   "source": [
    "split = 500\n",
    "\n",
    "# split, train, test \n",
    "\n",
    "# first 300 for training\n",
    "train = ham_features[:split] + spam_features[:split]\n",
    "random.shuffle(train)\n",
    "\n",
    "sent_classifier = NaiveBayesClassifier.train(train)"
   ]
  },
  {
   "cell_type": "code",
   "execution_count": 44,
   "id": "monthly-mainstream",
   "metadata": {},
   "outputs": [
    {
     "name": "stdout",
     "output_type": "stream",
     "text": [
      "num features for train:  1000\n"
     ]
    },
    {
     "data": {
      "text/plain": [
       "97.5"
      ]
     },
     "execution_count": 44,
     "metadata": {},
     "output_type": "execute_result"
    }
   ],
   "source": [
    "print('num features for train: ', len(train))\n",
    "\n",
    "nltk.classify.util.accuracy(sent_classifier, train)*100"
   ]
  },
  {
   "cell_type": "code",
   "execution_count": 45,
   "id": "logical-flash",
   "metadata": {},
   "outputs": [
    {
     "name": "stdout",
     "output_type": "stream",
     "text": [
      "num features for test:  4572\n"
     ]
    },
    {
     "data": {
      "text/plain": [
       "88.18897637795276"
      ]
     },
     "execution_count": 45,
     "metadata": {},
     "output_type": "execute_result"
    }
   ],
   "source": [
    "# remaining for test\n",
    "test = ham_features[split:] + spam_features[split:]\n",
    "\n",
    "print('num features for test: ', len(test))\n",
    "\n",
    "nltk.classify.util.accuracy(sent_classifier, test)*100"
   ]
  },
  {
   "cell_type": "code",
   "execution_count": 46,
   "id": "insured-armor",
   "metadata": {},
   "outputs": [
    {
     "name": "stdout",
     "output_type": "stream",
     "text": [
      "Most Informative Features\n",
      "                     txt = 1                spam : ham    =     47.0 : 1.0\n",
      "                   award = 1                spam : ham    =     25.7 : 1.0\n",
      "                  custom = 1                spam : ham    =     21.7 : 1.0\n",
      "                    chat = 1                spam : ham    =     19.7 : 1.0\n",
      "                    draw = 1                spam : ham    =     18.3 : 1.0\n",
      "                     ill = 1                 ham : spam   =     17.7 : 1.0\n",
      "                    cash = 1                spam : ham    =     17.0 : 1.0\n",
      "                    line = 1                spam : ham    =     17.0 : 1.0\n",
      "                 contact = 1                spam : ham    =     15.8 : 1.0\n",
      "                   chanc = 1                spam : ham    =     15.7 : 1.0\n"
     ]
    }
   ],
   "source": [
    "sent_classifier.show_most_informative_features()"
   ]
  },
  {
   "cell_type": "markdown",
   "id": "minor-holder",
   "metadata": {},
   "source": [
    "### Test with Custom Data"
   ]
  },
  {
   "cell_type": "code",
   "execution_count": 47,
   "id": "incorporate-committee",
   "metadata": {},
   "outputs": [
    {
     "data": {
      "text/plain": [
       "3422"
      ]
     },
     "execution_count": 47,
     "metadata": {},
     "output_type": "execute_result"
    }
   ],
   "source": [
    "# get the training vocabulary\n",
    "train_vocab = set()\n",
    "\n",
    "for t in train:\n",
    "    vocabDict = t[0]\n",
    "    for key in vocabDict.keys():\n",
    "      train_vocab.add(key)\n",
    "len(train_vocab)"
   ]
  },
  {
   "cell_type": "code",
   "execution_count": 48,
   "id": "negative-album",
   "metadata": {},
   "outputs": [
    {
     "name": "stdout",
     "output_type": "stream",
     "text": [
      "txt us at 8787 for a free trip to hawaii!  :  spam\n",
      "I'm looking forward to when my day is over  :  ham\n",
      "for a free week of mobile service  :  spam\n"
     ]
    }
   ],
   "source": [
    "from nltk.tokenize import word_tokenize\n",
    "\n",
    "docs=[\"txt us at 8787 for a free trip to hawaii!\", \n",
    "    \"I'm looking forward to when my day is over\", \n",
    "    \"for a free week of mobile service\"]\n",
    "\n",
    "for doc in docs:\n",
    "     t_features = {word: (word in word_tokenize(doc.lower())) for word in train_vocab}\n",
    "     print(doc,\" : \", sent_classifier.classify(t_features)) "
   ]
  },
  {
   "cell_type": "markdown",
   "id": "dominican-customs",
   "metadata": {},
   "source": [
    "# Scikit Learn Version"
   ]
  },
  {
   "cell_type": "code",
   "execution_count": 49,
   "id": "hazardous-gateway",
   "metadata": {},
   "outputs": [],
   "source": [
    "df = df_clean.copy()\n",
    "\n",
    "# Set `y` \n",
    "y = df.label \n",
    "\n",
    "# Drop the `label` column\n",
    "df.drop(\"label\", axis=1)\n",
    "\n",
    "# Make training and test sets \n",
    "X_train, X_test, y_train, y_test = train_test_split(df['text'], y, test_size=0.33, random_state=53)"
   ]
  },
  {
   "cell_type": "code",
   "execution_count": 50,
   "id": "acting-johns",
   "metadata": {},
   "outputs": [
    {
     "name": "stdout",
     "output_type": "stream",
     "text": [
      "(3733,)\n",
      "(3733,)\n"
     ]
    }
   ],
   "source": [
    "print(y_train.shape)\n",
    "print(X_train.shape)"
   ]
  },
  {
   "cell_type": "markdown",
   "id": "unable-market",
   "metadata": {},
   "source": [
    "## Models on Original Dataset"
   ]
  },
  {
   "cell_type": "code",
   "execution_count": 51,
   "id": "processed-growth",
   "metadata": {},
   "outputs": [],
   "source": [
    "# Initialize the `count_vectorizer` \n",
    "count_vectorizer = CountVectorizer(stop_words='english', strip_accents='unicode')\n",
    "\n",
    "# Fit and transform the training data \n",
    "count_train = count_vectorizer.fit_transform(X_train) \n",
    "\n",
    "# Transform the test set \n",
    "count_test = count_vectorizer.transform(X_test)"
   ]
  },
  {
   "cell_type": "code",
   "execution_count": 52,
   "id": "equivalent-youth",
   "metadata": {},
   "outputs": [],
   "source": [
    "# Initialize the `tfidf_vectorizer` \n",
    "tfidf_vectorizer = TfidfVectorizer(stop_words='english', max_df=0.7, strip_accents='unicode') \n",
    "\n",
    "# Fit and transform the training data \n",
    "tfidf_train = tfidf_vectorizer.fit_transform(X_train) \n",
    "\n",
    "# Transform the test set \n",
    "tfidf_test = tfidf_vectorizer.transform(X_test)"
   ]
  },
  {
   "cell_type": "code",
   "execution_count": 53,
   "id": "otherwise-argument",
   "metadata": {},
   "outputs": [
    {
     "name": "stdout",
     "output_type": "stream",
     "text": [
      "['yuo', 'yuou', 'yup', 'yupz', 'zebra', 'zed', 'zeros', 'zhong', 'zoe', 'zogtorius']\n",
      "['00', '000', '008704050406', '0089', '01223585236', '01223585334', '0125698789', '02', '0207', '02072069400']\n"
     ]
    }
   ],
   "source": [
    "# Get the feature names of `tfidf_vectorizer` \n",
    "print(tfidf_vectorizer.get_feature_names()[-10:])\n",
    "\n",
    "# Get the feature names of `count_vectorizer` \n",
    "print(count_vectorizer.get_feature_names()[:10])"
   ]
  },
  {
   "cell_type": "code",
   "execution_count": 54,
   "id": "cognitive-aspect",
   "metadata": {},
   "outputs": [
    {
     "data": {
      "text/html": [
       "<div>\n",
       "<style scoped>\n",
       "    .dataframe tbody tr th:only-of-type {\n",
       "        vertical-align: middle;\n",
       "    }\n",
       "\n",
       "    .dataframe tbody tr th {\n",
       "        vertical-align: top;\n",
       "    }\n",
       "\n",
       "    .dataframe thead th {\n",
       "        text-align: right;\n",
       "    }\n",
       "</style>\n",
       "<table border=\"1\" class=\"dataframe\">\n",
       "  <thead>\n",
       "    <tr style=\"text-align: right;\">\n",
       "      <th></th>\n",
       "      <th>00</th>\n",
       "      <th>000</th>\n",
       "      <th>008704050406</th>\n",
       "      <th>0089</th>\n",
       "      <th>01223585236</th>\n",
       "      <th>01223585334</th>\n",
       "      <th>0125698789</th>\n",
       "      <th>02</th>\n",
       "      <th>0207</th>\n",
       "      <th>02072069400</th>\n",
       "      <th>...</th>\n",
       "      <th>yuo</th>\n",
       "      <th>yuou</th>\n",
       "      <th>yup</th>\n",
       "      <th>yupz</th>\n",
       "      <th>zebra</th>\n",
       "      <th>zed</th>\n",
       "      <th>zeros</th>\n",
       "      <th>zhong</th>\n",
       "      <th>zoe</th>\n",
       "      <th>zogtorius</th>\n",
       "    </tr>\n",
       "  </thead>\n",
       "  <tbody>\n",
       "    <tr>\n",
       "      <th>0</th>\n",
       "      <td>0</td>\n",
       "      <td>0</td>\n",
       "      <td>0</td>\n",
       "      <td>0</td>\n",
       "      <td>0</td>\n",
       "      <td>0</td>\n",
       "      <td>0</td>\n",
       "      <td>0</td>\n",
       "      <td>0</td>\n",
       "      <td>0</td>\n",
       "      <td>...</td>\n",
       "      <td>0</td>\n",
       "      <td>0</td>\n",
       "      <td>0</td>\n",
       "      <td>0</td>\n",
       "      <td>0</td>\n",
       "      <td>0</td>\n",
       "      <td>0</td>\n",
       "      <td>0</td>\n",
       "      <td>0</td>\n",
       "      <td>0</td>\n",
       "    </tr>\n",
       "    <tr>\n",
       "      <th>1</th>\n",
       "      <td>0</td>\n",
       "      <td>0</td>\n",
       "      <td>0</td>\n",
       "      <td>0</td>\n",
       "      <td>0</td>\n",
       "      <td>0</td>\n",
       "      <td>0</td>\n",
       "      <td>0</td>\n",
       "      <td>0</td>\n",
       "      <td>0</td>\n",
       "      <td>...</td>\n",
       "      <td>0</td>\n",
       "      <td>0</td>\n",
       "      <td>0</td>\n",
       "      <td>0</td>\n",
       "      <td>0</td>\n",
       "      <td>0</td>\n",
       "      <td>0</td>\n",
       "      <td>0</td>\n",
       "      <td>0</td>\n",
       "      <td>0</td>\n",
       "    </tr>\n",
       "    <tr>\n",
       "      <th>2</th>\n",
       "      <td>0</td>\n",
       "      <td>0</td>\n",
       "      <td>0</td>\n",
       "      <td>0</td>\n",
       "      <td>0</td>\n",
       "      <td>0</td>\n",
       "      <td>0</td>\n",
       "      <td>0</td>\n",
       "      <td>0</td>\n",
       "      <td>0</td>\n",
       "      <td>...</td>\n",
       "      <td>0</td>\n",
       "      <td>0</td>\n",
       "      <td>0</td>\n",
       "      <td>0</td>\n",
       "      <td>0</td>\n",
       "      <td>0</td>\n",
       "      <td>0</td>\n",
       "      <td>0</td>\n",
       "      <td>0</td>\n",
       "      <td>0</td>\n",
       "    </tr>\n",
       "    <tr>\n",
       "      <th>3</th>\n",
       "      <td>0</td>\n",
       "      <td>0</td>\n",
       "      <td>0</td>\n",
       "      <td>0</td>\n",
       "      <td>0</td>\n",
       "      <td>0</td>\n",
       "      <td>0</td>\n",
       "      <td>0</td>\n",
       "      <td>0</td>\n",
       "      <td>0</td>\n",
       "      <td>...</td>\n",
       "      <td>0</td>\n",
       "      <td>0</td>\n",
       "      <td>0</td>\n",
       "      <td>0</td>\n",
       "      <td>0</td>\n",
       "      <td>0</td>\n",
       "      <td>0</td>\n",
       "      <td>0</td>\n",
       "      <td>0</td>\n",
       "      <td>0</td>\n",
       "    </tr>\n",
       "    <tr>\n",
       "      <th>4</th>\n",
       "      <td>0</td>\n",
       "      <td>0</td>\n",
       "      <td>0</td>\n",
       "      <td>0</td>\n",
       "      <td>0</td>\n",
       "      <td>0</td>\n",
       "      <td>0</td>\n",
       "      <td>0</td>\n",
       "      <td>0</td>\n",
       "      <td>0</td>\n",
       "      <td>...</td>\n",
       "      <td>0</td>\n",
       "      <td>0</td>\n",
       "      <td>0</td>\n",
       "      <td>0</td>\n",
       "      <td>0</td>\n",
       "      <td>0</td>\n",
       "      <td>0</td>\n",
       "      <td>0</td>\n",
       "      <td>0</td>\n",
       "      <td>0</td>\n",
       "    </tr>\n",
       "    <tr>\n",
       "      <th>...</th>\n",
       "      <td>...</td>\n",
       "      <td>...</td>\n",
       "      <td>...</td>\n",
       "      <td>...</td>\n",
       "      <td>...</td>\n",
       "      <td>...</td>\n",
       "      <td>...</td>\n",
       "      <td>...</td>\n",
       "      <td>...</td>\n",
       "      <td>...</td>\n",
       "      <td>...</td>\n",
       "      <td>...</td>\n",
       "      <td>...</td>\n",
       "      <td>...</td>\n",
       "      <td>...</td>\n",
       "      <td>...</td>\n",
       "      <td>...</td>\n",
       "      <td>...</td>\n",
       "      <td>...</td>\n",
       "      <td>...</td>\n",
       "      <td>...</td>\n",
       "    </tr>\n",
       "    <tr>\n",
       "      <th>3728</th>\n",
       "      <td>0</td>\n",
       "      <td>0</td>\n",
       "      <td>0</td>\n",
       "      <td>0</td>\n",
       "      <td>0</td>\n",
       "      <td>0</td>\n",
       "      <td>0</td>\n",
       "      <td>0</td>\n",
       "      <td>0</td>\n",
       "      <td>0</td>\n",
       "      <td>...</td>\n",
       "      <td>0</td>\n",
       "      <td>0</td>\n",
       "      <td>0</td>\n",
       "      <td>0</td>\n",
       "      <td>0</td>\n",
       "      <td>0</td>\n",
       "      <td>0</td>\n",
       "      <td>0</td>\n",
       "      <td>0</td>\n",
       "      <td>0</td>\n",
       "    </tr>\n",
       "    <tr>\n",
       "      <th>3729</th>\n",
       "      <td>0</td>\n",
       "      <td>0</td>\n",
       "      <td>0</td>\n",
       "      <td>0</td>\n",
       "      <td>0</td>\n",
       "      <td>0</td>\n",
       "      <td>0</td>\n",
       "      <td>0</td>\n",
       "      <td>0</td>\n",
       "      <td>0</td>\n",
       "      <td>...</td>\n",
       "      <td>0</td>\n",
       "      <td>0</td>\n",
       "      <td>0</td>\n",
       "      <td>0</td>\n",
       "      <td>0</td>\n",
       "      <td>0</td>\n",
       "      <td>0</td>\n",
       "      <td>0</td>\n",
       "      <td>0</td>\n",
       "      <td>0</td>\n",
       "    </tr>\n",
       "    <tr>\n",
       "      <th>3730</th>\n",
       "      <td>0</td>\n",
       "      <td>0</td>\n",
       "      <td>0</td>\n",
       "      <td>0</td>\n",
       "      <td>0</td>\n",
       "      <td>0</td>\n",
       "      <td>0</td>\n",
       "      <td>0</td>\n",
       "      <td>0</td>\n",
       "      <td>0</td>\n",
       "      <td>...</td>\n",
       "      <td>0</td>\n",
       "      <td>0</td>\n",
       "      <td>0</td>\n",
       "      <td>0</td>\n",
       "      <td>0</td>\n",
       "      <td>0</td>\n",
       "      <td>0</td>\n",
       "      <td>0</td>\n",
       "      <td>0</td>\n",
       "      <td>0</td>\n",
       "    </tr>\n",
       "    <tr>\n",
       "      <th>3731</th>\n",
       "      <td>0</td>\n",
       "      <td>0</td>\n",
       "      <td>0</td>\n",
       "      <td>0</td>\n",
       "      <td>0</td>\n",
       "      <td>0</td>\n",
       "      <td>0</td>\n",
       "      <td>0</td>\n",
       "      <td>0</td>\n",
       "      <td>0</td>\n",
       "      <td>...</td>\n",
       "      <td>0</td>\n",
       "      <td>0</td>\n",
       "      <td>1</td>\n",
       "      <td>0</td>\n",
       "      <td>0</td>\n",
       "      <td>0</td>\n",
       "      <td>0</td>\n",
       "      <td>0</td>\n",
       "      <td>0</td>\n",
       "      <td>0</td>\n",
       "    </tr>\n",
       "    <tr>\n",
       "      <th>3732</th>\n",
       "      <td>0</td>\n",
       "      <td>0</td>\n",
       "      <td>0</td>\n",
       "      <td>0</td>\n",
       "      <td>0</td>\n",
       "      <td>0</td>\n",
       "      <td>0</td>\n",
       "      <td>0</td>\n",
       "      <td>0</td>\n",
       "      <td>0</td>\n",
       "      <td>...</td>\n",
       "      <td>0</td>\n",
       "      <td>0</td>\n",
       "      <td>0</td>\n",
       "      <td>0</td>\n",
       "      <td>0</td>\n",
       "      <td>0</td>\n",
       "      <td>0</td>\n",
       "      <td>0</td>\n",
       "      <td>0</td>\n",
       "      <td>0</td>\n",
       "    </tr>\n",
       "  </tbody>\n",
       "</table>\n",
       "<p>3733 rows × 6744 columns</p>\n",
       "</div>"
      ],
      "text/plain": [
       "      00  000  008704050406  0089  01223585236  01223585334  0125698789  02  \\\n",
       "0      0    0             0     0            0            0           0   0   \n",
       "1      0    0             0     0            0            0           0   0   \n",
       "2      0    0             0     0            0            0           0   0   \n",
       "3      0    0             0     0            0            0           0   0   \n",
       "4      0    0             0     0            0            0           0   0   \n",
       "...   ..  ...           ...   ...          ...          ...         ...  ..   \n",
       "3728   0    0             0     0            0            0           0   0   \n",
       "3729   0    0             0     0            0            0           0   0   \n",
       "3730   0    0             0     0            0            0           0   0   \n",
       "3731   0    0             0     0            0            0           0   0   \n",
       "3732   0    0             0     0            0            0           0   0   \n",
       "\n",
       "      0207  02072069400  ...  yuo  yuou  yup  yupz  zebra  zed  zeros  zhong  \\\n",
       "0        0            0  ...    0     0    0     0      0    0      0      0   \n",
       "1        0            0  ...    0     0    0     0      0    0      0      0   \n",
       "2        0            0  ...    0     0    0     0      0    0      0      0   \n",
       "3        0            0  ...    0     0    0     0      0    0      0      0   \n",
       "4        0            0  ...    0     0    0     0      0    0      0      0   \n",
       "...    ...          ...  ...  ...   ...  ...   ...    ...  ...    ...    ...   \n",
       "3728     0            0  ...    0     0    0     0      0    0      0      0   \n",
       "3729     0            0  ...    0     0    0     0      0    0      0      0   \n",
       "3730     0            0  ...    0     0    0     0      0    0      0      0   \n",
       "3731     0            0  ...    0     0    1     0      0    0      0      0   \n",
       "3732     0            0  ...    0     0    0     0      0    0      0      0   \n",
       "\n",
       "      zoe  zogtorius  \n",
       "0       0          0  \n",
       "1       0          0  \n",
       "2       0          0  \n",
       "3       0          0  \n",
       "4       0          0  \n",
       "...   ...        ...  \n",
       "3728    0          0  \n",
       "3729    0          0  \n",
       "3730    0          0  \n",
       "3731    0          0  \n",
       "3732    0          0  \n",
       "\n",
       "[3733 rows x 6744 columns]"
      ]
     },
     "execution_count": 54,
     "metadata": {},
     "output_type": "execute_result"
    }
   ],
   "source": [
    "count_df = pd.DataFrame(count_train.A, columns=count_vectorizer.get_feature_names())\n",
    "count_df"
   ]
  },
  {
   "cell_type": "code",
   "execution_count": 55,
   "id": "known-genesis",
   "metadata": {},
   "outputs": [
    {
     "data": {
      "text/html": [
       "<div>\n",
       "<style scoped>\n",
       "    .dataframe tbody tr th:only-of-type {\n",
       "        vertical-align: middle;\n",
       "    }\n",
       "\n",
       "    .dataframe tbody tr th {\n",
       "        vertical-align: top;\n",
       "    }\n",
       "\n",
       "    .dataframe thead th {\n",
       "        text-align: right;\n",
       "    }\n",
       "</style>\n",
       "<table border=\"1\" class=\"dataframe\">\n",
       "  <thead>\n",
       "    <tr style=\"text-align: right;\">\n",
       "      <th></th>\n",
       "      <th>00</th>\n",
       "      <th>000</th>\n",
       "      <th>008704050406</th>\n",
       "      <th>0089</th>\n",
       "      <th>01223585236</th>\n",
       "      <th>01223585334</th>\n",
       "      <th>0125698789</th>\n",
       "      <th>02</th>\n",
       "      <th>0207</th>\n",
       "      <th>02072069400</th>\n",
       "      <th>...</th>\n",
       "      <th>yuo</th>\n",
       "      <th>yuou</th>\n",
       "      <th>yup</th>\n",
       "      <th>yupz</th>\n",
       "      <th>zebra</th>\n",
       "      <th>zed</th>\n",
       "      <th>zeros</th>\n",
       "      <th>zhong</th>\n",
       "      <th>zoe</th>\n",
       "      <th>zogtorius</th>\n",
       "    </tr>\n",
       "  </thead>\n",
       "  <tbody>\n",
       "    <tr>\n",
       "      <th>0</th>\n",
       "      <td>0.0</td>\n",
       "      <td>0.0</td>\n",
       "      <td>0.0</td>\n",
       "      <td>0.0</td>\n",
       "      <td>0.0</td>\n",
       "      <td>0.0</td>\n",
       "      <td>0.0</td>\n",
       "      <td>0.0</td>\n",
       "      <td>0.0</td>\n",
       "      <td>0.0</td>\n",
       "      <td>...</td>\n",
       "      <td>0.0</td>\n",
       "      <td>0.0</td>\n",
       "      <td>0.000000</td>\n",
       "      <td>0.0</td>\n",
       "      <td>0.0</td>\n",
       "      <td>0.0</td>\n",
       "      <td>0.0</td>\n",
       "      <td>0.0</td>\n",
       "      <td>0.0</td>\n",
       "      <td>0.0</td>\n",
       "    </tr>\n",
       "    <tr>\n",
       "      <th>1</th>\n",
       "      <td>0.0</td>\n",
       "      <td>0.0</td>\n",
       "      <td>0.0</td>\n",
       "      <td>0.0</td>\n",
       "      <td>0.0</td>\n",
       "      <td>0.0</td>\n",
       "      <td>0.0</td>\n",
       "      <td>0.0</td>\n",
       "      <td>0.0</td>\n",
       "      <td>0.0</td>\n",
       "      <td>...</td>\n",
       "      <td>0.0</td>\n",
       "      <td>0.0</td>\n",
       "      <td>0.000000</td>\n",
       "      <td>0.0</td>\n",
       "      <td>0.0</td>\n",
       "      <td>0.0</td>\n",
       "      <td>0.0</td>\n",
       "      <td>0.0</td>\n",
       "      <td>0.0</td>\n",
       "      <td>0.0</td>\n",
       "    </tr>\n",
       "    <tr>\n",
       "      <th>2</th>\n",
       "      <td>0.0</td>\n",
       "      <td>0.0</td>\n",
       "      <td>0.0</td>\n",
       "      <td>0.0</td>\n",
       "      <td>0.0</td>\n",
       "      <td>0.0</td>\n",
       "      <td>0.0</td>\n",
       "      <td>0.0</td>\n",
       "      <td>0.0</td>\n",
       "      <td>0.0</td>\n",
       "      <td>...</td>\n",
       "      <td>0.0</td>\n",
       "      <td>0.0</td>\n",
       "      <td>0.000000</td>\n",
       "      <td>0.0</td>\n",
       "      <td>0.0</td>\n",
       "      <td>0.0</td>\n",
       "      <td>0.0</td>\n",
       "      <td>0.0</td>\n",
       "      <td>0.0</td>\n",
       "      <td>0.0</td>\n",
       "    </tr>\n",
       "    <tr>\n",
       "      <th>3</th>\n",
       "      <td>0.0</td>\n",
       "      <td>0.0</td>\n",
       "      <td>0.0</td>\n",
       "      <td>0.0</td>\n",
       "      <td>0.0</td>\n",
       "      <td>0.0</td>\n",
       "      <td>0.0</td>\n",
       "      <td>0.0</td>\n",
       "      <td>0.0</td>\n",
       "      <td>0.0</td>\n",
       "      <td>...</td>\n",
       "      <td>0.0</td>\n",
       "      <td>0.0</td>\n",
       "      <td>0.000000</td>\n",
       "      <td>0.0</td>\n",
       "      <td>0.0</td>\n",
       "      <td>0.0</td>\n",
       "      <td>0.0</td>\n",
       "      <td>0.0</td>\n",
       "      <td>0.0</td>\n",
       "      <td>0.0</td>\n",
       "    </tr>\n",
       "    <tr>\n",
       "      <th>4</th>\n",
       "      <td>0.0</td>\n",
       "      <td>0.0</td>\n",
       "      <td>0.0</td>\n",
       "      <td>0.0</td>\n",
       "      <td>0.0</td>\n",
       "      <td>0.0</td>\n",
       "      <td>0.0</td>\n",
       "      <td>0.0</td>\n",
       "      <td>0.0</td>\n",
       "      <td>0.0</td>\n",
       "      <td>...</td>\n",
       "      <td>0.0</td>\n",
       "      <td>0.0</td>\n",
       "      <td>0.000000</td>\n",
       "      <td>0.0</td>\n",
       "      <td>0.0</td>\n",
       "      <td>0.0</td>\n",
       "      <td>0.0</td>\n",
       "      <td>0.0</td>\n",
       "      <td>0.0</td>\n",
       "      <td>0.0</td>\n",
       "    </tr>\n",
       "    <tr>\n",
       "      <th>...</th>\n",
       "      <td>...</td>\n",
       "      <td>...</td>\n",
       "      <td>...</td>\n",
       "      <td>...</td>\n",
       "      <td>...</td>\n",
       "      <td>...</td>\n",
       "      <td>...</td>\n",
       "      <td>...</td>\n",
       "      <td>...</td>\n",
       "      <td>...</td>\n",
       "      <td>...</td>\n",
       "      <td>...</td>\n",
       "      <td>...</td>\n",
       "      <td>...</td>\n",
       "      <td>...</td>\n",
       "      <td>...</td>\n",
       "      <td>...</td>\n",
       "      <td>...</td>\n",
       "      <td>...</td>\n",
       "      <td>...</td>\n",
       "      <td>...</td>\n",
       "    </tr>\n",
       "    <tr>\n",
       "      <th>3728</th>\n",
       "      <td>0.0</td>\n",
       "      <td>0.0</td>\n",
       "      <td>0.0</td>\n",
       "      <td>0.0</td>\n",
       "      <td>0.0</td>\n",
       "      <td>0.0</td>\n",
       "      <td>0.0</td>\n",
       "      <td>0.0</td>\n",
       "      <td>0.0</td>\n",
       "      <td>0.0</td>\n",
       "      <td>...</td>\n",
       "      <td>0.0</td>\n",
       "      <td>0.0</td>\n",
       "      <td>0.000000</td>\n",
       "      <td>0.0</td>\n",
       "      <td>0.0</td>\n",
       "      <td>0.0</td>\n",
       "      <td>0.0</td>\n",
       "      <td>0.0</td>\n",
       "      <td>0.0</td>\n",
       "      <td>0.0</td>\n",
       "    </tr>\n",
       "    <tr>\n",
       "      <th>3729</th>\n",
       "      <td>0.0</td>\n",
       "      <td>0.0</td>\n",
       "      <td>0.0</td>\n",
       "      <td>0.0</td>\n",
       "      <td>0.0</td>\n",
       "      <td>0.0</td>\n",
       "      <td>0.0</td>\n",
       "      <td>0.0</td>\n",
       "      <td>0.0</td>\n",
       "      <td>0.0</td>\n",
       "      <td>...</td>\n",
       "      <td>0.0</td>\n",
       "      <td>0.0</td>\n",
       "      <td>0.000000</td>\n",
       "      <td>0.0</td>\n",
       "      <td>0.0</td>\n",
       "      <td>0.0</td>\n",
       "      <td>0.0</td>\n",
       "      <td>0.0</td>\n",
       "      <td>0.0</td>\n",
       "      <td>0.0</td>\n",
       "    </tr>\n",
       "    <tr>\n",
       "      <th>3730</th>\n",
       "      <td>0.0</td>\n",
       "      <td>0.0</td>\n",
       "      <td>0.0</td>\n",
       "      <td>0.0</td>\n",
       "      <td>0.0</td>\n",
       "      <td>0.0</td>\n",
       "      <td>0.0</td>\n",
       "      <td>0.0</td>\n",
       "      <td>0.0</td>\n",
       "      <td>0.0</td>\n",
       "      <td>...</td>\n",
       "      <td>0.0</td>\n",
       "      <td>0.0</td>\n",
       "      <td>0.000000</td>\n",
       "      <td>0.0</td>\n",
       "      <td>0.0</td>\n",
       "      <td>0.0</td>\n",
       "      <td>0.0</td>\n",
       "      <td>0.0</td>\n",
       "      <td>0.0</td>\n",
       "      <td>0.0</td>\n",
       "    </tr>\n",
       "    <tr>\n",
       "      <th>3731</th>\n",
       "      <td>0.0</td>\n",
       "      <td>0.0</td>\n",
       "      <td>0.0</td>\n",
       "      <td>0.0</td>\n",
       "      <td>0.0</td>\n",
       "      <td>0.0</td>\n",
       "      <td>0.0</td>\n",
       "      <td>0.0</td>\n",
       "      <td>0.0</td>\n",
       "      <td>0.0</td>\n",
       "      <td>...</td>\n",
       "      <td>0.0</td>\n",
       "      <td>0.0</td>\n",
       "      <td>0.266889</td>\n",
       "      <td>0.0</td>\n",
       "      <td>0.0</td>\n",
       "      <td>0.0</td>\n",
       "      <td>0.0</td>\n",
       "      <td>0.0</td>\n",
       "      <td>0.0</td>\n",
       "      <td>0.0</td>\n",
       "    </tr>\n",
       "    <tr>\n",
       "      <th>3732</th>\n",
       "      <td>0.0</td>\n",
       "      <td>0.0</td>\n",
       "      <td>0.0</td>\n",
       "      <td>0.0</td>\n",
       "      <td>0.0</td>\n",
       "      <td>0.0</td>\n",
       "      <td>0.0</td>\n",
       "      <td>0.0</td>\n",
       "      <td>0.0</td>\n",
       "      <td>0.0</td>\n",
       "      <td>...</td>\n",
       "      <td>0.0</td>\n",
       "      <td>0.0</td>\n",
       "      <td>0.000000</td>\n",
       "      <td>0.0</td>\n",
       "      <td>0.0</td>\n",
       "      <td>0.0</td>\n",
       "      <td>0.0</td>\n",
       "      <td>0.0</td>\n",
       "      <td>0.0</td>\n",
       "      <td>0.0</td>\n",
       "    </tr>\n",
       "  </tbody>\n",
       "</table>\n",
       "<p>3733 rows × 6744 columns</p>\n",
       "</div>"
      ],
      "text/plain": [
       "       00  000  008704050406  0089  01223585236  01223585334  0125698789   02  \\\n",
       "0     0.0  0.0           0.0   0.0          0.0          0.0         0.0  0.0   \n",
       "1     0.0  0.0           0.0   0.0          0.0          0.0         0.0  0.0   \n",
       "2     0.0  0.0           0.0   0.0          0.0          0.0         0.0  0.0   \n",
       "3     0.0  0.0           0.0   0.0          0.0          0.0         0.0  0.0   \n",
       "4     0.0  0.0           0.0   0.0          0.0          0.0         0.0  0.0   \n",
       "...   ...  ...           ...   ...          ...          ...         ...  ...   \n",
       "3728  0.0  0.0           0.0   0.0          0.0          0.0         0.0  0.0   \n",
       "3729  0.0  0.0           0.0   0.0          0.0          0.0         0.0  0.0   \n",
       "3730  0.0  0.0           0.0   0.0          0.0          0.0         0.0  0.0   \n",
       "3731  0.0  0.0           0.0   0.0          0.0          0.0         0.0  0.0   \n",
       "3732  0.0  0.0           0.0   0.0          0.0          0.0         0.0  0.0   \n",
       "\n",
       "      0207  02072069400  ...  yuo  yuou       yup  yupz  zebra  zed  zeros  \\\n",
       "0      0.0          0.0  ...  0.0   0.0  0.000000   0.0    0.0  0.0    0.0   \n",
       "1      0.0          0.0  ...  0.0   0.0  0.000000   0.0    0.0  0.0    0.0   \n",
       "2      0.0          0.0  ...  0.0   0.0  0.000000   0.0    0.0  0.0    0.0   \n",
       "3      0.0          0.0  ...  0.0   0.0  0.000000   0.0    0.0  0.0    0.0   \n",
       "4      0.0          0.0  ...  0.0   0.0  0.000000   0.0    0.0  0.0    0.0   \n",
       "...    ...          ...  ...  ...   ...       ...   ...    ...  ...    ...   \n",
       "3728   0.0          0.0  ...  0.0   0.0  0.000000   0.0    0.0  0.0    0.0   \n",
       "3729   0.0          0.0  ...  0.0   0.0  0.000000   0.0    0.0  0.0    0.0   \n",
       "3730   0.0          0.0  ...  0.0   0.0  0.000000   0.0    0.0  0.0    0.0   \n",
       "3731   0.0          0.0  ...  0.0   0.0  0.266889   0.0    0.0  0.0    0.0   \n",
       "3732   0.0          0.0  ...  0.0   0.0  0.000000   0.0    0.0  0.0    0.0   \n",
       "\n",
       "      zhong  zoe  zogtorius  \n",
       "0       0.0  0.0        0.0  \n",
       "1       0.0  0.0        0.0  \n",
       "2       0.0  0.0        0.0  \n",
       "3       0.0  0.0        0.0  \n",
       "4       0.0  0.0        0.0  \n",
       "...     ...  ...        ...  \n",
       "3728    0.0  0.0        0.0  \n",
       "3729    0.0  0.0        0.0  \n",
       "3730    0.0  0.0        0.0  \n",
       "3731    0.0  0.0        0.0  \n",
       "3732    0.0  0.0        0.0  \n",
       "\n",
       "[3733 rows x 6744 columns]"
      ]
     },
     "execution_count": 55,
     "metadata": {},
     "output_type": "execute_result"
    }
   ],
   "source": [
    "tfidf_df = pd.DataFrame(tfidf_train.A, columns=tfidf_vectorizer.get_feature_names())\n",
    "tfidf_df"
   ]
  },
  {
   "cell_type": "code",
   "execution_count": 56,
   "id": "usual-hypothetical",
   "metadata": {},
   "outputs": [],
   "source": [
    "def plot_confusion_matrix(cm, classes,\n",
    "                          normalize=False,\n",
    "                          title='Confusion matrix',\n",
    "                          cmap=plt.cm.Blues):\n",
    "    \"\"\"\n",
    "    See full source and example: \n",
    "    http://scikit-learn.org/stable/auto_examples/model_selection/plot_confusion_matrix.html\n",
    "    \n",
    "    This function prints and plots the confusion matrix.\n",
    "    Normalization can be applied by setting `normalize=True`.\n",
    "    \"\"\"\n",
    "    plt.imshow(cm, interpolation='nearest', cmap=cmap)\n",
    "    plt.title(title)\n",
    "    plt.colorbar()\n",
    "    tick_marks = np.arange(len(classes))\n",
    "    plt.xticks(tick_marks, classes, rotation=45)\n",
    "    plt.yticks(tick_marks, classes)\n",
    "\n",
    "    if normalize:\n",
    "        cm = cm.astype('float') / cm.sum(axis=1)[:, np.newaxis]\n",
    "        print(\"Normalized confusion matrix\")\n",
    "    else:\n",
    "        print('Confusion matrix, without normalization')\n",
    "\n",
    "    thresh = cm.max() / 2.\n",
    "    for i, j in itertools.product(range(cm.shape[0]), range(cm.shape[1])):\n",
    "        plt.text(j, i, cm[i, j],\n",
    "                 horizontalalignment=\"center\",\n",
    "                 color=\"white\" if cm[i, j] > thresh else \"black\")\n",
    "\n",
    "    plt.tight_layout()\n",
    "    plt.ylabel('True label')\n",
    "    plt.xlabel('predicted label')"
   ]
  },
  {
   "cell_type": "code",
   "execution_count": 57,
   "id": "built-integrity",
   "metadata": {},
   "outputs": [],
   "source": [
    "clf = MultinomialNB() "
   ]
  },
  {
   "cell_type": "code",
   "execution_count": 60,
   "id": "lightweight-jersey",
   "metadata": {},
   "outputs": [
    {
     "name": "stdout",
     "output_type": "stream",
     "text": [
      "              precision    recall  f1-score   support\n",
      "\n",
      "         ham      0.964     1.000     0.982      1602\n",
      "        spam      1.000     0.751     0.858       237\n",
      "\n",
      "    accuracy                          0.968      1839\n",
      "   macro avg      0.982     0.876     0.920      1839\n",
      "weighted avg      0.969     0.968     0.966      1839\n",
      "\n",
      "accuracy:   0.968\n",
      "Confusion matrix, without normalization\n"
     ]
    },
    {
     "data": {
      "image/png": "[encoded data removed]",
      "text/plain": [
       "<Figure size 432x288 with 2 Axes>"
      ]
     },
     "metadata": {
      "needs_background": "light"
     },
     "output_type": "display_data"
    }
   ],
   "source": [
    "clf.fit(tfidf_train, y_train)\n",
    "y_pred = clf.predict(tfidf_test)\n",
    "score = metrics.accuracy_score(y_test, y_pred)\n",
    "\n",
    "print(metrics.classification_report(y_test, y_pred, digits=3))\n",
    "\n",
    "print(\"accuracy:   %0.3f\" % score)\n",
    "cm = metrics.confusion_matrix(y_test, y_pred, labels=['spam', 'ham'])\n",
    "plot_confusion_matrix(cm, classes=['spam', 'ham'])"
   ]
  },
  {
   "cell_type": "code",
   "execution_count": 61,
   "id": "confident-command",
   "metadata": {},
   "outputs": [],
   "source": [
    "clf = MultinomialNB() "
   ]
  },
  {
   "cell_type": "code",
   "execution_count": 62,
   "id": "dental-california",
   "metadata": {},
   "outputs": [
    {
     "name": "stdout",
     "output_type": "stream",
     "text": [
      "              precision    recall  f1-score   support\n",
      "\n",
      "         ham      0.991     0.996     0.994      1602\n",
      "        spam      0.974     0.941     0.957       237\n",
      "\n",
      "    accuracy                          0.989      1839\n",
      "   macro avg      0.983     0.969     0.975      1839\n",
      "weighted avg      0.989     0.989     0.989      1839\n",
      "\n",
      "accuracy:   0.989\n",
      "Confusion matrix, without normalization\n"
     ]
    },
    {
     "data": {
      "image/png": "[encoded data removed]",
      "text/plain": [
       "<Figure size 432x288 with 2 Axes>"
      ]
     },
     "metadata": {
      "needs_background": "light"
     },
     "output_type": "display_data"
    }
   ],
   "source": [
    "clf.fit(count_train, y_train)\n",
    "y_pred = clf.predict(count_test)\n",
    "score = metrics.accuracy_score(y_test, y_pred)\n",
    "\n",
    "print(metrics.classification_report(y_test, y_pred, digits=3))\n",
    "\n",
    "print(\"accuracy:   %0.3f\" % score)\n",
    "cm = metrics.confusion_matrix(y_test, y_pred, labels=['spam', 'ham'])\n",
    "plot_confusion_matrix(cm, classes=['spam', 'ham'])"
   ]
  },
  {
   "cell_type": "markdown",
   "id": "quick-scottish",
   "metadata": {},
   "source": [
    "### Resample the Minority Class"
   ]
  },
  {
   "cell_type": "code",
   "execution_count": 63,
   "id": "caring-nomination",
   "metadata": {},
   "outputs": [],
   "source": [
    "# concatenate our training data back together\n",
    "X = pd.concat([X_train, y_train], axis=1)"
   ]
  },
  {
   "cell_type": "code",
   "execution_count": 64,
   "id": "polished-acquisition",
   "metadata": {},
   "outputs": [],
   "source": [
    "# separate minority and majority classes\n",
    "ham = X[X.label == 'ham']\n",
    "spam = X[X.label == 'spam']"
   ]
  },
  {
   "cell_type": "code",
   "execution_count": 65,
   "id": "dramatic-nightlife",
   "metadata": {},
   "outputs": [],
   "source": [
    "# upsample minority\n",
    "spam_upsampled = resample(spam,\n",
    "                          replace=True, # sample with replacement\n",
    "                          n_samples=len(ham), # match number in majority class\n",
    "                          random_state=27) # reproducible results"
   ]
  },
  {
   "cell_type": "code",
   "execution_count": 66,
   "id": "skilled-humanity",
   "metadata": {},
   "outputs": [],
   "source": [
    "# combine majority and upsampled minority\n",
    "upsampled = pd.concat([ham, spam_upsampled])"
   ]
  },
  {
   "cell_type": "code",
   "execution_count": 67,
   "id": "forced-gothic",
   "metadata": {},
   "outputs": [
    {
     "data": {
      "text/plain": [
       "ham     3223\n",
       "spam    3223\n",
       "Name: label, dtype: int64"
      ]
     },
     "execution_count": 67,
     "metadata": {},
     "output_type": "execute_result"
    }
   ],
   "source": [
    "# check new class counts\n",
    "upsampled.label.value_counts()"
   ]
  },
  {
   "cell_type": "markdown",
   "id": "written-plasma",
   "metadata": {},
   "source": [
    "### Post Resampling"
   ]
  },
  {
   "cell_type": "code",
   "execution_count": 68,
   "id": "detected-emphasis",
   "metadata": {},
   "outputs": [],
   "source": [
    "# balanced dataset\n",
    "y_train = upsampled.label\n",
    "X_train = upsampled.text"
   ]
  },
  {
   "cell_type": "code",
   "execution_count": 69,
   "id": "minimal-reverse",
   "metadata": {},
   "outputs": [],
   "source": [
    "# Initialize the `count_vectorizer` \n",
    "count_vectorizer = CountVectorizer(stop_words='english', strip_accents='unicode')\n",
    "\n",
    "# Fit and transform the training data \n",
    "count_train = count_vectorizer.fit_transform(X_train) \n",
    "\n",
    "# Transform the test set \n",
    "count_test = count_vectorizer.transform(X_test)"
   ]
  },
  {
   "cell_type": "code",
   "execution_count": 70,
   "id": "stopped-colors",
   "metadata": {},
   "outputs": [],
   "source": [
    "# Initialize the `tfidf_vectorizer` \n",
    "tfidf_vectorizer = TfidfVectorizer(stop_words='english', strip_accents='unicode') \n",
    "\n",
    "# Fit and transform the training data \n",
    "tfidf_train = tfidf_vectorizer.fit_transform(X_train) \n",
    "\n",
    "# Transform the test set \n",
    "tfidf_test = tfidf_vectorizer.transform(X_test)"
   ]
  },
  {
   "cell_type": "code",
   "execution_count": 71,
   "id": "grand-sound",
   "metadata": {},
   "outputs": [
    {
     "name": "stdout",
     "output_type": "stream",
     "text": [
      "['yuo', 'yuou', 'yup', 'yupz', 'zebra', 'zed', 'zeros', 'zhong', 'zoe', 'zogtorius']\n",
      "['00', '000', '008704050406', '0089', '01223585236', '01223585334', '0125698789', '02', '0207', '02072069400']\n"
     ]
    }
   ],
   "source": [
    "# Get the feature names of `tfidf_vectorizer` \n",
    "print(tfidf_vectorizer.get_feature_names()[-10:])\n",
    "\n",
    "# Get the feature names of `count_vectorizer` \n",
    "print(count_vectorizer.get_feature_names()[:10])"
   ]
  },
  {
   "cell_type": "code",
   "execution_count": 72,
   "id": "upper-beverage",
   "metadata": {},
   "outputs": [],
   "source": [
    "count_df = pd.DataFrame(count_train.A, columns=count_vectorizer.get_feature_names())"
   ]
  },
  {
   "cell_type": "code",
   "execution_count": 73,
   "id": "involved-impact",
   "metadata": {},
   "outputs": [],
   "source": [
    "tfidf_df = pd.DataFrame(tfidf_train.A, columns=tfidf_vectorizer.get_feature_names())"
   ]
  },
  {
   "cell_type": "code",
   "execution_count": 74,
   "id": "tamil-lingerie",
   "metadata": {},
   "outputs": [],
   "source": [
    "clf = MultinomialNB() "
   ]
  },
  {
   "cell_type": "code",
   "execution_count": 75,
   "id": "irish-trustee",
   "metadata": {},
   "outputs": [
    {
     "name": "stdout",
     "output_type": "stream",
     "text": [
      "              precision    recall  f1-score   support\n",
      "\n",
      "         ham      0.990     0.975     0.983      1602\n",
      "        spam      0.847     0.937     0.890       237\n",
      "\n",
      "    accuracy                          0.970      1839\n",
      "   macro avg      0.919     0.956     0.936      1839\n",
      "weighted avg      0.972     0.970     0.971      1839\n",
      "\n",
      "accuracy:   0.970\n",
      "Confusion matrix, without normalization\n"
     ]
    },
    {
     "data": {
      "image/png": "[encoded data removed]",
      "text/plain": [
       "<Figure size 432x288 with 2 Axes>"
      ]
     },
     "metadata": {
      "needs_background": "light"
     },
     "output_type": "display_data"
    }
   ],
   "source": [
    "clf.fit(tfidf_train, y_train)\n",
    "y_pred = clf.predict(tfidf_test)\n",
    "score = metrics.accuracy_score(y_test, y_pred)\n",
    "\n",
    "print(metrics.classification_report(y_test, y_pred, digits=3))\n",
    "\n",
    "print(\"accuracy:   %0.3f\" % score)\n",
    "cm = metrics.confusion_matrix(y_test, y_pred, labels=['spam', 'ham'])\n",
    "plot_confusion_matrix(cm, classes=['spam', 'ham'])"
   ]
  },
  {
   "cell_type": "code",
   "execution_count": 76,
   "id": "consistent-imperial",
   "metadata": {},
   "outputs": [],
   "source": [
    "clf = MultinomialNB() "
   ]
  },
  {
   "cell_type": "code",
   "execution_count": 77,
   "id": "normal-smell",
   "metadata": {},
   "outputs": [
    {
     "name": "stdout",
     "output_type": "stream",
     "text": [
      "              precision    recall  f1-score   support\n",
      "\n",
      "         ham      0.991     0.977     0.984      1602\n",
      "        spam      0.858     0.941     0.897       237\n",
      "\n",
      "    accuracy                          0.972      1839\n",
      "   macro avg      0.924     0.959     0.941      1839\n",
      "weighted avg      0.974     0.972     0.973      1839\n",
      "\n",
      "accuracy:   0.972\n",
      "Confusion matrix, without normalization\n"
     ]
    },
    {
     "data": {
      "image/png": "[encoded data removed]",
      "text/plain": [
       "<Figure size 432x288 with 2 Axes>"
      ]
     },
     "metadata": {
      "needs_background": "light"
     },
     "output_type": "display_data"
    }
   ],
   "source": [
    "clf.fit(count_train, y_train)\n",
    "y_pred = clf.predict(count_test)\n",
    "score = metrics.accuracy_score(y_test, y_pred)\n",
    "\n",
    "print(metrics.classification_report(y_test, y_pred, digits=3))\n",
    "\n",
    "print(\"accuracy:   %0.3f\" % score)\n",
    "cm = metrics.confusion_matrix(y_test, y_pred, labels=['spam', 'ham'])\n",
    "plot_confusion_matrix(cm, classes=['spam', 'ham'])"
   ]
  },
  {
   "cell_type": "markdown",
   "id": "individual-nebraska",
   "metadata": {},
   "source": [
    "### Example Spam"
   ]
  },
  {
   "cell_type": "code",
   "execution_count": 78,
   "id": "dramatic-buyer",
   "metadata": {},
   "outputs": [],
   "source": [
    "a = [\"txt us at 8787 for a free trip to hawaii!\", \n",
    "     \"I'm looking forward to when my day is over\", \n",
    "     \"for a free week of mobile service\"]"
   ]
  },
  {
   "cell_type": "code",
   "execution_count": 79,
   "id": "headed-arrival",
   "metadata": {},
   "outputs": [
    {
     "name": "stdout",
     "output_type": "stream",
     "text": [
      "['spam']\n",
      "['ham']\n",
      "['spam']\n"
     ]
    }
   ],
   "source": [
    "for b in a:\n",
    "    b_trans = tfidf_vectorizer.transform([b])\n",
    "    print(clf.predict(b_trans))"
   ]
  },
  {
   "cell_type": "code",
   "execution_count": null,
   "id": "present-economics",
   "metadata": {},
   "outputs": [],
   "source": []
  },
  {
   "cell_type": "code",
   "execution_count": null,
   "id": "central-equivalent",
   "metadata": {},
   "outputs": [],
   "source": []
  }
 ],
 "metadata": {
  "kernelspec": {
   "display_name": "Python 3",
   "language": "python",
   "name": "python3"
  },
  "language_info": {
   "codemirror_mode": {
    "name": "ipython",
    "version": 3
   },
   "file_extension": ".py",
   "mimetype": "text/x-python",
   "name": "python",
   "nbconvert_exporter": "python",
   "pygments_lexer": "ipython3",
   "version": "3.8.8"
  },
  "toc-autonumbering": false
 },
 "nbformat": 4,
 "nbformat_minor": 5
}
