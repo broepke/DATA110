{
 "cells": [
  {
   "cell_type": "markdown",
   "id": "driven-expression",
   "metadata": {},
   "source": [
    "# Week 4 Programming Assignment\n",
    "This is a 3 part assignment with introductions to numpy, pandas and matplotlib. Each worth 10 points for a total of 30 points. Each part builds upon the previous.    \n",
    "\n",
    "Submit as a single jupyter notebook in html format.  Clearly document each section using comments and markdown.  \n",
    "\n",
    "1.  Read the attached intro to numpy and do the assignment at the end. Sample output is shown.\n",
    "1.  Read the attached intro to pandas and do the assignment at the end. Sample output is shown.\n",
    "1.  Read visualization section of MoviesDataAnalysis, then add the following visualizations.\n",
    "  1. plot a line graph of monthly precip levels \n",
    "  1. bar plot of average precip by season \n",
    "  1. boxplot of average precip by season "
   ]
  },
  {
   "cell_type": "code",
   "execution_count": 1,
   "id": "going-insider",
   "metadata": {},
   "outputs": [],
   "source": [
    "import pandas as pd\n",
    "import numpy as np\n",
    "import matplotlib.pyplot as plt"
   ]
  },
  {
   "cell_type": "markdown",
   "id": "introductory-mason",
   "metadata": {},
   "source": [
    "## Part 1: Numpy\n",
    "Import Numeric Data from Text Files Into Numpy Arrays  \n",
    " * download the average monthly precipitation (inches) for Boulder, CO collected by the U.S. National Oceanic and Atmospheric Administration (NOAA)\n",
    "     * data values: https://ndownloader.figshare.com/files/12565616\n",
    "     * col values: https://ndownloader.figshare.com/files/12565619\n",
    " * load the data into a numpy array and print the values. Verify the type of the data structure.\n",
    " * run summary statistics: mean, median, standard deviation, min, max\n",
    " * get the average seasonal preciptation (eg: winter, ..fall)"
   ]
  },
  {
   "cell_type": "markdown",
   "id": "shared-slovak",
   "metadata": {},
   "source": [
    "### Import Data  \n",
    "Using the Numpy `loadtxt` method, import the two data files.  One contains categorical values for months, and the other are average monthly precipation values."
   ]
  },
  {
   "cell_type": "code",
   "execution_count": 2,
   "id": "diverse-fusion",
   "metadata": {},
   "outputs": [
    {
     "name": "stdout",
     "output_type": "stream",
     "text": [
      "Months: ['Jan' 'Feb' 'Mar' 'Apr' 'May' 'June' 'July' 'Aug' 'Sept' 'Oct' 'Nov'\n",
      " 'Dec']\n",
      "Values: [0.7  0.75 1.85 2.93 3.05 2.02 1.93 1.62 1.84 1.31 1.39 0.84]\n"
     ]
    }
   ],
   "source": [
    "months = np.loadtxt('months.txt', dtype='str')\n",
    "values = np.loadtxt('avg-monthly-precip.txt')\n",
    "print(\"Months:\", months)\n",
    "print(\"Values:\", values)"
   ]
  },
  {
   "cell_type": "markdown",
   "id": "adult-azerbaijan",
   "metadata": {},
   "source": [
    "### Summary Statistics\n",
    "Using Numpy's built in functions for calcualating various statistical values.  We can see the mean precip is `1.69` and the median is `1.73`.  The standard deviation for the 12 months is `0.73`.  A min of `0.7` and max of `3.05` for the 12 month period."
   ]
  },
  {
   "cell_type": "code",
   "execution_count": 3,
   "id": "spanish-diameter",
   "metadata": {},
   "outputs": [
    {
     "name": "stdout",
     "output_type": "stream",
     "text": [
      "Mean precipitation: 1.6858333333333333\n",
      "Median precipitation: 1.73\n",
      "Standard Deviation of precipitation: 0.7318408107110604\n",
      "Min precipitation: 0.7\n",
      "Max precipitation: 3.05\n"
     ]
    }
   ],
   "source": [
    "print(\"Mean precipitation: {}\".format(np.mean(values)))\n",
    "print(\"Median precipitation: {}\".format(np.median(values)))\n",
    "print(\"Standard Deviation of precipitation: {}\".format(np.std(values)))\n",
    "print(\"Min precipitation: {}\".format(np.min(values)))\n",
    "print(\"Max precipitation: {}\".format(np.max(values)))"
   ]
  },
  {
   "cell_type": "markdown",
   "id": "interesting-belfast",
   "metadata": {},
   "source": [
    "### Calculate Seasonal Averages\n",
    "Calculating the averages per three-month sesonal period, we can see that **winter** is the lightest month for precip, and **spring** is the heaviest due to **May** and **April** having the highest rainfall for the 12 month cycle.  **Summer** and **Fall** precip levels are similar at `1.86` and `1.51` respectively. "
   ]
  },
  {
   "cell_type": "code",
   "execution_count": 4,
   "id": "simple-initial",
   "metadata": {},
   "outputs": [
    {
     "name": "stdout",
     "output_type": "stream",
     "text": [
      "Avg precipitation for Winter = 0.7633333333333333\n",
      "Avg precipitation for Spring = 2.61\n",
      "Avg precipitation for Summer = 1.8566666666666667\n",
      "Avg precipitation for Fall = 1.5133333333333334\n"
     ]
    }
   ],
   "source": [
    "# Winter – December, January and February.\n",
    "# Spring – March, April and May.\n",
    "# Summer – June, July and August.\n",
    "# Fall – September, October and November.\n",
    "winter = np.mean(values[np.array([0,1,11])])\n",
    "spring = np.mean(values[2:5])\n",
    "summer = np.mean(values[5:8])\n",
    "fall = np.mean(values[8:11])\n",
    "\n",
    "print(\"Avg precipitation for Winter = {}\".format(winter))\n",
    "print(\"Avg precipitation for Spring = {}\".format(spring))\n",
    "print(\"Avg precipitation for Summer = {}\".format(summer))\n",
    "print(\"Avg precipitation for Fall = {}\".format(fall))"
   ]
  },
  {
   "cell_type": "markdown",
   "id": "resistant-inventory",
   "metadata": {},
   "source": [
    "## Part 2: Pandas\n",
    "Modify your assignment from intro to Numpy:  \n",
    " * Create a pandas dataframe (from the files previously) with columns: months, precip, season and save to a csv file\n",
    " * Read from the csv file from the above step into a df\n",
    " * Print the shape and column names of the df\n",
    " * Create a new df2 using groupby with average precip by season\n",
    " * Create a new df3 using groupby with summary statistics by season\n",
    " * Print the index and columns of df3\n",
    " * Show precip summary stats for Summer and Winter\n",
    " * Show only min and max for all seasons"
   ]
  },
  {
   "cell_type": "markdown",
   "id": "broke-madonna",
   "metadata": {},
   "source": [
    "### Import Data\n",
    "Start by loading the data from the text files into Numpy arrays.  Similar to what was done above, but later theese will be added as the index and a column in the Panda's dataframe.  \n",
    "Following that, a column of categorical values for the four-seasons is created and inserted into the DataFrame.  This column will be useful for doing aggregations by season."
   ]
  },
  {
   "cell_type": "code",
   "execution_count": 5,
   "id": "natural-uniform",
   "metadata": {},
   "outputs": [],
   "source": [
    "months = np.loadtxt('months.txt', dtype='str')\n",
    "values = np.loadtxt('avg-monthly-precip.txt')\n",
    "df = pd.DataFrame(values, index=months, columns=['precip'])"
   ]
  },
  {
   "cell_type": "code",
   "execution_count": 6,
   "id": "seasonal-census",
   "metadata": {},
   "outputs": [
    {
     "data": {
      "text/html": [
       "<div>\n",
       "<style scoped>\n",
       "    .dataframe tbody tr th:only-of-type {\n",
       "        vertical-align: middle;\n",
       "    }\n",
       "\n",
       "    .dataframe tbody tr th {\n",
       "        vertical-align: top;\n",
       "    }\n",
       "\n",
       "    .dataframe thead th {\n",
       "        text-align: right;\n",
       "    }\n",
       "</style>\n",
       "<table border=\"1\" class=\"dataframe\">\n",
       "  <thead>\n",
       "    <tr style=\"text-align: right;\">\n",
       "      <th></th>\n",
       "      <th>season</th>\n",
       "      <th>precip</th>\n",
       "    </tr>\n",
       "  </thead>\n",
       "  <tbody>\n",
       "    <tr>\n",
       "      <th>Jan</th>\n",
       "      <td>Winter</td>\n",
       "      <td>0.70</td>\n",
       "    </tr>\n",
       "    <tr>\n",
       "      <th>Feb</th>\n",
       "      <td>Winter</td>\n",
       "      <td>0.75</td>\n",
       "    </tr>\n",
       "    <tr>\n",
       "      <th>Mar</th>\n",
       "      <td>Spring</td>\n",
       "      <td>1.85</td>\n",
       "    </tr>\n",
       "    <tr>\n",
       "      <th>Apr</th>\n",
       "      <td>Spring</td>\n",
       "      <td>2.93</td>\n",
       "    </tr>\n",
       "    <tr>\n",
       "      <th>May</th>\n",
       "      <td>Spring</td>\n",
       "      <td>3.05</td>\n",
       "    </tr>\n",
       "    <tr>\n",
       "      <th>June</th>\n",
       "      <td>Summer</td>\n",
       "      <td>2.02</td>\n",
       "    </tr>\n",
       "    <tr>\n",
       "      <th>July</th>\n",
       "      <td>Summer</td>\n",
       "      <td>1.93</td>\n",
       "    </tr>\n",
       "    <tr>\n",
       "      <th>Aug</th>\n",
       "      <td>Summer</td>\n",
       "      <td>1.62</td>\n",
       "    </tr>\n",
       "    <tr>\n",
       "      <th>Sept</th>\n",
       "      <td>Fall</td>\n",
       "      <td>1.84</td>\n",
       "    </tr>\n",
       "    <tr>\n",
       "      <th>Oct</th>\n",
       "      <td>Fall</td>\n",
       "      <td>1.31</td>\n",
       "    </tr>\n",
       "    <tr>\n",
       "      <th>Nov</th>\n",
       "      <td>Fall</td>\n",
       "      <td>1.39</td>\n",
       "    </tr>\n",
       "    <tr>\n",
       "      <th>Dec</th>\n",
       "      <td>Winter</td>\n",
       "      <td>0.84</td>\n",
       "    </tr>\n",
       "  </tbody>\n",
       "</table>\n",
       "</div>"
      ],
      "text/plain": [
       "      season  precip\n",
       "Jan   Winter    0.70\n",
       "Feb   Winter    0.75\n",
       "Mar   Spring    1.85\n",
       "Apr   Spring    2.93\n",
       "May   Spring    3.05\n",
       "June  Summer    2.02\n",
       "July  Summer    1.93\n",
       "Aug   Summer    1.62\n",
       "Sept    Fall    1.84\n",
       "Oct     Fall    1.31\n",
       "Nov     Fall    1.39\n",
       "Dec   Winter    0.84"
      ]
     },
     "execution_count": 6,
     "metadata": {},
     "output_type": "execute_result"
    }
   ],
   "source": [
    "# Add Season Column\n",
    "seasons = ['Winter', 'Winter', \n",
    "           'Spring', 'Spring', 'Spring', \n",
    "           'Summer', 'Summer', 'Summer', \n",
    "           'Fall', 'Fall', 'Fall', 'Winter']\n",
    "df.insert(0, 'season', seasons)\n",
    "df"
   ]
  },
  {
   "cell_type": "markdown",
   "id": "hazardous-drain",
   "metadata": {},
   "source": [
    "### Persist the Data to a CSV\n",
    "Now that there is a fully merged DataFrame representing all of the data, write it to a CSV file to persist it, then read it back into memory to ensure that the operation was sucessful."
   ]
  },
  {
   "cell_type": "code",
   "execution_count": 7,
   "id": "danish-median",
   "metadata": {},
   "outputs": [],
   "source": [
    "# writing to csv\n",
    "df.to_csv('precip.csv', index = True)\n",
    "\n",
    "# reading from csv into a dataframe\n",
    "df = pd.read_csv('precip.csv', delimiter=',', index_col=0)"
   ]
  },
  {
   "cell_type": "markdown",
   "id": "beginning-invitation",
   "metadata": {},
   "source": [
    "### Inspect the Data\n",
    "Look at `shape`, the `index` as well as `column` names."
   ]
  },
  {
   "cell_type": "code",
   "execution_count": 8,
   "id": "revised-verification",
   "metadata": {},
   "outputs": [
    {
     "data": {
      "text/plain": [
       "(12, 2)"
      ]
     },
     "execution_count": 8,
     "metadata": {},
     "output_type": "execute_result"
    }
   ],
   "source": [
    "df.shape"
   ]
  },
  {
   "cell_type": "code",
   "execution_count": 9,
   "id": "republican-conference",
   "metadata": {},
   "outputs": [
    {
     "data": {
      "text/plain": [
       "Index(['Jan', 'Feb', 'Mar', 'Apr', 'May', 'June', 'July', 'Aug', 'Sept', 'Oct',\n",
       "       'Nov', 'Dec'],\n",
       "      dtype='object')"
      ]
     },
     "execution_count": 9,
     "metadata": {},
     "output_type": "execute_result"
    }
   ],
   "source": [
    "df.index"
   ]
  },
  {
   "cell_type": "code",
   "execution_count": 10,
   "id": "chubby-canon",
   "metadata": {},
   "outputs": [
    {
     "data": {
      "text/plain": [
       "Index(['season', 'precip'], dtype='object')"
      ]
     },
     "execution_count": 10,
     "metadata": {},
     "output_type": "execute_result"
    }
   ],
   "source": [
    "df.columns"
   ]
  },
  {
   "cell_type": "markdown",
   "id": "unavailable-robin",
   "metadata": {},
   "source": [
    "### Average Precip by Season\n",
    "Using Panda's `groupby` function, aggregate the data for each season and calculate the `mean`.\n",
    "\n",
    "**Note:** This is the same data that was calculated above with Numpy."
   ]
  },
  {
   "cell_type": "code",
   "execution_count": 11,
   "id": "banner-nickname",
   "metadata": {},
   "outputs": [
    {
     "data": {
      "text/html": [
       "<div>\n",
       "<style scoped>\n",
       "    .dataframe tbody tr th:only-of-type {\n",
       "        vertical-align: middle;\n",
       "    }\n",
       "\n",
       "    .dataframe tbody tr th {\n",
       "        vertical-align: top;\n",
       "    }\n",
       "\n",
       "    .dataframe thead th {\n",
       "        text-align: right;\n",
       "    }\n",
       "</style>\n",
       "<table border=\"1\" class=\"dataframe\">\n",
       "  <thead>\n",
       "    <tr style=\"text-align: right;\">\n",
       "      <th></th>\n",
       "      <th>precip</th>\n",
       "    </tr>\n",
       "    <tr>\n",
       "      <th>season</th>\n",
       "      <th></th>\n",
       "    </tr>\n",
       "  </thead>\n",
       "  <tbody>\n",
       "    <tr>\n",
       "      <th>Fall</th>\n",
       "      <td>1.513333</td>\n",
       "    </tr>\n",
       "    <tr>\n",
       "      <th>Spring</th>\n",
       "      <td>2.610000</td>\n",
       "    </tr>\n",
       "    <tr>\n",
       "      <th>Summer</th>\n",
       "      <td>1.856667</td>\n",
       "    </tr>\n",
       "    <tr>\n",
       "      <th>Winter</th>\n",
       "      <td>0.763333</td>\n",
       "    </tr>\n",
       "  </tbody>\n",
       "</table>\n",
       "</div>"
      ],
      "text/plain": [
       "          precip\n",
       "season          \n",
       "Fall    1.513333\n",
       "Spring  2.610000\n",
       "Summer  1.856667\n",
       "Winter  0.763333"
      ]
     },
     "execution_count": 11,
     "metadata": {},
     "output_type": "execute_result"
    }
   ],
   "source": [
    "df2 = df.groupby('season')[['precip']].mean()\n",
    "df2"
   ]
  },
  {
   "cell_type": "markdown",
   "id": "generic-identification",
   "metadata": {},
   "source": [
    "### Calculate Summary Statistics Per Season\n",
    "As opposed to calculating them for the entire year, here we have standard summary statistics calculated per **season**.  The above calculations are included below in the `mean` column, other stats included as well. \n",
    "\n",
    "**Observations:**\n",
    " * As mentioned above, Spring was the wettest season, winter was the dryest.\n",
    " * Winter has the lowest standard deviation of the seasons, spring with the largest. (e.g. How consistent is the rain during the months of the season.)\n",
    " * The wettest season has the month with the max precip, and likewise the dryest, has the month with the lowest."
   ]
  },
  {
   "cell_type": "code",
   "execution_count": 12,
   "id": "unlike-dominican",
   "metadata": {},
   "outputs": [
    {
     "data": {
      "text/html": [
       "<div>\n",
       "<style scoped>\n",
       "    .dataframe tbody tr th:only-of-type {\n",
       "        vertical-align: middle;\n",
       "    }\n",
       "\n",
       "    .dataframe tbody tr th {\n",
       "        vertical-align: top;\n",
       "    }\n",
       "\n",
       "    .dataframe thead tr th {\n",
       "        text-align: left;\n",
       "    }\n",
       "\n",
       "    .dataframe thead tr:last-of-type th {\n",
       "        text-align: right;\n",
       "    }\n",
       "</style>\n",
       "<table border=\"1\" class=\"dataframe\">\n",
       "  <thead>\n",
       "    <tr>\n",
       "      <th></th>\n",
       "      <th colspan=\"8\" halign=\"left\">precip</th>\n",
       "    </tr>\n",
       "    <tr>\n",
       "      <th></th>\n",
       "      <th>count</th>\n",
       "      <th>mean</th>\n",
       "      <th>std</th>\n",
       "      <th>min</th>\n",
       "      <th>25%</th>\n",
       "      <th>50%</th>\n",
       "      <th>75%</th>\n",
       "      <th>max</th>\n",
       "    </tr>\n",
       "    <tr>\n",
       "      <th>season</th>\n",
       "      <th></th>\n",
       "      <th></th>\n",
       "      <th></th>\n",
       "      <th></th>\n",
       "      <th></th>\n",
       "      <th></th>\n",
       "      <th></th>\n",
       "      <th></th>\n",
       "    </tr>\n",
       "  </thead>\n",
       "  <tbody>\n",
       "    <tr>\n",
       "      <th>Fall</th>\n",
       "      <td>3.0</td>\n",
       "      <td>1.513333</td>\n",
       "      <td>0.285715</td>\n",
       "      <td>1.31</td>\n",
       "      <td>1.350</td>\n",
       "      <td>1.39</td>\n",
       "      <td>1.615</td>\n",
       "      <td>1.84</td>\n",
       "    </tr>\n",
       "    <tr>\n",
       "      <th>Spring</th>\n",
       "      <td>3.0</td>\n",
       "      <td>2.610000</td>\n",
       "      <td>0.660908</td>\n",
       "      <td>1.85</td>\n",
       "      <td>2.390</td>\n",
       "      <td>2.93</td>\n",
       "      <td>2.990</td>\n",
       "      <td>3.05</td>\n",
       "    </tr>\n",
       "    <tr>\n",
       "      <th>Summer</th>\n",
       "      <td>3.0</td>\n",
       "      <td>1.856667</td>\n",
       "      <td>0.209841</td>\n",
       "      <td>1.62</td>\n",
       "      <td>1.775</td>\n",
       "      <td>1.93</td>\n",
       "      <td>1.975</td>\n",
       "      <td>2.02</td>\n",
       "    </tr>\n",
       "    <tr>\n",
       "      <th>Winter</th>\n",
       "      <td>3.0</td>\n",
       "      <td>0.763333</td>\n",
       "      <td>0.070946</td>\n",
       "      <td>0.70</td>\n",
       "      <td>0.725</td>\n",
       "      <td>0.75</td>\n",
       "      <td>0.795</td>\n",
       "      <td>0.84</td>\n",
       "    </tr>\n",
       "  </tbody>\n",
       "</table>\n",
       "</div>"
      ],
      "text/plain": [
       "       precip                                                    \n",
       "        count      mean       std   min    25%   50%    75%   max\n",
       "season                                                           \n",
       "Fall      3.0  1.513333  0.285715  1.31  1.350  1.39  1.615  1.84\n",
       "Spring    3.0  2.610000  0.660908  1.85  2.390  2.93  2.990  3.05\n",
       "Summer    3.0  1.856667  0.209841  1.62  1.775  1.93  1.975  2.02\n",
       "Winter    3.0  0.763333  0.070946  0.70  0.725  0.75  0.795  0.84"
      ]
     },
     "execution_count": 12,
     "metadata": {},
     "output_type": "execute_result"
    }
   ],
   "source": [
    "# Create a new df3 using groupby with summary statistics by season\n",
    "df3 = df.groupby('season')[['precip']].describe()\n",
    "df3"
   ]
  },
  {
   "cell_type": "code",
   "execution_count": 13,
   "id": "substantial-recipe",
   "metadata": {},
   "outputs": [
    {
     "data": {
      "text/plain": [
       "Index(['Fall', 'Spring', 'Summer', 'Winter'], dtype='object', name='season')"
      ]
     },
     "execution_count": 13,
     "metadata": {},
     "output_type": "execute_result"
    }
   ],
   "source": [
    "# Print the index and columns of df3\n",
    "df3.index"
   ]
  },
  {
   "cell_type": "code",
   "execution_count": 14,
   "id": "missing-cleveland",
   "metadata": {},
   "outputs": [
    {
     "data": {
      "text/plain": [
       "MultiIndex([('precip', 'count'),\n",
       "            ('precip',  'mean'),\n",
       "            ('precip',   'std'),\n",
       "            ('precip',   'min'),\n",
       "            ('precip',   '25%'),\n",
       "            ('precip',   '50%'),\n",
       "            ('precip',   '75%'),\n",
       "            ('precip',   'max')],\n",
       "           )"
      ]
     },
     "execution_count": 14,
     "metadata": {},
     "output_type": "execute_result"
    }
   ],
   "source": [
    "df3.columns"
   ]
  },
  {
   "cell_type": "markdown",
   "id": "bizarre-champagne",
   "metadata": {},
   "source": [
    "### Show only Summer and Winter"
   ]
  },
  {
   "cell_type": "code",
   "execution_count": 15,
   "id": "outside-barbados",
   "metadata": {},
   "outputs": [
    {
     "data": {
      "text/html": [
       "<div>\n",
       "<style scoped>\n",
       "    .dataframe tbody tr th:only-of-type {\n",
       "        vertical-align: middle;\n",
       "    }\n",
       "\n",
       "    .dataframe tbody tr th {\n",
       "        vertical-align: top;\n",
       "    }\n",
       "\n",
       "    .dataframe thead tr th {\n",
       "        text-align: left;\n",
       "    }\n",
       "\n",
       "    .dataframe thead tr:last-of-type th {\n",
       "        text-align: right;\n",
       "    }\n",
       "</style>\n",
       "<table border=\"1\" class=\"dataframe\">\n",
       "  <thead>\n",
       "    <tr>\n",
       "      <th></th>\n",
       "      <th colspan=\"8\" halign=\"left\">precip</th>\n",
       "    </tr>\n",
       "    <tr>\n",
       "      <th></th>\n",
       "      <th>count</th>\n",
       "      <th>mean</th>\n",
       "      <th>std</th>\n",
       "      <th>min</th>\n",
       "      <th>25%</th>\n",
       "      <th>50%</th>\n",
       "      <th>75%</th>\n",
       "      <th>max</th>\n",
       "    </tr>\n",
       "    <tr>\n",
       "      <th>season</th>\n",
       "      <th></th>\n",
       "      <th></th>\n",
       "      <th></th>\n",
       "      <th></th>\n",
       "      <th></th>\n",
       "      <th></th>\n",
       "      <th></th>\n",
       "      <th></th>\n",
       "    </tr>\n",
       "  </thead>\n",
       "  <tbody>\n",
       "    <tr>\n",
       "      <th>Summer</th>\n",
       "      <td>3.0</td>\n",
       "      <td>1.856667</td>\n",
       "      <td>0.209841</td>\n",
       "      <td>1.62</td>\n",
       "      <td>1.775</td>\n",
       "      <td>1.93</td>\n",
       "      <td>1.975</td>\n",
       "      <td>2.02</td>\n",
       "    </tr>\n",
       "    <tr>\n",
       "      <th>Winter</th>\n",
       "      <td>3.0</td>\n",
       "      <td>0.763333</td>\n",
       "      <td>0.070946</td>\n",
       "      <td>0.70</td>\n",
       "      <td>0.725</td>\n",
       "      <td>0.75</td>\n",
       "      <td>0.795</td>\n",
       "      <td>0.84</td>\n",
       "    </tr>\n",
       "  </tbody>\n",
       "</table>\n",
       "</div>"
      ],
      "text/plain": [
       "       precip                                                    \n",
       "        count      mean       std   min    25%   50%    75%   max\n",
       "season                                                           \n",
       "Summer    3.0  1.856667  0.209841  1.62  1.775  1.93  1.975  2.02\n",
       "Winter    3.0  0.763333  0.070946  0.70  0.725  0.75  0.795  0.84"
      ]
     },
     "execution_count": 15,
     "metadata": {},
     "output_type": "execute_result"
    }
   ],
   "source": [
    "df3.loc[['Summer', 'Winter'], :]"
   ]
  },
  {
   "cell_type": "markdown",
   "id": "finite-evans",
   "metadata": {},
   "source": [
    "### Show only Min and Max for All Seasons"
   ]
  },
  {
   "cell_type": "code",
   "execution_count": 16,
   "id": "searching-raleigh",
   "metadata": {},
   "outputs": [
    {
     "data": {
      "text/html": [
       "<div>\n",
       "<style scoped>\n",
       "    .dataframe tbody tr th:only-of-type {\n",
       "        vertical-align: middle;\n",
       "    }\n",
       "\n",
       "    .dataframe tbody tr th {\n",
       "        vertical-align: top;\n",
       "    }\n",
       "\n",
       "    .dataframe thead tr th {\n",
       "        text-align: left;\n",
       "    }\n",
       "\n",
       "    .dataframe thead tr:last-of-type th {\n",
       "        text-align: right;\n",
       "    }\n",
       "</style>\n",
       "<table border=\"1\" class=\"dataframe\">\n",
       "  <thead>\n",
       "    <tr>\n",
       "      <th></th>\n",
       "      <th colspan=\"2\" halign=\"left\">precip</th>\n",
       "    </tr>\n",
       "    <tr>\n",
       "      <th></th>\n",
       "      <th>min</th>\n",
       "      <th>max</th>\n",
       "    </tr>\n",
       "    <tr>\n",
       "      <th>season</th>\n",
       "      <th></th>\n",
       "      <th></th>\n",
       "    </tr>\n",
       "  </thead>\n",
       "  <tbody>\n",
       "    <tr>\n",
       "      <th>Fall</th>\n",
       "      <td>1.31</td>\n",
       "      <td>1.84</td>\n",
       "    </tr>\n",
       "    <tr>\n",
       "      <th>Spring</th>\n",
       "      <td>1.85</td>\n",
       "      <td>3.05</td>\n",
       "    </tr>\n",
       "    <tr>\n",
       "      <th>Summer</th>\n",
       "      <td>1.62</td>\n",
       "      <td>2.02</td>\n",
       "    </tr>\n",
       "    <tr>\n",
       "      <th>Winter</th>\n",
       "      <td>0.70</td>\n",
       "      <td>0.84</td>\n",
       "    </tr>\n",
       "  </tbody>\n",
       "</table>\n",
       "</div>"
      ],
      "text/plain": [
       "       precip      \n",
       "          min   max\n",
       "season             \n",
       "Fall     1.31  1.84\n",
       "Spring   1.85  3.05\n",
       "Summer   1.62  2.02\n",
       "Winter   0.70  0.84"
      ]
     },
     "execution_count": 16,
     "metadata": {},
     "output_type": "execute_result"
    }
   ],
   "source": [
    "df3.loc[:, [('precip', 'min'), ('precip', 'max')]]"
   ]
  },
  {
   "cell_type": "markdown",
   "id": "silent-visit",
   "metadata": {},
   "source": [
    "## Part 3: Visualizations\n",
    "Next, taking the data and aggreagations from above, display it in a set of visualizations."
   ]
  },
  {
   "cell_type": "markdown",
   "id": "selected-birth",
   "metadata": {},
   "source": [
    "### A. Plot a line graph of monthly precip levels\n",
    "This clearly shows the ramp from **Feb** to **May** in the increasing precip levels, falling gradually through the rest of the year with one exception in **September**. "
   ]
  },
  {
   "cell_type": "code",
   "execution_count": 17,
   "id": "planned-acceptance",
   "metadata": {},
   "outputs": [
    {
     "data": {
      "image/png": "[encoded data removed]",
      "text/plain": [
       "<Figure size 720x360 with 1 Axes>"
      ]
     },
     "metadata": {
      "needs_background": "light"
     },
     "output_type": "display_data"
    }
   ],
   "source": [
    "df.plot(y='precip', marker='o', color='b', figsize=(10,5), grid=True);"
   ]
  },
  {
   "cell_type": "markdown",
   "id": "acquired-founder",
   "metadata": {},
   "source": [
    "### B.Bar plot of average precip by season\n",
    "Similar view to above, but group/aggregated by season instead of month. "
   ]
  },
  {
   "cell_type": "code",
   "execution_count": 18,
   "id": "serious-hours",
   "metadata": {},
   "outputs": [
    {
     "data": {
      "image/png": "[encoded data removed]",
      "text/plain": [
       "<Figure size 720x360 with 1 Axes>"
      ]
     },
     "metadata": {
      "needs_background": "light"
     },
     "output_type": "display_data"
    }
   ],
   "source": [
    "df2.plot(kind='bar', figsize=(10,5));"
   ]
  },
  {
   "cell_type": "markdown",
   "id": "neither-chassis",
   "metadata": {},
   "source": [
    "### C. Boxplot of average precip by season\n",
    "And similar to the bar plot above, box plots show summary statistics for each season.\n",
    " * The box representes the inner quartile (25%-50% percentiles of the distribution of data.\n",
    " * The green line represents the median\n",
    " * The whiskers are the min and max values for the season. "
   ]
  },
  {
   "cell_type": "code",
   "execution_count": 19,
   "id": "affecting-batman",
   "metadata": {},
   "outputs": [
    {
     "data": {
      "text/plain": [
       "<AxesSubplot:>"
      ]
     },
     "execution_count": 19,
     "metadata": {},
     "output_type": "execute_result"
    },
    {
     "data": {
      "image/png": "[encoded data removed]",
      "text/plain": [
       "<Figure size 720x360 with 1 Axes>"
      ]
     },
     "metadata": {
      "needs_background": "light"
     },
     "output_type": "display_data"
    }
   ],
   "source": [
    "df.groupby('season')[['precip']].describe().T.boxplot(figsize=(10,5), grid=False)"
   ]
  }
 ],
 "metadata": {
  "kernelspec": {
   "display_name": "Python 3",
   "language": "python",
   "name": "python3"
  },
  "language_info": {
   "codemirror_mode": {
    "name": "ipython",
    "version": 3
   },
   "file_extension": ".py",
   "mimetype": "text/x-python",
   "name": "python",
   "nbconvert_exporter": "python",
   "pygments_lexer": "ipython3",
   "version": "3.9.1"
  }
 },
 "nbformat": 4,
 "nbformat_minor": 5
}
