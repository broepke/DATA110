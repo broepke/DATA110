{
 "cells": [
  {
   "cell_type": "markdown",
   "id": "national-writing",
   "metadata": {},
   "source": [
    "# Introduction to numpy:\n",
    "\n",
    "**Brian Roepke**  \n",
    "**Data 110: Intro to Machine Learning**  \n",
    "**February 7th, 2021**  \n",
    "\n",
    "Numpy arrays are a commonly used scientific data structure that store data as a grid, or a matrix.\n",
    "Python data structures provide a way to organize/manipulate data by defining the relationships between data values stored and providing a set of functionality that can be executed on the data structure.\n",
    "\n",
    "Like Python lists, numpy arrays consists of ordered values (elements) and use indexing for accessing the elements in the numpy arrays. A key difference is that all elements in the numpy array must have the same type of data (eg: all integers, floats, text strings, etc).\n",
    "\n",
    "**Dimensionality of Numpy Arrays**  \n",
    "Numpy arrays can be:\n",
    "\n",
    " * one-dimensional: values along one dimension (similar to a list).\n",
    " * two-dimensional: consists of rows of arrays with one or more columns.\n",
    " * multi-dimensional nested arrays with one or more dimensions.\n",
    "\n",
    "brackets [] are used to assign and identify the dimensions of the numpy arrays.\n",
    "\n",
    "More information can be found on the NumPy and SciPy documentation websites."
   ]
  },
  {
   "cell_type": "code",
   "execution_count": 1,
   "id": "promotional-accreditation",
   "metadata": {},
   "outputs": [],
   "source": [
    "import numpy as np  # import numpy module and reference it using the alias np"
   ]
  },
  {
   "cell_type": "code",
   "execution_count": 2,
   "id": "assured-force",
   "metadata": {},
   "outputs": [
    {
     "name": "stdout",
     "output_type": "stream",
     "text": [
      "Help on built-in function arange in module numpy:\n",
      "\n",
      "arange(...)\n",
      "    arange([start,] stop[, step,], dtype=None)\n",
      "    \n",
      "    Return evenly spaced values within a given interval.\n",
      "    \n",
      "    Values are generated within the half-open interval ``[start, stop)``\n",
      "    (in other words, the interval including `start` but excluding `stop`).\n",
      "    For integer arguments the function is equivalent to the Python built-in\n",
      "    `range` function, but returns an ndarray rather than a list.\n",
      "    \n",
      "    When using a non-integer step, such as 0.1, the results will often not\n",
      "    be consistent.  It is better to use `numpy.linspace` for these cases.\n",
      "    \n",
      "    Parameters\n",
      "    ----------\n",
      "    start : number, optional\n",
      "        Start of interval.  The interval includes this value.  The default\n",
      "        start value is 0.\n",
      "    stop : number\n",
      "        End of interval.  The interval does not include this value, except\n",
      "        in some cases where `step` is not an integer and floating point\n",
      "        round-off affects the length of `out`.\n",
      "    step : number, optional\n",
      "        Spacing between values.  For any output `out`, this is the distance\n",
      "        between two adjacent values, ``out[i+1] - out[i]``.  The default\n",
      "        step size is 1.  If `step` is specified as a position argument,\n",
      "        `start` must also be given.\n",
      "    dtype : dtype\n",
      "        The type of the output array.  If `dtype` is not given, infer the data\n",
      "        type from the other input arguments.\n",
      "    \n",
      "    Returns\n",
      "    -------\n",
      "    arange : ndarray\n",
      "        Array of evenly spaced values.\n",
      "    \n",
      "        For floating point arguments, the length of the result is\n",
      "        ``ceil((stop - start)/step)``.  Because of floating point overflow,\n",
      "        this rule may result in the last element of `out` being greater\n",
      "        than `stop`.\n",
      "    \n",
      "    See Also\n",
      "    --------\n",
      "    numpy.linspace : Evenly spaced numbers with careful handling of endpoints.\n",
      "    numpy.ogrid: Arrays of evenly spaced numbers in N-dimensions.\n",
      "    numpy.mgrid: Grid-shaped arrays of evenly spaced numbers in N-dimensions.\n",
      "    \n",
      "    Examples\n",
      "    --------\n",
      "    >>> np.arange(3)\n",
      "    array([0, 1, 2])\n",
      "    >>> np.arange(3.0)\n",
      "    array([ 0.,  1.,  2.])\n",
      "    >>> np.arange(3,7)\n",
      "    array([3, 4, 5, 6])\n",
      "    >>> np.arange(3,7,2)\n",
      "    array([3, 5])\n",
      "\n"
     ]
    }
   ],
   "source": [
    "# getting help for a function, via \"help\".  In this case numpy arange function\n",
    "\n",
    "help (np.arange)  "
   ]
  },
  {
   "cell_type": "markdown",
   "id": "separate-specific",
   "metadata": {},
   "source": [
    "## Creating Arrays: ndarray  \n",
    "\n",
    "using numpy arrange function"
   ]
  },
  {
   "cell_type": "code",
   "execution_count": 4,
   "id": "electoral-volleyball",
   "metadata": {},
   "outputs": [
    {
     "name": "stdout",
     "output_type": "stream",
     "text": [
      "[0 1 2 3 4]\n",
      "[1 2 3 4 5]\n"
     ]
    },
    {
     "data": {
      "text/plain": [
       "array([0.        , 0.5       , 0.66666667, 0.75      , 0.8       ])"
      ]
     },
     "execution_count": 4,
     "metadata": {},
     "output_type": "execute_result"
    }
   ],
   "source": [
    "x = np.arange(5)      # similar to range function. Creates 1-Dim array of [0, 1, 2, 3, 4]\n",
    "print (x)\n",
    "\n",
    "y = np.arange(1, 6)  # A 1-Dim array of  [1, 2, 3, 4, 5]\n",
    "print (y)\n",
    "\n",
    "x / y                # a new 1-Dim array with x elements divided by y"
   ]
  },
  {
   "cell_type": "code",
   "execution_count": 14,
   "id": "departmental-madonna",
   "metadata": {},
   "outputs": [
    {
     "name": "stdout",
     "output_type": "stream",
     "text": [
      "1-D array\n",
      "<class 'numpy.ndarray'>\n",
      "[0 1 2 3 4 5 6 7 8] \n",
      "\n",
      "3x3 array\n",
      "[[0 1 2]\n",
      " [3 4 5]\n",
      " [6 7 8]] \n",
      "\n",
      "[[  1   2   4]\n",
      " [  8  16  32]\n",
      " [ 64 128 256]]\n",
      "\n",
      "2x3 array\n",
      "[[0 1 2]\n",
      " [3 4 5]] \n",
      "\n",
      "[[1 2 3]\n",
      " [4 5 6]]\n"
     ]
    }
   ],
   "source": [
    "print ('1-D array')\n",
    "x = np.arange(9)           # a 1-Dim array [0..9]\n",
    "print(type(x))             # type is ndarray <class 'numpy.ndarray'>\n",
    "print(x,'\\n')              # '\\n' is new-line \n",
    "\n",
    "print ('3x3 array')\n",
    "a3x3 = x.reshape((3, 3))   # change the shape to 3X3 array and assign to new variable\n",
    "print(a3x3, '\\n')\n",
    "print(2 ** a3x3)          # ndarray are mutable, change elements; exponent with base 2, eg: 2^0, 2^1, 2^2 ...\n",
    "print()\n",
    "\n",
    "print ('2x3 array')\n",
    "a2x3 = np.array([[0,1,2], [3,4,5]])   # Create array (2 rows, 3 colums)\n",
    "print(a2x3, '\\n')\n",
    "print (a2x3 + 1)                      # add 1 to each element"
   ]
  },
  {
   "cell_type": "markdown",
   "id": "junior-tribune",
   "metadata": {},
   "source": [
    "Numpy has a number of built in methods to quickly and easily create multidimensional arrays."
   ]
  },
  {
   "cell_type": "code",
   "execution_count": 15,
   "id": "undefined-classroom",
   "metadata": {},
   "outputs": [
    {
     "name": "stdout",
     "output_type": "stream",
     "text": [
      "[[0. 0.]\n",
      " [0. 0.]]\n",
      "\n",
      "[[9. 9.]\n",
      " [9. 9.]]\n",
      "\n",
      "[[1. 1.]]\n",
      "\n",
      "[[0.54936281 0.87173849]\n",
      " [0.28648531 0.46212219]]\n"
     ]
    }
   ],
   "source": [
    "# create a 2x2 array of zeros\n",
    "ex1 = np.zeros((2,2))      \n",
    "print(ex1)             \n",
    "print()\n",
    "\n",
    "# create a 2x2 array with 9.0\n",
    "ex2 = np.full((2,2), 9.0)  \n",
    "print(ex2)\n",
    "print()\n",
    "\n",
    "# create an array of ones\n",
    "ex3 = np.ones((1, 2))\n",
    "print(ex3)  \n",
    "print()\n",
    "\n",
    "# create an array of random floats between 0 and 1\n",
    "ex4 = np.random.random((2,2))\n",
    "print(ex4)  "
   ]
  },
  {
   "cell_type": "code",
   "execution_count": 21,
   "id": "unknown-tutorial",
   "metadata": {},
   "outputs": [
    {
     "data": {
      "text/plain": [
       "array([['Jan', 'Feb', 'Mar', 'Apr', 'May', 'June', 'July', 'Aug', 'Sept',\n",
       "        'Oct', 'Nov', 'Dec']], dtype='<U4')"
      ]
     },
     "execution_count": 21,
     "metadata": {},
     "output_type": "execute_result"
    }
   ],
   "source": [
    "months = np.array([['Jan','Feb','Mar','Apr','May','June','July','Aug','Sept','Oct','Nov','Dec']])\n",
    "months"
   ]
  },
  {
   "cell_type": "markdown",
   "id": "insured-incident",
   "metadata": {},
   "source": [
    "## Appending Arrays"
   ]
  },
  {
   "cell_type": "code",
   "execution_count": 22,
   "id": "circular-cradle",
   "metadata": {},
   "outputs": [
    {
     "data": {
      "text/plain": [
       "array([1, 2, 3, 4, 5, 6, 7, 8, 9])"
      ]
     },
     "execution_count": 22,
     "metadata": {},
     "output_type": "execute_result"
    }
   ],
   "source": [
    "np.append([1, 2, 3], [[4, 5, 6], [7, 8, 9]])"
   ]
  },
  {
   "cell_type": "code",
   "execution_count": 23,
   "id": "suffering-westminster",
   "metadata": {},
   "outputs": [
    {
     "data": {
      "text/plain": [
       "array(['hello', 'world', 'data', 'science'], dtype='<U7')"
      ]
     },
     "execution_count": 23,
     "metadata": {},
     "output_type": "execute_result"
    }
   ],
   "source": [
    "a1 = np.array(['hello', 'world'])\n",
    "a2 = np.array(['data', 'science'])\n",
    "np.append(a1, a2)"
   ]
  },
  {
   "cell_type": "markdown",
   "id": "creative-australia",
   "metadata": {},
   "source": [
    "## Array Indexing"
   ]
  },
  {
   "cell_type": "code",
   "execution_count": 24,
   "id": "heavy-migration",
   "metadata": {},
   "outputs": [
    {
     "name": "stdout",
     "output_type": "stream",
     "text": [
      "1-D\n",
      "[0 1 2 3 4 5 6 7 8]  size:  (9,)\n",
      "0 1 8\n",
      "\n",
      "2x3\n",
      "[[0 1 2]\n",
      " [3 4 5]]  size:  (2, 3)\n",
      "\n",
      "row1 [0 1 2]\n",
      "row2 [3 4 5]\n",
      "R1,C1:  0\n",
      "R2,C3:  5\n",
      "\n"
     ]
    }
   ],
   "source": [
    "# because this is a 1-Dim array, we need only one index to accesss each element\n",
    "print ('1-D')\n",
    "print (x, ' size: ', x.shape)\n",
    "print(x[0], x[1], x[8]) \n",
    "print()\n",
    "\n",
    "# n-d array uses 2 indexes\n",
    "print('2x3')\n",
    "print (a2x3, ' size: ', a2x3.shape)\n",
    "print()\n",
    "print ('row1', a2x3[0] ) # first row\n",
    "print ('row2', a2x3[1] ) # 2nd row\n",
    "print('R1,C1: ', a2x3[0][0]) # first element of first row\n",
    "print('R2,C3: ', a2x3[1][2]) # last element of last row\n",
    "print()"
   ]
  },
  {
   "cell_type": "markdown",
   "id": "breeding-fields",
   "metadata": {},
   "source": [
    "## Slice Indexing  \n",
    "Similar to the use of slice indexing with lists and strings, we can use slice indexing to pull out sub-regions of ndarrays.\n"
   ]
  },
  {
   "cell_type": "code",
   "execution_count": 25,
   "id": "fossil-president",
   "metadata": {},
   "outputs": [
    {
     "name": "stdout",
     "output_type": "stream",
     "text": [
      "[[11 12 13 14]\n",
      " [21 22 23 24]\n",
      " [31 32 33 34]]\n"
     ]
    }
   ],
   "source": [
    "# array shape (3, 4)\n",
    "an_array = np.array([[11,12,13,14], [21,22,23,24], [31,32,33,34]])\n",
    "print(an_array)"
   ]
  },
  {
   "cell_type": "code",
   "execution_count": 26,
   "id": "difficult-savage",
   "metadata": {},
   "outputs": [
    {
     "name": "stdout",
     "output_type": "stream",
     "text": [
      "[[11 12 13 14]\n",
      " [21 22 23 24]]\n"
     ]
    }
   ],
   "source": [
    "a_slice = an_array[:2]  # first 2 rows\n",
    "print(a_slice)"
   ]
  },
  {
   "cell_type": "code",
   "execution_count": 27,
   "id": "forward-police",
   "metadata": {},
   "outputs": [
    {
     "name": "stdout",
     "output_type": "stream",
     "text": [
      "[[12 13]\n",
      " [22 23]]\n"
     ]
    }
   ],
   "source": [
    "# first 2 rows x 2 columns.\n",
    "\n",
    "a_slice = an_array[:2, 1:3]  \n",
    "print(a_slice)"
   ]
  },
  {
   "cell_type": "markdown",
   "id": "grave-slovak",
   "metadata": {},
   "source": [
    "## Use both integer indexing & slice indexing  \n",
    "We can use combinations of integer indexing and slice indexing to create different shaped matrices."
   ]
  },
  {
   "cell_type": "code",
   "execution_count": 42,
   "id": "dramatic-geneva",
   "metadata": {},
   "outputs": [
    {
     "name": "stdout",
     "output_type": "stream",
     "text": [
      "[[11 12 13 14]\n",
      " [21 22 23 24]\n",
      " [31 32 33 34]]\n"
     ]
    }
   ],
   "source": [
    "# Create array of shape (3, 4)\n",
    "an_array = np.array([[11,12,13,14], [21,22,23,24], [31,32,33,34]])\n",
    "print(an_array)"
   ]
  },
  {
   "cell_type": "code",
   "execution_count": 43,
   "id": "related-sleeping",
   "metadata": {},
   "outputs": [
    {
     "name": "stdout",
     "output_type": "stream",
     "text": [
      "[21 22 23 24] (4,)\n"
     ]
    }
   ],
   "source": [
    "# Using both integer indexing & slicing generates an array of lower rank/dimension\n",
    "row_rank1 = an_array[1, :]    # Rank 1 view \n",
    "\n",
    "print(row_rank1, row_rank1.shape)  # notice only a single []"
   ]
  },
  {
   "cell_type": "code",
   "execution_count": 46,
   "id": "acceptable-copyright",
   "metadata": {},
   "outputs": [
    {
     "name": "stdout",
     "output_type": "stream",
     "text": [
      "[[21 22 23 24]] (1, 4)\n"
     ]
    }
   ],
   "source": [
    "# Slicing alone: generates an array of the same rank as the an_array\n",
    "row_rank2 = an_array[1:2, :]  # Rank 2 view \n",
    "\n",
    "print(row_rank2, row_rank2.shape)   # Notice the [[ ]]"
   ]
  },
  {
   "cell_type": "code",
   "execution_count": 47,
   "id": "entire-tractor",
   "metadata": {},
   "outputs": [
    {
     "name": "stdout",
     "output_type": "stream",
     "text": [
      "[12 22 32] (3,)\n",
      "\n",
      "[[12]\n",
      " [22]\n",
      " [32]] (3, 1)\n"
     ]
    }
   ],
   "source": [
    "#We can do the same thing for columns of an array:\n",
    "\n",
    "col_rank1 = an_array[:, 1]\n",
    "col_rank2 = an_array[:, 1:2]\n",
    "\n",
    "print(col_rank1, col_rank1.shape)  # Rank 1\n",
    "print()\n",
    "print(col_rank2, col_rank2.shape)  # Rank 2"
   ]
  },
  {
   "cell_type": "markdown",
   "id": "posted-joseph",
   "metadata": {},
   "source": [
    "## Boolean Indexing  \n",
    "Array Indexing for changing elements:"
   ]
  },
  {
   "cell_type": "code",
   "execution_count": 48,
   "id": "breeding-receptor",
   "metadata": {},
   "outputs": [
    {
     "name": "stdout",
     "output_type": "stream",
     "text": [
      "[[11 12]\n",
      " [21 22]\n",
      " [31 32]]\n"
     ]
    }
   ],
   "source": [
    "# create a 3x2 array\n",
    "an_array = np.array([[11,12], [21, 22], [31, 32]])\n",
    "print(an_array)"
   ]
  },
  {
   "cell_type": "code",
   "execution_count": 49,
   "id": "subsequent-legend",
   "metadata": {},
   "outputs": [
    {
     "data": {
      "text/plain": [
       "array([[False, False],\n",
       "       [ True,  True],\n",
       "       [ True,  True]])"
      ]
     },
     "execution_count": 49,
     "metadata": {},
     "output_type": "execute_result"
    }
   ],
   "source": [
    "# create a filter which will be boolean values for whether each element meets this condition\n",
    "filter = (an_array > 15)\n",
    "filter"
   ]
  },
  {
   "cell_type": "code",
   "execution_count": 50,
   "id": "sophisticated-transcription",
   "metadata": {},
   "outputs": [
    {
     "name": "stdout",
     "output_type": "stream",
     "text": [
      "[21 22 31 32]\n"
     ]
    }
   ],
   "source": [
    "# we can now select just those elements which meet that criteria\n",
    "print(an_array[filter])"
   ]
  },
  {
   "cell_type": "code",
   "execution_count": 51,
   "id": "signal-region",
   "metadata": {},
   "outputs": [
    {
     "data": {
      "text/plain": [
       "array([21, 22, 31, 32])"
      ]
     },
     "execution_count": 51,
     "metadata": {},
     "output_type": "execute_result"
    }
   ],
   "source": [
    "# For short, we can do this without a separate filter array.\n",
    "\n",
    "an_array[an_array > 15]"
   ]
  },
  {
   "cell_type": "code",
   "execution_count": 52,
   "id": "rolled-triangle",
   "metadata": {},
   "outputs": [
    {
     "data": {
      "text/plain": [
       "array([21, 22])"
      ]
     },
     "execution_count": 52,
     "metadata": {},
     "output_type": "execute_result"
    }
   ],
   "source": [
    "# values between 15 and 22\n",
    "an_array[(an_array > 15) & (an_array < 30)]"
   ]
  },
  {
   "cell_type": "code",
   "execution_count": 53,
   "id": "controlled-devices",
   "metadata": {},
   "outputs": [
    {
     "data": {
      "text/plain": [
       "array([12, 22, 32])"
      ]
     },
     "execution_count": 53,
     "metadata": {},
     "output_type": "execute_result"
    }
   ],
   "source": [
    "# Even values\n",
    "an_array[an_array % 2 == 0]"
   ]
  },
  {
   "cell_type": "code",
   "execution_count": 54,
   "id": "agreed-xerox",
   "metadata": {},
   "outputs": [
    {
     "name": "stdout",
     "output_type": "stream",
     "text": [
      "[[ 11 112]\n",
      " [ 21 122]\n",
      " [ 31 132]]\n"
     ]
    }
   ],
   "source": [
    "# we can change elements in the array using a logical filter. Here, add 100 to all the even values.\n",
    "\n",
    "an_array[an_array % 2 == 0] +=100\n",
    "print(an_array)"
   ]
  },
  {
   "cell_type": "markdown",
   "id": "photographic-constitutional",
   "metadata": {},
   "source": [
    "## Computation on NumPy Arrays: Universal Functions  \n",
    "Vectorized operations in NumPy are implemented via ufuncs, whose main purpose is to quickly execute repeated operations on values in NumPy arrays. \n",
    "ufunc operations are not limited to one-dimensional arrays–they can also act on multi-dimensional arrays as well:  \n",
    "Ufuncs exist in two flavors: unary ufuncs, which operate on a single input, and binary ufuncs, which operate on two inputs.\n",
    "\n",
    "### Array arithmetic  \n",
    "NumPy's ufuncs make use of Python's native arithmetic operators. The standard addition, subtraction, multiplication, and division can all be used:"
   ]
  },
  {
   "cell_type": "code",
   "execution_count": 55,
   "id": "voluntary-sensitivity",
   "metadata": {},
   "outputs": [
    {
     "name": "stdout",
     "output_type": "stream",
     "text": [
      "x     = [0 1 2 3]\n",
      "x + 5 = [5 6 7 8]\n",
      "x - 5 = [-5 -4 -3 -2]\n",
      "x * 2 = [0 2 4 6]\n",
      "x / 2 = [0.  0.5 1.  1.5]\n",
      "x // 2 = [0 0 1 1]\n"
     ]
    }
   ],
   "source": [
    "x = np.arange(4)\n",
    "\n",
    "print(\"x     =\", x)\n",
    "print(\"x + 5 =\", x + 5)\n",
    "print(\"x - 5 =\", x - 5)\n",
    "print(\"x * 2 =\", x * 2)\n",
    "print(\"x / 2 =\", x / 2)\n",
    "print(\"x // 2 =\", x // 2)  # floor division"
   ]
  },
  {
   "cell_type": "code",
   "execution_count": 56,
   "id": "widespread-employment",
   "metadata": {},
   "outputs": [
    {
     "name": "stdout",
     "output_type": "stream",
     "text": [
      "-x     =  [ 0 -1 -2 -3]\n",
      "x ** 2 =  [0 1 4 9]\n",
      "x % 2  =  [0 1 0 1]\n"
     ]
    }
   ],
   "source": [
    "print(\"-x     = \", -x)\n",
    "print(\"x ** 2 = \", x ** 2)\n",
    "print(\"x % 2  = \", x % 2)"
   ]
  },
  {
   "cell_type": "markdown",
   "id": "civic-chemistry",
   "metadata": {},
   "source": [
    "The following table lists the arithmetic operators implemented in NumPy:\n",
    "Operator\tEquivalent ufunc\tDescription\n",
    " * '+' \tnp.add\tAddition (e.g., 1 + 1 = 2)  \n",
    " * '-' \tnp.subtract\tSubtraction (e.g., 3 - 2 = 1)  \n",
    " * '-' \tnp.negative\tUnary negation (e.g., -2)  \n",
    " * '*'\tnp.multiply\tMultiplication (e.g., 2 * 3 = 6)  \n",
    " * '/'\tnp.divide\tDivision (e.g., 3 / 2 = 1.5)  \n",
    " * '//'\tnp.floor_divide\tFloor division (e.g., 3 // 2 = 1)  \n",
    " * '***'\tnp.power\tExponentiation (e.g., 2 ** 3 = 8)  \n",
    " * '%'\tnp.mod\tModulus/remainder (e.g., 9 % 4 = 1)  \n"
   ]
  },
  {
   "cell_type": "markdown",
   "id": "boxed-shakespeare",
   "metadata": {},
   "source": [
    "## Absolute value  \n",
    "Just as NumPy understands Python's built-in arithmetic operators, it also understands Python's built-in absolute value function:"
   ]
  },
  {
   "cell_type": "code",
   "execution_count": 57,
   "id": "constitutional-passport",
   "metadata": {},
   "outputs": [
    {
     "name": "stdout",
     "output_type": "stream",
     "text": [
      "<class 'numpy.ndarray'>\n",
      "[-2 -1  0  1  2]\n",
      "(5,)\n"
     ]
    }
   ],
   "source": [
    "x = np.array([-2, -1, 0, 1, 2]) # c reate a 1-D array from a list\n",
    "\n",
    "print(type(x))           # The type of an ndarray is: \"<class 'numpy.ndarray'>\"\n",
    "print(x)\n",
    "\n",
    "# test the shape of the array we just created, it should have just one dimension \n",
    "print(x.shape)"
   ]
  },
  {
   "cell_type": "code",
   "execution_count": 58,
   "id": "premier-might",
   "metadata": {},
   "outputs": [
    {
     "data": {
      "text/plain": [
       "array([2, 1, 0, 1, 2])"
      ]
     },
     "execution_count": 58,
     "metadata": {},
     "output_type": "execute_result"
    }
   ],
   "source": [
    "# absolute value\n",
    "\n",
    "abs(x)"
   ]
  },
  {
   "cell_type": "markdown",
   "id": "portable-karaoke",
   "metadata": {},
   "source": [
    "The corresponding NumPy ufunc is `np.absolute`, which is also available under the alias `np.abs`:"
   ]
  },
  {
   "cell_type": "code",
   "execution_count": 59,
   "id": "adequate-dublin",
   "metadata": {},
   "outputs": [
    {
     "name": "stdout",
     "output_type": "stream",
     "text": [
      "[2 1 0 1 2]\n",
      "[2 1 0 1 2]\n"
     ]
    }
   ],
   "source": [
    "print (np.absolute(x))\n",
    "\n",
    "print (np.abs(x))"
   ]
  },
  {
   "cell_type": "markdown",
   "id": "olive-brother",
   "metadata": {},
   "source": [
    "## Trigonometric functions"
   ]
  },
  {
   "cell_type": "code",
   "execution_count": 60,
   "id": "governmental-sessions",
   "metadata": {},
   "outputs": [],
   "source": [
    "# defining an array of angles:\n",
    "theta = np.linspace(0, np.pi, 3)"
   ]
  },
  {
   "cell_type": "code",
   "execution_count": 61,
   "id": "celtic-demographic",
   "metadata": {},
   "outputs": [
    {
     "name": "stdout",
     "output_type": "stream",
     "text": [
      "theta      =  [0.         1.57079633 3.14159265]\n",
      "sin(theta) =  [0.0000000e+00 1.0000000e+00 1.2246468e-16]\n",
      "cos(theta) =  [ 1.000000e+00  6.123234e-17 -1.000000e+00]\n",
      "tan(theta) =  [ 0.00000000e+00  1.63312394e+16 -1.22464680e-16]\n"
     ]
    }
   ],
   "source": [
    "# Now we can compute some trigonometric functions on these values:\n",
    "print(\"theta      = \", theta)\n",
    "print(\"sin(theta) = \", np.sin(theta))\n",
    "print(\"cos(theta) = \", np.cos(theta))\n",
    "print(\"tan(theta) = \", np.tan(theta))"
   ]
  },
  {
   "cell_type": "markdown",
   "id": "otherwise-substitute",
   "metadata": {},
   "source": [
    "The values are computed to within machine precision, which is why values that should be zero do not always hit exactly zero. Inverse trigonometric functions are also available:"
   ]
  },
  {
   "cell_type": "code",
   "execution_count": 64,
   "id": "flexible-likelihood",
   "metadata": {},
   "outputs": [
    {
     "name": "stdout",
     "output_type": "stream",
     "text": [
      "x         =  [-1, 0, 1]\n",
      "arcsin(x) =  [-1.57079633  0.          1.57079633]\n",
      "arccos(x) =  [3.14159265 1.57079633 0.        ]\n",
      "arctan(x) =  [-0.78539816  0.          0.78539816]\n"
     ]
    }
   ],
   "source": [
    "x = [-1, 0, 1]\n",
    "print(\"x         = \", x)\n",
    "print(\"arcsin(x) = \", np.arcsin(x))\n",
    "print(\"arccos(x) = \", np.arccos(x))\n",
    "print(\"arctan(x) = \", np.arctan(x))"
   ]
  },
  {
   "cell_type": "markdown",
   "id": "listed-bryan",
   "metadata": {},
   "source": [
    "## Exponents and logarithms\n",
    "Another common type of operation available in a NumPy ufunc are the exponentials:"
   ]
  },
  {
   "cell_type": "code",
   "execution_count": 65,
   "id": "minute-denmark",
   "metadata": {},
   "outputs": [
    {
     "name": "stdout",
     "output_type": "stream",
     "text": [
      "x     = [1, 2, 3]\n",
      "e^x   = [ 2.71828183  7.3890561  20.08553692]\n",
      "2^x   = [2. 4. 8.]\n",
      "3^x   = [ 3  9 27]\n"
     ]
    }
   ],
   "source": [
    "x = [1, 2, 3]\n",
    "print(\"x     =\", x)\n",
    "print(\"e^x   =\", np.exp(x))\n",
    "print(\"2^x   =\", np.exp2(x))\n",
    "print(\"3^x   =\", np.power(3, x))"
   ]
  },
  {
   "cell_type": "markdown",
   "id": "annual-rotation",
   "metadata": {},
   "source": [
    "The inverse of the exponentials, the logarithms, are also available. The basic np.log gives the natural logarithm; if you prefer to compute the base-2 logarithm or the base-10 logarithm, these are available as well:"
   ]
  },
  {
   "cell_type": "code",
   "execution_count": 66,
   "id": "fundamental-laptop",
   "metadata": {},
   "outputs": [
    {
     "name": "stdout",
     "output_type": "stream",
     "text": [
      "x        = [1, 2, 4, 10]\n",
      "ln(x)    = [0.         0.69314718 1.38629436 2.30258509]\n",
      "log2(x)  = [0.         1.         2.         3.32192809]\n",
      "log10(x) = [0.         0.30103    0.60205999 1.        ]\n"
     ]
    }
   ],
   "source": [
    "x = [1, 2, 4, 10]\n",
    "print(\"x        =\", x)\n",
    "print(\"ln(x)    =\", np.log(x))\n",
    "print(\"log2(x)  =\", np.log2(x))\n",
    "print(\"log10(x) =\", np.log10(x))"
   ]
  },
  {
   "cell_type": "code",
   "execution_count": 67,
   "id": "subtle-staff",
   "metadata": {},
   "outputs": [
    {
     "name": "stdout",
     "output_type": "stream",
     "text": [
      "exp(x) - 1 = [0.         0.0010005  0.01005017 0.10517092]\n",
      "log(1 + x) = [0.         0.0009995  0.00995033 0.09531018]\n"
     ]
    }
   ],
   "source": [
    "x = [0, 0.001, 0.01, 0.1]\n",
    "print(\"exp(x) - 1 =\", np.expm1(x))\n",
    "print(\"log(1 + x) =\", np.log1p(x))"
   ]
  },
  {
   "cell_type": "markdown",
   "id": "familiar-organization",
   "metadata": {},
   "source": [
    "## Basic Statistical Operations: on ndarray"
   ]
  },
  {
   "cell_type": "code",
   "execution_count": 68,
   "id": "purple-publicity",
   "metadata": {},
   "outputs": [
    {
     "name": "stdout",
     "output_type": "stream",
     "text": [
      "[[-8.20241102  1.40664139 13.74451151 -3.63485969 10.36212167]\n",
      " [-5.63107302 -2.3980745   9.95031778 -1.56501224  7.66461473]]\n"
     ]
    }
   ],
   "source": [
    "# setup a random 2 x 4 matrix\n",
    "arr = 10 * np.random.randn(2,5)  # random number generation\n",
    "print(arr)"
   ]
  },
  {
   "cell_type": "code",
   "execution_count": 69,
   "id": "blessed-theorem",
   "metadata": {},
   "outputs": [
    {
     "name": "stdout",
     "output_type": "stream",
     "text": [
      "2.169677661474976\n"
     ]
    }
   ],
   "source": [
    "# compute the mean for all elements \n",
    "print(arr.mean())"
   ]
  },
  {
   "cell_type": "code",
   "execution_count": 70,
   "id": "fundamental-harris",
   "metadata": {},
   "outputs": [
    {
     "name": "stdout",
     "output_type": "stream",
     "text": [
      "[2.73520077 1.60415455]\n"
     ]
    }
   ],
   "source": [
    "# compute the means by row (axis=1)\n",
    "print(arr.mean(axis = 1))"
   ]
  },
  {
   "cell_type": "code",
   "execution_count": 71,
   "id": "married-belly",
   "metadata": {},
   "outputs": [
    {
     "name": "stdout",
     "output_type": "stream",
     "text": [
      "[-6.91674202 -0.49571655 11.84741464 -2.59993597  9.0133682 ]\n"
     ]
    }
   ],
   "source": [
    "# compute the means by column\n",
    "print(arr.mean(axis = 0))"
   ]
  },
  {
   "cell_type": "code",
   "execution_count": 72,
   "id": "derived-israeli",
   "metadata": {},
   "outputs": [
    {
     "name": "stdout",
     "output_type": "stream",
     "text": [
      "21.696776614749762\n"
     ]
    }
   ],
   "source": [
    "# sum all the elements\n",
    "print(arr.sum())"
   ]
  },
  {
   "cell_type": "code",
   "execution_count": 73,
   "id": "brazilian-audience",
   "metadata": {},
   "outputs": [
    {
     "name": "stdout",
     "output_type": "stream",
     "text": [
      "[ 1.40664139 -1.56501224]\n"
     ]
    }
   ],
   "source": [
    "# compute the medians for all rows\n",
    "print(np.median(arr, axis = 1))"
   ]
  },
  {
   "cell_type": "markdown",
   "id": "computational-framework",
   "metadata": {},
   "source": [
    "## Sorting"
   ]
  },
  {
   "cell_type": "code",
   "execution_count": 74,
   "id": "viral-supervisor",
   "metadata": {},
   "outputs": [
    {
     "name": "stdout",
     "output_type": "stream",
     "text": [
      "unsorted\n",
      "[-0.17282796  0.3063538   0.98348373  1.39409934  1.28822326 -0.02285437\n",
      " -0.76617949 -0.5479846   0.77443014  2.27393463]\n"
     ]
    }
   ],
   "source": [
    "# create a 10 element array of randoms\n",
    "unsorted = np.random.randn(10)\n",
    "\n",
    "print('unsorted')\n",
    "print(unsorted)"
   ]
  },
  {
   "cell_type": "code",
   "execution_count": 75,
   "id": "substantial-traffic",
   "metadata": {},
   "outputs": [
    {
     "name": "stdout",
     "output_type": "stream",
     "text": [
      "sorted\n",
      "[-0.76617949 -0.5479846  -0.17282796 -0.02285437  0.3063538   0.77443014\n",
      "  0.98348373  1.28822326  1.39409934  2.27393463]\n",
      "\n",
      "[-0.17282796  0.3063538   0.98348373  1.39409934  1.28822326 -0.02285437\n",
      " -0.76617949 -0.5479846   0.77443014  2.27393463]\n",
      "\n",
      " in-place sorting\n",
      "[-0.76617949 -0.5479846  -0.17282796 -0.02285437  0.3063538   0.77443014\n",
      "  0.98348373  1.28822326  1.39409934  2.27393463]\n"
     ]
    }
   ],
   "source": [
    "# create copy and sort\n",
    "print('sorted')\n",
    "sorted = np.array(unsorted)\n",
    "sorted.sort()\n",
    "\n",
    "print(sorted)\n",
    "print()\n",
    "print(unsorted)\n",
    "\n",
    "print('\\n in-place sorting')\n",
    "unsorted.sort() \n",
    "print(unsorted)"
   ]
  },
  {
   "cell_type": "markdown",
   "id": "underlying-gabriel",
   "metadata": {},
   "source": [
    "## Read/Write text"
   ]
  },
  {
   "cell_type": "code",
   "execution_count": 77,
   "id": "green-waterproof",
   "metadata": {},
   "outputs": [
    {
     "name": "stdout",
     "output_type": "stream",
     "text": [
      "[0.  0.5 1.  1.5 2.  2.5 3.  3.5 4.  4.5]\n"
     ]
    }
   ],
   "source": [
    "# numeric data\n",
    "a = np.arange(0.0, 5.0, 0.5)\n",
    "print(a)\n",
    "\n",
    "# save data from file\n",
    "np.savetxt('test.txt', a, fmt='%1.2f')  # comma delimitted, floats"
   ]
  },
  {
   "cell_type": "code",
   "execution_count": 78,
   "id": "infrared-worry",
   "metadata": {},
   "outputs": [
    {
     "data": {
      "text/plain": [
       "array([0. , 0.5, 1. , 1.5, 2. , 2.5, 3. , 3.5, 4. , 4.5])"
      ]
     },
     "execution_count": 78,
     "metadata": {},
     "output_type": "execute_result"
    }
   ],
   "source": [
    "# read data from a file\n",
    "a2 = np.loadtxt('test.txt')\n",
    "a2"
   ]
  },
  {
   "cell_type": "code",
   "execution_count": 79,
   "id": "specialized-literacy",
   "metadata": {},
   "outputs": [
    {
     "name": "stdout",
     "output_type": "stream",
     "text": [
      "['one' 'two' 'three']\n"
     ]
    },
    {
     "data": {
      "text/plain": [
       "array(['one', 'two', 'three'], dtype='<U5')"
      ]
     },
     "execution_count": 79,
     "metadata": {},
     "output_type": "execute_result"
    }
   ],
   "source": [
    "# string data\n",
    "a = np.array(['one', 'two', 'three'])\n",
    "print(a)\n",
    "\n",
    "# save\n",
    "np.savetxt('test2.txt', a, fmt=\"%s\") # comma delimited, string\n",
    "\n",
    "# read\n",
    "a2 = np.genfromtxt('test2.txt', dtype='str')\n",
    "a2"
   ]
  },
  {
   "cell_type": "code",
   "execution_count": 80,
   "id": "operating-casting",
   "metadata": {},
   "outputs": [
    {
     "name": "stdout",
     "output_type": "stream",
     "text": [
      "[[1 2 3]\n",
      " [4 5 6]\n",
      " [7 8 9]]\n"
     ]
    },
    {
     "data": {
      "text/plain": [
       "array([[1, 2, 3],\n",
       "       [4, 5, 6],\n",
       "       [7, 8, 9]])"
      ]
     },
     "execution_count": 80,
     "metadata": {},
     "output_type": "execute_result"
    }
   ],
   "source": [
    "# comma delimited\n",
    "a = np.array([ [1,2,3], [4,5,6], [7,8,9] ])\n",
    "print (a)\n",
    "\n",
    "# save\n",
    "np.savetxt(\"test3.csv\", a, delimiter=\",\", fmt='%d') # integer format\n",
    "\n",
    "# read\n",
    "a2 = np.loadtxt('test3.csv', dtype='int', delimiter=',')\n",
    "a2"
   ]
  },
  {
   "cell_type": "markdown",
   "id": "infinite-founder",
   "metadata": {},
   "source": [
    "# Assignment:  \n",
    "Import Numeric Data from Text Files Into Numpy Arrays  \n",
    " * download the average monthly precipitation (inches) for Boulder, CO collected by the U.S. National Oceanic and Atmospheric Administration (NOAA)\n",
    "     * data values: https://ndownloader.figshare.com/files/12565616\n",
    "     * col values: https://ndownloader.figshare.com/files/12565619\n",
    " * load the data into a numpy array and print the values. Verify the type of the data structure.\n",
    " * run summary statistics: mean, median, standard deviation, min, max\n",
    " * get the average seasonal preciptation (eg: winter, ..fall)"
   ]
  },
  {
   "cell_type": "code",
   "execution_count": 85,
   "id": "polyphonic-builder",
   "metadata": {},
   "outputs": [
    {
     "data": {
      "text/plain": [
       "array(['Jan', 'Feb', 'Mar', 'Apr', 'May', 'June', 'July', 'Aug', 'Sept',\n",
       "       'Oct', 'Nov', 'Dec'], dtype='<U4')"
      ]
     },
     "execution_count": 85,
     "metadata": {},
     "output_type": "execute_result"
    }
   ],
   "source": [
    "months = np.loadtxt('months.txt', dtype='str')\n",
    "months"
   ]
  },
  {
   "cell_type": "code",
   "execution_count": 87,
   "id": "binary-purpose",
   "metadata": {},
   "outputs": [
    {
     "data": {
      "text/plain": [
       "array([0.7 , 0.75, 1.85, 2.93, 3.05, 2.02, 1.93, 1.62, 1.84, 1.31, 1.39,\n",
       "       0.84])"
      ]
     },
     "execution_count": 87,
     "metadata": {},
     "output_type": "execute_result"
    }
   ],
   "source": [
    "values = np.loadtxt('avg-monthly-precip.txt')\n",
    "values"
   ]
  },
  {
   "cell_type": "code",
   "execution_count": 88,
   "id": "married-presence",
   "metadata": {},
   "outputs": [
    {
     "data": {
      "text/plain": [
       "1.6858333333333333"
      ]
     },
     "execution_count": 88,
     "metadata": {},
     "output_type": "execute_result"
    }
   ],
   "source": [
    "np.mean(values)"
   ]
  },
  {
   "cell_type": "code",
   "execution_count": 89,
   "id": "sustained-arrest",
   "metadata": {},
   "outputs": [
    {
     "data": {
      "text/plain": [
       "1.73"
      ]
     },
     "execution_count": 89,
     "metadata": {},
     "output_type": "execute_result"
    }
   ],
   "source": [
    "np.median(values)"
   ]
  },
  {
   "cell_type": "code",
   "execution_count": 90,
   "id": "married-apparatus",
   "metadata": {},
   "outputs": [
    {
     "data": {
      "text/plain": [
       "0.7318408107110604"
      ]
     },
     "execution_count": 90,
     "metadata": {},
     "output_type": "execute_result"
    }
   ],
   "source": [
    "np.std(values)"
   ]
  },
  {
   "cell_type": "code",
   "execution_count": 91,
   "id": "legislative-action",
   "metadata": {},
   "outputs": [
    {
     "data": {
      "text/plain": [
       "0.7"
      ]
     },
     "execution_count": 91,
     "metadata": {},
     "output_type": "execute_result"
    }
   ],
   "source": [
    "np.min(values)"
   ]
  },
  {
   "cell_type": "code",
   "execution_count": 92,
   "id": "ready-death",
   "metadata": {},
   "outputs": [
    {
     "data": {
      "text/plain": [
       "3.05"
      ]
     },
     "execution_count": 92,
     "metadata": {},
     "output_type": "execute_result"
    }
   ],
   "source": [
    "np.max(values)"
   ]
  },
  {
   "cell_type": "code",
   "execution_count": 112,
   "id": "theoretical-millennium",
   "metadata": {},
   "outputs": [
    {
     "name": "stdout",
     "output_type": "stream",
     "text": [
      "Winter\n",
      "0.7633333333333333 \n",
      "\n",
      "Spring\n",
      "2.61 \n",
      "\n",
      "Summer\n",
      "1.8566666666666667 \n",
      "\n",
      "Fall\n",
      "1.5133333333333334 \n",
      "\n"
     ]
    }
   ],
   "source": [
    "# Winter – December, January and February.\n",
    "# Spring – March, April and May.\n",
    "# Summer – June, July and August.\n",
    "# Fall – September, October and November.\n",
    "\n",
    "print('Winter')\n",
    "winter = np.mean(values[np.array([0,1,11])])\n",
    "print(winter, '\\n')\n",
    "\n",
    "print('Spring')\n",
    "spring = np.mean(values[2:5])\n",
    "print(spring, '\\n')\n",
    "\n",
    "print('Summer')\n",
    "summer = np.mean(values[5:8])\n",
    "print(summer, '\\n')\n",
    "\n",
    "print('Fall')\n",
    "fall = np.mean(values[8:11])\n",
    "print(fall, '\\n')"
   ]
  }
 ],
 "metadata": {
  "kernelspec": {
   "display_name": "Python 3",
   "language": "python",
   "name": "python3"
  },
  "language_info": {
   "codemirror_mode": {
    "name": "ipython",
    "version": 3
   },
   "file_extension": ".py",
   "mimetype": "text/x-python",
   "name": "python",
   "nbconvert_exporter": "python",
   "pygments_lexer": "ipython3",
   "version": "3.9.1"
  }
 },
 "nbformat": 4,
 "nbformat_minor": 5
}
